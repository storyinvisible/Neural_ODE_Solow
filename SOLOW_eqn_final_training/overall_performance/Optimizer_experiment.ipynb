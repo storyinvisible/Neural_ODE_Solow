{
 "cells": [
  {
   "cell_type": "code",
   "execution_count": 74,
   "metadata": {},
   "outputs": [],
   "source": [
    "cd(\"D:\\\\NUS_differential_equation\\\\SOLOW_eqn_final_training\\\\\")"
   ]
  },
  {
   "cell_type": "code",
   "execution_count": 75,
   "metadata": {},
   "outputs": [
    {
     "data": {
      "text/html": [
       "<table class=\"data-frame\"><thead><tr><th></th><th>Albania</th><th>Argentina</th><th>Armenia</th><th>Australia</th><th>Azerbaijan</th><th>Bahrain</th><th>Bangladesh</th></tr><tr><th></th><th>Float64</th><th>Float64</th><th>Float64</th><th>Float64</th><th>Float64</th><th>Float64</th><th>Float64</th></tr></thead><tbody><p>481 rows × 95 columns (omitted printing of 88 columns)</p><tr><th>1</th><td>0.315385</td><td>-0.365085</td><td>-0.129759</td><td>-0.0386792</td><td>0.123116</td><td>0.16721</td><td>-0.379107</td></tr><tr><th>2</th><td>0.480738</td><td>0.401279</td><td>0.209248</td><td>0.00304851</td><td>-0.117758</td><td>-0.0779962</td><td>-0.0239767</td></tr><tr><th>3</th><td>-0.155378</td><td>0.193359</td><td>-0.285671</td><td>-0.0950609</td><td>-0.376659</td><td>-0.304799</td><td>0.305403</td></tr><tr><th>4</th><td>-0.524337</td><td>-0.49849</td><td>-0.392856</td><td>-0.371067</td><td>0.104213</td><td>0.460908</td><td>-0.466064</td></tr><tr><th>5</th><td>0.496397</td><td>0.312354</td><td>-0.148035</td><td>0.427938</td><td>0.364014</td><td>0.337904</td><td>0.297171</td></tr><tr><th>6</th><td>0.0684203</td><td>-0.10623</td><td>-0.471297</td><td>-0.0863382</td><td>-0.499476</td><td>0.13334</td><td>0.0806113</td></tr><tr><th>7</th><td>-0.0819718</td><td>0.407028</td><td>-0.226086</td><td>-0.223112</td><td>-0.110896</td><td>-0.109254</td><td>-0.138837</td></tr><tr><th>8</th><td>0.292213</td><td>-0.354993</td><td>0.224698</td><td>-0.274763</td><td>0.414215</td><td>0.164845</td><td>0.223585</td></tr><tr><th>9</th><td>-0.482882</td><td>-0.326609</td><td>-0.228513</td><td>0.0923917</td><td>0.217039</td><td>-0.154773</td><td>0.110989</td></tr><tr><th>10</th><td>0.129977</td><td>0.374706</td><td>0.180471</td><td>0.135098</td><td>0.183197</td><td>0.163173</td><td>-0.460343</td></tr><tr><th>11</th><td>0.0667425</td><td>0.529406</td><td>-0.23342</td><td>-0.267874</td><td>0.402636</td><td>0.505232</td><td>0.196471</td></tr><tr><th>12</th><td>-0.537903</td><td>-0.164989</td><td>0.236931</td><td>-0.295261</td><td>0.338451</td><td>0.510255</td><td>-0.0274095</td></tr><tr><th>13</th><td>0.269887</td><td>-0.442543</td><td>0.29601</td><td>0.509142</td><td>-0.106417</td><td>0.429862</td><td>0.418386</td></tr><tr><th>14</th><td>-0.406319</td><td>0.443045</td><td>-0.462834</td><td>0.159301</td><td>-0.328429</td><td>0.0304118</td><td>0.328833</td></tr><tr><th>15</th><td>0.228242</td><td>0.137907</td><td>-0.00485334</td><td>-0.102291</td><td>0.268973</td><td>-0.112299</td><td>0.50521</td></tr><tr><th>16</th><td>-0.195453</td><td>0.236319</td><td>-0.20644</td><td>-0.386987</td><td>-0.319337</td><td>0.475133</td><td>-0.228538</td></tr><tr><th>17</th><td>-0.278345</td><td>0.139993</td><td>-0.200951</td><td>-0.386728</td><td>0.449506</td><td>-0.316293</td><td>0.396292</td></tr><tr><th>18</th><td>-0.488055</td><td>0.451482</td><td>-0.0833444</td><td>0.357909</td><td>-0.170773</td><td>-0.0931526</td><td>0.101429</td></tr><tr><th>19</th><td>-0.254907</td><td>0.142012</td><td>-0.0296304</td><td>0.374533</td><td>-0.403829</td><td>-0.352509</td><td>-0.183127</td></tr><tr><th>20</th><td>0.0232507</td><td>-0.31684</td><td>-0.400716</td><td>-0.217864</td><td>-0.216988</td><td>0.151357</td><td>0.185147</td></tr><tr><th>21</th><td>0.00722674</td><td>-0.0252698</td><td>-0.00889383</td><td>-0.0211302</td><td>-0.00525662</td><td>-0.00551014</td><td>-0.00653891</td></tr><tr><th>22</th><td>-0.0090412</td><td>-0.0321479</td><td>0.019766</td><td>-0.0250812</td><td>0.0116553</td><td>0.00167604</td><td>0.000430304</td></tr><tr><th>23</th><td>-0.00212224</td><td>0.0204561</td><td>0.0202441</td><td>-0.0312344</td><td>0.0045817</td><td>0.0143658</td><td>-0.00177009</td></tr><tr><th>24</th><td>0.00421761</td><td>0.0250291</td><td>0.0176787</td><td>-0.00878559</td><td>0.00388738</td><td>0.00918724</td><td>0.00921769</td></tr><tr><th>25</th><td>-0.00466411</td><td>-0.0256155</td><td>0.0227843</td><td>0.0197925</td><td>-0.00597631</td><td>-0.0225958</td><td>-0.000962648</td></tr><tr><th>26</th><td>0.00197143</td><td>-0.00406309</td><td>-0.0244353</td><td>-0.0356965</td><td>-0.00603978</td><td>-0.00783629</td><td>-0.00623398</td></tr><tr><th>27</th><td>-0.00375312</td><td>-0.0141439</td><td>0.0128696</td><td>-0.0321954</td><td>0.00348453</td><td>-0.00382344</td><td>-0.00503898</td></tr><tr><th>28</th><td>-0.00324674</td><td>-0.028512</td><td>0.0149769</td><td>-0.0106594</td><td>-0.00548096</td><td>-0.00960133</td><td>-0.00562829</td></tr><tr><th>29</th><td>-0.00606257</td><td>0.0343189</td><td>-0.0199198</td><td>0.0246187</td><td>-0.00367084</td><td>0.00693419</td><td>-0.000666058</td></tr><tr><th>30</th><td>-0.00155799</td><td>0.0307773</td><td>-0.0166346</td><td>0.0328235</td><td>0.000820851</td><td>0.00490543</td><td>0.0250899</td></tr><tr><th>&vellip;</th><td>&vellip;</td><td>&vellip;</td><td>&vellip;</td><td>&vellip;</td><td>&vellip;</td><td>&vellip;</td><td>&vellip;</td></tr></tbody></table>"
      ],
      "text/latex": [
       "\\begin{tabular}{r|cccccccc}\n",
       "\t& Albania & Argentina & Armenia & Australia & Azerbaijan & Bahrain & Bangladesh & \\\\\n",
       "\t\\hline\n",
       "\t& Float64 & Float64 & Float64 & Float64 & Float64 & Float64 & Float64 & \\\\\n",
       "\t\\hline\n",
       "\t1 & 0.315385 & -0.365085 & -0.129759 & -0.0386792 & 0.123116 & 0.16721 & -0.379107 & $\\dots$ \\\\\n",
       "\t2 & 0.480738 & 0.401279 & 0.209248 & 0.00304851 & -0.117758 & -0.0779962 & -0.0239767 & $\\dots$ \\\\\n",
       "\t3 & -0.155378 & 0.193359 & -0.285671 & -0.0950609 & -0.376659 & -0.304799 & 0.305403 & $\\dots$ \\\\\n",
       "\t4 & -0.524337 & -0.49849 & -0.392856 & -0.371067 & 0.104213 & 0.460908 & -0.466064 & $\\dots$ \\\\\n",
       "\t5 & 0.496397 & 0.312354 & -0.148035 & 0.427938 & 0.364014 & 0.337904 & 0.297171 & $\\dots$ \\\\\n",
       "\t6 & 0.0684203 & -0.10623 & -0.471297 & -0.0863382 & -0.499476 & 0.13334 & 0.0806113 & $\\dots$ \\\\\n",
       "\t7 & -0.0819718 & 0.407028 & -0.226086 & -0.223112 & -0.110896 & -0.109254 & -0.138837 & $\\dots$ \\\\\n",
       "\t8 & 0.292213 & -0.354993 & 0.224698 & -0.274763 & 0.414215 & 0.164845 & 0.223585 & $\\dots$ \\\\\n",
       "\t9 & -0.482882 & -0.326609 & -0.228513 & 0.0923917 & 0.217039 & -0.154773 & 0.110989 & $\\dots$ \\\\\n",
       "\t10 & 0.129977 & 0.374706 & 0.180471 & 0.135098 & 0.183197 & 0.163173 & -0.460343 & $\\dots$ \\\\\n",
       "\t11 & 0.0667425 & 0.529406 & -0.23342 & -0.267874 & 0.402636 & 0.505232 & 0.196471 & $\\dots$ \\\\\n",
       "\t12 & -0.537903 & -0.164989 & 0.236931 & -0.295261 & 0.338451 & 0.510255 & -0.0274095 & $\\dots$ \\\\\n",
       "\t13 & 0.269887 & -0.442543 & 0.29601 & 0.509142 & -0.106417 & 0.429862 & 0.418386 & $\\dots$ \\\\\n",
       "\t14 & -0.406319 & 0.443045 & -0.462834 & 0.159301 & -0.328429 & 0.0304118 & 0.328833 & $\\dots$ \\\\\n",
       "\t15 & 0.228242 & 0.137907 & -0.00485334 & -0.102291 & 0.268973 & -0.112299 & 0.50521 & $\\dots$ \\\\\n",
       "\t16 & -0.195453 & 0.236319 & -0.20644 & -0.386987 & -0.319337 & 0.475133 & -0.228538 & $\\dots$ \\\\\n",
       "\t17 & -0.278345 & 0.139993 & -0.200951 & -0.386728 & 0.449506 & -0.316293 & 0.396292 & $\\dots$ \\\\\n",
       "\t18 & -0.488055 & 0.451482 & -0.0833444 & 0.357909 & -0.170773 & -0.0931526 & 0.101429 & $\\dots$ \\\\\n",
       "\t19 & -0.254907 & 0.142012 & -0.0296304 & 0.374533 & -0.403829 & -0.352509 & -0.183127 & $\\dots$ \\\\\n",
       "\t20 & 0.0232507 & -0.31684 & -0.400716 & -0.217864 & -0.216988 & 0.151357 & 0.185147 & $\\dots$ \\\\\n",
       "\t21 & 0.00722674 & -0.0252698 & -0.00889383 & -0.0211302 & -0.00525662 & -0.00551014 & -0.00653891 & $\\dots$ \\\\\n",
       "\t22 & -0.0090412 & -0.0321479 & 0.019766 & -0.0250812 & 0.0116553 & 0.00167604 & 0.000430304 & $\\dots$ \\\\\n",
       "\t23 & -0.00212224 & 0.0204561 & 0.0202441 & -0.0312344 & 0.0045817 & 0.0143658 & -0.00177009 & $\\dots$ \\\\\n",
       "\t24 & 0.00421761 & 0.0250291 & 0.0176787 & -0.00878559 & 0.00388738 & 0.00918724 & 0.00921769 & $\\dots$ \\\\\n",
       "\t25 & -0.00466411 & -0.0256155 & 0.0227843 & 0.0197925 & -0.00597631 & -0.0225958 & -0.000962648 & $\\dots$ \\\\\n",
       "\t26 & 0.00197143 & -0.00406309 & -0.0244353 & -0.0356965 & -0.00603978 & -0.00783629 & -0.00623398 & $\\dots$ \\\\\n",
       "\t27 & -0.00375312 & -0.0141439 & 0.0128696 & -0.0321954 & 0.00348453 & -0.00382344 & -0.00503898 & $\\dots$ \\\\\n",
       "\t28 & -0.00324674 & -0.028512 & 0.0149769 & -0.0106594 & -0.00548096 & -0.00960133 & -0.00562829 & $\\dots$ \\\\\n",
       "\t29 & -0.00606257 & 0.0343189 & -0.0199198 & 0.0246187 & -0.00367084 & 0.00693419 & -0.000666058 & $\\dots$ \\\\\n",
       "\t30 & -0.00155799 & 0.0307773 & -0.0166346 & 0.0328235 & 0.000820851 & 0.00490543 & 0.0250899 & $\\dots$ \\\\\n",
       "\t$\\dots$ & $\\dots$ & $\\dots$ & $\\dots$ & $\\dots$ & $\\dots$ & $\\dots$ & $\\dots$ &  \\\\\n",
       "\\end{tabular}\n"
      ],
      "text/plain": [
       "481×95 DataFrame. Omitted printing of 90 columns\n",
       "│ Row │ Albania     │ Argentina │ Armenia    │ Australia   │ Azerbaijan  │\n",
       "│     │ \u001b[90mFloat64\u001b[39m     │ \u001b[90mFloat64\u001b[39m   │ \u001b[90mFloat64\u001b[39m    │ \u001b[90mFloat64\u001b[39m     │ \u001b[90mFloat64\u001b[39m     │\n",
       "├─────┼─────────────┼───────────┼────────────┼─────────────┼─────────────┤\n",
       "│ 1   │ 0.315385    │ -0.365085 │ -0.129759  │ -0.0386792  │ 0.123116    │\n",
       "│ 2   │ 0.480738    │ 0.401279  │ 0.209248   │ 0.00304851  │ -0.117758   │\n",
       "│ 3   │ -0.155378   │ 0.193359  │ -0.285671  │ -0.0950609  │ -0.376659   │\n",
       "│ 4   │ -0.524337   │ -0.49849  │ -0.392856  │ -0.371067   │ 0.104213    │\n",
       "│ 5   │ 0.496397    │ 0.312354  │ -0.148035  │ 0.427938    │ 0.364014    │\n",
       "│ 6   │ 0.0684203   │ -0.10623  │ -0.471297  │ -0.0863382  │ -0.499476   │\n",
       "│ 7   │ -0.0819718  │ 0.407028  │ -0.226086  │ -0.223112   │ -0.110896   │\n",
       "│ 8   │ 0.292213    │ -0.354993 │ 0.224698   │ -0.274763   │ 0.414215    │\n",
       "│ 9   │ -0.482882   │ -0.326609 │ -0.228513  │ 0.0923917   │ 0.217039    │\n",
       "│ 10  │ 0.129977    │ 0.374706  │ 0.180471   │ 0.135098    │ 0.183197    │\n",
       "⋮\n",
       "│ 471 │ 0.12303     │ -0.336654 │ -0.423743  │ -0.504148   │ -0.517562   │\n",
       "│ 472 │ 0.173839    │ 0.455152  │ -0.122035  │ -0.384207   │ 0.142926    │\n",
       "│ 473 │ -0.348029   │ -0.437934 │ 0.011783   │ -0.063692   │ 0.146533    │\n",
       "│ 474 │ 0.159108    │ -0.288675 │ -0.368583  │ 0.0309174   │ 0.300568    │\n",
       "│ 475 │ -0.43944    │ 0.388992  │ -0.425065  │ -0.0669569  │ -0.430178   │\n",
       "│ 476 │ 0.474762    │ 0.31959   │ 0.372049   │ -0.108309   │ 0.346133    │\n",
       "│ 477 │ 0.0120833   │ 0.47953   │ 0.19061    │ 0.285679    │ 0.496261    │\n",
       "│ 478 │ -0.21889    │ 0.254469  │ -0.0528179 │ -0.271351   │ -0.115002   │\n",
       "│ 479 │ 0.12336     │ -0.521576 │ 0.0219284  │ -0.284396   │ -0.371265   │\n",
       "│ 480 │ -0.419344   │ 0.312788  │ 0.0825884  │ -0.063686   │ -0.178917   │\n",
       "│ 481 │ -0.00655279 │ 0.013964  │ -0.0127308 │ -0.00425561 │ -0.00144593 │"
      ]
     },
     "execution_count": 75,
     "metadata": {},
     "output_type": "execute_result"
    }
   ],
   "source": [
    "include(\".\\\\addition\\\\Addition_Methods.jl\")\n",
    "training_1= CSV.read(\"Eqn1.csv\")"
   ]
  },
  {
   "cell_type": "code",
   "execution_count": 70,
   "metadata": {},
   "outputs": [
    {
     "data": {
      "text/plain": [
       "481-element Array{Float32,1}:\n",
       "  0.07611742\n",
       "  0.24426454\n",
       "  0.41018236\n",
       " -0.3297632\n",
       "  0.053379554\n",
       "  0.27051657\n",
       "  0.117201045\n",
       "  0.23474719\n",
       " -0.081142634\n",
       " -0.27466473\n",
       " -0.26874527\n",
       " -0.25609595\n",
       " -0.4962953\n",
       "  ⋮\n",
       "  0.08620596\n",
       " -0.26998463\n",
       "  0.025881298\n",
       "  0.32222998\n",
       "  0.011719136\n",
       " -0.46328142\n",
       " -0.049723428\n",
       " -0.26575083\n",
       "  0.32365066\n",
       " -0.28208748\n",
       "  0.3056142\n",
       "  0.0"
      ]
     },
     "execution_count": 70,
     "metadata": {},
     "output_type": "execute_result"
    }
   ],
   "source": [
    "country1= \"Albania\" # loss didnot converge as well well\n",
    "country2= \"Australia\" # Loss converge very well \n",
    "country3= \"Philippines\" # loss converge badly at equation 2\n",
    "ann = FastChain(FastDense(1, 20, tanh),FastDense(20, 20, tanh),\n",
    "                FastDense(20, 1))\n",
    "nnp = initial_params(ann)"
   ]
  },
  {
   "cell_type": "code",
   "execution_count": 48,
   "metadata": {},
   "outputs": [
    {
     "data": {
      "text/plain": [
       "trainer1 (generic function with 1 method)"
      ]
     },
     "execution_count": 48,
     "metadata": {},
     "output_type": "execute_result"
    }
   ],
   "source": [
    "function trainer1(res1, rate,loss,callback)\n",
    "    res1= DiffEqFlux.sciml_train(loss, res1.minimizer, ADAM(rate/10),cb=callback, maxiters=400)\n",
    "    res1= DiffEqFlux.sciml_train(loss, res1.minimizer, ADAM(rate/100),cb=callback, maxiters=400)\n",
    "    res1= DiffEqFlux.sciml_train(loss, res1.minimizer, ADAM(rate/1000),cb=callback, maxiters=400)\n",
    "    return res1\n",
    "end"
   ]
  },
  {
   "cell_type": "code",
   "execution_count": 49,
   "metadata": {},
   "outputs": [
    {
     "data": {
      "text/plain": [
       "trainer2 (generic function with 1 method)"
      ]
     },
     "execution_count": 49,
     "metadata": {},
     "output_type": "execute_result"
    }
   ],
   "source": [
    "function trainer2(res1, rate,loss,callback)\n",
    "    res1= DiffEqFlux.sciml_train(loss, res1.minimizer, ADAM(rate/10),cb=callback, maxiters=1200)\n",
    "\n",
    "end"
   ]
  },
  {
   "cell_type": "code",
   "execution_count": 50,
   "metadata": {},
   "outputs": [
    {
     "data": {
      "text/plain": [
       "trainer3 (generic function with 1 method)"
      ]
     },
     "execution_count": 50,
     "metadata": {},
     "output_type": "execute_result"
    }
   ],
   "source": [
    "function trainer3(res1, rate,loss,callback)\n",
    "    res1= DiffEqFlux.sciml_train(loss, res1.minimizer, BFGS(initial_stepnorm=rate/10),cb=callback, maxiters=1200)\n",
    "    return res1\n",
    "end"
   ]
  },
  {
   "cell_type": "code",
   "execution_count": 51,
   "metadata": {},
   "outputs": [
    {
     "data": {
      "text/plain": [
       "trainer4 (generic function with 1 method)"
      ]
     },
     "execution_count": 51,
     "metadata": {},
     "output_type": "execute_result"
    }
   ],
   "source": [
    "function trainer4(res1, rate,loss,callback)\n",
    "    res1= DiffEqFlux.sciml_train(loss, res1.minimizer, ADAM(rate/10),cb=callback, maxiters=200)\n",
    "    res1= DiffEqFlux.sciml_train(loss, res1.minimizer, BFGS(initial_stepnorm=rate/10),cb=callback, maxiters=200)\n",
    "    res1= DiffEqFlux.sciml_train(loss, res1.minimizer, ADAM(rate/100),cb=callback, maxiters=200)\n",
    "    res1= DiffEqFlux.sciml_train(loss, res1.minimizer, BFGS(initial_stepnorm=rate/100),cb=callback, maxiters=200)\n",
    "    res1= DiffEqFlux.sciml_train(loss, res1.minimizer, ADAM(rate/1000),cb=callback, maxiters=200)\n",
    "    res1= DiffEqFlux.sciml_train(loss, res1.minimizer, BFGS(initial_stepnorm=rate/1000),cb=callback, maxiters=200)\n",
    "    return res1\n",
    "end"
   ]
  },
  {
   "cell_type": "code",
   "execution_count": 52,
   "metadata": {},
   "outputs": [
    {
     "data": {
      "text/plain": [
       "trainer5 (generic function with 1 method)"
      ]
     },
     "execution_count": 52,
     "metadata": {},
     "output_type": "execute_result"
    }
   ],
   "source": [
    "function trainer5(res1, rate,loss,callback)\n",
    "    res1= DiffEqFlux.sciml_train(loss, res1.minimizer, ADAM(rate/10),cb=callback, maxiters=600)\n",
    "    res1= DiffEqFlux.sciml_train(loss, res1.minimizer, BFGS(initial_stepnorm=rate/10),cb=callback, maxiters=600)\n",
    "\n",
    "    return res1\n",
    "end"
   ]
  },
  {
   "cell_type": "markdown",
   "metadata": {},
   "source": [
    "## Australia"
   ]
  },
  {
   "cell_type": "code",
   "execution_count": 53,
   "metadata": {},
   "outputs": [
    {
     "name": "stderr",
     "output_type": "stream",
     "text": [
      "┌ Warning: `getindex(df::DataFrame, col_ind::ColumnIndex)` is deprecated, use `df[!, col_ind]` instead.\n",
      "│   caller = getCleandataFrame(::String) at Addition_Methods.jl:160\n",
      "└ @ Main D:\\NUS_differential_equation\\SOLOW_eqn_final_training\\addition\\Addition_Methods.jl:160\n",
      "┌ Warning: `getindex(df::DataFrame, col_ind::ColumnIndex)` is deprecated, use `df[!, col_ind]` instead.\n",
      "│   caller = getCleandataFrame(::String) at Addition_Methods.jl:162\n",
      "└ @ Main D:\\NUS_differential_equation\\SOLOW_eqn_final_training\\addition\\Addition_Methods.jl:162\n",
      "┌ Warning: `getindex(df::DataFrame, col_ind::ColumnIndex)` is deprecated, use `df[!, col_ind]` instead.\n",
      "│   caller = getCleandataFrame(::String) at Addition_Methods.jl:163\n",
      "└ @ Main D:\\NUS_differential_equation\\SOLOW_eqn_final_training\\addition\\Addition_Methods.jl:163\n",
      "┌ Warning: `getindex(df::DataFrame, col_ind::ColumnIndex)` is deprecated, use `df[!, col_ind]` instead.\n",
      "│   caller = getCleandataFrame(::String) at Addition_Methods.jl:164\n",
      "└ @ Main D:\\NUS_differential_equation\\SOLOW_eqn_final_training\\addition\\Addition_Methods.jl:164\n",
      "┌ Warning: `getindex(df::DataFrame, col_ind::ColumnIndex)` is deprecated, use `df[!, col_ind]` instead.\n",
      "│   caller = getCleandataFrame(::String) at Addition_Methods.jl:165\n",
      "└ @ Main D:\\NUS_differential_equation\\SOLOW_eqn_final_training\\addition\\Addition_Methods.jl:165\n",
      "┌ Warning: `getindex(df::DataFrame, col_ind::ColumnIndex)` is deprecated, use `df[!, col_ind]` instead.\n",
      "│   caller = getCleandataFrame(::String) at Addition_Methods.jl:166\n",
      "└ @ Main D:\\NUS_differential_equation\\SOLOW_eqn_final_training\\addition\\Addition_Methods.jl:166\n",
      "┌ Warning: `getindex(df::DataFrame, col_ind::ColumnIndex)` is deprecated, use `df[!, col_ind]` instead.\n",
      "│   caller = top-level scope at In[53]:2\n",
      "└ @ Core In[53]:2\n",
      "┌ Warning: `getindex(df::DataFrame, col_ind::ColumnIndex)` is deprecated, use `df[!, col_ind]` instead.\n",
      "│   caller = train_eqn2_addition_modified(::String, ::CSV.Column{Float64,Float64}, ::Array{Float32,1}, ::Function) at Addition_Methods.jl:644\n",
      "└ @ Main D:\\NUS_differential_equation\\SOLOW_eqn_final_training\\addition\\Addition_Methods.jl:644\n",
      "┌ Warning: `getindex(df::DataFrame, col_ind::ColumnIndex)` is deprecated, use `df[!, col_ind]` instead.\n",
      "│   caller = train_eqn2_addition_modified(::String, ::CSV.Column{Float64,Float64}, ::Array{Float32,1}, ::Function) at Addition_Methods.jl:645\n",
      "└ @ Main D:\\NUS_differential_equation\\SOLOW_eqn_final_training\\addition\\Addition_Methods.jl:645\n",
      "┌ Warning: `getindex(df::DataFrame, col_ind::ColumnIndex)` is deprecated, use `df[!, col_ind]` instead.\n",
      "│   caller = train_eqn2_addition_modified(::String, ::CSV.Column{Float64,Float64}, ::Array{Float32,1}, ::Function) at Addition_Methods.jl:646\n",
      "└ @ Main D:\\NUS_differential_equation\\SOLOW_eqn_final_training\\addition\\Addition_Methods.jl:646\n",
      "┌ Warning: `getindex(df::DataFrame, col_ind::ColumnIndex)` is deprecated, use `df[!, col_ind]` instead.\n",
      "│   caller = train_eqn2_addition_modified(::String, ::CSV.Column{Float64,Float64}, ::Array{Float32,1}, ::Function) at Addition_Methods.jl:647\n",
      "└ @ Main D:\\NUS_differential_equation\\SOLOW_eqn_final_training\\addition\\Addition_Methods.jl:647\n",
      "┌ Warning: `getindex(df::DataFrame, col_ind::ColumnIndex)` is deprecated, use `df[!, col_ind]` instead.\n",
      "│   caller = train_eqn2_addition_modified(::String, ::CSV.Column{Float64,Float64}, ::Array{Float32,1}, ::Function) at Addition_Methods.jl:648\n",
      "└ @ Main D:\\NUS_differential_equation\\SOLOW_eqn_final_training\\addition\\Addition_Methods.jl:648\n",
      "┌ Warning: `getindex(df::DataFrame, col_ind::ColumnIndex)` is deprecated, use `df[!, col_ind]` instead.\n",
      "│   caller = Parameter_parsin!(::DataFrame, ::String) at Addition_Methods.jl:68\n",
      "└ @ Main D:\\NUS_differential_equation\\SOLOW_eqn_final_training\\addition\\Addition_Methods.jl:68\n",
      "┌ Warning: `getindex(df::DataFrame, col_ind::ColumnIndex)` is deprecated, use `df[!, col_ind]` instead.\n",
      "│   caller = eqn_1(::Float64, ::Float64) at Addition_Methods.jl:39\n",
      "└ @ Main D:\\NUS_differential_equation\\SOLOW_eqn_final_training\\addition\\Addition_Methods.jl:39\n",
      "┌ Warning: `getindex(df::DataFrame, col_ind::ColumnIndex)` is deprecated, use `df[!, col_ind]` instead.\n",
      "│   caller = exp2_eqn1_loss_mse(::Array{Float64,1}) at Addition_Methods.jl:55\n",
      "└ @ Main D:\\NUS_differential_equation\\SOLOW_eqn_final_training\\addition\\Addition_Methods.jl:55\n",
      "┌ Warning: `getindex(df::DataFrame, col_ind::ColumnIndex)` is deprecated, use `df[!, col_ind]` instead.\n",
      "│   caller = exp_2_eqn2_mse(::Float64, ::Float64) at Addition_Methods.jl:46\n",
      "└ @ Main D:\\NUS_differential_equation\\SOLOW_eqn_final_training\\addition\\Addition_Methods.jl:46\n",
      "┌ Warning: `getindex(df::DataFrame, col_ind::ColumnIndex)` is deprecated, use `df[!, col_ind]` instead.\n",
      "│   caller = exp_2_eqn2_mse(::Float64, ::Float64) at Addition_Methods.jl:46\n",
      "└ @ Main D:\\NUS_differential_equation\\SOLOW_eqn_final_training\\addition\\Addition_Methods.jl:46\n",
      "┌ Warning: `getindex(df::DataFrame, col_ind::ColumnIndex)` is deprecated, use `df[!, col_ind]` instead.\n",
      "│   caller = exp_2_eqn2_mse(::Float64, ::Float64) at Addition_Methods.jl:46\n",
      "└ @ Main D:\\NUS_differential_equation\\SOLOW_eqn_final_training\\addition\\Addition_Methods.jl:46\n",
      "┌ Warning: `getindex(df::DataFrame, col_ind::ColumnIndex)` is deprecated, use `df[!, col_ind]` instead.\n",
      "│   caller = exp_2_eqn2_mse(::Float64, ::Float64) at Addition_Methods.jl:46\n",
      "└ @ Main D:\\NUS_differential_equation\\SOLOW_eqn_final_training\\addition\\Addition_Methods.jl:46\n",
      "┌ Warning: `getindex(df::DataFrame, col_ind::ColumnIndex)` is deprecated, use `df[!, col_ind]` instead.\n",
      "│   caller = train_eqn2_addition_modified(::String, ::CSV.Column{Float64,Float64}, ::Array{Float32,1}, ::Function) at Addition_Methods.jl:650\n",
      "└ @ Main D:\\NUS_differential_equation\\SOLOW_eqn_final_training\\addition\\Addition_Methods.jl:650\n",
      "┌ Warning: `getindex(df::DataFrame, col_ind::ColumnIndex)` is deprecated, use `df[!, col_ind]` instead.\n",
      "│   caller = train_eqn2_addition_modified(::String, ::CSV.Column{Float64,Float64}, ::Array{Float32,1}, ::Function) at Addition_Methods.jl:651\n",
      "└ @ Main D:\\NUS_differential_equation\\SOLOW_eqn_final_training\\addition\\Addition_Methods.jl:651\n",
      "┌ Warning: `getindex(df::DataFrame, col_ind::ColumnIndex)` is deprecated, use `df[!, col_ind]` instead.\n",
      "│   caller = train_eqn2_addition_modified(::String, ::CSV.Column{Float64,Float64}, ::Array{Float32,1}, ::Function) at Addition_Methods.jl:652\n",
      "└ @ Main D:\\NUS_differential_equation\\SOLOW_eqn_final_training\\addition\\Addition_Methods.jl:652\n",
      "┌ Warning: `getindex(df::DataFrame, col_ind::ColumnIndex)` is deprecated, use `df[!, col_ind]` instead.\n",
      "│   caller = train_eqn2_addition_modified(::String, ::CSV.Column{Float64,Float64}, ::Array{Float32,1}, ::Function) at Addition_Methods.jl:653\n",
      "└ @ Main D:\\NUS_differential_equation\\SOLOW_eqn_final_training\\addition\\Addition_Methods.jl:653\n"
     ]
    },
    {
     "name": "stdout",
     "output_type": "stream",
     "text": [
      "\"Australia\""
     ]
    },
    {
     "name": "stderr",
     "output_type": "stream",
     "text": [
      "┌ Warning: `getindex(df::DataFrame, col_ind::ColumnIndex)` is deprecated, use `df[!, col_ind]` instead.\n",
      "│   caller = train_eqn2_addition_modified(::String, ::CSV.Column{Float64,Float64}, ::Array{Float32,1}, ::Function) at Addition_Methods.jl:654\n",
      "└ @ Main D:\\NUS_differential_equation\\SOLOW_eqn_final_training\\addition\\Addition_Methods.jl:654\n",
      "\u001b[32mloss: 1.37: 100%|█████████████████████████████████████████| Time: 0:01:05\u001b[39m\n",
      "\u001b[32mloss: 0.0527:  22%|██████████                               |  ETA: 0:00:38\u001b[39m"
     ]
    },
    {
     "name": "stdout",
     "output_type": "stream",
     "text": [
      "0.05273145123806732\n"
     ]
    },
    {
     "name": "stderr",
     "output_type": "stream",
     "text": [
      "\u001b[32mloss: 0.0319:  47%|████████████████████                     |  ETA: 0:00:25\u001b[39m"
     ]
    },
    {
     "name": "stdout",
     "output_type": "stream",
     "text": [
      "0.0318980948932604\n"
     ]
    },
    {
     "name": "stderr",
     "output_type": "stream",
     "text": [
      "\u001b[32mloss: 0.0165:  71%|██████████████████████████████           |  ETA: 0:00:13\u001b[39m"
     ]
    },
    {
     "name": "stdout",
     "output_type": "stream",
     "text": [
      "0.016349751884332495"
     ]
    },
    {
     "name": "stderr",
     "output_type": "stream",
     "text": [
      "\u001b[32mloss: 0.0162:  72%|██████████████████████████████           |  ETA: 0:00:13\u001b[39m"
     ]
    },
    {
     "name": "stdout",
     "output_type": "stream",
     "text": [
      "\n"
     ]
    },
    {
     "name": "stderr",
     "output_type": "stream",
     "text": [
      "\u001b[32mloss: 0.00742:  96%|████████████████████████████████████████ |  ETA: 0:00:02\u001b[39m"
     ]
    },
    {
     "name": "stdout",
     "output_type": "stream",
     "text": [
      "0.007418494774480275\n"
     ]
    },
    {
     "name": "stderr",
     "output_type": "stream",
     "text": [
      "\u001b[32mloss: 0.00654: 100%|█████████████████████████████████████████| Time: 0:00:45\u001b[39m\n",
      "\u001b[32mloss: 0.0022:  21%|█████████                                |  ETA: 0:00:31\u001b[39m"
     ]
    },
    {
     "name": "stdout",
     "output_type": "stream",
     "text": [
      "0.002195933748967213\n"
     ]
    },
    {
     "name": "stderr",
     "output_type": "stream",
     "text": [
      "\u001b[32mloss: 0.00104:  45%|███████████████████                      |  ETA: 0:00:20\u001b[39m"
     ]
    },
    {
     "name": "stdout",
     "output_type": "stream",
     "text": [
      "0.0010405388332389992"
     ]
    },
    {
     "name": "stderr",
     "output_type": "stream",
     "text": [
      "\u001b[32mloss: 0.00104:  46%|███████████████████                      |  ETA: 0:00:20\u001b[39m"
     ]
    },
    {
     "name": "stdout",
     "output_type": "stream",
     "text": [
      "\n"
     ]
    },
    {
     "name": "stderr",
     "output_type": "stream",
     "text": [
      "\u001b[32mloss: 0.000776:  70%|█████████████████████████████            |  ETA: 0:00:11\u001b[39m"
     ]
    },
    {
     "name": "stdout",
     "output_type": "stream",
     "text": [
      "0.0007762832667406486\n"
     ]
    },
    {
     "name": "stderr",
     "output_type": "stream",
     "text": [
      "\u001b[32mloss: 0.000602:  95%|███████████████████████████████████████  |  ETA: 0:00:02\u001b[39m"
     ]
    },
    {
     "name": "stdout",
     "output_type": "stream",
     "text": [
      "0.0006006986133740114"
     ]
    },
    {
     "name": "stderr",
     "output_type": "stream",
     "text": []
    },
    {
     "name": "stdout",
     "output_type": "stream",
     "text": [
      "\n"
     ]
    },
    {
     "name": "stderr",
     "output_type": "stream",
     "text": [
      "\u001b[32mloss: 0.00057: 100%|█████████████████████████████████████████| Time: 0:00:36\u001b[39m\n",
      "\u001b[32mloss: 0.000536:  19%|████████                                 |  ETA: 0:00:27\u001b[39m"
     ]
    },
    {
     "name": "stdout",
     "output_type": "stream",
     "text": [
      "0.0005352437662160448"
     ]
    },
    {
     "name": "stderr",
     "output_type": "stream",
     "text": [
      "\u001b[32mloss: 0.000535:  20%|█████████                                |  ETA: 0:00:27\u001b[39m"
     ]
    },
    {
     "name": "stdout",
     "output_type": "stream",
     "text": [
      "\n"
     ]
    },
    {
     "name": "stderr",
     "output_type": "stream",
     "text": [
      "\u001b[32mloss: 0.000496:  44%|███████████████████                      |  ETA: 0:00:18\u001b[39m"
     ]
    },
    {
     "name": "stdout",
     "output_type": "stream",
     "text": [
      "0.0004947034269017193"
     ]
    },
    {
     "name": "stderr",
     "output_type": "stream",
     "text": [
      "\u001b[32mloss: 0.000495:  44%|███████████████████                      |  ETA: 0:00:18\u001b[39m"
     ]
    },
    {
     "name": "stdout",
     "output_type": "stream",
     "text": [
      "\n"
     ]
    },
    {
     "name": "stderr",
     "output_type": "stream",
     "text": [
      "\u001b[32mloss: 0.000458:  69%|█████████████████████████████            |  ETA: 0:00:10\u001b[39m"
     ]
    },
    {
     "name": "stdout",
     "output_type": "stream",
     "text": [
      "0.00045805294399458587"
     ]
    },
    {
     "name": "stderr",
     "output_type": "stream",
     "text": [
      "\u001b[32mloss: 0.000458:  69%|█████████████████████████████            |  ETA: 0:00:10\u001b[39m"
     ]
    },
    {
     "name": "stdout",
     "output_type": "stream",
     "text": [
      "\n"
     ]
    },
    {
     "name": "stderr",
     "output_type": "stream",
     "text": [
      "\u001b[32mloss: 0.000424:  94%|███████████████████████████████████████  |  ETA: 0:00:02\u001b[39m"
     ]
    },
    {
     "name": "stdout",
     "output_type": "stream",
     "text": [
      "0.00042375244769415703\n"
     ]
    },
    {
     "name": "stderr",
     "output_type": "stream",
     "text": [
      "\u001b[32mloss: 0.000415: 100%|█████████████████████████████████████████| Time: 0:00:32\u001b[39m\n"
     ]
    },
    {
     "name": "stdout",
     "output_type": "stream",
     "text": [
      "\"Australia\""
     ]
    },
    {
     "name": "stderr",
     "output_type": "stream",
     "text": [
      "┌ Warning: `getindex(df::DataFrame, col_ind::ColumnIndex)` is deprecated, use `df[!, col_ind]` instead.\n",
      "│   caller = top-level scope at In[53]:3\n",
      "└ @ Core In[53]:3\n",
      "\u001b[32mloss: 1.37: 100%|█████████████████████████████████████████| Time: 0:00:01\u001b[39m\n",
      "\u001b[32mloss: 0.0527:   7%|███                                      |  ETA: 0:02:17\u001b[39m"
     ]
    },
    {
     "name": "stdout",
     "output_type": "stream",
     "text": [
      "0.05273145123806732\n"
     ]
    },
    {
     "name": "stderr",
     "output_type": "stream",
     "text": [
      "\u001b[32mloss: 0.0321:  16%|███████                                  |  ETA: 0:02:03\u001b[39m"
     ]
    },
    {
     "name": "stdout",
     "output_type": "stream",
     "text": [
      "0.0318980948932604\n"
     ]
    },
    {
     "name": "stderr",
     "output_type": "stream",
     "text": [
      "\u001b[32mloss: 0.0163:  24%|██████████                               |  ETA: 0:01:51\u001b[39m"
     ]
    },
    {
     "name": "stdout",
     "output_type": "stream",
     "text": [
      "0.016349751884332495\n"
     ]
    },
    {
     "name": "stderr",
     "output_type": "stream",
     "text": [
      "\u001b[32mloss: 0.00742:  32%|██████████████                           |  ETA: 0:01:39\u001b[39m"
     ]
    },
    {
     "name": "stdout",
     "output_type": "stream",
     "text": [
      "0.007418494774480275\n"
     ]
    },
    {
     "name": "stderr",
     "output_type": "stream",
     "text": [
      "\u001b[32mloss: 0.00324:  40%|█████████████████                        |  ETA: 0:01:25\u001b[39m"
     ]
    },
    {
     "name": "stdout",
     "output_type": "stream",
     "text": [
      "0.003239729923197931\n"
     ]
    },
    {
     "name": "stderr",
     "output_type": "stream",
     "text": [
      "\u001b[32mloss: 0.0016:  48%|████████████████████                     |  ETA: 0:01:12\u001b[39m"
     ]
    },
    {
     "name": "stdout",
     "output_type": "stream",
     "text": [
      "0.0015916947046384488"
     ]
    },
    {
     "name": "stderr",
     "output_type": "stream",
     "text": [
      "\u001b[32mloss: 0.00158:  49%|████████████████████                     |  ETA: 0:01:12\u001b[39m"
     ]
    },
    {
     "name": "stdout",
     "output_type": "stream",
     "text": [
      "\n"
     ]
    },
    {
     "name": "stderr",
     "output_type": "stream",
     "text": [
      "\u001b[32mloss: 0.00102:  57%|████████████████████████                 |  ETA: 0:00:59\u001b[39m"
     ]
    },
    {
     "name": "stdout",
     "output_type": "stream",
     "text": [
      "0.0010199061990925227\n"
     ]
    },
    {
     "name": "stderr",
     "output_type": "stream",
     "text": [
      "\u001b[32mloss: 0.000825:  65%|███████████████████████████              |  ETA: 0:00:47\u001b[39m"
     ]
    },
    {
     "name": "stdout",
     "output_type": "stream",
     "text": [
      "0.0008251340590351947\n"
     ]
    },
    {
     "name": "stderr",
     "output_type": "stream",
     "text": [
      "\u001b[32mloss: 0.000739:  73%|███████████████████████████████          |  ETA: 0:00:36\u001b[39m"
     ]
    },
    {
     "name": "stdout",
     "output_type": "stream",
     "text": [
      "0.0007393179103447076\n"
     ]
    },
    {
     "name": "stderr",
     "output_type": "stream",
     "text": [
      "\u001b[32mloss: 0.000681:  82%|██████████████████████████████████       |  ETA: 0:00:24\u001b[39m"
     ]
    },
    {
     "name": "stdout",
     "output_type": "stream",
     "text": [
      "0.0006801393419559001"
     ]
    },
    {
     "name": "stderr",
     "output_type": "stream",
     "text": [
      "\u001b[32mloss: 0.00068:  82%|██████████████████████████████████       |  ETA: 0:00:24\u001b[39m"
     ]
    },
    {
     "name": "stdout",
     "output_type": "stream",
     "text": [
      "\n"
     ]
    },
    {
     "name": "stderr",
     "output_type": "stream",
     "text": [
      "\u001b[32mloss: 0.000627:  90%|█████████████████████████████████████    |  ETA: 0:00:14\u001b[39m"
     ]
    },
    {
     "name": "stdout",
     "output_type": "stream",
     "text": [
      "0.0006267759462978786"
     ]
    },
    {
     "name": "stderr",
     "output_type": "stream",
     "text": [
      "\u001b[32mloss: 0.000626:  90%|█████████████████████████████████████    |  ETA: 0:00:13\u001b[39m"
     ]
    },
    {
     "name": "stdout",
     "output_type": "stream",
     "text": [
      "\n"
     ]
    },
    {
     "name": "stderr",
     "output_type": "stream",
     "text": [
      "\u001b[32mloss: 0.000576:  98%|█████████████████████████████████████████|  ETA: 0:00:03\u001b[39m"
     ]
    },
    {
     "name": "stdout",
     "output_type": "stream",
     "text": [
      "0.0005755043273047406\n"
     ]
    },
    {
     "name": "stderr",
     "output_type": "stream",
     "text": [
      "\u001b[32mloss: 0.000564: 100%|█████████████████████████████████████████| Time: 0:02:11\u001b[39m\n"
     ]
    },
    {
     "name": "stdout",
     "output_type": "stream",
     "text": [
      "\"Australia\""
     ]
    },
    {
     "name": "stderr",
     "output_type": "stream",
     "text": [
      "┌ Warning: `getindex(df::DataFrame, col_ind::ColumnIndex)` is deprecated, use `df[!, col_ind]` instead.\n",
      "│   caller = top-level scope at In[53]:4\n",
      "└ @ Core In[53]:4\n",
      "\u001b[32mloss: 1.37: 100%|█████████████████████████████████████████| Time: 0:00:01\u001b[39m\n"
     ]
    },
    {
     "name": "stdout",
     "output_type": "stream",
     "text": [
      "\"Austra"
     ]
    },
    {
     "name": "stderr",
     "output_type": "stream",
     "text": [
      "┌ Warning: `getindex(df::DataFrame, col_ind::ColumnIndex)` is deprecated, use `df[!, col_ind]` instead.\n",
      "│   caller = top-level scope at In[53]:5\n",
      "└ @ Core In[53]:5\n"
     ]
    },
    {
     "name": "stdout",
     "output_type": "stream",
     "text": [
      "lia"
     ]
    },
    {
     "name": "stderr",
     "output_type": "stream",
     "text": [
      "\u001b[32mloss: 24.7:  10%|█████                                    |  ETA: 0:00:01\u001b[39m"
     ]
    },
    {
     "name": "stdout",
     "output_type": "stream",
     "text": [
      "\""
     ]
    },
    {
     "name": "stderr",
     "output_type": "stream",
     "text": [
      "\u001b[32mloss: 1.37: 100%|█████████████████████████████████████████| Time: 0:00:02\u001b[39m\n",
      "\u001b[32mloss: 0.0527:  44%|███████████████████                      |  ETA: 0:00:21\u001b[39m"
     ]
    },
    {
     "name": "stdout",
     "output_type": "stream",
     "text": [
      "0.05273145123806732\n"
     ]
    },
    {
     "name": "stderr",
     "output_type": "stream",
     "text": [
      "\u001b[32mloss: 0.0319:  94%|███████████████████████████████████████  |  ETA: 0:00:02\u001b[39m"
     ]
    },
    {
     "name": "stdout",
     "output_type": "stream",
     "text": [
      "0.0318980948932604\n"
     ]
    },
    {
     "name": "stderr",
     "output_type": "stream",
     "text": [
      "\u001b[32mloss: 0.0295: 100%|█████████████████████████████████████████| Time: 0:00:31\u001b[39m\n",
      "\u001b[32mloss: 4.01e-05:  28%|████████████                             |  ETA: 0:00:16\u001b[39m"
     ]
    },
    {
     "name": "stdout",
     "output_type": "stream",
     "text": [
      "4.013127043040739e-5\n"
     ]
    },
    {
     "name": "stderr",
     "output_type": "stream",
     "text": [
      "\u001b[32mloss: 3.99e-05:  77%|████████████████████████████████         |  ETA: 0:00:06\u001b[39m"
     ]
    },
    {
     "name": "stdout",
     "output_type": "stream",
     "text": [
      "3.992088078837635e-5"
     ]
    },
    {
     "name": "stderr",
     "output_type": "stream",
     "text": [
      "\u001b[32mloss: 3.99e-05:  78%|████████████████████████████████         |  ETA: 0:00:06\u001b[39m"
     ]
    },
    {
     "name": "stdout",
     "output_type": "stream",
     "text": [
      "\n"
     ]
    },
    {
     "name": "stderr",
     "output_type": "stream",
     "text": [
      "\u001b[32mloss: 3.99e-05: 100%|█████████████████████████████████████████| Time: 0:00:25\u001b[39m\n",
      "\u001b[32mloss: 2.04e-06:  10%|█████                                    |  ETA: 0:00:17\u001b[39m"
     ]
    },
    {
     "name": "stdout",
     "output_type": "stream",
     "text": [
      "2.0428973436546774e-6\n"
     ]
    },
    {
     "name": "stderr",
     "output_type": "stream",
     "text": [
      "\u001b[32mloss: 2.02e-06:  60%|█████████████████████████                |  ETA: 0:00:08\u001b[39m"
     ]
    },
    {
     "name": "stdout",
     "output_type": "stream",
     "text": [
      "2.0155375837844678e-6\n"
     ]
    },
    {
     "name": "stderr",
     "output_type": "stream",
     "text": [
      "\u001b[32mloss: 2.01e-06: 100%|█████████████████████████████████████████| Time: 0:00:19\u001b[39m\n"
     ]
    },
    {
     "data": {
      "text/plain": [
       "(Float32[-0.45858586, -0.15368772, -0.4462389, -0.35352722, 0.15432175, -0.09452163, -0.063247375, -0.06373042, 0.10431721, -0.20493545  …  -0.21710037, -0.28856075, 0.065408744, 0.4130629, -0.39663222, 0.1064538, -0.30603278, 0.09172856, 0.466982, -0.0002580208], Float32[0.017194, 0.020653091, 0.016392201, 0.015183739, 0.016758729, 0.018994998, 0.020508643, 0.020984743, 0.020781616, 0.020399436, 0.020213448, 0.020444611, 0.02114347, 0.022345068, 0.023640445, 0.024785928, 0.025653984, 0.025840368, 0.025087811, 0.023153625], Any[24.74633254424554, 17.440205253193437, 11.417991570986839, 6.7913973588360825, 3.4197228985036747, 1.2882040298160717, 0.25049213368935586, 0.09869740546490341, 0.570938332594991, 1.3710500380857118  …  2.0142767641671424e-6, 2.0161567061003583e-6, 2.025341349963879e-6, 2.0155501203142278e-6, 2.011713700052611e-6, 1.986776717702124e-6, 2.0084049517459205e-6, 2.008191251323231e-6, 2.008174300354246e-6, 2.008174300354246e-6])"
      ]
     },
     "execution_count": 53,
     "metadata": {},
     "output_type": "execute_result"
    }
   ],
   "source": [
    "actual= getCleandataFrame(country1)\n",
    "para_1,pred_value_1,losses_1=train_eqn2_addition_modified(country2, training_1[country1],nnp,trainer1)\n",
    "para_2,pred_value_2,losses_2=train_eqn2_addition_modified(country2, training_1[country1],nnp,trainer2)\n",
    "para_3,pred_value_3,losses_3=train_eqn2_addition_modified(country2, training_1[country1],nnp,trainer3)\n",
    "para_4,pred_value_4,losses_4=train_eqn2_addition_modified(country2, training_1[country1],nnp,trainer4)\n",
    "para_5,pred_value_5,losses_5=train_eqn2_addition_modified(country2, training_1[country1],nnp,trainer5)"
   ]
  },
  {
   "cell_type": "code",
   "execution_count": 61,
   "metadata": {},
   "outputs": [
    {
     "data": {
      "image/svg+xml": [
       "<?xml version=\"1.0\" encoding=\"utf-8\"?>\n",
       "<svg xmlns=\"http://www.w3.org/2000/svg\" xmlns:xlink=\"http://www.w3.org/1999/xlink\" width=\"600\" height=\"400\" viewBox=\"0 0 2400 1600\">\n",
       "<defs>\n",
       "  <clipPath id=\"clip140\">\n",
       "    <rect x=\"0\" y=\"0\" width=\"2400\" height=\"1600\"/>\n",
       "  </clipPath>\n",
       "</defs>\n",
       "<path clip-path=\"url(#clip140)\" d=\"\n",
       "M0 1600 L2400 1600 L2400 0 L0 0  Z\n",
       "  \" fill=\"#ffffff\" fill-rule=\"evenodd\" fill-opacity=\"1\"/>\n",
       "<defs>\n",
       "  <clipPath id=\"clip141\">\n",
       "    <rect x=\"480\" y=\"0\" width=\"1681\" height=\"1600\"/>\n",
       "  </clipPath>\n",
       "</defs>\n",
       "<path clip-path=\"url(#clip140)\" d=\"\n",
       "M211.575 686.448 L752.756 686.448 L752.756 123.472 L211.575 123.472  Z\n",
       "  \" fill=\"#ffffff\" fill-rule=\"evenodd\" fill-opacity=\"1\"/>\n",
       "<defs>\n",
       "  <clipPath id=\"clip142\">\n",
       "    <rect x=\"211\" y=\"123\" width=\"542\" height=\"564\"/>\n",
       "  </clipPath>\n",
       "</defs>\n",
       "<polyline clip-path=\"url(#clip142)\" style=\"stroke:#000000; stroke-width:2; stroke-opacity:0.1; fill:none\" points=\"\n",
       "  226.47,686.448 226.47,123.472 \n",
       "  \"/>\n",
       "<polyline clip-path=\"url(#clip142)\" style=\"stroke:#000000; stroke-width:2; stroke-opacity:0.1; fill:none\" points=\"\n",
       "  310.65,686.448 310.65,123.472 \n",
       "  \"/>\n",
       "<polyline clip-path=\"url(#clip142)\" style=\"stroke:#000000; stroke-width:2; stroke-opacity:0.1; fill:none\" points=\"\n",
       "  394.829,686.448 394.829,123.472 \n",
       "  \"/>\n",
       "<polyline clip-path=\"url(#clip142)\" style=\"stroke:#000000; stroke-width:2; stroke-opacity:0.1; fill:none\" points=\"\n",
       "  479.009,686.448 479.009,123.472 \n",
       "  \"/>\n",
       "<polyline clip-path=\"url(#clip142)\" style=\"stroke:#000000; stroke-width:2; stroke-opacity:0.1; fill:none\" points=\"\n",
       "  563.188,686.448 563.188,123.472 \n",
       "  \"/>\n",
       "<polyline clip-path=\"url(#clip142)\" style=\"stroke:#000000; stroke-width:2; stroke-opacity:0.1; fill:none\" points=\"\n",
       "  647.367,686.448 647.367,123.472 \n",
       "  \"/>\n",
       "<polyline clip-path=\"url(#clip142)\" style=\"stroke:#000000; stroke-width:2; stroke-opacity:0.1; fill:none\" points=\"\n",
       "  731.547,686.448 731.547,123.472 \n",
       "  \"/>\n",
       "<polyline clip-path=\"url(#clip142)\" style=\"stroke:#000000; stroke-width:2; stroke-opacity:0.1; fill:none\" points=\"\n",
       "  211.575,628.083 752.756,628.083 \n",
       "  \"/>\n",
       "<polyline clip-path=\"url(#clip142)\" style=\"stroke:#000000; stroke-width:2; stroke-opacity:0.1; fill:none\" points=\"\n",
       "  211.575,516.856 752.756,516.856 \n",
       "  \"/>\n",
       "<polyline clip-path=\"url(#clip142)\" style=\"stroke:#000000; stroke-width:2; stroke-opacity:0.1; fill:none\" points=\"\n",
       "  211.575,405.629 752.756,405.629 \n",
       "  \"/>\n",
       "<polyline clip-path=\"url(#clip142)\" style=\"stroke:#000000; stroke-width:2; stroke-opacity:0.1; fill:none\" points=\"\n",
       "  211.575,294.402 752.756,294.402 \n",
       "  \"/>\n",
       "<polyline clip-path=\"url(#clip142)\" style=\"stroke:#000000; stroke-width:2; stroke-opacity:0.1; fill:none\" points=\"\n",
       "  211.575,183.174 752.756,183.174 \n",
       "  \"/>\n",
       "<polyline clip-path=\"url(#clip140)\" style=\"stroke:#000000; stroke-width:4; stroke-opacity:1; fill:none\" points=\"\n",
       "  211.575,686.448 752.756,686.448 \n",
       "  \"/>\n",
       "<polyline clip-path=\"url(#clip140)\" style=\"stroke:#000000; stroke-width:4; stroke-opacity:1; fill:none\" points=\"\n",
       "  211.575,686.448 211.575,123.472 \n",
       "  \"/>\n",
       "<polyline clip-path=\"url(#clip140)\" style=\"stroke:#000000; stroke-width:4; stroke-opacity:1; fill:none\" points=\"\n",
       "  226.47,686.448 226.47,679.692 \n",
       "  \"/>\n",
       "<polyline clip-path=\"url(#clip140)\" style=\"stroke:#000000; stroke-width:4; stroke-opacity:1; fill:none\" points=\"\n",
       "  310.65,686.448 310.65,679.692 \n",
       "  \"/>\n",
       "<polyline clip-path=\"url(#clip140)\" style=\"stroke:#000000; stroke-width:4; stroke-opacity:1; fill:none\" points=\"\n",
       "  394.829,686.448 394.829,679.692 \n",
       "  \"/>\n",
       "<polyline clip-path=\"url(#clip140)\" style=\"stroke:#000000; stroke-width:4; stroke-opacity:1; fill:none\" points=\"\n",
       "  479.009,686.448 479.009,679.692 \n",
       "  \"/>\n",
       "<polyline clip-path=\"url(#clip140)\" style=\"stroke:#000000; stroke-width:4; stroke-opacity:1; fill:none\" points=\"\n",
       "  563.188,686.448 563.188,679.692 \n",
       "  \"/>\n",
       "<polyline clip-path=\"url(#clip140)\" style=\"stroke:#000000; stroke-width:4; stroke-opacity:1; fill:none\" points=\"\n",
       "  647.367,686.448 647.367,679.692 \n",
       "  \"/>\n",
       "<polyline clip-path=\"url(#clip140)\" style=\"stroke:#000000; stroke-width:4; stroke-opacity:1; fill:none\" points=\"\n",
       "  731.547,686.448 731.547,679.692 \n",
       "  \"/>\n",
       "<polyline clip-path=\"url(#clip140)\" style=\"stroke:#000000; stroke-width:4; stroke-opacity:1; fill:none\" points=\"\n",
       "  211.575,628.083 218.069,628.083 \n",
       "  \"/>\n",
       "<polyline clip-path=\"url(#clip140)\" style=\"stroke:#000000; stroke-width:4; stroke-opacity:1; fill:none\" points=\"\n",
       "  211.575,516.856 218.069,516.856 \n",
       "  \"/>\n",
       "<polyline clip-path=\"url(#clip140)\" style=\"stroke:#000000; stroke-width:4; stroke-opacity:1; fill:none\" points=\"\n",
       "  211.575,405.629 218.069,405.629 \n",
       "  \"/>\n",
       "<polyline clip-path=\"url(#clip140)\" style=\"stroke:#000000; stroke-width:4; stroke-opacity:1; fill:none\" points=\"\n",
       "  211.575,294.402 218.069,294.402 \n",
       "  \"/>\n",
       "<polyline clip-path=\"url(#clip140)\" style=\"stroke:#000000; stroke-width:4; stroke-opacity:1; fill:none\" points=\"\n",
       "  211.575,183.174 218.069,183.174 \n",
       "  \"/>\n",
       "<path clip-path=\"url(#clip140)\" d=\"M 0 0 M226.47 708.439 Q222.859 708.439 221.031 712.003 Q219.225 715.545 219.225 722.675 Q219.225 729.781 221.031 733.346 Q222.859 736.887 226.47 736.887 Q230.105 736.887 231.91 733.346 Q233.739 729.781 233.739 722.675 Q233.739 715.545 231.91 712.003 Q230.105 708.439 226.47 708.439 M226.47 704.735 Q232.28 704.735 235.336 709.341 Q238.415 713.925 238.415 722.675 Q238.415 731.401 235.336 736.008 Q232.28 740.591 226.47 740.591 Q220.66 740.591 217.581 736.008 Q214.526 731.401 214.526 722.675 Q214.526 713.925 217.581 709.341 Q220.66 704.735 226.47 704.735 Z\" fill=\"#000000\" fill-rule=\"evenodd\" fill-opacity=\"1\" /><path clip-path=\"url(#clip140)\" d=\"M 0 0 M278.289 735.985 L294.608 735.985 L294.608 739.92 L272.664 739.92 L272.664 735.985 Q275.326 733.23 279.909 728.6 Q284.516 723.948 285.696 722.605 Q287.942 720.082 288.821 718.346 Q289.724 716.587 289.724 714.897 Q289.724 712.142 287.78 710.406 Q285.858 708.67 282.756 708.67 Q280.557 708.67 278.104 709.434 Q275.673 710.198 272.895 711.749 L272.895 707.027 Q275.719 705.892 278.173 705.314 Q280.627 704.735 282.664 704.735 Q288.034 704.735 291.229 707.42 Q294.423 710.105 294.423 714.596 Q294.423 716.726 293.613 718.647 Q292.826 720.545 290.719 723.138 Q290.141 723.809 287.039 727.026 Q283.937 730.221 278.289 735.985 Z\" fill=\"#000000\" fill-rule=\"evenodd\" fill-opacity=\"1\" /><path clip-path=\"url(#clip140)\" d=\"M 0 0 M309.678 708.439 Q306.066 708.439 304.238 712.003 Q302.432 715.545 302.432 722.675 Q302.432 729.781 304.238 733.346 Q306.066 736.887 309.678 736.887 Q313.312 736.887 315.117 733.346 Q316.946 729.781 316.946 722.675 Q316.946 715.545 315.117 712.003 Q313.312 708.439 309.678 708.439 M309.678 704.735 Q315.488 704.735 318.543 709.341 Q321.622 713.925 321.622 722.675 Q321.622 731.401 318.543 736.008 Q315.488 740.591 309.678 740.591 Q303.867 740.591 300.789 736.008 Q297.733 731.401 297.733 722.675 Q297.733 713.925 300.789 709.341 Q303.867 704.735 309.678 704.735 Z\" fill=\"#000000\" fill-rule=\"evenodd\" fill-opacity=\"1\" /><path clip-path=\"url(#clip140)\" d=\"M 0 0 M336.691 708.439 Q333.08 708.439 331.252 712.003 Q329.446 715.545 329.446 722.675 Q329.446 729.781 331.252 733.346 Q333.08 736.887 336.691 736.887 Q340.326 736.887 342.131 733.346 Q343.96 729.781 343.96 722.675 Q343.96 715.545 342.131 712.003 Q340.326 708.439 336.691 708.439 M336.691 704.735 Q342.501 704.735 345.557 709.341 Q348.636 713.925 348.636 722.675 Q348.636 731.401 345.557 736.008 Q342.501 740.591 336.691 740.591 Q330.881 740.591 327.802 736.008 Q324.747 731.401 324.747 722.675 Q324.747 713.925 327.802 709.341 Q330.881 704.735 336.691 704.735 Z\" fill=\"#000000\" fill-rule=\"evenodd\" fill-opacity=\"1\" /><path clip-path=\"url(#clip140)\" d=\"M 0 0 M370.825 709.434 L359.019 727.883 L370.825 727.883 L370.825 709.434 M369.598 705.36 L375.477 705.36 L375.477 727.883 L380.408 727.883 L380.408 731.772 L375.477 731.772 L375.477 739.92 L370.825 739.92 L370.825 731.772 L355.223 731.772 L355.223 727.258 L369.598 705.36 Z\" fill=\"#000000\" fill-rule=\"evenodd\" fill-opacity=\"1\" /><path clip-path=\"url(#clip140)\" d=\"M 0 0 M395.477 708.439 Q391.866 708.439 390.038 712.003 Q388.232 715.545 388.232 722.675 Q388.232 729.781 390.038 733.346 Q391.866 736.887 395.477 736.887 Q399.112 736.887 400.917 733.346 Q402.746 729.781 402.746 722.675 Q402.746 715.545 400.917 712.003 Q399.112 708.439 395.477 708.439 M395.477 704.735 Q401.287 704.735 404.343 709.341 Q407.422 713.925 407.422 722.675 Q407.422 731.401 404.343 736.008 Q401.287 740.591 395.477 740.591 Q389.667 740.591 386.588 736.008 Q383.533 731.401 383.533 722.675 Q383.533 713.925 386.588 709.341 Q389.667 704.735 395.477 704.735 Z\" fill=\"#000000\" fill-rule=\"evenodd\" fill-opacity=\"1\" /><path clip-path=\"url(#clip140)\" d=\"M 0 0 M422.491 708.439 Q418.88 708.439 417.051 712.003 Q415.246 715.545 415.246 722.675 Q415.246 729.781 417.051 733.346 Q418.88 736.887 422.491 736.887 Q426.125 736.887 427.931 733.346 Q429.76 729.781 429.76 722.675 Q429.76 715.545 427.931 712.003 Q426.125 708.439 422.491 708.439 M422.491 704.735 Q428.301 704.735 431.357 709.341 Q434.435 713.925 434.435 722.675 Q434.435 731.401 431.357 736.008 Q428.301 740.591 422.491 740.591 Q416.681 740.591 413.602 736.008 Q410.547 731.401 410.547 722.675 Q410.547 713.925 413.602 709.341 Q416.681 704.735 422.491 704.735 Z\" fill=\"#000000\" fill-rule=\"evenodd\" fill-opacity=\"1\" /><path clip-path=\"url(#clip140)\" d=\"M 0 0 M452.4 720.776 Q449.252 720.776 447.4 722.929 Q445.571 725.082 445.571 728.832 Q445.571 732.559 447.4 734.735 Q449.252 736.887 452.4 736.887 Q455.548 736.887 457.377 734.735 Q459.229 732.559 459.229 728.832 Q459.229 725.082 457.377 722.929 Q455.548 720.776 452.4 720.776 M461.682 706.124 L461.682 710.383 Q459.923 709.55 458.118 709.11 Q456.335 708.67 454.576 708.67 Q449.946 708.67 447.493 711.795 Q445.062 714.92 444.715 721.239 Q446.081 719.226 448.141 718.161 Q450.201 717.073 452.678 717.073 Q457.886 717.073 460.895 720.244 Q463.928 723.392 463.928 728.832 Q463.928 734.156 460.78 737.374 Q457.631 740.591 452.4 740.591 Q446.405 740.591 443.233 736.008 Q440.062 731.401 440.062 722.675 Q440.062 714.48 443.951 709.619 Q447.84 704.735 454.391 704.735 Q456.15 704.735 457.932 705.082 Q459.738 705.429 461.682 706.124 Z\" fill=\"#000000\" fill-rule=\"evenodd\" fill-opacity=\"1\" /><path clip-path=\"url(#clip140)\" d=\"M 0 0 M478.997 708.439 Q475.386 708.439 473.557 712.003 Q471.752 715.545 471.752 722.675 Q471.752 729.781 473.557 733.346 Q475.386 736.887 478.997 736.887 Q482.631 736.887 484.437 733.346 Q486.266 729.781 486.266 722.675 Q486.266 715.545 484.437 712.003 Q482.631 708.439 478.997 708.439 M478.997 704.735 Q484.807 704.735 487.863 709.341 Q490.941 713.925 490.941 722.675 Q490.941 731.401 487.863 736.008 Q484.807 740.591 478.997 740.591 Q473.187 740.591 470.108 736.008 Q467.053 731.401 467.053 722.675 Q467.053 713.925 470.108 709.341 Q473.187 704.735 478.997 704.735 Z\" fill=\"#000000\" fill-rule=\"evenodd\" fill-opacity=\"1\" /><path clip-path=\"url(#clip140)\" d=\"M 0 0 M506.011 708.439 Q502.4 708.439 500.571 712.003 Q498.765 715.545 498.765 722.675 Q498.765 729.781 500.571 733.346 Q502.4 736.887 506.011 736.887 Q509.645 736.887 511.451 733.346 Q513.279 729.781 513.279 722.675 Q513.279 715.545 511.451 712.003 Q509.645 708.439 506.011 708.439 M506.011 704.735 Q511.821 704.735 514.876 709.341 Q517.955 713.925 517.955 722.675 Q517.955 731.401 514.876 736.008 Q511.821 740.591 506.011 740.591 Q500.201 740.591 497.122 736.008 Q494.066 731.401 494.066 722.675 Q494.066 713.925 497.122 709.341 Q500.201 704.735 506.011 704.735 Z\" fill=\"#000000\" fill-rule=\"evenodd\" fill-opacity=\"1\" /><path clip-path=\"url(#clip140)\" d=\"M 0 0 M536.174 723.508 Q532.841 723.508 530.92 725.29 Q529.022 727.073 529.022 730.198 Q529.022 733.323 530.92 735.105 Q532.841 736.887 536.174 736.887 Q539.508 736.887 541.429 735.105 Q543.35 733.3 543.35 730.198 Q543.35 727.073 541.429 725.29 Q539.531 723.508 536.174 723.508 M531.498 721.517 Q528.489 720.776 526.799 718.716 Q525.133 716.656 525.133 713.693 Q525.133 709.55 528.072 707.142 Q531.035 704.735 536.174 704.735 Q541.336 704.735 544.276 707.142 Q547.216 709.55 547.216 713.693 Q547.216 716.656 545.526 718.716 Q543.859 720.776 540.873 721.517 Q544.253 722.304 546.128 724.596 Q548.026 726.888 548.026 730.198 Q548.026 735.221 544.947 737.906 Q541.892 740.591 536.174 740.591 Q530.457 740.591 527.378 737.906 Q524.323 735.221 524.323 730.198 Q524.323 726.888 526.221 724.596 Q528.119 722.304 531.498 721.517 M529.785 714.133 Q529.785 716.818 531.452 718.323 Q533.142 719.827 536.174 719.827 Q539.184 719.827 540.873 718.323 Q542.586 716.818 542.586 714.133 Q542.586 711.448 540.873 709.943 Q539.184 708.439 536.174 708.439 Q533.142 708.439 531.452 709.943 Q529.785 711.448 529.785 714.133 Z\" fill=\"#000000\" fill-rule=\"evenodd\" fill-opacity=\"1\" /><path clip-path=\"url(#clip140)\" d=\"M 0 0 M563.095 708.439 Q559.484 708.439 557.656 712.003 Q555.85 715.545 555.85 722.675 Q555.85 729.781 557.656 733.346 Q559.484 736.887 563.095 736.887 Q566.73 736.887 568.535 733.346 Q570.364 729.781 570.364 722.675 Q570.364 715.545 568.535 712.003 Q566.73 708.439 563.095 708.439 M563.095 704.735 Q568.906 704.735 571.961 709.341 Q575.04 713.925 575.04 722.675 Q575.04 731.401 571.961 736.008 Q568.906 740.591 563.095 740.591 Q557.285 740.591 554.207 736.008 Q551.151 731.401 551.151 722.675 Q551.151 713.925 554.207 709.341 Q557.285 704.735 563.095 704.735 Z\" fill=\"#000000\" fill-rule=\"evenodd\" fill-opacity=\"1\" /><path clip-path=\"url(#clip140)\" d=\"M 0 0 M590.109 708.439 Q586.498 708.439 584.669 712.003 Q582.864 715.545 582.864 722.675 Q582.864 729.781 584.669 733.346 Q586.498 736.887 590.109 736.887 Q593.743 736.887 595.549 733.346 Q597.378 729.781 597.378 722.675 Q597.378 715.545 595.549 712.003 Q593.743 708.439 590.109 708.439 M590.109 704.735 Q595.919 704.735 598.975 709.341 Q602.054 713.925 602.054 722.675 Q602.054 731.401 598.975 736.008 Q595.919 740.591 590.109 740.591 Q584.299 740.591 581.22 736.008 Q578.165 731.401 578.165 722.675 Q578.165 713.925 581.22 709.341 Q584.299 704.735 590.109 704.735 Z\" fill=\"#000000\" fill-rule=\"evenodd\" fill-opacity=\"1\" /><path clip-path=\"url(#clip140)\" d=\"M 0 0 M597.229 735.985 L604.868 735.985 L604.868 709.619 L596.558 711.286 L596.558 707.027 L604.821 705.36 L609.497 705.36 L609.497 735.985 L617.136 735.985 L617.136 739.92 L597.229 739.92 L597.229 735.985 Z\" fill=\"#000000\" fill-rule=\"evenodd\" fill-opacity=\"1\" /><path clip-path=\"url(#clip140)\" d=\"M 0 0 M632.206 708.439 Q628.594 708.439 626.766 712.003 Q624.96 715.545 624.96 722.675 Q624.96 729.781 626.766 733.346 Q628.594 736.887 632.206 736.887 Q635.84 736.887 637.645 733.346 Q639.474 729.781 639.474 722.675 Q639.474 715.545 637.645 712.003 Q635.84 708.439 632.206 708.439 M632.206 704.735 Q638.016 704.735 641.071 709.341 Q644.15 713.925 644.15 722.675 Q644.15 731.401 641.071 736.008 Q638.016 740.591 632.206 740.591 Q626.395 740.591 623.317 736.008 Q620.261 731.401 620.261 722.675 Q620.261 713.925 623.317 709.341 Q626.395 704.735 632.206 704.735 Z\" fill=\"#000000\" fill-rule=\"evenodd\" fill-opacity=\"1\" /><path clip-path=\"url(#clip140)\" d=\"M 0 0 M659.219 708.439 Q655.608 708.439 653.779 712.003 Q651.974 715.545 651.974 722.675 Q651.974 729.781 653.779 733.346 Q655.608 736.887 659.219 736.887 Q662.854 736.887 664.659 733.346 Q666.488 729.781 666.488 722.675 Q666.488 715.545 664.659 712.003 Q662.854 708.439 659.219 708.439 M659.219 704.735 Q665.029 704.735 668.085 709.341 Q671.164 713.925 671.164 722.675 Q671.164 731.401 668.085 736.008 Q665.029 740.591 659.219 740.591 Q653.409 740.591 650.33 736.008 Q647.275 731.401 647.275 722.675 Q647.275 713.925 650.33 709.341 Q653.409 704.735 659.219 704.735 Z\" fill=\"#000000\" fill-rule=\"evenodd\" fill-opacity=\"1\" /><path clip-path=\"url(#clip140)\" d=\"M 0 0 M686.233 708.439 Q682.622 708.439 680.793 712.003 Q678.988 715.545 678.988 722.675 Q678.988 729.781 680.793 733.346 Q682.622 736.887 686.233 736.887 Q689.867 736.887 691.673 733.346 Q693.501 729.781 693.501 722.675 Q693.501 715.545 691.673 712.003 Q689.867 708.439 686.233 708.439 M686.233 704.735 Q692.043 704.735 695.099 709.341 Q698.177 713.925 698.177 722.675 Q698.177 731.401 695.099 736.008 Q692.043 740.591 686.233 740.591 Q680.423 740.591 677.344 736.008 Q674.289 731.401 674.289 722.675 Q674.289 713.925 677.344 709.341 Q680.423 704.735 686.233 704.735 Z\" fill=\"#000000\" fill-rule=\"evenodd\" fill-opacity=\"1\" /><path clip-path=\"url(#clip140)\" d=\"M 0 0 M682.207 735.985 L689.846 735.985 L689.846 709.619 L681.536 711.286 L681.536 707.027 L689.799 705.36 L694.475 705.36 L694.475 735.985 L702.114 735.985 L702.114 739.92 L682.207 739.92 L682.207 735.985 Z\" fill=\"#000000\" fill-rule=\"evenodd\" fill-opacity=\"1\" /><path clip-path=\"url(#clip140)\" d=\"M 0 0 M711.211 735.985 L727.531 735.985 L727.531 739.92 L705.586 739.92 L705.586 735.985 Q708.248 733.23 712.832 728.6 Q717.438 723.948 718.619 722.605 Q720.864 720.082 721.744 718.346 Q722.646 716.587 722.646 714.897 Q722.646 712.142 720.702 710.406 Q718.781 708.67 715.679 708.67 Q713.48 708.67 711.026 709.434 Q708.596 710.198 705.818 711.749 L705.818 707.027 Q708.642 705.892 711.096 705.314 Q713.549 704.735 715.586 704.735 Q720.957 704.735 724.151 707.42 Q727.346 710.105 727.346 714.596 Q727.346 716.726 726.535 718.647 Q725.748 720.545 723.642 723.138 Q723.063 723.809 719.961 727.026 Q716.859 730.221 711.211 735.985 Z\" fill=\"#000000\" fill-rule=\"evenodd\" fill-opacity=\"1\" /><path clip-path=\"url(#clip140)\" d=\"M 0 0 M742.6 708.439 Q738.989 708.439 737.16 712.003 Q735.355 715.545 735.355 722.675 Q735.355 729.781 737.16 733.346 Q738.989 736.887 742.6 736.887 Q746.234 736.887 748.04 733.346 Q749.869 729.781 749.869 722.675 Q749.869 715.545 748.04 712.003 Q746.234 708.439 742.6 708.439 M742.6 704.735 Q748.41 704.735 751.466 709.341 Q754.544 713.925 754.544 722.675 Q754.544 731.401 751.466 736.008 Q748.41 740.591 742.6 740.591 Q736.79 740.591 733.711 736.008 Q730.656 731.401 730.656 722.675 Q730.656 713.925 733.711 709.341 Q736.79 704.735 742.6 704.735 Z\" fill=\"#000000\" fill-rule=\"evenodd\" fill-opacity=\"1\" /><path clip-path=\"url(#clip140)\" d=\"M 0 0 M769.614 708.439 Q766.003 708.439 764.174 712.003 Q762.368 715.545 762.368 722.675 Q762.368 729.781 764.174 733.346 Q766.003 736.887 769.614 736.887 Q773.248 736.887 775.054 733.346 Q776.882 729.781 776.882 722.675 Q776.882 715.545 775.054 712.003 Q773.248 708.439 769.614 708.439 M769.614 704.735 Q775.424 704.735 778.48 709.341 Q781.558 713.925 781.558 722.675 Q781.558 731.401 778.48 736.008 Q775.424 740.591 769.614 740.591 Q763.804 740.591 760.725 736.008 Q757.669 731.401 757.669 722.675 Q757.669 713.925 760.725 709.341 Q763.804 704.735 769.614 704.735 Z\" fill=\"#000000\" fill-rule=\"evenodd\" fill-opacity=\"1\" /><path clip-path=\"url(#clip140)\" d=\"M 0 0 M98.0541 647.875 L105.693 647.875 L105.693 621.51 L97.3829 623.176 L97.3829 618.917 L105.647 617.25 L110.323 617.25 L110.323 647.875 L117.961 647.875 L117.961 651.81 L98.0541 651.81 L98.0541 647.875 Z\" fill=\"#000000\" fill-rule=\"evenodd\" fill-opacity=\"1\" /><path clip-path=\"url(#clip140)\" d=\"M 0 0 M133.031 620.329 Q129.42 620.329 127.591 623.894 Q125.785 627.435 125.785 634.565 Q125.785 641.671 127.591 645.236 Q129.42 648.778 133.031 648.778 Q136.665 648.778 138.471 645.236 Q140.299 641.671 140.299 634.565 Q140.299 627.435 138.471 623.894 Q136.665 620.329 133.031 620.329 M133.031 616.625 Q138.841 616.625 141.897 621.232 Q144.975 625.815 144.975 634.565 Q144.975 643.292 141.897 647.898 Q138.841 652.482 133.031 652.482 Q127.221 652.482 124.142 647.898 Q121.086 643.292 121.086 634.565 Q121.086 625.815 124.142 621.232 Q127.221 616.625 133.031 616.625 Z\" fill=\"#000000\" fill-rule=\"evenodd\" fill-opacity=\"1\" /><path clip-path=\"url(#clip140)\" d=\"M 0 0 M144.975 612.307 L155.113 612.307 L155.113 615.391 L144.975 615.391 L144.975 612.307 Z\" fill=\"#000000\" fill-rule=\"evenodd\" fill-opacity=\"1\" /><path clip-path=\"url(#clip140)\" d=\"M 0 0 M181.782 609.26 Q184.509 609.843 186.033 611.686 Q187.575 613.529 187.575 616.237 Q187.575 620.394 184.716 622.67 Q181.857 624.945 176.591 624.945 Q174.823 624.945 172.942 624.588 Q171.08 624.249 169.087 623.554 L169.087 619.886 Q170.667 620.808 172.547 621.278 Q174.428 621.748 176.478 621.748 Q180.052 621.748 181.914 620.337 Q183.794 618.927 183.794 616.237 Q183.794 613.755 182.045 612.363 Q180.315 610.952 177.212 610.952 L173.939 610.952 L173.939 607.83 L177.362 607.83 Q180.165 607.83 181.65 606.721 Q183.136 605.592 183.136 603.486 Q183.136 601.323 181.594 600.176 Q180.07 599.009 177.212 599.009 Q175.651 599.009 173.864 599.348 Q172.077 599.687 169.933 600.401 L169.933 597.016 Q172.096 596.414 173.977 596.113 Q175.876 595.812 177.55 595.812 Q181.876 595.812 184.396 597.787 Q186.917 599.743 186.917 603.091 Q186.917 605.423 185.581 607.04 Q184.246 608.639 181.782 609.26 Z\" fill=\"#000000\" fill-rule=\"evenodd\" fill-opacity=\"1\" /><path clip-path=\"url(#clip140)\" d=\"M 0 0 M98.7124 536.648 L106.351 536.648 L106.351 510.282 L98.0411 511.949 L98.0411 507.69 L106.305 506.023 L110.981 506.023 L110.981 536.648 L118.62 536.648 L118.62 540.583 L98.7124 540.583 L98.7124 536.648 Z\" fill=\"#000000\" fill-rule=\"evenodd\" fill-opacity=\"1\" /><path clip-path=\"url(#clip140)\" d=\"M 0 0 M133.689 509.102 Q130.078 509.102 128.249 512.667 Q126.444 516.208 126.444 523.338 Q126.444 530.444 128.249 534.009 Q130.078 537.551 133.689 537.551 Q137.323 537.551 139.129 534.009 Q140.958 530.444 140.958 523.338 Q140.958 516.208 139.129 512.667 Q137.323 509.102 133.689 509.102 M133.689 505.398 Q139.499 505.398 142.555 510.005 Q145.633 514.588 145.633 523.338 Q145.633 532.065 142.555 536.671 Q139.499 541.255 133.689 541.255 Q127.879 541.255 124.8 536.671 Q121.745 532.065 121.745 523.338 Q121.745 514.588 124.8 510.005 Q127.879 505.398 133.689 505.398 Z\" fill=\"#000000\" fill-rule=\"evenodd\" fill-opacity=\"1\" /><path clip-path=\"url(#clip140)\" d=\"M 0 0 M145.633 501.079 L155.771 501.079 L155.771 504.164 L145.633 504.164 L145.633 501.079 Z\" fill=\"#000000\" fill-rule=\"evenodd\" fill-opacity=\"1\" /><path clip-path=\"url(#clip140)\" d=\"M 0 0 M174.315 509.976 L187.575 509.976 L187.575 513.173 L169.745 513.173 L169.745 509.976 Q171.908 507.737 175.632 503.976 Q179.375 500.195 180.334 499.105 Q182.158 497.055 182.873 495.644 Q183.606 494.215 183.606 492.842 Q183.606 490.604 182.026 489.193 Q180.465 487.782 177.945 487.782 Q176.158 487.782 174.165 488.403 Q172.19 489.024 169.933 490.284 L169.933 486.447 Q172.228 485.525 174.221 485.055 Q176.215 484.585 177.87 484.585 Q182.233 484.585 184.829 486.767 Q187.424 488.948 187.424 492.597 Q187.424 494.327 186.766 495.889 Q186.127 497.431 184.415 499.537 Q183.945 500.083 181.425 502.697 Q178.904 505.292 174.315 509.976 Z\" fill=\"#000000\" fill-rule=\"evenodd\" fill-opacity=\"1\" /><path clip-path=\"url(#clip140)\" d=\"M 0 0 M99.8221 425.421 L107.461 425.421 L107.461 399.055 L99.1508 400.722 L99.1508 396.463 L107.415 394.796 L112.091 394.796 L112.091 425.421 L119.729 425.421 L119.729 429.356 L99.8221 429.356 L99.8221 425.421 Z\" fill=\"#000000\" fill-rule=\"evenodd\" fill-opacity=\"1\" /><path clip-path=\"url(#clip140)\" d=\"M 0 0 M134.799 397.875 Q131.188 397.875 129.359 401.44 Q127.553 404.981 127.553 412.111 Q127.553 419.217 129.359 422.782 Q131.188 426.324 134.799 426.324 Q138.433 426.324 140.239 422.782 Q142.067 419.217 142.067 412.111 Q142.067 404.981 140.239 401.44 Q138.433 397.875 134.799 397.875 M134.799 394.171 Q140.609 394.171 143.664 398.778 Q146.743 403.361 146.743 412.111 Q146.743 420.838 143.664 425.444 Q140.609 430.027 134.799 430.027 Q128.989 430.027 125.91 425.444 Q122.854 420.838 122.854 412.111 Q122.854 403.361 125.91 398.778 Q128.989 394.171 134.799 394.171 Z\" fill=\"#000000\" fill-rule=\"evenodd\" fill-opacity=\"1\" /><path clip-path=\"url(#clip140)\" d=\"M 0 0 M146.743 389.852 L156.881 389.852 L156.881 392.937 L146.743 392.937 L146.743 389.852 Z\" fill=\"#000000\" fill-rule=\"evenodd\" fill-opacity=\"1\" /><path clip-path=\"url(#clip140)\" d=\"M 0 0 M171.4 398.748 L177.607 398.748 L177.607 377.326 L170.855 378.681 L170.855 375.22 L177.569 373.866 L181.368 373.866 L181.368 398.748 L187.575 398.748 L187.575 401.946 L171.4 401.946 L171.4 398.748 Z\" fill=\"#000000\" fill-rule=\"evenodd\" fill-opacity=\"1\" /><path clip-path=\"url(#clip140)\" d=\"M 0 0 M121.244 314.194 L128.883 314.194 L128.883 287.828 L120.573 289.495 L120.573 285.236 L128.837 283.569 L133.513 283.569 L133.513 314.194 L141.151 314.194 L141.151 318.129 L121.244 318.129 L121.244 314.194 Z\" fill=\"#000000\" fill-rule=\"evenodd\" fill-opacity=\"1\" /><path clip-path=\"url(#clip140)\" d=\"M 0 0 M156.221 286.648 Q152.61 286.648 150.781 290.213 Q148.975 293.754 148.975 300.884 Q148.975 307.99 150.781 311.555 Q152.61 315.097 156.221 315.097 Q159.855 315.097 161.661 311.555 Q163.489 307.99 163.489 300.884 Q163.489 293.754 161.661 290.213 Q159.855 286.648 156.221 286.648 M156.221 282.944 Q162.031 282.944 165.086 287.551 Q168.165 292.134 168.165 300.884 Q168.165 309.611 165.086 314.217 Q162.031 318.8 156.221 318.8 Q150.411 318.8 147.332 314.217 Q144.276 309.611 144.276 300.884 Q144.276 292.134 147.332 287.551 Q150.411 282.944 156.221 282.944 Z\" fill=\"#000000\" fill-rule=\"evenodd\" fill-opacity=\"1\" /><path clip-path=\"url(#clip140)\" d=\"M 0 0 M177.87 265.14 Q174.936 265.14 173.45 268.037 Q171.983 270.914 171.983 276.707 Q171.983 282.481 173.45 285.377 Q174.936 288.255 177.87 288.255 Q180.823 288.255 182.29 285.377 Q183.776 282.481 183.776 276.707 Q183.776 270.914 182.29 268.037 Q180.823 265.14 177.87 265.14 M177.87 262.131 Q182.591 262.131 185.073 265.874 Q187.575 269.598 187.575 276.707 Q187.575 283.797 185.073 287.54 Q182.591 291.264 177.87 291.264 Q173.149 291.264 170.648 287.54 Q168.165 283.797 168.165 276.707 Q168.165 269.598 170.648 265.874 Q173.149 262.131 177.87 262.131 Z\" fill=\"#000000\" fill-rule=\"evenodd\" fill-opacity=\"1\" /><path clip-path=\"url(#clip140)\" d=\"M 0 0 M123.934 202.967 L131.572 202.967 L131.572 176.601 L123.262 178.268 L123.262 174.009 L131.526 172.342 L136.202 172.342 L136.202 202.967 L143.841 202.967 L143.841 206.902 L123.934 206.902 L123.934 202.967 Z\" fill=\"#000000\" fill-rule=\"evenodd\" fill-opacity=\"1\" /><path clip-path=\"url(#clip140)\" d=\"M 0 0 M158.91 175.421 Q155.299 175.421 153.471 178.986 Q151.665 182.527 151.665 189.657 Q151.665 196.763 153.471 200.328 Q155.299 203.87 158.91 203.87 Q162.545 203.87 164.35 200.328 Q166.179 196.763 166.179 189.657 Q166.179 182.527 164.35 178.986 Q162.545 175.421 158.91 175.421 M158.91 171.717 Q164.72 171.717 167.776 176.324 Q170.855 180.907 170.855 189.657 Q170.855 198.384 167.776 202.99 Q164.72 207.573 158.91 207.573 Q153.1 207.573 150.021 202.99 Q146.966 198.384 146.966 189.657 Q146.966 180.907 150.021 176.324 Q153.1 171.717 158.91 171.717 Z\" fill=\"#000000\" fill-rule=\"evenodd\" fill-opacity=\"1\" /><path clip-path=\"url(#clip140)\" d=\"M 0 0 M171.4 176.294 L177.607 176.294 L177.607 154.872 L170.855 156.226 L170.855 152.766 L177.569 151.412 L181.368 151.412 L181.368 176.294 L187.575 176.294 L187.575 179.492 L171.4 179.492 L171.4 176.294 Z\" fill=\"#000000\" fill-rule=\"evenodd\" fill-opacity=\"1\" /><path clip-path=\"url(#clip140)\" d=\"M 0 0 M311.724 12.096 L323.917 12.096 L339.351 53.2532 L354.866 12.096 L367.059 12.096 L367.059 72.576 L359.079 72.576 L359.079 19.4686 L343.483 60.9499 L335.259 60.9499 L319.663 19.4686 L319.663 72.576 L311.724 72.576 L311.724 12.096 Z\" fill=\"#000000\" fill-rule=\"evenodd\" fill-opacity=\"1\" /><path clip-path=\"url(#clip140)\" d=\"M 0 0 M413.685 48.0275 L413.685 51.6733 L379.414 51.6733 Q379.9 59.3701 384.032 63.421 Q388.205 67.4314 395.618 67.4314 Q399.912 67.4314 403.922 66.3781 Q407.973 65.3249 411.943 63.2184 L411.943 70.267 Q407.933 71.9684 403.72 72.8596 Q399.507 73.7508 395.172 73.7508 Q384.316 73.7508 377.956 67.4314 Q371.636 61.1119 371.636 50.3365 Q371.636 39.1965 377.632 32.6746 Q383.668 26.1121 393.876 26.1121 Q403.031 26.1121 408.338 32.0264 Q413.685 37.9003 413.685 48.0275 M406.231 45.84 Q406.15 39.7232 402.788 36.0774 Q399.466 32.4315 393.957 32.4315 Q387.719 32.4315 383.951 35.9558 Q380.224 39.4801 379.657 45.8805 L406.231 45.84 Z\" fill=\"#000000\" fill-rule=\"evenodd\" fill-opacity=\"1\" /><path clip-path=\"url(#clip140)\" d=\"M 0 0 M428.876 14.324 L428.876 27.2059 L444.229 27.2059 L444.229 32.9987 L428.876 32.9987 L428.876 57.6282 Q428.876 63.1779 430.375 64.7578 Q431.914 66.3376 436.572 66.3376 L444.229 66.3376 L444.229 72.576 L436.572 72.576 Q427.944 72.576 424.663 69.3758 Q421.382 66.1351 421.382 57.6282 L421.382 32.9987 L415.913 32.9987 L415.913 27.2059 L421.382 27.2059 L421.382 14.324 L428.876 14.324 Z\" fill=\"#000000\" fill-rule=\"evenodd\" fill-opacity=\"1\" /><path clip-path=\"url(#clip140)\" d=\"M 0 0 M489.761 45.1919 L489.761 72.576 L482.307 72.576 L482.307 45.4349 Q482.307 38.994 479.796 35.7938 Q477.284 32.5936 472.261 32.5936 Q466.225 32.5936 462.741 36.4419 Q459.257 40.2903 459.257 46.9338 L459.257 72.576 L451.763 72.576 L451.763 9.54393 L459.257 9.54393 L459.257 34.2544 Q461.931 30.163 465.536 28.1376 Q469.182 26.1121 473.922 26.1121 Q481.74 26.1121 485.75 30.9732 Q489.761 35.7938 489.761 45.1919 Z\" fill=\"#000000\" fill-rule=\"evenodd\" fill-opacity=\"1\" /><path clip-path=\"url(#clip140)\" d=\"M 0 0 M515.16 32.4315 Q509.165 32.4315 505.681 37.1306 Q502.197 41.7891 502.197 49.9314 Q502.197 58.0738 505.64 62.7728 Q509.124 67.4314 515.16 67.4314 Q521.115 67.4314 524.599 62.7323 Q528.082 58.0333 528.082 49.9314 Q528.082 41.8701 524.599 37.1711 Q521.115 32.4315 515.16 32.4315 M515.16 26.1121 Q524.882 26.1121 530.432 32.4315 Q535.982 38.7509 535.982 49.9314 Q535.982 61.0714 530.432 67.4314 Q524.882 73.7508 515.16 73.7508 Q505.397 73.7508 499.848 67.4314 Q494.338 61.0714 494.338 49.9314 Q494.338 38.7509 499.848 32.4315 Q505.397 26.1121 515.16 26.1121 Z\" fill=\"#000000\" fill-rule=\"evenodd\" fill-opacity=\"1\" /><path clip-path=\"url(#clip140)\" d=\"M 0 0 M573.655 34.0924 L573.655 9.54393 L581.109 9.54393 L581.109 72.576 L573.655 72.576 L573.655 65.7705 Q571.305 69.8214 567.7 71.8063 Q564.135 73.7508 559.112 73.7508 Q550.889 73.7508 545.704 67.1883 Q540.559 60.6258 540.559 49.9314 Q540.559 39.2371 545.704 32.6746 Q550.889 26.1121 559.112 26.1121 Q564.135 26.1121 567.7 28.0971 Q571.305 30.0415 573.655 34.0924 M548.256 49.9314 Q548.256 58.1548 551.618 62.8538 Q555.021 67.5124 560.935 67.5124 Q566.85 67.5124 570.252 62.8538 Q573.655 58.1548 573.655 49.9314 Q573.655 41.7081 570.252 37.0496 Q566.85 32.3505 560.935 32.3505 Q555.021 32.3505 551.618 37.0496 Q548.256 41.7081 548.256 49.9314 Z\" fill=\"#000000\" fill-rule=\"evenodd\" fill-opacity=\"1\" /><path clip-path=\"url(#clip140)\" d=\"M 0 0 M617.769 65.6895 L631.137 65.6895 L631.137 19.5497 L616.595 22.4663 L616.595 15.0127 L631.056 12.096 L639.239 12.096 L639.239 65.6895 L652.607 65.6895 L652.607 72.576 L617.769 72.576 L617.769 65.6895 Z\" fill=\"#000000\" fill-rule=\"evenodd\" fill-opacity=\"1\" /><polyline clip-path=\"url(#clip142)\" style=\"stroke:#009af9; stroke-width:4; stroke-opacity:1; fill:none\" points=\"\n",
       "  226.891,139.405 227.312,156.307 227.733,176.769 228.154,201.865 228.575,235.007 228.996,282.168 229.417,361.272 229.838,406.262 230.258,321.475 230.679,279.157 \n",
       "  231.1,406.262 231.521,255.977 231.942,261.05 232.363,266.737 232.784,272.793 233.205,278.343 233.626,285.128 234.046,292.122 234.467,299.394 234.888,307.02 \n",
       "  235.309,315.208 235.73,324.068 236.151,333.314 236.572,343.014 236.993,353.301 237.414,364.275 237.835,375.403 238.255,386.784 238.676,397.823 239.097,408.073 \n",
       "  239.518,416.708 239.939,422.938 240.36,426.313 240.781,426.887 241.202,425.248 241.623,422.198 242.044,418.474 242.464,414.619 242.885,411.055 243.306,407.972 \n",
       "  243.727,405.434 244.148,403.509 244.569,402.187 244.99,401.554 245.411,401.416 245.832,401.815 246.253,402.716 246.673,403.991 247.094,405.697 247.515,407.729 \n",
       "  247.936,409.98 248.357,412.381 248.778,414.89 249.199,417.44 249.62,419.887 250.041,422.199 250.461,424.288 250.882,426.109 251.303,427.609 251.724,428.809 \n",
       "  252.145,429.669 252.566,430.243 252.987,430.559 253.408,430.671 253.829,430.63 254.25,430.491 254.67,430.29 255.091,430.092 255.512,429.918 255.933,429.792 \n",
       "  256.354,429.739 256.775,429.746 257.196,429.851 257.617,430.036 258.038,430.293 258.459,430.589 258.879,430.948 259.3,431.335 259.721,431.745 260.142,432.162 \n",
       "  260.563,432.551 260.984,432.956 261.405,433.322 261.826,433.655 262.247,433.958 262.667,434.23 263.088,434.473 263.509,434.687 263.93,434.882 264.351,435.046 \n",
       "  264.772,435.203 265.193,435.351 265.614,435.51 266.035,435.649 266.456,435.83 266.876,435.975 267.297,436.168 267.718,436.342 268.139,436.542 268.56,436.739 \n",
       "  268.981,436.955 269.402,437.182 269.823,437.393 270.244,437.624 270.665,437.822 271.085,438.063 271.506,438.282 271.927,438.503 272.348,438.719 272.769,438.933 \n",
       "  273.19,439.15 273.611,439.354 274.032,439.585 274.453,439.769 274.874,439.967 275.294,440.181 275.715,440.389 276.136,440.598 276.557,440.821 276.978,441.029 \n",
       "  277.399,441.237 277.82,441.468 278.241,441.685 278.662,441.908 279.082,442.126 279.503,442.351 279.924,442.584 280.345,442.798 280.766,443.032 281.187,443.267 \n",
       "  281.608,443.49 282.029,443.726 282.45,443.951 282.871,444.183 283.291,444.413 283.712,444.635 284.133,444.882 284.554,445.096 284.975,445.334 285.396,445.588 \n",
       "  285.817,445.819 286.238,446.054 286.659,446.295 287.08,446.534 287.5,446.782 287.921,447.017 288.342,447.253 288.763,447.507 289.184,447.748 289.605,447.999 \n",
       "  290.026,448.243 290.447,448.493 290.868,448.739 291.288,448.987 291.709,449.241 292.13,449.47 292.551,449.74 292.972,449.993 293.393,450.239 293.814,450.5 \n",
       "  294.235,450.761 294.656,451.005 295.077,451.272 295.497,451.53 295.918,451.791 296.339,452.056 296.76,452.315 297.181,452.575 297.602,452.853 298.023,453.095 \n",
       "  298.444,453.374 298.865,453.632 299.286,453.883 299.706,454.177 300.127,454.44 300.548,454.702 300.969,454.973 301.39,455.245 301.811,455.516 302.232,455.788 \n",
       "  302.653,456.067 303.074,456.336 303.495,456.611 303.915,456.891 304.336,457.158 304.757,457.443 305.178,457.702 305.599,458.001 306.02,458.282 306.441,458.562 \n",
       "  306.862,458.85 307.283,459.128 307.703,459.414 308.124,459.695 308.545,459.982 308.966,460.268 309.387,460.556 309.808,460.823 310.229,461.136 310.65,461.415 \n",
       "  311.071,461.713 311.492,462.013 311.912,462.3 312.333,462.588 312.754,462.882 313.175,463.182 313.596,463.469 314.017,463.769 314.438,464.074 314.859,464.363 \n",
       "  315.28,464.666 315.701,464.966 316.121,465.262 316.542,465.563 316.963,465.864 317.384,466.165 317.805,466.461 318.226,466.776 318.647,467.079 319.068,467.406 \n",
       "  319.489,467.691 319.91,468.002 320.33,468.303 320.751,468.618 321.172,468.911 321.593,469.234 322.014,469.535 322.435,469.859 322.856,470.17 323.277,470.484 \n",
       "  323.698,470.798 324.118,471.115 324.539,471.428 324.96,471.747 325.381,472.049 325.802,472.374 326.223,472.699 326.644,473.018 327.065,473.32 327.486,473.663 \n",
       "  327.907,473.973 328.327,474.308 328.748,474.626 329.169,474.954 329.59,475.275 330.011,475.591 330.432,475.928 330.853,476.254 331.274,476.581 331.695,476.912 \n",
       "  332.116,477.243 332.536,477.569 332.957,477.9 333.378,478.231 333.799,478.561 334.22,478.894 334.641,479.228 335.062,479.556 335.483,479.897 335.904,480.232 \n",
       "  336.324,480.564 336.745,480.905 337.166,481.245 337.587,481.582 338.008,481.921 338.429,482.259 338.85,482.6 339.271,482.94 339.692,483.283 340.113,483.625 \n",
       "  340.533,483.966 340.954,484.31 341.375,484.662 341.796,485.01 342.217,485.348 342.638,485.69 343.059,486.05 343.48,486.389 343.901,486.736 344.322,487.079 \n",
       "  344.742,487.438 345.163,487.785 345.584,488.133 346.005,488.496 346.426,488.844 346.847,489.198 347.268,489.546 347.689,489.902 348.11,490.254 348.531,490.612 \n",
       "  348.951,490.968 349.372,491.327 349.793,491.682 350.214,492.03 350.635,492.401 351.056,492.766 351.477,493.107 351.898,493.48 352.319,493.85 352.739,494.204 \n",
       "  353.16,494.565 353.581,494.921 354.002,495.289 354.423,495.654 354.844,496.022 355.265,496.374 355.686,496.75 356.107,497.116 356.528,497.484 356.948,497.852 \n",
       "  357.369,498.223 357.79,498.587 358.211,498.965 358.632,499.334 359.053,499.703 359.474,500.079 359.895,500.444 360.316,500.815 360.737,501.185 361.157,501.561 \n",
       "  361.578,501.934 361.999,502.307 362.42,502.684 362.841,503.059 363.262,503.433 363.683,503.811 364.104,504.192 364.525,504.566 364.945,504.944 365.366,505.325 \n",
       "  365.787,505.704 366.208,506.081 366.629,506.462 367.05,506.835 367.471,507.227 367.892,507.605 368.313,507.99 368.734,508.372 369.154,508.75 369.575,509.147 \n",
       "  369.996,509.523 370.417,509.908 370.838,510.293 371.259,510.677 371.68,511.073 372.101,511.459 372.522,511.834 372.943,512.224 373.363,512.613 373.784,513.003 \n",
       "  374.205,513.392 374.626,513.789 375.047,514.168 375.468,514.561 375.889,514.951 376.31,515.337 376.731,515.734 377.152,516.119 377.572,516.507 377.993,516.911 \n",
       "  378.414,517.303 378.835,517.697 379.256,518.09 379.677,518.487 380.098,518.885 380.519,519.274 380.94,519.677 381.36,520.066 381.781,520.462 382.202,520.859 \n",
       "  382.623,521.255 383.044,521.644 383.465,522.049 383.886,522.45 384.307,522.845 384.728,523.242 385.149,523.641 385.569,524.043 385.99,524.447 386.411,524.843 \n",
       "  386.832,525.249 387.253,525.643 387.674,526.05 388.095,526.447 388.516,526.852 388.937,527.247 389.358,527.65 389.778,528.058 390.199,528.475 390.62,528.863 \n",
       "  391.041,529.261 391.462,529.663 391.883,530.068 392.304,530.467 392.725,530.871 393.146,531.28 393.567,531.682 393.987,532.093 394.408,532.493 394.829,532.903 \n",
       "  395.25,533.304 395.671,533.712 396.092,534.116 396.513,534.521 396.934,534.926 397.355,535.337 397.775,535.736 398.196,536.148 398.617,536.553 399.038,536.962 \n",
       "  399.459,537.373 399.88,537.373 400.301,537.772 400.722,538.389 401.143,539.002 401.564,539.615 401.984,540.24 402.405,540.863 402.826,541.492 403.247,542.12 \n",
       "  403.668,542.75 404.089,543.385 404.51,544.018 404.931,544.658 405.352,545.298 405.773,545.942 406.193,546.584 406.614,547.228 407.035,547.885 407.456,548.526 \n",
       "  407.877,549.181 408.298,549.838 408.719,550.493 409.14,551.142 409.561,551.806 409.981,552.453 410.402,553.117 410.823,553.771 411.244,554.436 411.665,555.097 \n",
       "  412.086,555.761 412.507,556.432 412.928,557.082 413.349,557.744 413.77,558.419 414.19,559.084 414.611,559.736 415.032,560.405 415.453,561.074 415.874,561.728 \n",
       "  416.295,562.394 416.716,563.061 417.137,563.717 417.558,564.394 417.979,565.04 418.399,565.71 418.82,566.365 419.241,567.019 419.662,567.687 420.083,568.341 \n",
       "  420.504,569.005 420.925,569.655 421.346,570.308 421.767,570.956 422.188,571.618 422.608,572.259 423.029,572.909 423.45,573.56 423.871,574.202 424.292,574.842 \n",
       "  424.713,575.481 425.134,576.117 425.555,576.756 425.976,577.397 426.396,578.025 426.817,578.658 427.238,579.292 427.659,579.908 428.08,580.537 428.501,581.147 \n",
       "  428.922,581.775 429.343,582.378 429.764,582.991 430.185,583.592 430.605,584.208 431.026,584.815 431.447,585.408 431.868,586.001 432.289,586.6 432.71,587.19 \n",
       "  433.131,587.77 433.552,588.357 433.973,588.939 434.394,589.518 434.814,590.085 435.235,590.684 435.656,591.215 436.077,591.811 436.498,592.343 436.919,592.905 \n",
       "  437.34,593.451 437.761,593.999 438.182,594.539 438.602,595.068 439.023,595.631 439.444,596.134 439.865,596.668 440.286,597.164 440.707,597.699 441.128,598.219 \n",
       "  441.549,598.746 441.97,599.24 442.391,599.705 442.811,600.21 443.232,600.733 443.653,601.191 444.074,601.656 444.495,602.145 444.916,602.62 445.337,603.087 \n",
       "  445.758,603.549 446.179,604.009 446.6,604.466 447.02,604.91 447.441,605.368 447.862,605.81 448.283,606.232 448.704,606.67 449.125,607.1 449.546,607.522 \n",
       "  449.967,607.93 450.388,608.364 450.809,608.78 451.229,609.167 451.65,609.55 452.071,609.949 452.492,610.342 452.913,610.737 453.334,611.092 453.755,611.491 \n",
       "  454.176,611.843 454.597,612.222 455.017,612.575 455.438,612.966 455.859,613.3 456.28,613.649 456.701,614.013 457.122,614.327 457.543,614.674 457.964,615.004 \n",
       "  458.385,615.322 458.806,615.661 459.226,615.983 459.647,616.289 460.068,616.624 460.489,616.927 460.91,617.21 461.331,617.513 461.752,617.823 462.173,618.107 \n",
       "  462.594,618.395 463.015,618.679 463.435,618.962 463.856,619.26 464.277,619.522 464.698,619.798 465.119,620.062 465.54,620.335 465.961,620.591 466.382,620.845 \n",
       "  466.803,621.106 467.224,621.361 467.644,621.6 468.065,621.834 468.486,622.093 468.907,622.313 469.328,622.564 469.749,622.799 470.17,623.029 470.591,623.263 \n",
       "  471.012,623.486 471.432,623.691 471.853,623.91 472.274,624.126 472.695,624.359 473.116,624.557 473.537,624.773 473.958,624.979 474.379,625.196 474.8,625.396 \n",
       "  475.221,625.589 475.641,625.795 476.062,625.982 476.483,626.163 476.904,626.354 477.325,626.556 477.746,626.733 478.167,626.93 478.588,627.113 479.009,627.29 \n",
       "  479.43,627.468 479.85,627.657 480.271,627.835 480.692,628.004 481.113,628.183 481.534,628.35 481.955,628.521 482.376,628.69 482.797,628.857 483.218,629.024 \n",
       "  483.638,629.183 484.059,629.35 484.48,629.519 484.901,629.661 485.322,629.837 485.743,629.995 486.164,630.143 486.585,630.316 487.006,630.464 487.427,630.605 \n",
       "  487.847,630.756 488.268,630.912 488.689,631.051 489.11,631.221 489.531,631.377 489.952,631.513 490.373,631.646 490.794,631.806 491.215,631.957 491.636,632.088 \n",
       "  492.056,632.227 492.477,632.386 492.898,632.527 493.319,632.664 493.74,632.791 494.161,632.938 494.582,633.09 495.003,633.218 495.424,633.362 495.845,633.499 \n",
       "  496.265,633.638 496.686,633.763 497.107,633.901 497.528,634.045 497.949,634.222 498.37,634.308 498.791,634.431 499.212,634.572 499.633,634.717 500.053,634.819 \n",
       "  500.474,634.97 500.895,635.107 501.316,635.241 501.737,635.362 502.158,635.506 502.579,635.628 503,635.765 503.421,635.884 503.842,636.025 504.262,636.158 \n",
       "  504.683,636.293 505.104,636.387 505.525,636.531 505.946,636.668 506.367,636.799 506.788,636.933 507.209,637.027 507.63,637.17 508.051,637.31 508.471,637.438 \n",
       "  508.892,637.554 509.313,637.684 509.734,637.804 510.155,637.938 510.576,638.059 510.997,638.19 511.418,638.314 511.839,638.442 512.259,638.562 512.68,638.703 \n",
       "  513.101,638.792 513.522,638.947 513.943,639.075 514.364,639.199 514.785,639.31 515.206,639.454 515.627,639.564 516.048,639.71 516.468,639.804 516.889,639.937 \n",
       "  517.31,640.063 517.731,640.191 518.152,640.315 518.573,640.448 518.994,640.571 519.415,640.697 519.836,640.81 520.257,640.937 520.677,641.07 521.098,641.212 \n",
       "  521.519,641.328 521.94,641.433 522.361,641.561 522.782,641.702 523.203,641.804 523.624,641.936 524.045,642.075 524.466,642.179 524.886,642.319 525.307,642.429 \n",
       "  525.728,642.555 526.149,642.673 526.57,642.799 526.991,642.93 527.412,643.047 527.833,643.147 528.254,643.308 528.674,643.426 529.095,643.567 529.516,643.675 \n",
       "  529.937,643.811 530.358,643.93 530.779,644.056 531.2,644.15 531.621,644.316 532.042,644.421 532.463,644.562 532.883,644.66 533.304,644.789 533.725,644.923 \n",
       "  534.146,645.044 534.567,645.169 534.988,645.292 535.409,645.415 535.83,645.539 536.251,645.667 536.672,645.753 537.092,645.923 537.513,646.035 537.934,646.165 \n",
       "  538.355,646.284 538.776,646.412 539.197,646.549 539.618,646.658 540.039,646.792 540.46,646.912 540.88,647.046 541.301,647.171 541.722,647.278 542.143,647.412 \n",
       "  542.564,647.538 542.985,647.666 543.406,647.788 543.827,647.913 544.248,648.039 544.669,648.173 545.089,648.291 545.51,648.415 545.931,648.541 546.352,648.67 \n",
       "  546.773,648.795 547.194,648.916 547.615,649.041 548.036,649.173 548.457,649.293 548.878,649.42 549.298,649.546 549.719,649.676 550.14,649.81 550.561,649.981 \n",
       "  550.982,650.047 551.403,650.174 551.824,650.301 552.245,650.425 552.666,650.557 553.087,650.715 553.507,650.803 553.928,650.922 554.349,651.063 554.77,651.183 \n",
       "  555.191,651.315 555.612,651.435 556.033,651.563 556.454,651.699 556.875,651.819 557.295,651.94 557.716,652.069 558.137,652.202 558.558,652.323 558.979,652.458 \n",
       "  559.4,652.582 559.821,652.702 560.242,652.814 560.663,652.962 561.084,653.078 561.504,653.214 561.925,653.339 562.346,653.461 562.767,653.588 563.188,653.719 \n",
       "  563.609,653.841 564.03,653.97 564.451,654.098 564.872,654.233 565.293,654.344 565.713,654.481 566.134,654.615 566.555,654.73 566.976,654.856 567.397,654.985 \n",
       "  567.818,655.11 568.239,655.252 568.66,655.252 569.081,655.357 569.502,655.41 569.922,655.441 570.343,655.485 570.764,655.516 571.185,655.547 571.606,655.592 \n",
       "  572.027,655.597 572.448,655.674 572.869,655.715 573.29,655.756 573.71,655.781 574.131,655.825 574.552,655.858 574.973,655.96 575.394,655.94 575.815,655.967 \n",
       "  576.236,656.01 576.657,656.046 577.078,656.09 577.499,656.131 577.919,656.166 578.34,656.208 578.761,656.233 579.182,656.272 579.603,656.318 580.024,656.339 \n",
       "  580.445,656.39 580.866,656.42 581.287,656.462 581.708,656.499 582.128,656.542 582.549,656.574 582.97,656.611 583.391,656.65 583.812,656.654 584.233,656.74 \n",
       "  584.654,656.769 585.075,656.811 585.496,656.846 585.916,656.877 586.337,656.887 586.758,656.955 587.179,656.998 587.6,657.037 588.021,657.134 588.442,657.119 \n",
       "  588.863,657.144 589.284,657.192 589.705,657.233 590.125,657.265 590.546,657.298 590.967,657.335 591.388,657.379 591.809,657.419 592.23,657.453 592.651,657.49 \n",
       "  593.072,657.526 593.493,657.565 593.914,657.596 594.334,657.638 594.755,657.71 595.176,657.726 595.597,657.76 596.018,657.79 596.439,657.835 596.86,657.866 \n",
       "  597.281,657.911 597.702,657.971 598.123,657.985 598.543,658.012 598.964,658.062 599.385,658.099 599.806,658.14 600.227,658.183 600.648,658.273 601.069,658.239 \n",
       "  601.49,658.275 601.911,658.318 602.331,658.36 602.752,658.393 603.173,658.437 603.594,658.473 604.015,658.519 604.436,658.553 604.857,658.585 605.278,658.628 \n",
       "  605.699,658.668 606.12,658.731 606.54,658.74 606.961,658.78 607.382,658.822 607.803,658.862 608.224,658.893 608.645,658.93 609.066,658.966 609.487,658.995 \n",
       "  609.908,659.066 610.329,659.095 610.749,659.124 611.17,659.145 611.591,659.197 612.012,659.227 612.433,659.269 612.854,659.328 613.275,659.338 613.696,659.383 \n",
       "  614.117,659.423 614.537,659.457 614.958,659.494 615.379,659.54 615.8,659.568 616.221,659.615 616.642,659.682 617.063,659.682 617.484,659.723 617.905,659.76 \n",
       "  618.326,659.789 618.746,659.833 619.167,659.873 619.588,659.918 620.009,659.956 620.43,659.977 620.851,660.032 621.272,660.069 621.693,660.105 622.114,660.137 \n",
       "  622.535,660.166 622.955,660.222 623.376,660.246 623.797,660.287 624.218,660.335 624.639,660.337 625.06,660.393 625.481,660.449 625.902,660.468 626.323,660.528 \n",
       "  626.744,660.563 627.164,660.614 627.585,660.603 628.006,660.661 628.427,660.695 628.848,660.744 629.269,660.786 629.69,660.814 630.111,660.846 630.532,660.913 \n",
       "  630.952,660.942 631.373,660.969 631.794,661.012 632.215,661.052 632.636,661.091 633.057,661.126 633.478,661.159 633.899,661.202 634.32,661.208 634.741,661.278 \n",
       "  635.161,661.316 635.582,661.354 636.003,661.395 636.424,661.429 636.845,661.469 637.266,661.507 637.687,661.551 638.108,661.585 638.529,661.626 638.95,661.659 \n",
       "  639.37,661.704 639.791,661.734 640.212,661.774 640.633,661.812 641.054,661.846 641.475,661.882 641.896,661.922 642.317,661.965 642.738,661.966 643.159,662.08 \n",
       "  643.579,662.078 644,662.115 644.421,662.153 644.842,662.192 645.263,662.23 645.684,662.266 646.105,662.306 646.526,662.342 646.947,662.425 647.367,662.413 \n",
       "  647.788,662.456 648.209,662.456 648.63,662.517 649.051,662.552 649.472,662.61 649.893,662.642 650.314,662.667 650.735,662.718 651.156,662.752 651.576,662.798 \n",
       "  651.997,662.825 652.418,662.87 652.839,662.911 653.26,662.952 653.681,662.993 654.102,663.02 654.523,663.048 654.944,663.098 655.365,663.124 655.785,663.164 \n",
       "  656.206,663.199 656.627,663.245 657.048,663.291 657.469,663.32 657.89,663.351 658.311,663.404 658.732,663.434 659.153,663.482 659.573,663.518 659.994,663.555 \n",
       "  660.415,663.587 660.836,663.62 661.257,663.673 661.678,663.71 662.099,663.74 662.52,663.828 662.941,663.824 663.362,663.862 663.782,663.893 664.203,663.929 \n",
       "  664.624,663.975 665.045,664.003 665.466,664.054 665.887,664.089 666.308,664.134 666.729,664.167 667.15,664.205 667.571,664.243 667.991,664.261 668.412,664.304 \n",
       "  668.833,664.357 669.254,664.395 669.675,664.426 670.096,664.452 670.517,664.508 670.938,664.545 671.359,664.578 671.78,664.619 672.2,664.662 672.621,664.699 \n",
       "  673.042,664.735 673.463,664.788 673.884,664.812 674.305,664.852 674.726,664.889 675.147,664.917 675.568,664.959 675.988,664.992 676.409,665.031 676.83,665.079 \n",
       "  677.251,665.113 677.672,665.152 678.093,665.189 678.514,665.23 678.935,665.276 679.356,665.306 679.777,665.357 680.197,665.368 680.618,665.42 681.039,665.456 \n",
       "  681.46,665.499 681.881,665.535 682.302,665.573 682.723,665.615 683.144,665.656 683.565,665.672 683.986,665.733 684.406,665.76 684.827,665.798 685.248,665.835 \n",
       "  685.669,665.88 686.09,665.867 686.511,665.949 686.932,666.011 687.353,666.034 687.774,666.06 688.194,666.124 688.615,666.115 689.036,666.185 689.457,666.224 \n",
       "  689.878,666.301 690.299,666.295 690.72,666.36 691.141,666.373 691.562,666.43 691.983,666.45 692.403,666.485 692.824,666.527 693.245,666.556 693.666,666.6 \n",
       "  694.087,666.627 694.508,666.676 694.929,666.711 695.35,666.773 695.771,666.78 696.192,666.836 696.612,666.868 697.033,666.906 697.454,666.945 697.875,666.979 \n",
       "  698.296,667.014 698.717,667.075 699.138,667.089 699.559,667.14 699.98,667.193 700.401,667.191 700.821,667.246 701.242,667.275 701.663,667.343 702.084,667.36 \n",
       "  702.505,667.403 702.926,667.439 703.347,667.466 703.768,667.504 704.189,667.551 704.609,667.58 705.03,667.617 705.451,667.666 705.872,667.66 706.293,667.736 \n",
       "  706.714,667.78 707.135,667.823 707.556,667.851 707.977,667.897 708.398,667.923 708.818,667.982 709.239,667.996 709.66,668.035 710.081,668.076 710.502,668.12 \n",
       "  710.923,668.147 711.344,668.192 711.765,668.23 712.186,668.278 712.607,668.304 713.027,668.347 713.448,668.401 713.869,668.418 714.29,668.457 714.711,668.501 \n",
       "  715.132,668.487 715.553,668.568 715.974,668.611 716.395,668.648 716.815,668.671 717.236,668.726 717.657,668.764 718.078,668.811 718.499,668.84 718.92,668.886 \n",
       "  719.341,668.885 719.762,668.929 720.183,668.992 720.604,669.031 721.024,669.069 721.445,669.108 721.866,669.147 722.287,669.183 722.708,669.225 723.129,669.267 \n",
       "  723.55,669.246 723.971,669.336 724.392,669.372 724.813,669.403 725.233,669.447 725.654,669.488 726.075,669.526 726.496,669.558 726.917,669.606 727.338,669.64 \n",
       "  727.759,669.677 728.18,669.713 728.601,669.739 729.022,669.783 729.442,669.821 729.863,669.865 730.284,669.906 730.705,669.942 731.126,669.98 731.547,670.022 \n",
       "  731.968,670.055 732.389,670.086 732.81,670.133 733.23,670.164 733.651,670.211 734.072,670.256 734.493,670.293 734.914,670.324 735.335,670.363 735.756,670.4 \n",
       "  736.177,670.433 736.598,670.465 737.019,670.515 737.439,670.515 \n",
       "  \"/>\n",
       "<path clip-path=\"url(#clip140)\" d=\"\n",
       "M389.738 327.952 L680.756 327.952 L680.756 206.992 L389.738 206.992  Z\n",
       "  \" fill=\"#ffffff\" fill-rule=\"evenodd\" fill-opacity=\"1\"/>\n",
       "<polyline clip-path=\"url(#clip140)\" style=\"stroke:#000000; stroke-width:4; stroke-opacity:1; fill:none\" points=\"\n",
       "  389.738,327.952 680.756,327.952 680.756,206.992 389.738,206.992 389.738,327.952 \n",
       "  \"/>\n",
       "<polyline clip-path=\"url(#clip140)\" style=\"stroke:#009af9; stroke-width:4; stroke-opacity:1; fill:none\" points=\"\n",
       "  413.738,267.472 557.738,267.472 \n",
       "  \"/>\n",
       "<path clip-path=\"url(#clip140)\" d=\"M 0 0 M595.58 287.16 Q593.775 291.789 592.062 293.201 Q590.349 294.613 587.478 294.613 L584.076 294.613 L584.076 291.048 L586.576 291.048 Q588.335 291.048 589.307 290.215 Q590.279 289.382 591.46 286.28 L592.224 284.335 L581.738 258.826 L586.252 258.826 L594.353 279.104 L602.455 258.826 L606.969 258.826 L595.58 287.16 Z\" fill=\"#000000\" fill-rule=\"evenodd\" fill-opacity=\"1\" /><path clip-path=\"url(#clip140)\" d=\"M 0 0 M612.849 280.817 L620.487 280.817 L620.487 254.451 L612.177 256.118 L612.177 251.859 L620.441 250.192 L625.117 250.192 L625.117 280.817 L632.756 280.817 L632.756 284.752 L612.849 284.752 L612.849 280.817 Z\" fill=\"#000000\" fill-rule=\"evenodd\" fill-opacity=\"1\" /><path clip-path=\"url(#clip140)\" d=\"\n",
       "M1010.44 686.448 L1552.76 686.448 L1552.76 123.472 L1010.44 123.472  Z\n",
       "  \" fill=\"#ffffff\" fill-rule=\"evenodd\" fill-opacity=\"1\"/>\n",
       "<defs>\n",
       "  <clipPath id=\"clip143\">\n",
       "    <rect x=\"1010\" y=\"123\" width=\"543\" height=\"564\"/>\n",
       "  </clipPath>\n",
       "</defs>\n",
       "<polyline clip-path=\"url(#clip143)\" style=\"stroke:#000000; stroke-width:2; stroke-opacity:0.1; fill:none\" points=\"\n",
       "  1025.37,686.448 1025.37,123.472 \n",
       "  \"/>\n",
       "<polyline clip-path=\"url(#clip143)\" style=\"stroke:#000000; stroke-width:2; stroke-opacity:0.1; fill:none\" points=\"\n",
       "  1130.99,686.448 1130.99,123.472 \n",
       "  \"/>\n",
       "<polyline clip-path=\"url(#clip143)\" style=\"stroke:#000000; stroke-width:2; stroke-opacity:0.1; fill:none\" points=\"\n",
       "  1236.6,686.448 1236.6,123.472 \n",
       "  \"/>\n",
       "<polyline clip-path=\"url(#clip143)\" style=\"stroke:#000000; stroke-width:2; stroke-opacity:0.1; fill:none\" points=\"\n",
       "  1342.22,686.448 1342.22,123.472 \n",
       "  \"/>\n",
       "<polyline clip-path=\"url(#clip143)\" style=\"stroke:#000000; stroke-width:2; stroke-opacity:0.1; fill:none\" points=\"\n",
       "  1447.84,686.448 1447.84,123.472 \n",
       "  \"/>\n",
       "<polyline clip-path=\"url(#clip143)\" style=\"stroke:#000000; stroke-width:2; stroke-opacity:0.1; fill:none\" points=\"\n",
       "  1010.44,642.031 1552.76,642.031 \n",
       "  \"/>\n",
       "<polyline clip-path=\"url(#clip143)\" style=\"stroke:#000000; stroke-width:2; stroke-opacity:0.1; fill:none\" points=\"\n",
       "  1010.44,527.629 1552.76,527.629 \n",
       "  \"/>\n",
       "<polyline clip-path=\"url(#clip143)\" style=\"stroke:#000000; stroke-width:2; stroke-opacity:0.1; fill:none\" points=\"\n",
       "  1010.44,413.227 1552.76,413.227 \n",
       "  \"/>\n",
       "<polyline clip-path=\"url(#clip143)\" style=\"stroke:#000000; stroke-width:2; stroke-opacity:0.1; fill:none\" points=\"\n",
       "  1010.44,298.826 1552.76,298.826 \n",
       "  \"/>\n",
       "<polyline clip-path=\"url(#clip143)\" style=\"stroke:#000000; stroke-width:2; stroke-opacity:0.1; fill:none\" points=\"\n",
       "  1010.44,184.424 1552.76,184.424 \n",
       "  \"/>\n",
       "<polyline clip-path=\"url(#clip140)\" style=\"stroke:#000000; stroke-width:4; stroke-opacity:1; fill:none\" points=\"\n",
       "  1010.44,686.448 1552.76,686.448 \n",
       "  \"/>\n",
       "<polyline clip-path=\"url(#clip140)\" style=\"stroke:#000000; stroke-width:4; stroke-opacity:1; fill:none\" points=\"\n",
       "  1010.44,686.448 1010.44,123.472 \n",
       "  \"/>\n",
       "<polyline clip-path=\"url(#clip140)\" style=\"stroke:#000000; stroke-width:4; stroke-opacity:1; fill:none\" points=\"\n",
       "  1025.37,686.448 1025.37,679.692 \n",
       "  \"/>\n",
       "<polyline clip-path=\"url(#clip140)\" style=\"stroke:#000000; stroke-width:4; stroke-opacity:1; fill:none\" points=\"\n",
       "  1130.99,686.448 1130.99,679.692 \n",
       "  \"/>\n",
       "<polyline clip-path=\"url(#clip140)\" style=\"stroke:#000000; stroke-width:4; stroke-opacity:1; fill:none\" points=\"\n",
       "  1236.6,686.448 1236.6,679.692 \n",
       "  \"/>\n",
       "<polyline clip-path=\"url(#clip140)\" style=\"stroke:#000000; stroke-width:4; stroke-opacity:1; fill:none\" points=\"\n",
       "  1342.22,686.448 1342.22,679.692 \n",
       "  \"/>\n",
       "<polyline clip-path=\"url(#clip140)\" style=\"stroke:#000000; stroke-width:4; stroke-opacity:1; fill:none\" points=\"\n",
       "  1447.84,686.448 1447.84,679.692 \n",
       "  \"/>\n",
       "<polyline clip-path=\"url(#clip140)\" style=\"stroke:#000000; stroke-width:4; stroke-opacity:1; fill:none\" points=\"\n",
       "  1010.44,642.031 1016.95,642.031 \n",
       "  \"/>\n",
       "<polyline clip-path=\"url(#clip140)\" style=\"stroke:#000000; stroke-width:4; stroke-opacity:1; fill:none\" points=\"\n",
       "  1010.44,527.629 1016.95,527.629 \n",
       "  \"/>\n",
       "<polyline clip-path=\"url(#clip140)\" style=\"stroke:#000000; stroke-width:4; stroke-opacity:1; fill:none\" points=\"\n",
       "  1010.44,413.227 1016.95,413.227 \n",
       "  \"/>\n",
       "<polyline clip-path=\"url(#clip140)\" style=\"stroke:#000000; stroke-width:4; stroke-opacity:1; fill:none\" points=\"\n",
       "  1010.44,298.826 1016.95,298.826 \n",
       "  \"/>\n",
       "<polyline clip-path=\"url(#clip140)\" style=\"stroke:#000000; stroke-width:4; stroke-opacity:1; fill:none\" points=\"\n",
       "  1010.44,184.424 1016.95,184.424 \n",
       "  \"/>\n",
       "<path clip-path=\"url(#clip140)\" d=\"M 0 0 M1025.37 708.439 Q1021.76 708.439 1019.93 712.003 Q1018.12 715.545 1018.12 722.675 Q1018.12 729.781 1019.93 733.346 Q1021.76 736.887 1025.37 736.887 Q1029 736.887 1030.81 733.346 Q1032.64 729.781 1032.64 722.675 Q1032.64 715.545 1030.81 712.003 Q1029 708.439 1025.37 708.439 M1025.37 704.735 Q1031.18 704.735 1034.23 709.341 Q1037.31 713.925 1037.31 722.675 Q1037.31 731.401 1034.23 736.008 Q1031.18 740.591 1025.37 740.591 Q1019.56 740.591 1016.48 736.008 Q1013.42 731.401 1013.42 722.675 Q1013.42 713.925 1016.48 709.341 Q1019.56 704.735 1025.37 704.735 Z\" fill=\"#000000\" fill-rule=\"evenodd\" fill-opacity=\"1\" /><path clip-path=\"url(#clip140)\" d=\"M 0 0 M1099.12 735.985 L1115.44 735.985 L1115.44 739.92 L1093.5 739.92 L1093.5 735.985 Q1096.16 733.23 1100.74 728.6 Q1105.35 723.948 1106.53 722.605 Q1108.78 720.082 1109.65 718.346 Q1110.56 716.587 1110.56 714.897 Q1110.56 712.142 1108.61 710.406 Q1106.69 708.67 1103.59 708.67 Q1101.39 708.67 1098.94 709.434 Q1096.51 710.198 1093.73 711.749 L1093.73 707.027 Q1096.55 705.892 1099.01 705.314 Q1101.46 704.735 1103.5 704.735 Q1108.87 704.735 1112.06 707.42 Q1115.26 710.105 1115.26 714.596 Q1115.26 716.726 1114.45 718.647 Q1113.66 720.545 1111.55 723.138 Q1110.97 723.809 1107.87 727.026 Q1104.77 730.221 1099.12 735.985 Z\" fill=\"#000000\" fill-rule=\"evenodd\" fill-opacity=\"1\" /><path clip-path=\"url(#clip140)\" d=\"M 0 0 M1120.56 705.36 L1138.91 705.36 L1138.91 709.295 L1124.84 709.295 L1124.84 717.767 Q1125.86 717.42 1126.88 717.258 Q1127.9 717.073 1128.91 717.073 Q1134.7 717.073 1138.08 720.244 Q1141.46 723.415 1141.46 728.832 Q1141.46 734.411 1137.99 737.512 Q1134.52 740.591 1128.2 740.591 Q1126.02 740.591 1123.75 740.221 Q1121.51 739.85 1119.1 739.11 L1119.1 734.411 Q1121.18 735.545 1123.4 736.1 Q1125.63 736.656 1128.1 736.656 Q1132.11 736.656 1134.45 734.55 Q1136.78 732.443 1136.78 728.832 Q1136.78 725.221 1134.45 723.114 Q1132.11 721.008 1128.1 721.008 Q1126.23 721.008 1124.35 721.425 Q1122.5 721.841 1120.56 722.721 L1120.56 705.36 Z\" fill=\"#000000\" fill-rule=\"evenodd\" fill-opacity=\"1\" /><path clip-path=\"url(#clip140)\" d=\"M 0 0 M1156.53 708.439 Q1152.92 708.439 1151.09 712.003 Q1149.28 715.545 1149.28 722.675 Q1149.28 729.781 1151.09 733.346 Q1152.92 736.887 1156.53 736.887 Q1160.16 736.887 1161.97 733.346 Q1163.8 729.781 1163.8 722.675 Q1163.8 715.545 1161.97 712.003 Q1160.16 708.439 1156.53 708.439 M1156.53 704.735 Q1162.34 704.735 1165.4 709.341 Q1168.47 713.925 1168.47 722.675 Q1168.47 731.401 1165.4 736.008 Q1162.34 740.591 1156.53 740.591 Q1150.72 740.591 1147.64 736.008 Q1144.59 731.401 1144.59 722.675 Q1144.59 713.925 1147.64 709.341 Q1150.72 704.735 1156.53 704.735 Z\" fill=\"#000000\" fill-rule=\"evenodd\" fill-opacity=\"1\" /><path clip-path=\"url(#clip140)\" d=\"M 0 0 M1199.87 705.36 L1218.23 705.36 L1218.23 709.295 L1204.15 709.295 L1204.15 717.767 Q1205.17 717.42 1206.19 717.258 Q1207.21 717.073 1208.23 717.073 Q1214.01 717.073 1217.39 720.244 Q1220.77 723.415 1220.77 728.832 Q1220.77 734.411 1217.3 737.512 Q1213.83 740.591 1207.51 740.591 Q1205.33 740.591 1203.06 740.221 Q1200.82 739.85 1198.41 739.11 L1198.41 734.411 Q1200.49 735.545 1202.72 736.1 Q1204.94 736.656 1207.41 736.656 Q1211.42 736.656 1213.76 734.55 Q1216.1 732.443 1216.1 728.832 Q1216.1 725.221 1213.76 723.114 Q1211.42 721.008 1207.41 721.008 Q1205.54 721.008 1203.66 721.425 Q1201.81 721.841 1199.87 722.721 L1199.87 705.36 Z\" fill=\"#000000\" fill-rule=\"evenodd\" fill-opacity=\"1\" /><path clip-path=\"url(#clip140)\" d=\"M 0 0 M1235.84 708.439 Q1232.23 708.439 1230.4 712.003 Q1228.6 715.545 1228.6 722.675 Q1228.6 729.781 1230.4 733.346 Q1232.23 736.887 1235.84 736.887 Q1239.47 736.887 1241.28 733.346 Q1243.11 729.781 1243.11 722.675 Q1243.11 715.545 1241.28 712.003 Q1239.47 708.439 1235.84 708.439 M1235.84 704.735 Q1241.65 704.735 1244.71 709.341 Q1247.79 713.925 1247.79 722.675 Q1247.79 731.401 1244.71 736.008 Q1241.65 740.591 1235.84 740.591 Q1230.03 740.591 1226.95 736.008 Q1223.9 731.401 1223.9 722.675 Q1223.9 713.925 1226.95 709.341 Q1230.03 704.735 1235.84 704.735 Z\" fill=\"#000000\" fill-rule=\"evenodd\" fill-opacity=\"1\" /><path clip-path=\"url(#clip140)\" d=\"M 0 0 M1262.85 708.439 Q1259.24 708.439 1257.41 712.003 Q1255.61 715.545 1255.61 722.675 Q1255.61 729.781 1257.41 733.346 Q1259.24 736.887 1262.85 736.887 Q1266.49 736.887 1268.29 733.346 Q1270.12 729.781 1270.12 722.675 Q1270.12 715.545 1268.29 712.003 Q1266.49 708.439 1262.85 708.439 M1262.85 704.735 Q1268.66 704.735 1271.72 709.341 Q1274.8 713.925 1274.8 722.675 Q1274.8 731.401 1271.72 736.008 Q1268.66 740.591 1262.85 740.591 Q1257.04 740.591 1253.97 736.008 Q1250.91 731.401 1250.91 722.675 Q1250.91 713.925 1253.97 709.341 Q1257.04 704.735 1262.85 704.735 Z\" fill=\"#000000\" fill-rule=\"evenodd\" fill-opacity=\"1\" /><path clip-path=\"url(#clip140)\" d=\"M 0 0 M1304.6 705.36 L1326.82 705.36 L1326.82 707.351 L1314.27 739.92 L1309.39 739.92 L1321.19 709.295 L1304.6 709.295 L1304.6 705.36 Z\" fill=\"#000000\" fill-rule=\"evenodd\" fill-opacity=\"1\" /><path clip-path=\"url(#clip140)\" d=\"M 0 0 M1331.93 705.36 L1350.29 705.36 L1350.29 709.295 L1336.22 709.295 L1336.22 717.767 Q1337.24 717.42 1338.25 717.258 Q1339.27 717.073 1340.29 717.073 Q1346.08 717.073 1349.46 720.244 Q1352.84 723.415 1352.84 728.832 Q1352.84 734.411 1349.36 737.512 Q1345.89 740.591 1339.57 740.591 Q1337.4 740.591 1335.13 740.221 Q1332.88 739.85 1330.48 739.11 L1330.48 734.411 Q1332.56 735.545 1334.78 736.1 Q1337 736.656 1339.48 736.656 Q1343.49 736.656 1345.82 734.55 Q1348.16 732.443 1348.16 728.832 Q1348.16 725.221 1345.82 723.114 Q1343.49 721.008 1339.48 721.008 Q1337.61 721.008 1335.73 721.425 Q1333.88 721.841 1331.93 722.721 L1331.93 705.36 Z\" fill=\"#000000\" fill-rule=\"evenodd\" fill-opacity=\"1\" /><path clip-path=\"url(#clip140)\" d=\"M 0 0 M1367.91 708.439 Q1364.3 708.439 1362.47 712.003 Q1360.66 715.545 1360.66 722.675 Q1360.66 729.781 1362.47 733.346 Q1364.3 736.887 1367.91 736.887 Q1371.54 736.887 1373.35 733.346 Q1375.17 729.781 1375.17 722.675 Q1375.17 715.545 1373.35 712.003 Q1371.54 708.439 1367.91 708.439 M1367.91 704.735 Q1373.72 704.735 1376.77 709.341 Q1379.85 713.925 1379.85 722.675 Q1379.85 731.401 1376.77 736.008 Q1373.72 740.591 1367.91 740.591 Q1362.1 740.591 1359.02 736.008 Q1355.96 731.401 1355.96 722.675 Q1355.96 713.925 1359.02 709.341 Q1362.1 704.735 1367.91 704.735 Z\" fill=\"#000000\" fill-rule=\"evenodd\" fill-opacity=\"1\" /><path clip-path=\"url(#clip140)\" d=\"M 0 0 M1397.7 735.985 L1405.34 735.985 L1405.34 709.619 L1397.03 711.286 L1397.03 707.027 L1405.3 705.36 L1409.97 705.36 L1409.97 735.985 L1417.61 735.985 L1417.61 739.92 L1397.7 739.92 L1397.7 735.985 Z\" fill=\"#000000\" fill-rule=\"evenodd\" fill-opacity=\"1\" /><path clip-path=\"url(#clip140)\" d=\"M 0 0 M1432.68 708.439 Q1429.07 708.439 1427.24 712.003 Q1425.44 715.545 1425.44 722.675 Q1425.44 729.781 1427.24 733.346 Q1429.07 736.887 1432.68 736.887 Q1436.31 736.887 1438.12 733.346 Q1439.95 729.781 1439.95 722.675 Q1439.95 715.545 1438.12 712.003 Q1436.31 708.439 1432.68 708.439 M1432.68 704.735 Q1438.49 704.735 1441.55 709.341 Q1444.62 713.925 1444.62 722.675 Q1444.62 731.401 1441.55 736.008 Q1438.49 740.591 1432.68 740.591 Q1426.87 740.591 1423.79 736.008 Q1420.74 731.401 1420.74 722.675 Q1420.74 713.925 1423.79 709.341 Q1426.87 704.735 1432.68 704.735 Z\" fill=\"#000000\" fill-rule=\"evenodd\" fill-opacity=\"1\" /><path clip-path=\"url(#clip140)\" d=\"M 0 0 M1459.69 708.439 Q1456.08 708.439 1454.25 712.003 Q1452.45 715.545 1452.45 722.675 Q1452.45 729.781 1454.25 733.346 Q1456.08 736.887 1459.69 736.887 Q1463.33 736.887 1465.13 733.346 Q1466.96 729.781 1466.96 722.675 Q1466.96 715.545 1465.13 712.003 Q1463.33 708.439 1459.69 708.439 M1459.69 704.735 Q1465.5 704.735 1468.56 709.341 Q1471.64 713.925 1471.64 722.675 Q1471.64 731.401 1468.56 736.008 Q1465.5 740.591 1459.69 740.591 Q1453.88 740.591 1450.81 736.008 Q1447.75 731.401 1447.75 722.675 Q1447.75 713.925 1450.81 709.341 Q1453.88 704.735 1459.69 704.735 Z\" fill=\"#000000\" fill-rule=\"evenodd\" fill-opacity=\"1\" /><path clip-path=\"url(#clip140)\" d=\"M 0 0 M1486.71 708.439 Q1483.1 708.439 1481.27 712.003 Q1479.46 715.545 1479.46 722.675 Q1479.46 729.781 1481.27 733.346 Q1483.1 736.887 1486.71 736.887 Q1490.34 736.887 1492.15 733.346 Q1493.98 729.781 1493.98 722.675 Q1493.98 715.545 1492.15 712.003 Q1490.34 708.439 1486.71 708.439 M1486.71 704.735 Q1492.52 704.735 1495.57 709.341 Q1498.65 713.925 1498.65 722.675 Q1498.65 731.401 1495.57 736.008 Q1492.52 740.591 1486.71 740.591 Q1480.9 740.591 1477.82 736.008 Q1474.76 731.401 1474.76 722.675 Q1474.76 713.925 1477.82 709.341 Q1480.9 704.735 1486.71 704.735 Z\" fill=\"#000000\" fill-rule=\"evenodd\" fill-opacity=\"1\" /><path clip-path=\"url(#clip140)\" d=\"M 0 0 M896.92 661.823 L904.559 661.823 L904.559 635.458 L896.249 637.124 L896.249 632.865 L904.512 631.199 L909.188 631.199 L909.188 661.823 L916.827 661.823 L916.827 665.759 L896.92 665.759 L896.92 661.823 Z\" fill=\"#000000\" fill-rule=\"evenodd\" fill-opacity=\"1\" /><path clip-path=\"url(#clip140)\" d=\"M 0 0 M931.897 634.277 Q928.285 634.277 926.457 637.842 Q924.651 641.384 924.651 648.513 Q924.651 655.62 926.457 659.185 Q928.285 662.726 931.897 662.726 Q935.531 662.726 937.336 659.185 Q939.165 655.62 939.165 648.513 Q939.165 641.384 937.336 637.842 Q935.531 634.277 931.897 634.277 M931.897 630.574 Q937.707 630.574 940.762 635.18 Q943.841 639.763 943.841 648.513 Q943.841 657.24 940.762 661.847 Q937.707 666.43 931.897 666.43 Q926.086 666.43 923.008 661.847 Q919.952 657.24 919.952 648.513 Q919.952 639.763 923.008 635.18 Q926.086 630.574 931.897 630.574 Z\" fill=\"#000000\" fill-rule=\"evenodd\" fill-opacity=\"1\" /><path clip-path=\"url(#clip140)\" d=\"M 0 0 M943.841 626.255 L953.978 626.255 L953.978 629.339 L943.841 629.339 L943.841 626.255 Z\" fill=\"#000000\" fill-rule=\"evenodd\" fill-opacity=\"1\" /><path clip-path=\"url(#clip140)\" d=\"M 0 0 M980.648 623.208 Q983.375 623.791 984.898 625.634 Q986.441 627.477 986.441 630.186 Q986.441 634.342 983.582 636.618 Q980.723 638.894 975.457 638.894 Q973.689 638.894 971.808 638.536 Q969.946 638.198 967.953 637.502 L967.953 633.834 Q969.532 634.756 971.413 635.226 Q973.294 635.696 975.344 635.696 Q978.917 635.696 980.779 634.286 Q982.66 632.875 982.66 630.186 Q982.66 627.703 980.911 626.311 Q979.181 624.901 976.077 624.901 L972.805 624.901 L972.805 621.779 L976.228 621.779 Q979.03 621.779 980.516 620.669 Q982.002 619.54 982.002 617.434 Q982.002 615.271 980.46 614.124 Q978.936 612.958 976.077 612.958 Q974.516 612.958 972.73 613.296 Q970.943 613.635 968.799 614.349 L968.799 610.964 Q970.962 610.362 972.843 610.061 Q974.742 609.76 976.416 609.76 Q980.742 609.76 983.262 611.735 Q985.782 613.691 985.782 617.039 Q985.782 619.371 984.447 620.989 Q983.112 622.587 980.648 623.208 Z\" fill=\"#000000\" fill-rule=\"evenodd\" fill-opacity=\"1\" /><path clip-path=\"url(#clip140)\" d=\"M 0 0 M897.578 547.422 L905.217 547.422 L905.217 521.056 L896.907 522.723 L896.907 518.463 L905.171 516.797 L909.847 516.797 L909.847 547.422 L917.485 547.422 L917.485 551.357 L897.578 551.357 L897.578 547.422 Z\" fill=\"#000000\" fill-rule=\"evenodd\" fill-opacity=\"1\" /><path clip-path=\"url(#clip140)\" d=\"M 0 0 M932.555 519.875 Q928.944 519.875 927.115 523.44 Q925.31 526.982 925.31 534.112 Q925.31 541.218 927.115 544.783 Q928.944 548.324 932.555 548.324 Q936.189 548.324 937.995 544.783 Q939.823 541.218 939.823 534.112 Q939.823 526.982 937.995 523.44 Q936.189 519.875 932.555 519.875 M932.555 516.172 Q938.365 516.172 941.421 520.778 Q944.499 525.362 944.499 534.112 Q944.499 542.838 941.421 547.445 Q938.365 552.028 932.555 552.028 Q926.745 552.028 923.666 547.445 Q920.61 542.838 920.61 534.112 Q920.61 525.362 923.666 520.778 Q926.745 516.172 932.555 516.172 Z\" fill=\"#000000\" fill-rule=\"evenodd\" fill-opacity=\"1\" /><path clip-path=\"url(#clip140)\" d=\"M 0 0 M944.499 511.853 L954.637 511.853 L954.637 514.937 L944.499 514.937 L944.499 511.853 Z\" fill=\"#000000\" fill-rule=\"evenodd\" fill-opacity=\"1\" /><path clip-path=\"url(#clip140)\" d=\"M 0 0 M973.181 520.749 L986.441 520.749 L986.441 523.946 L968.611 523.946 L968.611 520.749 Q970.774 518.511 974.498 514.749 Q978.24 510.969 979.2 509.878 Q981.024 507.828 981.739 506.418 Q982.472 504.988 982.472 503.615 Q982.472 501.377 980.892 499.966 Q979.331 498.556 976.811 498.556 Q975.024 498.556 973.031 499.177 Q971.056 499.797 968.799 501.057 L968.799 497.221 Q971.093 496.299 973.087 495.829 Q975.081 495.359 976.736 495.359 Q981.099 495.359 983.695 497.54 Q986.29 499.722 986.29 503.371 Q986.29 505.101 985.632 506.662 Q984.992 508.204 983.281 510.311 Q982.811 510.856 980.29 513.47 Q977.77 516.066 973.181 520.749 Z\" fill=\"#000000\" fill-rule=\"evenodd\" fill-opacity=\"1\" /><path clip-path=\"url(#clip140)\" d=\"M 0 0 M898.688 433.02 L906.327 433.02 L906.327 406.654 L898.017 408.321 L898.017 404.062 L906.28 402.395 L910.956 402.395 L910.956 433.02 L918.595 433.02 L918.595 436.955 L898.688 436.955 L898.688 433.02 Z\" fill=\"#000000\" fill-rule=\"evenodd\" fill-opacity=\"1\" /><path clip-path=\"url(#clip140)\" d=\"M 0 0 M933.664 405.474 Q930.053 405.474 928.225 409.038 Q926.419 412.58 926.419 419.71 Q926.419 426.816 928.225 430.381 Q930.053 433.923 933.664 433.923 Q937.299 433.923 939.104 430.381 Q940.933 426.816 940.933 419.71 Q940.933 412.58 939.104 409.038 Q937.299 405.474 933.664 405.474 M933.664 401.77 Q939.475 401.77 942.53 406.376 Q945.609 410.96 945.609 419.71 Q945.609 428.437 942.53 433.043 Q939.475 437.626 933.664 437.626 Q927.854 437.626 924.776 433.043 Q921.72 428.437 921.72 419.71 Q921.72 410.96 924.776 406.376 Q927.854 401.77 933.664 401.77 Z\" fill=\"#000000\" fill-rule=\"evenodd\" fill-opacity=\"1\" /><path clip-path=\"url(#clip140)\" d=\"M 0 0 M945.609 397.451 L955.746 397.451 L955.746 400.536 L945.609 400.536 L945.609 397.451 Z\" fill=\"#000000\" fill-rule=\"evenodd\" fill-opacity=\"1\" /><path clip-path=\"url(#clip140)\" d=\"M 0 0 M970.266 406.347 L976.472 406.347 L976.472 384.925 L969.72 386.279 L969.72 382.819 L976.435 381.465 L980.234 381.465 L980.234 406.347 L986.441 406.347 L986.441 409.545 L970.266 409.545 L970.266 406.347 Z\" fill=\"#000000\" fill-rule=\"evenodd\" fill-opacity=\"1\" /><path clip-path=\"url(#clip140)\" d=\"M 0 0 M920.11 318.618 L927.749 318.618 L927.749 292.252 L919.439 293.919 L919.439 289.66 L927.702 287.993 L932.378 287.993 L932.378 318.618 L940.017 318.618 L940.017 322.553 L920.11 322.553 L920.11 318.618 Z\" fill=\"#000000\" fill-rule=\"evenodd\" fill-opacity=\"1\" /><path clip-path=\"url(#clip140)\" d=\"M 0 0 M955.087 291.072 Q951.475 291.072 949.647 294.637 Q947.841 298.178 947.841 305.308 Q947.841 312.414 949.647 315.979 Q951.475 319.521 955.087 319.521 Q958.721 319.521 960.526 315.979 Q962.355 312.414 962.355 305.308 Q962.355 298.178 960.526 294.637 Q958.721 291.072 955.087 291.072 M955.087 287.368 Q960.897 287.368 963.952 291.975 Q967.031 296.558 967.031 305.308 Q967.031 314.035 963.952 318.641 Q960.897 323.224 955.087 323.224 Q949.276 323.224 946.198 318.641 Q943.142 314.035 943.142 305.308 Q943.142 296.558 946.198 291.975 Q949.276 287.368 955.087 287.368 Z\" fill=\"#000000\" fill-rule=\"evenodd\" fill-opacity=\"1\" /><path clip-path=\"url(#clip140)\" d=\"M 0 0 M976.736 269.564 Q973.802 269.564 972.316 272.461 Q970.849 275.338 970.849 281.131 Q970.849 286.905 972.316 289.801 Q973.802 292.679 976.736 292.679 Q979.689 292.679 981.156 289.801 Q982.641 286.905 982.641 281.131 Q982.641 275.338 981.156 272.461 Q979.689 269.564 976.736 269.564 M976.736 266.555 Q981.456 266.555 983.939 270.298 Q986.441 274.022 986.441 281.131 Q986.441 288.222 983.939 291.964 Q981.456 295.688 976.736 295.688 Q972.015 295.688 969.514 291.964 Q967.031 288.222 967.031 281.131 Q967.031 274.022 969.514 270.298 Q972.015 266.555 976.736 266.555 Z\" fill=\"#000000\" fill-rule=\"evenodd\" fill-opacity=\"1\" /><path clip-path=\"url(#clip140)\" d=\"M 0 0 M922.799 204.216 L930.438 204.216 L930.438 177.851 L922.128 179.517 L922.128 175.258 L930.392 173.591 L935.068 173.591 L935.068 204.216 L942.707 204.216 L942.707 208.151 L922.799 208.151 L922.799 204.216 Z\" fill=\"#000000\" fill-rule=\"evenodd\" fill-opacity=\"1\" /><path clip-path=\"url(#clip140)\" d=\"M 0 0 M957.776 176.67 Q954.165 176.67 952.336 180.235 Q950.531 183.776 950.531 190.906 Q950.531 198.013 952.336 201.577 Q954.165 205.119 957.776 205.119 Q961.41 205.119 963.216 201.577 Q965.045 198.013 965.045 190.906 Q965.045 183.776 963.216 180.235 Q961.41 176.67 957.776 176.67 M957.776 172.966 Q963.586 172.966 966.642 177.573 Q969.72 182.156 969.72 190.906 Q969.72 199.633 966.642 204.239 Q963.586 208.823 957.776 208.823 Q951.966 208.823 948.887 204.239 Q945.832 199.633 945.832 190.906 Q945.832 182.156 948.887 177.573 Q951.966 172.966 957.776 172.966 Z\" fill=\"#000000\" fill-rule=\"evenodd\" fill-opacity=\"1\" /><path clip-path=\"url(#clip140)\" d=\"M 0 0 M970.266 177.544 L976.472 177.544 L976.472 156.122 L969.72 157.476 L969.72 154.015 L976.435 152.661 L980.234 152.661 L980.234 177.544 L986.441 177.544 L986.441 180.741 L970.266 180.741 L970.266 177.544 Z\" fill=\"#000000\" fill-rule=\"evenodd\" fill-opacity=\"1\" /><path clip-path=\"url(#clip140)\" d=\"M 0 0 M1111.48 12.096 L1123.67 12.096 L1139.11 53.2532 L1154.62 12.096 L1166.82 12.096 L1166.82 72.576 L1158.84 72.576 L1158.84 19.4686 L1143.24 60.9499 L1135.02 60.9499 L1119.42 19.4686 L1119.42 72.576 L1111.48 72.576 L1111.48 12.096 Z\" fill=\"#000000\" fill-rule=\"evenodd\" fill-opacity=\"1\" /><path clip-path=\"url(#clip140)\" d=\"M 0 0 M1213.44 48.0275 L1213.44 51.6733 L1179.17 51.6733 Q1179.66 59.3701 1183.79 63.421 Q1187.96 67.4314 1195.37 67.4314 Q1199.67 67.4314 1203.68 66.3781 Q1207.73 65.3249 1211.7 63.2184 L1211.7 70.267 Q1207.69 71.9684 1203.48 72.8596 Q1199.26 73.7508 1194.93 73.7508 Q1184.07 73.7508 1177.71 67.4314 Q1171.39 61.1119 1171.39 50.3365 Q1171.39 39.1965 1177.39 32.6746 Q1183.42 26.1121 1193.63 26.1121 Q1202.79 26.1121 1208.09 32.0264 Q1213.44 37.9003 1213.44 48.0275 M1205.99 45.84 Q1205.91 39.7232 1202.54 36.0774 Q1199.22 32.4315 1193.71 32.4315 Q1187.48 32.4315 1183.71 35.9558 Q1179.98 39.4801 1179.41 45.8805 L1205.99 45.84 Z\" fill=\"#000000\" fill-rule=\"evenodd\" fill-opacity=\"1\" /><path clip-path=\"url(#clip140)\" d=\"M 0 0 M1228.63 14.324 L1228.63 27.2059 L1243.99 27.2059 L1243.99 32.9987 L1228.63 32.9987 L1228.63 57.6282 Q1228.63 63.1779 1230.13 64.7578 Q1231.67 66.3376 1236.33 66.3376 L1243.99 66.3376 L1243.99 72.576 L1236.33 72.576 Q1227.7 72.576 1224.42 69.3758 Q1221.14 66.1351 1221.14 57.6282 L1221.14 32.9987 L1215.67 32.9987 L1215.67 27.2059 L1221.14 27.2059 L1221.14 14.324 L1228.63 14.324 Z\" fill=\"#000000\" fill-rule=\"evenodd\" fill-opacity=\"1\" /><path clip-path=\"url(#clip140)\" d=\"M 0 0 M1289.52 45.1919 L1289.52 72.576 L1282.06 72.576 L1282.06 45.4349 Q1282.06 38.994 1279.55 35.7938 Q1277.04 32.5936 1272.02 32.5936 Q1265.98 32.5936 1262.5 36.4419 Q1259.01 40.2903 1259.01 46.9338 L1259.01 72.576 L1251.52 72.576 L1251.52 9.54393 L1259.01 9.54393 L1259.01 34.2544 Q1261.69 30.163 1265.29 28.1376 Q1268.94 26.1121 1273.68 26.1121 Q1281.5 26.1121 1285.51 30.9732 Q1289.52 35.7938 1289.52 45.1919 Z\" fill=\"#000000\" fill-rule=\"evenodd\" fill-opacity=\"1\" /><path clip-path=\"url(#clip140)\" d=\"M 0 0 M1314.92 32.4315 Q1308.92 32.4315 1305.44 37.1306 Q1301.95 41.7891 1301.95 49.9314 Q1301.95 58.0738 1305.4 62.7728 Q1308.88 67.4314 1314.92 67.4314 Q1320.87 67.4314 1324.36 62.7323 Q1327.84 58.0333 1327.84 49.9314 Q1327.84 41.8701 1324.36 37.1711 Q1320.87 32.4315 1314.92 32.4315 M1314.92 26.1121 Q1324.64 26.1121 1330.19 32.4315 Q1335.74 38.7509 1335.74 49.9314 Q1335.74 61.0714 1330.19 67.4314 Q1324.64 73.7508 1314.92 73.7508 Q1305.15 73.7508 1299.6 67.4314 Q1294.1 61.0714 1294.1 49.9314 Q1294.1 38.7509 1299.6 32.4315 Q1305.15 26.1121 1314.92 26.1121 Z\" fill=\"#000000\" fill-rule=\"evenodd\" fill-opacity=\"1\" /><path clip-path=\"url(#clip140)\" d=\"M 0 0 M1373.41 34.0924 L1373.41 9.54393 L1380.87 9.54393 L1380.87 72.576 L1373.41 72.576 L1373.41 65.7705 Q1371.06 69.8214 1367.46 71.8063 Q1363.89 73.7508 1358.87 73.7508 Q1350.65 73.7508 1345.46 67.1883 Q1340.32 60.6258 1340.32 49.9314 Q1340.32 39.2371 1345.46 32.6746 Q1350.65 26.1121 1358.87 26.1121 Q1363.89 26.1121 1367.46 28.0971 Q1371.06 30.0415 1373.41 34.0924 M1348.01 49.9314 Q1348.01 58.1548 1351.38 62.8538 Q1354.78 67.5124 1360.69 67.5124 Q1366.61 67.5124 1370.01 62.8538 Q1373.41 58.1548 1373.41 49.9314 Q1373.41 41.7081 1370.01 37.0496 Q1366.61 32.3505 1360.69 32.3505 Q1354.78 32.3505 1351.38 37.0496 Q1348.01 41.7081 1348.01 49.9314 Z\" fill=\"#000000\" fill-rule=\"evenodd\" fill-opacity=\"1\" /><path clip-path=\"url(#clip140)\" d=\"M 0 0 M1423.16 65.6895 L1451.72 65.6895 L1451.72 72.576 L1413.31 72.576 L1413.31 65.6895 Q1417.97 60.8689 1425.99 52.7671 Q1434.05 44.6248 1436.12 42.2752 Q1440.05 37.8598 1441.59 34.8216 Q1443.17 31.7429 1443.17 28.7857 Q1443.17 23.9651 1439.77 20.927 Q1436.4 17.8888 1430.98 17.8888 Q1427.13 17.8888 1422.83 19.2256 Q1418.58 20.5624 1413.72 23.2765 L1413.72 15.0127 Q1418.66 13.0277 1422.95 12.015 Q1427.25 11.0023 1430.81 11.0023 Q1440.21 11.0023 1445.8 15.7013 Q1451.39 20.4004 1451.39 28.2591 Q1451.39 31.9859 1449.97 35.3482 Q1448.6 38.6699 1444.91 43.2069 Q1443.9 44.3817 1438.47 50.0125 Q1433.04 55.6027 1423.16 65.6895 Z\" fill=\"#000000\" fill-rule=\"evenodd\" fill-opacity=\"1\" /><polyline clip-path=\"url(#clip143)\" style=\"stroke:#009af9; stroke-width:4; stroke-opacity:1; fill:none\" points=\"\n",
       "  1025.79,139.405 1026.21,156.79 1026.63,177.835 1027.06,203.648 1027.48,237.736 1027.9,286.243 1028.32,367.605 1028.75,413.879 1029.17,326.672 1029.59,283.146 \n",
       "  1030.01,413.879 1030.44,259.304 1030.86,264.522 1031.28,270.371 1031.7,276.6 1032.13,282.309 1032.55,289.288 1032.97,296.481 1033.39,303.961 1033.82,311.804 \n",
       "  1034.24,320.226 1034.66,329.339 1035.08,338.848 1035.51,348.826 1035.93,359.406 1036.35,370.693 1036.77,382.139 1037.2,393.845 1037.62,405.199 1038.04,415.742 \n",
       "  1038.46,424.623 1038.89,431.031 1039.31,434.503 1039.73,435.092 1040.15,433.407 1040.58,430.269 1041,426.44 1041.42,422.475 1041.84,418.808 1042.27,415.637 \n",
       "  1042.69,413.028 1043.11,411.048 1043.53,409.688 1043.96,409.037 1044.38,408.895 1044.8,409.305 1045.22,410.231 1045.65,411.543 1046.07,413.297 1046.49,415.387 \n",
       "  1046.91,417.703 1047.34,420.173 1047.76,422.753 1048.18,425.375 1048.6,427.893 1049.03,430.27 1049.45,432.419 1049.87,434.292 1050.29,435.835 1050.72,437.07 \n",
       "  1051.14,437.954 1051.56,438.544 1051.98,438.869 1052.41,438.984 1052.83,438.942 1053.25,438.8 1053.67,438.593 1054.09,438.389 1054.52,438.21 1054.94,438.081 \n",
       "  1055.36,438.026 1055.78,438.033 1056.21,438.142 1056.63,438.331 1057.05,438.596 1057.47,438.9 1057.9,439.27 1058.32,439.668 1058.74,440.089 1059.16,440.518 \n",
       "  1059.59,440.918 1060.01,441.335 1060.43,441.711 1060.85,442.054 1061.28,442.365 1061.7,442.645 1062.12,442.895 1062.54,443.116 1062.97,443.316 1063.39,443.484 \n",
       "  1063.81,443.646 1064.23,443.799 1064.66,443.962 1065.08,444.104 1065.5,444.291 1065.92,444.44 1066.35,444.638 1066.77,444.817 1067.19,445.023 1067.61,445.226 \n",
       "  1068.04,445.448 1068.46,445.681 1068.88,445.899 1069.3,446.136 1069.73,446.34 1070.15,446.588 1070.57,446.813 1070.99,447.04 1071.42,447.262 1071.84,447.482 \n",
       "  1072.26,447.706 1072.68,447.915 1073.11,448.153 1073.53,448.342 1073.95,448.546 1074.37,448.766 1074.8,448.98 1075.22,449.195 1075.64,449.424 1076.06,449.638 \n",
       "  1076.49,449.852 1076.91,450.09 1077.33,450.313 1077.75,450.542 1078.18,450.766 1078.6,450.998 1079.02,451.238 1079.44,451.458 1079.87,451.699 1080.29,451.94 \n",
       "  1080.71,452.17 1081.13,452.413 1081.56,452.644 1081.98,452.882 1082.4,453.118 1082.82,453.347 1083.25,453.601 1083.67,453.821 1084.09,454.067 1084.51,454.327 \n",
       "  1084.94,454.565 1085.36,454.806 1085.78,455.055 1086.2,455.3 1086.63,455.555 1087.05,455.797 1087.47,456.04 1087.89,456.301 1088.32,456.549 1088.74,456.807 \n",
       "  1089.16,457.058 1089.58,457.316 1090.01,457.569 1090.43,457.824 1090.85,458.085 1091.27,458.32 1091.7,458.598 1092.12,458.858 1092.54,459.111 1092.96,459.38 \n",
       "  1093.39,459.648 1093.81,459.899 1094.23,460.174 1094.65,460.439 1095.08,460.707 1095.5,460.98 1095.92,461.247 1096.34,461.513 1096.77,461.8 1097.19,462.048 \n",
       "  1097.61,462.335 1098.03,462.601 1098.45,462.859 1098.88,463.161 1099.3,463.432 1099.72,463.702 1100.14,463.98 1100.57,464.259 1100.99,464.538 1101.41,464.819 \n",
       "  1101.83,465.105 1102.26,465.382 1102.68,465.665 1103.1,465.953 1103.52,466.227 1103.95,466.521 1104.37,466.788 1104.79,467.094 1105.21,467.384 1105.64,467.672 \n",
       "  1106.06,467.968 1106.48,468.254 1106.9,468.548 1107.33,468.837 1107.75,469.132 1108.17,469.427 1108.59,469.723 1109.02,469.998 1109.44,470.319 1109.86,470.606 \n",
       "  1110.28,470.912 1110.71,471.221 1111.13,471.517 1111.55,471.812 1111.97,472.115 1112.4,472.424 1112.82,472.718 1113.24,473.028 1113.66,473.341 1114.09,473.638 \n",
       "  1114.51,473.949 1114.93,474.258 1115.35,474.563 1115.78,474.872 1116.2,475.182 1116.62,475.491 1117.04,475.797 1117.47,476.121 1117.89,476.431 1118.31,476.768 \n",
       "  1118.73,477.062 1119.16,477.381 1119.58,477.691 1120,478.015 1120.42,478.316 1120.85,478.648 1121.27,478.958 1121.69,479.291 1122.11,479.611 1122.54,479.934 \n",
       "  1122.96,480.257 1123.38,480.583 1123.8,480.905 1124.23,481.233 1124.65,481.543 1125.07,481.878 1125.49,482.212 1125.92,482.54 1126.34,482.851 1126.76,483.204 \n",
       "  1127.18,483.523 1127.61,483.867 1128.03,484.194 1128.45,484.532 1128.87,484.862 1129.3,485.187 1129.72,485.533 1130.14,485.868 1130.56,486.205 1130.99,486.545 \n",
       "  1131.41,486.886 1131.83,487.221 1132.25,487.561 1132.68,487.902 1133.1,488.242 1133.52,488.584 1133.94,488.927 1134.37,489.265 1134.79,489.616 1135.21,489.96 \n",
       "  1135.63,490.302 1136.06,490.652 1136.48,491.002 1136.9,491.349 1137.32,491.698 1137.75,492.045 1138.17,492.396 1138.59,492.746 1139.01,493.098 1139.44,493.45 \n",
       "  1139.86,493.801 1140.28,494.155 1140.7,494.517 1141.12,494.875 1141.55,495.222 1141.97,495.574 1142.39,495.944 1142.81,496.293 1143.24,496.65 1143.66,497.002 \n",
       "  1144.08,497.372 1144.5,497.728 1144.93,498.086 1145.35,498.46 1145.77,498.818 1146.19,499.182 1146.62,499.54 1147.04,499.906 1147.46,500.269 1147.88,500.636 \n",
       "  1148.31,501.003 1148.73,501.371 1149.15,501.737 1149.57,502.095 1150,502.477 1150.42,502.852 1150.84,503.203 1151.26,503.587 1151.69,503.967 1152.11,504.331 \n",
       "  1152.53,504.703 1152.95,505.069 1153.38,505.447 1153.8,505.823 1154.22,506.201 1154.64,506.563 1155.07,506.95 1155.49,507.326 1155.91,507.704 1156.33,508.084 \n",
       "  1156.76,508.465 1157.18,508.839 1157.6,509.227 1158.02,509.608 1158.45,509.987 1158.87,510.374 1159.29,510.749 1159.71,511.131 1160.14,511.512 1160.56,511.898 \n",
       "  1160.98,512.281 1161.4,512.665 1161.83,513.053 1162.25,513.439 1162.67,513.824 1163.09,514.213 1163.52,514.604 1163.94,514.989 1164.36,515.378 1164.78,515.769 \n",
       "  1165.21,516.159 1165.63,516.547 1166.05,516.939 1166.47,517.322 1166.9,517.726 1167.32,518.114 1167.74,518.51 1168.16,518.903 1168.59,519.292 1169.01,519.701 \n",
       "  1169.43,520.087 1169.85,520.484 1170.28,520.879 1170.7,521.274 1171.12,521.682 1171.54,522.079 1171.97,522.464 1172.39,522.866 1172.81,523.265 1173.23,523.666 \n",
       "  1173.66,524.067 1174.08,524.475 1174.5,524.865 1174.92,525.27 1175.35,525.67 1175.77,526.067 1176.19,526.476 1176.61,526.872 1177.04,527.271 1177.46,527.686 \n",
       "  1177.88,528.089 1178.3,528.494 1178.73,528.899 1179.15,529.307 1179.57,529.717 1179.99,530.117 1180.42,530.531 1180.84,530.931 1181.26,531.338 1181.68,531.747 \n",
       "  1182.11,532.154 1182.53,532.554 1182.95,532.971 1183.37,533.383 1183.8,533.79 1184.22,534.198 1184.64,534.608 1185.06,535.021 1185.48,535.437 1185.91,535.844 \n",
       "  1186.33,536.262 1186.75,536.667 1187.17,537.086 1187.6,537.494 1188.02,537.911 1188.44,538.318 1188.86,538.731 1189.29,539.151 1189.71,539.58 1190.13,539.979 \n",
       "  1190.55,540.389 1190.98,540.802 1191.4,541.219 1191.82,541.629 1192.24,542.045 1192.67,542.465 1193.09,542.879 1193.51,543.301 1193.93,543.713 1194.36,544.134 \n",
       "  1194.78,544.547 1195.2,544.967 1195.62,545.382 1196.05,545.798 1196.47,546.216 1196.89,546.638 1197.31,547.048 1197.74,547.473 1198.16,547.888 1198.58,548.309 \n",
       "  1199,548.732 1199.43,549.143 1199.85,549.562 1200.27,549.985 1200.69,550.404 1201.12,550.822 1201.54,551.246 1201.96,551.66 1202.38,552.082 1202.81,552.501 \n",
       "  1203.23,552.918 1203.65,553.34 1204.07,553.765 1204.5,554.184 1204.92,554.598 1205.34,555.02 1205.76,555.438 1206.19,555.859 1206.61,556.279 1207.03,556.698 \n",
       "  1207.45,557.116 1207.88,557.539 1208.3,557.962 1208.72,558.383 1209.14,558.8 1209.57,559.219 1209.99,559.639 1210.41,560.062 1210.83,560.482 1211.26,560.903 \n",
       "  1211.68,561.318 1212.1,561.745 1212.52,562.152 1212.95,562.576 1213.37,562.995 1213.79,563.416 1214.21,563.838 1214.64,564.255 1215.06,564.674 1215.48,565.091 \n",
       "  1215.9,565.51 1216.33,565.928 1216.75,566.35 1217.17,566.764 1217.59,567.188 1218.02,567.6 1218.44,568.017 1218.86,568.434 1219.28,568.852 1219.71,569.269 \n",
       "  1220.13,569.682 1220.55,570.097 1220.97,570.513 1221.4,570.939 1221.82,571.344 1222.24,571.762 1222.66,572.177 1223.09,572.589 1223.51,573.003 1223.93,573.415 \n",
       "  1224.35,573.845 1224.78,574.243 1225.2,574.656 1225.62,575.078 1226.04,575.479 1226.47,575.905 1226.89,576.302 1227.31,576.715 1227.73,577.123 1228.16,577.548 \n",
       "  1228.58,577.945 1229,578.359 1229.42,578.764 1229.84,579.174 1230.27,579.576 1230.69,579.993 1231.11,580.396 1231.53,580.796 1231.96,581.208 1232.38,581.613 \n",
       "  1232.8,582.024 1233.22,582.416 1233.65,582.82 1234.07,583.224 1234.49,583.628 1234.91,584.037 1235.34,584.44 1235.76,584.844 1236.18,585.23 1236.6,585.629 \n",
       "  1237.03,586.034 1237.45,586.429 1237.87,586.823 1238.29,587.23 1238.72,587.617 1239.14,588.024 1239.56,588.42 1239.98,588.813 1240.41,589.21 1240.83,589.598 \n",
       "  1241.25,589.983 1241.67,590.385 1242.1,590.774 1242.52,591.168 1242.94,591.552 1243.36,591.935 1243.79,592.324 1244.21,592.714 1244.63,593.095 1245.05,593.476 \n",
       "  1245.48,593.882 1245.9,594.244 1246.32,594.633 1246.74,595.013 1247.17,595.388 1247.59,595.79 1248.01,596.149 1248.43,596.526 1248.86,596.909 1249.28,597.273 \n",
       "  1249.7,597.644 1250.12,598.047 1250.55,598.4 1250.97,598.773 1251.39,599.125 1251.81,599.513 1252.24,599.89 1252.66,600.249 1253.08,600.637 1253.5,600.983 \n",
       "  1253.93,601.347 1254.35,601.709 1254.77,602.074 1255.19,602.427 1255.62,602.791 1256.04,603.158 1256.46,603.509 1256.88,603.873 1257.31,604.221 1257.73,604.604 \n",
       "  1258.15,604.925 1258.57,605.296 1259,605.631 1259.42,605.97 1259.84,606.343 1260.26,606.69 1260.69,607.029 1261.11,607.382 1261.53,607.733 1261.95,608.058 \n",
       "  1262.38,608.402 1262.8,608.769 1263.22,609.081 1263.64,609.419 1264.07,609.757 1264.49,610.108 1264.91,610.434 1265.33,610.768 1265.76,611.103 1266.18,611.432 \n",
       "  1266.6,611.759 1267.02,612.111 1267.45,612.388 1267.87,612.712 1268.29,613.053 1268.71,613.383 1269.14,613.693 1269.56,614.027 1269.98,614.356 1270.4,614.657 \n",
       "  1270.83,614.978 1271.25,615.28 1271.67,615.59 1272.09,615.904 1272.51,616.213 1272.94,616.51 1273.36,616.838 1273.78,617.137 1274.2,617.432 1274.63,617.744 \n",
       "  1275.05,618.047 1275.47,618.337 1275.89,618.674 1276.32,618.938 1276.74,619.228 1277.16,619.525 1277.58,619.823 1278.01,620.112 1278.43,620.409 1278.85,620.706 \n",
       "  1279.27,620.978 1279.7,621.277 1280.12,621.577 1280.54,621.83 1280.96,622.116 1281.39,622.392 1281.81,622.681 1282.23,622.953 1282.65,623.221 1283.08,623.496 \n",
       "  1283.5,623.766 1283.92,624.043 1284.34,624.315 1284.77,624.584 1285.19,624.82 1285.61,625.129 1286.03,625.355 1286.46,625.639 1286.88,625.881 1287.3,626.158 \n",
       "  1287.72,626.425 1288.15,626.659 1288.57,626.913 1288.99,627.163 1289.41,627.409 1289.84,627.654 1290.26,627.908 1290.68,628.184 1291.1,628.406 1291.53,628.673 \n",
       "  1291.95,628.89 1292.37,629.16 1292.79,629.362 1293.22,629.597 1293.64,629.84 1294.06,630.067 1294.48,630.324 1294.91,630.531 1295.33,630.785 1295.75,631.016 \n",
       "  1296.17,631.237 1296.6,631.446 1297.02,631.691 1297.44,631.887 1297.86,632.106 1298.29,632.334 1298.71,632.555 1299.13,632.767 1299.55,632.982 1299.98,633.194 \n",
       "  1300.4,633.397 1300.82,633.634 1301.24,633.815 1301.67,634.04 1302.09,634.229 1302.51,634.424 1302.93,634.664 1303.36,634.832 1303.78,635.047 1304.2,635.237 \n",
       "  1304.62,635.465 1305.05,635.642 1305.47,635.822 1305.89,636.026 1306.31,636.237 1306.74,636.414 1307.16,636.6 1307.58,636.801 1308,636.993 1308.43,637.175 \n",
       "  1308.85,637.339 1309.27,637.525 1309.69,637.707 1310.12,637.872 1310.54,638.069 1310.96,638.251 1311.38,638.398 1311.81,638.582 1312.23,638.746 1312.65,638.926 \n",
       "  1313.07,639.104 1313.5,639.256 1313.92,639.423 1314.34,639.603 1314.76,639.768 1315.19,639.918 1315.61,640.097 1316.03,640.262 1316.45,640.418 1316.87,640.56 \n",
       "  1317.3,640.73 1317.72,640.885 1318.14,641.052 1318.56,641.195 1318.99,641.334 1319.41,641.486 1319.83,641.647 1320.25,641.799 1320.68,641.942 1321.1,642.098 \n",
       "  1321.52,642.22 1321.94,642.38 1322.37,642.52 1322.79,642.655 1323.21,642.798 1323.63,642.937 1324.06,643.066 1324.48,643.216 1324.9,643.364 1325.32,643.486 \n",
       "  1325.75,643.618 1326.17,643.755 1326.59,643.874 1327.01,644.011 1327.44,644.147 1327.86,644.285 1328.28,644.41 1328.7,644.528 1329.13,644.654 1329.55,644.779 \n",
       "  1329.97,644.888 1330.39,645.019 1330.82,645.141 1331.24,645.255 1331.66,645.375 1332.08,645.513 1332.51,645.617 1332.93,645.727 1333.35,645.844 1333.77,645.967 \n",
       "  1334.2,646.073 1334.62,646.193 1335.04,646.297 1335.46,646.408 1335.89,646.524 1336.31,646.639 1336.73,646.733 1337.15,646.849 1337.58,646.956 1338,647.055 \n",
       "  1338.42,647.168 1338.84,647.264 1339.27,647.371 1339.69,647.492 1340.11,647.583 1340.53,647.688 1340.96,647.776 1341.38,647.879 1341.8,647.979 1342.22,648.084 \n",
       "  1342.65,648.182 1343.07,648.275 1343.49,648.361 1343.91,648.467 1344.34,648.55 1344.76,648.657 1345.18,648.748 1345.6,648.848 1346.03,648.928 1346.45,649.006 \n",
       "  1346.87,649.105 1347.29,649.186 1347.72,649.274 1348.14,649.362 1348.56,649.451 1348.98,649.537 1349.41,649.623 1349.83,649.705 1350.25,649.793 1350.67,649.889 \n",
       "  1351.1,649.96 1351.52,650.05 1351.94,650.123 1352.36,650.204 1352.79,650.308 1353.21,650.377 1353.63,650.44 1354.05,650.522 1354.48,650.625 1354.9,650.7 \n",
       "  1355.32,650.757 1355.74,650.836 1356.17,650.919 1356.59,650.994 1357.01,651.072 1357.43,651.138 1357.86,651.209 1358.28,651.301 1358.7,651.369 1359.12,651.441 \n",
       "  1359.55,651.504 1359.97,651.581 1360.39,651.652 1360.81,651.724 1361.23,651.787 1361.66,651.855 1362.08,651.939 1362.5,651.995 1362.92,652.087 1363.35,652.133 \n",
       "  1363.77,652.2 1364.19,652.272 1364.61,652.339 1365.04,652.397 1365.46,652.475 1365.88,652.537 1366.3,652.6 1366.73,652.68 1367.15,652.75 1367.57,652.789 \n",
       "  1367.99,652.859 1368.42,652.916 1368.84,652.998 1369.26,653.04 1369.68,653.126 1370.11,653.182 1370.53,653.225 1370.95,653.284 1371.37,653.344 1371.8,653.418 \n",
       "  1372.22,653.482 1372.64,653.538 1373.06,653.582 1373.49,653.669 1373.91,653.701 1374.33,653.763 1374.75,653.819 1375.18,653.879 1375.6,653.933 1376.02,653.996 \n",
       "  1376.44,654.045 1376.87,654.104 1377.29,654.184 1377.71,654.213 1378.13,654.269 1378.56,654.38 1378.98,654.384 1379.4,654.433 1379.82,654.501 1380.25,654.542 \n",
       "  1380.67,654.612 1381.09,654.651 1381.51,654.731 1381.94,654.764 1382.36,654.809 1382.78,654.862 1383.2,654.924 1383.63,654.969 1384.05,655.041 1384.47,655.074 \n",
       "  1384.89,655.137 1385.32,655.202 1385.74,655.225 1386.16,655.276 1386.58,655.328 1387.01,655.43 1387.43,655.454 1387.85,655.479 1388.27,655.53 1388.7,655.559 \n",
       "  1389.12,655.628 1389.54,655.689 1389.96,655.727 1390.39,655.774 1390.81,655.832 1391.23,655.9 1391.65,655.941 1392.08,655.974 1392.5,656.032 1392.92,656.072 \n",
       "  1393.34,656.124 1393.77,656.162 1394.19,656.236 1394.61,656.289 1395.03,656.304 1395.46,656.371 1395.88,656.408 1396.3,656.453 1396.72,656.47 1397.15,656.538 \n",
       "  1397.57,656.607 1397.99,656.658 1398.41,656.686 1398.84,656.726 1399.26,656.773 1399.68,656.822 1400.1,656.857 1400.53,656.91 1400.95,656.957 1401.37,657.017 \n",
       "  1401.79,657.037 1402.22,657.09 1402.64,657.13 1403.06,657.152 1403.48,657.228 1403.9,657.261 1404.33,657.312 1404.75,657.356 1405.17,657.395 1405.59,657.444 \n",
       "  1406.02,657.5 1406.44,657.525 1406.86,657.581 1407.28,657.616 1407.71,657.68 1408.13,657.702 1408.55,657.749 1408.97,657.796 1409.4,657.837 1409.82,657.88 \n",
       "  1410.24,657.926 1410.66,657.969 1411.09,658.01 1411.51,658.045 1411.93,658.096 1412.35,658.146 1412.78,658.173 1413.2,658.219 1413.62,658.269 1414.04,658.318 \n",
       "  1414.47,658.355 1414.89,658.395 1415.31,658.438 1415.73,658.475 1416.16,658.52 1416.58,658.563 1417,658.565 1417.42,658.654 1417.85,658.685 1418.27,658.71 \n",
       "  1418.69,658.767 1419.11,658.787 1419.54,658.849 1419.96,658.897 1420.38,658.94 1420.8,658.975 1421.23,659.021 1421.65,659.062 1422.07,659.102 1422.49,659.141 \n",
       "  1422.92,659.184 1423.34,659.226 1423.76,659.271 1424.18,659.314 1424.61,659.356 1425.03,659.389 1425.45,659.437 1425.87,659.5 1426.3,659.51 1426.72,659.581 \n",
       "  1427.14,659.6 1427.56,659.64 1427.99,659.693 1428.41,659.725 1428.83,659.759 1429.25,659.873 1429.68,659.854 1430.1,659.852 1430.52,659.93 1430.94,659.963 \n",
       "  1431.37,659.996 1431.79,660.05 1432.21,660.085 1432.63,660.133 1433.06,660.234 1433.48,660.226 1433.9,660.249 1434.32,660.295 1434.75,660.337 1435.17,660.375 \n",
       "  1435.59,660.483 1436.01,660.463 1436.44,660.493 1436.86,660.539 1437.28,660.581 1437.7,660.619 1438.13,660.663 1438.55,660.767 1438.97,660.742 1439.39,660.778 \n",
       "  1439.82,660.824 1440.24,660.857 1440.66,660.892 1441.08,660.938 1441.51,660.978 1441.93,661.034 1442.35,661.031 1442.77,661.097 1443.2,661.151 1443.62,661.182 \n",
       "  1444.04,661.225 1444.46,661.267 1444.89,661.297 1445.31,661.392 1445.73,661.387 1446.15,661.429 1446.58,661.467 1447,661.475 1447.42,661.573 1447.84,661.585 \n",
       "  1448.26,661.631 1448.69,661.664 1449.11,661.702 1449.53,661.755 1449.95,661.799 1450.38,661.839 1450.8,661.861 1451.22,661.915 1451.64,661.957 1452.07,662.069 \n",
       "  1452.49,662.036 1452.91,662.079 1453.33,662.068 1453.76,662.172 1454.18,662.184 1454.6,662.233 1455.02,662.285 1455.45,662.319 1455.87,662.359 1456.29,662.403 \n",
       "  1456.71,662.447 1457.14,662.477 1457.56,662.531 1457.98,662.56 1458.4,662.599 1458.83,662.656 1459.25,662.694 1459.67,662.677 1460.09,662.76 1460.52,662.808 \n",
       "  1460.94,662.853 1461.36,662.89 1461.78,662.961 1462.21,662.963 1462.63,663.012 1463.05,663.05 1463.47,663.094 1463.9,663.129 1464.32,663.176 1464.74,663.208 \n",
       "  1465.16,663.25 1465.59,663.301 1466.01,663.333 1466.43,663.38 1466.85,663.41 1467.28,663.445 1467.7,663.497 1468.12,663.543 1468.54,663.588 1468.97,663.63 \n",
       "  1469.39,663.656 1469.81,663.712 1470.23,663.717 1470.66,663.79 1471.08,663.826 1471.5,663.869 1471.92,663.91 1472.35,663.948 1472.77,663.992 1473.19,664.03 \n",
       "  1473.61,664.078 1474.04,664.118 1474.46,664.143 1474.88,664.191 1475.3,664.231 1475.73,664.277 1476.15,664.335 1476.57,664.367 1476.99,664.391 1477.42,664.447 \n",
       "  1477.84,664.493 1478.26,664.524 1478.68,664.556 1479.11,664.616 1479.53,664.653 1479.95,664.683 1480.37,664.735 1480.8,664.768 1481.22,664.825 1481.64,664.855 \n",
       "  1482.06,664.899 1482.49,664.94 1482.91,664.986 1483.33,665.078 1483.75,665.07 1484.18,665.113 1484.6,665.145 1485.02,665.195 1485.44,665.242 1485.87,665.273 \n",
       "  1486.29,665.32 1486.71,665.355 1487.13,665.403 1487.56,665.44 1487.98,665.486 1488.4,665.512 1488.82,665.578 1489.25,665.597 1489.67,665.656 1490.09,665.753 \n",
       "  1490.51,665.744 1490.94,665.785 1491.36,665.819 1491.78,665.862 1492.2,665.91 1492.62,665.942 1493.05,665.994 1493.47,666.019 1493.89,666.071 1494.31,666.118 \n",
       "  1494.74,666.138 1495.16,666.208 1495.58,666.254 1496,666.288 1496.43,666.325 1496.85,666.376 1497.27,666.408 1497.69,666.46 1498.12,666.489 1498.54,666.536 \n",
       "  1498.96,666.591 1499.38,666.626 1499.81,666.668 1500.23,666.705 1500.65,666.749 1501.07,666.823 1501.5,666.837 1501.92,666.895 1502.34,666.953 1502.76,666.968 \n",
       "  1503.19,667.004 1503.61,667.066 1504.03,667.1 1504.45,667.134 1504.88,667.191 1505.3,667.222 1505.72,667.268 1506.14,667.317 1506.57,667.358 1506.99,667.474 \n",
       "  1507.41,667.442 1507.83,667.483 1508.26,667.523 1508.68,667.569 1509.1,667.61 1509.52,667.664 1509.95,667.701 1510.37,667.735 1510.79,667.858 1511.21,667.826 \n",
       "  1511.64,667.873 1512.06,667.898 1512.48,667.962 1512.9,668.001 1513.33,668.031 1513.75,668.087 1514.17,668.135 1514.59,668.165 1515.02,668.242 1515.44,668.242 \n",
       "  1515.86,668.301 1516.28,668.338 1516.71,668.381 1517.13,668.482 1517.55,668.48 1517.97,668.511 1518.4,668.561 1518.82,668.6 1519.24,668.655 1519.66,668.775 \n",
       "  1520.09,668.766 1520.51,668.782 1520.93,668.846 1521.35,668.873 1521.78,668.917 1522.2,668.963 1522.62,668.948 1523.04,669.05 1523.47,669.095 1523.89,669.134 \n",
       "  1524.31,669.159 1524.73,669.178 1525.16,669.27 1525.58,669.312 1526,669.38 1526.42,669.392 1526.85,669.44 1527.27,669.482 1527.69,669.526 1528.11,669.575 \n",
       "  1528.54,669.621 1528.96,669.668 1529.38,669.702 1529.8,669.757 1530.23,669.801 1530.65,669.844 1531.07,669.876 1531.49,669.934 1531.92,669.978 1532.34,670.023 \n",
       "  1532.76,670.054 1533.18,670.11 1533.61,670.18 1534.03,670.201 1534.45,670.248 1534.87,670.289 1535.29,670.287 1535.72,670.332 1536.14,670.437 1536.56,670.46 \n",
       "  1536.98,670.515 1537.41,670.515 \n",
       "  \"/>\n",
       "<path clip-path=\"url(#clip140)\" d=\"\n",
       "M1189.74 327.952 L1480.76 327.952 L1480.76 206.992 L1189.74 206.992  Z\n",
       "  \" fill=\"#ffffff\" fill-rule=\"evenodd\" fill-opacity=\"1\"/>\n",
       "<polyline clip-path=\"url(#clip140)\" style=\"stroke:#000000; stroke-width:4; stroke-opacity:1; fill:none\" points=\"\n",
       "  1189.74,327.952 1480.76,327.952 1480.76,206.992 1189.74,206.992 1189.74,327.952 \n",
       "  \"/>\n",
       "<polyline clip-path=\"url(#clip140)\" style=\"stroke:#009af9; stroke-width:4; stroke-opacity:1; fill:none\" points=\"\n",
       "  1213.74,267.472 1357.74,267.472 \n",
       "  \"/>\n",
       "<path clip-path=\"url(#clip140)\" d=\"M 0 0 M1395.58 287.16 Q1393.77 291.789 1392.06 293.201 Q1390.35 294.613 1387.48 294.613 L1384.08 294.613 L1384.08 291.048 L1386.58 291.048 Q1388.33 291.048 1389.31 290.215 Q1390.28 289.382 1391.46 286.28 L1392.22 284.335 L1381.74 258.826 L1386.25 258.826 L1394.35 279.104 L1402.46 258.826 L1406.97 258.826 L1395.58 287.16 Z\" fill=\"#000000\" fill-rule=\"evenodd\" fill-opacity=\"1\" /><path clip-path=\"url(#clip140)\" d=\"M 0 0 M1412.85 280.817 L1420.49 280.817 L1420.49 254.451 L1412.18 256.118 L1412.18 251.859 L1420.44 250.192 L1425.12 250.192 L1425.12 280.817 L1432.76 280.817 L1432.76 284.752 L1412.85 284.752 L1412.85 280.817 Z\" fill=\"#000000\" fill-rule=\"evenodd\" fill-opacity=\"1\" /><path clip-path=\"url(#clip140)\" d=\"\n",
       "M1811.57 686.448 L2352.76 686.448 L2352.76 123.472 L1811.57 123.472  Z\n",
       "  \" fill=\"#ffffff\" fill-rule=\"evenodd\" fill-opacity=\"1\"/>\n",
       "<defs>\n",
       "  <clipPath id=\"clip144\">\n",
       "    <rect x=\"1811\" y=\"123\" width=\"542\" height=\"564\"/>\n",
       "  </clipPath>\n",
       "</defs>\n",
       "<polyline clip-path=\"url(#clip144)\" style=\"stroke:#000000; stroke-width:2; stroke-opacity:0.1; fill:none\" points=\"\n",
       "  1818.24,686.448 1818.24,123.472 \n",
       "  \"/>\n",
       "<polyline clip-path=\"url(#clip144)\" style=\"stroke:#000000; stroke-width:2; stroke-opacity:0.1; fill:none\" points=\"\n",
       "  1904.77,686.448 1904.77,123.472 \n",
       "  \"/>\n",
       "<polyline clip-path=\"url(#clip144)\" style=\"stroke:#000000; stroke-width:2; stroke-opacity:0.1; fill:none\" points=\"\n",
       "  1991.31,686.448 1991.31,123.472 \n",
       "  \"/>\n",
       "<polyline clip-path=\"url(#clip144)\" style=\"stroke:#000000; stroke-width:2; stroke-opacity:0.1; fill:none\" points=\"\n",
       "  2077.84,686.448 2077.84,123.472 \n",
       "  \"/>\n",
       "<polyline clip-path=\"url(#clip144)\" style=\"stroke:#000000; stroke-width:2; stroke-opacity:0.1; fill:none\" points=\"\n",
       "  2164.37,686.448 2164.37,123.472 \n",
       "  \"/>\n",
       "<polyline clip-path=\"url(#clip144)\" style=\"stroke:#000000; stroke-width:2; stroke-opacity:0.1; fill:none\" points=\"\n",
       "  2250.91,686.448 2250.91,123.472 \n",
       "  \"/>\n",
       "<polyline clip-path=\"url(#clip144)\" style=\"stroke:#000000; stroke-width:2; stroke-opacity:0.1; fill:none\" points=\"\n",
       "  2337.44,686.448 2337.44,123.472 \n",
       "  \"/>\n",
       "<polyline clip-path=\"url(#clip144)\" style=\"stroke:#000000; stroke-width:2; stroke-opacity:0.1; fill:none\" points=\"\n",
       "  1811.57,616.864 2352.76,616.864 \n",
       "  \"/>\n",
       "<polyline clip-path=\"url(#clip144)\" style=\"stroke:#000000; stroke-width:2; stroke-opacity:0.1; fill:none\" points=\"\n",
       "  1811.57,542.186 2352.76,542.186 \n",
       "  \"/>\n",
       "<polyline clip-path=\"url(#clip144)\" style=\"stroke:#000000; stroke-width:2; stroke-opacity:0.1; fill:none\" points=\"\n",
       "  1811.57,467.507 2352.76,467.507 \n",
       "  \"/>\n",
       "<polyline clip-path=\"url(#clip144)\" style=\"stroke:#000000; stroke-width:2; stroke-opacity:0.1; fill:none\" points=\"\n",
       "  1811.57,392.828 2352.76,392.828 \n",
       "  \"/>\n",
       "<polyline clip-path=\"url(#clip144)\" style=\"stroke:#000000; stroke-width:2; stroke-opacity:0.1; fill:none\" points=\"\n",
       "  1811.57,318.15 2352.76,318.15 \n",
       "  \"/>\n",
       "<polyline clip-path=\"url(#clip144)\" style=\"stroke:#000000; stroke-width:2; stroke-opacity:0.1; fill:none\" points=\"\n",
       "  1811.57,243.471 2352.76,243.471 \n",
       "  \"/>\n",
       "<polyline clip-path=\"url(#clip144)\" style=\"stroke:#000000; stroke-width:2; stroke-opacity:0.1; fill:none\" points=\"\n",
       "  1811.57,168.792 2352.76,168.792 \n",
       "  \"/>\n",
       "<polyline clip-path=\"url(#clip140)\" style=\"stroke:#000000; stroke-width:4; stroke-opacity:1; fill:none\" points=\"\n",
       "  1811.57,686.448 2352.76,686.448 \n",
       "  \"/>\n",
       "<polyline clip-path=\"url(#clip140)\" style=\"stroke:#000000; stroke-width:4; stroke-opacity:1; fill:none\" points=\"\n",
       "  1811.57,686.448 1811.57,123.472 \n",
       "  \"/>\n",
       "<polyline clip-path=\"url(#clip140)\" style=\"stroke:#000000; stroke-width:4; stroke-opacity:1; fill:none\" points=\"\n",
       "  1818.24,686.448 1818.24,679.692 \n",
       "  \"/>\n",
       "<polyline clip-path=\"url(#clip140)\" style=\"stroke:#000000; stroke-width:4; stroke-opacity:1; fill:none\" points=\"\n",
       "  1904.77,686.448 1904.77,679.692 \n",
       "  \"/>\n",
       "<polyline clip-path=\"url(#clip140)\" style=\"stroke:#000000; stroke-width:4; stroke-opacity:1; fill:none\" points=\"\n",
       "  1991.31,686.448 1991.31,679.692 \n",
       "  \"/>\n",
       "<polyline clip-path=\"url(#clip140)\" style=\"stroke:#000000; stroke-width:4; stroke-opacity:1; fill:none\" points=\"\n",
       "  2077.84,686.448 2077.84,679.692 \n",
       "  \"/>\n",
       "<polyline clip-path=\"url(#clip140)\" style=\"stroke:#000000; stroke-width:4; stroke-opacity:1; fill:none\" points=\"\n",
       "  2164.37,686.448 2164.37,679.692 \n",
       "  \"/>\n",
       "<polyline clip-path=\"url(#clip140)\" style=\"stroke:#000000; stroke-width:4; stroke-opacity:1; fill:none\" points=\"\n",
       "  2250.91,686.448 2250.91,679.692 \n",
       "  \"/>\n",
       "<polyline clip-path=\"url(#clip140)\" style=\"stroke:#000000; stroke-width:4; stroke-opacity:1; fill:none\" points=\"\n",
       "  2337.44,686.448 2337.44,679.692 \n",
       "  \"/>\n",
       "<polyline clip-path=\"url(#clip140)\" style=\"stroke:#000000; stroke-width:4; stroke-opacity:1; fill:none\" points=\"\n",
       "  1811.57,616.864 1818.07,616.864 \n",
       "  \"/>\n",
       "<polyline clip-path=\"url(#clip140)\" style=\"stroke:#000000; stroke-width:4; stroke-opacity:1; fill:none\" points=\"\n",
       "  1811.57,542.186 1818.07,542.186 \n",
       "  \"/>\n",
       "<polyline clip-path=\"url(#clip140)\" style=\"stroke:#000000; stroke-width:4; stroke-opacity:1; fill:none\" points=\"\n",
       "  1811.57,467.507 1818.07,467.507 \n",
       "  \"/>\n",
       "<polyline clip-path=\"url(#clip140)\" style=\"stroke:#000000; stroke-width:4; stroke-opacity:1; fill:none\" points=\"\n",
       "  1811.57,392.828 1818.07,392.828 \n",
       "  \"/>\n",
       "<polyline clip-path=\"url(#clip140)\" style=\"stroke:#000000; stroke-width:4; stroke-opacity:1; fill:none\" points=\"\n",
       "  1811.57,318.15 1818.07,318.15 \n",
       "  \"/>\n",
       "<polyline clip-path=\"url(#clip140)\" style=\"stroke:#000000; stroke-width:4; stroke-opacity:1; fill:none\" points=\"\n",
       "  1811.57,243.471 1818.07,243.471 \n",
       "  \"/>\n",
       "<polyline clip-path=\"url(#clip140)\" style=\"stroke:#000000; stroke-width:4; stroke-opacity:1; fill:none\" points=\"\n",
       "  1811.57,168.792 1818.07,168.792 \n",
       "  \"/>\n",
       "<path clip-path=\"url(#clip140)\" d=\"M 0 0 M1818.24 708.439 Q1814.63 708.439 1812.8 712.003 Q1810.99 715.545 1810.99 722.675 Q1810.99 729.781 1812.8 733.346 Q1814.63 736.887 1818.24 736.887 Q1821.87 736.887 1823.68 733.346 Q1825.51 729.781 1825.51 722.675 Q1825.51 715.545 1823.68 712.003 Q1821.87 708.439 1818.24 708.439 M1818.24 704.735 Q1824.05 704.735 1827.1 709.341 Q1830.18 713.925 1830.18 722.675 Q1830.18 731.401 1827.1 736.008 Q1824.05 740.591 1818.24 740.591 Q1812.43 740.591 1809.35 736.008 Q1806.29 731.401 1806.29 722.675 Q1806.29 713.925 1809.35 709.341 Q1812.43 704.735 1818.24 704.735 Z\" fill=\"#000000\" fill-rule=\"evenodd\" fill-opacity=\"1\" /><path clip-path=\"url(#clip140)\" d=\"M 0 0 M1881.65 735.985 L1889.29 735.985 L1889.29 709.619 L1880.98 711.286 L1880.98 707.027 L1889.24 705.36 L1893.92 705.36 L1893.92 735.985 L1901.55 735.985 L1901.55 739.92 L1881.65 739.92 L1881.65 735.985 Z\" fill=\"#000000\" fill-rule=\"evenodd\" fill-opacity=\"1\" /><path clip-path=\"url(#clip140)\" d=\"M 0 0 M1916.62 708.439 Q1913.01 708.439 1911.18 712.003 Q1909.38 715.545 1909.38 722.675 Q1909.38 729.781 1911.18 733.346 Q1913.01 736.887 1916.62 736.887 Q1920.26 736.887 1922.06 733.346 Q1923.89 729.781 1923.89 722.675 Q1923.89 715.545 1922.06 712.003 Q1920.26 708.439 1916.62 708.439 M1916.62 704.735 Q1922.43 704.735 1925.49 709.341 Q1928.57 713.925 1928.57 722.675 Q1928.57 731.401 1925.49 736.008 Q1922.43 740.591 1916.62 740.591 Q1910.81 740.591 1907.73 736.008 Q1904.68 731.401 1904.68 722.675 Q1904.68 713.925 1907.73 709.341 Q1910.81 704.735 1916.62 704.735 Z\" fill=\"#000000\" fill-rule=\"evenodd\" fill-opacity=\"1\" /><path clip-path=\"url(#clip140)\" d=\"M 0 0 M1972.45 735.985 L1988.77 735.985 L1988.77 739.92 L1966.83 739.92 L1966.83 735.985 Q1969.49 733.23 1974.07 728.6 Q1978.68 723.948 1979.86 722.605 Q1982.1 720.082 1982.98 718.346 Q1983.89 716.587 1983.89 714.897 Q1983.89 712.142 1981.94 710.406 Q1980.02 708.67 1976.92 708.67 Q1974.72 708.67 1972.27 709.434 Q1969.84 710.198 1967.06 711.749 L1967.06 707.027 Q1969.88 705.892 1972.34 705.314 Q1974.79 704.735 1976.83 704.735 Q1982.2 704.735 1985.39 707.42 Q1988.59 710.105 1988.59 714.596 Q1988.59 716.726 1987.77 718.647 Q1986.99 720.545 1984.88 723.138 Q1984.3 723.809 1981.2 727.026 Q1978.1 730.221 1972.45 735.985 Z\" fill=\"#000000\" fill-rule=\"evenodd\" fill-opacity=\"1\" /><path clip-path=\"url(#clip140)\" d=\"M 0 0 M2003.84 708.439 Q2000.23 708.439 1998.4 712.003 Q1996.59 715.545 1996.59 722.675 Q1996.59 729.781 1998.4 733.346 Q2000.23 736.887 2003.84 736.887 Q2007.47 736.887 2009.28 733.346 Q2011.11 729.781 2011.11 722.675 Q2011.11 715.545 2009.28 712.003 Q2007.47 708.439 2003.84 708.439 M2003.84 704.735 Q2009.65 704.735 2012.71 709.341 Q2015.78 713.925 2015.78 722.675 Q2015.78 731.401 2012.71 736.008 Q2009.65 740.591 2003.84 740.591 Q1998.03 740.591 1994.95 736.008 Q1991.9 731.401 1991.9 722.675 Q1991.9 713.925 1994.95 709.341 Q1998.03 704.735 2003.84 704.735 Z\" fill=\"#000000\" fill-rule=\"evenodd\" fill-opacity=\"1\" /><path clip-path=\"url(#clip140)\" d=\"M 0 0 M2068.58 721.286 Q2071.94 722.003 2073.81 724.272 Q2075.71 726.54 2075.71 729.874 Q2075.71 734.989 2072.19 737.79 Q2068.67 740.591 2062.19 740.591 Q2060.01 740.591 2057.7 740.151 Q2055.41 739.735 2052.95 738.878 L2052.95 734.364 Q2054.9 735.499 2057.21 736.077 Q2059.53 736.656 2062.05 736.656 Q2066.45 736.656 2068.74 734.92 Q2071.06 733.184 2071.06 729.874 Q2071.06 726.818 2068.9 725.105 Q2066.77 723.369 2062.95 723.369 L2058.93 723.369 L2058.93 719.526 L2063.14 719.526 Q2066.59 719.526 2068.42 718.161 Q2070.25 716.772 2070.25 714.179 Q2070.25 711.517 2068.35 710.105 Q2066.47 708.67 2062.95 708.67 Q2061.03 708.67 2058.83 709.087 Q2056.64 709.503 2054 710.383 L2054 706.216 Q2056.66 705.476 2058.97 705.105 Q2061.31 704.735 2063.37 704.735 Q2068.7 704.735 2071.8 707.165 Q2074.9 709.573 2074.9 713.693 Q2074.9 716.564 2073.26 718.554 Q2071.61 720.522 2068.58 721.286 Z\" fill=\"#000000\" fill-rule=\"evenodd\" fill-opacity=\"1\" /><path clip-path=\"url(#clip140)\" d=\"M 0 0 M2090.78 708.439 Q2087.17 708.439 2085.34 712.003 Q2083.53 715.545 2083.53 722.675 Q2083.53 729.781 2085.34 733.346 Q2087.17 736.887 2090.78 736.887 Q2094.41 736.887 2096.22 733.346 Q2098.05 729.781 2098.05 722.675 Q2098.05 715.545 2096.22 712.003 Q2094.41 708.439 2090.78 708.439 M2090.78 704.735 Q2096.59 704.735 2099.64 709.341 Q2102.72 713.925 2102.72 722.675 Q2102.72 731.401 2099.64 736.008 Q2096.59 740.591 2090.78 740.591 Q2084.97 740.591 2081.89 736.008 Q2078.83 731.401 2078.83 722.675 Q2078.83 713.925 2081.89 709.341 Q2084.97 704.735 2090.78 704.735 Z\" fill=\"#000000\" fill-rule=\"evenodd\" fill-opacity=\"1\" /><path clip-path=\"url(#clip140)\" d=\"M 0 0 M2153.87 709.434 L2142.07 727.883 L2153.87 727.883 L2153.87 709.434 M2152.65 705.36 L2158.53 705.36 L2158.53 727.883 L2163.46 727.883 L2163.46 731.772 L2158.53 731.772 L2158.53 739.92 L2153.87 739.92 L2153.87 731.772 L2138.27 731.772 L2138.27 727.258 L2152.65 705.36 Z\" fill=\"#000000\" fill-rule=\"evenodd\" fill-opacity=\"1\" /><path clip-path=\"url(#clip140)\" d=\"M 0 0 M2178.53 708.439 Q2174.92 708.439 2173.09 712.003 Q2171.28 715.545 2171.28 722.675 Q2171.28 729.781 2173.09 733.346 Q2174.92 736.887 2178.53 736.887 Q2182.16 736.887 2183.97 733.346 Q2185.8 729.781 2185.8 722.675 Q2185.8 715.545 2183.97 712.003 Q2182.16 708.439 2178.53 708.439 M2178.53 704.735 Q2184.34 704.735 2187.39 709.341 Q2190.47 713.925 2190.47 722.675 Q2190.47 731.401 2187.39 736.008 Q2184.34 740.591 2178.53 740.591 Q2172.72 740.591 2169.64 736.008 Q2166.58 731.401 2166.58 722.675 Q2166.58 713.925 2169.64 709.341 Q2172.72 704.735 2178.53 704.735 Z\" fill=\"#000000\" fill-rule=\"evenodd\" fill-opacity=\"1\" /><path clip-path=\"url(#clip140)\" d=\"M 0 0 M2227.68 705.36 L2246.03 705.36 L2246.03 709.295 L2231.96 709.295 L2231.96 717.767 Q2232.98 717.42 2234 717.258 Q2235.01 717.073 2236.03 717.073 Q2241.82 717.073 2245.2 720.244 Q2248.58 723.415 2248.58 728.832 Q2248.58 734.411 2245.11 737.512 Q2241.64 740.591 2235.32 740.591 Q2233.14 740.591 2230.87 740.221 Q2228.63 739.85 2226.22 739.11 L2226.22 734.411 Q2228.3 735.545 2230.52 736.1 Q2232.75 736.656 2235.22 736.656 Q2239.23 736.656 2241.57 734.55 Q2243.9 732.443 2243.9 728.832 Q2243.9 725.221 2241.57 723.114 Q2239.23 721.008 2235.22 721.008 Q2233.35 721.008 2231.47 721.425 Q2229.62 721.841 2227.68 722.721 L2227.68 705.36 Z\" fill=\"#000000\" fill-rule=\"evenodd\" fill-opacity=\"1\" /><path clip-path=\"url(#clip140)\" d=\"M 0 0 M2263.65 708.439 Q2260.04 708.439 2258.21 712.003 Q2256.4 715.545 2256.4 722.675 Q2256.4 729.781 2258.21 733.346 Q2260.04 736.887 2263.65 736.887 Q2267.28 736.887 2269.09 733.346 Q2270.92 729.781 2270.92 722.675 Q2270.92 715.545 2269.09 712.003 Q2267.28 708.439 2263.65 708.439 M2263.65 704.735 Q2269.46 704.735 2272.51 709.341 Q2275.59 713.925 2275.59 722.675 Q2275.59 731.401 2272.51 736.008 Q2269.46 740.591 2263.65 740.591 Q2257.84 740.591 2254.76 736.008 Q2251.7 731.401 2251.7 722.675 Q2251.7 713.925 2254.76 709.341 Q2257.84 704.735 2263.65 704.735 Z\" fill=\"#000000\" fill-rule=\"evenodd\" fill-opacity=\"1\" /><path clip-path=\"url(#clip140)\" d=\"M 0 0 M2324.34 720.776 Q2321.19 720.776 2319.34 722.929 Q2317.51 725.082 2317.51 728.832 Q2317.51 732.559 2319.34 734.735 Q2321.19 736.887 2324.34 736.887 Q2327.49 736.887 2329.31 734.735 Q2331.17 732.559 2331.17 728.832 Q2331.17 725.082 2329.31 722.929 Q2327.49 720.776 2324.34 720.776 M2333.62 706.124 L2333.62 710.383 Q2331.86 709.55 2330.06 709.11 Q2328.27 708.67 2326.51 708.67 Q2321.88 708.67 2319.43 711.795 Q2317 714.92 2316.65 721.239 Q2318.02 719.226 2320.08 718.161 Q2322.14 717.073 2324.62 717.073 Q2329.82 717.073 2332.83 720.244 Q2335.87 723.392 2335.87 728.832 Q2335.87 734.156 2332.72 737.374 Q2329.57 740.591 2324.34 740.591 Q2318.34 740.591 2315.17 736.008 Q2312 731.401 2312 722.675 Q2312 714.48 2315.89 709.619 Q2319.78 704.735 2326.33 704.735 Q2328.09 704.735 2329.87 705.082 Q2331.68 705.429 2333.62 706.124 Z\" fill=\"#000000\" fill-rule=\"evenodd\" fill-opacity=\"1\" /><path clip-path=\"url(#clip140)\" d=\"M 0 0 M2350.93 708.439 Q2347.32 708.439 2345.49 712.003 Q2343.69 715.545 2343.69 722.675 Q2343.69 729.781 2345.49 733.346 Q2347.32 736.887 2350.93 736.887 Q2354.57 736.887 2356.37 733.346 Q2358.2 729.781 2358.2 722.675 Q2358.2 715.545 2356.37 712.003 Q2354.57 708.439 2350.93 708.439 M2350.93 704.735 Q2356.74 704.735 2359.8 709.341 Q2362.88 713.925 2362.88 722.675 Q2362.88 731.401 2359.8 736.008 Q2356.74 740.591 2350.93 740.591 Q2345.12 740.591 2342.05 736.008 Q2338.99 731.401 2338.99 722.675 Q2338.99 713.925 2342.05 709.341 Q2345.12 704.735 2350.93 704.735 Z\" fill=\"#000000\" fill-rule=\"evenodd\" fill-opacity=\"1\" /><path clip-path=\"url(#clip140)\" d=\"M 0 0 M1698.37 636.657 L1706.01 636.657 L1706.01 610.291 L1697.7 611.958 L1697.7 607.698 L1705.97 606.032 L1710.64 606.032 L1710.64 636.657 L1718.28 636.657 L1718.28 640.592 L1698.37 640.592 L1698.37 636.657 Z\" fill=\"#000000\" fill-rule=\"evenodd\" fill-opacity=\"1\" /><path clip-path=\"url(#clip140)\" d=\"M 0 0 M1733.35 609.11 Q1729.74 609.11 1727.91 612.675 Q1726.11 616.217 1726.11 623.346 Q1726.11 630.453 1727.91 634.018 Q1729.74 637.559 1733.35 637.559 Q1736.98 637.559 1738.79 634.018 Q1740.62 630.453 1740.62 623.346 Q1740.62 616.217 1738.79 612.675 Q1736.98 609.11 1733.35 609.11 M1733.35 605.407 Q1739.16 605.407 1742.22 610.013 Q1745.29 614.597 1745.29 623.346 Q1745.29 632.073 1742.22 636.68 Q1739.16 641.263 1733.35 641.263 Q1727.54 641.263 1724.46 636.68 Q1721.41 632.073 1721.41 623.346 Q1721.41 614.597 1724.46 610.013 Q1727.54 605.407 1733.35 605.407 Z\" fill=\"#000000\" fill-rule=\"evenodd\" fill-opacity=\"1\" /><path clip-path=\"url(#clip140)\" d=\"M 0 0 M1745.29 601.088 L1755.43 601.088 L1755.43 604.172 L1745.29 604.172 L1745.29 601.088 Z\" fill=\"#000000\" fill-rule=\"evenodd\" fill-opacity=\"1\" /><path clip-path=\"url(#clip140)\" d=\"M 0 0 M1770.59 585.101 L1785.51 585.101 L1785.51 588.299 L1774.07 588.299 L1774.07 595.182 Q1774.9 594.9 1775.73 594.769 Q1776.55 594.618 1777.38 594.618 Q1782.08 594.618 1784.83 597.195 Q1787.57 599.771 1787.57 604.172 Q1787.57 608.705 1784.75 611.225 Q1781.93 613.727 1776.8 613.727 Q1775.03 613.727 1773.19 613.426 Q1771.36 613.125 1769.41 612.523 L1769.41 608.705 Q1771.1 609.627 1772.9 610.078 Q1774.71 610.529 1776.72 610.529 Q1779.98 610.529 1781.88 608.818 Q1783.78 607.106 1783.78 604.172 Q1783.78 601.238 1781.88 599.527 Q1779.98 597.815 1776.72 597.815 Q1775.2 597.815 1773.68 598.154 Q1772.17 598.492 1770.59 599.207 L1770.59 585.101 Z\" fill=\"#000000\" fill-rule=\"evenodd\" fill-opacity=\"1\" /><path clip-path=\"url(#clip140)\" d=\"M 0 0 M1696.08 561.978 L1703.72 561.978 L1703.72 535.612 L1695.41 537.279 L1695.41 533.02 L1703.67 531.353 L1708.35 531.353 L1708.35 561.978 L1715.99 561.978 L1715.99 565.913 L1696.08 565.913 L1696.08 561.978 Z\" fill=\"#000000\" fill-rule=\"evenodd\" fill-opacity=\"1\" /><path clip-path=\"url(#clip140)\" d=\"M 0 0 M1731.06 534.432 Q1727.44 534.432 1725.62 537.997 Q1723.81 541.538 1723.81 548.668 Q1723.81 555.774 1725.62 559.339 Q1727.44 562.881 1731.06 562.881 Q1734.69 562.881 1736.5 559.339 Q1738.32 555.774 1738.32 548.668 Q1738.32 541.538 1736.5 537.997 Q1734.69 534.432 1731.06 534.432 M1731.06 530.728 Q1736.87 530.728 1739.92 535.335 Q1743 539.918 1743 548.668 Q1743 557.395 1739.92 562.001 Q1736.87 566.584 1731.06 566.584 Q1725.25 566.584 1722.17 562.001 Q1719.11 557.395 1719.11 548.668 Q1719.11 539.918 1722.17 535.335 Q1725.25 530.728 1731.06 530.728 Z\" fill=\"#000000\" fill-rule=\"evenodd\" fill-opacity=\"1\" /><path clip-path=\"url(#clip140)\" d=\"M 0 0 M1743 526.409 L1753.14 526.409 L1753.14 529.494 L1743 529.494 L1743 526.409 Z\" fill=\"#000000\" fill-rule=\"evenodd\" fill-opacity=\"1\" /><path clip-path=\"url(#clip140)\" d=\"M 0 0 M1779.79 513.733 L1770.2 528.723 L1779.79 528.723 L1779.79 513.733 M1778.79 510.423 L1783.57 510.423 L1783.57 528.723 L1787.57 528.723 L1787.57 531.882 L1783.57 531.882 L1783.57 538.503 L1779.79 538.503 L1779.79 531.882 L1767.11 531.882 L1767.11 528.215 L1778.79 510.423 Z\" fill=\"#000000\" fill-rule=\"evenodd\" fill-opacity=\"1\" /><path clip-path=\"url(#clip140)\" d=\"M 0 0 M1698.05 487.299 L1705.69 487.299 L1705.69 460.934 L1697.38 462.6 L1697.38 458.341 L1705.65 456.674 L1710.32 456.674 L1710.32 487.299 L1717.96 487.299 L1717.96 491.234 L1698.05 491.234 L1698.05 487.299 Z\" fill=\"#000000\" fill-rule=\"evenodd\" fill-opacity=\"1\" /><path clip-path=\"url(#clip140)\" d=\"M 0 0 M1733.03 459.753 Q1729.42 459.753 1727.59 463.318 Q1725.79 466.86 1725.79 473.989 Q1725.79 481.096 1727.59 484.66 Q1729.42 488.202 1733.03 488.202 Q1736.67 488.202 1738.47 484.66 Q1740.3 481.096 1740.3 473.989 Q1740.3 466.86 1738.47 463.318 Q1736.67 459.753 1733.03 459.753 M1733.03 456.049 Q1738.84 456.049 1741.9 460.656 Q1744.98 465.239 1744.98 473.989 Q1744.98 482.716 1741.9 487.322 Q1738.84 491.906 1733.03 491.906 Q1727.22 491.906 1724.14 487.322 Q1721.09 482.716 1721.09 473.989 Q1721.09 465.239 1724.14 460.656 Q1727.22 456.049 1733.03 456.049 Z\" fill=\"#000000\" fill-rule=\"evenodd\" fill-opacity=\"1\" /><path clip-path=\"url(#clip140)\" d=\"M 0 0 M1744.98 451.731 L1755.11 451.731 L1755.11 454.815 L1744.98 454.815 L1744.98 451.731 Z\" fill=\"#000000\" fill-rule=\"evenodd\" fill-opacity=\"1\" /><path clip-path=\"url(#clip140)\" d=\"M 0 0 M1781.78 448.684 Q1784.51 449.267 1786.03 451.11 Q1787.57 452.953 1787.57 455.661 Q1787.57 459.818 1784.72 462.094 Q1781.86 464.369 1776.59 464.369 Q1774.82 464.369 1772.94 464.012 Q1771.08 463.674 1769.09 462.978 L1769.09 459.31 Q1770.67 460.232 1772.55 460.702 Q1774.43 461.172 1776.48 461.172 Q1780.05 461.172 1781.91 459.762 Q1783.79 458.351 1783.79 455.661 Q1783.79 453.179 1782.05 451.787 Q1780.31 450.376 1777.21 450.376 L1773.94 450.376 L1773.94 447.254 L1777.36 447.254 Q1780.16 447.254 1781.65 446.145 Q1783.14 445.016 1783.14 442.91 Q1783.14 440.747 1781.59 439.6 Q1780.07 438.434 1777.21 438.434 Q1775.65 438.434 1773.86 438.772 Q1772.08 439.111 1769.93 439.825 L1769.93 436.44 Q1772.1 435.838 1773.98 435.537 Q1775.88 435.236 1777.55 435.236 Q1781.88 435.236 1784.4 437.211 Q1786.92 439.167 1786.92 442.515 Q1786.92 444.847 1785.58 446.464 Q1784.25 448.063 1781.78 448.684 Z\" fill=\"#000000\" fill-rule=\"evenodd\" fill-opacity=\"1\" /><path clip-path=\"url(#clip140)\" d=\"M 0 0 M1698.71 412.621 L1706.35 412.621 L1706.35 386.255 L1698.04 387.922 L1698.04 383.662 L1706.3 381.996 L1710.98 381.996 L1710.98 412.621 L1718.62 412.621 L1718.62 416.556 L1698.71 416.556 L1698.71 412.621 Z\" fill=\"#000000\" fill-rule=\"evenodd\" fill-opacity=\"1\" /><path clip-path=\"url(#clip140)\" d=\"M 0 0 M1733.69 385.074 Q1730.08 385.074 1728.25 388.639 Q1726.44 392.181 1726.44 399.311 Q1726.44 406.417 1728.25 409.982 Q1730.08 413.523 1733.69 413.523 Q1737.32 413.523 1739.13 409.982 Q1740.96 406.417 1740.96 399.311 Q1740.96 392.181 1739.13 388.639 Q1737.32 385.074 1733.69 385.074 M1733.69 381.371 Q1739.5 381.371 1742.55 385.977 Q1745.63 390.561 1745.63 399.311 Q1745.63 408.037 1742.55 412.644 Q1739.5 417.227 1733.69 417.227 Q1727.88 417.227 1724.8 412.644 Q1721.74 408.037 1721.74 399.311 Q1721.74 390.561 1724.8 385.977 Q1727.88 381.371 1733.69 381.371 Z\" fill=\"#000000\" fill-rule=\"evenodd\" fill-opacity=\"1\" /><path clip-path=\"url(#clip140)\" d=\"M 0 0 M1745.63 377.052 L1755.77 377.052 L1755.77 380.136 L1745.63 380.136 L1745.63 377.052 Z\" fill=\"#000000\" fill-rule=\"evenodd\" fill-opacity=\"1\" /><path clip-path=\"url(#clip140)\" d=\"M 0 0 M1774.32 385.948 L1787.57 385.948 L1787.57 389.145 L1769.75 389.145 L1769.75 385.948 Q1771.91 383.71 1775.63 379.948 Q1779.37 376.168 1780.33 375.077 Q1782.16 373.027 1782.87 371.617 Q1783.61 370.187 1783.61 368.814 Q1783.61 366.576 1782.03 365.166 Q1780.47 363.755 1777.95 363.755 Q1776.16 363.755 1774.16 364.376 Q1772.19 364.996 1769.93 366.256 L1769.93 362.42 Q1772.23 361.498 1774.22 361.028 Q1776.21 360.558 1777.87 360.558 Q1782.23 360.558 1784.83 362.739 Q1787.42 364.921 1787.42 368.57 Q1787.42 370.3 1786.77 371.861 Q1786.13 373.403 1784.42 375.51 Q1783.94 376.055 1781.42 378.669 Q1778.9 381.265 1774.32 385.948 Z\" fill=\"#000000\" fill-rule=\"evenodd\" fill-opacity=\"1\" /><path clip-path=\"url(#clip140)\" d=\"M 0 0 M1699.82 337.942 L1707.46 337.942 L1707.46 311.576 L1699.15 313.243 L1699.15 308.984 L1707.41 307.317 L1712.09 307.317 L1712.09 337.942 L1719.73 337.942 L1719.73 341.877 L1699.82 341.877 L1699.82 337.942 Z\" fill=\"#000000\" fill-rule=\"evenodd\" fill-opacity=\"1\" /><path clip-path=\"url(#clip140)\" d=\"M 0 0 M1734.8 310.396 Q1731.19 310.396 1729.36 313.961 Q1727.55 317.502 1727.55 324.632 Q1727.55 331.738 1729.36 335.303 Q1731.19 338.845 1734.8 338.845 Q1738.43 338.845 1740.24 335.303 Q1742.07 331.738 1742.07 324.632 Q1742.07 317.502 1740.24 313.961 Q1738.43 310.396 1734.8 310.396 M1734.8 306.692 Q1740.61 306.692 1743.66 311.299 Q1746.74 315.882 1746.74 324.632 Q1746.74 333.359 1743.66 337.965 Q1740.61 342.548 1734.8 342.548 Q1728.99 342.548 1725.91 337.965 Q1722.85 333.359 1722.85 324.632 Q1722.85 315.882 1725.91 311.299 Q1728.99 306.692 1734.8 306.692 Z\" fill=\"#000000\" fill-rule=\"evenodd\" fill-opacity=\"1\" /><path clip-path=\"url(#clip140)\" d=\"M 0 0 M1746.74 302.373 L1756.88 302.373 L1756.88 305.458 L1746.74 305.458 L1746.74 302.373 Z\" fill=\"#000000\" fill-rule=\"evenodd\" fill-opacity=\"1\" /><path clip-path=\"url(#clip140)\" d=\"M 0 0 M1771.4 311.269 L1777.61 311.269 L1777.61 289.847 L1770.85 291.202 L1770.85 287.741 L1777.57 286.387 L1781.37 286.387 L1781.37 311.269 L1787.57 311.269 L1787.57 314.467 L1771.4 314.467 L1771.4 311.269 Z\" fill=\"#000000\" fill-rule=\"evenodd\" fill-opacity=\"1\" /><path clip-path=\"url(#clip140)\" d=\"M 0 0 M1721.24 263.263 L1728.88 263.263 L1728.88 236.898 L1720.57 238.564 L1720.57 234.305 L1728.84 232.639 L1733.51 232.639 L1733.51 263.263 L1741.15 263.263 L1741.15 267.199 L1721.24 267.199 L1721.24 263.263 Z\" fill=\"#000000\" fill-rule=\"evenodd\" fill-opacity=\"1\" /><path clip-path=\"url(#clip140)\" d=\"M 0 0 M1756.22 235.717 Q1752.61 235.717 1750.78 239.282 Q1748.98 242.824 1748.98 249.953 Q1748.98 257.06 1750.78 260.624 Q1752.61 264.166 1756.22 264.166 Q1759.86 264.166 1761.66 260.624 Q1763.49 257.06 1763.49 249.953 Q1763.49 242.824 1761.66 239.282 Q1759.86 235.717 1756.22 235.717 M1756.22 232.014 Q1762.03 232.014 1765.09 236.62 Q1768.17 241.203 1768.17 249.953 Q1768.17 258.68 1765.09 263.286 Q1762.03 267.87 1756.22 267.87 Q1750.41 267.87 1747.33 263.286 Q1744.28 258.68 1744.28 249.953 Q1744.28 241.203 1747.33 236.62 Q1750.41 232.014 1756.22 232.014 Z\" fill=\"#000000\" fill-rule=\"evenodd\" fill-opacity=\"1\" /><path clip-path=\"url(#clip140)\" d=\"M 0 0 M1777.87 214.21 Q1774.94 214.21 1773.45 217.106 Q1771.98 219.984 1771.98 225.776 Q1771.98 231.55 1773.45 234.447 Q1774.94 237.324 1777.87 237.324 Q1780.82 237.324 1782.29 234.447 Q1783.78 231.55 1783.78 225.776 Q1783.78 219.984 1782.29 217.106 Q1780.82 214.21 1777.87 214.21 M1777.87 211.2 Q1782.59 211.2 1785.07 214.943 Q1787.57 218.667 1787.57 225.776 Q1787.57 232.867 1785.07 236.61 Q1782.59 240.334 1777.87 240.334 Q1773.15 240.334 1770.65 236.61 Q1768.17 232.867 1768.17 225.776 Q1768.17 218.667 1770.65 214.943 Q1773.15 211.2 1777.87 211.2 Z\" fill=\"#000000\" fill-rule=\"evenodd\" fill-opacity=\"1\" /><path clip-path=\"url(#clip140)\" d=\"M 0 0 M1723.93 188.585 L1731.57 188.585 L1731.57 162.219 L1723.26 163.886 L1723.26 159.627 L1731.53 157.96 L1736.2 157.96 L1736.2 188.585 L1743.84 188.585 L1743.84 192.52 L1723.93 192.52 L1723.93 188.585 Z\" fill=\"#000000\" fill-rule=\"evenodd\" fill-opacity=\"1\" /><path clip-path=\"url(#clip140)\" d=\"M 0 0 M1758.91 161.039 Q1755.3 161.039 1753.47 164.603 Q1751.66 168.145 1751.66 175.275 Q1751.66 182.381 1753.47 185.946 Q1755.3 189.487 1758.91 189.487 Q1762.54 189.487 1764.35 185.946 Q1766.18 182.381 1766.18 175.275 Q1766.18 168.145 1764.35 164.603 Q1762.54 161.039 1758.91 161.039 M1758.91 157.335 Q1764.72 157.335 1767.78 161.941 Q1770.85 166.525 1770.85 175.275 Q1770.85 184.001 1767.78 188.608 Q1764.72 193.191 1758.91 193.191 Q1753.1 193.191 1750.02 188.608 Q1746.97 184.001 1746.97 175.275 Q1746.97 166.525 1750.02 161.941 Q1753.1 157.335 1758.91 157.335 Z\" fill=\"#000000\" fill-rule=\"evenodd\" fill-opacity=\"1\" /><path clip-path=\"url(#clip140)\" d=\"M 0 0 M1771.4 161.912 L1777.61 161.912 L1777.61 140.49 L1770.85 141.844 L1770.85 138.384 L1777.57 137.029 L1781.37 137.029 L1781.37 161.912 L1787.57 161.912 L1787.57 165.109 L1771.4 165.109 L1771.4 161.912 Z\" fill=\"#000000\" fill-rule=\"evenodd\" fill-opacity=\"1\" /><path clip-path=\"url(#clip140)\" d=\"M 0 0 M1911.22 12.096 L1923.41 12.096 L1938.84 53.2532 L1954.36 12.096 L1966.55 12.096 L1966.55 72.576 L1958.57 72.576 L1958.57 19.4686 L1942.98 60.9499 L1934.75 60.9499 L1919.16 19.4686 L1919.16 72.576 L1911.22 72.576 L1911.22 12.096 Z\" fill=\"#000000\" fill-rule=\"evenodd\" fill-opacity=\"1\" /><path clip-path=\"url(#clip140)\" d=\"M 0 0 M2013.18 48.0275 L2013.18 51.6733 L1978.91 51.6733 Q1979.39 59.3701 1983.53 63.421 Q1987.7 67.4314 1995.11 67.4314 Q1999.41 67.4314 2003.42 66.3781 Q2007.47 65.3249 2011.44 63.2184 L2011.44 70.267 Q2007.43 71.9684 2003.21 72.8596 Q1999 73.7508 1994.67 73.7508 Q1983.81 73.7508 1977.45 67.4314 Q1971.13 61.1119 1971.13 50.3365 Q1971.13 39.1965 1977.13 32.6746 Q1983.16 26.1121 1993.37 26.1121 Q2002.52 26.1121 2007.83 32.0264 Q2013.18 37.9003 2013.18 48.0275 M2005.72 45.84 Q2005.64 39.7232 2002.28 36.0774 Q1998.96 32.4315 1993.45 32.4315 Q1987.21 32.4315 1983.44 35.9558 Q1979.72 39.4801 1979.15 45.8805 L2005.72 45.84 Z\" fill=\"#000000\" fill-rule=\"evenodd\" fill-opacity=\"1\" /><path clip-path=\"url(#clip140)\" d=\"M 0 0 M2028.37 14.324 L2028.37 27.2059 L2043.72 27.2059 L2043.72 32.9987 L2028.37 32.9987 L2028.37 57.6282 Q2028.37 63.1779 2029.87 64.7578 Q2031.41 66.3376 2036.07 66.3376 L2043.72 66.3376 L2043.72 72.576 L2036.07 72.576 Q2027.44 72.576 2024.16 69.3758 Q2020.88 66.1351 2020.88 57.6282 L2020.88 32.9987 L2015.41 32.9987 L2015.41 27.2059 L2020.88 27.2059 L2020.88 14.324 L2028.37 14.324 Z\" fill=\"#000000\" fill-rule=\"evenodd\" fill-opacity=\"1\" /><path clip-path=\"url(#clip140)\" d=\"M 0 0 M2089.25 45.1919 L2089.25 72.576 L2081.8 72.576 L2081.8 45.4349 Q2081.8 38.994 2079.29 35.7938 Q2076.78 32.5936 2071.75 32.5936 Q2065.72 32.5936 2062.23 36.4419 Q2058.75 40.2903 2058.75 46.9338 L2058.75 72.576 L2051.26 72.576 L2051.26 9.54393 L2058.75 9.54393 L2058.75 34.2544 Q2061.42 30.163 2065.03 28.1376 Q2068.68 26.1121 2073.42 26.1121 Q2081.23 26.1121 2085.24 30.9732 Q2089.25 35.7938 2089.25 45.1919 Z\" fill=\"#000000\" fill-rule=\"evenodd\" fill-opacity=\"1\" /><path clip-path=\"url(#clip140)\" d=\"M 0 0 M2114.65 32.4315 Q2108.66 32.4315 2105.17 37.1306 Q2101.69 41.7891 2101.69 49.9314 Q2101.69 58.0738 2105.13 62.7728 Q2108.62 67.4314 2114.65 67.4314 Q2120.61 67.4314 2124.09 62.7323 Q2127.58 58.0333 2127.58 49.9314 Q2127.58 41.8701 2124.09 37.1711 Q2120.61 32.4315 2114.65 32.4315 M2114.65 26.1121 Q2124.38 26.1121 2129.93 32.4315 Q2135.48 38.7509 2135.48 49.9314 Q2135.48 61.0714 2129.93 67.4314 Q2124.38 73.7508 2114.65 73.7508 Q2104.89 73.7508 2099.34 67.4314 Q2093.83 61.0714 2093.83 49.9314 Q2093.83 38.7509 2099.34 32.4315 Q2104.89 26.1121 2114.65 26.1121 Z\" fill=\"#000000\" fill-rule=\"evenodd\" fill-opacity=\"1\" /><path clip-path=\"url(#clip140)\" d=\"M 0 0 M2173.15 34.0924 L2173.15 9.54393 L2180.6 9.54393 L2180.6 72.576 L2173.15 72.576 L2173.15 65.7705 Q2170.8 69.8214 2167.19 71.8063 Q2163.63 73.7508 2158.61 73.7508 Q2150.38 73.7508 2145.2 67.1883 Q2140.05 60.6258 2140.05 49.9314 Q2140.05 39.2371 2145.2 32.6746 Q2150.38 26.1121 2158.61 26.1121 Q2163.63 26.1121 2167.19 28.0971 Q2170.8 30.0415 2173.15 34.0924 M2147.75 49.9314 Q2147.75 58.1548 2151.11 62.8538 Q2154.51 67.5124 2160.43 67.5124 Q2166.34 67.5124 2169.75 62.8538 Q2173.15 58.1548 2173.15 49.9314 Q2173.15 41.7081 2169.75 37.0496 Q2166.34 32.3505 2160.43 32.3505 Q2154.51 32.3505 2151.11 37.0496 Q2147.75 41.7081 2147.75 49.9314 Z\" fill=\"#000000\" fill-rule=\"evenodd\" fill-opacity=\"1\" /><path clip-path=\"url(#clip140)\" d=\"M 0 0 M2240.64 39.9662 Q2246.51 41.222 2249.79 45.1919 Q2253.11 49.1618 2253.11 54.9951 Q2253.11 63.9476 2246.96 68.8492 Q2240.8 73.7508 2229.46 73.7508 Q2225.65 73.7508 2221.6 72.9811 Q2217.59 72.2519 2213.29 70.7531 L2213.29 62.8538 Q2216.7 64.8388 2220.75 65.8515 Q2224.8 66.8642 2229.21 66.8642 Q2236.91 66.8642 2240.92 63.826 Q2244.97 60.7879 2244.97 54.9951 Q2244.97 49.6479 2241.2 46.6502 Q2237.48 43.612 2230.79 43.612 L2223.74 43.612 L2223.74 36.8875 L2231.12 36.8875 Q2237.15 36.8875 2240.35 34.4975 Q2243.55 32.067 2243.55 27.5299 Q2243.55 22.8714 2240.23 20.4004 Q2236.95 17.8888 2230.79 17.8888 Q2227.43 17.8888 2223.58 18.618 Q2219.73 19.3471 2215.12 20.8865 L2215.12 13.5948 Q2219.77 12.2985 2223.83 11.6504 Q2227.92 11.0023 2231.52 11.0023 Q2240.84 11.0023 2246.27 15.2557 Q2251.7 19.4686 2251.7 26.6793 Q2251.7 31.7024 2248.82 35.1862 Q2245.94 38.6294 2240.64 39.9662 Z\" fill=\"#000000\" fill-rule=\"evenodd\" fill-opacity=\"1\" /><polyline clip-path=\"url(#clip144)\" style=\"stroke:#009af9; stroke-width:4; stroke-opacity:1; fill:none\" points=\"\n",
       "  1826.89,139.405 1835.54,150.754 1844.2,164.492 1852.85,181.341 1861.5,203.593 1870.16,235.257 1878.81,288.368 1887.46,318.575 1896.12,261.648 1904.77,233.236 \n",
       "  1913.42,318.575 1922.08,217.672 1930.73,333.351 1939.38,333.459 1948.04,342.053 1956.69,414.745 1965.34,432.541 1974,432.691 1982.65,432.692 1991.31,446.708 \n",
       "  1999.96,493.78 2008.61,506.891 2017.27,509.649 2025.92,511.287 2034.57,511.529 2043.23,511.533 2051.88,511.536 2060.53,511.538 2069.19,511.54 2077.84,511.55 \n",
       "  2086.49,515.899 2095.15,518.472 2103.8,522.548 2112.45,530.125 2121.11,536.941 2129.76,547.953 2138.41,563.362 2147.07,569.18 2155.72,573.536 2164.37,573.683 \n",
       "  2173.03,573.748 2181.68,575.217 2190.33,577.38 2198.99,578.343 2207.64,587.85 2216.29,594.794 2224.95,596.256 2233.6,610.833 2242.25,618.77 2250.91,629.242 \n",
       "  2259.56,641.817 2268.21,654.692 2276.87,663.386 2285.52,669.265 2294.17,669.675 2302.83,670.339 2311.48,670.404 2320.13,670.454 2328.79,670.515 2337.44,670.515 \n",
       "  \n",
       "  \"/>\n",
       "<path clip-path=\"url(#clip140)\" d=\"\n",
       "M1989.74 327.952 L2280.76 327.952 L2280.76 206.992 L1989.74 206.992  Z\n",
       "  \" fill=\"#ffffff\" fill-rule=\"evenodd\" fill-opacity=\"1\"/>\n",
       "<polyline clip-path=\"url(#clip140)\" style=\"stroke:#000000; stroke-width:4; stroke-opacity:1; fill:none\" points=\"\n",
       "  1989.74,327.952 2280.76,327.952 2280.76,206.992 1989.74,206.992 1989.74,327.952 \n",
       "  \"/>\n",
       "<polyline clip-path=\"url(#clip140)\" style=\"stroke:#009af9; stroke-width:4; stroke-opacity:1; fill:none\" points=\"\n",
       "  2013.74,267.472 2157.74,267.472 \n",
       "  \"/>\n",
       "<path clip-path=\"url(#clip140)\" d=\"M 0 0 M2195.58 287.16 Q2193.77 291.789 2192.06 293.201 Q2190.35 294.613 2187.48 294.613 L2184.08 294.613 L2184.08 291.048 L2186.58 291.048 Q2188.33 291.048 2189.31 290.215 Q2190.28 289.382 2191.46 286.28 L2192.22 284.335 L2181.74 258.826 L2186.25 258.826 L2194.35 279.104 L2202.46 258.826 L2206.97 258.826 L2195.58 287.16 Z\" fill=\"#000000\" fill-rule=\"evenodd\" fill-opacity=\"1\" /><path clip-path=\"url(#clip140)\" d=\"M 0 0 M2212.85 280.817 L2220.49 280.817 L2220.49 254.451 L2212.18 256.118 L2212.18 251.859 L2220.44 250.192 L2225.12 250.192 L2225.12 280.817 L2232.76 280.817 L2232.76 284.752 L2212.85 284.752 L2212.85 280.817 Z\" fill=\"#000000\" fill-rule=\"evenodd\" fill-opacity=\"1\" /><path clip-path=\"url(#clip140)\" d=\"\n",
       "M211.575 1486.45 L752.756 1486.45 L752.756 923.472 L211.575 923.472  Z\n",
       "  \" fill=\"#ffffff\" fill-rule=\"evenodd\" fill-opacity=\"1\"/>\n",
       "<defs>\n",
       "  <clipPath id=\"clip145\">\n",
       "    <rect x=\"211\" y=\"923\" width=\"542\" height=\"564\"/>\n",
       "  </clipPath>\n",
       "</defs>\n",
       "<polyline clip-path=\"url(#clip145)\" style=\"stroke:#000000; stroke-width:2; stroke-opacity:0.1; fill:none\" points=\"\n",
       "  226.139,1486.45 226.139,923.472 \n",
       "  \"/>\n",
       "<polyline clip-path=\"url(#clip145)\" style=\"stroke:#000000; stroke-width:2; stroke-opacity:0.1; fill:none\" points=\"\n",
       "  376.522,1486.45 376.522,923.472 \n",
       "  \"/>\n",
       "<polyline clip-path=\"url(#clip145)\" style=\"stroke:#000000; stroke-width:2; stroke-opacity:0.1; fill:none\" points=\"\n",
       "  526.904,1486.45 526.904,923.472 \n",
       "  \"/>\n",
       "<polyline clip-path=\"url(#clip145)\" style=\"stroke:#000000; stroke-width:2; stroke-opacity:0.1; fill:none\" points=\"\n",
       "  677.287,1486.45 677.287,923.472 \n",
       "  \"/>\n",
       "<polyline clip-path=\"url(#clip145)\" style=\"stroke:#000000; stroke-width:2; stroke-opacity:0.1; fill:none\" points=\"\n",
       "  211.575,1417.98 752.756,1417.98 \n",
       "  \"/>\n",
       "<polyline clip-path=\"url(#clip145)\" style=\"stroke:#000000; stroke-width:2; stroke-opacity:0.1; fill:none\" points=\"\n",
       "  211.575,1343.13 752.756,1343.13 \n",
       "  \"/>\n",
       "<polyline clip-path=\"url(#clip145)\" style=\"stroke:#000000; stroke-width:2; stroke-opacity:0.1; fill:none\" points=\"\n",
       "  211.575,1268.27 752.756,1268.27 \n",
       "  \"/>\n",
       "<polyline clip-path=\"url(#clip145)\" style=\"stroke:#000000; stroke-width:2; stroke-opacity:0.1; fill:none\" points=\"\n",
       "  211.575,1193.42 752.756,1193.42 \n",
       "  \"/>\n",
       "<polyline clip-path=\"url(#clip145)\" style=\"stroke:#000000; stroke-width:2; stroke-opacity:0.1; fill:none\" points=\"\n",
       "  211.575,1118.57 752.756,1118.57 \n",
       "  \"/>\n",
       "<polyline clip-path=\"url(#clip145)\" style=\"stroke:#000000; stroke-width:2; stroke-opacity:0.1; fill:none\" points=\"\n",
       "  211.575,1043.71 752.756,1043.71 \n",
       "  \"/>\n",
       "<polyline clip-path=\"url(#clip145)\" style=\"stroke:#000000; stroke-width:2; stroke-opacity:0.1; fill:none\" points=\"\n",
       "  211.575,968.861 752.756,968.861 \n",
       "  \"/>\n",
       "<polyline clip-path=\"url(#clip140)\" style=\"stroke:#000000; stroke-width:4; stroke-opacity:1; fill:none\" points=\"\n",
       "  211.575,1486.45 752.756,1486.45 \n",
       "  \"/>\n",
       "<polyline clip-path=\"url(#clip140)\" style=\"stroke:#000000; stroke-width:4; stroke-opacity:1; fill:none\" points=\"\n",
       "  211.575,1486.45 211.575,923.472 \n",
       "  \"/>\n",
       "<polyline clip-path=\"url(#clip140)\" style=\"stroke:#000000; stroke-width:4; stroke-opacity:1; fill:none\" points=\"\n",
       "  226.139,1486.45 226.139,1479.69 \n",
       "  \"/>\n",
       "<polyline clip-path=\"url(#clip140)\" style=\"stroke:#000000; stroke-width:4; stroke-opacity:1; fill:none\" points=\"\n",
       "  376.522,1486.45 376.522,1479.69 \n",
       "  \"/>\n",
       "<polyline clip-path=\"url(#clip140)\" style=\"stroke:#000000; stroke-width:4; stroke-opacity:1; fill:none\" points=\"\n",
       "  526.904,1486.45 526.904,1479.69 \n",
       "  \"/>\n",
       "<polyline clip-path=\"url(#clip140)\" style=\"stroke:#000000; stroke-width:4; stroke-opacity:1; fill:none\" points=\"\n",
       "  677.287,1486.45 677.287,1479.69 \n",
       "  \"/>\n",
       "<polyline clip-path=\"url(#clip140)\" style=\"stroke:#000000; stroke-width:4; stroke-opacity:1; fill:none\" points=\"\n",
       "  211.575,1417.98 218.069,1417.98 \n",
       "  \"/>\n",
       "<polyline clip-path=\"url(#clip140)\" style=\"stroke:#000000; stroke-width:4; stroke-opacity:1; fill:none\" points=\"\n",
       "  211.575,1343.13 218.069,1343.13 \n",
       "  \"/>\n",
       "<polyline clip-path=\"url(#clip140)\" style=\"stroke:#000000; stroke-width:4; stroke-opacity:1; fill:none\" points=\"\n",
       "  211.575,1268.27 218.069,1268.27 \n",
       "  \"/>\n",
       "<polyline clip-path=\"url(#clip140)\" style=\"stroke:#000000; stroke-width:4; stroke-opacity:1; fill:none\" points=\"\n",
       "  211.575,1193.42 218.069,1193.42 \n",
       "  \"/>\n",
       "<polyline clip-path=\"url(#clip140)\" style=\"stroke:#000000; stroke-width:4; stroke-opacity:1; fill:none\" points=\"\n",
       "  211.575,1118.57 218.069,1118.57 \n",
       "  \"/>\n",
       "<polyline clip-path=\"url(#clip140)\" style=\"stroke:#000000; stroke-width:4; stroke-opacity:1; fill:none\" points=\"\n",
       "  211.575,1043.71 218.069,1043.71 \n",
       "  \"/>\n",
       "<polyline clip-path=\"url(#clip140)\" style=\"stroke:#000000; stroke-width:4; stroke-opacity:1; fill:none\" points=\"\n",
       "  211.575,968.861 218.069,968.861 \n",
       "  \"/>\n",
       "<path clip-path=\"url(#clip140)\" d=\"M 0 0 M226.139 1508.44 Q222.528 1508.44 220.7 1512 Q218.894 1515.55 218.894 1522.67 Q218.894 1529.78 220.7 1533.35 Q222.528 1536.89 226.139 1536.89 Q229.774 1536.89 231.579 1533.35 Q233.408 1529.78 233.408 1522.67 Q233.408 1515.55 231.579 1512 Q229.774 1508.44 226.139 1508.44 M226.139 1504.73 Q231.949 1504.73 235.005 1509.34 Q238.084 1513.92 238.084 1522.67 Q238.084 1531.4 235.005 1536.01 Q231.949 1540.59 226.139 1540.59 Q220.329 1540.59 217.25 1536.01 Q214.195 1531.4 214.195 1522.67 Q214.195 1513.92 217.25 1509.34 Q220.329 1504.73 226.139 1504.73 Z\" fill=\"#000000\" fill-rule=\"evenodd\" fill-opacity=\"1\" /><path clip-path=\"url(#clip140)\" d=\"M 0 0 M344.161 1535.98 L360.48 1535.98 L360.48 1539.92 L338.536 1539.92 L338.536 1535.98 Q341.198 1533.23 345.781 1528.6 Q350.388 1523.95 351.568 1522.61 Q353.814 1520.08 354.693 1518.35 Q355.596 1516.59 355.596 1514.9 Q355.596 1512.14 353.651 1510.41 Q351.73 1508.67 348.628 1508.67 Q346.429 1508.67 343.976 1509.43 Q341.545 1510.2 338.767 1511.75 L338.767 1507.03 Q341.591 1505.89 344.045 1505.31 Q346.499 1504.73 348.536 1504.73 Q353.906 1504.73 357.101 1507.42 Q360.295 1510.11 360.295 1514.6 Q360.295 1516.73 359.485 1518.65 Q358.698 1520.54 356.591 1523.14 Q356.013 1523.81 352.911 1527.03 Q349.809 1530.22 344.161 1535.98 Z\" fill=\"#000000\" fill-rule=\"evenodd\" fill-opacity=\"1\" /><path clip-path=\"url(#clip140)\" d=\"M 0 0 M375.55 1508.44 Q371.938 1508.44 370.11 1512 Q368.304 1515.55 368.304 1522.67 Q368.304 1529.78 370.11 1533.35 Q371.938 1536.89 375.55 1536.89 Q379.184 1536.89 380.989 1533.35 Q382.818 1529.78 382.818 1522.67 Q382.818 1515.55 380.989 1512 Q379.184 1508.44 375.55 1508.44 M375.55 1504.73 Q381.36 1504.73 384.415 1509.34 Q387.494 1513.92 387.494 1522.67 Q387.494 1531.4 384.415 1536.01 Q381.36 1540.59 375.55 1540.59 Q369.739 1540.59 366.661 1536.01 Q363.605 1531.4 363.605 1522.67 Q363.605 1513.92 366.661 1509.34 Q369.739 1504.73 375.55 1504.73 Z\" fill=\"#000000\" fill-rule=\"evenodd\" fill-opacity=\"1\" /><path clip-path=\"url(#clip140)\" d=\"M 0 0 M402.563 1508.44 Q398.952 1508.44 397.123 1512 Q395.318 1515.55 395.318 1522.67 Q395.318 1529.78 397.123 1533.35 Q398.952 1536.89 402.563 1536.89 Q406.197 1536.89 408.003 1533.35 Q409.832 1529.78 409.832 1522.67 Q409.832 1515.55 408.003 1512 Q406.197 1508.44 402.563 1508.44 M402.563 1504.73 Q408.373 1504.73 411.429 1509.34 Q414.508 1513.92 414.508 1522.67 Q414.508 1531.4 411.429 1536.01 Q408.373 1540.59 402.563 1540.59 Q396.753 1540.59 393.674 1536.01 Q390.619 1531.4 390.619 1522.67 Q390.619 1513.92 393.674 1509.34 Q396.753 1504.73 402.563 1504.73 Z\" fill=\"#000000\" fill-rule=\"evenodd\" fill-opacity=\"1\" /><path clip-path=\"url(#clip140)\" d=\"M 0 0 M502.9 1509.43 L491.094 1527.88 L502.9 1527.88 L502.9 1509.43 M501.673 1505.36 L507.552 1505.36 L507.552 1527.88 L512.483 1527.88 L512.483 1531.77 L507.552 1531.77 L507.552 1539.92 L502.9 1539.92 L502.9 1531.77 L487.298 1531.77 L487.298 1527.26 L501.673 1505.36 Z\" fill=\"#000000\" fill-rule=\"evenodd\" fill-opacity=\"1\" /><path clip-path=\"url(#clip140)\" d=\"M 0 0 M527.552 1508.44 Q523.941 1508.44 522.112 1512 Q520.307 1515.55 520.307 1522.67 Q520.307 1529.78 522.112 1533.35 Q523.941 1536.89 527.552 1536.89 Q531.186 1536.89 532.992 1533.35 Q534.821 1529.78 534.821 1522.67 Q534.821 1515.55 532.992 1512 Q531.186 1508.44 527.552 1508.44 M527.552 1504.73 Q533.362 1504.73 536.418 1509.34 Q539.497 1513.92 539.497 1522.67 Q539.497 1531.4 536.418 1536.01 Q533.362 1540.59 527.552 1540.59 Q521.742 1540.59 518.663 1536.01 Q515.608 1531.4 515.608 1522.67 Q515.608 1513.92 518.663 1509.34 Q521.742 1504.73 527.552 1504.73 Z\" fill=\"#000000\" fill-rule=\"evenodd\" fill-opacity=\"1\" /><path clip-path=\"url(#clip140)\" d=\"M 0 0 M554.566 1508.44 Q550.955 1508.44 549.126 1512 Q547.321 1515.55 547.321 1522.67 Q547.321 1529.78 549.126 1533.35 Q550.955 1536.89 554.566 1536.89 Q558.2 1536.89 560.006 1533.35 Q561.834 1529.78 561.834 1522.67 Q561.834 1515.55 560.006 1512 Q558.2 1508.44 554.566 1508.44 M554.566 1504.73 Q560.376 1504.73 563.432 1509.34 Q566.51 1513.92 566.51 1522.67 Q566.51 1531.4 563.432 1536.01 Q560.376 1540.59 554.566 1540.59 Q548.756 1540.59 545.677 1536.01 Q542.622 1531.4 542.622 1522.67 Q542.622 1513.92 545.677 1509.34 Q548.756 1504.73 554.566 1504.73 Z\" fill=\"#000000\" fill-rule=\"evenodd\" fill-opacity=\"1\" /><path clip-path=\"url(#clip140)\" d=\"M 0 0 M650.678 1520.78 Q647.53 1520.78 645.678 1522.93 Q643.849 1525.08 643.849 1528.83 Q643.849 1532.56 645.678 1534.73 Q647.53 1536.89 650.678 1536.89 Q653.826 1536.89 655.655 1534.73 Q657.507 1532.56 657.507 1528.83 Q657.507 1525.08 655.655 1522.93 Q653.826 1520.78 650.678 1520.78 M659.96 1506.12 L659.96 1510.38 Q658.201 1509.55 656.395 1509.11 Q654.613 1508.67 652.854 1508.67 Q648.224 1508.67 645.77 1511.8 Q643.34 1514.92 642.993 1521.24 Q644.358 1519.23 646.419 1518.16 Q648.479 1517.07 650.956 1517.07 Q656.164 1517.07 659.173 1520.24 Q662.206 1523.39 662.206 1528.83 Q662.206 1534.16 659.057 1537.37 Q655.909 1540.59 650.678 1540.59 Q644.683 1540.59 641.511 1536.01 Q638.34 1531.4 638.34 1522.67 Q638.34 1514.48 642.229 1509.62 Q646.118 1504.73 652.669 1504.73 Q654.428 1504.73 656.21 1505.08 Q658.016 1505.43 659.96 1506.12 Z\" fill=\"#000000\" fill-rule=\"evenodd\" fill-opacity=\"1\" /><path clip-path=\"url(#clip140)\" d=\"M 0 0 M677.275 1508.44 Q673.664 1508.44 671.835 1512 Q670.03 1515.55 670.03 1522.67 Q670.03 1529.78 671.835 1533.35 Q673.664 1536.89 677.275 1536.89 Q680.909 1536.89 682.715 1533.35 Q684.543 1529.78 684.543 1522.67 Q684.543 1515.55 682.715 1512 Q680.909 1508.44 677.275 1508.44 M677.275 1504.73 Q683.085 1504.73 686.141 1509.34 Q689.219 1513.92 689.219 1522.67 Q689.219 1531.4 686.141 1536.01 Q683.085 1540.59 677.275 1540.59 Q671.465 1540.59 668.386 1536.01 Q665.331 1531.4 665.331 1522.67 Q665.331 1513.92 668.386 1509.34 Q671.465 1504.73 677.275 1504.73 Z\" fill=\"#000000\" fill-rule=\"evenodd\" fill-opacity=\"1\" /><path clip-path=\"url(#clip140)\" d=\"M 0 0 M704.289 1508.44 Q700.678 1508.44 698.849 1512 Q697.043 1515.55 697.043 1522.67 Q697.043 1529.78 698.849 1533.35 Q700.678 1536.89 704.289 1536.89 Q707.923 1536.89 709.728 1533.35 Q711.557 1529.78 711.557 1522.67 Q711.557 1515.55 709.728 1512 Q707.923 1508.44 704.289 1508.44 M704.289 1504.73 Q710.099 1504.73 713.154 1509.34 Q716.233 1513.92 716.233 1522.67 Q716.233 1531.4 713.154 1536.01 Q710.099 1540.59 704.289 1540.59 Q698.479 1540.59 695.4 1536.01 Q692.344 1531.4 692.344 1522.67 Q692.344 1513.92 695.4 1509.34 Q698.479 1504.73 704.289 1504.73 Z\" fill=\"#000000\" fill-rule=\"evenodd\" fill-opacity=\"1\" /><path clip-path=\"url(#clip140)\" d=\"M 0 0 M98.3739 1437.77 L106.013 1437.77 L106.013 1411.41 L97.7026 1413.07 L97.7026 1408.81 L105.966 1407.15 L110.642 1407.15 L110.642 1437.77 L118.281 1437.77 L118.281 1441.71 L98.3739 1441.71 L98.3739 1437.77 Z\" fill=\"#000000\" fill-rule=\"evenodd\" fill-opacity=\"1\" /><path clip-path=\"url(#clip140)\" d=\"M 0 0 M133.351 1410.23 Q129.739 1410.23 127.911 1413.79 Q126.105 1417.33 126.105 1424.46 Q126.105 1431.57 127.911 1435.13 Q129.739 1438.67 133.351 1438.67 Q136.985 1438.67 138.79 1435.13 Q140.619 1431.57 140.619 1424.46 Q140.619 1417.33 138.79 1413.79 Q136.985 1410.23 133.351 1410.23 M133.351 1406.52 Q139.161 1406.52 142.216 1411.13 Q145.295 1415.71 145.295 1424.46 Q145.295 1433.19 142.216 1437.79 Q139.161 1442.38 133.351 1442.38 Q127.54 1442.38 124.462 1437.79 Q121.406 1433.19 121.406 1424.46 Q121.406 1415.71 124.462 1411.13 Q127.54 1406.52 133.351 1406.52 Z\" fill=\"#000000\" fill-rule=\"evenodd\" fill-opacity=\"1\" /><path clip-path=\"url(#clip140)\" d=\"M 0 0 M145.295 1402.2 L155.432 1402.2 L155.432 1405.29 L145.295 1405.29 L145.295 1402.2 Z\" fill=\"#000000\" fill-rule=\"evenodd\" fill-opacity=\"1\" /><path clip-path=\"url(#clip140)\" d=\"M 0 0 M170.591 1386.22 L185.506 1386.22 L185.506 1389.41 L174.071 1389.41 L174.071 1396.3 Q174.898 1396.01 175.726 1395.88 Q176.553 1395.73 177.381 1395.73 Q182.083 1395.73 184.829 1398.31 Q187.575 1400.89 187.575 1405.29 Q187.575 1409.82 184.754 1412.34 Q181.932 1414.84 176.798 1414.84 Q175.03 1414.84 173.187 1414.54 Q171.362 1414.24 169.406 1413.64 L169.406 1409.82 Q171.099 1410.74 172.905 1411.19 Q174.71 1411.64 176.723 1411.64 Q179.976 1411.64 181.876 1409.93 Q183.776 1408.22 183.776 1405.29 Q183.776 1402.35 181.876 1400.64 Q179.976 1398.93 176.723 1398.93 Q175.199 1398.93 173.676 1399.27 Q172.171 1399.61 170.591 1400.32 L170.591 1386.22 Z\" fill=\"#000000\" fill-rule=\"evenodd\" fill-opacity=\"1\" /><path clip-path=\"url(#clip140)\" d=\"M 0 0 M96.0793 1362.92 L103.718 1362.92 L103.718 1336.55 L95.408 1338.22 L95.408 1333.96 L103.672 1332.29 L108.348 1332.29 L108.348 1362.92 L115.987 1362.92 L115.987 1366.85 L96.0793 1366.85 L96.0793 1362.92 Z\" fill=\"#000000\" fill-rule=\"evenodd\" fill-opacity=\"1\" /><path clip-path=\"url(#clip140)\" d=\"M 0 0 M131.056 1335.37 Q127.445 1335.37 125.616 1338.94 Q123.811 1342.48 123.811 1349.61 Q123.811 1356.71 125.616 1360.28 Q127.445 1363.82 131.056 1363.82 Q134.69 1363.82 136.496 1360.28 Q138.324 1356.71 138.324 1349.61 Q138.324 1342.48 136.496 1338.94 Q134.69 1335.37 131.056 1335.37 M131.056 1331.67 Q136.866 1331.67 139.922 1336.27 Q143 1340.86 143 1349.61 Q143 1358.34 139.922 1362.94 Q136.866 1367.52 131.056 1367.52 Q125.246 1367.52 122.167 1362.94 Q119.112 1358.34 119.112 1349.61 Q119.112 1340.86 122.167 1336.27 Q125.246 1331.67 131.056 1331.67 Z\" fill=\"#000000\" fill-rule=\"evenodd\" fill-opacity=\"1\" /><path clip-path=\"url(#clip140)\" d=\"M 0 0 M143 1327.35 L153.138 1327.35 L153.138 1330.43 L143 1330.43 L143 1327.35 Z\" fill=\"#000000\" fill-rule=\"evenodd\" fill-opacity=\"1\" /><path clip-path=\"url(#clip140)\" d=\"M 0 0 M179.788 1314.67 L170.196 1329.66 L179.788 1329.66 L179.788 1314.67 M178.792 1311.36 L183.569 1311.36 L183.569 1329.66 L187.575 1329.66 L187.575 1332.82 L183.569 1332.82 L183.569 1339.44 L179.788 1339.44 L179.788 1332.82 L167.112 1332.82 L167.112 1329.16 L178.792 1311.36 Z\" fill=\"#000000\" fill-rule=\"evenodd\" fill-opacity=\"1\" /><path clip-path=\"url(#clip140)\" d=\"M 0 0 M98.0541 1288.07 L105.693 1288.07 L105.693 1261.7 L97.3829 1263.37 L97.3829 1259.11 L105.647 1257.44 L110.323 1257.44 L110.323 1288.07 L117.961 1288.07 L117.961 1292 L98.0541 1292 L98.0541 1288.07 Z\" fill=\"#000000\" fill-rule=\"evenodd\" fill-opacity=\"1\" /><path clip-path=\"url(#clip140)\" d=\"M 0 0 M133.031 1260.52 Q129.42 1260.52 127.591 1264.08 Q125.785 1267.63 125.785 1274.76 Q125.785 1281.86 127.591 1285.43 Q129.42 1288.97 133.031 1288.97 Q136.665 1288.97 138.471 1285.43 Q140.299 1281.86 140.299 1274.76 Q140.299 1267.63 138.471 1264.08 Q136.665 1260.52 133.031 1260.52 M133.031 1256.82 Q138.841 1256.82 141.897 1261.42 Q144.975 1266.01 144.975 1274.76 Q144.975 1283.48 141.897 1288.09 Q138.841 1292.67 133.031 1292.67 Q127.221 1292.67 124.142 1288.09 Q121.086 1283.48 121.086 1274.76 Q121.086 1266.01 124.142 1261.42 Q127.221 1256.82 133.031 1256.82 Z\" fill=\"#000000\" fill-rule=\"evenodd\" fill-opacity=\"1\" /><path clip-path=\"url(#clip140)\" d=\"M 0 0 M144.975 1252.5 L155.113 1252.5 L155.113 1255.58 L144.975 1255.58 L144.975 1252.5 Z\" fill=\"#000000\" fill-rule=\"evenodd\" fill-opacity=\"1\" /><path clip-path=\"url(#clip140)\" d=\"M 0 0 M181.782 1249.45 Q184.509 1250.03 186.033 1251.88 Q187.575 1253.72 187.575 1256.43 Q187.575 1260.58 184.716 1262.86 Q181.857 1265.14 176.591 1265.14 Q174.823 1265.14 172.942 1264.78 Q171.08 1264.44 169.087 1263.74 L169.087 1260.08 Q170.667 1261 172.547 1261.47 Q174.428 1261.94 176.478 1261.94 Q180.052 1261.94 181.914 1260.53 Q183.794 1259.12 183.794 1256.43 Q183.794 1253.94 182.045 1252.55 Q180.315 1251.14 177.212 1251.14 L173.939 1251.14 L173.939 1248.02 L177.362 1248.02 Q180.165 1248.02 181.65 1246.91 Q183.136 1245.78 183.136 1243.68 Q183.136 1241.51 181.594 1240.37 Q180.07 1239.2 177.212 1239.2 Q175.651 1239.2 173.864 1239.54 Q172.077 1239.88 169.933 1240.59 L169.933 1237.21 Q172.096 1236.6 173.977 1236.3 Q175.876 1236 177.55 1236 Q181.876 1236 184.396 1237.98 Q186.917 1239.93 186.917 1243.28 Q186.917 1245.61 185.581 1247.23 Q184.246 1248.83 181.782 1249.45 Z\" fill=\"#000000\" fill-rule=\"evenodd\" fill-opacity=\"1\" /><path clip-path=\"url(#clip140)\" d=\"M 0 0 M98.7124 1213.21 L106.351 1213.21 L106.351 1186.85 L98.0411 1188.51 L98.0411 1184.25 L106.305 1182.59 L110.981 1182.59 L110.981 1213.21 L118.62 1213.21 L118.62 1217.15 L98.7124 1217.15 L98.7124 1213.21 Z\" fill=\"#000000\" fill-rule=\"evenodd\" fill-opacity=\"1\" /><path clip-path=\"url(#clip140)\" d=\"M 0 0 M133.689 1185.67 Q130.078 1185.67 128.249 1189.23 Q126.444 1192.77 126.444 1199.9 Q126.444 1207.01 128.249 1210.57 Q130.078 1214.12 133.689 1214.12 Q137.323 1214.12 139.129 1210.57 Q140.958 1207.01 140.958 1199.9 Q140.958 1192.77 139.129 1189.23 Q137.323 1185.67 133.689 1185.67 M133.689 1181.96 Q139.499 1181.96 142.555 1186.57 Q145.633 1191.15 145.633 1199.9 Q145.633 1208.63 142.555 1213.24 Q139.499 1217.82 133.689 1217.82 Q127.879 1217.82 124.8 1213.24 Q121.745 1208.63 121.745 1199.9 Q121.745 1191.15 124.8 1186.57 Q127.879 1181.96 133.689 1181.96 Z\" fill=\"#000000\" fill-rule=\"evenodd\" fill-opacity=\"1\" /><path clip-path=\"url(#clip140)\" d=\"M 0 0 M145.633 1177.64 L155.771 1177.64 L155.771 1180.73 L145.633 1180.73 L145.633 1177.64 Z\" fill=\"#000000\" fill-rule=\"evenodd\" fill-opacity=\"1\" /><path clip-path=\"url(#clip140)\" d=\"M 0 0 M174.315 1186.54 L187.575 1186.54 L187.575 1189.74 L169.745 1189.74 L169.745 1186.54 Q171.908 1184.3 175.632 1180.54 Q179.375 1176.76 180.334 1175.67 Q182.158 1173.62 182.873 1172.21 Q183.606 1170.78 183.606 1169.41 Q183.606 1167.17 182.026 1165.76 Q180.465 1164.35 177.945 1164.35 Q176.158 1164.35 174.165 1164.97 Q172.19 1165.59 169.933 1166.85 L169.933 1163.01 Q172.228 1162.09 174.221 1161.62 Q176.215 1161.15 177.87 1161.15 Q182.233 1161.15 184.829 1163.33 Q187.424 1165.51 187.424 1169.16 Q187.424 1170.89 186.766 1172.45 Q186.127 1174 184.415 1176.1 Q183.945 1176.65 181.425 1179.26 Q178.904 1181.86 174.315 1186.54 Z\" fill=\"#000000\" fill-rule=\"evenodd\" fill-opacity=\"1\" /><path clip-path=\"url(#clip140)\" d=\"M 0 0 M99.8221 1138.36 L107.461 1138.36 L107.461 1111.99 L99.1508 1113.66 L99.1508 1109.4 L107.415 1107.73 L112.091 1107.73 L112.091 1138.36 L119.729 1138.36 L119.729 1142.29 L99.8221 1142.29 L99.8221 1138.36 Z\" fill=\"#000000\" fill-rule=\"evenodd\" fill-opacity=\"1\" /><path clip-path=\"url(#clip140)\" d=\"M 0 0 M134.799 1110.81 Q131.188 1110.81 129.359 1114.38 Q127.553 1117.92 127.553 1125.05 Q127.553 1132.16 129.359 1135.72 Q131.188 1139.26 134.799 1139.26 Q138.433 1139.26 140.239 1135.72 Q142.067 1132.16 142.067 1125.05 Q142.067 1117.92 140.239 1114.38 Q138.433 1110.81 134.799 1110.81 M134.799 1107.11 Q140.609 1107.11 143.664 1111.72 Q146.743 1116.3 146.743 1125.05 Q146.743 1133.78 143.664 1138.38 Q140.609 1142.97 134.799 1142.97 Q128.989 1142.97 125.91 1138.38 Q122.854 1133.78 122.854 1125.05 Q122.854 1116.3 125.91 1111.72 Q128.989 1107.11 134.799 1107.11 Z\" fill=\"#000000\" fill-rule=\"evenodd\" fill-opacity=\"1\" /><path clip-path=\"url(#clip140)\" d=\"M 0 0 M146.743 1102.79 L156.881 1102.79 L156.881 1105.88 L146.743 1105.88 L146.743 1102.79 Z\" fill=\"#000000\" fill-rule=\"evenodd\" fill-opacity=\"1\" /><path clip-path=\"url(#clip140)\" d=\"M 0 0 M171.4 1111.69 L177.607 1111.69 L177.607 1090.26 L170.855 1091.62 L170.855 1088.16 L177.569 1086.8 L181.368 1086.8 L181.368 1111.69 L187.575 1111.69 L187.575 1114.88 L171.4 1114.88 L171.4 1111.69 Z\" fill=\"#000000\" fill-rule=\"evenodd\" fill-opacity=\"1\" /><path clip-path=\"url(#clip140)\" d=\"M 0 0 M121.244 1063.51 L128.883 1063.51 L128.883 1037.14 L120.573 1038.81 L120.573 1034.55 L128.837 1032.88 L133.513 1032.88 L133.513 1063.51 L141.151 1063.51 L141.151 1067.44 L121.244 1067.44 L121.244 1063.51 Z\" fill=\"#000000\" fill-rule=\"evenodd\" fill-opacity=\"1\" /><path clip-path=\"url(#clip140)\" d=\"M 0 0 M156.221 1035.96 Q152.61 1035.96 150.781 1039.52 Q148.975 1043.07 148.975 1050.2 Q148.975 1057.3 150.781 1060.87 Q152.61 1064.41 156.221 1064.41 Q159.855 1064.41 161.661 1060.87 Q163.489 1057.3 163.489 1050.2 Q163.489 1043.07 161.661 1039.52 Q159.855 1035.96 156.221 1035.96 M156.221 1032.26 Q162.031 1032.26 165.086 1036.86 Q168.165 1041.45 168.165 1050.2 Q168.165 1058.92 165.086 1063.53 Q162.031 1068.11 156.221 1068.11 Q150.411 1068.11 147.332 1063.53 Q144.276 1058.92 144.276 1050.2 Q144.276 1041.45 147.332 1036.86 Q150.411 1032.26 156.221 1032.26 Z\" fill=\"#000000\" fill-rule=\"evenodd\" fill-opacity=\"1\" /><path clip-path=\"url(#clip140)\" d=\"M 0 0 M177.87 1014.45 Q174.936 1014.45 173.45 1017.35 Q171.983 1020.23 171.983 1026.02 Q171.983 1031.79 173.45 1034.69 Q174.936 1037.57 177.87 1037.57 Q180.823 1037.57 182.29 1034.69 Q183.776 1031.79 183.776 1026.02 Q183.776 1020.23 182.29 1017.35 Q180.823 1014.45 177.87 1014.45 M177.87 1011.44 Q182.591 1011.44 185.073 1015.19 Q187.575 1018.91 187.575 1026.02 Q187.575 1033.11 185.073 1036.85 Q182.591 1040.58 177.87 1040.58 Q173.149 1040.58 170.648 1036.85 Q168.165 1033.11 168.165 1026.02 Q168.165 1018.91 170.648 1015.19 Q173.149 1011.44 177.87 1011.44 Z\" fill=\"#000000\" fill-rule=\"evenodd\" fill-opacity=\"1\" /><path clip-path=\"url(#clip140)\" d=\"M 0 0 M123.934 988.653 L131.572 988.653 L131.572 962.288 L123.262 963.954 L123.262 959.695 L131.526 958.028 L136.202 958.028 L136.202 988.653 L143.841 988.653 L143.841 992.588 L123.934 992.588 L123.934 988.653 Z\" fill=\"#000000\" fill-rule=\"evenodd\" fill-opacity=\"1\" /><path clip-path=\"url(#clip140)\" d=\"M 0 0 M158.91 961.107 Q155.299 961.107 153.471 964.672 Q151.665 968.214 151.665 975.343 Q151.665 982.45 153.471 986.014 Q155.299 989.556 158.91 989.556 Q162.545 989.556 164.35 986.014 Q166.179 982.45 166.179 975.343 Q166.179 968.214 164.35 964.672 Q162.545 961.107 158.91 961.107 M158.91 957.403 Q164.72 957.403 167.776 962.01 Q170.855 966.593 170.855 975.343 Q170.855 984.07 167.776 988.676 Q164.72 993.26 158.91 993.26 Q153.1 993.26 150.021 988.676 Q146.966 984.07 146.966 975.343 Q146.966 966.593 150.021 962.01 Q153.1 957.403 158.91 957.403 Z\" fill=\"#000000\" fill-rule=\"evenodd\" fill-opacity=\"1\" /><path clip-path=\"url(#clip140)\" d=\"M 0 0 M171.4 961.981 L177.607 961.981 L177.607 940.559 L170.855 941.913 L170.855 938.452 L177.569 937.098 L181.368 937.098 L181.368 961.981 L187.575 961.981 L187.575 965.178 L171.4 965.178 L171.4 961.981 Z\" fill=\"#000000\" fill-rule=\"evenodd\" fill-opacity=\"1\" /><path clip-path=\"url(#clip140)\" d=\"M 0 0 M310.225 812.096 L322.418 812.096 L337.852 853.253 L353.367 812.096 L365.56 812.096 L365.56 872.576 L357.58 872.576 L357.58 819.469 L341.984 860.95 L333.76 860.95 L318.164 819.469 L318.164 872.576 L310.225 872.576 L310.225 812.096 Z\" fill=\"#000000\" fill-rule=\"evenodd\" fill-opacity=\"1\" /><path clip-path=\"url(#clip140)\" d=\"M 0 0 M412.186 848.028 L412.186 851.673 L377.915 851.673 Q378.401 859.37 382.533 863.421 Q386.706 867.431 394.119 867.431 Q398.413 867.431 402.423 866.378 Q406.474 865.325 410.444 863.218 L410.444 870.267 Q406.434 871.968 402.221 872.86 Q398.008 873.751 393.673 873.751 Q382.817 873.751 376.457 867.431 Q370.138 861.112 370.138 850.337 Q370.138 839.197 376.133 832.675 Q382.169 826.112 392.377 826.112 Q401.532 826.112 406.839 832.026 Q412.186 837.9 412.186 848.028 M404.732 845.84 Q404.651 839.723 401.289 836.077 Q397.967 832.432 392.458 832.432 Q386.22 832.432 382.452 835.956 Q378.726 839.48 378.158 845.881 L404.732 845.84 Z\" fill=\"#000000\" fill-rule=\"evenodd\" fill-opacity=\"1\" /><path clip-path=\"url(#clip140)\" d=\"M 0 0 M427.377 814.324 L427.377 827.206 L442.73 827.206 L442.73 832.999 L427.377 832.999 L427.377 857.628 Q427.377 863.178 428.876 864.758 Q430.415 866.338 435.074 866.338 L442.73 866.338 L442.73 872.576 L435.074 872.576 Q426.445 872.576 423.164 869.376 Q419.883 866.135 419.883 857.628 L419.883 832.999 L414.414 832.999 L414.414 827.206 L419.883 827.206 L419.883 814.324 L427.377 814.324 Z\" fill=\"#000000\" fill-rule=\"evenodd\" fill-opacity=\"1\" /><path clip-path=\"url(#clip140)\" d=\"M 0 0 M488.262 845.192 L488.262 872.576 L480.808 872.576 L480.808 845.435 Q480.808 838.994 478.297 835.794 Q475.785 832.594 470.762 832.594 Q464.726 832.594 461.242 836.442 Q457.759 840.29 457.759 846.934 L457.759 872.576 L450.264 872.576 L450.264 809.544 L457.759 809.544 L457.759 834.254 Q460.432 830.163 464.038 828.138 Q467.683 826.112 472.423 826.112 Q480.241 826.112 484.252 830.973 Q488.262 835.794 488.262 845.192 Z\" fill=\"#000000\" fill-rule=\"evenodd\" fill-opacity=\"1\" /><path clip-path=\"url(#clip140)\" d=\"M 0 0 M513.661 832.432 Q507.666 832.432 504.182 837.131 Q500.698 841.789 500.698 849.931 Q500.698 858.074 504.142 862.773 Q507.625 867.431 513.661 867.431 Q519.616 867.431 523.1 862.732 Q526.584 858.033 526.584 849.931 Q526.584 841.87 523.1 837.171 Q519.616 832.432 513.661 832.432 M513.661 826.112 Q523.383 826.112 528.933 832.432 Q534.483 838.751 534.483 849.931 Q534.483 861.071 528.933 867.431 Q523.383 873.751 513.661 873.751 Q503.898 873.751 498.349 867.431 Q492.839 861.071 492.839 849.931 Q492.839 838.751 498.349 832.432 Q503.898 826.112 513.661 826.112 Z\" fill=\"#000000\" fill-rule=\"evenodd\" fill-opacity=\"1\" /><path clip-path=\"url(#clip140)\" d=\"M 0 0 M572.156 834.092 L572.156 809.544 L579.61 809.544 L579.61 872.576 L572.156 872.576 L572.156 865.77 Q569.807 869.821 566.201 871.806 Q562.637 873.751 557.613 873.751 Q549.39 873.751 544.205 867.188 Q539.06 860.626 539.06 849.931 Q539.06 839.237 544.205 832.675 Q549.39 826.112 557.613 826.112 Q562.637 826.112 566.201 828.097 Q569.807 830.042 572.156 834.092 M546.757 849.931 Q546.757 858.155 550.119 862.854 Q553.522 867.512 559.436 867.512 Q565.351 867.512 568.753 862.854 Q572.156 858.155 572.156 849.931 Q572.156 841.708 568.753 837.05 Q565.351 832.351 559.436 832.351 Q553.522 832.351 550.119 837.05 Q546.757 841.708 546.757 849.931 Z\" fill=\"#000000\" fill-rule=\"evenodd\" fill-opacity=\"1\" /><path clip-path=\"url(#clip140)\" d=\"M 0 0 M637.335 819.226 L616.676 851.511 L637.335 851.511 L637.335 819.226 M635.188 812.096 L645.478 812.096 L645.478 851.511 L654.106 851.511 L654.106 858.317 L645.478 858.317 L645.478 872.576 L637.335 872.576 L637.335 858.317 L610.032 858.317 L610.032 850.418 L635.188 812.096 Z\" fill=\"#000000\" fill-rule=\"evenodd\" fill-opacity=\"1\" /><polyline clip-path=\"url(#clip145)\" style=\"stroke:#009af9; stroke-width:4; stroke-opacity:1; fill:none\" points=\"\n",
       "  226.891,939.405 227.643,950.78 228.395,964.55 229.147,981.439 229.899,1003.74 230.651,1035.48 231.403,1088.72 232.155,1118.99 232.907,1061.93 233.658,1033.46 \n",
       "  234.41,1118.99 235.162,1017.85 235.914,1021.27 236.666,1025.1 237.418,1029.17 238.17,1032.91 238.922,1037.47 239.674,1042.18 240.426,1047.07 241.178,1052.21 \n",
       "  241.929,1057.72 242.681,1063.68 243.433,1069.9 244.185,1076.43 244.937,1083.35 245.689,1090.74 246.441,1098.23 247.193,1105.88 247.945,1113.31 248.697,1120.21 \n",
       "  249.449,1126.02 250.201,1130.22 250.952,1132.49 251.704,1132.87 252.456,1131.77 253.208,1129.72 253.96,1127.21 254.712,1124.62 255.464,1122.22 256.216,1120.14 \n",
       "  256.968,1118.44 257.72,1117.14 258.472,1116.25 259.223,1115.82 259.975,1115.73 260.727,1116 261.479,1116.61 262.231,1117.46 262.983,1118.61 263.735,1119.98 \n",
       "  264.487,1121.5 265.239,1123.11 265.991,1124.8 266.743,1126.52 267.494,1128.16 268.246,1129.72 268.998,1131.12 269.75,1132.35 270.502,1133.36 271.254,1134.17 \n",
       "  272.006,1134.75 272.758,1135.13 273.51,1135.34 274.262,1135.42 275.014,1135.39 275.766,1135.3 276.517,1135.16 277.269,1135.03 278.021,1134.91 278.773,1134.83 \n",
       "  279.525,1134.79 280.277,1134.8 281.029,1134.87 281.781,1134.99 282.533,1135.17 283.285,1135.36 284.037,1135.61 284.788,1135.87 285.54,1136.14 286.292,1136.42 \n",
       "  287.044,1136.68 287.796,1136.96 288.548,1137.2 289.3,1137.43 290.052,1137.63 290.804,1137.82 291.556,1137.98 292.308,1138.12 293.059,1138.25 293.811,1138.36 \n",
       "  294.563,1138.47 295.315,1138.57 296.067,1138.68 296.819,1138.77 297.571,1138.89 298.323,1138.99 299.075,1139.12 299.827,1139.24 300.579,1139.37 301.331,1139.5 \n",
       "  302.082,1139.65 302.834,1139.8 303.586,1139.94 304.338,1140.1 305.09,1140.23 305.842,1140.39 306.594,1140.54 307.346,1140.69 308.098,1140.84 308.85,1140.98 \n",
       "  309.602,1141.13 310.353,1141.26 311.105,1141.42 311.857,1141.54 312.609,1141.68 313.361,1141.82 314.113,1141.96 314.865,1142.1 315.617,1142.25 316.369,1142.39 \n",
       "  317.121,1142.53 317.873,1142.69 318.624,1142.83 319.376,1142.98 320.128,1143.13 320.88,1143.28 321.632,1143.44 322.384,1143.58 323.136,1143.74 323.888,1143.9 \n",
       "  324.64,1144.05 325.392,1144.21 326.144,1144.36 326.896,1144.51 327.647,1144.67 328.399,1144.82 329.151,1144.98 329.903,1145.13 330.655,1145.29 331.407,1145.46 \n",
       "  332.159,1145.61 332.911,1145.77 333.663,1145.93 334.415,1146.09 335.167,1146.26 335.918,1146.42 336.67,1146.58 337.422,1146.75 338.174,1146.91 338.926,1147.08 \n",
       "  339.678,1147.25 340.43,1147.41 341.182,1147.58 341.934,1147.75 342.686,1147.92 343.438,1148.07 344.19,1148.25 344.941,1148.42 345.693,1148.59 346.445,1148.76 \n",
       "  347.197,1148.94 347.949,1149.1 348.701,1149.28 349.453,1149.46 350.205,1149.63 350.957,1149.81 351.709,1149.99 352.461,1150.16 353.212,1150.35 353.964,1150.51 \n",
       "  354.716,1150.7 355.468,1150.87 356.22,1151.04 356.972,1151.24 357.724,1151.42 358.476,1151.59 359.228,1151.77 359.98,1151.96 360.732,1152.14 361.483,1152.32 \n",
       "  362.235,1152.51 362.987,1152.69 363.739,1152.88 364.491,1153.06 365.243,1153.24 365.995,1153.44 366.747,1153.61 367.499,1153.81 368.251,1154 369.003,1154.19 \n",
       "  369.755,1154.38 370.506,1154.57 371.258,1154.76 372.01,1154.95 372.762,1155.15 373.514,1155.34 374.266,1155.53 375.018,1155.71 375.77,1155.92 376.522,1156.11 \n",
       "  377.274,1156.31 378.026,1156.51 378.777,1156.71 379.529,1156.9 380.281,1157.1 381.033,1157.3 381.785,1157.49 382.537,1157.69 383.289,1157.9 384.041,1158.09 \n",
       "  384.793,1158.3 385.545,1158.3 386.297,1158.5 387.048,1209.99 387.8,1239.56 388.552,1239.67 389.304,1241.57 390.056,1287.39 390.808,1308.99 391.56,1319.25 \n",
       "  392.312,1320.44 393.064,1320.46 393.816,1320.48 394.568,1323.26 395.32,1326.54 396.071,1335.8 396.823,1343.76 397.575,1346.35 398.327,1352.59 399.079,1356.99 \n",
       "  399.831,1362.26 400.583,1366.25 401.335,1369.4 402.087,1370.54 402.839,1372.2 403.591,1372.75 404.342,1372.8 405.094,1372.81 405.846,1372.84 406.598,1372.84 \n",
       "  407.35,1372.84 408.102,1372.84 408.854,1343.35 409.606,1370.17 410.358,1363.35 411.11,1352.58 411.862,1356.86 412.613,1367.77 413.365,1372.73 414.117,1366.98 \n",
       "  414.869,1361.47 415.621,1362.18 416.373,1367.31 417.125,1372.16 417.877,1372.07 418.629,1368.44 419.381,1366.12 420.133,1367.12 420.885,1370.31 421.636,1372.69 \n",
       "  422.388,1372.2 423.14,1370.04 423.892,1368.97 424.644,1369.79 425.396,1371.68 426.148,1372.82 426.9,1372.28 427.652,1371.06 428.404,1370.62 429.156,1371.36 \n",
       "  429.907,1372.46 430.659,1372.85 431.411,1372.31 432.163,1371.66 432.915,1371.61 433.667,1372.29 434.419,1372.79 435.171,1372.74 435.923,1372.3 436.675,1372.08 \n",
       "  437.427,1372.34 438.178,1372.72 438.93,1372.86 439.682,1372.65 440.434,1372.42 441.186,1372.46 441.938,1372.7 442.69,1372.85 443.442,1372.76 444.194,1372.61 \n",
       "  444.946,1372.62 445.698,1372.76 446.45,1372.87 447.201,1372.8 447.953,1372.7 448.705,1372.7 449.457,1372.81 450.209,1372.88 450.961,1372.83 451.713,1372.78 \n",
       "  452.465,1372.79 453.217,1372.85 453.969,1372.88 454.721,1372.84 455.472,1372.8 456.224,1372.83 456.976,1372.86 457.728,1372.87 458.48,1372.86 459.232,1372.85 \n",
       "  459.984,1372.85 460.736,1372.87 461.488,1372.89 462.24,1372.88 462.992,1372.85 463.744,1372.86 464.495,1372.88 465.247,1372.89 465.999,1372.88 466.751,1372.88 \n",
       "  467.503,1372.87 468.255,1372.87 469.007,1372.88 469.759,1372.88 470.511,1372.9 471.263,1372.91 472.015,1372.9 472.766,1372.9 473.518,1372.89 474.27,1372.91 \n",
       "  475.022,1372.9 475.774,1372.88 476.526,1372.9 477.278,1372.91 478.03,1372.89 478.782,1372.91 479.534,1372.9 480.286,1372.91 481.037,1372.92 481.789,1372.91 \n",
       "  482.541,1372.93 483.293,1372.9 484.045,1372.91 484.797,1372.91 485.549,1372.92 486.301,1372.92 487.053,1372.92 487.805,1372.93 488.557,1372.93 489.309,1372.93 \n",
       "  490.06,1372.93 490.812,1372.93 491.564,1372.92 492.316,1372.91 493.068,1372.92 493.82,1372.94 494.572,1372.94 495.324,1372.93 496.076,1372.94 496.828,1372.92 \n",
       "  497.58,1372.92 498.331,1372.92 499.083,1372.94 499.835,1372.93 500.587,1372.95 501.339,1372.95 502.091,1372.97 502.843,1372.95 503.595,1372.88 504.347,1372.94 \n",
       "  505.099,1372.94 505.851,1372.96 506.602,1372.96 507.354,1372.96 508.106,1372.96 508.858,1372.94 509.61,1372.94 510.362,1372.97 511.114,1372.96 511.866,1372.95 \n",
       "  512.618,1372.95 513.37,1372.97 514.122,1372.96 514.874,1372.95 515.625,1372.96 516.377,1372.96 517.129,1372.96 517.881,1372.95 518.633,1372.99 519.385,1372.97 \n",
       "  520.137,1372.97 520.889,1372.97 521.641,1372.97 522.393,1372.97 523.145,1372.98 523.896,1372.98 524.648,1372.98 525.4,1372.98 526.152,1373 526.904,1372.97 \n",
       "  527.656,1372.98 528.408,1372.98 529.16,1372.99 529.912,1372.98 530.664,1372.98 531.416,1372.99 532.167,1372.99 532.919,1372.99 533.671,1372.99 534.423,1373 \n",
       "  535.175,1373 535.927,1372.99 536.679,1373.01 537.431,1373.02 538.183,1373 538.935,1373.02 539.687,1373.02 540.439,1373 541.19,1373.02 541.942,1372.99 \n",
       "  542.694,1373.01 543.446,1373.03 544.198,1373.03 544.95,1373.02 545.702,1373.03 546.454,1373.03 547.206,1373.02 547.958,1373.04 548.71,1373.02 549.461,1373.03 \n",
       "  550.213,1373.02 550.965,1373.05 551.717,1373.05 552.469,1373.03 553.221,1372.96 553.973,1373.03 554.725,1373.04 555.477,1373.03 556.229,1373.06 556.981,1373.03 \n",
       "  557.733,1373.03 558.484,1373.06 559.236,1373.05 559.988,1373.06 560.74,1373.07 561.492,1373.33 562.244,1373.48 562.996,1373.49 563.748,1373.57 564.5,1373.62 \n",
       "  565.252,1373.64 566.004,1373.64 566.755,1373.64 567.507,1373.81 568.259,1376.43 569.011,1383.3 569.763,1390.41 570.515,1391.15 571.267,1391.89 572.019,1392 \n",
       "  572.771,1392.07 573.523,1392.63 574.275,1413.66 575.026,1440.83 575.778,1441.88 576.53,1446.57 577.282,1452.27 578.034,1457.78 578.786,1464.03 579.538,1465.89 \n",
       "  580.29,1468.03 581.042,1468.99 581.794,1469.84 582.546,1469.93 583.298,1470.03 584.049,1470.03 584.801,1462.11 585.553,1469.48 586.305,1468.35 587.057,1464.89 \n",
       "  587.809,1466.26 588.561,1468.82 589.313,1470.1 590.065,1468.98 590.817,1467.59 591.569,1466.81 592.32,1468.74 593.072,1469.38 593.824,1469.95 594.576,1469.07 \n",
       "  595.328,1468.46 596.08,1468.65 596.832,1469.41 597.584,1469.96 598.336,1469.61 599.088,1469.71 599.84,1469.34 600.591,1469.26 601.343,1469.72 602.095,1469.98 \n",
       "  602.847,1469.97 603.599,1469.73 604.351,1469.58 605.103,1469.72 605.855,1469.7 606.607,1470 607.359,1470.05 608.111,1469.99 608.863,1469.8 609.614,1469.84 \n",
       "  610.366,1469.74 611.118,1470.11 611.87,1469.96 612.622,1469.89 613.374,1469.75 614.126,1469.94 614.878,1470.03 615.63,1469.68 616.382,1470.07 617.134,1470.05 \n",
       "  617.885,1470.07 618.637,1470.02 619.389,1470.03 620.141,1470.02 620.893,1470.08 621.645,1470.02 622.397,1470.09 623.149,1470.09 623.901,1470.11 624.653,1470.01 \n",
       "  625.405,1469.93 626.156,1470.13 626.908,1469.88 627.66,1470.02 628.412,1469.71 629.164,1469.99 629.916,1470.03 630.668,1470.04 631.42,1470.13 632.172,1470.06 \n",
       "  632.924,1470.1 633.676,1469.67 634.428,1470.13 635.179,1470.03 635.931,1469.99 636.683,1469.99 637.435,1470.11 638.187,1470.14 638.939,1470.03 639.691,1469.47 \n",
       "  640.443,1470.01 641.195,1470.03 641.947,1470.07 642.699,1470.07 643.45,1470.12 644.202,1470.51 644.954,1470 645.706,1470.01 646.458,1469.96 647.21,1470.05 \n",
       "  647.962,1470.02 648.714,1469.97 649.466,1470 650.218,1470.01 650.97,1470.13 651.721,1470.12 652.473,1470.04 653.225,1469.78 653.977,1469.68 654.729,1470 \n",
       "  655.481,1469.92 656.233,1470.02 656.985,1470.08 657.737,1470.01 658.489,1470.01 659.241,1470.11 659.993,1470.13 660.744,1470.02 661.496,1469.91 662.248,1470.06 \n",
       "  663,1470.03 663.752,1470.13 664.504,1469.83 665.256,1470.11 666.008,1470.06 666.76,1469.72 667.512,1470.24 668.264,1470.04 669.015,1470.11 669.767,1470.03 \n",
       "  670.519,1470.04 671.271,1470.04 672.023,1470.04 672.775,1470.05 673.527,1469.98 674.279,1470.03 675.031,1470.03 675.783,1470.1 676.535,1469.45 677.287,1470.05 \n",
       "  678.038,1470.06 678.79,1469.68 679.542,1470.06 680.294,1470.05 681.046,1470.05 681.798,1470.03 682.55,1469.66 683.302,1470.08 684.054,1470.12 684.806,1469.75 \n",
       "  685.558,1470.06 686.309,1470.05 687.061,1470.04 687.813,1470.06 688.565,1470.06 689.317,1470.14 690.069,1470.12 690.821,1470.07 691.573,1470.12 692.325,1470.07 \n",
       "  693.077,1470.14 693.829,1470.04 694.58,1470.03 695.332,1470.12 696.084,1470.04 696.836,1470.14 697.588,1470.12 698.34,1469.9 699.092,1470.07 699.844,1469.69 \n",
       "  700.596,1470.03 701.348,1469.91 702.1,1470.03 702.852,1470.08 703.603,1470.07 704.355,1470.06 705.107,1470.13 705.859,1470.07 706.611,1470.14 707.363,1470.09 \n",
       "  708.115,1469.98 708.867,1470.08 709.619,1470.06 710.371,1470.08 711.123,1470.05 711.874,1470.05 712.626,1470.05 713.378,1470.05 714.13,1470.08 714.882,1470.08 \n",
       "  715.634,1469.84 716.386,1470.06 717.138,1469.8 717.89,1470.04 718.642,1470.04 719.394,1469.92 720.145,1470.07 720.897,1470.08 721.649,1470.3 722.401,1470.05 \n",
       "  723.153,1470.07 723.905,1470.17 724.657,1469.76 725.409,1469.92 726.161,1470.04 726.913,1470.07 727.665,1470.07 728.417,1470.07 729.168,1470.08 729.92,1469.74 \n",
       "  730.672,1470.07 731.424,1470.04 732.176,1469.89 732.928,1470.05 733.68,1470.11 734.432,1470.51 735.184,1470.16 735.936,1470.17 736.688,1470.17 737.439,1470.17 \n",
       "  \n",
       "  \"/>\n",
       "<path clip-path=\"url(#clip140)\" d=\"\n",
       "M389.738 1127.95 L680.756 1127.95 L680.756 1006.99 L389.738 1006.99  Z\n",
       "  \" fill=\"#ffffff\" fill-rule=\"evenodd\" fill-opacity=\"1\"/>\n",
       "<polyline clip-path=\"url(#clip140)\" style=\"stroke:#000000; stroke-width:4; stroke-opacity:1; fill:none\" points=\"\n",
       "  389.738,1127.95 680.756,1127.95 680.756,1006.99 389.738,1006.99 389.738,1127.95 \n",
       "  \"/>\n",
       "<polyline clip-path=\"url(#clip140)\" style=\"stroke:#009af9; stroke-width:4; stroke-opacity:1; fill:none\" points=\"\n",
       "  413.738,1067.47 557.738,1067.47 \n",
       "  \"/>\n",
       "<path clip-path=\"url(#clip140)\" d=\"M 0 0 M595.58 1087.16 Q593.775 1091.79 592.062 1093.2 Q590.349 1094.61 587.478 1094.61 L584.076 1094.61 L584.076 1091.05 L586.576 1091.05 Q588.335 1091.05 589.307 1090.22 Q590.279 1089.38 591.46 1086.28 L592.224 1084.34 L581.738 1058.83 L586.252 1058.83 L594.353 1079.1 L602.455 1058.83 L606.969 1058.83 L595.58 1087.16 Z\" fill=\"#000000\" fill-rule=\"evenodd\" fill-opacity=\"1\" /><path clip-path=\"url(#clip140)\" d=\"M 0 0 M612.849 1080.82 L620.487 1080.82 L620.487 1054.45 L612.177 1056.12 L612.177 1051.86 L620.441 1050.19 L625.117 1050.19 L625.117 1080.82 L632.756 1080.82 L632.756 1084.75 L612.849 1084.75 L612.849 1080.82 Z\" fill=\"#000000\" fill-rule=\"evenodd\" fill-opacity=\"1\" /><path clip-path=\"url(#clip140)\" d=\"\n",
       "M1011.57 1486.45 L1552.76 1486.45 L1552.76 923.472 L1011.57 923.472  Z\n",
       "  \" fill=\"#ffffff\" fill-rule=\"evenodd\" fill-opacity=\"1\"/>\n",
       "<defs>\n",
       "  <clipPath id=\"clip146\">\n",
       "    <rect x=\"1011\" y=\"923\" width=\"542\" height=\"564\"/>\n",
       "  </clipPath>\n",
       "</defs>\n",
       "<polyline clip-path=\"url(#clip146)\" style=\"stroke:#000000; stroke-width:2; stroke-opacity:0.1; fill:none\" points=\"\n",
       "  1026.13,1486.45 1026.13,923.472 \n",
       "  \"/>\n",
       "<polyline clip-path=\"url(#clip146)\" style=\"stroke:#000000; stroke-width:2; stroke-opacity:0.1; fill:none\" points=\"\n",
       "  1102.44,1486.45 1102.44,923.472 \n",
       "  \"/>\n",
       "<polyline clip-path=\"url(#clip146)\" style=\"stroke:#000000; stroke-width:2; stroke-opacity:0.1; fill:none\" points=\"\n",
       "  1178.76,1486.45 1178.76,923.472 \n",
       "  \"/>\n",
       "<polyline clip-path=\"url(#clip146)\" style=\"stroke:#000000; stroke-width:2; stroke-opacity:0.1; fill:none\" points=\"\n",
       "  1255.07,1486.45 1255.07,923.472 \n",
       "  \"/>\n",
       "<polyline clip-path=\"url(#clip146)\" style=\"stroke:#000000; stroke-width:2; stroke-opacity:0.1; fill:none\" points=\"\n",
       "  1331.39,1486.45 1331.39,923.472 \n",
       "  \"/>\n",
       "<polyline clip-path=\"url(#clip146)\" style=\"stroke:#000000; stroke-width:2; stroke-opacity:0.1; fill:none\" points=\"\n",
       "  1407.7,1486.45 1407.7,923.472 \n",
       "  \"/>\n",
       "<polyline clip-path=\"url(#clip146)\" style=\"stroke:#000000; stroke-width:2; stroke-opacity:0.1; fill:none\" points=\"\n",
       "  1484.02,1486.45 1484.02,923.472 \n",
       "  \"/>\n",
       "<polyline clip-path=\"url(#clip146)\" style=\"stroke:#000000; stroke-width:2; stroke-opacity:0.1; fill:none\" points=\"\n",
       "  1011.57,1425.24 1552.76,1425.24 \n",
       "  \"/>\n",
       "<polyline clip-path=\"url(#clip146)\" style=\"stroke:#000000; stroke-width:2; stroke-opacity:0.1; fill:none\" points=\"\n",
       "  1011.57,1349.25 1552.76,1349.25 \n",
       "  \"/>\n",
       "<polyline clip-path=\"url(#clip146)\" style=\"stroke:#000000; stroke-width:2; stroke-opacity:0.1; fill:none\" points=\"\n",
       "  1011.57,1273.26 1552.76,1273.26 \n",
       "  \"/>\n",
       "<polyline clip-path=\"url(#clip146)\" style=\"stroke:#000000; stroke-width:2; stroke-opacity:0.1; fill:none\" points=\"\n",
       "  1011.57,1197.27 1552.76,1197.27 \n",
       "  \"/>\n",
       "<polyline clip-path=\"url(#clip146)\" style=\"stroke:#000000; stroke-width:2; stroke-opacity:0.1; fill:none\" points=\"\n",
       "  1011.57,1121.29 1552.76,1121.29 \n",
       "  \"/>\n",
       "<polyline clip-path=\"url(#clip146)\" style=\"stroke:#000000; stroke-width:2; stroke-opacity:0.1; fill:none\" points=\"\n",
       "  1011.57,1045.3 1552.76,1045.3 \n",
       "  \"/>\n",
       "<polyline clip-path=\"url(#clip146)\" style=\"stroke:#000000; stroke-width:2; stroke-opacity:0.1; fill:none\" points=\"\n",
       "  1011.57,969.308 1552.76,969.308 \n",
       "  \"/>\n",
       "<polyline clip-path=\"url(#clip140)\" style=\"stroke:#000000; stroke-width:4; stroke-opacity:1; fill:none\" points=\"\n",
       "  1011.57,1486.45 1552.76,1486.45 \n",
       "  \"/>\n",
       "<polyline clip-path=\"url(#clip140)\" style=\"stroke:#000000; stroke-width:4; stroke-opacity:1; fill:none\" points=\"\n",
       "  1011.57,1486.45 1011.57,923.472 \n",
       "  \"/>\n",
       "<polyline clip-path=\"url(#clip140)\" style=\"stroke:#000000; stroke-width:4; stroke-opacity:1; fill:none\" points=\"\n",
       "  1026.13,1486.45 1026.13,1479.69 \n",
       "  \"/>\n",
       "<polyline clip-path=\"url(#clip140)\" style=\"stroke:#000000; stroke-width:4; stroke-opacity:1; fill:none\" points=\"\n",
       "  1102.44,1486.45 1102.44,1479.69 \n",
       "  \"/>\n",
       "<polyline clip-path=\"url(#clip140)\" style=\"stroke:#000000; stroke-width:4; stroke-opacity:1; fill:none\" points=\"\n",
       "  1178.76,1486.45 1178.76,1479.69 \n",
       "  \"/>\n",
       "<polyline clip-path=\"url(#clip140)\" style=\"stroke:#000000; stroke-width:4; stroke-opacity:1; fill:none\" points=\"\n",
       "  1255.07,1486.45 1255.07,1479.69 \n",
       "  \"/>\n",
       "<polyline clip-path=\"url(#clip140)\" style=\"stroke:#000000; stroke-width:4; stroke-opacity:1; fill:none\" points=\"\n",
       "  1331.39,1486.45 1331.39,1479.69 \n",
       "  \"/>\n",
       "<polyline clip-path=\"url(#clip140)\" style=\"stroke:#000000; stroke-width:4; stroke-opacity:1; fill:none\" points=\"\n",
       "  1407.7,1486.45 1407.7,1479.69 \n",
       "  \"/>\n",
       "<polyline clip-path=\"url(#clip140)\" style=\"stroke:#000000; stroke-width:4; stroke-opacity:1; fill:none\" points=\"\n",
       "  1484.02,1486.45 1484.02,1479.69 \n",
       "  \"/>\n",
       "<polyline clip-path=\"url(#clip140)\" style=\"stroke:#000000; stroke-width:4; stroke-opacity:1; fill:none\" points=\"\n",
       "  1011.57,1425.24 1018.07,1425.24 \n",
       "  \"/>\n",
       "<polyline clip-path=\"url(#clip140)\" style=\"stroke:#000000; stroke-width:4; stroke-opacity:1; fill:none\" points=\"\n",
       "  1011.57,1349.25 1018.07,1349.25 \n",
       "  \"/>\n",
       "<polyline clip-path=\"url(#clip140)\" style=\"stroke:#000000; stroke-width:4; stroke-opacity:1; fill:none\" points=\"\n",
       "  1011.57,1273.26 1018.07,1273.26 \n",
       "  \"/>\n",
       "<polyline clip-path=\"url(#clip140)\" style=\"stroke:#000000; stroke-width:4; stroke-opacity:1; fill:none\" points=\"\n",
       "  1011.57,1197.27 1018.07,1197.27 \n",
       "  \"/>\n",
       "<polyline clip-path=\"url(#clip140)\" style=\"stroke:#000000; stroke-width:4; stroke-opacity:1; fill:none\" points=\"\n",
       "  1011.57,1121.29 1018.07,1121.29 \n",
       "  \"/>\n",
       "<polyline clip-path=\"url(#clip140)\" style=\"stroke:#000000; stroke-width:4; stroke-opacity:1; fill:none\" points=\"\n",
       "  1011.57,1045.3 1018.07,1045.3 \n",
       "  \"/>\n",
       "<polyline clip-path=\"url(#clip140)\" style=\"stroke:#000000; stroke-width:4; stroke-opacity:1; fill:none\" points=\"\n",
       "  1011.57,969.308 1018.07,969.308 \n",
       "  \"/>\n",
       "<path clip-path=\"url(#clip140)\" d=\"M 0 0 M1026.13 1508.44 Q1022.52 1508.44 1020.69 1512 Q1018.88 1515.55 1018.88 1522.67 Q1018.88 1529.78 1020.69 1533.35 Q1022.52 1536.89 1026.13 1536.89 Q1029.76 1536.89 1031.57 1533.35 Q1033.4 1529.78 1033.4 1522.67 Q1033.4 1515.55 1031.57 1512 Q1029.76 1508.44 1026.13 1508.44 M1026.13 1504.73 Q1031.94 1504.73 1034.99 1509.34 Q1038.07 1513.92 1038.07 1522.67 Q1038.07 1531.4 1034.99 1536.01 Q1031.94 1540.59 1026.13 1540.59 Q1020.32 1540.59 1017.24 1536.01 Q1014.18 1531.4 1014.18 1522.67 Q1014.18 1513.92 1017.24 1509.34 Q1020.32 1504.73 1026.13 1504.73 Z\" fill=\"#000000\" fill-rule=\"evenodd\" fill-opacity=\"1\" /><path clip-path=\"url(#clip140)\" d=\"M 0 0 M1065.81 1535.98 L1073.45 1535.98 L1073.45 1509.62 L1065.14 1511.29 L1065.14 1507.03 L1073.4 1505.36 L1078.08 1505.36 L1078.08 1535.98 L1085.72 1535.98 L1085.72 1539.92 L1065.81 1539.92 L1065.81 1535.98 Z\" fill=\"#000000\" fill-rule=\"evenodd\" fill-opacity=\"1\" /><path clip-path=\"url(#clip140)\" d=\"M 0 0 M1100.79 1508.44 Q1097.18 1508.44 1095.35 1512 Q1093.54 1515.55 1093.54 1522.67 Q1093.54 1529.78 1095.35 1533.35 Q1097.18 1536.89 1100.79 1536.89 Q1104.42 1536.89 1106.23 1533.35 Q1108.06 1529.78 1108.06 1522.67 Q1108.06 1515.55 1106.23 1512 Q1104.42 1508.44 1100.79 1508.44 M1100.79 1504.73 Q1106.6 1504.73 1109.65 1509.34 Q1112.73 1513.92 1112.73 1522.67 Q1112.73 1531.4 1109.65 1536.01 Q1106.6 1540.59 1100.79 1540.59 Q1094.98 1540.59 1091.9 1536.01 Q1088.84 1531.4 1088.84 1522.67 Q1088.84 1513.92 1091.9 1509.34 Q1094.98 1504.73 1100.79 1504.73 Z\" fill=\"#000000\" fill-rule=\"evenodd\" fill-opacity=\"1\" /><path clip-path=\"url(#clip140)\" d=\"M 0 0 M1127.8 1508.44 Q1124.19 1508.44 1122.36 1512 Q1120.56 1515.55 1120.56 1522.67 Q1120.56 1529.78 1122.36 1533.35 Q1124.19 1536.89 1127.8 1536.89 Q1131.44 1536.89 1133.24 1533.35 Q1135.07 1529.78 1135.07 1522.67 Q1135.07 1515.55 1133.24 1512 Q1131.44 1508.44 1127.8 1508.44 M1127.8 1504.73 Q1133.61 1504.73 1136.67 1509.34 Q1139.75 1513.92 1139.75 1522.67 Q1139.75 1531.4 1136.67 1536.01 Q1133.61 1540.59 1127.8 1540.59 Q1121.99 1540.59 1118.91 1536.01 Q1115.86 1531.4 1115.86 1522.67 Q1115.86 1513.92 1118.91 1509.34 Q1121.99 1504.73 1127.8 1504.73 Z\" fill=\"#000000\" fill-rule=\"evenodd\" fill-opacity=\"1\" /><path clip-path=\"url(#clip140)\" d=\"M 0 0 M1146.4 1535.98 L1162.72 1535.98 L1162.72 1539.92 L1140.77 1539.92 L1140.77 1535.98 Q1143.43 1533.23 1148.02 1528.6 Q1152.62 1523.95 1153.8 1522.61 Q1156.05 1520.08 1156.93 1518.35 Q1157.83 1516.59 1157.83 1514.9 Q1157.83 1512.14 1155.89 1510.41 Q1153.97 1508.67 1150.86 1508.67 Q1148.67 1508.67 1146.21 1509.43 Q1143.78 1510.2 1141 1511.75 L1141 1507.03 Q1143.83 1505.89 1146.28 1505.31 Q1148.74 1504.73 1150.77 1504.73 Q1156.14 1504.73 1159.34 1507.42 Q1162.53 1510.11 1162.53 1514.6 Q1162.53 1516.73 1161.72 1518.65 Q1160.93 1520.54 1158.83 1523.14 Q1158.25 1523.81 1155.15 1527.03 Q1152.05 1530.22 1146.4 1535.98 Z\" fill=\"#000000\" fill-rule=\"evenodd\" fill-opacity=\"1\" /><path clip-path=\"url(#clip140)\" d=\"M 0 0 M1177.79 1508.44 Q1174.18 1508.44 1172.35 1512 Q1170.54 1515.55 1170.54 1522.67 Q1170.54 1529.78 1172.35 1533.35 Q1174.18 1536.89 1177.79 1536.89 Q1181.42 1536.89 1183.23 1533.35 Q1185.05 1529.78 1185.05 1522.67 Q1185.05 1515.55 1183.23 1512 Q1181.42 1508.44 1177.79 1508.44 M1177.79 1504.73 Q1183.6 1504.73 1186.65 1509.34 Q1189.73 1513.92 1189.73 1522.67 Q1189.73 1531.4 1186.65 1536.01 Q1183.6 1540.59 1177.79 1540.59 Q1171.98 1540.59 1168.9 1536.01 Q1165.84 1531.4 1165.84 1522.67 Q1165.84 1513.92 1168.9 1509.34 Q1171.98 1504.73 1177.79 1504.73 Z\" fill=\"#000000\" fill-rule=\"evenodd\" fill-opacity=\"1\" /><path clip-path=\"url(#clip140)\" d=\"M 0 0 M1204.8 1508.44 Q1201.19 1508.44 1199.36 1512 Q1197.55 1515.55 1197.55 1522.67 Q1197.55 1529.78 1199.36 1533.35 Q1201.19 1536.89 1204.8 1536.89 Q1208.43 1536.89 1210.24 1533.35 Q1212.07 1529.78 1212.07 1522.67 Q1212.07 1515.55 1210.24 1512 Q1208.43 1508.44 1204.8 1508.44 M1204.8 1504.73 Q1210.61 1504.73 1213.67 1509.34 Q1216.74 1513.92 1216.74 1522.67 Q1216.74 1531.4 1213.67 1536.01 Q1210.61 1540.59 1204.8 1540.59 Q1198.99 1540.59 1195.91 1536.01 Q1192.86 1531.4 1192.86 1522.67 Q1192.86 1513.92 1195.91 1509.34 Q1198.99 1504.73 1204.8 1504.73 Z\" fill=\"#000000\" fill-rule=\"evenodd\" fill-opacity=\"1\" /><path clip-path=\"url(#clip140)\" d=\"M 0 0 M1232.31 1521.29 Q1235.66 1522 1237.54 1524.27 Q1239.44 1526.54 1239.44 1529.87 Q1239.44 1534.99 1235.92 1537.79 Q1232.4 1540.59 1225.92 1540.59 Q1223.74 1540.59 1221.43 1540.15 Q1219.14 1539.73 1216.68 1538.88 L1216.68 1534.36 Q1218.63 1535.5 1220.94 1536.08 Q1223.26 1536.66 1225.78 1536.66 Q1230.18 1536.66 1232.47 1534.92 Q1234.78 1533.18 1234.78 1529.87 Q1234.78 1526.82 1232.63 1525.11 Q1230.5 1523.37 1226.68 1523.37 L1222.65 1523.37 L1222.65 1519.53 L1226.87 1519.53 Q1230.32 1519.53 1232.15 1518.16 Q1233.97 1516.77 1233.97 1514.18 Q1233.97 1511.52 1232.08 1510.11 Q1230.2 1508.67 1226.68 1508.67 Q1224.76 1508.67 1222.56 1509.09 Q1220.36 1509.5 1217.72 1510.38 L1217.72 1506.22 Q1220.39 1505.48 1222.7 1505.11 Q1225.04 1504.73 1227.1 1504.73 Q1232.42 1504.73 1235.52 1507.17 Q1238.63 1509.57 1238.63 1513.69 Q1238.63 1516.56 1236.98 1518.55 Q1235.34 1520.52 1232.31 1521.29 Z\" fill=\"#000000\" fill-rule=\"evenodd\" fill-opacity=\"1\" /><path clip-path=\"url(#clip140)\" d=\"M 0 0 M1254.51 1508.44 Q1250.9 1508.44 1249.07 1512 Q1247.26 1515.55 1247.26 1522.67 Q1247.26 1529.78 1249.07 1533.35 Q1250.9 1536.89 1254.51 1536.89 Q1258.14 1536.89 1259.95 1533.35 Q1261.77 1529.78 1261.77 1522.67 Q1261.77 1515.55 1259.95 1512 Q1258.14 1508.44 1254.51 1508.44 M1254.51 1504.73 Q1260.32 1504.73 1263.37 1509.34 Q1266.45 1513.92 1266.45 1522.67 Q1266.45 1531.4 1263.37 1536.01 Q1260.32 1540.59 1254.51 1540.59 Q1248.7 1540.59 1245.62 1536.01 Q1242.56 1531.4 1242.56 1522.67 Q1242.56 1513.92 1245.62 1509.34 Q1248.7 1504.73 1254.51 1504.73 Z\" fill=\"#000000\" fill-rule=\"evenodd\" fill-opacity=\"1\" /><path clip-path=\"url(#clip140)\" d=\"M 0 0 M1281.52 1508.44 Q1277.91 1508.44 1276.08 1512 Q1274.27 1515.55 1274.27 1522.67 Q1274.27 1529.78 1276.08 1533.35 Q1277.91 1536.89 1281.52 1536.89 Q1285.15 1536.89 1286.96 1533.35 Q1288.79 1529.78 1288.79 1522.67 Q1288.79 1515.55 1286.96 1512 Q1285.15 1508.44 1281.52 1508.44 M1281.52 1504.73 Q1287.33 1504.73 1290.39 1509.34 Q1293.46 1513.92 1293.46 1522.67 Q1293.46 1531.4 1290.39 1536.01 Q1287.33 1540.59 1281.52 1540.59 Q1275.71 1540.59 1272.63 1536.01 Q1269.58 1531.4 1269.58 1522.67 Q1269.58 1513.92 1272.63 1509.34 Q1275.71 1504.73 1281.52 1504.73 Z\" fill=\"#000000\" fill-rule=\"evenodd\" fill-opacity=\"1\" /><path clip-path=\"url(#clip140)\" d=\"M 0 0 M1307.38 1509.43 L1295.58 1527.88 L1307.38 1527.88 L1307.38 1509.43 M1306.16 1505.36 L1312.04 1505.36 L1312.04 1527.88 L1316.97 1527.88 L1316.97 1531.77 L1312.04 1531.77 L1312.04 1539.92 L1307.38 1539.92 L1307.38 1531.77 L1291.78 1531.77 L1291.78 1527.26 L1306.16 1505.36 Z\" fill=\"#000000\" fill-rule=\"evenodd\" fill-opacity=\"1\" /><path clip-path=\"url(#clip140)\" d=\"M 0 0 M1332.04 1508.44 Q1328.43 1508.44 1326.6 1512 Q1324.79 1515.55 1324.79 1522.67 Q1324.79 1529.78 1326.6 1533.35 Q1328.43 1536.89 1332.04 1536.89 Q1335.67 1536.89 1337.48 1533.35 Q1339.31 1529.78 1339.31 1522.67 Q1339.31 1515.55 1337.48 1512 Q1335.67 1508.44 1332.04 1508.44 M1332.04 1504.73 Q1337.85 1504.73 1340.9 1509.34 Q1343.98 1513.92 1343.98 1522.67 Q1343.98 1531.4 1340.9 1536.01 Q1337.85 1540.59 1332.04 1540.59 Q1326.23 1540.59 1323.15 1536.01 Q1320.09 1531.4 1320.09 1522.67 Q1320.09 1513.92 1323.15 1509.34 Q1326.23 1504.73 1332.04 1504.73 Z\" fill=\"#000000\" fill-rule=\"evenodd\" fill-opacity=\"1\" /><path clip-path=\"url(#clip140)\" d=\"M 0 0 M1359.05 1508.44 Q1355.44 1508.44 1353.61 1512 Q1351.81 1515.55 1351.81 1522.67 Q1351.81 1529.78 1353.61 1533.35 Q1355.44 1536.89 1359.05 1536.89 Q1362.68 1536.89 1364.49 1533.35 Q1366.32 1529.78 1366.32 1522.67 Q1366.32 1515.55 1364.49 1512 Q1362.68 1508.44 1359.05 1508.44 M1359.05 1504.73 Q1364.86 1504.73 1367.92 1509.34 Q1370.99 1513.92 1370.99 1522.67 Q1370.99 1531.4 1367.92 1536.01 Q1364.86 1540.59 1359.05 1540.59 Q1353.24 1540.59 1350.16 1536.01 Q1347.11 1531.4 1347.11 1522.67 Q1347.11 1513.92 1350.16 1509.34 Q1353.24 1504.73 1359.05 1504.73 Z\" fill=\"#000000\" fill-rule=\"evenodd\" fill-opacity=\"1\" /><path clip-path=\"url(#clip140)\" d=\"M 0 0 M1370.97 1505.36 L1389.32 1505.36 L1389.32 1509.3 L1375.25 1509.3 L1375.25 1517.77 Q1376.27 1517.42 1377.29 1517.26 Q1378.31 1517.07 1379.32 1517.07 Q1385.11 1517.07 1388.49 1520.24 Q1391.87 1523.42 1391.87 1528.83 Q1391.87 1534.41 1388.4 1537.51 Q1384.93 1540.59 1378.61 1540.59 Q1376.43 1540.59 1374.16 1540.22 Q1371.92 1539.85 1369.51 1539.11 L1369.51 1534.41 Q1371.59 1535.54 1373.82 1536.1 Q1376.04 1536.66 1378.51 1536.66 Q1382.52 1536.66 1384.86 1534.55 Q1387.19 1532.44 1387.19 1528.83 Q1387.19 1525.22 1384.86 1523.11 Q1382.52 1521.01 1378.51 1521.01 Q1376.64 1521.01 1374.76 1521.42 Q1372.91 1521.84 1370.97 1522.72 L1370.97 1505.36 Z\" fill=\"#000000\" fill-rule=\"evenodd\" fill-opacity=\"1\" /><path clip-path=\"url(#clip140)\" d=\"M 0 0 M1406.94 1508.44 Q1403.33 1508.44 1401.5 1512 Q1399.69 1515.55 1399.69 1522.67 Q1399.69 1529.78 1401.5 1533.35 Q1403.33 1536.89 1406.94 1536.89 Q1410.57 1536.89 1412.38 1533.35 Q1414.21 1529.78 1414.21 1522.67 Q1414.21 1515.55 1412.38 1512 Q1410.57 1508.44 1406.94 1508.44 M1406.94 1504.73 Q1412.75 1504.73 1415.81 1509.34 Q1418.88 1513.92 1418.88 1522.67 Q1418.88 1531.4 1415.81 1536.01 Q1412.75 1540.59 1406.94 1540.59 Q1401.13 1540.59 1398.05 1536.01 Q1395 1531.4 1395 1522.67 Q1395 1513.92 1398.05 1509.34 Q1401.13 1504.73 1406.94 1504.73 Z\" fill=\"#000000\" fill-rule=\"evenodd\" fill-opacity=\"1\" /><path clip-path=\"url(#clip140)\" d=\"M 0 0 M1433.95 1508.44 Q1430.34 1508.44 1428.51 1512 Q1426.71 1515.55 1426.71 1522.67 Q1426.71 1529.78 1428.51 1533.35 Q1430.34 1536.89 1433.95 1536.89 Q1437.59 1536.89 1439.39 1533.35 Q1441.22 1529.78 1441.22 1522.67 Q1441.22 1515.55 1439.39 1512 Q1437.59 1508.44 1433.95 1508.44 M1433.95 1504.73 Q1439.76 1504.73 1442.82 1509.34 Q1445.9 1513.92 1445.9 1522.67 Q1445.9 1531.4 1442.82 1536.01 Q1439.76 1540.59 1433.95 1540.59 Q1428.14 1540.59 1425.06 1536.01 Q1422.01 1531.4 1422.01 1522.67 Q1422.01 1513.92 1425.06 1509.34 Q1428.14 1504.73 1433.95 1504.73 Z\" fill=\"#000000\" fill-rule=\"evenodd\" fill-opacity=\"1\" /><path clip-path=\"url(#clip140)\" d=\"M 0 0 M1457.41 1520.78 Q1454.26 1520.78 1452.41 1522.93 Q1450.58 1525.08 1450.58 1528.83 Q1450.58 1532.56 1452.41 1534.73 Q1454.26 1536.89 1457.41 1536.89 Q1460.56 1536.89 1462.39 1534.73 Q1464.24 1532.56 1464.24 1528.83 Q1464.24 1525.08 1462.39 1522.93 Q1460.56 1520.78 1457.41 1520.78 M1466.69 1506.12 L1466.69 1510.38 Q1464.93 1509.55 1463.13 1509.11 Q1461.35 1508.67 1459.59 1508.67 Q1454.96 1508.67 1452.5 1511.8 Q1450.07 1514.92 1449.73 1521.24 Q1451.09 1519.23 1453.15 1518.16 Q1455.21 1517.07 1457.69 1517.07 Q1462.9 1517.07 1465.91 1520.24 Q1468.94 1523.39 1468.94 1528.83 Q1468.94 1534.16 1465.79 1537.37 Q1462.64 1540.59 1457.41 1540.59 Q1451.41 1540.59 1448.24 1536.01 Q1445.07 1531.4 1445.07 1522.67 Q1445.07 1514.48 1448.96 1509.62 Q1452.85 1504.73 1459.4 1504.73 Q1461.16 1504.73 1462.94 1505.08 Q1464.75 1505.43 1466.69 1506.12 Z\" fill=\"#000000\" fill-rule=\"evenodd\" fill-opacity=\"1\" /><path clip-path=\"url(#clip140)\" d=\"M 0 0 M1484.01 1508.44 Q1480.4 1508.44 1478.57 1512 Q1476.76 1515.55 1476.76 1522.67 Q1476.76 1529.78 1478.57 1533.35 Q1480.4 1536.89 1484.01 1536.89 Q1487.64 1536.89 1489.45 1533.35 Q1491.28 1529.78 1491.28 1522.67 Q1491.28 1515.55 1489.45 1512 Q1487.64 1508.44 1484.01 1508.44 M1484.01 1504.73 Q1489.82 1504.73 1492.87 1509.34 Q1495.95 1513.92 1495.95 1522.67 Q1495.95 1531.4 1492.87 1536.01 Q1489.82 1540.59 1484.01 1540.59 Q1478.2 1540.59 1475.12 1536.01 Q1472.06 1531.4 1472.06 1522.67 Q1472.06 1513.92 1475.12 1509.34 Q1478.2 1504.73 1484.01 1504.73 Z\" fill=\"#000000\" fill-rule=\"evenodd\" fill-opacity=\"1\" /><path clip-path=\"url(#clip140)\" d=\"M 0 0 M1511.02 1508.44 Q1507.41 1508.44 1505.58 1512 Q1503.78 1515.55 1503.78 1522.67 Q1503.78 1529.78 1505.58 1533.35 Q1507.41 1536.89 1511.02 1536.89 Q1514.66 1536.89 1516.46 1533.35 Q1518.29 1529.78 1518.29 1522.67 Q1518.29 1515.55 1516.46 1512 Q1514.66 1508.44 1511.02 1508.44 M1511.02 1504.73 Q1516.83 1504.73 1519.89 1509.34 Q1522.97 1513.92 1522.97 1522.67 Q1522.97 1531.4 1519.89 1536.01 Q1516.83 1540.59 1511.02 1540.59 Q1505.21 1540.59 1502.13 1536.01 Q1499.08 1531.4 1499.08 1522.67 Q1499.08 1513.92 1502.13 1509.34 Q1505.21 1504.73 1511.02 1504.73 Z\" fill=\"#000000\" fill-rule=\"evenodd\" fill-opacity=\"1\" /><path clip-path=\"url(#clip140)\" d=\"M 0 0 M898.374 1445.03 L906.013 1445.03 L906.013 1418.67 L897.703 1420.33 L897.703 1416.08 L905.966 1414.41 L910.642 1414.41 L910.642 1445.03 L918.281 1445.03 L918.281 1448.97 L898.374 1448.97 L898.374 1445.03 Z\" fill=\"#000000\" fill-rule=\"evenodd\" fill-opacity=\"1\" /><path clip-path=\"url(#clip140)\" d=\"M 0 0 M933.351 1417.49 Q929.739 1417.49 927.911 1421.05 Q926.105 1424.59 926.105 1431.72 Q926.105 1438.83 927.911 1442.39 Q929.739 1445.94 933.351 1445.94 Q936.985 1445.94 938.79 1442.39 Q940.619 1438.83 940.619 1431.72 Q940.619 1424.59 938.79 1421.05 Q936.985 1417.49 933.351 1417.49 M933.351 1413.78 Q939.161 1413.78 942.216 1418.39 Q945.295 1422.97 945.295 1431.72 Q945.295 1440.45 942.216 1445.06 Q939.161 1449.64 933.351 1449.64 Q927.54 1449.64 924.462 1445.06 Q921.406 1440.45 921.406 1431.72 Q921.406 1422.97 924.462 1418.39 Q927.54 1413.78 933.351 1413.78 Z\" fill=\"#000000\" fill-rule=\"evenodd\" fill-opacity=\"1\" /><path clip-path=\"url(#clip140)\" d=\"M 0 0 M945.295 1409.46 L955.432 1409.46 L955.432 1412.55 L945.295 1412.55 L945.295 1409.46 Z\" fill=\"#000000\" fill-rule=\"evenodd\" fill-opacity=\"1\" /><path clip-path=\"url(#clip140)\" d=\"M 0 0 M970.591 1393.48 L985.506 1393.48 L985.506 1396.68 L974.071 1396.68 L974.071 1403.56 Q974.898 1403.28 975.726 1403.15 Q976.553 1402.99 977.381 1402.99 Q982.083 1402.99 984.829 1405.57 Q987.575 1408.15 987.575 1412.55 Q987.575 1417.08 984.754 1419.6 Q981.932 1422.1 976.798 1422.1 Q975.03 1422.1 973.187 1421.8 Q971.362 1421.5 969.406 1420.9 L969.406 1417.08 Q971.099 1418 972.905 1418.45 Q974.71 1418.91 976.723 1418.91 Q979.976 1418.91 981.876 1417.19 Q983.776 1415.48 983.776 1412.55 Q983.776 1409.62 981.876 1407.9 Q979.976 1406.19 976.723 1406.19 Q975.199 1406.19 973.676 1406.53 Q972.171 1406.87 970.591 1407.58 L970.591 1393.48 Z\" fill=\"#000000\" fill-rule=\"evenodd\" fill-opacity=\"1\" /><path clip-path=\"url(#clip140)\" d=\"M 0 0 M896.079 1369.04 L903.718 1369.04 L903.718 1342.68 L895.408 1344.35 L895.408 1340.09 L903.672 1338.42 L908.348 1338.42 L908.348 1369.04 L915.987 1369.04 L915.987 1372.98 L896.079 1372.98 L896.079 1369.04 Z\" fill=\"#000000\" fill-rule=\"evenodd\" fill-opacity=\"1\" /><path clip-path=\"url(#clip140)\" d=\"M 0 0 M931.056 1341.5 Q927.445 1341.5 925.616 1345.06 Q923.811 1348.6 923.811 1355.73 Q923.811 1362.84 925.616 1366.41 Q927.445 1369.95 931.056 1369.95 Q934.69 1369.95 936.496 1366.41 Q938.324 1362.84 938.324 1355.73 Q938.324 1348.6 936.496 1345.06 Q934.69 1341.5 931.056 1341.5 M931.056 1337.79 Q936.866 1337.79 939.922 1342.4 Q943 1346.98 943 1355.73 Q943 1364.46 939.922 1369.07 Q936.866 1373.65 931.056 1373.65 Q925.246 1373.65 922.167 1369.07 Q919.112 1364.46 919.112 1355.73 Q919.112 1346.98 922.167 1342.4 Q925.246 1337.79 931.056 1337.79 Z\" fill=\"#000000\" fill-rule=\"evenodd\" fill-opacity=\"1\" /><path clip-path=\"url(#clip140)\" d=\"M 0 0 M943 1333.48 L953.138 1333.48 L953.138 1336.56 L943 1336.56 L943 1333.48 Z\" fill=\"#000000\" fill-rule=\"evenodd\" fill-opacity=\"1\" /><path clip-path=\"url(#clip140)\" d=\"M 0 0 M979.788 1320.8 L970.196 1335.79 L979.788 1335.79 L979.788 1320.8 M978.792 1317.49 L983.569 1317.49 L983.569 1335.79 L987.575 1335.79 L987.575 1338.95 L983.569 1338.95 L983.569 1345.57 L979.788 1345.57 L979.788 1338.95 L967.112 1338.95 L967.112 1335.28 L978.792 1317.49 Z\" fill=\"#000000\" fill-rule=\"evenodd\" fill-opacity=\"1\" /><path clip-path=\"url(#clip140)\" d=\"M 0 0 M898.054 1293.06 L905.693 1293.06 L905.693 1266.69 L897.383 1268.36 L897.383 1264.1 L905.647 1262.43 L910.323 1262.43 L910.323 1293.06 L917.961 1293.06 L917.961 1296.99 L898.054 1296.99 L898.054 1293.06 Z\" fill=\"#000000\" fill-rule=\"evenodd\" fill-opacity=\"1\" /><path clip-path=\"url(#clip140)\" d=\"M 0 0 M933.031 1265.51 Q929.42 1265.51 927.591 1269.07 Q925.785 1272.62 925.785 1279.75 Q925.785 1286.85 927.591 1290.42 Q929.42 1293.96 933.031 1293.96 Q936.665 1293.96 938.471 1290.42 Q940.299 1286.85 940.299 1279.75 Q940.299 1272.62 938.471 1269.07 Q936.665 1265.51 933.031 1265.51 M933.031 1261.81 Q938.841 1261.81 941.897 1266.41 Q944.975 1271 944.975 1279.75 Q944.975 1288.47 941.897 1293.08 Q938.841 1297.66 933.031 1297.66 Q927.221 1297.66 924.142 1293.08 Q921.086 1288.47 921.086 1279.75 Q921.086 1271 924.142 1266.41 Q927.221 1261.81 933.031 1261.81 Z\" fill=\"#000000\" fill-rule=\"evenodd\" fill-opacity=\"1\" /><path clip-path=\"url(#clip140)\" d=\"M 0 0 M944.975 1257.49 L955.113 1257.49 L955.113 1260.57 L944.975 1260.57 L944.975 1257.49 Z\" fill=\"#000000\" fill-rule=\"evenodd\" fill-opacity=\"1\" /><path clip-path=\"url(#clip140)\" d=\"M 0 0 M981.782 1254.44 Q984.509 1255.02 986.033 1256.87 Q987.575 1258.71 987.575 1261.42 Q987.575 1265.57 984.716 1267.85 Q981.857 1270.13 976.591 1270.13 Q974.823 1270.13 972.942 1269.77 Q971.08 1269.43 969.087 1268.73 L969.087 1265.07 Q970.667 1265.99 972.547 1266.46 Q974.428 1266.93 976.478 1266.93 Q980.052 1266.93 981.914 1265.52 Q983.794 1264.11 983.794 1261.42 Q983.794 1258.94 982.045 1257.54 Q980.315 1256.13 977.212 1256.13 L973.939 1256.13 L973.939 1253.01 L977.362 1253.01 Q980.165 1253.01 981.65 1251.9 Q983.136 1250.77 983.136 1248.67 Q983.136 1246.5 981.594 1245.36 Q980.07 1244.19 977.212 1244.19 Q975.651 1244.19 973.864 1244.53 Q972.077 1244.87 969.933 1245.58 L969.933 1242.2 Q972.096 1241.59 973.977 1241.29 Q975.876 1240.99 977.55 1240.99 Q981.876 1240.99 984.396 1242.97 Q986.917 1244.92 986.917 1248.27 Q986.917 1250.6 985.581 1252.22 Q984.246 1253.82 981.782 1254.44 Z\" fill=\"#000000\" fill-rule=\"evenodd\" fill-opacity=\"1\" /><path clip-path=\"url(#clip140)\" d=\"M 0 0 M898.712 1217.07 L906.351 1217.07 L906.351 1190.7 L898.041 1192.37 L898.041 1188.11 L906.305 1186.44 L910.981 1186.44 L910.981 1217.07 L918.62 1217.07 L918.62 1221 L898.712 1221 L898.712 1217.07 Z\" fill=\"#000000\" fill-rule=\"evenodd\" fill-opacity=\"1\" /><path clip-path=\"url(#clip140)\" d=\"M 0 0 M933.689 1189.52 Q930.078 1189.52 928.249 1193.09 Q926.444 1196.63 926.444 1203.76 Q926.444 1210.86 928.249 1214.43 Q930.078 1217.97 933.689 1217.97 Q937.323 1217.97 939.129 1214.43 Q940.958 1210.86 940.958 1203.76 Q940.958 1196.63 939.129 1193.09 Q937.323 1189.52 933.689 1189.52 M933.689 1185.82 Q939.499 1185.82 942.555 1190.42 Q945.633 1195.01 945.633 1203.76 Q945.633 1212.48 942.555 1217.09 Q939.499 1221.67 933.689 1221.67 Q927.879 1221.67 924.8 1217.09 Q921.745 1212.48 921.745 1203.76 Q921.745 1195.01 924.8 1190.42 Q927.879 1185.82 933.689 1185.82 Z\" fill=\"#000000\" fill-rule=\"evenodd\" fill-opacity=\"1\" /><path clip-path=\"url(#clip140)\" d=\"M 0 0 M945.633 1181.5 L955.771 1181.5 L955.771 1184.58 L945.633 1184.58 L945.633 1181.5 Z\" fill=\"#000000\" fill-rule=\"evenodd\" fill-opacity=\"1\" /><path clip-path=\"url(#clip140)\" d=\"M 0 0 M974.315 1190.39 L987.575 1190.39 L987.575 1193.59 L969.745 1193.59 L969.745 1190.39 Q971.908 1188.16 975.632 1184.39 Q979.375 1180.61 980.334 1179.52 Q982.158 1177.47 982.873 1176.06 Q983.606 1174.63 983.606 1173.26 Q983.606 1171.02 982.026 1169.61 Q980.465 1168.2 977.945 1168.2 Q976.158 1168.2 974.165 1168.82 Q972.19 1169.44 969.933 1170.7 L969.933 1166.87 Q972.228 1165.94 974.221 1165.47 Q976.215 1165 977.87 1165 Q982.233 1165 984.829 1167.19 Q987.424 1169.37 987.424 1173.02 Q987.424 1174.75 986.766 1176.31 Q986.127 1177.85 984.415 1179.96 Q983.945 1180.5 981.425 1183.12 Q978.904 1185.71 974.315 1190.39 Z\" fill=\"#000000\" fill-rule=\"evenodd\" fill-opacity=\"1\" /><path clip-path=\"url(#clip140)\" d=\"M 0 0 M899.822 1141.08 L907.461 1141.08 L907.461 1114.71 L899.151 1116.38 L899.151 1112.12 L907.415 1110.45 L912.091 1110.45 L912.091 1141.08 L919.729 1141.08 L919.729 1145.01 L899.822 1145.01 L899.822 1141.08 Z\" fill=\"#000000\" fill-rule=\"evenodd\" fill-opacity=\"1\" /><path clip-path=\"url(#clip140)\" d=\"M 0 0 M934.799 1113.53 Q931.188 1113.53 929.359 1117.1 Q927.553 1120.64 927.553 1127.77 Q927.553 1134.87 929.359 1138.44 Q931.188 1141.98 934.799 1141.98 Q938.433 1141.98 940.239 1138.44 Q942.067 1134.87 942.067 1127.77 Q942.067 1120.64 940.239 1117.1 Q938.433 1113.53 934.799 1113.53 M934.799 1109.83 Q940.609 1109.83 943.664 1114.43 Q946.743 1119.02 946.743 1127.77 Q946.743 1136.49 943.664 1141.1 Q940.609 1145.68 934.799 1145.68 Q928.989 1145.68 925.91 1141.1 Q922.854 1136.49 922.854 1127.77 Q922.854 1119.02 925.91 1114.43 Q928.989 1109.83 934.799 1109.83 Z\" fill=\"#000000\" fill-rule=\"evenodd\" fill-opacity=\"1\" /><path clip-path=\"url(#clip140)\" d=\"M 0 0 M946.743 1105.51 L956.881 1105.51 L956.881 1108.59 L946.743 1108.59 L946.743 1105.51 Z\" fill=\"#000000\" fill-rule=\"evenodd\" fill-opacity=\"1\" /><path clip-path=\"url(#clip140)\" d=\"M 0 0 M971.4 1114.41 L977.607 1114.41 L977.607 1092.98 L970.855 1094.34 L970.855 1090.88 L977.569 1089.52 L981.368 1089.52 L981.368 1114.41 L987.575 1114.41 L987.575 1117.6 L971.4 1117.6 L971.4 1114.41 Z\" fill=\"#000000\" fill-rule=\"evenodd\" fill-opacity=\"1\" /><path clip-path=\"url(#clip140)\" d=\"M 0 0 M921.244 1065.09 L928.883 1065.09 L928.883 1038.72 L920.573 1040.39 L920.573 1036.13 L928.837 1034.46 L933.513 1034.46 L933.513 1065.09 L941.151 1065.09 L941.151 1069.02 L921.244 1069.02 L921.244 1065.09 Z\" fill=\"#000000\" fill-rule=\"evenodd\" fill-opacity=\"1\" /><path clip-path=\"url(#clip140)\" d=\"M 0 0 M956.221 1037.54 Q952.61 1037.54 950.781 1041.11 Q948.975 1044.65 948.975 1051.78 Q948.975 1058.89 950.781 1062.45 Q952.61 1065.99 956.221 1065.99 Q959.855 1065.99 961.661 1062.45 Q963.489 1058.89 963.489 1051.78 Q963.489 1044.65 961.661 1041.11 Q959.855 1037.54 956.221 1037.54 M956.221 1033.84 Q962.031 1033.84 965.086 1038.45 Q968.165 1043.03 968.165 1051.78 Q968.165 1060.51 965.086 1065.11 Q962.031 1069.7 956.221 1069.7 Q950.411 1069.7 947.332 1065.11 Q944.276 1060.51 944.276 1051.78 Q944.276 1043.03 947.332 1038.45 Q950.411 1033.84 956.221 1033.84 Z\" fill=\"#000000\" fill-rule=\"evenodd\" fill-opacity=\"1\" /><path clip-path=\"url(#clip140)\" d=\"M 0 0 M977.87 1016.04 Q974.936 1016.04 973.45 1018.93 Q971.983 1021.81 971.983 1027.6 Q971.983 1033.38 973.45 1036.27 Q974.936 1039.15 977.87 1039.15 Q980.823 1039.15 982.29 1036.27 Q983.776 1033.38 983.776 1027.6 Q983.776 1021.81 982.29 1018.93 Q980.823 1016.04 977.87 1016.04 M977.87 1013.03 Q982.591 1013.03 985.073 1016.77 Q987.575 1020.49 987.575 1027.6 Q987.575 1034.69 985.073 1038.44 Q982.591 1042.16 977.87 1042.16 Q973.149 1042.16 970.648 1038.44 Q968.165 1034.69 968.165 1027.6 Q968.165 1020.49 970.648 1016.77 Q973.149 1013.03 977.87 1013.03 Z\" fill=\"#000000\" fill-rule=\"evenodd\" fill-opacity=\"1\" /><path clip-path=\"url(#clip140)\" d=\"M 0 0 M923.934 989.1 L931.572 989.1 L931.572 962.735 L923.262 964.401 L923.262 960.142 L931.526 958.475 L936.202 958.475 L936.202 989.1 L943.841 989.1 L943.841 993.035 L923.934 993.035 L923.934 989.1 Z\" fill=\"#000000\" fill-rule=\"evenodd\" fill-opacity=\"1\" /><path clip-path=\"url(#clip140)\" d=\"M 0 0 M958.91 961.554 Q955.299 961.554 953.471 965.119 Q951.665 968.661 951.665 975.79 Q951.665 982.897 953.471 986.461 Q955.299 990.003 958.91 990.003 Q962.545 990.003 964.35 986.461 Q966.179 982.897 966.179 975.79 Q966.179 968.661 964.35 965.119 Q962.545 961.554 958.91 961.554 M958.91 957.85 Q964.72 957.85 967.776 962.457 Q970.855 967.04 970.855 975.79 Q970.855 984.517 967.776 989.123 Q964.72 993.707 958.91 993.707 Q953.1 993.707 950.021 989.123 Q946.966 984.517 946.966 975.79 Q946.966 967.04 950.021 962.457 Q953.1 957.85 958.91 957.85 Z\" fill=\"#000000\" fill-rule=\"evenodd\" fill-opacity=\"1\" /><path clip-path=\"url(#clip140)\" d=\"M 0 0 M971.4 962.428 L977.607 962.428 L977.607 941.006 L970.855 942.36 L970.855 938.899 L977.569 937.545 L981.368 937.545 L981.368 962.428 L987.575 962.428 L987.575 965.625 L971.4 965.625 L971.4 962.428 Z\" fill=\"#000000\" fill-rule=\"evenodd\" fill-opacity=\"1\" /><path clip-path=\"url(#clip140)\" d=\"M 0 0 M1111.52 812.096 L1123.71 812.096 L1139.15 853.253 L1154.66 812.096 L1166.86 812.096 L1166.86 872.576 L1158.88 872.576 L1158.88 819.469 L1143.28 860.95 L1135.06 860.95 L1119.46 819.469 L1119.46 872.576 L1111.52 872.576 L1111.52 812.096 Z\" fill=\"#000000\" fill-rule=\"evenodd\" fill-opacity=\"1\" /><path clip-path=\"url(#clip140)\" d=\"M 0 0 M1213.48 848.028 L1213.48 851.673 L1179.21 851.673 Q1179.7 859.37 1183.83 863.421 Q1188 867.431 1195.42 867.431 Q1199.71 867.431 1203.72 866.378 Q1207.77 865.325 1211.74 863.218 L1211.74 870.267 Q1207.73 871.968 1203.52 872.86 Q1199.3 873.751 1194.97 873.751 Q1184.11 873.751 1177.75 867.431 Q1171.43 861.112 1171.43 850.337 Q1171.43 839.197 1177.43 832.675 Q1183.47 826.112 1193.67 826.112 Q1202.83 826.112 1208.14 832.026 Q1213.48 837.9 1213.48 848.028 M1206.03 845.84 Q1205.95 839.723 1202.59 836.077 Q1199.26 832.432 1193.75 832.432 Q1187.52 832.432 1183.75 835.956 Q1180.02 839.48 1179.45 845.881 L1206.03 845.84 Z\" fill=\"#000000\" fill-rule=\"evenodd\" fill-opacity=\"1\" /><path clip-path=\"url(#clip140)\" d=\"M 0 0 M1228.67 814.324 L1228.67 827.206 L1244.03 827.206 L1244.03 832.999 L1228.67 832.999 L1228.67 857.628 Q1228.67 863.178 1230.17 864.758 Q1231.71 866.338 1236.37 866.338 L1244.03 866.338 L1244.03 872.576 L1236.37 872.576 Q1227.74 872.576 1224.46 869.376 Q1221.18 866.135 1221.18 857.628 L1221.18 832.999 L1215.71 832.999 L1215.71 827.206 L1221.18 827.206 L1221.18 814.324 L1228.67 814.324 Z\" fill=\"#000000\" fill-rule=\"evenodd\" fill-opacity=\"1\" /><path clip-path=\"url(#clip140)\" d=\"M 0 0 M1289.56 845.192 L1289.56 872.576 L1282.1 872.576 L1282.1 845.435 Q1282.1 838.994 1279.59 835.794 Q1277.08 832.594 1272.06 832.594 Q1266.02 832.594 1262.54 836.442 Q1259.05 840.29 1259.05 846.934 L1259.05 872.576 L1251.56 872.576 L1251.56 809.544 L1259.05 809.544 L1259.05 834.254 Q1261.73 830.163 1265.33 828.138 Q1268.98 826.112 1273.72 826.112 Q1281.54 826.112 1285.55 830.973 Q1289.56 835.794 1289.56 845.192 Z\" fill=\"#000000\" fill-rule=\"evenodd\" fill-opacity=\"1\" /><path clip-path=\"url(#clip140)\" d=\"M 0 0 M1314.96 832.432 Q1308.96 832.432 1305.48 837.131 Q1301.99 841.789 1301.99 849.931 Q1301.99 858.074 1305.44 862.773 Q1308.92 867.431 1314.96 867.431 Q1320.91 867.431 1324.4 862.732 Q1327.88 858.033 1327.88 849.931 Q1327.88 841.87 1324.4 837.171 Q1320.91 832.432 1314.96 832.432 M1314.96 826.112 Q1324.68 826.112 1330.23 832.432 Q1335.78 838.751 1335.78 849.931 Q1335.78 861.071 1330.23 867.431 Q1324.68 873.751 1314.96 873.751 Q1305.19 873.751 1299.65 867.431 Q1294.14 861.071 1294.14 849.931 Q1294.14 838.751 1299.65 832.432 Q1305.19 826.112 1314.96 826.112 Z\" fill=\"#000000\" fill-rule=\"evenodd\" fill-opacity=\"1\" /><path clip-path=\"url(#clip140)\" d=\"M 0 0 M1373.45 834.092 L1373.45 809.544 L1380.91 809.544 L1380.91 872.576 L1373.45 872.576 L1373.45 865.77 Q1371.1 869.821 1367.5 871.806 Q1363.93 873.751 1358.91 873.751 Q1350.69 873.751 1345.5 867.188 Q1340.36 860.626 1340.36 849.931 Q1340.36 839.237 1345.5 832.675 Q1350.69 826.112 1358.91 826.112 Q1363.93 826.112 1367.5 828.097 Q1371.1 830.042 1373.45 834.092 M1348.05 849.931 Q1348.05 858.155 1351.42 862.854 Q1354.82 867.512 1360.73 867.512 Q1366.65 867.512 1370.05 862.854 Q1373.45 858.155 1373.45 849.931 Q1373.45 841.708 1370.05 837.05 Q1366.65 832.351 1360.73 832.351 Q1354.82 832.351 1351.42 837.05 Q1348.05 841.708 1348.05 849.931 Z\" fill=\"#000000\" fill-rule=\"evenodd\" fill-opacity=\"1\" /><path clip-path=\"url(#clip140)\" d=\"M 0 0 M1416.23 812.096 L1448.35 812.096 L1448.35 818.983 L1423.72 818.983 L1423.72 833.809 Q1425.51 833.201 1427.29 832.918 Q1429.07 832.594 1430.85 832.594 Q1440.98 832.594 1446.9 838.143 Q1452.81 843.693 1452.81 853.172 Q1452.81 862.935 1446.73 868.363 Q1440.66 873.751 1429.6 873.751 Q1425.79 873.751 1421.82 873.103 Q1417.89 872.454 1413.68 871.158 L1413.68 862.935 Q1417.32 864.92 1421.21 865.892 Q1425.1 866.864 1429.44 866.864 Q1436.44 866.864 1440.54 863.178 Q1444.63 859.492 1444.63 853.172 Q1444.63 846.853 1440.54 843.166 Q1436.44 839.48 1429.44 839.48 Q1426.15 839.48 1422.87 840.209 Q1419.63 840.938 1416.23 842.478 L1416.23 812.096 Z\" fill=\"#000000\" fill-rule=\"evenodd\" fill-opacity=\"1\" /><polyline clip-path=\"url(#clip146)\" style=\"stroke:#009af9; stroke-width:4; stroke-opacity:1; fill:none\" points=\"\n",
       "  1026.89,939.405 1027.65,950.953 1028.42,964.932 1029.18,982.077 1029.94,1004.72 1030.71,1036.94 1031.47,1090.98 1032.23,1121.72 1033,1063.79 1033.76,1034.88 \n",
       "  1034.52,1121.72 1035.29,1019.05 1036.05,1022.51 1036.81,1026.4 1037.58,1030.53 1038.34,1034.33 1039.1,1038.96 1039.86,1043.74 1040.63,1048.71 1041.39,1053.92 \n",
       "  1042.15,1059.51 1042.92,1065.56 1043.68,1071.88 1044.44,1078.51 1045.21,1085.54 1045.97,1093.03 1046.73,1100.64 1047.5,1108.41 1048.26,1115.95 1049.02,1122.96 \n",
       "  1049.79,1128.85 1050.55,1133.11 1051.31,1135.42 1052.08,1135.81 1052.84,1134.69 1053.6,1132.61 1054.36,1130.06 1055.13,1127.43 1055.89,1124.99 1056.65,1122.89 \n",
       "  1057.42,1121.15 1058.18,1119.84 1058.94,1118.93 1059.71,1118.5 1060.47,1118.41 1061.23,1118.68 1062,1119.3 1062.76,1120.17 1063.52,1121.33 1064.29,1122.72 \n",
       "  1065.05,1124.26 1065.81,1125.9 1066.58,1127.61 1067.34,1129.35 1068.1,1131.03 1068.86,1132.61 1069.63,1134.03 1070.39,1135.28 1071.15,1136.3 1071.92,1137.12 \n",
       "  1072.68,1137.71 1073.44,1138.1 1074.21,1138.32 1074.97,1138.39 1075.73,1138.37 1076.5,1138.27 1077.26,1138.13 1078.02,1138 1078.79,1137.88 1079.55,1137.79 \n",
       "  1080.31,1137.76 1081.07,1137.76 1081.84,1137.83 1082.6,1137.96 1083.36,1138.14 1084.13,1138.34 1084.89,1138.58 1085.65,1138.85 1086.42,1139.13 1087.18,1139.41 \n",
       "  1087.94,1139.68 1088.71,1139.96 1089.47,1140.21 1090.23,1140.43 1091,1140.64 1091.76,1140.83 1092.52,1140.99 1093.29,1141.14 1094.05,1141.27 1094.81,1141.38 \n",
       "  1095.57,1141.49 1096.34,1141.59 1097.1,1141.7 1097.86,1141.79 1098.63,1141.92 1099.39,1142.02 1100.15,1142.15 1100.92,1142.27 1101.68,1142.41 1102.44,1142.54 \n",
       "  1103.21,1142.69 1103.97,1142.84 1104.73,1142.99 1105.5,1143.14 1106.26,1143.28 1107.02,1143.44 1107.79,1143.59 1108.55,1143.74 1109.31,1143.89 1110.07,1144.04 \n",
       "  1110.84,1144.19 1111.6,1144.33 1112.36,1144.48 1113.13,1144.61 1113.89,1144.74 1114.65,1144.89 1115.42,1145.03 1116.18,1145.18 1116.94,1145.33 1117.71,1145.47 \n",
       "  1118.47,1145.61 1119.23,1145.77 1120,1145.92 1120.76,1146.07 1121.52,1146.22 1122.29,1146.37 1123.05,1146.53 1123.81,1146.68 1124.57,1146.84 1125.34,1147 \n",
       "  1126.1,1147.15 1126.86,1147.31 1127.63,1147.47 1128.39,1147.63 1129.15,1147.78 1129.92,1147.93 1130.68,1148.1 1131.44,1148.25 1132.21,1148.41 1132.97,1148.59 \n",
       "  1133.73,1148.74 1134.5,1148.9 1135.26,1149.07 1136.02,1149.23 1136.79,1149.4 1137.55,1149.56 1138.31,1149.72 1139.07,1149.9 1139.84,1150.06 1140.6,1150.23 \n",
       "  1141.36,1150.4 1142.13,1150.57 1142.89,1150.74 1143.65,1150.91 1144.42,1151.08 1145.18,1151.24 1145.94,1151.42 1146.71,1151.59 1147.47,1151.76 1148.23,1151.94 \n",
       "  1149,1152.12 1149.76,1152.29 1150.52,1152.47 1151.28,1152.64 1152.05,1152.82 1152.81,1153 1153.57,1153.18 1154.34,1153.36 1155.1,1153.55 1155.86,1153.71 \n",
       "  1156.63,1153.9 1157.39,1154.08 1158.15,1154.25 1158.92,1154.45 1159.68,1154.63 1160.44,1154.81 1161.21,1155 1161.97,1155.18 1162.73,1155.37 1163.5,1155.55 \n",
       "  1164.26,1155.74 1165.02,1155.93 1165.78,1156.12 1166.55,1156.31 1167.31,1156.49 1168.07,1156.68 1168.84,1156.86 1169.6,1157.07 1170.36,1157.26 1171.13,1157.45 \n",
       "  1171.89,1157.65 1172.65,1157.84 1173.42,1158.03 1174.18,1158.22 1174.94,1158.42 1175.71,1158.61 1176.47,1158.81 1177.23,1158.99 1178,1159.21 1178.76,1159.4 \n",
       "  1179.52,1159.6 1180.28,1159.81 1181.05,1160 1181.81,1160.2 1182.57,1160.4 1183.34,1160.61 1184.1,1160.8 1184.86,1161.01 1185.63,1161.21 1186.39,1161.41 \n",
       "  1187.15,1161.62 1187.92,1161.82 1188.68,1162.03 1189.44,1162.23 1190.21,1162.44 1190.97,1162.64 1191.73,1162.85 1192.5,1163.06 1193.26,1163.27 1194.02,1163.49 \n",
       "  1194.78,1163.69 1195.55,1163.9 1196.31,1164.1 1197.07,1164.32 1197.84,1164.52 1198.6,1164.74 1199.36,1164.95 1200.13,1165.17 1200.89,1165.38 1201.65,1165.59 \n",
       "  1202.42,1165.81 1203.18,1166.03 1203.94,1166.24 1204.71,1166.46 1205.47,1166.66 1206.23,1166.89 1206.99,1167.11 1207.76,1167.32 1208.52,1167.53 1209.28,1167.77 \n",
       "  1210.05,1167.98 1210.81,1168.21 1211.57,1168.42 1212.34,1168.65 1213.1,1168.87 1213.86,1169.08 1214.63,1169.31 1215.39,1169.54 1216.15,1169.76 1216.92,1169.99 \n",
       "  1217.68,1170.21 1218.44,1170.43 1219.21,1170.66 1219.97,1170.89 1220.73,1171.11 1221.49,1171.34 1222.26,1171.57 1223.02,1171.79 1223.78,1172.02 1224.55,1172.25 \n",
       "  1225.31,1172.48 1226.07,1172.71 1226.84,1172.95 1227.6,1173.18 1228.36,1173.41 1229.13,1173.64 1229.89,1173.87 1230.65,1174.1 1231.42,1174.34 1232.18,1174.57 \n",
       "  1232.94,1174.8 1233.71,1175.04 1234.47,1175.28 1235.23,1175.52 1235.99,1175.75 1236.76,1175.98 1237.52,1176.23 1238.28,1176.46 1239.05,1176.7 1239.81,1176.93 \n",
       "  1240.57,1177.18 1241.34,1177.41 1242.1,1177.65 1242.86,1177.9 1243.63,1178.14 1244.39,1178.38 1245.15,1178.62 1245.92,1178.86 1246.68,1179.1 1247.44,1179.34 \n",
       "  1248.21,1179.59 1248.97,1179.83 1249.73,1180.08 1250.49,1180.31 1251.26,1180.57 1252.02,1180.82 1252.78,1181.05 1253.55,1181.3 1254.31,1181.56 1255.07,1181.8 \n",
       "  1255.84,1182.05 1256.6,1182.29 1257.36,1182.54 1258.13,1182.79 1258.89,1183.04 1259.65,1183.28 1260.42,1183.54 1261.18,1183.79 1261.94,1184.04 1262.7,1184.29 \n",
       "  1263.47,1184.54 1264.23,1184.79 1264.99,1185.05 1265.76,1185.3 1266.52,1185.56 1267.28,1185.81 1268.05,1186.06 1268.81,1186.32 1269.57,1186.57 1270.34,1186.82 \n",
       "  1271.1,1187.08 1271.86,1187.33 1272.63,1187.59 1273.39,1187.85 1274.15,1188.1 1274.92,1188.36 1275.68,1188.62 1276.44,1188.88 1277.2,1189.14 1277.97,1189.4 \n",
       "  1278.73,1189.66 1279.49,1189.91 1280.26,1190.17 1281.02,1190.43 1281.78,1190.7 1282.55,1190.95 1283.31,1191.22 1284.07,1191.48 1284.84,1191.74 1285.6,1192.01 \n",
       "  1286.36,1192.26 1287.13,1192.53 1287.89,1192.79 1288.65,1193.05 1289.42,1193.32 1290.18,1193.59 1290.94,1193.84 1291.7,1194.11 1292.47,1194.38 1293.23,1194.64 \n",
       "  1293.99,1194.91 1294.76,1195.18 1295.52,1195.44 1296.28,1195.71 1297.05,1195.97 1297.81,1196.24 1298.57,1196.51 1299.34,1196.77 1300.1,1197.04 1300.86,1197.31 \n",
       "  1301.63,1197.58 1302.39,1197.85 1303.15,1198.12 1303.92,1198.39 1304.68,1198.66 1305.44,1198.93 1306.2,1199.2 1306.97,1199.47 1307.73,1199.74 1308.49,1200.01 \n",
       "  1309.26,1200.28 1310.02,1200.55 1310.78,1200.82 1311.55,1201.1 1312.31,1201.37 1313.07,1201.64 1313.84,1201.91 1314.6,1202.18 1315.36,1202.46 1316.13,1202.73 \n",
       "  1316.89,1203.01 1317.65,1203.28 1318.42,1203.56 1319.18,1203.83 1319.94,1204.1 1320.7,1204.37 1321.47,1204.65 1322.23,1204.93 1322.99,1205.21 1323.76,1205.48 \n",
       "  1324.52,1205.75 1325.28,1206.02 1326.05,1206.3 1326.81,1206.57 1327.57,1206.85 1328.34,1207.13 1329.1,1207.4 1329.86,1207.68 1330.63,1207.96 1331.39,1208.24 \n",
       "  1332.15,1208.51 1332.91,1208.79 1333.68,1209.07 1334.44,1209.34 1335.2,1209.62 1335.97,1209.9 1336.73,1210.17 1337.49,1210.45 1338.26,1210.73 1339.02,1211.01 \n",
       "  1339.78,1211.29 1340.55,1211.56 1341.31,1211.84 1342.07,1212.12 1342.84,1212.4 1343.6,1212.68 1344.36,1212.96 1345.13,1213.24 1345.89,1213.52 1346.65,1213.79 \n",
       "  1347.41,1214.07 1348.18,1214.35 1348.94,1214.63 1349.7,1214.91 1350.47,1215.19 1351.23,1215.47 1351.99,1215.75 1352.76,1216.03 1353.52,1216.3 1354.28,1216.58 \n",
       "  1355.05,1216.86 1355.81,1217.14 1356.57,1217.42 1357.34,1217.7 1358.1,1217.98 1358.86,1218.26 1359.63,1218.54 1360.39,1218.82 1361.15,1219.1 1361.91,1219.38 \n",
       "  1362.68,1219.65 1363.44,1219.93 1364.2,1220.21 1364.97,1220.49 1365.73,1220.77 1366.49,1221.04 1367.26,1221.33 1368.02,1221.6 1368.78,1221.88 1369.55,1222.16 \n",
       "  1370.31,1222.44 1371.07,1222.71 1371.84,1222.99 1372.6,1223.27 1373.36,1223.55 1374.13,1223.82 1374.89,1224.1 1375.65,1224.38 1376.41,1224.66 1377.18,1224.93 \n",
       "  1377.94,1225.21 1378.7,1225.48 1379.47,1225.76 1380.23,1226.04 1380.99,1226.31 1381.76,1226.59 1382.52,1226.86 1383.28,1227.14 1384.05,1227.41 1384.81,1227.69 \n",
       "  1385.57,1227.97 1386.34,1228.24 1387.1,1228.51 1387.86,1228.79 1388.62,1229.06 1389.39,1229.34 1390.15,1229.6 1390.91,1229.88 1391.68,1230.15 1392.44,1230.43 \n",
       "  1393.2,1230.7 1393.97,1230.97 1394.73,1231.24 1395.49,1231.51 1396.26,1231.78 1397.02,1232.06 1397.78,1232.32 1398.55,1232.59 1399.31,1232.86 1400.07,1233.13 \n",
       "  1400.84,1233.41 1401.6,1233.67 1402.36,1233.93 1403.12,1234.2 1403.89,1234.47 1404.65,1234.74 1405.41,1235.01 1406.18,1235.28 1406.94,1235.53 1407.7,1235.8 \n",
       "  1408.47,1236.07 1409.23,1236.33 1409.99,1236.59 1410.76,1236.86 1411.52,1237.12 1412.28,1237.39 1413.05,1237.65 1413.81,1237.91 1414.57,1238.18 1415.34,1238.44 \n",
       "  1416.1,1238.69 1416.86,1238.96 1417.62,1239.22 1418.39,1239.48 1419.15,1239.73 1419.91,1239.99 1420.68,1240.25 1421.44,1240.51 1422.2,1240.76 1422.97,1241.01 \n",
       "  1423.73,1241.28 1424.49,1241.52 1425.26,1241.78 1426.02,1242.03 1426.78,1242.28 1427.55,1242.55 1428.31,1242.79 1429.07,1243.04 1429.84,1243.29 1430.6,1243.53 \n",
       "  1431.36,1243.78 1432.12,1244.05 1432.89,1244.28 1433.65,1244.53 1434.41,1244.76 1435.18,1245.02 1435.94,1245.27 1436.7,1245.51 1437.47,1245.77 1438.23,1246 \n",
       "  1438.99,1246.24 1439.76,1246.48 1440.52,1246.72 1441.28,1246.96 1442.05,1247.2 1442.81,1247.44 1443.57,1247.68 1444.34,1247.92 1445.1,1248.15 1445.86,1248.4 \n",
       "  1446.62,1248.62 1447.39,1248.86 1448.15,1249.09 1448.91,1249.31 1449.68,1249.56 1450.44,1249.79 1451.2,1250.01 1451.97,1250.25 1452.73,1250.48 1453.49,1250.7 \n",
       "  1454.26,1250.93 1455.02,1251.17 1455.78,1251.38 1456.55,1251.6 1457.31,1251.83 1458.07,1252.06 1458.83,1252.28 1459.6,1252.5 1460.36,1252.72 1461.12,1252.94 \n",
       "  1461.89,1253.16 1462.65,1253.39 1463.41,1253.57 1464.18,1253.79 1464.94,1254.02 1465.7,1254.23 1466.47,1254.44 1467.23,1254.66 1467.99,1254.88 1468.76,1255.08 \n",
       "  1469.52,1255.29 1470.28,1255.49 1471.05,1255.7 1471.81,1255.91 1472.57,1256.11 1473.33,1256.31 1474.1,1256.53 1474.86,1256.73 1475.62,1256.92 1476.39,1257.13 \n",
       "  1477.15,1257.33 1477.91,1257.53 1478.68,1257.75 1479.44,1257.92 1480.2,1258.12 1480.97,1258.31 1481.73,1258.51 1482.49,1258.7 1483.26,1258.9 1484.02,1259.1 \n",
       "  1484.78,1259.28 1485.55,1259.48 1486.31,1259.68 1487.07,1259.85 1487.83,1260.04 1488.6,1260.22 1489.36,1260.41 1490.12,1260.59 1490.89,1260.77 1491.65,1260.95 \n",
       "  1492.41,1261.13 1493.18,1261.13 1493.94,1261.32 1494.7,1267.37 1495.47,1275.79 1496.23,1280.87 1496.99,1334.54 1497.76,1341.06 1498.52,1341.42 1499.28,1341.43 \n",
       "  1500.05,1341.45 1500.81,1341.46 1501.57,1341.77 1502.33,1349.94 1503.1,1351.56 1503.86,1356.86 1504.62,1360.32 1505.39,1365.01 1506.15,1371 1506.91,1373.44 \n",
       "  1507.68,1377.66 1508.44,1379.99 1509.2,1380.46 1509.97,1381.06 1510.73,1381.18 1511.49,1381.19 1512.26,1381.19 1513.02,1381.2 1513.78,1381.2 1514.54,1381.2 \n",
       "  1515.31,1381.21 1516.07,1381.45 1516.83,1381.52 1517.6,1381.65 1518.36,1381.66 1519.12,1382.28 1519.89,1382.44 1520.65,1383.08 1521.41,1389.72 1522.18,1390.85 \n",
       "  1522.94,1395.06 1523.7,1402.38 1524.47,1408.15 1525.23,1417.37 1525.99,1426.27 1526.76,1434.22 1527.52,1440.54 1528.28,1451.07 1529.04,1456.55 1529.81,1462.67 \n",
       "  1530.57,1463.94 1531.33,1464.07 1532.1,1464.14 1532.86,1464.21 1533.62,1466.73 1534.39,1469.72 1535.15,1470.47 1535.91,1470.51 1536.68,1470.51 1537.44,1470.51 \n",
       "  \n",
       "  \"/>\n",
       "<path clip-path=\"url(#clip140)\" d=\"\n",
       "M1189.74 1127.95 L1480.76 1127.95 L1480.76 1006.99 L1189.74 1006.99  Z\n",
       "  \" fill=\"#ffffff\" fill-rule=\"evenodd\" fill-opacity=\"1\"/>\n",
       "<polyline clip-path=\"url(#clip140)\" style=\"stroke:#000000; stroke-width:4; stroke-opacity:1; fill:none\" points=\"\n",
       "  1189.74,1127.95 1480.76,1127.95 1480.76,1006.99 1189.74,1006.99 1189.74,1127.95 \n",
       "  \"/>\n",
       "<polyline clip-path=\"url(#clip140)\" style=\"stroke:#009af9; stroke-width:4; stroke-opacity:1; fill:none\" points=\"\n",
       "  1213.74,1067.47 1357.74,1067.47 \n",
       "  \"/>\n",
       "<path clip-path=\"url(#clip140)\" d=\"M 0 0 M1395.58 1087.16 Q1393.77 1091.79 1392.06 1093.2 Q1390.35 1094.61 1387.48 1094.61 L1384.08 1094.61 L1384.08 1091.05 L1386.58 1091.05 Q1388.33 1091.05 1389.31 1090.22 Q1390.28 1089.38 1391.46 1086.28 L1392.22 1084.34 L1381.74 1058.83 L1386.25 1058.83 L1394.35 1079.1 L1402.46 1058.83 L1406.97 1058.83 L1395.58 1087.16 Z\" fill=\"#000000\" fill-rule=\"evenodd\" fill-opacity=\"1\" /><path clip-path=\"url(#clip140)\" d=\"M 0 0 M1412.85 1080.82 L1420.49 1080.82 L1420.49 1054.45 L1412.18 1056.12 L1412.18 1051.86 L1420.44 1050.19 L1425.12 1050.19 L1425.12 1080.82 L1432.76 1080.82 L1432.76 1084.75 L1412.85 1084.75 L1412.85 1080.82 Z\" fill=\"#000000\" fill-rule=\"evenodd\" fill-opacity=\"1\" /></svg>\n"
      ]
     },
     "execution_count": 61,
     "metadata": {},
     "output_type": "execute_result"
    }
   ],
   "source": [
    "A=plot(losses_1, title=\"Method 1\",yaxis=:log)\n",
    "B=plot(losses_2, title=\"Method 2\",yaxis=:log)\n",
    "C=plot(losses_3, title=\"Method 3\",yaxis=:log)\n",
    "D=plot(losses_4, title=\"Method 4\",yaxis=:log)\n",
    "E=plot(losses_5,yaxis=:log, title=\"Method 5\")\n",
    "plot(A,B,C,D,E,Elayout=6)"
   ]
  },
  {
   "cell_type": "code",
   "execution_count": 55,
   "metadata": {},
   "outputs": [
    {
     "name": "stdout",
     "output_type": "stream",
     "text": [
      "\"Austra"
     ]
    },
    {
     "name": "stderr",
     "output_type": "stream",
     "text": [
      "┌ Warning: `getindex(df::DataFrame, col_ind::ColumnIndex)` is deprecated, use `df[!, col_ind]` instead.\n",
      "│   caller = top-level scope at In[55]:1\n",
      "└ @ Core In[55]:1\n"
     ]
    },
    {
     "name": "stdout",
     "output_type": "stream",
     "text": [
      "lia"
     ]
    },
    {
     "name": "stderr",
     "output_type": "stream",
     "text": [
      "\u001b[32mloss: 24.7:  10%|█████                                    |  ETA: 0:00:01\u001b[39m"
     ]
    },
    {
     "name": "stdout",
     "output_type": "stream",
     "text": [
      "\""
     ]
    },
    {
     "name": "stderr",
     "output_type": "stream",
     "text": [
      "\u001b[32mloss: 1.37: 100%|█████████████████████████████████████████| Time: 0:00:01\u001b[39m\n",
      "\u001b[32mloss: 0.0527:  15%|██████                                   |  ETA: 0:01:18\u001b[39m"
     ]
    },
    {
     "name": "stdout",
     "output_type": "stream",
     "text": [
      "0.05273145123806732\n"
     ]
    },
    {
     "name": "stderr",
     "output_type": "stream",
     "text": [
      "\u001b[32mloss: 0.0321:  31%|█████████████                            |  ETA: 0:01:00\u001b[39m"
     ]
    },
    {
     "name": "stdout",
     "output_type": "stream",
     "text": [
      "0.0318980948932604"
     ]
    },
    {
     "name": "stderr",
     "output_type": "stream",
     "text": [
      "\u001b[32mloss: 0.0317:  31%|█████████████                            |  ETA: 0:00:59\u001b[39m"
     ]
    },
    {
     "name": "stdout",
     "output_type": "stream",
     "text": [
      "\n"
     ]
    },
    {
     "name": "stderr",
     "output_type": "stream",
     "text": [
      "\u001b[32mloss: 0.0163:  48%|████████████████████                     |  ETA: 0:00:45\u001b[39m"
     ]
    },
    {
     "name": "stdout",
     "output_type": "stream",
     "text": [
      "0.016349751884332495\n"
     ]
    },
    {
     "name": "stderr",
     "output_type": "stream",
     "text": [
      "\u001b[32mloss: 0.00742:  64%|███████████████████████████              |  ETA: 0:00:32\u001b[39m"
     ]
    },
    {
     "name": "stdout",
     "output_type": "stream",
     "text": [
      "0.007418494774480275\n"
     ]
    },
    {
     "name": "stderr",
     "output_type": "stream",
     "text": [
      "\u001b[32mloss: 0.00327:  80%|██████████████████████████████████       |  ETA: 0:00:17\u001b[39m"
     ]
    },
    {
     "name": "stdout",
     "output_type": "stream",
     "text": [
      "0.003239729923197931"
     ]
    },
    {
     "name": "stderr",
     "output_type": "stream",
     "text": [
      "\u001b[32mloss: 0.00321:  81%|██████████████████████████████████       |  ETA: 0:00:16\u001b[39m"
     ]
    },
    {
     "name": "stdout",
     "output_type": "stream",
     "text": [
      "\n"
     ]
    },
    {
     "name": "stderr",
     "output_type": "stream",
     "text": [
      "\u001b[32mloss: 0.0016:  97%|████████████████████████████████████████ |  ETA: 0:00:02\u001b[39m"
     ]
    },
    {
     "name": "stdout",
     "output_type": "stream",
     "text": [
      "0.0015916947046384488"
     ]
    },
    {
     "name": "stderr",
     "output_type": "stream",
     "text": [
      "\u001b[32mloss: 0.00158:  97%|████████████████████████████████████████ |  ETA: 0:00:02\u001b[39m"
     ]
    },
    {
     "name": "stdout",
     "output_type": "stream",
     "text": [
      "\n"
     ]
    },
    {
     "name": "stderr",
     "output_type": "stream",
     "text": [
      "\u001b[32mloss: 0.00144: 100%|█████████████████████████████████████████| Time: 0:01:21\u001b[39m\n"
     ]
    },
    {
     "data": {
      "image/svg+xml": [
       "<?xml version=\"1.0\" encoding=\"utf-8\"?>\n",
       "<svg xmlns=\"http://www.w3.org/2000/svg\" xmlns:xlink=\"http://www.w3.org/1999/xlink\" width=\"600\" height=\"400\" viewBox=\"0 0 2400 1600\">\n",
       "<defs>\n",
       "  <clipPath id=\"clip020\">\n",
       "    <rect x=\"0\" y=\"0\" width=\"2400\" height=\"1600\"/>\n",
       "  </clipPath>\n",
       "</defs>\n",
       "<path clip-path=\"url(#clip020)\" d=\"\n",
       "M0 1600 L2400 1600 L2400 0 L0 0  Z\n",
       "  \" fill=\"#ffffff\" fill-rule=\"evenodd\" fill-opacity=\"1\"/>\n",
       "<defs>\n",
       "  <clipPath id=\"clip021\">\n",
       "    <rect x=\"480\" y=\"0\" width=\"1681\" height=\"1600\"/>\n",
       "  </clipPath>\n",
       "</defs>\n",
       "<path clip-path=\"url(#clip020)\" d=\"\n",
       "M211.575 1486.45 L2352.76 1486.45 L2352.76 123.472 L211.575 123.472  Z\n",
       "  \" fill=\"#ffffff\" fill-rule=\"evenodd\" fill-opacity=\"1\"/>\n",
       "<defs>\n",
       "  <clipPath id=\"clip022\">\n",
       "    <rect x=\"211\" y=\"123\" width=\"2142\" height=\"1364\"/>\n",
       "  </clipPath>\n",
       "</defs>\n",
       "<polyline clip-path=\"url(#clip022)\" style=\"stroke:#000000; stroke-width:2; stroke-opacity:0.1; fill:none\" points=\"\n",
       "  269.155,1486.45 269.155,123.472 \n",
       "  \"/>\n",
       "<polyline clip-path=\"url(#clip022)\" style=\"stroke:#000000; stroke-width:2; stroke-opacity:0.1; fill:none\" points=\"\n",
       "  571.095,1486.45 571.095,123.472 \n",
       "  \"/>\n",
       "<polyline clip-path=\"url(#clip022)\" style=\"stroke:#000000; stroke-width:2; stroke-opacity:0.1; fill:none\" points=\"\n",
       "  873.036,1486.45 873.036,123.472 \n",
       "  \"/>\n",
       "<polyline clip-path=\"url(#clip022)\" style=\"stroke:#000000; stroke-width:2; stroke-opacity:0.1; fill:none\" points=\"\n",
       "  1174.98,1486.45 1174.98,123.472 \n",
       "  \"/>\n",
       "<polyline clip-path=\"url(#clip022)\" style=\"stroke:#000000; stroke-width:2; stroke-opacity:0.1; fill:none\" points=\"\n",
       "  1476.92,1486.45 1476.92,123.472 \n",
       "  \"/>\n",
       "<polyline clip-path=\"url(#clip022)\" style=\"stroke:#000000; stroke-width:2; stroke-opacity:0.1; fill:none\" points=\"\n",
       "  1778.86,1486.45 1778.86,123.472 \n",
       "  \"/>\n",
       "<polyline clip-path=\"url(#clip022)\" style=\"stroke:#000000; stroke-width:2; stroke-opacity:0.1; fill:none\" points=\"\n",
       "  2080.8,1486.45 2080.8,123.472 \n",
       "  \"/>\n",
       "<polyline clip-path=\"url(#clip022)\" style=\"stroke:#000000; stroke-width:2; stroke-opacity:0.1; fill:none\" points=\"\n",
       "  211.575,1338.26 2352.76,1338.26 \n",
       "  \"/>\n",
       "<polyline clip-path=\"url(#clip022)\" style=\"stroke:#000000; stroke-width:2; stroke-opacity:0.1; fill:none\" points=\"\n",
       "  211.575,1154.29 2352.76,1154.29 \n",
       "  \"/>\n",
       "<polyline clip-path=\"url(#clip022)\" style=\"stroke:#000000; stroke-width:2; stroke-opacity:0.1; fill:none\" points=\"\n",
       "  211.575,970.323 2352.76,970.323 \n",
       "  \"/>\n",
       "<polyline clip-path=\"url(#clip022)\" style=\"stroke:#000000; stroke-width:2; stroke-opacity:0.1; fill:none\" points=\"\n",
       "  211.575,786.353 2352.76,786.353 \n",
       "  \"/>\n",
       "<polyline clip-path=\"url(#clip022)\" style=\"stroke:#000000; stroke-width:2; stroke-opacity:0.1; fill:none\" points=\"\n",
       "  211.575,602.382 2352.76,602.382 \n",
       "  \"/>\n",
       "<polyline clip-path=\"url(#clip022)\" style=\"stroke:#000000; stroke-width:2; stroke-opacity:0.1; fill:none\" points=\"\n",
       "  211.575,418.412 2352.76,418.412 \n",
       "  \"/>\n",
       "<polyline clip-path=\"url(#clip022)\" style=\"stroke:#000000; stroke-width:2; stroke-opacity:0.1; fill:none\" points=\"\n",
       "  211.575,234.441 2352.76,234.441 \n",
       "  \"/>\n",
       "<polyline clip-path=\"url(#clip020)\" style=\"stroke:#000000; stroke-width:4; stroke-opacity:1; fill:none\" points=\"\n",
       "  211.575,1486.45 2352.76,1486.45 \n",
       "  \"/>\n",
       "<polyline clip-path=\"url(#clip020)\" style=\"stroke:#000000; stroke-width:4; stroke-opacity:1; fill:none\" points=\"\n",
       "  211.575,1486.45 211.575,123.472 \n",
       "  \"/>\n",
       "<polyline clip-path=\"url(#clip020)\" style=\"stroke:#000000; stroke-width:4; stroke-opacity:1; fill:none\" points=\"\n",
       "  269.155,1486.45 269.155,1470.09 \n",
       "  \"/>\n",
       "<polyline clip-path=\"url(#clip020)\" style=\"stroke:#000000; stroke-width:4; stroke-opacity:1; fill:none\" points=\"\n",
       "  571.095,1486.45 571.095,1470.09 \n",
       "  \"/>\n",
       "<polyline clip-path=\"url(#clip020)\" style=\"stroke:#000000; stroke-width:4; stroke-opacity:1; fill:none\" points=\"\n",
       "  873.036,1486.45 873.036,1470.09 \n",
       "  \"/>\n",
       "<polyline clip-path=\"url(#clip020)\" style=\"stroke:#000000; stroke-width:4; stroke-opacity:1; fill:none\" points=\"\n",
       "  1174.98,1486.45 1174.98,1470.09 \n",
       "  \"/>\n",
       "<polyline clip-path=\"url(#clip020)\" style=\"stroke:#000000; stroke-width:4; stroke-opacity:1; fill:none\" points=\"\n",
       "  1476.92,1486.45 1476.92,1470.09 \n",
       "  \"/>\n",
       "<polyline clip-path=\"url(#clip020)\" style=\"stroke:#000000; stroke-width:4; stroke-opacity:1; fill:none\" points=\"\n",
       "  1778.86,1486.45 1778.86,1470.09 \n",
       "  \"/>\n",
       "<polyline clip-path=\"url(#clip020)\" style=\"stroke:#000000; stroke-width:4; stroke-opacity:1; fill:none\" points=\"\n",
       "  2080.8,1486.45 2080.8,1470.09 \n",
       "  \"/>\n",
       "<polyline clip-path=\"url(#clip020)\" style=\"stroke:#000000; stroke-width:4; stroke-opacity:1; fill:none\" points=\"\n",
       "  211.575,1338.26 237.269,1338.26 \n",
       "  \"/>\n",
       "<polyline clip-path=\"url(#clip020)\" style=\"stroke:#000000; stroke-width:4; stroke-opacity:1; fill:none\" points=\"\n",
       "  211.575,1154.29 237.269,1154.29 \n",
       "  \"/>\n",
       "<polyline clip-path=\"url(#clip020)\" style=\"stroke:#000000; stroke-width:4; stroke-opacity:1; fill:none\" points=\"\n",
       "  211.575,970.323 237.269,970.323 \n",
       "  \"/>\n",
       "<polyline clip-path=\"url(#clip020)\" style=\"stroke:#000000; stroke-width:4; stroke-opacity:1; fill:none\" points=\"\n",
       "  211.575,786.353 237.269,786.353 \n",
       "  \"/>\n",
       "<polyline clip-path=\"url(#clip020)\" style=\"stroke:#000000; stroke-width:4; stroke-opacity:1; fill:none\" points=\"\n",
       "  211.575,602.382 237.269,602.382 \n",
       "  \"/>\n",
       "<polyline clip-path=\"url(#clip020)\" style=\"stroke:#000000; stroke-width:4; stroke-opacity:1; fill:none\" points=\"\n",
       "  211.575,418.412 237.269,418.412 \n",
       "  \"/>\n",
       "<polyline clip-path=\"url(#clip020)\" style=\"stroke:#000000; stroke-width:4; stroke-opacity:1; fill:none\" points=\"\n",
       "  211.575,234.441 237.269,234.441 \n",
       "  \"/>\n",
       "<path clip-path=\"url(#clip020)\" d=\"M 0 0 M269.155 1508.44 Q265.544 1508.44 263.715 1512 Q261.91 1515.55 261.91 1522.67 Q261.91 1529.78 263.715 1533.35 Q265.544 1536.89 269.155 1536.89 Q272.789 1536.89 274.595 1533.35 Q276.423 1529.78 276.423 1522.67 Q276.423 1515.55 274.595 1512 Q272.789 1508.44 269.155 1508.44 M269.155 1504.73 Q274.965 1504.73 278.021 1509.34 Q281.099 1513.92 281.099 1522.67 Q281.099 1531.4 278.021 1536.01 Q274.965 1540.59 269.155 1540.59 Q263.345 1540.59 260.266 1536.01 Q257.21 1531.4 257.21 1522.67 Q257.21 1513.92 260.266 1509.34 Q263.345 1504.73 269.155 1504.73 Z\" fill=\"#000000\" fill-rule=\"evenodd\" fill-opacity=\"1\" /><path clip-path=\"url(#clip020)\" d=\"M 0 0 M534.464 1535.98 L542.102 1535.98 L542.102 1509.62 L533.792 1511.29 L533.792 1507.03 L542.056 1505.36 L546.732 1505.36 L546.732 1535.98 L554.371 1535.98 L554.371 1539.92 L534.464 1539.92 L534.464 1535.98 Z\" fill=\"#000000\" fill-rule=\"evenodd\" fill-opacity=\"1\" /><path clip-path=\"url(#clip020)\" d=\"M 0 0 M569.44 1508.44 Q565.829 1508.44 564.001 1512 Q562.195 1515.55 562.195 1522.67 Q562.195 1529.78 564.001 1533.35 Q565.829 1536.89 569.44 1536.89 Q573.075 1536.89 574.88 1533.35 Q576.709 1529.78 576.709 1522.67 Q576.709 1515.55 574.88 1512 Q573.075 1508.44 569.44 1508.44 M569.44 1504.73 Q575.25 1504.73 578.306 1509.34 Q581.385 1513.92 581.385 1522.67 Q581.385 1531.4 578.306 1536.01 Q575.25 1540.59 569.44 1540.59 Q563.63 1540.59 560.551 1536.01 Q557.496 1531.4 557.496 1522.67 Q557.496 1513.92 560.551 1509.34 Q563.63 1504.73 569.44 1504.73 Z\" fill=\"#000000\" fill-rule=\"evenodd\" fill-opacity=\"1\" /><path clip-path=\"url(#clip020)\" d=\"M 0 0 M596.454 1508.44 Q592.843 1508.44 591.014 1512 Q589.209 1515.55 589.209 1522.67 Q589.209 1529.78 591.014 1533.35 Q592.843 1536.89 596.454 1536.89 Q600.088 1536.89 601.894 1533.35 Q603.723 1529.78 603.723 1522.67 Q603.723 1515.55 601.894 1512 Q600.088 1508.44 596.454 1508.44 M596.454 1504.73 Q602.264 1504.73 605.32 1509.34 Q608.398 1513.92 608.398 1522.67 Q608.398 1531.4 605.32 1536.01 Q602.264 1540.59 596.454 1540.59 Q590.644 1540.59 587.565 1536.01 Q584.51 1531.4 584.51 1522.67 Q584.51 1513.92 587.565 1509.34 Q590.644 1504.73 596.454 1504.73 Z\" fill=\"#000000\" fill-rule=\"evenodd\" fill-opacity=\"1\" /><path clip-path=\"url(#clip020)\" d=\"M 0 0 M840.675 1535.98 L856.994 1535.98 L856.994 1539.92 L835.05 1539.92 L835.05 1535.98 Q837.712 1533.23 842.295 1528.6 Q846.902 1523.95 848.082 1522.61 Q850.328 1520.08 851.207 1518.35 Q852.11 1516.59 852.11 1514.9 Q852.11 1512.14 850.166 1510.41 Q848.244 1508.67 845.143 1508.67 Q842.943 1508.67 840.49 1509.43 Q838.059 1510.2 835.281 1511.75 L835.281 1507.03 Q838.106 1505.89 840.559 1505.31 Q843.013 1504.73 845.05 1504.73 Q850.42 1504.73 853.615 1507.42 Q856.809 1510.11 856.809 1514.6 Q856.809 1516.73 855.999 1518.65 Q855.212 1520.54 853.105 1523.14 Q852.527 1523.81 849.425 1527.03 Q846.323 1530.22 840.675 1535.98 Z\" fill=\"#000000\" fill-rule=\"evenodd\" fill-opacity=\"1\" /><path clip-path=\"url(#clip020)\" d=\"M 0 0 M872.064 1508.44 Q868.453 1508.44 866.624 1512 Q864.818 1515.55 864.818 1522.67 Q864.818 1529.78 866.624 1533.35 Q868.453 1536.89 872.064 1536.89 Q875.698 1536.89 877.503 1533.35 Q879.332 1529.78 879.332 1522.67 Q879.332 1515.55 877.503 1512 Q875.698 1508.44 872.064 1508.44 M872.064 1504.73 Q877.874 1504.73 880.929 1509.34 Q884.008 1513.92 884.008 1522.67 Q884.008 1531.4 880.929 1536.01 Q877.874 1540.59 872.064 1540.59 Q866.254 1540.59 863.175 1536.01 Q860.119 1531.4 860.119 1522.67 Q860.119 1513.92 863.175 1509.34 Q866.254 1504.73 872.064 1504.73 Z\" fill=\"#000000\" fill-rule=\"evenodd\" fill-opacity=\"1\" /><path clip-path=\"url(#clip020)\" d=\"M 0 0 M899.077 1508.44 Q895.466 1508.44 893.638 1512 Q891.832 1515.55 891.832 1522.67 Q891.832 1529.78 893.638 1533.35 Q895.466 1536.89 899.077 1536.89 Q902.712 1536.89 904.517 1533.35 Q906.346 1529.78 906.346 1522.67 Q906.346 1515.55 904.517 1512 Q902.712 1508.44 899.077 1508.44 M899.077 1504.73 Q904.888 1504.73 907.943 1509.34 Q911.022 1513.92 911.022 1522.67 Q911.022 1531.4 907.943 1536.01 Q904.888 1540.59 899.077 1540.59 Q893.267 1540.59 890.189 1536.01 Q887.133 1531.4 887.133 1522.67 Q887.133 1513.92 890.189 1509.34 Q893.267 1504.73 899.077 1504.73 Z\" fill=\"#000000\" fill-rule=\"evenodd\" fill-opacity=\"1\" /><path clip-path=\"url(#clip020)\" d=\"M 0 0 M1152.21 1521.29 Q1155.57 1522 1157.44 1524.27 Q1159.34 1526.54 1159.34 1529.87 Q1159.34 1534.99 1155.82 1537.79 Q1152.3 1540.59 1145.82 1540.59 Q1143.65 1540.59 1141.33 1540.15 Q1139.04 1539.73 1136.59 1538.88 L1136.59 1534.36 Q1138.53 1535.5 1140.84 1536.08 Q1143.16 1536.66 1145.68 1536.66 Q1150.08 1536.66 1152.37 1534.92 Q1154.69 1533.18 1154.69 1529.87 Q1154.69 1526.82 1152.53 1525.11 Q1150.4 1523.37 1146.59 1523.37 L1142.56 1523.37 L1142.56 1519.53 L1146.77 1519.53 Q1150.22 1519.53 1152.05 1518.16 Q1153.88 1516.77 1153.88 1514.18 Q1153.88 1511.52 1151.98 1510.11 Q1150.1 1508.67 1146.59 1508.67 Q1144.66 1508.67 1142.47 1509.09 Q1140.27 1509.5 1137.63 1510.38 L1137.63 1506.22 Q1140.29 1505.48 1142.6 1505.11 Q1144.94 1504.73 1147 1504.73 Q1152.33 1504.73 1155.43 1507.17 Q1158.53 1509.57 1158.53 1513.69 Q1158.53 1516.56 1156.89 1518.55 Q1155.24 1520.52 1152.21 1521.29 Z\" fill=\"#000000\" fill-rule=\"evenodd\" fill-opacity=\"1\" /><path clip-path=\"url(#clip020)\" d=\"M 0 0 M1174.41 1508.44 Q1170.8 1508.44 1168.97 1512 Q1167.16 1515.55 1167.16 1522.67 Q1167.16 1529.78 1168.97 1533.35 Q1170.8 1536.89 1174.41 1536.89 Q1178.04 1536.89 1179.85 1533.35 Q1181.68 1529.78 1181.68 1522.67 Q1181.68 1515.55 1179.85 1512 Q1178.04 1508.44 1174.41 1508.44 M1174.41 1504.73 Q1180.22 1504.73 1183.28 1509.34 Q1186.35 1513.92 1186.35 1522.67 Q1186.35 1531.4 1183.28 1536.01 Q1180.22 1540.59 1174.41 1540.59 Q1168.6 1540.59 1165.52 1536.01 Q1162.46 1531.4 1162.46 1522.67 Q1162.46 1513.92 1165.52 1509.34 Q1168.6 1504.73 1174.41 1504.73 Z\" fill=\"#000000\" fill-rule=\"evenodd\" fill-opacity=\"1\" /><path clip-path=\"url(#clip020)\" d=\"M 0 0 M1201.42 1508.44 Q1197.81 1508.44 1195.98 1512 Q1194.18 1515.55 1194.18 1522.67 Q1194.18 1529.78 1195.98 1533.35 Q1197.81 1536.89 1201.42 1536.89 Q1205.06 1536.89 1206.86 1533.35 Q1208.69 1529.78 1208.69 1522.67 Q1208.69 1515.55 1206.86 1512 Q1205.06 1508.44 1201.42 1508.44 M1201.42 1504.73 Q1207.23 1504.73 1210.29 1509.34 Q1213.37 1513.92 1213.37 1522.67 Q1213.37 1531.4 1210.29 1536.01 Q1207.23 1540.59 1201.42 1540.59 Q1195.61 1540.59 1192.53 1536.01 Q1189.48 1531.4 1189.48 1522.67 Q1189.48 1513.92 1192.53 1509.34 Q1195.61 1504.73 1201.42 1504.73 Z\" fill=\"#000000\" fill-rule=\"evenodd\" fill-opacity=\"1\" /><path clip-path=\"url(#clip020)\" d=\"M 0 0 M1452.91 1509.43 L1441.11 1527.88 L1452.91 1527.88 L1452.91 1509.43 M1451.69 1505.36 L1457.57 1505.36 L1457.57 1527.88 L1462.5 1527.88 L1462.5 1531.77 L1457.57 1531.77 L1457.57 1539.92 L1452.91 1539.92 L1452.91 1531.77 L1437.31 1531.77 L1437.31 1527.26 L1451.69 1505.36 Z\" fill=\"#000000\" fill-rule=\"evenodd\" fill-opacity=\"1\" /><path clip-path=\"url(#clip020)\" d=\"M 0 0 M1477.57 1508.44 Q1473.95 1508.44 1472.13 1512 Q1470.32 1515.55 1470.32 1522.67 Q1470.32 1529.78 1472.13 1533.35 Q1473.95 1536.89 1477.57 1536.89 Q1481.2 1536.89 1483 1533.35 Q1484.83 1529.78 1484.83 1522.67 Q1484.83 1515.55 1483 1512 Q1481.2 1508.44 1477.57 1508.44 M1477.57 1504.73 Q1483.38 1504.73 1486.43 1509.34 Q1489.51 1513.92 1489.51 1522.67 Q1489.51 1531.4 1486.43 1536.01 Q1483.38 1540.59 1477.57 1540.59 Q1471.75 1540.59 1468.68 1536.01 Q1465.62 1531.4 1465.62 1522.67 Q1465.62 1513.92 1468.68 1509.34 Q1471.75 1504.73 1477.57 1504.73 Z\" fill=\"#000000\" fill-rule=\"evenodd\" fill-opacity=\"1\" /><path clip-path=\"url(#clip020)\" d=\"M 0 0 M1504.58 1508.44 Q1500.97 1508.44 1499.14 1512 Q1497.33 1515.55 1497.33 1522.67 Q1497.33 1529.78 1499.14 1533.35 Q1500.97 1536.89 1504.58 1536.89 Q1508.21 1536.89 1510.02 1533.35 Q1511.85 1529.78 1511.85 1522.67 Q1511.85 1515.55 1510.02 1512 Q1508.21 1508.44 1504.58 1508.44 M1504.58 1504.73 Q1510.39 1504.73 1513.44 1509.34 Q1516.52 1513.92 1516.52 1522.67 Q1516.52 1531.4 1513.44 1536.01 Q1510.39 1540.59 1504.58 1540.59 Q1498.77 1540.59 1495.69 1536.01 Q1492.63 1531.4 1492.63 1522.67 Q1492.63 1513.92 1495.69 1509.34 Q1498.77 1504.73 1504.58 1504.73 Z\" fill=\"#000000\" fill-rule=\"evenodd\" fill-opacity=\"1\" /><path clip-path=\"url(#clip020)\" d=\"M 0 0 M1742.12 1505.36 L1760.48 1505.36 L1760.48 1509.3 L1746.4 1509.3 L1746.4 1517.77 Q1747.42 1517.42 1748.44 1517.26 Q1749.46 1517.07 1750.48 1517.07 Q1756.27 1517.07 1759.64 1520.24 Q1763.02 1523.42 1763.02 1528.83 Q1763.02 1534.41 1759.55 1537.51 Q1756.08 1540.59 1749.76 1540.59 Q1747.58 1540.59 1745.32 1540.22 Q1743.07 1539.85 1740.66 1539.11 L1740.66 1534.41 Q1742.75 1535.54 1744.97 1536.1 Q1747.19 1536.66 1749.67 1536.66 Q1753.67 1536.66 1756.01 1534.55 Q1758.35 1532.44 1758.35 1528.83 Q1758.35 1525.22 1756.01 1523.11 Q1753.67 1521.01 1749.67 1521.01 Q1747.79 1521.01 1745.92 1521.42 Q1744.07 1521.84 1742.12 1522.72 L1742.12 1505.36 Z\" fill=\"#000000\" fill-rule=\"evenodd\" fill-opacity=\"1\" /><path clip-path=\"url(#clip020)\" d=\"M 0 0 M1778.09 1508.44 Q1774.48 1508.44 1772.65 1512 Q1770.85 1515.55 1770.85 1522.67 Q1770.85 1529.78 1772.65 1533.35 Q1774.48 1536.89 1778.09 1536.89 Q1781.73 1536.89 1783.53 1533.35 Q1785.36 1529.78 1785.36 1522.67 Q1785.36 1515.55 1783.53 1512 Q1781.73 1508.44 1778.09 1508.44 M1778.09 1504.73 Q1783.9 1504.73 1786.96 1509.34 Q1790.04 1513.92 1790.04 1522.67 Q1790.04 1531.4 1786.96 1536.01 Q1783.9 1540.59 1778.09 1540.59 Q1772.28 1540.59 1769.2 1536.01 Q1766.15 1531.4 1766.15 1522.67 Q1766.15 1513.92 1769.2 1509.34 Q1772.28 1504.73 1778.09 1504.73 Z\" fill=\"#000000\" fill-rule=\"evenodd\" fill-opacity=\"1\" /><path clip-path=\"url(#clip020)\" d=\"M 0 0 M1805.11 1508.44 Q1801.5 1508.44 1799.67 1512 Q1797.86 1515.55 1797.86 1522.67 Q1797.86 1529.78 1799.67 1533.35 Q1801.5 1536.89 1805.11 1536.89 Q1808.74 1536.89 1810.55 1533.35 Q1812.38 1529.78 1812.38 1522.67 Q1812.38 1515.55 1810.55 1512 Q1808.74 1508.44 1805.11 1508.44 M1805.11 1504.73 Q1810.92 1504.73 1813.97 1509.34 Q1817.05 1513.92 1817.05 1522.67 Q1817.05 1531.4 1813.97 1536.01 Q1810.92 1540.59 1805.11 1540.59 Q1799.3 1540.59 1796.22 1536.01 Q1793.16 1531.4 1793.16 1522.67 Q1793.16 1513.92 1796.22 1509.34 Q1799.3 1504.73 1805.11 1504.73 Z\" fill=\"#000000\" fill-rule=\"evenodd\" fill-opacity=\"1\" /><path clip-path=\"url(#clip020)\" d=\"M 0 0 M2054.19 1520.78 Q2051.04 1520.78 2049.19 1522.93 Q2047.36 1525.08 2047.36 1528.83 Q2047.36 1532.56 2049.19 1534.73 Q2051.04 1536.89 2054.19 1536.89 Q2057.34 1536.89 2059.17 1534.73 Q2061.02 1532.56 2061.02 1528.83 Q2061.02 1525.08 2059.17 1522.93 Q2057.34 1520.78 2054.19 1520.78 M2063.47 1506.12 L2063.47 1510.38 Q2061.71 1509.55 2059.91 1509.11 Q2058.12 1508.67 2056.37 1508.67 Q2051.74 1508.67 2049.28 1511.8 Q2046.85 1514.92 2046.5 1521.24 Q2047.87 1519.23 2049.93 1518.16 Q2051.99 1517.07 2054.47 1517.07 Q2059.68 1517.07 2062.68 1520.24 Q2065.72 1523.39 2065.72 1528.83 Q2065.72 1534.16 2062.57 1537.37 Q2059.42 1540.59 2054.19 1540.59 Q2048.19 1540.59 2045.02 1536.01 Q2041.85 1531.4 2041.85 1522.67 Q2041.85 1514.48 2045.74 1509.62 Q2049.63 1504.73 2056.18 1504.73 Q2057.94 1504.73 2059.72 1505.08 Q2061.53 1505.43 2063.47 1506.12 Z\" fill=\"#000000\" fill-rule=\"evenodd\" fill-opacity=\"1\" /><path clip-path=\"url(#clip020)\" d=\"M 0 0 M2080.79 1508.44 Q2077.18 1508.44 2075.35 1512 Q2073.54 1515.55 2073.54 1522.67 Q2073.54 1529.78 2075.35 1533.35 Q2077.18 1536.89 2080.79 1536.89 Q2084.42 1536.89 2086.23 1533.35 Q2088.05 1529.78 2088.05 1522.67 Q2088.05 1515.55 2086.23 1512 Q2084.42 1508.44 2080.79 1508.44 M2080.79 1504.73 Q2086.6 1504.73 2089.65 1509.34 Q2092.73 1513.92 2092.73 1522.67 Q2092.73 1531.4 2089.65 1536.01 Q2086.6 1540.59 2080.79 1540.59 Q2074.98 1540.59 2071.9 1536.01 Q2068.84 1531.4 2068.84 1522.67 Q2068.84 1513.92 2071.9 1509.34 Q2074.98 1504.73 2080.79 1504.73 Z\" fill=\"#000000\" fill-rule=\"evenodd\" fill-opacity=\"1\" /><path clip-path=\"url(#clip020)\" d=\"M 0 0 M2107.8 1508.44 Q2104.19 1508.44 2102.36 1512 Q2100.55 1515.55 2100.55 1522.67 Q2100.55 1529.78 2102.36 1533.35 Q2104.19 1536.89 2107.8 1536.89 Q2111.43 1536.89 2113.24 1533.35 Q2115.07 1529.78 2115.07 1522.67 Q2115.07 1515.55 2113.24 1512 Q2111.43 1508.44 2107.8 1508.44 M2107.8 1504.73 Q2113.61 1504.73 2116.67 1509.34 Q2119.74 1513.92 2119.74 1522.67 Q2119.74 1531.4 2116.67 1536.01 Q2113.61 1540.59 2107.8 1540.59 Q2101.99 1540.59 2098.91 1536.01 Q2095.86 1531.4 2095.86 1522.67 Q2095.86 1513.92 2098.91 1509.34 Q2101.99 1504.73 2107.8 1504.73 Z\" fill=\"#000000\" fill-rule=\"evenodd\" fill-opacity=\"1\" /><path clip-path=\"url(#clip020)\" d=\"M 0 0 M98.3739 1358.06 L106.013 1358.06 L106.013 1331.69 L97.7026 1333.36 L97.7026 1329.1 L105.966 1327.43 L110.642 1327.43 L110.642 1358.06 L118.281 1358.06 L118.281 1361.99 L98.3739 1361.99 L98.3739 1358.06 Z\" fill=\"#000000\" fill-rule=\"evenodd\" fill-opacity=\"1\" /><path clip-path=\"url(#clip020)\" d=\"M 0 0 M133.351 1330.51 Q129.739 1330.51 127.911 1334.08 Q126.105 1337.62 126.105 1344.75 Q126.105 1351.85 127.911 1355.42 Q129.739 1358.96 133.351 1358.96 Q136.985 1358.96 138.79 1355.42 Q140.619 1351.85 140.619 1344.75 Q140.619 1337.62 138.79 1334.08 Q136.985 1330.51 133.351 1330.51 M133.351 1326.81 Q139.161 1326.81 142.216 1331.41 Q145.295 1336 145.295 1344.75 Q145.295 1353.47 142.216 1358.08 Q139.161 1362.66 133.351 1362.66 Q127.54 1362.66 124.462 1358.08 Q121.406 1353.47 121.406 1344.75 Q121.406 1336 124.462 1331.41 Q127.54 1326.81 133.351 1326.81 Z\" fill=\"#000000\" fill-rule=\"evenodd\" fill-opacity=\"1\" /><path clip-path=\"url(#clip020)\" d=\"M 0 0 M145.295 1322.49 L155.432 1322.49 L155.432 1325.57 L145.295 1325.57 L145.295 1322.49 Z\" fill=\"#000000\" fill-rule=\"evenodd\" fill-opacity=\"1\" /><path clip-path=\"url(#clip020)\" d=\"M 0 0 M170.591 1306.5 L185.506 1306.5 L185.506 1309.7 L174.071 1309.7 L174.071 1316.58 Q174.898 1316.3 175.726 1316.17 Q176.553 1316.02 177.381 1316.02 Q182.083 1316.02 184.829 1318.59 Q187.575 1321.17 187.575 1325.57 Q187.575 1330.11 184.754 1332.63 Q181.932 1335.13 176.798 1335.13 Q175.03 1335.13 173.187 1334.83 Q171.362 1334.53 169.406 1333.92 L169.406 1330.11 Q171.099 1331.03 172.905 1331.48 Q174.71 1331.93 176.723 1331.93 Q179.976 1331.93 181.876 1330.22 Q183.776 1328.51 183.776 1325.57 Q183.776 1322.64 181.876 1320.93 Q179.976 1319.22 176.723 1319.22 Q175.199 1319.22 173.676 1319.55 Q172.171 1319.89 170.591 1320.61 L170.591 1306.5 Z\" fill=\"#000000\" fill-rule=\"evenodd\" fill-opacity=\"1\" /><path clip-path=\"url(#clip020)\" d=\"M 0 0 M96.0793 1174.09 L103.718 1174.09 L103.718 1147.72 L95.408 1149.39 L95.408 1145.13 L103.672 1143.46 L108.348 1143.46 L108.348 1174.09 L115.987 1174.09 L115.987 1178.02 L96.0793 1178.02 L96.0793 1174.09 Z\" fill=\"#000000\" fill-rule=\"evenodd\" fill-opacity=\"1\" /><path clip-path=\"url(#clip020)\" d=\"M 0 0 M131.056 1146.54 Q127.445 1146.54 125.616 1150.1 Q123.811 1153.65 123.811 1160.78 Q123.811 1167.88 125.616 1171.45 Q127.445 1174.99 131.056 1174.99 Q134.69 1174.99 136.496 1171.45 Q138.324 1167.88 138.324 1160.78 Q138.324 1153.65 136.496 1150.1 Q134.69 1146.54 131.056 1146.54 M131.056 1142.84 Q136.866 1142.84 139.922 1147.44 Q143 1152.03 143 1160.78 Q143 1169.5 139.922 1174.11 Q136.866 1178.69 131.056 1178.69 Q125.246 1178.69 122.167 1174.11 Q119.112 1169.5 119.112 1160.78 Q119.112 1152.03 122.167 1147.44 Q125.246 1142.84 131.056 1142.84 Z\" fill=\"#000000\" fill-rule=\"evenodd\" fill-opacity=\"1\" /><path clip-path=\"url(#clip020)\" d=\"M 0 0 M143 1138.52 L153.138 1138.52 L153.138 1141.6 L143 1141.6 L143 1138.52 Z\" fill=\"#000000\" fill-rule=\"evenodd\" fill-opacity=\"1\" /><path clip-path=\"url(#clip020)\" d=\"M 0 0 M179.788 1125.84 L170.196 1140.83 L179.788 1140.83 L179.788 1125.84 M178.792 1122.53 L183.569 1122.53 L183.569 1140.83 L187.575 1140.83 L187.575 1143.99 L183.569 1143.99 L183.569 1150.61 L179.788 1150.61 L179.788 1143.99 L167.112 1143.99 L167.112 1140.32 L178.792 1122.53 Z\" fill=\"#000000\" fill-rule=\"evenodd\" fill-opacity=\"1\" /><path clip-path=\"url(#clip020)\" d=\"M 0 0 M98.0541 990.116 L105.693 990.116 L105.693 963.75 L97.3829 965.417 L97.3829 961.158 L105.647 959.491 L110.323 959.491 L110.323 990.116 L117.961 990.116 L117.961 994.051 L98.0541 994.051 L98.0541 990.116 Z\" fill=\"#000000\" fill-rule=\"evenodd\" fill-opacity=\"1\" /><path clip-path=\"url(#clip020)\" d=\"M 0 0 M133.031 962.57 Q129.42 962.57 127.591 966.134 Q125.785 969.676 125.785 976.806 Q125.785 983.912 127.591 987.477 Q129.42 991.019 133.031 991.019 Q136.665 991.019 138.471 987.477 Q140.299 983.912 140.299 976.806 Q140.299 969.676 138.471 966.134 Q136.665 962.57 133.031 962.57 M133.031 958.866 Q138.841 958.866 141.897 963.472 Q144.975 968.056 144.975 976.806 Q144.975 985.532 141.897 990.139 Q138.841 994.722 133.031 994.722 Q127.221 994.722 124.142 990.139 Q121.086 985.532 121.086 976.806 Q121.086 968.056 124.142 963.472 Q127.221 958.866 133.031 958.866 Z\" fill=\"#000000\" fill-rule=\"evenodd\" fill-opacity=\"1\" /><path clip-path=\"url(#clip020)\" d=\"M 0 0 M144.975 954.547 L155.113 954.547 L155.113 957.632 L144.975 957.632 L144.975 954.547 Z\" fill=\"#000000\" fill-rule=\"evenodd\" fill-opacity=\"1\" /><path clip-path=\"url(#clip020)\" d=\"M 0 0 M181.782 951.5 Q184.509 952.083 186.033 953.926 Q187.575 955.77 187.575 958.478 Q187.575 962.634 184.716 964.91 Q181.857 967.186 176.591 967.186 Q174.823 967.186 172.942 966.829 Q171.08 966.49 169.087 965.794 L169.087 962.127 Q170.667 963.048 172.547 963.518 Q174.428 963.989 176.478 963.989 Q180.052 963.989 181.914 962.578 Q183.794 961.167 183.794 958.478 Q183.794 955.995 182.045 954.604 Q180.315 953.193 177.212 953.193 L173.939 953.193 L173.939 950.071 L177.362 950.071 Q180.165 950.071 181.65 948.961 Q183.136 947.833 183.136 945.726 Q183.136 943.563 181.594 942.416 Q180.07 941.25 177.212 941.25 Q175.651 941.25 173.864 941.589 Q172.077 941.927 169.933 942.642 L169.933 939.256 Q172.096 938.655 173.977 938.354 Q175.876 938.053 177.55 938.053 Q181.876 938.053 184.396 940.028 Q186.917 941.984 186.917 945.331 Q186.917 947.663 185.581 949.281 Q184.246 950.88 181.782 951.5 Z\" fill=\"#000000\" fill-rule=\"evenodd\" fill-opacity=\"1\" /><path clip-path=\"url(#clip020)\" d=\"M 0 0 M98.7124 806.145 L106.351 806.145 L106.351 779.78 L98.0411 781.446 L98.0411 777.187 L106.305 775.52 L110.981 775.52 L110.981 806.145 L118.62 806.145 L118.62 810.08 L98.7124 810.08 L98.7124 806.145 Z\" fill=\"#000000\" fill-rule=\"evenodd\" fill-opacity=\"1\" /><path clip-path=\"url(#clip020)\" d=\"M 0 0 M133.689 778.599 Q130.078 778.599 128.249 782.164 Q126.444 785.706 126.444 792.835 Q126.444 799.942 128.249 803.506 Q130.078 807.048 133.689 807.048 Q137.323 807.048 139.129 803.506 Q140.958 799.942 140.958 792.835 Q140.958 785.706 139.129 782.164 Q137.323 778.599 133.689 778.599 M133.689 774.895 Q139.499 774.895 142.555 779.502 Q145.633 784.085 145.633 792.835 Q145.633 801.562 142.555 806.168 Q139.499 810.752 133.689 810.752 Q127.879 810.752 124.8 806.168 Q121.745 801.562 121.745 792.835 Q121.745 784.085 124.8 779.502 Q127.879 774.895 133.689 774.895 Z\" fill=\"#000000\" fill-rule=\"evenodd\" fill-opacity=\"1\" /><path clip-path=\"url(#clip020)\" d=\"M 0 0 M145.633 770.577 L155.771 770.577 L155.771 773.661 L145.633 773.661 L145.633 770.577 Z\" fill=\"#000000\" fill-rule=\"evenodd\" fill-opacity=\"1\" /><path clip-path=\"url(#clip020)\" d=\"M 0 0 M174.315 779.473 L187.575 779.473 L187.575 782.67 L169.745 782.67 L169.745 779.473 Q171.908 777.235 175.632 773.473 Q179.375 769.693 180.334 768.602 Q182.158 766.552 182.873 765.141 Q183.606 763.712 183.606 762.339 Q183.606 760.101 182.026 758.69 Q180.465 757.28 177.945 757.28 Q176.158 757.28 174.165 757.9 Q172.19 758.521 169.933 759.781 L169.933 755.944 Q172.228 755.023 174.221 754.552 Q176.215 754.082 177.87 754.082 Q182.233 754.082 184.829 756.264 Q187.424 758.446 187.424 762.094 Q187.424 763.825 186.766 765.386 Q186.127 766.928 184.415 769.034 Q183.945 769.58 181.425 772.194 Q178.904 774.79 174.315 779.473 Z\" fill=\"#000000\" fill-rule=\"evenodd\" fill-opacity=\"1\" /><path clip-path=\"url(#clip020)\" d=\"M 0 0 M99.8221 622.175 L107.461 622.175 L107.461 595.809 L99.1508 597.476 L99.1508 593.217 L107.415 591.55 L112.091 591.55 L112.091 622.175 L119.729 622.175 L119.729 626.11 L99.8221 626.11 L99.8221 622.175 Z\" fill=\"#000000\" fill-rule=\"evenodd\" fill-opacity=\"1\" /><path clip-path=\"url(#clip020)\" d=\"M 0 0 M134.799 594.629 Q131.188 594.629 129.359 598.193 Q127.553 601.735 127.553 608.865 Q127.553 615.971 129.359 619.536 Q131.188 623.078 134.799 623.078 Q138.433 623.078 140.239 619.536 Q142.067 615.971 142.067 608.865 Q142.067 601.735 140.239 598.193 Q138.433 594.629 134.799 594.629 M134.799 590.925 Q140.609 590.925 143.664 595.531 Q146.743 600.115 146.743 608.865 Q146.743 617.591 143.664 622.198 Q140.609 626.781 134.799 626.781 Q128.989 626.781 125.91 622.198 Q122.854 617.591 122.854 608.865 Q122.854 600.115 125.91 595.531 Q128.989 590.925 134.799 590.925 Z\" fill=\"#000000\" fill-rule=\"evenodd\" fill-opacity=\"1\" /><path clip-path=\"url(#clip020)\" d=\"M 0 0 M146.743 586.606 L156.881 586.606 L156.881 589.691 L146.743 589.691 L146.743 586.606 Z\" fill=\"#000000\" fill-rule=\"evenodd\" fill-opacity=\"1\" /><path clip-path=\"url(#clip020)\" d=\"M 0 0 M171.4 595.502 L177.607 595.502 L177.607 574.08 L170.855 575.434 L170.855 571.974 L177.569 570.62 L181.368 570.62 L181.368 595.502 L187.575 595.502 L187.575 598.7 L171.4 598.7 L171.4 595.502 Z\" fill=\"#000000\" fill-rule=\"evenodd\" fill-opacity=\"1\" /><path clip-path=\"url(#clip020)\" d=\"M 0 0 M121.244 438.204 L128.883 438.204 L128.883 411.839 L120.573 413.505 L120.573 409.246 L128.837 407.579 L133.513 407.579 L133.513 438.204 L141.151 438.204 L141.151 442.139 L121.244 442.139 L121.244 438.204 Z\" fill=\"#000000\" fill-rule=\"evenodd\" fill-opacity=\"1\" /><path clip-path=\"url(#clip020)\" d=\"M 0 0 M156.221 410.658 Q152.61 410.658 150.781 414.223 Q148.975 417.765 148.975 424.894 Q148.975 432.001 150.781 435.565 Q152.61 439.107 156.221 439.107 Q159.855 439.107 161.661 435.565 Q163.489 432.001 163.489 424.894 Q163.489 417.765 161.661 414.223 Q159.855 410.658 156.221 410.658 M156.221 406.954 Q162.031 406.954 165.086 411.561 Q168.165 416.144 168.165 424.894 Q168.165 433.621 165.086 438.227 Q162.031 442.811 156.221 442.811 Q150.411 442.811 147.332 438.227 Q144.276 433.621 144.276 424.894 Q144.276 416.144 147.332 411.561 Q150.411 406.954 156.221 406.954 Z\" fill=\"#000000\" fill-rule=\"evenodd\" fill-opacity=\"1\" /><path clip-path=\"url(#clip020)\" d=\"M 0 0 M177.87 389.15 Q174.936 389.15 173.45 392.047 Q171.983 394.924 171.983 400.717 Q171.983 406.491 173.45 409.388 Q174.936 412.265 177.87 412.265 Q180.823 412.265 182.29 409.388 Q183.776 406.491 183.776 400.717 Q183.776 394.924 182.29 392.047 Q180.823 389.15 177.87 389.15 M177.87 386.141 Q182.591 386.141 185.073 389.884 Q187.575 393.608 187.575 400.717 Q187.575 407.808 185.073 411.55 Q182.591 415.274 177.87 415.274 Q173.149 415.274 170.648 411.55 Q168.165 407.808 168.165 400.717 Q168.165 393.608 170.648 389.884 Q173.149 386.141 177.87 386.141 Z\" fill=\"#000000\" fill-rule=\"evenodd\" fill-opacity=\"1\" /><path clip-path=\"url(#clip020)\" d=\"M 0 0 M123.934 254.234 L131.572 254.234 L131.572 227.868 L123.262 229.535 L123.262 225.276 L131.526 223.609 L136.202 223.609 L136.202 254.234 L143.841 254.234 L143.841 258.169 L123.934 258.169 L123.934 254.234 Z\" fill=\"#000000\" fill-rule=\"evenodd\" fill-opacity=\"1\" /><path clip-path=\"url(#clip020)\" d=\"M 0 0 M158.91 226.688 Q155.299 226.688 153.471 230.252 Q151.665 233.794 151.665 240.924 Q151.665 248.03 153.471 251.595 Q155.299 255.137 158.91 255.137 Q162.545 255.137 164.35 251.595 Q166.179 248.03 166.179 240.924 Q166.179 233.794 164.35 230.252 Q162.545 226.688 158.91 226.688 M158.91 222.984 Q164.72 222.984 167.776 227.59 Q170.855 232.174 170.855 240.924 Q170.855 249.65 167.776 254.257 Q164.72 258.84 158.91 258.84 Q153.1 258.84 150.021 254.257 Q146.966 249.65 146.966 240.924 Q146.966 232.174 150.021 227.59 Q153.1 222.984 158.91 222.984 Z\" fill=\"#000000\" fill-rule=\"evenodd\" fill-opacity=\"1\" /><path clip-path=\"url(#clip020)\" d=\"M 0 0 M171.4 227.561 L177.607 227.561 L177.607 206.139 L170.855 207.493 L170.855 204.033 L177.569 202.679 L181.368 202.679 L181.368 227.561 L187.575 227.561 L187.575 230.759 L171.4 230.759 L171.4 227.561 Z\" fill=\"#000000\" fill-rule=\"evenodd\" fill-opacity=\"1\" /><path clip-path=\"url(#clip020)\" d=\"M 0 0 M1111.52 12.096 L1123.71 12.096 L1139.15 53.2532 L1154.66 12.096 L1166.86 12.096 L1166.86 72.576 L1158.88 72.576 L1158.88 19.4686 L1143.28 60.9499 L1135.06 60.9499 L1119.46 19.4686 L1119.46 72.576 L1111.52 72.576 L1111.52 12.096 Z\" fill=\"#000000\" fill-rule=\"evenodd\" fill-opacity=\"1\" /><path clip-path=\"url(#clip020)\" d=\"M 0 0 M1213.48 48.0275 L1213.48 51.6733 L1179.21 51.6733 Q1179.7 59.3701 1183.83 63.421 Q1188 67.4314 1195.42 67.4314 Q1199.71 67.4314 1203.72 66.3781 Q1207.77 65.3249 1211.74 63.2184 L1211.74 70.267 Q1207.73 71.9684 1203.52 72.8596 Q1199.3 73.7508 1194.97 73.7508 Q1184.11 73.7508 1177.75 67.4314 Q1171.43 61.1119 1171.43 50.3365 Q1171.43 39.1965 1177.43 32.6746 Q1183.47 26.1121 1193.67 26.1121 Q1202.83 26.1121 1208.14 32.0264 Q1213.48 37.9003 1213.48 48.0275 M1206.03 45.84 Q1205.95 39.7232 1202.59 36.0774 Q1199.26 32.4315 1193.75 32.4315 Q1187.52 32.4315 1183.75 35.9558 Q1180.02 39.4801 1179.45 45.8805 L1206.03 45.84 Z\" fill=\"#000000\" fill-rule=\"evenodd\" fill-opacity=\"1\" /><path clip-path=\"url(#clip020)\" d=\"M 0 0 M1228.67 14.324 L1228.67 27.2059 L1244.03 27.2059 L1244.03 32.9987 L1228.67 32.9987 L1228.67 57.6282 Q1228.67 63.1779 1230.17 64.7578 Q1231.71 66.3376 1236.37 66.3376 L1244.03 66.3376 L1244.03 72.576 L1236.37 72.576 Q1227.74 72.576 1224.46 69.3758 Q1221.18 66.1351 1221.18 57.6282 L1221.18 32.9987 L1215.71 32.9987 L1215.71 27.2059 L1221.18 27.2059 L1221.18 14.324 L1228.67 14.324 Z\" fill=\"#000000\" fill-rule=\"evenodd\" fill-opacity=\"1\" /><path clip-path=\"url(#clip020)\" d=\"M 0 0 M1289.56 45.1919 L1289.56 72.576 L1282.1 72.576 L1282.1 45.4349 Q1282.1 38.994 1279.59 35.7938 Q1277.08 32.5936 1272.06 32.5936 Q1266.02 32.5936 1262.54 36.4419 Q1259.05 40.2903 1259.05 46.9338 L1259.05 72.576 L1251.56 72.576 L1251.56 9.54393 L1259.05 9.54393 L1259.05 34.2544 Q1261.73 30.163 1265.33 28.1376 Q1268.98 26.1121 1273.72 26.1121 Q1281.54 26.1121 1285.55 30.9732 Q1289.56 35.7938 1289.56 45.1919 Z\" fill=\"#000000\" fill-rule=\"evenodd\" fill-opacity=\"1\" /><path clip-path=\"url(#clip020)\" d=\"M 0 0 M1314.96 32.4315 Q1308.96 32.4315 1305.48 37.1306 Q1301.99 41.7891 1301.99 49.9314 Q1301.99 58.0738 1305.44 62.7728 Q1308.92 67.4314 1314.96 67.4314 Q1320.91 67.4314 1324.4 62.7323 Q1327.88 58.0333 1327.88 49.9314 Q1327.88 41.8701 1324.4 37.1711 Q1320.91 32.4315 1314.96 32.4315 M1314.96 26.1121 Q1324.68 26.1121 1330.23 32.4315 Q1335.78 38.7509 1335.78 49.9314 Q1335.78 61.0714 1330.23 67.4314 Q1324.68 73.7508 1314.96 73.7508 Q1305.19 73.7508 1299.65 67.4314 Q1294.14 61.0714 1294.14 49.9314 Q1294.14 38.7509 1299.65 32.4315 Q1305.19 26.1121 1314.96 26.1121 Z\" fill=\"#000000\" fill-rule=\"evenodd\" fill-opacity=\"1\" /><path clip-path=\"url(#clip020)\" d=\"M 0 0 M1373.45 34.0924 L1373.45 9.54393 L1380.91 9.54393 L1380.91 72.576 L1373.45 72.576 L1373.45 65.7705 Q1371.1 69.8214 1367.5 71.8063 Q1363.93 73.7508 1358.91 73.7508 Q1350.69 73.7508 1345.5 67.1883 Q1340.36 60.6258 1340.36 49.9314 Q1340.36 39.2371 1345.5 32.6746 Q1350.69 26.1121 1358.91 26.1121 Q1363.93 26.1121 1367.5 28.0971 Q1371.1 30.0415 1373.45 34.0924 M1348.05 49.9314 Q1348.05 58.1548 1351.42 62.8538 Q1354.82 67.5124 1360.73 67.5124 Q1366.65 67.5124 1370.05 62.8538 Q1373.45 58.1548 1373.45 49.9314 Q1373.45 41.7081 1370.05 37.0496 Q1366.65 32.3505 1360.73 32.3505 Q1354.82 32.3505 1351.42 37.0496 Q1348.05 41.7081 1348.05 49.9314 Z\" fill=\"#000000\" fill-rule=\"evenodd\" fill-opacity=\"1\" /><path clip-path=\"url(#clip020)\" d=\"M 0 0 M1416.23 12.096 L1448.35 12.096 L1448.35 18.9825 L1423.72 18.9825 L1423.72 33.8088 Q1425.51 33.2012 1427.29 32.9176 Q1429.07 32.5936 1430.85 32.5936 Q1440.98 32.5936 1446.9 38.1433 Q1452.81 43.6931 1452.81 53.1722 Q1452.81 62.9348 1446.73 68.3631 Q1440.66 73.7508 1429.6 73.7508 Q1425.79 73.7508 1421.82 73.1026 Q1417.89 72.4545 1413.68 71.1582 L1413.68 62.9348 Q1417.32 64.9198 1421.21 65.892 Q1425.1 66.8642 1429.44 66.8642 Q1436.44 66.8642 1440.54 63.1779 Q1444.63 59.4916 1444.63 53.1722 Q1444.63 46.8528 1440.54 43.1664 Q1436.44 39.4801 1429.44 39.4801 Q1426.15 39.4801 1422.87 40.2093 Q1419.63 40.9384 1416.23 42.4778 L1416.23 12.096 Z\" fill=\"#000000\" fill-rule=\"evenodd\" fill-opacity=\"1\" /><polyline clip-path=\"url(#clip022)\" style=\"stroke:#009af9; stroke-width:4; stroke-opacity:1; fill:none\" points=\"\n",
       "  272.174,162.047 275.194,190.003 278.213,223.846 281.232,265.356 284.252,320.173 287.271,398.178 290.291,529.016 293.31,603.43 296.33,463.192 299.349,393.198 \n",
       "  302.368,603.43 305.388,354.857 308.407,363.249 311.427,372.654 314.446,382.671 317.465,391.852 320.485,403.074 323.504,414.641 326.524,426.669 329.543,439.283 \n",
       "  332.562,452.826 335.582,467.481 338.601,482.773 341.621,498.817 344.64,515.832 347.659,533.983 350.679,552.389 353.698,571.213 356.718,589.472 359.737,606.426 \n",
       "  362.756,620.708 365.776,631.012 368.795,636.595 371.815,637.544 374.834,634.834 377.853,629.788 380.873,623.629 383.892,617.253 386.912,611.357 389.931,606.258 \n",
       "  392.95,602.061 395.97,598.877 398.989,596.69 402.009,595.643 405.028,595.415 408.047,596.075 411.067,597.564 414.086,599.673 417.106,602.495 420.125,605.856 \n",
       "  423.145,609.58 426.164,613.551 429.183,617.7 432.203,621.918 435.222,625.966 438.242,629.789 441.261,633.245 444.28,636.257 447.3,638.738 450.319,640.723 \n",
       "  453.339,642.145 456.358,643.094 459.377,643.617 462.397,643.802 465.416,643.734 468.436,643.505 471.455,643.172 474.474,642.845 477.494,642.557 480.513,642.349 \n",
       "  483.533,642.261 486.552,642.272 489.571,642.447 492.591,642.752 495.61,643.177 498.63,643.667 501.649,644.261 504.668,644.902 507.688,645.579 510.707,646.268 \n",
       "  513.727,646.912 516.746,647.582 519.765,648.187 522.785,648.738 525.804,649.24 528.824,649.69 531.843,650.092 534.863,650.446 537.882,650.768 540.901,651.038 \n",
       "  543.921,651.298 546.94,651.544 549.96,651.806 552.979,652.036 555.998,652.336 559.018,652.576 562.037,652.894 565.057,653.182 568.076,653.513 571.095,653.839 \n",
       "  574.115,654.196 577.134,654.571 580.154,654.922 583.173,655.302 586.192,655.631 589.212,656.029 592.231,656.392 595.251,656.756 598.27,657.114 601.289,657.467 \n",
       "  604.309,657.828 607.328,658.164 610.348,658.546 613.367,658.851 616.386,659.178 619.406,659.532 622.425,659.876 625.445,660.222 628.464,660.591 631.483,660.935 \n",
       "  634.503,661.278 637.522,661.661 640.542,662.021 643.561,662.388 646.581,662.749 649.6,663.122 652.619,663.507 655.639,663.861 658.658,664.248 661.678,664.637 \n",
       "  664.697,665.006 667.716,665.396 670.736,665.768 673.755,666.152 676.775,666.531 679.794,666.899 682.813,667.307 685.833,667.661 688.852,668.056 691.872,668.476 \n",
       "  694.891,668.857 697.91,669.246 700.93,669.645 703.949,670.04 706.969,670.45 709.988,670.838 713.007,671.229 716.027,671.65 719.046,672.048 722.066,672.463 \n",
       "  725.085,672.867 728.104,673.281 731.124,673.688 734.143,674.098 737.163,674.517 740.182,674.896 743.201,675.342 746.221,675.761 749.24,676.169 752.26,676.6 \n",
       "  755.279,677.032 758.299,677.436 761.318,677.877 764.337,678.304 767.357,678.735 770.376,679.173 773.396,679.603 776.415,680.031 779.434,680.492 782.454,680.892 \n",
       "  785.473,681.353 788.493,681.78 791.512,682.196 794.531,682.681 797.551,683.117 800.57,683.551 803.59,683.998 806.609,684.448 809.628,684.896 812.648,685.347 \n",
       "  815.667,685.808 818.687,686.253 821.706,686.707 824.725,687.17 827.745,687.612 830.764,688.084 833.784,688.513 836.803,689.006 839.822,689.472 842.842,689.935 \n",
       "  845.861,690.411 848.881,690.871 851.9,691.344 854.919,691.809 857.939,692.283 860.958,692.757 863.978,693.233 866.997,693.675 870.017,694.191 873.036,694.653 \n",
       "  876.055,695.146 879.075,695.642 882.094,696.118 885.114,696.593 888.133,697.08 891.152,697.576 894.172,698.05 897.191,698.548 900.211,699.051 903.23,699.529 \n",
       "  906.249,700.03 909.269,700.526 912.288,701.017 915.308,701.514 918.327,702.012 921.346,702.509 924.366,703 927.385,703.521 930.405,704.021 933.424,704.562 \n",
       "  936.443,705.035 939.463,705.548 942.482,706.046 945.502,706.568 948.521,707.052 951.54,707.586 954.56,708.085 957.579,708.62 960.599,709.135 963.618,709.654 \n",
       "  966.637,710.173 969.657,710.698 972.676,711.215 975.696,711.742 978.715,712.242 981.735,712.781 984.754,713.318 987.773,713.844 990.793,714.345 993.812,714.912 \n",
       "  996.832,715.425 999.851,715.978 1002.87,716.504 1005.89,717.047 1008.91,717.578 1011.93,718.101 1014.95,718.658 1017.97,719.197 1020.99,719.738 1024.01,720.285 \n",
       "  1027.03,720.833 1030.05,721.372 1033.06,721.919 1036.08,722.468 1039.1,723.014 1042.12,723.565 1045.14,724.116 1048.16,724.66 1051.18,725.223 1054.2,725.777 \n",
       "  1057.22,726.326 1060.24,726.89 1063.26,727.452 1066.28,728.01 1069.3,728.571 1072.32,729.13 1075.34,729.694 1078.36,730.257 1081.37,730.823 1084.39,731.388 \n",
       "  1087.41,731.953 1090.43,732.522 1093.45,733.105 1096.47,733.68 1099.49,734.239 1102.51,734.805 1105.53,735.4 1108.55,735.961 1111.57,736.535 1114.59,737.101 \n",
       "  1117.61,737.695 1120.63,738.269 1123.65,738.845 1126.67,739.446 1129.69,740.021 1132.7,740.607 1135.72,741.183 1138.74,741.771 1141.76,742.354 1144.78,742.945 \n",
       "  1147.8,743.535 1150.82,744.128 1153.84,744.716 1156.86,745.291 1159.88,745.905 1162.9,746.509 1165.92,747.073 1168.94,747.69 1171.96,748.301 1174.98,748.887 \n",
       "  1178,749.485 1181.02,750.073 1184.03,750.682 1187.05,751.285 1190.07,751.894 1193.09,752.476 1196.11,753.098 1199.13,753.704 1202.15,754.312 1205.17,754.921 \n",
       "  1208.19,755.534 1211.21,756.136 1214.23,756.761 1217.25,757.373 1220.27,757.983 1223.29,758.604 1226.31,759.208 1229.33,759.822 1232.35,760.434 1235.36,761.055 \n",
       "  1238.38,761.672 1241.4,762.289 1244.42,762.914 1247.44,763.533 1250.46,764.152 1253.48,764.777 1256.5,765.407 1259.52,766.026 1262.54,766.651 1265.56,767.281 \n",
       "  1268.58,767.907 1271.6,768.531 1274.62,769.162 1277.64,769.778 1280.66,770.427 1283.68,771.052 1286.69,771.688 1289.71,772.321 1292.73,772.945 1295.75,773.603 \n",
       "  1298.77,774.224 1301.79,774.862 1304.81,775.498 1307.83,776.134 1310.85,776.789 1313.87,777.427 1316.89,778.047 1319.91,778.692 1322.93,779.335 1325.95,779.98 \n",
       "  1328.97,780.624 1331.99,781.281 1335,781.907 1338.02,782.558 1341.04,783.202 1344.06,783.841 1347.08,784.498 1350.1,785.135 1353.12,785.777 1356.14,786.444 \n",
       "  1359.16,787.092 1362.18,787.744 1365.2,788.394 1368.22,789.051 1371.24,789.71 1374.26,790.354 1377.28,791.019 1380.3,791.663 1383.32,792.318 1386.33,792.975 \n",
       "  1389.35,793.63 1392.37,794.273 1395.39,794.943 1398.41,795.606 1401.43,796.26 1404.45,796.916 1407.47,797.575 1410.49,798.24 1413.51,798.909 1416.53,799.564 \n",
       "  1419.55,800.235 1422.57,800.887 1425.59,801.56 1428.61,802.217 1431.63,802.887 1434.65,803.541 1437.66,804.206 1440.68,804.881 1443.7,805.571 1446.72,806.213 \n",
       "  1449.74,806.871 1452.76,807.537 1455.78,808.206 1458.8,808.866 1461.82,809.535 1464.84,810.211 1467.86,810.876 1470.88,811.555 1473.9,812.217 1476.92,812.895 \n",
       "  1479.94,813.559 1482.96,814.233 1485.98,814.902 1488.99,815.571 1492.01,816.242 1495.03,816.921 1498.05,817.58 1501.07,818.263 1504.09,818.932 1507.11,819.608 \n",
       "  1510.13,820.289 1513.15,820.949 1516.17,821.624 1519.19,822.303 1522.21,822.978 1525.23,823.649 1528.25,824.331 1531.27,824.997 1534.29,825.675 1537.31,826.35 \n",
       "  1540.32,827.021 1543.34,827.699 1546.36,828.381 1549.38,829.055 1552.4,829.721 1555.42,830.4 1558.44,831.073 1561.46,831.75 1564.48,832.425 1567.5,833.098 \n",
       "  1570.52,833.771 1573.54,834.451 1576.56,835.131 1579.58,835.808 1582.6,836.479 1585.62,837.152 1588.63,837.828 1591.65,838.508 1594.67,839.184 1597.69,839.86 \n",
       "  1600.71,840.528 1603.73,841.215 1606.75,841.869 1609.77,842.552 1612.79,843.224 1615.81,843.901 1618.83,844.58 1621.85,845.251 1624.87,845.926 1627.89,846.596 \n",
       "  1630.91,847.269 1633.93,847.941 1636.95,848.62 1639.96,849.286 1642.98,849.968 1646,850.63 1649.02,851.301 1652.04,851.972 1655.06,852.643 1658.08,853.315 \n",
       "  1661.1,853.978 1664.12,854.646 1667.14,855.315 1670.16,856 1673.18,856.651 1676.2,857.324 1679.22,857.99 1682.24,858.652 1685.26,859.318 1688.28,859.981 \n",
       "  1691.29,860.673 1694.31,861.313 1697.33,861.977 1700.35,862.656 1703.37,863.3 1706.39,863.986 1709.41,864.624 1712.43,865.288 1715.45,865.944 1718.47,866.628 \n",
       "  1721.49,867.267 1724.51,867.932 1727.53,868.584 1730.55,869.243 1733.57,869.889 1736.59,870.559 1739.61,871.207 1742.62,871.851 1745.64,872.513 1748.66,873.165 \n",
       "  1751.68,873.826 1754.7,874.457 1757.72,875.106 1760.74,875.755 1763.76,876.405 1766.78,877.063 1769.8,877.711 1772.82,878.36 1775.84,878.981 1778.86,879.622 \n",
       "  1781.88,880.274 1784.9,880.909 1787.92,881.542 1790.94,882.197 1793.95,882.82 1796.97,883.474 1799.99,884.111 1803.01,884.742 1806.03,885.382 1809.05,886.006 \n",
       "  1812.07,886.624 1815.09,887.272 1818.11,887.896 1821.13,888.531 1824.15,889.148 1827.17,889.764 1830.19,890.388 1833.21,891.016 1836.23,891.629 1839.25,892.241 \n",
       "  1842.27,892.895 1845.28,893.477 1848.3,894.102 1851.32,894.713 1854.34,895.316 1857.36,895.962 1860.38,896.54 1863.4,897.147 1866.42,897.763 1869.44,898.347 \n",
       "  1872.46,898.944 1875.48,899.592 1878.5,900.16 1881.52,900.759 1884.54,901.326 1887.56,901.949 1890.58,902.555 1893.59,903.134 1896.61,903.758 1899.63,904.313 \n",
       "  1902.65,904.9 1905.67,905.481 1908.69,906.069 1911.71,906.635 1914.73,907.221 1917.75,907.811 1920.77,908.375 1923.79,908.961 1926.81,909.522 1929.83,910.137 \n",
       "  1932.85,910.653 1935.87,911.25 1938.89,911.788 1941.91,912.333 1944.92,912.933 1947.94,913.49 1950.96,914.037 1953.98,914.604 1957,915.168 1960.02,915.691 \n",
       "  1963.04,916.244 1966.06,916.835 1969.08,917.336 1972.1,917.879 1975.12,918.424 1978.14,918.988 1981.16,919.513 1984.18,920.049 1987.2,920.588 1990.22,921.117 \n",
       "  1993.24,921.642 1996.25,922.208 1999.27,922.654 2002.29,923.176 2005.31,923.723 2008.33,924.255 2011.35,924.753 2014.37,925.289 2017.39,925.819 2020.41,926.303 \n",
       "  2023.43,926.819 2026.45,927.306 2029.47,927.804 2032.49,928.308 2035.51,928.805 2038.53,929.283 2041.55,929.81 2044.57,930.29 2047.58,930.766 2050.6,931.266 \n",
       "  2053.62,931.755 2056.64,932.221 2059.66,932.763 2062.68,933.187 2065.7,933.653 2068.72,934.132 2071.74,934.61 2074.76,935.075 2077.78,935.553 2080.8,936.031 \n",
       "  2083.82,936.468 2086.84,936.948 2089.86,937.431 2092.88,937.838 2095.9,938.298 2098.91,938.741 2101.93,939.207 2104.95,939.643 2107.97,940.075 2110.99,940.518 \n",
       "  2114.01,940.952 2117.03,940.952 2120.05,941.397 2123.07,956.067 2126.09,976.434 2129.11,988.728 2132.13,1118.67 2135.15,1134.45 2138.17,1135.33 2141.19,1135.36 \n",
       "  2144.21,1135.42 2147.22,1135.42 2150.24,1136.18 2153.26,1155.95 2156.28,1159.87 2159.3,1172.72 2162.32,1181.1 2165.34,1192.45 2168.36,1206.94 2171.38,1212.86 \n",
       "  2174.4,1223.08 2177.42,1228.71 2180.44,1229.86 2183.46,1231.3 2186.48,1231.59 2189.5,1231.62 2192.52,1231.63 2195.54,1231.64 2198.55,1231.64 2201.57,1231.64 \n",
       "  2204.59,1231.68 2207.61,1232.24 2210.63,1232.41 2213.65,1232.72 2216.67,1232.76 2219.69,1234.26 2222.71,1234.65 2225.73,1236.19 2228.75,1252.26 2231.77,1255.01 \n",
       "  2234.79,1265.2 2237.81,1282.92 2240.83,1296.89 2243.85,1319.2 2246.87,1340.75 2249.88,1360 2252.9,1375.31 2255.92,1400.8 2258.94,1414.06 2261.96,1428.87 \n",
       "  2264.98,1431.94 2268,1432.28 2271.02,1432.43 2274.04,1432.61 2277.06,1438.7 2280.08,1445.94 2283.1,1447.76 2286.12,1447.87 2289.14,1447.87 2292.16,1447.87 \n",
       "  \n",
       "  \"/>\n",
       "<path clip-path=\"url(#clip020)\" d=\"\n",
       "M1989.74 327.952 L2280.76 327.952 L2280.76 206.992 L1989.74 206.992  Z\n",
       "  \" fill=\"#ffffff\" fill-rule=\"evenodd\" fill-opacity=\"1\"/>\n",
       "<polyline clip-path=\"url(#clip020)\" style=\"stroke:#000000; stroke-width:4; stroke-opacity:1; fill:none\" points=\"\n",
       "  1989.74,327.952 2280.76,327.952 2280.76,206.992 1989.74,206.992 1989.74,327.952 \n",
       "  \"/>\n",
       "<polyline clip-path=\"url(#clip020)\" style=\"stroke:#009af9; stroke-width:4; stroke-opacity:1; fill:none\" points=\"\n",
       "  2013.74,267.472 2157.74,267.472 \n",
       "  \"/>\n",
       "<path clip-path=\"url(#clip020)\" d=\"M 0 0 M2195.58 287.16 Q2193.77 291.789 2192.06 293.201 Q2190.35 294.613 2187.48 294.613 L2184.08 294.613 L2184.08 291.048 L2186.58 291.048 Q2188.33 291.048 2189.31 290.215 Q2190.28 289.382 2191.46 286.28 L2192.22 284.335 L2181.74 258.826 L2186.25 258.826 L2194.35 279.104 L2202.46 258.826 L2206.97 258.826 L2195.58 287.16 Z\" fill=\"#000000\" fill-rule=\"evenodd\" fill-opacity=\"1\" /><path clip-path=\"url(#clip020)\" d=\"M 0 0 M2212.85 280.817 L2220.49 280.817 L2220.49 254.451 L2212.18 256.118 L2212.18 251.859 L2220.44 250.192 L2225.12 250.192 L2225.12 280.817 L2232.76 280.817 L2232.76 284.752 L2212.85 284.752 L2212.85 280.817 Z\" fill=\"#000000\" fill-rule=\"evenodd\" fill-opacity=\"1\" /></svg>\n"
      ]
     },
     "execution_count": 55,
     "metadata": {},
     "output_type": "execute_result"
    }
   ],
   "source": []
  },
  {
   "cell_type": "code",
   "execution_count": null,
   "metadata": {},
   "outputs": [],
   "source": []
  },
  {
   "cell_type": "markdown",
   "metadata": {},
   "source": [
    "## Albania"
   ]
  },
  {
   "cell_type": "code",
   "execution_count": 56,
   "metadata": {},
   "outputs": [
    {
     "name": "stderr",
     "output_type": "stream",
     "text": [
      "┌ Warning: `getindex(df::DataFrame, col_ind::ColumnIndex)` is deprecated, use `df[!, col_ind]` instead.\n",
      "│   caller = top-level scope at In[56]:2\n",
      "└ @ Core In[56]:2\n"
     ]
    },
    {
     "name": "stdout",
     "output_type": "stream",
     "text": [
      "\"Albania"
     ]
    },
    {
     "name": "stderr",
     "output_type": "stream",
     "text": [
      "\u001b[32mloss: 322:  10%|█████                                    |  ETA: 0:01:28\u001b[39m"
     ]
    },
    {
     "name": "stdout",
     "output_type": "stream",
     "text": [
      "\""
     ]
    },
    {
     "name": "stderr",
     "output_type": "stream",
     "text": [
      "\u001b[32mloss: 20.4: 100%|█████████████████████████████████████████| Time: 0:00:11\u001b[39m\n",
      "\u001b[32mloss: 0.123:  22%|██████████                               |  ETA: 0:01:04\u001b[39m"
     ]
    },
    {
     "name": "stdout",
     "output_type": "stream",
     "text": [
      "0.12260220531785324\n"
     ]
    },
    {
     "name": "stderr",
     "output_type": "stream",
     "text": [
      "\u001b[32mloss: 0.112:  47%|████████████████████                     |  ETA: 0:00:39\u001b[39m"
     ]
    },
    {
     "name": "stdout",
     "output_type": "stream",
     "text": [
      "0.11179579559486551\n"
     ]
    },
    {
     "name": "stderr",
     "output_type": "stream",
     "text": [
      "\u001b[32mloss: 0.101:  72%|██████████████████████████████           |  ETA: 0:00:20\u001b[39m"
     ]
    },
    {
     "name": "stdout",
     "output_type": "stream",
     "text": [
      "0.10147783741683963\n"
     ]
    },
    {
     "name": "stderr",
     "output_type": "stream",
     "text": [
      "\u001b[32mloss: 0.0903:  96%|████████████████████████████████████████ |  ETA: 0:00:03\u001b[39m"
     ]
    },
    {
     "name": "stdout",
     "output_type": "stream",
     "text": [
      "0.09030598053900685\n"
     ]
    },
    {
     "name": "stderr",
     "output_type": "stream",
     "text": [
      "\u001b[32mloss: 0.0886: 100%|█████████████████████████████████████████| Time: 0:01:09\u001b[39m\n",
      "\u001b[32mloss: 0.0571:  21%|█████████                                |  ETA: 0:00:46\u001b[39m"
     ]
    },
    {
     "name": "stdout",
     "output_type": "stream",
     "text": [
      "0.05709470615661334\n"
     ]
    },
    {
     "name": "stderr",
     "output_type": "stream",
     "text": [
      "\u001b[32mloss: 0.0311:  46%|███████████████████                      |  ETA: 0:00:39\u001b[39m"
     ]
    },
    {
     "name": "stdout",
     "output_type": "stream",
     "text": [
      "0.031137109232007392\n"
     ]
    },
    {
     "name": "stderr",
     "output_type": "stream",
     "text": [
      "\u001b[32mloss: 0.0158:  70%|█████████████████████████████            |  ETA: 0:00:20\u001b[39m"
     ]
    },
    {
     "name": "stdout",
     "output_type": "stream",
     "text": [
      "0.015808197400147148\n"
     ]
    },
    {
     "name": "stderr",
     "output_type": "stream",
     "text": [
      "\u001b[32mloss: 0.00757:  95%|███████████████████████████████████████  |  ETA: 0:00:03\u001b[39m"
     ]
    },
    {
     "name": "stdout",
     "output_type": "stream",
     "text": [
      "0.007569231142777925\n"
     ]
    },
    {
     "name": "stderr",
     "output_type": "stream",
     "text": [
      "\u001b[32mloss: 0.00651: 100%|█████████████████████████████████████████| Time: 0:01:04\u001b[39m\n",
      "\u001b[32mloss: 0.00561:  20%|████████                                 |  ETA: 0:00:48\u001b[39m"
     ]
    },
    {
     "name": "stdout",
     "output_type": "stream",
     "text": [
      "0.005612844123524381\n"
     ]
    },
    {
     "name": "stderr",
     "output_type": "stream",
     "text": [
      "\u001b[32mloss: 0.00468:  44%|███████████████████                      |  ETA: 0:00:33\u001b[39m"
     ]
    },
    {
     "name": "stdout",
     "output_type": "stream",
     "text": [
      "0.004684975978105617\n"
     ]
    },
    {
     "name": "stderr",
     "output_type": "stream",
     "text": [
      "\u001b[32mloss: 0.00391:  69%|█████████████████████████████            |  ETA: 0:00:19\u001b[39m"
     ]
    },
    {
     "name": "stdout",
     "output_type": "stream",
     "text": [
      "0.0039092806561810325\n"
     ]
    },
    {
     "name": "stderr",
     "output_type": "stream",
     "text": [
      "\u001b[32mloss: 0.00327:  94%|███████████████████████████████████████  |  ETA: 0:00:04\u001b[39m"
     ]
    },
    {
     "name": "stdout",
     "output_type": "stream",
     "text": [
      "0.0032716172088666836\n"
     ]
    },
    {
     "name": "stderr",
     "output_type": "stream",
     "text": [
      "\u001b[32mloss: 0.00313: 100%|█████████████████████████████████████████| Time: 0:00:57\u001b[39m\n"
     ]
    },
    {
     "name": "stdout",
     "output_type": "stream",
     "text": [
      "\"Albania"
     ]
    },
    {
     "name": "stderr",
     "output_type": "stream",
     "text": [
      "┌ Warning: `getindex(df::DataFrame, col_ind::ColumnIndex)` is deprecated, use `df[!, col_ind]` instead.\n",
      "│   caller = top-level scope at In[56]:3\n",
      "└ @ Core In[56]:3\n",
      "\u001b[32mloss: 322:  10%|█████                                    |  ETA: 0:00:02\u001b[39m"
     ]
    },
    {
     "name": "stdout",
     "output_type": "stream",
     "text": [
      "\""
     ]
    },
    {
     "name": "stderr",
     "output_type": "stream",
     "text": []
    },
    {
     "name": "stderr",
     "output_type": "stream",
     "text": [
      "\u001b[32mloss: 20.4: 100%|█████████████████████████████████████████| Time: 0:00:02\u001b[39m\n",
      "\u001b[32mloss: 0.123:   7%|███                                      |  ETA: 0:03:43\u001b[39m"
     ]
    },
    {
     "name": "stdout",
     "output_type": "stream",
     "text": [
      "0.12260220531785324\n"
     ]
    },
    {
     "name": "stderr",
     "output_type": "stream",
     "text": [
      "\u001b[32mloss: 0.112:  16%|███████                                  |  ETA: 0:03:15\u001b[39m"
     ]
    },
    {
     "name": "stdout",
     "output_type": "stream",
     "text": [
      "0.11179579559486551\n"
     ]
    },
    {
     "name": "stderr",
     "output_type": "stream",
     "text": [
      "\u001b[32mloss: 0.101:  24%|██████████                               |  ETA: 0:02:52\u001b[39m"
     ]
    },
    {
     "name": "stdout",
     "output_type": "stream",
     "text": [
      "0.10147783741683963\n"
     ]
    },
    {
     "name": "stderr",
     "output_type": "stream",
     "text": [
      "\u001b[32mloss: 0.0903:  32%|██████████████                           |  ETA: 0:02:32\u001b[39m"
     ]
    },
    {
     "name": "stdout",
     "output_type": "stream",
     "text": [
      "0.09030598053900685\n"
     ]
    },
    {
     "name": "stderr",
     "output_type": "stream",
     "text": [
      "\u001b[32mloss: 0.0788:  40%|█████████████████                        |  ETA: 0:02:11\u001b[39m"
     ]
    },
    {
     "name": "stdout",
     "output_type": "stream",
     "text": [
      "0.07882228746591753\n"
     ]
    },
    {
     "name": "stderr",
     "output_type": "stream",
     "text": [
      "\u001b[32mloss: 0.0674:  48%|████████████████████                     |  ETA: 0:01:51\u001b[39m"
     ]
    },
    {
     "name": "stdout",
     "output_type": "stream",
     "text": [
      "0.06742534860702434\n"
     ]
    },
    {
     "name": "stderr",
     "output_type": "stream",
     "text": [
      "\u001b[32mloss: 0.0566:  57%|████████████████████████                 |  ETA: 0:01:32\u001b[39m"
     ]
    },
    {
     "name": "stdout",
     "output_type": "stream",
     "text": [
      "0.056639824958594674\n"
     ]
    },
    {
     "name": "stderr",
     "output_type": "stream",
     "text": [
      "\u001b[32mloss: 0.0467:  65%|███████████████████████████              |  ETA: 0:01:15\u001b[39m"
     ]
    },
    {
     "name": "stdout",
     "output_type": "stream",
     "text": [
      "0.046651543273366396\n"
     ]
    },
    {
     "name": "stderr",
     "output_type": "stream",
     "text": [
      "\u001b[32mloss: 0.0377:  73%|███████████████████████████████          |  ETA: 0:00:57\u001b[39m"
     ]
    },
    {
     "name": "stdout",
     "output_type": "stream",
     "text": [
      "0.0376681553377086\n"
     ]
    },
    {
     "name": "stderr",
     "output_type": "stream",
     "text": [
      "\u001b[32mloss: 0.0299:  82%|██████████████████████████████████       |  ETA: 0:00:39\u001b[39m"
     ]
    },
    {
     "name": "stdout",
     "output_type": "stream",
     "text": [
      "0.029886983853547856\n"
     ]
    },
    {
     "name": "stderr",
     "output_type": "stream",
     "text": [
      "\u001b[32mloss: 0.0233:  90%|█████████████████████████████████████    |  ETA: 0:00:21\u001b[39m"
     ]
    },
    {
     "name": "stdout",
     "output_type": "stream",
     "text": [
      "0.0232646400437165\n"
     ]
    },
    {
     "name": "stderr",
     "output_type": "stream",
     "text": [
      "\u001b[32mloss: 0.0178:  98%|█████████████████████████████████████████|  ETA: 0:00:04\u001b[39m"
     ]
    },
    {
     "name": "stdout",
     "output_type": "stream",
     "text": [
      "0.017795333606827914\n"
     ]
    },
    {
     "name": "stderr",
     "output_type": "stream",
     "text": [
      "\u001b[32mloss: 0.0167: 100%|█████████████████████████████████████████| Time: 0:03:25\u001b[39m\n"
     ]
    },
    {
     "name": "stdout",
     "output_type": "stream",
     "text": [
      "\"Albania\""
     ]
    },
    {
     "name": "stderr",
     "output_type": "stream",
     "text": [
      "┌ Warning: `getindex(df::DataFrame, col_ind::ColumnIndex)` is deprecated, use `df[!, col_ind]` instead.\n",
      "│   caller = top-level scope at In[56]:4\n",
      "└ @ Core In[56]:4\n",
      "\u001b[32mloss: 20.4: 100%|█████████████████████████████████████████| Time: 0:00:02\u001b[39m\n"
     ]
    },
    {
     "name": "stdout",
     "output_type": "stream",
     "text": [
      "\"Albania"
     ]
    },
    {
     "name": "stderr",
     "output_type": "stream",
     "text": [
      "┌ Warning: `getindex(df::DataFrame, col_ind::ColumnIndex)` is deprecated, use `df[!, col_ind]` instead.\n",
      "│   caller = top-level scope at In[56]:5\n",
      "└ @ Core In[56]:5\n",
      "\u001b[32mloss: 322:  10%|█████                                    |  ETA: 0:00:03\u001b[39m"
     ]
    },
    {
     "name": "stdout",
     "output_type": "stream",
     "text": [
      "\""
     ]
    },
    {
     "name": "stderr",
     "output_type": "stream",
     "text": [
      "\u001b[32mloss: 20.4: 100%|█████████████████████████████████████████| Time: 0:00:02\u001b[39m\n",
      "\u001b[32mloss: 0.123:  44%|███████████████████                      |  ETA: 0:00:21\u001b[39m"
     ]
    },
    {
     "name": "stdout",
     "output_type": "stream",
     "text": [
      "0.12260220531785324\n"
     ]
    },
    {
     "name": "stderr",
     "output_type": "stream",
     "text": [
      "\u001b[32mloss: 0.112:  94%|███████████████████████████████████████  |  ETA: 0:00:02\u001b[39m"
     ]
    },
    {
     "name": "stdout",
     "output_type": "stream",
     "text": [
      "0.11179579559486551\n"
     ]
    },
    {
     "name": "stderr",
     "output_type": "stream",
     "text": [
      "\u001b[32mloss: 0.11: 100%|█████████████████████████████████████████| Time: 0:00:34\u001b[39m\n",
      "\u001b[32mloss: 0.0028:  39%|████████████████                         |  ETA: 0:00:15\u001b[39m"
     ]
    },
    {
     "name": "stdout",
     "output_type": "stream",
     "text": [
      "0.0028037418890475506\n"
     ]
    },
    {
     "name": "stderr",
     "output_type": "stream",
     "text": [
      "\u001b[32mloss: 0.00267:  88%|█████████████████████████████████████    |  ETA: 0:00:03\u001b[39m"
     ]
    },
    {
     "name": "stdout",
     "output_type": "stream",
     "text": [
      "0.002674242100596961\n"
     ]
    },
    {
     "name": "stderr",
     "output_type": "stream",
     "text": [
      "\u001b[32mloss: 0.00264: 100%|█████████████████████████████████████████| Time: 0:00:24\u001b[39m\n",
      "\u001b[32mloss: 6.71e-05:  12%|█████                                    |  ETA: 0:00:19\u001b[39m"
     ]
    },
    {
     "name": "stdout",
     "output_type": "stream",
     "text": [
      "6.690573785484328e-5"
     ]
    },
    {
     "name": "stderr",
     "output_type": "stream",
     "text": [
      "\u001b[32mloss: 6.68e-05:  12%|██████                                   |  ETA: 0:00:18\u001b[39m"
     ]
    },
    {
     "name": "stdout",
     "output_type": "stream",
     "text": [
      "\n"
     ]
    },
    {
     "name": "stderr",
     "output_type": "stream",
     "text": [
      "\u001b[32mloss: 6.67e-05:  61%|██████████████████████████               |  ETA: 0:00:09\u001b[39m"
     ]
    },
    {
     "name": "stdout",
     "output_type": "stream",
     "text": [
      "6.672284240867392e-5"
     ]
    },
    {
     "name": "stderr",
     "output_type": "stream",
     "text": [
      "\u001b[32mloss: 6.67e-05:  62%|██████████████████████████               |  ETA: 0:00:08\u001b[39m"
     ]
    },
    {
     "name": "stdout",
     "output_type": "stream",
     "text": [
      "\n"
     ]
    },
    {
     "name": "stderr",
     "output_type": "stream",
     "text": [
      "\u001b[32mloss: 6.67e-05: 100%|█████████████████████████████████████████| Time: 0:00:22\u001b[39m\n"
     ]
    },
    {
     "name": "stdout",
     "output_type": "stream",
     "text": [
      "\"Albania"
     ]
    },
    {
     "name": "stderr",
     "output_type": "stream",
     "text": [
      "┌ Warning: `getindex(df::DataFrame, col_ind::ColumnIndex)` is deprecated, use `df[!, col_ind]` instead.\n",
      "│   caller = top-level scope at In[56]:6\n",
      "└ @ Core In[56]:6\n",
      "\u001b[32mloss: 322:  10%|█████                                    |  ETA: 0:00:02\u001b[39m"
     ]
    },
    {
     "name": "stdout",
     "output_type": "stream",
     "text": [
      "\""
     ]
    },
    {
     "name": "stderr",
     "output_type": "stream",
     "text": [
      "\u001b[32mloss: 20.4: 100%|█████████████████████████████████████████| Time: 0:00:02\u001b[39m\n",
      "\u001b[32mloss: 0.123:  15%|██████                                   |  ETA: 0:01:42\u001b[39m"
     ]
    },
    {
     "name": "stdout",
     "output_type": "stream",
     "text": [
      "0.12260220531785324\n"
     ]
    },
    {
     "name": "stderr",
     "output_type": "stream",
     "text": [
      "\u001b[32mloss: 0.112:  31%|█████████████                            |  ETA: 0:01:17\u001b[39m"
     ]
    },
    {
     "name": "stdout",
     "output_type": "stream",
     "text": [
      "0.11179579559486551\n"
     ]
    },
    {
     "name": "stderr",
     "output_type": "stream",
     "text": [
      "\u001b[32mloss: 0.101:  48%|████████████████████                     |  ETA: 0:01:00\u001b[39m"
     ]
    },
    {
     "name": "stdout",
     "output_type": "stream",
     "text": [
      "0.10147783741683963\n"
     ]
    },
    {
     "name": "stderr",
     "output_type": "stream",
     "text": [
      "\u001b[32mloss: 0.0903:  64%|███████████████████████████              |  ETA: 0:00:40\u001b[39m"
     ]
    },
    {
     "name": "stdout",
     "output_type": "stream",
     "text": [
      "0.09030598053900685\n"
     ]
    },
    {
     "name": "stderr",
     "output_type": "stream",
     "text": [
      "\u001b[32mloss: 0.0788:  81%|██████████████████████████████████       |  ETA: 0:00:21\u001b[39m"
     ]
    },
    {
     "name": "stdout",
     "output_type": "stream",
     "text": [
      "0.07882228746591753\n"
     ]
    },
    {
     "name": "stderr",
     "output_type": "stream",
     "text": [
      "\u001b[32mloss: 0.0674:  97%|████████████████████████████████████████ |  ETA: 0:00:03\u001b[39m"
     ]
    },
    {
     "name": "stdout",
     "output_type": "stream",
     "text": [
      "0.06742534860702434\n"
     ]
    },
    {
     "name": "stderr",
     "output_type": "stream",
     "text": [
      "\u001b[32mloss: 0.0656: 100%|█████████████████████████████████████████| Time: 0:01:46\u001b[39m\n"
     ]
    },
    {
     "data": {
      "text/plain": [
       "(Float32[-0.48180795, -0.117688335, -0.45605317, -0.32492578, 0.113059215, -0.11444402, -0.095062084, -0.03282472, 0.11314727, -0.21782291  …  -0.21819164, -0.28320253, 0.071400724, 0.41483393, -0.3988207, 0.10295623, -0.30091414, 0.07883441, 0.47603405, 0.014869649], Float32[0.0024, -0.024822751, -0.04250132, -0.04051554, -0.032274563, -0.01889825, -0.00084622524, 0.016755274, 0.027294202, 0.030495264  …  -0.006736347, -0.012825648, -0.01837011, -0.022337483, -0.02357467, -0.021100251, -0.01374011, -0.0005965465, 0.018105548, 0.04135175], Any[322.32317933939316, 224.31410042486024, 144.4607856416132, 83.15898307400296, 39.88578337694261, 13.344979310569952, 1.451377340485286, 1.2759938684026069, 8.967469532344495, 20.39592354536116  …  0.0021606848736619617, 0.0021465983784116033, 0.0009753026138110489, 0.0007223803072191659, 0.0005935182855166163, 0.0005611131804988588, 0.0005557553756771244, 0.0005548431247497111, 0.000554821972352456, 0.0005548220476493823])"
      ]
     },
     "execution_count": 56,
     "metadata": {},
     "output_type": "execute_result"
    }
   ],
   "source": [
    "actual1= getCleandataFrame(country1)\n",
    "para_1a,pred_value_1a,losses_1a=train_eqn2_addition_modified(country1, training_1[country1],nnp,trainer1)\n",
    "para_2a,pred_value_2a,losses_2a=train_eqn2_addition_modified(country1, training_1[country1],nnp,trainer2)\n",
    "para_3a,pred_value_3a,losses_3a=train_eqn2_addition_modified(country1, training_1[country1],nnp,trainer3)\n",
    "para_4a,pred_value_4a,losses_4a=train_eqn2_addition_modified(country1, training_1[country1],nnp,trainer4)\n",
    "para_5a,pred_value_5a,losses_5a=train_eqn2_addition_modified(country1, training_1[country1],nnp,trainer5)"
   ]
  },
  {
   "cell_type": "code",
   "execution_count": 57,
   "metadata": {},
   "outputs": [
    {
     "data": {
      "image/svg+xml": [
       "<?xml version=\"1.0\" encoding=\"utf-8\"?>\n",
       "<svg xmlns=\"http://www.w3.org/2000/svg\" xmlns:xlink=\"http://www.w3.org/1999/xlink\" width=\"600\" height=\"400\" viewBox=\"0 0 2400 1600\">\n",
       "<defs>\n",
       "  <clipPath id=\"clip060\">\n",
       "    <rect x=\"0\" y=\"0\" width=\"2400\" height=\"1600\"/>\n",
       "  </clipPath>\n",
       "</defs>\n",
       "<path clip-path=\"url(#clip060)\" d=\"\n",
       "M0 1600 L2400 1600 L2400 0 L0 0  Z\n",
       "  \" fill=\"#ffffff\" fill-rule=\"evenodd\" fill-opacity=\"1\"/>\n",
       "<defs>\n",
       "  <clipPath id=\"clip061\">\n",
       "    <rect x=\"480\" y=\"0\" width=\"1681\" height=\"1600\"/>\n",
       "  </clipPath>\n",
       "</defs>\n",
       "<path clip-path=\"url(#clip060)\" d=\"\n",
       "M211.575 686.448 L753.705 686.448 L753.705 123.472 L211.575 123.472  Z\n",
       "  \" fill=\"#ffffff\" fill-rule=\"evenodd\" fill-opacity=\"1\"/>\n",
       "<defs>\n",
       "  <clipPath id=\"clip062\">\n",
       "    <rect x=\"211\" y=\"123\" width=\"543\" height=\"564\"/>\n",
       "  </clipPath>\n",
       "</defs>\n",
       "<polyline clip-path=\"url(#clip062)\" style=\"stroke:#000000; stroke-width:2; stroke-opacity:0.1; fill:none\" points=\"\n",
       "  226.496,686.448 226.496,123.472 \n",
       "  \"/>\n",
       "<polyline clip-path=\"url(#clip062)\" style=\"stroke:#000000; stroke-width:2; stroke-opacity:0.1; fill:none\" points=\"\n",
       "  310.824,686.448 310.824,123.472 \n",
       "  \"/>\n",
       "<polyline clip-path=\"url(#clip062)\" style=\"stroke:#000000; stroke-width:2; stroke-opacity:0.1; fill:none\" points=\"\n",
       "  395.151,686.448 395.151,123.472 \n",
       "  \"/>\n",
       "<polyline clip-path=\"url(#clip062)\" style=\"stroke:#000000; stroke-width:2; stroke-opacity:0.1; fill:none\" points=\"\n",
       "  479.478,686.448 479.478,123.472 \n",
       "  \"/>\n",
       "<polyline clip-path=\"url(#clip062)\" style=\"stroke:#000000; stroke-width:2; stroke-opacity:0.1; fill:none\" points=\"\n",
       "  563.805,686.448 563.805,123.472 \n",
       "  \"/>\n",
       "<polyline clip-path=\"url(#clip062)\" style=\"stroke:#000000; stroke-width:2; stroke-opacity:0.1; fill:none\" points=\"\n",
       "  648.132,686.448 648.132,123.472 \n",
       "  \"/>\n",
       "<polyline clip-path=\"url(#clip062)\" style=\"stroke:#000000; stroke-width:2; stroke-opacity:0.1; fill:none\" points=\"\n",
       "  732.459,686.448 732.459,123.472 \n",
       "  \"/>\n",
       "<polyline clip-path=\"url(#clip062)\" style=\"stroke:#000000; stroke-width:2; stroke-opacity:0.1; fill:none\" points=\"\n",
       "  211.575,617.046 753.705,617.046 \n",
       "  \"/>\n",
       "<polyline clip-path=\"url(#clip062)\" style=\"stroke:#000000; stroke-width:2; stroke-opacity:0.1; fill:none\" points=\"\n",
       "  211.575,511.099 753.705,511.099 \n",
       "  \"/>\n",
       "<polyline clip-path=\"url(#clip062)\" style=\"stroke:#000000; stroke-width:2; stroke-opacity:0.1; fill:none\" points=\"\n",
       "  211.575,405.152 753.705,405.152 \n",
       "  \"/>\n",
       "<polyline clip-path=\"url(#clip062)\" style=\"stroke:#000000; stroke-width:2; stroke-opacity:0.1; fill:none\" points=\"\n",
       "  211.575,299.205 753.705,299.205 \n",
       "  \"/>\n",
       "<polyline clip-path=\"url(#clip062)\" style=\"stroke:#000000; stroke-width:2; stroke-opacity:0.1; fill:none\" points=\"\n",
       "  211.575,193.257 753.705,193.257 \n",
       "  \"/>\n",
       "<polyline clip-path=\"url(#clip060)\" style=\"stroke:#000000; stroke-width:4; stroke-opacity:1; fill:none\" points=\"\n",
       "  211.575,686.448 753.705,686.448 \n",
       "  \"/>\n",
       "<polyline clip-path=\"url(#clip060)\" style=\"stroke:#000000; stroke-width:4; stroke-opacity:1; fill:none\" points=\"\n",
       "  211.575,686.448 211.575,123.472 \n",
       "  \"/>\n",
       "<polyline clip-path=\"url(#clip060)\" style=\"stroke:#000000; stroke-width:4; stroke-opacity:1; fill:none\" points=\"\n",
       "  226.496,686.448 226.496,679.692 \n",
       "  \"/>\n",
       "<polyline clip-path=\"url(#clip060)\" style=\"stroke:#000000; stroke-width:4; stroke-opacity:1; fill:none\" points=\"\n",
       "  310.824,686.448 310.824,679.692 \n",
       "  \"/>\n",
       "<polyline clip-path=\"url(#clip060)\" style=\"stroke:#000000; stroke-width:4; stroke-opacity:1; fill:none\" points=\"\n",
       "  395.151,686.448 395.151,679.692 \n",
       "  \"/>\n",
       "<polyline clip-path=\"url(#clip060)\" style=\"stroke:#000000; stroke-width:4; stroke-opacity:1; fill:none\" points=\"\n",
       "  479.478,686.448 479.478,679.692 \n",
       "  \"/>\n",
       "<polyline clip-path=\"url(#clip060)\" style=\"stroke:#000000; stroke-width:4; stroke-opacity:1; fill:none\" points=\"\n",
       "  563.805,686.448 563.805,679.692 \n",
       "  \"/>\n",
       "<polyline clip-path=\"url(#clip060)\" style=\"stroke:#000000; stroke-width:4; stroke-opacity:1; fill:none\" points=\"\n",
       "  648.132,686.448 648.132,679.692 \n",
       "  \"/>\n",
       "<polyline clip-path=\"url(#clip060)\" style=\"stroke:#000000; stroke-width:4; stroke-opacity:1; fill:none\" points=\"\n",
       "  732.459,686.448 732.459,679.692 \n",
       "  \"/>\n",
       "<polyline clip-path=\"url(#clip060)\" style=\"stroke:#000000; stroke-width:4; stroke-opacity:1; fill:none\" points=\"\n",
       "  211.575,617.046 218.08,617.046 \n",
       "  \"/>\n",
       "<polyline clip-path=\"url(#clip060)\" style=\"stroke:#000000; stroke-width:4; stroke-opacity:1; fill:none\" points=\"\n",
       "  211.575,511.099 218.08,511.099 \n",
       "  \"/>\n",
       "<polyline clip-path=\"url(#clip060)\" style=\"stroke:#000000; stroke-width:4; stroke-opacity:1; fill:none\" points=\"\n",
       "  211.575,405.152 218.08,405.152 \n",
       "  \"/>\n",
       "<polyline clip-path=\"url(#clip060)\" style=\"stroke:#000000; stroke-width:4; stroke-opacity:1; fill:none\" points=\"\n",
       "  211.575,299.205 218.08,299.205 \n",
       "  \"/>\n",
       "<polyline clip-path=\"url(#clip060)\" style=\"stroke:#000000; stroke-width:4; stroke-opacity:1; fill:none\" points=\"\n",
       "  211.575,193.257 218.08,193.257 \n",
       "  \"/>\n",
       "<path clip-path=\"url(#clip060)\" d=\"M 0 0 M226.496 708.439 Q222.885 708.439 221.057 712.003 Q219.251 715.545 219.251 722.675 Q219.251 729.781 221.057 733.346 Q222.885 736.887 226.496 736.887 Q230.131 736.887 231.936 733.346 Q233.765 729.781 233.765 722.675 Q233.765 715.545 231.936 712.003 Q230.131 708.439 226.496 708.439 M226.496 704.735 Q232.307 704.735 235.362 709.341 Q238.441 713.925 238.441 722.675 Q238.441 731.401 235.362 736.008 Q232.307 740.591 226.496 740.591 Q220.686 740.591 217.608 736.008 Q214.552 731.401 214.552 722.675 Q214.552 713.925 217.608 709.341 Q220.686 704.735 226.496 704.735 Z\" fill=\"#000000\" fill-rule=\"evenodd\" fill-opacity=\"1\" /><path clip-path=\"url(#clip060)\" d=\"M 0 0 M278.463 735.985 L294.782 735.985 L294.782 739.92 L272.838 739.92 L272.838 735.985 Q275.5 733.23 280.083 728.6 Q284.689 723.948 285.87 722.605 Q288.115 720.082 288.995 718.346 Q289.898 716.587 289.898 714.897 Q289.898 712.142 287.953 710.406 Q286.032 708.67 282.93 708.67 Q280.731 708.67 278.277 709.434 Q275.847 710.198 273.069 711.749 L273.069 707.027 Q275.893 705.892 278.347 705.314 Q280.801 704.735 282.838 704.735 Q288.208 704.735 291.402 707.42 Q294.597 710.105 294.597 714.596 Q294.597 716.726 293.787 718.647 Q293 720.545 290.893 723.138 Q290.314 723.809 287.213 727.026 Q284.111 730.221 278.463 735.985 Z\" fill=\"#000000\" fill-rule=\"evenodd\" fill-opacity=\"1\" /><path clip-path=\"url(#clip060)\" d=\"M 0 0 M309.851 708.439 Q306.24 708.439 304.412 712.003 Q302.606 715.545 302.606 722.675 Q302.606 729.781 304.412 733.346 Q306.24 736.887 309.851 736.887 Q313.486 736.887 315.291 733.346 Q317.12 729.781 317.12 722.675 Q317.12 715.545 315.291 712.003 Q313.486 708.439 309.851 708.439 M309.851 704.735 Q315.661 704.735 318.717 709.341 Q321.796 713.925 321.796 722.675 Q321.796 731.401 318.717 736.008 Q315.661 740.591 309.851 740.591 Q304.041 740.591 300.962 736.008 Q297.907 731.401 297.907 722.675 Q297.907 713.925 300.962 709.341 Q304.041 704.735 309.851 704.735 Z\" fill=\"#000000\" fill-rule=\"evenodd\" fill-opacity=\"1\" /><path clip-path=\"url(#clip060)\" d=\"M 0 0 M336.865 708.439 Q333.254 708.439 331.425 712.003 Q329.62 715.545 329.62 722.675 Q329.62 729.781 331.425 733.346 Q333.254 736.887 336.865 736.887 Q340.499 736.887 342.305 733.346 Q344.134 729.781 344.134 722.675 Q344.134 715.545 342.305 712.003 Q340.499 708.439 336.865 708.439 M336.865 704.735 Q342.675 704.735 345.731 709.341 Q348.809 713.925 348.809 722.675 Q348.809 731.401 345.731 736.008 Q342.675 740.591 336.865 740.591 Q331.055 740.591 327.976 736.008 Q324.921 731.401 324.921 722.675 Q324.921 713.925 327.976 709.341 Q331.055 704.735 336.865 704.735 Z\" fill=\"#000000\" fill-rule=\"evenodd\" fill-opacity=\"1\" /><path clip-path=\"url(#clip060)\" d=\"M 0 0 M371.146 709.434 L359.341 727.883 L371.146 727.883 L371.146 709.434 M369.919 705.36 L375.799 705.36 L375.799 727.883 L380.729 727.883 L380.729 731.772 L375.799 731.772 L375.799 739.92 L371.146 739.92 L371.146 731.772 L355.544 731.772 L355.544 727.258 L369.919 705.36 Z\" fill=\"#000000\" fill-rule=\"evenodd\" fill-opacity=\"1\" /><path clip-path=\"url(#clip060)\" d=\"M 0 0 M395.799 708.439 Q392.188 708.439 390.359 712.003 Q388.553 715.545 388.553 722.675 Q388.553 729.781 390.359 733.346 Q392.188 736.887 395.799 736.887 Q399.433 736.887 401.238 733.346 Q403.067 729.781 403.067 722.675 Q403.067 715.545 401.238 712.003 Q399.433 708.439 395.799 708.439 M395.799 704.735 Q401.609 704.735 404.664 709.341 Q407.743 713.925 407.743 722.675 Q407.743 731.401 404.664 736.008 Q401.609 740.591 395.799 740.591 Q389.989 740.591 386.91 736.008 Q383.854 731.401 383.854 722.675 Q383.854 713.925 386.91 709.341 Q389.989 704.735 395.799 704.735 Z\" fill=\"#000000\" fill-rule=\"evenodd\" fill-opacity=\"1\" /><path clip-path=\"url(#clip060)\" d=\"M 0 0 M422.812 708.439 Q419.201 708.439 417.373 712.003 Q415.567 715.545 415.567 722.675 Q415.567 729.781 417.373 733.346 Q419.201 736.887 422.812 736.887 Q426.447 736.887 428.252 733.346 Q430.081 729.781 430.081 722.675 Q430.081 715.545 428.252 712.003 Q426.447 708.439 422.812 708.439 M422.812 704.735 Q428.623 704.735 431.678 709.341 Q434.757 713.925 434.757 722.675 Q434.757 731.401 431.678 736.008 Q428.623 740.591 422.812 740.591 Q417.002 740.591 413.924 736.008 Q410.868 731.401 410.868 722.675 Q410.868 713.925 413.924 709.341 Q417.002 704.735 422.812 704.735 Z\" fill=\"#000000\" fill-rule=\"evenodd\" fill-opacity=\"1\" /><path clip-path=\"url(#clip060)\" d=\"M 0 0 M452.869 720.776 Q449.721 720.776 447.869 722.929 Q446.04 725.082 446.04 728.832 Q446.04 732.559 447.869 734.735 Q449.721 736.887 452.869 736.887 Q456.017 736.887 457.846 734.735 Q459.698 732.559 459.698 728.832 Q459.698 725.082 457.846 722.929 Q456.017 720.776 452.869 720.776 M462.151 706.124 L462.151 710.383 Q460.392 709.55 458.587 709.11 Q456.804 708.67 455.045 708.67 Q450.415 708.67 447.962 711.795 Q445.531 714.92 445.184 721.239 Q446.55 719.226 448.61 718.161 Q450.67 717.073 453.147 717.073 Q458.355 717.073 461.364 720.244 Q464.397 723.392 464.397 728.832 Q464.397 734.156 461.249 737.374 Q458.1 740.591 452.869 740.591 Q446.874 740.591 443.702 736.008 Q440.531 731.401 440.531 722.675 Q440.531 714.48 444.42 709.619 Q448.309 704.735 454.86 704.735 Q456.619 704.735 458.401 705.082 Q460.207 705.429 462.151 706.124 Z\" fill=\"#000000\" fill-rule=\"evenodd\" fill-opacity=\"1\" /><path clip-path=\"url(#clip060)\" d=\"M 0 0 M479.466 708.439 Q475.855 708.439 474.026 712.003 Q472.221 715.545 472.221 722.675 Q472.221 729.781 474.026 733.346 Q475.855 736.887 479.466 736.887 Q483.1 736.887 484.906 733.346 Q486.735 729.781 486.735 722.675 Q486.735 715.545 484.906 712.003 Q483.1 708.439 479.466 708.439 M479.466 704.735 Q485.276 704.735 488.332 709.341 Q491.41 713.925 491.41 722.675 Q491.41 731.401 488.332 736.008 Q485.276 740.591 479.466 740.591 Q473.656 740.591 470.577 736.008 Q467.522 731.401 467.522 722.675 Q467.522 713.925 470.577 709.341 Q473.656 704.735 479.466 704.735 Z\" fill=\"#000000\" fill-rule=\"evenodd\" fill-opacity=\"1\" /><path clip-path=\"url(#clip060)\" d=\"M 0 0 M506.48 708.439 Q502.869 708.439 501.04 712.003 Q499.234 715.545 499.234 722.675 Q499.234 729.781 501.04 733.346 Q502.869 736.887 506.48 736.887 Q510.114 736.887 511.92 733.346 Q513.748 729.781 513.748 722.675 Q513.748 715.545 511.92 712.003 Q510.114 708.439 506.48 708.439 M506.48 704.735 Q512.29 704.735 515.345 709.341 Q518.424 713.925 518.424 722.675 Q518.424 731.401 515.345 736.008 Q512.29 740.591 506.48 740.591 Q500.67 740.591 497.591 736.008 Q494.535 731.401 494.535 722.675 Q494.535 713.925 497.591 709.341 Q500.67 704.735 506.48 704.735 Z\" fill=\"#000000\" fill-rule=\"evenodd\" fill-opacity=\"1\" /><path clip-path=\"url(#clip060)\" d=\"M 0 0 M536.791 723.508 Q533.458 723.508 531.536 725.29 Q529.638 727.073 529.638 730.198 Q529.638 733.323 531.536 735.105 Q533.458 736.887 536.791 736.887 Q540.124 736.887 542.046 735.105 Q543.967 733.3 543.967 730.198 Q543.967 727.073 542.046 725.29 Q540.147 723.508 536.791 723.508 M532.115 721.517 Q529.106 720.776 527.416 718.716 Q525.749 716.656 525.749 713.693 Q525.749 709.55 528.689 707.142 Q531.652 704.735 536.791 704.735 Q541.953 704.735 544.893 707.142 Q547.833 709.55 547.833 713.693 Q547.833 716.656 546.143 718.716 Q544.476 720.776 541.49 721.517 Q544.87 722.304 546.745 724.596 Q548.643 726.888 548.643 730.198 Q548.643 735.221 545.564 737.906 Q542.508 740.591 536.791 740.591 Q531.073 740.591 527.995 737.906 Q524.939 735.221 524.939 730.198 Q524.939 726.888 526.837 724.596 Q528.735 722.304 532.115 721.517 M530.402 714.133 Q530.402 716.818 532.069 718.323 Q533.759 719.827 536.791 719.827 Q539.8 719.827 541.49 718.323 Q543.203 716.818 543.203 714.133 Q543.203 711.448 541.49 709.943 Q539.8 708.439 536.791 708.439 Q533.759 708.439 532.069 709.943 Q530.402 711.448 530.402 714.133 Z\" fill=\"#000000\" fill-rule=\"evenodd\" fill-opacity=\"1\" /><path clip-path=\"url(#clip060)\" d=\"M 0 0 M563.712 708.439 Q560.101 708.439 558.272 712.003 Q556.467 715.545 556.467 722.675 Q556.467 729.781 558.272 733.346 Q560.101 736.887 563.712 736.887 Q567.346 736.887 569.152 733.346 Q570.981 729.781 570.981 722.675 Q570.981 715.545 569.152 712.003 Q567.346 708.439 563.712 708.439 M563.712 704.735 Q569.522 704.735 572.578 709.341 Q575.656 713.925 575.656 722.675 Q575.656 731.401 572.578 736.008 Q569.522 740.591 563.712 740.591 Q557.902 740.591 554.823 736.008 Q551.768 731.401 551.768 722.675 Q551.768 713.925 554.823 709.341 Q557.902 704.735 563.712 704.735 Z\" fill=\"#000000\" fill-rule=\"evenodd\" fill-opacity=\"1\" /><path clip-path=\"url(#clip060)\" d=\"M 0 0 M590.726 708.439 Q587.115 708.439 585.286 712.003 Q583.48 715.545 583.48 722.675 Q583.48 729.781 585.286 733.346 Q587.115 736.887 590.726 736.887 Q594.36 736.887 596.166 733.346 Q597.994 729.781 597.994 722.675 Q597.994 715.545 596.166 712.003 Q594.36 708.439 590.726 708.439 M590.726 704.735 Q596.536 704.735 599.592 709.341 Q602.67 713.925 602.67 722.675 Q602.67 731.401 599.592 736.008 Q596.536 740.591 590.726 740.591 Q584.916 740.591 581.837 736.008 Q578.781 731.401 578.781 722.675 Q578.781 713.925 581.837 709.341 Q584.916 704.735 590.726 704.735 Z\" fill=\"#000000\" fill-rule=\"evenodd\" fill-opacity=\"1\" /><path clip-path=\"url(#clip060)\" d=\"M 0 0 M597.993 735.985 L605.632 735.985 L605.632 709.619 L597.322 711.286 L597.322 707.027 L605.586 705.36 L610.262 705.36 L610.262 735.985 L617.9 735.985 L617.9 739.92 L597.993 739.92 L597.993 735.985 Z\" fill=\"#000000\" fill-rule=\"evenodd\" fill-opacity=\"1\" /><path clip-path=\"url(#clip060)\" d=\"M 0 0 M632.97 708.439 Q629.359 708.439 627.53 712.003 Q625.724 715.545 625.724 722.675 Q625.724 729.781 627.53 733.346 Q629.359 736.887 632.97 736.887 Q636.604 736.887 638.41 733.346 Q640.238 729.781 640.238 722.675 Q640.238 715.545 638.41 712.003 Q636.604 708.439 632.97 708.439 M632.97 704.735 Q638.78 704.735 641.835 709.341 Q644.914 713.925 644.914 722.675 Q644.914 731.401 641.835 736.008 Q638.78 740.591 632.97 740.591 Q627.16 740.591 624.081 736.008 Q621.025 731.401 621.025 722.675 Q621.025 713.925 624.081 709.341 Q627.16 704.735 632.97 704.735 Z\" fill=\"#000000\" fill-rule=\"evenodd\" fill-opacity=\"1\" /><path clip-path=\"url(#clip060)\" d=\"M 0 0 M659.984 708.439 Q656.372 708.439 654.544 712.003 Q652.738 715.545 652.738 722.675 Q652.738 729.781 654.544 733.346 Q656.372 736.887 659.984 736.887 Q663.618 736.887 665.423 733.346 Q667.252 729.781 667.252 722.675 Q667.252 715.545 665.423 712.003 Q663.618 708.439 659.984 708.439 M659.984 704.735 Q665.794 704.735 668.849 709.341 Q671.928 713.925 671.928 722.675 Q671.928 731.401 668.849 736.008 Q665.794 740.591 659.984 740.591 Q654.173 740.591 651.095 736.008 Q648.039 731.401 648.039 722.675 Q648.039 713.925 651.095 709.341 Q654.173 704.735 659.984 704.735 Z\" fill=\"#000000\" fill-rule=\"evenodd\" fill-opacity=\"1\" /><path clip-path=\"url(#clip060)\" d=\"M 0 0 M686.997 708.439 Q683.386 708.439 681.557 712.003 Q679.752 715.545 679.752 722.675 Q679.752 729.781 681.557 733.346 Q683.386 736.887 686.997 736.887 Q690.631 736.887 692.437 733.346 Q694.266 729.781 694.266 722.675 Q694.266 715.545 692.437 712.003 Q690.631 708.439 686.997 708.439 M686.997 704.735 Q692.807 704.735 695.863 709.341 Q698.942 713.925 698.942 722.675 Q698.942 731.401 695.863 736.008 Q692.807 740.591 686.997 740.591 Q681.187 740.591 678.108 736.008 Q675.053 731.401 675.053 722.675 Q675.053 713.925 678.108 709.341 Q681.187 704.735 686.997 704.735 Z\" fill=\"#000000\" fill-rule=\"evenodd\" fill-opacity=\"1\" /><path clip-path=\"url(#clip060)\" d=\"M 0 0 M683.119 735.985 L690.758 735.985 L690.758 709.619 L682.447 711.286 L682.447 707.027 L690.711 705.36 L695.387 705.36 L695.387 735.985 L703.026 735.985 L703.026 739.92 L683.119 739.92 L683.119 735.985 Z\" fill=\"#000000\" fill-rule=\"evenodd\" fill-opacity=\"1\" /><path clip-path=\"url(#clip060)\" d=\"M 0 0 M712.123 735.985 L728.443 735.985 L728.443 739.92 L706.498 739.92 L706.498 735.985 Q709.16 733.23 713.744 728.6 Q718.35 723.948 719.531 722.605 Q721.776 720.082 722.656 718.346 Q723.558 716.587 723.558 714.897 Q723.558 712.142 721.614 710.406 Q719.693 708.67 716.591 708.67 Q714.392 708.67 711.938 709.434 Q709.508 710.198 706.73 711.749 L706.73 707.027 Q709.554 705.892 712.007 705.314 Q714.461 704.735 716.498 704.735 Q721.869 704.735 725.063 707.42 Q728.257 710.105 728.257 714.596 Q728.257 716.726 727.447 718.647 Q726.66 720.545 724.554 723.138 Q723.975 723.809 720.873 727.026 Q717.771 730.221 712.123 735.985 Z\" fill=\"#000000\" fill-rule=\"evenodd\" fill-opacity=\"1\" /><path clip-path=\"url(#clip060)\" d=\"M 0 0 M743.512 708.439 Q739.901 708.439 738.072 712.003 Q736.267 715.545 736.267 722.675 Q736.267 729.781 738.072 733.346 Q739.901 736.887 743.512 736.887 Q747.146 736.887 748.952 733.346 Q750.78 729.781 750.78 722.675 Q750.78 715.545 748.952 712.003 Q747.146 708.439 743.512 708.439 M743.512 704.735 Q749.322 704.735 752.378 709.341 Q755.456 713.925 755.456 722.675 Q755.456 731.401 752.378 736.008 Q749.322 740.591 743.512 740.591 Q737.702 740.591 734.623 736.008 Q731.568 731.401 731.568 722.675 Q731.568 713.925 734.623 709.341 Q737.702 704.735 743.512 704.735 Z\" fill=\"#000000\" fill-rule=\"evenodd\" fill-opacity=\"1\" /><path clip-path=\"url(#clip060)\" d=\"M 0 0 M770.526 708.439 Q766.915 708.439 765.086 712.003 Q763.28 715.545 763.28 722.675 Q763.28 729.781 765.086 733.346 Q766.915 736.887 770.526 736.887 Q774.16 736.887 775.965 733.346 Q777.794 729.781 777.794 722.675 Q777.794 715.545 775.965 712.003 Q774.16 708.439 770.526 708.439 M770.526 704.735 Q776.336 704.735 779.391 709.341 Q782.47 713.925 782.47 722.675 Q782.47 731.401 779.391 736.008 Q776.336 740.591 770.526 740.591 Q764.716 740.591 761.637 736.008 Q758.581 731.401 758.581 722.675 Q758.581 713.925 761.637 709.341 Q764.716 704.735 770.526 704.735 Z\" fill=\"#000000\" fill-rule=\"evenodd\" fill-opacity=\"1\" /><path clip-path=\"url(#clip060)\" d=\"M 0 0 M98.7124 636.839 L106.351 636.839 L106.351 610.473 L98.0411 612.14 L98.0411 607.881 L106.305 606.214 L110.981 606.214 L110.981 636.839 L118.62 636.839 L118.62 640.774 L98.7124 640.774 L98.7124 636.839 Z\" fill=\"#000000\" fill-rule=\"evenodd\" fill-opacity=\"1\" /><path clip-path=\"url(#clip060)\" d=\"M 0 0 M133.689 609.293 Q130.078 609.293 128.249 612.857 Q126.444 616.399 126.444 623.529 Q126.444 630.635 128.249 634.2 Q130.078 637.742 133.689 637.742 Q137.323 637.742 139.129 634.2 Q140.958 630.635 140.958 623.529 Q140.958 616.399 139.129 612.857 Q137.323 609.293 133.689 609.293 M133.689 605.589 Q139.499 605.589 142.555 610.195 Q145.633 614.779 145.633 623.529 Q145.633 632.255 142.555 636.862 Q139.499 641.445 133.689 641.445 Q127.879 641.445 124.8 636.862 Q121.745 632.255 121.745 623.529 Q121.745 614.779 124.8 610.195 Q127.879 605.589 133.689 605.589 Z\" fill=\"#000000\" fill-rule=\"evenodd\" fill-opacity=\"1\" /><path clip-path=\"url(#clip060)\" d=\"M 0 0 M145.633 601.27 L155.771 601.27 L155.771 604.355 L145.633 604.355 L145.633 601.27 Z\" fill=\"#000000\" fill-rule=\"evenodd\" fill-opacity=\"1\" /><path clip-path=\"url(#clip060)\" d=\"M 0 0 M174.315 610.166 L187.575 610.166 L187.575 613.364 L169.745 613.364 L169.745 610.166 Q171.908 607.928 175.632 604.167 Q179.375 600.386 180.334 599.295 Q182.158 597.245 182.873 595.835 Q183.606 594.405 183.606 593.032 Q183.606 590.794 182.026 589.384 Q180.465 587.973 177.945 587.973 Q176.158 587.973 174.165 588.594 Q172.19 589.214 169.933 590.474 L169.933 586.638 Q172.228 585.716 174.221 585.246 Q176.215 584.776 177.87 584.776 Q182.233 584.776 184.829 586.957 Q187.424 589.139 187.424 592.788 Q187.424 594.518 186.766 596.079 Q186.127 597.621 184.415 599.728 Q183.945 600.273 181.425 602.888 Q178.904 605.483 174.315 610.166 Z\" fill=\"#000000\" fill-rule=\"evenodd\" fill-opacity=\"1\" /><path clip-path=\"url(#clip060)\" d=\"M 0 0 M99.8221 530.892 L107.461 530.892 L107.461 504.526 L99.1508 506.193 L99.1508 501.933 L107.415 500.267 L112.091 500.267 L112.091 530.892 L119.729 530.892 L119.729 534.827 L99.8221 534.827 L99.8221 530.892 Z\" fill=\"#000000\" fill-rule=\"evenodd\" fill-opacity=\"1\" /><path clip-path=\"url(#clip060)\" d=\"M 0 0 M134.799 503.345 Q131.188 503.345 129.359 506.91 Q127.553 510.452 127.553 517.581 Q127.553 524.688 129.359 528.253 Q131.188 531.794 134.799 531.794 Q138.433 531.794 140.239 528.253 Q142.067 524.688 142.067 517.581 Q142.067 510.452 140.239 506.91 Q138.433 503.345 134.799 503.345 M134.799 499.642 Q140.609 499.642 143.664 504.248 Q146.743 508.832 146.743 517.581 Q146.743 526.308 143.664 530.915 Q140.609 535.498 134.799 535.498 Q128.989 535.498 125.91 530.915 Q122.854 526.308 122.854 517.581 Q122.854 508.832 125.91 504.248 Q128.989 499.642 134.799 499.642 Z\" fill=\"#000000\" fill-rule=\"evenodd\" fill-opacity=\"1\" /><path clip-path=\"url(#clip060)\" d=\"M 0 0 M146.743 495.323 L156.881 495.323 L156.881 498.407 L146.743 498.407 L146.743 495.323 Z\" fill=\"#000000\" fill-rule=\"evenodd\" fill-opacity=\"1\" /><path clip-path=\"url(#clip060)\" d=\"M 0 0 M171.4 504.219 L177.607 504.219 L177.607 482.797 L170.855 484.151 L170.855 480.69 L177.569 479.336 L181.368 479.336 L181.368 504.219 L187.575 504.219 L187.575 507.416 L171.4 507.416 L171.4 504.219 Z\" fill=\"#000000\" fill-rule=\"evenodd\" fill-opacity=\"1\" /><path clip-path=\"url(#clip060)\" d=\"M 0 0 M121.244 424.944 L128.883 424.944 L128.883 398.579 L120.573 400.245 L120.573 395.986 L128.837 394.32 L133.513 394.32 L133.513 424.944 L141.151 424.944 L141.151 428.88 L121.244 428.88 L121.244 424.944 Z\" fill=\"#000000\" fill-rule=\"evenodd\" fill-opacity=\"1\" /><path clip-path=\"url(#clip060)\" d=\"M 0 0 M156.221 397.398 Q152.61 397.398 150.781 400.963 Q148.975 404.505 148.975 411.634 Q148.975 418.741 150.781 422.305 Q152.61 425.847 156.221 425.847 Q159.855 425.847 161.661 422.305 Q163.489 418.741 163.489 411.634 Q163.489 404.505 161.661 400.963 Q159.855 397.398 156.221 397.398 M156.221 393.695 Q162.031 393.695 165.086 398.301 Q168.165 402.884 168.165 411.634 Q168.165 420.361 165.086 424.967 Q162.031 429.551 156.221 429.551 Q150.411 429.551 147.332 424.967 Q144.276 420.361 144.276 411.634 Q144.276 402.884 147.332 398.301 Q150.411 393.695 156.221 393.695 Z\" fill=\"#000000\" fill-rule=\"evenodd\" fill-opacity=\"1\" /><path clip-path=\"url(#clip060)\" d=\"M 0 0 M177.87 375.891 Q174.936 375.891 173.45 378.787 Q171.983 381.665 171.983 387.457 Q171.983 393.231 173.45 396.128 Q174.936 399.005 177.87 399.005 Q180.823 399.005 182.29 396.128 Q183.776 393.231 183.776 387.457 Q183.776 381.665 182.29 378.787 Q180.823 375.891 177.87 375.891 M177.87 372.881 Q182.591 372.881 185.073 376.624 Q187.575 380.348 187.575 387.457 Q187.575 394.548 185.073 398.291 Q182.591 402.015 177.87 402.015 Q173.149 402.015 170.648 398.291 Q168.165 394.548 168.165 387.457 Q168.165 380.348 170.648 376.624 Q173.149 372.881 177.87 372.881 Z\" fill=\"#000000\" fill-rule=\"evenodd\" fill-opacity=\"1\" /><path clip-path=\"url(#clip060)\" d=\"M 0 0 M123.934 318.997 L131.572 318.997 L131.572 292.632 L123.262 294.298 L123.262 290.039 L131.526 288.372 L136.202 288.372 L136.202 318.997 L143.841 318.997 L143.841 322.932 L123.934 322.932 L123.934 318.997 Z\" fill=\"#000000\" fill-rule=\"evenodd\" fill-opacity=\"1\" /><path clip-path=\"url(#clip060)\" d=\"M 0 0 M158.91 291.451 Q155.299 291.451 153.471 295.016 Q151.665 298.557 151.665 305.687 Q151.665 312.793 153.471 316.358 Q155.299 319.9 158.91 319.9 Q162.545 319.9 164.35 316.358 Q166.179 312.793 166.179 305.687 Q166.179 298.557 164.35 295.016 Q162.545 291.451 158.91 291.451 M158.91 287.747 Q164.72 287.747 167.776 292.354 Q170.855 296.937 170.855 305.687 Q170.855 314.414 167.776 319.02 Q164.72 323.604 158.91 323.604 Q153.1 323.604 150.021 319.02 Q146.966 314.414 146.966 305.687 Q146.966 296.937 150.021 292.354 Q153.1 287.747 158.91 287.747 Z\" fill=\"#000000\" fill-rule=\"evenodd\" fill-opacity=\"1\" /><path clip-path=\"url(#clip060)\" d=\"M 0 0 M171.4 292.325 L177.607 292.325 L177.607 270.903 L170.855 272.257 L170.855 268.796 L177.569 267.442 L181.368 267.442 L181.368 292.325 L187.575 292.325 L187.575 295.522 L171.4 295.522 L171.4 292.325 Z\" fill=\"#000000\" fill-rule=\"evenodd\" fill-opacity=\"1\" /><path clip-path=\"url(#clip060)\" d=\"M 0 0 M122.824 213.05 L130.463 213.05 L130.463 186.684 L122.153 188.351 L122.153 184.092 L130.417 182.425 L135.092 182.425 L135.092 213.05 L142.731 213.05 L142.731 216.985 L122.824 216.985 L122.824 213.05 Z\" fill=\"#000000\" fill-rule=\"evenodd\" fill-opacity=\"1\" /><path clip-path=\"url(#clip060)\" d=\"M 0 0 M157.801 185.504 Q154.19 185.504 152.361 189.069 Q150.555 192.61 150.555 199.74 Q150.555 206.846 152.361 210.411 Q154.19 213.953 157.801 213.953 Q161.435 213.953 163.24 210.411 Q165.069 206.846 165.069 199.74 Q165.069 192.61 163.24 189.069 Q161.435 185.504 157.801 185.504 M157.801 181.8 Q163.611 181.8 166.666 186.407 Q169.745 190.99 169.745 199.74 Q169.745 208.467 166.666 213.073 Q163.611 217.656 157.801 217.656 Q151.99 217.656 148.912 213.073 Q145.856 208.467 145.856 199.74 Q145.856 190.99 148.912 186.407 Q151.99 181.8 157.801 181.8 Z\" fill=\"#000000\" fill-rule=\"evenodd\" fill-opacity=\"1\" /><path clip-path=\"url(#clip060)\" d=\"M 0 0 M174.315 186.377 L187.575 186.377 L187.575 189.575 L169.745 189.575 L169.745 186.377 Q171.908 184.139 175.632 180.378 Q179.375 176.597 180.334 175.506 Q182.158 173.456 182.873 172.046 Q183.606 170.616 183.606 169.243 Q183.606 167.005 182.026 165.595 Q180.465 164.184 177.945 164.184 Q176.158 164.184 174.165 164.805 Q172.19 165.426 169.933 166.686 L169.933 162.849 Q172.228 161.927 174.221 161.457 Q176.215 160.987 177.87 160.987 Q182.233 160.987 184.829 163.169 Q187.424 165.35 187.424 168.999 Q187.424 170.729 186.766 172.29 Q186.127 173.833 184.415 175.939 Q183.945 176.484 181.425 179.099 Q178.904 181.694 174.315 186.377 Z\" fill=\"#000000\" fill-rule=\"evenodd\" fill-opacity=\"1\" /><path clip-path=\"url(#clip060)\" d=\"M 0 0 M312.198 12.096 L324.391 12.096 L339.825 53.2532 L355.34 12.096 L367.533 12.096 L367.533 72.576 L359.553 72.576 L359.553 19.4686 L343.957 60.9499 L335.734 60.9499 L320.138 19.4686 L320.138 72.576 L312.198 72.576 L312.198 12.096 Z\" fill=\"#000000\" fill-rule=\"evenodd\" fill-opacity=\"1\" /><path clip-path=\"url(#clip060)\" d=\"M 0 0 M414.159 48.0275 L414.159 51.6733 L379.889 51.6733 Q380.375 59.3701 384.507 63.421 Q388.679 67.4314 396.092 67.4314 Q400.386 67.4314 404.397 66.3781 Q408.448 65.3249 412.417 63.2184 L412.417 70.267 Q408.407 71.9684 404.194 72.8596 Q399.981 73.7508 395.647 73.7508 Q384.79 73.7508 378.43 67.4314 Q372.111 61.1119 372.111 50.3365 Q372.111 39.1965 378.106 32.6746 Q384.142 26.1121 394.35 26.1121 Q403.505 26.1121 408.812 32.0264 Q414.159 37.9003 414.159 48.0275 M406.706 45.84 Q406.625 39.7232 403.262 36.0774 Q399.941 32.4315 394.431 32.4315 Q388.193 32.4315 384.426 35.9558 Q380.699 39.4801 380.132 45.8805 L406.706 45.84 Z\" fill=\"#000000\" fill-rule=\"evenodd\" fill-opacity=\"1\" /><path clip-path=\"url(#clip060)\" d=\"M 0 0 M429.35 14.324 L429.35 27.2059 L444.703 27.2059 L444.703 32.9987 L429.35 32.9987 L429.35 57.6282 Q429.35 63.1779 430.849 64.7578 Q432.388 66.3376 437.047 66.3376 L444.703 66.3376 L444.703 72.576 L437.047 72.576 Q428.419 72.576 425.137 69.3758 Q421.856 66.1351 421.856 57.6282 L421.856 32.9987 L416.387 32.9987 L416.387 27.2059 L421.856 27.2059 L421.856 14.324 L429.35 14.324 Z\" fill=\"#000000\" fill-rule=\"evenodd\" fill-opacity=\"1\" /><path clip-path=\"url(#clip060)\" d=\"M 0 0 M490.235 45.1919 L490.235 72.576 L482.782 72.576 L482.782 45.4349 Q482.782 38.994 480.27 35.7938 Q477.759 32.5936 472.735 32.5936 Q466.7 32.5936 463.216 36.4419 Q459.732 40.2903 459.732 46.9338 L459.732 72.576 L452.238 72.576 L452.238 9.54393 L459.732 9.54393 L459.732 34.2544 Q462.406 30.163 466.011 28.1376 Q469.657 26.1121 474.396 26.1121 Q482.215 26.1121 486.225 30.9732 Q490.235 35.7938 490.235 45.1919 Z\" fill=\"#000000\" fill-rule=\"evenodd\" fill-opacity=\"1\" /><path clip-path=\"url(#clip060)\" d=\"M 0 0 M515.634 32.4315 Q509.639 32.4315 506.155 37.1306 Q502.672 41.7891 502.672 49.9314 Q502.672 58.0738 506.115 62.7728 Q509.599 67.4314 515.634 67.4314 Q521.589 67.4314 525.073 62.7323 Q528.557 58.0333 528.557 49.9314 Q528.557 41.8701 525.073 37.1711 Q521.589 32.4315 515.634 32.4315 M515.634 26.1121 Q525.357 26.1121 530.906 32.4315 Q536.456 38.7509 536.456 49.9314 Q536.456 61.0714 530.906 67.4314 Q525.357 73.7508 515.634 73.7508 Q505.872 73.7508 500.322 67.4314 Q494.813 61.0714 494.813 49.9314 Q494.813 38.7509 500.322 32.4315 Q505.872 26.1121 515.634 26.1121 Z\" fill=\"#000000\" fill-rule=\"evenodd\" fill-opacity=\"1\" /><path clip-path=\"url(#clip060)\" d=\"M 0 0 M574.13 34.0924 L574.13 9.54393 L581.583 9.54393 L581.583 72.576 L574.13 72.576 L574.13 65.7705 Q571.78 69.8214 568.175 71.8063 Q564.61 73.7508 559.587 73.7508 Q551.363 73.7508 546.178 67.1883 Q541.034 60.6258 541.034 49.9314 Q541.034 39.2371 546.178 32.6746 Q551.363 26.1121 559.587 26.1121 Q564.61 26.1121 568.175 28.0971 Q571.78 30.0415 574.13 34.0924 M548.73 49.9314 Q548.73 58.1548 552.093 62.8538 Q555.495 67.5124 561.41 67.5124 Q567.324 67.5124 570.727 62.8538 Q574.13 58.1548 574.13 49.9314 Q574.13 41.7081 570.727 37.0496 Q567.324 32.3505 561.41 32.3505 Q555.495 32.3505 552.093 37.0496 Q548.73 41.7081 548.73 49.9314 Z\" fill=\"#000000\" fill-rule=\"evenodd\" fill-opacity=\"1\" /><path clip-path=\"url(#clip060)\" d=\"M 0 0 M618.244 65.6895 L631.612 65.6895 L631.612 19.5497 L617.069 22.4663 L617.069 15.0127 L631.531 12.096 L639.714 12.096 L639.714 65.6895 L653.082 65.6895 L653.082 72.576 L618.244 72.576 L618.244 65.6895 Z\" fill=\"#000000\" fill-rule=\"evenodd\" fill-opacity=\"1\" /><polyline clip-path=\"url(#clip062)\" style=\"stroke:#009af9; stroke-width:4; stroke-opacity:1; fill:none\" points=\"\n",
       "  226.918,139.405 227.34,156.085 227.761,176.332 228.183,201.743 228.605,235.55 229.026,285.928 229.448,388.012 229.87,393.938 230.291,304.219 230.713,266.409 \n",
       "  231.134,393.938 231.556,246.125 231.978,251.107 232.399,256.375 232.821,261.927 233.243,267.871 233.664,273.842 234.086,280.678 234.508,287.518 234.929,295.213 \n",
       "  235.351,303.324 235.772,312.006 236.194,321.436 236.616,331.603 237.037,342.408 237.459,354.726 237.881,368.159 238.302,383.031 238.724,399.856 239.146,418.404 \n",
       "  239.567,439.393 239.989,462.427 240.41,484.451 240.832,499.403 241.254,499.608 241.675,487.988 242.097,472.94 242.519,458.953 242.94,447.45 243.362,438.832 \n",
       "  243.784,431.453 244.205,426.294 244.627,422.652 245.048,420.169 245.47,419.074 245.892,418.795 246.313,418.442 246.735,421.047 247.157,423.114 247.578,426.385 \n",
       "  248,430.093 248.421,435.024 248.843,440.436 249.265,445.841 249.686,452.469 250.108,459.513 250.53,466.642 250.951,473.419 251.373,480.4 251.795,487.164 \n",
       "  252.216,492.648 252.638,497.41 253.059,500.331 253.481,501.686 253.903,502.033 254.324,501.091 254.746,499.593 255.168,498.089 255.589,496.046 256.011,494.287 \n",
       "  256.433,492.657 256.854,491.482 257.276,490.816 257.697,490.462 258.119,490.626 258.541,490.724 258.962,491.49 259.384,492.053 259.806,493.331 260.227,494.573 \n",
       "  260.649,495.447 261.071,496.995 261.492,497.906 261.914,499.236 262.335,500.233 262.757,500.933 263.179,501.642 263.6,502.144 264.022,502.361 264.444,502.524 \n",
       "  264.865,502.624 265.287,502.507 265.709,502.421 266.13,502.387 266.552,502.22 266.973,502.08 267.395,501.81 267.817,501.83 268.238,501.723 268.66,501.814 \n",
       "  269.082,501.869 269.503,502.003 269.925,502.024 270.347,502.26 270.768,502.39 271.19,502.539 271.611,502.61 272.033,502.746 272.455,502.922 272.876,502.976 \n",
       "  273.298,503.118 273.72,503.12 274.141,503.193 274.563,503.174 274.985,503.321 275.406,503.251 275.828,503.282 276.249,503.323 276.671,503.318 277.093,503.318 \n",
       "  277.514,503.364 277.936,503.336 278.358,503.446 278.779,503.456 279.201,503.511 279.623,503.455 280.044,503.59 280.466,503.629 280.887,503.581 281.309,503.64 \n",
       "  281.731,503.716 282.152,503.774 282.574,503.784 282.996,503.837 283.417,503.863 283.839,503.818 284.26,503.969 284.682,503.879 285.104,503.987 285.525,503.986 \n",
       "  285.947,504.036 286.369,504.082 286.79,504.106 287.212,504.08 287.634,504.201 288.055,504.174 288.477,504.223 288.898,504.267 289.32,504.324 289.742,504.307 \n",
       "  290.163,504.333 290.585,504.418 291.007,504.415 291.428,504.441 291.85,504.463 292.272,504.573 292.693,504.572 293.115,504.599 293.536,504.648 293.958,504.674 \n",
       "  294.38,504.665 294.801,504.745 295.223,504.825 295.645,504.826 296.066,504.875 296.488,504.909 296.91,504.93 297.331,504.883 297.753,504.988 298.174,504.992 \n",
       "  298.596,504.966 299.018,505.062 299.439,505.138 299.861,505.093 300.283,505.211 300.704,505.232 301.126,505.309 301.548,505.282 301.969,505.353 302.391,505.35 \n",
       "  302.812,505.413 303.234,505.39 303.656,505.508 304.077,505.541 304.499,505.499 304.921,505.591 305.342,505.691 305.764,505.655 306.186,505.706 306.607,505.735 \n",
       "  307.029,505.77 307.45,505.853 307.872,505.871 308.294,505.915 308.715,505.927 309.137,505.985 309.559,506.006 309.98,505.969 310.402,506.069 310.824,506.118 \n",
       "  311.245,506.165 311.667,506.148 312.088,506.303 312.51,506.271 312.932,506.255 313.353,506.391 313.775,506.388 314.197,506.386 314.618,506.466 315.04,506.501 \n",
       "  315.462,506.565 315.883,506.584 316.305,506.678 316.726,506.707 317.148,506.749 317.57,506.75 317.991,506.782 318.413,506.833 318.835,506.882 319.256,506.99 \n",
       "  319.678,506.951 320.099,507.031 320.521,507.069 320.943,507.123 321.364,507.145 321.786,507.171 322.208,507.222 322.629,507.303 323.051,507.324 323.473,507.378 \n",
       "  323.894,507.376 324.316,507.418 324.737,507.459 325.159,507.563 325.581,507.602 326.002,507.6 326.424,507.631 326.846,507.723 327.267,507.721 327.689,507.773 \n",
       "  328.111,507.756 328.532,507.88 328.954,507.898 329.375,507.95 329.797,507.938 330.219,507.985 330.64,508.117 331.062,508.165 331.484,508.155 331.905,508.216 \n",
       "  332.327,508.271 332.749,508.332 333.17,508.335 333.592,508.444 334.013,508.422 334.435,508.427 334.857,508.571 335.278,508.584 335.7,508.612 336.122,508.681 \n",
       "  336.543,508.697 336.965,508.765 337.387,508.781 337.808,508.843 338.23,508.876 338.651,508.92 339.073,509.01 339.495,509.084 339.916,509.083 340.338,509.11 \n",
       "  340.76,509.156 341.181,509.209 341.603,509.198 342.025,509.265 342.446,509.414 342.868,509.353 343.289,509.491 343.711,509.456 344.133,509.528 344.554,509.618 \n",
       "  344.976,509.701 345.398,509.702 345.819,509.733 346.241,509.81 346.663,509.841 347.084,509.898 347.506,509.943 347.927,509.985 348.349,510.042 348.771,510.132 \n",
       "  349.192,510.148 349.614,510.156 350.036,510.232 350.457,510.236 350.879,510.241 351.301,510.322 351.722,510.424 352.144,510.485 352.565,510.545 352.987,510.589 \n",
       "  353.409,510.598 353.83,510.646 354.252,510.7 354.674,510.721 355.095,510.831 355.517,510.872 355.938,510.901 356.36,510.952 356.782,511.04 357.203,511.048 \n",
       "  357.625,511.102 358.047,511.132 358.468,511.226 358.89,511.263 359.312,511.263 359.733,511.41 360.155,511.412 360.576,511.421 360.998,511.49 361.42,511.567 \n",
       "  361.841,511.613 362.263,511.666 362.685,511.761 363.106,511.699 363.528,511.845 363.95,511.908 364.371,511.913 364.793,511.998 365.214,512.009 365.636,512.111 \n",
       "  366.058,512.122 366.479,512.262 366.901,512.277 367.323,512.308 367.744,512.284 368.166,512.384 368.588,512.456 369.009,512.559 369.431,512.6 369.852,512.653 \n",
       "  370.274,512.611 370.696,512.695 371.117,512.826 371.539,512.866 371.961,512.907 372.382,512.958 372.804,512.98 373.226,513.061 373.647,513.133 374.069,513.15 \n",
       "  374.49,513.206 374.912,513.234 375.334,513.355 375.755,513.398 376.177,513.444 376.599,513.495 377.02,513.577 377.442,513.611 377.864,513.687 378.285,513.692 \n",
       "  378.707,513.765 379.128,513.855 379.55,513.906 379.972,513.944 380.393,514.04 380.815,513.968 381.237,514.147 381.658,514.171 382.08,514.244 382.502,514.264 \n",
       "  382.923,514.38 383.345,514.402 383.766,514.453 384.188,514.512 384.61,514.602 385.031,514.675 385.453,514.664 385.875,514.776 386.296,514.77 386.718,514.831 \n",
       "  387.139,514.833 387.561,514.987 387.983,514.994 388.404,515.104 388.826,515.118 389.248,515.171 389.669,515.31 390.091,515.274 390.513,515.364 390.934,515.427 \n",
       "  391.356,515.445 391.777,515.498 392.199,515.597 392.621,515.667 393.042,515.716 393.464,515.791 393.886,515.771 394.307,515.913 394.729,515.968 395.151,516 \n",
       "  395.572,516.065 395.994,516.131 396.415,516.185 396.837,516.199 397.259,516.373 397.68,516.333 398.102,516.379 398.524,516.485 398.945,516.585 399.367,516.578 \n",
       "  399.789,516.655 400.21,516.655 400.632,516.768 401.053,516.956 401.475,517.171 401.897,517.445 402.318,517.632 402.74,517.812 403.162,518.091 403.583,518.304 \n",
       "  404.005,518.455 404.427,518.711 404.848,518.954 405.27,519.204 405.691,519.348 406.113,519.707 406.535,519.876 406.956,520.106 407.378,520.328 407.8,520.571 \n",
       "  408.221,520.777 408.643,521.064 409.065,521.245 409.486,521.499 409.908,521.678 410.329,521.909 410.751,522.233 411.173,522.496 411.594,522.709 412.016,522.935 \n",
       "  412.438,523.106 412.859,523.397 413.281,523.678 413.703,523.918 414.124,524.082 414.546,524.41 414.967,524.643 415.389,524.868 415.811,525.06 416.232,525.326 \n",
       "  416.654,525.611 417.076,525.77 417.497,526.061 417.919,526.381 418.341,526.582 418.762,526.857 419.184,527.108 419.605,527.347 420.027,527.602 420.449,527.838 \n",
       "  420.87,528.091 421.292,528.299 421.714,528.555 422.135,528.859 422.557,529.125 422.978,529.396 423.4,529.539 423.822,529.812 424.243,530.142 424.665,530.351 \n",
       "  425.087,530.574 425.508,530.905 425.93,531.154 426.352,531.402 426.773,531.635 427.195,531.891 427.616,532.18 428.038,532.474 428.46,532.623 428.881,532.971 \n",
       "  429.303,533.223 429.725,533.466 430.146,533.755 430.568,534.007 430.99,534.253 431.411,534.536 431.833,534.792 432.254,535.043 432.676,535.316 433.098,535.539 \n",
       "  433.519,535.865 433.941,536.073 434.363,536.286 434.784,536.622 435.206,536.887 435.628,537.151 436.049,537.451 436.471,537.687 436.892,537.949 437.314,538.243 \n",
       "  437.736,538.497 438.157,538.787 438.579,539.031 439.001,539.348 439.422,539.516 439.844,539.811 440.266,540.097 440.687,540.387 441.109,540.645 441.53,540.923 \n",
       "  441.952,541.173 442.374,541.453 442.795,541.655 443.217,542.038 443.639,542.29 444.06,542.536 444.482,542.808 444.904,543.11 445.325,543.391 445.747,543.672 \n",
       "  446.168,543.921 446.59,544.182 447.012,544.48 447.433,544.737 447.855,544.998 448.277,545.215 448.698,545.517 449.12,545.817 449.542,546.119 449.963,546.405 \n",
       "  450.385,546.641 450.806,546.871 451.228,547.203 451.65,547.486 452.071,547.806 452.493,547.98 452.915,548.292 453.336,548.621 453.758,548.894 454.18,549.181 \n",
       "  454.601,549.439 455.023,549.746 455.444,549.944 455.866,550.287 456.288,550.567 456.709,550.77 457.131,551.113 457.553,551.374 457.974,551.705 458.396,551.917 \n",
       "  458.817,552.268 459.239,552.515 459.661,552.867 460.082,553.124 460.504,553.392 460.926,553.651 461.347,553.969 461.769,554.247 462.191,554.559 462.612,554.805 \n",
       "  463.034,555.06 463.455,555.395 463.877,555.666 464.299,556.031 464.72,556.291 465.142,556.568 465.564,556.826 465.985,557.095 466.407,557.403 466.829,557.671 \n",
       "  467.25,558.002 467.672,558.255 468.093,558.57 468.515,558.863 468.937,559.087 469.358,559.505 469.78,559.759 470.202,560.061 470.623,560.283 471.045,560.58 \n",
       "  471.467,560.966 471.888,561.234 472.31,561.494 472.731,561.81 473.153,562.111 473.575,562.333 473.996,562.699 474.418,562.993 474.84,563.269 475.261,563.533 \n",
       "  475.683,563.887 476.105,564.157 476.526,564.469 476.948,564.785 477.369,565.092 477.791,565.385 478.213,565.643 478.634,565.959 479.056,566.287 479.478,566.526 \n",
       "  479.899,566.825 480.321,567.176 480.743,567.509 481.164,567.724 481.586,568.062 482.007,568.401 482.429,568.75 482.851,568.992 483.272,569.288 483.694,569.6 \n",
       "  484.116,569.924 484.537,570.205 484.959,570.493 485.381,570.845 485.802,571.084 486.224,571.386 486.645,571.734 487.067,572.029 487.489,572.344 487.91,572.62 \n",
       "  488.332,572.945 488.754,573.222 489.175,573.572 489.597,573.913 490.019,574.184 490.44,574.47 490.862,574.743 491.283,575.142 491.705,575.439 492.127,575.736 \n",
       "  492.548,576.032 492.97,576.296 493.392,576.675 493.813,576.942 494.235,577.249 494.656,577.617 495.078,577.918 495.5,578.255 495.921,578.557 496.343,578.857 \n",
       "  496.765,579.175 497.186,579.494 497.608,579.837 498.03,580.106 498.451,580.423 498.873,580.778 499.294,581.069 499.716,581.377 500.138,581.716 500.559,582.028 \n",
       "  500.981,582.321 501.403,582.656 501.824,582.98 502.246,583.289 502.668,583.608 503.089,583.973 503.511,584.252 503.932,584.595 504.354,584.93 504.776,585.21 \n",
       "  505.197,585.52 505.619,585.845 506.041,586.192 506.462,586.48 506.884,586.817 507.306,587.133 507.727,587.492 508.149,587.74 508.57,588.133 508.992,588.446 \n",
       "  509.414,588.771 509.835,589.093 510.257,589.406 510.679,589.73 511.1,590.059 511.522,590.321 511.944,590.699 512.365,591.048 512.787,591.365 513.208,591.71 \n",
       "  513.63,592.012 514.052,592.398 514.473,592.688 514.895,592.949 515.317,593.341 515.738,593.651 516.16,594.017 516.582,594.347 517.003,594.747 517.425,594.947 \n",
       "  517.846,595.303 518.268,595.639 518.69,595.975 519.111,596.235 519.533,596.634 519.955,596.969 520.376,597.295 520.798,597.65 521.22,598.018 521.641,598.304 \n",
       "  522.063,598.642 522.484,598.964 522.906,599.349 523.328,599.643 523.749,599.984 524.171,600.29 524.593,600.643 525.014,600.907 525.436,601.294 525.857,601.663 \n",
       "  526.279,601.98 526.701,602.368 527.122,602.657 527.544,602.939 527.966,603.342 528.387,603.629 528.809,604.024 529.231,604.295 529.652,604.689 530.074,605.016 \n",
       "  530.495,605.367 530.917,605.683 531.339,606.053 531.76,606.332 532.182,606.656 532.604,607.106 533.025,607.328 533.447,607.724 533.869,608.066 534.29,608.419 \n",
       "  534.712,608.78 535.133,609.108 535.555,609.444 535.977,609.776 536.398,610.065 536.82,610.474 537.242,610.801 537.663,611.154 538.085,611.483 538.507,611.799 \n",
       "  538.928,612.164 539.35,612.46 539.771,612.858 540.193,613.244 540.615,613.508 541.036,613.903 541.458,614.247 541.88,614.525 542.301,614.897 542.723,615.307 \n",
       "  543.145,615.572 543.566,615.964 543.988,616.285 544.409,616.668 544.831,617.019 545.253,617.36 545.674,617.674 546.096,618.033 546.518,618.384 546.939,618.714 \n",
       "  547.361,619.081 547.783,619.411 548.204,619.714 548.626,620.113 549.047,620.467 549.469,620.805 549.891,621.18 550.312,621.528 550.734,621.8 551.156,622.19 \n",
       "  551.577,622.554 551.999,622.862 552.421,623.281 552.842,623.591 553.264,623.939 553.685,624.311 554.107,624.574 554.529,625.017 554.95,625.357 555.372,625.671 \n",
       "  555.794,626.046 556.215,626.365 556.637,626.729 557.059,627.061 557.48,627.417 557.902,627.756 558.323,628.139 558.745,628.476 559.167,628.823 559.588,629.153 \n",
       "  560.01,629.485 560.432,629.86 560.853,630.202 561.275,630.554 561.696,630.931 562.118,631.271 562.54,631.622 562.961,631.918 563.383,632.297 563.805,632.617 \n",
       "  564.226,633.004 564.648,633.361 565.07,633.7 565.491,634.021 565.913,634.352 566.334,634.757 566.756,635.126 567.178,635.437 567.599,635.776 568.021,636.122 \n",
       "  568.443,636.448 568.864,636.831 569.286,636.831 569.708,637.185 570.129,637.275 570.551,637.332 570.972,637.426 571.394,637.503 571.816,637.593 572.237,637.659 \n",
       "  572.659,637.739 573.081,637.861 573.502,637.886 573.924,637.973 574.346,638.072 574.767,638.136 575.189,638.238 575.61,638.309 576.032,638.39 576.454,638.489 \n",
       "  576.875,638.564 577.297,638.674 577.719,638.741 578.14,638.778 578.562,638.856 578.984,638.988 579.405,639.076 579.827,639.126 580.248,639.213 580.67,639.325 \n",
       "  581.092,639.398 581.513,639.479 581.935,639.58 582.357,639.648 582.778,639.728 583.2,639.828 583.622,639.9 584.043,639.985 584.465,640.087 584.886,640.14 \n",
       "  585.308,640.238 585.73,640.337 586.151,640.363 586.573,640.503 586.995,640.577 587.416,640.681 587.838,640.743 588.26,640.831 588.681,640.899 589.103,641.004 \n",
       "  589.524,641.09 589.946,641.187 590.368,641.287 590.789,641.352 591.211,641.408 591.633,641.463 592.054,641.582 592.476,641.635 592.898,641.766 593.319,641.86 \n",
       "  593.741,641.921 594.162,641.966 594.584,642.062 595.006,642.196 595.427,642.251 595.849,642.364 596.271,642.419 596.692,642.535 597.114,642.556 597.535,642.653 \n",
       "  597.957,642.744 598.379,642.84 598.8,642.942 599.222,643.024 599.644,643.104 600.065,643.172 600.487,643.253 600.909,643.33 601.33,643.442 601.752,643.549 \n",
       "  602.173,643.62 602.595,643.679 603.017,643.735 603.438,643.841 603.86,643.954 604.282,644.031 604.703,644.1 605.125,644.201 605.547,644.296 605.968,644.368 \n",
       "  606.39,644.439 606.811,644.523 607.233,644.62 607.655,644.716 608.076,644.76 608.498,644.871 608.92,644.933 609.341,645.02 609.763,645.076 610.185,645.196 \n",
       "  610.606,645.295 611.028,645.371 611.449,645.445 611.871,645.542 612.293,645.609 612.714,645.718 613.136,645.801 613.558,645.854 613.979,645.923 614.401,646.001 \n",
       "  614.823,646.116 615.244,646.213 615.666,646.32 616.087,646.383 616.509,646.449 616.931,646.515 617.352,646.593 617.774,646.712 618.196,646.756 618.617,646.855 \n",
       "  619.039,646.968 619.461,647.055 619.882,647.153 620.304,647.206 620.725,647.305 621.147,647.379 621.569,647.464 621.99,647.577 622.412,647.646 622.834,647.732 \n",
       "  623.255,647.83 623.677,647.907 624.099,647.975 624.52,648.037 624.942,648.147 625.363,648.191 625.785,648.3 626.207,648.369 626.628,648.467 627.05,648.576 \n",
       "  627.472,648.635 627.893,648.707 628.315,648.789 628.737,648.868 629.158,648.996 629.58,649.075 630.001,649.161 630.423,649.205 630.845,649.306 631.266,649.412 \n",
       "  631.688,649.503 632.11,649.572 632.531,649.663 632.953,649.739 633.374,649.824 633.796,649.915 634.218,649.966 634.639,650.045 635.061,650.169 635.483,650.238 \n",
       "  635.904,650.333 636.326,650.41 636.748,650.494 637.169,650.601 637.591,650.665 638.012,650.756 638.434,650.859 638.856,650.928 639.277,650.965 639.699,651.109 \n",
       "  640.121,651.173 640.542,651.279 640.964,651.307 641.386,651.423 641.807,651.478 642.229,651.617 642.65,651.669 643.072,651.758 643.494,651.877 643.915,651.934 \n",
       "  644.337,651.993 644.759,652.106 645.18,652.146 645.602,652.236 646.024,652.344 646.445,652.443 646.867,652.529 647.288,652.604 647.71,652.68 648.132,652.736 \n",
       "  648.553,652.856 648.975,652.932 649.397,653.049 649.818,653.08 650.24,653.19 650.662,653.306 651.083,653.384 651.505,653.447 651.926,653.552 652.348,653.597 \n",
       "  652.77,653.671 653.191,653.775 653.613,653.835 654.035,653.942 654.456,654.026 654.878,654.11 655.3,654.201 655.721,654.304 656.143,654.364 656.564,654.469 \n",
       "  656.986,654.55 657.408,654.642 657.829,654.711 658.251,654.783 658.673,654.842 659.094,654.964 659.516,655.057 659.938,655.118 660.359,655.193 660.781,655.262 \n",
       "  661.202,655.377 661.624,655.476 662.046,655.549 662.467,655.646 662.889,655.722 663.311,655.816 663.732,655.895 664.154,655.97 664.575,656.052 664.997,656.134 \n",
       "  665.419,656.194 665.84,656.314 666.262,656.422 666.684,656.487 667.105,656.562 667.527,656.641 667.949,656.696 668.37,656.843 668.792,656.897 669.213,656.989 \n",
       "  669.635,657.08 670.057,657.147 670.478,657.234 670.9,657.284 671.322,657.39 671.743,657.477 672.165,657.559 672.587,657.636 673.008,657.725 673.43,657.824 \n",
       "  673.851,657.92 674.273,657.987 674.695,658.07 675.116,658.146 675.538,658.238 675.96,658.324 676.381,658.405 676.803,658.479 677.225,658.579 677.646,658.644 \n",
       "  678.068,658.712 678.489,658.81 678.911,658.879 679.333,658.997 679.754,659.067 680.176,659.185 680.598,659.231 681.019,659.323 681.441,659.391 681.863,659.486 \n",
       "  682.284,659.587 682.706,659.664 683.127,659.725 683.549,659.82 683.971,659.892 684.392,660.006 684.814,660.09 685.236,660.195 685.657,660.263 686.079,660.336 \n",
       "  686.501,660.404 686.922,660.494 687.344,660.589 687.765,660.672 688.187,660.76 688.609,660.81 689.03,660.914 689.452,661.003 689.874,661.084 690.295,661.143 \n",
       "  690.717,661.266 691.139,661.335 691.56,661.414 691.982,661.517 692.403,661.556 692.825,661.683 693.247,661.765 693.668,661.83 694.09,661.931 694.512,662.022 \n",
       "  694.933,662.099 695.355,662.178 695.777,662.266 696.198,662.316 696.62,662.424 697.041,662.499 697.463,662.61 697.885,662.694 698.306,662.774 698.728,662.85 \n",
       "  699.15,662.917 699.571,663.002 699.993,663.085 700.414,663.183 700.836,663.266 701.258,663.339 701.679,663.401 702.101,663.505 702.523,663.568 702.944,663.666 \n",
       "  703.366,663.758 703.788,663.867 704.209,663.938 704.631,664.01 705.052,664.075 705.474,664.191 705.896,664.268 706.317,664.323 706.739,664.433 707.161,664.512 \n",
       "  707.582,664.582 708.004,664.663 708.426,664.731 708.847,664.824 709.269,664.93 709.69,665.006 710.112,665.102 710.534,665.148 710.955,665.262 711.377,665.34 \n",
       "  711.799,665.409 712.22,665.496 712.642,665.611 713.064,665.693 713.485,665.749 713.907,665.808 714.328,665.941 714.75,666.01 715.172,666.072 715.593,666.174 \n",
       "  716.015,666.242 716.437,666.318 716.858,666.4 717.28,666.499 717.702,666.587 718.123,666.671 718.545,666.752 718.966,666.837 719.388,666.913 719.81,666.985 \n",
       "  720.231,667.052 720.653,667.17 721.075,667.238 721.496,667.324 721.918,667.395 722.34,667.479 722.761,667.569 723.183,667.627 723.604,667.735 724.026,667.799 \n",
       "  724.448,667.928 724.869,667.959 725.291,668.048 725.713,668.151 726.134,668.248 726.556,668.29 726.978,668.405 727.399,668.456 727.821,668.568 728.242,668.639 \n",
       "  728.664,668.759 729.086,668.798 729.507,668.877 729.929,668.966 730.351,669.039 730.772,669.107 731.194,669.22 731.616,669.3 732.037,669.346 732.459,669.446 \n",
       "  732.88,669.528 733.302,669.629 733.724,669.684 734.145,669.77 734.567,669.86 734.989,669.957 735.41,670.029 735.832,670.094 736.253,670.186 736.675,670.266 \n",
       "  737.097,670.332 737.518,670.429 737.94,670.515 738.362,670.515 \n",
       "  \"/>\n",
       "<path clip-path=\"url(#clip060)\" d=\"\n",
       "M390.687 327.952 L681.705 327.952 L681.705 206.992 L390.687 206.992  Z\n",
       "  \" fill=\"#ffffff\" fill-rule=\"evenodd\" fill-opacity=\"1\"/>\n",
       "<polyline clip-path=\"url(#clip060)\" style=\"stroke:#000000; stroke-width:4; stroke-opacity:1; fill:none\" points=\"\n",
       "  390.687,327.952 681.705,327.952 681.705,206.992 390.687,206.992 390.687,327.952 \n",
       "  \"/>\n",
       "<polyline clip-path=\"url(#clip060)\" style=\"stroke:#009af9; stroke-width:4; stroke-opacity:1; fill:none\" points=\"\n",
       "  414.687,267.472 558.687,267.472 \n",
       "  \"/>\n",
       "<path clip-path=\"url(#clip060)\" d=\"M 0 0 M596.529 287.16 Q594.724 291.789 593.011 293.201 Q591.298 294.613 588.427 294.613 L585.025 294.613 L585.025 291.048 L587.525 291.048 Q589.284 291.048 590.256 290.215 Q591.228 289.382 592.409 286.28 L593.173 284.335 L582.687 258.826 L587.201 258.826 L595.302 279.104 L603.404 258.826 L607.918 258.826 L596.529 287.16 Z\" fill=\"#000000\" fill-rule=\"evenodd\" fill-opacity=\"1\" /><path clip-path=\"url(#clip060)\" d=\"M 0 0 M613.798 280.817 L621.437 280.817 L621.437 254.451 L613.126 256.118 L613.126 251.859 L621.39 250.192 L626.066 250.192 L626.066 280.817 L633.705 280.817 L633.705 284.752 L613.798 284.752 L613.798 280.817 Z\" fill=\"#000000\" fill-rule=\"evenodd\" fill-opacity=\"1\" /><path clip-path=\"url(#clip060)\" d=\"\n",
       "M1010.81 686.448 L1553.52 686.448 L1553.52 123.472 L1010.81 123.472  Z\n",
       "  \" fill=\"#ffffff\" fill-rule=\"evenodd\" fill-opacity=\"1\"/>\n",
       "<defs>\n",
       "  <clipPath id=\"clip063\">\n",
       "    <rect x=\"1010\" y=\"123\" width=\"544\" height=\"564\"/>\n",
       "  </clipPath>\n",
       "</defs>\n",
       "<polyline clip-path=\"url(#clip063)\" style=\"stroke:#000000; stroke-width:2; stroke-opacity:0.1; fill:none\" points=\"\n",
       "  1025.75,686.448 1025.75,123.472 \n",
       "  \"/>\n",
       "<polyline clip-path=\"url(#clip063)\" style=\"stroke:#000000; stroke-width:2; stroke-opacity:0.1; fill:none\" points=\"\n",
       "  1131.44,686.448 1131.44,123.472 \n",
       "  \"/>\n",
       "<polyline clip-path=\"url(#clip063)\" style=\"stroke:#000000; stroke-width:2; stroke-opacity:0.1; fill:none\" points=\"\n",
       "  1237.14,686.448 1237.14,123.472 \n",
       "  \"/>\n",
       "<polyline clip-path=\"url(#clip063)\" style=\"stroke:#000000; stroke-width:2; stroke-opacity:0.1; fill:none\" points=\"\n",
       "  1342.83,686.448 1342.83,123.472 \n",
       "  \"/>\n",
       "<polyline clip-path=\"url(#clip063)\" style=\"stroke:#000000; stroke-width:2; stroke-opacity:0.1; fill:none\" points=\"\n",
       "  1448.53,686.448 1448.53,123.472 \n",
       "  \"/>\n",
       "<polyline clip-path=\"url(#clip063)\" style=\"stroke:#000000; stroke-width:2; stroke-opacity:0.1; fill:none\" points=\"\n",
       "  1010.81,574.075 1553.52,574.075 \n",
       "  \"/>\n",
       "<polyline clip-path=\"url(#clip063)\" style=\"stroke:#000000; stroke-width:2; stroke-opacity:0.1; fill:none\" points=\"\n",
       "  1010.81,450.177 1553.52,450.177 \n",
       "  \"/>\n",
       "<polyline clip-path=\"url(#clip063)\" style=\"stroke:#000000; stroke-width:2; stroke-opacity:0.1; fill:none\" points=\"\n",
       "  1010.81,326.279 1553.52,326.279 \n",
       "  \"/>\n",
       "<polyline clip-path=\"url(#clip063)\" style=\"stroke:#000000; stroke-width:2; stroke-opacity:0.1; fill:none\" points=\"\n",
       "  1010.81,202.382 1553.52,202.382 \n",
       "  \"/>\n",
       "<polyline clip-path=\"url(#clip060)\" style=\"stroke:#000000; stroke-width:4; stroke-opacity:1; fill:none\" points=\"\n",
       "  1010.81,686.448 1553.52,686.448 \n",
       "  \"/>\n",
       "<polyline clip-path=\"url(#clip060)\" style=\"stroke:#000000; stroke-width:4; stroke-opacity:1; fill:none\" points=\"\n",
       "  1010.81,686.448 1010.81,123.472 \n",
       "  \"/>\n",
       "<polyline clip-path=\"url(#clip060)\" style=\"stroke:#000000; stroke-width:4; stroke-opacity:1; fill:none\" points=\"\n",
       "  1025.75,686.448 1025.75,679.692 \n",
       "  \"/>\n",
       "<polyline clip-path=\"url(#clip060)\" style=\"stroke:#000000; stroke-width:4; stroke-opacity:1; fill:none\" points=\"\n",
       "  1131.44,686.448 1131.44,679.692 \n",
       "  \"/>\n",
       "<polyline clip-path=\"url(#clip060)\" style=\"stroke:#000000; stroke-width:4; stroke-opacity:1; fill:none\" points=\"\n",
       "  1237.14,686.448 1237.14,679.692 \n",
       "  \"/>\n",
       "<polyline clip-path=\"url(#clip060)\" style=\"stroke:#000000; stroke-width:4; stroke-opacity:1; fill:none\" points=\"\n",
       "  1342.83,686.448 1342.83,679.692 \n",
       "  \"/>\n",
       "<polyline clip-path=\"url(#clip060)\" style=\"stroke:#000000; stroke-width:4; stroke-opacity:1; fill:none\" points=\"\n",
       "  1448.53,686.448 1448.53,679.692 \n",
       "  \"/>\n",
       "<polyline clip-path=\"url(#clip060)\" style=\"stroke:#000000; stroke-width:4; stroke-opacity:1; fill:none\" points=\"\n",
       "  1010.81,574.075 1017.32,574.075 \n",
       "  \"/>\n",
       "<polyline clip-path=\"url(#clip060)\" style=\"stroke:#000000; stroke-width:4; stroke-opacity:1; fill:none\" points=\"\n",
       "  1010.81,450.177 1017.32,450.177 \n",
       "  \"/>\n",
       "<polyline clip-path=\"url(#clip060)\" style=\"stroke:#000000; stroke-width:4; stroke-opacity:1; fill:none\" points=\"\n",
       "  1010.81,326.279 1017.32,326.279 \n",
       "  \"/>\n",
       "<polyline clip-path=\"url(#clip060)\" style=\"stroke:#000000; stroke-width:4; stroke-opacity:1; fill:none\" points=\"\n",
       "  1010.81,202.382 1017.32,202.382 \n",
       "  \"/>\n",
       "<path clip-path=\"url(#clip060)\" d=\"M 0 0 M1025.75 708.439 Q1022.14 708.439 1020.31 712.003 Q1018.5 715.545 1018.5 722.675 Q1018.5 729.781 1020.31 733.346 Q1022.14 736.887 1025.75 736.887 Q1029.38 736.887 1031.19 733.346 Q1033.02 729.781 1033.02 722.675 Q1033.02 715.545 1031.19 712.003 Q1029.38 708.439 1025.75 708.439 M1025.75 704.735 Q1031.56 704.735 1034.61 709.341 Q1037.69 713.925 1037.69 722.675 Q1037.69 731.401 1034.61 736.008 Q1031.56 740.591 1025.75 740.591 Q1019.94 740.591 1016.86 736.008 Q1013.8 731.401 1013.8 722.675 Q1013.8 713.925 1016.86 709.341 Q1019.94 704.735 1025.75 704.735 Z\" fill=\"#000000\" fill-rule=\"evenodd\" fill-opacity=\"1\" /><path clip-path=\"url(#clip060)\" d=\"M 0 0 M1099.58 735.985 L1115.9 735.985 L1115.9 739.92 L1093.96 739.92 L1093.96 735.985 Q1096.62 733.23 1101.2 728.6 Q1105.81 723.948 1106.99 722.605 Q1109.23 720.082 1110.11 718.346 Q1111.02 716.587 1111.02 714.897 Q1111.02 712.142 1109.07 710.406 Q1107.15 708.67 1104.05 708.67 Q1101.85 708.67 1099.39 709.434 Q1096.96 710.198 1094.19 711.749 L1094.19 707.027 Q1097.01 705.892 1099.46 705.314 Q1101.92 704.735 1103.96 704.735 Q1109.33 704.735 1112.52 707.42 Q1115.71 710.105 1115.71 714.596 Q1115.71 716.726 1114.9 718.647 Q1114.12 720.545 1112.01 723.138 Q1111.43 723.809 1108.33 727.026 Q1105.23 730.221 1099.58 735.985 Z\" fill=\"#000000\" fill-rule=\"evenodd\" fill-opacity=\"1\" /><path clip-path=\"url(#clip060)\" d=\"M 0 0 M1121.02 705.36 L1139.37 705.36 L1139.37 709.295 L1125.3 709.295 L1125.3 717.767 Q1126.32 717.42 1127.33 717.258 Q1128.35 717.073 1129.37 717.073 Q1135.16 717.073 1138.54 720.244 Q1141.92 723.415 1141.92 728.832 Q1141.92 734.411 1138.45 737.512 Q1134.97 740.591 1128.65 740.591 Q1126.48 740.591 1124.21 740.221 Q1121.96 739.85 1119.56 739.11 L1119.56 734.411 Q1121.64 735.545 1123.86 736.1 Q1126.08 736.656 1128.56 736.656 Q1132.57 736.656 1134.9 734.55 Q1137.24 732.443 1137.24 728.832 Q1137.24 725.221 1134.9 723.114 Q1132.57 721.008 1128.56 721.008 Q1126.69 721.008 1124.81 721.425 Q1122.96 721.841 1121.02 722.721 L1121.02 705.36 Z\" fill=\"#000000\" fill-rule=\"evenodd\" fill-opacity=\"1\" /><path clip-path=\"url(#clip060)\" d=\"M 0 0 M1156.99 708.439 Q1153.38 708.439 1151.55 712.003 Q1149.74 715.545 1149.74 722.675 Q1149.74 729.781 1151.55 733.346 Q1153.38 736.887 1156.99 736.887 Q1160.62 736.887 1162.43 733.346 Q1164.26 729.781 1164.26 722.675 Q1164.26 715.545 1162.43 712.003 Q1160.62 708.439 1156.99 708.439 M1156.99 704.735 Q1162.8 704.735 1165.85 709.341 Q1168.93 713.925 1168.93 722.675 Q1168.93 731.401 1165.85 736.008 Q1162.8 740.591 1156.99 740.591 Q1151.18 740.591 1148.1 736.008 Q1145.04 731.401 1145.04 722.675 Q1145.04 713.925 1148.1 709.341 Q1151.18 704.735 1156.99 704.735 Z\" fill=\"#000000\" fill-rule=\"evenodd\" fill-opacity=\"1\" /><path clip-path=\"url(#clip060)\" d=\"M 0 0 M1200.4 705.36 L1218.76 705.36 L1218.76 709.295 L1204.69 709.295 L1204.69 717.767 Q1205.7 717.42 1206.72 717.258 Q1207.74 717.073 1208.76 717.073 Q1214.55 717.073 1217.93 720.244 Q1221.31 723.415 1221.31 728.832 Q1221.31 734.411 1217.83 737.512 Q1214.36 740.591 1208.04 740.591 Q1205.87 740.591 1203.6 740.221 Q1201.35 739.85 1198.94 739.11 L1198.94 734.411 Q1201.03 735.545 1203.25 736.1 Q1205.47 736.656 1207.95 736.656 Q1211.95 736.656 1214.29 734.55 Q1216.63 732.443 1216.63 728.832 Q1216.63 725.221 1214.29 723.114 Q1211.95 721.008 1207.95 721.008 Q1206.07 721.008 1204.2 721.425 Q1202.35 721.841 1200.4 722.721 L1200.4 705.36 Z\" fill=\"#000000\" fill-rule=\"evenodd\" fill-opacity=\"1\" /><path clip-path=\"url(#clip060)\" d=\"M 0 0 M1236.38 708.439 Q1232.76 708.439 1230.94 712.003 Q1229.13 715.545 1229.13 722.675 Q1229.13 729.781 1230.94 733.346 Q1232.76 736.887 1236.38 736.887 Q1240.01 736.887 1241.81 733.346 Q1243.64 729.781 1243.64 722.675 Q1243.64 715.545 1241.81 712.003 Q1240.01 708.439 1236.38 708.439 M1236.38 704.735 Q1242.19 704.735 1245.24 709.341 Q1248.32 713.925 1248.32 722.675 Q1248.32 731.401 1245.24 736.008 Q1242.19 740.591 1236.38 740.591 Q1230.56 740.591 1227.49 736.008 Q1224.43 731.401 1224.43 722.675 Q1224.43 713.925 1227.49 709.341 Q1230.56 704.735 1236.38 704.735 Z\" fill=\"#000000\" fill-rule=\"evenodd\" fill-opacity=\"1\" /><path clip-path=\"url(#clip060)\" d=\"M 0 0 M1263.39 708.439 Q1259.78 708.439 1257.95 712.003 Q1256.14 715.545 1256.14 722.675 Q1256.14 729.781 1257.95 733.346 Q1259.78 736.887 1263.39 736.887 Q1267.02 736.887 1268.83 733.346 Q1270.66 729.781 1270.66 722.675 Q1270.66 715.545 1268.83 712.003 Q1267.02 708.439 1263.39 708.439 M1263.39 704.735 Q1269.2 704.735 1272.25 709.341 Q1275.33 713.925 1275.33 722.675 Q1275.33 731.401 1272.25 736.008 Q1269.2 740.591 1263.39 740.591 Q1257.58 740.591 1254.5 736.008 Q1251.44 731.401 1251.44 722.675 Q1251.44 713.925 1254.5 709.341 Q1257.58 704.735 1263.39 704.735 Z\" fill=\"#000000\" fill-rule=\"evenodd\" fill-opacity=\"1\" /><path clip-path=\"url(#clip060)\" d=\"M 0 0 M1305.21 705.36 L1327.43 705.36 L1327.43 707.351 L1314.88 739.92 L1310 739.92 L1321.8 709.295 L1305.21 709.295 L1305.21 705.36 Z\" fill=\"#000000\" fill-rule=\"evenodd\" fill-opacity=\"1\" /><path clip-path=\"url(#clip060)\" d=\"M 0 0 M1332.55 705.36 L1350.9 705.36 L1350.9 709.295 L1336.83 709.295 L1336.83 717.767 Q1337.85 717.42 1338.86 717.258 Q1339.88 717.073 1340.9 717.073 Q1346.69 717.073 1350.07 720.244 Q1353.45 723.415 1353.45 728.832 Q1353.45 734.411 1349.98 737.512 Q1346.5 740.591 1340.18 740.591 Q1338.01 740.591 1335.74 740.221 Q1333.49 739.85 1331.09 739.11 L1331.09 734.411 Q1333.17 735.545 1335.39 736.1 Q1337.61 736.656 1340.09 736.656 Q1344.1 736.656 1346.43 734.55 Q1348.77 732.443 1348.77 728.832 Q1348.77 725.221 1346.43 723.114 Q1344.1 721.008 1340.09 721.008 Q1338.22 721.008 1336.34 721.425 Q1334.49 721.841 1332.55 722.721 L1332.55 705.36 Z\" fill=\"#000000\" fill-rule=\"evenodd\" fill-opacity=\"1\" /><path clip-path=\"url(#clip060)\" d=\"M 0 0 M1368.52 708.439 Q1364.91 708.439 1363.08 712.003 Q1361.27 715.545 1361.27 722.675 Q1361.27 729.781 1363.08 733.346 Q1364.91 736.887 1368.52 736.887 Q1372.15 736.887 1373.96 733.346 Q1375.79 729.781 1375.79 722.675 Q1375.79 715.545 1373.96 712.003 Q1372.15 708.439 1368.52 708.439 M1368.52 704.735 Q1374.33 704.735 1377.38 709.341 Q1380.46 713.925 1380.46 722.675 Q1380.46 731.401 1377.38 736.008 Q1374.33 740.591 1368.52 740.591 Q1362.71 740.591 1359.63 736.008 Q1356.57 731.401 1356.57 722.675 Q1356.57 713.925 1359.63 709.341 Q1362.71 704.735 1368.52 704.735 Z\" fill=\"#000000\" fill-rule=\"evenodd\" fill-opacity=\"1\" /><path clip-path=\"url(#clip060)\" d=\"M 0 0 M1398.39 735.985 L1406.03 735.985 L1406.03 709.619 L1397.72 711.286 L1397.72 707.027 L1405.98 705.36 L1410.66 705.36 L1410.66 735.985 L1418.3 735.985 L1418.3 739.92 L1398.39 739.92 L1398.39 735.985 Z\" fill=\"#000000\" fill-rule=\"evenodd\" fill-opacity=\"1\" /><path clip-path=\"url(#clip060)\" d=\"M 0 0 M1433.37 708.439 Q1429.76 708.439 1427.93 712.003 Q1426.12 715.545 1426.12 722.675 Q1426.12 729.781 1427.93 733.346 Q1429.76 736.887 1433.37 736.887 Q1437 736.887 1438.81 733.346 Q1440.64 729.781 1440.64 722.675 Q1440.64 715.545 1438.81 712.003 Q1437 708.439 1433.37 708.439 M1433.37 704.735 Q1439.18 704.735 1442.23 709.341 Q1445.31 713.925 1445.31 722.675 Q1445.31 731.401 1442.23 736.008 Q1439.18 740.591 1433.37 740.591 Q1427.56 740.591 1424.48 736.008 Q1421.42 731.401 1421.42 722.675 Q1421.42 713.925 1424.48 709.341 Q1427.56 704.735 1433.37 704.735 Z\" fill=\"#000000\" fill-rule=\"evenodd\" fill-opacity=\"1\" /><path clip-path=\"url(#clip060)\" d=\"M 0 0 M1460.38 708.439 Q1456.77 708.439 1454.94 712.003 Q1453.14 715.545 1453.14 722.675 Q1453.14 729.781 1454.94 733.346 Q1456.77 736.887 1460.38 736.887 Q1464.02 736.887 1465.82 733.346 Q1467.65 729.781 1467.65 722.675 Q1467.65 715.545 1465.82 712.003 Q1464.02 708.439 1460.38 708.439 M1460.38 704.735 Q1466.19 704.735 1469.25 709.341 Q1472.33 713.925 1472.33 722.675 Q1472.33 731.401 1469.25 736.008 Q1466.19 740.591 1460.38 740.591 Q1454.57 740.591 1451.49 736.008 Q1448.44 731.401 1448.44 722.675 Q1448.44 713.925 1451.49 709.341 Q1454.57 704.735 1460.38 704.735 Z\" fill=\"#000000\" fill-rule=\"evenodd\" fill-opacity=\"1\" /><path clip-path=\"url(#clip060)\" d=\"M 0 0 M1487.4 708.439 Q1483.78 708.439 1481.96 712.003 Q1480.15 715.545 1480.15 722.675 Q1480.15 729.781 1481.96 733.346 Q1483.78 736.887 1487.4 736.887 Q1491.03 736.887 1492.84 733.346 Q1494.66 729.781 1494.66 722.675 Q1494.66 715.545 1492.84 712.003 Q1491.03 708.439 1487.4 708.439 M1487.4 704.735 Q1493.21 704.735 1496.26 709.341 Q1499.34 713.925 1499.34 722.675 Q1499.34 731.401 1496.26 736.008 Q1493.21 740.591 1487.4 740.591 Q1481.59 740.591 1478.51 736.008 Q1475.45 731.401 1475.45 722.675 Q1475.45 713.925 1478.51 709.341 Q1481.59 704.735 1487.4 704.735 Z\" fill=\"#000000\" fill-rule=\"evenodd\" fill-opacity=\"1\" /><path clip-path=\"url(#clip060)\" d=\"M 0 0 M899.058 593.867 L906.697 593.867 L906.697 567.502 L898.387 569.168 L898.387 564.909 L906.651 563.243 L911.327 563.243 L911.327 593.867 L918.965 593.867 L918.965 597.803 L899.058 597.803 L899.058 593.867 Z\" fill=\"#000000\" fill-rule=\"evenodd\" fill-opacity=\"1\" /><path clip-path=\"url(#clip060)\" d=\"M 0 0 M934.035 566.321 Q930.424 566.321 928.595 569.886 Q926.79 573.428 926.79 580.557 Q926.79 587.664 928.595 591.228 Q930.424 594.77 934.035 594.77 Q937.669 594.77 939.475 591.228 Q941.303 587.664 941.303 580.557 Q941.303 573.428 939.475 569.886 Q937.669 566.321 934.035 566.321 M934.035 562.618 Q939.845 562.618 942.901 567.224 Q945.979 571.807 945.979 580.557 Q945.979 589.284 942.901 593.891 Q939.845 598.474 934.035 598.474 Q928.225 598.474 925.146 593.891 Q922.09 589.284 922.09 580.557 Q922.09 571.807 925.146 567.224 Q928.225 562.618 934.035 562.618 Z\" fill=\"#000000\" fill-rule=\"evenodd\" fill-opacity=\"1\" /><path clip-path=\"url(#clip060)\" d=\"M 0 0 M945.979 558.299 L956.117 558.299 L956.117 561.383 L945.979 561.383 L945.979 558.299 Z\" fill=\"#000000\" fill-rule=\"evenodd\" fill-opacity=\"1\" /><path clip-path=\"url(#clip060)\" d=\"M 0 0 M970.636 567.195 L976.843 567.195 L976.843 545.773 L970.091 547.127 L970.091 543.666 L976.805 542.312 L980.604 542.312 L980.604 567.195 L986.811 567.195 L986.811 570.392 L970.636 570.392 L970.636 567.195 Z\" fill=\"#000000\" fill-rule=\"evenodd\" fill-opacity=\"1\" /><path clip-path=\"url(#clip060)\" d=\"M 0 0 M920.48 469.97 L928.119 469.97 L928.119 443.604 L919.809 445.271 L919.809 441.011 L928.073 439.345 L932.749 439.345 L932.749 469.97 L940.388 469.97 L940.388 473.905 L920.48 473.905 L920.48 469.97 Z\" fill=\"#000000\" fill-rule=\"evenodd\" fill-opacity=\"1\" /><path clip-path=\"url(#clip060)\" d=\"M 0 0 M955.457 442.423 Q951.846 442.423 950.017 445.988 Q948.212 449.53 948.212 456.659 Q948.212 463.766 950.017 467.331 Q951.846 470.872 955.457 470.872 Q959.091 470.872 960.897 467.331 Q962.725 463.766 962.725 456.659 Q962.725 449.53 960.897 445.988 Q959.091 442.423 955.457 442.423 M955.457 438.72 Q961.267 438.72 964.323 443.326 Q967.401 447.91 967.401 456.659 Q967.401 465.386 964.323 469.993 Q961.267 474.576 955.457 474.576 Q949.647 474.576 946.568 469.993 Q943.513 465.386 943.513 456.659 Q943.513 447.91 946.568 443.326 Q949.647 438.72 955.457 438.72 Z\" fill=\"#000000\" fill-rule=\"evenodd\" fill-opacity=\"1\" /><path clip-path=\"url(#clip060)\" d=\"M 0 0 M977.106 420.916 Q974.172 420.916 972.686 423.812 Q971.219 426.69 971.219 432.483 Q971.219 438.257 972.686 441.153 Q974.172 444.031 977.106 444.031 Q980.059 444.031 981.526 441.153 Q983.012 438.257 983.012 432.483 Q983.012 426.69 981.526 423.812 Q980.059 420.916 977.106 420.916 M977.106 417.907 Q981.827 417.907 984.309 421.649 Q986.811 425.373 986.811 432.483 Q986.811 439.573 984.309 443.316 Q981.827 447.04 977.106 447.04 Q972.385 447.04 969.884 443.316 Q967.401 439.573 967.401 432.483 Q967.401 425.373 969.884 421.649 Q972.385 417.907 977.106 417.907 Z\" fill=\"#000000\" fill-rule=\"evenodd\" fill-opacity=\"1\" /><path clip-path=\"url(#clip060)\" d=\"M 0 0 M923.17 346.072 L930.809 346.072 L930.809 319.706 L922.498 321.373 L922.498 317.114 L930.762 315.447 L935.438 315.447 L935.438 346.072 L943.077 346.072 L943.077 350.007 L923.17 350.007 L923.17 346.072 Z\" fill=\"#000000\" fill-rule=\"evenodd\" fill-opacity=\"1\" /><path clip-path=\"url(#clip060)\" d=\"M 0 0 M958.146 318.526 Q954.535 318.526 952.707 322.09 Q950.901 325.632 950.901 332.762 Q950.901 339.868 952.707 343.433 Q954.535 346.975 958.146 346.975 Q961.781 346.975 963.586 343.433 Q965.415 339.868 965.415 332.762 Q965.415 325.632 963.586 322.09 Q961.781 318.526 958.146 318.526 M958.146 314.822 Q963.957 314.822 967.012 319.428 Q970.091 324.012 970.091 332.762 Q970.091 341.488 967.012 346.095 Q963.957 350.678 958.146 350.678 Q952.336 350.678 949.258 346.095 Q946.202 341.488 946.202 332.762 Q946.202 324.012 949.258 319.428 Q952.336 314.822 958.146 314.822 Z\" fill=\"#000000\" fill-rule=\"evenodd\" fill-opacity=\"1\" /><path clip-path=\"url(#clip060)\" d=\"M 0 0 M970.636 319.399 L976.843 319.399 L976.843 297.977 L970.091 299.331 L970.091 295.871 L976.805 294.517 L980.604 294.517 L980.604 319.399 L986.811 319.399 L986.811 322.597 L970.636 322.597 L970.636 319.399 Z\" fill=\"#000000\" fill-rule=\"evenodd\" fill-opacity=\"1\" /><path clip-path=\"url(#clip060)\" d=\"M 0 0 M922.06 222.174 L929.699 222.174 L929.699 195.808 L921.389 197.475 L921.389 193.216 L929.653 191.549 L934.329 191.549 L934.329 222.174 L941.967 222.174 L941.967 226.109 L922.06 226.109 L922.06 222.174 Z\" fill=\"#000000\" fill-rule=\"evenodd\" fill-opacity=\"1\" /><path clip-path=\"url(#clip060)\" d=\"M 0 0 M957.037 194.628 Q953.426 194.628 951.597 198.193 Q949.791 201.734 949.791 208.864 Q949.791 215.97 951.597 219.535 Q953.426 223.077 957.037 223.077 Q960.671 223.077 962.477 219.535 Q964.305 215.97 964.305 208.864 Q964.305 201.734 962.477 198.193 Q960.671 194.628 957.037 194.628 M957.037 190.924 Q962.847 190.924 965.902 195.531 Q968.981 200.114 968.981 208.864 Q968.981 217.591 965.902 222.197 Q962.847 226.78 957.037 226.78 Q951.227 226.78 948.148 222.197 Q945.092 217.591 945.092 208.864 Q945.092 200.114 948.148 195.531 Q951.227 190.924 957.037 190.924 Z\" fill=\"#000000\" fill-rule=\"evenodd\" fill-opacity=\"1\" /><path clip-path=\"url(#clip060)\" d=\"M 0 0 M973.551 195.501 L986.811 195.501 L986.811 198.699 L968.981 198.699 L968.981 195.501 Q971.144 193.263 974.868 189.502 Q978.611 185.721 979.57 184.631 Q981.394 182.581 982.109 181.17 Q982.842 179.741 982.842 178.368 Q982.842 176.129 981.263 174.719 Q979.702 173.308 977.181 173.308 Q975.395 173.308 973.401 173.929 Q971.426 174.55 969.169 175.81 L969.169 171.973 Q971.464 171.051 973.457 170.581 Q975.451 170.111 977.106 170.111 Q981.47 170.111 984.065 172.293 Q986.66 174.474 986.66 178.123 Q986.66 179.853 986.002 181.414 Q985.363 182.957 983.651 185.063 Q983.181 185.609 980.661 188.223 Q978.141 190.818 973.551 195.501 Z\" fill=\"#000000\" fill-rule=\"evenodd\" fill-opacity=\"1\" /><path clip-path=\"url(#clip060)\" d=\"M 0 0 M1112.05 12.096 L1124.24 12.096 L1139.67 53.2532 L1155.19 12.096 L1167.38 12.096 L1167.38 72.576 L1159.4 72.576 L1159.4 19.4686 L1143.81 60.9499 L1135.58 60.9499 L1119.99 19.4686 L1119.99 72.576 L1112.05 72.576 L1112.05 12.096 Z\" fill=\"#000000\" fill-rule=\"evenodd\" fill-opacity=\"1\" /><path clip-path=\"url(#clip060)\" d=\"M 0 0 M1214.01 48.0275 L1214.01 51.6733 L1179.74 51.6733 Q1180.22 59.3701 1184.36 63.421 Q1188.53 67.4314 1195.94 67.4314 Q1200.24 67.4314 1204.25 66.3781 Q1208.3 65.3249 1212.27 63.2184 L1212.27 70.267 Q1208.26 71.9684 1204.04 72.8596 Q1199.83 73.7508 1195.5 73.7508 Q1184.64 73.7508 1178.28 67.4314 Q1171.96 61.1119 1171.96 50.3365 Q1171.96 39.1965 1177.96 32.6746 Q1183.99 26.1121 1194.2 26.1121 Q1203.36 26.1121 1208.66 32.0264 Q1214.01 37.9003 1214.01 48.0275 M1206.56 45.84 Q1206.47 39.7232 1203.11 36.0774 Q1199.79 32.4315 1194.28 32.4315 Q1188.04 32.4315 1184.28 35.9558 Q1180.55 39.4801 1179.98 45.8805 L1206.56 45.84 Z\" fill=\"#000000\" fill-rule=\"evenodd\" fill-opacity=\"1\" /><path clip-path=\"url(#clip060)\" d=\"M 0 0 M1229.2 14.324 L1229.2 27.2059 L1244.55 27.2059 L1244.55 32.9987 L1229.2 32.9987 L1229.2 57.6282 Q1229.2 63.1779 1230.7 64.7578 Q1232.24 66.3376 1236.9 66.3376 L1244.55 66.3376 L1244.55 72.576 L1236.9 72.576 Q1228.27 72.576 1224.99 69.3758 Q1221.71 66.1351 1221.71 57.6282 L1221.71 32.9987 L1216.24 32.9987 L1216.24 27.2059 L1221.71 27.2059 L1221.71 14.324 L1229.2 14.324 Z\" fill=\"#000000\" fill-rule=\"evenodd\" fill-opacity=\"1\" /><path clip-path=\"url(#clip060)\" d=\"M 0 0 M1290.08 45.1919 L1290.08 72.576 L1282.63 72.576 L1282.63 45.4349 Q1282.63 38.994 1280.12 35.7938 Q1277.61 32.5936 1272.58 32.5936 Q1266.55 32.5936 1263.07 36.4419 Q1259.58 40.2903 1259.58 46.9338 L1259.58 72.576 L1252.09 72.576 L1252.09 9.54393 L1259.58 9.54393 L1259.58 34.2544 Q1262.26 30.163 1265.86 28.1376 Q1269.51 26.1121 1274.25 26.1121 Q1282.06 26.1121 1286.07 30.9732 Q1290.08 35.7938 1290.08 45.1919 Z\" fill=\"#000000\" fill-rule=\"evenodd\" fill-opacity=\"1\" /><path clip-path=\"url(#clip060)\" d=\"M 0 0 M1315.48 32.4315 Q1309.49 32.4315 1306 37.1306 Q1302.52 41.7891 1302.52 49.9314 Q1302.52 58.0738 1305.96 62.7728 Q1309.45 67.4314 1315.48 67.4314 Q1321.44 67.4314 1324.92 62.7323 Q1328.41 58.0333 1328.41 49.9314 Q1328.41 41.8701 1324.92 37.1711 Q1321.44 32.4315 1315.48 32.4315 M1315.48 26.1121 Q1325.21 26.1121 1330.76 32.4315 Q1336.31 38.7509 1336.31 49.9314 Q1336.31 61.0714 1330.76 67.4314 Q1325.21 73.7508 1315.48 73.7508 Q1305.72 73.7508 1300.17 67.4314 Q1294.66 61.0714 1294.66 49.9314 Q1294.66 38.7509 1300.17 32.4315 Q1305.72 26.1121 1315.48 26.1121 Z\" fill=\"#000000\" fill-rule=\"evenodd\" fill-opacity=\"1\" /><path clip-path=\"url(#clip060)\" d=\"M 0 0 M1373.98 34.0924 L1373.98 9.54393 L1381.43 9.54393 L1381.43 72.576 L1373.98 72.576 L1373.98 65.7705 Q1371.63 69.8214 1368.02 71.8063 Q1364.46 73.7508 1359.44 73.7508 Q1351.21 73.7508 1346.03 67.1883 Q1340.88 60.6258 1340.88 49.9314 Q1340.88 39.2371 1346.03 32.6746 Q1351.21 26.1121 1359.44 26.1121 Q1364.46 26.1121 1368.02 28.0971 Q1371.63 30.0415 1373.98 34.0924 M1348.58 49.9314 Q1348.58 58.1548 1351.94 62.8538 Q1355.34 67.5124 1361.26 67.5124 Q1367.17 67.5124 1370.58 62.8538 Q1373.98 58.1548 1373.98 49.9314 Q1373.98 41.7081 1370.58 37.0496 Q1367.17 32.3505 1361.26 32.3505 Q1355.34 32.3505 1351.94 37.0496 Q1348.58 41.7081 1348.58 49.9314 Z\" fill=\"#000000\" fill-rule=\"evenodd\" fill-opacity=\"1\" /><path clip-path=\"url(#clip060)\" d=\"M 0 0 M1423.72 65.6895 L1452.28 65.6895 L1452.28 72.576 L1413.88 72.576 L1413.88 65.6895 Q1418.54 60.8689 1426.56 52.7671 Q1434.62 44.6248 1436.69 42.2752 Q1440.62 37.8598 1442.16 34.8216 Q1443.74 31.7429 1443.74 28.7857 Q1443.74 23.9651 1440.33 20.927 Q1436.97 17.8888 1431.54 17.8888 Q1427.69 17.8888 1423.4 19.2256 Q1419.15 20.5624 1414.29 23.2765 L1414.29 15.0127 Q1419.23 13.0277 1423.52 12.015 Q1427.82 11.0023 1431.38 11.0023 Q1440.78 11.0023 1446.37 15.7013 Q1451.96 20.4004 1451.96 28.2591 Q1451.96 31.9859 1450.54 35.3482 Q1449.16 38.6699 1445.48 43.2069 Q1444.46 44.3817 1439.04 50.0125 Q1433.61 55.6027 1423.72 65.6895 Z\" fill=\"#000000\" fill-rule=\"evenodd\" fill-opacity=\"1\" /><polyline clip-path=\"url(#clip063)\" style=\"stroke:#009af9; stroke-width:4; stroke-opacity:1; fill:none\" points=\"\n",
       "  1026.17,139.405 1026.59,158.911 1027.02,182.589 1027.44,212.305 1027.86,251.839 1028.28,310.753 1028.71,430.133 1029.13,437.063 1029.55,332.143 1029.98,287.928 \n",
       "  1030.4,437.063 1030.82,264.206 1031.24,270.032 1031.67,276.193 1032.09,282.685 1032.51,289.636 1032.94,296.619 1033.36,304.614 1033.78,312.612 1034.2,321.611 \n",
       "  1034.63,331.096 1035.05,341.249 1035.47,352.277 1035.89,364.167 1036.32,376.803 1036.74,391.207 1037.16,406.917 1037.59,424.309 1038.01,443.984 1038.43,465.674 \n",
       "  1038.85,490.22 1039.28,517.157 1039.7,542.911 1040.12,560.397 1040.55,560.636 1040.97,547.048 1041.39,529.45 1041.81,513.094 1042.24,499.642 1042.66,489.563 \n",
       "  1043.08,480.935 1043.5,474.901 1043.93,470.643 1044.35,467.739 1044.77,466.458 1045.2,466.132 1045.62,465.719 1046.04,468.765 1046.46,471.183 1046.89,475.008 \n",
       "  1047.31,479.344 1047.73,485.11 1048.16,491.439 1048.58,497.76 1049,505.512 1049.42,513.749 1049.85,522.085 1050.27,530.01 1050.69,538.175 1051.11,546.085 \n",
       "  1051.54,552.497 1051.96,558.067 1052.38,561.483 1052.81,563.067 1053.23,563.473 1053.65,562.372 1054.07,560.619 1054.5,558.861 1054.92,556.472 1055.34,554.415 \n",
       "  1055.77,552.508 1056.19,551.135 1056.61,550.355 1057.03,549.942 1057.46,550.132 1057.88,550.247 1058.3,551.143 1058.72,551.802 1059.15,553.296 1059.57,554.748 \n",
       "  1059.99,555.771 1060.42,557.581 1060.84,558.646 1061.26,560.202 1061.68,561.368 1062.11,562.187 1062.53,563.016 1062.95,563.603 1063.38,563.857 1063.8,564.047 \n",
       "  1064.22,564.164 1064.64,564.027 1065.07,563.926 1065.49,563.887 1065.91,563.692 1066.33,563.527 1066.76,563.212 1067.18,563.235 1067.6,563.11 1068.03,563.216 \n",
       "  1068.45,563.281 1068.87,563.438 1069.29,563.462 1069.72,563.738 1070.14,563.891 1070.56,564.064 1070.99,564.147 1071.41,564.307 1071.83,564.512 1072.25,564.576 \n",
       "  1072.68,564.742 1073.1,564.743 1073.52,564.83 1073.95,564.807 1074.37,564.979 1074.79,564.897 1075.21,564.933 1075.64,564.981 1076.06,564.976 1076.48,564.975 \n",
       "  1076.9,565.029 1077.33,564.996 1077.75,565.125 1078.17,565.136 1078.6,565.201 1079.02,565.135 1079.44,565.293 1079.86,565.339 1080.29,565.283 1080.71,565.352 \n",
       "  1081.13,565.441 1081.56,565.508 1081.98,565.52 1082.4,565.582 1082.82,565.613 1083.25,565.56 1083.67,565.737 1084.09,565.632 1084.51,565.758 1084.94,565.757 \n",
       "  1085.36,565.815 1085.78,565.868 1086.21,565.897 1086.63,565.867 1087.05,566.008 1087.47,565.977 1087.9,566.034 1088.32,566.085 1088.74,566.152 1089.17,566.132 \n",
       "  1089.59,566.162 1090.01,566.261 1090.43,566.258 1090.86,566.288 1091.28,566.314 1091.7,566.443 1092.12,566.442 1092.55,566.473 1092.97,566.531 1093.39,566.561 \n",
       "  1093.82,566.551 1094.24,566.644 1094.66,566.738 1095.08,566.739 1095.51,566.797 1095.93,566.836 1096.35,566.86 1096.78,566.806 1097.2,566.928 1097.62,566.934 \n",
       "  1098.04,566.902 1098.47,567.015 1098.89,567.103 1099.31,567.051 1099.73,567.189 1100.16,567.214 1100.58,567.304 1101,567.272 1101.43,567.355 1101.85,567.352 \n",
       "  1102.27,567.425 1102.69,567.398 1103.12,567.536 1103.54,567.575 1103.96,567.525 1104.39,567.634 1104.81,567.751 1105.23,567.708 1105.65,567.768 1106.08,567.803 \n",
       "  1106.5,567.842 1106.92,567.94 1107.34,567.961 1107.77,568.012 1108.19,568.026 1108.61,568.094 1109.04,568.119 1109.46,568.075 1109.88,568.192 1110.3,568.25 \n",
       "  1110.73,568.305 1111.15,568.285 1111.57,568.466 1112,568.429 1112.42,568.41 1112.84,568.569 1113.26,568.565 1113.69,568.563 1114.11,568.657 1114.53,568.697 \n",
       "  1114.95,568.773 1115.38,568.795 1115.8,568.905 1116.22,568.938 1116.65,568.988 1117.07,568.989 1117.49,569.026 1117.91,569.086 1118.34,569.143 1118.76,569.269 \n",
       "  1119.18,569.224 1119.61,569.318 1120.03,569.362 1120.45,569.425 1120.87,569.451 1121.3,569.481 1121.72,569.541 1122.14,569.636 1122.56,569.66 1122.99,569.724 \n",
       "  1123.41,569.721 1123.83,569.77 1124.26,569.818 1124.68,569.94 1125.1,569.986 1125.52,569.983 1125.95,570.019 1126.37,570.127 1126.79,570.124 1127.22,570.185 \n",
       "  1127.64,570.165 1128.06,570.311 1128.48,570.332 1128.91,570.393 1129.33,570.378 1129.75,570.433 1130.18,570.587 1130.6,570.644 1131.02,570.632 1131.44,570.703 \n",
       "  1131.87,570.768 1132.29,570.839 1132.71,570.842 1133.13,570.97 1133.56,570.944 1133.98,570.95 1134.4,571.118 1134.83,571.133 1135.25,571.167 1135.67,571.248 \n",
       "  1136.09,571.266 1136.52,571.346 1136.94,571.364 1137.36,571.436 1137.79,571.475 1138.21,571.526 1138.63,571.632 1139.05,571.719 1139.48,571.717 1139.9,571.749 \n",
       "  1140.32,571.802 1140.74,571.865 1141.17,571.851 1141.59,571.93 1142.01,572.105 1142.44,572.033 1142.86,572.195 1143.28,572.154 1143.7,572.237 1144.13,572.343 \n",
       "  1144.55,572.44 1144.97,572.441 1145.4,572.477 1145.82,572.567 1146.24,572.604 1146.66,572.67 1147.09,572.723 1147.51,572.772 1147.93,572.839 1148.35,572.944 \n",
       "  1148.78,572.963 1149.2,572.972 1149.62,573.06 1150.05,573.065 1150.47,573.072 1150.89,573.166 1151.31,573.286 1151.74,573.357 1152.16,573.427 1152.58,573.478 \n",
       "  1153.01,573.488 1153.43,573.545 1153.85,573.608 1154.27,573.632 1154.7,573.761 1155.12,573.81 1155.54,573.843 1155.96,573.903 1156.39,574.006 1156.81,574.015 \n",
       "  1157.23,574.079 1157.66,574.113 1158.08,574.223 1158.5,574.267 1158.92,574.267 1159.35,574.438 1159.77,574.441 1160.19,574.451 1160.62,574.532 1161.04,574.622 \n",
       "  1161.46,574.676 1161.88,574.738 1162.31,574.849 1162.73,574.777 1163.15,574.947 1163.57,575.02 1164,575.027 1164.42,575.126 1164.84,575.139 1165.27,575.259 \n",
       "  1165.69,575.271 1166.11,575.434 1166.53,575.452 1166.96,575.489 1167.38,575.46 1167.8,575.577 1168.23,575.661 1168.65,575.782 1169.07,575.83 1169.49,575.892 \n",
       "  1169.92,575.843 1170.34,575.941 1170.76,576.094 1171.18,576.141 1171.61,576.189 1172.03,576.249 1172.45,576.274 1172.88,576.37 1173.3,576.453 1173.72,576.474 \n",
       "  1174.14,576.539 1174.57,576.572 1174.99,576.713 1175.41,576.763 1175.84,576.817 1176.26,576.877 1176.68,576.973 1177.1,577.012 1177.53,577.101 1177.95,577.107 \n",
       "  1178.37,577.192 1178.8,577.298 1179.22,577.358 1179.64,577.402 1180.06,577.514 1180.49,577.43 1180.91,577.639 1181.33,577.667 1181.75,577.752 1182.18,577.776 \n",
       "  1182.6,577.912 1183.02,577.937 1183.45,577.997 1183.87,578.066 1184.29,578.171 1184.71,578.257 1185.14,578.244 1185.56,578.375 1185.98,578.368 1186.41,578.438 \n",
       "  1186.83,578.441 1187.25,578.621 1187.67,578.63 1188.1,578.758 1188.52,578.775 1188.94,578.836 1189.36,579 1189.79,578.957 1190.21,579.063 1190.63,579.136 \n",
       "  1191.06,579.158 1191.48,579.22 1191.9,579.334 1192.32,579.417 1192.75,579.474 1193.17,579.562 1193.59,579.538 1194.02,579.705 1194.44,579.769 1194.86,579.806 \n",
       "  1195.28,579.883 1195.71,579.959 1196.13,580.023 1196.55,580.038 1196.97,580.242 1197.4,580.196 1197.82,580.249 1198.24,580.373 1198.67,580.49 1199.09,580.482 \n",
       "  1199.51,580.573 1199.93,580.704 1200.36,580.676 1200.78,580.842 1201.2,580.921 1201.63,580.924 1202.05,581.054 1202.47,581.064 1202.89,581.18 1203.32,581.166 \n",
       "  1203.74,581.29 1204.16,581.305 1204.58,581.371 1205.01,581.522 1205.43,581.607 1205.85,581.681 1206.28,581.671 1206.7,581.826 1207.12,581.865 1207.54,581.94 \n",
       "  1207.97,582.006 1208.39,582.137 1208.81,582.173 1209.24,582.182 1209.66,582.334 1210.08,582.314 1210.5,582.442 1210.93,582.523 1211.35,582.628 1211.77,582.624 \n",
       "  1212.19,582.738 1212.62,582.816 1213.04,582.908 1213.46,582.97 1213.89,583.013 1214.31,583.109 1214.73,583.202 1215.15,583.22 1215.58,583.347 1216,583.351 \n",
       "  1216.42,583.49 1216.85,583.618 1217.27,583.602 1217.69,583.628 1218.11,583.789 1218.54,583.908 1218.96,583.945 1219.38,584.064 1219.8,584.128 1220.23,584.189 \n",
       "  1220.65,584.284 1221.07,584.316 1221.5,584.424 1221.92,584.555 1222.34,584.598 1222.76,584.616 1223.19,584.738 1223.61,584.796 1224.03,584.839 1224.46,584.954 \n",
       "  1224.88,585.045 1225.3,585.074 1225.72,585.179 1226.15,585.246 1226.57,585.308 1226.99,585.393 1227.42,585.427 1227.84,585.577 1228.26,585.639 1228.68,585.736 \n",
       "  1229.11,585.797 1229.53,585.924 1229.95,585.947 1230.37,586.079 1230.8,586.087 1231.22,586.183 1231.64,586.263 1232.07,586.349 1232.49,586.47 1232.91,586.508 \n",
       "  1233.33,586.586 1233.76,586.697 1234.18,586.764 1234.6,586.742 1235.03,586.88 1235.45,586.988 1235.87,587.108 1236.29,587.108 1236.72,587.153 1237.14,587.299 \n",
       "  1237.56,587.449 1237.98,587.494 1238.41,587.476 1238.83,587.623 1239.25,587.671 1239.68,587.729 1240.1,587.859 1240.52,587.986 1240.94,588.031 1241.37,588.044 \n",
       "  1241.79,588.213 1242.21,588.244 1242.64,588.287 1243.06,588.467 1243.48,588.498 1243.9,588.611 1244.33,588.67 1244.75,588.778 1245.17,588.864 1245.59,588.91 \n",
       "  1246.02,589.026 1246.44,589.122 1246.86,589.217 1247.29,589.219 1247.71,589.331 1248.13,589.427 1248.55,589.509 1248.98,589.659 1249.4,589.723 1249.82,589.707 \n",
       "  1250.25,589.817 1250.67,589.948 1251.09,589.951 1251.51,590.101 1251.94,590.154 1252.36,590.214 1252.78,590.289 1253.2,590.436 1253.63,590.525 1254.05,590.633 \n",
       "  1254.47,590.663 1254.9,590.782 1255.32,590.87 1255.74,590.957 1256.16,590.965 1256.59,591.07 1257.01,591.166 1257.43,591.315 1257.86,591.335 1258.28,591.466 \n",
       "  1258.7,591.493 1259.12,591.536 1259.55,591.643 1259.97,591.763 1260.39,591.806 1260.81,591.98 1261.24,592.075 1261.66,592.196 1262.08,592.198 1262.51,592.23 \n",
       "  1262.93,592.366 1263.35,592.447 1263.77,592.533 1264.2,592.67 1264.62,592.704 1265.04,592.767 1265.47,592.898 1265.89,592.983 1266.31,593.116 1266.73,593.172 \n",
       "  1267.16,593.306 1267.58,593.37 1268,593.453 1268.42,593.521 1268.85,593.655 1269.27,593.622 1269.69,593.764 1270.12,593.886 1270.54,593.985 1270.96,594.038 \n",
       "  1271.38,594.117 1271.81,594.23 1272.23,594.275 1272.65,594.36 1273.08,594.451 1273.5,594.591 1273.92,594.654 1274.34,594.745 1274.77,594.884 1275.19,594.905 \n",
       "  1275.61,594.995 1276.04,595.158 1276.46,595.131 1276.88,595.283 1277.3,595.427 1277.73,595.503 1278.15,595.593 1278.57,595.589 1278.99,595.734 1279.42,595.847 \n",
       "  1279.84,595.945 1280.26,596.002 1280.69,596.126 1281.11,596.168 1281.53,596.328 1281.95,596.403 1282.38,596.398 1282.8,596.582 1283.22,596.562 1283.65,596.691 \n",
       "  1284.07,596.796 1284.49,596.996 1284.91,597.042 1285.34,597.148 1285.76,597.241 1286.18,597.228 1286.6,597.393 1287.03,597.474 1287.45,597.584 1287.87,597.745 \n",
       "  1288.3,597.789 1288.72,597.892 1289.14,597.855 1289.56,598.096 1289.99,598.13 1290.41,598.219 1290.83,598.331 1291.26,598.422 1291.68,598.528 1292.1,598.592 \n",
       "  1292.52,598.69 1292.95,598.733 1293.37,598.908 1293.79,598.982 1294.21,599.033 1294.64,599.164 1295.06,599.254 1295.48,599.28 1295.91,599.475 1296.33,599.536 \n",
       "  1296.75,599.632 1297.17,599.762 1297.6,599.859 1298.02,599.914 1298.44,600.032 1298.87,600.144 1299.29,600.192 1299.71,600.325 1300.13,600.356 1300.56,600.536 \n",
       "  1300.98,600.608 1301.4,600.61 1301.82,600.793 1302.25,600.91 1302.67,600.978 1303.09,601.035 1303.52,601.18 1303.94,601.306 1304.36,601.351 1304.78,601.412 \n",
       "  1305.21,601.587 1305.63,601.669 1306.05,601.751 1306.48,601.859 1306.9,601.891 1307.32,602.084 1307.74,602.128 1308.17,602.241 1308.59,602.37 1309.01,602.386 \n",
       "  1309.43,602.525 1309.86,602.623 1310.28,602.722 1310.7,602.781 1311.13,602.92 1311.55,602.994 1311.97,603.153 1312.39,603.236 1312.82,603.274 1313.24,603.389 \n",
       "  1313.66,603.555 1314.09,603.634 1314.51,603.744 1314.93,603.812 1315.35,603.938 1315.78,604.046 1316.2,604.043 1316.62,604.215 1317.04,604.334 1317.47,604.407 \n",
       "  1317.89,604.548 1318.31,604.61 1318.74,604.663 1319.16,604.79 1319.58,604.905 1320,605.008 1320.43,605.112 1320.85,605.242 1321.27,605.314 1321.7,605.415 \n",
       "  1322.12,605.513 1322.54,605.598 1322.96,605.741 1323.39,605.845 1323.81,605.916 1324.23,605.972 1324.65,606.153 1325.08,606.173 1325.5,606.334 1325.92,606.46 \n",
       "  1326.35,606.551 1326.77,606.626 1327.19,606.752 1327.61,606.894 1328.04,606.98 1328.46,607.103 1328.88,607.172 1329.31,607.24 1329.73,607.39 1330.15,607.473 \n",
       "  1330.57,607.556 1331,607.679 1331.42,607.766 1331.84,607.868 1332.27,607.962 1332.69,608.029 1333.11,608.207 1333.53,608.256 1333.96,608.381 1334.38,608.527 \n",
       "  1334.8,608.6 1335.22,608.696 1335.65,608.742 1336.07,608.91 1336.49,609.008 1336.92,609.047 1337.34,609.243 1337.76,609.412 1338.18,609.434 1338.61,609.494 \n",
       "  1339.03,609.702 1339.45,609.787 1339.88,609.881 1340.3,610.002 1340.72,610.101 1341.14,610.223 1341.57,610.267 1341.99,610.381 1342.41,610.487 1342.83,610.637 \n",
       "  1343.26,610.698 1343.68,610.822 1344.1,610.933 1344.53,611.022 1344.95,611.142 1345.37,611.257 1345.79,611.28 1346.22,611.498 1346.64,611.596 1347.06,611.616 \n",
       "  1347.49,611.753 1347.91,611.917 1348.33,611.999 1348.75,612.056 1349.18,612.214 1349.6,612.308 1350.02,612.403 1350.44,612.608 1350.87,612.639 1351.29,612.679 \n",
       "  1351.71,612.887 1352.14,612.967 1352.56,613.119 1352.98,613.235 1353.4,613.276 1353.83,613.425 1354.25,613.543 1354.67,613.634 1355.1,613.709 1355.52,613.871 \n",
       "  1355.94,613.877 1356.36,614.081 1356.79,614.15 1357.21,614.357 1357.63,614.336 1358.05,614.45 1358.48,614.636 1358.9,614.742 1359.32,614.778 1359.75,614.91 \n",
       "  1360.17,614.998 1360.59,615.102 1361.01,615.214 1361.44,615.368 1361.86,615.511 1362.28,615.589 1362.71,615.76 1363.13,615.77 1363.55,615.887 1363.97,616.059 \n",
       "  1364.4,616.186 1364.82,616.28 1365.24,616.371 1365.66,616.521 1366.09,616.597 1366.51,616.694 1366.93,616.854 1367.36,616.934 1367.78,617.031 1368.2,617.148 \n",
       "  1368.62,617.259 1369.05,617.396 1369.47,617.436 1369.89,617.647 1370.32,617.775 1370.74,617.853 1371.16,617.942 1371.58,618.063 1372.01,618.172 1372.43,618.224 \n",
       "  1372.85,618.435 1373.27,618.566 1373.7,618.622 1374.12,618.768 1374.54,618.837 1374.97,619.007 1375.39,619.095 1375.81,619.204 1376.23,619.265 1376.66,619.453 \n",
       "  1377.08,619.509 1377.5,619.658 1377.93,619.845 1378.35,619.883 1378.77,619.968 1379.19,620.198 1379.62,620.197 1380.04,620.415 1380.46,620.46 1380.89,620.597 \n",
       "  1381.31,620.666 1381.73,620.814 1382.15,620.953 1382.58,620.997 1383,621.192 1383.42,621.31 1383.84,621.392 1384.27,621.547 1384.69,621.587 1385.11,621.734 \n",
       "  1385.54,621.885 1385.96,621.912 1386.38,622.108 1386.8,622.185 1387.23,622.358 1387.65,622.441 1388.07,622.593 1388.5,622.696 1388.92,622.785 1389.34,622.869 \n",
       "  1389.76,623.007 1390.19,623.174 1390.61,623.205 1391.03,623.373 1391.45,623.583 1391.88,623.614 1392.3,623.747 1392.72,623.852 1393.15,623.973 1393.57,624.037 \n",
       "  1393.99,624.242 1394.41,624.257 1394.84,624.417 1395.26,624.589 1395.68,624.737 1396.11,624.807 1396.53,624.958 1396.95,625.099 1397.37,625.129 1397.8,625.281 \n",
       "  1398.22,625.406 1398.64,625.46 1399.06,625.655 1399.49,625.699 1399.91,625.872 1400.33,625.993 1400.76,626.128 1401.18,626.249 1401.6,626.381 1402.02,626.498 \n",
       "  1402.45,626.611 1402.87,626.726 1403.29,626.88 1403.72,626.977 1404.14,627.111 1404.56,627.24 1404.98,627.332 1405.41,627.492 1405.83,627.535 1406.25,627.737 \n",
       "  1406.67,627.772 1407.1,627.935 1407.52,628.06 1407.94,628.23 1408.37,628.36 1408.79,628.389 1409.21,628.558 1409.63,628.647 1410.06,628.833 1410.48,628.929 \n",
       "  1410.9,629.056 1411.33,629.177 1411.75,629.334 1412.17,629.441 1412.59,629.603 1413.02,629.652 1413.44,629.801 1413.86,629.933 1414.28,630.076 1414.71,630.088 \n",
       "  1415.13,630.296 1415.55,630.396 1415.98,630.517 1416.4,630.661 1416.82,630.794 1417.24,630.891 1417.67,631.062 1418.09,631.171 1418.51,631.311 1418.94,631.441 \n",
       "  1419.36,631.516 1419.78,631.629 1420.2,631.812 1420.63,631.91 1421.05,632.068 1421.47,632.177 1421.89,632.272 1422.32,632.417 1422.74,632.551 1423.16,632.669 \n",
       "  1423.59,632.83 1424.01,632.89 1424.43,633 1424.85,633.144 1425.28,633.337 1425.7,633.486 1426.12,633.546 1426.55,633.678 1426.97,633.787 1427.39,633.941 \n",
       "  1427.81,634.047 1428.24,634.179 1428.66,634.271 1429.08,634.441 1429.51,634.556 1429.93,634.638 1430.35,634.834 1430.77,634.937 1431.2,635.061 1431.62,635.182 \n",
       "  1432.04,635.303 1432.46,635.379 1432.89,635.555 1433.31,635.726 1433.73,635.81 1434.16,635.952 1434.58,636.03 1435,636.208 1435.42,636.361 1435.85,636.467 \n",
       "  1436.27,636.601 1436.69,636.726 1437.12,636.858 1437.54,637.025 1437.96,637.134 1438.38,637.246 1438.81,637.404 1439.23,637.505 1439.65,637.633 1440.07,637.788 \n",
       "  1440.5,637.882 1440.92,638.062 1441.34,638.172 1441.77,638.299 1442.19,638.446 1442.61,638.534 1443.03,638.664 1443.46,638.819 1443.88,638.974 1444.3,639.062 \n",
       "  1444.73,639.221 1445.15,639.364 1445.57,639.494 1445.99,639.673 1446.42,639.725 1446.84,639.881 1447.26,640.006 1447.68,640.162 1448.11,640.274 1448.53,640.422 \n",
       "  1448.95,640.56 1449.38,640.677 1449.8,640.776 1450.22,640.918 1450.64,641.062 1451.07,641.214 1451.49,641.339 1451.91,641.436 1452.34,641.588 1452.76,641.663 \n",
       "  1453.18,641.824 1453.6,641.953 1454.03,642.114 1454.45,642.248 1454.87,642.405 1455.29,642.561 1455.72,642.628 1456.14,642.76 1456.56,642.927 1456.99,643.065 \n",
       "  1457.41,643.182 1457.83,643.333 1458.25,643.525 1458.68,643.56 1459.1,643.751 1459.52,643.802 1459.95,643.959 1460.37,644.114 1460.79,644.247 1461.21,644.391 \n",
       "  1461.64,644.553 1462.06,644.683 1462.48,644.796 1462.9,644.984 1463.33,645.047 1463.75,645.203 1464.17,645.351 1464.6,645.421 1465.02,645.619 1465.44,645.753 \n",
       "  1465.86,645.878 1466.29,646.004 1466.71,646.185 1467.13,646.317 1467.56,646.426 1467.98,646.556 1468.4,646.693 1468.82,646.815 1469.25,647.009 1469.67,647.111 \n",
       "  1470.09,647.265 1470.51,647.396 1470.94,647.549 1471.36,647.673 1471.78,647.794 1472.21,647.932 1472.63,648.061 1473.05,648.223 1473.47,648.331 1473.9,648.499 \n",
       "  1474.32,648.624 1474.74,648.778 1475.17,648.921 1475.59,649.081 1476.01,649.119 1476.43,649.273 1476.86,649.485 1477.28,649.562 1477.7,649.766 1478.13,649.903 \n",
       "  1478.55,650.007 1478.97,650.134 1479.39,650.313 1479.82,650.502 1480.24,650.605 1480.66,650.721 1481.08,650.849 1481.51,650.943 1481.93,651.147 1482.35,651.249 \n",
       "  1482.78,651.46 1483.2,651.538 1483.62,651.699 1484.04,651.824 1484.47,651.969 1484.89,652.165 1485.31,652.225 1485.74,652.361 1486.16,652.54 1486.58,652.704 \n",
       "  1487,652.848 1487.43,652.96 1487.85,653.141 1488.27,653.182 1488.69,653.378 1489.12,653.537 1489.54,653.655 1489.96,653.802 1490.39,653.993 1490.81,654.076 \n",
       "  1491.23,654.26 1491.65,654.375 1492.08,654.561 1492.5,654.664 1492.92,654.836 1493.35,654.945 1493.77,655.06 1494.19,655.264 1494.61,655.452 1495.04,655.507 \n",
       "  1495.46,655.7 1495.88,655.824 1496.3,655.947 1496.73,656.098 1497.15,656.24 1497.57,656.367 1498,656.481 1498.42,656.673 1498.84,656.842 1499.26,656.938 \n",
       "  1499.69,657.155 1500.11,657.227 1500.53,657.385 1500.96,657.551 1501.38,657.683 1501.8,657.876 1502.22,658.007 1502.65,658.126 1503.07,658.252 1503.49,658.412 \n",
       "  1503.91,658.578 1504.34,658.73 1504.76,658.861 1505.18,658.956 1505.61,659.139 1506.03,659.278 1506.45,659.439 1506.87,659.606 1507.3,659.752 1507.72,659.934 \n",
       "  1508.14,660.006 1508.57,660.12 1508.99,660.376 1509.41,660.465 1509.83,660.619 1510.26,660.744 1510.68,660.917 1511.1,661.025 1511.52,661.184 1511.95,661.404 \n",
       "  1512.37,661.468 1512.79,661.633 1513.22,661.713 1513.64,661.929 1514.06,662.118 1514.48,662.22 1514.91,662.351 1515.33,662.513 1515.75,662.619 1516.18,662.814 \n",
       "  1516.6,662.954 1517.02,663.097 1517.44,663.288 1517.87,663.399 1518.29,663.527 1518.71,663.659 1519.13,663.852 1519.56,663.985 1519.98,664.2 1520.4,664.335 \n",
       "  1520.83,664.484 1521.25,664.625 1521.67,664.734 1522.09,664.934 1522.52,665.056 1522.94,665.144 1523.36,665.315 1523.79,665.478 1524.21,665.667 1524.63,665.767 \n",
       "  1525.05,665.935 1525.48,666.108 1525.9,666.27 1526.32,666.424 1526.74,666.559 1527.17,666.686 1527.59,666.874 1528.01,666.96 1528.44,667.102 1528.86,667.302 \n",
       "  1529.28,667.458 1529.7,667.599 1530.13,667.724 1530.55,667.889 1530.97,668.089 1531.4,668.247 1531.82,668.359 1532.24,668.498 1532.66,668.631 1533.09,668.757 \n",
       "  1533.51,669.026 1533.93,669.111 1534.36,669.281 1534.78,669.356 1535.2,669.564 1535.62,669.696 1536.05,669.837 1536.47,670.023 1536.89,670.216 1537.31,670.365 \n",
       "  1537.74,670.515 1538.16,670.515 \n",
       "  \"/>\n",
       "<path clip-path=\"url(#clip060)\" d=\"\n",
       "M1190.5 327.952 L1481.52 327.952 L1481.52 206.992 L1190.5 206.992  Z\n",
       "  \" fill=\"#ffffff\" fill-rule=\"evenodd\" fill-opacity=\"1\"/>\n",
       "<polyline clip-path=\"url(#clip060)\" style=\"stroke:#000000; stroke-width:4; stroke-opacity:1; fill:none\" points=\"\n",
       "  1190.5,327.952 1481.52,327.952 1481.52,206.992 1190.5,206.992 1190.5,327.952 \n",
       "  \"/>\n",
       "<polyline clip-path=\"url(#clip060)\" style=\"stroke:#009af9; stroke-width:4; stroke-opacity:1; fill:none\" points=\"\n",
       "  1214.5,267.472 1358.5,267.472 \n",
       "  \"/>\n",
       "<path clip-path=\"url(#clip060)\" d=\"M 0 0 M1396.34 287.16 Q1394.54 291.789 1392.83 293.201 Q1391.11 294.613 1388.24 294.613 L1384.84 294.613 L1384.84 291.048 L1387.34 291.048 Q1389.1 291.048 1390.07 290.215 Q1391.04 289.382 1392.22 286.28 L1392.99 284.335 L1382.5 258.826 L1387.02 258.826 L1395.12 279.104 L1403.22 258.826 L1407.73 258.826 L1396.34 287.16 Z\" fill=\"#000000\" fill-rule=\"evenodd\" fill-opacity=\"1\" /><path clip-path=\"url(#clip060)\" d=\"M 0 0 M1413.61 280.817 L1421.25 280.817 L1421.25 254.451 L1412.94 256.118 L1412.94 251.859 L1421.21 250.192 L1425.88 250.192 L1425.88 280.817 L1433.52 280.817 L1433.52 284.752 L1413.61 284.752 L1413.61 280.817 Z\" fill=\"#000000\" fill-rule=\"evenodd\" fill-opacity=\"1\" /><path clip-path=\"url(#clip060)\" d=\"\n",
       "M1810.63 686.448 L2352.76 686.448 L2352.76 123.472 L1810.63 123.472  Z\n",
       "  \" fill=\"#ffffff\" fill-rule=\"evenodd\" fill-opacity=\"1\"/>\n",
       "<defs>\n",
       "  <clipPath id=\"clip064\">\n",
       "    <rect x=\"1810\" y=\"123\" width=\"543\" height=\"564\"/>\n",
       "  </clipPath>\n",
       "</defs>\n",
       "<polyline clip-path=\"url(#clip064)\" style=\"stroke:#000000; stroke-width:2; stroke-opacity:0.1; fill:none\" points=\"\n",
       "  1891.96,686.448 1891.96,123.472 \n",
       "  \"/>\n",
       "<polyline clip-path=\"url(#clip064)\" style=\"stroke:#000000; stroke-width:2; stroke-opacity:0.1; fill:none\" points=\"\n",
       "  1974.45,686.448 1974.45,123.472 \n",
       "  \"/>\n",
       "<polyline clip-path=\"url(#clip064)\" style=\"stroke:#000000; stroke-width:2; stroke-opacity:0.1; fill:none\" points=\"\n",
       "  2056.94,686.448 2056.94,123.472 \n",
       "  \"/>\n",
       "<polyline clip-path=\"url(#clip064)\" style=\"stroke:#000000; stroke-width:2; stroke-opacity:0.1; fill:none\" points=\"\n",
       "  2139.43,686.448 2139.43,123.472 \n",
       "  \"/>\n",
       "<polyline clip-path=\"url(#clip064)\" style=\"stroke:#000000; stroke-width:2; stroke-opacity:0.1; fill:none\" points=\"\n",
       "  2221.93,686.448 2221.93,123.472 \n",
       "  \"/>\n",
       "<polyline clip-path=\"url(#clip064)\" style=\"stroke:#000000; stroke-width:2; stroke-opacity:0.1; fill:none\" points=\"\n",
       "  2304.42,686.448 2304.42,123.472 \n",
       "  \"/>\n",
       "<polyline clip-path=\"url(#clip064)\" style=\"stroke:#000000; stroke-width:2; stroke-opacity:0.1; fill:none\" points=\"\n",
       "  1810.63,608.676 2352.76,608.676 \n",
       "  \"/>\n",
       "<polyline clip-path=\"url(#clip064)\" style=\"stroke:#000000; stroke-width:2; stroke-opacity:0.1; fill:none\" points=\"\n",
       "  1810.63,504.585 2352.76,504.585 \n",
       "  \"/>\n",
       "<polyline clip-path=\"url(#clip064)\" style=\"stroke:#000000; stroke-width:2; stroke-opacity:0.1; fill:none\" points=\"\n",
       "  1810.63,400.495 2352.76,400.495 \n",
       "  \"/>\n",
       "<polyline clip-path=\"url(#clip064)\" style=\"stroke:#000000; stroke-width:2; stroke-opacity:0.1; fill:none\" points=\"\n",
       "  1810.63,296.404 2352.76,296.404 \n",
       "  \"/>\n",
       "<polyline clip-path=\"url(#clip064)\" style=\"stroke:#000000; stroke-width:2; stroke-opacity:0.1; fill:none\" points=\"\n",
       "  1810.63,192.314 2352.76,192.314 \n",
       "  \"/>\n",
       "<polyline clip-path=\"url(#clip060)\" style=\"stroke:#000000; stroke-width:4; stroke-opacity:1; fill:none\" points=\"\n",
       "  1810.63,686.448 2352.76,686.448 \n",
       "  \"/>\n",
       "<polyline clip-path=\"url(#clip060)\" style=\"stroke:#000000; stroke-width:4; stroke-opacity:1; fill:none\" points=\"\n",
       "  1810.63,686.448 1810.63,123.472 \n",
       "  \"/>\n",
       "<polyline clip-path=\"url(#clip060)\" style=\"stroke:#000000; stroke-width:4; stroke-opacity:1; fill:none\" points=\"\n",
       "  1891.96,686.448 1891.96,679.692 \n",
       "  \"/>\n",
       "<polyline clip-path=\"url(#clip060)\" style=\"stroke:#000000; stroke-width:4; stroke-opacity:1; fill:none\" points=\"\n",
       "  1974.45,686.448 1974.45,679.692 \n",
       "  \"/>\n",
       "<polyline clip-path=\"url(#clip060)\" style=\"stroke:#000000; stroke-width:4; stroke-opacity:1; fill:none\" points=\"\n",
       "  2056.94,686.448 2056.94,679.692 \n",
       "  \"/>\n",
       "<polyline clip-path=\"url(#clip060)\" style=\"stroke:#000000; stroke-width:4; stroke-opacity:1; fill:none\" points=\"\n",
       "  2139.43,686.448 2139.43,679.692 \n",
       "  \"/>\n",
       "<polyline clip-path=\"url(#clip060)\" style=\"stroke:#000000; stroke-width:4; stroke-opacity:1; fill:none\" points=\"\n",
       "  2221.93,686.448 2221.93,679.692 \n",
       "  \"/>\n",
       "<polyline clip-path=\"url(#clip060)\" style=\"stroke:#000000; stroke-width:4; stroke-opacity:1; fill:none\" points=\"\n",
       "  2304.42,686.448 2304.42,679.692 \n",
       "  \"/>\n",
       "<polyline clip-path=\"url(#clip060)\" style=\"stroke:#000000; stroke-width:4; stroke-opacity:1; fill:none\" points=\"\n",
       "  1810.63,608.676 1817.13,608.676 \n",
       "  \"/>\n",
       "<polyline clip-path=\"url(#clip060)\" style=\"stroke:#000000; stroke-width:4; stroke-opacity:1; fill:none\" points=\"\n",
       "  1810.63,504.585 1817.13,504.585 \n",
       "  \"/>\n",
       "<polyline clip-path=\"url(#clip060)\" style=\"stroke:#000000; stroke-width:4; stroke-opacity:1; fill:none\" points=\"\n",
       "  1810.63,400.495 1817.13,400.495 \n",
       "  \"/>\n",
       "<polyline clip-path=\"url(#clip060)\" style=\"stroke:#000000; stroke-width:4; stroke-opacity:1; fill:none\" points=\"\n",
       "  1810.63,296.404 1817.13,296.404 \n",
       "  \"/>\n",
       "<polyline clip-path=\"url(#clip060)\" style=\"stroke:#000000; stroke-width:4; stroke-opacity:1; fill:none\" points=\"\n",
       "  1810.63,192.314 1817.13,192.314 \n",
       "  \"/>\n",
       "<path clip-path=\"url(#clip060)\" d=\"M 0 0 M1882.24 705.36 L1900.6 705.36 L1900.6 709.295 L1886.52 709.295 L1886.52 717.767 Q1887.54 717.42 1888.56 717.258 Q1889.58 717.073 1890.6 717.073 Q1896.38 717.073 1899.76 720.244 Q1903.14 723.415 1903.14 728.832 Q1903.14 734.411 1899.67 737.512 Q1896.2 740.591 1889.88 740.591 Q1887.7 740.591 1885.43 740.221 Q1883.19 739.85 1880.78 739.11 L1880.78 734.411 Q1882.86 735.545 1885.09 736.1 Q1887.31 736.656 1889.79 736.656 Q1893.79 736.656 1896.13 734.55 Q1898.47 732.443 1898.47 728.832 Q1898.47 725.221 1896.13 723.114 Q1893.79 721.008 1889.79 721.008 Q1887.91 721.008 1886.04 721.425 Q1884.18 721.841 1882.24 722.721 L1882.24 705.36 Z\" fill=\"#000000\" fill-rule=\"evenodd\" fill-opacity=\"1\" /><path clip-path=\"url(#clip060)\" d=\"M 0 0 M1951.33 735.985 L1958.97 735.985 L1958.97 709.619 L1950.66 711.286 L1950.66 707.027 L1958.92 705.36 L1963.6 705.36 L1963.6 735.985 L1971.24 735.985 L1971.24 739.92 L1951.33 739.92 L1951.33 735.985 Z\" fill=\"#000000\" fill-rule=\"evenodd\" fill-opacity=\"1\" /><path clip-path=\"url(#clip060)\" d=\"M 0 0 M1986.3 708.439 Q1982.69 708.439 1980.86 712.003 Q1979.06 715.545 1979.06 722.675 Q1979.06 729.781 1980.86 733.346 Q1982.69 736.887 1986.3 736.887 Q1989.94 736.887 1991.74 733.346 Q1993.57 729.781 1993.57 722.675 Q1993.57 715.545 1991.74 712.003 Q1989.94 708.439 1986.3 708.439 M1986.3 704.735 Q1992.11 704.735 1995.17 709.341 Q1998.25 713.925 1998.25 722.675 Q1998.25 731.401 1995.17 736.008 Q1992.11 740.591 1986.3 740.591 Q1980.49 740.591 1977.42 736.008 Q1974.36 731.401 1974.36 722.675 Q1974.36 713.925 1977.42 709.341 Q1980.49 704.735 1986.3 704.735 Z\" fill=\"#000000\" fill-rule=\"evenodd\" fill-opacity=\"1\" /><path clip-path=\"url(#clip060)\" d=\"M 0 0 M2034.32 735.985 L2041.96 735.985 L2041.96 709.619 L2033.65 711.286 L2033.65 707.027 L2041.91 705.36 L2046.58 705.36 L2046.58 735.985 L2054.22 735.985 L2054.22 739.92 L2034.32 739.92 L2034.32 735.985 Z\" fill=\"#000000\" fill-rule=\"evenodd\" fill-opacity=\"1\" /><path clip-path=\"url(#clip060)\" d=\"M 0 0 M2059.34 705.36 L2077.7 705.36 L2077.7 709.295 L2063.62 709.295 L2063.62 717.767 Q2064.64 717.42 2065.66 717.258 Q2066.68 717.073 2067.7 717.073 Q2073.48 717.073 2076.86 720.244 Q2080.24 723.415 2080.24 728.832 Q2080.24 734.411 2076.77 737.512 Q2073.3 740.591 2066.98 740.591 Q2064.8 740.591 2062.53 740.221 Q2060.29 739.85 2057.88 739.11 L2057.88 734.411 Q2059.96 735.545 2062.19 736.1 Q2064.41 736.656 2066.89 736.656 Q2070.89 736.656 2073.23 734.55 Q2075.57 732.443 2075.57 728.832 Q2075.57 725.221 2073.23 723.114 Q2070.89 721.008 2066.89 721.008 Q2065.01 721.008 2063.14 721.425 Q2061.28 721.841 2059.34 722.721 L2059.34 705.36 Z\" fill=\"#000000\" fill-rule=\"evenodd\" fill-opacity=\"1\" /><path clip-path=\"url(#clip060)\" d=\"M 0 0 M2120.58 735.985 L2136.9 735.985 L2136.9 739.92 L2114.96 739.92 L2114.96 735.985 Q2117.62 733.23 2122.2 728.6 Q2126.81 723.948 2127.99 722.605 Q2130.23 720.082 2131.11 718.346 Q2132.02 716.587 2132.02 714.897 Q2132.02 712.142 2130.07 710.406 Q2128.15 708.67 2125.05 708.67 Q2122.85 708.67 2120.4 709.434 Q2117.96 710.198 2115.19 711.749 L2115.19 707.027 Q2118.01 705.892 2120.46 705.314 Q2122.92 704.735 2124.96 704.735 Q2130.33 704.735 2133.52 707.42 Q2136.71 710.105 2136.71 714.596 Q2136.71 716.726 2135.9 718.647 Q2135.12 720.545 2133.01 723.138 Q2132.43 723.809 2129.33 727.026 Q2126.23 730.221 2120.58 735.985 Z\" fill=\"#000000\" fill-rule=\"evenodd\" fill-opacity=\"1\" /><path clip-path=\"url(#clip060)\" d=\"M 0 0 M2151.97 708.439 Q2148.36 708.439 2146.53 712.003 Q2144.72 715.545 2144.72 722.675 Q2144.72 729.781 2146.53 733.346 Q2148.36 736.887 2151.97 736.887 Q2155.6 736.887 2157.41 733.346 Q2159.24 729.781 2159.24 722.675 Q2159.24 715.545 2157.41 712.003 Q2155.6 708.439 2151.97 708.439 M2151.97 704.735 Q2157.78 704.735 2160.83 709.341 Q2163.91 713.925 2163.91 722.675 Q2163.91 731.401 2160.83 736.008 Q2157.78 740.591 2151.97 740.591 Q2146.16 740.591 2143.08 736.008 Q2140.02 731.401 2140.02 722.675 Q2140.02 713.925 2143.08 709.341 Q2146.16 704.735 2151.97 704.735 Z\" fill=\"#000000\" fill-rule=\"evenodd\" fill-opacity=\"1\" /><path clip-path=\"url(#clip060)\" d=\"M 0 0 M2203.57 735.985 L2219.89 735.985 L2219.89 739.92 L2197.94 739.92 L2197.94 735.985 Q2200.61 733.23 2205.19 728.6 Q2209.8 723.948 2210.98 722.605 Q2213.22 720.082 2214.1 718.346 Q2215 716.587 2215 714.897 Q2215 712.142 2213.06 710.406 Q2211.14 708.67 2208.04 708.67 Q2205.84 708.67 2203.38 709.434 Q2200.95 710.198 2198.18 711.749 L2198.18 707.027 Q2201 705.892 2203.45 705.314 Q2205.91 704.735 2207.94 704.735 Q2213.31 704.735 2216.51 707.42 Q2219.7 710.105 2219.7 714.596 Q2219.7 716.726 2218.89 718.647 Q2218.11 720.545 2216 723.138 Q2215.42 723.809 2212.32 727.026 Q2209.22 730.221 2203.57 735.985 Z\" fill=\"#000000\" fill-rule=\"evenodd\" fill-opacity=\"1\" /><path clip-path=\"url(#clip060)\" d=\"M 0 0 M2225 705.36 L2243.36 705.36 L2243.36 709.295 L2229.29 709.295 L2229.29 717.767 Q2230.3 717.42 2231.32 717.258 Q2232.34 717.073 2233.36 717.073 Q2239.15 717.073 2242.53 720.244 Q2245.91 723.415 2245.91 728.832 Q2245.91 734.411 2242.43 737.512 Q2238.96 740.591 2232.64 740.591 Q2230.47 740.591 2228.2 740.221 Q2225.95 739.85 2223.55 739.11 L2223.55 734.411 Q2225.63 735.545 2227.85 736.1 Q2230.07 736.656 2232.55 736.656 Q2236.55 736.656 2238.89 734.55 Q2241.23 732.443 2241.23 728.832 Q2241.23 725.221 2238.89 723.114 Q2236.55 721.008 2232.55 721.008 Q2230.68 721.008 2228.8 721.425 Q2226.95 721.841 2225 722.721 L2225 705.36 Z\" fill=\"#000000\" fill-rule=\"evenodd\" fill-opacity=\"1\" /><path clip-path=\"url(#clip060)\" d=\"M 0 0 M2295.16 721.286 Q2298.51 722.003 2300.39 724.272 Q2302.29 726.54 2302.29 729.874 Q2302.29 734.989 2298.77 737.79 Q2295.25 740.591 2288.77 740.591 Q2286.59 740.591 2284.28 740.151 Q2281.99 739.735 2279.53 738.878 L2279.53 734.364 Q2281.48 735.499 2283.79 736.077 Q2286.11 736.656 2288.63 736.656 Q2293.03 736.656 2295.32 734.92 Q2297.63 733.184 2297.63 729.874 Q2297.63 726.818 2295.48 725.105 Q2293.35 723.369 2289.53 723.369 L2285.5 723.369 L2285.5 719.526 L2289.72 719.526 Q2293.17 719.526 2294.99 718.161 Q2296.82 716.772 2296.82 714.179 Q2296.82 711.517 2294.93 710.105 Q2293.05 708.67 2289.53 708.67 Q2287.61 708.67 2285.41 709.087 Q2283.21 709.503 2280.57 710.383 L2280.57 706.216 Q2283.24 705.476 2285.55 705.105 Q2287.89 704.735 2289.95 704.735 Q2295.27 704.735 2298.37 707.165 Q2301.48 709.573 2301.48 713.693 Q2301.48 716.564 2299.83 718.554 Q2298.19 720.522 2295.16 721.286 Z\" fill=\"#000000\" fill-rule=\"evenodd\" fill-opacity=\"1\" /><path clip-path=\"url(#clip060)\" d=\"M 0 0 M2317.36 708.439 Q2313.74 708.439 2311.92 712.003 Q2310.11 715.545 2310.11 722.675 Q2310.11 729.781 2311.92 733.346 Q2313.74 736.887 2317.36 736.887 Q2320.99 736.887 2322.8 733.346 Q2324.62 729.781 2324.62 722.675 Q2324.62 715.545 2322.8 712.003 Q2320.99 708.439 2317.36 708.439 M2317.36 704.735 Q2323.17 704.735 2326.22 709.341 Q2329.3 713.925 2329.3 722.675 Q2329.3 731.401 2326.22 736.008 Q2323.17 740.591 2317.36 740.591 Q2311.55 740.591 2308.47 736.008 Q2305.41 731.401 2305.41 722.675 Q2305.41 713.925 2308.47 709.341 Q2311.55 704.735 2317.36 704.735 Z\" fill=\"#000000\" fill-rule=\"evenodd\" fill-opacity=\"1\" /><path clip-path=\"url(#clip060)\" d=\"M 0 0 M1697.76 628.468 L1705.4 628.468 L1705.4 602.102 L1697.09 603.769 L1697.09 599.51 L1705.36 597.843 L1710.03 597.843 L1710.03 628.468 L1717.67 628.468 L1717.67 632.403 L1697.76 632.403 L1697.76 628.468 Z\" fill=\"#000000\" fill-rule=\"evenodd\" fill-opacity=\"1\" /><path clip-path=\"url(#clip060)\" d=\"M 0 0 M1732.74 600.922 Q1729.13 600.922 1727.3 604.487 Q1725.49 608.028 1725.49 615.158 Q1725.49 622.264 1727.3 625.829 Q1729.13 629.371 1732.74 629.371 Q1736.37 629.371 1738.18 625.829 Q1740.01 622.264 1740.01 615.158 Q1740.01 608.028 1738.18 604.487 Q1736.37 600.922 1732.74 600.922 M1732.74 597.218 Q1738.55 597.218 1741.61 601.825 Q1744.68 606.408 1744.68 615.158 Q1744.68 623.885 1741.61 628.491 Q1738.55 633.074 1732.74 633.074 Q1726.93 633.074 1723.85 628.491 Q1720.8 623.885 1720.8 615.158 Q1720.8 606.408 1723.85 601.825 Q1726.93 597.218 1732.74 597.218 Z\" fill=\"#000000\" fill-rule=\"evenodd\" fill-opacity=\"1\" /><path clip-path=\"url(#clip060)\" d=\"M 0 0 M1744.68 592.899 L1754.82 592.899 L1754.82 595.984 L1744.68 595.984 L1744.68 592.899 Z\" fill=\"#000000\" fill-rule=\"evenodd\" fill-opacity=\"1\" /><path clip-path=\"url(#clip060)\" d=\"M 0 0 M1773.37 601.795 L1786.63 601.795 L1786.63 604.993 L1768.8 604.993 L1768.8 601.795 Q1770.96 599.557 1774.68 595.796 Q1778.43 592.015 1779.38 590.925 Q1781.21 588.874 1781.92 587.464 Q1782.66 586.034 1782.66 584.662 Q1782.66 582.423 1781.08 581.013 Q1779.52 579.602 1777 579.602 Q1775.21 579.602 1773.22 580.223 Q1771.24 580.844 1768.98 582.104 L1768.98 578.267 Q1771.28 577.345 1773.27 576.875 Q1775.27 576.405 1776.92 576.405 Q1781.28 576.405 1783.88 578.587 Q1786.48 580.768 1786.48 584.417 Q1786.48 586.147 1785.82 587.708 Q1785.18 589.251 1783.47 591.357 Q1783 591.903 1780.48 594.517 Q1777.96 597.112 1773.37 601.795 Z\" fill=\"#000000\" fill-rule=\"evenodd\" fill-opacity=\"1\" /><path clip-path=\"url(#clip060)\" d=\"M 0 0 M1698.87 524.378 L1706.51 524.378 L1706.51 498.012 L1698.2 499.679 L1698.2 495.419 L1706.47 493.753 L1711.14 493.753 L1711.14 524.378 L1718.78 524.378 L1718.78 528.313 L1698.87 528.313 L1698.87 524.378 Z\" fill=\"#000000\" fill-rule=\"evenodd\" fill-opacity=\"1\" /><path clip-path=\"url(#clip060)\" d=\"M 0 0 M1733.85 496.831 Q1730.24 496.831 1728.41 500.396 Q1726.6 503.938 1726.6 511.067 Q1726.6 518.174 1728.41 521.739 Q1730.24 525.28 1733.85 525.28 Q1737.48 525.28 1739.29 521.739 Q1741.12 518.174 1741.12 511.067 Q1741.12 503.938 1739.29 500.396 Q1737.48 496.831 1733.85 496.831 M1733.85 493.128 Q1739.66 493.128 1742.72 497.734 Q1745.79 502.317 1745.79 511.067 Q1745.79 519.794 1742.72 524.401 Q1739.66 528.984 1733.85 528.984 Q1728.04 528.984 1724.96 524.401 Q1721.91 519.794 1721.91 511.067 Q1721.91 502.317 1724.96 497.734 Q1728.04 493.128 1733.85 493.128 Z\" fill=\"#000000\" fill-rule=\"evenodd\" fill-opacity=\"1\" /><path clip-path=\"url(#clip060)\" d=\"M 0 0 M1745.79 488.809 L1755.93 488.809 L1755.93 491.893 L1745.79 491.893 L1745.79 488.809 Z\" fill=\"#000000\" fill-rule=\"evenodd\" fill-opacity=\"1\" /><path clip-path=\"url(#clip060)\" d=\"M 0 0 M1770.45 497.705 L1776.66 497.705 L1776.66 476.283 L1769.91 477.637 L1769.91 474.176 L1776.62 472.822 L1780.42 472.822 L1780.42 497.705 L1786.63 497.705 L1786.63 500.902 L1770.45 500.902 L1770.45 497.705 Z\" fill=\"#000000\" fill-rule=\"evenodd\" fill-opacity=\"1\" /><path clip-path=\"url(#clip060)\" d=\"M 0 0 M1720.3 420.287 L1727.93 420.287 L1727.93 393.921 L1719.62 395.588 L1719.62 391.329 L1727.89 389.662 L1732.56 389.662 L1732.56 420.287 L1740.2 420.287 L1740.2 424.222 L1720.3 424.222 L1720.3 420.287 Z\" fill=\"#000000\" fill-rule=\"evenodd\" fill-opacity=\"1\" /><path clip-path=\"url(#clip060)\" d=\"M 0 0 M1755.27 392.741 Q1751.66 392.741 1749.83 396.306 Q1748.03 399.847 1748.03 406.977 Q1748.03 414.083 1749.83 417.648 Q1751.66 421.19 1755.27 421.19 Q1758.91 421.19 1760.71 417.648 Q1762.54 414.083 1762.54 406.977 Q1762.54 399.847 1760.71 396.306 Q1758.91 392.741 1755.27 392.741 M1755.27 389.037 Q1761.08 389.037 1764.14 393.644 Q1767.22 398.227 1767.22 406.977 Q1767.22 415.704 1764.14 420.31 Q1761.08 424.894 1755.27 424.894 Q1749.46 424.894 1746.38 420.31 Q1743.33 415.704 1743.33 406.977 Q1743.33 398.227 1746.38 393.644 Q1749.46 389.037 1755.27 389.037 Z\" fill=\"#000000\" fill-rule=\"evenodd\" fill-opacity=\"1\" /><path clip-path=\"url(#clip060)\" d=\"M 0 0 M1776.92 371.233 Q1773.99 371.233 1772.5 374.13 Q1771.03 377.007 1771.03 382.8 Q1771.03 388.574 1772.5 391.47 Q1773.99 394.348 1776.92 394.348 Q1779.87 394.348 1781.34 391.47 Q1782.83 388.574 1782.83 382.8 Q1782.83 377.007 1781.34 374.13 Q1779.87 371.233 1776.92 371.233 M1776.92 368.224 Q1781.64 368.224 1784.12 371.967 Q1786.63 375.691 1786.63 382.8 Q1786.63 389.891 1784.12 393.633 Q1781.64 397.357 1776.92 397.357 Q1772.2 397.357 1769.7 393.633 Q1767.22 389.891 1767.22 382.8 Q1767.22 375.691 1769.7 371.967 Q1772.2 368.224 1776.92 368.224 Z\" fill=\"#000000\" fill-rule=\"evenodd\" fill-opacity=\"1\" /><path clip-path=\"url(#clip060)\" d=\"M 0 0 M1722.98 316.197 L1730.62 316.197 L1730.62 289.831 L1722.31 291.498 L1722.31 287.238 L1730.58 285.572 L1735.25 285.572 L1735.25 316.197 L1742.89 316.197 L1742.89 320.132 L1722.98 320.132 L1722.98 316.197 Z\" fill=\"#000000\" fill-rule=\"evenodd\" fill-opacity=\"1\" /><path clip-path=\"url(#clip060)\" d=\"M 0 0 M1757.96 288.65 Q1754.35 288.65 1752.52 292.215 Q1750.72 295.757 1750.72 302.886 Q1750.72 309.993 1752.52 313.558 Q1754.35 317.099 1757.96 317.099 Q1761.6 317.099 1763.4 313.558 Q1765.23 309.993 1765.23 302.886 Q1765.23 295.757 1763.4 292.215 Q1761.6 288.65 1757.96 288.65 M1757.96 284.947 Q1763.77 284.947 1766.83 289.553 Q1769.91 294.137 1769.91 302.886 Q1769.91 311.613 1766.83 316.22 Q1763.77 320.803 1757.96 320.803 Q1752.15 320.803 1749.07 316.22 Q1746.02 311.613 1746.02 302.886 Q1746.02 294.137 1749.07 289.553 Q1752.15 284.947 1757.96 284.947 Z\" fill=\"#000000\" fill-rule=\"evenodd\" fill-opacity=\"1\" /><path clip-path=\"url(#clip060)\" d=\"M 0 0 M1770.45 289.524 L1776.66 289.524 L1776.66 268.102 L1769.91 269.456 L1769.91 265.996 L1776.62 264.641 L1780.42 264.641 L1780.42 289.524 L1786.63 289.524 L1786.63 292.721 L1770.45 292.721 L1770.45 289.524 Z\" fill=\"#000000\" fill-rule=\"evenodd\" fill-opacity=\"1\" /><path clip-path=\"url(#clip060)\" d=\"M 0 0 M1721.87 212.106 L1729.51 212.106 L1729.51 185.741 L1721.2 187.407 L1721.2 183.148 L1729.47 181.481 L1734.14 181.481 L1734.14 212.106 L1741.78 212.106 L1741.78 216.041 L1721.87 216.041 L1721.87 212.106 Z\" fill=\"#000000\" fill-rule=\"evenodd\" fill-opacity=\"1\" /><path clip-path=\"url(#clip060)\" d=\"M 0 0 M1756.85 184.56 Q1753.24 184.56 1751.41 188.125 Q1749.61 191.666 1749.61 198.796 Q1749.61 205.902 1751.41 209.467 Q1753.24 213.009 1756.85 213.009 Q1760.49 213.009 1762.29 209.467 Q1764.12 205.902 1764.12 198.796 Q1764.12 191.666 1762.29 188.125 Q1760.49 184.56 1756.85 184.56 M1756.85 180.856 Q1762.66 180.856 1765.72 185.463 Q1768.8 190.046 1768.8 198.796 Q1768.8 207.523 1765.72 212.129 Q1762.66 216.713 1756.85 216.713 Q1751.04 216.713 1747.96 212.129 Q1744.91 207.523 1744.91 198.796 Q1744.91 190.046 1747.96 185.463 Q1751.04 180.856 1756.85 180.856 Z\" fill=\"#000000\" fill-rule=\"evenodd\" fill-opacity=\"1\" /><path clip-path=\"url(#clip060)\" d=\"M 0 0 M1773.37 185.434 L1786.63 185.434 L1786.63 188.631 L1768.8 188.631 L1768.8 185.434 Q1770.96 183.195 1774.68 179.434 Q1778.43 175.654 1779.38 174.563 Q1781.21 172.513 1781.92 171.102 Q1782.66 169.673 1782.66 168.3 Q1782.66 166.062 1781.08 164.651 Q1779.52 163.24 1777 163.24 Q1775.21 163.24 1773.22 163.861 Q1771.24 164.482 1768.98 165.742 L1768.98 161.905 Q1771.28 160.983 1773.27 160.513 Q1775.27 160.043 1776.92 160.043 Q1781.28 160.043 1783.88 162.225 Q1786.48 164.406 1786.48 168.055 Q1786.48 169.786 1785.82 171.347 Q1785.18 172.889 1783.47 174.995 Q1783 175.541 1780.48 178.155 Q1777.96 180.75 1773.37 185.434 Z\" fill=\"#000000\" fill-rule=\"evenodd\" fill-opacity=\"1\" /><path clip-path=\"url(#clip060)\" d=\"M 0 0 M1910.74 12.096 L1922.94 12.096 L1938.37 53.2532 L1953.88 12.096 L1966.08 12.096 L1966.08 72.576 L1958.1 72.576 L1958.1 19.4686 L1942.5 60.9499 L1934.28 60.9499 L1918.68 19.4686 L1918.68 72.576 L1910.74 72.576 L1910.74 12.096 Z\" fill=\"#000000\" fill-rule=\"evenodd\" fill-opacity=\"1\" /><path clip-path=\"url(#clip060)\" d=\"M 0 0 M2012.7 48.0275 L2012.7 51.6733 L1978.43 51.6733 Q1978.92 59.3701 1983.05 63.421 Q1987.22 67.4314 1994.64 67.4314 Q1998.93 67.4314 2002.94 66.3781 Q2006.99 65.3249 2010.96 63.2184 L2010.96 70.267 Q2006.95 71.9684 2002.74 72.8596 Q1998.53 73.7508 1994.19 73.7508 Q1983.33 73.7508 1976.97 67.4314 Q1970.66 61.1119 1970.66 50.3365 Q1970.66 39.1965 1976.65 32.6746 Q1982.69 26.1121 1992.89 26.1121 Q2002.05 26.1121 2007.36 32.0264 Q2012.7 37.9003 2012.7 48.0275 M2005.25 45.84 Q2005.17 39.7232 2001.81 36.0774 Q1998.49 32.4315 1992.98 32.4315 Q1986.74 32.4315 1982.97 35.9558 Q1979.24 39.4801 1978.68 45.8805 L2005.25 45.84 Z\" fill=\"#000000\" fill-rule=\"evenodd\" fill-opacity=\"1\" /><path clip-path=\"url(#clip060)\" d=\"M 0 0 M2027.89 14.324 L2027.89 27.2059 L2043.25 27.2059 L2043.25 32.9987 L2027.89 32.9987 L2027.89 57.6282 Q2027.89 63.1779 2029.39 64.7578 Q2030.93 66.3376 2035.59 66.3376 L2043.25 66.3376 L2043.25 72.576 L2035.59 72.576 Q2026.96 72.576 2023.68 69.3758 Q2020.4 66.1351 2020.4 57.6282 L2020.4 32.9987 L2014.93 32.9987 L2014.93 27.2059 L2020.4 27.2059 L2020.4 14.324 L2027.89 14.324 Z\" fill=\"#000000\" fill-rule=\"evenodd\" fill-opacity=\"1\" /><path clip-path=\"url(#clip060)\" d=\"M 0 0 M2088.78 45.1919 L2088.78 72.576 L2081.33 72.576 L2081.33 45.4349 Q2081.33 38.994 2078.81 35.7938 Q2076.3 32.5936 2071.28 32.5936 Q2065.24 32.5936 2061.76 36.4419 Q2058.28 40.2903 2058.28 46.9338 L2058.28 72.576 L2050.78 72.576 L2050.78 9.54393 L2058.28 9.54393 L2058.28 34.2544 Q2060.95 30.163 2064.56 28.1376 Q2068.2 26.1121 2072.94 26.1121 Q2080.76 26.1121 2084.77 30.9732 Q2088.78 35.7938 2088.78 45.1919 Z\" fill=\"#000000\" fill-rule=\"evenodd\" fill-opacity=\"1\" /><path clip-path=\"url(#clip060)\" d=\"M 0 0 M2114.18 32.4315 Q2108.18 32.4315 2104.7 37.1306 Q2101.22 41.7891 2101.22 49.9314 Q2101.22 58.0738 2104.66 62.7728 Q2108.14 67.4314 2114.18 67.4314 Q2120.13 67.4314 2123.62 62.7323 Q2127.1 58.0333 2127.1 49.9314 Q2127.1 41.8701 2123.62 37.1711 Q2120.13 32.4315 2114.18 32.4315 M2114.18 26.1121 Q2123.9 26.1121 2129.45 32.4315 Q2135 38.7509 2135 49.9314 Q2135 61.0714 2129.45 67.4314 Q2123.9 73.7508 2114.18 73.7508 Q2104.42 73.7508 2098.87 67.4314 Q2093.36 61.0714 2093.36 49.9314 Q2093.36 38.7509 2098.87 32.4315 Q2104.42 26.1121 2114.18 26.1121 Z\" fill=\"#000000\" fill-rule=\"evenodd\" fill-opacity=\"1\" /><path clip-path=\"url(#clip060)\" d=\"M 0 0 M2172.67 34.0924 L2172.67 9.54393 L2180.13 9.54393 L2180.13 72.576 L2172.67 72.576 L2172.67 65.7705 Q2170.32 69.8214 2166.72 71.8063 Q2163.15 73.7508 2158.13 73.7508 Q2149.91 73.7508 2144.72 67.1883 Q2139.58 60.6258 2139.58 49.9314 Q2139.58 39.2371 2144.72 32.6746 Q2149.91 26.1121 2158.13 26.1121 Q2163.15 26.1121 2166.72 28.0971 Q2170.32 30.0415 2172.67 34.0924 M2147.27 49.9314 Q2147.27 58.1548 2150.64 62.8538 Q2154.04 67.5124 2159.95 67.5124 Q2165.87 67.5124 2169.27 62.8538 Q2172.67 58.1548 2172.67 49.9314 Q2172.67 41.7081 2169.27 37.0496 Q2165.87 32.3505 2159.95 32.3505 Q2154.04 32.3505 2150.64 37.0496 Q2147.27 41.7081 2147.27 49.9314 Z\" fill=\"#000000\" fill-rule=\"evenodd\" fill-opacity=\"1\" /><path clip-path=\"url(#clip060)\" d=\"M 0 0 M2240.16 39.9662 Q2246.04 41.222 2249.32 45.1919 Q2252.64 49.1618 2252.64 54.9951 Q2252.64 63.9476 2246.48 68.8492 Q2240.32 73.7508 2228.98 73.7508 Q2225.17 73.7508 2221.12 72.9811 Q2217.11 72.2519 2212.82 70.7531 L2212.82 62.8538 Q2216.22 64.8388 2220.27 65.8515 Q2224.32 66.8642 2228.74 66.8642 Q2236.44 66.8642 2240.45 63.826 Q2244.5 60.7879 2244.5 54.9951 Q2244.5 49.6479 2240.73 46.6502 Q2237 43.612 2230.32 43.612 L2223.27 43.612 L2223.27 36.8875 L2230.64 36.8875 Q2236.68 36.8875 2239.88 34.4975 Q2243.08 32.067 2243.08 27.5299 Q2243.08 22.8714 2239.76 20.4004 Q2236.48 17.8888 2230.32 17.8888 Q2226.96 17.8888 2223.11 18.618 Q2219.26 19.3471 2214.64 20.8865 L2214.64 13.5948 Q2219.3 12.2985 2223.35 11.6504 Q2227.44 11.0023 2231.05 11.0023 Q2240.36 11.0023 2245.79 15.2557 Q2251.22 19.4686 2251.22 26.6793 Q2251.22 31.7024 2248.35 35.1862 Q2245.47 38.6294 2240.16 39.9662 Z\" fill=\"#000000\" fill-rule=\"evenodd\" fill-opacity=\"1\" /><polyline clip-path=\"url(#clip064)\" style=\"stroke:#009af9; stroke-width:4; stroke-opacity:1; fill:none\" points=\"\n",
       "  1825.97,139.405 1842.47,155.793 1858.97,175.685 1875.46,200.65 1891.96,233.865 1908.46,283.36 1924.96,383.655 1941.46,389.477 1957.95,301.331 1974.45,264.184 \n",
       "  1990.95,389.477 2007.45,244.255 2023.95,495.285 2040.45,496.495 2056.94,496.496 2073.44,496.5 2089.94,496.551 2106.44,496.641 2122.94,499.903 2139.43,535.305 \n",
       "  2155.93,651.13 2172.43,670.194 2188.93,670.488 2205.43,670.493 2221.93,670.494 2238.42,670.497 2254.92,670.508 2271.42,670.512 2287.92,670.514 2304.42,670.515 \n",
       "  2320.91,670.515 2337.41,670.515 \n",
       "  \"/>\n",
       "<path clip-path=\"url(#clip060)\" d=\"\n",
       "M1989.74 327.952 L2280.76 327.952 L2280.76 206.992 L1989.74 206.992  Z\n",
       "  \" fill=\"#ffffff\" fill-rule=\"evenodd\" fill-opacity=\"1\"/>\n",
       "<polyline clip-path=\"url(#clip060)\" style=\"stroke:#000000; stroke-width:4; stroke-opacity:1; fill:none\" points=\"\n",
       "  1989.74,327.952 2280.76,327.952 2280.76,206.992 1989.74,206.992 1989.74,327.952 \n",
       "  \"/>\n",
       "<polyline clip-path=\"url(#clip060)\" style=\"stroke:#009af9; stroke-width:4; stroke-opacity:1; fill:none\" points=\"\n",
       "  2013.74,267.472 2157.74,267.472 \n",
       "  \"/>\n",
       "<path clip-path=\"url(#clip060)\" d=\"M 0 0 M2195.58 287.16 Q2193.77 291.789 2192.06 293.201 Q2190.35 294.613 2187.48 294.613 L2184.08 294.613 L2184.08 291.048 L2186.58 291.048 Q2188.33 291.048 2189.31 290.215 Q2190.28 289.382 2191.46 286.28 L2192.22 284.335 L2181.74 258.826 L2186.25 258.826 L2194.35 279.104 L2202.46 258.826 L2206.97 258.826 L2195.58 287.16 Z\" fill=\"#000000\" fill-rule=\"evenodd\" fill-opacity=\"1\" /><path clip-path=\"url(#clip060)\" d=\"M 0 0 M2212.85 280.817 L2220.49 280.817 L2220.49 254.451 L2212.18 256.118 L2212.18 251.859 L2220.44 250.192 L2225.12 250.192 L2225.12 280.817 L2232.76 280.817 L2232.76 284.752 L2212.85 284.752 L2212.85 280.817 Z\" fill=\"#000000\" fill-rule=\"evenodd\" fill-opacity=\"1\" /><path clip-path=\"url(#clip060)\" d=\"\n",
       "M211.575 1486.45 L753.705 1486.45 L753.705 923.472 L211.575 923.472  Z\n",
       "  \" fill=\"#ffffff\" fill-rule=\"evenodd\" fill-opacity=\"1\"/>\n",
       "<defs>\n",
       "  <clipPath id=\"clip065\">\n",
       "    <rect x=\"211\" y=\"923\" width=\"543\" height=\"564\"/>\n",
       "  </clipPath>\n",
       "</defs>\n",
       "<polyline clip-path=\"url(#clip065)\" style=\"stroke:#000000; stroke-width:2; stroke-opacity:0.1; fill:none\" points=\"\n",
       "  226.165,1486.45 226.165,923.472 \n",
       "  \"/>\n",
       "<polyline clip-path=\"url(#clip065)\" style=\"stroke:#000000; stroke-width:2; stroke-opacity:0.1; fill:none\" points=\"\n",
       "  376.811,1486.45 376.811,923.472 \n",
       "  \"/>\n",
       "<polyline clip-path=\"url(#clip065)\" style=\"stroke:#000000; stroke-width:2; stroke-opacity:0.1; fill:none\" points=\"\n",
       "  527.457,1486.45 527.457,923.472 \n",
       "  \"/>\n",
       "<polyline clip-path=\"url(#clip065)\" style=\"stroke:#000000; stroke-width:2; stroke-opacity:0.1; fill:none\" points=\"\n",
       "  678.103,1486.45 678.103,923.472 \n",
       "  \"/>\n",
       "<polyline clip-path=\"url(#clip065)\" style=\"stroke:#000000; stroke-width:2; stroke-opacity:0.1; fill:none\" points=\"\n",
       "  211.575,1456.51 753.705,1456.51 \n",
       "  \"/>\n",
       "<polyline clip-path=\"url(#clip065)\" style=\"stroke:#000000; stroke-width:2; stroke-opacity:0.1; fill:none\" points=\"\n",
       "  211.575,1377.06 753.705,1377.06 \n",
       "  \"/>\n",
       "<polyline clip-path=\"url(#clip065)\" style=\"stroke:#000000; stroke-width:2; stroke-opacity:0.1; fill:none\" points=\"\n",
       "  211.575,1297.61 753.705,1297.61 \n",
       "  \"/>\n",
       "<polyline clip-path=\"url(#clip065)\" style=\"stroke:#000000; stroke-width:2; stroke-opacity:0.1; fill:none\" points=\"\n",
       "  211.575,1218.15 753.705,1218.15 \n",
       "  \"/>\n",
       "<polyline clip-path=\"url(#clip065)\" style=\"stroke:#000000; stroke-width:2; stroke-opacity:0.1; fill:none\" points=\"\n",
       "  211.575,1138.7 753.705,1138.7 \n",
       "  \"/>\n",
       "<polyline clip-path=\"url(#clip065)\" style=\"stroke:#000000; stroke-width:2; stroke-opacity:0.1; fill:none\" points=\"\n",
       "  211.575,1059.24 753.705,1059.24 \n",
       "  \"/>\n",
       "<polyline clip-path=\"url(#clip065)\" style=\"stroke:#000000; stroke-width:2; stroke-opacity:0.1; fill:none\" points=\"\n",
       "  211.575,979.791 753.705,979.791 \n",
       "  \"/>\n",
       "<polyline clip-path=\"url(#clip060)\" style=\"stroke:#000000; stroke-width:4; stroke-opacity:1; fill:none\" points=\"\n",
       "  211.575,1486.45 753.705,1486.45 \n",
       "  \"/>\n",
       "<polyline clip-path=\"url(#clip060)\" style=\"stroke:#000000; stroke-width:4; stroke-opacity:1; fill:none\" points=\"\n",
       "  211.575,1486.45 211.575,923.472 \n",
       "  \"/>\n",
       "<polyline clip-path=\"url(#clip060)\" style=\"stroke:#000000; stroke-width:4; stroke-opacity:1; fill:none\" points=\"\n",
       "  226.165,1486.45 226.165,1479.69 \n",
       "  \"/>\n",
       "<polyline clip-path=\"url(#clip060)\" style=\"stroke:#000000; stroke-width:4; stroke-opacity:1; fill:none\" points=\"\n",
       "  376.811,1486.45 376.811,1479.69 \n",
       "  \"/>\n",
       "<polyline clip-path=\"url(#clip060)\" style=\"stroke:#000000; stroke-width:4; stroke-opacity:1; fill:none\" points=\"\n",
       "  527.457,1486.45 527.457,1479.69 \n",
       "  \"/>\n",
       "<polyline clip-path=\"url(#clip060)\" style=\"stroke:#000000; stroke-width:4; stroke-opacity:1; fill:none\" points=\"\n",
       "  678.103,1486.45 678.103,1479.69 \n",
       "  \"/>\n",
       "<polyline clip-path=\"url(#clip060)\" style=\"stroke:#000000; stroke-width:4; stroke-opacity:1; fill:none\" points=\"\n",
       "  211.575,1456.51 218.08,1456.51 \n",
       "  \"/>\n",
       "<polyline clip-path=\"url(#clip060)\" style=\"stroke:#000000; stroke-width:4; stroke-opacity:1; fill:none\" points=\"\n",
       "  211.575,1377.06 218.08,1377.06 \n",
       "  \"/>\n",
       "<polyline clip-path=\"url(#clip060)\" style=\"stroke:#000000; stroke-width:4; stroke-opacity:1; fill:none\" points=\"\n",
       "  211.575,1297.61 218.08,1297.61 \n",
       "  \"/>\n",
       "<polyline clip-path=\"url(#clip060)\" style=\"stroke:#000000; stroke-width:4; stroke-opacity:1; fill:none\" points=\"\n",
       "  211.575,1218.15 218.08,1218.15 \n",
       "  \"/>\n",
       "<polyline clip-path=\"url(#clip060)\" style=\"stroke:#000000; stroke-width:4; stroke-opacity:1; fill:none\" points=\"\n",
       "  211.575,1138.7 218.08,1138.7 \n",
       "  \"/>\n",
       "<polyline clip-path=\"url(#clip060)\" style=\"stroke:#000000; stroke-width:4; stroke-opacity:1; fill:none\" points=\"\n",
       "  211.575,1059.24 218.08,1059.24 \n",
       "  \"/>\n",
       "<polyline clip-path=\"url(#clip060)\" style=\"stroke:#000000; stroke-width:4; stroke-opacity:1; fill:none\" points=\"\n",
       "  211.575,979.791 218.08,979.791 \n",
       "  \"/>\n",
       "<path clip-path=\"url(#clip060)\" d=\"M 0 0 M226.165 1508.44 Q222.554 1508.44 220.725 1512 Q218.92 1515.55 218.92 1522.67 Q218.92 1529.78 220.725 1533.35 Q222.554 1536.89 226.165 1536.89 Q229.799 1536.89 231.605 1533.35 Q233.433 1529.78 233.433 1522.67 Q233.433 1515.55 231.605 1512 Q229.799 1508.44 226.165 1508.44 M226.165 1504.73 Q231.975 1504.73 235.031 1509.34 Q238.109 1513.92 238.109 1522.67 Q238.109 1531.4 235.031 1536.01 Q231.975 1540.59 226.165 1540.59 Q220.355 1540.59 217.276 1536.01 Q214.22 1531.4 214.22 1522.67 Q214.22 1513.92 217.276 1509.34 Q220.355 1504.73 226.165 1504.73 Z\" fill=\"#000000\" fill-rule=\"evenodd\" fill-opacity=\"1\" /><path clip-path=\"url(#clip060)\" d=\"M 0 0 M344.45 1535.98 L360.769 1535.98 L360.769 1539.92 L338.825 1539.92 L338.825 1535.98 Q341.487 1533.23 346.07 1528.6 Q350.677 1523.95 351.857 1522.61 Q354.103 1520.08 354.982 1518.35 Q355.885 1516.59 355.885 1514.9 Q355.885 1512.14 353.941 1510.41 Q352.019 1508.67 348.918 1508.67 Q346.719 1508.67 344.265 1509.43 Q341.834 1510.2 339.057 1511.75 L339.057 1507.03 Q341.881 1505.89 344.334 1505.31 Q346.788 1504.73 348.825 1504.73 Q354.195 1504.73 357.39 1507.42 Q360.584 1510.11 360.584 1514.6 Q360.584 1516.73 359.774 1518.65 Q358.987 1520.54 356.881 1523.14 Q356.302 1523.81 353.2 1527.03 Q350.098 1530.22 344.45 1535.98 Z\" fill=\"#000000\" fill-rule=\"evenodd\" fill-opacity=\"1\" /><path clip-path=\"url(#clip060)\" d=\"M 0 0 M375.839 1508.44 Q372.228 1508.44 370.399 1512 Q368.593 1515.55 368.593 1522.67 Q368.593 1529.78 370.399 1533.35 Q372.228 1536.89 375.839 1536.89 Q379.473 1536.89 381.279 1533.35 Q383.107 1529.78 383.107 1522.67 Q383.107 1515.55 381.279 1512 Q379.473 1508.44 375.839 1508.44 M375.839 1504.73 Q381.649 1504.73 384.704 1509.34 Q387.783 1513.92 387.783 1522.67 Q387.783 1531.4 384.704 1536.01 Q381.649 1540.59 375.839 1540.59 Q370.029 1540.59 366.95 1536.01 Q363.894 1531.4 363.894 1522.67 Q363.894 1513.92 366.95 1509.34 Q370.029 1504.73 375.839 1504.73 Z\" fill=\"#000000\" fill-rule=\"evenodd\" fill-opacity=\"1\" /><path clip-path=\"url(#clip060)\" d=\"M 0 0 M402.853 1508.44 Q399.241 1508.44 397.413 1512 Q395.607 1515.55 395.607 1522.67 Q395.607 1529.78 397.413 1533.35 Q399.241 1536.89 402.853 1536.89 Q406.487 1536.89 408.292 1533.35 Q410.121 1529.78 410.121 1522.67 Q410.121 1515.55 408.292 1512 Q406.487 1508.44 402.853 1508.44 M402.853 1504.73 Q408.663 1504.73 411.718 1509.34 Q414.797 1513.92 414.797 1522.67 Q414.797 1531.4 411.718 1536.01 Q408.663 1540.59 402.853 1540.59 Q397.042 1540.59 393.964 1536.01 Q390.908 1531.4 390.908 1522.67 Q390.908 1513.92 393.964 1509.34 Q397.042 1504.73 402.853 1504.73 Z\" fill=\"#000000\" fill-rule=\"evenodd\" fill-opacity=\"1\" /><path clip-path=\"url(#clip060)\" d=\"M 0 0 M503.453 1509.43 L491.647 1527.88 L503.453 1527.88 L503.453 1509.43 M502.226 1505.36 L508.105 1505.36 L508.105 1527.88 L513.036 1527.88 L513.036 1531.77 L508.105 1531.77 L508.105 1539.92 L503.453 1539.92 L503.453 1531.77 L487.851 1531.77 L487.851 1527.26 L502.226 1505.36 Z\" fill=\"#000000\" fill-rule=\"evenodd\" fill-opacity=\"1\" /><path clip-path=\"url(#clip060)\" d=\"M 0 0 M528.105 1508.44 Q524.494 1508.44 522.665 1512 Q520.86 1515.55 520.86 1522.67 Q520.86 1529.78 522.665 1533.35 Q524.494 1536.89 528.105 1536.89 Q531.739 1536.89 533.545 1533.35 Q535.374 1529.78 535.374 1522.67 Q535.374 1515.55 533.545 1512 Q531.739 1508.44 528.105 1508.44 M528.105 1504.73 Q533.915 1504.73 536.971 1509.34 Q540.05 1513.92 540.05 1522.67 Q540.05 1531.4 536.971 1536.01 Q533.915 1540.59 528.105 1540.59 Q522.295 1540.59 519.216 1536.01 Q516.161 1531.4 516.161 1522.67 Q516.161 1513.92 519.216 1509.34 Q522.295 1504.73 528.105 1504.73 Z\" fill=\"#000000\" fill-rule=\"evenodd\" fill-opacity=\"1\" /><path clip-path=\"url(#clip060)\" d=\"M 0 0 M555.119 1508.44 Q551.508 1508.44 549.679 1512 Q547.874 1515.55 547.874 1522.67 Q547.874 1529.78 549.679 1533.35 Q551.508 1536.89 555.119 1536.89 Q558.753 1536.89 560.559 1533.35 Q562.387 1529.78 562.387 1522.67 Q562.387 1515.55 560.559 1512 Q558.753 1508.44 555.119 1508.44 M555.119 1504.73 Q560.929 1504.73 563.985 1509.34 Q567.063 1513.92 567.063 1522.67 Q567.063 1531.4 563.985 1536.01 Q560.929 1540.59 555.119 1540.59 Q549.309 1540.59 546.23 1536.01 Q543.175 1531.4 543.175 1522.67 Q543.175 1513.92 546.23 1509.34 Q549.309 1504.73 555.119 1504.73 Z\" fill=\"#000000\" fill-rule=\"evenodd\" fill-opacity=\"1\" /><path clip-path=\"url(#clip060)\" d=\"M 0 0 M651.495 1520.78 Q648.346 1520.78 646.495 1522.93 Q644.666 1525.08 644.666 1528.83 Q644.666 1532.56 646.495 1534.73 Q648.346 1536.89 651.495 1536.89 Q654.643 1536.89 656.471 1534.73 Q658.323 1532.56 658.323 1528.83 Q658.323 1525.08 656.471 1522.93 Q654.643 1520.78 651.495 1520.78 M660.777 1506.12 L660.777 1510.38 Q659.018 1509.55 657.212 1509.11 Q655.43 1508.67 653.67 1508.67 Q649.041 1508.67 646.587 1511.8 Q644.157 1514.92 643.809 1521.24 Q645.175 1519.23 647.235 1518.16 Q649.296 1517.07 651.772 1517.07 Q656.981 1517.07 659.99 1520.24 Q663.022 1523.39 663.022 1528.83 Q663.022 1534.16 659.874 1537.37 Q656.726 1540.59 651.495 1540.59 Q645.499 1540.59 642.328 1536.01 Q639.157 1531.4 639.157 1522.67 Q639.157 1514.48 643.046 1509.62 Q646.934 1504.73 653.485 1504.73 Q655.245 1504.73 657.027 1505.08 Q658.832 1505.43 660.777 1506.12 Z\" fill=\"#000000\" fill-rule=\"evenodd\" fill-opacity=\"1\" /><path clip-path=\"url(#clip060)\" d=\"M 0 0 M678.092 1508.44 Q674.481 1508.44 672.652 1512 Q670.846 1515.55 670.846 1522.67 Q670.846 1529.78 672.652 1533.35 Q674.481 1536.89 678.092 1536.89 Q681.726 1536.89 683.531 1533.35 Q685.36 1529.78 685.36 1522.67 Q685.36 1515.55 683.531 1512 Q681.726 1508.44 678.092 1508.44 M678.092 1504.73 Q683.902 1504.73 686.957 1509.34 Q690.036 1513.92 690.036 1522.67 Q690.036 1531.4 686.957 1536.01 Q683.902 1540.59 678.092 1540.59 Q672.281 1540.59 669.203 1536.01 Q666.147 1531.4 666.147 1522.67 Q666.147 1513.92 669.203 1509.34 Q672.281 1504.73 678.092 1504.73 Z\" fill=\"#000000\" fill-rule=\"evenodd\" fill-opacity=\"1\" /><path clip-path=\"url(#clip060)\" d=\"M 0 0 M705.105 1508.44 Q701.494 1508.44 699.666 1512 Q697.86 1515.55 697.86 1522.67 Q697.86 1529.78 699.666 1533.35 Q701.494 1536.89 705.105 1536.89 Q708.74 1536.89 710.545 1533.35 Q712.374 1529.78 712.374 1522.67 Q712.374 1515.55 710.545 1512 Q708.74 1508.44 705.105 1508.44 M705.105 1504.73 Q710.916 1504.73 713.971 1509.34 Q717.05 1513.92 717.05 1522.67 Q717.05 1531.4 713.971 1536.01 Q710.916 1540.59 705.105 1540.59 Q699.295 1540.59 696.217 1536.01 Q693.161 1531.4 693.161 1522.67 Q693.161 1513.92 696.217 1509.34 Q699.295 1504.73 705.105 1504.73 Z\" fill=\"#000000\" fill-rule=\"evenodd\" fill-opacity=\"1\" /><path clip-path=\"url(#clip060)\" d=\"M 0 0 M96.0793 1476.3 L103.718 1476.3 L103.718 1449.94 L95.408 1451.61 L95.408 1447.35 L103.672 1445.68 L108.348 1445.68 L108.348 1476.3 L115.987 1476.3 L115.987 1480.24 L96.0793 1480.24 L96.0793 1476.3 Z\" fill=\"#000000\" fill-rule=\"evenodd\" fill-opacity=\"1\" /><path clip-path=\"url(#clip060)\" d=\"M 0 0 M131.056 1448.76 Q127.445 1448.76 125.616 1452.32 Q123.811 1455.87 123.811 1462.99 Q123.811 1470.1 125.616 1473.67 Q127.445 1477.21 131.056 1477.21 Q134.69 1477.21 136.496 1473.67 Q138.324 1470.1 138.324 1462.99 Q138.324 1455.87 136.496 1452.32 Q134.69 1448.76 131.056 1448.76 M131.056 1445.06 Q136.866 1445.06 139.922 1449.66 Q143 1454.24 143 1462.99 Q143 1471.72 139.922 1476.33 Q136.866 1480.91 131.056 1480.91 Q125.246 1480.91 122.167 1476.33 Q119.112 1471.72 119.112 1462.99 Q119.112 1454.24 122.167 1449.66 Q125.246 1445.06 131.056 1445.06 Z\" fill=\"#000000\" fill-rule=\"evenodd\" fill-opacity=\"1\" /><path clip-path=\"url(#clip060)\" d=\"M 0 0 M143 1440.74 L153.138 1440.74 L153.138 1443.82 L143 1443.82 L143 1440.74 Z\" fill=\"#000000\" fill-rule=\"evenodd\" fill-opacity=\"1\" /><path clip-path=\"url(#clip060)\" d=\"M 0 0 M179.788 1428.06 L170.196 1443.05 L179.788 1443.05 L179.788 1428.06 M178.792 1424.75 L183.569 1424.75 L183.569 1443.05 L187.575 1443.05 L187.575 1446.21 L183.569 1446.21 L183.569 1452.83 L179.788 1452.83 L179.788 1446.21 L167.112 1446.21 L167.112 1442.54 L178.792 1424.75 Z\" fill=\"#000000\" fill-rule=\"evenodd\" fill-opacity=\"1\" /><path clip-path=\"url(#clip060)\" d=\"M 0 0 M98.0541 1396.85 L105.693 1396.85 L105.693 1370.49 L97.3829 1372.15 L97.3829 1367.89 L105.647 1366.23 L110.323 1366.23 L110.323 1396.85 L117.961 1396.85 L117.961 1400.79 L98.0541 1400.79 L98.0541 1396.85 Z\" fill=\"#000000\" fill-rule=\"evenodd\" fill-opacity=\"1\" /><path clip-path=\"url(#clip060)\" d=\"M 0 0 M133.031 1369.31 Q129.42 1369.31 127.591 1372.87 Q125.785 1376.41 125.785 1383.54 Q125.785 1390.65 127.591 1394.21 Q129.42 1397.75 133.031 1397.75 Q136.665 1397.75 138.471 1394.21 Q140.299 1390.65 140.299 1383.54 Q140.299 1376.41 138.471 1372.87 Q136.665 1369.31 133.031 1369.31 M133.031 1365.6 Q138.841 1365.6 141.897 1370.21 Q144.975 1374.79 144.975 1383.54 Q144.975 1392.27 141.897 1396.87 Q138.841 1401.46 133.031 1401.46 Q127.221 1401.46 124.142 1396.87 Q121.086 1392.27 121.086 1383.54 Q121.086 1374.79 124.142 1370.21 Q127.221 1365.6 133.031 1365.6 Z\" fill=\"#000000\" fill-rule=\"evenodd\" fill-opacity=\"1\" /><path clip-path=\"url(#clip060)\" d=\"M 0 0 M144.975 1361.28 L155.113 1361.28 L155.113 1364.37 L144.975 1364.37 L144.975 1361.28 Z\" fill=\"#000000\" fill-rule=\"evenodd\" fill-opacity=\"1\" /><path clip-path=\"url(#clip060)\" d=\"M 0 0 M181.782 1358.24 Q184.509 1358.82 186.033 1360.66 Q187.575 1362.51 187.575 1365.21 Q187.575 1369.37 184.716 1371.65 Q181.857 1373.92 176.591 1373.92 Q174.823 1373.92 172.942 1373.56 Q171.08 1373.23 169.087 1372.53 L169.087 1368.86 Q170.667 1369.78 172.547 1370.25 Q174.428 1370.72 176.478 1370.72 Q180.052 1370.72 181.914 1369.31 Q183.794 1367.9 183.794 1365.21 Q183.794 1362.73 182.045 1361.34 Q180.315 1359.93 177.212 1359.93 L173.939 1359.93 L173.939 1356.81 L177.362 1356.81 Q180.165 1356.81 181.65 1355.7 Q183.136 1354.57 183.136 1352.46 Q183.136 1350.3 181.594 1349.15 Q180.07 1347.99 177.212 1347.99 Q175.651 1347.99 173.864 1348.32 Q172.077 1348.66 169.933 1349.38 L169.933 1345.99 Q172.096 1345.39 173.977 1345.09 Q175.876 1344.79 177.55 1344.79 Q181.876 1344.79 184.396 1346.76 Q186.917 1348.72 186.917 1352.07 Q186.917 1354.4 185.581 1356.02 Q184.246 1357.62 181.782 1358.24 Z\" fill=\"#000000\" fill-rule=\"evenodd\" fill-opacity=\"1\" /><path clip-path=\"url(#clip060)\" d=\"M 0 0 M98.7124 1317.4 L106.351 1317.4 L106.351 1291.03 L98.0411 1292.7 L98.0411 1288.44 L106.305 1286.77 L110.981 1286.77 L110.981 1317.4 L118.62 1317.4 L118.62 1321.33 L98.7124 1321.33 L98.7124 1317.4 Z\" fill=\"#000000\" fill-rule=\"evenodd\" fill-opacity=\"1\" /><path clip-path=\"url(#clip060)\" d=\"M 0 0 M133.689 1289.85 Q130.078 1289.85 128.249 1293.42 Q126.444 1296.96 126.444 1304.09 Q126.444 1311.19 128.249 1314.76 Q130.078 1318.3 133.689 1318.3 Q137.323 1318.3 139.129 1314.76 Q140.958 1311.19 140.958 1304.09 Q140.958 1296.96 139.129 1293.42 Q137.323 1289.85 133.689 1289.85 M133.689 1286.15 Q139.499 1286.15 142.555 1290.75 Q145.633 1295.34 145.633 1304.09 Q145.633 1312.81 142.555 1317.42 Q139.499 1322 133.689 1322 Q127.879 1322 124.8 1317.42 Q121.745 1312.81 121.745 1304.09 Q121.745 1295.34 124.8 1290.75 Q127.879 1286.15 133.689 1286.15 Z\" fill=\"#000000\" fill-rule=\"evenodd\" fill-opacity=\"1\" /><path clip-path=\"url(#clip060)\" d=\"M 0 0 M145.633 1281.83 L155.771 1281.83 L155.771 1284.91 L145.633 1284.91 L145.633 1281.83 Z\" fill=\"#000000\" fill-rule=\"evenodd\" fill-opacity=\"1\" /><path clip-path=\"url(#clip060)\" d=\"M 0 0 M174.315 1290.73 L187.575 1290.73 L187.575 1293.92 L169.745 1293.92 L169.745 1290.73 Q171.908 1288.49 175.632 1284.73 Q179.375 1280.95 180.334 1279.85 Q182.158 1277.8 182.873 1276.39 Q183.606 1274.96 183.606 1273.59 Q183.606 1271.35 182.026 1269.94 Q180.465 1268.53 177.945 1268.53 Q176.158 1268.53 174.165 1269.15 Q172.19 1269.77 169.933 1271.03 L169.933 1267.2 Q172.228 1266.28 174.221 1265.8 Q176.215 1265.33 177.87 1265.33 Q182.233 1265.33 184.829 1267.52 Q187.424 1269.7 187.424 1273.35 Q187.424 1275.08 186.766 1276.64 Q186.127 1278.18 184.415 1280.29 Q183.945 1280.83 181.425 1283.45 Q178.904 1286.04 174.315 1290.73 Z\" fill=\"#000000\" fill-rule=\"evenodd\" fill-opacity=\"1\" /><path clip-path=\"url(#clip060)\" d=\"M 0 0 M99.8221 1237.94 L107.461 1237.94 L107.461 1211.58 L99.1508 1213.25 L99.1508 1208.99 L107.415 1207.32 L112.091 1207.32 L112.091 1237.94 L119.729 1237.94 L119.729 1241.88 L99.8221 1241.88 L99.8221 1237.94 Z\" fill=\"#000000\" fill-rule=\"evenodd\" fill-opacity=\"1\" /><path clip-path=\"url(#clip060)\" d=\"M 0 0 M134.799 1210.4 Q131.188 1210.4 129.359 1213.96 Q127.553 1217.5 127.553 1224.63 Q127.553 1231.74 129.359 1235.31 Q131.188 1238.85 134.799 1238.85 Q138.433 1238.85 140.239 1235.31 Q142.067 1231.74 142.067 1224.63 Q142.067 1217.5 140.239 1213.96 Q138.433 1210.4 134.799 1210.4 M134.799 1206.69 Q140.609 1206.69 143.664 1211.3 Q146.743 1215.88 146.743 1224.63 Q146.743 1233.36 143.664 1237.97 Q140.609 1242.55 134.799 1242.55 Q128.989 1242.55 125.91 1237.97 Q122.854 1233.36 122.854 1224.63 Q122.854 1215.88 125.91 1211.3 Q128.989 1206.69 134.799 1206.69 Z\" fill=\"#000000\" fill-rule=\"evenodd\" fill-opacity=\"1\" /><path clip-path=\"url(#clip060)\" d=\"M 0 0 M146.743 1202.38 L156.881 1202.38 L156.881 1205.46 L146.743 1205.46 L146.743 1202.38 Z\" fill=\"#000000\" fill-rule=\"evenodd\" fill-opacity=\"1\" /><path clip-path=\"url(#clip060)\" d=\"M 0 0 M171.4 1211.27 L177.607 1211.27 L177.607 1189.85 L170.855 1191.2 L170.855 1187.74 L177.569 1186.39 L181.368 1186.39 L181.368 1211.27 L187.575 1211.27 L187.575 1214.47 L171.4 1214.47 L171.4 1211.27 Z\" fill=\"#000000\" fill-rule=\"evenodd\" fill-opacity=\"1\" /><path clip-path=\"url(#clip060)\" d=\"M 0 0 M121.244 1158.49 L128.883 1158.49 L128.883 1132.13 L120.573 1133.79 L120.573 1129.53 L128.837 1127.87 L133.513 1127.87 L133.513 1158.49 L141.151 1158.49 L141.151 1162.43 L121.244 1162.43 L121.244 1158.49 Z\" fill=\"#000000\" fill-rule=\"evenodd\" fill-opacity=\"1\" /><path clip-path=\"url(#clip060)\" d=\"M 0 0 M156.221 1130.94 Q152.61 1130.94 150.781 1134.51 Q148.975 1138.05 148.975 1145.18 Q148.975 1152.29 150.781 1155.85 Q152.61 1159.39 156.221 1159.39 Q159.855 1159.39 161.661 1155.85 Q163.489 1152.29 163.489 1145.18 Q163.489 1138.05 161.661 1134.51 Q159.855 1130.94 156.221 1130.94 M156.221 1127.24 Q162.031 1127.24 165.086 1131.85 Q168.165 1136.43 168.165 1145.18 Q168.165 1153.91 165.086 1158.51 Q162.031 1163.1 156.221 1163.1 Q150.411 1163.1 147.332 1158.51 Q144.276 1153.91 144.276 1145.18 Q144.276 1136.43 147.332 1131.85 Q150.411 1127.24 156.221 1127.24 Z\" fill=\"#000000\" fill-rule=\"evenodd\" fill-opacity=\"1\" /><path clip-path=\"url(#clip060)\" d=\"M 0 0 M177.87 1109.44 Q174.936 1109.44 173.45 1112.33 Q171.983 1115.21 171.983 1121 Q171.983 1126.78 173.45 1129.67 Q174.936 1132.55 177.87 1132.55 Q180.823 1132.55 182.29 1129.67 Q183.776 1126.78 183.776 1121 Q183.776 1115.21 182.29 1112.33 Q180.823 1109.44 177.87 1109.44 M177.87 1106.43 Q182.591 1106.43 185.073 1110.17 Q187.575 1113.89 187.575 1121 Q187.575 1128.09 185.073 1131.84 Q182.591 1135.56 177.87 1135.56 Q173.149 1135.56 170.648 1131.84 Q168.165 1128.09 168.165 1121 Q168.165 1113.89 170.648 1110.17 Q173.149 1106.43 177.87 1106.43 Z\" fill=\"#000000\" fill-rule=\"evenodd\" fill-opacity=\"1\" /><path clip-path=\"url(#clip060)\" d=\"M 0 0 M123.934 1079.04 L131.572 1079.04 L131.572 1052.67 L123.262 1054.34 L123.262 1050.08 L131.526 1048.41 L136.202 1048.41 L136.202 1079.04 L143.841 1079.04 L143.841 1082.97 L123.934 1082.97 L123.934 1079.04 Z\" fill=\"#000000\" fill-rule=\"evenodd\" fill-opacity=\"1\" /><path clip-path=\"url(#clip060)\" d=\"M 0 0 M158.91 1051.49 Q155.299 1051.49 153.471 1055.06 Q151.665 1058.6 151.665 1065.73 Q151.665 1072.83 153.471 1076.4 Q155.299 1079.94 158.91 1079.94 Q162.545 1079.94 164.35 1076.4 Q166.179 1072.83 166.179 1065.73 Q166.179 1058.6 164.35 1055.06 Q162.545 1051.49 158.91 1051.49 M158.91 1047.79 Q164.72 1047.79 167.776 1052.39 Q170.855 1056.98 170.855 1065.73 Q170.855 1074.45 167.776 1079.06 Q164.72 1083.64 158.91 1083.64 Q153.1 1083.64 150.021 1079.06 Q146.966 1074.45 146.966 1065.73 Q146.966 1056.98 150.021 1052.39 Q153.1 1047.79 158.91 1047.79 Z\" fill=\"#000000\" fill-rule=\"evenodd\" fill-opacity=\"1\" /><path clip-path=\"url(#clip060)\" d=\"M 0 0 M171.4 1052.36 L177.607 1052.36 L177.607 1030.94 L170.855 1032.3 L170.855 1028.84 L177.569 1027.48 L181.368 1027.48 L181.368 1052.36 L187.575 1052.36 L187.575 1055.56 L171.4 1055.56 L171.4 1052.36 Z\" fill=\"#000000\" fill-rule=\"evenodd\" fill-opacity=\"1\" /><path clip-path=\"url(#clip060)\" d=\"M 0 0 M122.824 999.583 L130.463 999.583 L130.463 973.218 L122.153 974.884 L122.153 970.625 L130.417 968.959 L135.092 968.959 L135.092 999.583 L142.731 999.583 L142.731 1003.52 L122.824 1003.52 L122.824 999.583 Z\" fill=\"#000000\" fill-rule=\"evenodd\" fill-opacity=\"1\" /><path clip-path=\"url(#clip060)\" d=\"M 0 0 M157.801 972.037 Q154.19 972.037 152.361 975.602 Q150.555 979.144 150.555 986.273 Q150.555 993.38 152.361 996.945 Q154.19 1000.49 157.801 1000.49 Q161.435 1000.49 163.24 996.945 Q165.069 993.38 165.069 986.273 Q165.069 979.144 163.24 975.602 Q161.435 972.037 157.801 972.037 M157.801 968.334 Q163.611 968.334 166.666 972.94 Q169.745 977.523 169.745 986.273 Q169.745 995 166.666 999.607 Q163.611 1004.19 157.801 1004.19 Q151.99 1004.19 148.912 999.607 Q145.856 995 145.856 986.273 Q145.856 977.523 148.912 972.94 Q151.99 968.334 157.801 968.334 Z\" fill=\"#000000\" fill-rule=\"evenodd\" fill-opacity=\"1\" /><path clip-path=\"url(#clip060)\" d=\"M 0 0 M174.315 972.911 L187.575 972.911 L187.575 976.108 L169.745 976.108 L169.745 972.911 Q171.908 970.673 175.632 966.911 Q179.375 963.131 180.334 962.04 Q182.158 959.99 182.873 958.579 Q183.606 957.15 183.606 955.777 Q183.606 953.539 182.026 952.128 Q180.465 950.718 177.945 950.718 Q176.158 950.718 174.165 951.338 Q172.19 951.959 169.933 953.219 L169.933 949.382 Q172.228 948.461 174.221 947.991 Q176.215 947.52 177.87 947.52 Q182.233 947.52 184.829 949.702 Q187.424 951.884 187.424 955.532 Q187.424 957.263 186.766 958.824 Q186.127 960.366 184.415 962.473 Q183.945 963.018 181.425 965.632 Q178.904 968.228 174.315 972.911 Z\" fill=\"#000000\" fill-rule=\"evenodd\" fill-opacity=\"1\" /><path clip-path=\"url(#clip060)\" d=\"M 0 0 M310.699 812.096 L322.892 812.096 L338.326 853.253 L353.841 812.096 L366.035 812.096 L366.035 872.576 L358.054 872.576 L358.054 819.469 L342.458 860.95 L334.235 860.95 L318.639 819.469 L318.639 872.576 L310.699 872.576 L310.699 812.096 Z\" fill=\"#000000\" fill-rule=\"evenodd\" fill-opacity=\"1\" /><path clip-path=\"url(#clip060)\" d=\"M 0 0 M412.661 848.028 L412.661 851.673 L378.39 851.673 Q378.876 859.37 383.008 863.421 Q387.18 867.431 394.593 867.431 Q398.887 867.431 402.898 866.378 Q406.949 865.325 410.919 863.218 L410.919 870.267 Q406.908 871.968 402.695 872.86 Q398.482 873.751 394.148 873.751 Q383.291 873.751 376.932 867.431 Q370.612 861.112 370.612 850.337 Q370.612 839.197 376.607 832.675 Q382.643 826.112 392.852 826.112 Q402.007 826.112 407.313 832.026 Q412.661 837.9 412.661 848.028 M405.207 845.84 Q405.126 839.723 401.764 836.077 Q398.442 832.432 392.933 832.432 Q386.694 832.432 382.927 835.956 Q379.2 839.48 378.633 845.881 L405.207 845.84 Z\" fill=\"#000000\" fill-rule=\"evenodd\" fill-opacity=\"1\" /><path clip-path=\"url(#clip060)\" d=\"M 0 0 M427.851 814.324 L427.851 827.206 L443.204 827.206 L443.204 832.999 L427.851 832.999 L427.851 857.628 Q427.851 863.178 429.35 864.758 Q430.89 866.338 435.548 866.338 L443.204 866.338 L443.204 872.576 L435.548 872.576 Q426.92 872.576 423.638 869.376 Q420.357 866.135 420.357 857.628 L420.357 832.999 L414.889 832.999 L414.889 827.206 L420.357 827.206 L420.357 814.324 L427.851 814.324 Z\" fill=\"#000000\" fill-rule=\"evenodd\" fill-opacity=\"1\" /><path clip-path=\"url(#clip060)\" d=\"M 0 0 M488.736 845.192 L488.736 872.576 L481.283 872.576 L481.283 845.435 Q481.283 838.994 478.771 835.794 Q476.26 832.594 471.237 832.594 Q465.201 832.594 461.717 836.442 Q458.233 840.29 458.233 846.934 L458.233 872.576 L450.739 872.576 L450.739 809.544 L458.233 809.544 L458.233 834.254 Q460.907 830.163 464.512 828.138 Q468.158 826.112 472.897 826.112 Q480.716 826.112 484.726 830.973 Q488.736 835.794 488.736 845.192 Z\" fill=\"#000000\" fill-rule=\"evenodd\" fill-opacity=\"1\" /><path clip-path=\"url(#clip060)\" d=\"M 0 0 M514.136 832.432 Q508.14 832.432 504.657 837.131 Q501.173 841.789 501.173 849.931 Q501.173 858.074 504.616 862.773 Q508.1 867.431 514.136 867.431 Q520.09 867.431 523.574 862.732 Q527.058 858.033 527.058 849.931 Q527.058 841.87 523.574 837.171 Q520.09 832.432 514.136 832.432 M514.136 826.112 Q523.858 826.112 529.408 832.432 Q534.957 838.751 534.957 849.931 Q534.957 861.071 529.408 867.431 Q523.858 873.751 514.136 873.751 Q504.373 873.751 498.823 867.431 Q493.314 861.071 493.314 849.931 Q493.314 838.751 498.823 832.432 Q504.373 826.112 514.136 826.112 Z\" fill=\"#000000\" fill-rule=\"evenodd\" fill-opacity=\"1\" /><path clip-path=\"url(#clip060)\" d=\"M 0 0 M572.631 834.092 L572.631 809.544 L580.084 809.544 L580.084 872.576 L572.631 872.576 L572.631 865.77 Q570.281 869.821 566.676 871.806 Q563.111 873.751 558.088 873.751 Q549.865 873.751 544.679 867.188 Q539.535 860.626 539.535 849.931 Q539.535 839.237 544.679 832.675 Q549.865 826.112 558.088 826.112 Q563.111 826.112 566.676 828.097 Q570.281 830.042 572.631 834.092 M547.232 849.931 Q547.232 858.155 550.594 862.854 Q553.997 867.512 559.911 867.512 Q565.825 867.512 569.228 862.854 Q572.631 858.155 572.631 849.931 Q572.631 841.708 569.228 837.05 Q565.825 832.351 559.911 832.351 Q553.997 832.351 550.594 837.05 Q547.232 841.708 547.232 849.931 Z\" fill=\"#000000\" fill-rule=\"evenodd\" fill-opacity=\"1\" /><path clip-path=\"url(#clip060)\" d=\"M 0 0 M637.81 819.226 L617.15 851.511 L637.81 851.511 L637.81 819.226 M635.663 812.096 L645.952 812.096 L645.952 851.511 L654.581 851.511 L654.581 858.317 L645.952 858.317 L645.952 872.576 L637.81 872.576 L637.81 858.317 L610.507 858.317 L610.507 850.418 L635.663 812.096 Z\" fill=\"#000000\" fill-rule=\"evenodd\" fill-opacity=\"1\" /><polyline clip-path=\"url(#clip065)\" style=\"stroke:#009af9; stroke-width:4; stroke-opacity:1; fill:none\" points=\"\n",
       "  226.918,939.405 227.671,951.914 228.425,967.098 229.178,986.154 229.931,1011.51 230.684,1049.29 231.437,1125.84 232.191,1130.29 232.944,1063.01 233.697,1034.65 \n",
       "  234.45,1130.29 235.204,1019.44 235.957,1023.17 236.71,1027.12 237.463,1031.29 238.217,1035.75 238.97,1040.22 239.723,1045.35 240.476,1050.48 241.229,1056.25 \n",
       "  241.983,1062.33 242.736,1068.84 243.489,1075.92 244.242,1083.54 244.996,1091.64 245.749,1100.88 246.502,1110.96 247.255,1122.11 248.009,1134.73 248.762,1148.64 \n",
       "  249.515,1164.38 250.268,1181.65 251.021,1198.17 251.775,1209.38 252.528,1209.53 253.281,1200.82 254.034,1189.53 254.788,1179.05 255.541,1170.42 256.294,1163.96 \n",
       "  257.047,1158.42 257.801,1154.55 258.554,1151.82 259.307,1149.96 260.06,1149.14 260.813,1148.93 261.567,1148.66 262.32,1150.62 263.073,1152.17 263.826,1154.62 \n",
       "  264.58,1157.4 265.333,1161.1 266.086,1165.16 266.839,1169.21 267.593,1174.18 268.346,1179.47 269.099,1184.81 269.852,1189.89 270.605,1195.13 271.359,1200.2 \n",
       "  272.112,1204.31 272.865,1207.89 273.618,1210.08 274.372,1211.09 275.125,1211.35 275.878,1210.65 276.631,1209.52 277.385,1208.4 278.138,1206.86 278.891,1205.54 \n",
       "  279.644,1204.32 280.397,1203.44 281.151,1202.94 281.904,1202.68 282.657,1202.8 283.41,1202.87 284.164,1203.45 284.917,1203.87 285.67,1204.83 286.423,1205.76 \n",
       "  287.177,1206.41 287.93,1207.57 288.683,1208.26 289.436,1209.26 290.189,1210 290.943,1210.53 291.696,1211.06 292.449,1211.44 293.202,1211.6 293.956,1211.72 \n",
       "  294.709,1211.8 295.462,1211.71 296.215,1211.64 296.969,1211.62 297.722,1211.49 298.475,1211.39 299.228,1211.19 299.981,1211.2 300.735,1211.12 301.488,1211.19 \n",
       "  302.241,1211.23 302.994,1211.33 303.748,1211.35 304.501,1211.52 305.254,1211.62 306.007,1211.73 306.761,1211.79 307.514,1211.89 308.267,1212.02 309.02,1212.06 \n",
       "  309.773,1212.17 310.527,1212.17 311.28,1212.22 312.033,1212.21 312.786,1212.32 313.54,1212.27 314.293,1212.29 315.046,1212.32 315.799,1212.32 316.553,1212.32 \n",
       "  317.306,1212.35 318.059,1212.33 318.812,1212.41 319.565,1212.42 320.319,1212.46 321.072,1212.42 321.825,1212.52 322.578,1212.55 323.332,1212.51 324.085,1212.56 \n",
       "  324.838,1212.61 325.591,1212.66 326.345,1212.67 327.098,1212.71 327.851,1212.73 328.604,1212.69 329.357,1212.8 330.111,1212.74 330.864,1212.82 331.617,1212.82 \n",
       "  332.37,1212.86 333.124,1212.89 333.877,1212.91 334.63,1212.89 335.383,1212.98 336.137,1212.96 336.89,1213 337.643,1213.03 338.396,1213.07 339.149,1213.06 \n",
       "  339.903,1213.08 340.656,1213.14 341.409,1213.14 342.162,1213.16 342.916,1213.18 343.669,1213.26 344.422,1213.26 345.175,1213.28 345.929,1213.31 346.682,1213.33 \n",
       "  347.435,1213.33 348.188,1213.39 348.941,1213.45 349.695,1213.45 350.448,1213.48 351.201,1213.51 351.954,1213.53 352.708,1213.49 353.461,1213.57 354.214,1213.57 \n",
       "  354.967,1213.55 355.721,1213.62 356.474,1213.68 357.227,1213.65 357.98,1213.74 358.733,1213.75 359.487,1213.81 360.24,1213.79 360.993,1213.84 361.746,1213.84 \n",
       "  362.5,1213.89 363.253,1213.87 364.006,1213.96 364.759,1213.98 365.513,1213.95 366.266,1214.02 367.019,1214.1 367.772,1214.07 368.525,1214.11 369.279,1214.13 \n",
       "  370.032,1214.16 370.785,1214.22 371.538,1214.23 372.292,1214.26 373.045,1214.27 373.798,1214.32 374.551,1214.33 375.305,1214.3 376.058,1214.38 376.811,1214.42 \n",
       "  377.564,1214.45 378.317,1214.44 379.071,1214.56 379.824,1214.53 380.577,1214.52 381.33,1214.62 382.084,1214.62 382.837,1214.62 383.59,1214.68 384.343,1214.7 \n",
       "  385.097,1214.75 385.85,1214.75 386.603,1214.77 387.356,1216.08 388.109,1260.36 388.863,1334.25 389.616,1340.68 390.369,1340.68 391.122,1340.68 391.876,1340.68 \n",
       "  392.629,1332.37 393.382,1340.25 394.135,1338.43 394.889,1335.75 395.642,1337.19 396.395,1340.07 397.148,1340.63 397.901,1339.26 398.655,1338.12 399.408,1338.62 \n",
       "  400.161,1339.98 400.914,1340.77 401.668,1340.4 402.421,1339.59 403.174,1339.25 403.927,1339.92 404.681,1340.61 405.434,1340.8 406.187,1340.45 406.94,1340.08 \n",
       "  407.693,1340 408.447,1340.43 409.2,1340.82 409.953,1340.84 410.706,1340.6 411.46,1340.36 412.213,1340.5 412.966,1340.8 413.719,1340.92 414.473,1340.84 \n",
       "  415.226,1340.68 415.979,1340.7 416.732,1340.83 417.485,1340.96 418.239,1340.97 418.992,1340.87 419.745,1340.83 420.498,1340.91 421.252,1341.01 422.005,1341.03 \n",
       "  422.758,1340.98 423.511,1340.97 424.265,1341 425.018,1341.06 425.771,1341.09 426.524,1341.09 427.277,1341.07 428.031,1341.09 428.784,1341.12 429.537,1341.15 \n",
       "  430.29,1341.14 431.044,1341.13 431.797,1341.14 432.55,1341.17 433.303,1341.2 434.057,1341.18 434.81,1341.22 435.563,1341.23 436.316,1341.27 437.069,1341.27 \n",
       "  437.823,1341.28 438.576,1341.29 439.329,1341.3 440.082,1341.31 440.836,1341.34 441.589,1341.31 442.342,1341.32 443.095,1341.39 443.849,1341.37 444.602,1341.38 \n",
       "  445.355,1341.39 446.108,1341.42 446.861,1341.42 447.615,1341.46 448.368,1341.44 449.121,1341.48 449.874,1341.48 450.628,1341.51 451.381,1341.51 452.134,1341.53 \n",
       "  452.887,1341.55 453.641,1341.56 454.394,1341.56 455.147,1341.59 455.9,1341.59 456.653,1341.61 457.407,1341.62 458.16,1341.63 458.913,1341.65 459.666,1341.66 \n",
       "  460.42,1341.7 461.173,1341.72 461.926,1341.7 462.679,1341.74 463.433,1341.75 464.186,1341.77 464.939,1341.77 465.692,1341.78 466.445,1341.8 467.199,1341.81 \n",
       "  467.952,1341.82 468.705,1341.85 469.458,1341.86 470.212,1341.86 470.965,1341.88 471.718,1341.93 472.471,1341.92 473.225,1341.95 473.978,1341.95 474.731,1341.98 \n",
       "  475.484,1341.98 476.237,1342.02 476.991,1342.03 477.744,1342.04 478.497,1342.06 479.25,1342.08 480.004,1342.08 480.757,1342.09 481.51,1342.13 482.263,1342.14 \n",
       "  483.016,1342.17 483.77,1342.18 484.523,1342.19 485.276,1342.2 486.029,1342.23 486.783,1342.24 487.536,1342.27 488.289,1342.26 489.042,1342.28 489.796,1342.3 \n",
       "  490.549,1342.3 491.302,1342.33 492.055,1342.37 492.808,1342.38 493.562,1342.37 494.315,1342.41 495.068,1342.43 495.821,1342.45 496.575,1342.46 497.328,1342.48 \n",
       "  498.081,1342.48 498.834,1342.5 499.588,1342.53 500.341,1342.54 501.094,1342.58 501.847,1342.59 502.6,1342.6 503.354,1342.62 504.107,1342.64 504.86,1342.64 \n",
       "  505.613,1342.68 506.367,1342.69 507.12,1342.69 507.873,1342.71 508.626,1342.72 509.38,1342.74 510.133,1342.76 510.886,1342.78 511.639,1342.82 512.392,1342.83 \n",
       "  513.146,1342.84 513.899,1342.87 514.652,1342.89 515.405,1342.9 516.159,1342.92 516.912,1342.94 517.665,1342.94 518.418,1342.96 519.172,1343 519.925,1342.98 \n",
       "  520.678,1343.02 521.431,1343.05 522.184,1343.07 522.938,1343.11 523.691,1343.12 524.444,1343.12 525.197,1343.12 525.951,1343.15 526.704,1343.18 527.457,1343.19 \n",
       "  528.21,1343.23 528.964,1343.22 529.717,1343.25 530.47,1343.28 531.223,1343.29 531.976,1343.32 532.73,1343.33 533.483,1343.34 534.236,1343.37 534.989,1343.39 \n",
       "  535.743,1343.4 536.496,1343.44 537.249,1343.46 538.002,1343.48 538.756,1343.49 539.509,1343.49 540.262,1343.53 541.015,1343.53 541.768,1343.55 542.522,1343.55 \n",
       "  543.275,1343.6 544.028,1343.62 544.781,1344.31 545.535,1346.55 546.288,1346.73 547.041,1351.85 547.794,1378.14 548.548,1385.53 549.301,1392.31 550.054,1393.59 \n",
       "  550.807,1394.86 551.56,1394.95 552.314,1394.95 553.067,1394.95 553.82,1395 554.573,1396.16 555.327,1403.18 556.08,1404.81 556.833,1407.27 557.586,1410 \n",
       "  558.34,1414.74 559.093,1417.15 559.846,1421.69 560.599,1429.33 561.352,1433.69 562.106,1441.54 562.859,1443.64 563.612,1446.67 564.365,1452.38 565.119,1453.77 \n",
       "  565.872,1455.09 566.625,1456.24 567.378,1457.94 568.132,1459.34 568.885,1460.26 569.638,1461.92 570.391,1465.81 571.144,1466.89 571.898,1468.41 572.651,1468.81 \n",
       "  573.404,1469.73 574.157,1470.07 574.911,1470.32 575.664,1470.37 576.417,1470.41 577.17,1470.41 577.924,1470.42 578.677,1470.42 579.43,1470.42 580.183,1470.42 \n",
       "  580.936,1470.42 581.69,1470.42 582.443,1470.32 583.196,1469.03 583.949,1470.35 584.703,1469.87 585.456,1469.66 586.209,1470.25 586.962,1470.39 587.716,1470.01 \n",
       "  588.469,1470.07 589.222,1470.3 589.975,1470.41 590.728,1470.26 591.482,1470.16 592.235,1470.26 592.988,1470.42 593.741,1470.37 594.495,1470.25 595.248,1470.31 \n",
       "  596.001,1470.4 596.754,1470.42 597.508,1470.34 598.261,1470.3 599.014,1470.38 599.767,1470.44 600.52,1470.38 601.274,1470.34 602.027,1470.38 602.78,1470.43 \n",
       "  603.533,1470.42 604.287,1470.39 605.04,1470.38 605.793,1470.43 606.546,1470.43 607.3,1470.4 608.053,1470.39 608.806,1470.43 609.559,1470.44 610.312,1470.4 \n",
       "  611.066,1470.41 611.819,1470.42 612.572,1470.44 613.325,1470.42 614.079,1470.42 614.832,1470.43 615.585,1470.43 616.338,1470.43 617.092,1470.43 617.845,1470.44 \n",
       "  618.598,1470.42 619.351,1470.42 620.104,1470.43 620.858,1470.44 621.611,1470.43 622.364,1470.43 623.117,1470.44 623.871,1470.45 624.624,1470.42 625.377,1470.43 \n",
       "  626.13,1470.44 626.884,1470.42 627.637,1470.43 628.39,1470.45 629.143,1470.44 629.896,1470.44 630.65,1470.43 631.403,1470.43 632.156,1470.44 632.909,1470.45 \n",
       "  633.663,1470.44 634.416,1470.44 635.169,1470.44 635.922,1470.45 636.676,1470.45 637.429,1470.45 638.182,1470.44 638.935,1470.46 639.688,1470.45 640.442,1470.45 \n",
       "  641.195,1470.44 641.948,1470.46 642.701,1470.45 643.455,1470.43 644.208,1470.45 644.961,1470.46 645.714,1470.46 646.468,1470.46 647.221,1470.45 647.974,1470.45 \n",
       "  648.727,1470.44 649.48,1470.45 650.234,1470.46 650.987,1470.46 651.74,1470.44 652.493,1470.44 653.247,1470.45 654,1470.45 654.753,1470.46 655.506,1470.45 \n",
       "  656.26,1470.47 657.013,1470.46 657.766,1470.46 658.519,1470.45 659.272,1470.47 660.026,1470.47 660.779,1470.46 661.532,1470.44 662.285,1470.45 663.039,1470.46 \n",
       "  663.792,1470.47 664.545,1470.45 665.298,1470.45 666.052,1470.45 666.805,1470.45 667.558,1470.46 668.311,1470.46 669.064,1470.45 669.818,1470.46 670.571,1470.47 \n",
       "  671.324,1470.46 672.077,1470.46 672.831,1470.46 673.584,1470.47 674.337,1470.47 675.09,1470.45 675.844,1470.46 676.597,1470.46 677.35,1470.47 678.103,1470.46 \n",
       "  678.856,1470.47 679.61,1470.48 680.363,1470.47 681.116,1470.46 681.869,1470.47 682.623,1470.47 683.376,1470.47 684.129,1470.48 684.882,1470.47 685.636,1470.46 \n",
       "  686.389,1470.48 687.142,1470.47 687.895,1470.47 688.648,1470.48 689.402,1470.47 690.155,1470.47 690.908,1470.47 691.661,1470.47 692.415,1470.48 693.168,1470.48 \n",
       "  693.921,1470.47 694.674,1470.46 695.428,1470.48 696.181,1470.47 696.934,1470.47 697.687,1470.49 698.44,1470.45 699.194,1470.47 699.947,1470.46 700.7,1470.48 \n",
       "  701.453,1470.48 702.207,1470.49 702.96,1470.47 703.713,1470.47 704.466,1470.49 705.22,1470.48 705.973,1470.49 706.726,1470.49 707.479,1470.49 708.232,1470.48 \n",
       "  708.986,1470.49 709.739,1470.48 710.492,1470.48 711.245,1470.49 711.999,1470.49 712.752,1470.48 713.505,1470.49 714.258,1470.49 715.012,1470.48 715.765,1470.5 \n",
       "  716.518,1470.49 717.271,1470.49 718.024,1470.49 718.778,1470.49 719.531,1470.49 720.284,1470.48 721.037,1470.5 721.791,1470.48 722.544,1470.5 723.297,1470.49 \n",
       "  724.05,1470.5 724.804,1470.49 725.557,1470.5 726.31,1470.49 727.063,1470.5 727.816,1470.5 728.57,1470.49 729.323,1470.49 730.076,1470.51 730.829,1470.5 \n",
       "  731.583,1470.5 732.336,1470.51 733.089,1470.5 733.842,1470.5 734.596,1470.5 735.349,1470.51 736.102,1470.51 736.855,1470.51 737.608,1470.51 738.362,1470.51 \n",
       "  \n",
       "  \"/>\n",
       "<path clip-path=\"url(#clip060)\" d=\"\n",
       "M390.687 1127.95 L681.705 1127.95 L681.705 1006.99 L390.687 1006.99  Z\n",
       "  \" fill=\"#ffffff\" fill-rule=\"evenodd\" fill-opacity=\"1\"/>\n",
       "<polyline clip-path=\"url(#clip060)\" style=\"stroke:#000000; stroke-width:4; stroke-opacity:1; fill:none\" points=\"\n",
       "  390.687,1127.95 681.705,1127.95 681.705,1006.99 390.687,1006.99 390.687,1127.95 \n",
       "  \"/>\n",
       "<polyline clip-path=\"url(#clip060)\" style=\"stroke:#009af9; stroke-width:4; stroke-opacity:1; fill:none\" points=\"\n",
       "  414.687,1067.47 558.687,1067.47 \n",
       "  \"/>\n",
       "<path clip-path=\"url(#clip060)\" d=\"M 0 0 M596.529 1087.16 Q594.724 1091.79 593.011 1093.2 Q591.298 1094.61 588.427 1094.61 L585.025 1094.61 L585.025 1091.05 L587.525 1091.05 Q589.284 1091.05 590.256 1090.22 Q591.228 1089.38 592.409 1086.28 L593.173 1084.34 L582.687 1058.83 L587.201 1058.83 L595.302 1079.1 L603.404 1058.83 L607.918 1058.83 L596.529 1087.16 Z\" fill=\"#000000\" fill-rule=\"evenodd\" fill-opacity=\"1\" /><path clip-path=\"url(#clip060)\" d=\"M 0 0 M613.798 1080.82 L621.437 1080.82 L621.437 1054.45 L613.126 1056.12 L613.126 1051.86 L621.39 1050.19 L626.066 1050.19 L626.066 1080.82 L633.705 1080.82 L633.705 1084.75 L613.798 1084.75 L613.798 1080.82 Z\" fill=\"#000000\" fill-rule=\"evenodd\" fill-opacity=\"1\" /><path clip-path=\"url(#clip060)\" d=\"\n",
       "M1011.39 1486.45 L1553.52 1486.45 L1553.52 923.472 L1011.39 923.472  Z\n",
       "  \" fill=\"#ffffff\" fill-rule=\"evenodd\" fill-opacity=\"1\"/>\n",
       "<defs>\n",
       "  <clipPath id=\"clip066\">\n",
       "    <rect x=\"1011\" y=\"923\" width=\"543\" height=\"564\"/>\n",
       "  </clipPath>\n",
       "</defs>\n",
       "<polyline clip-path=\"url(#clip066)\" style=\"stroke:#000000; stroke-width:2; stroke-opacity:0.1; fill:none\" points=\"\n",
       "  1025.92,1486.45 1025.92,923.472 \n",
       "  \"/>\n",
       "<polyline clip-path=\"url(#clip066)\" style=\"stroke:#000000; stroke-width:2; stroke-opacity:0.1; fill:none\" points=\"\n",
       "  1107.62,1486.45 1107.62,923.472 \n",
       "  \"/>\n",
       "<polyline clip-path=\"url(#clip066)\" style=\"stroke:#000000; stroke-width:2; stroke-opacity:0.1; fill:none\" points=\"\n",
       "  1189.32,1486.45 1189.32,923.472 \n",
       "  \"/>\n",
       "<polyline clip-path=\"url(#clip066)\" style=\"stroke:#000000; stroke-width:2; stroke-opacity:0.1; fill:none\" points=\"\n",
       "  1271.02,1486.45 1271.02,923.472 \n",
       "  \"/>\n",
       "<polyline clip-path=\"url(#clip066)\" style=\"stroke:#000000; stroke-width:2; stroke-opacity:0.1; fill:none\" points=\"\n",
       "  1352.72,1486.45 1352.72,923.472 \n",
       "  \"/>\n",
       "<polyline clip-path=\"url(#clip066)\" style=\"stroke:#000000; stroke-width:2; stroke-opacity:0.1; fill:none\" points=\"\n",
       "  1434.42,1486.45 1434.42,923.472 \n",
       "  \"/>\n",
       "<polyline clip-path=\"url(#clip066)\" style=\"stroke:#000000; stroke-width:2; stroke-opacity:0.1; fill:none\" points=\"\n",
       "  1516.12,1486.45 1516.12,923.472 \n",
       "  \"/>\n",
       "<polyline clip-path=\"url(#clip066)\" style=\"stroke:#000000; stroke-width:2; stroke-opacity:0.1; fill:none\" points=\"\n",
       "  1011.39,1446.94 1553.52,1446.94 \n",
       "  \"/>\n",
       "<polyline clip-path=\"url(#clip066)\" style=\"stroke:#000000; stroke-width:2; stroke-opacity:0.1; fill:none\" points=\"\n",
       "  1011.39,1354.8 1553.52,1354.8 \n",
       "  \"/>\n",
       "<polyline clip-path=\"url(#clip066)\" style=\"stroke:#000000; stroke-width:2; stroke-opacity:0.1; fill:none\" points=\"\n",
       "  1011.39,1262.66 1553.52,1262.66 \n",
       "  \"/>\n",
       "<polyline clip-path=\"url(#clip066)\" style=\"stroke:#000000; stroke-width:2; stroke-opacity:0.1; fill:none\" points=\"\n",
       "  1011.39,1170.52 1553.52,1170.52 \n",
       "  \"/>\n",
       "<polyline clip-path=\"url(#clip066)\" style=\"stroke:#000000; stroke-width:2; stroke-opacity:0.1; fill:none\" points=\"\n",
       "  1011.39,1078.38 1553.52,1078.38 \n",
       "  \"/>\n",
       "<polyline clip-path=\"url(#clip066)\" style=\"stroke:#000000; stroke-width:2; stroke-opacity:0.1; fill:none\" points=\"\n",
       "  1011.39,986.24 1553.52,986.24 \n",
       "  \"/>\n",
       "<polyline clip-path=\"url(#clip060)\" style=\"stroke:#000000; stroke-width:4; stroke-opacity:1; fill:none\" points=\"\n",
       "  1011.39,1486.45 1553.52,1486.45 \n",
       "  \"/>\n",
       "<polyline clip-path=\"url(#clip060)\" style=\"stroke:#000000; stroke-width:4; stroke-opacity:1; fill:none\" points=\"\n",
       "  1011.39,1486.45 1011.39,923.472 \n",
       "  \"/>\n",
       "<polyline clip-path=\"url(#clip060)\" style=\"stroke:#000000; stroke-width:4; stroke-opacity:1; fill:none\" points=\"\n",
       "  1025.92,1486.45 1025.92,1479.69 \n",
       "  \"/>\n",
       "<polyline clip-path=\"url(#clip060)\" style=\"stroke:#000000; stroke-width:4; stroke-opacity:1; fill:none\" points=\"\n",
       "  1107.62,1486.45 1107.62,1479.69 \n",
       "  \"/>\n",
       "<polyline clip-path=\"url(#clip060)\" style=\"stroke:#000000; stroke-width:4; stroke-opacity:1; fill:none\" points=\"\n",
       "  1189.32,1486.45 1189.32,1479.69 \n",
       "  \"/>\n",
       "<polyline clip-path=\"url(#clip060)\" style=\"stroke:#000000; stroke-width:4; stroke-opacity:1; fill:none\" points=\"\n",
       "  1271.02,1486.45 1271.02,1479.69 \n",
       "  \"/>\n",
       "<polyline clip-path=\"url(#clip060)\" style=\"stroke:#000000; stroke-width:4; stroke-opacity:1; fill:none\" points=\"\n",
       "  1352.72,1486.45 1352.72,1479.69 \n",
       "  \"/>\n",
       "<polyline clip-path=\"url(#clip060)\" style=\"stroke:#000000; stroke-width:4; stroke-opacity:1; fill:none\" points=\"\n",
       "  1434.42,1486.45 1434.42,1479.69 \n",
       "  \"/>\n",
       "<polyline clip-path=\"url(#clip060)\" style=\"stroke:#000000; stroke-width:4; stroke-opacity:1; fill:none\" points=\"\n",
       "  1516.12,1486.45 1516.12,1479.69 \n",
       "  \"/>\n",
       "<polyline clip-path=\"url(#clip060)\" style=\"stroke:#000000; stroke-width:4; stroke-opacity:1; fill:none\" points=\"\n",
       "  1011.39,1446.94 1017.9,1446.94 \n",
       "  \"/>\n",
       "<polyline clip-path=\"url(#clip060)\" style=\"stroke:#000000; stroke-width:4; stroke-opacity:1; fill:none\" points=\"\n",
       "  1011.39,1354.8 1017.9,1354.8 \n",
       "  \"/>\n",
       "<polyline clip-path=\"url(#clip060)\" style=\"stroke:#000000; stroke-width:4; stroke-opacity:1; fill:none\" points=\"\n",
       "  1011.39,1262.66 1017.9,1262.66 \n",
       "  \"/>\n",
       "<polyline clip-path=\"url(#clip060)\" style=\"stroke:#000000; stroke-width:4; stroke-opacity:1; fill:none\" points=\"\n",
       "  1011.39,1170.52 1017.9,1170.52 \n",
       "  \"/>\n",
       "<polyline clip-path=\"url(#clip060)\" style=\"stroke:#000000; stroke-width:4; stroke-opacity:1; fill:none\" points=\"\n",
       "  1011.39,1078.38 1017.9,1078.38 \n",
       "  \"/>\n",
       "<polyline clip-path=\"url(#clip060)\" style=\"stroke:#000000; stroke-width:4; stroke-opacity:1; fill:none\" points=\"\n",
       "  1011.39,986.24 1017.9,986.24 \n",
       "  \"/>\n",
       "<path clip-path=\"url(#clip060)\" d=\"M 0 0 M1025.92 1508.44 Q1022.3 1508.44 1020.48 1512 Q1018.67 1515.55 1018.67 1522.67 Q1018.67 1529.78 1020.48 1533.35 Q1022.3 1536.89 1025.92 1536.89 Q1029.55 1536.89 1031.36 1533.35 Q1033.18 1529.78 1033.18 1522.67 Q1033.18 1515.55 1031.36 1512 Q1029.55 1508.44 1025.92 1508.44 M1025.92 1504.73 Q1031.73 1504.73 1034.78 1509.34 Q1037.86 1513.92 1037.86 1522.67 Q1037.86 1531.4 1034.78 1536.01 Q1031.73 1540.59 1025.92 1540.59 Q1020.11 1540.59 1017.03 1536.01 Q1013.97 1531.4 1013.97 1522.67 Q1013.97 1513.92 1017.03 1509.34 Q1020.11 1504.73 1025.92 1504.73 Z\" fill=\"#000000\" fill-rule=\"evenodd\" fill-opacity=\"1\" /><path clip-path=\"url(#clip060)\" d=\"M 0 0 M1070.98 1535.98 L1078.62 1535.98 L1078.62 1509.62 L1070.31 1511.29 L1070.31 1507.03 L1078.58 1505.36 L1083.25 1505.36 L1083.25 1535.98 L1090.89 1535.98 L1090.89 1539.92 L1070.98 1539.92 L1070.98 1535.98 Z\" fill=\"#000000\" fill-rule=\"evenodd\" fill-opacity=\"1\" /><path clip-path=\"url(#clip060)\" d=\"M 0 0 M1105.96 1508.44 Q1102.35 1508.44 1100.52 1512 Q1098.72 1515.55 1098.72 1522.67 Q1098.72 1529.78 1100.52 1533.35 Q1102.35 1536.89 1105.96 1536.89 Q1109.6 1536.89 1111.4 1533.35 Q1113.23 1529.78 1113.23 1522.67 Q1113.23 1515.55 1111.4 1512 Q1109.6 1508.44 1105.96 1508.44 M1105.96 1504.73 Q1111.77 1504.73 1114.83 1509.34 Q1117.91 1513.92 1117.91 1522.67 Q1117.91 1531.4 1114.83 1536.01 Q1111.77 1540.59 1105.96 1540.59 Q1100.15 1540.59 1097.07 1536.01 Q1094.02 1531.4 1094.02 1522.67 Q1094.02 1513.92 1097.07 1509.34 Q1100.15 1504.73 1105.96 1504.73 Z\" fill=\"#000000\" fill-rule=\"evenodd\" fill-opacity=\"1\" /><path clip-path=\"url(#clip060)\" d=\"M 0 0 M1132.97 1508.44 Q1129.36 1508.44 1127.54 1512 Q1125.73 1515.55 1125.73 1522.67 Q1125.73 1529.78 1127.54 1533.35 Q1129.36 1536.89 1132.97 1536.89 Q1136.61 1536.89 1138.41 1533.35 Q1140.24 1529.78 1140.24 1522.67 Q1140.24 1515.55 1138.41 1512 Q1136.61 1508.44 1132.97 1508.44 M1132.97 1504.73 Q1138.78 1504.73 1141.84 1509.34 Q1144.92 1513.92 1144.92 1522.67 Q1144.92 1531.4 1141.84 1536.01 Q1138.78 1540.59 1132.97 1540.59 Q1127.16 1540.59 1124.09 1536.01 Q1121.03 1531.4 1121.03 1522.67 Q1121.03 1513.92 1124.09 1509.34 Q1127.16 1504.73 1132.97 1504.73 Z\" fill=\"#000000\" fill-rule=\"evenodd\" fill-opacity=\"1\" /><path clip-path=\"url(#clip060)\" d=\"M 0 0 M1156.96 1535.98 L1173.27 1535.98 L1173.27 1539.92 L1151.33 1539.92 L1151.33 1535.98 Q1153.99 1533.23 1158.58 1528.6 Q1163.18 1523.95 1164.36 1522.61 Q1166.61 1520.08 1167.49 1518.35 Q1168.39 1516.59 1168.39 1514.9 Q1168.39 1512.14 1166.45 1510.41 Q1164.52 1508.67 1161.42 1508.67 Q1159.22 1508.67 1156.77 1509.43 Q1154.34 1510.2 1151.56 1511.75 L1151.56 1507.03 Q1154.39 1505.89 1156.84 1505.31 Q1159.29 1504.73 1161.33 1504.73 Q1166.7 1504.73 1169.9 1507.42 Q1173.09 1510.11 1173.09 1514.6 Q1173.09 1516.73 1172.28 1518.65 Q1171.49 1520.54 1169.39 1523.14 Q1168.81 1523.81 1165.71 1527.03 Q1162.6 1530.22 1156.96 1535.98 Z\" fill=\"#000000\" fill-rule=\"evenodd\" fill-opacity=\"1\" /><path clip-path=\"url(#clip060)\" d=\"M 0 0 M1188.34 1508.44 Q1184.73 1508.44 1182.9 1512 Q1181.1 1515.55 1181.1 1522.67 Q1181.1 1529.78 1182.9 1533.35 Q1184.73 1536.89 1188.34 1536.89 Q1191.98 1536.89 1193.78 1533.35 Q1195.61 1529.78 1195.61 1522.67 Q1195.61 1515.55 1193.78 1512 Q1191.98 1508.44 1188.34 1508.44 M1188.34 1504.73 Q1194.15 1504.73 1197.21 1509.34 Q1200.29 1513.92 1200.29 1522.67 Q1200.29 1531.4 1197.21 1536.01 Q1194.15 1540.59 1188.34 1540.59 Q1182.53 1540.59 1179.46 1536.01 Q1176.4 1531.4 1176.4 1522.67 Q1176.4 1513.92 1179.46 1509.34 Q1182.53 1504.73 1188.34 1504.73 Z\" fill=\"#000000\" fill-rule=\"evenodd\" fill-opacity=\"1\" /><path clip-path=\"url(#clip060)\" d=\"M 0 0 M1215.36 1508.44 Q1211.75 1508.44 1209.92 1512 Q1208.11 1515.55 1208.11 1522.67 Q1208.11 1529.78 1209.92 1533.35 Q1211.75 1536.89 1215.36 1536.89 Q1218.99 1536.89 1220.8 1533.35 Q1222.63 1529.78 1222.63 1522.67 Q1222.63 1515.55 1220.8 1512 Q1218.99 1508.44 1215.36 1508.44 M1215.36 1504.73 Q1221.17 1504.73 1224.22 1509.34 Q1227.3 1513.92 1227.3 1522.67 Q1227.3 1531.4 1224.22 1536.01 Q1221.17 1540.59 1215.36 1540.59 Q1209.55 1540.59 1206.47 1536.01 Q1203.41 1531.4 1203.41 1522.67 Q1203.41 1513.92 1206.47 1509.34 Q1209.55 1504.73 1215.36 1504.73 Z\" fill=\"#000000\" fill-rule=\"evenodd\" fill-opacity=\"1\" /><path clip-path=\"url(#clip060)\" d=\"M 0 0 M1248.25 1521.29 Q1251.61 1522 1253.48 1524.27 Q1255.38 1526.54 1255.38 1529.87 Q1255.38 1534.99 1251.86 1537.79 Q1248.34 1540.59 1241.86 1540.59 Q1239.69 1540.59 1237.37 1540.15 Q1235.08 1539.73 1232.63 1538.88 L1232.63 1534.36 Q1234.57 1535.5 1236.88 1536.08 Q1239.2 1536.66 1241.72 1536.66 Q1246.12 1536.66 1248.41 1534.92 Q1250.73 1533.18 1250.73 1529.87 Q1250.73 1526.82 1248.57 1525.11 Q1246.45 1523.37 1242.63 1523.37 L1238.6 1523.37 L1238.6 1519.53 L1242.81 1519.53 Q1246.26 1519.53 1248.09 1518.16 Q1249.92 1516.77 1249.92 1514.18 Q1249.92 1511.52 1248.02 1510.11 Q1246.14 1508.67 1242.63 1508.67 Q1240.7 1508.67 1238.51 1509.09 Q1236.31 1509.5 1233.67 1510.38 L1233.67 1506.22 Q1236.33 1505.48 1238.64 1505.11 Q1240.98 1504.73 1243.04 1504.73 Q1248.37 1504.73 1251.47 1507.17 Q1254.57 1509.57 1254.57 1513.69 Q1254.57 1516.56 1252.93 1518.55 Q1251.28 1520.52 1248.25 1521.29 Z\" fill=\"#000000\" fill-rule=\"evenodd\" fill-opacity=\"1\" /><path clip-path=\"url(#clip060)\" d=\"M 0 0 M1270.45 1508.44 Q1266.84 1508.44 1265.01 1512 Q1263.2 1515.55 1263.2 1522.67 Q1263.2 1529.78 1265.01 1533.35 Q1266.84 1536.89 1270.45 1536.89 Q1274.08 1536.89 1275.89 1533.35 Q1277.72 1529.78 1277.72 1522.67 Q1277.72 1515.55 1275.89 1512 Q1274.08 1508.44 1270.45 1508.44 M1270.45 1504.73 Q1276.26 1504.73 1279.32 1509.34 Q1282.39 1513.92 1282.39 1522.67 Q1282.39 1531.4 1279.32 1536.01 Q1276.26 1540.59 1270.45 1540.59 Q1264.64 1540.59 1261.56 1536.01 Q1258.51 1531.4 1258.51 1522.67 Q1258.51 1513.92 1261.56 1509.34 Q1264.64 1504.73 1270.45 1504.73 Z\" fill=\"#000000\" fill-rule=\"evenodd\" fill-opacity=\"1\" /><path clip-path=\"url(#clip060)\" d=\"M 0 0 M1297.46 1508.44 Q1293.85 1508.44 1292.02 1512 Q1290.22 1515.55 1290.22 1522.67 Q1290.22 1529.78 1292.02 1533.35 Q1293.85 1536.89 1297.46 1536.89 Q1301.1 1536.89 1302.9 1533.35 Q1304.73 1529.78 1304.73 1522.67 Q1304.73 1515.55 1302.9 1512 Q1301.1 1508.44 1297.46 1508.44 M1297.46 1504.73 Q1303.27 1504.73 1306.33 1509.34 Q1309.41 1513.92 1309.41 1522.67 Q1309.41 1531.4 1306.33 1536.01 Q1303.27 1540.59 1297.46 1540.59 Q1291.65 1540.59 1288.57 1536.01 Q1285.52 1531.4 1285.52 1522.67 Q1285.52 1513.92 1288.57 1509.34 Q1291.65 1504.73 1297.46 1504.73 Z\" fill=\"#000000\" fill-rule=\"evenodd\" fill-opacity=\"1\" /><path clip-path=\"url(#clip060)\" d=\"M 0 0 M1328.71 1509.43 L1316.91 1527.88 L1328.71 1527.88 L1328.71 1509.43 M1327.49 1505.36 L1333.37 1505.36 L1333.37 1527.88 L1338.3 1527.88 L1338.3 1531.77 L1333.37 1531.77 L1333.37 1539.92 L1328.71 1539.92 L1328.71 1531.77 L1313.11 1531.77 L1313.11 1527.26 L1327.49 1505.36 Z\" fill=\"#000000\" fill-rule=\"evenodd\" fill-opacity=\"1\" /><path clip-path=\"url(#clip060)\" d=\"M 0 0 M1353.37 1508.44 Q1349.75 1508.44 1347.93 1512 Q1346.12 1515.55 1346.12 1522.67 Q1346.12 1529.78 1347.93 1533.35 Q1349.75 1536.89 1353.37 1536.89 Q1357 1536.89 1358.8 1533.35 Q1360.63 1529.78 1360.63 1522.67 Q1360.63 1515.55 1358.8 1512 Q1357 1508.44 1353.37 1508.44 M1353.37 1504.73 Q1359.18 1504.73 1362.23 1509.34 Q1365.31 1513.92 1365.31 1522.67 Q1365.31 1531.4 1362.23 1536.01 Q1359.18 1540.59 1353.37 1540.59 Q1347.55 1540.59 1344.48 1536.01 Q1341.42 1531.4 1341.42 1522.67 Q1341.42 1513.92 1344.48 1509.34 Q1347.55 1504.73 1353.37 1504.73 Z\" fill=\"#000000\" fill-rule=\"evenodd\" fill-opacity=\"1\" /><path clip-path=\"url(#clip060)\" d=\"M 0 0 M1380.38 1508.44 Q1376.77 1508.44 1374.94 1512 Q1373.13 1515.55 1373.13 1522.67 Q1373.13 1529.78 1374.94 1533.35 Q1376.77 1536.89 1380.38 1536.89 Q1384.01 1536.89 1385.82 1533.35 Q1387.65 1529.78 1387.65 1522.67 Q1387.65 1515.55 1385.82 1512 Q1384.01 1508.44 1380.38 1508.44 M1380.38 1504.73 Q1386.19 1504.73 1389.24 1509.34 Q1392.32 1513.92 1392.32 1522.67 Q1392.32 1531.4 1389.24 1536.01 Q1386.19 1540.59 1380.38 1540.59 Q1374.57 1540.59 1371.49 1536.01 Q1368.43 1531.4 1368.43 1522.67 Q1368.43 1513.92 1371.49 1509.34 Q1374.57 1504.73 1380.38 1504.73 Z\" fill=\"#000000\" fill-rule=\"evenodd\" fill-opacity=\"1\" /><path clip-path=\"url(#clip060)\" d=\"M 0 0 M1397.68 1505.36 L1416.04 1505.36 L1416.04 1509.3 L1401.96 1509.3 L1401.96 1517.77 Q1402.98 1517.42 1404 1517.26 Q1405.02 1517.07 1406.04 1517.07 Q1411.82 1517.07 1415.2 1520.24 Q1418.58 1523.42 1418.58 1528.83 Q1418.58 1534.41 1415.11 1537.51 Q1411.64 1540.59 1405.32 1540.59 Q1403.14 1540.59 1400.88 1540.22 Q1398.63 1539.85 1396.22 1539.11 L1396.22 1534.41 Q1398.31 1535.54 1400.53 1536.1 Q1402.75 1536.66 1405.23 1536.66 Q1409.23 1536.66 1411.57 1534.55 Q1413.91 1532.44 1413.91 1528.83 Q1413.91 1525.22 1411.57 1523.11 Q1409.23 1521.01 1405.23 1521.01 Q1403.35 1521.01 1401.48 1521.42 Q1399.63 1521.84 1397.68 1522.72 L1397.68 1505.36 Z\" fill=\"#000000\" fill-rule=\"evenodd\" fill-opacity=\"1\" /><path clip-path=\"url(#clip060)\" d=\"M 0 0 M1433.65 1508.44 Q1430.04 1508.44 1428.21 1512 Q1426.41 1515.55 1426.41 1522.67 Q1426.41 1529.78 1428.21 1533.35 Q1430.04 1536.89 1433.65 1536.89 Q1437.29 1536.89 1439.09 1533.35 Q1440.92 1529.78 1440.92 1522.67 Q1440.92 1515.55 1439.09 1512 Q1437.29 1508.44 1433.65 1508.44 M1433.65 1504.73 Q1439.46 1504.73 1442.52 1509.34 Q1445.6 1513.92 1445.6 1522.67 Q1445.6 1531.4 1442.52 1536.01 Q1439.46 1540.59 1433.65 1540.59 Q1427.84 1540.59 1424.76 1536.01 Q1421.71 1531.4 1421.71 1522.67 Q1421.71 1513.92 1424.76 1509.34 Q1427.84 1504.73 1433.65 1504.73 Z\" fill=\"#000000\" fill-rule=\"evenodd\" fill-opacity=\"1\" /><path clip-path=\"url(#clip060)\" d=\"M 0 0 M1460.67 1508.44 Q1457.06 1508.44 1455.23 1512 Q1453.42 1515.55 1453.42 1522.67 Q1453.42 1529.78 1455.23 1533.35 Q1457.06 1536.89 1460.67 1536.89 Q1464.3 1536.89 1466.11 1533.35 Q1467.94 1529.78 1467.94 1522.67 Q1467.94 1515.55 1466.11 1512 Q1464.3 1508.44 1460.67 1508.44 M1460.67 1504.73 Q1466.48 1504.73 1469.53 1509.34 Q1472.61 1513.92 1472.61 1522.67 Q1472.61 1531.4 1469.53 1536.01 Q1466.48 1540.59 1460.67 1540.59 Q1454.86 1540.59 1451.78 1536.01 Q1448.72 1531.4 1448.72 1522.67 Q1448.72 1513.92 1451.78 1509.34 Q1454.86 1504.73 1460.67 1504.73 Z\" fill=\"#000000\" fill-rule=\"evenodd\" fill-opacity=\"1\" /><path clip-path=\"url(#clip060)\" d=\"M 0 0 M1489.51 1520.78 Q1486.36 1520.78 1484.51 1522.93 Q1482.68 1525.08 1482.68 1528.83 Q1482.68 1532.56 1484.51 1534.73 Q1486.36 1536.89 1489.51 1536.89 Q1492.66 1536.89 1494.49 1534.73 Q1496.34 1532.56 1496.34 1528.83 Q1496.34 1525.08 1494.49 1522.93 Q1492.66 1520.78 1489.51 1520.78 M1498.79 1506.12 L1498.79 1510.38 Q1497.03 1509.55 1495.23 1509.11 Q1493.44 1508.67 1491.68 1508.67 Q1487.06 1508.67 1484.6 1511.8 Q1482.17 1514.92 1481.82 1521.24 Q1483.19 1519.23 1485.25 1518.16 Q1487.31 1517.07 1489.79 1517.07 Q1494.99 1517.07 1498 1520.24 Q1501.04 1523.39 1501.04 1528.83 Q1501.04 1534.16 1497.89 1537.37 Q1494.74 1540.59 1489.51 1540.59 Q1483.51 1540.59 1480.34 1536.01 Q1477.17 1531.4 1477.17 1522.67 Q1477.17 1514.48 1481.06 1509.62 Q1484.95 1504.73 1491.5 1504.73 Q1493.26 1504.73 1495.04 1505.08 Q1496.85 1505.43 1498.79 1506.12 Z\" fill=\"#000000\" fill-rule=\"evenodd\" fill-opacity=\"1\" /><path clip-path=\"url(#clip060)\" d=\"M 0 0 M1516.11 1508.44 Q1512.49 1508.44 1510.67 1512 Q1508.86 1515.55 1508.86 1522.67 Q1508.86 1529.78 1510.67 1533.35 Q1512.49 1536.89 1516.11 1536.89 Q1519.74 1536.89 1521.55 1533.35 Q1523.37 1529.78 1523.37 1522.67 Q1523.37 1515.55 1521.55 1512 Q1519.74 1508.44 1516.11 1508.44 M1516.11 1504.73 Q1521.92 1504.73 1524.97 1509.34 Q1528.05 1513.92 1528.05 1522.67 Q1528.05 1531.4 1524.97 1536.01 Q1521.92 1540.59 1516.11 1540.59 Q1510.3 1540.59 1507.22 1536.01 Q1504.16 1531.4 1504.16 1522.67 Q1504.16 1513.92 1507.22 1509.34 Q1510.3 1504.73 1516.11 1504.73 Z\" fill=\"#000000\" fill-rule=\"evenodd\" fill-opacity=\"1\" /><path clip-path=\"url(#clip060)\" d=\"M 0 0 M1543.12 1508.44 Q1539.51 1508.44 1537.68 1512 Q1535.87 1515.55 1535.87 1522.67 Q1535.87 1529.78 1537.68 1533.35 Q1539.51 1536.89 1543.12 1536.89 Q1546.75 1536.89 1548.56 1533.35 Q1550.39 1529.78 1550.39 1522.67 Q1550.39 1515.55 1548.56 1512 Q1546.75 1508.44 1543.12 1508.44 M1543.12 1504.73 Q1548.93 1504.73 1551.99 1509.34 Q1555.06 1513.92 1555.06 1522.67 Q1555.06 1531.4 1551.99 1536.01 Q1548.93 1540.59 1543.12 1540.59 Q1537.31 1540.59 1534.23 1536.01 Q1531.18 1531.4 1531.18 1522.67 Q1531.18 1513.92 1534.23 1509.34 Q1537.31 1504.73 1543.12 1504.73 Z\" fill=\"#000000\" fill-rule=\"evenodd\" fill-opacity=\"1\" /><path clip-path=\"url(#clip060)\" d=\"M 0 0 M897.869 1466.73 L905.508 1466.73 L905.508 1440.37 L897.198 1442.03 L897.198 1437.78 L905.462 1436.11 L910.137 1436.11 L910.137 1466.73 L917.776 1466.73 L917.776 1470.67 L897.869 1470.67 L897.869 1466.73 Z\" fill=\"#000000\" fill-rule=\"evenodd\" fill-opacity=\"1\" /><path clip-path=\"url(#clip060)\" d=\"M 0 0 M932.846 1439.19 Q929.235 1439.19 927.406 1442.75 Q925.6 1446.29 925.6 1453.42 Q925.6 1460.53 927.406 1464.09 Q929.235 1467.64 932.846 1467.64 Q936.48 1467.64 938.285 1464.09 Q940.114 1460.53 940.114 1453.42 Q940.114 1446.29 938.285 1442.75 Q936.48 1439.19 932.846 1439.19 M932.846 1435.48 Q938.656 1435.48 941.711 1440.09 Q944.79 1444.67 944.79 1453.42 Q944.79 1462.15 941.711 1466.76 Q938.656 1471.34 932.846 1471.34 Q927.035 1471.34 923.957 1466.76 Q920.901 1462.15 920.901 1453.42 Q920.901 1444.67 923.957 1440.09 Q927.035 1435.48 932.846 1435.48 Z\" fill=\"#000000\" fill-rule=\"evenodd\" fill-opacity=\"1\" /><path clip-path=\"url(#clip060)\" d=\"M 0 0 M944.79 1431.16 L954.927 1431.16 L954.927 1434.25 L944.79 1434.25 L944.79 1431.16 Z\" fill=\"#000000\" fill-rule=\"evenodd\" fill-opacity=\"1\" /><path clip-path=\"url(#clip060)\" d=\"M 0 0 M981.597 1428.12 Q984.324 1428.7 985.847 1430.54 Q987.39 1432.39 987.39 1435.1 Q987.39 1439.25 984.531 1441.53 Q981.672 1443.8 976.406 1443.8 Q974.638 1443.8 972.757 1443.45 Q970.895 1443.11 968.902 1442.41 L968.902 1438.74 Q970.481 1439.67 972.362 1440.14 Q974.243 1440.61 976.293 1440.61 Q979.866 1440.61 981.728 1439.2 Q983.609 1437.78 983.609 1435.1 Q983.609 1432.61 981.86 1431.22 Q980.13 1429.81 977.027 1429.81 L973.754 1429.81 L973.754 1426.69 L977.177 1426.69 Q979.979 1426.69 981.465 1425.58 Q982.951 1424.45 982.951 1422.34 Q982.951 1420.18 981.409 1419.03 Q979.885 1417.87 977.027 1417.87 Q975.465 1417.87 973.679 1418.21 Q971.892 1418.54 969.748 1419.26 L969.748 1415.87 Q971.911 1415.27 973.792 1414.97 Q975.691 1414.67 977.365 1414.67 Q981.691 1414.67 984.211 1416.65 Q986.731 1418.6 986.731 1421.95 Q986.731 1424.28 985.396 1425.9 Q984.061 1427.5 981.597 1428.12 Z\" fill=\"#000000\" fill-rule=\"evenodd\" fill-opacity=\"1\" /><path clip-path=\"url(#clip060)\" d=\"M 0 0 M898.527 1374.59 L906.166 1374.59 L906.166 1348.23 L897.856 1349.89 L897.856 1345.63 L906.12 1343.97 L910.796 1343.97 L910.796 1374.59 L918.435 1374.59 L918.435 1378.53 L898.527 1378.53 L898.527 1374.59 Z\" fill=\"#000000\" fill-rule=\"evenodd\" fill-opacity=\"1\" /><path clip-path=\"url(#clip060)\" d=\"M 0 0 M933.504 1347.05 Q929.893 1347.05 928.064 1350.61 Q926.259 1354.15 926.259 1361.28 Q926.259 1368.39 928.064 1371.95 Q929.893 1375.5 933.504 1375.5 Q937.138 1375.5 938.944 1371.95 Q940.772 1368.39 940.772 1361.28 Q940.772 1354.15 938.944 1350.61 Q937.138 1347.05 933.504 1347.05 M933.504 1343.34 Q939.314 1343.34 942.37 1347.95 Q945.448 1352.53 945.448 1361.28 Q945.448 1370.01 942.37 1374.62 Q939.314 1379.2 933.504 1379.2 Q927.694 1379.2 924.615 1374.62 Q921.56 1370.01 921.56 1361.28 Q921.56 1352.53 924.615 1347.95 Q927.694 1343.34 933.504 1343.34 Z\" fill=\"#000000\" fill-rule=\"evenodd\" fill-opacity=\"1\" /><path clip-path=\"url(#clip060)\" d=\"M 0 0 M945.448 1339.02 L955.586 1339.02 L955.586 1342.11 L945.448 1342.11 L945.448 1339.02 Z\" fill=\"#000000\" fill-rule=\"evenodd\" fill-opacity=\"1\" /><path clip-path=\"url(#clip060)\" d=\"M 0 0 M974.13 1347.92 L987.39 1347.92 L987.39 1351.12 L969.56 1351.12 L969.56 1347.92 Q971.723 1345.68 975.447 1341.92 Q979.189 1338.14 980.149 1337.05 Q981.973 1335 982.688 1333.59 Q983.421 1332.16 983.421 1330.79 Q983.421 1328.55 981.841 1327.14 Q980.28 1325.73 977.76 1325.73 Q975.973 1325.73 973.98 1326.35 Q972.005 1326.97 969.748 1328.23 L969.748 1324.39 Q972.042 1323.47 974.036 1323 Q976.03 1322.53 977.685 1322.53 Q982.048 1322.53 984.644 1324.71 Q987.239 1326.89 987.239 1330.54 Q987.239 1332.27 986.581 1333.83 Q985.941 1335.38 984.23 1337.48 Q983.76 1338.03 981.239 1340.64 Q978.719 1343.24 974.13 1347.92 Z\" fill=\"#000000\" fill-rule=\"evenodd\" fill-opacity=\"1\" /><path clip-path=\"url(#clip060)\" d=\"M 0 0 M899.637 1282.45 L907.276 1282.45 L907.276 1256.09 L898.966 1257.75 L898.966 1253.49 L907.229 1251.83 L911.905 1251.83 L911.905 1282.45 L919.544 1282.45 L919.544 1286.39 L899.637 1286.39 L899.637 1282.45 Z\" fill=\"#000000\" fill-rule=\"evenodd\" fill-opacity=\"1\" /><path clip-path=\"url(#clip060)\" d=\"M 0 0 M934.614 1254.91 Q931.002 1254.91 929.174 1258.47 Q927.368 1262.01 927.368 1269.14 Q927.368 1276.25 929.174 1279.81 Q931.002 1283.36 934.614 1283.36 Q938.248 1283.36 940.053 1279.81 Q941.882 1276.25 941.882 1269.14 Q941.882 1262.01 940.053 1258.47 Q938.248 1254.91 934.614 1254.91 M934.614 1251.2 Q940.424 1251.2 943.479 1255.81 Q946.558 1260.39 946.558 1269.14 Q946.558 1277.87 943.479 1282.48 Q940.424 1287.06 934.614 1287.06 Q928.803 1287.06 925.725 1282.48 Q922.669 1277.87 922.669 1269.14 Q922.669 1260.39 925.725 1255.81 Q928.803 1251.2 934.614 1251.2 Z\" fill=\"#000000\" fill-rule=\"evenodd\" fill-opacity=\"1\" /><path clip-path=\"url(#clip060)\" d=\"M 0 0 M946.558 1246.88 L956.695 1246.88 L956.695 1249.97 L946.558 1249.97 L946.558 1246.88 Z\" fill=\"#000000\" fill-rule=\"evenodd\" fill-opacity=\"1\" /><path clip-path=\"url(#clip060)\" d=\"M 0 0 M971.215 1255.78 L977.421 1255.78 L977.421 1234.36 L970.67 1235.71 L970.67 1232.25 L977.384 1230.9 L981.183 1230.9 L981.183 1255.78 L987.39 1255.78 L987.39 1258.98 L971.215 1258.98 L971.215 1255.78 Z\" fill=\"#000000\" fill-rule=\"evenodd\" fill-opacity=\"1\" /><path clip-path=\"url(#clip060)\" d=\"M 0 0 M921.059 1190.31 L928.698 1190.31 L928.698 1163.95 L920.388 1165.61 L920.388 1161.35 L928.651 1159.69 L933.327 1159.69 L933.327 1190.31 L940.966 1190.31 L940.966 1194.25 L921.059 1194.25 L921.059 1190.31 Z\" fill=\"#000000\" fill-rule=\"evenodd\" fill-opacity=\"1\" /><path clip-path=\"url(#clip060)\" d=\"M 0 0 M956.036 1162.77 Q952.425 1162.77 950.596 1166.33 Q948.79 1169.87 948.79 1177 Q948.79 1184.11 950.596 1187.67 Q952.425 1191.22 956.036 1191.22 Q959.67 1191.22 961.475 1187.67 Q963.304 1184.11 963.304 1177 Q963.304 1169.87 961.475 1166.33 Q959.67 1162.77 956.036 1162.77 M956.036 1159.06 Q961.846 1159.06 964.901 1163.67 Q967.98 1168.25 967.98 1177 Q967.98 1185.73 964.901 1190.34 Q961.846 1194.92 956.036 1194.92 Q950.225 1194.92 947.147 1190.34 Q944.091 1185.73 944.091 1177 Q944.091 1168.25 947.147 1163.67 Q950.225 1159.06 956.036 1159.06 Z\" fill=\"#000000\" fill-rule=\"evenodd\" fill-opacity=\"1\" /><path clip-path=\"url(#clip060)\" d=\"M 0 0 M977.685 1141.26 Q974.751 1141.26 973.265 1144.16 Q971.798 1147.03 971.798 1152.83 Q971.798 1158.6 973.265 1161.5 Q974.751 1164.37 977.685 1164.37 Q980.638 1164.37 982.105 1161.5 Q983.59 1158.6 983.59 1152.83 Q983.59 1147.03 982.105 1144.16 Q980.638 1141.26 977.685 1141.26 M977.685 1138.25 Q982.406 1138.25 984.888 1141.99 Q987.39 1145.72 987.39 1152.83 Q987.39 1159.92 984.888 1163.66 Q982.406 1167.38 977.685 1167.38 Q972.964 1167.38 970.463 1163.66 Q967.98 1159.92 967.98 1152.83 Q967.98 1145.72 970.463 1141.99 Q972.964 1138.25 977.685 1138.25 Z\" fill=\"#000000\" fill-rule=\"evenodd\" fill-opacity=\"1\" /><path clip-path=\"url(#clip060)\" d=\"M 0 0 M923.748 1098.17 L931.387 1098.17 L931.387 1071.81 L923.077 1073.47 L923.077 1069.21 L931.341 1067.55 L936.017 1067.55 L936.017 1098.17 L943.656 1098.17 L943.656 1102.11 L923.748 1102.11 L923.748 1098.17 Z\" fill=\"#000000\" fill-rule=\"evenodd\" fill-opacity=\"1\" /><path clip-path=\"url(#clip060)\" d=\"M 0 0 M958.725 1070.63 Q955.114 1070.63 953.285 1074.19 Q951.48 1077.73 951.48 1084.86 Q951.48 1091.97 953.285 1095.53 Q955.114 1099.07 958.725 1099.07 Q962.359 1099.07 964.165 1095.53 Q965.994 1091.97 965.994 1084.86 Q965.994 1077.73 964.165 1074.19 Q962.359 1070.63 958.725 1070.63 M958.725 1066.92 Q964.535 1066.92 967.591 1071.53 Q970.67 1076.11 970.67 1084.86 Q970.67 1093.59 967.591 1098.2 Q964.535 1102.78 958.725 1102.78 Q952.915 1102.78 949.836 1098.2 Q946.781 1093.59 946.781 1084.86 Q946.781 1076.11 949.836 1071.53 Q952.915 1066.92 958.725 1066.92 Z\" fill=\"#000000\" fill-rule=\"evenodd\" fill-opacity=\"1\" /><path clip-path=\"url(#clip060)\" d=\"M 0 0 M971.215 1071.5 L977.421 1071.5 L977.421 1050.08 L970.67 1051.43 L970.67 1047.97 L977.384 1046.62 L981.183 1046.62 L981.183 1071.5 L987.39 1071.5 L987.39 1074.7 L971.215 1074.7 L971.215 1071.5 Z\" fill=\"#000000\" fill-rule=\"evenodd\" fill-opacity=\"1\" /><path clip-path=\"url(#clip060)\" d=\"M 0 0 M922.639 1006.03 L930.278 1006.03 L930.278 979.666 L921.968 981.333 L921.968 977.074 L930.231 975.407 L934.907 975.407 L934.907 1006.03 L942.546 1006.03 L942.546 1009.97 L922.639 1009.97 L922.639 1006.03 Z\" fill=\"#000000\" fill-rule=\"evenodd\" fill-opacity=\"1\" /><path clip-path=\"url(#clip060)\" d=\"M 0 0 M957.615 978.486 Q954.004 978.486 952.176 982.051 Q950.37 985.592 950.37 992.722 Q950.37 999.828 952.176 1003.39 Q954.004 1006.93 957.615 1006.93 Q961.25 1006.93 963.055 1003.39 Q964.884 999.828 964.884 992.722 Q964.884 985.592 963.055 982.051 Q961.25 978.486 957.615 978.486 M957.615 974.782 Q963.426 974.782 966.481 979.389 Q969.56 983.972 969.56 992.722 Q969.56 1001.45 966.481 1006.06 Q963.426 1010.64 957.615 1010.64 Q951.805 1010.64 948.727 1006.06 Q945.671 1001.45 945.671 992.722 Q945.671 983.972 948.727 979.389 Q951.805 974.782 957.615 974.782 Z\" fill=\"#000000\" fill-rule=\"evenodd\" fill-opacity=\"1\" /><path clip-path=\"url(#clip060)\" d=\"M 0 0 M974.13 979.359 L987.39 979.359 L987.39 982.557 L969.56 982.557 L969.56 979.359 Q971.723 977.121 975.447 973.36 Q979.189 969.579 980.149 968.489 Q981.973 966.438 982.688 965.028 Q983.421 963.598 983.421 962.226 Q983.421 959.987 981.841 958.577 Q980.28 957.166 977.76 957.166 Q975.973 957.166 973.98 957.787 Q972.005 958.408 969.748 959.668 L969.748 955.831 Q972.042 954.909 974.036 954.439 Q976.03 953.969 977.685 953.969 Q982.048 953.969 984.644 956.151 Q987.239 958.332 987.239 961.981 Q987.239 963.711 986.581 965.272 Q985.941 966.815 984.23 968.921 Q983.76 969.467 981.239 972.081 Q978.719 974.676 974.13 979.359 Z\" fill=\"#000000\" fill-rule=\"evenodd\" fill-opacity=\"1\" /><path clip-path=\"url(#clip060)\" d=\"M 0 0 M1111.81 812.096 L1124 812.096 L1139.44 853.253 L1154.95 812.096 L1167.15 812.096 L1167.15 872.576 L1159.17 872.576 L1159.17 819.469 L1143.57 860.95 L1135.35 860.95 L1119.75 819.469 L1119.75 872.576 L1111.81 872.576 L1111.81 812.096 Z\" fill=\"#000000\" fill-rule=\"evenodd\" fill-opacity=\"1\" /><path clip-path=\"url(#clip060)\" d=\"M 0 0 M1213.77 848.028 L1213.77 851.673 L1179.5 851.673 Q1179.99 859.37 1184.12 863.421 Q1188.29 867.431 1195.7 867.431 Q1200 867.431 1204.01 866.378 Q1208.06 865.325 1212.03 863.218 L1212.03 870.267 Q1208.02 871.968 1203.81 872.86 Q1199.59 873.751 1195.26 873.751 Q1184.4 873.751 1178.04 867.431 Q1171.72 861.112 1171.72 850.337 Q1171.72 839.197 1177.72 832.675 Q1183.75 826.112 1193.96 826.112 Q1203.12 826.112 1208.42 832.026 Q1213.77 837.9 1213.77 848.028 M1206.32 845.84 Q1206.24 839.723 1202.87 836.077 Q1199.55 832.432 1194.04 832.432 Q1187.81 832.432 1184.04 835.956 Q1180.31 839.48 1179.74 845.881 L1206.32 845.84 Z\" fill=\"#000000\" fill-rule=\"evenodd\" fill-opacity=\"1\" /><path clip-path=\"url(#clip060)\" d=\"M 0 0 M1228.96 814.324 L1228.96 827.206 L1244.32 827.206 L1244.32 832.999 L1228.96 832.999 L1228.96 857.628 Q1228.96 863.178 1230.46 864.758 Q1232 866.338 1236.66 866.338 L1244.32 866.338 L1244.32 872.576 L1236.66 872.576 Q1228.03 872.576 1224.75 869.376 Q1221.47 866.135 1221.47 857.628 L1221.47 832.999 L1216 832.999 L1216 827.206 L1221.47 827.206 L1221.47 814.324 L1228.96 814.324 Z\" fill=\"#000000\" fill-rule=\"evenodd\" fill-opacity=\"1\" /><path clip-path=\"url(#clip060)\" d=\"M 0 0 M1289.85 845.192 L1289.85 872.576 L1282.39 872.576 L1282.39 845.435 Q1282.39 838.994 1279.88 835.794 Q1277.37 832.594 1272.35 832.594 Q1266.31 832.594 1262.83 836.442 Q1259.34 840.29 1259.34 846.934 L1259.34 872.576 L1251.85 872.576 L1251.85 809.544 L1259.34 809.544 L1259.34 834.254 Q1262.02 830.163 1265.62 828.138 Q1269.27 826.112 1274.01 826.112 Q1281.83 826.112 1285.84 830.973 Q1289.85 835.794 1289.85 845.192 Z\" fill=\"#000000\" fill-rule=\"evenodd\" fill-opacity=\"1\" /><path clip-path=\"url(#clip060)\" d=\"M 0 0 M1315.25 832.432 Q1309.25 832.432 1305.77 837.131 Q1302.28 841.789 1302.28 849.931 Q1302.28 858.074 1305.73 862.773 Q1309.21 867.431 1315.25 867.431 Q1321.2 867.431 1324.69 862.732 Q1328.17 858.033 1328.17 849.931 Q1328.17 841.87 1324.69 837.171 Q1321.2 832.432 1315.25 832.432 M1315.25 826.112 Q1324.97 826.112 1330.52 832.432 Q1336.07 838.751 1336.07 849.931 Q1336.07 861.071 1330.52 867.431 Q1324.97 873.751 1315.25 873.751 Q1305.48 873.751 1299.93 867.431 Q1294.43 861.071 1294.43 849.931 Q1294.43 838.751 1299.93 832.432 Q1305.48 826.112 1315.25 826.112 Z\" fill=\"#000000\" fill-rule=\"evenodd\" fill-opacity=\"1\" /><path clip-path=\"url(#clip060)\" d=\"M 0 0 M1373.74 834.092 L1373.74 809.544 L1381.2 809.544 L1381.2 872.576 L1373.74 872.576 L1373.74 865.77 Q1371.39 869.821 1367.79 871.806 Q1364.22 873.751 1359.2 873.751 Q1350.98 873.751 1345.79 867.188 Q1340.65 860.626 1340.65 849.931 Q1340.65 839.237 1345.79 832.675 Q1350.98 826.112 1359.2 826.112 Q1364.22 826.112 1367.79 828.097 Q1371.39 830.042 1373.74 834.092 M1348.34 849.931 Q1348.34 858.155 1351.7 862.854 Q1355.11 867.512 1361.02 867.512 Q1366.94 867.512 1370.34 862.854 Q1373.74 858.155 1373.74 849.931 Q1373.74 841.708 1370.34 837.05 Q1366.94 832.351 1361.02 832.351 Q1355.11 832.351 1351.7 837.05 Q1348.34 841.708 1348.34 849.931 Z\" fill=\"#000000\" fill-rule=\"evenodd\" fill-opacity=\"1\" /><path clip-path=\"url(#clip060)\" d=\"M 0 0 M1416.52 812.096 L1448.64 812.096 L1448.64 818.983 L1424.01 818.983 L1424.01 833.809 Q1425.8 833.201 1427.58 832.918 Q1429.36 832.594 1431.14 832.594 Q1441.27 832.594 1447.18 838.143 Q1453.1 843.693 1453.1 853.172 Q1453.1 862.935 1447.02 868.363 Q1440.95 873.751 1429.89 873.751 Q1426.08 873.751 1422.11 873.103 Q1418.18 872.454 1413.97 871.158 L1413.97 862.935 Q1417.61 864.92 1421.5 865.892 Q1425.39 866.864 1429.73 866.864 Q1436.73 866.864 1440.82 863.178 Q1444.92 859.492 1444.92 853.172 Q1444.92 846.853 1440.82 843.166 Q1436.73 839.48 1429.73 839.48 Q1426.44 839.48 1423.16 840.209 Q1419.92 840.938 1416.52 842.478 L1416.52 812.096 Z\" fill=\"#000000\" fill-rule=\"evenodd\" fill-opacity=\"1\" /><polyline clip-path=\"url(#clip066)\" style=\"stroke:#009af9; stroke-width:4; stroke-opacity:1; fill:none\" points=\"\n",
       "  1026.73,939.405 1027.55,953.912 1028.37,971.52 1029.18,993.619 1030,1023.02 1030.82,1066.83 1031.63,1155.61 1032.45,1160.77 1033.27,1082.74 1034.09,1049.86 \n",
       "  1034.9,1160.77 1035.72,1032.22 1036.54,1036.55 1037.35,1041.13 1038.17,1045.96 1038.99,1051.13 1039.8,1056.32 1040.62,1062.27 1041.44,1068.22 1042.26,1074.91 \n",
       "  1043.07,1081.96 1043.89,1089.51 1044.71,1097.71 1045.52,1106.56 1046.34,1115.95 1047.16,1126.67 1047.97,1138.35 1048.79,1151.28 1049.61,1165.91 1050.43,1182.04 \n",
       "  1051.24,1200.3 1052.06,1220.33 1052.88,1239.48 1053.69,1252.49 1054.51,1252.67 1055.33,1242.56 1056.15,1229.47 1056.96,1217.31 1057.78,1207.31 1058.6,1199.81 \n",
       "  1059.41,1193.39 1060.23,1188.91 1061.05,1185.74 1061.86,1183.58 1062.68,1182.63 1063.5,1182.39 1064.32,1182.08 1065.13,1184.34 1065.95,1186.14 1066.77,1188.99 \n",
       "  1067.58,1192.21 1068.4,1196.5 1069.22,1201.21 1070.03,1205.91 1070.85,1211.67 1071.67,1217.8 1072.49,1224 1073.3,1229.89 1074.12,1235.96 1074.94,1241.84 \n",
       "  1075.75,1246.61 1076.57,1250.76 1077.39,1253.3 1078.2,1254.47 1079.02,1254.78 1079.84,1253.96 1080.66,1252.65 1081.47,1251.35 1082.29,1249.57 1083.11,1248.04 \n",
       "  1083.92,1246.62 1084.74,1245.6 1085.56,1245.02 1086.37,1244.71 1087.19,1244.85 1088.01,1244.94 1088.83,1245.61 1089.64,1246.1 1090.46,1247.21 1091.28,1248.29 \n",
       "  1092.09,1249.05 1092.91,1250.39 1093.73,1251.19 1094.54,1252.34 1095.36,1253.21 1096.18,1253.82 1097,1254.44 1097.81,1254.87 1098.63,1255.06 1099.45,1255.2 \n",
       "  1100.26,1255.29 1101.08,1255.19 1101.9,1255.11 1102.71,1255.08 1103.53,1254.94 1104.35,1254.82 1105.17,1254.58 1105.98,1254.6 1106.8,1254.51 1107.62,1254.58 \n",
       "  1108.43,1254.63 1109.25,1254.75 1110.07,1254.77 1110.88,1254.97 1111.7,1255.09 1112.52,1255.22 1113.34,1255.28 1114.15,1255.4 1114.97,1255.55 1115.79,1255.6 \n",
       "  1116.6,1255.72 1117.42,1255.72 1118.24,1255.78 1119.05,1255.77 1119.87,1255.9 1120.69,1255.83 1121.51,1255.86 1122.32,1255.9 1123.14,1255.89 1123.96,1255.89 \n",
       "  1124.77,1255.93 1125.59,1255.91 1126.41,1256 1127.22,1256.01 1128.04,1256.06 1128.86,1256.01 1129.68,1256.13 1130.49,1256.16 1131.31,1256.12 1132.13,1256.17 \n",
       "  1132.94,1256.24 1133.76,1256.29 1134.58,1256.3 1135.39,1256.34 1136.21,1256.37 1137.03,1256.33 1137.85,1256.46 1138.66,1256.38 1139.48,1256.48 1140.3,1256.47 \n",
       "  1141.11,1256.52 1141.93,1256.56 1142.75,1256.58 1143.56,1256.56 1144.38,1256.66 1145.2,1256.64 1146.02,1256.68 1146.83,1256.72 1147.65,1256.77 1148.47,1256.75 \n",
       "  1149.28,1256.78 1150.1,1256.85 1150.92,1256.85 1151.73,1256.87 1152.55,1256.89 1153.37,1256.98 1154.19,1256.98 1155,1257.01 1155.82,1257.05 1156.64,1257.07 \n",
       "  1157.45,1257.06 1158.27,1257.13 1159.09,1257.2 1159.9,1257.2 1160.72,1257.25 1161.54,1257.28 1162.36,1257.3 1163.17,1257.25 1163.99,1257.35 1164.81,1257.35 \n",
       "  1165.62,1257.33 1166.44,1257.41 1167.26,1257.48 1168.07,1257.44 1168.89,1257.54 1169.71,1257.56 1170.53,1257.62 1171.34,1257.6 1172.16,1257.66 1172.98,1257.66 \n",
       "  1173.79,1257.72 1174.61,1257.7 1175.43,1257.8 1176.24,1257.83 1177.06,1257.79 1177.88,1257.87 1178.7,1257.96 1179.51,1257.93 1180.33,1257.97 1181.15,1258 \n",
       "  1181.96,1258.03 1182.78,1258.1 1183.6,1258.11 1184.41,1258.15 1185.23,1258.16 1186.05,1258.21 1186.87,1258.23 1187.68,1258.2 1188.5,1258.29 1189.32,1258.33 \n",
       "  1190.13,1258.37 1190.95,1258.35 1191.77,1258.49 1192.58,1258.46 1193.4,1258.45 1194.22,1258.57 1195.04,1258.56 1195.85,1258.56 1196.67,1258.63 1197.49,1258.66 \n",
       "  1198.3,1258.72 1199.12,1258.73 1199.94,1258.82 1200.75,1258.84 1201.57,1258.88 1202.39,1258.88 1203.21,1258.91 1204.02,1258.95 1204.84,1258.99 1205.66,1259.09 \n",
       "  1206.47,1259.05 1207.29,1259.12 1208.11,1259.16 1208.92,1259.2 1209.74,1259.22 1210.56,1259.24 1211.38,1259.29 1212.19,1259.36 1213.01,1259.38 1213.83,1259.42 \n",
       "  1214.64,1259.42 1215.46,1259.46 1216.28,1259.49 1217.09,1259.59 1217.91,1259.62 1218.73,1259.62 1219.55,1259.64 1220.36,1259.72 1221.18,1259.72 1222,1259.77 \n",
       "  1222.81,1259.75 1223.63,1259.86 1224.45,1259.88 1225.26,1259.92 1226.08,1259.91 1226.9,1259.95 1227.72,1260.07 1228.53,1260.11 1229.35,1260.1 1230.17,1260.15 \n",
       "  1230.98,1260.2 1231.8,1260.25 1232.62,1260.26 1233.43,1260.35 1234.25,1260.33 1235.07,1260.34 1235.89,1260.46 1236.7,1260.47 1237.52,1260.5 1238.34,1260.56 \n",
       "  1239.15,1260.57 1239.97,1260.63 1240.79,1260.64 1241.6,1260.7 1242.42,1260.73 1243.24,1260.76 1244.06,1260.84 1244.87,1260.91 1245.69,1260.91 1246.51,1260.93 \n",
       "  1247.32,1260.97 1248.14,1261.02 1248.96,1261.01 1249.77,1261.07 1250.59,1261.2 1251.41,1261.14 1252.23,1261.26 1253.04,1261.23 1253.86,1261.29 1254.68,1261.37 \n",
       "  1255.49,1261.44 1256.31,1261.44 1257.13,1261.47 1257.94,1261.54 1258.76,1261.57 1259.58,1261.62 1260.4,1261.65 1261.21,1261.69 1262.03,1261.74 1262.85,1261.82 \n",
       "  1263.66,1261.83 1264.48,1261.84 1265.3,1261.91 1266.11,1261.91 1266.93,1261.91 1267.75,1261.98 1268.57,1262.07 1269.38,1262.13 1270.2,1262.18 1271.02,1262.22 \n",
       "  1271.83,1262.22 1272.65,1262.27 1273.47,1262.31 1274.28,1262.33 1275.1,1262.43 1275.92,1262.46 1276.74,1262.49 1277.55,1262.53 1278.37,1262.61 1279.19,1262.62 \n",
       "  1280,1262.66 1280.82,1262.69 1281.64,1262.77 1282.45,1262.8 1283.27,1262.8 1284.09,1262.93 1284.91,1262.93 1285.72,1262.94 1286.54,1263 1287.36,1263.07 \n",
       "  1288.17,1263.11 1288.99,1263.15 1289.81,1263.24 1290.62,1263.18 1291.44,1263.31 1292.26,1263.36 1293.08,1263.37 1293.89,1263.44 1294.71,1263.45 1295.53,1263.54 \n",
       "  1296.34,1263.55 1297.16,1263.67 1297.98,1263.68 1298.79,1263.71 1299.61,1263.69 1300.43,1263.78 1301.25,1263.84 1302.06,1263.93 1302.88,1263.97 1303.7,1264.01 \n",
       "  1304.51,1263.98 1305.33,1264.05 1306.15,1264.16 1306.96,1264.2 1307.78,1264.23 1308.6,1264.28 1309.42,1264.3 1310.23,1264.37 1311.05,1264.43 1311.87,1264.44 \n",
       "  1312.68,1264.49 1313.5,1264.52 1314.32,1264.62 1315.13,1264.66 1315.95,1264.7 1316.77,1264.74 1317.59,1264.82 1318.4,1264.84 1319.22,1264.91 1320.04,1264.92 \n",
       "  1320.85,1264.98 1321.67,1265.06 1322.49,1265.1 1323.3,1265.13 1324.12,1265.22 1324.94,1265.16 1325.76,1265.31 1326.57,1265.33 1327.39,1265.4 1328.21,1265.41 \n",
       "  1329.02,1265.51 1329.84,1265.53 1330.66,1265.58 1331.47,1265.63 1332.29,1265.71 1333.11,1265.77 1333.93,1265.76 1334.74,1265.86 1335.56,1265.85 1336.38,1265.91 \n",
       "  1337.19,1265.91 1338.01,1266.04 1338.83,1266.05 1339.64,1266.14 1340.46,1266.16 1341.28,1266.2 1342.1,1266.32 1342.91,1266.29 1343.73,1266.37 1344.55,1266.42 \n",
       "  1345.36,1266.44 1346.18,1266.49 1347,1266.57 1347.81,1266.63 1348.63,1266.68 1349.45,1266.74 1350.27,1266.72 1351.08,1266.85 1351.9,1266.89 1352.72,1266.92 \n",
       "  1353.53,1266.98 1354.35,1267.04 1355.17,1267.08 1355.98,1267.1 1356.8,1267.25 1357.62,1267.21 1358.44,1267.25 1359.25,1267.34 1360.07,1267.43 1360.89,1267.42 \n",
       "  1361.7,1267.49 1362.52,1267.59 1363.34,1267.57 1364.15,1267.69 1364.97,1267.75 1365.79,1267.75 1366.61,1267.85 1367.42,1267.86 1368.24,1267.94 1369.06,1267.93 \n",
       "  1369.87,1268.03 1370.69,1268.04 1371.51,1268.09 1372.32,1268.2 1373.14,1268.26 1373.96,1268.32 1374.78,1268.31 1375.59,1268.42 1376.41,1268.45 1377.23,1268.51 \n",
       "  1378.04,1268.56 1378.86,1268.66 1379.68,1268.68 1380.49,1268.69 1381.31,1268.8 1382.13,1268.79 1382.95,1268.88 1383.76,1268.94 1384.58,1269.02 1385.4,1269.02 \n",
       "  1386.21,1269.1 1387.03,1269.16 1387.85,1269.23 1388.67,1269.28 1389.48,1269.31 1390.3,1269.38 1391.12,1269.45 1391.93,1269.46 1392.75,1269.56 1393.57,1269.56 \n",
       "  1394.38,1269.66 1395.2,1269.76 1396.02,1269.75 1396.84,1269.76 1397.65,1269.88 1398.47,1269.97 1399.29,1270 1400.1,1270.09 1400.92,1270.14 1401.74,1270.18 \n",
       "  1402.55,1270.25 1403.37,1270.28 1404.19,1270.36 1405.01,1270.45 1405.82,1270.49 1406.64,1270.5 1407.46,1270.59 1408.27,1270.63 1409.09,1270.66 1409.91,1270.75 \n",
       "  1410.72,1270.82 1411.54,1270.84 1412.36,1270.92 1413.18,1270.97 1413.99,1271.01 1414.81,1271.08 1415.63,1271.1 1416.44,1271.21 1417.26,1271.26 1418.08,1271.33 \n",
       "  1418.89,1271.38 1419.71,1271.47 1420.53,1271.49 1421.35,1271.59 1422.16,1271.59 1422.98,1271.66 1423.8,1271.72 1424.61,1271.79 1425.43,1271.88 1426.25,1271.91 \n",
       "  1427.06,1271.96 1427.88,1272.05 1428.7,1272.1 1429.52,1272.08 1430.33,1272.18 1431.15,1272.26 1431.97,1272.35 1432.78,1272.35 1433.6,1272.39 1434.42,1272.49 \n",
       "  1435.23,1272.61 1436.05,1272.64 1436.87,1272.63 1437.69,1272.74 1438.5,1272.77 1439.32,1272.81 1440.14,1272.91 1440.95,1273.01 1441.77,1273.04 1442.59,1273.05 \n",
       "  1443.4,1273.17 1444.22,1273.2 1445.04,1273.23 1445.86,1273.36 1446.67,1273.39 1447.49,1273.47 1448.31,1273.51 1449.12,1273.59 1449.94,1273.66 1450.76,1273.69 \n",
       "  1451.57,1273.78 1452.39,1273.85 1453.21,1273.92 1454.03,1273.92 1454.84,1274.01 1455.66,1274.08 1456.48,1274.14 1457.29,1274.25 1458.11,1274.3 1458.93,1274.29 \n",
       "  1459.74,1274.37 1460.56,1274.46 1461.38,1274.47 1462.2,1274.58 1463.01,1274.62 1463.83,1274.66 1464.65,1274.72 1465.46,1274.83 1466.28,1274.89 1467.1,1274.97 \n",
       "  1467.91,1275 1468.73,1275.09 1469.55,1275.15 1470.37,1275.21 1471.18,1275.22 1472,1275.3 1472.82,1275.37 1473.63,1275.48 1474.45,1275.5 1475.27,1275.59 \n",
       "  1476.08,1275.61 1476.9,1275.65 1477.72,1275.73 1478.54,1275.81 1479.35,1275.85 1480.17,1275.98 1480.99,1276.05 1481.8,1276.14 1482.62,1276.14 1483.44,1276.16 \n",
       "  1484.25,1276.26 1485.07,1276.32 1485.89,1276.39 1486.71,1276.49 1487.52,1276.51 1488.34,1276.56 1489.16,1276.66 1489.97,1276.72 1490.79,1276.82 1491.61,1276.86 \n",
       "  1492.42,1276.96 1493.24,1277.01 1494.06,1277.07 1494.88,1277.12 1495.69,1277.22 1496.51,1277.2 1497.33,1277.3 1498.14,1277.39 1498.96,1277.47 1499.78,1277.51 \n",
       "  1500.59,1277.57 1501.41,1277.65 1502.23,1277.68 1503.05,1277.75 1503.86,1277.81 1504.68,1277.92 1505.5,1277.96 1506.31,1278.03 1507.13,1278.14 1507.95,1278.15 \n",
       "  1508.76,1278.22 1509.58,1278.34 1510.4,1278.32 1511.22,1278.43 1512.03,1278.54 1512.85,1278.6 1513.67,1278.66 1514.48,1278.66 1515.3,1278.77 1516.12,1278.85 \n",
       "  1516.93,1278.92 1517.75,1278.97 1518.57,1279.06 1519.39,1279.09 1520.2,1279.21 1521.02,1279.27 1521.84,1279.26 1522.65,1279.4 1523.47,1279.38 1524.29,1279.48 \n",
       "  1525.1,1279.56 1525.92,1279.56 1526.74,1279.71 1527.56,1281.03 1528.37,1345.66 1529.19,1408.1 1530.01,1416.08 1530.82,1416.11 1531.64,1416.37 1532.46,1447.94 \n",
       "  1533.27,1459.95 1534.09,1467.82 1534.91,1470.06 1535.73,1470.45 1536.54,1470.51 1537.36,1470.51 1538.18,1470.51 \n",
       "  \"/>\n",
       "<path clip-path=\"url(#clip060)\" d=\"\n",
       "M1190.5 1127.95 L1481.52 1127.95 L1481.52 1006.99 L1190.5 1006.99  Z\n",
       "  \" fill=\"#ffffff\" fill-rule=\"evenodd\" fill-opacity=\"1\"/>\n",
       "<polyline clip-path=\"url(#clip060)\" style=\"stroke:#000000; stroke-width:4; stroke-opacity:1; fill:none\" points=\"\n",
       "  1190.5,1127.95 1481.52,1127.95 1481.52,1006.99 1190.5,1006.99 1190.5,1127.95 \n",
       "  \"/>\n",
       "<polyline clip-path=\"url(#clip060)\" style=\"stroke:#009af9; stroke-width:4; stroke-opacity:1; fill:none\" points=\"\n",
       "  1214.5,1067.47 1358.5,1067.47 \n",
       "  \"/>\n",
       "<path clip-path=\"url(#clip060)\" d=\"M 0 0 M1396.34 1087.16 Q1394.54 1091.79 1392.83 1093.2 Q1391.11 1094.61 1388.24 1094.61 L1384.84 1094.61 L1384.84 1091.05 L1387.34 1091.05 Q1389.1 1091.05 1390.07 1090.22 Q1391.04 1089.38 1392.22 1086.28 L1392.99 1084.34 L1382.5 1058.83 L1387.02 1058.83 L1395.12 1079.1 L1403.22 1058.83 L1407.73 1058.83 L1396.34 1087.16 Z\" fill=\"#000000\" fill-rule=\"evenodd\" fill-opacity=\"1\" /><path clip-path=\"url(#clip060)\" d=\"M 0 0 M1413.61 1080.82 L1421.25 1080.82 L1421.25 1054.45 L1412.94 1056.12 L1412.94 1051.86 L1421.21 1050.19 L1425.88 1050.19 L1425.88 1080.82 L1433.52 1080.82 L1433.52 1084.75 L1413.61 1084.75 L1413.61 1080.82 Z\" fill=\"#000000\" fill-rule=\"evenodd\" fill-opacity=\"1\" /></svg>\n"
      ]
     },
     "execution_count": 57,
     "metadata": {},
     "output_type": "execute_result"
    }
   ],
   "source": [
    "A=plot(losses_1a, title=\"Method 1\",yaxis=:log)\n",
    "B=plot(losses_2a, title=\"Method 2\",yaxis=:log)\n",
    "C=plot(losses_3a, title=\"Method 3\",yaxis=:log)\n",
    "D=plot(losses_4a, title=\"Method 4\",yaxis=:log)\n",
    "E=plot(losses_5a, title=\"Method 5\",yaxis=:log)\n",
    "plot(A,B,C,D,E,layout=5)"
   ]
  },
  {
   "cell_type": "markdown",
   "metadata": {},
   "source": [
    "## Philipines"
   ]
  },
  {
   "cell_type": "code",
   "execution_count": 58,
   "metadata": {},
   "outputs": [
    {
     "name": "stdout",
     "output_type": "stream",
     "text": [
      "\"Philippines\""
     ]
    },
    {
     "name": "stderr",
     "output_type": "stream",
     "text": [
      "┌ Warning: `getindex(df::DataFrame, col_ind::ColumnIndex)` is deprecated, use `df[!, col_ind]` instead.\n",
      "│   caller = top-level scope at In[58]:2\n",
      "└ @ Core In[58]:2\n",
      "\u001b[32mloss: 19.4: 100%|█████████████████████████████████████████| Time: 0:00:02\u001b[39m\n",
      "\u001b[32mloss: 5.95:  22%|██████████                               |  ETA: 0:01:20\u001b[39m"
     ]
    },
    {
     "name": "stdout",
     "output_type": "stream",
     "text": [
      "5.95183765509028\n"
     ]
    },
    {
     "name": "stderr",
     "output_type": "stream",
     "text": [
      "\u001b[32mloss: 5.1:  47%|████████████████████                     |  ETA: 0:00:54\u001b[39m"
     ]
    },
    {
     "name": "stdout",
     "output_type": "stream",
     "text": [
      "5.100601861853032\n"
     ]
    },
    {
     "name": "stderr",
     "output_type": "stream",
     "text": [
      "\u001b[32mloss: 4.17:  72%|██████████████████████████████           |  ETA: 0:00:29\u001b[39m"
     ]
    },
    {
     "name": "stdout",
     "output_type": "stream",
     "text": [
      "4.165763544211679\n"
     ]
    },
    {
     "name": "stderr",
     "output_type": "stream",
     "text": [
      "\u001b[32mloss: 3.26:  96%|████████████████████████████████████████ |  ETA: 0:00:04\u001b[39m"
     ]
    },
    {
     "name": "stdout",
     "output_type": "stream",
     "text": [
      "3.2620287636542207\n"
     ]
    },
    {
     "name": "stderr",
     "output_type": "stream",
     "text": [
      "\u001b[32mloss: 3.13: 100%|█████████████████████████████████████████| Time: 0:01:39\u001b[39m\n",
      "\u001b[32mloss: 2.05:  21%|█████████                                |  ETA: 0:01:17\u001b[39m"
     ]
    },
    {
     "name": "stdout",
     "output_type": "stream",
     "text": [
      "2.050384183710744\n"
     ]
    },
    {
     "name": "stderr",
     "output_type": "stream",
     "text": [
      "\u001b[32mloss: 1.15:  46%|███████████████████                      |  ETA: 0:00:52\u001b[39m"
     ]
    },
    {
     "name": "stdout",
     "output_type": "stream",
     "text": [
      "1.1518584936371563\n"
     ]
    },
    {
     "name": "stderr",
     "output_type": "stream",
     "text": [
      "\u001b[32mloss: 0.6:  70%|█████████████████████████████            |  ETA: 0:00:28\u001b[39m"
     ]
    },
    {
     "name": "stdout",
     "output_type": "stream",
     "text": [
      "0.5995083015863881\n"
     ]
    },
    {
     "name": "stderr",
     "output_type": "stream",
     "text": [
      "\u001b[32mloss: 0.287:  95%|███████████████████████████████████████  |  ETA: 0:00:05\u001b[39m"
     ]
    },
    {
     "name": "stdout",
     "output_type": "stream",
     "text": [
      "0.2868486226616532\n"
     ]
    },
    {
     "name": "stderr",
     "output_type": "stream",
     "text": [
      "\u001b[32mloss: 0.245: 100%|█████████████████████████████████████████| Time: 0:01:30\u001b[39m\n",
      "\u001b[32mloss: 0.212:  20%|████████                                 |  ETA: 0:01:10\u001b[39m"
     ]
    },
    {
     "name": "stdout",
     "output_type": "stream",
     "text": [
      "0.21237818513587464\n"
     ]
    },
    {
     "name": "stderr",
     "output_type": "stream",
     "text": [
      "\u001b[32mloss: 0.178:  44%|███████████████████                      |  ETA: 0:00:51\u001b[39m"
     ]
    },
    {
     "name": "stdout",
     "output_type": "stream",
     "text": [
      "0.17775807784326028\n"
     ]
    },
    {
     "name": "stderr",
     "output_type": "stream",
     "text": [
      "\u001b[32mloss: 0.148:  69%|█████████████████████████████            |  ETA: 0:00:29\u001b[39m"
     ]
    },
    {
     "name": "stdout",
     "output_type": "stream",
     "text": [
      "0.14768825945573644\n"
     ]
    },
    {
     "name": "stderr",
     "output_type": "stream",
     "text": [
      "\u001b[32mloss: 0.122:  94%|███████████████████████████████████████  |  ETA: 0:00:06\u001b[39m"
     ]
    },
    {
     "name": "stdout",
     "output_type": "stream",
     "text": [
      "0.12184564852337293\n"
     ]
    },
    {
     "name": "stderr",
     "output_type": "stream",
     "text": [
      "\u001b[32mloss: 0.116: 100%|█████████████████████████████████████████| Time: 0:01:32\u001b[39m\n"
     ]
    },
    {
     "name": "stdout",
     "output_type": "stream",
     "text": [
      "\"Philippines\""
     ]
    },
    {
     "name": "stderr",
     "output_type": "stream",
     "text": [
      "┌ Warning: `getindex(df::DataFrame, col_ind::ColumnIndex)` is deprecated, use `df[!, col_ind]` instead.\n",
      "│   caller = top-level scope at In[58]:3\n",
      "└ @ Core In[58]:3\n",
      "\u001b[32mloss: 19.4: 100%|█████████████████████████████████████████| Time: 0:00:02\u001b[39m\n",
      "\u001b[32mloss: 5.95:   7%|███                                      |  ETA: 0:04:42\u001b[39m"
     ]
    },
    {
     "name": "stdout",
     "output_type": "stream",
     "text": [
      "5.95183765509028\n"
     ]
    },
    {
     "name": "stderr",
     "output_type": "stream",
     "text": [
      "\u001b[32mloss: 5.1:  16%|███████                                  |  ETA: 0:04:24\u001b[39m"
     ]
    },
    {
     "name": "stdout",
     "output_type": "stream",
     "text": [
      "5.100601861853032\n"
     ]
    },
    {
     "name": "stderr",
     "output_type": "stream",
     "text": [
      "\u001b[32mloss: 4.17:  24%|██████████                               |  ETA: 0:03:50\u001b[39m"
     ]
    },
    {
     "name": "stdout",
     "output_type": "stream",
     "text": [
      "4.165763544211679\n"
     ]
    },
    {
     "name": "stderr",
     "output_type": "stream",
     "text": [
      "\u001b[32mloss: 3.26:  32%|██████████████                           |  ETA: 0:03:25\u001b[39m"
     ]
    },
    {
     "name": "stdout",
     "output_type": "stream",
     "text": [
      "3.2620287636542207\n"
     ]
    },
    {
     "name": "stderr",
     "output_type": "stream",
     "text": [
      "\u001b[32mloss: 2.45:  40%|█████████████████                        |  ETA: 0:02:58\u001b[39m"
     ]
    },
    {
     "name": "stdout",
     "output_type": "stream",
     "text": [
      "2.4537390193189466\n"
     ]
    },
    {
     "name": "stderr",
     "output_type": "stream",
     "text": [
      "\u001b[32mloss: 1.78:  48%|████████████████████                     |  ETA: 0:02:34\u001b[39m"
     ]
    },
    {
     "name": "stdout",
     "output_type": "stream",
     "text": [
      "1.7752795075716958\n"
     ]
    },
    {
     "name": "stderr",
     "output_type": "stream",
     "text": [
      "\u001b[32mloss: 1.24:  57%|████████████████████████                 |  ETA: 0:02:09\u001b[39m"
     ]
    },
    {
     "name": "stdout",
     "output_type": "stream",
     "text": [
      "1.2368145011988327\n"
     ]
    },
    {
     "name": "stderr",
     "output_type": "stream",
     "text": [
      "\u001b[32mloss: 0.83:  65%|███████████████████████████              |  ETA: 0:01:44\u001b[39m"
     ]
    },
    {
     "name": "stdout",
     "output_type": "stream",
     "text": [
      "0.8301604697474624\n"
     ]
    },
    {
     "name": "stderr",
     "output_type": "stream",
     "text": [
      "\u001b[32mloss: 0.537:  73%|███████████████████████████████          |  ETA: 0:01:18\u001b[39m"
     ]
    },
    {
     "name": "stdout",
     "output_type": "stream",
     "text": [
      "0.5373816045586243\n"
     ]
    },
    {
     "name": "stderr",
     "output_type": "stream",
     "text": [
      "\u001b[32mloss: 0.336:  82%|██████████████████████████████████       |  ETA: 0:00:53\u001b[39m"
     ]
    },
    {
     "name": "stdout",
     "output_type": "stream",
     "text": [
      "0.3357605619953344\n"
     ]
    },
    {
     "name": "stderr",
     "output_type": "stream",
     "text": [
      "\u001b[32mloss: 0.203:  90%|█████████████████████████████████████    |  ETA: 0:00:29\u001b[39m"
     ]
    },
    {
     "name": "stdout",
     "output_type": "stream",
     "text": [
      "0.20326962819861108\n"
     ]
    },
    {
     "name": "stderr",
     "output_type": "stream",
     "text": [
      "\u001b[32mloss: 0.12:  98%|█████████████████████████████████████████|  ETA: 0:00:06\u001b[39m"
     ]
    },
    {
     "name": "stdout",
     "output_type": "stream",
     "text": [
      "0.11994957855655954\n"
     ]
    },
    {
     "name": "stderr",
     "output_type": "stream",
     "text": [
      "\u001b[32mloss: 0.106: 100%|█████████████████████████████████████████| Time: 0:04:40\u001b[39m\n"
     ]
    },
    {
     "name": "stdout",
     "output_type": "stream",
     "text": [
      "\"Philippines\""
     ]
    },
    {
     "name": "stderr",
     "output_type": "stream",
     "text": [
      "┌ Warning: `getindex(df::DataFrame, col_ind::ColumnIndex)` is deprecated, use `df[!, col_ind]` instead.\n",
      "│   caller = top-level scope at In[58]:4\n",
      "└ @ Core In[58]:4\n",
      "\u001b[32mloss: 19.4: 100%|█████████████████████████████████████████| Time: 0:00:02\u001b[39m\n"
     ]
    },
    {
     "name": "stdout",
     "output_type": "stream",
     "text": [
      "\"Philippines\""
     ]
    },
    {
     "name": "stderr",
     "output_type": "stream",
     "text": [
      "┌ Warning: `getindex(df::DataFrame, col_ind::ColumnIndex)` is deprecated, use `df[!, col_ind]` instead.\n",
      "│   caller = top-level scope at In[58]:5\n",
      "└ @ Core In[58]:5\n",
      "\u001b[32mloss: 19.4: 100%|█████████████████████████████████████████| Time: 0:00:02\u001b[39m\n",
      "\u001b[32mloss: 5.95:  44%|███████████████████                      |  ETA: 0:00:26\u001b[39m"
     ]
    },
    {
     "name": "stdout",
     "output_type": "stream",
     "text": [
      "5.95183765509028\n"
     ]
    },
    {
     "name": "stderr",
     "output_type": "stream",
     "text": [
      "\u001b[32mloss: 5.1:  94%|███████████████████████████████████████  |  ETA: 0:00:03\u001b[39m"
     ]
    },
    {
     "name": "stdout",
     "output_type": "stream",
     "text": [
      "5.100601861853032\n"
     ]
    },
    {
     "name": "stderr",
     "output_type": "stream",
     "text": [
      "\u001b[32mloss: 4.98: 100%|█████████████████████████████████████████| Time: 0:00:48\u001b[39m\n",
      "\u001b[32mloss: 0.00118:  35%|███████████████                          |  ETA: 0:00:26\u001b[39m"
     ]
    },
    {
     "name": "stdout",
     "output_type": "stream",
     "text": [
      "0.0011807058351476648\n"
     ]
    },
    {
     "name": "stderr",
     "output_type": "stream",
     "text": [
      "\u001b[32mloss: 0.00116:  84%|███████████████████████████████████      |  ETA: 0:00:06\u001b[39m"
     ]
    },
    {
     "name": "stdout",
     "output_type": "stream",
     "text": [
      "0.001156245211206784\n"
     ]
    },
    {
     "name": "stderr",
     "output_type": "stream",
     "text": [
      "\u001b[32mloss: 0.00116: 100%|█████████████████████████████████████████| Time: 0:00:40\u001b[39m\n",
      "\u001b[32mloss: 3.31e-05:   9%|████                                     |  ETA: 0:00:33\u001b[39m"
     ]
    },
    {
     "name": "stdout",
     "output_type": "stream",
     "text": [
      "3.3070419784367816e-5\n"
     ]
    },
    {
     "name": "stderr",
     "output_type": "stream",
     "text": [
      "\u001b[32mloss: 8.69e-06:  58%|████████████████████████                 |  ETA: 0:00:13\u001b[39m"
     ]
    },
    {
     "name": "stdout",
     "output_type": "stream",
     "text": [
      "8.689003123008487e-6\n"
     ]
    },
    {
     "name": "stderr",
     "output_type": "stream",
     "text": [
      "\u001b[32mloss: 8.69e-06: 100%|█████████████████████████████████████████| Time: 0:00:31\u001b[39m\n"
     ]
    },
    {
     "name": "stdout",
     "output_type": "stream",
     "text": [
      "6.096407150395035e-6\n",
      "\"Philippines"
     ]
    },
    {
     "name": "stderr",
     "output_type": "stream",
     "text": [
      "┌ Warning: `getindex(df::DataFrame, col_ind::ColumnIndex)` is deprecated, use `df[!, col_ind]` instead.\n",
      "│   caller = top-level scope at In[58]:6\n",
      "└ @ Core In[58]:6\n",
      "\u001b[32mloss: 2.55e+04:  10%|█████                                    |  ETA: 0:00:02\u001b[39m"
     ]
    },
    {
     "name": "stdout",
     "output_type": "stream",
     "text": [
      "\""
     ]
    },
    {
     "name": "stderr",
     "output_type": "stream",
     "text": [
      "\u001b[32mloss: 19.4: 100%|█████████████████████████████████████████| Time: 0:00:02\u001b[39m\n",
      "\u001b[32mloss: 5.95:  15%|██████                                   |  ETA: 0:01:58\u001b[39m"
     ]
    },
    {
     "name": "stdout",
     "output_type": "stream",
     "text": [
      "5.95183765509028\n"
     ]
    },
    {
     "name": "stderr",
     "output_type": "stream",
     "text": [
      "\u001b[32mloss: 5.1:  31%|█████████████                            |  ETA: 0:01:35\u001b[39m"
     ]
    },
    {
     "name": "stdout",
     "output_type": "stream",
     "text": [
      "5.100601861853032\n"
     ]
    },
    {
     "name": "stderr",
     "output_type": "stream",
     "text": [
      "\u001b[32mloss: 4.17:  48%|████████████████████                     |  ETA: 0:01:14\u001b[39m"
     ]
    },
    {
     "name": "stdout",
     "output_type": "stream",
     "text": [
      "4.165763544211679\n"
     ]
    },
    {
     "name": "stderr",
     "output_type": "stream",
     "text": [
      "\u001b[32mloss: 3.26:  64%|███████████████████████████              |  ETA: 0:00:50\u001b[39m"
     ]
    },
    {
     "name": "stdout",
     "output_type": "stream",
     "text": [
      "3.2620287636542207\n"
     ]
    },
    {
     "name": "stderr",
     "output_type": "stream",
     "text": [
      "\u001b[32mloss: 2.45:  81%|██████████████████████████████████       |  ETA: 0:00:28\u001b[39m"
     ]
    },
    {
     "name": "stdout",
     "output_type": "stream",
     "text": [
      "2.4537390193189466\n"
     ]
    },
    {
     "name": "stderr",
     "output_type": "stream",
     "text": [
      "\u001b[32mloss: 1.78:  97%|████████████████████████████████████████ |  ETA: 0:00:04\u001b[39m"
     ]
    },
    {
     "name": "stdout",
     "output_type": "stream",
     "text": [
      "1.7752795075716958\n"
     ]
    },
    {
     "name": "stderr",
     "output_type": "stream",
     "text": [
      "\u001b[32mloss: 1.67: 100%|█████████████████████████████████████████| Time: 0:02:25\u001b[39m\n"
     ]
    },
    {
     "data": {
      "text/plain": [
       "(Float32[-0.48074386, -0.11979367, -0.45481244, -0.32488373, 0.114766635, -0.11277536, -0.0963226, -0.032934256, 0.11196223, -0.21347891  …  -0.2173139, -0.28462616, 0.053398367, 0.41406083, -0.40015757, 0.10315175, -0.3004471, 0.079773866, 0.47583404, 0.013388991], Float32[0.002211, -8.480361f-6, -0.00712391, -0.028094666, -0.01954796, 0.014127221, 0.027752532, 0.031572986, 0.033831216, 0.037733186  …  -0.044161804, -0.04654689, -0.045891397, -0.042029824, -0.034871534, -0.024017522, -0.008751557, 0.011924764, 0.038861122, 0.07285806], Any[25491.428483558575, 19459.206997234804, 14340.217640482797, 10031.812743375114, 6535.157403683877, 3856.7036919106727, 1940.282521695559, 727.8257033842134, 125.74626481848155, 19.404615453604453  …  0.008158446850287956, 0.002345582972193024, 0.0014589998679277601, 0.0013473800439276044, 0.0013465982095519225, 0.0013463209905617344, 0.0013460464154949159, 0.0013449390524881573, 0.001344906168368638, 0.001344906168368638])"
      ]
     },
     "execution_count": 58,
     "metadata": {},
     "output_type": "execute_result"
    }
   ],
   "source": [
    "actual1= getCleandataFrame(country3)\n",
    "para_1b,pred_value_1b,losses_1b=train_eqn2_addition_modified(country3, training_1[country3],nnp,trainer1)\n",
    "para_2b,pred_value_2b,losses_2b=train_eqn2_addition_modified(country3, training_1[country3],nnp,trainer2)\n",
    "para_3b,pred_value_3b,losses_3b=train_eqn2_addition_modified(country3, training_1[country3],nnp,trainer3)\n",
    "para_4b,pred_value_4b,losses_4b=train_eqn2_addition_modified(country3, training_1[country3],nnp,trainer4)\n",
    "para_5b,pred_value_5b,losses_5b=train_eqn2_addition_modified(country3, training_1[country3],nnp,trainer5)"
   ]
  },
  {
   "cell_type": "code",
   "execution_count": 63,
   "metadata": {},
   "outputs": [
    {
     "data": {
      "image/svg+xml": [
       "<?xml version=\"1.0\" encoding=\"utf-8\"?>\n",
       "<svg xmlns=\"http://www.w3.org/2000/svg\" xmlns:xlink=\"http://www.w3.org/1999/xlink\" width=\"600\" height=\"400\" viewBox=\"0 0 2400 1600\">\n",
       "<defs>\n",
       "  <clipPath id=\"clip220\">\n",
       "    <rect x=\"0\" y=\"0\" width=\"2400\" height=\"1600\"/>\n",
       "  </clipPath>\n",
       "</defs>\n",
       "<path clip-path=\"url(#clip220)\" d=\"\n",
       "M0 1600 L2400 1600 L2400 0 L0 0  Z\n",
       "  \" fill=\"#ffffff\" fill-rule=\"evenodd\" fill-opacity=\"1\"/>\n",
       "<defs>\n",
       "  <clipPath id=\"clip221\">\n",
       "    <rect x=\"480\" y=\"0\" width=\"1681\" height=\"1600\"/>\n",
       "  </clipPath>\n",
       "</defs>\n",
       "<path clip-path=\"url(#clip220)\" d=\"\n",
       "M211.575 686.448 L758.257 686.448 L758.257 123.472 L211.575 123.472  Z\n",
       "  \" fill=\"#ffffff\" fill-rule=\"evenodd\" fill-opacity=\"1\"/>\n",
       "<defs>\n",
       "  <clipPath id=\"clip222\">\n",
       "    <rect x=\"211\" y=\"123\" width=\"548\" height=\"564\"/>\n",
       "  </clipPath>\n",
       "</defs>\n",
       "<polyline clip-path=\"url(#clip222)\" style=\"stroke:#000000; stroke-width:2; stroke-opacity:0.1; fill:none\" points=\"\n",
       "  226.622,686.448 226.622,123.472 \n",
       "  \"/>\n",
       "<polyline clip-path=\"url(#clip222)\" style=\"stroke:#000000; stroke-width:2; stroke-opacity:0.1; fill:none\" points=\"\n",
       "  311.657,686.448 311.657,123.472 \n",
       "  \"/>\n",
       "<polyline clip-path=\"url(#clip222)\" style=\"stroke:#000000; stroke-width:2; stroke-opacity:0.1; fill:none\" points=\"\n",
       "  396.692,686.448 396.692,123.472 \n",
       "  \"/>\n",
       "<polyline clip-path=\"url(#clip222)\" style=\"stroke:#000000; stroke-width:2; stroke-opacity:0.1; fill:none\" points=\"\n",
       "  481.727,686.448 481.727,123.472 \n",
       "  \"/>\n",
       "<polyline clip-path=\"url(#clip222)\" style=\"stroke:#000000; stroke-width:2; stroke-opacity:0.1; fill:none\" points=\"\n",
       "  566.762,686.448 566.762,123.472 \n",
       "  \"/>\n",
       "<polyline clip-path=\"url(#clip222)\" style=\"stroke:#000000; stroke-width:2; stroke-opacity:0.1; fill:none\" points=\"\n",
       "  651.798,686.448 651.798,123.472 \n",
       "  \"/>\n",
       "<polyline clip-path=\"url(#clip222)\" style=\"stroke:#000000; stroke-width:2; stroke-opacity:0.1; fill:none\" points=\"\n",
       "  736.833,686.448 736.833,123.472 \n",
       "  \"/>\n",
       "<polyline clip-path=\"url(#clip222)\" style=\"stroke:#000000; stroke-width:2; stroke-opacity:0.1; fill:none\" points=\"\n",
       "  211.575,676.923 758.257,676.923 \n",
       "  \"/>\n",
       "<polyline clip-path=\"url(#clip222)\" style=\"stroke:#000000; stroke-width:2; stroke-opacity:0.1; fill:none\" points=\"\n",
       "  211.575,577.501 758.257,577.501 \n",
       "  \"/>\n",
       "<polyline clip-path=\"url(#clip222)\" style=\"stroke:#000000; stroke-width:2; stroke-opacity:0.1; fill:none\" points=\"\n",
       "  211.575,478.078 758.257,478.078 \n",
       "  \"/>\n",
       "<polyline clip-path=\"url(#clip222)\" style=\"stroke:#000000; stroke-width:2; stroke-opacity:0.1; fill:none\" points=\"\n",
       "  211.575,378.655 758.257,378.655 \n",
       "  \"/>\n",
       "<polyline clip-path=\"url(#clip222)\" style=\"stroke:#000000; stroke-width:2; stroke-opacity:0.1; fill:none\" points=\"\n",
       "  211.575,279.233 758.257,279.233 \n",
       "  \"/>\n",
       "<polyline clip-path=\"url(#clip222)\" style=\"stroke:#000000; stroke-width:2; stroke-opacity:0.1; fill:none\" points=\"\n",
       "  211.575,179.81 758.257,179.81 \n",
       "  \"/>\n",
       "<polyline clip-path=\"url(#clip220)\" style=\"stroke:#000000; stroke-width:4; stroke-opacity:1; fill:none\" points=\"\n",
       "  211.575,686.448 758.257,686.448 \n",
       "  \"/>\n",
       "<polyline clip-path=\"url(#clip220)\" style=\"stroke:#000000; stroke-width:4; stroke-opacity:1; fill:none\" points=\"\n",
       "  211.575,686.448 211.575,123.472 \n",
       "  \"/>\n",
       "<polyline clip-path=\"url(#clip220)\" style=\"stroke:#000000; stroke-width:4; stroke-opacity:1; fill:none\" points=\"\n",
       "  226.622,686.448 226.622,679.692 \n",
       "  \"/>\n",
       "<polyline clip-path=\"url(#clip220)\" style=\"stroke:#000000; stroke-width:4; stroke-opacity:1; fill:none\" points=\"\n",
       "  311.657,686.448 311.657,679.692 \n",
       "  \"/>\n",
       "<polyline clip-path=\"url(#clip220)\" style=\"stroke:#000000; stroke-width:4; stroke-opacity:1; fill:none\" points=\"\n",
       "  396.692,686.448 396.692,679.692 \n",
       "  \"/>\n",
       "<polyline clip-path=\"url(#clip220)\" style=\"stroke:#000000; stroke-width:4; stroke-opacity:1; fill:none\" points=\"\n",
       "  481.727,686.448 481.727,679.692 \n",
       "  \"/>\n",
       "<polyline clip-path=\"url(#clip220)\" style=\"stroke:#000000; stroke-width:4; stroke-opacity:1; fill:none\" points=\"\n",
       "  566.762,686.448 566.762,679.692 \n",
       "  \"/>\n",
       "<polyline clip-path=\"url(#clip220)\" style=\"stroke:#000000; stroke-width:4; stroke-opacity:1; fill:none\" points=\"\n",
       "  651.798,686.448 651.798,679.692 \n",
       "  \"/>\n",
       "<polyline clip-path=\"url(#clip220)\" style=\"stroke:#000000; stroke-width:4; stroke-opacity:1; fill:none\" points=\"\n",
       "  736.833,686.448 736.833,679.692 \n",
       "  \"/>\n",
       "<polyline clip-path=\"url(#clip220)\" style=\"stroke:#000000; stroke-width:4; stroke-opacity:1; fill:none\" points=\"\n",
       "  211.575,676.923 218.135,676.923 \n",
       "  \"/>\n",
       "<polyline clip-path=\"url(#clip220)\" style=\"stroke:#000000; stroke-width:4; stroke-opacity:1; fill:none\" points=\"\n",
       "  211.575,577.501 218.135,577.501 \n",
       "  \"/>\n",
       "<polyline clip-path=\"url(#clip220)\" style=\"stroke:#000000; stroke-width:4; stroke-opacity:1; fill:none\" points=\"\n",
       "  211.575,478.078 218.135,478.078 \n",
       "  \"/>\n",
       "<polyline clip-path=\"url(#clip220)\" style=\"stroke:#000000; stroke-width:4; stroke-opacity:1; fill:none\" points=\"\n",
       "  211.575,378.655 218.135,378.655 \n",
       "  \"/>\n",
       "<polyline clip-path=\"url(#clip220)\" style=\"stroke:#000000; stroke-width:4; stroke-opacity:1; fill:none\" points=\"\n",
       "  211.575,279.233 218.135,279.233 \n",
       "  \"/>\n",
       "<polyline clip-path=\"url(#clip220)\" style=\"stroke:#000000; stroke-width:4; stroke-opacity:1; fill:none\" points=\"\n",
       "  211.575,179.81 218.135,179.81 \n",
       "  \"/>\n",
       "<path clip-path=\"url(#clip220)\" d=\"M 0 0 M226.622 708.439 Q223.011 708.439 221.182 712.003 Q219.376 715.545 219.376 722.675 Q219.376 729.781 221.182 733.346 Q223.011 736.887 226.622 736.887 Q230.256 736.887 232.062 733.346 Q233.89 729.781 233.89 722.675 Q233.89 715.545 232.062 712.003 Q230.256 708.439 226.622 708.439 M226.622 704.735 Q232.432 704.735 235.487 709.341 Q238.566 713.925 238.566 722.675 Q238.566 731.401 235.487 736.008 Q232.432 740.591 226.622 740.591 Q220.812 740.591 217.733 736.008 Q214.677 731.401 214.677 722.675 Q214.677 713.925 217.733 709.341 Q220.812 704.735 226.622 704.735 Z\" fill=\"#000000\" fill-rule=\"evenodd\" fill-opacity=\"1\" /><path clip-path=\"url(#clip220)\" d=\"M 0 0 M279.296 735.985 L295.615 735.985 L295.615 739.92 L273.671 739.92 L273.671 735.985 Q276.333 733.23 280.916 728.6 Q285.523 723.948 286.703 722.605 Q288.949 720.082 289.828 718.346 Q290.731 716.587 290.731 714.897 Q290.731 712.142 288.787 710.406 Q286.865 708.67 283.764 708.67 Q281.565 708.67 279.111 709.434 Q276.68 710.198 273.903 711.749 L273.903 707.027 Q276.727 705.892 279.18 705.314 Q281.634 704.735 283.671 704.735 Q289.041 704.735 292.236 707.42 Q295.43 710.105 295.43 714.596 Q295.43 716.726 294.62 718.647 Q293.833 720.545 291.726 723.138 Q291.148 723.809 288.046 727.026 Q284.944 730.221 279.296 735.985 Z\" fill=\"#000000\" fill-rule=\"evenodd\" fill-opacity=\"1\" /><path clip-path=\"url(#clip220)\" d=\"M 0 0 M310.685 708.439 Q307.074 708.439 305.245 712.003 Q303.439 715.545 303.439 722.675 Q303.439 729.781 305.245 733.346 Q307.074 736.887 310.685 736.887 Q314.319 736.887 316.125 733.346 Q317.953 729.781 317.953 722.675 Q317.953 715.545 316.125 712.003 Q314.319 708.439 310.685 708.439 M310.685 704.735 Q316.495 704.735 319.55 709.341 Q322.629 713.925 322.629 722.675 Q322.629 731.401 319.55 736.008 Q316.495 740.591 310.685 740.591 Q304.875 740.591 301.796 736.008 Q298.74 731.401 298.74 722.675 Q298.74 713.925 301.796 709.341 Q304.875 704.735 310.685 704.735 Z\" fill=\"#000000\" fill-rule=\"evenodd\" fill-opacity=\"1\" /><path clip-path=\"url(#clip220)\" d=\"M 0 0 M337.698 708.439 Q334.087 708.439 332.259 712.003 Q330.453 715.545 330.453 722.675 Q330.453 729.781 332.259 733.346 Q334.087 736.887 337.698 736.887 Q341.333 736.887 343.138 733.346 Q344.967 729.781 344.967 722.675 Q344.967 715.545 343.138 712.003 Q341.333 708.439 337.698 708.439 M337.698 704.735 Q343.509 704.735 346.564 709.341 Q349.643 713.925 349.643 722.675 Q349.643 731.401 346.564 736.008 Q343.509 740.591 337.698 740.591 Q331.888 740.591 328.81 736.008 Q325.754 731.401 325.754 722.675 Q325.754 713.925 328.81 709.341 Q331.888 704.735 337.698 704.735 Z\" fill=\"#000000\" fill-rule=\"evenodd\" fill-opacity=\"1\" /><path clip-path=\"url(#clip220)\" d=\"M 0 0 M372.688 709.434 L360.882 727.883 L372.688 727.883 L372.688 709.434 M371.461 705.36 L377.34 705.36 L377.34 727.883 L382.271 727.883 L382.271 731.772 L377.34 731.772 L377.34 739.92 L372.688 739.92 L372.688 731.772 L357.086 731.772 L357.086 727.258 L371.461 705.36 Z\" fill=\"#000000\" fill-rule=\"evenodd\" fill-opacity=\"1\" /><path clip-path=\"url(#clip220)\" d=\"M 0 0 M397.34 708.439 Q393.729 708.439 391.9 712.003 Q390.095 715.545 390.095 722.675 Q390.095 729.781 391.9 733.346 Q393.729 736.887 397.34 736.887 Q400.974 736.887 402.78 733.346 Q404.609 729.781 404.609 722.675 Q404.609 715.545 402.78 712.003 Q400.974 708.439 397.34 708.439 M397.34 704.735 Q403.15 704.735 406.206 709.341 Q409.285 713.925 409.285 722.675 Q409.285 731.401 406.206 736.008 Q403.15 740.591 397.34 740.591 Q391.53 740.591 388.451 736.008 Q385.396 731.401 385.396 722.675 Q385.396 713.925 388.451 709.341 Q391.53 704.735 397.34 704.735 Z\" fill=\"#000000\" fill-rule=\"evenodd\" fill-opacity=\"1\" /><path clip-path=\"url(#clip220)\" d=\"M 0 0 M424.354 708.439 Q420.743 708.439 418.914 712.003 Q417.109 715.545 417.109 722.675 Q417.109 729.781 418.914 733.346 Q420.743 736.887 424.354 736.887 Q427.988 736.887 429.794 733.346 Q431.622 729.781 431.622 722.675 Q431.622 715.545 429.794 712.003 Q427.988 708.439 424.354 708.439 M424.354 704.735 Q430.164 704.735 433.22 709.341 Q436.298 713.925 436.298 722.675 Q436.298 731.401 433.22 736.008 Q430.164 740.591 424.354 740.591 Q418.544 740.591 415.465 736.008 Q412.41 731.401 412.41 722.675 Q412.41 713.925 415.465 709.341 Q418.544 704.735 424.354 704.735 Z\" fill=\"#000000\" fill-rule=\"evenodd\" fill-opacity=\"1\" /><path clip-path=\"url(#clip220)\" d=\"M 0 0 M455.119 720.776 Q451.971 720.776 450.119 722.929 Q448.29 725.082 448.29 728.832 Q448.29 732.559 450.119 734.735 Q451.971 736.887 455.119 736.887 Q458.267 736.887 460.095 734.735 Q461.947 732.559 461.947 728.832 Q461.947 725.082 460.095 722.929 Q458.267 720.776 455.119 720.776 M464.401 706.124 L464.401 710.383 Q462.642 709.55 460.836 709.11 Q459.054 708.67 457.295 708.67 Q452.665 708.67 450.211 711.795 Q447.781 714.92 447.433 721.239 Q448.799 719.226 450.859 718.161 Q452.92 717.073 455.396 717.073 Q460.605 717.073 463.614 720.244 Q466.646 723.392 466.646 728.832 Q466.646 734.156 463.498 737.374 Q460.35 740.591 455.119 740.591 Q449.123 740.591 445.952 736.008 Q442.781 731.401 442.781 722.675 Q442.781 714.48 446.67 709.619 Q450.558 704.735 457.109 704.735 Q458.869 704.735 460.651 705.082 Q462.457 705.429 464.401 706.124 Z\" fill=\"#000000\" fill-rule=\"evenodd\" fill-opacity=\"1\" /><path clip-path=\"url(#clip220)\" d=\"M 0 0 M481.716 708.439 Q478.105 708.439 476.276 712.003 Q474.47 715.545 474.47 722.675 Q474.47 729.781 476.276 733.346 Q478.105 736.887 481.716 736.887 Q485.35 736.887 487.155 733.346 Q488.984 729.781 488.984 722.675 Q488.984 715.545 487.155 712.003 Q485.35 708.439 481.716 708.439 M481.716 704.735 Q487.526 704.735 490.581 709.341 Q493.66 713.925 493.66 722.675 Q493.66 731.401 490.581 736.008 Q487.526 740.591 481.716 740.591 Q475.906 740.591 472.827 736.008 Q469.771 731.401 469.771 722.675 Q469.771 713.925 472.827 709.341 Q475.906 704.735 481.716 704.735 Z\" fill=\"#000000\" fill-rule=\"evenodd\" fill-opacity=\"1\" /><path clip-path=\"url(#clip220)\" d=\"M 0 0 M508.729 708.439 Q505.118 708.439 503.29 712.003 Q501.484 715.545 501.484 722.675 Q501.484 729.781 503.29 733.346 Q505.118 736.887 508.729 736.887 Q512.364 736.887 514.169 733.346 Q515.998 729.781 515.998 722.675 Q515.998 715.545 514.169 712.003 Q512.364 708.439 508.729 708.439 M508.729 704.735 Q514.54 704.735 517.595 709.341 Q520.674 713.925 520.674 722.675 Q520.674 731.401 517.595 736.008 Q514.54 740.591 508.729 740.591 Q502.919 740.591 499.841 736.008 Q496.785 731.401 496.785 722.675 Q496.785 713.925 499.841 709.341 Q502.919 704.735 508.729 704.735 Z\" fill=\"#000000\" fill-rule=\"evenodd\" fill-opacity=\"1\" /><path clip-path=\"url(#clip220)\" d=\"M 0 0 M539.749 723.508 Q536.415 723.508 534.494 725.29 Q532.596 727.073 532.596 730.198 Q532.596 733.323 534.494 735.105 Q536.415 736.887 539.749 736.887 Q543.082 736.887 545.003 735.105 Q546.925 733.3 546.925 730.198 Q546.925 727.073 545.003 725.29 Q543.105 723.508 539.749 723.508 M535.073 721.517 Q532.064 720.776 530.374 718.716 Q528.707 716.656 528.707 713.693 Q528.707 709.55 531.647 707.142 Q534.61 704.735 539.749 704.735 Q544.911 704.735 547.851 707.142 Q550.79 709.55 550.79 713.693 Q550.79 716.656 549.101 718.716 Q547.434 720.776 544.448 721.517 Q547.827 722.304 549.702 724.596 Q551.601 726.888 551.601 730.198 Q551.601 735.221 548.522 737.906 Q545.466 740.591 539.749 740.591 Q534.031 740.591 530.952 737.906 Q527.897 735.221 527.897 730.198 Q527.897 726.888 529.795 724.596 Q531.693 722.304 535.073 721.517 M533.36 714.133 Q533.36 716.818 535.027 718.323 Q536.716 719.827 539.749 719.827 Q542.758 719.827 544.448 718.323 Q546.161 716.818 546.161 714.133 Q546.161 711.448 544.448 709.943 Q542.758 708.439 539.749 708.439 Q536.716 708.439 535.027 709.943 Q533.36 711.448 533.36 714.133 Z\" fill=\"#000000\" fill-rule=\"evenodd\" fill-opacity=\"1\" /><path clip-path=\"url(#clip220)\" d=\"M 0 0 M566.67 708.439 Q563.059 708.439 561.23 712.003 Q559.425 715.545 559.425 722.675 Q559.425 729.781 561.23 733.346 Q563.059 736.887 566.67 736.887 Q570.304 736.887 572.11 733.346 Q573.938 729.781 573.938 722.675 Q573.938 715.545 572.11 712.003 Q570.304 708.439 566.67 708.439 M566.67 704.735 Q572.48 704.735 575.536 709.341 Q578.614 713.925 578.614 722.675 Q578.614 731.401 575.536 736.008 Q572.48 740.591 566.67 740.591 Q560.86 740.591 557.781 736.008 Q554.725 731.401 554.725 722.675 Q554.725 713.925 557.781 709.341 Q560.86 704.735 566.67 704.735 Z\" fill=\"#000000\" fill-rule=\"evenodd\" fill-opacity=\"1\" /><path clip-path=\"url(#clip220)\" d=\"M 0 0 M593.684 708.439 Q590.073 708.439 588.244 712.003 Q586.438 715.545 586.438 722.675 Q586.438 729.781 588.244 733.346 Q590.073 736.887 593.684 736.887 Q597.318 736.887 599.123 733.346 Q600.952 729.781 600.952 722.675 Q600.952 715.545 599.123 712.003 Q597.318 708.439 593.684 708.439 M593.684 704.735 Q599.494 704.735 602.549 709.341 Q605.628 713.925 605.628 722.675 Q605.628 731.401 602.549 736.008 Q599.494 740.591 593.684 740.591 Q587.873 740.591 584.795 736.008 Q581.739 731.401 581.739 722.675 Q581.739 713.925 584.795 709.341 Q587.873 704.735 593.684 704.735 Z\" fill=\"#000000\" fill-rule=\"evenodd\" fill-opacity=\"1\" /><path clip-path=\"url(#clip220)\" d=\"M 0 0 M601.659 735.985 L609.298 735.985 L609.298 709.619 L600.988 711.286 L600.988 707.027 L609.252 705.36 L613.927 705.36 L613.927 735.985 L621.566 735.985 L621.566 739.92 L601.659 739.92 L601.659 735.985 Z\" fill=\"#000000\" fill-rule=\"evenodd\" fill-opacity=\"1\" /><path clip-path=\"url(#clip220)\" d=\"M 0 0 M636.636 708.439 Q633.025 708.439 631.196 712.003 Q629.39 715.545 629.39 722.675 Q629.39 729.781 631.196 733.346 Q633.025 736.887 636.636 736.887 Q640.27 736.887 642.075 733.346 Q643.904 729.781 643.904 722.675 Q643.904 715.545 642.075 712.003 Q640.27 708.439 636.636 708.439 M636.636 704.735 Q642.446 704.735 645.501 709.341 Q648.58 713.925 648.58 722.675 Q648.58 731.401 645.501 736.008 Q642.446 740.591 636.636 740.591 Q630.826 740.591 627.747 736.008 Q624.691 731.401 624.691 722.675 Q624.691 713.925 627.747 709.341 Q630.826 704.735 636.636 704.735 Z\" fill=\"#000000\" fill-rule=\"evenodd\" fill-opacity=\"1\" /><path clip-path=\"url(#clip220)\" d=\"M 0 0 M663.649 708.439 Q660.038 708.439 658.21 712.003 Q656.404 715.545 656.404 722.675 Q656.404 729.781 658.21 733.346 Q660.038 736.887 663.649 736.887 Q667.284 736.887 669.089 733.346 Q670.918 729.781 670.918 722.675 Q670.918 715.545 669.089 712.003 Q667.284 708.439 663.649 708.439 M663.649 704.735 Q669.46 704.735 672.515 709.341 Q675.594 713.925 675.594 722.675 Q675.594 731.401 672.515 736.008 Q669.46 740.591 663.649 740.591 Q657.839 740.591 654.761 736.008 Q651.705 731.401 651.705 722.675 Q651.705 713.925 654.761 709.341 Q657.839 704.735 663.649 704.735 Z\" fill=\"#000000\" fill-rule=\"evenodd\" fill-opacity=\"1\" /><path clip-path=\"url(#clip220)\" d=\"M 0 0 M690.663 708.439 Q687.052 708.439 685.223 712.003 Q683.418 715.545 683.418 722.675 Q683.418 729.781 685.223 733.346 Q687.052 736.887 690.663 736.887 Q694.297 736.887 696.103 733.346 Q697.932 729.781 697.932 722.675 Q697.932 715.545 696.103 712.003 Q694.297 708.439 690.663 708.439 M690.663 704.735 Q696.473 704.735 699.529 709.341 Q702.608 713.925 702.608 722.675 Q702.608 731.401 699.529 736.008 Q696.473 740.591 690.663 740.591 Q684.853 740.591 681.774 736.008 Q678.719 731.401 678.719 722.675 Q678.719 713.925 681.774 709.341 Q684.853 704.735 690.663 704.735 Z\" fill=\"#000000\" fill-rule=\"evenodd\" fill-opacity=\"1\" /><path clip-path=\"url(#clip220)\" d=\"M 0 0 M687.493 735.985 L695.132 735.985 L695.132 709.619 L686.822 711.286 L686.822 707.027 L695.085 705.36 L699.761 705.36 L699.761 735.985 L707.4 735.985 L707.4 739.92 L687.493 739.92 L687.493 735.985 Z\" fill=\"#000000\" fill-rule=\"evenodd\" fill-opacity=\"1\" /><path clip-path=\"url(#clip220)\" d=\"M 0 0 M716.497 735.985 L732.817 735.985 L732.817 739.92 L710.872 739.92 L710.872 735.985 Q713.534 733.23 718.118 728.6 Q722.724 723.948 723.905 722.605 Q726.15 720.082 727.03 718.346 Q727.932 716.587 727.932 714.897 Q727.932 712.142 725.988 710.406 Q724.067 708.67 720.965 708.67 Q718.766 708.67 716.312 709.434 Q713.882 710.198 711.104 711.749 L711.104 707.027 Q713.928 705.892 716.382 705.314 Q718.835 704.735 720.872 704.735 Q726.243 704.735 729.437 707.42 Q732.631 710.105 732.631 714.596 Q732.631 716.726 731.821 718.647 Q731.034 720.545 728.928 723.138 Q728.349 723.809 725.247 727.026 Q722.145 730.221 716.497 735.985 Z\" fill=\"#000000\" fill-rule=\"evenodd\" fill-opacity=\"1\" /><path clip-path=\"url(#clip220)\" d=\"M 0 0 M747.886 708.439 Q744.275 708.439 742.446 712.003 Q740.641 715.545 740.641 722.675 Q740.641 729.781 742.446 733.346 Q744.275 736.887 747.886 736.887 Q751.52 736.887 753.326 733.346 Q755.154 729.781 755.154 722.675 Q755.154 715.545 753.326 712.003 Q751.52 708.439 747.886 708.439 M747.886 704.735 Q753.696 704.735 756.752 709.341 Q759.83 713.925 759.83 722.675 Q759.83 731.401 756.752 736.008 Q753.696 740.591 747.886 740.591 Q742.076 740.591 738.997 736.008 Q735.942 731.401 735.942 722.675 Q735.942 713.925 738.997 709.341 Q742.076 704.735 747.886 704.735 Z\" fill=\"#000000\" fill-rule=\"evenodd\" fill-opacity=\"1\" /><path clip-path=\"url(#clip220)\" d=\"M 0 0 M774.9 708.439 Q771.289 708.439 769.46 712.003 Q767.654 715.545 767.654 722.675 Q767.654 729.781 769.46 733.346 Q771.289 736.887 774.9 736.887 Q778.534 736.887 780.34 733.346 Q782.168 729.781 782.168 722.675 Q782.168 715.545 780.34 712.003 Q778.534 708.439 774.9 708.439 M774.9 704.735 Q780.71 704.735 783.765 709.341 Q786.844 713.925 786.844 722.675 Q786.844 731.401 783.765 736.008 Q780.71 740.591 774.9 740.591 Q769.09 740.591 766.011 736.008 Q762.955 731.401 762.955 722.675 Q762.955 713.925 766.011 709.341 Q769.09 704.735 774.9 704.735 Z\" fill=\"#000000\" fill-rule=\"evenodd\" fill-opacity=\"1\" /><path clip-path=\"url(#clip220)\" d=\"M 0 0 M99.8221 696.716 L107.461 696.716 L107.461 670.35 L99.1508 672.017 L99.1508 667.757 L107.415 666.091 L112.091 666.091 L112.091 696.716 L119.729 696.716 L119.729 700.651 L99.8221 700.651 L99.8221 696.716 Z\" fill=\"#000000\" fill-rule=\"evenodd\" fill-opacity=\"1\" /><path clip-path=\"url(#clip220)\" d=\"M 0 0 M134.799 669.169 Q131.188 669.169 129.359 672.734 Q127.553 676.276 127.553 683.406 Q127.553 690.512 129.359 694.077 Q131.188 697.618 134.799 697.618 Q138.433 697.618 140.239 694.077 Q142.067 690.512 142.067 683.406 Q142.067 676.276 140.239 672.734 Q138.433 669.169 134.799 669.169 M134.799 665.466 Q140.609 665.466 143.664 670.072 Q146.743 674.656 146.743 683.406 Q146.743 692.132 143.664 696.739 Q140.609 701.322 134.799 701.322 Q128.989 701.322 125.91 696.739 Q122.854 692.132 122.854 683.406 Q122.854 674.656 125.91 670.072 Q128.989 665.466 134.799 665.466 Z\" fill=\"#000000\" fill-rule=\"evenodd\" fill-opacity=\"1\" /><path clip-path=\"url(#clip220)\" d=\"M 0 0 M146.743 661.147 L156.881 661.147 L156.881 664.231 L146.743 664.231 L146.743 661.147 Z\" fill=\"#000000\" fill-rule=\"evenodd\" fill-opacity=\"1\" /><path clip-path=\"url(#clip220)\" d=\"M 0 0 M171.4 670.043 L177.607 670.043 L177.607 648.621 L170.855 649.975 L170.855 646.515 L177.569 645.16 L181.368 645.16 L181.368 670.043 L187.575 670.043 L187.575 673.24 L171.4 673.24 L171.4 670.043 Z\" fill=\"#000000\" fill-rule=\"evenodd\" fill-opacity=\"1\" /><path clip-path=\"url(#clip220)\" d=\"M 0 0 M121.244 597.293 L128.883 597.293 L128.883 570.927 L120.573 572.594 L120.573 568.335 L128.837 566.668 L133.513 566.668 L133.513 597.293 L141.151 597.293 L141.151 601.228 L121.244 601.228 L121.244 597.293 Z\" fill=\"#000000\" fill-rule=\"evenodd\" fill-opacity=\"1\" /><path clip-path=\"url(#clip220)\" d=\"M 0 0 M156.221 569.747 Q152.61 569.747 150.781 573.312 Q148.975 576.853 148.975 583.983 Q148.975 591.089 150.781 594.654 Q152.61 598.196 156.221 598.196 Q159.855 598.196 161.661 594.654 Q163.489 591.089 163.489 583.983 Q163.489 576.853 161.661 573.312 Q159.855 569.747 156.221 569.747 M156.221 566.043 Q162.031 566.043 165.086 570.65 Q168.165 575.233 168.165 583.983 Q168.165 592.71 165.086 597.316 Q162.031 601.899 156.221 601.899 Q150.411 601.899 147.332 597.316 Q144.276 592.71 144.276 583.983 Q144.276 575.233 147.332 570.65 Q150.411 566.043 156.221 566.043 Z\" fill=\"#000000\" fill-rule=\"evenodd\" fill-opacity=\"1\" /><path clip-path=\"url(#clip220)\" d=\"M 0 0 M177.87 548.239 Q174.936 548.239 173.45 551.136 Q171.983 554.013 171.983 559.806 Q171.983 565.58 173.45 568.476 Q174.936 571.354 177.87 571.354 Q180.823 571.354 182.29 568.476 Q183.776 565.58 183.776 559.806 Q183.776 554.013 182.29 551.136 Q180.823 548.239 177.87 548.239 M177.87 545.23 Q182.591 545.23 185.073 548.973 Q187.575 552.697 187.575 559.806 Q187.575 566.897 185.073 570.639 Q182.591 574.363 177.87 574.363 Q173.149 574.363 170.648 570.639 Q168.165 566.897 168.165 559.806 Q168.165 552.697 170.648 548.973 Q173.149 545.23 177.87 545.23 Z\" fill=\"#000000\" fill-rule=\"evenodd\" fill-opacity=\"1\" /><path clip-path=\"url(#clip220)\" d=\"M 0 0 M123.934 497.87 L131.572 497.87 L131.572 471.505 L123.262 473.171 L123.262 468.912 L131.526 467.246 L136.202 467.246 L136.202 497.87 L143.841 497.87 L143.841 501.806 L123.934 501.806 L123.934 497.87 Z\" fill=\"#000000\" fill-rule=\"evenodd\" fill-opacity=\"1\" /><path clip-path=\"url(#clip220)\" d=\"M 0 0 M158.91 470.324 Q155.299 470.324 153.471 473.889 Q151.665 477.431 151.665 484.56 Q151.665 491.667 153.471 495.232 Q155.299 498.773 158.91 498.773 Q162.545 498.773 164.35 495.232 Q166.179 491.667 166.179 484.56 Q166.179 477.431 164.35 473.889 Q162.545 470.324 158.91 470.324 M158.91 466.621 Q164.72 466.621 167.776 471.227 Q170.855 475.81 170.855 484.56 Q170.855 493.287 167.776 497.894 Q164.72 502.477 158.91 502.477 Q153.1 502.477 150.021 497.894 Q146.966 493.287 146.966 484.56 Q146.966 475.81 150.021 471.227 Q153.1 466.621 158.91 466.621 Z\" fill=\"#000000\" fill-rule=\"evenodd\" fill-opacity=\"1\" /><path clip-path=\"url(#clip220)\" d=\"M 0 0 M171.4 471.198 L177.607 471.198 L177.607 449.776 L170.855 451.13 L170.855 447.669 L177.569 446.315 L181.368 446.315 L181.368 471.198 L187.575 471.198 L187.575 474.395 L171.4 474.395 L171.4 471.198 Z\" fill=\"#000000\" fill-rule=\"evenodd\" fill-opacity=\"1\" /><path clip-path=\"url(#clip220)\" d=\"M 0 0 M122.824 398.448 L130.463 398.448 L130.463 372.082 L122.153 373.749 L122.153 369.49 L130.417 367.823 L135.092 367.823 L135.092 398.448 L142.731 398.448 L142.731 402.383 L122.824 402.383 L122.824 398.448 Z\" fill=\"#000000\" fill-rule=\"evenodd\" fill-opacity=\"1\" /><path clip-path=\"url(#clip220)\" d=\"M 0 0 M157.801 370.902 Q154.19 370.902 152.361 374.466 Q150.555 378.008 150.555 385.138 Q150.555 392.244 152.361 395.809 Q154.19 399.351 157.801 399.351 Q161.435 399.351 163.24 395.809 Q165.069 392.244 165.069 385.138 Q165.069 378.008 163.24 374.466 Q161.435 370.902 157.801 370.902 M157.801 367.198 Q163.611 367.198 166.666 371.804 Q169.745 376.388 169.745 385.138 Q169.745 393.865 166.666 398.471 Q163.611 403.054 157.801 403.054 Q151.99 403.054 148.912 398.471 Q145.856 393.865 145.856 385.138 Q145.856 376.388 148.912 371.804 Q151.99 367.198 157.801 367.198 Z\" fill=\"#000000\" fill-rule=\"evenodd\" fill-opacity=\"1\" /><path clip-path=\"url(#clip220)\" d=\"M 0 0 M174.315 371.775 L187.575 371.775 L187.575 374.973 L169.745 374.973 L169.745 371.775 Q171.908 369.537 175.632 365.776 Q179.375 361.995 180.334 360.904 Q182.158 358.854 182.873 357.444 Q183.606 356.014 183.606 354.641 Q183.606 352.403 182.026 350.993 Q180.465 349.582 177.945 349.582 Q176.158 349.582 174.165 350.203 Q172.19 350.823 169.933 352.084 L169.933 348.247 Q172.228 347.325 174.221 346.855 Q176.215 346.385 177.87 346.385 Q182.233 346.385 184.829 348.566 Q187.424 350.748 187.424 354.397 Q187.424 356.127 186.766 357.688 Q186.127 359.23 184.415 361.337 Q183.945 361.882 181.425 364.497 Q178.904 367.092 174.315 371.775 Z\" fill=\"#000000\" fill-rule=\"evenodd\" fill-opacity=\"1\" /><path clip-path=\"url(#clip220)\" d=\"M 0 0 M122.166 299.025 L129.805 299.025 L129.805 272.66 L121.494 274.326 L121.494 270.067 L129.758 268.4 L134.434 268.4 L134.434 299.025 L142.073 299.025 L142.073 302.96 L122.166 302.96 L122.166 299.025 Z\" fill=\"#000000\" fill-rule=\"evenodd\" fill-opacity=\"1\" /><path clip-path=\"url(#clip220)\" d=\"M 0 0 M157.142 271.479 Q153.531 271.479 151.703 275.044 Q149.897 278.586 149.897 285.715 Q149.897 292.822 151.703 296.386 Q153.531 299.928 157.142 299.928 Q160.777 299.928 162.582 296.386 Q164.411 292.822 164.411 285.715 Q164.411 278.586 162.582 275.044 Q160.777 271.479 157.142 271.479 M157.142 267.775 Q162.953 267.775 166.008 272.382 Q169.087 276.965 169.087 285.715 Q169.087 294.442 166.008 299.048 Q162.953 303.632 157.142 303.632 Q151.332 303.632 148.254 299.048 Q145.198 294.442 145.198 285.715 Q145.198 276.965 148.254 272.382 Q151.332 267.775 157.142 267.775 Z\" fill=\"#000000\" fill-rule=\"evenodd\" fill-opacity=\"1\" /><path clip-path=\"url(#clip220)\" d=\"M 0 0 M181.782 260.41 Q184.509 260.993 186.033 262.836 Q187.575 264.679 187.575 267.387 Q187.575 271.544 184.716 273.82 Q181.857 276.095 176.591 276.095 Q174.823 276.095 172.942 275.738 Q171.08 275.4 169.087 274.704 L169.087 271.036 Q170.667 271.958 172.547 272.428 Q174.428 272.898 176.478 272.898 Q180.052 272.898 181.914 271.487 Q183.794 270.077 183.794 267.387 Q183.794 264.905 182.045 263.513 Q180.315 262.102 177.212 262.102 L173.939 262.102 L173.939 258.98 L177.362 258.98 Q180.165 258.98 181.65 257.871 Q183.136 256.742 183.136 254.636 Q183.136 252.473 181.594 251.326 Q180.07 250.159 177.212 250.159 Q175.651 250.159 173.864 250.498 Q172.077 250.837 169.933 251.551 L169.933 248.166 Q172.096 247.564 173.977 247.263 Q175.876 246.962 177.55 246.962 Q181.876 246.962 184.396 248.937 Q186.917 250.893 186.917 254.241 Q186.917 256.573 185.581 258.19 Q184.246 259.789 181.782 260.41 Z\" fill=\"#000000\" fill-rule=\"evenodd\" fill-opacity=\"1\" /><path clip-path=\"url(#clip220)\" d=\"M 0 0 M120.191 199.603 L127.83 199.603 L127.83 173.237 L119.52 174.904 L119.52 170.644 L127.783 168.978 L132.459 168.978 L132.459 199.603 L140.098 199.603 L140.098 203.538 L120.191 203.538 L120.191 199.603 Z\" fill=\"#000000\" fill-rule=\"evenodd\" fill-opacity=\"1\" /><path clip-path=\"url(#clip220)\" d=\"M 0 0 M155.168 172.056 Q151.556 172.056 149.728 175.621 Q147.922 179.163 147.922 186.292 Q147.922 193.399 149.728 196.964 Q151.556 200.505 155.168 200.505 Q158.802 200.505 160.607 196.964 Q162.436 193.399 162.436 186.292 Q162.436 179.163 160.607 175.621 Q158.802 172.056 155.168 172.056 M155.168 168.353 Q160.978 168.353 164.033 172.959 Q167.112 177.543 167.112 186.292 Q167.112 195.019 164.033 199.626 Q160.978 204.209 155.168 204.209 Q149.357 204.209 146.279 199.626 Q143.223 195.019 143.223 186.292 Q143.223 177.543 146.279 172.959 Q149.357 168.353 155.168 168.353 Z\" fill=\"#000000\" fill-rule=\"evenodd\" fill-opacity=\"1\" /><path clip-path=\"url(#clip220)\" d=\"M 0 0 M179.788 151.358 L170.196 166.347 L179.788 166.347 L179.788 151.358 M178.792 148.047 L183.569 148.047 L183.569 166.347 L187.575 166.347 L187.575 169.507 L183.569 169.507 L183.569 176.127 L179.788 176.127 L179.788 169.507 L167.112 169.507 L167.112 165.84 L178.792 148.047 Z\" fill=\"#000000\" fill-rule=\"evenodd\" fill-opacity=\"1\" /><path clip-path=\"url(#clip220)\" d=\"M 0 0 M314.474 12.096 L326.668 12.096 L342.101 53.2532 L357.616 12.096 L369.81 12.096 L369.81 72.576 L361.829 72.576 L361.829 19.4686 L346.233 60.9499 L338.01 60.9499 L322.414 19.4686 L322.414 72.576 L314.474 72.576 L314.474 12.096 Z\" fill=\"#000000\" fill-rule=\"evenodd\" fill-opacity=\"1\" /><path clip-path=\"url(#clip220)\" d=\"M 0 0 M416.436 48.0275 L416.436 51.6733 L382.165 51.6733 Q382.651 59.3701 386.783 63.421 Q390.955 67.4314 398.369 67.4314 Q402.662 67.4314 406.673 66.3781 Q410.724 65.3249 414.694 63.2184 L414.694 70.267 Q410.683 71.9684 406.47 72.8596 Q402.257 73.7508 397.923 73.7508 Q387.067 73.7508 380.707 67.4314 Q374.387 61.1119 374.387 50.3365 Q374.387 39.1965 380.383 32.6746 Q386.418 26.1121 396.627 26.1121 Q405.782 26.1121 411.088 32.0264 Q416.436 37.9003 416.436 48.0275 M408.982 45.84 Q408.901 39.7232 405.539 36.0774 Q402.217 32.4315 396.708 32.4315 Q390.469 32.4315 386.702 35.9558 Q382.975 39.4801 382.408 45.8805 L408.982 45.84 Z\" fill=\"#000000\" fill-rule=\"evenodd\" fill-opacity=\"1\" /><path clip-path=\"url(#clip220)\" d=\"M 0 0 M431.626 14.324 L431.626 27.2059 L446.979 27.2059 L446.979 32.9987 L431.626 32.9987 L431.626 57.6282 Q431.626 63.1779 433.125 64.7578 Q434.665 66.3376 439.323 66.3376 L446.979 66.3376 L446.979 72.576 L439.323 72.576 Q430.695 72.576 427.414 69.3758 Q424.132 66.1351 424.132 57.6282 L424.132 32.9987 L418.664 32.9987 L418.664 27.2059 L424.132 27.2059 L424.132 14.324 L431.626 14.324 Z\" fill=\"#000000\" fill-rule=\"evenodd\" fill-opacity=\"1\" /><path clip-path=\"url(#clip220)\" d=\"M 0 0 M492.512 45.1919 L492.512 72.576 L485.058 72.576 L485.058 45.4349 Q485.058 38.994 482.546 35.7938 Q480.035 32.5936 475.012 32.5936 Q468.976 32.5936 465.492 36.4419 Q462.008 40.2903 462.008 46.9338 L462.008 72.576 L454.514 72.576 L454.514 9.54393 L462.008 9.54393 L462.008 34.2544 Q464.682 30.163 468.287 28.1376 Q471.933 26.1121 476.673 26.1121 Q484.491 26.1121 488.501 30.9732 Q492.512 35.7938 492.512 45.1919 Z\" fill=\"#000000\" fill-rule=\"evenodd\" fill-opacity=\"1\" /><path clip-path=\"url(#clip220)\" d=\"M 0 0 M517.911 32.4315 Q511.915 32.4315 508.432 37.1306 Q504.948 41.7891 504.948 49.9314 Q504.948 58.0738 508.391 62.7728 Q511.875 67.4314 517.911 67.4314 Q523.866 67.4314 527.349 62.7323 Q530.833 58.0333 530.833 49.9314 Q530.833 41.8701 527.349 37.1711 Q523.866 32.4315 517.911 32.4315 M517.911 26.1121 Q527.633 26.1121 533.183 32.4315 Q538.732 38.7509 538.732 49.9314 Q538.732 61.0714 533.183 67.4314 Q527.633 73.7508 517.911 73.7508 Q508.148 73.7508 502.598 67.4314 Q497.089 61.0714 497.089 49.9314 Q497.089 38.7509 502.598 32.4315 Q508.148 26.1121 517.911 26.1121 Z\" fill=\"#000000\" fill-rule=\"evenodd\" fill-opacity=\"1\" /><path clip-path=\"url(#clip220)\" d=\"M 0 0 M576.406 34.0924 L576.406 9.54393 L583.859 9.54393 L583.859 72.576 L576.406 72.576 L576.406 65.7705 Q574.056 69.8214 570.451 71.8063 Q566.886 73.7508 561.863 73.7508 Q553.64 73.7508 548.455 67.1883 Q543.31 60.6258 543.31 49.9314 Q543.31 39.2371 548.455 32.6746 Q553.64 26.1121 561.863 26.1121 Q566.886 26.1121 570.451 28.0971 Q574.056 30.0415 576.406 34.0924 M551.007 49.9314 Q551.007 58.1548 554.369 62.8538 Q557.772 67.5124 563.686 67.5124 Q569.6 67.5124 573.003 62.8538 Q576.406 58.1548 576.406 49.9314 Q576.406 41.7081 573.003 37.0496 Q569.6 32.3505 563.686 32.3505 Q557.772 32.3505 554.369 37.0496 Q551.007 41.7081 551.007 49.9314 Z\" fill=\"#000000\" fill-rule=\"evenodd\" fill-opacity=\"1\" /><path clip-path=\"url(#clip220)\" d=\"M 0 0 M620.52 65.6895 L633.888 65.6895 L633.888 19.5497 L619.345 22.4663 L619.345 15.0127 L633.807 12.096 L641.99 12.096 L641.99 65.6895 L655.358 65.6895 L655.358 72.576 L620.52 72.576 L620.52 65.6895 Z\" fill=\"#000000\" fill-rule=\"evenodd\" fill-opacity=\"1\" /><polyline clip-path=\"url(#clip222)\" style=\"stroke:#009af9; stroke-width:4; stroke-opacity:1; fill:none\" points=\"\n",
       "  227.047,139.405 227.472,151.065 227.897,164.245 228.322,179.673 228.748,198.178 229.173,220.95 229.598,250.612 230.023,292.95 230.448,368.763 230.874,449.454 \n",
       "  231.299,449.454 231.724,334.771 232.149,345.422 232.574,357.925 232.999,371.784 233.425,388.275 233.85,407.428 234.275,430.19 234.7,456.55 235.125,483.468 \n",
       "  235.55,497.278 235.976,487.671 236.401,469.302 236.826,453.313 237.251,441.452 237.676,433.508 238.102,428.793 238.527,426.963 238.952,427.291 239.377,429.86 \n",
       "  239.802,434.398 240.227,440.768 240.653,448.844 241.078,458.462 241.503,469.119 241.928,479.939 242.353,489.496 242.778,495.897 243.204,497.786 243.629,495.57 \n",
       "  244.054,490.924 244.479,485.812 244.904,481.178 245.33,477.614 245.755,475.355 246.18,474.835 246.605,475.275 247.03,477.222 247.455,480.156 247.881,483.845 \n",
       "  248.306,487.613 248.731,491.534 249.156,494.749 249.581,497.083 250.006,498.253 250.432,498.305 250.857,497.505 251.282,496.246 251.707,494.935 252.132,493.781 \n",
       "  252.557,493.039 252.983,492.797 253.408,493.025 253.833,493.711 254.258,494.625 254.683,495.725 255.109,496.85 255.534,497.821 255.959,498.536 256.384,498.949 \n",
       "  256.809,499.034 257.234,498.939 257.66,498.677 258.085,498.371 258.51,498.108 258.935,497.955 259.36,497.936 259.785,498.052 260.211,498.252 260.636,498.599 \n",
       "  261.061,498.929 261.486,499.235 261.911,499.486 262.337,499.65 262.762,499.743 263.187,499.762 263.612,499.746 264.037,499.708 264.462,499.674 264.888,499.67 \n",
       "  265.313,499.693 265.738,499.764 266.163,499.879 266.588,500.004 267.013,500.125 267.439,500.222 267.864,500.346 268.289,500.422 268.714,500.483 269.139,500.523 \n",
       "  269.565,500.552 269.99,500.572 270.415,500.623 270.84,500.665 271.265,500.729 271.69,500.796 272.116,500.871 272.541,500.949 272.966,501.024 273.391,501.095 \n",
       "  273.816,501.16 274.241,501.214 274.667,501.276 275.092,501.323 275.517,501.351 275.942,501.43 276.367,501.485 276.793,501.549 277.218,501.612 277.643,501.676 \n",
       "  278.068,501.743 278.493,501.811 278.918,501.843 279.344,501.934 279.769,502 280.194,502.061 280.619,502.118 281.044,502.176 281.469,502.245 281.895,502.281 \n",
       "  282.32,502.364 282.745,502.411 283.17,502.503 283.595,502.567 284.021,502.631 284.446,502.692 284.871,502.759 285.296,502.823 285.721,502.868 286.146,502.933 \n",
       "  286.572,503.032 286.997,503.088 287.422,503.152 287.847,503.221 288.272,503.288 288.697,503.336 289.123,503.419 289.548,503.484 289.973,503.533 290.398,503.62 \n",
       "  290.823,503.689 291.248,503.758 291.674,503.82 292.099,503.899 292.524,503.964 292.949,504.037 293.374,504.102 293.8,504.176 294.225,504.234 294.65,504.312 \n",
       "  295.075,504.382 295.5,504.419 295.925,504.53 296.351,504.6 296.776,504.667 297.201,504.737 297.626,504.811 298.051,504.88 298.476,504.954 298.902,505.028 \n",
       "  299.327,505.097 299.752,505.153 300.177,505.245 300.602,505.32 301.028,505.358 301.453,505.465 301.878,505.541 302.303,505.612 302.728,505.69 303.153,505.764 \n",
       "  303.579,505.834 304.004,505.913 304.429,505.994 304.854,506.06 305.279,506.147 305.704,506.215 306.13,506.292 306.555,506.365 306.98,506.447 307.405,506.526 \n",
       "  307.83,506.577 308.256,506.672 308.681,506.755 309.106,506.828 309.531,506.914 309.956,506.991 310.381,507.069 310.807,507.147 311.232,507.221 311.657,507.3 \n",
       "  312.082,507.385 312.507,507.459 312.932,507.538 313.358,507.592 313.783,507.699 314.208,507.779 314.633,507.886 315.058,507.94 315.484,508.017 315.909,508.105 \n",
       "  316.334,508.18 316.759,508.246 317.184,508.343 317.609,508.427 318.035,508.516 318.46,508.59 318.885,508.671 319.31,508.758 319.735,508.836 320.16,508.922 \n",
       "  320.586,509.001 321.011,509.088 321.436,509.175 321.861,509.232 322.286,509.339 322.712,509.423 323.137,509.511 323.562,509.589 323.987,509.672 324.412,509.766 \n",
       "  324.837,509.848 325.263,509.927 325.688,509.995 326.113,510.1 326.538,510.194 326.963,510.277 327.388,510.355 327.814,510.445 328.239,510.531 328.664,510.627 \n",
       "  329.089,510.705 329.514,510.797 329.94,510.86 330.365,510.976 330.79,511.05 331.215,511.138 331.64,511.225 332.065,511.314 332.491,511.409 332.916,511.504 \n",
       "  333.341,511.592 333.766,511.676 334.191,511.765 334.616,511.848 335.042,511.943 335.467,512.015 335.892,512.129 336.317,512.21 336.742,512.3 337.167,512.391 \n",
       "  337.593,512.481 338.018,512.581 338.443,512.663 338.868,512.758 339.293,512.846 339.719,512.95 340.144,513.034 340.569,513.121 340.994,513.219 341.419,513.313 \n",
       "  341.844,513.399 342.27,513.498 342.695,513.586 343.12,513.681 343.545,513.784 343.97,513.867 344.395,513.962 344.821,514.055 345.246,514.158 345.671,514.252 \n",
       "  346.096,514.337 346.521,514.434 346.947,514.527 347.372,514.624 347.797,514.73 348.222,514.819 348.647,514.91 349.072,515.02 349.498,515.103 349.923,515.198 \n",
       "  350.348,515.296 350.773,515.393 351.198,515.493 351.623,515.585 352.049,515.686 352.474,515.78 352.899,515.889 353.324,515.976 353.749,516.075 354.175,516.185 \n",
       "  354.6,516.271 355.025,516.372 355.45,516.471 355.875,516.574 356.3,516.669 356.726,516.766 357.151,516.868 357.576,516.975 358.001,517.074 358.426,517.167 \n",
       "  358.851,517.266 359.277,517.373 359.702,517.475 360.127,517.569 360.552,517.67 360.977,517.77 361.403,517.88 361.828,517.972 362.253,518.083 362.678,518.218 \n",
       "  363.103,518.279 363.528,518.381 363.954,518.491 364.379,518.594 364.804,518.689 365.229,518.796 365.654,518.9 366.079,519.011 366.505,519.103 366.93,519.216 \n",
       "  367.355,519.31 367.78,519.414 368.205,519.518 368.631,519.635 369.056,519.732 369.481,519.832 369.906,519.95 370.331,520.043 370.756,520.15 371.182,520.263 \n",
       "  371.607,520.368 372.032,520.467 372.457,520.576 372.882,520.678 373.307,520.787 373.733,520.903 374.158,520.998 374.583,521.104 375.008,521.211 375.433,521.321 \n",
       "  375.858,521.436 376.284,521.534 376.709,521.642 377.134,521.761 377.559,521.845 377.984,521.969 378.41,522.084 378.835,522.198 379.26,522.293 379.685,522.411 \n",
       "  380.11,522.512 380.535,522.633 380.961,522.739 381.386,522.841 381.811,522.958 382.236,523.061 382.661,523.179 383.086,523.283 383.512,523.399 383.937,523.518 \n",
       "  384.362,523.625 384.787,523.738 385.212,523.845 385.638,523.949 386.063,524.062 386.488,524.174 386.913,524.299 387.338,524.402 387.763,524.51 388.189,524.63 \n",
       "  388.614,524.741 389.039,524.858 389.464,524.969 389.889,525.084 390.314,525.19 390.74,525.301 391.165,525.416 391.59,525.544 392.015,525.652 392.44,525.767 \n",
       "  392.866,525.885 393.291,525.996 393.716,526.113 394.141,526.205 394.566,526.345 394.991,526.448 395.417,526.578 395.842,526.682 396.267,526.81 396.692,526.923 \n",
       "  397.117,527.034 397.542,527.146 397.968,527.27 398.393,527.384 398.818,527.506 399.243,527.62 399.668,527.745 400.094,527.856 400.519,527.978 400.944,528.095 \n",
       "  401.369,528.21 401.794,528.21 402.219,528.321 402.645,528.537 403.07,528.739 403.495,528.946 403.92,529.146 404.345,529.351 404.77,529.557 405.196,529.757 \n",
       "  405.621,529.963 406.046,530.183 406.471,530.384 406.896,530.6 407.322,530.809 407.747,531.016 408.172,531.227 408.597,531.442 409.022,531.656 409.447,531.861 \n",
       "  409.873,532.079 410.298,532.298 410.723,532.503 411.148,532.725 411.573,532.94 411.998,533.154 412.424,533.372 412.849,533.581 413.274,533.799 413.699,534.016 \n",
       "  414.124,534.234 414.549,534.459 414.975,534.672 415.4,534.891 415.825,535.11 416.25,535.332 416.675,535.549 417.101,535.77 417.526,535.99 417.951,536.212 \n",
       "  418.376,536.434 418.801,536.655 419.226,536.877 419.652,537.1 420.077,537.323 420.502,537.546 420.927,537.77 421.352,537.994 421.777,538.22 422.203,538.442 \n",
       "  422.628,538.666 423.053,538.892 423.478,539.121 423.903,539.342 424.329,539.569 424.754,539.795 425.179,540.025 425.604,540.25 426.029,540.476 426.454,540.706 \n",
       "  426.88,540.933 427.305,541.16 427.73,541.392 428.155,541.618 428.58,541.85 429.005,542.08 429.431,542.31 429.856,542.537 430.281,542.769 430.706,542.998 \n",
       "  431.131,543.229 431.557,543.461 431.982,543.692 432.407,543.928 432.832,544.16 433.257,544.392 433.682,544.622 434.108,544.856 434.533,545.089 434.958,545.325 \n",
       "  435.383,545.557 435.808,545.791 436.233,546.026 436.659,546.262 437.084,546.497 437.509,546.732 437.934,546.969 438.359,547.204 438.785,547.442 439.21,547.682 \n",
       "  439.635,547.917 440.06,548.163 440.485,548.399 440.91,548.64 441.336,548.874 441.761,549.113 442.186,549.358 442.611,549.597 443.036,549.838 443.461,550.077 \n",
       "  443.887,550.317 444.312,550.559 444.737,550.794 445.162,551.041 445.587,551.277 446.013,551.521 446.438,551.762 446.863,552.001 447.288,552.248 447.713,552.469 \n",
       "  448.138,552.713 448.564,552.957 448.989,553.202 449.414,553.445 449.839,553.711 450.264,553.935 450.689,554.18 451.115,554.448 451.54,554.694 451.965,554.941 \n",
       "  452.39,555.192 452.815,555.434 453.241,555.687 453.666,555.934 454.091,556.184 454.516,556.425 454.941,556.679 455.366,556.93 455.792,557.173 456.217,557.424 \n",
       "  456.642,557.676 457.067,557.92 457.492,558.169 457.917,558.421 458.343,558.679 458.768,558.925 459.193,559.18 459.618,559.434 460.043,559.687 460.468,559.94 \n",
       "  460.894,560.192 461.319,560.446 461.744,560.699 462.169,560.954 462.594,561.208 463.02,561.463 463.445,561.719 463.87,561.974 464.295,562.23 464.72,562.487 \n",
       "  465.145,562.743 465.571,563 465.996,563.258 466.421,563.516 466.846,563.774 467.271,564.033 467.696,564.292 468.122,564.549 468.547,564.808 468.972,565.07 \n",
       "  469.397,565.325 469.822,565.583 470.248,565.844 470.673,566.105 471.098,566.368 471.523,566.628 471.948,566.896 472.373,567.153 472.799,567.421 473.224,567.686 \n",
       "  473.649,567.945 474.074,568.214 474.499,568.473 474.924,568.717 475.35,568.99 475.775,569.258 476.2,569.529 476.625,569.776 477.05,570.045 477.476,570.314 \n",
       "  477.901,570.584 478.326,570.861 478.751,571.126 479.176,571.396 479.601,571.622 480.027,571.939 480.452,572.188 480.877,572.459 481.302,572.714 481.727,573 \n",
       "  482.152,573.298 482.578,573.566 483.003,573.806 483.428,574.077 483.853,574.348 484.278,574.625 484.704,574.892 485.129,575.164 485.554,575.436 485.979,575.697 \n",
       "  486.404,575.979 486.829,576.241 487.255,576.522 487.68,576.788 488.105,577.05 488.53,577.347 488.955,577.636 489.38,577.91 489.806,578.177 490.231,578.463 \n",
       "  490.656,578.736 491.081,579.03 491.506,579.293 491.932,579.569 492.357,579.846 492.782,580.125 493.207,580.403 493.632,580.687 494.057,580.965 494.483,581.241 \n",
       "  494.908,581.522 495.333,581.804 495.758,582.083 496.183,582.362 496.608,582.645 497.034,582.928 497.459,583.209 497.884,583.495 498.309,583.775 498.734,584.059 \n",
       "  499.159,584.344 499.585,584.63 500.01,584.911 500.435,585.195 500.86,585.481 501.285,585.768 501.711,586.06 502.136,586.332 502.561,586.624 502.986,586.907 \n",
       "  503.411,587.193 503.836,587.482 504.262,587.766 504.687,588.057 505.112,588.342 505.537,588.63 505.962,588.938 506.387,589.203 506.813,589.515 507.238,589.806 \n",
       "  507.663,590.101 508.088,590.388 508.513,590.679 508.939,590.967 509.364,591.244 509.789,591.555 510.214,591.847 510.639,592.143 511.064,592.433 511.49,592.729 \n",
       "  511.915,593.006 512.34,593.316 512.765,593.611 513.19,593.895 513.615,594.185 514.041,594.485 514.466,594.778 514.891,595.078 515.316,595.374 515.741,595.682 \n",
       "  516.167,595.97 516.592,596.267 517.017,596.567 517.442,596.866 517.867,597.167 518.292,597.466 518.718,597.767 519.143,598.068 519.568,598.369 519.993,598.671 \n",
       "  520.418,598.974 520.843,599.29 521.269,599.593 521.694,599.89 522.119,600.193 522.544,600.498 522.969,600.803 523.395,601.112 523.82,601.414 524.245,601.722 \n",
       "  524.67,602.029 525.095,602.329 525.52,602.642 525.946,602.947 526.371,603.253 526.796,603.558 527.221,603.851 527.646,604.156 528.071,604.465 528.497,604.774 \n",
       "  528.922,605.101 529.347,605.411 529.772,605.726 530.197,606.032 530.623,606.347 531.048,606.659 531.473,606.969 531.898,607.277 532.323,607.59 532.748,607.897 \n",
       "  533.174,608.211 533.599,608.525 534.024,608.839 534.449,609.153 534.874,609.468 535.299,609.783 535.725,610.099 536.15,610.415 536.575,610.731 537,611.049 \n",
       "  537.425,611.367 537.851,611.685 538.276,612.003 538.701,612.322 539.126,612.64 539.551,612.963 539.976,613.283 540.402,613.604 540.827,613.93 541.252,614.223 \n",
       "  541.677,614.545 542.102,614.875 542.527,615.216 542.953,615.516 543.378,615.855 543.803,616.142 544.228,616.484 544.653,616.778 545.078,617.112 545.504,617.445 \n",
       "  545.929,617.777 546.354,618.103 546.779,618.426 547.204,618.77 547.63,619.096 548.055,619.421 548.48,619.751 548.905,620.077 549.33,620.406 549.755,620.732 \n",
       "  550.181,621.065 550.606,621.393 551.031,621.718 551.456,622.051 551.881,622.377 552.306,622.708 552.732,623.038 553.157,623.369 553.582,623.7 554.007,624.031 \n",
       "  554.432,624.371 554.858,624.698 555.283,625.03 555.708,625.361 556.133,625.68 556.558,626.014 556.983,626.355 557.409,626.677 557.834,627.024 558.259,627.336 \n",
       "  558.684,627.668 559.109,628.031 559.534,628.368 559.96,628.707 560.385,629.048 560.81,629.402 561.235,629.721 561.66,630.056 562.086,630.392 562.511,630.744 \n",
       "  562.936,631.078 563.361,631.422 563.786,631.763 564.211,632.102 564.637,632.445 565.062,632.785 565.487,633.124 565.912,633.466 566.337,633.811 566.762,634.151 \n",
       "  567.188,634.494 567.613,634.841 568.038,635.18 568.463,635.527 568.888,635.858 569.314,636.201 569.739,636.561 570.164,636.91 570.589,637.253 571.014,637.604 \n",
       "  571.439,637.947 571.865,638.294 572.29,638.294 572.715,638.641 573.14,638.716 573.565,638.789 573.99,638.863 574.416,638.935 574.841,639.009 575.266,639.083 \n",
       "  575.691,639.157 576.116,639.231 576.542,639.306 576.967,639.384 577.392,639.455 577.817,639.528 578.242,639.603 578.667,639.678 579.093,639.755 579.518,639.827 \n",
       "  579.943,639.888 580.368,639.978 580.793,640.054 581.218,640.117 581.644,640.206 582.069,640.25 582.494,640.332 582.919,640.413 583.344,640.484 583.769,640.559 \n",
       "  584.195,640.631 584.62,640.717 585.045,640.797 585.47,640.858 585.895,640.919 586.321,641 586.746,641.075 587.171,641.151 587.596,641.227 588.021,641.315 \n",
       "  588.446,641.395 588.872,641.47 589.297,641.532 589.722,641.603 590.147,641.665 590.572,641.77 590.997,641.831 591.423,641.919 591.848,641.994 592.273,642.067 \n",
       "  592.698,642.144 593.123,642.218 593.549,642.289 593.974,642.363 594.399,642.439 594.824,642.514 595.249,642.588 595.674,642.664 596.1,642.739 596.525,642.813 \n",
       "  596.95,642.888 597.375,642.963 597.8,643.039 598.225,643.114 598.651,643.19 599.076,643.265 599.501,643.34 599.926,643.415 600.351,643.492 600.777,643.567 \n",
       "  601.202,643.643 601.627,643.718 602.052,643.794 602.477,643.87 602.902,643.945 603.328,644.021 603.753,644.097 604.178,644.173 604.603,644.249 605.028,644.325 \n",
       "  605.453,644.401 605.879,644.477 606.304,644.553 606.729,644.629 607.154,644.706 607.579,644.782 608.005,644.859 608.43,644.935 608.855,645.011 609.28,645.087 \n",
       "  609.705,645.164 610.13,645.24 610.556,645.316 610.981,645.393 611.406,645.469 611.831,645.546 612.256,645.622 612.681,645.699 613.107,645.775 613.532,645.854 \n",
       "  613.957,645.93 614.382,646.011 614.807,646.086 615.233,646.164 615.658,646.239 616.083,646.3 616.508,646.353 616.933,646.454 617.358,646.546 617.784,646.62 \n",
       "  618.209,646.681 618.634,646.761 619.059,646.841 619.484,646.916 619.909,646.965 620.335,647.064 620.76,647.151 621.185,647.24 621.61,647.317 622.035,647.394 \n",
       "  622.46,647.47 622.886,647.548 623.311,647.626 623.736,647.703 624.161,647.781 624.586,647.858 625.012,647.935 625.437,648.013 625.862,648.091 626.287,648.168 \n",
       "  626.712,648.245 627.137,648.324 627.563,648.4 627.988,648.478 628.413,648.553 628.838,648.633 629.263,648.709 629.688,648.792 630.114,648.857 630.539,648.944 \n",
       "  630.964,649.008 631.389,649.079 631.814,649.159 632.24,649.236 632.665,649.321 633.09,649.4 633.515,649.489 633.94,649.572 634.365,649.644 634.791,649.728 \n",
       "  635.216,649.806 635.641,649.887 636.066,649.959 636.491,650.034 636.916,650.115 637.342,650.19 637.767,650.278 638.192,650.318 638.617,650.396 639.042,650.472 \n",
       "  639.468,650.592 639.893,650.669 640.318,650.748 640.743,650.826 641.168,650.907 641.593,650.986 642.019,651.066 642.444,651.144 642.869,651.223 643.294,651.3 \n",
       "  643.719,651.378 644.144,651.456 644.57,651.535 644.995,651.613 645.42,651.691 645.845,651.77 646.27,651.848 646.696,651.927 647.121,652.006 647.546,652.085 \n",
       "  647.971,652.163 648.396,652.242 648.821,652.321 649.247,652.4 649.672,652.479 650.097,652.559 650.522,652.638 650.947,652.717 651.372,652.797 651.798,652.876 \n",
       "  652.223,652.956 652.648,653.035 653.073,653.115 653.498,653.195 653.924,653.274 654.349,653.354 654.774,653.434 655.199,653.514 655.624,653.593 656.049,653.673 \n",
       "  656.475,653.753 656.9,653.834 657.325,653.913 657.75,653.994 658.175,654.074 658.6,654.154 659.026,654.234 659.451,654.314 659.876,654.395 660.301,654.475 \n",
       "  660.726,654.555 661.152,654.635 661.577,654.715 662.002,654.796 662.427,654.877 662.852,654.957 663.277,655.037 663.703,655.118 664.128,655.199 664.553,655.279 \n",
       "  664.978,655.359 665.403,655.441 665.828,655.521 666.254,655.602 666.679,655.682 667.104,655.763 667.529,655.844 667.954,655.925 668.379,656.005 668.805,656.086 \n",
       "  669.23,656.166 669.655,656.247 670.08,656.328 670.505,656.409 670.931,656.49 671.356,656.57 671.781,656.651 672.206,656.732 672.631,656.813 673.056,656.894 \n",
       "  673.482,656.975 673.907,657.056 674.332,657.138 674.757,657.219 675.182,657.3 675.607,657.381 676.033,657.462 676.458,657.544 676.883,657.625 677.308,657.706 \n",
       "  677.733,657.788 678.159,657.869 678.584,657.951 679.009,658.032 679.434,658.114 679.859,658.196 680.284,658.278 680.71,658.359 681.135,658.441 681.56,658.523 \n",
       "  681.985,658.605 682.41,658.687 682.835,658.77 683.261,658.851 683.686,658.933 684.111,659.015 684.536,659.098 684.961,659.18 685.387,659.262 685.812,659.345 \n",
       "  686.237,659.427 686.662,659.509 687.087,659.592 687.512,659.674 687.938,659.757 688.363,659.839 688.788,659.922 689.213,660.004 689.638,660.086 690.063,660.169 \n",
       "  690.489,660.252 690.914,660.334 691.339,660.417 691.764,660.5 692.189,660.582 692.615,660.665 693.04,660.748 693.465,660.83 693.89,660.914 694.315,660.996 \n",
       "  694.74,661.079 695.166,661.162 695.591,661.244 696.016,661.328 696.441,661.41 696.866,661.493 697.291,661.576 697.717,661.659 698.142,661.741 698.567,661.825 \n",
       "  698.992,661.908 699.417,661.991 699.843,662.074 700.268,662.158 700.693,662.241 701.118,662.328 701.543,662.409 701.968,662.489 702.394,662.553 702.819,662.662 \n",
       "  703.244,662.748 703.669,662.831 704.094,662.913 704.519,662.994 704.945,663.081 705.37,663.152 705.795,663.247 706.22,663.334 706.645,663.401 707.07,663.496 \n",
       "  707.496,663.559 707.921,663.664 708.346,663.738 708.771,663.813 709.196,663.896 709.622,663.97 710.047,664.07 710.472,664.161 710.897,664.252 711.322,664.34 \n",
       "  711.747,664.399 712.173,664.478 712.598,664.591 713.023,664.675 713.448,664.758 713.873,664.82 714.298,664.922 714.724,665.009 715.149,665.087 715.574,665.179 \n",
       "  715.999,665.263 716.424,665.343 716.85,665.433 717.275,665.514 717.7,665.596 718.125,665.685 718.55,665.77 718.975,665.848 719.401,665.936 719.826,666.019 \n",
       "  720.251,666.106 720.676,666.193 721.101,666.28 721.526,666.36 721.952,666.448 722.377,666.535 722.802,666.613 723.227,666.7 723.652,666.78 724.078,666.867 \n",
       "  724.503,666.944 724.928,667.03 725.353,667.114 725.778,667.201 726.203,667.288 726.629,667.379 727.054,667.464 727.479,667.543 727.904,667.632 728.329,667.712 \n",
       "  728.754,667.793 729.18,667.875 729.605,667.965 730.03,668.046 730.455,668.134 730.88,668.219 731.306,668.301 731.731,668.392 732.156,668.481 732.581,668.561 \n",
       "  733.006,668.649 733.431,668.731 733.857,668.82 734.282,668.904 734.707,668.988 735.132,669.062 735.557,669.148 735.982,669.235 736.408,669.32 736.833,669.407 \n",
       "  737.258,669.494 737.683,669.576 738.108,669.662 738.534,669.749 738.959,669.835 739.384,669.924 739.809,670.011 740.234,670.099 740.659,670.186 741.085,670.268 \n",
       "  741.51,670.353 741.935,670.431 742.36,670.515 742.785,670.515 \n",
       "  \"/>\n",
       "<path clip-path=\"url(#clip220)\" d=\"\n",
       "M395.239 327.952 L686.257 327.952 L686.257 206.992 L395.239 206.992  Z\n",
       "  \" fill=\"#ffffff\" fill-rule=\"evenodd\" fill-opacity=\"1\"/>\n",
       "<polyline clip-path=\"url(#clip220)\" style=\"stroke:#000000; stroke-width:4; stroke-opacity:1; fill:none\" points=\"\n",
       "  395.239,327.952 686.257,327.952 686.257,206.992 395.239,206.992 395.239,327.952 \n",
       "  \"/>\n",
       "<polyline clip-path=\"url(#clip220)\" style=\"stroke:#009af9; stroke-width:4; stroke-opacity:1; fill:none\" points=\"\n",
       "  419.239,267.472 563.239,267.472 \n",
       "  \"/>\n",
       "<path clip-path=\"url(#clip220)\" d=\"M 0 0 M601.082 287.16 Q599.276 291.789 597.563 293.201 Q595.85 294.613 592.98 294.613 L589.577 294.613 L589.577 291.048 L592.077 291.048 Q593.836 291.048 594.809 290.215 Q595.781 289.382 596.961 286.28 L597.725 284.335 L587.239 258.826 L591.753 258.826 L599.855 279.104 L607.957 258.826 L612.471 258.826 L601.082 287.16 Z\" fill=\"#000000\" fill-rule=\"evenodd\" fill-opacity=\"1\" /><path clip-path=\"url(#clip220)\" d=\"M 0 0 M618.35 280.817 L625.989 280.817 L625.989 254.451 L617.679 256.118 L617.679 251.859 L625.943 250.192 L630.619 250.192 L630.619 280.817 L638.257 280.817 L638.257 284.752 L618.35 284.752 L618.35 280.817 Z\" fill=\"#000000\" fill-rule=\"evenodd\" fill-opacity=\"1\" /><path clip-path=\"url(#clip220)\" d=\"\n",
       "M1015.36 686.448 L1562.05 686.448 L1562.05 123.472 L1015.36 123.472  Z\n",
       "  \" fill=\"#ffffff\" fill-rule=\"evenodd\" fill-opacity=\"1\"/>\n",
       "<defs>\n",
       "  <clipPath id=\"clip223\">\n",
       "    <rect x=\"1015\" y=\"123\" width=\"548\" height=\"564\"/>\n",
       "  </clipPath>\n",
       "</defs>\n",
       "<polyline clip-path=\"url(#clip223)\" style=\"stroke:#000000; stroke-width:2; stroke-opacity:0.1; fill:none\" points=\"\n",
       "  1030.41,686.448 1030.41,123.472 \n",
       "  \"/>\n",
       "<polyline clip-path=\"url(#clip223)\" style=\"stroke:#000000; stroke-width:2; stroke-opacity:0.1; fill:none\" points=\"\n",
       "  1136.88,686.448 1136.88,123.472 \n",
       "  \"/>\n",
       "<polyline clip-path=\"url(#clip223)\" style=\"stroke:#000000; stroke-width:2; stroke-opacity:0.1; fill:none\" points=\"\n",
       "  1243.35,686.448 1243.35,123.472 \n",
       "  \"/>\n",
       "<polyline clip-path=\"url(#clip223)\" style=\"stroke:#000000; stroke-width:2; stroke-opacity:0.1; fill:none\" points=\"\n",
       "  1349.82,686.448 1349.82,123.472 \n",
       "  \"/>\n",
       "<polyline clip-path=\"url(#clip223)\" style=\"stroke:#000000; stroke-width:2; stroke-opacity:0.1; fill:none\" points=\"\n",
       "  1456.29,686.448 1456.29,123.472 \n",
       "  \"/>\n",
       "<polyline clip-path=\"url(#clip223)\" style=\"stroke:#000000; stroke-width:2; stroke-opacity:0.1; fill:none\" points=\"\n",
       "  1015.36,672.962 1562.05,672.962 \n",
       "  \"/>\n",
       "<polyline clip-path=\"url(#clip223)\" style=\"stroke:#000000; stroke-width:2; stroke-opacity:0.1; fill:none\" points=\"\n",
       "  1015.36,574.272 1562.05,574.272 \n",
       "  \"/>\n",
       "<polyline clip-path=\"url(#clip223)\" style=\"stroke:#000000; stroke-width:2; stroke-opacity:0.1; fill:none\" points=\"\n",
       "  1015.36,475.582 1562.05,475.582 \n",
       "  \"/>\n",
       "<polyline clip-path=\"url(#clip223)\" style=\"stroke:#000000; stroke-width:2; stroke-opacity:0.1; fill:none\" points=\"\n",
       "  1015.36,376.892 1562.05,376.892 \n",
       "  \"/>\n",
       "<polyline clip-path=\"url(#clip223)\" style=\"stroke:#000000; stroke-width:2; stroke-opacity:0.1; fill:none\" points=\"\n",
       "  1015.36,278.202 1562.05,278.202 \n",
       "  \"/>\n",
       "<polyline clip-path=\"url(#clip223)\" style=\"stroke:#000000; stroke-width:2; stroke-opacity:0.1; fill:none\" points=\"\n",
       "  1015.36,179.512 1562.05,179.512 \n",
       "  \"/>\n",
       "<polyline clip-path=\"url(#clip220)\" style=\"stroke:#000000; stroke-width:4; stroke-opacity:1; fill:none\" points=\"\n",
       "  1015.36,686.448 1562.05,686.448 \n",
       "  \"/>\n",
       "<polyline clip-path=\"url(#clip220)\" style=\"stroke:#000000; stroke-width:4; stroke-opacity:1; fill:none\" points=\"\n",
       "  1015.36,686.448 1015.36,123.472 \n",
       "  \"/>\n",
       "<polyline clip-path=\"url(#clip220)\" style=\"stroke:#000000; stroke-width:4; stroke-opacity:1; fill:none\" points=\"\n",
       "  1030.41,686.448 1030.41,679.692 \n",
       "  \"/>\n",
       "<polyline clip-path=\"url(#clip220)\" style=\"stroke:#000000; stroke-width:4; stroke-opacity:1; fill:none\" points=\"\n",
       "  1136.88,686.448 1136.88,679.692 \n",
       "  \"/>\n",
       "<polyline clip-path=\"url(#clip220)\" style=\"stroke:#000000; stroke-width:4; stroke-opacity:1; fill:none\" points=\"\n",
       "  1243.35,686.448 1243.35,679.692 \n",
       "  \"/>\n",
       "<polyline clip-path=\"url(#clip220)\" style=\"stroke:#000000; stroke-width:4; stroke-opacity:1; fill:none\" points=\"\n",
       "  1349.82,686.448 1349.82,679.692 \n",
       "  \"/>\n",
       "<polyline clip-path=\"url(#clip220)\" style=\"stroke:#000000; stroke-width:4; stroke-opacity:1; fill:none\" points=\"\n",
       "  1456.29,686.448 1456.29,679.692 \n",
       "  \"/>\n",
       "<polyline clip-path=\"url(#clip220)\" style=\"stroke:#000000; stroke-width:4; stroke-opacity:1; fill:none\" points=\"\n",
       "  1015.36,672.962 1021.92,672.962 \n",
       "  \"/>\n",
       "<polyline clip-path=\"url(#clip220)\" style=\"stroke:#000000; stroke-width:4; stroke-opacity:1; fill:none\" points=\"\n",
       "  1015.36,574.272 1021.92,574.272 \n",
       "  \"/>\n",
       "<polyline clip-path=\"url(#clip220)\" style=\"stroke:#000000; stroke-width:4; stroke-opacity:1; fill:none\" points=\"\n",
       "  1015.36,475.582 1021.92,475.582 \n",
       "  \"/>\n",
       "<polyline clip-path=\"url(#clip220)\" style=\"stroke:#000000; stroke-width:4; stroke-opacity:1; fill:none\" points=\"\n",
       "  1015.36,376.892 1021.92,376.892 \n",
       "  \"/>\n",
       "<polyline clip-path=\"url(#clip220)\" style=\"stroke:#000000; stroke-width:4; stroke-opacity:1; fill:none\" points=\"\n",
       "  1015.36,278.202 1021.92,278.202 \n",
       "  \"/>\n",
       "<polyline clip-path=\"url(#clip220)\" style=\"stroke:#000000; stroke-width:4; stroke-opacity:1; fill:none\" points=\"\n",
       "  1015.36,179.512 1021.92,179.512 \n",
       "  \"/>\n",
       "<path clip-path=\"url(#clip220)\" d=\"M 0 0 M1030.41 708.439 Q1026.8 708.439 1024.97 712.003 Q1023.16 715.545 1023.16 722.675 Q1023.16 729.781 1024.97 733.346 Q1026.8 736.887 1030.41 736.887 Q1034.04 736.887 1035.85 733.346 Q1037.68 729.781 1037.68 722.675 Q1037.68 715.545 1035.85 712.003 Q1034.04 708.439 1030.41 708.439 M1030.41 704.735 Q1036.22 704.735 1039.28 709.341 Q1042.35 713.925 1042.35 722.675 Q1042.35 731.401 1039.28 736.008 Q1036.22 740.591 1030.41 740.591 Q1024.6 740.591 1021.52 736.008 Q1018.47 731.401 1018.47 722.675 Q1018.47 713.925 1021.52 709.341 Q1024.6 704.735 1030.41 704.735 Z\" fill=\"#000000\" fill-rule=\"evenodd\" fill-opacity=\"1\" /><path clip-path=\"url(#clip220)\" d=\"M 0 0 M1105.02 735.985 L1121.34 735.985 L1121.34 739.92 L1099.39 739.92 L1099.39 735.985 Q1102.05 733.23 1106.64 728.6 Q1111.24 723.948 1112.42 722.605 Q1114.67 720.082 1115.55 718.346 Q1116.45 716.587 1116.45 714.897 Q1116.45 712.142 1114.51 710.406 Q1112.59 708.67 1109.48 708.67 Q1107.28 708.67 1104.83 709.434 Q1102.4 710.198 1099.62 711.749 L1099.62 707.027 Q1102.45 705.892 1104.9 705.314 Q1107.35 704.735 1109.39 704.735 Q1114.76 704.735 1117.96 707.42 Q1121.15 710.105 1121.15 714.596 Q1121.15 716.726 1120.34 718.647 Q1119.55 720.545 1117.45 723.138 Q1116.87 723.809 1113.77 727.026 Q1110.66 730.221 1105.02 735.985 Z\" fill=\"#000000\" fill-rule=\"evenodd\" fill-opacity=\"1\" /><path clip-path=\"url(#clip220)\" d=\"M 0 0 M1126.45 705.36 L1144.81 705.36 L1144.81 709.295 L1130.73 709.295 L1130.73 717.767 Q1131.75 717.42 1132.77 717.258 Q1133.79 717.073 1134.81 717.073 Q1140.59 717.073 1143.97 720.244 Q1147.35 723.415 1147.35 728.832 Q1147.35 734.411 1143.88 737.512 Q1140.41 740.591 1134.09 740.591 Q1131.91 740.591 1129.65 740.221 Q1127.4 739.85 1124.99 739.11 L1124.99 734.411 Q1127.08 735.545 1129.3 736.1 Q1131.52 736.656 1134 736.656 Q1138 736.656 1140.34 734.55 Q1142.68 732.443 1142.68 728.832 Q1142.68 725.221 1140.34 723.114 Q1138 721.008 1134 721.008 Q1132.12 721.008 1130.25 721.425 Q1128.4 721.841 1126.45 722.721 L1126.45 705.36 Z\" fill=\"#000000\" fill-rule=\"evenodd\" fill-opacity=\"1\" /><path clip-path=\"url(#clip220)\" d=\"M 0 0 M1162.42 708.439 Q1158.81 708.439 1156.98 712.003 Q1155.18 715.545 1155.18 722.675 Q1155.18 729.781 1156.98 733.346 Q1158.81 736.887 1162.42 736.887 Q1166.06 736.887 1167.86 733.346 Q1169.69 729.781 1169.69 722.675 Q1169.69 715.545 1167.86 712.003 Q1166.06 708.439 1162.42 708.439 M1162.42 704.735 Q1168.23 704.735 1171.29 709.341 Q1174.37 713.925 1174.37 722.675 Q1174.37 731.401 1171.29 736.008 Q1168.23 740.591 1162.42 740.591 Q1156.61 740.591 1153.53 736.008 Q1150.48 731.401 1150.48 722.675 Q1150.48 713.925 1153.53 709.341 Q1156.61 704.735 1162.42 704.735 Z\" fill=\"#000000\" fill-rule=\"evenodd\" fill-opacity=\"1\" /><path clip-path=\"url(#clip220)\" d=\"M 0 0 M1206.61 705.36 L1224.97 705.36 L1224.97 709.295 L1210.9 709.295 L1210.9 717.767 Q1211.91 717.42 1212.93 717.258 Q1213.95 717.073 1214.97 717.073 Q1220.76 717.073 1224.14 720.244 Q1227.52 723.415 1227.52 728.832 Q1227.52 734.411 1224.04 737.512 Q1220.57 740.591 1214.25 740.591 Q1212.08 740.591 1209.81 740.221 Q1207.56 739.85 1205.15 739.11 L1205.15 734.411 Q1207.24 735.545 1209.46 736.1 Q1211.68 736.656 1214.16 736.656 Q1218.16 736.656 1220.5 734.55 Q1222.84 732.443 1222.84 728.832 Q1222.84 725.221 1220.5 723.114 Q1218.16 721.008 1214.16 721.008 Q1212.28 721.008 1210.41 721.425 Q1208.56 721.841 1206.61 722.721 L1206.61 705.36 Z\" fill=\"#000000\" fill-rule=\"evenodd\" fill-opacity=\"1\" /><path clip-path=\"url(#clip220)\" d=\"M 0 0 M1242.58 708.439 Q1238.97 708.439 1237.14 712.003 Q1235.34 715.545 1235.34 722.675 Q1235.34 729.781 1237.14 733.346 Q1238.97 736.887 1242.58 736.887 Q1246.22 736.887 1248.02 733.346 Q1249.85 729.781 1249.85 722.675 Q1249.85 715.545 1248.02 712.003 Q1246.22 708.439 1242.58 708.439 M1242.58 704.735 Q1248.39 704.735 1251.45 709.341 Q1254.53 713.925 1254.53 722.675 Q1254.53 731.401 1251.45 736.008 Q1248.39 740.591 1242.58 740.591 Q1236.77 740.591 1233.7 736.008 Q1230.64 731.401 1230.64 722.675 Q1230.64 713.925 1233.7 709.341 Q1236.77 704.735 1242.58 704.735 Z\" fill=\"#000000\" fill-rule=\"evenodd\" fill-opacity=\"1\" /><path clip-path=\"url(#clip220)\" d=\"M 0 0 M1269.6 708.439 Q1265.99 708.439 1264.16 712.003 Q1262.35 715.545 1262.35 722.675 Q1262.35 729.781 1264.16 733.346 Q1265.99 736.887 1269.6 736.887 Q1273.23 736.887 1275.04 733.346 Q1276.87 729.781 1276.87 722.675 Q1276.87 715.545 1275.04 712.003 Q1273.23 708.439 1269.6 708.439 M1269.6 704.735 Q1275.41 704.735 1278.46 709.341 Q1281.54 713.925 1281.54 722.675 Q1281.54 731.401 1278.46 736.008 Q1275.41 740.591 1269.6 740.591 Q1263.79 740.591 1260.71 736.008 Q1257.65 731.401 1257.65 722.675 Q1257.65 713.925 1260.71 709.341 Q1263.79 704.735 1269.6 704.735 Z\" fill=\"#000000\" fill-rule=\"evenodd\" fill-opacity=\"1\" /><path clip-path=\"url(#clip220)\" d=\"M 0 0 M1312.19 705.36 L1334.41 705.36 L1334.41 707.351 L1321.87 739.92 L1316.98 739.92 L1328.79 709.295 L1312.19 709.295 L1312.19 705.36 Z\" fill=\"#000000\" fill-rule=\"evenodd\" fill-opacity=\"1\" /><path clip-path=\"url(#clip220)\" d=\"M 0 0 M1339.53 705.36 L1357.89 705.36 L1357.89 709.295 L1343.81 709.295 L1343.81 717.767 Q1344.83 717.42 1345.85 717.258 Q1346.87 717.073 1347.89 717.073 Q1353.67 717.073 1357.05 720.244 Q1360.43 723.415 1360.43 728.832 Q1360.43 734.411 1356.96 737.512 Q1353.49 740.591 1347.17 740.591 Q1344.99 740.591 1342.72 740.221 Q1340.48 739.85 1338.07 739.11 L1338.07 734.411 Q1340.15 735.545 1342.38 736.1 Q1344.6 736.656 1347.08 736.656 Q1351.08 736.656 1353.42 734.55 Q1355.76 732.443 1355.76 728.832 Q1355.76 725.221 1353.42 723.114 Q1351.08 721.008 1347.08 721.008 Q1345.2 721.008 1343.33 721.425 Q1341.47 721.841 1339.53 722.721 L1339.53 705.36 Z\" fill=\"#000000\" fill-rule=\"evenodd\" fill-opacity=\"1\" /><path clip-path=\"url(#clip220)\" d=\"M 0 0 M1375.5 708.439 Q1371.89 708.439 1370.06 712.003 Q1368.26 715.545 1368.26 722.675 Q1368.26 729.781 1370.06 733.346 Q1371.89 736.887 1375.5 736.887 Q1379.14 736.887 1380.94 733.346 Q1382.77 729.781 1382.77 722.675 Q1382.77 715.545 1380.94 712.003 Q1379.14 708.439 1375.5 708.439 M1375.5 704.735 Q1381.31 704.735 1384.37 709.341 Q1387.45 713.925 1387.45 722.675 Q1387.45 731.401 1384.37 736.008 Q1381.31 740.591 1375.5 740.591 Q1369.69 740.591 1366.61 736.008 Q1363.56 731.401 1363.56 722.675 Q1363.56 713.925 1366.61 709.341 Q1369.69 704.735 1375.5 704.735 Z\" fill=\"#000000\" fill-rule=\"evenodd\" fill-opacity=\"1\" /><path clip-path=\"url(#clip220)\" d=\"M 0 0 M1406.15 735.985 L1413.79 735.985 L1413.79 709.619 L1405.48 711.286 L1405.48 707.027 L1413.74 705.36 L1418.42 705.36 L1418.42 735.985 L1426.06 735.985 L1426.06 739.92 L1406.15 739.92 L1406.15 735.985 Z\" fill=\"#000000\" fill-rule=\"evenodd\" fill-opacity=\"1\" /><path clip-path=\"url(#clip220)\" d=\"M 0 0 M1441.13 708.439 Q1437.51 708.439 1435.69 712.003 Q1433.88 715.545 1433.88 722.675 Q1433.88 729.781 1435.69 733.346 Q1437.51 736.887 1441.13 736.887 Q1444.76 736.887 1446.57 733.346 Q1448.39 729.781 1448.39 722.675 Q1448.39 715.545 1446.57 712.003 Q1444.76 708.439 1441.13 708.439 M1441.13 704.735 Q1446.94 704.735 1449.99 709.341 Q1453.07 713.925 1453.07 722.675 Q1453.07 731.401 1449.99 736.008 Q1446.94 740.591 1441.13 740.591 Q1435.32 740.591 1432.24 736.008 Q1429.18 731.401 1429.18 722.675 Q1429.18 713.925 1432.24 709.341 Q1435.32 704.735 1441.13 704.735 Z\" fill=\"#000000\" fill-rule=\"evenodd\" fill-opacity=\"1\" /><path clip-path=\"url(#clip220)\" d=\"M 0 0 M1468.14 708.439 Q1464.53 708.439 1462.7 712.003 Q1460.89 715.545 1460.89 722.675 Q1460.89 729.781 1462.7 733.346 Q1464.53 736.887 1468.14 736.887 Q1471.77 736.887 1473.58 733.346 Q1475.41 729.781 1475.41 722.675 Q1475.41 715.545 1473.58 712.003 Q1471.77 708.439 1468.14 708.439 M1468.14 704.735 Q1473.95 704.735 1477.01 709.341 Q1480.08 713.925 1480.08 722.675 Q1480.08 731.401 1477.01 736.008 Q1473.95 740.591 1468.14 740.591 Q1462.33 740.591 1459.25 736.008 Q1456.2 731.401 1456.2 722.675 Q1456.2 713.925 1459.25 709.341 Q1462.33 704.735 1468.14 704.735 Z\" fill=\"#000000\" fill-rule=\"evenodd\" fill-opacity=\"1\" /><path clip-path=\"url(#clip220)\" d=\"M 0 0 M1495.15 708.439 Q1491.54 708.439 1489.71 712.003 Q1487.91 715.545 1487.91 722.675 Q1487.91 729.781 1489.71 733.346 Q1491.54 736.887 1495.15 736.887 Q1498.79 736.887 1500.59 733.346 Q1502.42 729.781 1502.42 722.675 Q1502.42 715.545 1500.59 712.003 Q1498.79 708.439 1495.15 708.439 M1495.15 704.735 Q1500.96 704.735 1504.02 709.341 Q1507.1 713.925 1507.1 722.675 Q1507.1 731.401 1504.02 736.008 Q1500.96 740.591 1495.15 740.591 Q1489.34 740.591 1486.26 736.008 Q1483.21 731.401 1483.21 722.675 Q1483.21 713.925 1486.26 709.341 Q1489.34 704.735 1495.15 704.735 Z\" fill=\"#000000\" fill-rule=\"evenodd\" fill-opacity=\"1\" /><path clip-path=\"url(#clip220)\" d=\"M 0 0 M903.611 692.754 L911.249 692.754 L911.249 666.389 L902.939 668.055 L902.939 663.796 L911.203 662.129 L915.879 662.129 L915.879 692.754 L923.518 692.754 L923.518 696.689 L903.611 696.689 L903.611 692.754 Z\" fill=\"#000000\" fill-rule=\"evenodd\" fill-opacity=\"1\" /><path clip-path=\"url(#clip220)\" d=\"M 0 0 M938.587 665.208 Q934.976 665.208 933.148 668.773 Q931.342 672.314 931.342 679.444 Q931.342 686.55 933.148 690.115 Q934.976 693.657 938.587 693.657 Q942.222 693.657 944.027 690.115 Q945.856 686.55 945.856 679.444 Q945.856 672.314 944.027 668.773 Q942.222 665.208 938.587 665.208 M938.587 661.504 Q944.397 661.504 947.453 666.111 Q950.532 670.694 950.532 679.444 Q950.532 688.171 947.453 692.777 Q944.397 697.361 938.587 697.361 Q932.777 697.361 929.698 692.777 Q926.643 688.171 926.643 679.444 Q926.643 670.694 929.698 666.111 Q932.777 661.504 938.587 661.504 Z\" fill=\"#000000\" fill-rule=\"evenodd\" fill-opacity=\"1\" /><path clip-path=\"url(#clip220)\" d=\"M 0 0 M950.532 657.186 L960.669 657.186 L960.669 660.27 L950.532 660.27 L950.532 657.186 Z\" fill=\"#000000\" fill-rule=\"evenodd\" fill-opacity=\"1\" /><path clip-path=\"url(#clip220)\" d=\"M 0 0 M975.189 666.082 L981.395 666.082 L981.395 644.66 L974.643 646.014 L974.643 642.553 L981.358 641.199 L985.157 641.199 L985.157 666.082 L991.363 666.082 L991.363 669.279 L975.189 669.279 L975.189 666.082 Z\" fill=\"#000000\" fill-rule=\"evenodd\" fill-opacity=\"1\" /><path clip-path=\"url(#clip220)\" d=\"M 0 0 M925.033 594.064 L932.672 594.064 L932.672 567.699 L924.361 569.365 L924.361 565.106 L932.625 563.439 L937.301 563.439 L937.301 594.064 L944.94 594.064 L944.94 597.999 L925.033 597.999 L925.033 594.064 Z\" fill=\"#000000\" fill-rule=\"evenodd\" fill-opacity=\"1\" /><path clip-path=\"url(#clip220)\" d=\"M 0 0 M960.009 566.518 Q956.398 566.518 954.57 570.083 Q952.764 573.625 952.764 580.754 Q952.764 587.861 954.57 591.425 Q956.398 594.967 960.009 594.967 Q963.644 594.967 965.449 591.425 Q967.278 587.861 967.278 580.754 Q967.278 573.625 965.449 570.083 Q963.644 566.518 960.009 566.518 M960.009 562.814 Q965.82 562.814 968.875 567.421 Q971.954 572.004 971.954 580.754 Q971.954 589.481 968.875 594.087 Q965.82 598.671 960.009 598.671 Q954.199 598.671 951.121 594.087 Q948.065 589.481 948.065 580.754 Q948.065 572.004 951.121 567.421 Q954.199 562.814 960.009 562.814 Z\" fill=\"#000000\" fill-rule=\"evenodd\" fill-opacity=\"1\" /><path clip-path=\"url(#clip220)\" d=\"M 0 0 M981.659 545.01 Q978.725 545.01 977.239 547.907 Q975.772 550.784 975.772 556.577 Q975.772 562.351 977.239 565.248 Q978.725 568.125 981.659 568.125 Q984.611 568.125 986.078 565.248 Q987.564 562.351 987.564 556.577 Q987.564 550.784 986.078 547.907 Q984.611 545.01 981.659 545.01 M981.659 542.001 Q986.379 542.001 988.862 545.744 Q991.363 549.468 991.363 556.577 Q991.363 563.668 988.862 567.411 Q986.379 571.134 981.659 571.134 Q976.938 571.134 974.436 567.411 Q971.954 563.668 971.954 556.577 Q971.954 549.468 974.436 545.744 Q976.938 542.001 981.659 542.001 Z\" fill=\"#000000\" fill-rule=\"evenodd\" fill-opacity=\"1\" /><path clip-path=\"url(#clip220)\" d=\"M 0 0 M927.722 495.374 L935.361 495.374 L935.361 469.009 L927.051 470.675 L927.051 466.416 L935.315 464.75 L939.991 464.75 L939.991 495.374 L947.63 495.374 L947.63 499.31 L927.722 499.31 L927.722 495.374 Z\" fill=\"#000000\" fill-rule=\"evenodd\" fill-opacity=\"1\" /><path clip-path=\"url(#clip220)\" d=\"M 0 0 M962.699 467.828 Q959.088 467.828 957.259 471.393 Q955.454 474.935 955.454 482.064 Q955.454 489.171 957.259 492.736 Q959.088 496.277 962.699 496.277 Q966.333 496.277 968.139 492.736 Q969.967 489.171 969.967 482.064 Q969.967 474.935 968.139 471.393 Q966.333 467.828 962.699 467.828 M962.699 464.125 Q968.509 464.125 971.565 468.731 Q974.643 473.314 974.643 482.064 Q974.643 490.791 971.565 495.398 Q968.509 499.981 962.699 499.981 Q956.889 499.981 953.81 495.398 Q950.754 490.791 950.754 482.064 Q950.754 473.314 953.81 468.731 Q956.889 464.125 962.699 464.125 Z\" fill=\"#000000\" fill-rule=\"evenodd\" fill-opacity=\"1\" /><path clip-path=\"url(#clip220)\" d=\"M 0 0 M975.189 468.702 L981.395 468.702 L981.395 447.28 L974.643 448.634 L974.643 445.173 L981.358 443.819 L985.157 443.819 L985.157 468.702 L991.363 468.702 L991.363 471.899 L975.189 471.899 L975.189 468.702 Z\" fill=\"#000000\" fill-rule=\"evenodd\" fill-opacity=\"1\" /><path clip-path=\"url(#clip220)\" d=\"M 0 0 M926.613 396.685 L934.251 396.685 L934.251 370.319 L925.941 371.986 L925.941 367.726 L934.205 366.06 L938.881 366.06 L938.881 396.685 L946.52 396.685 L946.52 400.62 L926.613 400.62 L926.613 396.685 Z\" fill=\"#000000\" fill-rule=\"evenodd\" fill-opacity=\"1\" /><path clip-path=\"url(#clip220)\" d=\"M 0 0 M961.589 369.138 Q957.978 369.138 956.149 372.703 Q954.344 376.245 954.344 383.374 Q954.344 390.481 956.149 394.046 Q957.978 397.587 961.589 397.587 Q965.223 397.587 967.029 394.046 Q968.858 390.481 968.858 383.374 Q968.858 376.245 967.029 372.703 Q965.223 369.138 961.589 369.138 M961.589 365.435 Q967.399 365.435 970.455 370.041 Q973.534 374.624 973.534 383.374 Q973.534 392.101 970.455 396.708 Q967.399 401.291 961.589 401.291 Q955.779 401.291 952.7 396.708 Q949.645 392.101 949.645 383.374 Q949.645 374.624 952.7 370.041 Q955.779 365.435 961.589 365.435 Z\" fill=\"#000000\" fill-rule=\"evenodd\" fill-opacity=\"1\" /><path clip-path=\"url(#clip220)\" d=\"M 0 0 M978.104 370.012 L991.363 370.012 L991.363 373.209 L973.534 373.209 L973.534 370.012 Q975.696 367.774 979.42 364.012 Q983.163 360.232 984.122 359.141 Q985.947 357.091 986.661 355.68 Q987.395 354.251 987.395 352.878 Q987.395 350.64 985.815 349.229 Q984.254 347.819 981.734 347.819 Q979.947 347.819 977.953 348.439 Q975.979 349.06 973.722 350.32 L973.722 346.483 Q976.016 345.562 978.01 345.092 Q980.003 344.622 981.659 344.622 Q986.022 344.622 988.617 346.803 Q991.213 348.985 991.213 352.634 Q991.213 354.364 990.555 355.925 Q989.915 357.467 988.204 359.574 Q987.733 360.119 985.213 362.733 Q982.693 365.329 978.104 370.012 Z\" fill=\"#000000\" fill-rule=\"evenodd\" fill-opacity=\"1\" /><path clip-path=\"url(#clip220)\" d=\"M 0 0 M925.954 297.995 L933.593 297.995 L933.593 271.629 L925.283 273.296 L925.283 269.037 L933.547 267.37 L938.223 267.37 L938.223 297.995 L945.862 297.995 L945.862 301.93 L925.954 301.93 L925.954 297.995 Z\" fill=\"#000000\" fill-rule=\"evenodd\" fill-opacity=\"1\" /><path clip-path=\"url(#clip220)\" d=\"M 0 0 M960.931 270.449 Q957.32 270.449 955.491 274.013 Q953.686 277.555 953.686 284.685 Q953.686 291.791 955.491 295.356 Q957.32 298.897 960.931 298.897 Q964.565 298.897 966.371 295.356 Q968.199 291.791 968.199 284.685 Q968.199 277.555 966.371 274.013 Q964.565 270.449 960.931 270.449 M960.931 266.745 Q966.741 266.745 969.797 271.351 Q972.875 275.935 972.875 284.685 Q972.875 293.411 969.797 298.018 Q966.741 302.601 960.931 302.601 Q955.121 302.601 952.042 298.018 Q948.987 293.411 948.987 284.685 Q948.987 275.935 952.042 271.351 Q955.121 266.745 960.931 266.745 Z\" fill=\"#000000\" fill-rule=\"evenodd\" fill-opacity=\"1\" /><path clip-path=\"url(#clip220)\" d=\"M 0 0 M985.571 259.379 Q988.298 259.962 989.821 261.805 Q991.363 263.649 991.363 266.357 Q991.363 270.513 988.505 272.789 Q985.646 275.065 980.38 275.065 Q978.612 275.065 976.731 274.708 Q974.869 274.369 972.875 273.673 L972.875 270.006 Q974.455 270.927 976.336 271.397 Q978.217 271.868 980.267 271.868 Q983.84 271.868 985.702 270.457 Q987.583 269.046 987.583 266.357 Q987.583 263.874 985.834 262.482 Q984.104 261.072 981 261.072 L977.728 261.072 L977.728 257.95 L981.151 257.95 Q983.953 257.95 985.439 256.84 Q986.925 255.712 986.925 253.605 Q986.925 251.442 985.382 250.295 Q983.859 249.129 981 249.129 Q979.439 249.129 977.652 249.468 Q975.866 249.806 973.722 250.521 L973.722 247.135 Q975.885 246.533 977.765 246.233 Q979.665 245.932 981.339 245.932 Q985.665 245.932 988.185 247.906 Q990.705 249.862 990.705 253.21 Q990.705 255.542 989.37 257.16 Q988.034 258.759 985.571 259.379 Z\" fill=\"#000000\" fill-rule=\"evenodd\" fill-opacity=\"1\" /><path clip-path=\"url(#clip220)\" d=\"M 0 0 M923.979 199.305 L931.618 199.305 L931.618 172.939 L923.308 174.606 L923.308 170.347 L931.572 168.68 L936.248 168.68 L936.248 199.305 L943.887 199.305 L943.887 203.24 L923.979 203.24 L923.979 199.305 Z\" fill=\"#000000\" fill-rule=\"evenodd\" fill-opacity=\"1\" /><path clip-path=\"url(#clip220)\" d=\"M 0 0 M958.956 171.759 Q955.345 171.759 953.516 175.323 Q951.711 178.865 951.711 185.995 Q951.711 193.101 953.516 196.666 Q955.345 200.208 958.956 200.208 Q962.59 200.208 964.396 196.666 Q966.225 193.101 966.225 185.995 Q966.225 178.865 964.396 175.323 Q962.59 171.759 958.956 171.759 M958.956 168.055 Q964.766 168.055 967.822 172.661 Q970.9 177.245 970.9 185.995 Q970.9 194.722 967.822 199.328 Q964.766 203.911 958.956 203.911 Q953.146 203.911 950.067 199.328 Q947.012 194.722 947.012 185.995 Q947.012 177.245 950.067 172.661 Q953.146 168.055 958.956 168.055 Z\" fill=\"#000000\" fill-rule=\"evenodd\" fill-opacity=\"1\" /><path clip-path=\"url(#clip220)\" d=\"M 0 0 M983.577 151.06 L973.985 166.05 L983.577 166.05 L983.577 151.06 M982.58 147.75 L987.357 147.75 L987.357 166.05 L991.363 166.05 L991.363 169.209 L987.357 169.209 L987.357 175.83 L983.577 175.83 L983.577 169.209 L970.9 169.209 L970.9 165.542 L982.58 147.75 Z\" fill=\"#000000\" fill-rule=\"evenodd\" fill-opacity=\"1\" /><path clip-path=\"url(#clip220)\" d=\"M 0 0 M1118.59 12.096 L1130.78 12.096 L1146.21 53.2532 L1161.73 12.096 L1173.92 12.096 L1173.92 72.576 L1165.94 72.576 L1165.94 19.4686 L1150.35 60.9499 L1142.12 60.9499 L1126.53 19.4686 L1126.53 72.576 L1118.59 72.576 L1118.59 12.096 Z\" fill=\"#000000\" fill-rule=\"evenodd\" fill-opacity=\"1\" /><path clip-path=\"url(#clip220)\" d=\"M 0 0 M1220.55 48.0275 L1220.55 51.6733 L1186.28 51.6733 Q1186.76 59.3701 1190.9 63.421 Q1195.07 67.4314 1202.48 67.4314 Q1206.78 67.4314 1210.79 66.3781 Q1214.84 65.3249 1218.81 63.2184 L1218.81 70.267 Q1214.8 71.9684 1210.58 72.8596 Q1206.37 73.7508 1202.04 73.7508 Q1191.18 73.7508 1184.82 67.4314 Q1178.5 61.1119 1178.5 50.3365 Q1178.5 39.1965 1184.5 32.6746 Q1190.53 26.1121 1200.74 26.1121 Q1209.89 26.1121 1215.2 32.0264 Q1220.55 37.9003 1220.55 48.0275 M1213.09 45.84 Q1213.01 39.7232 1209.65 36.0774 Q1206.33 32.4315 1200.82 32.4315 Q1194.58 32.4315 1190.81 35.9558 Q1187.09 39.4801 1186.52 45.8805 L1213.09 45.84 Z\" fill=\"#000000\" fill-rule=\"evenodd\" fill-opacity=\"1\" /><path clip-path=\"url(#clip220)\" d=\"M 0 0 M1235.74 14.324 L1235.74 27.2059 L1251.09 27.2059 L1251.09 32.9987 L1235.74 32.9987 L1235.74 57.6282 Q1235.74 63.1779 1237.24 64.7578 Q1238.78 66.3376 1243.44 66.3376 L1251.09 66.3376 L1251.09 72.576 L1243.44 72.576 Q1234.81 72.576 1231.53 69.3758 Q1228.24 66.1351 1228.24 57.6282 L1228.24 32.9987 L1222.78 32.9987 L1222.78 27.2059 L1228.24 27.2059 L1228.24 14.324 L1235.74 14.324 Z\" fill=\"#000000\" fill-rule=\"evenodd\" fill-opacity=\"1\" /><path clip-path=\"url(#clip220)\" d=\"M 0 0 M1296.62 45.1919 L1296.62 72.576 L1289.17 72.576 L1289.17 45.4349 Q1289.17 38.994 1286.66 35.7938 Q1284.15 32.5936 1279.12 32.5936 Q1273.09 32.5936 1269.6 36.4419 Q1266.12 40.2903 1266.12 46.9338 L1266.12 72.576 L1258.63 72.576 L1258.63 9.54393 L1266.12 9.54393 L1266.12 34.2544 Q1268.79 30.163 1272.4 28.1376 Q1276.05 26.1121 1280.79 26.1121 Q1288.6 26.1121 1292.61 30.9732 Q1296.62 35.7938 1296.62 45.1919 Z\" fill=\"#000000\" fill-rule=\"evenodd\" fill-opacity=\"1\" /><path clip-path=\"url(#clip220)\" d=\"M 0 0 M1322.02 32.4315 Q1316.03 32.4315 1312.54 37.1306 Q1309.06 41.7891 1309.06 49.9314 Q1309.06 58.0738 1312.5 62.7728 Q1315.99 67.4314 1322.02 67.4314 Q1327.98 67.4314 1331.46 62.7323 Q1334.95 58.0333 1334.95 49.9314 Q1334.95 41.8701 1331.46 37.1711 Q1327.98 32.4315 1322.02 32.4315 M1322.02 26.1121 Q1331.75 26.1121 1337.3 32.4315 Q1342.85 38.7509 1342.85 49.9314 Q1342.85 61.0714 1337.3 67.4314 Q1331.75 73.7508 1322.02 73.7508 Q1312.26 73.7508 1306.71 67.4314 Q1301.2 61.0714 1301.2 49.9314 Q1301.2 38.7509 1306.71 32.4315 Q1312.26 26.1121 1322.02 26.1121 Z\" fill=\"#000000\" fill-rule=\"evenodd\" fill-opacity=\"1\" /><path clip-path=\"url(#clip220)\" d=\"M 0 0 M1380.52 34.0924 L1380.52 9.54393 L1387.97 9.54393 L1387.97 72.576 L1380.52 72.576 L1380.52 65.7705 Q1378.17 69.8214 1374.56 71.8063 Q1371 73.7508 1365.98 73.7508 Q1357.75 73.7508 1352.57 67.1883 Q1347.42 60.6258 1347.42 49.9314 Q1347.42 39.2371 1352.57 32.6746 Q1357.75 26.1121 1365.98 26.1121 Q1371 26.1121 1374.56 28.0971 Q1378.17 30.0415 1380.52 34.0924 M1355.12 49.9314 Q1355.12 58.1548 1358.48 62.8538 Q1361.88 67.5124 1367.8 67.5124 Q1373.71 67.5124 1377.12 62.8538 Q1380.52 58.1548 1380.52 49.9314 Q1380.52 41.7081 1377.12 37.0496 Q1373.71 32.3505 1367.8 32.3505 Q1361.88 32.3505 1358.48 37.0496 Q1355.12 41.7081 1355.12 49.9314 Z\" fill=\"#000000\" fill-rule=\"evenodd\" fill-opacity=\"1\" /><path clip-path=\"url(#clip220)\" d=\"M 0 0 M1430.26 65.6895 L1458.82 65.6895 L1458.82 72.576 L1420.42 72.576 L1420.42 65.6895 Q1425.08 60.8689 1433.1 52.7671 Q1441.16 44.6248 1443.23 42.2752 Q1447.16 37.8598 1448.7 34.8216 Q1450.27 31.7429 1450.27 28.7857 Q1450.27 23.9651 1446.87 20.927 Q1443.51 17.8888 1438.08 17.8888 Q1434.23 17.8888 1429.94 19.2256 Q1425.69 20.5624 1420.82 23.2765 L1420.82 15.0127 Q1425.77 13.0277 1430.06 12.015 Q1434.35 11.0023 1437.92 11.0023 Q1447.32 11.0023 1452.91 15.7013 Q1458.5 20.4004 1458.5 28.2591 Q1458.5 31.9859 1457.08 35.3482 Q1455.7 38.6699 1452.02 43.2069 Q1451 44.3817 1445.58 50.0125 Q1440.15 55.6027 1430.26 65.6895 Z\" fill=\"#000000\" fill-rule=\"evenodd\" fill-opacity=\"1\" /><polyline clip-path=\"url(#clip223)\" style=\"stroke:#009af9; stroke-width:4; stroke-opacity:1; fill:none\" points=\"\n",
       "  1030.84,139.405 1031.26,150.979 1031.69,164.062 1032.11,179.376 1032.54,197.745 1032.96,220.349 1033.39,249.793 1033.82,291.819 1034.24,367.073 1034.67,447.169 \n",
       "  1035.09,447.169 1035.52,333.331 1035.95,343.904 1036.37,356.315 1036.8,370.071 1037.22,386.441 1037.65,405.453 1038.08,428.047 1038.5,454.213 1038.93,480.932 \n",
       "  1039.35,494.641 1039.78,485.105 1040.2,466.871 1040.63,451 1041.06,439.226 1041.48,431.34 1041.91,426.661 1042.33,424.844 1042.76,425.169 1043.19,427.719 \n",
       "  1043.61,432.224 1044.04,438.547 1044.46,446.563 1044.89,456.11 1045.32,466.689 1045.74,477.429 1046.17,486.916 1046.59,493.269 1047.02,495.145 1047.44,492.945 \n",
       "  1047.87,488.333 1048.3,483.259 1048.72,478.659 1049.15,475.121 1049.57,472.879 1050,472.363 1050.43,472.8 1050.85,474.733 1051.28,477.645 1051.7,481.306 \n",
       "  1052.13,485.047 1052.56,488.939 1052.98,492.13 1053.41,494.447 1053.83,495.608 1054.26,495.66 1054.68,494.866 1055.11,493.616 1055.54,492.314 1055.96,491.169 \n",
       "  1056.39,490.433 1056.81,490.192 1057.24,490.419 1057.67,491.099 1058.09,492.007 1058.52,493.098 1058.94,494.216 1059.37,495.179 1059.8,495.889 1060.22,496.299 \n",
       "  1060.65,496.384 1061.07,496.29 1061.5,496.029 1061.92,495.726 1062.35,495.465 1062.78,495.313 1063.2,495.294 1063.63,495.409 1064.05,495.608 1064.48,495.952 \n",
       "  1064.91,496.28 1065.33,496.583 1065.76,496.832 1066.18,496.995 1066.61,497.087 1067.04,497.106 1067.46,497.091 1067.89,497.052 1068.31,497.019 1068.74,497.015 \n",
       "  1069.16,497.038 1069.59,497.108 1070.02,497.222 1070.44,497.347 1070.87,497.467 1071.29,497.563 1071.72,497.686 1072.15,497.761 1072.57,497.822 1073,497.861 \n",
       "  1073.42,497.891 1073.85,497.91 1074.28,497.961 1074.7,498.002 1075.13,498.066 1075.55,498.132 1075.98,498.207 1076.4,498.284 1076.83,498.359 1077.26,498.429 \n",
       "  1077.68,498.494 1078.11,498.547 1078.53,498.609 1078.96,498.655 1079.39,498.683 1079.81,498.762 1080.24,498.817 1080.66,498.88 1081.09,498.942 1081.51,499.006 \n",
       "  1081.94,499.073 1082.37,499.14 1082.79,499.172 1083.22,499.262 1083.64,499.328 1084.07,499.388 1084.5,499.445 1084.92,499.502 1085.35,499.571 1085.77,499.607 \n",
       "  1086.2,499.689 1086.63,499.736 1087.05,499.827 1087.48,499.89 1087.9,499.954 1088.33,500.014 1088.75,500.081 1089.18,500.145 1089.61,500.189 1090.03,500.253 \n",
       "  1090.46,500.352 1090.88,500.408 1091.31,500.471 1091.74,500.54 1092.16,500.606 1092.59,500.654 1093.01,500.736 1093.44,500.801 1093.87,500.85 1094.29,500.935 \n",
       "  1094.72,501.004 1095.14,501.073 1095.57,501.134 1095.99,501.213 1096.42,501.277 1096.85,501.35 1097.27,501.414 1097.7,501.488 1098.12,501.546 1098.55,501.622 \n",
       "  1098.98,501.692 1099.4,501.728 1099.83,501.839 1100.25,501.909 1100.68,501.975 1101.11,502.045 1101.53,502.118 1101.96,502.187 1102.38,502.26 1102.81,502.333 \n",
       "  1103.23,502.402 1103.66,502.458 1104.09,502.548 1104.51,502.623 1104.94,502.661 1105.36,502.767 1105.79,502.842 1106.22,502.913 1106.64,502.99 1107.07,503.064 \n",
       "  1107.49,503.134 1107.92,503.212 1108.35,503.292 1108.77,503.358 1109.2,503.444 1109.62,503.511 1110.05,503.588 1110.47,503.661 1110.9,503.742 1111.33,503.82 \n",
       "  1111.75,503.871 1112.18,503.966 1112.6,504.048 1113.03,504.12 1113.46,504.205 1113.88,504.282 1114.31,504.359 1114.73,504.437 1115.16,504.51 1115.59,504.588 \n",
       "  1116.01,504.673 1116.44,504.747 1116.86,504.825 1117.29,504.879 1117.71,504.984 1118.14,505.064 1118.57,505.17 1118.99,505.224 1119.42,505.3 1119.84,505.388 \n",
       "  1120.27,505.462 1120.7,505.528 1121.12,505.624 1121.55,505.707 1121.97,505.795 1122.4,505.869 1122.83,505.95 1123.25,506.036 1123.68,506.113 1124.1,506.198 \n",
       "  1124.53,506.277 1124.95,506.364 1125.38,506.45 1125.81,506.506 1126.23,506.612 1126.66,506.696 1127.08,506.784 1127.51,506.86 1127.94,506.943 1128.36,507.036 \n",
       "  1128.79,507.118 1129.21,507.196 1129.64,507.263 1130.07,507.368 1130.49,507.461 1130.92,507.544 1131.34,507.621 1131.77,507.711 1132.19,507.795 1132.62,507.891 \n",
       "  1133.05,507.969 1133.47,508.06 1133.9,508.122 1134.32,508.238 1134.75,508.311 1135.18,508.398 1135.6,508.485 1136.03,508.573 1136.45,508.667 1136.88,508.762 \n",
       "  1137.31,508.849 1137.73,508.932 1138.16,509.021 1138.58,509.103 1139.01,509.197 1139.43,509.269 1139.86,509.382 1140.29,509.462 1140.71,509.552 1141.14,509.642 \n",
       "  1141.56,509.732 1141.99,509.831 1142.42,509.912 1142.84,510.006 1143.27,510.094 1143.69,510.197 1144.12,510.28 1144.54,510.367 1144.97,510.464 1145.4,510.558 \n",
       "  1145.82,510.643 1146.25,510.741 1146.67,510.828 1147.1,510.923 1147.53,511.025 1147.95,511.108 1148.38,511.202 1148.8,511.294 1149.23,511.396 1149.66,511.489 \n",
       "  1150.08,511.574 1150.51,511.67 1150.93,511.763 1151.36,511.858 1151.78,511.963 1152.21,512.052 1152.64,512.143 1153.06,512.252 1153.49,512.334 1153.91,512.429 \n",
       "  1154.34,512.525 1154.77,512.622 1155.19,512.721 1155.62,512.813 1156.04,512.913 1156.47,513.007 1156.9,513.114 1157.32,513.201 1157.75,513.299 1158.17,513.408 \n",
       "  1158.6,513.493 1159.02,513.593 1159.45,513.692 1159.88,513.794 1160.3,513.889 1160.73,513.985 1161.15,514.086 1161.58,514.192 1162.01,514.291 1162.43,514.383 \n",
       "  1162.86,514.481 1163.28,514.588 1163.71,514.688 1164.14,514.782 1164.56,514.882 1164.99,514.981 1165.41,515.091 1165.84,515.182 1166.26,515.292 1166.69,515.426 \n",
       "  1167.12,515.487 1167.54,515.588 1167.97,515.697 1168.39,515.799 1168.82,515.893 1169.25,516 1169.67,516.103 1170.1,516.213 1170.52,516.304 1170.95,516.416 \n",
       "  1171.38,516.511 1171.8,516.614 1172.23,516.717 1172.65,516.833 1173.08,516.929 1173.5,517.028 1173.93,517.145 1174.36,517.238 1174.78,517.344 1175.21,517.456 \n",
       "  1175.63,517.561 1176.06,517.658 1176.49,517.766 1176.91,517.868 1177.34,517.976 1177.76,518.091 1178.19,518.186 1178.62,518.291 1179.04,518.397 1179.47,518.506 \n",
       "  1179.89,518.621 1180.32,518.718 1180.74,518.825 1181.17,518.943 1181.6,519.027 1182.02,519.15 1182.45,519.264 1182.87,519.377 1183.3,519.471 1183.73,519.588 \n",
       "  1184.15,519.689 1184.58,519.809 1185,519.913 1185.43,520.015 1185.86,520.131 1186.28,520.234 1186.71,520.351 1187.13,520.454 1187.56,520.569 1187.98,520.687 \n",
       "  1188.41,520.793 1188.84,520.905 1189.26,521.012 1189.69,521.115 1190.11,521.227 1190.54,521.339 1190.97,521.462 1191.39,521.565 1191.82,521.671 1192.24,521.791 \n",
       "  1192.67,521.901 1193.1,522.017 1193.52,522.127 1193.95,522.242 1194.37,522.347 1194.8,522.457 1195.22,522.571 1195.65,522.698 1196.08,522.806 1196.5,522.92 \n",
       "  1196.93,523.036 1197.35,523.146 1197.78,523.263 1198.21,523.354 1198.63,523.494 1199.06,523.596 1199.48,523.725 1199.91,523.828 1200.33,523.955 1200.76,524.067 \n",
       "  1201.19,524.177 1201.61,524.288 1202.04,524.411 1202.46,524.525 1202.89,524.646 1203.32,524.759 1203.74,524.883 1204.17,524.993 1204.59,525.114 1205.02,525.23 \n",
       "  1205.45,525.344 1205.87,525.454 1206.3,525.579 1206.72,525.696 1207.15,525.807 1207.57,525.938 1208,526.053 1208.43,526.169 1208.85,526.289 1209.28,526.405 \n",
       "  1209.7,526.525 1210.13,526.639 1210.56,526.765 1210.98,526.879 1211.41,526.997 1211.83,527.124 1212.26,527.238 1212.69,527.365 1213.11,527.484 1213.54,527.604 \n",
       "  1213.96,527.726 1214.39,527.846 1214.81,527.959 1215.24,528.087 1215.67,528.21 1216.09,528.331 1216.52,528.449 1216.94,528.569 1217.37,528.696 1217.8,528.812 \n",
       "  1218.22,528.944 1218.65,529.066 1219.07,529.18 1219.5,529.304 1219.93,529.439 1220.35,529.556 1220.78,529.672 1221.2,529.803 1221.63,529.92 1222.05,530.048 \n",
       "  1222.48,530.17 1222.91,530.3 1223.33,530.424 1223.76,530.547 1224.18,530.676 1224.61,530.792 1225.04,530.918 1225.46,531.055 1225.89,531.167 1226.31,531.302 \n",
       "  1226.74,531.426 1227.17,531.545 1227.59,531.678 1228.02,531.797 1228.44,531.931 1228.87,532.05 1229.29,532.182 1229.72,532.305 1230.15,532.439 1230.57,532.559 \n",
       "  1231,532.687 1231.42,532.815 1231.85,532.951 1232.28,533.072 1232.7,533.2 1233.13,533.328 1233.55,533.456 1233.98,533.591 1234.41,533.714 1234.83,533.843 \n",
       "  1235.26,533.979 1235.68,534.101 1236.11,534.231 1236.53,534.36 1236.96,534.5 1237.39,534.621 1237.81,534.75 1238.24,534.894 1238.66,535.012 1239.09,535.142 \n",
       "  1239.52,535.274 1239.94,535.405 1240.37,535.537 1240.79,535.674 1241.22,535.8 1241.65,535.931 1242.07,536.07 1242.5,536.195 1242.92,536.329 1243.35,536.468 \n",
       "  1243.77,536.605 1244.2,536.733 1244.63,536.868 1245.05,537.004 1245.48,537.126 1245.9,537.258 1246.33,537.395 1246.76,537.526 1247.18,537.669 1247.61,537.795 \n",
       "  1248.03,537.93 1248.46,538.065 1248.89,538.206 1249.31,538.339 1249.74,538.471 1250.16,538.602 1250.59,538.738 1251.01,538.873 1251.44,539.009 1251.87,539.145 \n",
       "  1252.29,539.281 1252.72,539.417 1253.14,539.56 1253.57,539.7 1254,539.832 1254.42,539.963 1254.85,540.1 1255.27,540.249 1255.7,540.38 1256.12,540.512 \n",
       "  1256.55,540.65 1256.98,540.788 1257.4,540.926 1257.83,541.064 1258.25,541.203 1258.68,541.342 1259.11,541.481 1259.53,541.619 1259.96,541.758 1260.38,541.897 \n",
       "  1260.81,542.038 1261.24,542.176 1261.66,542.315 1262.09,542.456 1262.51,542.6 1262.94,542.736 1263.36,542.882 1263.79,543.017 1264.22,543.157 1264.64,543.305 \n",
       "  1265.07,543.439 1265.49,543.583 1265.92,543.723 1266.35,543.864 1266.77,544.006 1267.2,544.154 1267.62,544.291 1268.05,544.438 1268.48,544.578 1268.9,544.719 \n",
       "  1269.33,544.859 1269.75,545.002 1270.18,545.147 1270.6,545.288 1271.03,545.433 1271.46,545.581 1271.88,545.719 1272.31,545.869 1272.73,546.013 1273.16,546.151 \n",
       "  1273.59,546.302 1274.01,546.451 1274.44,546.591 1274.86,546.738 1275.29,546.877 1275.72,547.026 1276.14,547.17 1276.57,547.318 1276.99,547.463 1277.42,547.606 \n",
       "  1277.84,547.757 1278.27,547.898 1278.7,548.052 1279.12,548.194 1279.55,548.341 1279.97,548.485 1280.4,548.631 1280.83,548.784 1281.25,548.93 1281.68,549.078 \n",
       "  1282.1,549.222 1282.53,549.372 1282.96,549.52 1283.38,549.672 1283.81,549.818 1284.23,549.965 1284.66,550.119 1285.08,550.267 1285.51,550.412 1285.94,550.561 \n",
       "  1286.36,550.711 1286.79,550.866 1287.21,551.01 1287.64,551.16 1288.07,551.315 1288.49,551.46 1288.92,551.614 1289.34,551.765 1289.77,551.915 1290.2,552.062 \n",
       "  1290.62,552.217 1291.05,552.365 1291.47,552.521 1291.9,552.669 1292.32,552.82 1292.75,552.973 1293.18,553.121 1293.6,553.276 1294.03,553.432 1294.45,553.581 \n",
       "  1294.88,553.734 1295.31,553.903 1295.73,554.002 1296.16,554.171 1296.58,554.325 1297.01,554.503 1297.44,554.632 1297.86,554.786 1298.29,554.996 1298.71,555.096 \n",
       "  1299.14,555.256 1299.56,555.404 1299.99,555.558 1300.42,555.711 1300.84,555.875 1301.27,556.021 1301.69,556.185 1302.12,556.332 1302.55,556.491 1302.97,556.645 \n",
       "  1303.4,556.801 1303.82,556.956 1304.25,557.122 1304.68,557.27 1305.1,557.427 1305.53,557.605 1305.95,557.76 1306.38,557.897 1306.8,558.073 1307.23,558.234 \n",
       "  1307.66,558.389 1308.08,558.55 1308.51,558.707 1308.93,558.869 1309.36,559.023 1309.79,559.186 1310.21,559.341 1310.64,559.498 1311.06,559.658 1311.49,559.817 \n",
       "  1311.92,559.976 1312.34,560.136 1312.77,560.295 1313.19,560.455 1313.62,560.619 1314.04,560.779 1314.47,560.94 1314.9,561.098 1315.32,561.26 1315.75,561.422 \n",
       "  1316.17,561.582 1316.6,561.737 1317.03,561.897 1317.45,562.066 1317.88,562.223 1318.3,562.386 1318.73,562.548 1319.15,562.71 1319.58,562.872 1320.01,563.031 \n",
       "  1320.43,563.195 1320.86,563.356 1321.28,563.518 1321.71,563.687 1322.14,563.845 1322.56,564.008 1322.99,564.174 1323.41,564.342 1323.84,564.502 1324.27,564.669 \n",
       "  1324.69,564.83 1325.12,564.998 1325.54,565.162 1325.97,565.327 1326.39,565.492 1326.82,565.657 1327.25,565.822 1327.67,565.987 1328.1,566.152 1328.52,566.318 \n",
       "  1328.95,566.484 1329.38,566.649 1329.8,566.815 1330.23,566.982 1330.65,567.148 1331.08,567.315 1331.51,567.482 1331.93,567.648 1332.36,567.815 1332.78,567.983 \n",
       "  1333.21,568.15 1333.63,568.318 1334.06,568.485 1334.49,568.653 1334.91,568.821 1335.34,568.989 1335.76,569.158 1336.19,569.326 1336.62,569.495 1337.04,569.664 \n",
       "  1337.47,569.832 1337.89,570.002 1338.32,570.17 1338.75,570.34 1339.17,570.51 1339.6,570.679 1340.02,570.849 1340.45,571.02 1340.87,571.19 1341.3,571.36 \n",
       "  1341.73,571.531 1342.15,571.702 1342.58,571.872 1343,572.044 1343.43,572.215 1343.86,572.387 1344.28,572.558 1344.71,572.731 1345.13,572.901 1345.56,573.075 \n",
       "  1345.99,573.247 1346.41,573.419 1346.84,573.593 1347.26,573.765 1347.69,573.938 1348.11,574.111 1348.54,574.285 1348.97,574.456 1349.39,574.633 1349.82,574.807 \n",
       "  1350.24,574.981 1350.67,575.155 1351.1,575.329 1351.52,575.505 1351.95,575.677 1352.37,575.853 1352.8,576.029 1353.23,576.204 1353.65,576.379 1354.08,576.555 \n",
       "  1354.5,576.731 1354.93,576.906 1355.35,577.082 1355.78,577.258 1356.21,577.435 1356.63,577.611 1357.06,577.787 1357.48,577.964 1357.91,578.141 1358.34,578.318 \n",
       "  1358.76,578.495 1359.19,578.673 1359.61,578.849 1360.04,579.028 1360.47,579.205 1360.89,579.383 1361.32,579.562 1361.74,579.739 1362.17,579.919 1362.59,580.097 \n",
       "  1363.02,580.275 1363.45,580.455 1363.87,580.634 1364.3,580.815 1364.72,580.992 1365.15,581.173 1365.58,581.352 1366,581.531 1366.43,581.708 1366.85,581.893 \n",
       "  1367.28,582.072 1367.71,582.25 1368.13,582.43 1368.56,582.616 1368.98,582.773 1369.41,582.975 1369.83,583.136 1370.26,583.328 1370.69,583.53 1371.11,583.675 \n",
       "  1371.54,583.865 1371.96,584.067 1372.39,584.232 1372.82,584.423 1373.24,584.599 1373.67,584.76 1374.09,584.963 1374.52,585.146 1374.94,585.318 1375.37,585.503 \n",
       "  1375.8,585.677 1376.22,585.871 1376.65,586.05 1377.07,586.271 1377.5,586.41 1377.93,586.626 1378.35,586.817 1378.78,587.002 1379.2,587.186 1379.63,587.361 \n",
       "  1380.06,587.528 1380.48,587.72 1380.91,587.926 1381.33,588.097 1381.76,588.242 1382.18,588.428 1382.61,588.624 1383.04,588.801 1383.46,589.007 1383.89,589.219 \n",
       "  1384.31,589.394 1384.74,589.594 1385.17,589.735 1385.59,589.972 1386.02,590.108 1386.44,590.297 1386.87,590.507 1387.3,590.684 1387.72,590.879 1388.15,591.082 \n",
       "  1388.57,591.243 1389,591.422 1389.42,591.632 1389.85,591.833 1390.28,592.042 1390.7,592.224 1391.13,592.42 1391.55,592.603 1391.98,592.782 1392.41,592.984 \n",
       "  1392.83,593.166 1393.26,593.36 1393.68,593.563 1394.11,593.739 1394.54,593.93 1394.96,594.122 1395.39,594.323 1395.81,594.515 1396.24,594.706 1396.66,594.887 \n",
       "  1397.09,595.078 1397.52,595.281 1397.94,595.462 1398.37,595.654 1398.79,595.857 1399.22,596.038 1399.65,596.226 1400.07,596.419 1400.5,596.623 1400.92,596.804 \n",
       "  1401.35,597.001 1401.78,597.191 1402.2,597.388 1402.63,597.582 1403.05,597.77 1403.48,597.968 1403.9,598.16 1404.33,598.354 1404.76,598.546 1405.18,598.741 \n",
       "  1405.61,598.935 1406.03,599.13 1406.46,599.326 1406.89,599.521 1407.31,599.716 1407.74,599.91 1408.16,600.106 1408.59,600.307 1409.02,600.499 1409.44,600.703 \n",
       "  1409.87,600.89 1410.29,601.095 1410.72,601.285 1411.14,601.481 1411.57,601.688 1412,601.881 1412.42,602.066 1412.85,602.268 1413.27,602.468 1413.7,602.652 \n",
       "  1414.13,602.863 1414.55,603.065 1414.98,603.259 1415.4,603.456 1415.83,603.655 1416.26,603.852 1416.68,604.051 1417.11,604.25 1417.53,604.449 1417.96,604.649 \n",
       "  1418.38,604.848 1418.81,605.05 1419.24,605.246 1419.66,605.448 1420.09,605.648 1420.51,605.848 1420.94,606.047 1421.37,606.249 1421.79,606.449 1422.22,606.647 \n",
       "  1422.64,606.849 1423.07,607.049 1423.5,607.25 1423.92,607.452 1424.35,607.655 1424.77,607.858 1425.2,608.059 1425.62,608.261 1426.05,608.46 1426.48,608.665 \n",
       "  1426.9,608.867 1427.33,609.07 1427.75,609.271 1428.18,609.475 1428.61,609.67 1429.03,609.876 1429.46,610.084 1429.88,610.287 1430.31,610.491 1430.73,610.702 \n",
       "  1431.16,610.903 1431.59,611.101 1432.01,611.304 1432.44,611.51 1432.86,611.7 1433.29,611.922 1433.72,612.097 1434.14,612.329 1434.57,612.531 1434.99,612.74 \n",
       "  1435.42,612.943 1435.85,613.155 1436.27,613.354 1436.7,613.563 1437.12,613.766 1437.55,613.969 1437.97,614.175 1438.4,614.382 1438.83,614.589 1439.25,614.795 \n",
       "  1439.68,615.001 1440.1,615.209 1440.53,615.414 1440.96,615.621 1441.38,615.828 1441.81,616.036 1442.23,616.243 1442.66,616.45 1443.09,616.658 1443.51,616.866 \n",
       "  1443.94,617.073 1444.36,617.281 1444.79,617.491 1445.21,617.699 1445.64,617.906 1446.07,618.115 1446.49,618.322 1446.92,618.533 1447.34,618.741 1447.77,618.952 \n",
       "  1448.2,619.16 1448.62,619.37 1449.05,619.578 1449.47,619.789 1449.9,620 1450.33,620.208 1450.75,620.418 1451.18,620.63 1451.6,620.838 1452.03,621.048 \n",
       "  1452.45,621.26 1452.88,621.471 1453.31,621.682 1453.73,621.893 1454.16,622.105 1454.58,622.316 1455.01,622.528 1455.44,622.74 1455.86,622.953 1456.29,623.163 \n",
       "  1456.71,623.375 1457.14,623.588 1457.57,623.8 1457.99,624.012 1458.42,624.224 1458.84,624.439 1459.27,624.65 1459.69,624.863 1460.12,625.078 1460.55,625.291 \n",
       "  1460.97,625.504 1461.4,625.717 1461.82,625.932 1462.25,626.145 1462.68,626.36 1463.1,626.573 1463.53,626.789 1463.95,627.003 1464.38,627.216 1464.81,627.433 \n",
       "  1465.23,627.646 1465.66,627.862 1466.08,628.077 1466.51,628.294 1466.93,628.507 1467.36,628.724 1467.79,628.939 1468.21,629.155 1468.64,629.37 1469.06,629.587 \n",
       "  1469.49,629.802 1469.92,630.019 1470.34,630.236 1470.77,630.453 1471.19,630.67 1471.62,630.886 1472.05,631.103 1472.47,631.32 1472.9,631.537 1473.32,631.755 \n",
       "  1473.75,631.972 1474.17,632.19 1474.6,632.408 1475.03,632.626 1475.45,632.844 1475.88,633.061 1476.3,633.28 1476.73,633.498 1477.16,633.717 1477.58,633.935 \n",
       "  1478.01,634.154 1478.43,634.373 1478.86,634.592 1479.29,634.811 1479.71,635.03 1480.14,635.25 1480.56,635.47 1480.99,635.689 1481.41,635.909 1481.84,636.129 \n",
       "  1482.27,636.349 1482.69,636.569 1483.12,636.789 1483.54,637.01 1483.97,637.23 1484.4,637.451 1484.82,637.671 1485.25,637.893 1485.67,638.114 1486.1,638.335 \n",
       "  1486.53,638.556 1486.95,638.777 1487.38,638.999 1487.8,639.22 1488.23,639.442 1488.65,639.664 1489.08,639.886 1489.51,640.108 1489.93,640.33 1490.36,640.552 \n",
       "  1490.78,640.775 1491.21,640.997 1491.64,641.22 1492.06,641.443 1492.49,641.666 1492.91,641.889 1493.34,642.112 1493.76,642.335 1494.19,642.558 1494.62,642.782 \n",
       "  1495.04,643.005 1495.47,643.229 1495.89,643.453 1496.32,643.677 1496.75,643.901 1497.17,644.125 1497.6,644.349 1498.02,644.574 1498.45,644.798 1498.88,645.023 \n",
       "  1499.3,645.248 1499.73,645.472 1500.15,645.697 1500.58,645.922 1501,646.146 1501.43,646.371 1501.86,646.597 1502.28,646.821 1502.71,647.046 1503.13,647.272 \n",
       "  1503.56,647.497 1503.99,647.723 1504.41,647.949 1504.84,648.179 1505.26,648.405 1505.69,648.632 1506.12,648.86 1506.54,649.086 1506.97,649.311 1507.39,649.539 \n",
       "  1507.82,649.767 1508.24,649.988 1508.67,650.218 1509.1,650.448 1509.52,650.677 1509.95,650.904 1510.37,651.119 1510.8,651.345 1511.23,651.574 1511.65,651.801 \n",
       "  1512.08,652.029 1512.5,652.257 1512.93,652.485 1513.36,652.714 1513.78,652.942 1514.21,653.172 1514.63,653.403 1515.06,653.614 1515.48,653.855 1515.91,654.096 \n",
       "  1516.34,654.328 1516.76,654.556 1517.19,654.785 1517.61,655.017 1518.04,655.247 1518.47,655.477 1518.89,655.707 1519.32,655.936 1519.74,656.166 1520.17,656.395 \n",
       "  1520.6,656.625 1521.02,656.852 1521.45,657.079 1521.87,657.305 1522.3,657.53 1522.72,657.746 1523.15,657.972 1523.58,658.201 1524,658.443 1524.43,658.674 \n",
       "  1524.85,658.904 1525.28,659.137 1525.71,659.355 1526.13,659.593 1526.56,659.833 1526.98,660.076 1527.41,660.309 1527.84,660.536 1528.26,660.751 1528.69,660.983 \n",
       "  1529.11,661.226 1529.54,661.456 1529.96,661.688 1530.39,661.921 1530.82,662.143 1531.24,662.382 1531.67,662.621 1532.09,662.827 1532.52,663.068 1532.95,663.305 \n",
       "  1533.37,663.535 1533.8,663.765 1534.22,663.995 1534.65,664.229 1535.08,664.461 1535.5,664.688 1535.93,664.92 1536.35,665.165 1536.78,665.393 1537.2,665.623 \n",
       "  1537.63,665.854 1538.06,666.08 1538.48,666.329 1538.91,666.549 1539.33,666.781 1539.76,666.985 1540.19,667.253 1540.61,667.45 1541.04,667.713 1541.46,667.925 \n",
       "  1541.89,668.166 1542.32,668.399 1542.74,668.632 1543.17,668.862 1543.59,669.095 1544.02,669.327 1544.44,669.577 1544.87,669.811 1545.3,670.031 1545.72,670.278 \n",
       "  1546.15,670.515 1546.57,670.515 \n",
       "  \"/>\n",
       "<path clip-path=\"url(#clip220)\" d=\"\n",
       "M1199.03 327.952 L1490.05 327.952 L1490.05 206.992 L1199.03 206.992  Z\n",
       "  \" fill=\"#ffffff\" fill-rule=\"evenodd\" fill-opacity=\"1\"/>\n",
       "<polyline clip-path=\"url(#clip220)\" style=\"stroke:#000000; stroke-width:4; stroke-opacity:1; fill:none\" points=\"\n",
       "  1199.03,327.952 1490.05,327.952 1490.05,206.992 1199.03,206.992 1199.03,327.952 \n",
       "  \"/>\n",
       "<polyline clip-path=\"url(#clip220)\" style=\"stroke:#009af9; stroke-width:4; stroke-opacity:1; fill:none\" points=\"\n",
       "  1223.03,267.472 1367.03,267.472 \n",
       "  \"/>\n",
       "<path clip-path=\"url(#clip220)\" d=\"M 0 0 M1404.87 287.16 Q1403.06 291.789 1401.35 293.201 Q1399.64 294.613 1396.77 294.613 L1393.37 294.613 L1393.37 291.048 L1395.87 291.048 Q1397.62 291.048 1398.6 290.215 Q1399.57 289.382 1400.75 286.28 L1401.51 284.335 L1391.03 258.826 L1395.54 258.826 L1403.64 279.104 L1411.75 258.826 L1416.26 258.826 L1404.87 287.16 Z\" fill=\"#000000\" fill-rule=\"evenodd\" fill-opacity=\"1\" /><path clip-path=\"url(#clip220)\" d=\"M 0 0 M1422.14 280.817 L1429.78 280.817 L1429.78 254.451 L1421.47 256.118 L1421.47 251.859 L1429.73 250.192 L1434.41 250.192 L1434.41 280.817 L1442.05 280.817 L1442.05 284.752 L1422.14 284.752 L1422.14 280.817 Z\" fill=\"#000000\" fill-rule=\"evenodd\" fill-opacity=\"1\" /><path clip-path=\"url(#clip220)\" d=\"\n",
       "M1806.07 686.448 L2352.76 686.448 L2352.76 123.472 L1806.07 123.472  Z\n",
       "  \" fill=\"#ffffff\" fill-rule=\"evenodd\" fill-opacity=\"1\"/>\n",
       "<defs>\n",
       "  <clipPath id=\"clip224\">\n",
       "    <rect x=\"1806\" y=\"123\" width=\"548\" height=\"564\"/>\n",
       "  </clipPath>\n",
       "</defs>\n",
       "<polyline clip-path=\"url(#clip224)\" style=\"stroke:#000000; stroke-width:2; stroke-opacity:0.1; fill:none\" points=\"\n",
       "  1858.38,686.448 1858.38,123.472 \n",
       "  \"/>\n",
       "<polyline clip-path=\"url(#clip224)\" style=\"stroke:#000000; stroke-width:2; stroke-opacity:0.1; fill:none\" points=\"\n",
       "  1932.06,686.448 1932.06,123.472 \n",
       "  \"/>\n",
       "<polyline clip-path=\"url(#clip224)\" style=\"stroke:#000000; stroke-width:2; stroke-opacity:0.1; fill:none\" points=\"\n",
       "  2005.74,686.448 2005.74,123.472 \n",
       "  \"/>\n",
       "<polyline clip-path=\"url(#clip224)\" style=\"stroke:#000000; stroke-width:2; stroke-opacity:0.1; fill:none\" points=\"\n",
       "  2079.41,686.448 2079.41,123.472 \n",
       "  \"/>\n",
       "<polyline clip-path=\"url(#clip224)\" style=\"stroke:#000000; stroke-width:2; stroke-opacity:0.1; fill:none\" points=\"\n",
       "  2153.09,686.448 2153.09,123.472 \n",
       "  \"/>\n",
       "<polyline clip-path=\"url(#clip224)\" style=\"stroke:#000000; stroke-width:2; stroke-opacity:0.1; fill:none\" points=\"\n",
       "  2226.77,686.448 2226.77,123.472 \n",
       "  \"/>\n",
       "<polyline clip-path=\"url(#clip224)\" style=\"stroke:#000000; stroke-width:2; stroke-opacity:0.1; fill:none\" points=\"\n",
       "  2300.45,686.448 2300.45,123.472 \n",
       "  \"/>\n",
       "<polyline clip-path=\"url(#clip224)\" style=\"stroke:#000000; stroke-width:2; stroke-opacity:0.1; fill:none\" points=\"\n",
       "  1806.07,644.18 2352.76,644.18 \n",
       "  \"/>\n",
       "<polyline clip-path=\"url(#clip224)\" style=\"stroke:#000000; stroke-width:2; stroke-opacity:0.1; fill:none\" points=\"\n",
       "  1806.07,495.995 2352.76,495.995 \n",
       "  \"/>\n",
       "<polyline clip-path=\"url(#clip224)\" style=\"stroke:#000000; stroke-width:2; stroke-opacity:0.1; fill:none\" points=\"\n",
       "  1806.07,347.811 2352.76,347.811 \n",
       "  \"/>\n",
       "<polyline clip-path=\"url(#clip224)\" style=\"stroke:#000000; stroke-width:2; stroke-opacity:0.1; fill:none\" points=\"\n",
       "  1806.07,199.627 2352.76,199.627 \n",
       "  \"/>\n",
       "<polyline clip-path=\"url(#clip220)\" style=\"stroke:#000000; stroke-width:4; stroke-opacity:1; fill:none\" points=\"\n",
       "  1806.07,686.448 2352.76,686.448 \n",
       "  \"/>\n",
       "<polyline clip-path=\"url(#clip220)\" style=\"stroke:#000000; stroke-width:4; stroke-opacity:1; fill:none\" points=\"\n",
       "  1806.07,686.448 1806.07,123.472 \n",
       "  \"/>\n",
       "<polyline clip-path=\"url(#clip220)\" style=\"stroke:#000000; stroke-width:4; stroke-opacity:1; fill:none\" points=\"\n",
       "  1858.38,686.448 1858.38,679.692 \n",
       "  \"/>\n",
       "<polyline clip-path=\"url(#clip220)\" style=\"stroke:#000000; stroke-width:4; stroke-opacity:1; fill:none\" points=\"\n",
       "  1932.06,686.448 1932.06,679.692 \n",
       "  \"/>\n",
       "<polyline clip-path=\"url(#clip220)\" style=\"stroke:#000000; stroke-width:4; stroke-opacity:1; fill:none\" points=\"\n",
       "  2005.74,686.448 2005.74,679.692 \n",
       "  \"/>\n",
       "<polyline clip-path=\"url(#clip220)\" style=\"stroke:#000000; stroke-width:4; stroke-opacity:1; fill:none\" points=\"\n",
       "  2079.41,686.448 2079.41,679.692 \n",
       "  \"/>\n",
       "<polyline clip-path=\"url(#clip220)\" style=\"stroke:#000000; stroke-width:4; stroke-opacity:1; fill:none\" points=\"\n",
       "  2153.09,686.448 2153.09,679.692 \n",
       "  \"/>\n",
       "<polyline clip-path=\"url(#clip220)\" style=\"stroke:#000000; stroke-width:4; stroke-opacity:1; fill:none\" points=\"\n",
       "  2226.77,686.448 2226.77,679.692 \n",
       "  \"/>\n",
       "<polyline clip-path=\"url(#clip220)\" style=\"stroke:#000000; stroke-width:4; stroke-opacity:1; fill:none\" points=\"\n",
       "  2300.45,686.448 2300.45,679.692 \n",
       "  \"/>\n",
       "<polyline clip-path=\"url(#clip220)\" style=\"stroke:#000000; stroke-width:4; stroke-opacity:1; fill:none\" points=\"\n",
       "  1806.07,644.18 1812.63,644.18 \n",
       "  \"/>\n",
       "<polyline clip-path=\"url(#clip220)\" style=\"stroke:#000000; stroke-width:4; stroke-opacity:1; fill:none\" points=\"\n",
       "  1806.07,495.995 1812.63,495.995 \n",
       "  \"/>\n",
       "<polyline clip-path=\"url(#clip220)\" style=\"stroke:#000000; stroke-width:4; stroke-opacity:1; fill:none\" points=\"\n",
       "  1806.07,347.811 1812.63,347.811 \n",
       "  \"/>\n",
       "<polyline clip-path=\"url(#clip220)\" style=\"stroke:#000000; stroke-width:4; stroke-opacity:1; fill:none\" points=\"\n",
       "  1806.07,199.627 1812.63,199.627 \n",
       "  \"/>\n",
       "<path clip-path=\"url(#clip220)\" d=\"M 0 0 M1853.04 735.985 L1869.36 735.985 L1869.36 739.92 L1847.41 739.92 L1847.41 735.985 Q1850.07 733.23 1854.66 728.6 Q1859.26 723.948 1860.44 722.605 Q1862.69 720.082 1863.57 718.346 Q1864.47 716.587 1864.47 714.897 Q1864.47 712.142 1862.53 710.406 Q1860.61 708.67 1857.5 708.67 Q1855.31 708.67 1852.85 709.434 Q1850.42 710.198 1847.64 711.749 L1847.64 707.027 Q1850.47 705.892 1852.92 705.314 Q1855.37 704.735 1857.41 704.735 Q1862.78 704.735 1865.98 707.42 Q1869.17 710.105 1869.17 714.596 Q1869.17 716.726 1868.36 718.647 Q1867.57 720.545 1865.47 723.138 Q1864.89 723.809 1861.79 727.026 Q1858.68 730.221 1853.04 735.985 Z\" fill=\"#000000\" fill-rule=\"evenodd\" fill-opacity=\"1\" /><path clip-path=\"url(#clip220)\" d=\"M 0 0 M1935.07 709.434 L1923.26 727.883 L1935.07 727.883 L1935.07 709.434 M1933.84 705.36 L1939.72 705.36 L1939.72 727.883 L1944.65 727.883 L1944.65 731.772 L1939.72 731.772 L1939.72 739.92 L1935.07 739.92 L1935.07 731.772 L1919.47 731.772 L1919.47 727.258 L1933.84 705.36 Z\" fill=\"#000000\" fill-rule=\"evenodd\" fill-opacity=\"1\" /><path clip-path=\"url(#clip220)\" d=\"M 0 0 M2006.14 720.776 Q2002.99 720.776 2001.14 722.929 Q1999.31 725.082 1999.31 728.832 Q1999.31 732.559 2001.14 734.735 Q2002.99 736.887 2006.14 736.887 Q2009.29 736.887 2011.12 734.735 Q2012.97 732.559 2012.97 728.832 Q2012.97 725.082 2011.12 722.929 Q2009.29 720.776 2006.14 720.776 M2015.43 706.124 L2015.43 710.383 Q2013.67 709.55 2011.86 709.11 Q2010.08 708.67 2008.32 708.67 Q2003.69 708.67 2001.24 711.795 Q1998.8 714.92 1998.46 721.239 Q1999.82 719.226 2001.88 718.161 Q2003.94 717.073 2006.42 717.073 Q2011.63 717.073 2014.64 720.244 Q2017.67 723.392 2017.67 728.832 Q2017.67 734.156 2014.52 737.374 Q2011.37 740.591 2006.14 740.591 Q2000.15 740.591 1996.98 736.008 Q1993.8 731.401 1993.8 722.675 Q1993.8 714.48 1997.69 709.619 Q2001.58 704.735 2008.13 704.735 Q2009.89 704.735 2011.68 705.082 Q2013.48 705.429 2015.43 706.124 Z\" fill=\"#000000\" fill-rule=\"evenodd\" fill-opacity=\"1\" /><path clip-path=\"url(#clip220)\" d=\"M 0 0 M2079.41 723.508 Q2076.08 723.508 2074.16 725.29 Q2072.26 727.073 2072.26 730.198 Q2072.26 733.323 2074.16 735.105 Q2076.08 736.887 2079.41 736.887 Q2082.75 736.887 2084.67 735.105 Q2086.59 733.3 2086.59 730.198 Q2086.59 727.073 2084.67 725.29 Q2082.77 723.508 2079.41 723.508 M2074.74 721.517 Q2071.73 720.776 2070.04 718.716 Q2068.37 716.656 2068.37 713.693 Q2068.37 709.55 2071.31 707.142 Q2074.28 704.735 2079.41 704.735 Q2084.58 704.735 2087.52 707.142 Q2090.46 709.55 2090.46 713.693 Q2090.46 716.656 2088.77 718.716 Q2087.1 720.776 2084.11 721.517 Q2087.49 722.304 2089.37 724.596 Q2091.27 726.888 2091.27 730.198 Q2091.27 735.221 2088.19 737.906 Q2085.13 740.591 2079.41 740.591 Q2073.7 740.591 2070.62 737.906 Q2067.56 735.221 2067.56 730.198 Q2067.56 726.888 2069.46 724.596 Q2071.36 722.304 2074.74 721.517 M2073.03 714.133 Q2073.03 716.818 2074.69 718.323 Q2076.38 719.827 2079.41 719.827 Q2082.42 719.827 2084.11 718.323 Q2085.83 716.818 2085.83 714.133 Q2085.83 711.448 2084.11 709.943 Q2082.42 708.439 2079.41 708.439 Q2076.38 708.439 2074.69 709.943 Q2073.03 711.448 2073.03 714.133 Z\" fill=\"#000000\" fill-rule=\"evenodd\" fill-opacity=\"1\" /><path clip-path=\"url(#clip220)\" d=\"M 0 0 M2129.97 735.985 L2137.61 735.985 L2137.61 709.619 L2129.3 711.286 L2129.3 707.027 L2137.56 705.36 L2142.24 705.36 L2142.24 735.985 L2149.87 735.985 L2149.87 739.92 L2129.97 739.92 L2129.97 735.985 Z\" fill=\"#000000\" fill-rule=\"evenodd\" fill-opacity=\"1\" /><path clip-path=\"url(#clip220)\" d=\"M 0 0 M2164.94 708.439 Q2161.33 708.439 2159.5 712.003 Q2157.7 715.545 2157.7 722.675 Q2157.7 729.781 2159.5 733.346 Q2161.33 736.887 2164.94 736.887 Q2168.58 736.887 2170.38 733.346 Q2172.21 729.781 2172.21 722.675 Q2172.21 715.545 2170.38 712.003 Q2168.58 708.439 2164.94 708.439 M2164.94 704.735 Q2170.75 704.735 2173.81 709.341 Q2176.89 713.925 2176.89 722.675 Q2176.89 731.401 2173.81 736.008 Q2170.75 740.591 2164.94 740.591 Q2159.13 740.591 2156.05 736.008 Q2153 731.401 2153 722.675 Q2153 713.925 2156.05 709.341 Q2159.13 704.735 2164.94 704.735 Z\" fill=\"#000000\" fill-rule=\"evenodd\" fill-opacity=\"1\" /><path clip-path=\"url(#clip220)\" d=\"M 0 0 M2204.44 735.985 L2212.08 735.985 L2212.08 709.619 L2203.77 711.286 L2203.77 707.027 L2212.03 705.36 L2216.71 705.36 L2216.71 735.985 L2224.35 735.985 L2224.35 739.92 L2204.44 739.92 L2204.44 735.985 Z\" fill=\"#000000\" fill-rule=\"evenodd\" fill-opacity=\"1\" /><path clip-path=\"url(#clip220)\" d=\"M 0 0 M2233.45 735.985 L2249.77 735.985 L2249.77 739.92 L2227.82 739.92 L2227.82 735.985 Q2230.48 733.23 2235.07 728.6 Q2239.67 723.948 2240.85 722.605 Q2243.1 720.082 2243.98 718.346 Q2244.88 716.587 2244.88 714.897 Q2244.88 712.142 2242.94 710.406 Q2241.02 708.67 2237.91 708.67 Q2235.72 708.67 2233.26 709.434 Q2230.83 710.198 2228.05 711.749 L2228.05 707.027 Q2230.88 705.892 2233.33 705.314 Q2235.78 704.735 2237.82 704.735 Q2243.19 704.735 2246.39 707.42 Q2249.58 710.105 2249.58 714.596 Q2249.58 716.726 2248.77 718.647 Q2247.98 720.545 2245.88 723.138 Q2245.3 723.809 2242.2 727.026 Q2239.09 730.221 2233.45 735.985 Z\" fill=\"#000000\" fill-rule=\"evenodd\" fill-opacity=\"1\" /><path clip-path=\"url(#clip220)\" d=\"M 0 0 M2277.08 735.985 L2284.72 735.985 L2284.72 709.619 L2276.41 711.286 L2276.41 707.027 L2284.67 705.36 L2289.35 705.36 L2289.35 735.985 L2296.98 735.985 L2296.98 739.92 L2277.08 739.92 L2277.08 735.985 Z\" fill=\"#000000\" fill-rule=\"evenodd\" fill-opacity=\"1\" /><path clip-path=\"url(#clip220)\" d=\"M 0 0 M2314.9 709.434 L2303.1 727.883 L2314.9 727.883 L2314.9 709.434 M2313.67 705.36 L2319.55 705.36 L2319.55 727.883 L2324.48 727.883 L2324.48 731.772 L2319.55 731.772 L2319.55 739.92 L2314.9 739.92 L2314.9 731.772 L2299.3 731.772 L2299.3 727.258 L2313.67 705.36 Z\" fill=\"#000000\" fill-rule=\"evenodd\" fill-opacity=\"1\" /><path clip-path=\"url(#clip220)\" d=\"M 0 0 M1718.43 663.972 L1726.07 663.972 L1726.07 637.606 L1717.76 639.273 L1717.76 635.014 L1726.02 633.347 L1730.7 633.347 L1730.7 663.972 L1738.34 663.972 L1738.34 667.907 L1718.43 667.907 L1718.43 663.972 Z\" fill=\"#000000\" fill-rule=\"evenodd\" fill-opacity=\"1\" /><path clip-path=\"url(#clip220)\" d=\"M 0 0 M1753.41 636.426 Q1749.8 636.426 1747.97 639.991 Q1746.16 643.532 1746.16 650.662 Q1746.16 657.768 1747.97 661.333 Q1749.8 664.875 1753.41 664.875 Q1757.04 664.875 1758.85 661.333 Q1760.68 657.768 1760.68 650.662 Q1760.68 643.532 1758.85 639.991 Q1757.04 636.426 1753.41 636.426 M1753.41 632.722 Q1759.22 632.722 1762.27 637.329 Q1765.35 641.912 1765.35 650.662 Q1765.35 659.389 1762.27 663.995 Q1759.22 668.578 1753.41 668.578 Q1747.6 668.578 1744.52 663.995 Q1741.46 659.389 1741.46 650.662 Q1741.46 641.912 1744.52 637.329 Q1747.6 632.722 1753.41 632.722 Z\" fill=\"#000000\" fill-rule=\"evenodd\" fill-opacity=\"1\" /><path clip-path=\"url(#clip220)\" d=\"M 0 0 M1765.9 637.299 L1772.11 637.299 L1772.11 615.877 L1765.35 617.232 L1765.35 613.771 L1772.07 612.417 L1775.87 612.417 L1775.87 637.299 L1782.07 637.299 L1782.07 640.497 L1765.9 640.497 L1765.9 637.299 Z\" fill=\"#000000\" fill-rule=\"evenodd\" fill-opacity=\"1\" /><path clip-path=\"url(#clip220)\" d=\"M 0 0 M1717.32 515.788 L1724.96 515.788 L1724.96 489.422 L1716.65 491.089 L1716.65 486.83 L1724.92 485.163 L1729.59 485.163 L1729.59 515.788 L1737.23 515.788 L1737.23 519.723 L1717.32 519.723 L1717.32 515.788 Z\" fill=\"#000000\" fill-rule=\"evenodd\" fill-opacity=\"1\" /><path clip-path=\"url(#clip220)\" d=\"M 0 0 M1752.3 488.242 Q1748.69 488.242 1746.86 491.806 Q1745.05 495.348 1745.05 502.478 Q1745.05 509.584 1746.86 513.149 Q1748.69 516.69 1752.3 516.69 Q1755.93 516.69 1757.74 513.149 Q1759.57 509.584 1759.57 502.478 Q1759.57 495.348 1757.74 491.806 Q1755.93 488.242 1752.3 488.242 M1752.3 484.538 Q1758.11 484.538 1761.16 489.144 Q1764.24 493.728 1764.24 502.478 Q1764.24 511.204 1761.16 515.811 Q1758.11 520.394 1752.3 520.394 Q1746.49 520.394 1743.41 515.811 Q1740.35 511.204 1740.35 502.478 Q1740.35 493.728 1743.41 489.144 Q1746.49 484.538 1752.3 484.538 Z\" fill=\"#000000\" fill-rule=\"evenodd\" fill-opacity=\"1\" /><path clip-path=\"url(#clip220)\" d=\"M 0 0 M1768.81 489.115 L1782.07 489.115 L1782.07 492.312 L1764.24 492.312 L1764.24 489.115 Q1766.41 486.877 1770.13 483.115 Q1773.87 479.335 1774.83 478.244 Q1776.66 476.194 1777.37 474.784 Q1778.1 473.354 1778.1 471.981 Q1778.1 469.743 1776.52 468.333 Q1774.96 466.922 1772.44 466.922 Q1770.66 466.922 1768.66 467.543 Q1766.69 468.163 1764.43 469.423 L1764.43 465.587 Q1766.73 464.665 1768.72 464.195 Q1770.71 463.725 1772.37 463.725 Q1776.73 463.725 1779.33 465.906 Q1781.92 468.088 1781.92 471.737 Q1781.92 473.467 1781.26 475.028 Q1780.63 476.57 1778.91 478.677 Q1778.44 479.222 1775.92 481.837 Q1773.4 484.432 1768.81 489.115 Z\" fill=\"#000000\" fill-rule=\"evenodd\" fill-opacity=\"1\" /><path clip-path=\"url(#clip220)\" d=\"M 0 0 M1716.66 367.603 L1724.3 367.603 L1724.3 341.238 L1715.99 342.904 L1715.99 338.645 L1724.26 336.979 L1728.93 336.979 L1728.93 367.603 L1736.57 367.603 L1736.57 371.539 L1716.66 371.539 L1716.66 367.603 Z\" fill=\"#000000\" fill-rule=\"evenodd\" fill-opacity=\"1\" /><path clip-path=\"url(#clip220)\" d=\"M 0 0 M1751.64 340.057 Q1748.03 340.057 1746.2 343.622 Q1744.4 347.164 1744.4 354.293 Q1744.4 361.4 1746.2 364.965 Q1748.03 368.506 1751.64 368.506 Q1755.28 368.506 1757.08 364.965 Q1758.91 361.4 1758.91 354.293 Q1758.91 347.164 1757.08 343.622 Q1755.28 340.057 1751.64 340.057 M1751.64 336.354 Q1757.45 336.354 1760.51 340.96 Q1763.59 345.543 1763.59 354.293 Q1763.59 363.02 1760.51 367.627 Q1757.45 372.21 1751.64 372.21 Q1745.83 372.21 1742.75 367.627 Q1739.7 363.02 1739.7 354.293 Q1739.7 345.543 1742.75 340.96 Q1745.83 336.354 1751.64 336.354 Z\" fill=\"#000000\" fill-rule=\"evenodd\" fill-opacity=\"1\" /><path clip-path=\"url(#clip220)\" d=\"M 0 0 M1776.28 328.988 Q1779.01 329.571 1780.53 331.414 Q1782.07 333.257 1782.07 335.966 Q1782.07 340.122 1779.21 342.398 Q1776.36 344.674 1771.09 344.674 Q1769.32 344.674 1767.44 344.316 Q1765.58 343.978 1763.59 343.282 L1763.59 339.614 Q1765.17 340.536 1767.05 341.006 Q1768.93 341.476 1770.98 341.476 Q1774.55 341.476 1776.41 340.066 Q1778.29 338.655 1778.29 335.966 Q1778.29 333.483 1776.54 332.091 Q1774.81 330.681 1771.71 330.681 L1768.44 330.681 L1768.44 327.559 L1771.86 327.559 Q1774.66 327.559 1776.15 326.449 Q1777.63 325.32 1777.63 323.214 Q1777.63 321.051 1776.09 319.904 Q1774.57 318.738 1771.71 318.738 Q1770.15 318.738 1768.36 319.076 Q1766.58 319.415 1764.43 320.129 L1764.43 316.744 Q1766.59 316.142 1768.48 315.841 Q1770.37 315.54 1772.05 315.54 Q1776.37 315.54 1778.89 317.515 Q1781.42 319.471 1781.42 322.819 Q1781.42 325.151 1780.08 326.769 Q1778.74 328.367 1776.28 328.988 Z\" fill=\"#000000\" fill-rule=\"evenodd\" fill-opacity=\"1\" /><path clip-path=\"url(#clip220)\" d=\"M 0 0 M1714.69 219.419 L1722.33 219.419 L1722.33 193.053 L1714.02 194.72 L1714.02 190.461 L1722.28 188.794 L1726.96 188.794 L1726.96 219.419 L1734.6 219.419 L1734.6 223.354 L1714.69 223.354 L1714.69 219.419 Z\" fill=\"#000000\" fill-rule=\"evenodd\" fill-opacity=\"1\" /><path clip-path=\"url(#clip220)\" d=\"M 0 0 M1749.67 191.873 Q1746.05 191.873 1744.23 195.438 Q1742.42 198.979 1742.42 206.109 Q1742.42 213.215 1744.23 216.78 Q1746.05 220.322 1749.67 220.322 Q1753.3 220.322 1755.11 216.78 Q1756.93 213.215 1756.93 206.109 Q1756.93 198.979 1755.11 195.438 Q1753.3 191.873 1749.67 191.873 M1749.67 188.169 Q1755.48 188.169 1758.53 192.776 Q1761.61 197.359 1761.61 206.109 Q1761.61 214.836 1758.53 219.442 Q1755.48 224.026 1749.67 224.026 Q1743.86 224.026 1740.78 219.442 Q1737.72 214.836 1737.72 206.109 Q1737.72 197.359 1740.78 192.776 Q1743.86 188.169 1749.67 188.169 Z\" fill=\"#000000\" fill-rule=\"evenodd\" fill-opacity=\"1\" /><path clip-path=\"url(#clip220)\" d=\"M 0 0 M1774.29 171.174 L1764.69 186.164 L1774.29 186.164 L1774.29 171.174 M1773.29 167.864 L1778.07 167.864 L1778.07 186.164 L1782.07 186.164 L1782.07 189.324 L1778.07 189.324 L1778.07 195.944 L1774.29 195.944 L1774.29 189.324 L1761.61 189.324 L1761.61 185.656 L1773.29 167.864 Z\" fill=\"#000000\" fill-rule=\"evenodd\" fill-opacity=\"1\" /><path clip-path=\"url(#clip220)\" d=\"M 0 0 M1908.47 12.096 L1920.66 12.096 L1936.09 53.2532 L1951.61 12.096 L1963.8 12.096 L1963.8 72.576 L1955.82 72.576 L1955.82 19.4686 L1940.23 60.9499 L1932 60.9499 L1916.41 19.4686 L1916.41 72.576 L1908.47 72.576 L1908.47 12.096 Z\" fill=\"#000000\" fill-rule=\"evenodd\" fill-opacity=\"1\" /><path clip-path=\"url(#clip220)\" d=\"M 0 0 M2010.43 48.0275 L2010.43 51.6733 L1976.16 51.6733 Q1976.64 59.3701 1980.78 63.421 Q1984.95 67.4314 1992.36 67.4314 Q1996.65 67.4314 2000.67 66.3781 Q2004.72 65.3249 2008.69 63.2184 L2008.69 70.267 Q2004.68 71.9684 2000.46 72.8596 Q1996.25 73.7508 1991.92 73.7508 Q1981.06 73.7508 1974.7 67.4314 Q1968.38 61.1119 1968.38 50.3365 Q1968.38 39.1965 1974.37 32.6746 Q1980.41 26.1121 1990.62 26.1121 Q1999.77 26.1121 2005.08 32.0264 Q2010.43 37.9003 2010.43 48.0275 M2002.97 45.84 Q2002.89 39.7232 1999.53 36.0774 Q1996.21 32.4315 1990.7 32.4315 Q1984.46 32.4315 1980.69 35.9558 Q1976.97 39.4801 1976.4 45.8805 L2002.97 45.84 Z\" fill=\"#000000\" fill-rule=\"evenodd\" fill-opacity=\"1\" /><path clip-path=\"url(#clip220)\" d=\"M 0 0 M2025.62 14.324 L2025.62 27.2059 L2040.97 27.2059 L2040.97 32.9987 L2025.62 32.9987 L2025.62 57.6282 Q2025.62 63.1779 2027.12 64.7578 Q2028.66 66.3376 2033.32 66.3376 L2040.97 66.3376 L2040.97 72.576 L2033.32 72.576 Q2024.69 72.576 2021.41 69.3758 Q2018.12 66.1351 2018.12 57.6282 L2018.12 32.9987 L2012.66 32.9987 L2012.66 27.2059 L2018.12 27.2059 L2018.12 14.324 L2025.62 14.324 Z\" fill=\"#000000\" fill-rule=\"evenodd\" fill-opacity=\"1\" /><path clip-path=\"url(#clip220)\" d=\"M 0 0 M2086.5 45.1919 L2086.5 72.576 L2079.05 72.576 L2079.05 45.4349 Q2079.05 38.994 2076.54 35.7938 Q2074.03 32.5936 2069 32.5936 Q2062.97 32.5936 2059.48 36.4419 Q2056 40.2903 2056 46.9338 L2056 72.576 L2048.51 72.576 L2048.51 9.54393 L2056 9.54393 L2056 34.2544 Q2058.67 30.163 2062.28 28.1376 Q2065.93 26.1121 2070.66 26.1121 Q2078.48 26.1121 2082.49 30.9732 Q2086.5 35.7938 2086.5 45.1919 Z\" fill=\"#000000\" fill-rule=\"evenodd\" fill-opacity=\"1\" /><path clip-path=\"url(#clip220)\" d=\"M 0 0 M2111.9 32.4315 Q2105.91 32.4315 2102.42 37.1306 Q2098.94 41.7891 2098.94 49.9314 Q2098.94 58.0738 2102.38 62.7728 Q2105.87 67.4314 2111.9 67.4314 Q2117.86 67.4314 2121.34 62.7323 Q2124.83 58.0333 2124.83 49.9314 Q2124.83 41.8701 2121.34 37.1711 Q2117.86 32.4315 2111.9 32.4315 M2111.9 26.1121 Q2121.63 26.1121 2127.17 32.4315 Q2132.72 38.7509 2132.72 49.9314 Q2132.72 61.0714 2127.17 67.4314 Q2121.63 73.7508 2111.9 73.7508 Q2102.14 73.7508 2096.59 67.4314 Q2091.08 61.0714 2091.08 49.9314 Q2091.08 38.7509 2096.59 32.4315 Q2102.14 26.1121 2111.9 26.1121 Z\" fill=\"#000000\" fill-rule=\"evenodd\" fill-opacity=\"1\" /><path clip-path=\"url(#clip220)\" d=\"M 0 0 M2170.4 34.0924 L2170.4 9.54393 L2177.85 9.54393 L2177.85 72.576 L2170.4 72.576 L2170.4 65.7705 Q2168.05 69.8214 2164.44 71.8063 Q2160.88 73.7508 2155.86 73.7508 Q2147.63 73.7508 2142.45 67.1883 Q2137.3 60.6258 2137.3 49.9314 Q2137.3 39.2371 2142.45 32.6746 Q2147.63 26.1121 2155.86 26.1121 Q2160.88 26.1121 2164.44 28.0971 Q2168.05 30.0415 2170.4 34.0924 M2145 49.9314 Q2145 58.1548 2148.36 62.8538 Q2151.76 67.5124 2157.68 67.5124 Q2163.59 67.5124 2167 62.8538 Q2170.4 58.1548 2170.4 49.9314 Q2170.4 41.7081 2167 37.0496 Q2163.59 32.3505 2157.68 32.3505 Q2151.76 32.3505 2148.36 37.0496 Q2145 41.7081 2145 49.9314 Z\" fill=\"#000000\" fill-rule=\"evenodd\" fill-opacity=\"1\" /><path clip-path=\"url(#clip220)\" d=\"M 0 0 M2237.89 39.9662 Q2243.76 41.222 2247.04 45.1919 Q2250.36 49.1618 2250.36 54.9951 Q2250.36 63.9476 2244.21 68.8492 Q2238.05 73.7508 2226.71 73.7508 Q2222.9 73.7508 2218.85 72.9811 Q2214.84 72.2519 2210.54 70.7531 L2210.54 62.8538 Q2213.95 64.8388 2218 65.8515 Q2222.05 66.8642 2226.46 66.8642 Q2234.16 66.8642 2238.17 63.826 Q2242.22 60.7879 2242.22 54.9951 Q2242.22 49.6479 2238.45 46.6502 Q2234.73 43.612 2228.04 43.612 L2220.99 43.612 L2220.99 36.8875 L2228.37 36.8875 Q2234.4 36.8875 2237.6 34.4975 Q2240.8 32.067 2240.8 27.5299 Q2240.8 22.8714 2237.48 20.4004 Q2234.2 17.8888 2228.04 17.8888 Q2224.68 17.8888 2220.83 18.618 Q2216.98 19.3471 2212.37 20.8865 L2212.37 13.5948 Q2217.02 12.2985 2221.07 11.6504 Q2225.17 11.0023 2228.77 11.0023 Q2238.09 11.0023 2243.52 15.2557 Q2248.94 19.4686 2248.94 26.6793 Q2248.94 31.7024 2246.07 35.1862 Q2243.19 38.6294 2237.89 39.9662 Z\" fill=\"#000000\" fill-rule=\"evenodd\" fill-opacity=\"1\" /><polyline clip-path=\"url(#clip224)\" style=\"stroke:#009af9; stroke-width:4; stroke-opacity:1; fill:none\" points=\"\n",
       "  1821.55,139.405 1858.38,156.783 1895.22,176.428 1932.06,199.422 1968.9,227.003 2005.74,260.943 2042.58,305.154 2079.41,368.256 2116.25,481.252 2153.09,601.517 \n",
       "  2189.93,601.517 2226.77,430.587 2263.61,670.51 2300.45,670.515 2337.28,670.515 \n",
       "  \"/>\n",
       "<path clip-path=\"url(#clip220)\" d=\"\n",
       "M1989.74 327.952 L2280.76 327.952 L2280.76 206.992 L1989.74 206.992  Z\n",
       "  \" fill=\"#ffffff\" fill-rule=\"evenodd\" fill-opacity=\"1\"/>\n",
       "<polyline clip-path=\"url(#clip220)\" style=\"stroke:#000000; stroke-width:4; stroke-opacity:1; fill:none\" points=\"\n",
       "  1989.74,327.952 2280.76,327.952 2280.76,206.992 1989.74,206.992 1989.74,327.952 \n",
       "  \"/>\n",
       "<polyline clip-path=\"url(#clip220)\" style=\"stroke:#009af9; stroke-width:4; stroke-opacity:1; fill:none\" points=\"\n",
       "  2013.74,267.472 2157.74,267.472 \n",
       "  \"/>\n",
       "<path clip-path=\"url(#clip220)\" d=\"M 0 0 M2195.58 287.16 Q2193.77 291.789 2192.06 293.201 Q2190.35 294.613 2187.48 294.613 L2184.08 294.613 L2184.08 291.048 L2186.58 291.048 Q2188.33 291.048 2189.31 290.215 Q2190.28 289.382 2191.46 286.28 L2192.22 284.335 L2181.74 258.826 L2186.25 258.826 L2194.35 279.104 L2202.46 258.826 L2206.97 258.826 L2195.58 287.16 Z\" fill=\"#000000\" fill-rule=\"evenodd\" fill-opacity=\"1\" /><path clip-path=\"url(#clip220)\" d=\"M 0 0 M2212.85 280.817 L2220.49 280.817 L2220.49 254.451 L2212.18 256.118 L2212.18 251.859 L2220.44 250.192 L2225.12 250.192 L2225.12 280.817 L2232.76 280.817 L2232.76 284.752 L2212.85 284.752 L2212.85 280.817 Z\" fill=\"#000000\" fill-rule=\"evenodd\" fill-opacity=\"1\" /><path clip-path=\"url(#clip220)\" d=\"\n",
       "M211.575 1486.45 L758.257 1486.45 L758.257 923.472 L211.575 923.472  Z\n",
       "  \" fill=\"#ffffff\" fill-rule=\"evenodd\" fill-opacity=\"1\"/>\n",
       "<defs>\n",
       "  <clipPath id=\"clip225\">\n",
       "    <rect x=\"211\" y=\"923\" width=\"548\" height=\"564\"/>\n",
       "  </clipPath>\n",
       "</defs>\n",
       "<polyline clip-path=\"url(#clip225)\" style=\"stroke:#000000; stroke-width:2; stroke-opacity:0.1; fill:none\" points=\"\n",
       "  226.32,1486.45 226.32,923.472 \n",
       "  \"/>\n",
       "<polyline clip-path=\"url(#clip225)\" style=\"stroke:#000000; stroke-width:2; stroke-opacity:0.1; fill:none\" points=\"\n",
       "  371.803,1486.45 371.803,923.472 \n",
       "  \"/>\n",
       "<polyline clip-path=\"url(#clip225)\" style=\"stroke:#000000; stroke-width:2; stroke-opacity:0.1; fill:none\" points=\"\n",
       "  517.286,1486.45 517.286,923.472 \n",
       "  \"/>\n",
       "<polyline clip-path=\"url(#clip225)\" style=\"stroke:#000000; stroke-width:2; stroke-opacity:0.1; fill:none\" points=\"\n",
       "  662.769,1486.45 662.769,923.472 \n",
       "  \"/>\n",
       "<polyline clip-path=\"url(#clip225)\" style=\"stroke:#000000; stroke-width:2; stroke-opacity:0.1; fill:none\" points=\"\n",
       "  211.575,1393.22 758.257,1393.22 \n",
       "  \"/>\n",
       "<polyline clip-path=\"url(#clip225)\" style=\"stroke:#000000; stroke-width:2; stroke-opacity:0.1; fill:none\" points=\"\n",
       "  211.575,1285.25 758.257,1285.25 \n",
       "  \"/>\n",
       "<polyline clip-path=\"url(#clip225)\" style=\"stroke:#000000; stroke-width:2; stroke-opacity:0.1; fill:none\" points=\"\n",
       "  211.575,1177.28 758.257,1177.28 \n",
       "  \"/>\n",
       "<polyline clip-path=\"url(#clip225)\" style=\"stroke:#000000; stroke-width:2; stroke-opacity:0.1; fill:none\" points=\"\n",
       "  211.575,1069.31 758.257,1069.31 \n",
       "  \"/>\n",
       "<polyline clip-path=\"url(#clip225)\" style=\"stroke:#000000; stroke-width:2; stroke-opacity:0.1; fill:none\" points=\"\n",
       "  211.575,961.344 758.257,961.344 \n",
       "  \"/>\n",
       "<polyline clip-path=\"url(#clip220)\" style=\"stroke:#000000; stroke-width:4; stroke-opacity:1; fill:none\" points=\"\n",
       "  211.575,1486.45 758.257,1486.45 \n",
       "  \"/>\n",
       "<polyline clip-path=\"url(#clip220)\" style=\"stroke:#000000; stroke-width:4; stroke-opacity:1; fill:none\" points=\"\n",
       "  211.575,1486.45 211.575,923.472 \n",
       "  \"/>\n",
       "<polyline clip-path=\"url(#clip220)\" style=\"stroke:#000000; stroke-width:4; stroke-opacity:1; fill:none\" points=\"\n",
       "  226.32,1486.45 226.32,1479.69 \n",
       "  \"/>\n",
       "<polyline clip-path=\"url(#clip220)\" style=\"stroke:#000000; stroke-width:4; stroke-opacity:1; fill:none\" points=\"\n",
       "  371.803,1486.45 371.803,1479.69 \n",
       "  \"/>\n",
       "<polyline clip-path=\"url(#clip220)\" style=\"stroke:#000000; stroke-width:4; stroke-opacity:1; fill:none\" points=\"\n",
       "  517.286,1486.45 517.286,1479.69 \n",
       "  \"/>\n",
       "<polyline clip-path=\"url(#clip220)\" style=\"stroke:#000000; stroke-width:4; stroke-opacity:1; fill:none\" points=\"\n",
       "  662.769,1486.45 662.769,1479.69 \n",
       "  \"/>\n",
       "<polyline clip-path=\"url(#clip220)\" style=\"stroke:#000000; stroke-width:4; stroke-opacity:1; fill:none\" points=\"\n",
       "  211.575,1393.22 218.135,1393.22 \n",
       "  \"/>\n",
       "<polyline clip-path=\"url(#clip220)\" style=\"stroke:#000000; stroke-width:4; stroke-opacity:1; fill:none\" points=\"\n",
       "  211.575,1285.25 218.135,1285.25 \n",
       "  \"/>\n",
       "<polyline clip-path=\"url(#clip220)\" style=\"stroke:#000000; stroke-width:4; stroke-opacity:1; fill:none\" points=\"\n",
       "  211.575,1177.28 218.135,1177.28 \n",
       "  \"/>\n",
       "<polyline clip-path=\"url(#clip220)\" style=\"stroke:#000000; stroke-width:4; stroke-opacity:1; fill:none\" points=\"\n",
       "  211.575,1069.31 218.135,1069.31 \n",
       "  \"/>\n",
       "<polyline clip-path=\"url(#clip220)\" style=\"stroke:#000000; stroke-width:4; stroke-opacity:1; fill:none\" points=\"\n",
       "  211.575,961.344 218.135,961.344 \n",
       "  \"/>\n",
       "<path clip-path=\"url(#clip220)\" d=\"M 0 0 M226.32 1508.44 Q222.708 1508.44 220.88 1512 Q219.074 1515.55 219.074 1522.67 Q219.074 1529.78 220.88 1533.35 Q222.708 1536.89 226.32 1536.89 Q229.954 1536.89 231.759 1533.35 Q233.588 1529.78 233.588 1522.67 Q233.588 1515.55 231.759 1512 Q229.954 1508.44 226.32 1508.44 M226.32 1504.73 Q232.13 1504.73 235.185 1509.34 Q238.264 1513.92 238.264 1522.67 Q238.264 1531.4 235.185 1536.01 Q232.13 1540.59 226.32 1540.59 Q220.509 1540.59 217.431 1536.01 Q214.375 1531.4 214.375 1522.67 Q214.375 1513.92 217.431 1509.34 Q220.509 1504.73 226.32 1504.73 Z\" fill=\"#000000\" fill-rule=\"evenodd\" fill-opacity=\"1\" /><path clip-path=\"url(#clip220)\" d=\"M 0 0 M339.442 1535.98 L355.761 1535.98 L355.761 1539.92 L333.817 1539.92 L333.817 1535.98 Q336.479 1533.23 341.062 1528.6 Q345.669 1523.95 346.849 1522.61 Q349.095 1520.08 349.974 1518.35 Q350.877 1516.59 350.877 1514.9 Q350.877 1512.14 348.933 1510.41 Q347.011 1508.67 343.909 1508.67 Q341.71 1508.67 339.257 1509.43 Q336.826 1510.2 334.048 1511.75 L334.048 1507.03 Q336.872 1505.89 339.326 1505.31 Q341.78 1504.73 343.817 1504.73 Q349.187 1504.73 352.382 1507.42 Q355.576 1510.11 355.576 1514.6 Q355.576 1516.73 354.766 1518.65 Q353.979 1520.54 351.872 1523.14 Q351.294 1523.81 348.192 1527.03 Q345.09 1530.22 339.442 1535.98 Z\" fill=\"#000000\" fill-rule=\"evenodd\" fill-opacity=\"1\" /><path clip-path=\"url(#clip220)\" d=\"M 0 0 M370.831 1508.44 Q367.22 1508.44 365.391 1512 Q363.585 1515.55 363.585 1522.67 Q363.585 1529.78 365.391 1533.35 Q367.22 1536.89 370.831 1536.89 Q374.465 1536.89 376.27 1533.35 Q378.099 1529.78 378.099 1522.67 Q378.099 1515.55 376.27 1512 Q374.465 1508.44 370.831 1508.44 M370.831 1504.73 Q376.641 1504.73 379.696 1509.34 Q382.775 1513.92 382.775 1522.67 Q382.775 1531.4 379.696 1536.01 Q376.641 1540.59 370.831 1540.59 Q365.02 1540.59 361.942 1536.01 Q358.886 1531.4 358.886 1522.67 Q358.886 1513.92 361.942 1509.34 Q365.02 1504.73 370.831 1504.73 Z\" fill=\"#000000\" fill-rule=\"evenodd\" fill-opacity=\"1\" /><path clip-path=\"url(#clip220)\" d=\"M 0 0 M397.844 1508.44 Q394.233 1508.44 392.405 1512 Q390.599 1515.55 390.599 1522.67 Q390.599 1529.78 392.405 1533.35 Q394.233 1536.89 397.844 1536.89 Q401.479 1536.89 403.284 1533.35 Q405.113 1529.78 405.113 1522.67 Q405.113 1515.55 403.284 1512 Q401.479 1508.44 397.844 1508.44 M397.844 1504.73 Q403.655 1504.73 406.71 1509.34 Q409.789 1513.92 409.789 1522.67 Q409.789 1531.4 406.71 1536.01 Q403.655 1540.59 397.844 1540.59 Q392.034 1540.59 388.956 1536.01 Q385.9 1531.4 385.9 1522.67 Q385.9 1513.92 388.956 1509.34 Q392.034 1504.73 397.844 1504.73 Z\" fill=\"#000000\" fill-rule=\"evenodd\" fill-opacity=\"1\" /><path clip-path=\"url(#clip220)\" d=\"M 0 0 M493.282 1509.43 L481.476 1527.88 L493.282 1527.88 L493.282 1509.43 M492.055 1505.36 L497.934 1505.36 L497.934 1527.88 L502.865 1527.88 L502.865 1531.77 L497.934 1531.77 L497.934 1539.92 L493.282 1539.92 L493.282 1531.77 L477.68 1531.77 L477.68 1527.26 L492.055 1505.36 Z\" fill=\"#000000\" fill-rule=\"evenodd\" fill-opacity=\"1\" /><path clip-path=\"url(#clip220)\" d=\"M 0 0 M517.934 1508.44 Q514.323 1508.44 512.495 1512 Q510.689 1515.55 510.689 1522.67 Q510.689 1529.78 512.495 1533.35 Q514.323 1536.89 517.934 1536.89 Q521.569 1536.89 523.374 1533.35 Q525.203 1529.78 525.203 1522.67 Q525.203 1515.55 523.374 1512 Q521.569 1508.44 517.934 1508.44 M517.934 1504.73 Q523.744 1504.73 526.8 1509.34 Q529.879 1513.92 529.879 1522.67 Q529.879 1531.4 526.8 1536.01 Q523.744 1540.59 517.934 1540.59 Q512.124 1540.59 509.045 1536.01 Q505.99 1531.4 505.99 1522.67 Q505.99 1513.92 509.045 1509.34 Q512.124 1504.73 517.934 1504.73 Z\" fill=\"#000000\" fill-rule=\"evenodd\" fill-opacity=\"1\" /><path clip-path=\"url(#clip220)\" d=\"M 0 0 M544.948 1508.44 Q541.337 1508.44 539.508 1512 Q537.703 1515.55 537.703 1522.67 Q537.703 1529.78 539.508 1533.35 Q541.337 1536.89 544.948 1536.89 Q548.582 1536.89 550.388 1533.35 Q552.217 1529.78 552.217 1522.67 Q552.217 1515.55 550.388 1512 Q548.582 1508.44 544.948 1508.44 M544.948 1504.73 Q550.758 1504.73 553.814 1509.34 Q556.892 1513.92 556.892 1522.67 Q556.892 1531.4 553.814 1536.01 Q550.758 1540.59 544.948 1540.59 Q539.138 1540.59 536.059 1536.01 Q533.004 1531.4 533.004 1522.67 Q533.004 1513.92 536.059 1509.34 Q539.138 1504.73 544.948 1504.73 Z\" fill=\"#000000\" fill-rule=\"evenodd\" fill-opacity=\"1\" /><path clip-path=\"url(#clip220)\" d=\"M 0 0 M636.161 1520.78 Q633.013 1520.78 631.161 1522.93 Q629.332 1525.08 629.332 1528.83 Q629.332 1532.56 631.161 1534.73 Q633.013 1536.89 636.161 1536.89 Q639.309 1536.89 641.138 1534.73 Q642.989 1532.56 642.989 1528.83 Q642.989 1525.08 641.138 1522.93 Q639.309 1520.78 636.161 1520.78 M645.443 1506.12 L645.443 1510.38 Q643.684 1509.55 641.878 1509.11 Q640.096 1508.67 638.337 1508.67 Q633.707 1508.67 631.253 1511.8 Q628.823 1514.92 628.476 1521.24 Q629.841 1519.23 631.902 1518.16 Q633.962 1517.07 636.439 1517.07 Q641.647 1517.07 644.656 1520.24 Q647.689 1523.39 647.689 1528.83 Q647.689 1534.16 644.54 1537.37 Q641.392 1540.59 636.161 1540.59 Q630.165 1540.59 626.994 1536.01 Q623.823 1531.4 623.823 1522.67 Q623.823 1514.48 627.712 1509.62 Q631.601 1504.73 638.152 1504.73 Q639.911 1504.73 641.693 1505.08 Q643.499 1505.43 645.443 1506.12 Z\" fill=\"#000000\" fill-rule=\"evenodd\" fill-opacity=\"1\" /><path clip-path=\"url(#clip220)\" d=\"M 0 0 M662.758 1508.44 Q659.147 1508.44 657.318 1512 Q655.513 1515.55 655.513 1522.67 Q655.513 1529.78 657.318 1533.35 Q659.147 1536.89 662.758 1536.89 Q666.392 1536.89 668.198 1533.35 Q670.026 1529.78 670.026 1522.67 Q670.026 1515.55 668.198 1512 Q666.392 1508.44 662.758 1508.44 M662.758 1504.73 Q668.568 1504.73 671.624 1509.34 Q674.702 1513.92 674.702 1522.67 Q674.702 1531.4 671.624 1536.01 Q668.568 1540.59 662.758 1540.59 Q656.948 1540.59 653.869 1536.01 Q650.813 1531.4 650.813 1522.67 Q650.813 1513.92 653.869 1509.34 Q656.948 1504.73 662.758 1504.73 Z\" fill=\"#000000\" fill-rule=\"evenodd\" fill-opacity=\"1\" /><path clip-path=\"url(#clip220)\" d=\"M 0 0 M689.772 1508.44 Q686.161 1508.44 684.332 1512 Q682.526 1515.55 682.526 1522.67 Q682.526 1529.78 684.332 1533.35 Q686.161 1536.89 689.772 1536.89 Q693.406 1536.89 695.211 1533.35 Q697.04 1529.78 697.04 1522.67 Q697.04 1515.55 695.211 1512 Q693.406 1508.44 689.772 1508.44 M689.772 1504.73 Q695.582 1504.73 698.637 1509.34 Q701.716 1513.92 701.716 1522.67 Q701.716 1531.4 698.637 1536.01 Q695.582 1540.59 689.772 1540.59 Q683.961 1540.59 680.883 1536.01 Q677.827 1531.4 677.827 1522.67 Q677.827 1513.92 680.883 1509.34 Q683.961 1504.73 689.772 1504.73 Z\" fill=\"#000000\" fill-rule=\"evenodd\" fill-opacity=\"1\" /><path clip-path=\"url(#clip220)\" d=\"M 0 0 M96.0793 1413.01 L103.718 1413.01 L103.718 1386.64 L95.408 1388.31 L95.408 1384.05 L103.672 1382.38 L108.348 1382.38 L108.348 1413.01 L115.987 1413.01 L115.987 1416.94 L96.0793 1416.94 L96.0793 1413.01 Z\" fill=\"#000000\" fill-rule=\"evenodd\" fill-opacity=\"1\" /><path clip-path=\"url(#clip220)\" d=\"M 0 0 M131.056 1385.46 Q127.445 1385.46 125.616 1389.03 Q123.811 1392.57 123.811 1399.7 Q123.811 1406.81 125.616 1410.37 Q127.445 1413.91 131.056 1413.91 Q134.69 1413.91 136.496 1410.37 Q138.324 1406.81 138.324 1399.7 Q138.324 1392.57 136.496 1389.03 Q134.69 1385.46 131.056 1385.46 M131.056 1381.76 Q136.866 1381.76 139.922 1386.37 Q143 1390.95 143 1399.7 Q143 1408.43 139.922 1413.03 Q136.866 1417.62 131.056 1417.62 Q125.246 1417.62 122.167 1413.03 Q119.112 1408.43 119.112 1399.7 Q119.112 1390.95 122.167 1386.37 Q125.246 1381.76 131.056 1381.76 Z\" fill=\"#000000\" fill-rule=\"evenodd\" fill-opacity=\"1\" /><path clip-path=\"url(#clip220)\" d=\"M 0 0 M143 1377.44 L153.138 1377.44 L153.138 1380.52 L143 1380.52 L143 1377.44 Z\" fill=\"#000000\" fill-rule=\"evenodd\" fill-opacity=\"1\" /><path clip-path=\"url(#clip220)\" d=\"M 0 0 M179.788 1364.76 L170.196 1379.75 L179.788 1379.75 L179.788 1364.76 M178.792 1361.45 L183.569 1361.45 L183.569 1379.75 L187.575 1379.75 L187.575 1382.91 L183.569 1382.91 L183.569 1389.53 L179.788 1389.53 L179.788 1382.91 L167.112 1382.91 L167.112 1379.25 L178.792 1361.45 Z\" fill=\"#000000\" fill-rule=\"evenodd\" fill-opacity=\"1\" /><path clip-path=\"url(#clip220)\" d=\"M 0 0 M98.7124 1305.04 L106.351 1305.04 L106.351 1278.68 L98.0411 1280.34 L98.0411 1276.08 L106.305 1274.42 L110.981 1274.42 L110.981 1305.04 L118.62 1305.04 L118.62 1308.98 L98.7124 1308.98 L98.7124 1305.04 Z\" fill=\"#000000\" fill-rule=\"evenodd\" fill-opacity=\"1\" /><path clip-path=\"url(#clip220)\" d=\"M 0 0 M133.689 1277.49 Q130.078 1277.49 128.249 1281.06 Q126.444 1284.6 126.444 1291.73 Q126.444 1298.84 128.249 1302.4 Q130.078 1305.94 133.689 1305.94 Q137.323 1305.94 139.129 1302.4 Q140.958 1298.84 140.958 1291.73 Q140.958 1284.6 139.129 1281.06 Q137.323 1277.49 133.689 1277.49 M133.689 1273.79 Q139.499 1273.79 142.555 1278.4 Q145.633 1282.98 145.633 1291.73 Q145.633 1300.46 142.555 1305.06 Q139.499 1309.65 133.689 1309.65 Q127.879 1309.65 124.8 1305.06 Q121.745 1300.46 121.745 1291.73 Q121.745 1282.98 124.8 1278.4 Q127.879 1273.79 133.689 1273.79 Z\" fill=\"#000000\" fill-rule=\"evenodd\" fill-opacity=\"1\" /><path clip-path=\"url(#clip220)\" d=\"M 0 0 M145.633 1269.47 L155.771 1269.47 L155.771 1272.56 L145.633 1272.56 L145.633 1269.47 Z\" fill=\"#000000\" fill-rule=\"evenodd\" fill-opacity=\"1\" /><path clip-path=\"url(#clip220)\" d=\"M 0 0 M174.315 1278.37 L187.575 1278.37 L187.575 1281.57 L169.745 1281.57 L169.745 1278.37 Q171.908 1276.13 175.632 1272.37 Q179.375 1268.59 180.334 1267.5 Q182.158 1265.45 182.873 1264.04 Q183.606 1262.61 183.606 1261.23 Q183.606 1259 182.026 1257.59 Q180.465 1256.18 177.945 1256.18 Q176.158 1256.18 174.165 1256.8 Q172.19 1257.42 169.933 1258.68 L169.933 1254.84 Q172.228 1253.92 174.221 1253.45 Q176.215 1252.98 177.87 1252.98 Q182.233 1252.98 184.829 1255.16 Q187.424 1257.34 187.424 1260.99 Q187.424 1262.72 186.766 1264.28 Q186.127 1265.82 184.415 1267.93 Q183.945 1268.48 181.425 1271.09 Q178.904 1273.69 174.315 1278.37 Z\" fill=\"#000000\" fill-rule=\"evenodd\" fill-opacity=\"1\" /><path clip-path=\"url(#clip220)\" d=\"M 0 0 M121.244 1197.07 L128.883 1197.07 L128.883 1170.71 L120.573 1172.37 L120.573 1168.11 L128.837 1166.45 L133.513 1166.45 L133.513 1197.07 L141.151 1197.07 L141.151 1201.01 L121.244 1201.01 L121.244 1197.07 Z\" fill=\"#000000\" fill-rule=\"evenodd\" fill-opacity=\"1\" /><path clip-path=\"url(#clip220)\" d=\"M 0 0 M156.221 1169.53 Q152.61 1169.53 150.781 1173.09 Q148.975 1176.63 148.975 1183.76 Q148.975 1190.87 150.781 1194.43 Q152.61 1197.98 156.221 1197.98 Q159.855 1197.98 161.661 1194.43 Q163.489 1190.87 163.489 1183.76 Q163.489 1176.63 161.661 1173.09 Q159.855 1169.53 156.221 1169.53 M156.221 1165.82 Q162.031 1165.82 165.086 1170.43 Q168.165 1175.01 168.165 1183.76 Q168.165 1192.49 165.086 1197.1 Q162.031 1201.68 156.221 1201.68 Q150.411 1201.68 147.332 1197.1 Q144.276 1192.49 144.276 1183.76 Q144.276 1175.01 147.332 1170.43 Q150.411 1165.82 156.221 1165.82 Z\" fill=\"#000000\" fill-rule=\"evenodd\" fill-opacity=\"1\" /><path clip-path=\"url(#clip220)\" d=\"M 0 0 M177.87 1148.02 Q174.936 1148.02 173.45 1150.92 Q171.983 1153.79 171.983 1159.59 Q171.983 1165.36 173.45 1168.26 Q174.936 1171.13 177.87 1171.13 Q180.823 1171.13 182.29 1168.26 Q183.776 1165.36 183.776 1159.59 Q183.776 1153.79 182.29 1150.92 Q180.823 1148.02 177.87 1148.02 M177.87 1145.01 Q182.591 1145.01 185.073 1148.75 Q187.575 1152.48 187.575 1159.59 Q187.575 1166.68 185.073 1170.42 Q182.591 1174.14 177.87 1174.14 Q173.149 1174.14 170.648 1170.42 Q168.165 1166.68 168.165 1159.59 Q168.165 1152.48 170.648 1148.75 Q173.149 1145.01 177.87 1145.01 Z\" fill=\"#000000\" fill-rule=\"evenodd\" fill-opacity=\"1\" /><path clip-path=\"url(#clip220)\" d=\"M 0 0 M122.824 1089.1 L130.463 1089.1 L130.463 1062.74 L122.153 1064.41 L122.153 1060.15 L130.417 1058.48 L135.092 1058.48 L135.092 1089.1 L142.731 1089.1 L142.731 1093.04 L122.824 1093.04 L122.824 1089.1 Z\" fill=\"#000000\" fill-rule=\"evenodd\" fill-opacity=\"1\" /><path clip-path=\"url(#clip220)\" d=\"M 0 0 M157.801 1061.56 Q154.19 1061.56 152.361 1065.12 Q150.555 1068.67 150.555 1075.79 Q150.555 1082.9 152.361 1086.47 Q154.19 1090.01 157.801 1090.01 Q161.435 1090.01 163.24 1086.47 Q165.069 1082.9 165.069 1075.79 Q165.069 1068.67 163.24 1065.12 Q161.435 1061.56 157.801 1061.56 M157.801 1057.85 Q163.611 1057.85 166.666 1062.46 Q169.745 1067.04 169.745 1075.79 Q169.745 1084.52 166.666 1089.13 Q163.611 1093.71 157.801 1093.71 Q151.99 1093.71 148.912 1089.13 Q145.856 1084.52 145.856 1075.79 Q145.856 1067.04 148.912 1062.46 Q151.99 1057.85 157.801 1057.85 Z\" fill=\"#000000\" fill-rule=\"evenodd\" fill-opacity=\"1\" /><path clip-path=\"url(#clip220)\" d=\"M 0 0 M174.315 1062.43 L187.575 1062.43 L187.575 1065.63 L169.745 1065.63 L169.745 1062.43 Q171.908 1060.19 175.632 1056.43 Q179.375 1052.65 180.334 1051.56 Q182.158 1049.51 182.873 1048.1 Q183.606 1046.67 183.606 1045.3 Q183.606 1043.06 182.026 1041.65 Q180.465 1040.24 177.945 1040.24 Q176.158 1040.24 174.165 1040.86 Q172.19 1041.48 169.933 1042.74 L169.933 1038.9 Q172.228 1037.98 174.221 1037.51 Q176.215 1037.04 177.87 1037.04 Q182.233 1037.04 184.829 1039.22 Q187.424 1041.41 187.424 1045.05 Q187.424 1046.78 186.766 1048.35 Q186.127 1049.89 184.415 1051.99 Q183.945 1052.54 181.425 1055.15 Q178.904 1057.75 174.315 1062.43 Z\" fill=\"#000000\" fill-rule=\"evenodd\" fill-opacity=\"1\" /><path clip-path=\"url(#clip220)\" d=\"M 0 0 M120.191 981.137 L127.83 981.137 L127.83 954.771 L119.52 956.438 L119.52 952.178 L127.783 950.512 L132.459 950.512 L132.459 981.137 L140.098 981.137 L140.098 985.072 L120.191 985.072 L120.191 981.137 Z\" fill=\"#000000\" fill-rule=\"evenodd\" fill-opacity=\"1\" /><path clip-path=\"url(#clip220)\" d=\"M 0 0 M155.168 953.59 Q151.556 953.59 149.728 957.155 Q147.922 960.697 147.922 967.827 Q147.922 974.933 149.728 978.498 Q151.556 982.039 155.168 982.039 Q158.802 982.039 160.607 978.498 Q162.436 974.933 162.436 967.827 Q162.436 960.697 160.607 957.155 Q158.802 953.59 155.168 953.59 M155.168 949.887 Q160.978 949.887 164.033 954.493 Q167.112 959.077 167.112 967.827 Q167.112 976.553 164.033 981.16 Q160.978 985.743 155.168 985.743 Q149.357 985.743 146.279 981.16 Q143.223 976.553 143.223 967.827 Q143.223 959.077 146.279 954.493 Q149.357 949.887 155.168 949.887 Z\" fill=\"#000000\" fill-rule=\"evenodd\" fill-opacity=\"1\" /><path clip-path=\"url(#clip220)\" d=\"M 0 0 M179.788 932.892 L170.196 947.881 L179.788 947.881 L179.788 932.892 M178.792 929.581 L183.569 929.581 L183.569 947.881 L187.575 947.881 L187.575 951.041 L183.569 951.041 L183.569 957.661 L179.788 957.661 L179.788 951.041 L167.112 951.041 L167.112 947.374 L178.792 929.581 Z\" fill=\"#000000\" fill-rule=\"evenodd\" fill-opacity=\"1\" /><path clip-path=\"url(#clip220)\" d=\"M 0 0 M312.975 812.096 L325.169 812.096 L340.603 853.253 L356.118 812.096 L368.311 812.096 L368.311 872.576 L360.331 872.576 L360.331 819.469 L344.735 860.95 L336.511 860.95 L320.915 819.469 L320.915 872.576 L312.975 872.576 L312.975 812.096 Z\" fill=\"#000000\" fill-rule=\"evenodd\" fill-opacity=\"1\" /><path clip-path=\"url(#clip220)\" d=\"M 0 0 M414.937 848.028 L414.937 851.673 L380.666 851.673 Q381.152 859.37 385.284 863.421 Q389.457 867.431 396.87 867.431 Q401.164 867.431 405.174 866.378 Q409.225 865.325 413.195 863.218 L413.195 870.267 Q409.184 871.968 404.972 872.86 Q400.759 873.751 396.424 873.751 Q385.568 873.751 379.208 867.431 Q372.888 861.112 372.888 850.337 Q372.888 839.197 378.884 832.675 Q384.92 826.112 395.128 826.112 Q404.283 826.112 409.59 832.026 Q414.937 837.9 414.937 848.028 M407.483 845.84 Q407.402 839.723 404.04 836.077 Q400.718 832.432 395.209 832.432 Q388.97 832.432 385.203 835.956 Q381.476 839.48 380.909 845.881 L407.483 845.84 Z\" fill=\"#000000\" fill-rule=\"evenodd\" fill-opacity=\"1\" /><path clip-path=\"url(#clip220)\" d=\"M 0 0 M430.128 814.324 L430.128 827.206 L445.481 827.206 L445.481 832.999 L430.128 832.999 L430.128 857.628 Q430.128 863.178 431.626 864.758 Q433.166 866.338 437.824 866.338 L445.481 866.338 L445.481 872.576 L437.824 872.576 Q429.196 872.576 425.915 869.376 Q422.633 866.135 422.633 857.628 L422.633 832.999 L417.165 832.999 L417.165 827.206 L422.633 827.206 L422.633 814.324 L430.128 814.324 Z\" fill=\"#000000\" fill-rule=\"evenodd\" fill-opacity=\"1\" /><path clip-path=\"url(#clip220)\" d=\"M 0 0 M491.013 845.192 L491.013 872.576 L483.559 872.576 L483.559 845.435 Q483.559 838.994 481.047 835.794 Q478.536 832.594 473.513 832.594 Q467.477 832.594 463.993 836.442 Q460.509 840.29 460.509 846.934 L460.509 872.576 L453.015 872.576 L453.015 809.544 L460.509 809.544 L460.509 834.254 Q463.183 830.163 466.788 828.138 Q470.434 826.112 475.174 826.112 Q482.992 826.112 487.002 830.973 Q491.013 835.794 491.013 845.192 Z\" fill=\"#000000\" fill-rule=\"evenodd\" fill-opacity=\"1\" /><path clip-path=\"url(#clip220)\" d=\"M 0 0 M516.412 832.432 Q510.417 832.432 506.933 837.131 Q503.449 841.789 503.449 849.931 Q503.449 858.074 506.892 862.773 Q510.376 867.431 516.412 867.431 Q522.367 867.431 525.85 862.732 Q529.334 858.033 529.334 849.931 Q529.334 841.87 525.85 837.171 Q522.367 832.432 516.412 832.432 M516.412 826.112 Q526.134 826.112 531.684 832.432 Q537.234 838.751 537.234 849.931 Q537.234 861.071 531.684 867.431 Q526.134 873.751 516.412 873.751 Q506.649 873.751 501.099 867.431 Q495.59 861.071 495.59 849.931 Q495.59 838.751 501.099 832.432 Q506.649 826.112 516.412 826.112 Z\" fill=\"#000000\" fill-rule=\"evenodd\" fill-opacity=\"1\" /><path clip-path=\"url(#clip220)\" d=\"M 0 0 M574.907 834.092 L574.907 809.544 L582.361 809.544 L582.361 872.576 L574.907 872.576 L574.907 865.77 Q572.557 869.821 568.952 871.806 Q565.387 873.751 560.364 873.751 Q552.141 873.751 546.956 867.188 Q541.811 860.626 541.811 849.931 Q541.811 839.237 546.956 832.675 Q552.141 826.112 560.364 826.112 Q565.387 826.112 568.952 828.097 Q572.557 830.042 574.907 834.092 M549.508 849.931 Q549.508 858.155 552.87 862.854 Q556.273 867.512 562.187 867.512 Q568.101 867.512 571.504 862.854 Q574.907 858.155 574.907 849.931 Q574.907 841.708 571.504 837.05 Q568.101 832.351 562.187 832.351 Q556.273 832.351 552.87 837.05 Q549.508 841.708 549.508 849.931 Z\" fill=\"#000000\" fill-rule=\"evenodd\" fill-opacity=\"1\" /><path clip-path=\"url(#clip220)\" d=\"M 0 0 M640.086 819.226 L619.426 851.511 L640.086 851.511 L640.086 819.226 M637.939 812.096 L648.228 812.096 L648.228 851.511 L656.857 851.511 L656.857 858.317 L648.228 858.317 L648.228 872.576 L640.086 872.576 L640.086 858.317 L612.783 858.317 L612.783 850.418 L637.939 812.096 Z\" fill=\"#000000\" fill-rule=\"evenodd\" fill-opacity=\"1\" /><polyline clip-path=\"url(#clip225)\" style=\"stroke:#009af9; stroke-width:4; stroke-opacity:1; fill:none\" points=\"\n",
       "  227.047,939.405 227.774,945.736 228.502,952.893 229.229,961.27 229.957,971.317 230.684,983.682 231.411,999.788 232.139,1022.78 232.866,1063.94 233.594,1107.75 \n",
       "  234.321,1107.75 235.049,1045.48 235.776,1051.27 236.503,1058.06 237.231,1065.58 237.958,1074.54 238.686,1084.94 239.413,1097.29 240.14,1111.61 240.868,1126.22 \n",
       "  241.595,1133.72 242.323,1128.51 243.05,1118.53 243.778,1109.85 244.505,1103.41 245.232,1099.1 245.96,1096.54 246.687,1095.54 247.415,1095.72 248.142,1097.12 \n",
       "  248.869,1099.58 249.597,1103.04 250.324,1107.42 251.052,1112.65 251.779,1118.43 252.507,1124.31 253.234,1129.5 253.961,1132.97 254.689,1134 255.416,1132.79 \n",
       "  256.144,1130.27 256.871,1127.5 257.598,1124.98 258.326,1123.04 259.053,1121.82 259.781,1121.54 260.508,1121.77 261.236,1122.83 261.963,1124.42 262.69,1126.43 \n",
       "  263.418,1128.47 264.145,1130.6 264.873,1132.35 265.6,1133.62 266.327,1134.25 267.055,1134.28 267.782,1133.84 268.51,1133.16 269.237,1132.45 269.965,1131.82 \n",
       "  270.692,1131.42 271.419,1131.29 272.147,1131.41 272.874,1131.78 273.602,1132.28 274.329,1132.88 275.056,1133.49 275.784,1134.02 276.511,1134.4 277.239,1134.63 \n",
       "  277.966,1134.68 278.694,1134.62 279.421,1134.48 280.148,1134.32 280.876,1134.17 281.603,1134.09 282.331,1134.08 283.058,1134.14 283.785,1134.25 284.513,1134.44 \n",
       "  285.24,1134.62 285.968,1134.78 286.695,1134.92 287.423,1135.01 288.15,1135.06 288.877,1135.07 289.605,1135.06 290.332,1135.04 291.06,1135.02 291.787,1135.02 \n",
       "  292.514,1135.03 293.242,1135.07 293.969,1135.13 294.697,1135.2 295.424,1135.27 296.152,1135.32 296.879,1135.39 297.606,1135.43 298.334,1135.46 299.061,1135.48 \n",
       "  299.789,1135.5 300.516,1135.51 301.243,1135.54 301.971,1135.56 302.698,1135.6 303.426,1135.63 304.153,1135.67 304.881,1135.71 305.608,1135.76 306.335,1135.79 \n",
       "  307.063,1135.83 307.79,1135.86 308.518,1135.89 309.245,1135.92 309.972,1135.93 310.7,1135.98 311.427,1136.01 312.155,1136.04 312.882,1136.07 313.61,1136.11 \n",
       "  314.337,1136.15 315.064,1136.18 315.792,1136.2 316.519,1136.25 317.247,1136.29 317.974,1136.32 318.701,1136.35 319.429,1136.38 320.156,1136.42 320.884,1136.44 \n",
       "  321.611,1136.48 322.339,1136.51 323.066,1136.56 323.793,1136.59 324.521,1136.63 325.248,1136.66 325.976,1136.7 326.703,1136.73 327.43,1136.76 328.158,1136.79 \n",
       "  328.885,1136.85 329.613,1136.88 330.34,1136.91 331.068,1136.95 331.795,1136.98 332.522,1137.01 333.25,1137.06 333.977,1137.09 334.705,1137.12 335.432,1137.16 \n",
       "  336.159,1137.2 336.887,1137.24 337.614,1137.27 338.342,1137.32 339.069,1137.35 339.797,1137.39 340.524,1137.43 341.251,1137.47 341.979,1137.5 342.706,1137.54 \n",
       "  343.434,1137.58 344.161,1137.6 344.888,1137.66 345.616,1137.7 346.343,1137.73 347.071,1137.77 347.798,1137.81 348.526,1137.85 349.253,1137.89 349.98,1137.93 \n",
       "  350.708,1137.97 351.435,1138 352.163,1138.05 352.89,1138.09 353.617,1138.11 354.345,1138.17 355.072,1138.21 355.8,1138.25 356.527,1138.29 357.255,1138.33 \n",
       "  357.982,1138.37 358.709,1138.41 359.437,1138.45 360.164,1138.49 360.892,1138.54 361.619,1138.57 362.346,1138.62 363.074,1138.66 363.801,1138.7 364.529,1138.74 \n",
       "  365.256,1138.77 365.984,1138.82 366.711,1138.87 367.438,1138.91 368.166,1138.95 368.893,1139 369.621,1139.04 370.348,1139.08 371.075,1139.12 371.803,1139.16 \n",
       "  372.53,1139.21 373.258,1139.25 373.985,1139.29 374.712,1139.32 375.44,1139.38 376.167,1139.42 376.895,1139.48 377.622,1139.51 378.35,1139.55 379.077,1139.6 \n",
       "  379.804,1139.64 380.532,1139.64 381.259,1139.68 381.987,1140.27 382.714,1223.87 383.441,1272.02 384.169,1276.7 384.896,1277.26 385.624,1307.68 386.351,1329.48 \n",
       "  387.079,1334.48 387.806,1335.8 388.533,1335.81 389.261,1335.81 389.988,1335.81 390.716,1335.85 391.443,1335.85 392.17,1335.85 392.898,1253.03 393.625,1309.98 \n",
       "  394.353,1285.63 395.08,1265.13 395.808,1271.83 396.535,1298.27 397.262,1334.88 397.99,1296.95 398.717,1281.35 399.445,1282.15 400.172,1296.57 400.899,1325.6 \n",
       "  401.627,1327.13 402.354,1302.77 403.082,1293.45 403.809,1296.22 404.537,1310.2 405.264,1332.1 405.991,1328.54 406.719,1311.15 407.446,1304.32 408.174,1307.74 \n",
       "  408.901,1320.5 409.628,1334.96 410.356,1329.46 411.083,1317.39 411.811,1313.39 412.538,1318.07 413.266,1329.02 413.993,1335.8 414.72,1329.21 415.448,1321.9 \n",
       "  416.175,1321.07 416.903,1326.89 417.63,1334.46 418.357,1334.64 419.085,1328.79 419.812,1325.73 420.54,1327.99 421.267,1333.37 421.995,1335.79 422.722,1332.9 \n",
       "  423.449,1329.7 424.177,1330.11 424.904,1333.37 425.632,1335.76 426.359,1334.54 427.086,1332.2 427.814,1331.95 428.541,1333.96 429.269,1335.73 429.996,1335.19 \n",
       "  430.724,1333.69 431.451,1333.43 432.178,1334.66 432.906,1335.76 433.633,1335.44 434.361,1334.47 435.088,1334.33 435.815,1335.15 436.543,1335.82 437.27,1335.53 \n",
       "  437.998,1334.91 438.725,1334.94 439.453,1335.52 440.18,1335.82 440.907,1335.53 441.635,1335.2 442.362,1335.34 443.09,1335.74 443.817,1335.79 444.544,1335.55 \n",
       "  445.272,1335.44 445.999,1335.62 446.727,1335.81 447.454,1335.74 448.182,1335.59 448.909,1335.6 449.636,1335.73 450.364,1335.81 451.091,1335.74 451.819,1335.67 \n",
       "  452.546,1335.74 453.273,1335.85 454.001,1335.8 454.728,1335.73 455.456,1335.75 456.183,1335.79 456.911,1335.81 457.638,1335.76 458.365,1335.77 459.093,1335.79 \n",
       "  459.82,1335.82 460.548,1335.79 461.275,1335.78 462.002,1335.8 462.73,1335.82 463.457,1335.8 464.185,1335.82 464.912,1335.79 465.64,1335.85 466.367,1335.82 \n",
       "  467.094,1335.8 467.822,1335.81 468.549,1335.82 469.277,1335.82 470.004,1335.84 470.731,1335.82 471.459,1335.86 472.186,1335.82 472.914,1335.81 473.641,1335.81 \n",
       "  474.369,1335.82 475.096,1335.82 475.823,1335.86 476.551,1335.81 477.278,1335.82 478.006,1335.82 478.733,1335.82 479.46,1335.82 480.188,1335.82 480.915,1335.82 \n",
       "  481.643,1335.81 482.37,1335.82 483.098,1335.82 483.825,1335.82 484.552,1335.82 485.28,1335.82 486.007,1335.82 486.735,1335.82 487.462,1335.82 488.189,1335.82 \n",
       "  488.917,1335.82 489.644,1335.82 490.372,1335.82 491.099,1335.82 491.827,1335.82 492.554,1335.82 493.281,1335.82 494.009,1335.81 494.736,1335.82 495.464,1335.82 \n",
       "  496.191,1335.82 496.918,1335.82 497.646,1335.82 498.373,1335.82 499.101,1335.82 499.828,1335.82 500.556,1335.82 501.283,1335.82 502.01,1335.82 502.738,1335.82 \n",
       "  503.465,1335.82 504.193,1335.82 504.92,1335.82 505.647,1335.82 506.375,1335.82 507.102,1335.82 507.83,1335.82 508.557,1335.82 509.285,1335.82 510.012,1335.82 \n",
       "  510.739,1335.82 511.467,1335.82 512.194,1335.82 512.922,1335.82 513.649,1335.82 514.376,1335.83 515.104,1335.82 515.831,1335.82 516.559,1335.82 517.286,1335.82 \n",
       "  518.014,1335.82 518.741,1335.82 519.468,1335.82 520.196,1335.82 520.923,1335.82 521.651,1335.81 522.378,1335.82 523.105,1335.82 523.833,1335.82 524.56,1335.82 \n",
       "  525.288,1335.82 526.015,1335.82 526.743,1335.82 527.47,1335.82 528.197,1335.83 528.925,1335.82 529.652,1335.82 530.38,1335.82 531.107,1335.82 531.834,1335.82 \n",
       "  532.562,1335.82 533.289,1335.82 534.017,1335.82 534.744,1335.82 535.472,1335.82 536.199,1335.82 536.926,1335.83 537.654,1335.86 538.381,1335.83 539.109,1335.84 \n",
       "  539.836,1337.87 540.563,1341.99 541.291,1352.93 542.018,1356.61 542.746,1360.76 543.473,1364.45 544.201,1365.37 544.928,1365.97 545.655,1375.18 546.383,1379.47 \n",
       "  547.11,1381.8 547.838,1383.54 548.565,1385.34 549.292,1387.16 550.02,1388.5 550.747,1389.91 551.475,1390.62 552.202,1391.49 552.93,1392.72 553.657,1393.05 \n",
       "  554.384,1393.46 555.112,1393.87 555.839,1394.52 556.567,1395.46 557.294,1397.91 558.021,1398.9 558.749,1401.71 559.476,1402.33 560.204,1405.48 560.931,1411.48 \n",
       "  561.659,1416.06 562.386,1419.75 563.113,1431.41 563.841,1433.01 564.568,1434.76 565.296,1435.83 566.023,1439.62 566.75,1441.82 567.478,1444.82 568.205,1446.67 \n",
       "  568.933,1449.81 569.66,1450.15 570.388,1450.32 571.115,1450.47 571.842,1450.49 572.57,1450.49 573.297,1450.49 574.025,1450.49 574.752,1361.86 575.479,1418.97 \n",
       "  576.207,1396.79 576.934,1374.73 577.662,1380.43 578.389,1405.71 579.117,1450.4 579.844,1409.12 580.571,1391.56 581.299,1391.49 582.026,1404.81 582.754,1435.15 \n",
       "  583.481,1443.42 584.208,1416.15 584.936,1404.75 585.663,1405.84 586.391,1419.16 587.118,1442.49 587.846,1444.99 588.573,1424.57 589.3,1416.01 590.028,1418.69 \n",
       "  590.755,1431.17 591.483,1447.75 592.21,1446.28 592.937,1433.23 593.665,1427.2 594.392,1430.27 595.12,1439.75 595.847,1449.85 596.575,1446.66 597.302,1438.33 \n",
       "  598.029,1434.87 598.757,1439.03 599.484,1446.88 600.212,1450.42 600.939,1446.28 601.666,1442.06 602.394,1442.06 603.121,1445.93 603.849,1450.13 604.576,1449.1 \n",
       "  605.304,1446.1 606.031,1445.19 606.758,1447.51 607.486,1449.91 608.213,1450.31 608.941,1448.65 609.668,1447.8 610.395,1448.05 611.123,1449.95 611.85,1450.46 \n",
       "  612.578,1449.38 613.305,1448.8 614.033,1449 614.76,1450.2 615.487,1450.37 616.215,1449.56 616.942,1449.44 617.67,1449.86 618.397,1450.45 619.124,1450.24 \n",
       "  619.852,1449.93 620.579,1449.93 621.307,1450.23 622.034,1450.48 622.762,1450.35 623.489,1450.29 624.216,1450.29 624.944,1450.33 625.671,1450.47 626.399,1450.46 \n",
       "  627.126,1450.33 627.853,1450.32 628.581,1450.36 629.308,1450.48 630.036,1450.47 630.763,1450.44 631.491,1450.42 632.218,1450.43 632.945,1450.46 633.673,1450.48 \n",
       "  634.4,1450.46 635.128,1450.44 635.855,1450.44 636.582,1450.45 637.31,1450.47 638.037,1450.49 638.765,1450.48 639.492,1450.46 640.22,1450.46 640.947,1450.46 \n",
       "  641.674,1450.47 642.402,1450.48 643.129,1450.49 643.857,1450.48 644.584,1450.47 645.311,1450.48 646.039,1450.48 646.766,1450.49 647.494,1450.49 648.221,1450.48 \n",
       "  648.949,1450.48 649.676,1450.48 650.403,1450.48 651.131,1450.49 651.858,1450.49 652.586,1450.49 653.313,1450.49 654.04,1450.49 654.768,1450.49 655.495,1450.49 \n",
       "  656.223,1450.49 656.95,1450.49 657.678,1450.49 658.405,1450.5 659.132,1450.49 659.86,1450.49 660.587,1450.49 661.315,1450.49 662.042,1450.49 662.769,1450.49 \n",
       "  663.497,1450.49 664.224,1450.49 664.952,1450.49 665.679,1450.49 666.407,1450.49 667.134,1450.49 667.861,1450.49 668.589,1450.49 669.316,1450.49 670.044,1450.49 \n",
       "  670.771,1450.49 671.498,1450.49 672.226,1450.49 672.953,1450.49 673.681,1450.49 674.408,1450.49 675.136,1450.49 675.863,1450.49 676.59,1450.49 677.318,1450.49 \n",
       "  678.045,1450.49 678.773,1450.49 679.5,1450.49 680.227,1450.49 680.955,1450.49 681.682,1450.49 682.41,1450.49 683.137,1450.49 683.865,1450.49 684.592,1450.49 \n",
       "  685.319,1450.49 686.047,1450.49 686.774,1450.49 687.502,1450.49 688.229,1450.49 688.956,1450.49 689.684,1450.49 690.411,1450.49 691.139,1450.49 691.866,1450.49 \n",
       "  692.594,1450.49 693.321,1450.49 694.048,1450.49 694.776,1450.49 695.503,1450.49 696.231,1450.49 696.958,1450.49 697.685,1450.49 698.413,1450.49 699.14,1450.49 \n",
       "  699.868,1450.49 700.595,1450.49 701.323,1450.49 702.05,1450.49 702.777,1450.49 703.505,1450.49 704.232,1450.49 704.96,1450.49 705.687,1450.49 706.414,1450.49 \n",
       "  707.142,1450.49 707.869,1450.5 708.597,1450.49 709.324,1450.49 710.052,1450.5 710.779,1450.5 711.506,1450.49 712.234,1450.49 712.961,1450.49 713.689,1450.49 \n",
       "  714.416,1450.49 715.143,1450.49 715.871,1450.49 716.598,1450.49 717.326,1450.49 718.053,1450.49 718.781,1450.49 719.508,1450.5 720.235,1450.49 720.963,1450.49 \n",
       "  721.69,1450.49 722.418,1450.49 723.145,1450.5 723.872,1450.59 724.6,1450.6 725.327,1451.77 726.055,1452.27 726.782,1452.78 727.51,1452.83 728.237,1453.59 \n",
       "  728.964,1456.08 729.692,1458.37 730.419,1458.8 731.147,1459.83 731.874,1461.97 732.601,1463.25 733.329,1464.76 734.056,1465.16 734.784,1466.1 735.511,1466.86 \n",
       "  736.239,1467.62 736.966,1468.99 737.693,1469.55 738.421,1470.18 739.148,1470.37 739.876,1470.47 740.603,1470.5 741.33,1470.51 742.058,1470.51 742.785,1470.51 \n",
       "  \n",
       "  \"/>\n",
       "<path clip-path=\"url(#clip220)\" d=\"\n",
       "M395.239 1127.95 L686.257 1127.95 L686.257 1006.99 L395.239 1006.99  Z\n",
       "  \" fill=\"#ffffff\" fill-rule=\"evenodd\" fill-opacity=\"1\"/>\n",
       "<polyline clip-path=\"url(#clip220)\" style=\"stroke:#000000; stroke-width:4; stroke-opacity:1; fill:none\" points=\"\n",
       "  395.239,1127.95 686.257,1127.95 686.257,1006.99 395.239,1006.99 395.239,1127.95 \n",
       "  \"/>\n",
       "<polyline clip-path=\"url(#clip220)\" style=\"stroke:#009af9; stroke-width:4; stroke-opacity:1; fill:none\" points=\"\n",
       "  419.239,1067.47 563.239,1067.47 \n",
       "  \"/>\n",
       "<path clip-path=\"url(#clip220)\" d=\"M 0 0 M601.082 1087.16 Q599.276 1091.79 597.563 1093.2 Q595.85 1094.61 592.98 1094.61 L589.577 1094.61 L589.577 1091.05 L592.077 1091.05 Q593.836 1091.05 594.809 1090.22 Q595.781 1089.38 596.961 1086.28 L597.725 1084.34 L587.239 1058.83 L591.753 1058.83 L599.855 1079.1 L607.957 1058.83 L612.471 1058.83 L601.082 1087.16 Z\" fill=\"#000000\" fill-rule=\"evenodd\" fill-opacity=\"1\" /><path clip-path=\"url(#clip220)\" d=\"M 0 0 M618.35 1080.82 L625.989 1080.82 L625.989 1054.45 L617.679 1056.12 L617.679 1051.86 L625.943 1050.19 L630.619 1050.19 L630.619 1080.82 L638.257 1080.82 L638.257 1084.75 L618.35 1084.75 L618.35 1080.82 Z\" fill=\"#000000\" fill-rule=\"evenodd\" fill-opacity=\"1\" /><path clip-path=\"url(#clip220)\" d=\"\n",
       "M1014.99 1486.45 L1562.05 1486.45 L1562.05 923.472 L1014.99 923.472  Z\n",
       "  \" fill=\"#ffffff\" fill-rule=\"evenodd\" fill-opacity=\"1\"/>\n",
       "<defs>\n",
       "  <clipPath id=\"clip226\">\n",
       "    <rect x=\"1014\" y=\"923\" width=\"548\" height=\"564\"/>\n",
       "  </clipPath>\n",
       "</defs>\n",
       "<polyline clip-path=\"url(#clip226)\" style=\"stroke:#000000; stroke-width:2; stroke-opacity:0.1; fill:none\" points=\"\n",
       "  1029.65,1486.45 1029.65,923.472 \n",
       "  \"/>\n",
       "<polyline clip-path=\"url(#clip226)\" style=\"stroke:#000000; stroke-width:2; stroke-opacity:0.1; fill:none\" points=\"\n",
       "  1112.09,1486.45 1112.09,923.472 \n",
       "  \"/>\n",
       "<polyline clip-path=\"url(#clip226)\" style=\"stroke:#000000; stroke-width:2; stroke-opacity:0.1; fill:none\" points=\"\n",
       "  1194.54,1486.45 1194.54,923.472 \n",
       "  \"/>\n",
       "<polyline clip-path=\"url(#clip226)\" style=\"stroke:#000000; stroke-width:2; stroke-opacity:0.1; fill:none\" points=\"\n",
       "  1276.98,1486.45 1276.98,923.472 \n",
       "  \"/>\n",
       "<polyline clip-path=\"url(#clip226)\" style=\"stroke:#000000; stroke-width:2; stroke-opacity:0.1; fill:none\" points=\"\n",
       "  1359.42,1486.45 1359.42,923.472 \n",
       "  \"/>\n",
       "<polyline clip-path=\"url(#clip226)\" style=\"stroke:#000000; stroke-width:2; stroke-opacity:0.1; fill:none\" points=\"\n",
       "  1441.86,1486.45 1441.86,923.472 \n",
       "  \"/>\n",
       "<polyline clip-path=\"url(#clip226)\" style=\"stroke:#000000; stroke-width:2; stroke-opacity:0.1; fill:none\" points=\"\n",
       "  1524.3,1486.45 1524.3,923.472 \n",
       "  \"/>\n",
       "<polyline clip-path=\"url(#clip226)\" style=\"stroke:#000000; stroke-width:2; stroke-opacity:0.1; fill:none\" points=\"\n",
       "  1014.99,1406.93 1562.05,1406.93 \n",
       "  \"/>\n",
       "<polyline clip-path=\"url(#clip226)\" style=\"stroke:#000000; stroke-width:2; stroke-opacity:0.1; fill:none\" points=\"\n",
       "  1014.99,1260.97 1562.05,1260.97 \n",
       "  \"/>\n",
       "<polyline clip-path=\"url(#clip226)\" style=\"stroke:#000000; stroke-width:2; stroke-opacity:0.1; fill:none\" points=\"\n",
       "  1014.99,1115.02 1562.05,1115.02 \n",
       "  \"/>\n",
       "<polyline clip-path=\"url(#clip226)\" style=\"stroke:#000000; stroke-width:2; stroke-opacity:0.1; fill:none\" points=\"\n",
       "  1014.99,969.063 1562.05,969.063 \n",
       "  \"/>\n",
       "<polyline clip-path=\"url(#clip220)\" style=\"stroke:#000000; stroke-width:4; stroke-opacity:1; fill:none\" points=\"\n",
       "  1014.99,1486.45 1562.05,1486.45 \n",
       "  \"/>\n",
       "<polyline clip-path=\"url(#clip220)\" style=\"stroke:#000000; stroke-width:4; stroke-opacity:1; fill:none\" points=\"\n",
       "  1014.99,1486.45 1014.99,923.472 \n",
       "  \"/>\n",
       "<polyline clip-path=\"url(#clip220)\" style=\"stroke:#000000; stroke-width:4; stroke-opacity:1; fill:none\" points=\"\n",
       "  1029.65,1486.45 1029.65,1479.69 \n",
       "  \"/>\n",
       "<polyline clip-path=\"url(#clip220)\" style=\"stroke:#000000; stroke-width:4; stroke-opacity:1; fill:none\" points=\"\n",
       "  1112.09,1486.45 1112.09,1479.69 \n",
       "  \"/>\n",
       "<polyline clip-path=\"url(#clip220)\" style=\"stroke:#000000; stroke-width:4; stroke-opacity:1; fill:none\" points=\"\n",
       "  1194.54,1486.45 1194.54,1479.69 \n",
       "  \"/>\n",
       "<polyline clip-path=\"url(#clip220)\" style=\"stroke:#000000; stroke-width:4; stroke-opacity:1; fill:none\" points=\"\n",
       "  1276.98,1486.45 1276.98,1479.69 \n",
       "  \"/>\n",
       "<polyline clip-path=\"url(#clip220)\" style=\"stroke:#000000; stroke-width:4; stroke-opacity:1; fill:none\" points=\"\n",
       "  1359.42,1486.45 1359.42,1479.69 \n",
       "  \"/>\n",
       "<polyline clip-path=\"url(#clip220)\" style=\"stroke:#000000; stroke-width:4; stroke-opacity:1; fill:none\" points=\"\n",
       "  1441.86,1486.45 1441.86,1479.69 \n",
       "  \"/>\n",
       "<polyline clip-path=\"url(#clip220)\" style=\"stroke:#000000; stroke-width:4; stroke-opacity:1; fill:none\" points=\"\n",
       "  1524.3,1486.45 1524.3,1479.69 \n",
       "  \"/>\n",
       "<polyline clip-path=\"url(#clip220)\" style=\"stroke:#000000; stroke-width:4; stroke-opacity:1; fill:none\" points=\"\n",
       "  1014.99,1406.93 1021.56,1406.93 \n",
       "  \"/>\n",
       "<polyline clip-path=\"url(#clip220)\" style=\"stroke:#000000; stroke-width:4; stroke-opacity:1; fill:none\" points=\"\n",
       "  1014.99,1260.97 1021.56,1260.97 \n",
       "  \"/>\n",
       "<polyline clip-path=\"url(#clip220)\" style=\"stroke:#000000; stroke-width:4; stroke-opacity:1; fill:none\" points=\"\n",
       "  1014.99,1115.02 1021.56,1115.02 \n",
       "  \"/>\n",
       "<polyline clip-path=\"url(#clip220)\" style=\"stroke:#000000; stroke-width:4; stroke-opacity:1; fill:none\" points=\"\n",
       "  1014.99,969.063 1021.56,969.063 \n",
       "  \"/>\n",
       "<path clip-path=\"url(#clip220)\" d=\"M 0 0 M1029.65 1508.44 Q1026.04 1508.44 1024.21 1512 Q1022.41 1515.55 1022.41 1522.67 Q1022.41 1529.78 1024.21 1533.35 Q1026.04 1536.89 1029.65 1536.89 Q1033.29 1536.89 1035.09 1533.35 Q1036.92 1529.78 1036.92 1522.67 Q1036.92 1515.55 1035.09 1512 Q1033.29 1508.44 1029.65 1508.44 M1029.65 1504.73 Q1035.46 1504.73 1038.52 1509.34 Q1041.6 1513.92 1041.6 1522.67 Q1041.6 1531.4 1038.52 1536.01 Q1035.46 1540.59 1029.65 1540.59 Q1023.84 1540.59 1020.76 1536.01 Q1017.71 1531.4 1017.71 1522.67 Q1017.71 1513.92 1020.76 1509.34 Q1023.84 1504.73 1029.65 1504.73 Z\" fill=\"#000000\" fill-rule=\"evenodd\" fill-opacity=\"1\" /><path clip-path=\"url(#clip220)\" d=\"M 0 0 M1075.46 1535.98 L1083.1 1535.98 L1083.1 1509.62 L1074.79 1511.29 L1074.79 1507.03 L1083.05 1505.36 L1087.73 1505.36 L1087.73 1535.98 L1095.37 1535.98 L1095.37 1539.92 L1075.46 1539.92 L1075.46 1535.98 Z\" fill=\"#000000\" fill-rule=\"evenodd\" fill-opacity=\"1\" /><path clip-path=\"url(#clip220)\" d=\"M 0 0 M1110.44 1508.44 Q1106.83 1508.44 1105 1512 Q1103.19 1515.55 1103.19 1522.67 Q1103.19 1529.78 1105 1533.35 Q1106.83 1536.89 1110.44 1536.89 Q1114.07 1536.89 1115.88 1533.35 Q1117.71 1529.78 1117.71 1522.67 Q1117.71 1515.55 1115.88 1512 Q1114.07 1508.44 1110.44 1508.44 M1110.44 1504.73 Q1116.25 1504.73 1119.3 1509.34 Q1122.38 1513.92 1122.38 1522.67 Q1122.38 1531.4 1119.3 1536.01 Q1116.25 1540.59 1110.44 1540.59 Q1104.63 1540.59 1101.55 1536.01 Q1098.49 1531.4 1098.49 1522.67 Q1098.49 1513.92 1101.55 1509.34 Q1104.63 1504.73 1110.44 1504.73 Z\" fill=\"#000000\" fill-rule=\"evenodd\" fill-opacity=\"1\" /><path clip-path=\"url(#clip220)\" d=\"M 0 0 M1137.45 1508.44 Q1133.84 1508.44 1132.01 1512 Q1130.21 1515.55 1130.21 1522.67 Q1130.21 1529.78 1132.01 1533.35 Q1133.84 1536.89 1137.45 1536.89 Q1141.09 1536.89 1142.89 1533.35 Q1144.72 1529.78 1144.72 1522.67 Q1144.72 1515.55 1142.89 1512 Q1141.09 1508.44 1137.45 1508.44 M1137.45 1504.73 Q1143.26 1504.73 1146.32 1509.34 Q1149.4 1513.92 1149.4 1522.67 Q1149.4 1531.4 1146.32 1536.01 Q1143.26 1540.59 1137.45 1540.59 Q1131.64 1540.59 1128.56 1536.01 Q1125.51 1531.4 1125.51 1522.67 Q1125.51 1513.92 1128.56 1509.34 Q1131.64 1504.73 1137.45 1504.73 Z\" fill=\"#000000\" fill-rule=\"evenodd\" fill-opacity=\"1\" /><path clip-path=\"url(#clip220)\" d=\"M 0 0 M1162.17 1535.98 L1178.49 1535.98 L1178.49 1539.92 L1156.55 1539.92 L1156.55 1535.98 Q1159.21 1533.23 1163.79 1528.6 Q1168.4 1523.95 1169.58 1522.61 Q1171.83 1520.08 1172.71 1518.35 Q1173.61 1516.59 1173.61 1514.9 Q1173.61 1512.14 1171.67 1510.41 Q1169.74 1508.67 1166.64 1508.67 Q1164.44 1508.67 1161.99 1509.43 Q1159.56 1510.2 1156.78 1511.75 L1156.78 1507.03 Q1159.61 1505.89 1162.06 1505.31 Q1164.51 1504.73 1166.55 1504.73 Q1171.92 1504.73 1175.11 1507.42 Q1178.31 1510.11 1178.31 1514.6 Q1178.31 1516.73 1177.5 1518.65 Q1176.71 1520.54 1174.61 1523.14 Q1174.03 1523.81 1170.92 1527.03 Q1167.82 1530.22 1162.17 1535.98 Z\" fill=\"#000000\" fill-rule=\"evenodd\" fill-opacity=\"1\" /><path clip-path=\"url(#clip220)\" d=\"M 0 0 M1193.56 1508.44 Q1189.95 1508.44 1188.12 1512 Q1186.32 1515.55 1186.32 1522.67 Q1186.32 1529.78 1188.12 1533.35 Q1189.95 1536.89 1193.56 1536.89 Q1197.2 1536.89 1199 1533.35 Q1200.83 1529.78 1200.83 1522.67 Q1200.83 1515.55 1199 1512 Q1197.2 1508.44 1193.56 1508.44 M1193.56 1504.73 Q1199.37 1504.73 1202.43 1509.34 Q1205.51 1513.92 1205.51 1522.67 Q1205.51 1531.4 1202.43 1536.01 Q1199.37 1540.59 1193.56 1540.59 Q1187.75 1540.59 1184.67 1536.01 Q1181.62 1531.4 1181.62 1522.67 Q1181.62 1513.92 1184.67 1509.34 Q1187.75 1504.73 1193.56 1504.73 Z\" fill=\"#000000\" fill-rule=\"evenodd\" fill-opacity=\"1\" /><path clip-path=\"url(#clip220)\" d=\"M 0 0 M1220.58 1508.44 Q1216.97 1508.44 1215.14 1512 Q1213.33 1515.55 1213.33 1522.67 Q1213.33 1529.78 1215.14 1533.35 Q1216.97 1536.89 1220.58 1536.89 Q1224.21 1536.89 1226.02 1533.35 Q1227.85 1529.78 1227.85 1522.67 Q1227.85 1515.55 1226.02 1512 Q1224.21 1508.44 1220.58 1508.44 M1220.58 1504.73 Q1226.39 1504.73 1229.44 1509.34 Q1232.52 1513.92 1232.52 1522.67 Q1232.52 1531.4 1229.44 1536.01 Q1226.39 1540.59 1220.58 1540.59 Q1214.77 1540.59 1211.69 1536.01 Q1208.63 1531.4 1208.63 1522.67 Q1208.63 1513.92 1211.69 1509.34 Q1214.77 1504.73 1220.58 1504.73 Z\" fill=\"#000000\" fill-rule=\"evenodd\" fill-opacity=\"1\" /><path clip-path=\"url(#clip220)\" d=\"M 0 0 M1254.21 1521.29 Q1257.57 1522 1259.44 1524.27 Q1261.34 1526.54 1261.34 1529.87 Q1261.34 1534.99 1257.82 1537.79 Q1254.3 1540.59 1247.82 1540.59 Q1245.65 1540.59 1243.33 1540.15 Q1241.04 1539.73 1238.59 1538.88 L1238.59 1534.36 Q1240.53 1535.5 1242.85 1536.08 Q1245.16 1536.66 1247.68 1536.66 Q1252.08 1536.66 1254.37 1534.92 Q1256.69 1533.18 1256.69 1529.87 Q1256.69 1526.82 1254.54 1525.11 Q1252.41 1523.37 1248.59 1523.37 L1244.56 1523.37 L1244.56 1519.53 L1248.77 1519.53 Q1252.22 1519.53 1254.05 1518.16 Q1255.88 1516.77 1255.88 1514.18 Q1255.88 1511.52 1253.98 1510.11 Q1252.11 1508.67 1248.59 1508.67 Q1246.67 1508.67 1244.47 1509.09 Q1242.27 1509.5 1239.63 1510.38 L1239.63 1506.22 Q1242.29 1505.48 1244.61 1505.11 Q1246.94 1504.73 1249 1504.73 Q1254.33 1504.73 1257.43 1507.17 Q1260.53 1509.57 1260.53 1513.69 Q1260.53 1516.56 1258.89 1518.55 Q1257.24 1520.52 1254.21 1521.29 Z\" fill=\"#000000\" fill-rule=\"evenodd\" fill-opacity=\"1\" /><path clip-path=\"url(#clip220)\" d=\"M 0 0 M1276.41 1508.44 Q1272.8 1508.44 1270.97 1512 Q1269.17 1515.55 1269.17 1522.67 Q1269.17 1529.78 1270.97 1533.35 Q1272.8 1536.89 1276.41 1536.89 Q1280.04 1536.89 1281.85 1533.35 Q1283.68 1529.78 1283.68 1522.67 Q1283.68 1515.55 1281.85 1512 Q1280.04 1508.44 1276.41 1508.44 M1276.41 1504.73 Q1282.22 1504.73 1285.28 1509.34 Q1288.35 1513.92 1288.35 1522.67 Q1288.35 1531.4 1285.28 1536.01 Q1282.22 1540.59 1276.41 1540.59 Q1270.6 1540.59 1267.52 1536.01 Q1264.47 1531.4 1264.47 1522.67 Q1264.47 1513.92 1267.52 1509.34 Q1270.6 1504.73 1276.41 1504.73 Z\" fill=\"#000000\" fill-rule=\"evenodd\" fill-opacity=\"1\" /><path clip-path=\"url(#clip220)\" d=\"M 0 0 M1303.42 1508.44 Q1299.81 1508.44 1297.98 1512 Q1296.18 1515.55 1296.18 1522.67 Q1296.18 1529.78 1297.98 1533.35 Q1299.81 1536.89 1303.42 1536.89 Q1307.06 1536.89 1308.86 1533.35 Q1310.69 1529.78 1310.69 1522.67 Q1310.69 1515.55 1308.86 1512 Q1307.06 1508.44 1303.42 1508.44 M1303.42 1504.73 Q1309.23 1504.73 1312.29 1509.34 Q1315.37 1513.92 1315.37 1522.67 Q1315.37 1531.4 1312.29 1536.01 Q1309.23 1540.59 1303.42 1540.59 Q1297.61 1540.59 1294.54 1536.01 Q1291.48 1531.4 1291.48 1522.67 Q1291.48 1513.92 1294.54 1509.34 Q1297.61 1504.73 1303.42 1504.73 Z\" fill=\"#000000\" fill-rule=\"evenodd\" fill-opacity=\"1\" /><path clip-path=\"url(#clip220)\" d=\"M 0 0 M1335.42 1509.43 L1323.61 1527.88 L1335.42 1527.88 L1335.42 1509.43 M1334.19 1505.36 L1340.07 1505.36 L1340.07 1527.88 L1345 1527.88 L1345 1531.77 L1340.07 1531.77 L1340.07 1539.92 L1335.42 1539.92 L1335.42 1531.77 L1319.81 1531.77 L1319.81 1527.26 L1334.19 1505.36 Z\" fill=\"#000000\" fill-rule=\"evenodd\" fill-opacity=\"1\" /><path clip-path=\"url(#clip220)\" d=\"M 0 0 M1360.07 1508.44 Q1356.46 1508.44 1354.63 1512 Q1352.82 1515.55 1352.82 1522.67 Q1352.82 1529.78 1354.63 1533.35 Q1356.46 1536.89 1360.07 1536.89 Q1363.7 1536.89 1365.51 1533.35 Q1367.34 1529.78 1367.34 1522.67 Q1367.34 1515.55 1365.51 1512 Q1363.7 1508.44 1360.07 1508.44 M1360.07 1504.73 Q1365.88 1504.73 1368.93 1509.34 Q1372.01 1513.92 1372.01 1522.67 Q1372.01 1531.4 1368.93 1536.01 Q1365.88 1540.59 1360.07 1540.59 Q1354.26 1540.59 1351.18 1536.01 Q1348.12 1531.4 1348.12 1522.67 Q1348.12 1513.92 1351.18 1509.34 Q1354.26 1504.73 1360.07 1504.73 Z\" fill=\"#000000\" fill-rule=\"evenodd\" fill-opacity=\"1\" /><path clip-path=\"url(#clip220)\" d=\"M 0 0 M1387.08 1508.44 Q1383.47 1508.44 1381.64 1512 Q1379.84 1515.55 1379.84 1522.67 Q1379.84 1529.78 1381.64 1533.35 Q1383.47 1536.89 1387.08 1536.89 Q1390.72 1536.89 1392.52 1533.35 Q1394.35 1529.78 1394.35 1522.67 Q1394.35 1515.55 1392.52 1512 Q1390.72 1508.44 1387.08 1508.44 M1387.08 1504.73 Q1392.89 1504.73 1395.95 1509.34 Q1399.03 1513.92 1399.03 1522.67 Q1399.03 1531.4 1395.95 1536.01 Q1392.89 1540.59 1387.08 1540.59 Q1381.27 1540.59 1378.19 1536.01 Q1375.14 1531.4 1375.14 1522.67 Q1375.14 1513.92 1378.19 1509.34 Q1381.27 1504.73 1387.08 1504.73 Z\" fill=\"#000000\" fill-rule=\"evenodd\" fill-opacity=\"1\" /><path clip-path=\"url(#clip220)\" d=\"M 0 0 M1405.13 1505.36 L1423.48 1505.36 L1423.48 1509.3 L1409.41 1509.3 L1409.41 1517.77 Q1410.43 1517.42 1411.45 1517.26 Q1412.46 1517.07 1413.48 1517.07 Q1419.27 1517.07 1422.65 1520.24 Q1426.03 1523.42 1426.03 1528.83 Q1426.03 1534.41 1422.56 1537.51 Q1419.08 1540.59 1412.76 1540.59 Q1410.59 1540.59 1408.32 1540.22 Q1406.07 1539.85 1403.67 1539.11 L1403.67 1534.41 Q1405.75 1535.54 1407.97 1536.1 Q1410.2 1536.66 1412.67 1536.66 Q1416.68 1536.66 1419.01 1534.55 Q1421.35 1532.44 1421.35 1528.83 Q1421.35 1525.22 1419.01 1523.11 Q1416.68 1521.01 1412.67 1521.01 Q1410.8 1521.01 1408.92 1521.42 Q1407.07 1521.84 1405.13 1522.72 L1405.13 1505.36 Z\" fill=\"#000000\" fill-rule=\"evenodd\" fill-opacity=\"1\" /><path clip-path=\"url(#clip220)\" d=\"M 0 0 M1441.1 1508.44 Q1437.49 1508.44 1435.66 1512 Q1433.85 1515.55 1433.85 1522.67 Q1433.85 1529.78 1435.66 1533.35 Q1437.49 1536.89 1441.1 1536.89 Q1444.73 1536.89 1446.54 1533.35 Q1448.37 1529.78 1448.37 1522.67 Q1448.37 1515.55 1446.54 1512 Q1444.73 1508.44 1441.1 1508.44 M1441.1 1504.73 Q1446.91 1504.73 1449.96 1509.34 Q1453.04 1513.92 1453.04 1522.67 Q1453.04 1531.4 1449.96 1536.01 Q1446.91 1540.59 1441.1 1540.59 Q1435.29 1540.59 1432.21 1536.01 Q1429.15 1531.4 1429.15 1522.67 Q1429.15 1513.92 1432.21 1509.34 Q1435.29 1504.73 1441.1 1504.73 Z\" fill=\"#000000\" fill-rule=\"evenodd\" fill-opacity=\"1\" /><path clip-path=\"url(#clip220)\" d=\"M 0 0 M1468.11 1508.44 Q1464.5 1508.44 1462.67 1512 Q1460.87 1515.55 1460.87 1522.67 Q1460.87 1529.78 1462.67 1533.35 Q1464.5 1536.89 1468.11 1536.89 Q1471.75 1536.89 1473.55 1533.35 Q1475.38 1529.78 1475.38 1522.67 Q1475.38 1515.55 1473.55 1512 Q1471.75 1508.44 1468.11 1508.44 M1468.11 1504.73 Q1473.92 1504.73 1476.98 1509.34 Q1480.06 1513.92 1480.06 1522.67 Q1480.06 1531.4 1476.98 1536.01 Q1473.92 1540.59 1468.11 1540.59 Q1462.3 1540.59 1459.22 1536.01 Q1456.17 1531.4 1456.17 1522.67 Q1456.17 1513.92 1459.22 1509.34 Q1462.3 1504.73 1468.11 1504.73 Z\" fill=\"#000000\" fill-rule=\"evenodd\" fill-opacity=\"1\" /><path clip-path=\"url(#clip220)\" d=\"M 0 0 M1497.7 1520.78 Q1494.55 1520.78 1492.7 1522.93 Q1490.87 1525.08 1490.87 1528.83 Q1490.87 1532.56 1492.7 1534.73 Q1494.55 1536.89 1497.7 1536.89 Q1500.84 1536.89 1502.67 1534.73 Q1504.52 1532.56 1504.52 1528.83 Q1504.52 1525.08 1502.67 1522.93 Q1500.84 1520.78 1497.7 1520.78 M1506.98 1506.12 L1506.98 1510.38 Q1505.22 1509.55 1503.41 1509.11 Q1501.63 1508.67 1499.87 1508.67 Q1495.24 1508.67 1492.79 1511.8 Q1490.36 1514.92 1490.01 1521.24 Q1491.38 1519.23 1493.44 1518.16 Q1495.5 1517.07 1497.97 1517.07 Q1503.18 1517.07 1506.19 1520.24 Q1509.22 1523.39 1509.22 1528.83 Q1509.22 1534.16 1506.07 1537.37 Q1502.93 1540.59 1497.7 1540.59 Q1491.7 1540.59 1488.53 1536.01 Q1485.36 1531.4 1485.36 1522.67 Q1485.36 1514.48 1489.25 1509.62 Q1493.14 1504.73 1499.69 1504.73 Q1501.45 1504.73 1503.23 1505.08 Q1505.03 1505.43 1506.98 1506.12 Z\" fill=\"#000000\" fill-rule=\"evenodd\" fill-opacity=\"1\" /><path clip-path=\"url(#clip220)\" d=\"M 0 0 M1524.29 1508.44 Q1520.68 1508.44 1518.85 1512 Q1517.05 1515.55 1517.05 1522.67 Q1517.05 1529.78 1518.85 1533.35 Q1520.68 1536.89 1524.29 1536.89 Q1527.93 1536.89 1529.73 1533.35 Q1531.56 1529.78 1531.56 1522.67 Q1531.56 1515.55 1529.73 1512 Q1527.93 1508.44 1524.29 1508.44 M1524.29 1504.73 Q1530.1 1504.73 1533.16 1509.34 Q1536.24 1513.92 1536.24 1522.67 Q1536.24 1531.4 1533.16 1536.01 Q1530.1 1540.59 1524.29 1540.59 Q1518.48 1540.59 1515.4 1536.01 Q1512.35 1531.4 1512.35 1522.67 Q1512.35 1513.92 1515.4 1509.34 Q1518.48 1504.73 1524.29 1504.73 Z\" fill=\"#000000\" fill-rule=\"evenodd\" fill-opacity=\"1\" /><path clip-path=\"url(#clip220)\" d=\"M 0 0 M1551.31 1508.44 Q1547.7 1508.44 1545.87 1512 Q1544.06 1515.55 1544.06 1522.67 Q1544.06 1529.78 1545.87 1533.35 Q1547.7 1536.89 1551.31 1536.89 Q1554.94 1536.89 1556.75 1533.35 Q1558.57 1529.78 1558.57 1522.67 Q1558.57 1515.55 1556.75 1512 Q1554.94 1508.44 1551.31 1508.44 M1551.31 1504.73 Q1557.12 1504.73 1560.17 1509.34 Q1563.25 1513.92 1563.25 1522.67 Q1563.25 1531.4 1560.17 1536.01 Q1557.12 1540.59 1551.31 1540.59 Q1545.5 1540.59 1542.42 1536.01 Q1539.36 1531.4 1539.36 1522.67 Q1539.36 1513.92 1542.42 1509.34 Q1545.5 1504.73 1551.31 1504.73 Z\" fill=\"#000000\" fill-rule=\"evenodd\" fill-opacity=\"1\" /><path clip-path=\"url(#clip220)\" d=\"M 0 0 M902.131 1426.72 L909.769 1426.72 L909.769 1400.36 L901.459 1402.02 L901.459 1397.76 L909.723 1396.1 L914.399 1396.1 L914.399 1426.72 L922.038 1426.72 L922.038 1430.66 L902.131 1430.66 L902.131 1426.72 Z\" fill=\"#000000\" fill-rule=\"evenodd\" fill-opacity=\"1\" /><path clip-path=\"url(#clip220)\" d=\"M 0 0 M937.107 1399.17 Q933.496 1399.17 931.667 1402.74 Q929.862 1406.28 929.862 1413.41 Q929.862 1420.52 931.667 1424.08 Q933.496 1427.62 937.107 1427.62 Q940.742 1427.62 942.547 1424.08 Q944.376 1420.52 944.376 1413.41 Q944.376 1406.28 942.547 1402.74 Q940.742 1399.17 937.107 1399.17 M937.107 1395.47 Q942.917 1395.47 945.973 1400.08 Q949.052 1404.66 949.052 1413.41 Q949.052 1422.14 945.973 1426.74 Q942.917 1431.33 937.107 1431.33 Q931.297 1431.33 928.218 1426.74 Q925.163 1422.14 925.163 1413.41 Q925.163 1404.66 928.218 1400.08 Q931.297 1395.47 937.107 1395.47 Z\" fill=\"#000000\" fill-rule=\"evenodd\" fill-opacity=\"1\" /><path clip-path=\"url(#clip220)\" d=\"M 0 0 M949.052 1391.15 L959.189 1391.15 L959.189 1394.24 L949.052 1394.24 L949.052 1391.15 Z\" fill=\"#000000\" fill-rule=\"evenodd\" fill-opacity=\"1\" /><path clip-path=\"url(#clip220)\" d=\"M 0 0 M977.734 1400.05 L990.993 1400.05 L990.993 1403.25 L973.163 1403.25 L973.163 1400.05 Q975.326 1397.81 979.05 1394.05 Q982.793 1390.27 983.752 1389.18 Q985.576 1387.13 986.291 1385.72 Q987.025 1384.29 987.025 1382.91 Q987.025 1380.68 985.445 1379.27 Q983.884 1377.86 981.363 1377.86 Q979.577 1377.86 977.583 1378.48 Q975.608 1379.1 973.351 1380.36 L973.351 1376.52 Q975.646 1375.6 977.639 1375.13 Q979.633 1374.66 981.288 1374.66 Q985.652 1374.66 988.247 1376.84 Q990.843 1379.02 990.843 1382.67 Q990.843 1384.4 990.184 1385.96 Q989.545 1387.5 987.833 1389.61 Q987.363 1390.16 984.843 1392.77 Q982.323 1395.37 977.734 1400.05 Z\" fill=\"#000000\" fill-rule=\"evenodd\" fill-opacity=\"1\" /><path clip-path=\"url(#clip220)\" d=\"M 0 0 M924.662 1280.77 L932.301 1280.77 L932.301 1254.4 L923.991 1256.07 L923.991 1251.81 L932.255 1250.14 L936.931 1250.14 L936.931 1280.77 L944.57 1280.77 L944.57 1284.7 L924.662 1284.7 L924.662 1280.77 Z\" fill=\"#000000\" fill-rule=\"evenodd\" fill-opacity=\"1\" /><path clip-path=\"url(#clip220)\" d=\"M 0 0 M959.639 1253.22 Q956.028 1253.22 954.199 1256.78 Q952.394 1260.33 952.394 1267.46 Q952.394 1274.56 954.199 1278.13 Q956.028 1281.67 959.639 1281.67 Q963.273 1281.67 965.079 1278.13 Q966.907 1274.56 966.907 1267.46 Q966.907 1260.33 965.079 1256.78 Q963.273 1253.22 959.639 1253.22 M959.639 1249.52 Q965.449 1249.52 968.505 1254.12 Q971.583 1258.71 971.583 1267.46 Q971.583 1276.18 968.505 1280.79 Q965.449 1285.37 959.639 1285.37 Q953.829 1285.37 950.75 1280.79 Q947.695 1276.18 947.695 1267.46 Q947.695 1258.71 950.75 1254.12 Q953.829 1249.52 959.639 1249.52 Z\" fill=\"#000000\" fill-rule=\"evenodd\" fill-opacity=\"1\" /><path clip-path=\"url(#clip220)\" d=\"M 0 0 M981.288 1231.71 Q978.354 1231.71 976.868 1234.61 Q975.401 1237.49 975.401 1243.28 Q975.401 1249.05 976.868 1251.95 Q978.354 1254.83 981.288 1254.83 Q984.241 1254.83 985.708 1251.95 Q987.194 1249.05 987.194 1243.28 Q987.194 1237.49 985.708 1234.61 Q984.241 1231.71 981.288 1231.71 M981.288 1228.7 Q986.009 1228.7 988.492 1232.45 Q990.993 1236.17 990.993 1243.28 Q990.993 1250.37 988.492 1254.11 Q986.009 1257.84 981.288 1257.84 Q976.567 1257.84 974.066 1254.11 Q971.583 1250.37 971.583 1243.28 Q971.583 1236.17 974.066 1232.45 Q976.567 1228.7 981.288 1228.7 Z\" fill=\"#000000\" fill-rule=\"evenodd\" fill-opacity=\"1\" /><path clip-path=\"url(#clip220)\" d=\"M 0 0 M926.242 1134.81 L933.881 1134.81 L933.881 1108.45 L925.571 1110.11 L925.571 1105.85 L933.835 1104.19 L938.511 1104.19 L938.511 1134.81 L946.149 1134.81 L946.149 1138.75 L926.242 1138.75 L926.242 1134.81 Z\" fill=\"#000000\" fill-rule=\"evenodd\" fill-opacity=\"1\" /><path clip-path=\"url(#clip220)\" d=\"M 0 0 M961.219 1107.26 Q957.608 1107.26 955.779 1110.83 Q953.974 1114.37 953.974 1121.5 Q953.974 1128.61 955.779 1132.17 Q957.608 1135.71 961.219 1135.71 Q964.853 1135.71 966.659 1132.17 Q968.487 1128.61 968.487 1121.5 Q968.487 1114.37 966.659 1110.83 Q964.853 1107.26 961.219 1107.26 M961.219 1103.56 Q967.029 1103.56 970.085 1108.17 Q973.163 1112.75 973.163 1121.5 Q973.163 1130.23 970.085 1134.83 Q967.029 1139.42 961.219 1139.42 Q955.409 1139.42 952.33 1134.83 Q949.274 1130.23 949.274 1121.5 Q949.274 1112.75 952.33 1108.17 Q955.409 1103.56 961.219 1103.56 Z\" fill=\"#000000\" fill-rule=\"evenodd\" fill-opacity=\"1\" /><path clip-path=\"url(#clip220)\" d=\"M 0 0 M977.734 1108.14 L990.993 1108.14 L990.993 1111.34 L973.163 1111.34 L973.163 1108.14 Q975.326 1105.9 979.05 1102.14 Q982.793 1098.36 983.752 1097.27 Q985.576 1095.22 986.291 1093.81 Q987.025 1092.38 987.025 1091 Q987.025 1088.77 985.445 1087.36 Q983.884 1085.94 981.363 1085.94 Q979.577 1085.94 977.583 1086.57 Q975.608 1087.19 973.351 1088.45 L973.351 1084.61 Q975.646 1083.69 977.639 1083.22 Q979.633 1082.75 981.288 1082.75 Q985.652 1082.75 988.247 1084.93 Q990.843 1087.11 990.843 1090.76 Q990.843 1092.49 990.184 1094.05 Q989.545 1095.59 987.833 1097.7 Q987.363 1098.25 984.843 1100.86 Q982.323 1103.46 977.734 1108.14 Z\" fill=\"#000000\" fill-rule=\"evenodd\" fill-opacity=\"1\" /><path clip-path=\"url(#clip220)\" d=\"M 0 0 M923.609 988.856 L931.248 988.856 L931.248 962.49 L922.938 964.157 L922.938 959.897 L931.202 958.231 L935.878 958.231 L935.878 988.856 L943.516 988.856 L943.516 992.791 L923.609 992.791 L923.609 988.856 Z\" fill=\"#000000\" fill-rule=\"evenodd\" fill-opacity=\"1\" /><path clip-path=\"url(#clip220)\" d=\"M 0 0 M958.586 961.309 Q954.975 961.309 953.146 964.874 Q951.34 968.416 951.34 975.545 Q951.34 982.652 953.146 986.217 Q954.975 989.758 958.586 989.758 Q962.22 989.758 964.026 986.217 Q965.854 982.652 965.854 975.545 Q965.854 968.416 964.026 964.874 Q962.22 961.309 958.586 961.309 M958.586 957.606 Q964.396 957.606 967.451 962.212 Q970.53 966.795 970.53 975.545 Q970.53 984.272 967.451 988.879 Q964.396 993.462 958.586 993.462 Q952.776 993.462 949.697 988.879 Q946.641 984.272 946.641 975.545 Q946.641 966.795 949.697 962.212 Q952.776 957.606 958.586 957.606 Z\" fill=\"#000000\" fill-rule=\"evenodd\" fill-opacity=\"1\" /><path clip-path=\"url(#clip220)\" d=\"M 0 0 M983.207 940.61 L973.615 955.6 L983.207 955.6 L983.207 940.61 M982.21 937.3 L986.987 937.3 L986.987 955.6 L990.993 955.6 L990.993 958.76 L986.987 958.76 L986.987 965.38 L983.207 965.38 L983.207 958.76 L970.53 958.76 L970.53 955.092 L982.21 937.3 Z\" fill=\"#000000\" fill-rule=\"evenodd\" fill-opacity=\"1\" /><path clip-path=\"url(#clip220)\" d=\"M 0 0 M1116.58 812.096 L1128.77 812.096 L1144.21 853.253 L1159.72 812.096 L1171.91 812.096 L1171.91 872.576 L1163.93 872.576 L1163.93 819.469 L1148.34 860.95 L1140.11 860.95 L1124.52 819.469 L1124.52 872.576 L1116.58 872.576 L1116.58 812.096 Z\" fill=\"#000000\" fill-rule=\"evenodd\" fill-opacity=\"1\" /><path clip-path=\"url(#clip220)\" d=\"M 0 0 M1218.54 848.028 L1218.54 851.673 L1184.27 851.673 Q1184.76 859.37 1188.89 863.421 Q1193.06 867.431 1200.47 867.431 Q1204.77 867.431 1208.78 866.378 Q1212.83 865.325 1216.8 863.218 L1216.8 870.267 Q1212.79 871.968 1208.57 872.86 Q1204.36 873.751 1200.03 873.751 Q1189.17 873.751 1182.81 867.431 Q1176.49 861.112 1176.49 850.337 Q1176.49 839.197 1182.49 832.675 Q1188.52 826.112 1198.73 826.112 Q1207.89 826.112 1213.19 832.026 Q1218.54 837.9 1218.54 848.028 M1211.09 845.84 Q1211.01 839.723 1207.64 836.077 Q1204.32 832.432 1198.81 832.432 Q1192.57 832.432 1188.81 835.956 Q1185.08 839.48 1184.51 845.881 L1211.09 845.84 Z\" fill=\"#000000\" fill-rule=\"evenodd\" fill-opacity=\"1\" /><path clip-path=\"url(#clip220)\" d=\"M 0 0 M1233.73 814.324 L1233.73 827.206 L1249.08 827.206 L1249.08 832.999 L1233.73 832.999 L1233.73 857.628 Q1233.73 863.178 1235.23 864.758 Q1236.77 866.338 1241.43 866.338 L1249.08 866.338 L1249.08 872.576 L1241.43 872.576 Q1232.8 872.576 1229.52 869.376 Q1226.24 866.135 1226.24 857.628 L1226.24 832.999 L1220.77 832.999 L1220.77 827.206 L1226.24 827.206 L1226.24 814.324 L1233.73 814.324 Z\" fill=\"#000000\" fill-rule=\"evenodd\" fill-opacity=\"1\" /><path clip-path=\"url(#clip220)\" d=\"M 0 0 M1294.62 845.192 L1294.62 872.576 L1287.16 872.576 L1287.16 845.435 Q1287.16 838.994 1284.65 835.794 Q1282.14 832.594 1277.12 832.594 Q1271.08 832.594 1267.6 836.442 Q1264.11 840.29 1264.11 846.934 L1264.11 872.576 L1256.62 872.576 L1256.62 809.544 L1264.11 809.544 L1264.11 834.254 Q1266.79 830.163 1270.39 828.138 Q1274.04 826.112 1278.78 826.112 Q1286.6 826.112 1290.61 830.973 Q1294.62 835.794 1294.62 845.192 Z\" fill=\"#000000\" fill-rule=\"evenodd\" fill-opacity=\"1\" /><path clip-path=\"url(#clip220)\" d=\"M 0 0 M1320.02 832.432 Q1314.02 832.432 1310.54 837.131 Q1307.05 841.789 1307.05 849.931 Q1307.05 858.074 1310.5 862.773 Q1313.98 867.431 1320.02 867.431 Q1325.97 867.431 1329.45 862.732 Q1332.94 858.033 1332.94 849.931 Q1332.94 841.87 1329.45 837.171 Q1325.97 832.432 1320.02 832.432 M1320.02 826.112 Q1329.74 826.112 1335.29 832.432 Q1340.84 838.751 1340.84 849.931 Q1340.84 861.071 1335.29 867.431 Q1329.74 873.751 1320.02 873.751 Q1310.25 873.751 1304.7 867.431 Q1299.19 861.071 1299.19 849.931 Q1299.19 838.751 1304.7 832.432 Q1310.25 826.112 1320.02 826.112 Z\" fill=\"#000000\" fill-rule=\"evenodd\" fill-opacity=\"1\" /><path clip-path=\"url(#clip220)\" d=\"M 0 0 M1378.51 834.092 L1378.51 809.544 L1385.96 809.544 L1385.96 872.576 L1378.51 872.576 L1378.51 865.77 Q1376.16 869.821 1372.56 871.806 Q1368.99 873.751 1363.97 873.751 Q1355.74 873.751 1350.56 867.188 Q1345.41 860.626 1345.41 849.931 Q1345.41 839.237 1350.56 832.675 Q1355.74 826.112 1363.97 826.112 Q1368.99 826.112 1372.56 828.097 Q1376.16 830.042 1378.51 834.092 M1353.11 849.931 Q1353.11 858.155 1356.47 862.854 Q1359.88 867.512 1365.79 867.512 Q1371.7 867.512 1375.11 862.854 Q1378.51 858.155 1378.51 849.931 Q1378.51 841.708 1375.11 837.05 Q1371.7 832.351 1365.79 832.351 Q1359.88 832.351 1356.47 837.05 Q1353.11 841.708 1353.11 849.931 Z\" fill=\"#000000\" fill-rule=\"evenodd\" fill-opacity=\"1\" /><path clip-path=\"url(#clip220)\" d=\"M 0 0 M1443.69 819.226 L1423.03 851.511 L1443.69 851.511 L1443.69 819.226 M1441.54 812.096 L1451.83 812.096 L1451.83 851.511 L1460.46 851.511 L1460.46 858.317 L1451.83 858.317 L1451.83 872.576 L1443.69 872.576 L1443.69 858.317 L1416.39 858.317 L1416.39 850.418 L1441.54 812.096 Z\" fill=\"#000000\" fill-rule=\"evenodd\" fill-opacity=\"1\" /><polyline clip-path=\"url(#clip226)\" style=\"stroke:#009af9; stroke-width:4; stroke-opacity:1; fill:none\" points=\"\n",
       "  1030.48,939.405 1031.3,947.963 1032.12,957.638 1032.95,968.962 1033.77,982.545 1034.6,999.26 1035.42,1021.03 1036.25,1052.11 1037.07,1107.76 1037.9,1166.99 \n",
       "  1038.72,1166.99 1039.54,1082.81 1040.37,1090.62 1041.19,1099.8 1042.02,1109.97 1042.84,1122.08 1043.67,1136.14 1044.49,1152.85 1045.32,1172.19 1046.14,1191.95 \n",
       "  1046.96,1202.09 1047.79,1195.04 1048.61,1181.55 1049.44,1169.82 1050.26,1161.11 1051.09,1155.28 1051.91,1151.82 1052.73,1150.48 1053.56,1150.72 1054.38,1152.6 \n",
       "  1055.21,1155.93 1056.03,1160.61 1056.86,1166.54 1057.68,1173.6 1058.51,1181.42 1059.33,1189.36 1060.15,1196.38 1060.98,1201.07 1061.8,1202.46 1062.63,1200.83 \n",
       "  1063.45,1197.42 1064.28,1193.67 1065.1,1190.27 1065.93,1187.66 1066.75,1186 1067.57,1185.62 1068.4,1185.94 1069.22,1187.37 1070.05,1189.52 1070.87,1192.23 \n",
       "  1071.7,1194.99 1072.52,1197.87 1073.35,1200.23 1074.17,1201.95 1074.99,1202.8 1075.82,1202.84 1076.64,1202.26 1077.47,1201.33 1078.29,1200.37 1079.12,1199.52 \n",
       "  1079.94,1198.98 1080.77,1198.8 1081.59,1198.97 1082.41,1199.47 1083.24,1200.14 1084.06,1200.95 1084.89,1201.77 1085.71,1202.49 1086.54,1203.01 1087.36,1203.32 \n",
       "  1088.19,1203.38 1089.01,1203.31 1089.83,1203.12 1090.66,1202.89 1091.48,1202.7 1092.31,1202.59 1093.13,1202.57 1093.96,1202.66 1094.78,1202.8 1095.6,1203.06 \n",
       "  1096.43,1203.3 1097.25,1203.53 1098.08,1203.71 1098.9,1203.83 1099.73,1203.9 1100.55,1203.91 1101.38,1203.9 1102.2,1203.87 1103.02,1203.85 1103.85,1203.84 \n",
       "  1104.67,1203.86 1105.5,1203.91 1106.32,1204 1107.15,1204.09 1107.97,1204.18 1108.8,1204.25 1109.62,1204.34 1110.44,1204.4 1111.27,1204.44 1112.09,1204.47 \n",
       "  1112.92,1204.49 1113.74,1204.51 1114.57,1204.54 1115.39,1204.57 1116.22,1204.62 1117.04,1204.67 1117.86,1204.73 1118.69,1204.78 1119.51,1204.84 1120.34,1204.89 \n",
       "  1121.16,1204.94 1121.99,1204.98 1122.81,1205.02 1123.64,1205.06 1124.46,1205.08 1125.28,1205.14 1126.11,1205.18 1126.93,1205.22 1127.76,1205.27 1128.58,1205.32 \n",
       "  1129.41,1205.37 1130.23,1205.42 1131.06,1205.44 1131.88,1205.51 1132.7,1205.56 1133.53,1205.6 1134.35,1205.64 1135.18,1205.68 1136,1205.73 1136.83,1205.76 \n",
       "  1137.65,1205.82 1138.47,1205.86 1139.3,1205.92 1140.12,1205.97 1140.95,1206.02 1141.77,1206.06 1142.6,1206.11 1143.42,1206.16 1144.25,1206.19 1145.07,1206.24 \n",
       "  1145.89,1206.31 1146.72,1206.35 1147.54,1206.4 1148.37,1206.45 1149.19,1206.5 1150.02,1206.54 1150.84,1206.6 1151.67,1206.64 1152.49,1206.68 1153.31,1206.74 \n",
       "  1154.14,1206.79 1154.96,1206.85 1155.79,1206.89 1156.61,1206.95 1157.44,1207 1158.26,1207.05 1159.09,1207.1 1159.91,1207.15 1160.73,1207.19 1161.56,1207.25 \n",
       "  1162.38,1207.3 1163.21,1207.33 1164.03,1207.41 1164.86,1207.46 1165.68,1207.51 1166.51,1207.56 1167.33,1207.62 1168.15,1207.67 1168.98,1207.72 1169.8,1207.78 \n",
       "  1170.63,1207.83 1171.45,1207.87 1172.28,1207.94 1173.1,1207.99 1173.92,1208.02 1174.75,1208.1 1175.57,1208.15 1176.4,1208.21 1177.22,1208.26 1178.05,1208.32 \n",
       "  1178.87,1208.37 1179.7,1208.43 1180.52,1208.49 1181.34,1208.54 1182.17,1208.6 1182.99,1208.65 1183.82,1208.71 1184.64,1208.76 1185.47,1208.82 1186.29,1208.88 \n",
       "  1187.12,1208.91 1187.94,1208.98 1188.76,1209.05 1189.59,1209.1 1190.41,1209.16 1191.24,1209.22 1192.06,1209.28 1192.89,1209.33 1193.71,1209.39 1194.54,1209.44 \n",
       "  1195.36,1209.51 1196.18,1209.56 1197.01,1209.62 1197.83,1209.66 1198.66,1209.74 1199.48,1209.8 1200.31,1209.88 1201.13,1209.91 1201.96,1209.97 1202.78,1210.04 \n",
       "  1203.6,1210.09 1204.43,1210.14 1205.25,1210.21 1206.08,1210.27 1206.9,1210.34 1207.73,1210.39 1208.55,1210.45 1209.38,1210.52 1210.2,1210.57 1211.02,1210.64 \n",
       "  1211.85,1210.69 1212.67,1210.76 1213.5,1210.82 1214.32,1210.86 1215.15,1210.94 1215.97,1211 1216.79,1211.07 1217.62,1211.13 1218.44,1211.19 1219.27,1211.26 \n",
       "  1220.09,1211.32 1220.92,1211.37 1221.74,1211.42 1222.57,1211.5 1223.39,1211.57 1224.21,1211.63 1225.04,1211.69 1225.86,1211.75 1226.69,1211.82 1227.51,1211.89 \n",
       "  1228.34,1211.94 1229.16,1212.01 1229.99,1212.06 1230.81,1212.14 1231.63,1212.2 1232.46,1212.26 1233.28,1212.33 1234.11,1212.39 1234.93,1212.46 1235.76,1212.53 \n",
       "  1236.58,1212.6 1237.41,1212.66 1238.23,1212.72 1239.05,1212.78 1239.88,1212.85 1240.7,1212.91 1241.53,1212.99 1242.35,1213.05 1243.18,1213.12 1244,1213.18 \n",
       "  1244.83,1213.25 1245.65,1213.32 1246.47,1213.38 1247.3,1213.45 1248.12,1213.52 1248.95,1213.59 1249.77,1213.65 1250.6,1213.72 1251.42,1213.79 1252.24,1213.86 \n",
       "  1253.07,1213.92 1253.89,1213.99 1254.72,1214.06 1255.54,1214.13 1256.37,1214.2 1257.19,1214.27 1258.02,1214.34 1258.84,1214.4 1259.66,1214.48 1260.49,1214.55 \n",
       "  1261.31,1214.61 1262.14,1214.68 1262.96,1214.75 1263.79,1214.82 1264.61,1214.9 1265.44,1214.96 1266.26,1215.03 1267.08,1215.11 1267.91,1215.17 1268.73,1215.24 \n",
       "  1269.56,1215.31 1270.38,1215.39 1271.21,1215.46 1272.03,1215.53 1272.86,1215.6 1273.68,1215.67 1274.5,1215.75 1275.33,1215.81 1276.15,1215.89 1276.98,1215.97 \n",
       "  1277.8,1216.03 1278.63,1216.1 1279.45,1216.18 1280.28,1216.25 1281.1,1216.32 1281.92,1216.39 1282.75,1216.47 1283.57,1216.55 1284.4,1216.62 1285.22,1216.69 \n",
       "  1286.05,1216.76 1286.87,1216.84 1287.7,1216.91 1288.52,1216.98 1289.34,1217.06 1290.17,1217.13 1290.99,1217.21 1291.82,1217.28 1292.64,1217.36 1293.47,1217.46 \n",
       "  1294.29,1217.5 1295.11,1217.58 1295.94,1217.66 1296.76,1217.74 1297.59,1217.8 1298.41,1217.88 1299.24,1217.96 1300.06,1218.04 1300.89,1218.11 1301.71,1218.19 \n",
       "  1302.53,1218.26 1303.36,1218.34 1304.18,1218.41 1305.01,1218.5 1305.83,1218.57 1306.66,1218.64 1307.48,1218.73 1308.31,1218.8 1309.13,1218.88 1309.95,1218.96 \n",
       "  1310.78,1219.04 1311.6,1219.11 1312.43,1219.19 1313.25,1219.26 1314.08,1219.34 1314.9,1219.43 1315.73,1219.5 1316.55,1219.58 1317.37,1219.66 1318.2,1219.74 \n",
       "  1319.02,1219.82 1319.85,1219.89 1320.67,1219.97 1321.5,1220.06 1322.32,1220.12 1323.15,1220.21 1323.97,1220.3 1324.79,1220.38 1325.62,1220.45 1326.44,1220.54 \n",
       "  1327.27,1220.61 1328.09,1220.7 1328.92,1220.78 1329.74,1220.85 1330.56,1220.94 1331.39,1221.01 1332.21,1221.1 1333.04,1221.18 1333.86,1221.26 1334.69,1221.35 \n",
       "  1335.51,1221.43 1336.34,1221.51 1337.16,1221.59 1337.98,1221.67 1338.81,1221.75 1339.63,1221.83 1340.46,1221.92 1341.28,1222 1342.11,1222.08 1342.93,1222.17 \n",
       "  1343.76,1222.25 1344.58,1222.33 1345.4,1222.41 1346.23,1222.5 1347.05,1222.58 1347.88,1222.66 1348.7,1222.74 1349.53,1222.84 1350.35,1222.92 1351.18,1223 \n",
       "  1352,1223.09 1352.82,1223.17 1353.65,1223.25 1354.47,1223.32 1355.3,1223.42 1356.12,1223.5 1356.95,1223.6 1357.77,1223.67 1358.6,1223.77 1359.42,1223.85 \n",
       "  1360.24,1223.93 1361.07,1224.01 1361.89,1224.1 1362.72,1224.19 1363.54,1224.28 1364.37,1224.36 1365.19,1224.45 1366.02,1224.53 1366.84,1224.62 1367.66,1224.71 \n",
       "  1368.49,1224.79 1369.31,1224.87 1370.14,1224.97 1370.96,1225.05 1371.79,1225.14 1372.61,1225.23 1373.43,1225.32 1374.26,1225.4 1375.08,1225.49 1375.91,1225.58 \n",
       "  1376.73,1225.67 1377.56,1225.75 1378.38,1225.84 1379.21,1225.93 1380.03,1226.02 1380.85,1226.11 1381.68,1226.19 1382.5,1226.29 1383.33,1226.38 1384.15,1226.46 \n",
       "  1384.98,1226.55 1385.8,1226.64 1386.63,1226.73 1387.45,1226.82 1388.27,1226.91 1389.1,1227 1389.92,1227.09 1390.75,1227.18 1391.57,1227.27 1392.4,1227.36 \n",
       "  1393.22,1227.45 1394.05,1227.55 1394.87,1227.63 1395.69,1227.72 1396.52,1227.82 1397.34,1227.91 1398.17,1227.99 1398.99,1228.09 1399.82,1228.18 1400.64,1228.27 \n",
       "  1401.47,1228.36 1402.29,1228.46 1403.11,1228.55 1403.94,1228.64 1404.76,1228.74 1405.59,1228.82 1406.41,1228.92 1407.24,1229.02 1408.06,1229.1 1408.88,1229.2 \n",
       "  1409.71,1229.29 1410.53,1229.38 1411.36,1229.48 1412.18,1229.57 1413.01,1229.66 1413.83,1229.75 1414.66,1229.85 1415.48,1229.94 1416.3,1230.04 1417.13,1230.13 \n",
       "  1417.95,1230.22 1418.78,1230.32 1419.6,1230.42 1420.43,1230.51 1421.25,1230.6 1422.08,1230.7 1422.9,1230.79 1423.72,1230.89 1424.55,1230.98 1425.37,1231.08 \n",
       "  1426.2,1231.18 1427.02,1231.27 1427.85,1231.36 1428.67,1231.46 1429.5,1231.56 1430.32,1231.65 1431.14,1231.75 1431.97,1231.85 1432.79,1231.94 1433.62,1232.04 \n",
       "  1434.44,1232.14 1435.27,1232.23 1436.09,1232.33 1436.92,1232.43 1437.74,1232.52 1438.56,1232.62 1439.39,1232.72 1440.21,1232.82 1441.04,1232.92 1441.86,1233.02 \n",
       "  1442.69,1233.12 1443.51,1233.21 1444.34,1233.31 1445.16,1233.42 1445.98,1233.51 1446.81,1233.6 1447.63,1233.7 1448.46,1233.8 1449.28,1233.91 1450.11,1234 \n",
       "  1450.93,1234.1 1451.75,1234.2 1452.58,1234.3 1453.4,1234.4 1454.23,1234.5 1455.05,1234.6 1455.88,1234.7 1456.7,1234.8 1457.53,1234.9 1458.35,1235 \n",
       "  1459.17,1235.1 1460,1235.2 1460.82,1235.31 1461.65,1235.41 1462.47,1235.51 1463.3,1235.6 1464.12,1235.7 1464.95,1235.82 1465.77,1235.91 1466.59,1236.01 \n",
       "  1467.42,1236.11 1468.24,1236.21 1469.07,1236.32 1469.89,1236.42 1470.72,1236.52 1471.54,1236.62 1472.37,1236.73 1473.19,1236.83 1474.01,1236.93 1474.84,1237.03 \n",
       "  1475.66,1237.14 1476.49,1237.24 1477.31,1237.34 1478.14,1237.45 1478.96,1237.55 1479.79,1237.65 1480.61,1237.76 1481.43,1237.86 1482.26,1237.97 1483.08,1238.07 \n",
       "  1483.91,1238.17 1484.73,1238.28 1485.56,1238.38 1486.38,1238.49 1487.21,1238.59 1488.03,1238.7 1488.85,1238.8 1489.68,1238.91 1490.5,1239.02 1491.33,1239.12 \n",
       "  1492.15,1239.22 1492.98,1239.33 1493.8,1239.44 1494.62,1239.54 1495.45,1239.65 1496.27,1239.76 1497.1,1239.86 1497.92,1239.97 1498.75,1240.08 1499.57,1240.18 \n",
       "  1500.4,1240.29 1501.22,1240.4 1502.04,1240.5 1502.87,1240.61 1503.69,1240.72 1504.52,1240.83 1505.34,1240.93 1506.17,1241.04 1506.99,1241.15 1507.82,1241.25 \n",
       "  1508.64,1241.37 1509.46,1241.47 1510.29,1241.58 1511.11,1241.69 1511.94,1241.8 1512.76,1241.9 1513.59,1242.01 1514.41,1242.13 1515.24,1242.23 1516.06,1242.34 \n",
       "  1516.88,1242.45 1517.71,1242.56 1518.53,1242.67 1519.36,1242.78 1520.18,1242.89 1521.01,1243 1521.83,1243.11 1522.66,1243.22 1523.48,1243.33 1524.3,1243.44 \n",
       "  1525.13,1243.55 1525.95,1243.67 1526.78,1243.77 1527.6,1243.88 1528.43,1244 1529.25,1244.11 1530.07,1244.22 1530.9,1244.33 1531.72,1244.44 1532.55,1244.55 \n",
       "  1533.37,1244.66 1534.2,1244.66 1535.02,1244.77 1535.85,1245.23 1536.67,1364.91 1537.49,1401.95 1538.32,1403.38 1539.14,1413.38 1539.97,1452.89 1540.79,1467.93 \n",
       "  1541.62,1470.46 1542.44,1470.47 1543.27,1470.48 1544.09,1470.49 1544.91,1470.51 1545.74,1470.51 1546.56,1470.51 \n",
       "  \"/>\n",
       "<path clip-path=\"url(#clip220)\" d=\"\n",
       "M1199.03 1127.95 L1490.05 1127.95 L1490.05 1006.99 L1199.03 1006.99  Z\n",
       "  \" fill=\"#ffffff\" fill-rule=\"evenodd\" fill-opacity=\"1\"/>\n",
       "<polyline clip-path=\"url(#clip220)\" style=\"stroke:#000000; stroke-width:4; stroke-opacity:1; fill:none\" points=\"\n",
       "  1199.03,1127.95 1490.05,1127.95 1490.05,1006.99 1199.03,1006.99 1199.03,1127.95 \n",
       "  \"/>\n",
       "<polyline clip-path=\"url(#clip220)\" style=\"stroke:#009af9; stroke-width:4; stroke-opacity:1; fill:none\" points=\"\n",
       "  1223.03,1067.47 1367.03,1067.47 \n",
       "  \"/>\n",
       "<path clip-path=\"url(#clip220)\" d=\"M 0 0 M1404.87 1087.16 Q1403.06 1091.79 1401.35 1093.2 Q1399.64 1094.61 1396.77 1094.61 L1393.37 1094.61 L1393.37 1091.05 L1395.87 1091.05 Q1397.62 1091.05 1398.6 1090.22 Q1399.57 1089.38 1400.75 1086.28 L1401.51 1084.34 L1391.03 1058.83 L1395.54 1058.83 L1403.64 1079.1 L1411.75 1058.83 L1416.26 1058.83 L1404.87 1087.16 Z\" fill=\"#000000\" fill-rule=\"evenodd\" fill-opacity=\"1\" /><path clip-path=\"url(#clip220)\" d=\"M 0 0 M1422.14 1080.82 L1429.78 1080.82 L1429.78 1054.45 L1421.47 1056.12 L1421.47 1051.86 L1429.73 1050.19 L1434.41 1050.19 L1434.41 1080.82 L1442.05 1080.82 L1442.05 1084.75 L1422.14 1084.75 L1422.14 1080.82 Z\" fill=\"#000000\" fill-rule=\"evenodd\" fill-opacity=\"1\" /></svg>\n"
      ]
     },
     "execution_count": 63,
     "metadata": {},
     "output_type": "execute_result"
    }
   ],
   "source": [
    "A=plot(losses_1b, title=\"Method 1\",yaxis=:log)\n",
    "B=plot(losses_2b, title=\"Method 2\",yaxis=:log)\n",
    "C=plot(losses_3b, title=\"Method 3\",yaxis=:log)\n",
    "D=plot(losses_4b, title=\"Method 4\",yaxis=:log)\n",
    "E=plot(losses_5b, title=\"Method 4\",yaxis=:log)\n",
    "plot(A,B,C,D,E,layout=5)"
   ]
  },
  {
   "cell_type": "code",
   "execution_count": 78,
   "metadata": {},
   "outputs": [
    {
     "name": "stdout",
     "output_type": "stream",
     "text": [
      "\"Albania\""
     ]
    },
    {
     "name": "stderr",
     "output_type": "stream",
     "text": [
      "\u001b[32mloss: 0.0454: 100%|█████████████████████████████████████████| Time: 0:00:00\u001b[39m\n",
      "\u001b[32mloss: 0.000147:  42%|██████████████████                       |  ETA: 0:00:04\u001b[39m"
     ]
    },
    {
     "name": "stdout",
     "output_type": "stream",
     "text": [
      "0.0001393591646248809"
     ]
    },
    {
     "name": "stderr",
     "output_type": "stream",
     "text": [
      "\u001b[32mloss: 0.000136:  44%|███████████████████                      |  ETA: 0:00:04\u001b[39m"
     ]
    },
    {
     "name": "stdout",
     "output_type": "stream",
     "text": [
      "\n"
     ]
    },
    {
     "name": "stderr",
     "output_type": "stream",
     "text": [
      "\u001b[32mloss: 3.36e-05:  93%|███████████████████████████████████████  |  ETA: 0:00:00\u001b[39m"
     ]
    },
    {
     "name": "stdout",
     "output_type": "stream",
     "text": [
      "3.301317387298517e-5\n"
     ]
    },
    {
     "name": "stderr",
     "output_type": "stream",
     "text": [
      "\u001b[32mloss: 2.62e-05: 100%|█████████████████████████████████████████| Time: 0:00:06\u001b[39m\n",
      "\u001b[32mloss: 6.71e-07:  34%|██████████████                           |  ETA: 0:00:04\u001b[39m"
     ]
    },
    {
     "name": "stdout",
     "output_type": "stream",
     "text": [
      "3.56019883393109e-7\n"
     ]
    },
    {
     "name": "stderr",
     "output_type": "stream",
     "text": [
      "\u001b[32mloss: 3.17e-07:  84%|███████████████████████████████████      |  ETA: 0:00:01\u001b[39m"
     ]
    },
    {
     "name": "stdout",
     "output_type": "stream",
     "text": [
      "3.221305965852959e-7"
     ]
    },
    {
     "name": "stderr",
     "output_type": "stream",
     "text": [
      "\u001b[32mloss: 3.15e-07:  86%|████████████████████████████████████     |  ETA: 0:00:01\u001b[39m"
     ]
    },
    {
     "name": "stdout",
     "output_type": "stream",
     "text": [
      "\n"
     ]
    },
    {
     "name": "stderr",
     "output_type": "stream",
     "text": [
      "\u001b[32mloss: 3.12e-07: 100%|█████████████████████████████████████████| Time: 0:00:05\u001b[39m\n",
      "\u001b[32mloss: 3.22e-07:  30%|█████████████                            |  ETA: 0:00:03\u001b[39m"
     ]
    },
    {
     "name": "stdout",
     "output_type": "stream",
     "text": [
      "3.2235710399117155e-7\n"
     ]
    },
    {
     "name": "stderr",
     "output_type": "stream",
     "text": [
      "\u001b[32mloss: 3.16e-07:  77%|████████████████████████████████         |  ETA: 0:00:01\u001b[39m"
     ]
    },
    {
     "name": "stdout",
     "output_type": "stream",
     "text": [
      "3.147010718223507e-7"
     ]
    },
    {
     "name": "stderr",
     "output_type": "stream",
     "text": [
      "\u001b[32mloss: 3.09e-07:  80%|█████████████████████████████████        |  ETA: 0:00:01\u001b[39m"
     ]
    },
    {
     "name": "stdout",
     "output_type": "stream",
     "text": [
      "\n"
     ]
    },
    {
     "name": "stderr",
     "output_type": "stream",
     "text": [
      "\u001b[32mloss: 3.15e-07: 100%|█████████████████████████████████████████| Time: 0:00:05\u001b[39m\n"
     ]
    },
    {
     "name": "stdout",
     "output_type": "stream",
     "text": [
      "\"Albania\""
     ]
    },
    {
     "name": "stderr",
     "output_type": "stream",
     "text": [
      "\u001b[32mloss: 1.12: 100%|█████████████████████████████████████████| Time: 0:00:00\u001b[39m\n",
      "\u001b[32mloss: 0.00527:  43%|██████████████████                       |  ETA: 0:00:05\u001b[39m"
     ]
    },
    {
     "name": "stdout",
     "output_type": "stream",
     "text": [
      "0.0053723175022715635"
     ]
    },
    {
     "name": "stderr",
     "output_type": "stream",
     "text": [
      "\u001b[32mloss: 0.00531:  45%|███████████████████                      |  ETA: 0:00:05\u001b[39m"
     ]
    },
    {
     "name": "stdout",
     "output_type": "stream",
     "text": [
      "\n"
     ]
    },
    {
     "name": "stderr",
     "output_type": "stream",
     "text": [
      "\u001b[32mloss: 0.00402:  92%|██████████████████████████████████████   |  ETA: 0:00:01\u001b[39m"
     ]
    },
    {
     "name": "stdout",
     "output_type": "stream",
     "text": [
      "0.004000541771527711"
     ]
    },
    {
     "name": "stderr",
     "output_type": "stream",
     "text": [
      "\u001b[32mloss: 0.00398:  94%|███████████████████████████████████████  |  ETA: 0:00:00\u001b[39m"
     ]
    },
    {
     "name": "stdout",
     "output_type": "stream",
     "text": [
      "\n"
     ]
    },
    {
     "name": "stderr",
     "output_type": "stream",
     "text": [
      "\u001b[32mloss: 0.00386: 100%|█████████████████████████████████████████| Time: 0:00:07\u001b[39m\n",
      "\u001b[32mloss: 2.31e-05:  25%|███████████                              |  ETA: 0:00:06\u001b[39m"
     ]
    },
    {
     "name": "stdout",
     "output_type": "stream",
     "text": [
      "5.122759783212025e-6"
     ]
    },
    {
     "name": "stderr",
     "output_type": "stream",
     "text": [
      "\u001b[32mloss: 1.15e-05:  26%|███████████                              |  ETA: 0:00:06\u001b[39m"
     ]
    },
    {
     "name": "stdout",
     "output_type": "stream",
     "text": [
      "\n"
     ]
    },
    {
     "name": "stderr",
     "output_type": "stream",
     "text": [
      "\u001b[32mloss: 4.36e-06:  74%|███████████████████████████████          |  ETA: 0:00:02\u001b[39m"
     ]
    },
    {
     "name": "stdout",
     "output_type": "stream",
     "text": [
      "4.248608675458889e-6"
     ]
    },
    {
     "name": "stderr",
     "output_type": "stream",
     "text": [
      "\u001b[32mloss: 4.24e-06:  76%|████████████████████████████████         |  ETA: 0:00:02\u001b[39m"
     ]
    },
    {
     "name": "stdout",
     "output_type": "stream",
     "text": [
      "\n"
     ]
    },
    {
     "name": "stderr",
     "output_type": "stream",
     "text": [
      "\u001b[32mloss: 4.24e-06: 100%|█████████████████████████████████████████| Time: 0:00:06\u001b[39m\n",
      "\u001b[32mloss: 4.31e-06:  20%|█████████                                |  ETA: 0:00:05\u001b[39m"
     ]
    },
    {
     "name": "stdout",
     "output_type": "stream",
     "text": [
      "4.307874838544598e-6\n"
     ]
    },
    {
     "name": "stderr",
     "output_type": "stream",
     "text": [
      "\u001b[32mloss: 4.3e-06:  70%|█████████████████████████████            |  ETA: 0:00:02\u001b[39m"
     ]
    },
    {
     "name": "stdout",
     "output_type": "stream",
     "text": [
      "4.216376200140135e-6"
     ]
    },
    {
     "name": "stderr",
     "output_type": "stream",
     "text": [
      "\u001b[32mloss: 4.28e-06:  71%|██████████████████████████████           |  ETA: 0:00:02\u001b[39m"
     ]
    },
    {
     "name": "stdout",
     "output_type": "stream",
     "text": [
      "\n"
     ]
    },
    {
     "name": "stderr",
     "output_type": "stream",
     "text": [
      "\u001b[32mloss: 4.24e-06: 100%|█████████████████████████████████████████| Time: 0:00:06\u001b[39m\n"
     ]
    },
    {
     "data": {
      "text/plain": [
       "4-element Array{Array{Any,1},1}:\n",
       " [-0.19281225f0, 0.13942808f0, -0.37756813f0, 0.4784352f0, 0.3635256f0, -0.27084616f0, 0.0072064274f0, -0.33477587f0, -0.15904486f0, -0.32892057f0  …  0.019724805f0, -0.11793018f0, 0.0124873975f0, -0.5044462f0, 0.19192557f0, -0.02036811f0, -0.21512805f0, -0.20450555f0, 0.42743534f0, 0.0144393705f0]\n",
       " [0.008234953f0, 0.00831049f0, 0.008468276f0, 0.009155292f0, 0.0092102345f0, 0.009064651f0, 0.009095944f0, 0.008949802f0, 0.008808522f0, 0.009037561f0  …  0.0088597145f0, 0.009108494f0, 0.009778727f0, 0.010643251f0, 0.011745035f0, 0.013245297f0, 0.015134539f0, 0.017329587f0, 0.01973467f0, 0.022286084f0]\n",
       " [35.19600350709695, 25.598363308971013, 17.533034429878857, 11.039917406608422, 6.120236824673307, 2.730458386467607, 0.7623077180320214, 0.028624985474468637, 0.26024603897980947, 1.1179950618706609  …  4.242266696139481e-6, 4.101343249325489e-6, 4.26411801787702e-6, 4.261785480930117e-6, 4.260223311801755e-6, 4.241359922588085e-6, 4.241221513404063e-6, 4.229892792431251e-6, 4.17936397111863e-6, 4.17936397111863e-6]\n",
       " [0.008234952596652346, 0.008338259561598636, 0.008644835292252734, 0.008862955637476543, 0.009036562347557718, 0.009207749233368796, 0.00960282022303584, 0.009131817950007694, 0.008708158512345415, 0.008655561562403779  …  0.009324131992168892, 0.009668271656253105, 0.010132528704949484, 0.01054728093248648, 0.011484783187519458, 0.012592190730217263, 0.013890988674507002, 0.017690448139477417, 0.019942649651175676, 0.02283517762171871]"
      ]
     },
     "execution_count": 78,
     "metadata": {},
     "output_type": "execute_result"
    }
   ],
   "source": [
    "para,pred_value_mse, mses1,kdata=train_eqn1_addition_mse(country1,nnp,trainer4)\n",
    "para,pred_value_abs, abs1,kdata=train_eqn1_addition_abs(country1,nnp,trainer4)"
   ]
  },
  {
   "cell_type": "code",
   "execution_count": 85,
   "metadata": {},
   "outputs": [
    {
     "name": "stdout",
     "output_type": "stream",
     "text": [
      "\"Australia"
     ]
    },
    {
     "name": "stderr",
     "output_type": "stream",
     "text": [
      "\u001b[32mloss: 0.0301:  30%|█████████████                            |  ETA: 0:00:00\u001b[39m"
     ]
    },
    {
     "name": "stdout",
     "output_type": "stream",
     "text": [
      "\""
     ]
    },
    {
     "name": "stderr",
     "output_type": "stream",
     "text": [
      "\u001b[32mloss: 0.029: 100%|█████████████████████████████████████████| Time: 0:00:00\u001b[39m\n",
      "\u001b[32mloss: 0.000179:  44%|██████████████████                       |  ETA: 0:00:04\u001b[39m"
     ]
    },
    {
     "name": "stdout",
     "output_type": "stream",
     "text": [
      "0.00017087861844228562"
     ]
    },
    {
     "name": "stderr",
     "output_type": "stream",
     "text": [
      "\u001b[32mloss: 0.000149:  46%|███████████████████                      |  ETA: 0:00:04\u001b[39m"
     ]
    },
    {
     "name": "stdout",
     "output_type": "stream",
     "text": [
      "\n"
     ]
    },
    {
     "name": "stderr",
     "output_type": "stream",
     "text": [
      "\u001b[32mloss: 3.24e-05:  92%|██████████████████████████████████████   |  ETA: 0:00:01\u001b[39m"
     ]
    },
    {
     "name": "stdout",
     "output_type": "stream",
     "text": [
      "3.224286497212299e-5"
     ]
    },
    {
     "name": "stderr",
     "output_type": "stream",
     "text": [
      "\u001b[32mloss: 3.22e-05:  94%|███████████████████████████████████████  |  ETA: 0:00:00\u001b[39m"
     ]
    },
    {
     "name": "stdout",
     "output_type": "stream",
     "text": [
      "\n"
     ]
    },
    {
     "name": "stderr",
     "output_type": "stream",
     "text": [
      "\u001b[32mloss: 3.18e-05: 100%|█████████████████████████████████████████| Time: 0:00:07\u001b[39m\n",
      "\u001b[32mloss: 7.18e-06:  22%|██████████                               |  ETA: 0:00:05\u001b[39m"
     ]
    },
    {
     "name": "stdout",
     "output_type": "stream",
     "text": [
      "6.4153243336609875e-6"
     ]
    },
    {
     "name": "stderr",
     "output_type": "stream",
     "text": [
      "\u001b[32mloss: 6.49e-06:  24%|██████████                               |  ETA: 0:00:05\u001b[39m"
     ]
    },
    {
     "name": "stdout",
     "output_type": "stream",
     "text": [
      "\n"
     ]
    },
    {
     "name": "stderr",
     "output_type": "stream",
     "text": [
      "\u001b[32mloss: 6.42e-06:  72%|██████████████████████████████           |  ETA: 0:00:02\u001b[39m"
     ]
    },
    {
     "name": "stdout",
     "output_type": "stream",
     "text": [
      "6.46329515761168e-6"
     ]
    },
    {
     "name": "stderr",
     "output_type": "stream",
     "text": [
      "\u001b[32mloss: 6.43e-06:  74%|███████████████████████████████          |  ETA: 0:00:02\u001b[39m"
     ]
    },
    {
     "name": "stdout",
     "output_type": "stream",
     "text": [
      "\n"
     ]
    },
    {
     "name": "stderr",
     "output_type": "stream",
     "text": [
      "\u001b[32mloss: 6.28e-06: 100%|█████████████████████████████████████████| Time: 0:00:06\u001b[39m\n",
      "\u001b[32mloss: 6.36e-06:  14%|██████                                   |  ETA: 0:00:06\u001b[39m"
     ]
    },
    {
     "name": "stdout",
     "output_type": "stream",
     "text": [
      "6.291181882545744e-6"
     ]
    },
    {
     "name": "stderr",
     "output_type": "stream",
     "text": [
      "\u001b[32mloss: 6.32e-06:  16%|███████                                  |  ETA: 0:00:06\u001b[39m"
     ]
    },
    {
     "name": "stdout",
     "output_type": "stream",
     "text": [
      "\n"
     ]
    },
    {
     "name": "stderr",
     "output_type": "stream",
     "text": [
      "\u001b[32mloss: 6.33e-06:  64%|███████████████████████████              |  ETA: 0:00:02\u001b[39m"
     ]
    },
    {
     "name": "stdout",
     "output_type": "stream",
     "text": [
      "6.325708700319458e-6\n"
     ]
    },
    {
     "name": "stderr",
     "output_type": "stream",
     "text": [
      "\u001b[32mloss: 6.27e-06: 100%|█████████████████████████████████████████| Time: 0:00:06\u001b[39m\n"
     ]
    },
    {
     "name": "stdout",
     "output_type": "stream",
     "text": [
      "\"Australia\""
     ]
    },
    {
     "name": "stderr",
     "output_type": "stream",
     "text": [
      "\u001b[32mloss: 0.781: 100%|█████████████████████████████████████████| Time: 0:00:00\u001b[39m\n",
      "\u001b[32mloss: 0.00221:  43%|██████████████████                       |  ETA: 0:00:05\u001b[39m"
     ]
    },
    {
     "name": "stdout",
     "output_type": "stream",
     "text": [
      "0.0020985769068969542\n"
     ]
    },
    {
     "name": "stderr",
     "output_type": "stream",
     "text": [
      "\u001b[32mloss: 0.000799:  93%|███████████████████████████████████████  |  ETA: 0:00:01\u001b[39m"
     ]
    },
    {
     "name": "stdout",
     "output_type": "stream",
     "text": [
      "0.0008040373789051575"
     ]
    },
    {
     "name": "stderr",
     "output_type": "stream",
     "text": [
      "\u001b[32mloss: 0.000798:  94%|███████████████████████████████████████  |  ETA: 0:00:00\u001b[39m"
     ]
    },
    {
     "name": "stdout",
     "output_type": "stream",
     "text": [
      "\n"
     ]
    },
    {
     "name": "stderr",
     "output_type": "stream",
     "text": [
      "\u001b[32mloss: 0.000786: 100%|█████████████████████████████████████████| Time: 0:00:08\u001b[39m\n",
      "\u001b[32mloss: 0.000186:  33%|██████████████                           |  ETA: 0:00:05\u001b[39m"
     ]
    },
    {
     "name": "stdout",
     "output_type": "stream",
     "text": [
      "0.00018874463057067483"
     ]
    },
    {
     "name": "stderr",
     "output_type": "stream",
     "text": [
      "\u001b[32mloss: 0.00019:  34%|███████████████                          |  ETA: 0:00:05\u001b[39m"
     ]
    },
    {
     "name": "stdout",
     "output_type": "stream",
     "text": [
      "\n"
     ]
    },
    {
     "name": "stderr",
     "output_type": "stream",
     "text": [
      "\u001b[32mloss: 0.000187:  84%|███████████████████████████████████      |  ETA: 0:00:01\u001b[39m"
     ]
    },
    {
     "name": "stdout",
     "output_type": "stream",
     "text": [
      "0.0001865655176224394\n"
     ]
    },
    {
     "name": "stderr",
     "output_type": "stream",
     "text": [
      "\u001b[32mloss: 0.000185: 100%|█████████████████████████████████████████| Time: 0:00:08\u001b[39m\n",
      "\u001b[32mloss: 0.000186:  28%|████████████                             |  ETA: 0:00:05\u001b[39m"
     ]
    },
    {
     "name": "stdout",
     "output_type": "stream",
     "text": [
      "0.00018589820993712445"
     ]
    },
    {
     "name": "stderr",
     "output_type": "stream",
     "text": [
      "\u001b[32mloss: 0.000186:  30%|█████████████                            |  ETA: 0:00:05\u001b[39m"
     ]
    },
    {
     "name": "stdout",
     "output_type": "stream",
     "text": [
      "\n"
     ]
    },
    {
     "name": "stderr",
     "output_type": "stream",
     "text": [
      "\u001b[32mloss: 0.000185:  78%|█████████████████████████████████        |  ETA: 0:00:02\u001b[39m"
     ]
    },
    {
     "name": "stdout",
     "output_type": "stream",
     "text": [
      "0.00018493236967675536"
     ]
    },
    {
     "name": "stderr",
     "output_type": "stream",
     "text": [
      "\u001b[32mloss: 0.000185:  80%|█████████████████████████████████        |  ETA: 0:00:02\u001b[39m"
     ]
    },
    {
     "name": "stdout",
     "output_type": "stream",
     "text": [
      "\n"
     ]
    },
    {
     "name": "stderr",
     "output_type": "stream",
     "text": [
      "\u001b[32mloss: 0.000184: 100%|█████████████████████████████████████████| Time: 0:00:09\u001b[39m\n"
     ]
    },
    {
     "data": {
      "text/plain": [
       "4-element Array{Array{Any,1},1}:\n",
       " [-0.46186158f0, 0.32589003f0, 0.04680675f0, -0.45192862f0, 0.14802253f0, 0.23669237f0, -0.16348347f0, 0.49934748f0, -0.1875269f0, -0.42771748f0  …  -0.45616013f0, -0.27784038f0, 0.47411245f0, -0.4296341f0, -0.5245251f0, -0.49673966f0, 0.26423404f0, -0.0020639303f0, 0.30228823f0, 0.012197154f0]\n",
       " [0.08835535f0, 0.091959156f0, 0.08832503f0, 0.09204133f0, 0.100104064f0, 0.10731321f0, 0.11157167f0, 0.11326516f0, 0.11411715f0, 0.11509674f0, 0.116458245f0, 0.11853103f0, 0.12133236f0, 0.12564477f0, 0.12949364f0, 0.13379192f0, 0.13923793f0, 0.14461076f0, 0.14961702f0, 0.15496942f0]\n",
       " [4.504925203710466, 2.9115202342537594, 1.695137739402011, 0.8522328221711435, 0.36035182366561447, 0.17358888928506486, 0.21811470808904732, 0.39742113709691906, 0.6112953270400153, 0.7808281344786994  …  0.00018443536492248624, 0.00018507655276681062, 0.0001859280530502357, 0.00018435375198721162, 0.00018436090845333407, 0.0001843789560419308, 0.00017432614206759685, 0.0001839075429400811, 0.0001832290823631028, 0.0001832290823631028]\n",
       " [0.08835534440381272, 0.08982970629865535, 0.09112125770259272, 0.09320397984958953, 0.09790240941617447, 0.10432458101344132, 0.1120159309635069, 0.11392274663369058, 0.11540564756991582, 0.11768070995113045, 0.12070517790759426, 0.11984833097150055, 0.11893770083963927, 0.11936849315068493, 0.12343657358223302, 0.13153862215553888, 0.14213541666666665, 0.1491411367075016, 0.15265330120481926, 0.15356378826105585]"
      ]
     },
     "execution_count": 85,
     "metadata": {},
     "output_type": "execute_result"
    }
   ],
   "source": [
    "para,pred_value_mse2, mses2,kdata2=train_eqn1_addition_mse(country2,nnp,trainer4)\n",
    "para,pred_value_abs2, abs_2,kdata2=train_eqn1_addition_abs(country2,nnp,trainer4)"
   ]
  },
  {
   "cell_type": "code",
   "execution_count": 86,
   "metadata": {},
   "outputs": [
    {
     "name": "stdout",
     "output_type": "stream",
     "text": [
      "\"Philippines\""
     ]
    },
    {
     "name": "stderr",
     "output_type": "stream",
     "text": [
      "\u001b[32mloss: 0.132: 100%|█████████████████████████████████████████| Time: 0:00:00\u001b[39m\n",
      "\u001b[32mloss: 0.000483:  43%|██████████████████                       |  ETA: 0:00:04\u001b[39m"
     ]
    },
    {
     "name": "stdout",
     "output_type": "stream",
     "text": [
      "0.00044238349154490864\n"
     ]
    },
    {
     "name": "stderr",
     "output_type": "stream",
     "text": [
      "\u001b[32mloss: 0.000155:  92%|██████████████████████████████████████   |  ETA: 0:00:01\u001b[39m"
     ]
    },
    {
     "name": "stdout",
     "output_type": "stream",
     "text": [
      "0.00015249967605049646\n"
     ]
    },
    {
     "name": "stderr",
     "output_type": "stream",
     "text": [
      "\u001b[32mloss: 0.000144: 100%|█████████████████████████████████████████| Time: 0:00:07\u001b[39m\n",
      "\u001b[32mloss: 2.13e-05:  16%|███████                                  |  ETA: 0:00:06\u001b[39m"
     ]
    },
    {
     "name": "stdout",
     "output_type": "stream",
     "text": [
      "1.9569483379358786e-5"
     ]
    },
    {
     "name": "stderr",
     "output_type": "stream",
     "text": [
      "\u001b[32mloss: 3.67e-06:  18%|████████                                 |  ETA: 0:00:05\u001b[39m"
     ]
    },
    {
     "name": "stdout",
     "output_type": "stream",
     "text": [
      "\n"
     ]
    },
    {
     "name": "stderr",
     "output_type": "stream",
     "text": [
      "\u001b[32mloss: 3.98e-07:  66%|████████████████████████████             |  ETA: 0:00:02\u001b[39m"
     ]
    },
    {
     "name": "stdout",
     "output_type": "stream",
     "text": [
      "3.9836292627237276e-7\n"
     ]
    },
    {
     "name": "stderr",
     "output_type": "stream",
     "text": []
    },
    {
     "name": "stderr",
     "output_type": "stream",
     "text": [
      "\u001b[32mloss: 3.97e-07: 100%|█████████████████████████████████████████| Time: 0:00:07\u001b[39m\n",
      "\u001b[32mloss: 2.63e-06:   2%|█                                        |  ETA: 0:00:07\u001b[39m"
     ]
    },
    {
     "name": "stdout",
     "output_type": "stream",
     "text": [
      "2.6259188202879664e-6\n"
     ]
    },
    {
     "name": "stderr",
     "output_type": "stream",
     "text": [
      "\u001b[32mloss: 2.35e-07:  51%|█████████████████████                    |  ETA: 0:00:03\u001b[39m"
     ]
    },
    {
     "name": "stdout",
     "output_type": "stream",
     "text": [
      "2.352665687366733e-7\n"
     ]
    },
    {
     "name": "stderr",
     "output_type": "stream",
     "text": [
      "\u001b[32mloss: 2.36e-07: 100%|█████████████████████████████████████████| Time: 0:00:05\u001b[39m\n"
     ]
    },
    {
     "name": "stdout",
     "output_type": "stream",
     "text": [
      "2.3221824995776453e-7\n",
      "\"Philippines\""
     ]
    },
    {
     "name": "stderr",
     "output_type": "stream",
     "text": [
      "\u001b[32mloss: 4.68: 100%|█████████████████████████████████████████| Time: 0:00:00\u001b[39m\n",
      "\u001b[32mloss: 0.0141:  45%|███████████████████                      |  ETA: 0:00:04\u001b[39m"
     ]
    },
    {
     "name": "stdout",
     "output_type": "stream",
     "text": [
      "0.01592711165494545\n"
     ]
    },
    {
     "name": "stderr",
     "output_type": "stream",
     "text": [
      "\u001b[32mloss: 0.00146:  94%|███████████████████████████████████████  |  ETA: 0:00:00\u001b[39m"
     ]
    },
    {
     "name": "stdout",
     "output_type": "stream",
     "text": [
      "0.0014624240478716768\n"
     ]
    },
    {
     "name": "stderr",
     "output_type": "stream",
     "text": [
      "\u001b[32mloss: 0.00143: 100%|█████████████████████████████████████████| Time: 0:00:07\u001b[39m\n",
      "\u001b[32mloss: 9.76e-05:  25%|███████████                              |  ETA: 0:00:05\u001b[39m"
     ]
    },
    {
     "name": "stdout",
     "output_type": "stream",
     "text": [
      "3.342914726771363e-5"
     ]
    },
    {
     "name": "stderr",
     "output_type": "stream",
     "text": [
      "\u001b[32mloss: 6.37e-05:  27%|████████████                             |  ETA: 0:00:05\u001b[39m"
     ]
    },
    {
     "name": "stdout",
     "output_type": "stream",
     "text": [
      "\n"
     ]
    },
    {
     "name": "stderr",
     "output_type": "stream",
     "text": [
      "\u001b[32mloss: 2.1e-05:  76%|████████████████████████████████         |  ETA: 0:00:02\u001b[39m"
     ]
    },
    {
     "name": "stdout",
     "output_type": "stream",
     "text": [
      "2.1033165003160566e-5\n"
     ]
    },
    {
     "name": "stderr",
     "output_type": "stream",
     "text": [
      "\u001b[32mloss: 2.08e-05: 100%|█████████████████████████████████████████| Time: 0:00:06\u001b[39m\n",
      "\u001b[32mloss: 2.1e-05:  24%|██████████                               |  ETA: 0:00:05\u001b[39m"
     ]
    },
    {
     "name": "stdout",
     "output_type": "stream",
     "text": [
      "2.105183132157285e-5"
     ]
    },
    {
     "name": "stderr",
     "output_type": "stream",
     "text": [
      "\u001b[32mloss: 2.14e-05:  26%|███████████                              |  ETA: 0:00:05\u001b[39m"
     ]
    },
    {
     "name": "stdout",
     "output_type": "stream",
     "text": [
      "\n"
     ]
    },
    {
     "name": "stderr",
     "output_type": "stream",
     "text": [
      "\u001b[32mloss: 2.09e-05:  72%|██████████████████████████████           |  ETA: 0:00:02\u001b[39m"
     ]
    },
    {
     "name": "stdout",
     "output_type": "stream",
     "text": [
      "2.0823851893675435e-5"
     ]
    },
    {
     "name": "stderr",
     "output_type": "stream",
     "text": [
      "\u001b[32mloss: 2.09e-05:  74%|███████████████████████████████          |  ETA: 0:00:02\u001b[39m"
     ]
    },
    {
     "name": "stdout",
     "output_type": "stream",
     "text": [
      "\n"
     ]
    },
    {
     "name": "stderr",
     "output_type": "stream",
     "text": [
      "\u001b[32mloss: 2.09e-05: 100%|█████████████████████████████████████████| Time: 0:00:06\u001b[39m\n"
     ]
    },
    {
     "data": {
      "text/plain": [
       "4-element Array{Array{Any,1},1}:\n",
       " [-0.38491258f0, 0.27317226f0, 0.40553597f0, -0.47695613f0, -0.022135638f0, 0.13727432f0, 0.37256122f0, 0.18269882f0, 0.42927796f0, 0.09988107f0  …  0.5326948f0, -0.27079928f0, 0.43903613f0, 0.2298256f0, -0.38415802f0, 0.19457076f0, 0.048969146f0, -0.45736468f0, -0.39370412f0, -0.007873809f0]\n",
       " [0.0036125162f0, 0.003949528f0, 0.0036010584f0, 0.0046998975f0, 0.0053737313f0, 0.0052459263f0, 0.004871306f0, 0.0046501f0, 0.004646125f0, 0.0049426802f0  …  0.010061788f0, 0.010521145f0, 0.010942066f0, 0.011273507f0, 0.011532015f0, 0.011713257f0, 0.011836596f0, 0.011890532f0, 0.011853074f0, 0.011708065f0]\n",
       " [56.193379984288825, 38.80240290372007, 24.818253736600962, 14.206049056486826, 6.853974328968625, 2.515888470234008, 0.7798085034113886, 1.0578248236159784, 2.616391544746439, 4.68300656334105  …  2.1003200621588463e-5, 2.0851996851346763e-5, 2.089152082606565e-5, 2.0734522424490775e-5, 2.0804798590531573e-5, 2.0946448708301068e-5, 2.0626372405441295e-5, 2.0768923107024063e-5, 2.0759868612457947e-5, 2.0759868612457947e-5]\n",
       " [0.003612516203616054, 0.0038719340063829905, 0.004152653382635102, 0.004422248444852435, 0.004757963703978881, 0.00505121785545194, 0.005121471302793537, 0.005201172021611408, 0.005061109338707269, 0.005271554719009405  …  0.010340738462151925, 0.010282596240268749, 0.010207714387721112, 0.010124389416712546, 0.01014403401902485, 0.010368983226088447, 0.010697546330802568, 0.011804421640032479, 0.012731085634049302, 0.013709269490937401]"
      ]
     },
     "execution_count": 86,
     "metadata": {},
     "output_type": "execute_result"
    }
   ],
   "source": [
    "para,pred_value_mse2, mses3,kdata2=train_eqn1_addition_mse(country3,nnp,trainer4)\n",
    "para,pred_value_abs2, abs_3,kdata2=train_eqn1_addition_abs(country3,nnp,trainer4)"
   ]
  },
  {
   "cell_type": "code",
   "execution_count": 83,
   "metadata": {},
   "outputs": [
    {
     "data": {
      "image/svg+xml": [
       "<?xml version=\"1.0\" encoding=\"utf-8\"?>\n",
       "<svg xmlns=\"http://www.w3.org/2000/svg\" xmlns:xlink=\"http://www.w3.org/1999/xlink\" width=\"600\" height=\"400\" viewBox=\"0 0 2400 1600\">\n",
       "<defs>\n",
       "  <clipPath id=\"clip100\">\n",
       "    <rect x=\"0\" y=\"0\" width=\"2400\" height=\"1600\"/>\n",
       "  </clipPath>\n",
       "</defs>\n",
       "<path clip-path=\"url(#clip100)\" d=\"\n",
       "M0 1600 L2400 1600 L2400 0 L0 0  Z\n",
       "  \" fill=\"#ffffff\" fill-rule=\"evenodd\" fill-opacity=\"1\"/>\n",
       "<defs>\n",
       "  <clipPath id=\"clip101\">\n",
       "    <rect x=\"480\" y=\"0\" width=\"1681\" height=\"1600\"/>\n",
       "  </clipPath>\n",
       "</defs>\n",
       "<path clip-path=\"url(#clip100)\" d=\"\n",
       "M211.575 1486.45 L1152.76 1486.45 L1152.76 123.472 L211.575 123.472  Z\n",
       "  \" fill=\"#ffffff\" fill-rule=\"evenodd\" fill-opacity=\"1\"/>\n",
       "<defs>\n",
       "  <clipPath id=\"clip102\">\n",
       "    <rect x=\"211\" y=\"123\" width=\"942\" height=\"1364\"/>\n",
       "  </clipPath>\n",
       "</defs>\n",
       "<polyline clip-path=\"url(#clip102)\" style=\"stroke:#000000; stroke-width:2; stroke-opacity:0.1; fill:none\" points=\"\n",
       "  236.829,1486.45 236.829,123.472 \n",
       "  \"/>\n",
       "<polyline clip-path=\"url(#clip102)\" style=\"stroke:#000000; stroke-width:2; stroke-opacity:0.1; fill:none\" points=\"\n",
       "  375.132,1486.45 375.132,123.472 \n",
       "  \"/>\n",
       "<polyline clip-path=\"url(#clip102)\" style=\"stroke:#000000; stroke-width:2; stroke-opacity:0.1; fill:none\" points=\"\n",
       "  513.435,1486.45 513.435,123.472 \n",
       "  \"/>\n",
       "<polyline clip-path=\"url(#clip102)\" style=\"stroke:#000000; stroke-width:2; stroke-opacity:0.1; fill:none\" points=\"\n",
       "  651.739,1486.45 651.739,123.472 \n",
       "  \"/>\n",
       "<polyline clip-path=\"url(#clip102)\" style=\"stroke:#000000; stroke-width:2; stroke-opacity:0.1; fill:none\" points=\"\n",
       "  790.042,1486.45 790.042,123.472 \n",
       "  \"/>\n",
       "<polyline clip-path=\"url(#clip102)\" style=\"stroke:#000000; stroke-width:2; stroke-opacity:0.1; fill:none\" points=\"\n",
       "  928.345,1486.45 928.345,123.472 \n",
       "  \"/>\n",
       "<polyline clip-path=\"url(#clip102)\" style=\"stroke:#000000; stroke-width:2; stroke-opacity:0.1; fill:none\" points=\"\n",
       "  1066.65,1486.45 1066.65,123.472 \n",
       "  \"/>\n",
       "<polyline clip-path=\"url(#clip102)\" style=\"stroke:#000000; stroke-width:2; stroke-opacity:0.1; fill:none\" points=\"\n",
       "  211.575,1339.45 1152.76,1339.45 \n",
       "  \"/>\n",
       "<polyline clip-path=\"url(#clip102)\" style=\"stroke:#000000; stroke-width:2; stroke-opacity:0.1; fill:none\" points=\"\n",
       "  211.575,1127.53 1152.76,1127.53 \n",
       "  \"/>\n",
       "<polyline clip-path=\"url(#clip102)\" style=\"stroke:#000000; stroke-width:2; stroke-opacity:0.1; fill:none\" points=\"\n",
       "  211.575,915.614 1152.76,915.614 \n",
       "  \"/>\n",
       "<polyline clip-path=\"url(#clip102)\" style=\"stroke:#000000; stroke-width:2; stroke-opacity:0.1; fill:none\" points=\"\n",
       "  211.575,703.695 1152.76,703.695 \n",
       "  \"/>\n",
       "<polyline clip-path=\"url(#clip102)\" style=\"stroke:#000000; stroke-width:2; stroke-opacity:0.1; fill:none\" points=\"\n",
       "  211.575,491.776 1152.76,491.776 \n",
       "  \"/>\n",
       "<polyline clip-path=\"url(#clip102)\" style=\"stroke:#000000; stroke-width:2; stroke-opacity:0.1; fill:none\" points=\"\n",
       "  211.575,279.857 1152.76,279.857 \n",
       "  \"/>\n",
       "<polyline clip-path=\"url(#clip100)\" style=\"stroke:#000000; stroke-width:4; stroke-opacity:1; fill:none\" points=\"\n",
       "  211.575,1486.45 1152.76,1486.45 \n",
       "  \"/>\n",
       "<polyline clip-path=\"url(#clip100)\" style=\"stroke:#000000; stroke-width:4; stroke-opacity:1; fill:none\" points=\"\n",
       "  211.575,1486.45 211.575,123.472 \n",
       "  \"/>\n",
       "<polyline clip-path=\"url(#clip100)\" style=\"stroke:#000000; stroke-width:4; stroke-opacity:1; fill:none\" points=\"\n",
       "  236.829,1486.45 236.829,1470.09 \n",
       "  \"/>\n",
       "<polyline clip-path=\"url(#clip100)\" style=\"stroke:#000000; stroke-width:4; stroke-opacity:1; fill:none\" points=\"\n",
       "  375.132,1486.45 375.132,1470.09 \n",
       "  \"/>\n",
       "<polyline clip-path=\"url(#clip100)\" style=\"stroke:#000000; stroke-width:4; stroke-opacity:1; fill:none\" points=\"\n",
       "  513.435,1486.45 513.435,1470.09 \n",
       "  \"/>\n",
       "<polyline clip-path=\"url(#clip100)\" style=\"stroke:#000000; stroke-width:4; stroke-opacity:1; fill:none\" points=\"\n",
       "  651.739,1486.45 651.739,1470.09 \n",
       "  \"/>\n",
       "<polyline clip-path=\"url(#clip100)\" style=\"stroke:#000000; stroke-width:4; stroke-opacity:1; fill:none\" points=\"\n",
       "  790.042,1486.45 790.042,1470.09 \n",
       "  \"/>\n",
       "<polyline clip-path=\"url(#clip100)\" style=\"stroke:#000000; stroke-width:4; stroke-opacity:1; fill:none\" points=\"\n",
       "  928.345,1486.45 928.345,1470.09 \n",
       "  \"/>\n",
       "<polyline clip-path=\"url(#clip100)\" style=\"stroke:#000000; stroke-width:4; stroke-opacity:1; fill:none\" points=\"\n",
       "  1066.65,1486.45 1066.65,1470.09 \n",
       "  \"/>\n",
       "<polyline clip-path=\"url(#clip100)\" style=\"stroke:#000000; stroke-width:4; stroke-opacity:1; fill:none\" points=\"\n",
       "  211.575,1339.45 222.869,1339.45 \n",
       "  \"/>\n",
       "<polyline clip-path=\"url(#clip100)\" style=\"stroke:#000000; stroke-width:4; stroke-opacity:1; fill:none\" points=\"\n",
       "  211.575,1127.53 222.869,1127.53 \n",
       "  \"/>\n",
       "<polyline clip-path=\"url(#clip100)\" style=\"stroke:#000000; stroke-width:4; stroke-opacity:1; fill:none\" points=\"\n",
       "  211.575,915.614 222.869,915.614 \n",
       "  \"/>\n",
       "<polyline clip-path=\"url(#clip100)\" style=\"stroke:#000000; stroke-width:4; stroke-opacity:1; fill:none\" points=\"\n",
       "  211.575,703.695 222.869,703.695 \n",
       "  \"/>\n",
       "<polyline clip-path=\"url(#clip100)\" style=\"stroke:#000000; stroke-width:4; stroke-opacity:1; fill:none\" points=\"\n",
       "  211.575,491.776 222.869,491.776 \n",
       "  \"/>\n",
       "<polyline clip-path=\"url(#clip100)\" style=\"stroke:#000000; stroke-width:4; stroke-opacity:1; fill:none\" points=\"\n",
       "  211.575,279.857 222.869,279.857 \n",
       "  \"/>\n",
       "<path clip-path=\"url(#clip100)\" d=\"M 0 0 M236.829 1508.44 Q233.218 1508.44 231.389 1512 Q229.584 1515.55 229.584 1522.67 Q229.584 1529.78 231.389 1533.35 Q233.218 1536.89 236.829 1536.89 Q240.463 1536.89 242.269 1533.35 Q244.097 1529.78 244.097 1522.67 Q244.097 1515.55 242.269 1512 Q240.463 1508.44 236.829 1508.44 M236.829 1504.73 Q242.639 1504.73 245.695 1509.34 Q248.773 1513.92 248.773 1522.67 Q248.773 1531.4 245.695 1536.01 Q242.639 1540.59 236.829 1540.59 Q231.019 1540.59 227.94 1536.01 Q224.885 1531.4 224.885 1522.67 Q224.885 1513.92 227.94 1509.34 Q231.019 1504.73 236.829 1504.73 Z\" fill=\"#000000\" fill-rule=\"evenodd\" fill-opacity=\"1\" /><path clip-path=\"url(#clip100)\" d=\"M 0 0 M338.5 1535.98 L346.139 1535.98 L346.139 1509.62 L337.829 1511.29 L337.829 1507.03 L346.093 1505.36 L350.769 1505.36 L350.769 1535.98 L358.408 1535.98 L358.408 1539.92 L338.5 1539.92 L338.5 1535.98 Z\" fill=\"#000000\" fill-rule=\"evenodd\" fill-opacity=\"1\" /><path clip-path=\"url(#clip100)\" d=\"M 0 0 M373.477 1508.44 Q369.866 1508.44 368.037 1512 Q366.232 1515.55 366.232 1522.67 Q366.232 1529.78 368.037 1533.35 Q369.866 1536.89 373.477 1536.89 Q377.111 1536.89 378.917 1533.35 Q380.746 1529.78 380.746 1522.67 Q380.746 1515.55 378.917 1512 Q377.111 1508.44 373.477 1508.44 M373.477 1504.73 Q379.287 1504.73 382.343 1509.34 Q385.421 1513.92 385.421 1522.67 Q385.421 1531.4 382.343 1536.01 Q379.287 1540.59 373.477 1540.59 Q367.667 1540.59 364.588 1536.01 Q361.533 1531.4 361.533 1522.67 Q361.533 1513.92 364.588 1509.34 Q367.667 1504.73 373.477 1504.73 Z\" fill=\"#000000\" fill-rule=\"evenodd\" fill-opacity=\"1\" /><path clip-path=\"url(#clip100)\" d=\"M 0 0 M400.491 1508.44 Q396.88 1508.44 395.051 1512 Q393.246 1515.55 393.246 1522.67 Q393.246 1529.78 395.051 1533.35 Q396.88 1536.89 400.491 1536.89 Q404.125 1536.89 405.931 1533.35 Q407.759 1529.78 407.759 1522.67 Q407.759 1515.55 405.931 1512 Q404.125 1508.44 400.491 1508.44 M400.491 1504.73 Q406.301 1504.73 409.357 1509.34 Q412.435 1513.92 412.435 1522.67 Q412.435 1531.4 409.357 1536.01 Q406.301 1540.59 400.491 1540.59 Q394.681 1540.59 391.602 1536.01 Q388.546 1531.4 388.546 1522.67 Q388.546 1513.92 391.602 1509.34 Q394.681 1504.73 400.491 1504.73 Z\" fill=\"#000000\" fill-rule=\"evenodd\" fill-opacity=\"1\" /><path clip-path=\"url(#clip100)\" d=\"M 0 0 M481.074 1535.98 L497.394 1535.98 L497.394 1539.92 L475.45 1539.92 L475.45 1535.98 Q478.112 1533.23 482.695 1528.6 Q487.301 1523.95 488.482 1522.61 Q490.727 1520.08 491.607 1518.35 Q492.51 1516.59 492.51 1514.9 Q492.51 1512.14 490.565 1510.41 Q488.644 1508.67 485.542 1508.67 Q483.343 1508.67 480.889 1509.43 Q478.459 1510.2 475.681 1511.75 L475.681 1507.03 Q478.505 1505.89 480.959 1505.31 Q483.412 1504.73 485.449 1504.73 Q490.82 1504.73 494.014 1507.42 Q497.209 1510.11 497.209 1514.6 Q497.209 1516.73 496.398 1518.65 Q495.611 1520.54 493.505 1523.14 Q492.926 1523.81 489.824 1527.03 Q486.723 1530.22 481.074 1535.98 Z\" fill=\"#000000\" fill-rule=\"evenodd\" fill-opacity=\"1\" /><path clip-path=\"url(#clip100)\" d=\"M 0 0 M512.463 1508.44 Q508.852 1508.44 507.023 1512 Q505.218 1515.55 505.218 1522.67 Q505.218 1529.78 507.023 1533.35 Q508.852 1536.89 512.463 1536.89 Q516.097 1536.89 517.903 1533.35 Q519.732 1529.78 519.732 1522.67 Q519.732 1515.55 517.903 1512 Q516.097 1508.44 512.463 1508.44 M512.463 1504.73 Q518.273 1504.73 521.329 1509.34 Q524.408 1513.92 524.408 1522.67 Q524.408 1531.4 521.329 1536.01 Q518.273 1540.59 512.463 1540.59 Q506.653 1540.59 503.574 1536.01 Q500.519 1531.4 500.519 1522.67 Q500.519 1513.92 503.574 1509.34 Q506.653 1504.73 512.463 1504.73 Z\" fill=\"#000000\" fill-rule=\"evenodd\" fill-opacity=\"1\" /><path clip-path=\"url(#clip100)\" d=\"M 0 0 M539.477 1508.44 Q535.866 1508.44 534.037 1512 Q532.232 1515.55 532.232 1522.67 Q532.232 1529.78 534.037 1533.35 Q535.866 1536.89 539.477 1536.89 Q543.111 1536.89 544.917 1533.35 Q546.745 1529.78 546.745 1522.67 Q546.745 1515.55 544.917 1512 Q543.111 1508.44 539.477 1508.44 M539.477 1504.73 Q545.287 1504.73 548.343 1509.34 Q551.421 1513.92 551.421 1522.67 Q551.421 1531.4 548.343 1536.01 Q545.287 1540.59 539.477 1540.59 Q533.667 1540.59 530.588 1536.01 Q527.533 1531.4 527.533 1522.67 Q527.533 1513.92 530.588 1509.34 Q533.667 1504.73 539.477 1504.73 Z\" fill=\"#000000\" fill-rule=\"evenodd\" fill-opacity=\"1\" /><path clip-path=\"url(#clip100)\" d=\"M 0 0 M628.973 1521.29 Q632.329 1522 634.204 1524.27 Q636.102 1526.54 636.102 1529.87 Q636.102 1534.99 632.584 1537.79 Q629.065 1540.59 622.584 1540.59 Q620.408 1540.59 618.093 1540.15 Q615.801 1539.73 613.348 1538.88 L613.348 1534.36 Q615.292 1535.5 617.607 1536.08 Q619.922 1536.66 622.445 1536.66 Q626.843 1536.66 629.135 1534.92 Q631.449 1533.18 631.449 1529.87 Q631.449 1526.82 629.297 1525.11 Q627.167 1523.37 623.348 1523.37 L619.32 1523.37 L619.32 1519.53 L623.533 1519.53 Q626.982 1519.53 628.811 1518.16 Q630.639 1516.77 630.639 1514.18 Q630.639 1511.52 628.741 1510.11 Q626.866 1508.67 623.348 1508.67 Q621.426 1508.67 619.227 1509.09 Q617.028 1509.5 614.389 1510.38 L614.389 1506.22 Q617.051 1505.48 619.366 1505.11 Q621.704 1504.73 623.764 1504.73 Q629.088 1504.73 632.19 1507.17 Q635.292 1509.57 635.292 1513.69 Q635.292 1516.56 633.648 1518.55 Q632.005 1520.52 628.973 1521.29 Z\" fill=\"#000000\" fill-rule=\"evenodd\" fill-opacity=\"1\" /><path clip-path=\"url(#clip100)\" d=\"M 0 0 M651.172 1508.44 Q647.56 1508.44 645.732 1512 Q643.926 1515.55 643.926 1522.67 Q643.926 1529.78 645.732 1533.35 Q647.56 1536.89 651.172 1536.89 Q654.806 1536.89 656.611 1533.35 Q658.44 1529.78 658.44 1522.67 Q658.44 1515.55 656.611 1512 Q654.806 1508.44 651.172 1508.44 M651.172 1504.73 Q656.982 1504.73 660.037 1509.34 Q663.116 1513.92 663.116 1522.67 Q663.116 1531.4 660.037 1536.01 Q656.982 1540.59 651.172 1540.59 Q645.361 1540.59 642.283 1536.01 Q639.227 1531.4 639.227 1522.67 Q639.227 1513.92 642.283 1509.34 Q645.361 1504.73 651.172 1504.73 Z\" fill=\"#000000\" fill-rule=\"evenodd\" fill-opacity=\"1\" /><path clip-path=\"url(#clip100)\" d=\"M 0 0 M678.185 1508.44 Q674.574 1508.44 672.745 1512 Q670.94 1515.55 670.94 1522.67 Q670.94 1529.78 672.745 1533.35 Q674.574 1536.89 678.185 1536.89 Q681.819 1536.89 683.625 1533.35 Q685.454 1529.78 685.454 1522.67 Q685.454 1515.55 683.625 1512 Q681.819 1508.44 678.185 1508.44 M678.185 1504.73 Q683.995 1504.73 687.051 1509.34 Q690.13 1513.92 690.13 1522.67 Q690.13 1531.4 687.051 1536.01 Q683.995 1540.59 678.185 1540.59 Q672.375 1540.59 669.296 1536.01 Q666.241 1531.4 666.241 1522.67 Q666.241 1513.92 669.296 1509.34 Q672.375 1504.73 678.185 1504.73 Z\" fill=\"#000000\" fill-rule=\"evenodd\" fill-opacity=\"1\" /><path clip-path=\"url(#clip100)\" d=\"M 0 0 M766.037 1509.43 L754.232 1527.88 L766.037 1527.88 L766.037 1509.43 M764.811 1505.36 L770.69 1505.36 L770.69 1527.88 L775.621 1527.88 L775.621 1531.77 L770.69 1531.77 L770.69 1539.92 L766.037 1539.92 L766.037 1531.77 L750.436 1531.77 L750.436 1527.26 L764.811 1505.36 Z\" fill=\"#000000\" fill-rule=\"evenodd\" fill-opacity=\"1\" /><path clip-path=\"url(#clip100)\" d=\"M 0 0 M790.69 1508.44 Q787.079 1508.44 785.25 1512 Q783.445 1515.55 783.445 1522.67 Q783.445 1529.78 785.25 1533.35 Q787.079 1536.89 790.69 1536.89 Q794.324 1536.89 796.13 1533.35 Q797.958 1529.78 797.958 1522.67 Q797.958 1515.55 796.13 1512 Q794.324 1508.44 790.69 1508.44 M790.69 1504.73 Q796.5 1504.73 799.556 1509.34 Q802.634 1513.92 802.634 1522.67 Q802.634 1531.4 799.556 1536.01 Q796.5 1540.59 790.69 1540.59 Q784.88 1540.59 781.801 1536.01 Q778.746 1531.4 778.746 1522.67 Q778.746 1513.92 781.801 1509.34 Q784.88 1504.73 790.69 1504.73 Z\" fill=\"#000000\" fill-rule=\"evenodd\" fill-opacity=\"1\" /><path clip-path=\"url(#clip100)\" d=\"M 0 0 M817.704 1508.44 Q814.093 1508.44 812.264 1512 Q810.458 1515.55 810.458 1522.67 Q810.458 1529.78 812.264 1533.35 Q814.093 1536.89 817.704 1536.89 Q821.338 1536.89 823.144 1533.35 Q824.972 1529.78 824.972 1522.67 Q824.972 1515.55 823.144 1512 Q821.338 1508.44 817.704 1508.44 M817.704 1504.73 Q823.514 1504.73 826.569 1509.34 Q829.648 1513.92 829.648 1522.67 Q829.648 1531.4 826.569 1536.01 Q823.514 1540.59 817.704 1540.59 Q811.894 1540.59 808.815 1536.01 Q805.759 1531.4 805.759 1522.67 Q805.759 1513.92 808.815 1509.34 Q811.894 1504.73 817.704 1504.73 Z\" fill=\"#000000\" fill-rule=\"evenodd\" fill-opacity=\"1\" /><path clip-path=\"url(#clip100)\" d=\"M 0 0 M891.609 1505.36 L909.966 1505.36 L909.966 1509.3 L895.892 1509.3 L895.892 1517.77 Q896.91 1517.42 897.929 1517.26 Q898.947 1517.07 899.966 1517.07 Q905.753 1517.07 909.132 1520.24 Q912.512 1523.42 912.512 1528.83 Q912.512 1534.41 909.04 1537.51 Q905.567 1540.59 899.248 1540.59 Q897.072 1540.59 894.804 1540.22 Q892.558 1539.85 890.151 1539.11 L890.151 1534.41 Q892.234 1535.54 894.456 1536.1 Q896.679 1536.66 899.155 1536.66 Q903.16 1536.66 905.498 1534.55 Q907.836 1532.44 907.836 1528.83 Q907.836 1525.22 905.498 1523.11 Q903.16 1521.01 899.155 1521.01 Q897.28 1521.01 895.405 1521.42 Q893.554 1521.84 891.609 1522.72 L891.609 1505.36 Z\" fill=\"#000000\" fill-rule=\"evenodd\" fill-opacity=\"1\" /><path clip-path=\"url(#clip100)\" d=\"M 0 0 M927.581 1508.44 Q923.97 1508.44 922.141 1512 Q920.336 1515.55 920.336 1522.67 Q920.336 1529.78 922.141 1533.35 Q923.97 1536.89 927.581 1536.89 Q931.215 1536.89 933.021 1533.35 Q934.85 1529.78 934.85 1522.67 Q934.85 1515.55 933.021 1512 Q931.215 1508.44 927.581 1508.44 M927.581 1504.73 Q933.391 1504.73 936.447 1509.34 Q939.526 1513.92 939.526 1522.67 Q939.526 1531.4 936.447 1536.01 Q933.391 1540.59 927.581 1540.59 Q921.771 1540.59 918.692 1536.01 Q915.637 1531.4 915.637 1522.67 Q915.637 1513.92 918.692 1509.34 Q921.771 1504.73 927.581 1504.73 Z\" fill=\"#000000\" fill-rule=\"evenodd\" fill-opacity=\"1\" /><path clip-path=\"url(#clip100)\" d=\"M 0 0 M954.595 1508.44 Q950.984 1508.44 949.155 1512 Q947.35 1515.55 947.35 1522.67 Q947.35 1529.78 949.155 1533.35 Q950.984 1536.89 954.595 1536.89 Q958.229 1536.89 960.035 1533.35 Q961.863 1529.78 961.863 1522.67 Q961.863 1515.55 960.035 1512 Q958.229 1508.44 954.595 1508.44 M954.595 1504.73 Q960.405 1504.73 963.461 1509.34 Q966.539 1513.92 966.539 1522.67 Q966.539 1531.4 963.461 1536.01 Q960.405 1540.59 954.595 1540.59 Q948.785 1540.59 945.706 1536.01 Q942.651 1531.4 942.651 1522.67 Q942.651 1513.92 945.706 1509.34 Q948.785 1504.73 954.595 1504.73 Z\" fill=\"#000000\" fill-rule=\"evenodd\" fill-opacity=\"1\" /><path clip-path=\"url(#clip100)\" d=\"M 0 0 M1040.04 1520.78 Q1036.89 1520.78 1035.04 1522.93 Q1033.21 1525.08 1033.21 1528.83 Q1033.21 1532.56 1035.04 1534.73 Q1036.89 1536.89 1040.04 1536.89 Q1043.19 1536.89 1045.02 1534.73 Q1046.87 1532.56 1046.87 1528.83 Q1046.87 1525.08 1045.02 1522.93 Q1043.19 1520.78 1040.04 1520.78 M1049.32 1506.12 L1049.32 1510.38 Q1047.56 1509.55 1045.76 1509.11 Q1043.97 1508.67 1042.22 1508.67 Q1037.59 1508.67 1035.13 1511.8 Q1032.7 1514.92 1032.35 1521.24 Q1033.72 1519.23 1035.78 1518.16 Q1037.84 1517.07 1040.32 1517.07 Q1045.53 1517.07 1048.53 1520.24 Q1051.57 1523.39 1051.57 1528.83 Q1051.57 1534.16 1048.42 1537.37 Q1045.27 1540.59 1040.04 1540.59 Q1034.04 1540.59 1030.87 1536.01 Q1027.7 1531.4 1027.7 1522.67 Q1027.7 1514.48 1031.59 1509.62 Q1035.48 1504.73 1042.03 1504.73 Q1043.79 1504.73 1045.57 1505.08 Q1047.38 1505.43 1049.32 1506.12 Z\" fill=\"#000000\" fill-rule=\"evenodd\" fill-opacity=\"1\" /><path clip-path=\"url(#clip100)\" d=\"M 0 0 M1066.64 1508.44 Q1063.03 1508.44 1061.2 1512 Q1059.39 1515.55 1059.39 1522.67 Q1059.39 1529.78 1061.2 1533.35 Q1063.03 1536.89 1066.64 1536.89 Q1070.27 1536.89 1072.08 1533.35 Q1073.91 1529.78 1073.91 1522.67 Q1073.91 1515.55 1072.08 1512 Q1070.27 1508.44 1066.64 1508.44 M1066.64 1504.73 Q1072.45 1504.73 1075.5 1509.34 Q1078.58 1513.92 1078.58 1522.67 Q1078.58 1531.4 1075.5 1536.01 Q1072.45 1540.59 1066.64 1540.59 Q1060.83 1540.59 1057.75 1536.01 Q1054.69 1531.4 1054.69 1522.67 Q1054.69 1513.92 1057.75 1509.34 Q1060.83 1504.73 1066.64 1504.73 Z\" fill=\"#000000\" fill-rule=\"evenodd\" fill-opacity=\"1\" /><path clip-path=\"url(#clip100)\" d=\"M 0 0 M1093.65 1508.44 Q1090.04 1508.44 1088.21 1512 Q1086.41 1515.55 1086.41 1522.67 Q1086.41 1529.78 1088.21 1533.35 Q1090.04 1536.89 1093.65 1536.89 Q1097.28 1536.89 1099.09 1533.35 Q1100.92 1529.78 1100.92 1522.67 Q1100.92 1515.55 1099.09 1512 Q1097.28 1508.44 1093.65 1508.44 M1093.65 1504.73 Q1099.46 1504.73 1102.52 1509.34 Q1105.59 1513.92 1105.59 1522.67 Q1105.59 1531.4 1102.52 1536.01 Q1099.46 1540.59 1093.65 1540.59 Q1087.84 1540.59 1084.76 1536.01 Q1081.71 1531.4 1081.71 1522.67 Q1081.71 1513.92 1084.76 1509.34 Q1087.84 1504.73 1093.65 1504.73 Z\" fill=\"#000000\" fill-rule=\"evenodd\" fill-opacity=\"1\" /><path clip-path=\"url(#clip100)\" d=\"M 0 0 M97.1514 1359.24 L104.79 1359.24 L104.79 1332.88 L96.4801 1334.55 L96.4801 1330.29 L104.744 1328.62 L109.42 1328.62 L109.42 1359.24 L117.059 1359.24 L117.059 1363.18 L97.1514 1363.18 L97.1514 1359.24 Z\" fill=\"#000000\" fill-rule=\"evenodd\" fill-opacity=\"1\" /><path clip-path=\"url(#clip100)\" d=\"M 0 0 M132.128 1331.7 Q128.517 1331.7 126.688 1335.26 Q124.883 1338.8 124.883 1345.93 Q124.883 1353.04 126.688 1356.61 Q128.517 1360.15 132.128 1360.15 Q135.762 1360.15 137.568 1356.61 Q139.397 1353.04 139.397 1345.93 Q139.397 1338.8 137.568 1335.26 Q135.762 1331.7 132.128 1331.7 M132.128 1327.99 Q137.938 1327.99 140.994 1332.6 Q144.072 1337.18 144.072 1345.93 Q144.072 1354.66 140.994 1359.27 Q137.938 1363.85 132.128 1363.85 Q126.318 1363.85 123.239 1359.27 Q120.184 1354.66 120.184 1345.93 Q120.184 1337.18 123.239 1332.6 Q126.318 1327.99 132.128 1327.99 Z\" fill=\"#000000\" fill-rule=\"evenodd\" fill-opacity=\"1\" /><path clip-path=\"url(#clip100)\" d=\"M 0 0 M144.072 1323.68 L154.21 1323.68 L154.21 1326.76 L144.072 1326.76 L144.072 1323.68 Z\" fill=\"#000000\" fill-rule=\"evenodd\" fill-opacity=\"1\" /><path clip-path=\"url(#clip100)\" d=\"M 0 0 M178.209 1320.21 Q175.651 1320.21 174.146 1321.96 Q172.66 1323.71 172.66 1326.76 Q172.66 1329.79 174.146 1331.56 Q175.651 1333.31 178.209 1333.31 Q180.766 1333.31 182.252 1331.56 Q183.757 1329.79 183.757 1326.76 Q183.757 1323.71 182.252 1321.96 Q180.766 1320.21 178.209 1320.21 M185.75 1308.31 L185.75 1311.77 Q184.321 1311.09 182.854 1310.74 Q181.406 1310.38 179.976 1310.38 Q176.215 1310.38 174.221 1312.92 Q172.246 1315.46 171.964 1320.59 Q173.074 1318.95 174.748 1318.09 Q176.422 1317.21 178.434 1317.21 Q182.666 1317.21 185.111 1319.78 Q187.575 1322.34 187.575 1326.76 Q187.575 1331.09 185.017 1333.7 Q182.459 1336.31 178.209 1336.31 Q173.337 1336.31 170.761 1332.59 Q168.184 1328.85 168.184 1321.76 Q168.184 1315.1 171.344 1311.15 Q174.503 1307.18 179.826 1307.18 Q181.255 1307.18 182.704 1307.46 Q184.171 1307.75 185.75 1308.31 Z\" fill=\"#000000\" fill-rule=\"evenodd\" fill-opacity=\"1\" /><path clip-path=\"url(#clip100)\" d=\"M 0 0 M98.3739 1147.33 L106.013 1147.33 L106.013 1120.96 L97.7026 1122.63 L97.7026 1118.37 L105.966 1116.7 L110.642 1116.7 L110.642 1147.33 L118.281 1147.33 L118.281 1151.26 L98.3739 1151.26 L98.3739 1147.33 Z\" fill=\"#000000\" fill-rule=\"evenodd\" fill-opacity=\"1\" /><path clip-path=\"url(#clip100)\" d=\"M 0 0 M133.351 1119.78 Q129.739 1119.78 127.911 1123.34 Q126.105 1126.89 126.105 1134.02 Q126.105 1141.12 127.911 1144.69 Q129.739 1148.23 133.351 1148.23 Q136.985 1148.23 138.79 1144.69 Q140.619 1141.12 140.619 1134.02 Q140.619 1126.89 138.79 1123.34 Q136.985 1119.78 133.351 1119.78 M133.351 1116.08 Q139.161 1116.08 142.216 1120.68 Q145.295 1125.27 145.295 1134.02 Q145.295 1142.74 142.216 1147.35 Q139.161 1151.93 133.351 1151.93 Q127.54 1151.93 124.462 1147.35 Q121.406 1142.74 121.406 1134.02 Q121.406 1125.27 124.462 1120.68 Q127.54 1116.08 133.351 1116.08 Z\" fill=\"#000000\" fill-rule=\"evenodd\" fill-opacity=\"1\" /><path clip-path=\"url(#clip100)\" d=\"M 0 0 M145.295 1111.76 L155.432 1111.76 L155.432 1114.84 L145.295 1114.84 L145.295 1111.76 Z\" fill=\"#000000\" fill-rule=\"evenodd\" fill-opacity=\"1\" /><path clip-path=\"url(#clip100)\" d=\"M 0 0 M170.591 1095.77 L185.506 1095.77 L185.506 1098.97 L174.071 1098.97 L174.071 1105.85 Q174.898 1105.57 175.726 1105.44 Q176.553 1105.29 177.381 1105.29 Q182.083 1105.29 184.829 1107.86 Q187.575 1110.44 187.575 1114.84 Q187.575 1119.37 184.754 1121.89 Q181.932 1124.4 176.798 1124.4 Q175.03 1124.4 173.187 1124.09 Q171.362 1123.79 169.406 1123.19 L169.406 1119.37 Q171.099 1120.3 172.905 1120.75 Q174.71 1121.2 176.723 1121.2 Q179.976 1121.2 181.876 1119.49 Q183.776 1117.77 183.776 1114.84 Q183.776 1111.91 181.876 1110.2 Q179.976 1108.48 176.723 1108.48 Q175.199 1108.48 173.676 1108.82 Q172.171 1109.16 170.591 1109.88 L170.591 1095.77 Z\" fill=\"#000000\" fill-rule=\"evenodd\" fill-opacity=\"1\" /><path clip-path=\"url(#clip100)\" d=\"M 0 0 M96.0793 935.406 L103.718 935.406 L103.718 909.041 L95.408 910.707 L95.408 906.448 L103.672 904.781 L108.348 904.781 L108.348 935.406 L115.987 935.406 L115.987 939.341 L96.0793 939.341 L96.0793 935.406 Z\" fill=\"#000000\" fill-rule=\"evenodd\" fill-opacity=\"1\" /><path clip-path=\"url(#clip100)\" d=\"M 0 0 M131.056 907.86 Q127.445 907.86 125.616 911.425 Q123.811 914.967 123.811 922.096 Q123.811 929.203 125.616 932.767 Q127.445 936.309 131.056 936.309 Q134.69 936.309 136.496 932.767 Q138.324 929.203 138.324 922.096 Q138.324 914.967 136.496 911.425 Q134.69 907.86 131.056 907.86 M131.056 904.156 Q136.866 904.156 139.922 908.763 Q143 913.346 143 922.096 Q143 930.823 139.922 935.429 Q136.866 940.013 131.056 940.013 Q125.246 940.013 122.167 935.429 Q119.112 930.823 119.112 922.096 Q119.112 913.346 122.167 908.763 Q125.246 904.156 131.056 904.156 Z\" fill=\"#000000\" fill-rule=\"evenodd\" fill-opacity=\"1\" /><path clip-path=\"url(#clip100)\" d=\"M 0 0 M143 899.838 L153.138 899.838 L153.138 902.922 L143 902.922 L143 899.838 Z\" fill=\"#000000\" fill-rule=\"evenodd\" fill-opacity=\"1\" /><path clip-path=\"url(#clip100)\" d=\"M 0 0 M179.788 887.161 L170.196 902.151 L179.788 902.151 L179.788 887.161 M178.792 883.851 L183.569 883.851 L183.569 902.151 L187.575 902.151 L187.575 905.311 L183.569 905.311 L183.569 911.931 L179.788 911.931 L179.788 905.311 L167.112 905.311 L167.112 901.643 L178.792 883.851 Z\" fill=\"#000000\" fill-rule=\"evenodd\" fill-opacity=\"1\" /><path clip-path=\"url(#clip100)\" d=\"M 0 0 M98.0541 723.487 L105.693 723.487 L105.693 697.122 L97.3829 698.788 L97.3829 694.529 L105.647 692.862 L110.323 692.862 L110.323 723.487 L117.961 723.487 L117.961 727.422 L98.0541 727.422 L98.0541 723.487 Z\" fill=\"#000000\" fill-rule=\"evenodd\" fill-opacity=\"1\" /><path clip-path=\"url(#clip100)\" d=\"M 0 0 M133.031 695.941 Q129.42 695.941 127.591 699.506 Q125.785 703.048 125.785 710.177 Q125.785 717.284 127.591 720.848 Q129.42 724.39 133.031 724.39 Q136.665 724.39 138.471 720.848 Q140.299 717.284 140.299 710.177 Q140.299 703.048 138.471 699.506 Q136.665 695.941 133.031 695.941 M133.031 692.237 Q138.841 692.237 141.897 696.844 Q144.975 701.427 144.975 710.177 Q144.975 718.904 141.897 723.51 Q138.841 728.094 133.031 728.094 Q127.221 728.094 124.142 723.51 Q121.086 718.904 121.086 710.177 Q121.086 701.427 124.142 696.844 Q127.221 692.237 133.031 692.237 Z\" fill=\"#000000\" fill-rule=\"evenodd\" fill-opacity=\"1\" /><path clip-path=\"url(#clip100)\" d=\"M 0 0 M144.975 687.919 L155.113 687.919 L155.113 691.003 L144.975 691.003 L144.975 687.919 Z\" fill=\"#000000\" fill-rule=\"evenodd\" fill-opacity=\"1\" /><path clip-path=\"url(#clip100)\" d=\"M 0 0 M181.782 684.872 Q184.509 685.455 186.033 687.298 Q187.575 689.141 187.575 691.849 Q187.575 696.006 184.716 698.282 Q181.857 700.557 176.591 700.557 Q174.823 700.557 172.942 700.2 Q171.08 699.862 169.087 699.166 L169.087 695.498 Q170.667 696.42 172.547 696.89 Q174.428 697.36 176.478 697.36 Q180.052 697.36 181.914 695.95 Q183.794 694.539 183.794 691.849 Q183.794 689.367 182.045 687.975 Q180.315 686.564 177.212 686.564 L173.939 686.564 L173.939 683.442 L177.362 683.442 Q180.165 683.442 181.65 682.333 Q183.136 681.204 183.136 679.098 Q183.136 676.935 181.594 675.788 Q180.07 674.622 177.212 674.622 Q175.651 674.622 173.864 674.96 Q172.077 675.299 169.933 676.013 L169.933 672.628 Q172.096 672.026 173.977 671.725 Q175.876 671.424 177.55 671.424 Q181.876 671.424 184.396 673.399 Q186.917 675.355 186.917 678.703 Q186.917 681.035 185.581 682.652 Q184.246 684.251 181.782 684.872 Z\" fill=\"#000000\" fill-rule=\"evenodd\" fill-opacity=\"1\" /><path clip-path=\"url(#clip100)\" d=\"M 0 0 M98.7124 511.568 L106.351 511.568 L106.351 485.203 L98.0411 486.869 L98.0411 482.61 L106.305 480.944 L110.981 480.944 L110.981 511.568 L118.62 511.568 L118.62 515.504 L98.7124 515.504 L98.7124 511.568 Z\" fill=\"#000000\" fill-rule=\"evenodd\" fill-opacity=\"1\" /><path clip-path=\"url(#clip100)\" d=\"M 0 0 M133.689 484.022 Q130.078 484.022 128.249 487.587 Q126.444 491.129 126.444 498.258 Q126.444 505.365 128.249 508.929 Q130.078 512.471 133.689 512.471 Q137.323 512.471 139.129 508.929 Q140.958 505.365 140.958 498.258 Q140.958 491.129 139.129 487.587 Q137.323 484.022 133.689 484.022 M133.689 480.319 Q139.499 480.319 142.555 484.925 Q145.633 489.508 145.633 498.258 Q145.633 506.985 142.555 511.591 Q139.499 516.175 133.689 516.175 Q127.879 516.175 124.8 511.591 Q121.745 506.985 121.745 498.258 Q121.745 489.508 124.8 484.925 Q127.879 480.319 133.689 480.319 Z\" fill=\"#000000\" fill-rule=\"evenodd\" fill-opacity=\"1\" /><path clip-path=\"url(#clip100)\" d=\"M 0 0 M145.633 476 L155.771 476 L155.771 479.084 L145.633 479.084 L145.633 476 Z\" fill=\"#000000\" fill-rule=\"evenodd\" fill-opacity=\"1\" /><path clip-path=\"url(#clip100)\" d=\"M 0 0 M174.315 484.896 L187.575 484.896 L187.575 488.093 L169.745 488.093 L169.745 484.896 Q171.908 482.658 175.632 478.896 Q179.375 475.116 180.334 474.025 Q182.158 471.975 182.873 470.564 Q183.606 469.135 183.606 467.762 Q183.606 465.524 182.026 464.113 Q180.465 462.703 177.945 462.703 Q176.158 462.703 174.165 463.323 Q172.19 463.944 169.933 465.204 L169.933 461.367 Q172.228 460.446 174.221 459.975 Q176.215 459.505 177.87 459.505 Q182.233 459.505 184.829 461.687 Q187.424 463.869 187.424 467.517 Q187.424 469.248 186.766 470.809 Q186.127 472.351 184.415 474.457 Q183.945 475.003 181.425 477.617 Q178.904 480.213 174.315 484.896 Z\" fill=\"#000000\" fill-rule=\"evenodd\" fill-opacity=\"1\" /><path clip-path=\"url(#clip100)\" d=\"M 0 0 M99.8221 299.649 L107.461 299.649 L107.461 273.284 L99.1508 274.95 L99.1508 270.691 L107.415 269.025 L112.091 269.025 L112.091 299.649 L119.729 299.649 L119.729 303.585 L99.8221 303.585 L99.8221 299.649 Z\" fill=\"#000000\" fill-rule=\"evenodd\" fill-opacity=\"1\" /><path clip-path=\"url(#clip100)\" d=\"M 0 0 M134.799 272.103 Q131.188 272.103 129.359 275.668 Q127.553 279.21 127.553 286.339 Q127.553 293.446 129.359 297.011 Q131.188 300.552 134.799 300.552 Q138.433 300.552 140.239 297.011 Q142.067 293.446 142.067 286.339 Q142.067 279.21 140.239 275.668 Q138.433 272.103 134.799 272.103 M134.799 268.4 Q140.609 268.4 143.664 273.006 Q146.743 277.589 146.743 286.339 Q146.743 295.066 143.664 299.673 Q140.609 304.256 134.799 304.256 Q128.989 304.256 125.91 299.673 Q122.854 295.066 122.854 286.339 Q122.854 277.589 125.91 273.006 Q128.989 268.4 134.799 268.4 Z\" fill=\"#000000\" fill-rule=\"evenodd\" fill-opacity=\"1\" /><path clip-path=\"url(#clip100)\" d=\"M 0 0 M146.743 264.081 L156.881 264.081 L156.881 267.165 L146.743 267.165 L146.743 264.081 Z\" fill=\"#000000\" fill-rule=\"evenodd\" fill-opacity=\"1\" /><path clip-path=\"url(#clip100)\" d=\"M 0 0 M171.4 272.977 L177.607 272.977 L177.607 251.555 L170.855 252.909 L170.855 249.448 L177.569 248.094 L181.368 248.094 L181.368 272.977 L187.575 272.977 L187.575 276.174 L171.4 276.174 L171.4 272.977 Z\" fill=\"#000000\" fill-rule=\"evenodd\" fill-opacity=\"1\" /><path clip-path=\"url(#clip100)\" d=\"M 0 0 M475.833 20.1573 L464.733 50.2555 L486.973 50.2555 L475.833 20.1573 M471.215 12.096 L480.491 12.096 L503.541 72.576 L495.034 72.576 L489.525 57.061 L462.262 57.061 L456.753 72.576 L448.124 72.576 L471.215 12.096 Z\" fill=\"#000000\" fill-rule=\"evenodd\" fill-opacity=\"1\" /><path clip-path=\"url(#clip100)\" d=\"M 0 0 M511.359 9.54393 L518.813 9.54393 L518.813 72.576 L511.359 72.576 L511.359 9.54393 Z\" fill=\"#000000\" fill-rule=\"evenodd\" fill-opacity=\"1\" /><path clip-path=\"url(#clip100)\" d=\"M 0 0 M559.2 49.9314 Q559.2 41.7081 555.797 37.0496 Q552.435 32.3505 546.521 32.3505 Q540.607 32.3505 537.204 37.0496 Q533.841 41.7081 533.841 49.9314 Q533.841 58.1548 537.204 62.8538 Q540.607 67.5124 546.521 67.5124 Q552.435 67.5124 555.797 62.8538 Q559.2 58.1548 559.2 49.9314 M533.841 34.0924 Q536.191 30.0415 539.756 28.0971 Q543.361 26.1121 548.344 26.1121 Q556.608 26.1121 561.752 32.6746 Q566.937 39.2371 566.937 49.9314 Q566.937 60.6258 561.752 67.1883 Q556.608 73.7508 548.344 73.7508 Q543.361 73.7508 539.756 71.8063 Q536.191 69.8214 533.841 65.7705 L533.841 72.576 L526.347 72.576 L526.347 9.54393 L533.841 9.54393 L533.841 34.0924 Z\" fill=\"#000000\" fill-rule=\"evenodd\" fill-opacity=\"1\" /><path clip-path=\"url(#clip100)\" d=\"M 0 0 M595.375 49.7694 Q586.341 49.7694 582.857 51.8354 Q579.374 53.9013 579.374 58.8839 Q579.374 62.8538 581.966 65.2034 Q584.599 67.5124 589.096 67.5124 Q595.294 67.5124 599.021 63.1374 Q602.788 58.7219 602.788 51.4303 L602.788 49.7694 L595.375 49.7694 M610.242 46.6907 L610.242 72.576 L602.788 72.576 L602.788 65.6895 Q600.236 69.8214 596.428 71.8063 Q592.62 73.7508 587.111 73.7508 Q580.143 73.7508 576.011 69.8619 Q571.92 65.9325 571.92 59.3701 Q571.92 51.7138 577.024 47.825 Q582.169 43.9361 592.337 43.9361 L602.788 43.9361 L602.788 43.2069 Q602.788 38.0623 599.385 35.2672 Q596.023 32.4315 589.906 32.4315 Q586.017 32.4315 582.331 33.3632 Q578.644 34.295 575.242 36.1584 L575.242 29.2718 Q579.333 27.692 583.182 26.9223 Q587.03 26.1121 590.676 26.1121 Q600.519 26.1121 605.38 31.2163 Q610.242 36.3204 610.242 46.6907 Z\" fill=\"#000000\" fill-rule=\"evenodd\" fill-opacity=\"1\" /><path clip-path=\"url(#clip100)\" d=\"M 0 0 M655.774 45.1919 L655.774 72.576 L648.32 72.576 L648.32 45.4349 Q648.32 38.994 645.808 35.7938 Q643.297 32.5936 638.274 32.5936 Q632.238 32.5936 628.754 36.4419 Q625.27 40.2903 625.27 46.9338 L625.27 72.576 L617.776 72.576 L617.776 27.2059 L625.27 27.2059 L625.27 34.2544 Q627.944 30.163 631.549 28.1376 Q635.195 26.1121 639.935 26.1121 Q647.753 26.1121 651.763 30.9732 Q655.774 35.7938 655.774 45.1919 Z\" fill=\"#000000\" fill-rule=\"evenodd\" fill-opacity=\"1\" /><path clip-path=\"url(#clip100)\" d=\"M 0 0 M663.592 27.2059 L671.046 27.2059 L671.046 72.576 L663.592 72.576 L663.592 27.2059 M663.592 9.54393 L671.046 9.54393 L671.046 18.9825 L663.592 18.9825 L663.592 9.54393 Z\" fill=\"#000000\" fill-rule=\"evenodd\" fill-opacity=\"1\" /><path clip-path=\"url(#clip100)\" d=\"M 0 0 M699.483 49.7694 Q690.449 49.7694 686.966 51.8354 Q683.482 53.9013 683.482 58.8839 Q683.482 62.8538 686.074 65.2034 Q688.708 67.5124 693.204 67.5124 Q699.402 67.5124 703.129 63.1374 Q706.896 58.7219 706.896 51.4303 L706.896 49.7694 L699.483 49.7694 M714.35 46.6907 L714.35 72.576 L706.896 72.576 L706.896 65.6895 Q704.344 69.8214 700.536 71.8063 Q696.728 73.7508 691.219 73.7508 Q684.252 73.7508 680.12 69.8619 Q676.028 65.9325 676.028 59.3701 Q676.028 51.7138 681.132 47.825 Q686.277 43.9361 696.445 43.9361 L706.896 43.9361 L706.896 43.2069 Q706.896 38.0623 703.493 35.2672 Q700.131 32.4315 694.014 32.4315 Q690.125 32.4315 686.439 33.3632 Q682.753 34.295 679.35 36.1584 L679.35 29.2718 Q683.441 27.692 687.29 26.9223 Q691.138 26.1121 694.784 26.1121 Q704.628 26.1121 709.489 31.2163 Q714.35 36.3204 714.35 46.6907 Z\" fill=\"#000000\" fill-rule=\"evenodd\" fill-opacity=\"1\" /><path clip-path=\"url(#clip100)\" d=\"M 0 0 M756.641 86.3491 L756.641 92.1419 L713.54 92.1419 L713.54 86.3491 L756.641 86.3491 Z\" fill=\"#000000\" fill-rule=\"evenodd\" fill-opacity=\"1\" /><path clip-path=\"url(#clip100)\" d=\"M 0 0 M799.783 35.9153 Q802.578 30.8922 806.467 28.5022 Q810.356 26.1121 815.622 26.1121 Q822.711 26.1121 826.56 31.0947 Q830.408 36.0368 830.408 45.1919 L830.408 72.576 L822.914 72.576 L822.914 45.4349 Q822.914 38.913 820.605 35.7533 Q818.296 32.5936 813.556 32.5936 Q807.764 32.5936 804.401 36.4419 Q801.039 40.2903 801.039 46.9338 L801.039 72.576 L793.545 72.576 L793.545 45.4349 Q793.545 38.8725 791.236 35.7533 Q788.927 32.5936 784.106 32.5936 Q778.395 32.5936 775.032 36.4824 Q771.67 40.3308 771.67 46.9338 L771.67 72.576 L764.176 72.576 L764.176 27.2059 L771.67 27.2059 L771.67 34.2544 Q774.222 30.082 777.787 28.0971 Q781.352 26.1121 786.253 26.1121 Q791.195 26.1121 794.639 28.6237 Q798.122 31.1352 799.783 35.9153 Z\" fill=\"#000000\" fill-rule=\"evenodd\" fill-opacity=\"1\" /><path clip-path=\"url(#clip100)\" d=\"M 0 0 M867.15 28.5427 L867.15 35.5912 Q863.99 33.9709 860.587 33.1607 Q857.185 32.3505 853.539 32.3505 Q847.989 32.3505 845.194 34.0519 Q842.439 35.7533 842.439 39.156 Q842.439 41.7486 844.424 43.2475 Q846.409 44.7058 852.405 46.0426 L854.957 46.6097 Q862.896 48.3111 866.218 51.4303 Q869.58 54.509 869.58 60.0587 Q869.58 66.3781 864.557 70.0644 Q859.575 73.7508 850.825 73.7508 Q847.179 73.7508 843.209 73.0216 Q839.28 72.3329 834.905 70.9151 L834.905 63.2184 Q839.037 65.3654 843.047 66.4591 Q847.057 67.5124 850.987 67.5124 Q856.253 67.5124 859.089 65.73 Q861.924 63.9071 861.924 60.6258 Q861.924 57.5877 859.858 55.9673 Q857.833 54.3469 850.906 52.8481 L848.313 52.2405 Q841.386 50.7821 838.307 47.7845 Q835.229 44.7463 835.229 39.4801 Q835.229 33.0797 839.766 29.5959 Q844.303 26.1121 852.648 26.1121 Q856.78 26.1121 860.425 26.7198 Q864.071 27.3274 867.15 28.5427 Z\" fill=\"#000000\" fill-rule=\"evenodd\" fill-opacity=\"1\" /><path clip-path=\"url(#clip100)\" d=\"M 0 0 M916.206 48.0275 L916.206 51.6733 L881.936 51.6733 Q882.422 59.3701 886.554 63.421 Q890.726 67.4314 898.139 67.4314 Q902.433 67.4314 906.444 66.3781 Q910.495 65.3249 914.464 63.2184 L914.464 70.267 Q910.454 71.9684 906.241 72.8596 Q902.028 73.7508 897.694 73.7508 Q886.837 73.7508 880.477 67.4314 Q874.158 61.1119 874.158 50.3365 Q874.158 39.1965 880.153 32.6746 Q886.189 26.1121 896.397 26.1121 Q905.552 26.1121 910.859 32.0264 Q916.206 37.9003 916.206 48.0275 M908.753 45.84 Q908.672 39.7232 905.309 36.0774 Q901.988 32.4315 896.478 32.4315 Q890.24 32.4315 886.473 35.9558 Q882.746 39.4801 882.179 45.8805 L908.753 45.84 Z\" fill=\"#000000\" fill-rule=\"evenodd\" fill-opacity=\"1\" /><polyline clip-path=\"url(#clip102)\" style=\"stroke:#009af9; stroke-width:4; stroke-opacity:1; fill:none\" points=\"\n",
       "  238.212,162.047 239.595,241.549 240.978,375.194 242.361,622.34 243.744,400.799 245.127,314.425 246.51,285.004 247.893,285.416 249.276,307.874 250.659,352.536 \n",
       "  252.042,622.34 253.425,427.867 254.808,518.581 256.191,446.37 257.574,540.5 258.957,669.626 260.341,528.329 261.724,506.377 263.107,571.863 264.49,726.243 \n",
       "  265.873,633.3 267.256,559.675 268.639,568.665 270.022,652.791 271.405,771.971 272.788,657.046 274.171,601.224 275.554,616.235 276.937,698 278.32,771.996 \n",
       "  279.703,680.825 281.086,637.611 282.469,657.035 283.852,733.261 285.235,772.595 286.618,701.4 288.001,672.576 289.384,700.691 290.767,774.026 292.15,780.505 \n",
       "  293.533,722.591 294.916,710.431 296.299,751.394 297.682,812.845 299.065,784.698 300.448,743.865 301.831,751.608 303.215,802.045 304.598,824.972 305.981,783.699 \n",
       "  307.364,767.661 308.747,795.009 310.13,832.928 311.513,815.246 312.896,789.697 314.279,799.513 315.662,832.392 317.045,835.048 318.428,811.578 319.811,811.021 \n",
       "  321.194,835.576 322.577,846.742 323.96,829.86 325.343,824.776 326.726,841.845 328.109,854.12 329.492,842.933 330.875,836.803 332.258,848.582 333.641,858.639 \n",
       "  335.024,851.146 336.407,846.043 337.79,854.71 339.173,862.071 340.556,856.858 341.939,853.689 343.322,860.581 344.705,865.666 346.089,861.872 347.472,860.598 \n",
       "  348.855,866.269 350.238,869.447 351.621,866.546 353.004,866.902 354.387,871.605 355.77,873.059 357.153,871.149 358.536,872.62 359.919,876.108 361.302,876.485 \n",
       "  362.685,875.609 364.068,877.702 365.451,880.114 366.834,879.998 368.217,880.23 369.6,882.592 370.983,883.934 372.366,883.94 373.749,885.069 375.132,887.139 \n",
       "  376.515,887.986 377.898,888.346 379.281,889.973 380.664,891.514 382.047,891.986 383.43,892.938 384.813,894.657 386.196,895.61 387.579,896.278 388.963,897.514 \n",
       "  390.346,899.059 391.729,899.883 393.112,900.915 394.495,902.387 395.878,903.467 397.261,904.429 398.644,905.721 400.027,906.979 401.41,907.974 402.793,909.116 \n",
       "  404.176,910.486 405.559,911.537 406.942,912.679 408.325,914 409.708,915.194 411.091,916.289 412.474,917.518 413.857,918.798 415.24,919.977 416.623,921.187 \n",
       "  418.006,922.488 419.389,923.678 420.772,924.965 422.155,926.196 423.538,927.464 424.921,928.662 426.304,929.981 427.687,931.265 429.07,932.547 430.453,933.779 \n",
       "  431.837,935.089 433.22,936.352 434.603,937.675 435.986,938.998 437.369,940.361 438.752,941.625 440.135,942.925 441.518,944.28 442.901,945.589 444.284,946.914 \n",
       "  445.667,948.274 447.05,949.627 448.433,950.957 449.816,952.355 451.199,953.691 452.582,955.073 453.965,956.453 455.348,958.065 456.731,959.203 458.114,960.649 \n",
       "  459.497,962.053 460.88,963.476 462.263,964.928 463.646,966.257 465.029,967.695 466.412,969.155 467.795,970.521 469.178,972.028 470.561,973.46 471.944,975.006 \n",
       "  473.327,976.379 474.711,977.868 476.094,979.316 477.477,980.776 478.86,982.261 480.243,983.771 481.626,985.253 483.009,986.735 484.392,988.213 485.775,989.74 \n",
       "  487.158,991.315 488.541,992.779 489.924,994.304 491.307,995.833 492.69,997.381 494.073,998.92 495.456,1000.41 496.839,1002 498.222,1003.56 499.605,1005.16 \n",
       "  500.988,1006.66 502.371,1008.24 503.754,1009.81 505.137,1011.4 506.52,1013.08 507.903,1014.63 509.286,1016.12 510.669,1017.61 512.052,1019.35 513.435,1021.04 \n",
       "  514.818,1022.6 516.201,1024.19 517.585,1025.88 518.968,1027.43 520.351,1029.09 521.734,1030.74 523.117,1032.41 524.5,1033.85 525.883,1035.74 527.266,1037.34 \n",
       "  528.649,1038.94 530.032,1038.94 531.415,1040.69 532.798,1061.65 534.181,1071.41 535.564,1103.65 536.947,1135 538.33,1356.83 539.713,1370.28 541.096,1376.1 \n",
       "  542.479,1394.54 543.862,1442.73 545.245,1444.32 546.628,1444.72 548.011,1444.97 549.394,1444.97 550.777,1444.97 552.16,787.584 553.543,1069.69 554.926,907.229 \n",
       "  556.309,833.5 557.692,870.977 559.075,1012.73 560.459,1199.71 561.842,949.119 563.225,897.63 564.608,915.576 565.991,1002.26 567.374,1295.11 568.757,1092.18 \n",
       "  570.14,977.091 571.523,953.868 572.906,987.604 574.289,1097.62 575.672,1437.94 577.055,1106.74 578.438,1021.46 579.821,1010.53 581.204,1057.48 582.587,1197.03 \n",
       "  583.97,1346.22 585.353,1124.29 586.736,1064.19 588.119,1070.47 589.502,1140.43 590.885,1344.17 592.268,1266.68 593.651,1138.94 595.034,1109.77 596.417,1143.11 \n",
       "  597.8,1259.27 599.183,1416.79 600.566,1222.68 601.949,1161.43 603.333,1169.99 604.716,1248.87 606.099,1434.46 607.482,1300.63 608.865,1216.29 610.248,1205.92 \n",
       "  611.631,1266.51 613.014,1415.14 614.397,1355.37 615.78,1260.91 617.163,1246.79 618.546,1298.36 619.929,1421.06 621.312,1384.01 622.695,1298.29 624.078,1286.23 \n",
       "  625.461,1337.09 626.844,1435.83 628.227,1393.09 629.61,1326.83 630.993,1323.68 632.376,1378.59 633.759,1444.36 635.142,1397.27 636.525,1350.77 637.908,1361.72 \n",
       "  639.291,1413.64 640.674,1441.46 642.057,1397.26 643.44,1376.23 644.823,1396.41 646.207,1439.85 647.59,1434.5 648.973,1402.54 650.356,1398.52 651.739,1425.04 \n",
       "  653.122,1444.81 654.505,1426.32 655.888,1412.51 657.271,1423.23 658.654,1442.43 660.037,1440.7 661.42,1426.3 662.803,1425.51 664.186,1439.23 665.569,1444.03 \n",
       "  666.952,1435.81 668.335,1430.53 669.718,1438.78 671.101,1444.8 672.484,1441.43 673.867,1436.34 675.25,1437.4 676.633,1444.11 678.016,1444.7 679.399,1438.04 \n",
       "  680.782,1439.19 682.165,1444.23 683.548,1445.8 684.931,1442.18 686.314,1439.98 687.697,1442.78 689.081,1445.37 690.464,1443.89 691.847,1443.3 693.23,1443.68 \n",
       "  694.613,1444.87 695.996,1443.43 697.379,1444.06 698.762,1444.41 700.145,1443.77 701.528,1443.99 702.911,1444.44 704.294,1445.44 705.677,1444.61 707.06,1444.34 \n",
       "  708.443,1444.86 709.826,1444.91 711.209,1445.41 712.592,1445.08 713.975,1443.46 715.358,1444.65 716.741,1444.49 718.124,1445.16 719.507,1445.24 720.89,1445.31 \n",
       "  722.273,1445.22 723.656,1444.65 725.039,1444.96 726.422,1445.73 727.805,1445.06 729.188,1445.9 730.571,1445.55 731.955,1445.92 733.338,1445.04 734.721,1446.44 \n",
       "  736.104,1445.15 737.487,1445.23 738.87,1445.67 740.253,1442.67 741.636,1445.08 743.019,1445.06 744.402,1447.05 745.785,1445.4 747.168,1445.77 748.551,1445.95 \n",
       "  749.934,1444.75 751.317,1445.01 752.7,1445.4 754.083,1445.13 755.466,1445.09 756.849,1446.68 758.232,1445.12 759.615,1443.49 760.998,1445.22 762.381,1444.63 \n",
       "  763.764,1445.66 765.147,1447.12 766.53,1445.15 767.913,1442.55 769.296,1445.22 770.679,1445.38 772.062,1445.75 773.445,1444.72 774.829,1446.03 776.212,1444.58 \n",
       "  777.595,1445.07 778.978,1444.77 780.361,1447.45 781.744,1445.07 783.127,1445.06 784.51,1443.71 785.893,1445.31 787.276,1445.8 788.659,1445.28 790.042,1445.51 \n",
       "  791.425,1445.38 792.808,1445.98 794.191,1444.82 795.574,1445.2 796.957,1446.86 798.34,1444.15 799.723,1445.49 801.106,1445.04 802.489,1443.28 803.872,1445.95 \n",
       "  805.255,1445.2 806.638,1445.31 808.021,1446.98 809.404,1444.01 810.787,1445.32 812.17,1446.86 813.553,1445.42 814.936,1446.15 816.319,1445.56 817.703,1446.95 \n",
       "  819.086,1445.27 820.469,1444.57 821.852,1444.53 823.235,1446.17 824.618,1444.21 826.001,1446.66 827.384,1447.45 828.767,1442.8 830.15,1444.37 831.533,1445.25 \n",
       "  832.916,1445.79 834.299,1446.02 835.682,1446.02 837.065,1447 838.448,1447.05 839.831,1447.05 841.214,1447.05 842.597,1198.91 843.98,1390.45 845.363,1315.5 \n",
       "  846.746,1241.91 848.129,1267.14 849.512,1359.43 850.895,1444.77 852.278,1350.67 853.661,1300.6 855.044,1304.65 856.427,1350.45 857.81,1425.64 859.193,1426.28 \n",
       "  860.577,1370.92 861.96,1337.32 863.343,1347.93 864.726,1388.67 866.109,1439.61 867.492,1430.72 868.875,1389.86 870.258,1371.3 871.641,1381.95 873.024,1415.39 \n",
       "  874.407,1445.02 875.79,1432.62 877.173,1406.67 878.556,1397 879.939,1411.42 881.322,1435.78 882.705,1445.02 884.088,1433.26 885.471,1416.26 886.854,1417.3 \n",
       "  888.237,1428.28 889.62,1442.61 891.003,1443.22 892.386,1432.51 893.769,1429.3 895.152,1430.52 896.535,1440.88 897.918,1445.82 899.301,1442.21 900.684,1435.86 \n",
       "  902.067,1434.22 903.451,1439.76 904.834,1443.87 906.217,1442.74 907.6,1439.58 908.983,1439.23 910.366,1442.4 911.749,1444.88 913.132,1444.61 914.515,1441.96 \n",
       "  915.898,1440.51 917.281,1443.23 918.664,1445.21 920.047,1445.09 921.43,1443.64 922.813,1443.12 924.196,1443.93 925.579,1445.34 926.962,1446.06 928.345,1443.65 \n",
       "  929.728,1443.4 931.111,1444.76 932.494,1445.24 933.877,1443.86 935.26,1442.17 936.643,1441.36 938.026,1445.44 939.409,1446.69 940.792,1445.63 942.175,1445 \n",
       "  943.558,1441.78 944.941,1443.12 946.325,1445.38 947.708,1445.45 949.091,1444.89 950.474,1445.69 951.857,1445.66 953.24,1445.34 954.623,1445.44 956.006,1446.35 \n",
       "  957.389,1445.51 958.772,1445.35 960.155,1446.01 961.538,1445.8 962.921,1446.97 964.304,1444.18 965.687,1445.59 967.07,1443.94 968.453,1446.4 969.836,1445.37 \n",
       "  971.219,1445.88 972.602,1445.65 973.985,1446.44 975.368,1446.43 976.751,1445.78 978.134,1444.3 979.517,1444.23 980.9,1445.81 982.283,1444.97 983.666,1445.79 \n",
       "  985.049,1445.83 986.432,1445.21 987.815,1445.73 989.199,1445.29 990.582,1445.9 991.965,1445.74 993.348,1445.72 994.731,1445.28 996.114,1446.25 997.497,1445.7 \n",
       "  998.88,1445.59 1000.26,1445.47 1001.65,1445.62 1003.03,1446.23 1004.41,1444.01 1005.79,1447.18 1007.18,1445.61 1008.56,1446.35 1009.94,1447.74 1011.33,1447.87 \n",
       "  1012.71,1446.18 1014.09,1445.79 1015.48,1445.53 1016.86,1443.76 1018.24,1443.95 1019.63,1445.41 1021.01,1443.94 1022.39,1444.59 1023.77,1446.11 1025.16,1445.64 \n",
       "  1026.54,1445.65 1027.92,1445.12 1029.31,1443.63 1030.69,1446.53 1032.07,1445.45 1033.46,1444.71 1034.84,1445 1036.22,1445.31 1037.6,1445.89 1038.99,1445.58 \n",
       "  1040.37,1445.87 1041.75,1445.65 1043.14,1445.48 1044.52,1444.61 1045.9,1445.97 1047.29,1445.51 1048.67,1447.38 1050.05,1446.13 1051.43,1443.38 1052.82,1445.6 \n",
       "  1054.2,1445.61 1055.58,1446.2 1056.97,1445.3 1058.35,1445.86 1059.73,1447.42 1061.12,1445.53 1062.5,1444.91 1063.88,1444.95 1065.27,1444.75 1066.65,1445.76 \n",
       "  1068.03,1446.63 1069.41,1445.49 1070.8,1446.07 1072.18,1446.49 1073.56,1445.19 1074.95,1446.37 1076.33,1446.08 1077.71,1445.61 1079.1,1445.14 1080.48,1445.61 \n",
       "  1081.86,1445.77 1083.24,1446.61 1084.63,1446.62 1086.01,1444.98 1087.39,1445.73 1088.78,1445 1090.16,1445.39 1091.54,1445.52 1092.93,1445.75 1094.31,1446.12 \n",
       "  1095.69,1445.63 1097.08,1446.7 1098.46,1445.8 1099.84,1442.99 1101.22,1445.79 1102.61,1446.83 1103.99,1444.55 1105.37,1444.61 1106.76,1444.98 1108.14,1446.57 \n",
       "  1109.52,1446.07 1110.91,1446.47 1112.29,1444.53 1113.67,1446.49 1115.05,1446.7 1116.44,1445.81 1117.82,1447.87 1119.2,1445.47 1120.59,1446.46 1121.97,1447.2 \n",
       "  1123.35,1447.46 1124.74,1447.52 1126.12,1447.52 \n",
       "  \"/>\n",
       "<path clip-path=\"url(#clip100)\" d=\"\n",
       "M789.738 327.952 L1080.76 327.952 L1080.76 206.992 L789.738 206.992  Z\n",
       "  \" fill=\"#ffffff\" fill-rule=\"evenodd\" fill-opacity=\"1\"/>\n",
       "<polyline clip-path=\"url(#clip100)\" style=\"stroke:#000000; stroke-width:4; stroke-opacity:1; fill:none\" points=\"\n",
       "  789.738,327.952 1080.76,327.952 1080.76,206.992 789.738,206.992 789.738,327.952 \n",
       "  \"/>\n",
       "<polyline clip-path=\"url(#clip100)\" style=\"stroke:#009af9; stroke-width:4; stroke-opacity:1; fill:none\" points=\"\n",
       "  813.738,267.472 957.738,267.472 \n",
       "  \"/>\n",
       "<path clip-path=\"url(#clip100)\" d=\"M 0 0 M995.58 287.16 Q993.775 291.789 992.062 293.201 Q990.349 294.613 987.478 294.613 L984.076 294.613 L984.076 291.048 L986.576 291.048 Q988.335 291.048 989.307 290.215 Q990.279 289.382 991.46 286.28 L992.224 284.335 L981.738 258.826 L986.252 258.826 L994.353 279.104 L1002.46 258.826 L1006.97 258.826 L995.58 287.16 Z\" fill=\"#000000\" fill-rule=\"evenodd\" fill-opacity=\"1\" /><path clip-path=\"url(#clip100)\" d=\"M 0 0 M1012.85 280.817 L1020.49 280.817 L1020.49 254.451 L1012.18 256.118 L1012.18 251.859 L1020.44 250.192 L1025.12 250.192 L1025.12 280.817 L1032.76 280.817 L1032.76 284.752 L1012.85 284.752 L1012.85 280.817 Z\" fill=\"#000000\" fill-rule=\"evenodd\" fill-opacity=\"1\" /><path clip-path=\"url(#clip100)\" d=\"\n",
       "M1411.57 1486.45 L2352.76 1486.45 L2352.76 123.472 L1411.57 123.472  Z\n",
       "  \" fill=\"#ffffff\" fill-rule=\"evenodd\" fill-opacity=\"1\"/>\n",
       "<defs>\n",
       "  <clipPath id=\"clip103\">\n",
       "    <rect x=\"1411\" y=\"123\" width=\"942\" height=\"1364\"/>\n",
       "  </clipPath>\n",
       "</defs>\n",
       "<polyline clip-path=\"url(#clip103)\" style=\"stroke:#000000; stroke-width:2; stroke-opacity:0.1; fill:none\" points=\"\n",
       "  1436.87,1486.45 1436.87,123.472 \n",
       "  \"/>\n",
       "<polyline clip-path=\"url(#clip103)\" style=\"stroke:#000000; stroke-width:2; stroke-opacity:0.1; fill:none\" points=\"\n",
       "  1571,1486.45 1571,123.472 \n",
       "  \"/>\n",
       "<polyline clip-path=\"url(#clip103)\" style=\"stroke:#000000; stroke-width:2; stroke-opacity:0.1; fill:none\" points=\"\n",
       "  1705.12,1486.45 1705.12,123.472 \n",
       "  \"/>\n",
       "<polyline clip-path=\"url(#clip103)\" style=\"stroke:#000000; stroke-width:2; stroke-opacity:0.1; fill:none\" points=\"\n",
       "  1839.25,1486.45 1839.25,123.472 \n",
       "  \"/>\n",
       "<polyline clip-path=\"url(#clip103)\" style=\"stroke:#000000; stroke-width:2; stroke-opacity:0.1; fill:none\" points=\"\n",
       "  1973.37,1486.45 1973.37,123.472 \n",
       "  \"/>\n",
       "<polyline clip-path=\"url(#clip103)\" style=\"stroke:#000000; stroke-width:2; stroke-opacity:0.1; fill:none\" points=\"\n",
       "  2107.5,1486.45 2107.5,123.472 \n",
       "  \"/>\n",
       "<polyline clip-path=\"url(#clip103)\" style=\"stroke:#000000; stroke-width:2; stroke-opacity:0.1; fill:none\" points=\"\n",
       "  2241.62,1486.45 2241.62,123.472 \n",
       "  \"/>\n",
       "<polyline clip-path=\"url(#clip103)\" style=\"stroke:#000000; stroke-width:2; stroke-opacity:0.1; fill:none\" points=\"\n",
       "  1411.57,1376.09 2352.76,1376.09 \n",
       "  \"/>\n",
       "<polyline clip-path=\"url(#clip103)\" style=\"stroke:#000000; stroke-width:2; stroke-opacity:0.1; fill:none\" points=\"\n",
       "  1411.57,1190.64 2352.76,1190.64 \n",
       "  \"/>\n",
       "<polyline clip-path=\"url(#clip103)\" style=\"stroke:#000000; stroke-width:2; stroke-opacity:0.1; fill:none\" points=\"\n",
       "  1411.57,1005.19 2352.76,1005.19 \n",
       "  \"/>\n",
       "<polyline clip-path=\"url(#clip103)\" style=\"stroke:#000000; stroke-width:2; stroke-opacity:0.1; fill:none\" points=\"\n",
       "  1411.57,819.742 2352.76,819.742 \n",
       "  \"/>\n",
       "<polyline clip-path=\"url(#clip103)\" style=\"stroke:#000000; stroke-width:2; stroke-opacity:0.1; fill:none\" points=\"\n",
       "  1411.57,634.293 2352.76,634.293 \n",
       "  \"/>\n",
       "<polyline clip-path=\"url(#clip103)\" style=\"stroke:#000000; stroke-width:2; stroke-opacity:0.1; fill:none\" points=\"\n",
       "  1411.57,448.843 2352.76,448.843 \n",
       "  \"/>\n",
       "<polyline clip-path=\"url(#clip103)\" style=\"stroke:#000000; stroke-width:2; stroke-opacity:0.1; fill:none\" points=\"\n",
       "  1411.57,263.394 2352.76,263.394 \n",
       "  \"/>\n",
       "<polyline clip-path=\"url(#clip100)\" style=\"stroke:#000000; stroke-width:4; stroke-opacity:1; fill:none\" points=\"\n",
       "  1411.57,1486.45 2352.76,1486.45 \n",
       "  \"/>\n",
       "<polyline clip-path=\"url(#clip100)\" style=\"stroke:#000000; stroke-width:4; stroke-opacity:1; fill:none\" points=\"\n",
       "  1411.57,1486.45 1411.57,123.472 \n",
       "  \"/>\n",
       "<polyline clip-path=\"url(#clip100)\" style=\"stroke:#000000; stroke-width:4; stroke-opacity:1; fill:none\" points=\"\n",
       "  1436.87,1486.45 1436.87,1470.09 \n",
       "  \"/>\n",
       "<polyline clip-path=\"url(#clip100)\" style=\"stroke:#000000; stroke-width:4; stroke-opacity:1; fill:none\" points=\"\n",
       "  1571,1486.45 1571,1470.09 \n",
       "  \"/>\n",
       "<polyline clip-path=\"url(#clip100)\" style=\"stroke:#000000; stroke-width:4; stroke-opacity:1; fill:none\" points=\"\n",
       "  1705.12,1486.45 1705.12,1470.09 \n",
       "  \"/>\n",
       "<polyline clip-path=\"url(#clip100)\" style=\"stroke:#000000; stroke-width:4; stroke-opacity:1; fill:none\" points=\"\n",
       "  1839.25,1486.45 1839.25,1470.09 \n",
       "  \"/>\n",
       "<polyline clip-path=\"url(#clip100)\" style=\"stroke:#000000; stroke-width:4; stroke-opacity:1; fill:none\" points=\"\n",
       "  1973.37,1486.45 1973.37,1470.09 \n",
       "  \"/>\n",
       "<polyline clip-path=\"url(#clip100)\" style=\"stroke:#000000; stroke-width:4; stroke-opacity:1; fill:none\" points=\"\n",
       "  2107.5,1486.45 2107.5,1470.09 \n",
       "  \"/>\n",
       "<polyline clip-path=\"url(#clip100)\" style=\"stroke:#000000; stroke-width:4; stroke-opacity:1; fill:none\" points=\"\n",
       "  2241.62,1486.45 2241.62,1470.09 \n",
       "  \"/>\n",
       "<polyline clip-path=\"url(#clip100)\" style=\"stroke:#000000; stroke-width:4; stroke-opacity:1; fill:none\" points=\"\n",
       "  1411.57,1376.09 1422.87,1376.09 \n",
       "  \"/>\n",
       "<polyline clip-path=\"url(#clip100)\" style=\"stroke:#000000; stroke-width:4; stroke-opacity:1; fill:none\" points=\"\n",
       "  1411.57,1190.64 1422.87,1190.64 \n",
       "  \"/>\n",
       "<polyline clip-path=\"url(#clip100)\" style=\"stroke:#000000; stroke-width:4; stroke-opacity:1; fill:none\" points=\"\n",
       "  1411.57,1005.19 1422.87,1005.19 \n",
       "  \"/>\n",
       "<polyline clip-path=\"url(#clip100)\" style=\"stroke:#000000; stroke-width:4; stroke-opacity:1; fill:none\" points=\"\n",
       "  1411.57,819.742 1422.87,819.742 \n",
       "  \"/>\n",
       "<polyline clip-path=\"url(#clip100)\" style=\"stroke:#000000; stroke-width:4; stroke-opacity:1; fill:none\" points=\"\n",
       "  1411.57,634.293 1422.87,634.293 \n",
       "  \"/>\n",
       "<polyline clip-path=\"url(#clip100)\" style=\"stroke:#000000; stroke-width:4; stroke-opacity:1; fill:none\" points=\"\n",
       "  1411.57,448.843 1422.87,448.843 \n",
       "  \"/>\n",
       "<polyline clip-path=\"url(#clip100)\" style=\"stroke:#000000; stroke-width:4; stroke-opacity:1; fill:none\" points=\"\n",
       "  1411.57,263.394 1422.87,263.394 \n",
       "  \"/>\n",
       "<path clip-path=\"url(#clip100)\" d=\"M 0 0 M1436.87 1508.44 Q1433.26 1508.44 1431.43 1512 Q1429.63 1515.55 1429.63 1522.67 Q1429.63 1529.78 1431.43 1533.35 Q1433.26 1536.89 1436.87 1536.89 Q1440.5 1536.89 1442.31 1533.35 Q1444.14 1529.78 1444.14 1522.67 Q1444.14 1515.55 1442.31 1512 Q1440.5 1508.44 1436.87 1508.44 M1436.87 1504.73 Q1442.68 1504.73 1445.74 1509.34 Q1448.82 1513.92 1448.82 1522.67 Q1448.82 1531.4 1445.74 1536.01 Q1442.68 1540.59 1436.87 1540.59 Q1431.06 1540.59 1427.98 1536.01 Q1424.93 1531.4 1424.93 1522.67 Q1424.93 1513.92 1427.98 1509.34 Q1431.06 1504.73 1436.87 1504.73 Z\" fill=\"#000000\" fill-rule=\"evenodd\" fill-opacity=\"1\" /><path clip-path=\"url(#clip100)\" d=\"M 0 0 M1534.36 1535.98 L1542 1535.98 L1542 1509.62 L1533.69 1511.29 L1533.69 1507.03 L1541.96 1505.36 L1546.63 1505.36 L1546.63 1535.98 L1554.27 1535.98 L1554.27 1539.92 L1534.36 1539.92 L1534.36 1535.98 Z\" fill=\"#000000\" fill-rule=\"evenodd\" fill-opacity=\"1\" /><path clip-path=\"url(#clip100)\" d=\"M 0 0 M1569.34 1508.44 Q1565.73 1508.44 1563.9 1512 Q1562.1 1515.55 1562.1 1522.67 Q1562.1 1529.78 1563.9 1533.35 Q1565.73 1536.89 1569.34 1536.89 Q1572.97 1536.89 1574.78 1533.35 Q1576.61 1529.78 1576.61 1522.67 Q1576.61 1515.55 1574.78 1512 Q1572.97 1508.44 1569.34 1508.44 M1569.34 1504.73 Q1575.15 1504.73 1578.21 1509.34 Q1581.28 1513.92 1581.28 1522.67 Q1581.28 1531.4 1578.21 1536.01 Q1575.15 1540.59 1569.34 1540.59 Q1563.53 1540.59 1560.45 1536.01 Q1557.4 1531.4 1557.4 1522.67 Q1557.4 1513.92 1560.45 1509.34 Q1563.53 1504.73 1569.34 1504.73 Z\" fill=\"#000000\" fill-rule=\"evenodd\" fill-opacity=\"1\" /><path clip-path=\"url(#clip100)\" d=\"M 0 0 M1596.35 1508.44 Q1592.74 1508.44 1590.91 1512 Q1589.11 1515.55 1589.11 1522.67 Q1589.11 1529.78 1590.91 1533.35 Q1592.74 1536.89 1596.35 1536.89 Q1599.99 1536.89 1601.79 1533.35 Q1603.62 1529.78 1603.62 1522.67 Q1603.62 1515.55 1601.79 1512 Q1599.99 1508.44 1596.35 1508.44 M1596.35 1504.73 Q1602.16 1504.73 1605.22 1509.34 Q1608.3 1513.92 1608.3 1522.67 Q1608.3 1531.4 1605.22 1536.01 Q1602.16 1540.59 1596.35 1540.59 Q1590.54 1540.59 1587.47 1536.01 Q1584.41 1531.4 1584.41 1522.67 Q1584.41 1513.92 1587.47 1509.34 Q1590.54 1504.73 1596.35 1504.73 Z\" fill=\"#000000\" fill-rule=\"evenodd\" fill-opacity=\"1\" /><path clip-path=\"url(#clip100)\" d=\"M 0 0 M1672.76 1535.98 L1689.08 1535.98 L1689.08 1539.92 L1667.13 1539.92 L1667.13 1535.98 Q1669.8 1533.23 1674.38 1528.6 Q1678.99 1523.95 1680.17 1522.61 Q1682.41 1520.08 1683.29 1518.35 Q1684.19 1516.59 1684.19 1514.9 Q1684.19 1512.14 1682.25 1510.41 Q1680.33 1508.67 1677.23 1508.67 Q1675.03 1508.67 1672.57 1509.43 Q1670.14 1510.2 1667.37 1511.75 L1667.37 1507.03 Q1670.19 1505.89 1672.64 1505.31 Q1675.1 1504.73 1677.13 1504.73 Q1682.5 1504.73 1685.7 1507.42 Q1688.89 1510.11 1688.89 1514.6 Q1688.89 1516.73 1688.08 1518.65 Q1687.3 1520.54 1685.19 1523.14 Q1684.61 1523.81 1681.51 1527.03 Q1678.41 1530.22 1672.76 1535.98 Z\" fill=\"#000000\" fill-rule=\"evenodd\" fill-opacity=\"1\" /><path clip-path=\"url(#clip100)\" d=\"M 0 0 M1704.15 1508.44 Q1700.54 1508.44 1698.71 1512 Q1696.9 1515.55 1696.9 1522.67 Q1696.9 1529.78 1698.71 1533.35 Q1700.54 1536.89 1704.15 1536.89 Q1707.78 1536.89 1709.59 1533.35 Q1711.42 1529.78 1711.42 1522.67 Q1711.42 1515.55 1709.59 1512 Q1707.78 1508.44 1704.15 1508.44 M1704.15 1504.73 Q1709.96 1504.73 1713.01 1509.34 Q1716.09 1513.92 1716.09 1522.67 Q1716.09 1531.4 1713.01 1536.01 Q1709.96 1540.59 1704.15 1540.59 Q1698.34 1540.59 1695.26 1536.01 Q1692.2 1531.4 1692.2 1522.67 Q1692.2 1513.92 1695.26 1509.34 Q1698.34 1504.73 1704.15 1504.73 Z\" fill=\"#000000\" fill-rule=\"evenodd\" fill-opacity=\"1\" /><path clip-path=\"url(#clip100)\" d=\"M 0 0 M1731.16 1508.44 Q1727.55 1508.44 1725.72 1512 Q1723.92 1515.55 1723.92 1522.67 Q1723.92 1529.78 1725.72 1533.35 Q1727.55 1536.89 1731.16 1536.89 Q1734.8 1536.89 1736.6 1533.35 Q1738.43 1529.78 1738.43 1522.67 Q1738.43 1515.55 1736.6 1512 Q1734.8 1508.44 1731.16 1508.44 M1731.16 1504.73 Q1736.97 1504.73 1740.03 1509.34 Q1743.11 1513.92 1743.11 1522.67 Q1743.11 1531.4 1740.03 1536.01 Q1736.97 1540.59 1731.16 1540.59 Q1725.35 1540.59 1722.27 1536.01 Q1719.22 1531.4 1719.22 1522.67 Q1719.22 1513.92 1722.27 1509.34 Q1725.35 1504.73 1731.16 1504.73 Z\" fill=\"#000000\" fill-rule=\"evenodd\" fill-opacity=\"1\" /><path clip-path=\"url(#clip100)\" d=\"M 0 0 M1816.48 1521.29 Q1819.84 1522 1821.71 1524.27 Q1823.61 1526.54 1823.61 1529.87 Q1823.61 1534.99 1820.09 1537.79 Q1816.57 1540.59 1810.09 1540.59 Q1807.91 1540.59 1805.6 1540.15 Q1803.31 1539.73 1800.85 1538.88 L1800.85 1534.36 Q1802.8 1535.5 1805.11 1536.08 Q1807.43 1536.66 1809.95 1536.66 Q1814.35 1536.66 1816.64 1534.92 Q1818.96 1533.18 1818.96 1529.87 Q1818.96 1526.82 1816.8 1525.11 Q1814.67 1523.37 1810.85 1523.37 L1806.83 1523.37 L1806.83 1519.53 L1811.04 1519.53 Q1814.49 1519.53 1816.32 1518.16 Q1818.15 1516.77 1818.15 1514.18 Q1818.15 1511.52 1816.25 1510.11 Q1814.37 1508.67 1810.85 1508.67 Q1808.93 1508.67 1806.73 1509.09 Q1804.53 1509.5 1801.9 1510.38 L1801.9 1506.22 Q1804.56 1505.48 1806.87 1505.11 Q1809.21 1504.73 1811.27 1504.73 Q1816.6 1504.73 1819.7 1507.17 Q1822.8 1509.57 1822.8 1513.69 Q1822.8 1516.56 1821.16 1518.55 Q1819.51 1520.52 1816.48 1521.29 Z\" fill=\"#000000\" fill-rule=\"evenodd\" fill-opacity=\"1\" /><path clip-path=\"url(#clip100)\" d=\"M 0 0 M1838.68 1508.44 Q1835.07 1508.44 1833.24 1512 Q1831.43 1515.55 1831.43 1522.67 Q1831.43 1529.78 1833.24 1533.35 Q1835.07 1536.89 1838.68 1536.89 Q1842.31 1536.89 1844.12 1533.35 Q1845.95 1529.78 1845.95 1522.67 Q1845.95 1515.55 1844.12 1512 Q1842.31 1508.44 1838.68 1508.44 M1838.68 1504.73 Q1844.49 1504.73 1847.54 1509.34 Q1850.62 1513.92 1850.62 1522.67 Q1850.62 1531.4 1847.54 1536.01 Q1844.49 1540.59 1838.68 1540.59 Q1832.87 1540.59 1829.79 1536.01 Q1826.73 1531.4 1826.73 1522.67 Q1826.73 1513.92 1829.79 1509.34 Q1832.87 1504.73 1838.68 1504.73 Z\" fill=\"#000000\" fill-rule=\"evenodd\" fill-opacity=\"1\" /><path clip-path=\"url(#clip100)\" d=\"M 0 0 M1865.69 1508.44 Q1862.08 1508.44 1860.25 1512 Q1858.45 1515.55 1858.45 1522.67 Q1858.45 1529.78 1860.25 1533.35 Q1862.08 1536.89 1865.69 1536.89 Q1869.33 1536.89 1871.13 1533.35 Q1872.96 1529.78 1872.96 1522.67 Q1872.96 1515.55 1871.13 1512 Q1869.33 1508.44 1865.69 1508.44 M1865.69 1504.73 Q1871.5 1504.73 1874.56 1509.34 Q1877.64 1513.92 1877.64 1522.67 Q1877.64 1531.4 1874.56 1536.01 Q1871.5 1540.59 1865.69 1540.59 Q1859.88 1540.59 1856.8 1536.01 Q1853.75 1531.4 1853.75 1522.67 Q1853.75 1513.92 1856.8 1509.34 Q1859.88 1504.73 1865.69 1504.73 Z\" fill=\"#000000\" fill-rule=\"evenodd\" fill-opacity=\"1\" /><path clip-path=\"url(#clip100)\" d=\"M 0 0 M1949.37 1509.43 L1937.56 1527.88 L1949.37 1527.88 L1949.37 1509.43 M1948.14 1505.36 L1954.02 1505.36 L1954.02 1527.88 L1958.95 1527.88 L1958.95 1531.77 L1954.02 1531.77 L1954.02 1539.92 L1949.37 1539.92 L1949.37 1531.77 L1933.76 1531.77 L1933.76 1527.26 L1948.14 1505.36 Z\" fill=\"#000000\" fill-rule=\"evenodd\" fill-opacity=\"1\" /><path clip-path=\"url(#clip100)\" d=\"M 0 0 M1974.02 1508.44 Q1970.41 1508.44 1968.58 1512 Q1966.77 1515.55 1966.77 1522.67 Q1966.77 1529.78 1968.58 1533.35 Q1970.41 1536.89 1974.02 1536.89 Q1977.65 1536.89 1979.46 1533.35 Q1981.29 1529.78 1981.29 1522.67 Q1981.29 1515.55 1979.46 1512 Q1977.65 1508.44 1974.02 1508.44 M1974.02 1504.73 Q1979.83 1504.73 1982.88 1509.34 Q1985.96 1513.92 1985.96 1522.67 Q1985.96 1531.4 1982.88 1536.01 Q1979.83 1540.59 1974.02 1540.59 Q1968.21 1540.59 1965.13 1536.01 Q1962.07 1531.4 1962.07 1522.67 Q1962.07 1513.92 1965.13 1509.34 Q1968.21 1504.73 1974.02 1504.73 Z\" fill=\"#000000\" fill-rule=\"evenodd\" fill-opacity=\"1\" /><path clip-path=\"url(#clip100)\" d=\"M 0 0 M2001.03 1508.44 Q1997.42 1508.44 1995.59 1512 Q1993.79 1515.55 1993.79 1522.67 Q1993.79 1529.78 1995.59 1533.35 Q1997.42 1536.89 2001.03 1536.89 Q2004.67 1536.89 2006.47 1533.35 Q2008.3 1529.78 2008.3 1522.67 Q2008.3 1515.55 2006.47 1512 Q2004.67 1508.44 2001.03 1508.44 M2001.03 1504.73 Q2006.84 1504.73 2009.9 1509.34 Q2012.98 1513.92 2012.98 1522.67 Q2012.98 1531.4 2009.9 1536.01 Q2006.84 1540.59 2001.03 1540.59 Q1995.22 1540.59 1992.14 1536.01 Q1989.09 1531.4 1989.09 1522.67 Q1989.09 1513.92 1992.14 1509.34 Q1995.22 1504.73 2001.03 1504.73 Z\" fill=\"#000000\" fill-rule=\"evenodd\" fill-opacity=\"1\" /><path clip-path=\"url(#clip100)\" d=\"M 0 0 M2070.76 1505.36 L2089.12 1505.36 L2089.12 1509.3 L2075.04 1509.3 L2075.04 1517.77 Q2076.06 1517.42 2077.08 1517.26 Q2078.1 1517.07 2079.12 1517.07 Q2084.9 1517.07 2088.28 1520.24 Q2091.66 1523.42 2091.66 1528.83 Q2091.66 1534.41 2088.19 1537.51 Q2084.72 1540.59 2078.4 1540.59 Q2076.22 1540.59 2073.95 1540.22 Q2071.71 1539.85 2069.3 1539.11 L2069.3 1534.41 Q2071.38 1535.54 2073.61 1536.1 Q2075.83 1536.66 2078.31 1536.66 Q2082.31 1536.66 2084.65 1534.55 Q2086.99 1532.44 2086.99 1528.83 Q2086.99 1525.22 2084.65 1523.11 Q2082.31 1521.01 2078.31 1521.01 Q2076.43 1521.01 2074.56 1521.42 Q2072.7 1521.84 2070.76 1522.72 L2070.76 1505.36 Z\" fill=\"#000000\" fill-rule=\"evenodd\" fill-opacity=\"1\" /><path clip-path=\"url(#clip100)\" d=\"M 0 0 M2106.73 1508.44 Q2103.12 1508.44 2101.29 1512 Q2099.49 1515.55 2099.49 1522.67 Q2099.49 1529.78 2101.29 1533.35 Q2103.12 1536.89 2106.73 1536.89 Q2110.37 1536.89 2112.17 1533.35 Q2114 1529.78 2114 1522.67 Q2114 1515.55 2112.17 1512 Q2110.37 1508.44 2106.73 1508.44 M2106.73 1504.73 Q2112.54 1504.73 2115.6 1509.34 Q2118.68 1513.92 2118.68 1522.67 Q2118.68 1531.4 2115.6 1536.01 Q2112.54 1540.59 2106.73 1540.59 Q2100.92 1540.59 2097.84 1536.01 Q2094.79 1531.4 2094.79 1522.67 Q2094.79 1513.92 2097.84 1509.34 Q2100.92 1504.73 2106.73 1504.73 Z\" fill=\"#000000\" fill-rule=\"evenodd\" fill-opacity=\"1\" /><path clip-path=\"url(#clip100)\" d=\"M 0 0 M2133.75 1508.44 Q2130.13 1508.44 2128.31 1512 Q2126.5 1515.55 2126.5 1522.67 Q2126.5 1529.78 2128.31 1533.35 Q2130.13 1536.89 2133.75 1536.89 Q2137.38 1536.89 2139.18 1533.35 Q2141.01 1529.78 2141.01 1522.67 Q2141.01 1515.55 2139.18 1512 Q2137.38 1508.44 2133.75 1508.44 M2133.75 1504.73 Q2139.56 1504.73 2142.61 1509.34 Q2145.69 1513.92 2145.69 1522.67 Q2145.69 1531.4 2142.61 1536.01 Q2139.56 1540.59 2133.75 1540.59 Q2127.93 1540.59 2124.86 1536.01 Q2121.8 1531.4 2121.8 1522.67 Q2121.8 1513.92 2124.86 1509.34 Q2127.93 1504.73 2133.75 1504.73 Z\" fill=\"#000000\" fill-rule=\"evenodd\" fill-opacity=\"1\" /><path clip-path=\"url(#clip100)\" d=\"M 0 0 M2215.01 1520.78 Q2211.86 1520.78 2210.01 1522.93 Q2208.18 1525.08 2208.18 1528.83 Q2208.18 1532.56 2210.01 1534.73 Q2211.86 1536.89 2215.01 1536.89 Q2218.16 1536.89 2219.99 1534.73 Q2221.84 1532.56 2221.84 1528.83 Q2221.84 1525.08 2219.99 1522.93 Q2218.16 1520.78 2215.01 1520.78 M2224.29 1506.12 L2224.29 1510.38 Q2222.53 1509.55 2220.73 1509.11 Q2218.95 1508.67 2217.19 1508.67 Q2212.56 1508.67 2210.1 1511.8 Q2207.67 1514.92 2207.33 1521.24 Q2208.69 1519.23 2210.75 1518.16 Q2212.81 1517.07 2215.29 1517.07 Q2220.5 1517.07 2223.51 1520.24 Q2226.54 1523.39 2226.54 1528.83 Q2226.54 1534.16 2223.39 1537.37 Q2220.24 1540.59 2215.01 1540.59 Q2209.02 1540.59 2205.84 1536.01 Q2202.67 1531.4 2202.67 1522.67 Q2202.67 1514.48 2206.56 1509.62 Q2210.45 1504.73 2217 1504.73 Q2218.76 1504.73 2220.54 1505.08 Q2222.35 1505.43 2224.29 1506.12 Z\" fill=\"#000000\" fill-rule=\"evenodd\" fill-opacity=\"1\" /><path clip-path=\"url(#clip100)\" d=\"M 0 0 M2241.61 1508.44 Q2238 1508.44 2236.17 1512 Q2234.36 1515.55 2234.36 1522.67 Q2234.36 1529.78 2236.17 1533.35 Q2238 1536.89 2241.61 1536.89 Q2245.24 1536.89 2247.05 1533.35 Q2248.88 1529.78 2248.88 1522.67 Q2248.88 1515.55 2247.05 1512 Q2245.24 1508.44 2241.61 1508.44 M2241.61 1504.73 Q2247.42 1504.73 2250.47 1509.34 Q2253.55 1513.92 2253.55 1522.67 Q2253.55 1531.4 2250.47 1536.01 Q2247.42 1540.59 2241.61 1540.59 Q2235.8 1540.59 2232.72 1536.01 Q2229.66 1531.4 2229.66 1522.67 Q2229.66 1513.92 2232.72 1509.34 Q2235.8 1504.73 2241.61 1504.73 Z\" fill=\"#000000\" fill-rule=\"evenodd\" fill-opacity=\"1\" /><path clip-path=\"url(#clip100)\" d=\"M 0 0 M2268.62 1508.44 Q2265.01 1508.44 2263.18 1512 Q2261.38 1515.55 2261.38 1522.67 Q2261.38 1529.78 2263.18 1533.35 Q2265.01 1536.89 2268.62 1536.89 Q2272.26 1536.89 2274.06 1533.35 Q2275.89 1529.78 2275.89 1522.67 Q2275.89 1515.55 2274.06 1512 Q2272.26 1508.44 2268.62 1508.44 M2268.62 1504.73 Q2274.43 1504.73 2277.49 1509.34 Q2280.57 1513.92 2280.57 1522.67 Q2280.57 1531.4 2277.49 1536.01 Q2274.43 1540.59 2268.62 1540.59 Q2262.81 1540.59 2259.73 1536.01 Q2256.68 1531.4 2256.68 1522.67 Q2256.68 1513.92 2259.73 1509.34 Q2262.81 1504.73 2268.62 1504.73 Z\" fill=\"#000000\" fill-rule=\"evenodd\" fill-opacity=\"1\" /><path clip-path=\"url(#clip100)\" d=\"M 0 0 M1298.37 1395.88 L1306.01 1395.88 L1306.01 1369.52 L1297.7 1371.18 L1297.7 1366.92 L1305.97 1365.26 L1310.64 1365.26 L1310.64 1395.88 L1318.28 1395.88 L1318.28 1399.82 L1298.37 1399.82 L1298.37 1395.88 Z\" fill=\"#000000\" fill-rule=\"evenodd\" fill-opacity=\"1\" /><path clip-path=\"url(#clip100)\" d=\"M 0 0 M1333.35 1368.34 Q1329.74 1368.34 1327.91 1371.9 Q1326.11 1375.44 1326.11 1382.57 Q1326.11 1389.68 1327.91 1393.24 Q1329.74 1396.79 1333.35 1396.79 Q1336.98 1396.79 1338.79 1393.24 Q1340.62 1389.68 1340.62 1382.57 Q1340.62 1375.44 1338.79 1371.9 Q1336.98 1368.34 1333.35 1368.34 M1333.35 1364.63 Q1339.16 1364.63 1342.22 1369.24 Q1345.29 1373.82 1345.29 1382.57 Q1345.29 1391.3 1342.22 1395.91 Q1339.16 1400.49 1333.35 1400.49 Q1327.54 1400.49 1324.46 1395.91 Q1321.41 1391.3 1321.41 1382.57 Q1321.41 1373.82 1324.46 1369.24 Q1327.54 1364.63 1333.35 1364.63 Z\" fill=\"#000000\" fill-rule=\"evenodd\" fill-opacity=\"1\" /><path clip-path=\"url(#clip100)\" d=\"M 0 0 M1345.29 1360.31 L1355.43 1360.31 L1355.43 1363.4 L1345.29 1363.4 L1345.29 1360.31 Z\" fill=\"#000000\" fill-rule=\"evenodd\" fill-opacity=\"1\" /><path clip-path=\"url(#clip100)\" d=\"M 0 0 M1370.59 1344.33 L1385.51 1344.33 L1385.51 1347.52 L1374.07 1347.52 L1374.07 1354.41 Q1374.9 1354.13 1375.73 1353.99 Q1376.55 1353.84 1377.38 1353.84 Q1382.08 1353.84 1384.83 1356.42 Q1387.57 1359 1387.57 1363.4 Q1387.57 1367.93 1384.75 1370.45 Q1381.93 1372.95 1376.8 1372.95 Q1375.03 1372.95 1373.19 1372.65 Q1371.36 1372.35 1369.41 1371.75 L1369.41 1367.93 Q1371.1 1368.85 1372.9 1369.3 Q1374.71 1369.76 1376.72 1369.76 Q1379.98 1369.76 1381.88 1368.04 Q1383.78 1366.33 1383.78 1363.4 Q1383.78 1360.46 1381.88 1358.75 Q1379.98 1357.04 1376.72 1357.04 Q1375.2 1357.04 1373.68 1357.38 Q1372.17 1357.72 1370.59 1358.43 L1370.59 1344.33 Z\" fill=\"#000000\" fill-rule=\"evenodd\" fill-opacity=\"1\" /><path clip-path=\"url(#clip100)\" d=\"M 0 0 M1296.08 1210.43 L1303.72 1210.43 L1303.72 1184.07 L1295.41 1185.73 L1295.41 1181.48 L1303.67 1179.81 L1308.35 1179.81 L1308.35 1210.43 L1315.99 1210.43 L1315.99 1214.37 L1296.08 1214.37 L1296.08 1210.43 Z\" fill=\"#000000\" fill-rule=\"evenodd\" fill-opacity=\"1\" /><path clip-path=\"url(#clip100)\" d=\"M 0 0 M1331.06 1182.89 Q1327.44 1182.89 1325.62 1186.45 Q1323.81 1189.99 1323.81 1197.12 Q1323.81 1204.23 1325.62 1207.79 Q1327.44 1211.34 1331.06 1211.34 Q1334.69 1211.34 1336.5 1207.79 Q1338.32 1204.23 1338.32 1197.12 Q1338.32 1189.99 1336.5 1186.45 Q1334.69 1182.89 1331.06 1182.89 M1331.06 1179.18 Q1336.87 1179.18 1339.92 1183.79 Q1343 1188.37 1343 1197.12 Q1343 1205.85 1339.92 1210.46 Q1336.87 1215.04 1331.06 1215.04 Q1325.25 1215.04 1322.17 1210.46 Q1319.11 1205.85 1319.11 1197.12 Q1319.11 1188.37 1322.17 1183.79 Q1325.25 1179.18 1331.06 1179.18 Z\" fill=\"#000000\" fill-rule=\"evenodd\" fill-opacity=\"1\" /><path clip-path=\"url(#clip100)\" d=\"M 0 0 M1343 1174.86 L1353.14 1174.86 L1353.14 1177.95 L1343 1177.95 L1343 1174.86 Z\" fill=\"#000000\" fill-rule=\"evenodd\" fill-opacity=\"1\" /><path clip-path=\"url(#clip100)\" d=\"M 0 0 M1379.79 1162.19 L1370.2 1177.18 L1379.79 1177.18 L1379.79 1162.19 M1378.79 1158.88 L1383.57 1158.88 L1383.57 1177.18 L1387.57 1177.18 L1387.57 1180.34 L1383.57 1180.34 L1383.57 1186.96 L1379.79 1186.96 L1379.79 1180.34 L1367.11 1180.34 L1367.11 1176.67 L1378.79 1158.88 Z\" fill=\"#000000\" fill-rule=\"evenodd\" fill-opacity=\"1\" /><path clip-path=\"url(#clip100)\" d=\"M 0 0 M1298.05 1024.98 L1305.69 1024.98 L1305.69 998.618 L1297.38 1000.29 L1297.38 996.026 L1305.65 994.359 L1310.32 994.359 L1310.32 1024.98 L1317.96 1024.98 L1317.96 1028.92 L1298.05 1028.92 L1298.05 1024.98 Z\" fill=\"#000000\" fill-rule=\"evenodd\" fill-opacity=\"1\" /><path clip-path=\"url(#clip100)\" d=\"M 0 0 M1333.03 997.438 Q1329.42 997.438 1327.59 1001 Q1325.79 1004.54 1325.79 1011.67 Q1325.79 1018.78 1327.59 1022.35 Q1329.42 1025.89 1333.03 1025.89 Q1336.67 1025.89 1338.47 1022.35 Q1340.3 1018.78 1340.3 1011.67 Q1340.3 1004.54 1338.47 1001 Q1336.67 997.438 1333.03 997.438 M1333.03 993.734 Q1338.84 993.734 1341.9 998.341 Q1344.98 1002.92 1344.98 1011.67 Q1344.98 1020.4 1341.9 1025.01 Q1338.84 1029.59 1333.03 1029.59 Q1327.22 1029.59 1324.14 1025.01 Q1321.09 1020.4 1321.09 1011.67 Q1321.09 1002.92 1324.14 998.341 Q1327.22 993.734 1333.03 993.734 Z\" fill=\"#000000\" fill-rule=\"evenodd\" fill-opacity=\"1\" /><path clip-path=\"url(#clip100)\" d=\"M 0 0 M1344.98 989.415 L1355.11 989.415 L1355.11 992.5 L1344.98 992.5 L1344.98 989.415 Z\" fill=\"#000000\" fill-rule=\"evenodd\" fill-opacity=\"1\" /><path clip-path=\"url(#clip100)\" d=\"M 0 0 M1381.78 986.369 Q1384.51 986.952 1386.03 988.795 Q1387.57 990.638 1387.57 993.346 Q1387.57 997.503 1384.72 999.778 Q1381.86 1002.05 1376.59 1002.05 Q1374.82 1002.05 1372.94 1001.7 Q1371.08 1001.36 1369.09 1000.66 L1369.09 996.995 Q1370.67 997.916 1372.55 998.387 Q1374.43 998.857 1376.48 998.857 Q1380.05 998.857 1381.91 997.446 Q1383.79 996.036 1383.79 993.346 Q1383.79 990.864 1382.05 989.472 Q1380.31 988.061 1377.21 988.061 L1373.94 988.061 L1373.94 984.939 L1377.36 984.939 Q1380.16 984.939 1381.65 983.829 Q1383.14 982.701 1383.14 980.595 Q1383.14 978.432 1381.59 977.284 Q1380.07 976.118 1377.21 976.118 Q1375.65 976.118 1373.86 976.457 Q1372.08 976.795 1369.93 977.51 L1369.93 974.125 Q1372.1 973.523 1373.98 973.222 Q1375.88 972.921 1377.55 972.921 Q1381.88 972.921 1384.4 974.896 Q1386.92 976.852 1386.92 980.2 Q1386.92 982.532 1385.58 984.149 Q1384.25 985.748 1381.78 986.369 Z\" fill=\"#000000\" fill-rule=\"evenodd\" fill-opacity=\"1\" /><path clip-path=\"url(#clip100)\" d=\"M 0 0 M1298.71 839.535 L1306.35 839.535 L1306.35 813.169 L1298.04 814.836 L1298.04 810.576 L1306.3 808.91 L1310.98 808.91 L1310.98 839.535 L1318.62 839.535 L1318.62 843.47 L1298.71 843.47 L1298.71 839.535 Z\" fill=\"#000000\" fill-rule=\"evenodd\" fill-opacity=\"1\" /><path clip-path=\"url(#clip100)\" d=\"M 0 0 M1333.69 811.988 Q1330.08 811.988 1328.25 815.553 Q1326.44 819.095 1326.44 826.224 Q1326.44 833.331 1328.25 836.896 Q1330.08 840.437 1333.69 840.437 Q1337.32 840.437 1339.13 836.896 Q1340.96 833.331 1340.96 826.224 Q1340.96 819.095 1339.13 815.553 Q1337.32 811.988 1333.69 811.988 M1333.69 808.285 Q1339.5 808.285 1342.55 812.891 Q1345.63 817.474 1345.63 826.224 Q1345.63 834.951 1342.55 839.558 Q1339.5 844.141 1333.69 844.141 Q1327.88 844.141 1324.8 839.558 Q1321.74 834.951 1321.74 826.224 Q1321.74 817.474 1324.8 812.891 Q1327.88 808.285 1333.69 808.285 Z\" fill=\"#000000\" fill-rule=\"evenodd\" fill-opacity=\"1\" /><path clip-path=\"url(#clip100)\" d=\"M 0 0 M1345.63 803.966 L1355.77 803.966 L1355.77 807.05 L1345.63 807.05 L1345.63 803.966 Z\" fill=\"#000000\" fill-rule=\"evenodd\" fill-opacity=\"1\" /><path clip-path=\"url(#clip100)\" d=\"M 0 0 M1374.32 812.862 L1387.57 812.862 L1387.57 816.059 L1369.75 816.059 L1369.75 812.862 Q1371.91 810.624 1375.63 806.862 Q1379.37 803.082 1380.33 801.991 Q1382.16 799.941 1382.87 798.53 Q1383.61 797.101 1383.61 795.728 Q1383.61 793.49 1382.03 792.079 Q1380.47 790.669 1377.95 790.669 Q1376.16 790.669 1374.16 791.289 Q1372.19 791.91 1369.93 793.17 L1369.93 789.333 Q1372.23 788.412 1374.22 787.942 Q1376.21 787.472 1377.87 787.472 Q1382.23 787.472 1384.83 789.653 Q1387.42 791.835 1387.42 795.484 Q1387.42 797.214 1386.77 798.775 Q1386.13 800.317 1384.42 802.424 Q1383.94 802.969 1381.42 805.583 Q1378.9 808.179 1374.32 812.862 Z\" fill=\"#000000\" fill-rule=\"evenodd\" fill-opacity=\"1\" /><path clip-path=\"url(#clip100)\" d=\"M 0 0 M1299.82 654.085 L1307.46 654.085 L1307.46 627.72 L1299.15 629.386 L1299.15 625.127 L1307.41 623.46 L1312.09 623.46 L1312.09 654.085 L1319.73 654.085 L1319.73 658.02 L1299.82 658.02 L1299.82 654.085 Z\" fill=\"#000000\" fill-rule=\"evenodd\" fill-opacity=\"1\" /><path clip-path=\"url(#clip100)\" d=\"M 0 0 M1334.8 626.539 Q1331.19 626.539 1329.36 630.104 Q1327.55 633.645 1327.55 640.775 Q1327.55 647.881 1329.36 651.446 Q1331.19 654.988 1334.8 654.988 Q1338.43 654.988 1340.24 651.446 Q1342.07 647.881 1342.07 640.775 Q1342.07 633.645 1340.24 630.104 Q1338.43 626.539 1334.8 626.539 M1334.8 622.835 Q1340.61 622.835 1343.66 627.442 Q1346.74 632.025 1346.74 640.775 Q1346.74 649.502 1343.66 654.108 Q1340.61 658.692 1334.8 658.692 Q1328.99 658.692 1325.91 654.108 Q1322.85 649.502 1322.85 640.775 Q1322.85 632.025 1325.91 627.442 Q1328.99 622.835 1334.8 622.835 Z\" fill=\"#000000\" fill-rule=\"evenodd\" fill-opacity=\"1\" /><path clip-path=\"url(#clip100)\" d=\"M 0 0 M1346.74 618.516 L1356.88 618.516 L1356.88 621.601 L1346.74 621.601 L1346.74 618.516 Z\" fill=\"#000000\" fill-rule=\"evenodd\" fill-opacity=\"1\" /><path clip-path=\"url(#clip100)\" d=\"M 0 0 M1371.4 627.413 L1377.61 627.413 L1377.61 605.991 L1370.85 607.345 L1370.85 603.884 L1377.57 602.53 L1381.37 602.53 L1381.37 627.413 L1387.57 627.413 L1387.57 630.61 L1371.4 630.61 L1371.4 627.413 Z\" fill=\"#000000\" fill-rule=\"evenodd\" fill-opacity=\"1\" /><path clip-path=\"url(#clip100)\" d=\"M 0 0 M1321.24 468.636 L1328.88 468.636 L1328.88 442.27 L1320.57 443.937 L1320.57 439.677 L1328.84 438.011 L1333.51 438.011 L1333.51 468.636 L1341.15 468.636 L1341.15 472.571 L1321.24 472.571 L1321.24 468.636 Z\" fill=\"#000000\" fill-rule=\"evenodd\" fill-opacity=\"1\" /><path clip-path=\"url(#clip100)\" d=\"M 0 0 M1356.22 441.09 Q1352.61 441.09 1350.78 444.654 Q1348.98 448.196 1348.98 455.326 Q1348.98 462.432 1350.78 465.997 Q1352.61 469.538 1356.22 469.538 Q1359.86 469.538 1361.66 465.997 Q1363.49 462.432 1363.49 455.326 Q1363.49 448.196 1361.66 444.654 Q1359.86 441.09 1356.22 441.09 M1356.22 437.386 Q1362.03 437.386 1365.09 441.992 Q1368.17 446.576 1368.17 455.326 Q1368.17 464.052 1365.09 468.659 Q1362.03 473.242 1356.22 473.242 Q1350.41 473.242 1347.33 468.659 Q1344.28 464.052 1344.28 455.326 Q1344.28 446.576 1347.33 441.992 Q1350.41 437.386 1356.22 437.386 Z\" fill=\"#000000\" fill-rule=\"evenodd\" fill-opacity=\"1\" /><path clip-path=\"url(#clip100)\" d=\"M 0 0 M1377.87 419.582 Q1374.94 419.582 1373.45 422.478 Q1371.98 425.356 1371.98 431.149 Q1371.98 436.923 1373.45 439.819 Q1374.94 442.697 1377.87 442.697 Q1380.82 442.697 1382.29 439.819 Q1383.78 436.923 1383.78 431.149 Q1383.78 425.356 1382.29 422.478 Q1380.82 419.582 1377.87 419.582 M1377.87 416.573 Q1382.59 416.573 1385.07 420.315 Q1387.57 424.039 1387.57 431.149 Q1387.57 438.239 1385.07 441.982 Q1382.59 445.706 1377.87 445.706 Q1373.15 445.706 1370.65 441.982 Q1368.17 438.239 1368.17 431.149 Q1368.17 424.039 1370.65 420.315 Q1373.15 416.573 1377.87 416.573 Z\" fill=\"#000000\" fill-rule=\"evenodd\" fill-opacity=\"1\" /><path clip-path=\"url(#clip100)\" d=\"M 0 0 M1323.93 283.186 L1331.57 283.186 L1331.57 256.821 L1323.26 258.487 L1323.26 254.228 L1331.53 252.561 L1336.2 252.561 L1336.2 283.186 L1343.84 283.186 L1343.84 287.121 L1323.93 287.121 L1323.93 283.186 Z\" fill=\"#000000\" fill-rule=\"evenodd\" fill-opacity=\"1\" /><path clip-path=\"url(#clip100)\" d=\"M 0 0 M1358.91 255.64 Q1355.3 255.64 1353.47 259.205 Q1351.66 262.747 1351.66 269.876 Q1351.66 276.983 1353.47 280.547 Q1355.3 284.089 1358.91 284.089 Q1362.54 284.089 1364.35 280.547 Q1366.18 276.983 1366.18 269.876 Q1366.18 262.747 1364.35 259.205 Q1362.54 255.64 1358.91 255.64 M1358.91 251.936 Q1364.72 251.936 1367.78 256.543 Q1370.85 261.126 1370.85 269.876 Q1370.85 278.603 1367.78 283.209 Q1364.72 287.793 1358.91 287.793 Q1353.1 287.793 1350.02 283.209 Q1346.97 278.603 1346.97 269.876 Q1346.97 261.126 1350.02 256.543 Q1353.1 251.936 1358.91 251.936 Z\" fill=\"#000000\" fill-rule=\"evenodd\" fill-opacity=\"1\" /><path clip-path=\"url(#clip100)\" d=\"M 0 0 M1371.4 256.514 L1377.61 256.514 L1377.61 235.092 L1370.85 236.446 L1370.85 232.985 L1377.57 231.631 L1381.37 231.631 L1381.37 256.514 L1387.57 256.514 L1387.57 259.711 L1371.4 259.711 L1371.4 256.514 Z\" fill=\"#000000\" fill-rule=\"evenodd\" fill-opacity=\"1\" /><path clip-path=\"url(#clip100)\" d=\"M 0 0 M1690.31 20.1573 L1679.22 50.2555 L1701.45 50.2555 L1690.31 20.1573 M1685.7 12.096 L1694.97 12.096 L1718.02 72.576 L1709.52 72.576 L1704.01 57.061 L1676.74 57.061 L1671.23 72.576 L1662.61 72.576 L1685.7 12.096 Z\" fill=\"#000000\" fill-rule=\"evenodd\" fill-opacity=\"1\" /><path clip-path=\"url(#clip100)\" d=\"M 0 0 M1725.84 9.54393 L1733.29 9.54393 L1733.29 72.576 L1725.84 72.576 L1725.84 9.54393 Z\" fill=\"#000000\" fill-rule=\"evenodd\" fill-opacity=\"1\" /><path clip-path=\"url(#clip100)\" d=\"M 0 0 M1773.68 49.9314 Q1773.68 41.7081 1770.28 37.0496 Q1766.92 32.3505 1761 32.3505 Q1755.09 32.3505 1751.69 37.0496 Q1748.32 41.7081 1748.32 49.9314 Q1748.32 58.1548 1751.69 62.8538 Q1755.09 67.5124 1761 67.5124 Q1766.92 67.5124 1770.28 62.8538 Q1773.68 58.1548 1773.68 49.9314 M1748.32 34.0924 Q1750.67 30.0415 1754.24 28.0971 Q1757.84 26.1121 1762.83 26.1121 Q1771.09 26.1121 1776.23 32.6746 Q1781.42 39.2371 1781.42 49.9314 Q1781.42 60.6258 1776.23 67.1883 Q1771.09 73.7508 1762.83 73.7508 Q1757.84 73.7508 1754.24 71.8063 Q1750.67 69.8214 1748.32 65.7705 L1748.32 72.576 L1740.83 72.576 L1740.83 9.54393 L1748.32 9.54393 L1748.32 34.0924 Z\" fill=\"#000000\" fill-rule=\"evenodd\" fill-opacity=\"1\" /><path clip-path=\"url(#clip100)\" d=\"M 0 0 M1809.86 49.7694 Q1800.82 49.7694 1797.34 51.8354 Q1793.86 53.9013 1793.86 58.8839 Q1793.86 62.8538 1796.45 65.2034 Q1799.08 67.5124 1803.58 67.5124 Q1809.78 67.5124 1813.5 63.1374 Q1817.27 58.7219 1817.27 51.4303 L1817.27 49.7694 L1809.86 49.7694 M1824.72 46.6907 L1824.72 72.576 L1817.27 72.576 L1817.27 65.6895 Q1814.72 69.8214 1810.91 71.8063 Q1807.1 73.7508 1801.59 73.7508 Q1794.63 73.7508 1790.49 69.8619 Q1786.4 65.9325 1786.4 59.3701 Q1786.4 51.7138 1791.51 47.825 Q1796.65 43.9361 1806.82 43.9361 L1817.27 43.9361 L1817.27 43.2069 Q1817.27 38.0623 1813.87 35.2672 Q1810.5 32.4315 1804.39 32.4315 Q1800.5 32.4315 1796.81 33.3632 Q1793.13 34.295 1789.72 36.1584 L1789.72 29.2718 Q1793.82 27.692 1797.66 26.9223 Q1801.51 26.1121 1805.16 26.1121 Q1815 26.1121 1819.86 31.2163 Q1824.72 36.3204 1824.72 46.6907 Z\" fill=\"#000000\" fill-rule=\"evenodd\" fill-opacity=\"1\" /><path clip-path=\"url(#clip100)\" d=\"M 0 0 M1870.26 45.1919 L1870.26 72.576 L1862.8 72.576 L1862.8 45.4349 Q1862.8 38.994 1860.29 35.7938 Q1857.78 32.5936 1852.76 32.5936 Q1846.72 32.5936 1843.24 36.4419 Q1839.75 40.2903 1839.75 46.9338 L1839.75 72.576 L1832.26 72.576 L1832.26 27.2059 L1839.75 27.2059 L1839.75 34.2544 Q1842.43 30.163 1846.03 28.1376 Q1849.68 26.1121 1854.42 26.1121 Q1862.23 26.1121 1866.25 30.9732 Q1870.26 35.7938 1870.26 45.1919 Z\" fill=\"#000000\" fill-rule=\"evenodd\" fill-opacity=\"1\" /><path clip-path=\"url(#clip100)\" d=\"M 0 0 M1878.07 27.2059 L1885.53 27.2059 L1885.53 72.576 L1878.07 72.576 L1878.07 27.2059 M1878.07 9.54393 L1885.53 9.54393 L1885.53 18.9825 L1878.07 18.9825 L1878.07 9.54393 Z\" fill=\"#000000\" fill-rule=\"evenodd\" fill-opacity=\"1\" /><path clip-path=\"url(#clip100)\" d=\"M 0 0 M1913.96 49.7694 Q1904.93 49.7694 1901.45 51.8354 Q1897.96 53.9013 1897.96 58.8839 Q1897.96 62.8538 1900.56 65.2034 Q1903.19 67.5124 1907.69 67.5124 Q1913.88 67.5124 1917.61 63.1374 Q1921.38 58.7219 1921.38 51.4303 L1921.38 49.7694 L1913.96 49.7694 M1928.83 46.6907 L1928.83 72.576 L1921.38 72.576 L1921.38 65.6895 Q1918.83 69.8214 1915.02 71.8063 Q1911.21 73.7508 1905.7 73.7508 Q1898.73 73.7508 1894.6 69.8619 Q1890.51 65.9325 1890.51 59.3701 Q1890.51 51.7138 1895.61 47.825 Q1900.76 43.9361 1910.93 43.9361 L1921.38 43.9361 L1921.38 43.2069 Q1921.38 38.0623 1917.98 35.2672 Q1914.61 32.4315 1908.5 32.4315 Q1904.61 32.4315 1900.92 33.3632 Q1897.23 34.295 1893.83 36.1584 L1893.83 29.2718 Q1897.92 27.692 1901.77 26.9223 Q1905.62 26.1121 1909.27 26.1121 Q1919.11 26.1121 1923.97 31.2163 Q1928.83 36.3204 1928.83 46.6907 Z\" fill=\"#000000\" fill-rule=\"evenodd\" fill-opacity=\"1\" /><path clip-path=\"url(#clip100)\" d=\"M 0 0 M1971.12 86.3491 L1971.12 92.1419 L1928.02 92.1419 L1928.02 86.3491 L1971.12 86.3491 Z\" fill=\"#000000\" fill-rule=\"evenodd\" fill-opacity=\"1\" /><path clip-path=\"url(#clip100)\" d=\"M 0 0 M1999.56 49.7694 Q1990.53 49.7694 1987.04 51.8354 Q1983.56 53.9013 1983.56 58.8839 Q1983.56 62.8538 1986.15 65.2034 Q1988.79 67.5124 1993.28 67.5124 Q1999.48 67.5124 2003.21 63.1374 Q2006.97 58.7219 2006.97 51.4303 L2006.97 49.7694 L1999.56 49.7694 M2014.43 46.6907 L2014.43 72.576 L2006.97 72.576 L2006.97 65.6895 Q2004.42 69.8214 2000.61 71.8063 Q1996.81 73.7508 1991.3 73.7508 Q1984.33 73.7508 1980.2 69.8619 Q1976.11 65.9325 1976.11 59.3701 Q1976.11 51.7138 1981.21 47.825 Q1986.35 43.9361 1996.52 43.9361 L2006.97 43.9361 L2006.97 43.2069 Q2006.97 38.0623 2003.57 35.2672 Q2000.21 32.4315 1994.09 32.4315 Q1990.2 32.4315 1986.52 33.3632 Q1982.83 34.295 1979.43 36.1584 L1979.43 29.2718 Q1983.52 27.692 1987.37 26.9223 Q1991.22 26.1121 1994.86 26.1121 Q2004.71 26.1121 2009.57 31.2163 Q2014.43 36.3204 2014.43 46.6907 Z\" fill=\"#000000\" fill-rule=\"evenodd\" fill-opacity=\"1\" /><path clip-path=\"url(#clip100)\" d=\"M 0 0 M2054.81 49.9314 Q2054.81 41.7081 2051.41 37.0496 Q2048.05 32.3505 2042.14 32.3505 Q2036.22 32.3505 2032.82 37.0496 Q2029.46 41.7081 2029.46 49.9314 Q2029.46 58.1548 2032.82 62.8538 Q2036.22 67.5124 2042.14 67.5124 Q2048.05 67.5124 2051.41 62.8538 Q2054.81 58.1548 2054.81 49.9314 M2029.46 34.0924 Q2031.81 30.0415 2035.37 28.0971 Q2038.98 26.1121 2043.96 26.1121 Q2052.22 26.1121 2057.37 32.6746 Q2062.55 39.2371 2062.55 49.9314 Q2062.55 60.6258 2057.37 67.1883 Q2052.22 73.7508 2043.96 73.7508 Q2038.98 73.7508 2035.37 71.8063 Q2031.81 69.8214 2029.46 65.7705 L2029.46 72.576 L2021.96 72.576 L2021.96 9.54393 L2029.46 9.54393 L2029.46 34.0924 Z\" fill=\"#000000\" fill-rule=\"evenodd\" fill-opacity=\"1\" /><path clip-path=\"url(#clip100)\" d=\"M 0 0 M2099.29 28.5427 L2099.29 35.5912 Q2096.13 33.9709 2092.73 33.1607 Q2089.33 32.3505 2085.68 32.3505 Q2080.13 32.3505 2077.34 34.0519 Q2074.58 35.7533 2074.58 39.156 Q2074.58 41.7486 2076.57 43.2475 Q2078.55 44.7058 2084.55 46.0426 L2087.1 46.6097 Q2095.04 48.3111 2098.36 51.4303 Q2101.72 54.509 2101.72 60.0587 Q2101.72 66.3781 2096.7 70.0644 Q2091.72 73.7508 2082.97 73.7508 Q2079.32 73.7508 2075.35 73.0216 Q2071.42 72.3329 2067.05 70.9151 L2067.05 63.2184 Q2071.18 65.3654 2075.19 66.4591 Q2079.2 67.5124 2083.13 67.5124 Q2088.4 67.5124 2091.23 65.73 Q2094.07 63.9071 2094.07 60.6258 Q2094.07 57.5877 2092 55.9673 Q2089.98 54.3469 2083.05 52.8481 L2080.46 52.2405 Q2073.53 50.7821 2070.45 47.7845 Q2067.37 44.7463 2067.37 39.4801 Q2067.37 33.0797 2071.91 29.5959 Q2076.45 26.1121 2084.79 26.1121 Q2088.92 26.1121 2092.57 26.7198 Q2096.22 27.3274 2099.29 28.5427 Z\" fill=\"#000000\" fill-rule=\"evenodd\" fill-opacity=\"1\" /><polyline clip-path=\"url(#clip103)\" style=\"stroke:#009af9; stroke-width:4; stroke-opacity:1; fill:none\" points=\"\n",
       "  1438.21,162.047 1439.55,187.691 1440.89,218.171 1442.24,255.426 1443.58,302.938 1444.92,367.944 1446.26,470.702 1447.6,735.039 1448.94,557.26 1450.28,439.86 \n",
       "  1451.62,735.039 1452.97,384.021 1454.31,532.516 1455.65,681.127 1456.99,492.006 1458.33,458.417 1459.67,475.192 1461.01,532.212 1462.35,659.454 1463.7,792.078 \n",
       "  1465.04,604.501 1466.38,542.229 1467.72,526.513 1469.06,542.102 1470.4,589.893 1471.74,689.733 1473.08,854.877 1474.43,696.168 1475.77,617.961 1477.11,589.888 \n",
       "  1478.45,593.266 1479.79,625.738 1481.13,696.642 1482.47,828.709 1483.81,789.985 1485.16,692.876 1486.5,651.888 1487.84,645.537 1489.18,668.422 1490.52,724.922 \n",
       "  1491.86,823.627 1493.2,834.782 1494.54,749.086 1495.89,705.563 1497.23,696.401 1498.57,716.304 1499.91,767.427 1501.25,843.023 1502.59,843.375 1503.93,781.384 \n",
       "  1505.27,747.123 1506.62,743.191 1507.96,766.667 1509.3,815.304 1510.64,861.005 1511.98,839.654 1513.32,798.918 1514.66,780.353 1516,786.817 1517.35,815.454 \n",
       "  1518.69,853.178 1520.03,861.29 1521.37,834.965 1522.71,813.512 1524.05,811.181 1525.39,827.408 1526.73,852.98 1528.08,865.323 1529.42,852.844 1530.76,836.397 \n",
       "  1532.1,831.883 1533.44,841.148 1534.78,857.549 1536.12,866.597 1537.46,860.458 1538.81,849.96 1540.15,846.586 1541.49,852.621 1542.83,862.801 1544.17,867.879 \n",
       "  1545.51,864.034 1546.85,857.889 1548.19,856.419 1549.54,860.805 1550.88,866.881 1552.22,869.044 1553.56,866.235 1554.9,862.938 1556.24,863.028 1557.58,866.307 \n",
       "  1558.92,869.605 1560.27,869.959 1561.61,867.997 1562.95,866.633 1564.29,867.558 1565.63,869.89 1566.97,871.312 1568.31,870.894 1569.65,869.783 1571,869.609 \n",
       "  1572.34,870.777 1573.68,872.128 1575.02,872.542 1576.36,872.04 1577.7,871.626 1579.04,872.077 1580.38,873.028 1581.73,873.624 1583.07,873.658 1584.41,873.359 \n",
       "  1585.75,873.554 1587.09,874.165 1588.43,874.719 1589.77,874.874 1591.11,874.815 1592.46,874.827 1593.8,875.228 1595.14,875.703 1596.48,875.923 1597.82,876.011 \n",
       "  1599.16,876.107 1600.5,876.394 1601.84,876.821 1603.19,877.122 1604.53,877.249 1605.87,877.321 1607.21,877.546 1608.55,877.919 1609.89,878.136 1611.23,878.295 \n",
       "  1612.57,878.479 1613.92,878.693 1615.26,878.98 1616.6,879.272 1617.94,879.476 1619.28,879.69 1620.62,879.888 1621.96,880.179 1623.3,880.347 1624.65,880.578 \n",
       "  1625.99,880.744 1627.33,880.964 1628.67,881.209 1630.01,881.457 1631.35,881.658 1632.69,881.778 1634.03,882.104 1635.38,882.312 1636.72,882.552 1638.06,882.76 \n",
       "  1639.4,882.956 1640.74,883.203 1642.08,883.424 1643.42,883.724 1644.76,883.891 1646.11,884.193 1647.45,884.315 1648.79,884.548 1650.13,884.796 1651.47,884.983 \n",
       "  1652.81,885.289 1654.15,885.464 1655.49,885.682 1656.84,885.928 1658.18,886.145 1659.52,886.435 1660.86,886.616 1662.2,886.812 1663.54,887.026 1664.88,887.263 \n",
       "  1666.22,887.488 1667.57,887.701 1668.91,887.987 1670.25,888.163 1671.59,888.369 1672.93,888.601 1674.27,888.879 1675.61,889.027 1676.95,889.275 1678.3,889.547 \n",
       "  1679.64,889.733 1680.98,889.942 1682.32,890.174 1683.66,890.384 1685,890.615 1686.34,890.839 1687.68,891.064 1689.03,891.314 1690.37,891.516 1691.71,891.732 \n",
       "  1693.05,891.989 1694.39,892.215 1695.73,892.415 1697.07,892.638 1698.41,892.859 1699.76,893.075 1701.1,893.298 1702.44,893.529 1703.78,893.817 1705.12,894.007 \n",
       "  1706.46,894.18 1707.8,894.418 1709.14,894.608 1710.49,894.896 1711.83,895.083 1713.17,895.346 1714.51,895.522 1715.85,895.734 1717.19,895.972 1718.53,896.17 \n",
       "  1719.87,896.42 1721.22,896.42 1722.56,896.611 1723.9,896.883 1725.24,898.36 1726.58,917.732 1727.92,925.09 1729.26,959.329 1730.6,977.711 1731.95,979.218 \n",
       "  1733.29,981.396 1734.63,1014.02 1735.97,1125.71 1737.31,1203.04 1738.65,1238 1739.99,1238.77 1741.33,1238.83 1742.68,1242.88 1744.02,1261.95 1745.36,1283 \n",
       "  1746.7,1302.51 1748.04,1329.04 1749.38,1350.29 1750.72,1363.75 1752.06,1391.99 1753.41,1406.69 1754.75,1418.5 1756.09,1432.32 1757.43,1439.46 1758.77,1442.85 \n",
       "  1760.11,1443.16 1761.45,1444.95 1762.79,1445.27 1764.14,1446.71 1765.48,1447.35 1766.82,1447.35 1768.16,1447.35 1769.5,848.237 1770.84,1091.27 1772.18,950.308 \n",
       "  1773.52,888.16 1774.87,921.93 1776.21,1047.75 1777.55,1188.68 1778.89,986.975 1780.23,944.062 1781.57,961.527 1782.91,1040.41 1784.25,1317.6 1785.6,1108.13 \n",
       "  1786.94,1012.58 1788.28,994.289 1789.62,1026.14 1790.96,1127.79 1792.3,1410.37 1793.64,1121.17 1794.98,1051.02 1796.33,1044.09 1797.67,1088.24 1799.01,1218.88 \n",
       "  1800.35,1310.15 1801.69,1136.41 1803.03,1088.54 1804.37,1097.27 1805.71,1164.37 1807.06,1358.97 1808.4,1252.02 1809.74,1150.94 1811.08,1130.41 1812.42,1165.16 \n",
       "  1813.76,1279.37 1815.1,1392.17 1816.44,1221.66 1817.79,1173.96 1819.13,1187.11 1820.47,1266.54 1821.81,1439.91 1823.15,1286.68 1824.49,1218.24 1825.83,1218.73 \n",
       "  1827.17,1280.99 1828.52,1426.61 1829.86,1335.72 1831.2,1259.82 1832.54,1253.83 1833.88,1308.83 1835.22,1429.96 1836.56,1364.81 1837.9,1292.35 1839.25,1289.59 \n",
       "  1840.59,1344.41 1841.93,1440.52 1843.27,1376.11 1844.61,1321.81 1845.95,1326.77 1847.29,1385.54 1848.63,1445.55 1849.98,1380.72 1851.32,1346.81 1852.66,1363.6 \n",
       "  1854,1419.68 1855.34,1433.44 1856.68,1385.07 1858.02,1370.04 1859.36,1398.45 1860.71,1441.74 1862.05,1423.56 1863.39,1392.29 1864.73,1393.9 1866.07,1427.09 \n",
       "  1867.41,1442.3 1868.75,1416.86 1870.09,1404.11 1871.44,1420.13 1872.78,1444.54 1874.12,1434.41 1875.46,1417.3 1876.8,1421.64 1878.14,1439.52 1879.48,1442.44 \n",
       "  1880.82,1428.54 1882.17,1425.72 1883.51,1439.02 1884.85,1444.56 1886.19,1437.56 1887.53,1430.73 1888.87,1439.75 1890.21,1444.07 1891.55,1443.68 1892.9,1435.81 \n",
       "  1894.24,1437.76 1895.58,1443.52 1896.92,1441.59 1898.26,1440.33 1899.6,1439.94 1900.94,1443.58 1902.28,1443.07 1903.63,1441.66 1904.97,1440.26 1906.31,1443.75 \n",
       "  1907.65,1444.79 1908.99,1443.01 1910.33,1442.83 1911.67,1444.05 1913.01,1444.63 1914.36,1443.92 1915.7,1442.81 1917.04,1443.62 1918.38,1445.53 1919.72,1444.79 \n",
       "  1921.06,1442.51 1922.4,1444.29 1923.74,1443.23 1925.09,1444.31 1926.43,1443.09 1927.77,1444.33 1929.11,1445.41 1930.45,1445 1931.79,1442.72 1933.13,1444.9 \n",
       "  1934.47,1445.06 1935.82,1443.7 1937.16,1444.32 1938.5,1445.1 1939.84,1444.91 1941.18,1444.35 1942.52,1443.92 1943.86,1444.75 1945.2,1444.9 1946.55,1443.9 \n",
       "  1947.89,1445.62 1949.23,1445.38 1950.57,1444.91 1951.91,1444.83 1953.25,1444.83 1954.59,1445.51 1955.93,1446.12 1957.28,1444.21 1958.62,1444.2 1959.96,1445.67 \n",
       "  1961.3,1444.74 1962.64,1444.02 1963.98,1443.5 1965.32,1442.93 1966.66,1444.72 1968.01,1445.03 1969.35,1444.99 1970.69,1444.98 1972.03,1445.27 1973.37,1445.34 \n",
       "  1974.71,1444.4 1976.05,1444.85 1977.39,1441.96 1978.74,1445.14 1980.08,1445.02 1981.42,1444.66 1982.76,1443.67 1984.1,1445.15 1985.44,1444.96 1986.78,1444.48 \n",
       "  1988.12,1444.17 1989.47,1444.95 1990.81,1445 1992.15,1443.89 1993.49,1445.03 1994.83,1445.14 1996.17,1445.24 1997.51,1444.78 1998.85,1445.89 2000.2,1443.17 \n",
       "  2001.54,1445.03 2002.88,1446.26 2004.22,1442.57 2005.56,1445.45 2006.9,1444.07 2008.24,1444.02 2009.58,1444.57 2010.93,1445.34 2012.27,1444.17 2013.61,1444.78 \n",
       "  2014.95,1443.17 2016.29,1445.05 2017.63,1445.21 2018.97,1444.84 2020.31,1443.84 2021.66,1445.01 2023,1445.59 2024.34,1445.12 2025.68,1444.54 2027.02,1444.22 \n",
       "  2028.36,1444.93 2029.7,1445.23 2031.04,1445.08 2032.39,1444.36 2033.73,1446.02 2035.07,1445.13 2036.41,1447.35 2037.75,1445.08 2039.09,1445.33 2040.43,1445.61 \n",
       "  2041.77,1445.93 2043.12,1446.42 2044.46,1446.73 2045.8,1446.73 2047.14,1446.73 2048.48,1211.72 2049.82,1394.42 2051.16,1309.74 2052.5,1249.98 2053.85,1276.52 \n",
       "  2055.19,1366.1 2056.53,1435.99 2057.87,1339.76 2059.21,1299.66 2060.55,1309.53 2061.89,1360.28 2063.23,1433.32 2064.58,1414.3 2065.92,1356.86 2067.26,1337.67 \n",
       "  2068.6,1354.38 2069.94,1400.37 2071.28,1446.55 2072.62,1418.57 2073.96,1380.79 2075.31,1370.56 2076.65,1389.07 2077.99,1424.99 2079.33,1445.01 2080.67,1422.58 \n",
       "  2082.01,1399.26 2083.35,1395.54 2084.69,1416.4 2086.04,1440.24 2087.38,1442.82 2088.72,1424.62 2090.06,1413.24 2091.4,1419.37 2092.74,1435.07 2094.08,1445.72 \n",
       "  2095.42,1437.95 2096.77,1426.33 2098.11,1425.8 2099.45,1434.18 2100.79,1443.92 2102.13,1443.18 2103.47,1437.66 2104.81,1431.52 2106.15,1436.66 2107.5,1442.15 \n",
       "  2108.84,1444.11 2110.18,1439.59 2111.52,1437.6 2112.86,1439.64 2114.2,1443.94 2115.54,1446.63 2116.88,1439.99 2118.23,1442.11 2119.57,1440.94 2120.91,1444.54 \n",
       "  2122.25,1445.09 2123.59,1441.2 2124.93,1442.35 2126.27,1442.94 2127.61,1443.89 2128.96,1445 2130.3,1442.81 2131.64,1443.35 2132.98,1445.07 2134.32,1444.75 \n",
       "  2135.66,1444.4 2137,1444.6 2138.34,1447.08 2139.69,1444.46 2141.03,1446.33 2142.37,1444.5 2143.71,1444.71 2145.05,1443.97 2146.39,1445 2147.73,1445.37 \n",
       "  2149.07,1446.36 2150.42,1445.47 2151.76,1443.37 2153.1,1445.32 2154.44,1445.21 2155.78,1444.46 2157.12,1444.81 2158.46,1444.55 2159.8,1444.04 2161.15,1445.35 \n",
       "  2162.49,1445.39 2163.83,1444.97 2165.17,1445.27 2166.51,1443.76 2167.85,1444.98 2169.19,1445.09 2170.53,1445.47 2171.88,1445.57 2173.22,1444.87 2174.56,1446.97 \n",
       "  2175.9,1445.32 2177.24,1445.84 2178.58,1444.94 2179.92,1444.71 2181.26,1444.41 2182.61,1443.81 2183.95,1445.32 2185.29,1445.21 2186.63,1443.84 2187.97,1445.4 \n",
       "  2189.31,1445.36 2190.65,1446.96 2191.99,1445.19 2193.34,1443.38 2194.68,1430.91 2196.02,1445.28 2197.36,1445.73 2198.7,1445.32 2200.04,1446.64 2201.38,1445.13 \n",
       "  2202.72,1445.97 2204.07,1444.52 2205.41,1446.98 2206.75,1444.69 2208.09,1447.87 2209.43,1443.34 2210.77,1445.38 2212.11,1445.87 2213.45,1445.31 2214.8,1444.82 \n",
       "  2216.14,1445.97 2217.48,1445.02 2218.82,1445.16 2220.16,1443.94 2221.5,1445.14 2222.84,1445.07 2224.18,1444.57 2225.53,1445.08 2226.87,1445.2 2228.21,1444.48 \n",
       "  2229.55,1442.63 2230.89,1446.09 2232.23,1444.12 2233.57,1445.65 2234.91,1444.18 2236.26,1444.45 2237.6,1445.04 2238.94,1444.87 2240.28,1442.51 2241.62,1445.14 \n",
       "  2242.96,1444.01 2244.3,1445.18 2245.64,1445.36 2246.99,1445.43 2248.33,1444.68 2249.67,1444.56 2251.01,1444.09 2252.35,1443.95 2253.69,1445.56 2255.03,1445.7 \n",
       "  2256.37,1445.49 2257.72,1444.77 2259.06,1444.36 2260.4,1445.16 2261.74,1445.58 2263.08,1445.25 2264.42,1444.9 2265.76,1444.39 2267.1,1445.35 2268.45,1443.05 \n",
       "  2269.79,1444.24 2271.13,1445.37 2272.47,1445.2 2273.81,1444.25 2275.15,1443.37 2276.49,1445.33 2277.83,1444.87 2279.17,1444.74 2280.52,1442.96 2281.86,1446.03 \n",
       "  2283.2,1445.65 2284.54,1443.14 2285.88,1445.65 2287.22,1445.41 2288.56,1443.68 2289.9,1445.11 2291.25,1446.15 2292.59,1444.97 2293.93,1445.32 2295.27,1445.34 \n",
       "  2296.61,1445.09 2297.95,1444.37 2299.29,1444.28 2300.63,1445.88 2301.98,1444.71 2303.32,1445.29 2304.66,1446.26 2306,1445.45 2307.34,1445.02 2308.68,1443.89 \n",
       "  2310.02,1444.05 2311.36,1444.67 2312.71,1445.89 2314.05,1445.15 2315.39,1447.87 2316.73,1444.74 2318.07,1444.78 2319.41,1444.81 2320.75,1445.17 2322.09,1445.17 \n",
       "  2323.44,1445.39 2324.78,1446.36 2326.12,1446.36 \n",
       "  \"/>\n",
       "<path clip-path=\"url(#clip100)\" d=\"\n",
       "M1989.74 327.952 L2280.76 327.952 L2280.76 206.992 L1989.74 206.992  Z\n",
       "  \" fill=\"#ffffff\" fill-rule=\"evenodd\" fill-opacity=\"1\"/>\n",
       "<polyline clip-path=\"url(#clip100)\" style=\"stroke:#000000; stroke-width:4; stroke-opacity:1; fill:none\" points=\"\n",
       "  1989.74,327.952 2280.76,327.952 2280.76,206.992 1989.74,206.992 1989.74,327.952 \n",
       "  \"/>\n",
       "<polyline clip-path=\"url(#clip100)\" style=\"stroke:#009af9; stroke-width:4; stroke-opacity:1; fill:none\" points=\"\n",
       "  2013.74,267.472 2157.74,267.472 \n",
       "  \"/>\n",
       "<path clip-path=\"url(#clip100)\" d=\"M 0 0 M2195.58 287.16 Q2193.77 291.789 2192.06 293.201 Q2190.35 294.613 2187.48 294.613 L2184.08 294.613 L2184.08 291.048 L2186.58 291.048 Q2188.33 291.048 2189.31 290.215 Q2190.28 289.382 2191.46 286.28 L2192.22 284.335 L2181.74 258.826 L2186.25 258.826 L2194.35 279.104 L2202.46 258.826 L2206.97 258.826 L2195.58 287.16 Z\" fill=\"#000000\" fill-rule=\"evenodd\" fill-opacity=\"1\" /><path clip-path=\"url(#clip100)\" d=\"M 0 0 M2212.85 280.817 L2220.49 280.817 L2220.49 254.451 L2212.18 256.118 L2212.18 251.859 L2220.44 250.192 L2225.12 250.192 L2225.12 280.817 L2232.76 280.817 L2232.76 284.752 L2212.85 284.752 L2212.85 280.817 Z\" fill=\"#000000\" fill-rule=\"evenodd\" fill-opacity=\"1\" /></svg>\n"
      ]
     },
     "execution_count": 83,
     "metadata": {},
     "output_type": "execute_result"
    }
   ],
   "source": [
    "abl_mse=plot(mses1,title=\"Albania_mse\",yaxis=:log)\n",
    "abl_abs=plot(abs1,title=\"Albania_abs\",yaxis=:log)\n",
    "plot(abl_mse,abl_abs)\n",
    "abs_mse= "
   ]
  },
  {
   "cell_type": "code",
   "execution_count": null,
   "metadata": {},
   "outputs": [],
   "source": []
  }
 ],
 "metadata": {
  "kernelspec": {
   "display_name": "Julia 1.4.1",
   "language": "julia",
   "name": "julia-1.4"
  },
  "language_info": {
   "file_extension": ".jl",
   "mimetype": "application/julia",
   "name": "julia",
   "version": "1.4.1"
  }
 },
 "nbformat": 4,
 "nbformat_minor": 2
}
