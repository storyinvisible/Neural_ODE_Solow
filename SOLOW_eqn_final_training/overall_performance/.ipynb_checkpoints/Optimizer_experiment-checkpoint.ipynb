{
 "cells": [
  {
   "cell_type": "code",
   "execution_count": 12,
   "metadata": {},
   "outputs": [],
   "source": [
    "cd(\"D:\\\\NUS_differential_equation\\\\SOLOW_eqn_final_training\\\\\")"
   ]
  },
  {
   "cell_type": "code",
   "execution_count": 13,
   "metadata": {},
   "outputs": [
    {
     "data": {
      "text/html": [
       "<table class=\"data-frame\"><thead><tr><th></th><th>Albania</th><th>Argentina</th><th>Armenia</th><th>Australia</th><th>Azerbaijan</th><th>Bahrain</th><th>Bangladesh</th></tr><tr><th></th><th>Float64</th><th>Float64</th><th>Float64</th><th>Float64</th><th>Float64</th><th>Float64</th><th>Float64</th></tr></thead><tbody><p>481 rows × 95 columns (omitted printing of 88 columns)</p><tr><th>1</th><td>0.315385</td><td>-0.365085</td><td>-0.129759</td><td>-0.0386792</td><td>0.123116</td><td>0.16721</td><td>-0.379107</td></tr><tr><th>2</th><td>0.480738</td><td>0.401279</td><td>0.209248</td><td>0.00304851</td><td>-0.117758</td><td>-0.0779962</td><td>-0.0239767</td></tr><tr><th>3</th><td>-0.155378</td><td>0.193359</td><td>-0.285671</td><td>-0.0950609</td><td>-0.376659</td><td>-0.304799</td><td>0.305403</td></tr><tr><th>4</th><td>-0.524337</td><td>-0.49849</td><td>-0.392856</td><td>-0.371067</td><td>0.104213</td><td>0.460908</td><td>-0.466064</td></tr><tr><th>5</th><td>0.496397</td><td>0.312354</td><td>-0.148035</td><td>0.427938</td><td>0.364014</td><td>0.337904</td><td>0.297171</td></tr><tr><th>6</th><td>0.0684203</td><td>-0.10623</td><td>-0.471297</td><td>-0.0863382</td><td>-0.499476</td><td>0.13334</td><td>0.0806113</td></tr><tr><th>7</th><td>-0.0819718</td><td>0.407028</td><td>-0.226086</td><td>-0.223112</td><td>-0.110896</td><td>-0.109254</td><td>-0.138837</td></tr><tr><th>8</th><td>0.292213</td><td>-0.354993</td><td>0.224698</td><td>-0.274763</td><td>0.414215</td><td>0.164845</td><td>0.223585</td></tr><tr><th>9</th><td>-0.482882</td><td>-0.326609</td><td>-0.228513</td><td>0.0923917</td><td>0.217039</td><td>-0.154773</td><td>0.110989</td></tr><tr><th>10</th><td>0.129977</td><td>0.374706</td><td>0.180471</td><td>0.135098</td><td>0.183197</td><td>0.163173</td><td>-0.460343</td></tr><tr><th>11</th><td>0.0667425</td><td>0.529406</td><td>-0.23342</td><td>-0.267874</td><td>0.402636</td><td>0.505232</td><td>0.196471</td></tr><tr><th>12</th><td>-0.537903</td><td>-0.164989</td><td>0.236931</td><td>-0.295261</td><td>0.338451</td><td>0.510255</td><td>-0.0274095</td></tr><tr><th>13</th><td>0.269887</td><td>-0.442543</td><td>0.29601</td><td>0.509142</td><td>-0.106417</td><td>0.429862</td><td>0.418386</td></tr><tr><th>14</th><td>-0.406319</td><td>0.443045</td><td>-0.462834</td><td>0.159301</td><td>-0.328429</td><td>0.0304118</td><td>0.328833</td></tr><tr><th>15</th><td>0.228242</td><td>0.137907</td><td>-0.00485334</td><td>-0.102291</td><td>0.268973</td><td>-0.112299</td><td>0.50521</td></tr><tr><th>16</th><td>-0.195453</td><td>0.236319</td><td>-0.20644</td><td>-0.386987</td><td>-0.319337</td><td>0.475133</td><td>-0.228538</td></tr><tr><th>17</th><td>-0.278345</td><td>0.139993</td><td>-0.200951</td><td>-0.386728</td><td>0.449506</td><td>-0.316293</td><td>0.396292</td></tr><tr><th>18</th><td>-0.488055</td><td>0.451482</td><td>-0.0833444</td><td>0.357909</td><td>-0.170773</td><td>-0.0931526</td><td>0.101429</td></tr><tr><th>19</th><td>-0.254907</td><td>0.142012</td><td>-0.0296304</td><td>0.374533</td><td>-0.403829</td><td>-0.352509</td><td>-0.183127</td></tr><tr><th>20</th><td>0.0232507</td><td>-0.31684</td><td>-0.400716</td><td>-0.217864</td><td>-0.216988</td><td>0.151357</td><td>0.185147</td></tr><tr><th>21</th><td>0.00722674</td><td>-0.0252698</td><td>-0.00889383</td><td>-0.0211302</td><td>-0.00525662</td><td>-0.00551014</td><td>-0.00653891</td></tr><tr><th>22</th><td>-0.0090412</td><td>-0.0321479</td><td>0.019766</td><td>-0.0250812</td><td>0.0116553</td><td>0.00167604</td><td>0.000430304</td></tr><tr><th>23</th><td>-0.00212224</td><td>0.0204561</td><td>0.0202441</td><td>-0.0312344</td><td>0.0045817</td><td>0.0143658</td><td>-0.00177009</td></tr><tr><th>24</th><td>0.00421761</td><td>0.0250291</td><td>0.0176787</td><td>-0.00878559</td><td>0.00388738</td><td>0.00918724</td><td>0.00921769</td></tr><tr><th>25</th><td>-0.00466411</td><td>-0.0256155</td><td>0.0227843</td><td>0.0197925</td><td>-0.00597631</td><td>-0.0225958</td><td>-0.000962648</td></tr><tr><th>26</th><td>0.00197143</td><td>-0.00406309</td><td>-0.0244353</td><td>-0.0356965</td><td>-0.00603978</td><td>-0.00783629</td><td>-0.00623398</td></tr><tr><th>27</th><td>-0.00375312</td><td>-0.0141439</td><td>0.0128696</td><td>-0.0321954</td><td>0.00348453</td><td>-0.00382344</td><td>-0.00503898</td></tr><tr><th>28</th><td>-0.00324674</td><td>-0.028512</td><td>0.0149769</td><td>-0.0106594</td><td>-0.00548096</td><td>-0.00960133</td><td>-0.00562829</td></tr><tr><th>29</th><td>-0.00606257</td><td>0.0343189</td><td>-0.0199198</td><td>0.0246187</td><td>-0.00367084</td><td>0.00693419</td><td>-0.000666058</td></tr><tr><th>30</th><td>-0.00155799</td><td>0.0307773</td><td>-0.0166346</td><td>0.0328235</td><td>0.000820851</td><td>0.00490543</td><td>0.0250899</td></tr><tr><th>&vellip;</th><td>&vellip;</td><td>&vellip;</td><td>&vellip;</td><td>&vellip;</td><td>&vellip;</td><td>&vellip;</td><td>&vellip;</td></tr></tbody></table>"
      ],
      "text/latex": [
       "\\begin{tabular}{r|cccccccc}\n",
       "\t& Albania & Argentina & Armenia & Australia & Azerbaijan & Bahrain & Bangladesh & \\\\\n",
       "\t\\hline\n",
       "\t& Float64 & Float64 & Float64 & Float64 & Float64 & Float64 & Float64 & \\\\\n",
       "\t\\hline\n",
       "\t1 & 0.315385 & -0.365085 & -0.129759 & -0.0386792 & 0.123116 & 0.16721 & -0.379107 & $\\dots$ \\\\\n",
       "\t2 & 0.480738 & 0.401279 & 0.209248 & 0.00304851 & -0.117758 & -0.0779962 & -0.0239767 & $\\dots$ \\\\\n",
       "\t3 & -0.155378 & 0.193359 & -0.285671 & -0.0950609 & -0.376659 & -0.304799 & 0.305403 & $\\dots$ \\\\\n",
       "\t4 & -0.524337 & -0.49849 & -0.392856 & -0.371067 & 0.104213 & 0.460908 & -0.466064 & $\\dots$ \\\\\n",
       "\t5 & 0.496397 & 0.312354 & -0.148035 & 0.427938 & 0.364014 & 0.337904 & 0.297171 & $\\dots$ \\\\\n",
       "\t6 & 0.0684203 & -0.10623 & -0.471297 & -0.0863382 & -0.499476 & 0.13334 & 0.0806113 & $\\dots$ \\\\\n",
       "\t7 & -0.0819718 & 0.407028 & -0.226086 & -0.223112 & -0.110896 & -0.109254 & -0.138837 & $\\dots$ \\\\\n",
       "\t8 & 0.292213 & -0.354993 & 0.224698 & -0.274763 & 0.414215 & 0.164845 & 0.223585 & $\\dots$ \\\\\n",
       "\t9 & -0.482882 & -0.326609 & -0.228513 & 0.0923917 & 0.217039 & -0.154773 & 0.110989 & $\\dots$ \\\\\n",
       "\t10 & 0.129977 & 0.374706 & 0.180471 & 0.135098 & 0.183197 & 0.163173 & -0.460343 & $\\dots$ \\\\\n",
       "\t11 & 0.0667425 & 0.529406 & -0.23342 & -0.267874 & 0.402636 & 0.505232 & 0.196471 & $\\dots$ \\\\\n",
       "\t12 & -0.537903 & -0.164989 & 0.236931 & -0.295261 & 0.338451 & 0.510255 & -0.0274095 & $\\dots$ \\\\\n",
       "\t13 & 0.269887 & -0.442543 & 0.29601 & 0.509142 & -0.106417 & 0.429862 & 0.418386 & $\\dots$ \\\\\n",
       "\t14 & -0.406319 & 0.443045 & -0.462834 & 0.159301 & -0.328429 & 0.0304118 & 0.328833 & $\\dots$ \\\\\n",
       "\t15 & 0.228242 & 0.137907 & -0.00485334 & -0.102291 & 0.268973 & -0.112299 & 0.50521 & $\\dots$ \\\\\n",
       "\t16 & -0.195453 & 0.236319 & -0.20644 & -0.386987 & -0.319337 & 0.475133 & -0.228538 & $\\dots$ \\\\\n",
       "\t17 & -0.278345 & 0.139993 & -0.200951 & -0.386728 & 0.449506 & -0.316293 & 0.396292 & $\\dots$ \\\\\n",
       "\t18 & -0.488055 & 0.451482 & -0.0833444 & 0.357909 & -0.170773 & -0.0931526 & 0.101429 & $\\dots$ \\\\\n",
       "\t19 & -0.254907 & 0.142012 & -0.0296304 & 0.374533 & -0.403829 & -0.352509 & -0.183127 & $\\dots$ \\\\\n",
       "\t20 & 0.0232507 & -0.31684 & -0.400716 & -0.217864 & -0.216988 & 0.151357 & 0.185147 & $\\dots$ \\\\\n",
       "\t21 & 0.00722674 & -0.0252698 & -0.00889383 & -0.0211302 & -0.00525662 & -0.00551014 & -0.00653891 & $\\dots$ \\\\\n",
       "\t22 & -0.0090412 & -0.0321479 & 0.019766 & -0.0250812 & 0.0116553 & 0.00167604 & 0.000430304 & $\\dots$ \\\\\n",
       "\t23 & -0.00212224 & 0.0204561 & 0.0202441 & -0.0312344 & 0.0045817 & 0.0143658 & -0.00177009 & $\\dots$ \\\\\n",
       "\t24 & 0.00421761 & 0.0250291 & 0.0176787 & -0.00878559 & 0.00388738 & 0.00918724 & 0.00921769 & $\\dots$ \\\\\n",
       "\t25 & -0.00466411 & -0.0256155 & 0.0227843 & 0.0197925 & -0.00597631 & -0.0225958 & -0.000962648 & $\\dots$ \\\\\n",
       "\t26 & 0.00197143 & -0.00406309 & -0.0244353 & -0.0356965 & -0.00603978 & -0.00783629 & -0.00623398 & $\\dots$ \\\\\n",
       "\t27 & -0.00375312 & -0.0141439 & 0.0128696 & -0.0321954 & 0.00348453 & -0.00382344 & -0.00503898 & $\\dots$ \\\\\n",
       "\t28 & -0.00324674 & -0.028512 & 0.0149769 & -0.0106594 & -0.00548096 & -0.00960133 & -0.00562829 & $\\dots$ \\\\\n",
       "\t29 & -0.00606257 & 0.0343189 & -0.0199198 & 0.0246187 & -0.00367084 & 0.00693419 & -0.000666058 & $\\dots$ \\\\\n",
       "\t30 & -0.00155799 & 0.0307773 & -0.0166346 & 0.0328235 & 0.000820851 & 0.00490543 & 0.0250899 & $\\dots$ \\\\\n",
       "\t$\\dots$ & $\\dots$ & $\\dots$ & $\\dots$ & $\\dots$ & $\\dots$ & $\\dots$ & $\\dots$ &  \\\\\n",
       "\\end{tabular}\n"
      ],
      "text/plain": [
       "481×95 DataFrame. Omitted printing of 90 columns\n",
       "│ Row │ Albania     │ Argentina │ Armenia    │ Australia   │ Azerbaijan  │\n",
       "│     │ \u001b[90mFloat64\u001b[39m     │ \u001b[90mFloat64\u001b[39m   │ \u001b[90mFloat64\u001b[39m    │ \u001b[90mFloat64\u001b[39m     │ \u001b[90mFloat64\u001b[39m     │\n",
       "├─────┼─────────────┼───────────┼────────────┼─────────────┼─────────────┤\n",
       "│ 1   │ 0.315385    │ -0.365085 │ -0.129759  │ -0.0386792  │ 0.123116    │\n",
       "│ 2   │ 0.480738    │ 0.401279  │ 0.209248   │ 0.00304851  │ -0.117758   │\n",
       "│ 3   │ -0.155378   │ 0.193359  │ -0.285671  │ -0.0950609  │ -0.376659   │\n",
       "│ 4   │ -0.524337   │ -0.49849  │ -0.392856  │ -0.371067   │ 0.104213    │\n",
       "│ 5   │ 0.496397    │ 0.312354  │ -0.148035  │ 0.427938    │ 0.364014    │\n",
       "│ 6   │ 0.0684203   │ -0.10623  │ -0.471297  │ -0.0863382  │ -0.499476   │\n",
       "│ 7   │ -0.0819718  │ 0.407028  │ -0.226086  │ -0.223112   │ -0.110896   │\n",
       "│ 8   │ 0.292213    │ -0.354993 │ 0.224698   │ -0.274763   │ 0.414215    │\n",
       "│ 9   │ -0.482882   │ -0.326609 │ -0.228513  │ 0.0923917   │ 0.217039    │\n",
       "│ 10  │ 0.129977    │ 0.374706  │ 0.180471   │ 0.135098    │ 0.183197    │\n",
       "⋮\n",
       "│ 471 │ 0.12303     │ -0.336654 │ -0.423743  │ -0.504148   │ -0.517562   │\n",
       "│ 472 │ 0.173839    │ 0.455152  │ -0.122035  │ -0.384207   │ 0.142926    │\n",
       "│ 473 │ -0.348029   │ -0.437934 │ 0.011783   │ -0.063692   │ 0.146533    │\n",
       "│ 474 │ 0.159108    │ -0.288675 │ -0.368583  │ 0.0309174   │ 0.300568    │\n",
       "│ 475 │ -0.43944    │ 0.388992  │ -0.425065  │ -0.0669569  │ -0.430178   │\n",
       "│ 476 │ 0.474762    │ 0.31959   │ 0.372049   │ -0.108309   │ 0.346133    │\n",
       "│ 477 │ 0.0120833   │ 0.47953   │ 0.19061    │ 0.285679    │ 0.496261    │\n",
       "│ 478 │ -0.21889    │ 0.254469  │ -0.0528179 │ -0.271351   │ -0.115002   │\n",
       "│ 479 │ 0.12336     │ -0.521576 │ 0.0219284  │ -0.284396   │ -0.371265   │\n",
       "│ 480 │ -0.419344   │ 0.312788  │ 0.0825884  │ -0.063686   │ -0.178917   │\n",
       "│ 481 │ -0.00655279 │ 0.013964  │ -0.0127308 │ -0.00425561 │ -0.00144593 │"
      ]
     },
     "execution_count": 13,
     "metadata": {},
     "output_type": "execute_result"
    }
   ],
   "source": [
    "include(\".\\\\addition\\\\Addition_Methods.jl\")\n",
    "training_1= CSV.read(\"Eqn1.csv\")"
   ]
  },
  {
   "cell_type": "code",
   "execution_count": 23,
   "metadata": {},
   "outputs": [
    {
     "data": {
      "text/plain": [
       "481-element Array{Float32,1}:\n",
       "  0.2413974\n",
       " -0.33220956\n",
       "  0.2268491\n",
       "  0.35227907\n",
       "  0.23507917\n",
       "  0.38324142\n",
       "  0.37028763\n",
       " -0.47366893\n",
       " -0.07757546\n",
       " -0.028028537\n",
       " -0.43957514\n",
       " -0.38821846\n",
       "  0.33428136\n",
       "  ⋮\n",
       " -0.51603\n",
       " -0.29174897\n",
       "  0.27793932\n",
       " -0.3429604\n",
       "  0.35241428\n",
       "  0.09796677\n",
       "  0.19395821\n",
       " -0.24794272\n",
       " -0.13442712\n",
       "  0.35033855\n",
       "  0.24906304\n",
       "  0.0"
      ]
     },
     "execution_count": 23,
     "metadata": {},
     "output_type": "execute_result"
    }
   ],
   "source": [
    "country1= \"Albania\" # loss didnot converge as well well\n",
    "country2= \"Australia\" # Loss converge very well \n",
    "country3= \"Philippines\" # loss converge badly at equation 2\n",
    "ann = FastChain(FastDense(1, 20, tanh),FastDense(20, 20, tanh),\n",
    "                FastDense(20, 1))\n",
    "nnp = initial_params(ann)"
   ]
  },
  {
   "cell_type": "code",
   "execution_count": 24,
   "metadata": {},
   "outputs": [
    {
     "data": {
      "text/plain": [
       "trainer1 (generic function with 1 method)"
      ]
     },
     "execution_count": 24,
     "metadata": {},
     "output_type": "execute_result"
    }
   ],
   "source": [
    "function trainer1(res1, rate,loss,callback)\n",
    "    res1= DiffEqFlux.sciml_train(loss, res1.minimizer, ADAM(rate/10),cb=callback, maxiters=400)\n",
    "    res1= DiffEqFlux.sciml_train(loss, res1.minimizer, ADAM(rate/100),cb=callback, maxiters=400)\n",
    "    res1= DiffEqFlux.sciml_train(loss, res1.minimizer, ADAM(rate/1000),cb=callback, maxiters=400)\n",
    "    return res1\n",
    "end"
   ]
  },
  {
   "cell_type": "code",
   "execution_count": 25,
   "metadata": {},
   "outputs": [
    {
     "data": {
      "text/plain": [
       "trainer2 (generic function with 1 method)"
      ]
     },
     "execution_count": 25,
     "metadata": {},
     "output_type": "execute_result"
    }
   ],
   "source": [
    "function trainer2(res1, rate,loss,callback)\n",
    "    res1= DiffEqFlux.sciml_train(loss, res1.minimizer, ADAM(rate/10),cb=callback, maxiters=1200)\n",
    "\n",
    "end"
   ]
  },
  {
   "cell_type": "code",
   "execution_count": 26,
   "metadata": {},
   "outputs": [
    {
     "data": {
      "text/plain": [
       "trainer3 (generic function with 1 method)"
      ]
     },
     "execution_count": 26,
     "metadata": {},
     "output_type": "execute_result"
    }
   ],
   "source": [
    "function trainer3(res1, rate,loss,callback)\n",
    "    res1= DiffEqFlux.sciml_train(loss, res1.minimizer, BFGS(initial_stepnorm=rate/10),cb=callback, maxiters=1200)\n",
    "    return res1\n",
    "end"
   ]
  },
  {
   "cell_type": "code",
   "execution_count": 27,
   "metadata": {},
   "outputs": [
    {
     "data": {
      "text/plain": [
       "trainer4 (generic function with 1 method)"
      ]
     },
     "execution_count": 27,
     "metadata": {},
     "output_type": "execute_result"
    }
   ],
   "source": [
    "function trainer4(res1, rate,loss,callback)\n",
    "    res1= DiffEqFlux.sciml_train(loss, res1.minimizer, ADAM(rate/10),cb=callback, maxiters=200)\n",
    "    res1= DiffEqFlux.sciml_train(loss, res1.minimizer, BFGS(initial_stepnorm=rate/10),cb=callback, maxiters=200)\n",
    "    res1= DiffEqFlux.sciml_train(loss, res1.minimizer, ADAM(rate/100),cb=callback, maxiters=200)\n",
    "    res1= DiffEqFlux.sciml_train(loss, res1.minimizer, BFGS(initial_stepnorm=rate/100),cb=callback, maxiters=200)\n",
    "    res1= DiffEqFlux.sciml_train(loss, res1.minimizer, ADAM(rate/1000),cb=callback, maxiters=200)\n",
    "    res1= DiffEqFlux.sciml_train(loss, res1.minimizer, BFGS(initial_stepnorm=rate/1000),cb=callback, maxiters=200)\n",
    "    return res1\n",
    "end"
   ]
  },
  {
   "cell_type": "markdown",
   "metadata": {},
   "source": [
    "## Australia"
   ]
  },
  {
   "cell_type": "code",
   "execution_count": 28,
   "metadata": {},
   "outputs": [
    {
     "name": "stderr",
     "output_type": "stream",
     "text": [
      "┌ Warning: `getindex(df::DataFrame, col_ind::ColumnIndex)` is deprecated, use `df[!, col_ind]` instead.\n",
      "│   caller = top-level scope at In[28]:2\n",
      "└ @ Core In[28]:2\n",
      "┌ Warning: `getindex(df::DataFrame, col_ind::ColumnIndex)` is deprecated, use `df[!, col_ind]` instead.\n",
      "│   caller = train_eqn2_addition_modified(::String, ::CSV.Column{Float64,Float64}, ::Array{Float32,1}, ::Function) at Addition_Methods.jl:644\n",
      "└ @ Main D:\\NUS_differential_equation\\SOLOW_eqn_final_training\\addition\\Addition_Methods.jl:644\n",
      "┌ Warning: `getindex(df::DataFrame, col_ind::ColumnIndex)` is deprecated, use `df[!, col_ind]` instead.\n",
      "│   caller = train_eqn2_addition_modified(::String, ::CSV.Column{Float64,Float64}, ::Array{Float32,1}, ::Function) at Addition_Methods.jl:645\n",
      "└ @ Main D:\\NUS_differential_equation\\SOLOW_eqn_final_training\\addition\\Addition_Methods.jl:645\n",
      "┌ Warning: `getindex(df::DataFrame, col_ind::ColumnIndex)` is deprecated, use `df[!, col_ind]` instead.\n",
      "│   caller = train_eqn2_addition_modified(::String, ::CSV.Column{Float64,Float64}, ::Array{Float32,1}, ::Function) at Addition_Methods.jl:646\n",
      "└ @ Main D:\\NUS_differential_equation\\SOLOW_eqn_final_training\\addition\\Addition_Methods.jl:646\n",
      "┌ Warning: `getindex(df::DataFrame, col_ind::ColumnIndex)` is deprecated, use `df[!, col_ind]` instead.\n",
      "│   caller = train_eqn2_addition_modified(::String, ::CSV.Column{Float64,Float64}, ::Array{Float32,1}, ::Function) at Addition_Methods.jl:647\n",
      "└ @ Main D:\\NUS_differential_equation\\SOLOW_eqn_final_training\\addition\\Addition_Methods.jl:647\n",
      "┌ Warning: `getindex(df::DataFrame, col_ind::ColumnIndex)` is deprecated, use `df[!, col_ind]` instead.\n",
      "│   caller = train_eqn2_addition_modified(::String, ::CSV.Column{Float64,Float64}, ::Array{Float32,1}, ::Function) at Addition_Methods.jl:648\n",
      "└ @ Main D:\\NUS_differential_equation\\SOLOW_eqn_final_training\\addition\\Addition_Methods.jl:648\n",
      "┌ Warning: `getindex(df::DataFrame, col_ind::ColumnIndex)` is deprecated, use `df[!, col_ind]` instead.\n",
      "│   caller = Parameter_parsin!(::DataFrame, ::String) at Addition_Methods.jl:68\n",
      "└ @ Main D:\\NUS_differential_equation\\SOLOW_eqn_final_training\\addition\\Addition_Methods.jl:68\n",
      "┌ Warning: `getindex(df::DataFrame, col_ind::ColumnIndex)` is deprecated, use `df[!, col_ind]` instead.\n",
      "│   caller = eqn_1(::Float64, ::Float64) at Addition_Methods.jl:39\n",
      "└ @ Main D:\\NUS_differential_equation\\SOLOW_eqn_final_training\\addition\\Addition_Methods.jl:39\n",
      "┌ Warning: `getindex(df::DataFrame, col_ind::ColumnIndex)` is deprecated, use `df[!, col_ind]` instead.\n",
      "│   caller = exp2_eqn1_loss_mse(::Array{Float64,1}) at Addition_Methods.jl:55\n",
      "└ @ Main D:\\NUS_differential_equation\\SOLOW_eqn_final_training\\addition\\Addition_Methods.jl:55\n",
      "┌ Warning: `getindex(df::DataFrame, col_ind::ColumnIndex)` is deprecated, use `df[!, col_ind]` instead.\n",
      "│   caller = exp_2_eqn2_mse(::Float64, ::Float64) at Addition_Methods.jl:46\n",
      "└ @ Main D:\\NUS_differential_equation\\SOLOW_eqn_final_training\\addition\\Addition_Methods.jl:46\n",
      "┌ Warning: `getindex(df::DataFrame, col_ind::ColumnIndex)` is deprecated, use `df[!, col_ind]` instead.\n",
      "│   caller = exp_2_eqn2_mse(::Float64, ::Float64) at Addition_Methods.jl:46\n",
      "└ @ Main D:\\NUS_differential_equation\\SOLOW_eqn_final_training\\addition\\Addition_Methods.jl:46\n",
      "┌ Warning: `getindex(df::DataFrame, col_ind::ColumnIndex)` is deprecated, use `df[!, col_ind]` instead.\n",
      "│   caller = exp_2_eqn2_mse(::Float64, ::Float64) at Addition_Methods.jl:46\n",
      "└ @ Main D:\\NUS_differential_equation\\SOLOW_eqn_final_training\\addition\\Addition_Methods.jl:46\n",
      "┌ Warning: `getindex(df::DataFrame, col_ind::ColumnIndex)` is deprecated, use `df[!, col_ind]` instead.\n",
      "│   caller = exp_2_eqn2_mse(::Float64, ::Float64) at Addition_Methods.jl:46\n",
      "└ @ Main D:\\NUS_differential_equation\\SOLOW_eqn_final_training\\addition\\Addition_Methods.jl:46\n",
      "┌ Warning: `getindex(df::DataFrame, col_ind::ColumnIndex)` is deprecated, use `df[!, col_ind]` instead.\n",
      "│   caller = train_eqn2_addition_modified(::String, ::CSV.Column{Float64,Float64}, ::Array{Float32,1}, ::Function) at Addition_Methods.jl:650\n",
      "└ @ Main D:\\NUS_differential_equation\\SOLOW_eqn_final_training\\addition\\Addition_Methods.jl:650\n",
      "┌ Warning: `getindex(df::DataFrame, col_ind::ColumnIndex)` is deprecated, use `df[!, col_ind]` instead.\n",
      "│   caller = train_eqn2_addition_modified(::String, ::CSV.Column{Float64,Float64}, ::Array{Float32,1}, ::Function) at Addition_Methods.jl:651\n",
      "└ @ Main D:\\NUS_differential_equation\\SOLOW_eqn_final_training\\addition\\Addition_Methods.jl:651\n",
      "┌ Warning: `getindex(df::DataFrame, col_ind::ColumnIndex)` is deprecated, use `df[!, col_ind]` instead.\n",
      "│   caller = train_eqn2_addition_modified(::String, ::CSV.Column{Float64,Float64}, ::Array{Float32,1}, ::Function) at Addition_Methods.jl:652\n",
      "└ @ Main D:\\NUS_differential_equation\\SOLOW_eqn_final_training\\addition\\Addition_Methods.jl:652\n",
      "┌ Warning: `getindex(df::DataFrame, col_ind::ColumnIndex)` is deprecated, use `df[!, col_ind]` instead.\n",
      "│   caller = train_eqn2_addition_modified(::String, ::CSV.Column{Float64,Float64}, ::Array{Float32,1}, ::Function) at Addition_Methods.jl:653\n",
      "└ @ Main D:\\NUS_differential_equation\\SOLOW_eqn_final_training\\addition\\Addition_Methods.jl:653\n"
     ]
    },
    {
     "name": "stdout",
     "output_type": "stream",
     "text": [
      "\"Australia\""
     ]
    },
    {
     "name": "stderr",
     "output_type": "stream",
     "text": [
      "┌ Warning: `getindex(df::DataFrame, col_ind::ColumnIndex)` is deprecated, use `df[!, col_ind]` instead.\n",
      "│   caller = train_eqn2_addition_modified(::String, ::CSV.Column{Float64,Float64}, ::Array{Float32,1}, ::Function) at Addition_Methods.jl:654\n",
      "└ @ Main D:\\NUS_differential_equation\\SOLOW_eqn_final_training\\addition\\Addition_Methods.jl:654\n",
      "\u001b[32mloss: 0.249: 100%|█████████████████████████████████████████| Time: 0:01:08\u001b[39m\n",
      "\u001b[32mloss: 0.107:  22%|██████████                               |  ETA: 0:00:44\u001b[39m"
     ]
    },
    {
     "name": "stdout",
     "output_type": "stream",
     "text": [
      "0.10725218444724188\n"
     ]
    },
    {
     "name": "stderr",
     "output_type": "stream",
     "text": [
      "\u001b[32mloss: 0.0229:  47%|████████████████████                     |  ETA: 0:00:32\u001b[39m"
     ]
    },
    {
     "name": "stdout",
     "output_type": "stream",
     "text": [
      "0.022850575647847468\n"
     ]
    },
    {
     "name": "stderr",
     "output_type": "stream",
     "text": [
      "\u001b[32mloss: 0.00487:  71%|██████████████████████████████           |  ETA: 0:00:17\u001b[39m"
     ]
    },
    {
     "name": "stdout",
     "output_type": "stream",
     "text": [
      "0.004814269552794235"
     ]
    },
    {
     "name": "stderr",
     "output_type": "stream",
     "text": [
      "\u001b[32mloss: 0.00477:  72%|██████████████████████████████           |  ETA: 0:00:16\u001b[39m"
     ]
    },
    {
     "name": "stdout",
     "output_type": "stream",
     "text": [
      "\n"
     ]
    },
    {
     "name": "stderr",
     "output_type": "stream",
     "text": [
      "\u001b[32mloss: 0.00275:  96%|████████████████████████████████████████ |  ETA: 0:00:02\u001b[39m"
     ]
    },
    {
     "name": "stdout",
     "output_type": "stream",
     "text": [
      "0.0027454725970695935\n"
     ]
    },
    {
     "name": "stderr",
     "output_type": "stream",
     "text": [
      "\u001b[32mloss: 0.00265: 100%|█████████████████████████████████████████| Time: 0:00:54\u001b[39m\n",
      "\u001b[32mloss: 0.00211:  21%|█████████                                |  ETA: 0:00:38\u001b[39m"
     ]
    },
    {
     "name": "stdout",
     "output_type": "stream",
     "text": [
      "0.0021108523531217483\n"
     ]
    },
    {
     "name": "stderr",
     "output_type": "stream",
     "text": [
      "\u001b[32mloss: 0.00152:  45%|███████████████████                      |  ETA: 0:00:25\u001b[39m"
     ]
    },
    {
     "name": "stdout",
     "output_type": "stream",
     "text": [
      "0.0015127244884117872"
     ]
    },
    {
     "name": "stderr",
     "output_type": "stream",
     "text": [
      "\u001b[32mloss: 0.00151:  46%|███████████████████                      |  ETA: 0:00:25\u001b[39m"
     ]
    },
    {
     "name": "stdout",
     "output_type": "stream",
     "text": [
      "\n"
     ]
    },
    {
     "name": "stderr",
     "output_type": "stream",
     "text": [
      "\u001b[32mloss: 0.00104:  70%|█████████████████████████████            |  ETA: 0:00:13\u001b[39m"
     ]
    },
    {
     "name": "stdout",
     "output_type": "stream",
     "text": [
      "0.0010326589908819126"
     ]
    },
    {
     "name": "stderr",
     "output_type": "stream",
     "text": [
      "\u001b[32mloss: 0.00103:  70%|█████████████████████████████            |  ETA: 0:00:12\u001b[39m"
     ]
    },
    {
     "name": "stdout",
     "output_type": "stream",
     "text": [
      "\n"
     ]
    },
    {
     "name": "stderr",
     "output_type": "stream",
     "text": [
      "\u001b[32mloss: 0.000675:  95%|███████████████████████████████████████  |  ETA: 0:00:02\u001b[39m"
     ]
    },
    {
     "name": "stdout",
     "output_type": "stream",
     "text": [
      "0.0006747692945825968\n"
     ]
    },
    {
     "name": "stderr",
     "output_type": "stream",
     "text": [
      "\u001b[32mloss: 0.000616: 100%|█████████████████████████████████████████| Time: 0:00:40\u001b[39m\n",
      "\u001b[32mloss: 0.000575:  19%|████████                                 |  ETA: 0:00:32\u001b[39m"
     ]
    },
    {
     "name": "stdout",
     "output_type": "stream",
     "text": [
      "0.0005739878373540421"
     ]
    },
    {
     "name": "stderr",
     "output_type": "stream",
     "text": [
      "\u001b[32mloss: 0.000573:  20%|█████████                                |  ETA: 0:00:31\u001b[39m"
     ]
    },
    {
     "name": "stdout",
     "output_type": "stream",
     "text": [
      "\n"
     ]
    },
    {
     "name": "stderr",
     "output_type": "stream",
     "text": [
      "\u001b[32mloss: 0.000525:  44%|███████████████████                      |  ETA: 0:00:22\u001b[39m"
     ]
    },
    {
     "name": "stdout",
     "output_type": "stream",
     "text": [
      "0.0005254837497623185\n"
     ]
    },
    {
     "name": "stderr",
     "output_type": "stream",
     "text": [
      "\u001b[32mloss: 0.00048:  69%|█████████████████████████████            |  ETA: 0:00:12\u001b[39m"
     ]
    },
    {
     "name": "stdout",
     "output_type": "stream",
     "text": [
      "0.00047995779869909686"
     ]
    },
    {
     "name": "stderr",
     "output_type": "stream",
     "text": [
      "\u001b[32mloss: 0.000479:  69%|█████████████████████████████            |  ETA: 0:00:12\u001b[39m"
     ]
    },
    {
     "name": "stdout",
     "output_type": "stream",
     "text": [
      "\n"
     ]
    },
    {
     "name": "stderr",
     "output_type": "stream",
     "text": [
      "\u001b[32mloss: 0.000438:  94%|███████████████████████████████████████  |  ETA: 0:00:03\u001b[39m"
     ]
    },
    {
     "name": "stdout",
     "output_type": "stream",
     "text": [
      "0.00043732581895955655\n"
     ]
    },
    {
     "name": "stderr",
     "output_type": "stream",
     "text": [
      "\u001b[32mloss: 0.000427: 100%|█████████████████████████████████████████| Time: 0:00:38\u001b[39m\n"
     ]
    },
    {
     "name": "stdout",
     "output_type": "stream",
     "text": [
      "\"Australia\""
     ]
    },
    {
     "name": "stderr",
     "output_type": "stream",
     "text": [
      "┌ Warning: `getindex(df::DataFrame, col_ind::ColumnIndex)` is deprecated, use `df[!, col_ind]` instead.\n",
      "│   caller = top-level scope at In[28]:3\n",
      "└ @ Core In[28]:3\n",
      "\u001b[32mloss: 0.249: 100%|█████████████████████████████████████████| Time: 0:00:01\u001b[39m\n",
      "\u001b[32mloss: 0.107:   7%|███                                      |  ETA: 0:02:08\u001b[39m"
     ]
    },
    {
     "name": "stdout",
     "output_type": "stream",
     "text": [
      "0.10725218444724188\n"
     ]
    },
    {
     "name": "stderr",
     "output_type": "stream",
     "text": [
      "\u001b[32mloss: 0.0229:  16%|███████                                  |  ETA: 0:01:53\u001b[39m"
     ]
    },
    {
     "name": "stdout",
     "output_type": "stream",
     "text": [
      "0.022850575647847468\n"
     ]
    },
    {
     "name": "stderr",
     "output_type": "stream",
     "text": [
      "\u001b[32mloss: 0.00481:  24%|██████████                               |  ETA: 0:01:39\u001b[39m"
     ]
    },
    {
     "name": "stdout",
     "output_type": "stream",
     "text": [
      "0.004814269552794235\n"
     ]
    },
    {
     "name": "stderr",
     "output_type": "stream",
     "text": [
      "\u001b[32mloss: 0.00275:  32%|██████████████                           |  ETA: 0:01:26\u001b[39m"
     ]
    },
    {
     "name": "stdout",
     "output_type": "stream",
     "text": [
      "0.0027454725970695935\n"
     ]
    },
    {
     "name": "stderr",
     "output_type": "stream",
     "text": [
      "\u001b[32mloss: 0.00225:  40%|█████████████████                        |  ETA: 0:01:15\u001b[39m"
     ]
    },
    {
     "name": "stdout",
     "output_type": "stream",
     "text": [
      "0.002251947280476283\n"
     ]
    },
    {
     "name": "stderr",
     "output_type": "stream",
     "text": [
      "\u001b[32mloss: 0.00186:  48%|████████████████████                     |  ETA: 0:01:04\u001b[39m"
     ]
    },
    {
     "name": "stdout",
     "output_type": "stream",
     "text": [
      "0.0018564211334144995\n"
     ]
    },
    {
     "name": "stderr",
     "output_type": "stream",
     "text": [
      "\u001b[32mloss: 0.0015:  57%|████████████████████████                 |  ETA: 0:00:53\u001b[39m"
     ]
    },
    {
     "name": "stdout",
     "output_type": "stream",
     "text": [
      "0.0014976736503278716\n"
     ]
    },
    {
     "name": "stderr",
     "output_type": "stream",
     "text": [
      "\u001b[32mloss: 0.00118:  65%|███████████████████████████              |  ETA: 0:00:42\u001b[39m"
     ]
    },
    {
     "name": "stdout",
     "output_type": "stream",
     "text": [
      "0.001184928866621297\n"
     ]
    },
    {
     "name": "stderr",
     "output_type": "stream",
     "text": [
      "\u001b[32mloss: 0.00092:  73%|███████████████████████████████          |  ETA: 0:00:32\u001b[39m"
     ]
    },
    {
     "name": "stdout",
     "output_type": "stream",
     "text": [
      "0.0009179774240516064\n"
     ]
    },
    {
     "name": "stderr",
     "output_type": "stream",
     "text": [
      "\u001b[32mloss: 0.000697:  82%|██████████████████████████████████       |  ETA: 0:00:22\u001b[39m"
     ]
    },
    {
     "name": "stdout",
     "output_type": "stream",
     "text": [
      "0.0006965450678749572\n"
     ]
    },
    {
     "name": "stderr",
     "output_type": "stream",
     "text": [
      "\u001b[32mloss: 0.000518:  90%|█████████████████████████████████████    |  ETA: 0:00:12\u001b[39m"
     ]
    },
    {
     "name": "stdout",
     "output_type": "stream",
     "text": [
      "0.0005176729682100664\n"
     ]
    },
    {
     "name": "stderr",
     "output_type": "stream",
     "text": [
      "\u001b[32mloss: 0.000378:  98%|█████████████████████████████████████████|  ETA: 0:00:02\u001b[39m"
     ]
    },
    {
     "name": "stdout",
     "output_type": "stream",
     "text": [
      "0.00037679304805631527"
     ]
    },
    {
     "name": "stderr",
     "output_type": "stream",
     "text": [
      "\u001b[32mloss: 0.000375:  98%|█████████████████████████████████████████|  ETA: 0:00:02\u001b[39m"
     ]
    },
    {
     "name": "stdout",
     "output_type": "stream",
     "text": [
      "\n"
     ]
    },
    {
     "name": "stderr",
     "output_type": "stream",
     "text": [
      "\u001b[32mloss: 0.000349: 100%|█████████████████████████████████████████| Time: 0:01:56\u001b[39m\n"
     ]
    },
    {
     "name": "stdout",
     "output_type": "stream",
     "text": [
      "\"Australia\""
     ]
    },
    {
     "name": "stderr",
     "output_type": "stream",
     "text": [
      "┌ Warning: `getindex(df::DataFrame, col_ind::ColumnIndex)` is deprecated, use `df[!, col_ind]` instead.\n",
      "│   caller = top-level scope at In[28]:4\n",
      "└ @ Core In[28]:4\n",
      "\u001b[32mloss: 0.249: 100%|█████████████████████████████████████████| Time: 0:00:01\u001b[39m\n"
     ]
    },
    {
     "name": "stdout",
     "output_type": "stream",
     "text": [
      "\"Australia\""
     ]
    },
    {
     "name": "stderr",
     "output_type": "stream",
     "text": [
      "┌ Warning: `getindex(df::DataFrame, col_ind::ColumnIndex)` is deprecated, use `df[!, col_ind]` instead.\n",
      "│   caller = top-level scope at In[28]:5\n",
      "└ @ Core In[28]:5\n",
      "\u001b[32mloss: 0.249: 100%|█████████████████████████████████████████| Time: 0:00:01\u001b[39m\n",
      "\u001b[32mloss: 0.109:  44%|██████████████████                       |  ETA: 0:00:12\u001b[39m"
     ]
    },
    {
     "name": "stdout",
     "output_type": "stream",
     "text": [
      "0.10725218444724188"
     ]
    },
    {
     "name": "stderr",
     "output_type": "stream",
     "text": [
      "\u001b[32mloss: 0.106:  44%|███████████████████                      |  ETA: 0:00:12\u001b[39m"
     ]
    },
    {
     "name": "stdout",
     "output_type": "stream",
     "text": [
      "\n"
     ]
    },
    {
     "name": "stderr",
     "output_type": "stream",
     "text": [
      "\u001b[32mloss: 0.0225:  94%|███████████████████████████████████████  |  ETA: 0:00:01\u001b[39m"
     ]
    },
    {
     "name": "stdout",
     "output_type": "stream",
     "text": [
      "0.022850575647847468\n"
     ]
    },
    {
     "name": "stderr",
     "output_type": "stream",
     "text": [
      "\u001b[32mloss: 0.0182: 100%|█████████████████████████████████████████| Time: 0:00:21\u001b[39m\n",
      "\u001b[32mloss: 8.45e-05:  37%|████████████████                         |  ETA: 0:00:10\u001b[39m"
     ]
    },
    {
     "name": "stdout",
     "output_type": "stream",
     "text": [
      "8.450980394578031e-5\n"
     ]
    },
    {
     "name": "stderr",
     "output_type": "stream",
     "text": [
      "\u001b[32mloss: 8.02e-05:  86%|████████████████████████████████████     |  ETA: 0:00:02\u001b[39m"
     ]
    },
    {
     "name": "stdout",
     "output_type": "stream",
     "text": [
      "8.019943642840589e-5"
     ]
    },
    {
     "name": "stderr",
     "output_type": "stream",
     "text": [
      "\u001b[32mloss: 8.03e-05:  87%|████████████████████████████████████     |  ETA: 0:00:02\u001b[39m"
     ]
    },
    {
     "name": "stdout",
     "output_type": "stream",
     "text": [
      "\n"
     ]
    },
    {
     "name": "stderr",
     "output_type": "stream",
     "text": [
      "\u001b[32mloss: 7.89e-05: 100%|█████████████████████████████████████████| Time: 0:00:16\u001b[39m\n",
      "\u001b[32mloss: 2.28e-06:  26%|███████████                              |  ETA: 0:00:12\u001b[39m"
     ]
    },
    {
     "name": "stdout",
     "output_type": "stream",
     "text": [
      "2.2776686991876325e-6\n"
     ]
    },
    {
     "name": "stderr",
     "output_type": "stream",
     "text": [
      "\u001b[32mloss: 2.28e-06:  74%|███████████████████████████████          |  ETA: 0:00:04\u001b[39m"
     ]
    },
    {
     "name": "stdout",
     "output_type": "stream",
     "text": [
      "2.2769688320122045e-6\n"
     ]
    },
    {
     "name": "stderr",
     "output_type": "stream",
     "text": [
      "\u001b[32mloss: 2.26e-06: 100%|█████████████████████████████████████████| Time: 0:00:17\u001b[39m\n"
     ]
    },
    {
     "data": {
      "text/plain": [
       "(Float32[0.21708271, -0.31651247, 0.2440664, 0.3649102, 0.25283813, 0.36952767, 0.37611997, -0.4831199, -0.08618398, -0.009032343  …  0.28773957, -0.34960827, 0.3584701, 0.08741645, 0.18306886, -0.24141558, -0.14200418, 0.33993062, 0.24686341, -0.0025386505], Float32[0.017194, 0.022045463, 0.01763201, 0.014995082, 0.01534704, 0.017245354, 0.01929159, 0.020789709, 0.021639954, 0.021987982, 0.022015583, 0.02192673, 0.021940213, 0.022209533, 0.0225263, 0.022972677, 0.023628492, 0.024357496, 0.02516006, 0.026022624], Any[4.08630269371138, 1.1609024614834669, 0.26308933519281597, 0.7660382921992408, 1.4437978265919273, 1.5667801144477747, 1.2024771286535252, 0.69266542239967, 0.3309969196816429, 0.2488454080237709  …  2.27181412247512e-6, 2.2610919026594447e-6, 2.260648082050623e-6, 2.2793894046698614e-6, 2.274919817459402e-6, 2.2630245091586777e-6, 2.2607097991882297e-6, 2.260709152738777e-6, 2.2607084415403632e-6, 2.2607084415403632e-6])"
      ]
     },
     "execution_count": 28,
     "metadata": {},
     "output_type": "execute_result"
    }
   ],
   "source": [
    "actual= getCleandataFrame(country1)\n",
    "para_1,pred_value_1,losses_1=train_eqn2_addition_modified(country2, training_1[country1],nnp,trainer1)\n",
    "para_2,pred_value_2,losses_2=train_eqn2_addition_modified(country2, training_1[country1],nnp,trainer2)\n",
    "para_3,pred_value_3,losses_3=train_eqn2_addition_modified(country2, training_1[country1],nnp,trainer3)\n",
    "para_4,pred_value_4,losses_4=train_eqn2_addition_modified(country2, training_1[country1],nnp,trainer4)"
   ]
  },
  {
   "cell_type": "code",
   "execution_count": 32,
   "metadata": {},
   "outputs": [
    {
     "data": {
      "image/svg+xml": [
       "<?xml version=\"1.0\" encoding=\"utf-8\"?>\n",
       "<svg xmlns=\"http://www.w3.org/2000/svg\" xmlns:xlink=\"http://www.w3.org/1999/xlink\" width=\"600\" height=\"400\" viewBox=\"0 0 2400 1600\">\n",
       "<defs>\n",
       "  <clipPath id=\"clip400\">\n",
       "    <rect x=\"0\" y=\"0\" width=\"2400\" height=\"1600\"/>\n",
       "  </clipPath>\n",
       "</defs>\n",
       "<path clip-path=\"url(#clip400)\" d=\"\n",
       "M0 1600 L2400 1600 L2400 0 L0 0  Z\n",
       "  \" fill=\"#ffffff\" fill-rule=\"evenodd\" fill-opacity=\"1\"/>\n",
       "<defs>\n",
       "  <clipPath id=\"clip401\">\n",
       "    <rect x=\"480\" y=\"0\" width=\"1681\" height=\"1600\"/>\n",
       "  </clipPath>\n",
       "</defs>\n",
       "<path clip-path=\"url(#clip400)\" d=\"\n",
       "M211.575 686.448 L1152.76 686.448 L1152.76 123.472 L211.575 123.472  Z\n",
       "  \" fill=\"#ffffff\" fill-rule=\"evenodd\" fill-opacity=\"1\"/>\n",
       "<defs>\n",
       "  <clipPath id=\"clip402\">\n",
       "    <rect x=\"211\" y=\"123\" width=\"942\" height=\"564\"/>\n",
       "  </clipPath>\n",
       "</defs>\n",
       "<polyline clip-path=\"url(#clip402)\" style=\"stroke:#000000; stroke-width:2; stroke-opacity:0.1; fill:none\" points=\"\n",
       "  237.48,686.448 237.48,123.472 \n",
       "  \"/>\n",
       "<polyline clip-path=\"url(#clip402)\" style=\"stroke:#000000; stroke-width:2; stroke-opacity:0.1; fill:none\" points=\"\n",
       "  383.878,686.448 383.878,123.472 \n",
       "  \"/>\n",
       "<polyline clip-path=\"url(#clip402)\" style=\"stroke:#000000; stroke-width:2; stroke-opacity:0.1; fill:none\" points=\"\n",
       "  530.277,686.448 530.277,123.472 \n",
       "  \"/>\n",
       "<polyline clip-path=\"url(#clip402)\" style=\"stroke:#000000; stroke-width:2; stroke-opacity:0.1; fill:none\" points=\"\n",
       "  676.675,686.448 676.675,123.472 \n",
       "  \"/>\n",
       "<polyline clip-path=\"url(#clip402)\" style=\"stroke:#000000; stroke-width:2; stroke-opacity:0.1; fill:none\" points=\"\n",
       "  823.074,686.448 823.074,123.472 \n",
       "  \"/>\n",
       "<polyline clip-path=\"url(#clip402)\" style=\"stroke:#000000; stroke-width:2; stroke-opacity:0.1; fill:none\" points=\"\n",
       "  969.472,686.448 969.472,123.472 \n",
       "  \"/>\n",
       "<polyline clip-path=\"url(#clip402)\" style=\"stroke:#000000; stroke-width:2; stroke-opacity:0.1; fill:none\" points=\"\n",
       "  1115.87,686.448 1115.87,123.472 \n",
       "  \"/>\n",
       "<polyline clip-path=\"url(#clip402)\" style=\"stroke:#000000; stroke-width:2; stroke-opacity:0.1; fill:none\" points=\"\n",
       "  211.575,621.217 1152.76,621.217 \n",
       "  \"/>\n",
       "<polyline clip-path=\"url(#clip402)\" style=\"stroke:#000000; stroke-width:2; stroke-opacity:0.1; fill:none\" points=\"\n",
       "  211.575,487.8 1152.76,487.8 \n",
       "  \"/>\n",
       "<polyline clip-path=\"url(#clip402)\" style=\"stroke:#000000; stroke-width:2; stroke-opacity:0.1; fill:none\" points=\"\n",
       "  211.575,354.384 1152.76,354.384 \n",
       "  \"/>\n",
       "<polyline clip-path=\"url(#clip402)\" style=\"stroke:#000000; stroke-width:2; stroke-opacity:0.1; fill:none\" points=\"\n",
       "  211.575,220.967 1152.76,220.967 \n",
       "  \"/>\n",
       "<polyline clip-path=\"url(#clip400)\" style=\"stroke:#000000; stroke-width:4; stroke-opacity:1; fill:none\" points=\"\n",
       "  211.575,686.448 1152.76,686.448 \n",
       "  \"/>\n",
       "<polyline clip-path=\"url(#clip400)\" style=\"stroke:#000000; stroke-width:4; stroke-opacity:1; fill:none\" points=\"\n",
       "  211.575,686.448 211.575,123.472 \n",
       "  \"/>\n",
       "<polyline clip-path=\"url(#clip400)\" style=\"stroke:#000000; stroke-width:4; stroke-opacity:1; fill:none\" points=\"\n",
       "  237.48,686.448 237.48,679.692 \n",
       "  \"/>\n",
       "<polyline clip-path=\"url(#clip400)\" style=\"stroke:#000000; stroke-width:4; stroke-opacity:1; fill:none\" points=\"\n",
       "  383.878,686.448 383.878,679.692 \n",
       "  \"/>\n",
       "<polyline clip-path=\"url(#clip400)\" style=\"stroke:#000000; stroke-width:4; stroke-opacity:1; fill:none\" points=\"\n",
       "  530.277,686.448 530.277,679.692 \n",
       "  \"/>\n",
       "<polyline clip-path=\"url(#clip400)\" style=\"stroke:#000000; stroke-width:4; stroke-opacity:1; fill:none\" points=\"\n",
       "  676.675,686.448 676.675,679.692 \n",
       "  \"/>\n",
       "<polyline clip-path=\"url(#clip400)\" style=\"stroke:#000000; stroke-width:4; stroke-opacity:1; fill:none\" points=\"\n",
       "  823.074,686.448 823.074,679.692 \n",
       "  \"/>\n",
       "<polyline clip-path=\"url(#clip400)\" style=\"stroke:#000000; stroke-width:4; stroke-opacity:1; fill:none\" points=\"\n",
       "  969.472,686.448 969.472,679.692 \n",
       "  \"/>\n",
       "<polyline clip-path=\"url(#clip400)\" style=\"stroke:#000000; stroke-width:4; stroke-opacity:1; fill:none\" points=\"\n",
       "  1115.87,686.448 1115.87,679.692 \n",
       "  \"/>\n",
       "<polyline clip-path=\"url(#clip400)\" style=\"stroke:#000000; stroke-width:4; stroke-opacity:1; fill:none\" points=\"\n",
       "  211.575,621.217 222.869,621.217 \n",
       "  \"/>\n",
       "<polyline clip-path=\"url(#clip400)\" style=\"stroke:#000000; stroke-width:4; stroke-opacity:1; fill:none\" points=\"\n",
       "  211.575,487.8 222.869,487.8 \n",
       "  \"/>\n",
       "<polyline clip-path=\"url(#clip400)\" style=\"stroke:#000000; stroke-width:4; stroke-opacity:1; fill:none\" points=\"\n",
       "  211.575,354.384 222.869,354.384 \n",
       "  \"/>\n",
       "<polyline clip-path=\"url(#clip400)\" style=\"stroke:#000000; stroke-width:4; stroke-opacity:1; fill:none\" points=\"\n",
       "  211.575,220.967 222.869,220.967 \n",
       "  \"/>\n",
       "<path clip-path=\"url(#clip400)\" d=\"M 0 0 M237.48 708.439 Q233.869 708.439 232.04 712.003 Q230.235 715.545 230.235 722.675 Q230.235 729.781 232.04 733.346 Q233.869 736.887 237.48 736.887 Q241.114 736.887 242.92 733.346 Q244.748 729.781 244.748 722.675 Q244.748 715.545 242.92 712.003 Q241.114 708.439 237.48 708.439 M237.48 704.735 Q243.29 704.735 246.346 709.341 Q249.424 713.925 249.424 722.675 Q249.424 731.401 246.346 736.008 Q243.29 740.591 237.48 740.591 Q231.67 740.591 228.591 736.008 Q225.536 731.401 225.536 722.675 Q225.536 713.925 228.591 709.341 Q231.67 704.735 237.48 704.735 Z\" fill=\"#000000\" fill-rule=\"evenodd\" fill-opacity=\"1\" /><path clip-path=\"url(#clip400)\" d=\"M 0 0 M351.518 735.985 L367.837 735.985 L367.837 739.92 L345.893 739.92 L345.893 735.985 Q348.555 733.23 353.138 728.6 Q357.744 723.948 358.925 722.605 Q361.17 720.082 362.05 718.346 Q362.953 716.587 362.953 714.897 Q362.953 712.142 361.008 710.406 Q359.087 708.67 355.985 708.67 Q353.786 708.67 351.332 709.434 Q348.902 710.198 346.124 711.749 L346.124 707.027 Q348.948 705.892 351.402 705.314 Q353.855 704.735 355.893 704.735 Q361.263 704.735 364.457 707.42 Q367.652 710.105 367.652 714.596 Q367.652 716.726 366.842 718.647 Q366.054 720.545 363.948 723.138 Q363.369 723.809 360.267 727.026 Q357.166 730.221 351.518 735.985 Z\" fill=\"#000000\" fill-rule=\"evenodd\" fill-opacity=\"1\" /><path clip-path=\"url(#clip400)\" d=\"M 0 0 M382.906 708.439 Q379.295 708.439 377.466 712.003 Q375.661 715.545 375.661 722.675 Q375.661 729.781 377.466 733.346 Q379.295 736.887 382.906 736.887 Q386.54 736.887 388.346 733.346 Q390.175 729.781 390.175 722.675 Q390.175 715.545 388.346 712.003 Q386.54 708.439 382.906 708.439 M382.906 704.735 Q388.716 704.735 391.772 709.341 Q394.851 713.925 394.851 722.675 Q394.851 731.401 391.772 736.008 Q388.716 740.591 382.906 740.591 Q377.096 740.591 374.017 736.008 Q370.962 731.401 370.962 722.675 Q370.962 713.925 374.017 709.341 Q377.096 704.735 382.906 704.735 Z\" fill=\"#000000\" fill-rule=\"evenodd\" fill-opacity=\"1\" /><path clip-path=\"url(#clip400)\" d=\"M 0 0 M409.92 708.439 Q406.309 708.439 404.48 712.003 Q402.675 715.545 402.675 722.675 Q402.675 729.781 404.48 733.346 Q406.309 736.887 409.92 736.887 Q413.554 736.887 415.36 733.346 Q417.188 729.781 417.188 722.675 Q417.188 715.545 415.36 712.003 Q413.554 708.439 409.92 708.439 M409.92 704.735 Q415.73 704.735 418.786 709.341 Q421.864 713.925 421.864 722.675 Q421.864 731.401 418.786 736.008 Q415.73 740.591 409.92 740.591 Q404.11 740.591 401.031 736.008 Q397.976 731.401 397.976 722.675 Q397.976 713.925 401.031 709.341 Q404.11 704.735 409.92 704.735 Z\" fill=\"#000000\" fill-rule=\"evenodd\" fill-opacity=\"1\" /><path clip-path=\"url(#clip400)\" d=\"M 0 0 M506.272 709.434 L494.467 727.883 L506.272 727.883 L506.272 709.434 M505.046 705.36 L510.925 705.36 L510.925 727.883 L515.856 727.883 L515.856 731.772 L510.925 731.772 L510.925 739.92 L506.272 739.92 L506.272 731.772 L490.671 731.772 L490.671 727.258 L505.046 705.36 Z\" fill=\"#000000\" fill-rule=\"evenodd\" fill-opacity=\"1\" /><path clip-path=\"url(#clip400)\" d=\"M 0 0 M530.925 708.439 Q527.314 708.439 525.485 712.003 Q523.68 715.545 523.68 722.675 Q523.68 729.781 525.485 733.346 Q527.314 736.887 530.925 736.887 Q534.559 736.887 536.365 733.346 Q538.194 729.781 538.194 722.675 Q538.194 715.545 536.365 712.003 Q534.559 708.439 530.925 708.439 M530.925 704.735 Q536.735 704.735 539.791 709.341 Q542.869 713.925 542.869 722.675 Q542.869 731.401 539.791 736.008 Q536.735 740.591 530.925 740.591 Q525.115 740.591 522.036 736.008 Q518.981 731.401 518.981 722.675 Q518.981 713.925 522.036 709.341 Q525.115 704.735 530.925 704.735 Z\" fill=\"#000000\" fill-rule=\"evenodd\" fill-opacity=\"1\" /><path clip-path=\"url(#clip400)\" d=\"M 0 0 M557.939 708.439 Q554.328 708.439 552.499 712.003 Q550.693 715.545 550.693 722.675 Q550.693 729.781 552.499 733.346 Q554.328 736.887 557.939 736.887 Q561.573 736.887 563.379 733.346 Q565.207 729.781 565.207 722.675 Q565.207 715.545 563.379 712.003 Q561.573 708.439 557.939 708.439 M557.939 704.735 Q563.749 704.735 566.805 709.341 Q569.883 713.925 569.883 722.675 Q569.883 731.401 566.805 736.008 Q563.749 740.591 557.939 740.591 Q552.129 740.591 549.05 736.008 Q545.994 731.401 545.994 722.675 Q545.994 713.925 549.05 709.341 Q552.129 704.735 557.939 704.735 Z\" fill=\"#000000\" fill-rule=\"evenodd\" fill-opacity=\"1\" /><path clip-path=\"url(#clip400)\" d=\"M 0 0 M650.067 720.776 Q646.919 720.776 645.067 722.929 Q643.238 725.082 643.238 728.832 Q643.238 732.559 645.067 734.735 Q646.919 736.887 650.067 736.887 Q653.215 736.887 655.044 734.735 Q656.895 732.559 656.895 728.832 Q656.895 725.082 655.044 722.929 Q653.215 720.776 650.067 720.776 M659.349 706.124 L659.349 710.383 Q657.59 709.55 655.784 709.11 Q654.002 708.67 652.243 708.67 Q647.613 708.67 645.159 711.795 Q642.729 714.92 642.382 721.239 Q643.747 719.226 645.808 718.161 Q647.868 717.073 650.345 717.073 Q655.553 717.073 658.562 720.244 Q661.594 723.392 661.594 728.832 Q661.594 734.156 658.446 737.374 Q655.298 740.591 650.067 740.591 Q644.071 740.591 640.9 736.008 Q637.729 731.401 637.729 722.675 Q637.729 714.48 641.618 709.619 Q645.507 704.735 652.057 704.735 Q653.817 704.735 655.599 705.082 Q657.405 705.429 659.349 706.124 Z\" fill=\"#000000\" fill-rule=\"evenodd\" fill-opacity=\"1\" /><path clip-path=\"url(#clip400)\" d=\"M 0 0 M676.664 708.439 Q673.053 708.439 671.224 712.003 Q669.419 715.545 669.419 722.675 Q669.419 729.781 671.224 733.346 Q673.053 736.887 676.664 736.887 Q680.298 736.887 682.104 733.346 Q683.932 729.781 683.932 722.675 Q683.932 715.545 682.104 712.003 Q680.298 708.439 676.664 708.439 M676.664 704.735 Q682.474 704.735 685.53 709.341 Q688.608 713.925 688.608 722.675 Q688.608 731.401 685.53 736.008 Q682.474 740.591 676.664 740.591 Q670.854 740.591 667.775 736.008 Q664.719 731.401 664.719 722.675 Q664.719 713.925 667.775 709.341 Q670.854 704.735 676.664 704.735 Z\" fill=\"#000000\" fill-rule=\"evenodd\" fill-opacity=\"1\" /><path clip-path=\"url(#clip400)\" d=\"M 0 0 M703.678 708.439 Q700.066 708.439 698.238 712.003 Q696.432 715.545 696.432 722.675 Q696.432 729.781 698.238 733.346 Q700.066 736.887 703.678 736.887 Q707.312 736.887 709.117 733.346 Q710.946 729.781 710.946 722.675 Q710.946 715.545 709.117 712.003 Q707.312 708.439 703.678 708.439 M703.678 704.735 Q709.488 704.735 712.543 709.341 Q715.622 713.925 715.622 722.675 Q715.622 731.401 712.543 736.008 Q709.488 740.591 703.678 740.591 Q697.867 740.591 694.789 736.008 Q691.733 731.401 691.733 722.675 Q691.733 713.925 694.789 709.341 Q697.867 704.735 703.678 704.735 Z\" fill=\"#000000\" fill-rule=\"evenodd\" fill-opacity=\"1\" /><path clip-path=\"url(#clip400)\" d=\"M 0 0 M796.06 723.508 Q792.727 723.508 790.806 725.29 Q788.907 727.073 788.907 730.198 Q788.907 733.323 790.806 735.105 Q792.727 736.887 796.06 736.887 Q799.393 736.887 801.315 735.105 Q803.236 733.3 803.236 730.198 Q803.236 727.073 801.315 725.29 Q799.417 723.508 796.06 723.508 M791.384 721.517 Q788.375 720.776 786.685 718.716 Q785.019 716.656 785.019 713.693 Q785.019 709.55 787.958 707.142 Q790.921 704.735 796.06 704.735 Q801.222 704.735 804.162 707.142 Q807.102 709.55 807.102 713.693 Q807.102 716.656 805.412 718.716 Q803.745 720.776 800.759 721.517 Q804.139 722.304 806.014 724.596 Q807.912 726.888 807.912 730.198 Q807.912 735.221 804.833 737.906 Q801.778 740.591 796.06 740.591 Q790.343 740.591 787.264 737.906 Q784.208 735.221 784.208 730.198 Q784.208 726.888 786.106 724.596 Q788.005 722.304 791.384 721.517 M789.671 714.133 Q789.671 716.818 791.338 718.323 Q793.028 719.827 796.06 719.827 Q799.069 719.827 800.759 718.323 Q802.472 716.818 802.472 714.133 Q802.472 711.448 800.759 709.943 Q799.069 708.439 796.06 708.439 Q793.028 708.439 791.338 709.943 Q789.671 711.448 789.671 714.133 Z\" fill=\"#000000\" fill-rule=\"evenodd\" fill-opacity=\"1\" /><path clip-path=\"url(#clip400)\" d=\"M 0 0 M822.981 708.439 Q819.37 708.439 817.541 712.003 Q815.736 715.545 815.736 722.675 Q815.736 729.781 817.541 733.346 Q819.37 736.887 822.981 736.887 Q826.616 736.887 828.421 733.346 Q830.25 729.781 830.25 722.675 Q830.25 715.545 828.421 712.003 Q826.616 708.439 822.981 708.439 M822.981 704.735 Q828.791 704.735 831.847 709.341 Q834.926 713.925 834.926 722.675 Q834.926 731.401 831.847 736.008 Q828.791 740.591 822.981 740.591 Q817.171 740.591 814.092 736.008 Q811.037 731.401 811.037 722.675 Q811.037 713.925 814.092 709.341 Q817.171 704.735 822.981 704.735 Z\" fill=\"#000000\" fill-rule=\"evenodd\" fill-opacity=\"1\" /><path clip-path=\"url(#clip400)\" d=\"M 0 0 M849.995 708.439 Q846.384 708.439 844.555 712.003 Q842.75 715.545 842.75 722.675 Q842.75 729.781 844.555 733.346 Q846.384 736.887 849.995 736.887 Q853.629 736.887 855.435 733.346 Q857.264 729.781 857.264 722.675 Q857.264 715.545 855.435 712.003 Q853.629 708.439 849.995 708.439 M849.995 704.735 Q855.805 704.735 858.861 709.341 Q861.939 713.925 861.939 722.675 Q861.939 731.401 858.861 736.008 Q855.805 740.591 849.995 740.591 Q844.185 740.591 841.106 736.008 Q838.051 731.401 838.051 722.675 Q838.051 713.925 841.106 709.341 Q844.185 704.735 849.995 704.735 Z\" fill=\"#000000\" fill-rule=\"evenodd\" fill-opacity=\"1\" /><path clip-path=\"url(#clip400)\" d=\"M 0 0 M919.334 735.985 L926.973 735.985 L926.973 709.619 L918.662 711.286 L918.662 707.027 L926.926 705.36 L931.602 705.36 L931.602 735.985 L939.241 735.985 L939.241 739.92 L919.334 739.92 L919.334 735.985 Z\" fill=\"#000000\" fill-rule=\"evenodd\" fill-opacity=\"1\" /><path clip-path=\"url(#clip400)\" d=\"M 0 0 M954.31 708.439 Q950.699 708.439 948.871 712.003 Q947.065 715.545 947.065 722.675 Q947.065 729.781 948.871 733.346 Q950.699 736.887 954.31 736.887 Q957.945 736.887 959.75 733.346 Q961.579 729.781 961.579 722.675 Q961.579 715.545 959.75 712.003 Q957.945 708.439 954.31 708.439 M954.31 704.735 Q960.121 704.735 963.176 709.341 Q966.255 713.925 966.255 722.675 Q966.255 731.401 963.176 736.008 Q960.121 740.591 954.31 740.591 Q948.5 740.591 945.422 736.008 Q942.366 731.401 942.366 722.675 Q942.366 713.925 945.422 709.341 Q948.5 704.735 954.31 704.735 Z\" fill=\"#000000\" fill-rule=\"evenodd\" fill-opacity=\"1\" /><path clip-path=\"url(#clip400)\" d=\"M 0 0 M981.324 708.439 Q977.713 708.439 975.884 712.003 Q974.079 715.545 974.079 722.675 Q974.079 729.781 975.884 733.346 Q977.713 736.887 981.324 736.887 Q984.958 736.887 986.764 733.346 Q988.593 729.781 988.593 722.675 Q988.593 715.545 986.764 712.003 Q984.958 708.439 981.324 708.439 M981.324 704.735 Q987.134 704.735 990.19 709.341 Q993.269 713.925 993.269 722.675 Q993.269 731.401 990.19 736.008 Q987.134 740.591 981.324 740.591 Q975.514 740.591 972.435 736.008 Q969.38 731.401 969.38 722.675 Q969.38 713.925 972.435 709.341 Q975.514 704.735 981.324 704.735 Z\" fill=\"#000000\" fill-rule=\"evenodd\" fill-opacity=\"1\" /><path clip-path=\"url(#clip400)\" d=\"M 0 0 M1008.34 708.439 Q1004.73 708.439 1002.9 712.003 Q1001.09 715.545 1001.09 722.675 Q1001.09 729.781 1002.9 733.346 Q1004.73 736.887 1008.34 736.887 Q1011.97 736.887 1013.78 733.346 Q1015.61 729.781 1015.61 722.675 Q1015.61 715.545 1013.78 712.003 Q1011.97 708.439 1008.34 708.439 M1008.34 704.735 Q1014.15 704.735 1017.2 709.341 Q1020.28 713.925 1020.28 722.675 Q1020.28 731.401 1017.2 736.008 Q1014.15 740.591 1008.34 740.591 Q1002.53 740.591 999.449 736.008 Q996.393 731.401 996.393 722.675 Q996.393 713.925 999.449 709.341 Q1002.53 704.735 1008.34 704.735 Z\" fill=\"#000000\" fill-rule=\"evenodd\" fill-opacity=\"1\" /><path clip-path=\"url(#clip400)\" d=\"M 0 0 M1066.53 735.985 L1074.17 735.985 L1074.17 709.619 L1065.86 711.286 L1065.86 707.027 L1074.12 705.36 L1078.8 705.36 L1078.8 735.985 L1086.44 735.985 L1086.44 739.92 L1066.53 739.92 L1066.53 735.985 Z\" fill=\"#000000\" fill-rule=\"evenodd\" fill-opacity=\"1\" /><path clip-path=\"url(#clip400)\" d=\"M 0 0 M1095.54 735.985 L1111.85 735.985 L1111.85 739.92 L1089.91 739.92 L1089.91 735.985 Q1092.57 733.23 1097.16 728.6 Q1101.76 723.948 1102.94 722.605 Q1105.19 720.082 1106.07 718.346 Q1106.97 716.587 1106.97 714.897 Q1106.97 712.142 1105.03 710.406 Q1103.1 708.67 1100 708.67 Q1097.8 708.67 1095.35 709.434 Q1092.92 710.198 1090.14 711.749 L1090.14 707.027 Q1092.97 705.892 1095.42 705.314 Q1097.87 704.735 1099.91 704.735 Q1105.28 704.735 1108.48 707.42 Q1111.67 710.105 1111.67 714.596 Q1111.67 716.726 1110.86 718.647 Q1110.07 720.545 1107.97 723.138 Q1107.39 723.809 1104.29 727.026 Q1101.18 730.221 1095.54 735.985 Z\" fill=\"#000000\" fill-rule=\"evenodd\" fill-opacity=\"1\" /><path clip-path=\"url(#clip400)\" d=\"M 0 0 M1126.92 708.439 Q1123.31 708.439 1121.48 712.003 Q1119.68 715.545 1119.68 722.675 Q1119.68 729.781 1121.48 733.346 Q1123.31 736.887 1126.92 736.887 Q1130.56 736.887 1132.36 733.346 Q1134.19 729.781 1134.19 722.675 Q1134.19 715.545 1132.36 712.003 Q1130.56 708.439 1126.92 708.439 M1126.92 704.735 Q1132.73 704.735 1135.79 709.341 Q1138.87 713.925 1138.87 722.675 Q1138.87 731.401 1135.79 736.008 Q1132.73 740.591 1126.92 740.591 Q1121.11 740.591 1118.04 736.008 Q1114.98 731.401 1114.98 722.675 Q1114.98 713.925 1118.04 709.341 Q1121.11 704.735 1126.92 704.735 Z\" fill=\"#000000\" fill-rule=\"evenodd\" fill-opacity=\"1\" /><path clip-path=\"url(#clip400)\" d=\"M 0 0 M1153.94 708.439 Q1150.33 708.439 1148.5 712.003 Q1146.69 715.545 1146.69 722.675 Q1146.69 729.781 1148.5 733.346 Q1150.33 736.887 1153.94 736.887 Q1157.57 736.887 1159.38 733.346 Q1161.21 729.781 1161.21 722.675 Q1161.21 715.545 1159.38 712.003 Q1157.57 708.439 1153.94 708.439 M1153.94 704.735 Q1159.75 704.735 1162.8 709.341 Q1165.88 713.925 1165.88 722.675 Q1165.88 731.401 1162.8 736.008 Q1159.75 740.591 1153.94 740.591 Q1148.13 740.591 1145.05 736.008 Q1141.99 731.401 1141.99 722.675 Q1141.99 713.925 1145.05 709.341 Q1148.13 704.735 1153.94 704.735 Z\" fill=\"#000000\" fill-rule=\"evenodd\" fill-opacity=\"1\" /><path clip-path=\"url(#clip400)\" d=\"M 0 0 M98.0541 641.01 L105.693 641.01 L105.693 614.644 L97.3829 616.311 L97.3829 612.051 L105.647 610.385 L110.323 610.385 L110.323 641.01 L117.961 641.01 L117.961 644.945 L98.0541 644.945 L98.0541 641.01 Z\" fill=\"#000000\" fill-rule=\"evenodd\" fill-opacity=\"1\" /><path clip-path=\"url(#clip400)\" d=\"M 0 0 M133.031 613.463 Q129.42 613.463 127.591 617.028 Q125.785 620.57 125.785 627.699 Q125.785 634.806 127.591 638.371 Q129.42 641.912 133.031 641.912 Q136.665 641.912 138.471 638.371 Q140.299 634.806 140.299 627.699 Q140.299 620.57 138.471 617.028 Q136.665 613.463 133.031 613.463 M133.031 609.76 Q138.841 609.76 141.897 614.366 Q144.975 618.949 144.975 627.699 Q144.975 636.426 141.897 641.033 Q138.841 645.616 133.031 645.616 Q127.221 645.616 124.142 641.033 Q121.086 636.426 121.086 627.699 Q121.086 618.949 124.142 614.366 Q127.221 609.76 133.031 609.76 Z\" fill=\"#000000\" fill-rule=\"evenodd\" fill-opacity=\"1\" /><path clip-path=\"url(#clip400)\" d=\"M 0 0 M144.975 605.441 L155.113 605.441 L155.113 608.525 L144.975 608.525 L144.975 605.441 Z\" fill=\"#000000\" fill-rule=\"evenodd\" fill-opacity=\"1\" /><path clip-path=\"url(#clip400)\" d=\"M 0 0 M181.782 602.394 Q184.509 602.977 186.033 604.82 Q187.575 606.663 187.575 609.372 Q187.575 613.528 184.716 615.804 Q181.857 618.08 176.591 618.08 Q174.823 618.08 172.942 617.722 Q171.08 617.384 169.087 616.688 L169.087 613.02 Q170.667 613.942 172.547 614.412 Q174.428 614.882 176.478 614.882 Q180.052 614.882 181.914 613.472 Q183.794 612.061 183.794 609.372 Q183.794 606.889 182.045 605.497 Q180.315 604.087 177.212 604.087 L173.939 604.087 L173.939 600.965 L177.362 600.965 Q180.165 600.965 181.65 599.855 Q183.136 598.727 183.136 596.62 Q183.136 594.457 181.594 593.31 Q180.07 592.144 177.212 592.144 Q175.651 592.144 173.864 592.482 Q172.077 592.821 169.933 593.536 L169.933 590.15 Q172.096 589.548 173.977 589.247 Q175.876 588.946 177.55 588.946 Q181.876 588.946 184.396 590.921 Q186.917 592.877 186.917 596.225 Q186.917 598.557 185.581 600.175 Q184.246 601.773 181.782 602.394 Z\" fill=\"#000000\" fill-rule=\"evenodd\" fill-opacity=\"1\" /><path clip-path=\"url(#clip400)\" d=\"M 0 0 M98.7124 507.593 L106.351 507.593 L106.351 481.227 L98.0411 482.894 L98.0411 478.635 L106.305 476.968 L110.981 476.968 L110.981 507.593 L118.62 507.593 L118.62 511.528 L98.7124 511.528 L98.7124 507.593 Z\" fill=\"#000000\" fill-rule=\"evenodd\" fill-opacity=\"1\" /><path clip-path=\"url(#clip400)\" d=\"M 0 0 M133.689 480.047 Q130.078 480.047 128.249 483.612 Q126.444 487.153 126.444 494.283 Q126.444 501.389 128.249 504.954 Q130.078 508.496 133.689 508.496 Q137.323 508.496 139.129 504.954 Q140.958 501.389 140.958 494.283 Q140.958 487.153 139.129 483.612 Q137.323 480.047 133.689 480.047 M133.689 476.343 Q139.499 476.343 142.555 480.949 Q145.633 485.533 145.633 494.283 Q145.633 503.01 142.555 507.616 Q139.499 512.199 133.689 512.199 Q127.879 512.199 124.8 507.616 Q121.745 503.01 121.745 494.283 Q121.745 485.533 124.8 480.949 Q127.879 476.343 133.689 476.343 Z\" fill=\"#000000\" fill-rule=\"evenodd\" fill-opacity=\"1\" /><path clip-path=\"url(#clip400)\" d=\"M 0 0 M145.633 472.024 L155.771 472.024 L155.771 475.109 L145.633 475.109 L145.633 472.024 Z\" fill=\"#000000\" fill-rule=\"evenodd\" fill-opacity=\"1\" /><path clip-path=\"url(#clip400)\" d=\"M 0 0 M174.315 480.92 L187.575 480.92 L187.575 484.118 L169.745 484.118 L169.745 480.92 Q171.908 478.682 175.632 474.921 Q179.375 471.14 180.334 470.049 Q182.158 467.999 182.873 466.589 Q183.606 465.159 183.606 463.786 Q183.606 461.548 182.026 460.138 Q180.465 458.727 177.945 458.727 Q176.158 458.727 174.165 459.348 Q172.19 459.968 169.933 461.229 L169.933 457.392 Q172.228 456.47 174.221 456 Q176.215 455.53 177.87 455.53 Q182.233 455.53 184.829 457.712 Q187.424 459.893 187.424 463.542 Q187.424 465.272 186.766 466.833 Q186.127 468.376 184.415 470.482 Q183.945 471.027 181.425 473.642 Q178.904 476.237 174.315 480.92 Z\" fill=\"#000000\" fill-rule=\"evenodd\" fill-opacity=\"1\" /><path clip-path=\"url(#clip400)\" d=\"M 0 0 M99.8221 374.176 L107.461 374.176 L107.461 347.811 L99.1508 349.477 L99.1508 345.218 L107.415 343.551 L112.091 343.551 L112.091 374.176 L119.729 374.176 L119.729 378.111 L99.8221 378.111 L99.8221 374.176 Z\" fill=\"#000000\" fill-rule=\"evenodd\" fill-opacity=\"1\" /><path clip-path=\"url(#clip400)\" d=\"M 0 0 M134.799 346.63 Q131.188 346.63 129.359 350.195 Q127.553 353.736 127.553 360.866 Q127.553 367.973 129.359 371.537 Q131.188 375.079 134.799 375.079 Q138.433 375.079 140.239 371.537 Q142.067 367.973 142.067 360.866 Q142.067 353.736 140.239 350.195 Q138.433 346.63 134.799 346.63 M134.799 342.926 Q140.609 342.926 143.664 347.533 Q146.743 352.116 146.743 360.866 Q146.743 369.593 143.664 374.199 Q140.609 378.783 134.799 378.783 Q128.989 378.783 125.91 374.199 Q122.854 369.593 122.854 360.866 Q122.854 352.116 125.91 347.533 Q128.989 342.926 134.799 342.926 Z\" fill=\"#000000\" fill-rule=\"evenodd\" fill-opacity=\"1\" /><path clip-path=\"url(#clip400)\" d=\"M 0 0 M146.743 338.608 L156.881 338.608 L156.881 341.692 L146.743 341.692 L146.743 338.608 Z\" fill=\"#000000\" fill-rule=\"evenodd\" fill-opacity=\"1\" /><path clip-path=\"url(#clip400)\" d=\"M 0 0 M171.4 347.504 L177.607 347.504 L177.607 326.082 L170.855 327.436 L170.855 323.975 L177.569 322.621 L181.368 322.621 L181.368 347.504 L187.575 347.504 L187.575 350.701 L171.4 350.701 L171.4 347.504 Z\" fill=\"#000000\" fill-rule=\"evenodd\" fill-opacity=\"1\" /><path clip-path=\"url(#clip400)\" d=\"M 0 0 M121.244 240.76 L128.883 240.76 L128.883 214.394 L120.573 216.061 L120.573 211.801 L128.837 210.135 L133.513 210.135 L133.513 240.76 L141.151 240.76 L141.151 244.695 L121.244 244.695 L121.244 240.76 Z\" fill=\"#000000\" fill-rule=\"evenodd\" fill-opacity=\"1\" /><path clip-path=\"url(#clip400)\" d=\"M 0 0 M156.221 213.213 Q152.61 213.213 150.781 216.778 Q148.975 220.32 148.975 227.449 Q148.975 234.556 150.781 238.121 Q152.61 241.662 156.221 241.662 Q159.855 241.662 161.661 238.121 Q163.489 234.556 163.489 227.449 Q163.489 220.32 161.661 216.778 Q159.855 213.213 156.221 213.213 M156.221 209.51 Q162.031 209.51 165.086 214.116 Q168.165 218.699 168.165 227.449 Q168.165 236.176 165.086 240.783 Q162.031 245.366 156.221 245.366 Q150.411 245.366 147.332 240.783 Q144.276 236.176 144.276 227.449 Q144.276 218.699 147.332 214.116 Q150.411 209.51 156.221 209.51 Z\" fill=\"#000000\" fill-rule=\"evenodd\" fill-opacity=\"1\" /><path clip-path=\"url(#clip400)\" d=\"M 0 0 M177.87 191.706 Q174.936 191.706 173.45 194.602 Q171.983 197.48 171.983 203.272 Q171.983 209.046 173.45 211.943 Q174.936 214.82 177.87 214.82 Q180.823 214.82 182.29 211.943 Q183.776 209.046 183.776 203.272 Q183.776 197.48 182.29 194.602 Q180.823 191.706 177.87 191.706 M177.87 188.696 Q182.591 188.696 185.073 192.439 Q187.575 196.163 187.575 203.272 Q187.575 210.363 185.073 214.106 Q182.591 217.83 177.87 217.83 Q173.149 217.83 170.648 214.106 Q168.165 210.363 168.165 203.272 Q168.165 196.163 170.648 192.439 Q173.149 188.696 177.87 188.696 Z\" fill=\"#000000\" fill-rule=\"evenodd\" fill-opacity=\"1\" /><path clip-path=\"url(#clip400)\" d=\"M 0 0 M511.724 12.096 L523.917 12.096 L539.351 53.2532 L554.866 12.096 L567.059 12.096 L567.059 72.576 L559.079 72.576 L559.079 19.4686 L543.483 60.9499 L535.259 60.9499 L519.663 19.4686 L519.663 72.576 L511.724 72.576 L511.724 12.096 Z\" fill=\"#000000\" fill-rule=\"evenodd\" fill-opacity=\"1\" /><path clip-path=\"url(#clip400)\" d=\"M 0 0 M613.685 48.0275 L613.685 51.6733 L579.414 51.6733 Q579.9 59.3701 584.032 63.421 Q588.205 67.4314 595.618 67.4314 Q599.912 67.4314 603.922 66.3781 Q607.973 65.3249 611.943 63.2184 L611.943 70.267 Q607.933 71.9684 603.72 72.8596 Q599.507 73.7508 595.172 73.7508 Q584.316 73.7508 577.956 67.4314 Q571.636 61.1119 571.636 50.3365 Q571.636 39.1965 577.632 32.6746 Q583.668 26.1121 593.876 26.1121 Q603.031 26.1121 608.338 32.0264 Q613.685 37.9003 613.685 48.0275 M606.231 45.84 Q606.15 39.7232 602.788 36.0774 Q599.466 32.4315 593.957 32.4315 Q587.719 32.4315 583.951 35.9558 Q580.224 39.4801 579.657 45.8805 L606.231 45.84 Z\" fill=\"#000000\" fill-rule=\"evenodd\" fill-opacity=\"1\" /><path clip-path=\"url(#clip400)\" d=\"M 0 0 M628.876 14.324 L628.876 27.2059 L644.229 27.2059 L644.229 32.9987 L628.876 32.9987 L628.876 57.6282 Q628.876 63.1779 630.375 64.7578 Q631.914 66.3376 636.572 66.3376 L644.229 66.3376 L644.229 72.576 L636.572 72.576 Q627.944 72.576 624.663 69.3758 Q621.382 66.1351 621.382 57.6282 L621.382 32.9987 L615.913 32.9987 L615.913 27.2059 L621.382 27.2059 L621.382 14.324 L628.876 14.324 Z\" fill=\"#000000\" fill-rule=\"evenodd\" fill-opacity=\"1\" /><path clip-path=\"url(#clip400)\" d=\"M 0 0 M689.761 45.1919 L689.761 72.576 L682.307 72.576 L682.307 45.4349 Q682.307 38.994 679.796 35.7938 Q677.284 32.5936 672.261 32.5936 Q666.225 32.5936 662.741 36.4419 Q659.257 40.2903 659.257 46.9338 L659.257 72.576 L651.763 72.576 L651.763 9.54393 L659.257 9.54393 L659.257 34.2544 Q661.931 30.163 665.536 28.1376 Q669.182 26.1121 673.922 26.1121 Q681.74 26.1121 685.75 30.9732 Q689.761 35.7938 689.761 45.1919 Z\" fill=\"#000000\" fill-rule=\"evenodd\" fill-opacity=\"1\" /><path clip-path=\"url(#clip400)\" d=\"M 0 0 M715.16 32.4315 Q709.165 32.4315 705.681 37.1306 Q702.197 41.7891 702.197 49.9314 Q702.197 58.0738 705.64 62.7728 Q709.124 67.4314 715.16 67.4314 Q721.115 67.4314 724.599 62.7323 Q728.082 58.0333 728.082 49.9314 Q728.082 41.8701 724.599 37.1711 Q721.115 32.4315 715.16 32.4315 M715.16 26.1121 Q724.882 26.1121 730.432 32.4315 Q735.982 38.7509 735.982 49.9314 Q735.982 61.0714 730.432 67.4314 Q724.882 73.7508 715.16 73.7508 Q705.397 73.7508 699.848 67.4314 Q694.338 61.0714 694.338 49.9314 Q694.338 38.7509 699.848 32.4315 Q705.397 26.1121 715.16 26.1121 Z\" fill=\"#000000\" fill-rule=\"evenodd\" fill-opacity=\"1\" /><path clip-path=\"url(#clip400)\" d=\"M 0 0 M773.655 34.0924 L773.655 9.54393 L781.109 9.54393 L781.109 72.576 L773.655 72.576 L773.655 65.7705 Q771.305 69.8214 767.7 71.8063 Q764.135 73.7508 759.112 73.7508 Q750.889 73.7508 745.704 67.1883 Q740.559 60.6258 740.559 49.9314 Q740.559 39.2371 745.704 32.6746 Q750.889 26.1121 759.112 26.1121 Q764.135 26.1121 767.7 28.0971 Q771.305 30.0415 773.655 34.0924 M748.256 49.9314 Q748.256 58.1548 751.618 62.8538 Q755.021 67.5124 760.935 67.5124 Q766.85 67.5124 770.252 62.8538 Q773.655 58.1548 773.655 49.9314 Q773.655 41.7081 770.252 37.0496 Q766.85 32.3505 760.935 32.3505 Q755.021 32.3505 751.618 37.0496 Q748.256 41.7081 748.256 49.9314 Z\" fill=\"#000000\" fill-rule=\"evenodd\" fill-opacity=\"1\" /><path clip-path=\"url(#clip400)\" d=\"M 0 0 M817.769 65.6895 L831.137 65.6895 L831.137 19.5497 L816.595 22.4663 L816.595 15.0127 L831.056 12.096 L839.239 12.096 L839.239 65.6895 L852.607 65.6895 L852.607 72.576 L817.769 72.576 L817.769 65.6895 Z\" fill=\"#000000\" fill-rule=\"evenodd\" fill-opacity=\"1\" /><polyline clip-path=\"url(#clip402)\" style=\"stroke:#009af9; stroke-width:4; stroke-opacity:1; fill:none\" points=\"\n",
       "  238.212,139.405 238.944,212.322 239.676,298.335 240.408,236.41 241.14,199.686 241.872,194.95 242.604,210.284 243.336,242.244 244.068,285.031 244.8,301.56 \n",
       "  245.532,301.56 246.264,273.586 246.996,284.878 247.728,294.418 248.46,301.065 249.192,304.034 249.924,303.761 250.656,301.693 251.388,299.516 252.12,298.119 \n",
       "  252.852,298.041 253.584,299 254.316,300.715 255.048,302.799 255.78,304.813 256.512,306.441 257.244,307.575 257.976,308.066 258.708,308.069 259.44,307.768 \n",
       "  260.172,307.562 260.904,307.535 261.636,307.848 262.368,308.539 263.1,309.433 263.832,310.404 264.564,311.409 265.296,312.266 266.028,312.896 266.76,313.337 \n",
       "  267.492,313.652 268.224,313.903 268.956,314.186 269.688,314.555 270.42,315.097 271.152,315.696 271.884,316.396 272.616,317.158 273.348,317.898 274.08,318.493 \n",
       "  274.812,319.027 275.544,319.463 276.276,320.008 277.008,320.499 277.74,320.949 278.472,321.539 279.204,322.155 279.936,322.848 280.668,323.468 281.4,324.105 \n",
       "  282.132,324.728 282.864,325.283 283.596,325.956 284.328,326.439 285.06,327.013 285.791,327.573 286.523,328.248 287.255,328.919 287.987,329.574 288.719,330.272 \n",
       "  289.451,330.777 290.183,331.504 290.915,332.121 291.647,332.758 292.379,333.421 293.111,334.069 293.843,334.744 294.575,335.406 295.307,336.093 296.039,336.787 \n",
       "  296.771,337.409 297.503,338.116 298.235,338.79 298.967,339.41 299.699,340.21 300.431,340.91 301.163,341.577 301.895,342.294 302.627,342.986 303.359,343.719 \n",
       "  304.091,344.425 304.823,345.078 305.555,345.853 306.287,346.568 307.019,347.313 307.751,348.035 308.483,348.838 309.215,349.5 309.947,350.327 310.679,351.032 \n",
       "  311.411,351.774 312.143,352.508 312.875,353.301 313.607,354.05 314.339,354.897 315.071,355.603 315.803,356.381 316.535,357.166 317.267,357.94 317.999,358.791 \n",
       "  318.731,359.502 319.463,360.304 320.195,361.158 320.927,361.913 321.659,362.724 322.391,363.487 323.123,364.329 323.855,365.134 324.587,365.985 325.319,366.819 \n",
       "  326.051,367.592 326.783,368.415 327.515,369.268 328.247,370.136 328.979,370.913 329.711,371.817 330.443,372.662 331.175,373.502 331.907,374.304 332.639,375.211 \n",
       "  333.371,376.066 334.103,376.932 334.835,377.751 335.567,378.659 336.299,379.424 337.031,380.353 337.763,381.283 338.495,382.111 339.227,383.034 339.959,383.907 \n",
       "  340.691,384.851 341.423,385.689 342.155,386.564 342.887,387.465 343.619,388.36 344.351,389.327 345.083,390.177 345.815,391.134 346.547,392.009 347.279,392.916 \n",
       "  348.011,393.904 348.743,394.768 349.475,395.707 350.207,396.699 350.939,397.628 351.671,398.495 352.403,399.423 353.135,400.449 353.867,401.397 354.599,402.261 \n",
       "  355.331,403.235 356.063,404.16 356.795,405.168 357.527,406.136 358.259,407.079 358.991,408.042 359.723,409.023 360.455,409.977 361.187,410.932 361.919,411.883 \n",
       "  362.651,412.893 363.383,413.858 364.115,414.793 364.847,415.818 365.579,416.805 366.311,417.777 367.043,418.773 367.775,419.772 368.507,420.713 369.239,421.75 \n",
       "  369.971,422.766 370.703,423.695 371.435,424.712 372.167,425.728 372.899,426.691 373.631,427.739 374.363,428.752 375.095,429.708 375.827,430.784 376.559,431.807 \n",
       "  377.291,432.828 378.023,433.755 378.755,434.839 379.487,435.813 380.219,436.855 380.95,437.912 381.682,438.9 382.414,439.918 383.146,440.931 383.878,441.997 \n",
       "  384.61,442.937 385.342,444.008 386.074,445.033 386.806,446.066 387.538,447.083 388.27,448.104 389.002,449.117 389.734,450.152 390.466,451.126 391.198,452.251 \n",
       "  391.93,453.243 392.662,454.292 393.394,455.238 394.126,456.309 394.858,457.348 395.59,458.324 396.322,459.349 397.054,460.36 397.786,461.415 398.518,462.481 \n",
       "  399.25,463.49 399.982,464.507 400.714,465.511 401.446,466.509 402.178,467.557 402.91,468.574 403.642,469.593 404.374,470.609 405.106,471.565 405.838,472.587 \n",
       "  406.57,473.662 407.302,474.637 408.034,475.642 408.766,476.598 409.498,477.596 410.23,478.65 410.962,479.593 411.694,480.587 412.426,481.582 413.158,482.549 \n",
       "  413.89,483.572 414.622,484.494 415.354,485.567 416.086,486.509 416.818,487.433 417.55,488.398 418.282,489.401 419.014,490.315 419.746,491.252 420.478,492.252 \n",
       "  421.21,493.144 421.942,494.079 422.674,495.052 423.406,495.974 424.138,496.89 424.87,497.902 425.602,498.76 426.334,499.645 427.066,500.535 427.798,501.457 \n",
       "  428.53,502.343 429.262,503.246 429.994,504.102 430.726,504.975 431.458,505.866 432.19,506.768 432.922,507.567 433.654,508.356 434.386,509.272 435.118,510.121 \n",
       "  435.85,510.943 436.582,511.745 437.314,512.604 438.046,513.412 438.778,514.215 439.51,515.035 440.242,515.868 440.974,516.641 441.706,517.391 442.438,518.149 \n",
       "  443.17,518.899 443.902,519.783 444.634,520.444 445.366,521.227 446.098,521.996 446.83,522.722 447.562,523.35 448.294,524.055 449.026,524.769 449.758,525.5 \n",
       "  450.49,526.153 451.222,526.845 451.954,527.496 452.686,528.195 453.418,528.815 454.15,529.476 454.882,530.156 455.614,530.745 456.346,531.432 457.078,531.967 \n",
       "  457.81,532.637 458.542,533.239 459.274,533.797 460.006,534.414 460.738,534.968 461.47,535.555 462.202,536.093 462.934,536.619 463.666,537.193 464.398,537.751 \n",
       "  465.13,538.283 465.862,538.845 466.594,539.265 467.326,539.875 468.058,540.273 468.79,540.77 469.522,541.248 470.254,541.826 470.986,542.241 471.718,542.656 \n",
       "  472.45,543.152 473.182,543.581 473.914,544.004 474.646,544.434 475.378,544.896 476.11,545.281 476.841,545.703 477.573,546.097 478.305,546.509 479.037,546.916 \n",
       "  479.769,547.322 480.501,547.66 481.233,548.04 481.965,548.412 482.697,548.849 483.429,549.121 484.161,549.54 484.893,549.853 485.625,550.227 486.357,550.522 \n",
       "  487.089,550.808 487.821,551.15 488.553,551.484 489.285,551.757 490.017,552.097 490.749,552.389 491.481,552.696 492.213,552.955 492.945,553.253 493.677,553.557 \n",
       "  494.409,553.815 495.141,554.061 495.873,554.322 496.605,554.602 497.337,554.901 498.069,555.107 498.801,555.303 499.533,555.634 500.265,555.854 500.997,556.1 \n",
       "  501.729,556.327 502.461,556.554 503.193,556.823 503.925,557.046 504.657,557.235 505.389,557.421 506.121,557.65 506.853,557.858 507.585,558.061 508.317,558.267 \n",
       "  509.049,558.485 509.781,558.668 510.513,558.863 511.245,559.074 511.977,559.258 512.709,559.425 513.441,559.64 514.173,559.795 514.905,559.978 515.637,560.151 \n",
       "  516.369,560.356 517.101,560.493 517.833,560.668 518.565,560.834 519.297,560.999 520.029,561.189 520.761,561.35 521.493,561.486 522.225,561.648 522.957,561.801 \n",
       "  523.689,561.976 524.421,562.151 525.153,562.259 525.885,562.411 526.617,562.563 527.349,562.698 528.081,562.866 528.813,562.988 529.545,563.128 530.277,563.273 \n",
       "  531.009,563.409 531.741,563.553 532.473,563.682 533.205,563.827 533.937,563.957 534.669,564.102 535.401,564.25 536.133,564.371 536.865,564.48 537.597,564.615 \n",
       "  538.329,564.774 539.061,564.774 539.793,564.883 540.525,564.788 541.257,565.072 541.989,565.047 542.721,565.444 543.453,565.546 544.185,565.531 544.917,565.778 \n",
       "  545.649,565.957 546.381,566.071 547.113,566.14 547.845,566.331 548.577,566.542 549.309,566.632 550.041,566.693 550.773,566.901 551.505,567.088 552.237,567.22 \n",
       "  552.969,567.322 553.701,567.479 554.433,567.667 555.165,567.815 555.897,567.904 556.629,568.14 557.361,568.314 558.093,568.427 558.825,568.575 559.557,568.7 \n",
       "  560.289,568.891 561.021,569.025 561.753,569.202 562.485,569.336 563.217,569.497 563.949,569.673 564.681,569.808 565.413,569.97 566.145,570.135 566.877,570.281 \n",
       "  567.609,570.453 568.341,570.611 569.073,570.764 569.805,570.939 570.537,571.082 571.269,571.238 572.001,571.402 572.732,571.568 573.464,571.725 574.196,571.893 \n",
       "  574.928,572.067 575.66,572.227 576.392,572.385 577.124,572.552 577.856,572.717 578.588,572.893 579.32,573.06 580.052,573.228 580.784,573.395 581.516,573.585 \n",
       "  582.248,573.759 582.98,573.895 583.712,574.058 584.444,574.24 585.176,574.403 585.908,574.591 586.64,574.749 587.372,574.923 588.104,575.095 588.836,575.266 \n",
       "  589.568,575.435 590.3,575.612 591.032,575.789 591.764,575.954 592.496,576.135 593.228,576.31 593.96,576.486 594.692,576.655 595.424,576.837 596.156,577.01 \n",
       "  596.888,577.183 597.62,577.367 598.352,577.554 599.084,577.715 599.816,577.929 600.548,578.075 601.28,578.27 602.012,578.438 602.744,578.646 603.476,578.789 \n",
       "  604.208,578.979 604.94,579.163 605.672,579.335 606.404,579.516 607.136,579.695 607.868,579.889 608.6,580.065 609.332,580.267 610.064,580.439 610.796,580.616 \n",
       "  611.528,580.802 612.26,580.992 612.992,581.186 613.724,581.375 614.456,581.557 615.188,581.735 615.92,581.921 616.652,582.113 617.384,582.288 618.116,582.49 \n",
       "  618.848,582.683 619.58,582.854 620.312,583.047 621.044,583.232 621.776,583.426 622.508,583.605 623.24,583.802 623.972,583.982 624.704,584.176 625.436,584.373 \n",
       "  626.168,584.574 626.9,584.768 627.632,584.946 628.364,585.145 629.096,585.349 629.828,585.52 630.56,585.731 631.292,585.91 632.024,586.106 632.756,586.338 \n",
       "  633.488,586.497 634.22,586.693 634.952,586.922 635.684,587.086 636.416,587.272 637.148,587.503 637.88,587.67 638.612,587.86 639.344,588.065 640.076,588.256 \n",
       "  640.808,588.451 641.54,588.654 642.272,588.854 643.004,589.027 643.736,589.26 644.468,589.447 645.2,589.642 645.932,589.843 646.664,590.048 647.396,590.242 \n",
       "  648.128,590.449 648.86,590.661 649.592,590.85 650.324,591.027 651.056,591.29 651.788,591.457 652.52,591.661 653.252,591.865 653.984,592.067 654.716,592.268 \n",
       "  655.448,592.502 656.18,592.677 656.912,592.905 657.644,593.086 658.376,593.291 659.108,593.496 659.84,593.719 660.572,593.898 661.304,594.086 662.036,594.347 \n",
       "  662.768,594.526 663.5,594.73 664.232,594.938 664.964,595.146 665.696,595.348 666.428,595.561 667.16,595.795 667.891,595.984 668.623,596.186 669.355,596.421 \n",
       "  670.087,596.593 670.819,596.813 671.551,597.02 672.283,597.234 673.015,597.441 673.747,597.652 674.479,597.896 675.211,598.078 675.943,598.295 676.675,598.511 \n",
       "  677.407,598.713 678.139,598.924 678.871,599.16 679.603,599.351 680.335,599.552 681.067,599.773 681.799,599.99 682.531,600.215 683.263,600.411 683.995,600.627 \n",
       "  684.727,600.845 685.459,601.066 686.191,601.279 686.923,601.472 687.655,601.735 688.387,601.931 689.119,602.14 689.851,602.337 690.583,602.57 691.315,602.793 \n",
       "  692.047,603.001 692.779,603.224 693.511,603.443 694.243,603.661 694.975,603.895 695.707,604.091 696.439,604.317 697.171,604.537 697.903,604.781 698.635,604.98 \n",
       "  699.367,605.203 700.099,605.416 700.831,605.636 701.563,605.854 702.295,606.074 703.027,606.308 703.759,606.518 704.491,606.744 705.223,606.966 705.955,607.194 \n",
       "  706.687,607.411 707.419,607.636 708.151,607.871 708.883,608.074 709.615,608.311 710.347,608.525 711.079,608.761 711.811,608.981 712.543,609.205 713.275,609.427 \n",
       "  714.007,609.66 714.739,609.886 715.471,610.105 716.203,610.325 716.935,610.558 717.667,610.782 718.399,611.009 719.131,611.241 719.863,611.471 720.595,611.695 \n",
       "  721.327,611.916 722.059,612.151 722.791,612.373 723.523,612.615 724.255,612.838 724.987,613.046 725.719,613.302 726.451,613.532 727.183,613.76 727.915,613.979 \n",
       "  728.647,614.217 729.379,614.446 730.111,614.694 730.843,614.911 731.575,615.148 732.307,615.379 733.039,615.606 733.771,615.837 734.503,616.067 735.235,616.304 \n",
       "  735.967,616.531 736.699,616.765 737.431,617.002 738.163,617.24 738.895,617.476 739.627,617.706 740.359,617.942 741.091,618.174 741.823,618.417 742.555,618.634 \n",
       "  743.287,618.888 744.019,619.128 744.751,619.355 745.483,619.584 746.215,619.834 746.947,620.07 747.679,620.296 748.411,620.538 749.143,620.783 749.875,621.016 \n",
       "  750.607,621.26 751.339,621.493 752.071,621.726 752.803,621.97 753.535,622.21 754.267,622.449 754.999,622.69 755.731,622.936 756.463,623.176 757.195,623.407 \n",
       "  757.927,623.647 758.659,623.895 759.391,624.141 760.123,624.376 760.855,624.619 761.587,624.863 762.319,625.084 763.051,625.35 763.782,625.586 764.514,625.825 \n",
       "  765.246,626.072 765.978,626.317 766.71,626.56 767.442,626.802 768.174,627.047 768.906,627.301 769.638,627.54 770.37,627.785 771.102,628.032 771.834,628.281 \n",
       "  772.566,628.516 773.298,628.767 774.03,629.016 774.762,629.262 775.494,629.508 776.226,629.757 776.958,630.004 777.69,630.252 778.422,630.501 779.154,630.749 \n",
       "  779.886,630.998 780.618,631.246 781.35,631.495 782.082,631.744 782.814,631.993 783.546,632.246 784.278,632.493 785.01,632.745 785.742,632.996 786.474,633.246 \n",
       "  787.206,633.497 787.938,633.748 788.67,633.997 789.402,634.252 790.134,634.504 790.866,634.757 791.598,635.008 792.33,635.262 793.062,635.516 793.794,635.767 \n",
       "  794.526,636.022 795.258,636.276 795.99,636.531 796.722,636.785 797.454,637.04 798.186,637.292 798.918,637.55 799.65,637.806 800.382,638.061 801.114,638.319 \n",
       "  801.846,638.573 802.578,638.827 803.31,639.088 804.042,639.34 804.774,639.599 805.506,639.859 806.238,640.113 806.97,640.374 807.702,640.633 808.434,640.888 \n",
       "  809.166,641.149 809.898,641.408 810.63,641.668 811.362,641.925 812.094,642.187 812.826,642.445 813.558,642.708 814.29,642.968 815.022,643.229 815.754,643.49 \n",
       "  816.486,643.751 817.218,644.011 817.95,644.275 818.682,644.537 819.414,644.801 820.146,645.064 820.878,645.325 821.61,645.586 822.342,645.853 823.074,646.115 \n",
       "  823.806,646.377 824.538,646.637 825.27,646.902 826.002,647.172 826.734,647.437 827.466,647.702 828.198,647.968 828.93,648.233 829.662,648.502 830.394,648.766 \n",
       "  831.126,649.025 831.858,649.3 832.59,649.3 833.322,649.563 834.054,649.601 834.786,649.661 835.518,649.708 836.25,649.755 836.982,649.796 837.714,649.848 \n",
       "  838.446,649.897 839.178,649.946 839.91,649.993 840.642,650.04 841.374,650.088 842.106,650.129 842.838,650.184 843.57,650.232 844.302,650.283 845.034,650.317 \n",
       "  845.766,650.372 846.498,650.423 847.23,650.475 847.962,650.524 848.694,650.573 849.426,650.624 850.158,650.674 850.89,650.721 851.622,650.77 852.354,650.814 \n",
       "  853.086,650.861 853.818,650.919 854.55,650.968 855.282,651.015 856.014,651.069 856.746,651.12 857.478,651.163 858.21,651.216 858.941,651.269 859.673,651.316 \n",
       "  860.405,651.368 861.137,651.416 861.869,651.454 862.601,651.516 863.333,651.566 864.065,651.616 864.797,651.666 865.529,651.714 866.261,651.766 866.993,651.811 \n",
       "  867.725,651.868 868.457,651.911 869.189,651.967 869.921,652.017 870.653,652.068 871.385,652.111 872.117,652.169 872.849,652.22 873.581,652.269 874.313,652.318 \n",
       "  875.045,652.37 875.777,652.417 876.509,652.471 877.241,652.516 877.973,652.575 878.705,652.622 879.437,652.673 880.169,652.716 880.901,652.775 881.633,652.815 \n",
       "  882.365,652.872 883.097,652.923 883.829,652.977 884.561,653.029 885.293,653.075 886.025,653.129 886.757,653.18 887.489,653.225 888.221,653.283 888.953,653.32 \n",
       "  889.685,653.384 890.417,653.434 891.149,653.481 891.881,653.536 892.613,653.585 893.345,653.637 894.077,653.689 894.809,653.74 895.541,653.791 896.273,653.842 \n",
       "  897.005,653.893 897.737,653.941 898.469,653.998 899.201,654.045 899.933,654.099 900.665,654.15 901.397,654.201 902.129,654.248 902.861,654.305 903.593,654.356 \n",
       "  904.325,654.406 905.057,654.451 905.789,654.509 906.521,654.56 907.253,654.608 907.985,654.661 908.717,654.712 909.449,654.764 910.181,654.814 910.913,654.868 \n",
       "  911.645,654.916 912.377,654.966 913.109,655.02 913.841,655.074 914.573,655.12 915.305,655.173 916.037,655.218 916.769,655.276 917.501,655.328 918.233,655.381 \n",
       "  918.965,655.425 919.697,655.483 920.429,655.535 921.161,655.587 921.893,655.622 922.625,655.687 923.357,655.74 924.089,655.792 924.821,655.843 925.553,655.896 \n",
       "  926.285,655.943 927.017,656.002 927.749,656.048 928.481,656.096 929.213,656.155 929.945,656.207 930.677,656.26 931.409,656.307 932.141,656.358 932.873,656.412 \n",
       "  933.605,656.467 934.337,656.515 935.069,656.566 935.801,656.618 936.533,656.675 937.265,656.723 937.997,656.777 938.729,656.83 939.461,656.878 940.193,656.935 \n",
       "  940.925,656.986 941.657,657.034 942.389,657.089 943.121,657.136 943.853,657.196 944.585,657.247 945.317,657.289 946.049,657.346 946.781,657.402 947.513,657.455 \n",
       "  948.245,657.502 948.977,657.556 949.709,657.607 950.441,657.66 951.173,657.711 951.905,657.769 952.637,657.821 953.369,657.867 954.101,657.922 954.832,657.973 \n",
       "  955.564,658.017 956.296,658.083 957.028,658.126 957.76,658.187 958.492,658.239 959.224,658.292 959.956,658.335 960.688,658.394 961.42,658.436 962.152,658.499 \n",
       "  962.884,658.553 963.616,658.606 964.348,658.652 965.08,658.702 965.812,658.759 966.544,658.816 967.276,658.866 968.008,658.902 968.74,658.974 969.472,659.026 \n",
       "  970.204,659.075 970.936,659.132 971.668,659.185 972.4,659.235 973.132,659.287 973.864,659.334 974.596,659.395 975.328,659.446 976.06,659.499 976.792,659.552 \n",
       "  977.524,659.596 978.256,659.658 978.988,659.705 979.72,659.764 980.452,659.815 981.184,659.859 981.916,659.921 982.648,659.971 983.38,660.029 984.112,660.081 \n",
       "  984.844,660.129 985.576,660.183 986.308,660.239 987.04,660.293 987.772,660.343 988.504,660.398 989.236,660.442 989.968,660.498 990.7,660.551 991.432,660.61 \n",
       "  992.164,660.663 992.896,660.714 993.628,660.758 994.36,660.809 995.092,660.873 995.824,660.927 996.556,660.98 997.288,661.03 998.02,661.08 998.752,661.139 \n",
       "  999.484,661.191 1000.22,661.24 1000.95,661.297 1001.68,661.34 1002.41,661.405 1003.14,661.454 1003.88,661.507 1004.61,661.564 1005.34,661.607 1006.07,661.67 \n",
       "  1006.8,661.724 1007.54,661.772 1008.27,661.83 1009,661.884 1009.73,661.93 1010.46,661.986 1011.2,662.044 1011.93,662.096 1012.66,662.148 1013.39,662.2 \n",
       "  1014.12,662.256 1014.86,662.308 1015.59,662.363 1016.32,662.412 1017.05,662.464 1017.78,662.517 1018.52,662.576 1019.25,662.63 1019.98,662.682 1020.71,662.735 \n",
       "  1021.44,662.79 1022.18,662.845 1022.91,662.898 1023.64,662.948 1024.37,663.004 1025.1,663.057 1025.84,663.112 1026.57,663.166 1027.3,663.214 1028.03,663.273 \n",
       "  1028.76,663.326 1029.5,663.368 1030.23,663.424 1030.96,663.48 1031.69,663.538 1032.42,663.592 1033.16,663.647 1033.89,663.697 1034.62,663.75 1035.35,663.81 \n",
       "  1036.08,663.864 1036.82,663.909 1037.55,663.971 1038.28,664.02 1039.01,664.073 1039.74,664.13 1040.48,664.182 1041.21,664.235 1041.94,664.291 1042.67,664.343 \n",
       "  1043.4,664.397 1044.14,664.454 1044.87,664.497 1045.6,664.56 1046.33,664.612 1047.06,664.667 1047.8,664.722 1048.53,664.776 1049.26,664.832 1049.99,664.883 \n",
       "  1050.72,664.937 1051.46,664.984 1052.19,665.049 1052.92,665.099 1053.65,665.148 1054.38,665.204 1055.12,665.259 1055.85,665.317 1056.58,665.372 1057.31,665.418 \n",
       "  1058.04,665.483 1058.78,665.533 1059.51,665.585 1060.24,665.644 1060.97,665.694 1061.7,665.754 1062.44,665.804 1063.17,665.864 1063.9,665.912 1064.63,665.968 \n",
       "  1065.36,666.021 1066.1,666.075 1066.83,666.131 1067.56,666.187 1068.29,666.238 1069.02,666.293 1069.76,666.348 1070.49,666.402 1071.22,666.456 1071.95,666.509 \n",
       "  1072.68,666.564 1073.42,666.61 1074.15,666.672 1074.88,666.729 1075.61,666.784 1076.34,666.838 1077.08,666.883 1077.81,666.941 1078.54,666.996 1079.27,667.056 \n",
       "  1080,667.109 1080.74,667.16 1081.47,667.22 1082.2,667.273 1082.93,667.328 1083.66,667.383 1084.4,667.438 1085.13,667.492 1085.86,667.547 1086.59,667.6 \n",
       "  1087.32,667.656 1088.06,667.703 1088.79,667.761 1089.52,667.82 1090.25,667.874 1090.98,667.926 1091.72,667.975 1092.45,668.037 1093.18,668.091 1093.91,668.153 \n",
       "  1094.64,668.202 1095.38,668.253 1096.11,668.312 1096.84,668.372 1097.57,668.414 1098.3,668.48 1099.03,668.535 1099.77,668.586 1100.5,668.644 1101.23,668.695 \n",
       "  1101.96,668.75 1102.69,668.809 1103.43,668.861 1104.16,668.915 1104.89,668.969 1105.62,669.022 1106.35,669.08 1107.09,669.14 1107.82,669.19 1108.55,669.246 \n",
       "  1109.28,669.306 1110.01,669.352 1110.75,669.41 1111.48,669.465 1112.21,669.52 1112.94,669.575 1113.67,669.631 1114.41,669.68 1115.14,669.746 1115.87,669.797 \n",
       "  1116.6,669.854 1117.33,669.899 1118.07,669.965 1118.8,670.009 1119.53,670.072 1120.26,670.132 1120.99,670.182 1121.73,670.238 1122.46,670.292 1123.19,670.351 \n",
       "  1123.92,670.404 1124.65,670.443 1125.39,670.515 1126.12,670.515 \n",
       "  \"/>\n",
       "<path clip-path=\"url(#clip400)\" d=\"\n",
       "M789.738 327.952 L1080.76 327.952 L1080.76 206.992 L789.738 206.992  Z\n",
       "  \" fill=\"#ffffff\" fill-rule=\"evenodd\" fill-opacity=\"1\"/>\n",
       "<polyline clip-path=\"url(#clip400)\" style=\"stroke:#000000; stroke-width:4; stroke-opacity:1; fill:none\" points=\"\n",
       "  789.738,327.952 1080.76,327.952 1080.76,206.992 789.738,206.992 789.738,327.952 \n",
       "  \"/>\n",
       "<polyline clip-path=\"url(#clip400)\" style=\"stroke:#009af9; stroke-width:4; stroke-opacity:1; fill:none\" points=\"\n",
       "  813.738,267.472 957.738,267.472 \n",
       "  \"/>\n",
       "<path clip-path=\"url(#clip400)\" d=\"M 0 0 M995.58 287.16 Q993.775 291.789 992.062 293.201 Q990.349 294.613 987.478 294.613 L984.076 294.613 L984.076 291.048 L986.576 291.048 Q988.335 291.048 989.307 290.215 Q990.279 289.382 991.46 286.28 L992.224 284.335 L981.738 258.826 L986.252 258.826 L994.353 279.104 L1002.46 258.826 L1006.97 258.826 L995.58 287.16 Z\" fill=\"#000000\" fill-rule=\"evenodd\" fill-opacity=\"1\" /><path clip-path=\"url(#clip400)\" d=\"M 0 0 M1012.85 280.817 L1020.49 280.817 L1020.49 254.451 L1012.18 256.118 L1012.18 251.859 L1020.44 250.192 L1025.12 250.192 L1025.12 280.817 L1032.76 280.817 L1032.76 284.752 L1012.85 284.752 L1012.85 280.817 Z\" fill=\"#000000\" fill-rule=\"evenodd\" fill-opacity=\"1\" /><path clip-path=\"url(#clip400)\" d=\"\n",
       "M1410.44 686.448 L2352.76 686.448 L2352.76 123.472 L1410.44 123.472  Z\n",
       "  \" fill=\"#ffffff\" fill-rule=\"evenodd\" fill-opacity=\"1\"/>\n",
       "<defs>\n",
       "  <clipPath id=\"clip403\">\n",
       "    <rect x=\"1410\" y=\"123\" width=\"943\" height=\"564\"/>\n",
       "  </clipPath>\n",
       "</defs>\n",
       "<polyline clip-path=\"url(#clip403)\" style=\"stroke:#000000; stroke-width:2; stroke-opacity:0.1; fill:none\" points=\"\n",
       "  1436.38,686.448 1436.38,123.472 \n",
       "  \"/>\n",
       "<polyline clip-path=\"url(#clip403)\" style=\"stroke:#000000; stroke-width:2; stroke-opacity:0.1; fill:none\" points=\"\n",
       "  1619.9,686.448 1619.9,123.472 \n",
       "  \"/>\n",
       "<polyline clip-path=\"url(#clip403)\" style=\"stroke:#000000; stroke-width:2; stroke-opacity:0.1; fill:none\" points=\"\n",
       "  1803.42,686.448 1803.42,123.472 \n",
       "  \"/>\n",
       "<polyline clip-path=\"url(#clip403)\" style=\"stroke:#000000; stroke-width:2; stroke-opacity:0.1; fill:none\" points=\"\n",
       "  1986.94,686.448 1986.94,123.472 \n",
       "  \"/>\n",
       "<polyline clip-path=\"url(#clip403)\" style=\"stroke:#000000; stroke-width:2; stroke-opacity:0.1; fill:none\" points=\"\n",
       "  2170.46,686.448 2170.46,123.472 \n",
       "  \"/>\n",
       "<polyline clip-path=\"url(#clip403)\" style=\"stroke:#000000; stroke-width:2; stroke-opacity:0.1; fill:none\" points=\"\n",
       "  1410.44,610.809 2352.76,610.809 \n",
       "  \"/>\n",
       "<polyline clip-path=\"url(#clip403)\" style=\"stroke:#000000; stroke-width:2; stroke-opacity:0.1; fill:none\" points=\"\n",
       "  1410.44,480.274 2352.76,480.274 \n",
       "  \"/>\n",
       "<polyline clip-path=\"url(#clip403)\" style=\"stroke:#000000; stroke-width:2; stroke-opacity:0.1; fill:none\" points=\"\n",
       "  1410.44,349.74 2352.76,349.74 \n",
       "  \"/>\n",
       "<polyline clip-path=\"url(#clip403)\" style=\"stroke:#000000; stroke-width:2; stroke-opacity:0.1; fill:none\" points=\"\n",
       "  1410.44,219.205 2352.76,219.205 \n",
       "  \"/>\n",
       "<polyline clip-path=\"url(#clip400)\" style=\"stroke:#000000; stroke-width:4; stroke-opacity:1; fill:none\" points=\"\n",
       "  1410.44,686.448 2352.76,686.448 \n",
       "  \"/>\n",
       "<polyline clip-path=\"url(#clip400)\" style=\"stroke:#000000; stroke-width:4; stroke-opacity:1; fill:none\" points=\"\n",
       "  1410.44,686.448 1410.44,123.472 \n",
       "  \"/>\n",
       "<polyline clip-path=\"url(#clip400)\" style=\"stroke:#000000; stroke-width:4; stroke-opacity:1; fill:none\" points=\"\n",
       "  1436.38,686.448 1436.38,679.692 \n",
       "  \"/>\n",
       "<polyline clip-path=\"url(#clip400)\" style=\"stroke:#000000; stroke-width:4; stroke-opacity:1; fill:none\" points=\"\n",
       "  1619.9,686.448 1619.9,679.692 \n",
       "  \"/>\n",
       "<polyline clip-path=\"url(#clip400)\" style=\"stroke:#000000; stroke-width:4; stroke-opacity:1; fill:none\" points=\"\n",
       "  1803.42,686.448 1803.42,679.692 \n",
       "  \"/>\n",
       "<polyline clip-path=\"url(#clip400)\" style=\"stroke:#000000; stroke-width:4; stroke-opacity:1; fill:none\" points=\"\n",
       "  1986.94,686.448 1986.94,679.692 \n",
       "  \"/>\n",
       "<polyline clip-path=\"url(#clip400)\" style=\"stroke:#000000; stroke-width:4; stroke-opacity:1; fill:none\" points=\"\n",
       "  2170.46,686.448 2170.46,679.692 \n",
       "  \"/>\n",
       "<polyline clip-path=\"url(#clip400)\" style=\"stroke:#000000; stroke-width:4; stroke-opacity:1; fill:none\" points=\"\n",
       "  1410.44,610.809 1421.75,610.809 \n",
       "  \"/>\n",
       "<polyline clip-path=\"url(#clip400)\" style=\"stroke:#000000; stroke-width:4; stroke-opacity:1; fill:none\" points=\"\n",
       "  1410.44,480.274 1421.75,480.274 \n",
       "  \"/>\n",
       "<polyline clip-path=\"url(#clip400)\" style=\"stroke:#000000; stroke-width:4; stroke-opacity:1; fill:none\" points=\"\n",
       "  1410.44,349.74 1421.75,349.74 \n",
       "  \"/>\n",
       "<polyline clip-path=\"url(#clip400)\" style=\"stroke:#000000; stroke-width:4; stroke-opacity:1; fill:none\" points=\"\n",
       "  1410.44,219.205 1421.75,219.205 \n",
       "  \"/>\n",
       "<path clip-path=\"url(#clip400)\" d=\"M 0 0 M1436.38 708.439 Q1432.76 708.439 1430.94 712.003 Q1429.13 715.545 1429.13 722.675 Q1429.13 729.781 1430.94 733.346 Q1432.76 736.887 1436.38 736.887 Q1440.01 736.887 1441.82 733.346 Q1443.64 729.781 1443.64 722.675 Q1443.64 715.545 1441.82 712.003 Q1440.01 708.439 1436.38 708.439 M1436.38 704.735 Q1442.19 704.735 1445.24 709.341 Q1448.32 713.925 1448.32 722.675 Q1448.32 731.401 1445.24 736.008 Q1442.19 740.591 1436.38 740.591 Q1430.57 740.591 1427.49 736.008 Q1424.43 731.401 1424.43 722.675 Q1424.43 713.925 1427.49 709.341 Q1430.57 704.735 1436.38 704.735 Z\" fill=\"#000000\" fill-rule=\"evenodd\" fill-opacity=\"1\" /><path clip-path=\"url(#clip400)\" d=\"M 0 0 M1588.03 735.985 L1604.35 735.985 L1604.35 739.92 L1582.41 739.92 L1582.41 735.985 Q1585.07 733.23 1589.65 728.6 Q1594.26 723.948 1595.44 722.605 Q1597.69 720.082 1598.57 718.346 Q1599.47 716.587 1599.47 714.897 Q1599.47 712.142 1597.52 710.406 Q1595.6 708.67 1592.5 708.67 Q1590.3 708.67 1587.85 709.434 Q1585.42 710.198 1582.64 711.749 L1582.64 707.027 Q1585.46 705.892 1587.92 705.314 Q1590.37 704.735 1592.41 704.735 Q1597.78 704.735 1600.97 707.42 Q1604.17 710.105 1604.17 714.596 Q1604.17 716.726 1603.36 718.647 Q1602.57 720.545 1600.46 723.138 Q1599.89 723.809 1596.78 727.026 Q1593.68 730.221 1588.03 735.985 Z\" fill=\"#000000\" fill-rule=\"evenodd\" fill-opacity=\"1\" /><path clip-path=\"url(#clip400)\" d=\"M 0 0 M1609.47 705.36 L1627.83 705.36 L1627.83 709.295 L1613.75 709.295 L1613.75 717.767 Q1614.77 717.42 1615.79 717.258 Q1616.81 717.073 1617.83 717.073 Q1623.61 717.073 1626.99 720.244 Q1630.37 723.415 1630.37 728.832 Q1630.37 734.411 1626.9 737.512 Q1623.43 740.591 1617.11 740.591 Q1614.93 740.591 1612.66 740.221 Q1610.42 739.85 1608.01 739.11 L1608.01 734.411 Q1610.09 735.545 1612.32 736.1 Q1614.54 736.656 1617.02 736.656 Q1621.02 736.656 1623.36 734.55 Q1625.7 732.443 1625.7 728.832 Q1625.7 725.221 1623.36 723.114 Q1621.02 721.008 1617.02 721.008 Q1615.14 721.008 1613.27 721.425 Q1611.41 721.841 1609.47 722.721 L1609.47 705.36 Z\" fill=\"#000000\" fill-rule=\"evenodd\" fill-opacity=\"1\" /><path clip-path=\"url(#clip400)\" d=\"M 0 0 M1645.44 708.439 Q1641.83 708.439 1640 712.003 Q1638.2 715.545 1638.2 722.675 Q1638.2 729.781 1640 733.346 Q1641.83 736.887 1645.44 736.887 Q1649.08 736.887 1650.88 733.346 Q1652.71 729.781 1652.71 722.675 Q1652.71 715.545 1650.88 712.003 Q1649.08 708.439 1645.44 708.439 M1645.44 704.735 Q1651.25 704.735 1654.31 709.341 Q1657.39 713.925 1657.39 722.675 Q1657.39 731.401 1654.31 736.008 Q1651.25 740.591 1645.44 740.591 Q1639.63 740.591 1636.55 736.008 Q1633.5 731.401 1633.5 722.675 Q1633.5 713.925 1636.55 709.341 Q1639.63 704.735 1645.44 704.735 Z\" fill=\"#000000\" fill-rule=\"evenodd\" fill-opacity=\"1\" /><path clip-path=\"url(#clip400)\" d=\"M 0 0 M1766.68 705.36 L1785.04 705.36 L1785.04 709.295 L1770.96 709.295 L1770.96 717.767 Q1771.98 717.42 1773 717.258 Q1774.02 717.073 1775.04 717.073 Q1780.83 717.073 1784.21 720.244 Q1787.58 723.415 1787.58 728.832 Q1787.58 734.411 1784.11 737.512 Q1780.64 740.591 1774.32 740.591 Q1772.15 740.591 1769.88 740.221 Q1767.63 739.85 1765.22 739.11 L1765.22 734.411 Q1767.31 735.545 1769.53 736.1 Q1771.75 736.656 1774.23 736.656 Q1778.23 736.656 1780.57 734.55 Q1782.91 732.443 1782.91 728.832 Q1782.91 725.221 1780.57 723.114 Q1778.23 721.008 1774.23 721.008 Q1772.35 721.008 1770.48 721.425 Q1768.63 721.841 1766.68 722.721 L1766.68 705.36 Z\" fill=\"#000000\" fill-rule=\"evenodd\" fill-opacity=\"1\" /><path clip-path=\"url(#clip400)\" d=\"M 0 0 M1802.65 708.439 Q1799.04 708.439 1797.21 712.003 Q1795.41 715.545 1795.41 722.675 Q1795.41 729.781 1797.21 733.346 Q1799.04 736.887 1802.65 736.887 Q1806.29 736.887 1808.09 733.346 Q1809.92 729.781 1809.92 722.675 Q1809.92 715.545 1808.09 712.003 Q1806.29 708.439 1802.65 708.439 M1802.65 704.735 Q1808.46 704.735 1811.52 709.341 Q1814.6 713.925 1814.6 722.675 Q1814.6 731.401 1811.52 736.008 Q1808.46 740.591 1802.65 740.591 Q1796.84 740.591 1793.77 736.008 Q1790.71 731.401 1790.71 722.675 Q1790.71 713.925 1793.77 709.341 Q1796.84 704.735 1802.65 704.735 Z\" fill=\"#000000\" fill-rule=\"evenodd\" fill-opacity=\"1\" /><path clip-path=\"url(#clip400)\" d=\"M 0 0 M1829.67 708.439 Q1826.06 708.439 1824.23 712.003 Q1822.42 715.545 1822.42 722.675 Q1822.42 729.781 1824.23 733.346 Q1826.06 736.887 1829.67 736.887 Q1833.3 736.887 1835.11 733.346 Q1836.94 729.781 1836.94 722.675 Q1836.94 715.545 1835.11 712.003 Q1833.3 708.439 1829.67 708.439 M1829.67 704.735 Q1835.48 704.735 1838.53 709.341 Q1841.61 713.925 1841.61 722.675 Q1841.61 731.401 1838.53 736.008 Q1835.48 740.591 1829.67 740.591 Q1823.86 740.591 1820.78 736.008 Q1817.72 731.401 1817.72 722.675 Q1817.72 713.925 1820.78 709.341 Q1823.86 704.735 1829.67 704.735 Z\" fill=\"#000000\" fill-rule=\"evenodd\" fill-opacity=\"1\" /><path clip-path=\"url(#clip400)\" d=\"M 0 0 M1949.31 705.36 L1971.53 705.36 L1971.53 707.351 L1958.99 739.92 L1954.1 739.92 L1965.91 709.295 L1949.31 709.295 L1949.31 705.36 Z\" fill=\"#000000\" fill-rule=\"evenodd\" fill-opacity=\"1\" /><path clip-path=\"url(#clip400)\" d=\"M 0 0 M1976.65 705.36 L1995.01 705.36 L1995.01 709.295 L1980.93 709.295 L1980.93 717.767 Q1981.95 717.42 1982.97 717.258 Q1983.99 717.073 1985.01 717.073 Q1990.79 717.073 1994.17 720.244 Q1997.55 723.415 1997.55 728.832 Q1997.55 734.411 1994.08 737.512 Q1990.61 740.591 1984.29 740.591 Q1982.11 740.591 1979.84 740.221 Q1977.6 739.85 1975.19 739.11 L1975.19 734.411 Q1977.28 735.545 1979.5 736.1 Q1981.72 736.656 1984.2 736.656 Q1988.2 736.656 1990.54 734.55 Q1992.88 732.443 1992.88 728.832 Q1992.88 725.221 1990.54 723.114 Q1988.2 721.008 1984.2 721.008 Q1982.32 721.008 1980.45 721.425 Q1978.59 721.841 1976.65 722.721 L1976.65 705.36 Z\" fill=\"#000000\" fill-rule=\"evenodd\" fill-opacity=\"1\" /><path clip-path=\"url(#clip400)\" d=\"M 0 0 M2012.62 708.439 Q2009.01 708.439 2007.18 712.003 Q2005.38 715.545 2005.38 722.675 Q2005.38 729.781 2007.18 733.346 Q2009.01 736.887 2012.62 736.887 Q2016.26 736.887 2018.06 733.346 Q2019.89 729.781 2019.89 722.675 Q2019.89 715.545 2018.06 712.003 Q2016.26 708.439 2012.62 708.439 M2012.62 704.735 Q2018.43 704.735 2021.49 709.341 Q2024.57 713.925 2024.57 722.675 Q2024.57 731.401 2021.49 736.008 Q2018.43 740.591 2012.62 740.591 Q2006.81 740.591 2003.73 736.008 Q2000.68 731.401 2000.68 722.675 Q2000.68 713.925 2003.73 709.341 Q2006.81 704.735 2012.62 704.735 Z\" fill=\"#000000\" fill-rule=\"evenodd\" fill-opacity=\"1\" /><path clip-path=\"url(#clip400)\" d=\"M 0 0 M2120.32 735.985 L2127.96 735.985 L2127.96 709.619 L2119.65 711.286 L2119.65 707.027 L2127.91 705.36 L2132.59 705.36 L2132.59 735.985 L2140.23 735.985 L2140.23 739.92 L2120.32 739.92 L2120.32 735.985 Z\" fill=\"#000000\" fill-rule=\"evenodd\" fill-opacity=\"1\" /><path clip-path=\"url(#clip400)\" d=\"M 0 0 M2155.3 708.439 Q2151.69 708.439 2149.86 712.003 Q2148.05 715.545 2148.05 722.675 Q2148.05 729.781 2149.86 733.346 Q2151.69 736.887 2155.3 736.887 Q2158.93 736.887 2160.74 733.346 Q2162.57 729.781 2162.57 722.675 Q2162.57 715.545 2160.74 712.003 Q2158.93 708.439 2155.3 708.439 M2155.3 704.735 Q2161.11 704.735 2164.16 709.341 Q2167.24 713.925 2167.24 722.675 Q2167.24 731.401 2164.16 736.008 Q2161.11 740.591 2155.3 740.591 Q2149.49 740.591 2146.41 736.008 Q2143.35 731.401 2143.35 722.675 Q2143.35 713.925 2146.41 709.341 Q2149.49 704.735 2155.3 704.735 Z\" fill=\"#000000\" fill-rule=\"evenodd\" fill-opacity=\"1\" /><path clip-path=\"url(#clip400)\" d=\"M 0 0 M2182.31 708.439 Q2178.7 708.439 2176.87 712.003 Q2175.07 715.545 2175.07 722.675 Q2175.07 729.781 2176.87 733.346 Q2178.7 736.887 2182.31 736.887 Q2185.95 736.887 2187.75 733.346 Q2189.58 729.781 2189.58 722.675 Q2189.58 715.545 2187.75 712.003 Q2185.95 708.439 2182.31 708.439 M2182.31 704.735 Q2188.12 704.735 2191.18 709.341 Q2194.26 713.925 2194.26 722.675 Q2194.26 731.401 2191.18 736.008 Q2188.12 740.591 2182.31 740.591 Q2176.5 740.591 2173.42 736.008 Q2170.37 731.401 2170.37 722.675 Q2170.37 713.925 2173.42 709.341 Q2176.5 704.735 2182.31 704.735 Z\" fill=\"#000000\" fill-rule=\"evenodd\" fill-opacity=\"1\" /><path clip-path=\"url(#clip400)\" d=\"M 0 0 M2209.33 708.439 Q2205.72 708.439 2203.89 712.003 Q2202.08 715.545 2202.08 722.675 Q2202.08 729.781 2203.89 733.346 Q2205.72 736.887 2209.33 736.887 Q2212.96 736.887 2214.77 733.346 Q2216.59 729.781 2216.59 722.675 Q2216.59 715.545 2214.77 712.003 Q2212.96 708.439 2209.33 708.439 M2209.33 704.735 Q2215.14 704.735 2218.19 709.341 Q2221.27 713.925 2221.27 722.675 Q2221.27 731.401 2218.19 736.008 Q2215.14 740.591 2209.33 740.591 Q2203.52 740.591 2200.44 736.008 Q2197.38 731.401 2197.38 722.675 Q2197.38 713.925 2200.44 709.341 Q2203.52 704.735 2209.33 704.735 Z\" fill=\"#000000\" fill-rule=\"evenodd\" fill-opacity=\"1\" /><path clip-path=\"url(#clip400)\" d=\"M 0 0 M1296.92 630.602 L1304.56 630.602 L1304.56 604.236 L1296.25 605.903 L1296.25 601.643 L1304.51 599.977 L1309.19 599.977 L1309.19 630.602 L1316.83 630.602 L1316.83 634.537 L1296.92 634.537 L1296.92 630.602 Z\" fill=\"#000000\" fill-rule=\"evenodd\" fill-opacity=\"1\" /><path clip-path=\"url(#clip400)\" d=\"M 0 0 M1331.9 603.055 Q1328.29 603.055 1326.46 606.62 Q1324.65 610.162 1324.65 617.291 Q1324.65 624.398 1326.46 627.963 Q1328.29 631.504 1331.9 631.504 Q1335.53 631.504 1337.34 627.963 Q1339.17 624.398 1339.17 617.291 Q1339.17 610.162 1337.34 606.62 Q1335.53 603.055 1331.9 603.055 M1331.9 599.352 Q1337.71 599.352 1340.76 603.958 Q1343.84 608.541 1343.84 617.291 Q1343.84 626.018 1340.76 630.625 Q1337.71 635.208 1331.9 635.208 Q1326.09 635.208 1323.01 630.625 Q1319.95 626.018 1319.95 617.291 Q1319.95 608.541 1323.01 603.958 Q1326.09 599.352 1331.9 599.352 Z\" fill=\"#000000\" fill-rule=\"evenodd\" fill-opacity=\"1\" /><path clip-path=\"url(#clip400)\" d=\"M 0 0 M1343.84 595.033 L1353.98 595.033 L1353.98 598.117 L1343.84 598.117 L1343.84 595.033 Z\" fill=\"#000000\" fill-rule=\"evenodd\" fill-opacity=\"1\" /><path clip-path=\"url(#clip400)\" d=\"M 0 0 M1380.65 591.986 Q1383.37 592.569 1384.9 594.412 Q1386.44 596.255 1386.44 598.964 Q1386.44 603.12 1383.58 605.396 Q1380.72 607.672 1375.46 607.672 Q1373.69 607.672 1371.81 607.314 Q1369.95 606.976 1367.95 606.28 L1367.95 602.612 Q1369.53 603.534 1371.41 604.004 Q1373.29 604.474 1375.34 604.474 Q1378.92 604.474 1380.78 603.064 Q1382.66 601.653 1382.66 598.964 Q1382.66 596.481 1380.91 595.089 Q1379.18 593.679 1376.08 593.679 L1372.8 593.679 L1372.8 590.557 L1376.23 590.557 Q1379.03 590.557 1380.52 589.447 Q1382 588.319 1382 586.212 Q1382 584.049 1380.46 582.902 Q1378.94 581.736 1376.08 581.736 Q1374.52 581.736 1372.73 582.074 Q1370.94 582.413 1368.8 583.128 L1368.8 579.742 Q1370.96 579.14 1372.84 578.839 Q1374.74 578.538 1376.42 578.538 Q1380.74 578.538 1383.26 580.513 Q1385.78 582.469 1385.78 585.817 Q1385.78 588.149 1384.45 589.767 Q1383.11 591.365 1380.65 591.986 Z\" fill=\"#000000\" fill-rule=\"evenodd\" fill-opacity=\"1\" /><path clip-path=\"url(#clip400)\" d=\"M 0 0 M1297.58 500.067 L1305.22 500.067 L1305.22 473.701 L1296.91 475.368 L1296.91 471.109 L1305.17 469.442 L1309.85 469.442 L1309.85 500.067 L1317.49 500.067 L1317.49 504.002 L1297.58 504.002 L1297.58 500.067 Z\" fill=\"#000000\" fill-rule=\"evenodd\" fill-opacity=\"1\" /><path clip-path=\"url(#clip400)\" d=\"M 0 0 M1332.55 472.521 Q1328.94 472.521 1327.12 476.086 Q1325.31 479.627 1325.31 486.757 Q1325.31 493.863 1327.12 497.428 Q1328.94 500.97 1332.55 500.97 Q1336.19 500.97 1337.99 497.428 Q1339.82 493.863 1339.82 486.757 Q1339.82 479.627 1337.99 476.086 Q1336.19 472.521 1332.55 472.521 M1332.55 468.817 Q1338.36 468.817 1341.42 473.424 Q1344.5 478.007 1344.5 486.757 Q1344.5 495.484 1341.42 500.09 Q1338.36 504.673 1332.55 504.673 Q1326.74 504.673 1323.67 500.09 Q1320.61 495.484 1320.61 486.757 Q1320.61 478.007 1323.67 473.424 Q1326.74 468.817 1332.55 468.817 Z\" fill=\"#000000\" fill-rule=\"evenodd\" fill-opacity=\"1\" /><path clip-path=\"url(#clip400)\" d=\"M 0 0 M1344.5 464.498 L1354.64 464.498 L1354.64 467.583 L1344.5 467.583 L1344.5 464.498 Z\" fill=\"#000000\" fill-rule=\"evenodd\" fill-opacity=\"1\" /><path clip-path=\"url(#clip400)\" d=\"M 0 0 M1373.18 473.394 L1386.44 473.394 L1386.44 476.592 L1368.61 476.592 L1368.61 473.394 Q1370.77 471.156 1374.5 467.395 Q1378.24 463.614 1379.2 462.523 Q1381.02 460.473 1381.74 459.063 Q1382.47 457.633 1382.47 456.26 Q1382.47 454.022 1380.89 452.612 Q1379.33 451.201 1376.81 451.201 Q1375.02 451.201 1373.03 451.822 Q1371.06 452.442 1368.8 453.703 L1368.8 449.866 Q1371.09 448.944 1373.09 448.474 Q1375.08 448.004 1376.74 448.004 Q1381.1 448.004 1383.69 450.186 Q1386.29 452.367 1386.29 456.016 Q1386.29 457.746 1385.63 459.307 Q1384.99 460.85 1383.28 462.956 Q1382.81 463.501 1380.29 466.116 Q1377.77 468.711 1373.18 473.394 Z\" fill=\"#000000\" fill-rule=\"evenodd\" fill-opacity=\"1\" /><path clip-path=\"url(#clip400)\" d=\"M 0 0 M1298.69 369.532 L1306.33 369.532 L1306.33 343.167 L1298.02 344.833 L1298.02 340.574 L1306.28 338.907 L1310.96 338.907 L1310.96 369.532 L1318.6 369.532 L1318.6 373.467 L1298.69 373.467 L1298.69 369.532 Z\" fill=\"#000000\" fill-rule=\"evenodd\" fill-opacity=\"1\" /><path clip-path=\"url(#clip400)\" d=\"M 0 0 M1333.66 341.986 Q1330.05 341.986 1328.22 345.551 Q1326.42 349.093 1326.42 356.222 Q1326.42 363.329 1328.22 366.893 Q1330.05 370.435 1333.66 370.435 Q1337.3 370.435 1339.1 366.893 Q1340.93 363.329 1340.93 356.222 Q1340.93 349.093 1339.1 345.551 Q1337.3 341.986 1333.66 341.986 M1333.66 338.282 Q1339.47 338.282 1342.53 342.889 Q1345.61 347.472 1345.61 356.222 Q1345.61 364.949 1342.53 369.555 Q1339.47 374.139 1333.66 374.139 Q1327.85 374.139 1324.78 369.555 Q1321.72 364.949 1321.72 356.222 Q1321.72 347.472 1324.78 342.889 Q1327.85 338.282 1333.66 338.282 Z\" fill=\"#000000\" fill-rule=\"evenodd\" fill-opacity=\"1\" /><path clip-path=\"url(#clip400)\" d=\"M 0 0 M1345.61 333.964 L1355.75 333.964 L1355.75 337.048 L1345.61 337.048 L1345.61 333.964 Z\" fill=\"#000000\" fill-rule=\"evenodd\" fill-opacity=\"1\" /><path clip-path=\"url(#clip400)\" d=\"M 0 0 M1370.27 342.86 L1376.47 342.86 L1376.47 321.438 L1369.72 322.792 L1369.72 319.331 L1376.43 317.977 L1380.23 317.977 L1380.23 342.86 L1386.44 342.86 L1386.44 346.057 L1370.27 346.057 L1370.27 342.86 Z\" fill=\"#000000\" fill-rule=\"evenodd\" fill-opacity=\"1\" /><path clip-path=\"url(#clip400)\" d=\"M 0 0 M1320.11 238.998 L1327.75 238.998 L1327.75 212.632 L1319.44 214.299 L1319.44 210.039 L1327.7 208.373 L1332.38 208.373 L1332.38 238.998 L1340.02 238.998 L1340.02 242.933 L1320.11 242.933 L1320.11 238.998 Z\" fill=\"#000000\" fill-rule=\"evenodd\" fill-opacity=\"1\" /><path clip-path=\"url(#clip400)\" d=\"M 0 0 M1355.09 211.451 Q1351.48 211.451 1349.65 215.016 Q1347.84 218.558 1347.84 225.688 Q1347.84 232.794 1349.65 236.359 Q1351.48 239.9 1355.09 239.9 Q1358.72 239.9 1360.53 236.359 Q1362.36 232.794 1362.36 225.688 Q1362.36 218.558 1360.53 215.016 Q1358.72 211.451 1355.09 211.451 M1355.09 207.748 Q1360.9 207.748 1363.95 212.354 Q1367.03 216.938 1367.03 225.688 Q1367.03 234.414 1363.95 239.021 Q1360.9 243.604 1355.09 243.604 Q1349.28 243.604 1346.2 239.021 Q1343.14 234.414 1343.14 225.688 Q1343.14 216.938 1346.2 212.354 Q1349.28 207.748 1355.09 207.748 Z\" fill=\"#000000\" fill-rule=\"evenodd\" fill-opacity=\"1\" /><path clip-path=\"url(#clip400)\" d=\"M 0 0 M1376.74 189.944 Q1373.8 189.944 1372.32 192.84 Q1370.85 195.718 1370.85 201.511 Q1370.85 207.285 1372.32 210.181 Q1373.8 213.059 1376.74 213.059 Q1379.69 213.059 1381.16 210.181 Q1382.64 207.285 1382.64 201.511 Q1382.64 195.718 1381.16 192.84 Q1379.69 189.944 1376.74 189.944 M1376.74 186.935 Q1381.46 186.935 1383.94 190.677 Q1386.44 194.401 1386.44 201.511 Q1386.44 208.601 1383.94 212.344 Q1381.46 216.068 1376.74 216.068 Q1372.01 216.068 1369.51 212.344 Q1367.03 208.601 1367.03 201.511 Q1367.03 194.401 1369.51 190.677 Q1372.01 186.935 1376.74 186.935 Z\" fill=\"#000000\" fill-rule=\"evenodd\" fill-opacity=\"1\" /><path clip-path=\"url(#clip400)\" d=\"M 0 0 M1711.48 12.096 L1723.67 12.096 L1739.11 53.2532 L1754.62 12.096 L1766.82 12.096 L1766.82 72.576 L1758.84 72.576 L1758.84 19.4686 L1743.24 60.9499 L1735.02 60.9499 L1719.42 19.4686 L1719.42 72.576 L1711.48 72.576 L1711.48 12.096 Z\" fill=\"#000000\" fill-rule=\"evenodd\" fill-opacity=\"1\" /><path clip-path=\"url(#clip400)\" d=\"M 0 0 M1813.44 48.0275 L1813.44 51.6733 L1779.17 51.6733 Q1779.66 59.3701 1783.79 63.421 Q1787.96 67.4314 1795.37 67.4314 Q1799.67 67.4314 1803.68 66.3781 Q1807.73 65.3249 1811.7 63.2184 L1811.7 70.267 Q1807.69 71.9684 1803.48 72.8596 Q1799.26 73.7508 1794.93 73.7508 Q1784.07 73.7508 1777.71 67.4314 Q1771.39 61.1119 1771.39 50.3365 Q1771.39 39.1965 1777.39 32.6746 Q1783.42 26.1121 1793.63 26.1121 Q1802.79 26.1121 1808.09 32.0264 Q1813.44 37.9003 1813.44 48.0275 M1805.99 45.84 Q1805.91 39.7232 1802.54 36.0774 Q1799.22 32.4315 1793.71 32.4315 Q1787.48 32.4315 1783.71 35.9558 Q1779.98 39.4801 1779.41 45.8805 L1805.99 45.84 Z\" fill=\"#000000\" fill-rule=\"evenodd\" fill-opacity=\"1\" /><path clip-path=\"url(#clip400)\" d=\"M 0 0 M1828.63 14.324 L1828.63 27.2059 L1843.99 27.2059 L1843.99 32.9987 L1828.63 32.9987 L1828.63 57.6282 Q1828.63 63.1779 1830.13 64.7578 Q1831.67 66.3376 1836.33 66.3376 L1843.99 66.3376 L1843.99 72.576 L1836.33 72.576 Q1827.7 72.576 1824.42 69.3758 Q1821.14 66.1351 1821.14 57.6282 L1821.14 32.9987 L1815.67 32.9987 L1815.67 27.2059 L1821.14 27.2059 L1821.14 14.324 L1828.63 14.324 Z\" fill=\"#000000\" fill-rule=\"evenodd\" fill-opacity=\"1\" /><path clip-path=\"url(#clip400)\" d=\"M 0 0 M1889.52 45.1919 L1889.52 72.576 L1882.06 72.576 L1882.06 45.4349 Q1882.06 38.994 1879.55 35.7938 Q1877.04 32.5936 1872.02 32.5936 Q1865.98 32.5936 1862.5 36.4419 Q1859.01 40.2903 1859.01 46.9338 L1859.01 72.576 L1851.52 72.576 L1851.52 9.54393 L1859.01 9.54393 L1859.01 34.2544 Q1861.69 30.163 1865.29 28.1376 Q1868.94 26.1121 1873.68 26.1121 Q1881.5 26.1121 1885.51 30.9732 Q1889.52 35.7938 1889.52 45.1919 Z\" fill=\"#000000\" fill-rule=\"evenodd\" fill-opacity=\"1\" /><path clip-path=\"url(#clip400)\" d=\"M 0 0 M1914.92 32.4315 Q1908.92 32.4315 1905.44 37.1306 Q1901.95 41.7891 1901.95 49.9314 Q1901.95 58.0738 1905.4 62.7728 Q1908.88 67.4314 1914.92 67.4314 Q1920.87 67.4314 1924.36 62.7323 Q1927.84 58.0333 1927.84 49.9314 Q1927.84 41.8701 1924.36 37.1711 Q1920.87 32.4315 1914.92 32.4315 M1914.92 26.1121 Q1924.64 26.1121 1930.19 32.4315 Q1935.74 38.7509 1935.74 49.9314 Q1935.74 61.0714 1930.19 67.4314 Q1924.64 73.7508 1914.92 73.7508 Q1905.15 73.7508 1899.6 67.4314 Q1894.1 61.0714 1894.1 49.9314 Q1894.1 38.7509 1899.6 32.4315 Q1905.15 26.1121 1914.92 26.1121 Z\" fill=\"#000000\" fill-rule=\"evenodd\" fill-opacity=\"1\" /><path clip-path=\"url(#clip400)\" d=\"M 0 0 M1973.41 34.0924 L1973.41 9.54393 L1980.87 9.54393 L1980.87 72.576 L1973.41 72.576 L1973.41 65.7705 Q1971.06 69.8214 1967.46 71.8063 Q1963.89 73.7508 1958.87 73.7508 Q1950.65 73.7508 1945.46 67.1883 Q1940.32 60.6258 1940.32 49.9314 Q1940.32 39.2371 1945.46 32.6746 Q1950.65 26.1121 1958.87 26.1121 Q1963.89 26.1121 1967.46 28.0971 Q1971.06 30.0415 1973.41 34.0924 M1948.01 49.9314 Q1948.01 58.1548 1951.38 62.8538 Q1954.78 67.5124 1960.69 67.5124 Q1966.61 67.5124 1970.01 62.8538 Q1973.41 58.1548 1973.41 49.9314 Q1973.41 41.7081 1970.01 37.0496 Q1966.61 32.3505 1960.69 32.3505 Q1954.78 32.3505 1951.38 37.0496 Q1948.01 41.7081 1948.01 49.9314 Z\" fill=\"#000000\" fill-rule=\"evenodd\" fill-opacity=\"1\" /><path clip-path=\"url(#clip400)\" d=\"M 0 0 M2023.16 65.6895 L2051.72 65.6895 L2051.72 72.576 L2013.31 72.576 L2013.31 65.6895 Q2017.97 60.8689 2025.99 52.7671 Q2034.05 44.6248 2036.12 42.2752 Q2040.05 37.8598 2041.59 34.8216 Q2043.17 31.7429 2043.17 28.7857 Q2043.17 23.9651 2039.77 20.927 Q2036.4 17.8888 2030.98 17.8888 Q2027.13 17.8888 2022.83 19.2256 Q2018.58 20.5624 2013.72 23.2765 L2013.72 15.0127 Q2018.66 13.0277 2022.95 12.015 Q2027.25 11.0023 2030.81 11.0023 Q2040.21 11.0023 2045.8 15.7013 Q2051.39 20.4004 2051.39 28.2591 Q2051.39 31.9859 2049.97 35.3482 Q2048.6 38.6699 2044.91 43.2069 Q2043.9 44.3817 2038.47 50.0125 Q2033.04 55.6027 2023.16 65.6895 Z\" fill=\"#000000\" fill-rule=\"evenodd\" fill-opacity=\"1\" /><polyline clip-path=\"url(#clip403)\" style=\"stroke:#009af9; stroke-width:4; stroke-opacity:1; fill:none\" points=\"\n",
       "  1437.11,139.405 1437.84,210.747 1438.58,294.902 1439.31,234.315 1440.05,198.384 1440.78,193.75 1441.51,208.752 1442.25,240.022 1442.98,281.885 1443.72,298.057 \n",
       "  1444.45,298.057 1445.18,270.688 1445.92,281.736 1446.65,291.069 1447.39,297.573 1448.12,300.477 1448.86,300.211 1449.59,298.187 1450.32,296.058 1451.06,294.691 \n",
       "  1451.79,294.614 1452.53,295.552 1453.26,297.231 1453.99,299.269 1454.73,301.24 1455.46,302.833 1456.2,303.942 1456.93,304.423 1457.66,304.426 1458.4,304.131 \n",
       "  1459.13,303.93 1459.87,303.903 1460.6,304.209 1461.33,304.886 1462.07,305.76 1462.8,306.711 1463.54,307.693 1464.27,308.532 1465.01,309.149 1465.74,309.58 \n",
       "  1466.47,309.888 1467.21,310.134 1467.94,310.411 1468.68,310.772 1469.41,311.302 1470.14,311.888 1470.88,312.573 1471.61,313.318 1472.35,314.042 1473.08,314.625 \n",
       "  1473.81,315.147 1474.55,315.574 1475.28,316.106 1476.02,316.587 1476.75,317.027 1477.48,317.604 1478.22,318.207 1478.95,318.885 1479.69,319.492 1480.42,320.116 \n",
       "  1481.15,320.724 1481.89,321.267 1482.62,321.926 1483.36,322.398 1484.09,322.96 1484.83,323.508 1485.56,324.168 1486.29,324.825 1487.03,325.466 1487.76,326.149 \n",
       "  1488.5,326.643 1489.23,327.355 1489.96,327.958 1490.7,328.581 1491.43,329.23 1492.17,329.864 1492.9,330.525 1493.63,331.172 1494.37,331.844 1495.1,332.523 \n",
       "  1495.84,333.132 1496.57,333.824 1497.3,334.483 1498.04,335.089 1498.77,335.872 1499.51,336.557 1500.24,337.21 1500.98,337.911 1501.71,338.588 1502.44,339.306 \n",
       "  1503.18,339.996 1503.91,340.635 1504.65,341.393 1505.38,342.093 1506.11,342.821 1506.85,343.529 1507.58,344.314 1508.32,344.962 1509.05,345.771 1509.78,346.461 \n",
       "  1510.52,347.186 1511.25,347.904 1511.99,348.681 1512.72,349.414 1513.45,350.242 1514.19,350.933 1514.92,351.694 1515.66,352.462 1516.39,353.219 1517.13,354.052 \n",
       "  1517.86,354.747 1518.59,355.532 1519.33,356.367 1520.06,357.106 1520.8,357.9 1521.53,358.647 1522.26,359.471 1523,360.258 1523.73,361.09 1524.47,361.906 \n",
       "  1525.2,362.663 1525.93,363.468 1526.67,364.303 1527.4,365.152 1528.14,365.912 1528.87,366.796 1529.6,367.624 1530.34,368.445 1531.07,369.23 1531.81,370.117 \n",
       "  1532.54,370.954 1533.27,371.801 1534.01,372.602 1534.74,373.491 1535.48,374.239 1536.21,375.148 1536.95,376.058 1537.68,376.868 1538.41,377.771 1539.15,378.625 \n",
       "  1539.88,379.549 1540.62,380.369 1541.35,381.225 1542.08,382.107 1542.82,382.982 1543.55,383.928 1544.29,384.76 1545.02,385.697 1545.75,386.552 1546.49,387.44 \n",
       "  1547.22,388.406 1547.96,389.251 1548.69,390.17 1549.42,391.141 1550.16,392.049 1550.89,392.898 1551.63,393.806 1552.36,394.81 1553.1,395.738 1553.83,396.583 \n",
       "  1554.56,397.536 1555.3,398.44 1556.03,399.427 1556.77,400.374 1557.5,401.296 1558.23,402.239 1558.97,403.199 1559.7,404.132 1560.44,405.067 1561.17,405.997 \n",
       "  1561.9,406.985 1562.64,407.929 1563.37,408.844 1564.11,409.847 1564.84,410.812 1565.57,411.764 1566.31,412.738 1567.04,413.716 1567.78,414.636 1568.51,415.651 \n",
       "  1569.25,416.645 1569.98,417.554 1570.71,418.549 1571.45,419.543 1572.18,420.485 1572.92,421.51 1573.65,422.502 1574.38,423.437 1575.12,424.489 1575.85,425.491 \n",
       "  1576.59,426.49 1577.32,427.397 1578.05,428.457 1578.79,429.41 1579.52,430.429 1580.26,431.464 1580.99,432.43 1581.72,433.426 1582.46,434.418 1583.19,435.46 \n",
       "  1583.93,436.38 1584.66,437.428 1585.39,438.431 1586.13,439.442 1586.86,440.436 1587.6,441.436 1588.33,442.426 1589.07,443.44 1589.8,444.392 1590.53,445.493 \n",
       "  1591.27,446.464 1592,447.49 1592.74,448.415 1593.47,449.464 1594.2,450.479 1594.94,451.434 1595.67,452.438 1596.41,453.426 1597.14,454.459 1597.87,455.502 \n",
       "  1598.61,456.49 1599.34,457.484 1600.08,458.467 1600.81,459.443 1601.54,460.468 1602.28,461.463 1603.01,462.46 1603.75,463.455 1604.48,464.389 1605.22,465.39 \n",
       "  1605.95,466.442 1606.68,467.395 1607.42,468.379 1608.15,469.314 1608.89,470.29 1609.62,471.322 1610.35,472.244 1611.09,473.217 1611.82,474.19 1612.56,475.137 \n",
       "  1613.29,476.137 1614.02,477.04 1614.76,478.089 1615.49,479.011 1616.23,479.915 1616.96,480.859 1617.69,481.84 1618.43,482.734 1619.16,483.651 1619.9,484.63 \n",
       "  1620.63,485.503 1621.37,486.418 1622.1,487.369 1622.83,488.271 1623.57,489.167 1624.3,490.158 1625.04,490.997 1625.77,491.863 1626.5,492.734 1627.24,493.636 \n",
       "  1627.97,494.503 1628.71,495.386 1629.44,496.224 1630.17,497.078 1630.91,497.95 1631.64,498.832 1632.38,499.614 1633.11,500.386 1633.84,501.282 1634.58,502.113 \n",
       "  1635.31,502.918 1636.05,503.702 1636.78,504.543 1637.52,505.333 1638.25,506.118 1638.98,506.921 1639.72,507.735 1640.45,508.492 1641.19,509.226 1641.92,509.968 \n",
       "  1642.65,510.701 1643.39,511.566 1644.12,512.213 1644.86,512.979 1645.59,513.731 1646.32,514.441 1647.06,515.056 1647.79,515.746 1648.53,516.444 1649.26,517.159 \n",
       "  1649.99,517.799 1650.73,518.476 1651.46,519.112 1652.2,519.797 1652.93,520.403 1653.66,521.05 1654.4,521.715 1655.13,522.291 1655.87,522.964 1656.6,523.487 \n",
       "  1657.34,524.142 1658.07,524.731 1658.8,525.278 1659.54,525.881 1660.27,526.423 1661.01,526.998 1661.74,527.524 1662.47,528.038 1663.21,528.601 1663.94,529.146 \n",
       "  1664.68,529.666 1665.41,530.217 1666.14,530.627 1666.88,531.224 1667.61,531.614 1668.35,532.1 1669.08,532.568 1669.81,533.133 1670.55,533.539 1671.28,533.945 \n",
       "  1672.02,534.43 1672.75,534.85 1673.49,535.263 1674.22,535.684 1674.95,536.137 1675.69,536.514 1676.42,536.926 1677.16,537.312 1677.89,537.715 1678.62,538.113 \n",
       "  1679.36,538.511 1680.09,538.841 1680.83,539.213 1681.56,539.577 1682.29,540.004 1683.03,540.27 1683.76,540.68 1684.5,540.987 1685.23,541.353 1685.96,541.641 \n",
       "  1686.7,541.921 1687.43,542.256 1688.17,542.582 1688.9,542.849 1689.64,543.182 1690.37,543.468 1691.1,543.768 1691.84,544.021 1692.57,544.313 1693.31,544.61 \n",
       "  1694.04,544.863 1694.77,545.104 1695.51,545.359 1696.24,545.633 1696.98,545.925 1697.71,546.127 1698.44,546.319 1699.18,546.643 1699.91,546.858 1700.65,547.099 \n",
       "  1701.38,547.321 1702.11,547.543 1702.85,547.806 1703.58,548.024 1704.32,548.209 1705.05,548.391 1705.78,548.615 1706.52,548.819 1707.25,549.017 1707.99,549.219 \n",
       "  1708.72,549.432 1709.46,549.611 1710.19,549.802 1710.92,550.009 1711.66,550.189 1712.39,550.352 1713.13,550.562 1713.86,550.714 1714.59,550.893 1715.33,551.062 \n",
       "  1716.06,551.263 1716.8,551.396 1717.53,551.568 1718.26,551.73 1719,551.892 1719.73,552.078 1720.47,552.235 1721.2,552.369 1721.93,552.527 1722.67,552.677 \n",
       "  1723.4,552.848 1724.14,553.019 1724.87,553.124 1725.61,553.273 1726.34,553.422 1727.07,553.554 1727.81,553.719 1728.54,553.838 1729.28,553.975 1730.01,554.116 \n",
       "  1730.74,554.25 1731.48,554.39 1732.21,554.517 1732.95,554.658 1733.68,554.786 1734.41,554.928 1735.15,555.073 1735.88,555.191 1736.62,555.297 1737.35,555.429 \n",
       "  1738.08,555.585 1738.82,555.692 1739.55,555.81 1740.29,555.935 1741.02,556.09 1741.76,556.171 1742.49,556.305 1743.22,556.421 1743.96,556.547 1744.69,556.668 \n",
       "  1745.43,556.783 1746.16,556.91 1746.89,557 1747.63,557.122 1748.36,557.228 1749.1,557.35 1749.83,557.465 1750.56,557.574 1751.3,557.716 1752.03,557.813 \n",
       "  1752.77,557.924 1753.5,558.025 1754.23,558.136 1754.97,558.251 1755.7,558.357 1756.44,558.482 1757.17,558.568 1757.9,558.689 1758.64,558.806 1759.37,558.912 \n",
       "  1760.11,559.024 1760.84,559.13 1761.58,559.248 1762.31,559.316 1763.04,559.474 1763.78,559.568 1764.51,559.671 1765.25,559.776 1765.98,559.901 1766.71,560.01 \n",
       "  1767.45,560.127 1768.18,560.217 1768.92,560.324 1769.65,560.432 1770.38,560.538 1771.12,560.641 1771.85,560.767 1772.59,560.846 1773.32,560.953 1774.05,561.059 \n",
       "  1774.79,561.173 1775.52,561.268 1776.26,561.384 1776.99,561.484 1777.73,561.609 1778.46,561.688 1779.19,561.801 1779.93,561.906 1780.66,562.055 1781.4,562.107 \n",
       "  1782.13,562.217 1782.86,562.339 1783.6,562.436 1784.33,562.547 1785.07,562.643 1785.8,562.755 1786.53,562.85 1787.27,562.958 1788,563.064 1788.74,563.167 \n",
       "  1789.47,563.272 1790.2,563.373 1790.94,563.49 1791.67,563.61 1792.41,563.698 1793.14,563.808 1793.88,563.903 1794.61,564.001 1795.34,564.123 1796.08,564.233 \n",
       "  1796.81,564.331 1797.55,564.439 1798.28,564.54 1799.01,564.654 1799.75,564.788 1800.48,564.86 1801.22,564.985 1801.95,565.078 1802.68,565.176 1803.42,565.285 \n",
       "  1804.15,565.386 1804.89,565.494 1805.62,565.602 1806.35,565.709 1807.09,565.819 1807.82,565.922 1808.56,566.027 1809.29,566.136 1810.02,566.279 1810.76,566.395 \n",
       "  1811.49,566.46 1812.23,566.61 1812.96,566.679 1813.7,566.812 1814.43,566.896 1815.16,567.007 1815.9,567.103 1816.63,567.21 1817.37,567.298 1818.1,567.432 \n",
       "  1818.83,567.541 1819.57,567.645 1820.3,567.759 1821.04,567.87 1821.77,567.974 1822.5,568.096 1823.24,568.184 1823.97,568.302 1824.71,568.404 1825.44,568.515 \n",
       "  1826.17,568.631 1826.91,568.738 1827.64,568.881 1828.38,568.953 1829.11,569.077 1829.85,569.171 1830.58,569.311 1831.31,569.401 1832.05,569.541 1832.78,569.62 \n",
       "  1833.52,569.73 1834.25,569.842 1834.98,569.948 1835.72,570.057 1836.45,570.173 1837.19,570.321 1837.92,570.388 1838.65,570.503 1839.39,570.61 1840.12,570.761 \n",
       "  1840.86,570.844 1841.59,570.951 1842.32,571.097 1843.06,571.172 1843.79,571.317 1844.53,571.405 1845.26,571.511 1846,571.622 1846.73,571.736 1847.46,571.842 \n",
       "  1848.2,571.965 1848.93,572.072 1849.67,572.219 1850.4,572.3 1851.13,572.414 1851.87,572.537 1852.6,572.638 1853.34,572.785 1854.07,572.877 1854.8,572.983 \n",
       "  1855.54,573.106 1856.27,573.217 1857.01,573.322 1857.74,573.439 1858.47,573.549 1859.21,573.678 1859.94,573.786 1860.68,573.916 1861.41,574.027 1862.14,574.134 \n",
       "  1862.88,574.24 1863.61,574.354 1864.35,574.466 1865.08,574.593 1865.82,574.695 1866.55,574.792 1867.28,574.933 1868.02,575.05 1868.75,575.199 1869.49,575.285 \n",
       "  1870.22,575.41 1870.95,575.507 1871.69,575.65 1872.42,575.738 1873.16,575.837 1873.89,576.004 1874.62,576.101 1875.36,576.211 1876.09,576.328 1876.83,576.455 \n",
       "  1877.56,576.56 1878.29,576.69 1879.03,576.802 1879.76,576.916 1880.5,577.036 1881.23,577.147 1881.97,577.274 1882.7,577.383 1883.43,577.513 1884.17,577.623 \n",
       "  1884.9,577.748 1885.64,577.843 1886.37,577.979 1887.1,578.103 1887.84,578.23 1888.57,578.342 1889.31,578.44 1890.04,578.58 1890.77,578.7 1891.51,578.854 \n",
       "  1892.24,578.939 1892.98,579.073 1893.71,579.18 1894.44,579.295 1895.18,579.416 1895.91,579.54 1896.65,579.652 1897.38,579.796 1898.12,579.896 1898.85,580.022 \n",
       "  1899.58,580.147 1900.32,580.279 1901.05,580.388 1901.79,580.516 1902.52,580.641 1903.25,580.756 1903.99,580.874 1904.72,580.992 1905.46,581.115 1906.19,581.23 \n",
       "  1906.92,581.39 1907.66,581.485 1908.39,581.6 1909.13,581.76 1909.86,581.85 1910.59,581.972 1911.33,582.09 1912.06,582.219 1912.8,582.337 1913.53,582.476 \n",
       "  1914.26,582.588 1915,582.717 1915.73,582.837 1916.47,582.962 1917.2,583.087 1917.94,583.208 1918.67,583.337 1919.4,583.481 1920.14,583.583 1920.87,583.738 \n",
       "  1921.61,583.831 1922.34,583.96 1923.07,584.076 1923.81,584.225 1924.54,584.356 1925.28,584.484 1926.01,584.585 1926.74,584.713 1927.48,584.852 1928.21,584.96 \n",
       "  1928.95,585.087 1929.68,585.21 1930.41,585.329 1931.15,585.476 1931.88,585.589 1932.62,585.716 1933.35,585.85 1934.09,585.97 1934.82,586.097 1935.55,586.226 \n",
       "  1936.29,586.374 1937.02,586.479 1937.76,586.607 1938.49,586.741 1939.22,586.859 1939.96,586.992 1940.69,587.126 1941.43,587.244 1942.16,587.368 1942.89,587.506 \n",
       "  1943.63,587.625 1944.36,587.756 1945.1,587.911 1945.83,588.012 1946.56,588.145 1947.3,588.27 1948.03,588.377 1948.77,588.528 1949.5,588.656 1950.24,588.786 \n",
       "  1950.97,588.922 1951.7,589.041 1952.44,589.182 1953.17,589.308 1953.91,589.431 1954.64,589.571 1955.37,589.692 1956.11,589.822 1956.84,589.965 1957.58,590.087 \n",
       "  1958.31,590.21 1959.04,590.341 1959.78,590.483 1960.51,590.614 1961.25,590.733 1961.98,590.864 1962.71,591 1963.45,591.131 1964.18,591.264 1964.92,591.389 \n",
       "  1965.65,591.531 1966.39,591.662 1967.12,591.79 1967.85,591.925 1968.59,592.058 1969.32,592.198 1970.06,592.325 1970.79,592.459 1971.52,592.588 1972.26,592.713 \n",
       "  1972.99,592.859 1973.73,593.005 1974.46,593.117 1975.19,593.263 1975.93,593.379 1976.66,593.526 1977.4,593.653 1978.13,593.793 1978.86,593.915 1979.6,594.061 \n",
       "  1980.33,594.181 1981.07,594.333 1981.8,594.454 1982.53,594.594 1983.27,594.725 1984,594.881 1984.74,594.988 1985.47,595.137 1986.21,595.292 1986.94,595.417 \n",
       "  1987.67,595.529 1988.41,595.674 1989.14,595.81 1989.88,595.951 1990.61,596.082 1991.34,596.217 1992.08,596.344 1992.81,596.487 1993.55,596.634 1994.28,596.774 \n",
       "  1995.01,596.895 1995.75,597.033 1996.48,597.174 1997.22,597.31 1997.95,597.448 1998.68,597.581 1999.42,597.718 2000.15,597.859 2000.89,597.999 2001.62,598.138 \n",
       "  2002.36,598.262 2003.09,598.402 2003.82,598.546 2004.56,598.676 2005.29,598.817 2006.03,598.962 2006.76,599.105 2007.49,599.242 2008.23,599.375 2008.96,599.523 \n",
       "  2009.7,599.646 2010.43,599.794 2011.16,599.928 2011.9,600.078 2012.63,600.214 2013.37,600.35 2014.1,600.496 2014.83,600.631 2015.57,600.769 2016.3,600.915 \n",
       "  2017.04,601.051 2017.77,601.19 2018.51,601.325 2019.24,601.465 2019.97,601.611 2020.71,601.746 2021.44,601.887 2022.18,602.036 2022.91,602.175 2023.64,602.309 \n",
       "  2024.38,602.459 2025.11,602.592 2025.85,602.75 2026.58,602.883 2027.31,603.023 2028.05,603.16 2028.78,603.31 2029.52,603.452 2030.25,603.595 2030.98,603.735 \n",
       "  2031.72,603.883 2032.45,604.004 2033.19,604.158 2033.92,604.307 2034.65,604.443 2035.39,604.588 2036.12,604.735 2036.86,604.878 2037.59,605.017 2038.33,605.171 \n",
       "  2039.06,605.303 2039.79,605.455 2040.53,605.589 2041.26,605.738 2042,605.885 2042.73,606.029 2043.46,606.173 2044.2,606.318 2044.93,606.469 2045.67,606.6 \n",
       "  2046.4,606.744 2047.13,606.893 2047.87,607.04 2048.6,607.182 2049.34,607.316 2050.07,607.477 2050.8,607.623 2051.54,607.776 2052.27,607.911 2053.01,608.054 \n",
       "  2053.74,608.212 2054.48,608.361 2055.21,608.497 2055.94,608.653 2056.68,608.805 2057.41,608.941 2058.15,609.093 2058.88,609.217 2059.61,609.387 2060.35,609.522 \n",
       "  2061.08,609.676 2061.82,609.821 2062.55,609.971 2063.28,610.111 2064.02,610.269 2064.75,610.397 2065.49,610.566 2066.22,610.716 2066.95,610.843 2067.69,610.999 \n",
       "  2068.42,611.139 2069.16,611.309 2069.89,611.449 2070.63,611.599 2071.36,611.734 2072.09,611.897 2072.83,612.059 2073.56,612.19 2074.3,612.347 2075.03,612.5 \n",
       "  2075.76,612.632 2076.5,612.798 2077.23,612.938 2077.97,613.096 2078.7,613.244 2079.43,613.401 2080.17,613.544 2080.9,613.697 2081.64,613.847 2082.37,613.997 \n",
       "  2083.1,614.149 2083.84,614.297 2084.57,614.456 2085.31,614.602 2086.04,614.758 2086.77,614.901 2087.51,615.062 2088.24,615.214 2088.98,615.36 2089.71,615.517 \n",
       "  2090.45,615.661 2091.18,615.815 2091.91,615.974 2092.65,616.121 2093.38,616.267 2094.12,616.431 2094.85,616.575 2095.58,616.732 2096.32,616.885 2097.05,617.024 \n",
       "  2097.79,617.196 2098.52,617.347 2099.25,617.492 2099.99,617.651 2100.72,617.8 2101.46,617.959 2102.19,618.117 2102.92,618.272 2103.66,618.419 2104.39,618.574 \n",
       "  2105.13,618.727 2105.86,618.884 2106.6,619.04 2107.33,619.195 2108.06,619.349 2108.8,619.502 2109.53,619.66 2110.27,619.813 2111,619.97 2111.73,620.122 \n",
       "  2112.47,620.281 2113.2,620.434 2113.94,620.591 2114.67,620.75 2115.4,620.904 2116.14,621.067 2116.87,621.216 2117.61,621.374 2118.34,621.527 2119.07,621.688 \n",
       "  2119.81,621.844 2120.54,622.001 2121.28,622.158 2122.01,622.316 2122.75,622.474 2123.48,622.63 2124.21,622.789 2124.95,622.946 2125.68,623.104 2126.42,623.261 \n",
       "  2127.15,623.419 2127.88,623.577 2128.62,623.734 2129.35,623.894 2130.09,624.053 2130.82,624.212 2131.55,624.37 2132.29,624.53 2133.02,624.689 2133.76,624.847 \n",
       "  2134.49,625.006 2135.22,625.166 2135.96,625.323 2136.69,625.482 2137.43,625.645 2138.16,625.804 2138.89,625.953 2139.63,626.125 2140.36,626.283 2141.1,626.445 \n",
       "  2141.83,626.607 2142.57,626.766 2143.3,626.926 2144.03,627.087 2144.77,627.246 2145.5,627.407 2146.24,627.568 2146.97,627.732 2147.7,627.893 2148.44,628.053 \n",
       "  2149.17,628.216 2149.91,628.378 2150.64,628.54 2151.37,628.702 2152.11,628.864 2152.84,629.025 2153.58,629.186 2154.31,629.353 2155.04,629.514 2155.78,629.676 \n",
       "  2156.51,629.839 2157.25,630.001 2157.98,630.166 2158.72,630.327 2159.45,630.491 2160.18,630.657 2160.92,630.817 2161.65,630.977 2162.39,631.146 2163.12,631.31 \n",
       "  2163.85,631.472 2164.59,631.639 2165.32,631.803 2166.06,631.966 2166.79,632.132 2167.52,632.295 2168.26,632.458 2168.99,632.623 2169.73,632.792 2170.46,632.954 \n",
       "  2171.19,633.122 2171.93,633.287 2172.66,633.45 2173.4,633.617 2174.13,633.78 2174.87,633.941 2175.6,634.108 2176.33,634.281 2177.07,634.447 2177.8,634.613 \n",
       "  2178.54,634.782 2179.27,634.946 2180,635.112 2180.74,635.279 2181.47,635.447 2182.21,635.612 2182.94,635.782 2183.67,635.949 2184.41,636.116 2185.14,636.282 \n",
       "  2185.88,636.451 2186.61,636.619 2187.34,636.788 2188.08,636.954 2188.81,637.123 2189.55,637.286 2190.28,637.46 2191.01,637.628 2191.75,637.797 2192.48,637.965 \n",
       "  2193.22,638.134 2193.95,638.303 2194.69,638.471 2195.42,638.643 2196.15,638.807 2196.89,638.98 2197.62,639.149 2198.36,639.313 2199.09,639.486 2199.82,639.659 \n",
       "  2200.56,639.824 2201.29,639.999 2202.03,640.169 2202.76,640.342 2203.49,640.511 2204.23,640.678 2204.96,640.851 2205.7,641.022 2206.43,641.194 2207.16,641.358 \n",
       "  2207.9,641.538 2208.63,641.707 2209.37,641.88 2210.1,642.048 2210.84,642.22 2211.57,642.393 2212.3,642.566 2213.04,642.733 2213.77,642.906 2214.51,643.079 \n",
       "  2215.24,643.256 2215.97,643.418 2216.71,643.602 2217.44,643.776 2218.18,643.947 2218.91,644.122 2219.64,644.293 2220.38,644.462 2221.11,644.642 2221.85,644.811 \n",
       "  2222.58,644.989 2223.31,645.157 2224.05,645.33 2224.78,645.508 2225.52,645.681 2226.25,645.859 2226.99,646.024 2227.72,646.209 2228.45,646.381 2229.19,646.558 \n",
       "  2229.92,646.732 2230.66,646.907 2231.39,647.081 2232.12,647.258 2232.86,647.433 2233.59,647.609 2234.33,647.783 2235.06,647.959 2235.79,648.135 2236.53,648.311 \n",
       "  2237.26,648.484 2238,648.662 2238.73,648.84 2239.46,649.013 2240.2,649.194 2240.93,649.371 2241.67,649.542 2242.4,649.718 2243.14,649.899 2243.87,650.078 \n",
       "  2244.6,650.25 2245.34,650.433 2246.07,650.612 2246.81,650.788 2247.54,650.965 2248.27,651.142 2249.01,651.324 2249.74,651.501 2250.48,651.679 2251.21,651.854 \n",
       "  2251.94,652.037 2252.68,652.214 2253.41,652.392 2254.15,652.571 2254.88,652.75 2255.61,652.932 2256.35,653.111 2257.08,653.291 2257.82,653.468 2258.55,653.647 \n",
       "  2259.28,653.82 2260.02,654.005 2260.75,654.186 2261.49,654.365 2262.22,654.543 2262.96,654.724 2263.69,654.906 2264.42,655.089 2265.16,655.268 2265.89,655.449 \n",
       "  2266.63,655.633 2267.36,655.815 2268.09,655.985 2268.83,656.176 2269.56,656.361 2270.3,656.536 2271.03,656.721 2271.76,656.901 2272.5,657.082 2273.23,657.271 \n",
       "  2273.97,657.451 2274.7,657.624 2275.43,657.812 2276.17,657.994 2276.9,658.178 2277.64,658.361 2278.37,658.543 2279.11,658.728 2279.84,658.913 2280.57,659.093 \n",
       "  2281.31,659.273 2282.04,659.457 2282.78,659.645 2283.51,659.823 2284.24,660.011 2284.98,660.198 2285.71,660.389 2286.45,660.568 2287.18,660.749 2287.91,660.934 \n",
       "  2288.65,661.114 2289.38,661.296 2290.12,661.49 2290.85,661.672 2291.58,661.843 2292.32,662.041 2293.05,662.229 2293.79,662.415 2294.52,662.599 2295.26,662.783 \n",
       "  2295.99,662.972 2296.72,663.158 2297.46,663.344 2298.19,663.534 2298.93,663.714 2299.66,663.904 2300.39,664.095 2301.13,664.274 2301.86,664.469 2302.6,664.65 \n",
       "  2303.33,664.835 2304.06,665.023 2304.8,665.216 2305.53,665.4 2306.27,665.589 2307,665.775 2307.73,665.966 2308.47,666.142 2309.2,666.344 2309.94,666.523 \n",
       "  2310.67,666.72 2311.4,666.897 2312.14,667.094 2312.87,667.288 2313.61,667.466 2314.34,667.654 2315.08,667.849 2315.81,668.036 2316.54,668.226 2317.28,668.419 \n",
       "  2318.01,668.604 2318.75,668.792 2319.48,668.988 2320.21,669.177 2320.95,669.366 2321.68,669.563 2322.42,669.751 2323.15,669.937 2323.88,670.129 2324.62,670.317 \n",
       "  2325.35,670.515 2326.09,670.515 \n",
       "  \"/>\n",
       "<path clip-path=\"url(#clip400)\" d=\"\n",
       "M1989.74 327.952 L2280.76 327.952 L2280.76 206.992 L1989.74 206.992  Z\n",
       "  \" fill=\"#ffffff\" fill-rule=\"evenodd\" fill-opacity=\"1\"/>\n",
       "<polyline clip-path=\"url(#clip400)\" style=\"stroke:#000000; stroke-width:4; stroke-opacity:1; fill:none\" points=\"\n",
       "  1989.74,327.952 2280.76,327.952 2280.76,206.992 1989.74,206.992 1989.74,327.952 \n",
       "  \"/>\n",
       "<polyline clip-path=\"url(#clip400)\" style=\"stroke:#009af9; stroke-width:4; stroke-opacity:1; fill:none\" points=\"\n",
       "  2013.74,267.472 2157.74,267.472 \n",
       "  \"/>\n",
       "<path clip-path=\"url(#clip400)\" d=\"M 0 0 M2195.58 287.16 Q2193.77 291.789 2192.06 293.201 Q2190.35 294.613 2187.48 294.613 L2184.08 294.613 L2184.08 291.048 L2186.58 291.048 Q2188.33 291.048 2189.31 290.215 Q2190.28 289.382 2191.46 286.28 L2192.22 284.335 L2181.74 258.826 L2186.25 258.826 L2194.35 279.104 L2202.46 258.826 L2206.97 258.826 L2195.58 287.16 Z\" fill=\"#000000\" fill-rule=\"evenodd\" fill-opacity=\"1\" /><path clip-path=\"url(#clip400)\" d=\"M 0 0 M2212.85 280.817 L2220.49 280.817 L2220.49 254.451 L2212.18 256.118 L2212.18 251.859 L2220.44 250.192 L2225.12 250.192 L2225.12 280.817 L2232.76 280.817 L2232.76 284.752 L2212.85 284.752 L2212.85 280.817 Z\" fill=\"#000000\" fill-rule=\"evenodd\" fill-opacity=\"1\" /><path clip-path=\"url(#clip400)\" d=\"\n",
       "M211.575 1486.45 L1152.76 1486.45 L1152.76 923.472 L211.575 923.472  Z\n",
       "  \" fill=\"#ffffff\" fill-rule=\"evenodd\" fill-opacity=\"1\"/>\n",
       "<defs>\n",
       "  <clipPath id=\"clip404\">\n",
       "    <rect x=\"211\" y=\"923\" width=\"942\" height=\"564\"/>\n",
       "  </clipPath>\n",
       "</defs>\n",
       "<polyline clip-path=\"url(#clip404)\" style=\"stroke:#000000; stroke-width:2; stroke-opacity:0.1; fill:none\" points=\"\n",
       "  214.215,1486.45 214.215,923.472 \n",
       "  \"/>\n",
       "<polyline clip-path=\"url(#clip404)\" style=\"stroke:#000000; stroke-width:2; stroke-opacity:0.1; fill:none\" points=\"\n",
       "  454.189,1486.45 454.189,923.472 \n",
       "  \"/>\n",
       "<polyline clip-path=\"url(#clip404)\" style=\"stroke:#000000; stroke-width:2; stroke-opacity:0.1; fill:none\" points=\"\n",
       "  694.164,1486.45 694.164,923.472 \n",
       "  \"/>\n",
       "<polyline clip-path=\"url(#clip404)\" style=\"stroke:#000000; stroke-width:2; stroke-opacity:0.1; fill:none\" points=\"\n",
       "  934.139,1486.45 934.139,923.472 \n",
       "  \"/>\n",
       "<polyline clip-path=\"url(#clip404)\" style=\"stroke:#000000; stroke-width:2; stroke-opacity:0.1; fill:none\" points=\"\n",
       "  211.575,1414.76 1152.76,1414.76 \n",
       "  \"/>\n",
       "<polyline clip-path=\"url(#clip404)\" style=\"stroke:#000000; stroke-width:2; stroke-opacity:0.1; fill:none\" points=\"\n",
       "  211.575,1330.04 1152.76,1330.04 \n",
       "  \"/>\n",
       "<polyline clip-path=\"url(#clip404)\" style=\"stroke:#000000; stroke-width:2; stroke-opacity:0.1; fill:none\" points=\"\n",
       "  211.575,1245.33 1152.76,1245.33 \n",
       "  \"/>\n",
       "<polyline clip-path=\"url(#clip404)\" style=\"stroke:#000000; stroke-width:2; stroke-opacity:0.1; fill:none\" points=\"\n",
       "  211.575,1160.62 1152.76,1160.62 \n",
       "  \"/>\n",
       "<polyline clip-path=\"url(#clip404)\" style=\"stroke:#000000; stroke-width:2; stroke-opacity:0.1; fill:none\" points=\"\n",
       "  211.575,1075.91 1152.76,1075.91 \n",
       "  \"/>\n",
       "<polyline clip-path=\"url(#clip404)\" style=\"stroke:#000000; stroke-width:2; stroke-opacity:0.1; fill:none\" points=\"\n",
       "  211.575,991.193 1152.76,991.193 \n",
       "  \"/>\n",
       "<polyline clip-path=\"url(#clip400)\" style=\"stroke:#000000; stroke-width:4; stroke-opacity:1; fill:none\" points=\"\n",
       "  211.575,1486.45 1152.76,1486.45 \n",
       "  \"/>\n",
       "<polyline clip-path=\"url(#clip400)\" style=\"stroke:#000000; stroke-width:4; stroke-opacity:1; fill:none\" points=\"\n",
       "  211.575,1486.45 211.575,923.472 \n",
       "  \"/>\n",
       "<polyline clip-path=\"url(#clip400)\" style=\"stroke:#000000; stroke-width:4; stroke-opacity:1; fill:none\" points=\"\n",
       "  214.215,1486.45 214.215,1479.69 \n",
       "  \"/>\n",
       "<polyline clip-path=\"url(#clip400)\" style=\"stroke:#000000; stroke-width:4; stroke-opacity:1; fill:none\" points=\"\n",
       "  454.189,1486.45 454.189,1479.69 \n",
       "  \"/>\n",
       "<polyline clip-path=\"url(#clip400)\" style=\"stroke:#000000; stroke-width:4; stroke-opacity:1; fill:none\" points=\"\n",
       "  694.164,1486.45 694.164,1479.69 \n",
       "  \"/>\n",
       "<polyline clip-path=\"url(#clip400)\" style=\"stroke:#000000; stroke-width:4; stroke-opacity:1; fill:none\" points=\"\n",
       "  934.139,1486.45 934.139,1479.69 \n",
       "  \"/>\n",
       "<polyline clip-path=\"url(#clip400)\" style=\"stroke:#000000; stroke-width:4; stroke-opacity:1; fill:none\" points=\"\n",
       "  211.575,1414.76 222.869,1414.76 \n",
       "  \"/>\n",
       "<polyline clip-path=\"url(#clip400)\" style=\"stroke:#000000; stroke-width:4; stroke-opacity:1; fill:none\" points=\"\n",
       "  211.575,1330.04 222.869,1330.04 \n",
       "  \"/>\n",
       "<polyline clip-path=\"url(#clip400)\" style=\"stroke:#000000; stroke-width:4; stroke-opacity:1; fill:none\" points=\"\n",
       "  211.575,1245.33 222.869,1245.33 \n",
       "  \"/>\n",
       "<polyline clip-path=\"url(#clip400)\" style=\"stroke:#000000; stroke-width:4; stroke-opacity:1; fill:none\" points=\"\n",
       "  211.575,1160.62 222.869,1160.62 \n",
       "  \"/>\n",
       "<polyline clip-path=\"url(#clip400)\" style=\"stroke:#000000; stroke-width:4; stroke-opacity:1; fill:none\" points=\"\n",
       "  211.575,1075.91 222.869,1075.91 \n",
       "  \"/>\n",
       "<polyline clip-path=\"url(#clip400)\" style=\"stroke:#000000; stroke-width:4; stroke-opacity:1; fill:none\" points=\"\n",
       "  211.575,991.193 222.869,991.193 \n",
       "  \"/>\n",
       "<path clip-path=\"url(#clip400)\" d=\"M 0 0 M214.215 1508.44 Q210.603 1508.44 208.775 1512 Q206.969 1515.55 206.969 1522.67 Q206.969 1529.78 208.775 1533.35 Q210.603 1536.89 214.215 1536.89 Q217.849 1536.89 219.654 1533.35 Q221.483 1529.78 221.483 1522.67 Q221.483 1515.55 219.654 1512 Q217.849 1508.44 214.215 1508.44 M214.215 1504.73 Q220.025 1504.73 223.08 1509.34 Q226.159 1513.92 226.159 1522.67 Q226.159 1531.4 223.08 1536.01 Q220.025 1540.59 214.215 1540.59 Q208.404 1540.59 205.326 1536.01 Q202.27 1531.4 202.27 1522.67 Q202.27 1513.92 205.326 1509.34 Q208.404 1504.73 214.215 1504.73 Z\" fill=\"#000000\" fill-rule=\"evenodd\" fill-opacity=\"1\" /><path clip-path=\"url(#clip400)\" d=\"M 0 0 M431.064 1535.98 L438.703 1535.98 L438.703 1509.62 L430.393 1511.29 L430.393 1507.03 L438.657 1505.36 L443.333 1505.36 L443.333 1535.98 L450.972 1535.98 L450.972 1539.92 L431.064 1539.92 L431.064 1535.98 Z\" fill=\"#000000\" fill-rule=\"evenodd\" fill-opacity=\"1\" /><path clip-path=\"url(#clip400)\" d=\"M 0 0 M466.041 1508.44 Q462.43 1508.44 460.601 1512 Q458.796 1515.55 458.796 1522.67 Q458.796 1529.78 460.601 1533.35 Q462.43 1536.89 466.041 1536.89 Q469.675 1536.89 471.481 1533.35 Q473.31 1529.78 473.31 1522.67 Q473.31 1515.55 471.481 1512 Q469.675 1508.44 466.041 1508.44 M466.041 1504.73 Q471.851 1504.73 474.907 1509.34 Q477.985 1513.92 477.985 1522.67 Q477.985 1531.4 474.907 1536.01 Q471.851 1540.59 466.041 1540.59 Q460.231 1540.59 457.152 1536.01 Q454.097 1531.4 454.097 1522.67 Q454.097 1513.92 457.152 1509.34 Q460.231 1504.73 466.041 1504.73 Z\" fill=\"#000000\" fill-rule=\"evenodd\" fill-opacity=\"1\" /><path clip-path=\"url(#clip400)\" d=\"M 0 0 M675.31 1535.98 L691.629 1535.98 L691.629 1539.92 L669.685 1539.92 L669.685 1535.98 Q672.347 1533.23 676.93 1528.6 Q681.537 1523.95 682.717 1522.61 Q684.963 1520.08 685.842 1518.35 Q686.745 1516.59 686.745 1514.9 Q686.745 1512.14 684.801 1510.41 Q682.879 1508.67 679.778 1508.67 Q677.579 1508.67 675.125 1509.43 Q672.694 1510.2 669.917 1511.75 L669.917 1507.03 Q672.741 1505.89 675.194 1505.31 Q677.648 1504.73 679.685 1504.73 Q685.055 1504.73 688.25 1507.42 Q691.444 1510.11 691.444 1514.6 Q691.444 1516.73 690.634 1518.65 Q689.847 1520.54 687.741 1523.14 Q687.162 1523.81 684.06 1527.03 Q680.958 1530.22 675.31 1535.98 Z\" fill=\"#000000\" fill-rule=\"evenodd\" fill-opacity=\"1\" /><path clip-path=\"url(#clip400)\" d=\"M 0 0 M706.699 1508.44 Q703.088 1508.44 701.259 1512 Q699.453 1515.55 699.453 1522.67 Q699.453 1529.78 701.259 1533.35 Q703.088 1536.89 706.699 1536.89 Q710.333 1536.89 712.139 1533.35 Q713.967 1529.78 713.967 1522.67 Q713.967 1515.55 712.139 1512 Q710.333 1508.44 706.699 1508.44 M706.699 1504.73 Q712.509 1504.73 715.564 1509.34 Q718.643 1513.92 718.643 1522.67 Q718.643 1531.4 715.564 1536.01 Q712.509 1540.59 706.699 1540.59 Q700.889 1540.59 697.81 1536.01 Q694.754 1531.4 694.754 1522.67 Q694.754 1513.92 697.81 1509.34 Q700.889 1504.73 706.699 1504.73 Z\" fill=\"#000000\" fill-rule=\"evenodd\" fill-opacity=\"1\" /><path clip-path=\"url(#clip400)\" d=\"M 0 0 M924.88 1521.29 Q928.236 1522 930.111 1524.27 Q932.009 1526.54 932.009 1529.87 Q932.009 1534.99 928.491 1537.79 Q924.972 1540.59 918.491 1540.59 Q916.315 1540.59 914 1540.15 Q911.708 1539.73 909.255 1538.88 L909.255 1534.36 Q911.199 1535.5 913.514 1536.08 Q915.829 1536.66 918.352 1536.66 Q922.75 1536.66 925.042 1534.92 Q927.357 1533.18 927.357 1529.87 Q927.357 1526.82 925.204 1525.11 Q923.074 1523.37 919.255 1523.37 L915.227 1523.37 L915.227 1519.53 L919.44 1519.53 Q922.889 1519.53 924.718 1518.16 Q926.546 1516.77 926.546 1514.18 Q926.546 1511.52 924.648 1510.11 Q922.773 1508.67 919.255 1508.67 Q917.333 1508.67 915.134 1509.09 Q912.935 1509.5 910.296 1510.38 L910.296 1506.22 Q912.958 1505.48 915.273 1505.11 Q917.611 1504.73 919.671 1504.73 Q924.995 1504.73 928.097 1507.17 Q931.199 1509.57 931.199 1513.69 Q931.199 1516.56 929.556 1518.55 Q927.912 1520.52 924.88 1521.29 Z\" fill=\"#000000\" fill-rule=\"evenodd\" fill-opacity=\"1\" /><path clip-path=\"url(#clip400)\" d=\"M 0 0 M947.079 1508.44 Q943.468 1508.44 941.639 1512 Q939.833 1515.55 939.833 1522.67 Q939.833 1529.78 941.639 1533.35 Q943.468 1536.89 947.079 1536.89 Q950.713 1536.89 952.518 1533.35 Q954.347 1529.78 954.347 1522.67 Q954.347 1515.55 952.518 1512 Q950.713 1508.44 947.079 1508.44 M947.079 1504.73 Q952.889 1504.73 955.944 1509.34 Q959.023 1513.92 959.023 1522.67 Q959.023 1531.4 955.944 1536.01 Q952.889 1540.59 947.079 1540.59 Q941.268 1540.59 938.19 1536.01 Q935.134 1531.4 935.134 1522.67 Q935.134 1513.92 938.19 1509.34 Q941.268 1504.73 947.079 1504.73 Z\" fill=\"#000000\" fill-rule=\"evenodd\" fill-opacity=\"1\" /><path clip-path=\"url(#clip400)\" d=\"M 0 0 M98.3739 1434.55 L106.013 1434.55 L106.013 1408.18 L97.7026 1409.85 L97.7026 1405.59 L105.966 1403.92 L110.642 1403.92 L110.642 1434.55 L118.281 1434.55 L118.281 1438.48 L98.3739 1438.48 L98.3739 1434.55 Z\" fill=\"#000000\" fill-rule=\"evenodd\" fill-opacity=\"1\" /><path clip-path=\"url(#clip400)\" d=\"M 0 0 M133.351 1407 Q129.739 1407 127.911 1410.57 Q126.105 1414.11 126.105 1421.24 Q126.105 1428.34 127.911 1431.91 Q129.739 1435.45 133.351 1435.45 Q136.985 1435.45 138.79 1431.91 Q140.619 1428.34 140.619 1421.24 Q140.619 1414.11 138.79 1410.57 Q136.985 1407 133.351 1407 M133.351 1403.3 Q139.161 1403.3 142.216 1407.9 Q145.295 1412.49 145.295 1421.24 Q145.295 1429.96 142.216 1434.57 Q139.161 1439.15 133.351 1439.15 Q127.54 1439.15 124.462 1434.57 Q121.406 1429.96 121.406 1421.24 Q121.406 1412.49 124.462 1407.9 Q127.54 1403.3 133.351 1403.3 Z\" fill=\"#000000\" fill-rule=\"evenodd\" fill-opacity=\"1\" /><path clip-path=\"url(#clip400)\" d=\"M 0 0 M145.295 1398.98 L155.432 1398.98 L155.432 1402.06 L145.295 1402.06 L145.295 1398.98 Z\" fill=\"#000000\" fill-rule=\"evenodd\" fill-opacity=\"1\" /><path clip-path=\"url(#clip400)\" d=\"M 0 0 M170.591 1382.99 L185.506 1382.99 L185.506 1386.19 L174.071 1386.19 L174.071 1393.07 Q174.898 1392.79 175.726 1392.66 Q176.553 1392.51 177.381 1392.51 Q182.083 1392.51 184.829 1395.09 Q187.575 1397.66 187.575 1402.06 Q187.575 1406.6 184.754 1409.12 Q181.932 1411.62 176.798 1411.62 Q175.03 1411.62 173.187 1411.32 Q171.362 1411.02 169.406 1410.41 L169.406 1406.6 Q171.099 1407.52 172.905 1407.97 Q174.71 1408.42 176.723 1408.42 Q179.976 1408.42 181.876 1406.71 Q183.776 1405 183.776 1402.06 Q183.776 1399.13 181.876 1397.42 Q179.976 1395.71 176.723 1395.71 Q175.199 1395.71 173.676 1396.05 Q172.171 1396.38 170.591 1397.1 L170.591 1382.99 Z\" fill=\"#000000\" fill-rule=\"evenodd\" fill-opacity=\"1\" /><path clip-path=\"url(#clip400)\" d=\"M 0 0 M96.0793 1349.84 L103.718 1349.84 L103.718 1323.47 L95.408 1325.14 L95.408 1320.88 L103.672 1319.21 L108.348 1319.21 L108.348 1349.84 L115.987 1349.84 L115.987 1353.77 L96.0793 1353.77 L96.0793 1349.84 Z\" fill=\"#000000\" fill-rule=\"evenodd\" fill-opacity=\"1\" /><path clip-path=\"url(#clip400)\" d=\"M 0 0 M131.056 1322.29 Q127.445 1322.29 125.616 1325.85 Q123.811 1329.4 123.811 1336.53 Q123.811 1343.63 125.616 1347.2 Q127.445 1350.74 131.056 1350.74 Q134.69 1350.74 136.496 1347.2 Q138.324 1343.63 138.324 1336.53 Q138.324 1329.4 136.496 1325.85 Q134.69 1322.29 131.056 1322.29 M131.056 1318.59 Q136.866 1318.59 139.922 1323.19 Q143 1327.78 143 1336.53 Q143 1345.25 139.922 1349.86 Q136.866 1354.44 131.056 1354.44 Q125.246 1354.44 122.167 1349.86 Q119.112 1345.25 119.112 1336.53 Q119.112 1327.78 122.167 1323.19 Q125.246 1318.59 131.056 1318.59 Z\" fill=\"#000000\" fill-rule=\"evenodd\" fill-opacity=\"1\" /><path clip-path=\"url(#clip400)\" d=\"M 0 0 M143 1314.27 L153.138 1314.27 L153.138 1317.35 L143 1317.35 L143 1314.27 Z\" fill=\"#000000\" fill-rule=\"evenodd\" fill-opacity=\"1\" /><path clip-path=\"url(#clip400)\" d=\"M 0 0 M179.788 1301.59 L170.196 1316.58 L179.788 1316.58 L179.788 1301.59 M178.792 1298.28 L183.569 1298.28 L183.569 1316.58 L187.575 1316.58 L187.575 1319.74 L183.569 1319.74 L183.569 1326.36 L179.788 1326.36 L179.788 1319.74 L167.112 1319.74 L167.112 1316.07 L178.792 1298.28 Z\" fill=\"#000000\" fill-rule=\"evenodd\" fill-opacity=\"1\" /><path clip-path=\"url(#clip400)\" d=\"M 0 0 M98.0541 1265.12 L105.693 1265.12 L105.693 1238.76 L97.3829 1240.42 L97.3829 1236.16 L105.647 1234.5 L110.323 1234.5 L110.323 1265.12 L117.961 1265.12 L117.961 1269.06 L98.0541 1269.06 L98.0541 1265.12 Z\" fill=\"#000000\" fill-rule=\"evenodd\" fill-opacity=\"1\" /><path clip-path=\"url(#clip400)\" d=\"M 0 0 M133.031 1237.58 Q129.42 1237.58 127.591 1241.14 Q125.785 1244.68 125.785 1251.81 Q125.785 1258.92 127.591 1262.48 Q129.42 1266.03 133.031 1266.03 Q136.665 1266.03 138.471 1262.48 Q140.299 1258.92 140.299 1251.81 Q140.299 1244.68 138.471 1241.14 Q136.665 1237.58 133.031 1237.58 M133.031 1233.87 Q138.841 1233.87 141.897 1238.48 Q144.975 1243.06 144.975 1251.81 Q144.975 1260.54 141.897 1265.15 Q138.841 1269.73 133.031 1269.73 Q127.221 1269.73 124.142 1265.15 Q121.086 1260.54 121.086 1251.81 Q121.086 1243.06 124.142 1238.48 Q127.221 1233.87 133.031 1233.87 Z\" fill=\"#000000\" fill-rule=\"evenodd\" fill-opacity=\"1\" /><path clip-path=\"url(#clip400)\" d=\"M 0 0 M144.975 1229.55 L155.113 1229.55 L155.113 1232.64 L144.975 1232.64 L144.975 1229.55 Z\" fill=\"#000000\" fill-rule=\"evenodd\" fill-opacity=\"1\" /><path clip-path=\"url(#clip400)\" d=\"M 0 0 M181.782 1226.51 Q184.509 1227.09 186.033 1228.93 Q187.575 1230.78 187.575 1233.48 Q187.575 1237.64 184.716 1239.92 Q181.857 1242.19 176.591 1242.19 Q174.823 1242.19 172.942 1241.84 Q171.08 1241.5 169.087 1240.8 L169.087 1237.13 Q170.667 1238.06 172.547 1238.53 Q174.428 1239 176.478 1239 Q180.052 1239 181.914 1237.59 Q183.794 1236.17 183.794 1233.48 Q183.794 1231 182.045 1229.61 Q180.315 1228.2 177.212 1228.2 L173.939 1228.2 L173.939 1225.08 L177.362 1225.08 Q180.165 1225.08 181.65 1223.97 Q183.136 1222.84 183.136 1220.73 Q183.136 1218.57 181.594 1217.42 Q180.07 1216.26 177.212 1216.26 Q175.651 1216.26 173.864 1216.6 Q172.077 1216.93 169.933 1217.65 L169.933 1214.26 Q172.096 1213.66 173.977 1213.36 Q175.876 1213.06 177.55 1213.06 Q181.876 1213.06 184.396 1215.03 Q186.917 1216.99 186.917 1220.34 Q186.917 1222.67 185.581 1224.29 Q184.246 1225.89 181.782 1226.51 Z\" fill=\"#000000\" fill-rule=\"evenodd\" fill-opacity=\"1\" /><path clip-path=\"url(#clip400)\" d=\"M 0 0 M98.7124 1180.41 L106.351 1180.41 L106.351 1154.04 L98.0411 1155.71 L98.0411 1151.45 L106.305 1149.79 L110.981 1149.79 L110.981 1180.41 L118.62 1180.41 L118.62 1184.35 L98.7124 1184.35 L98.7124 1180.41 Z\" fill=\"#000000\" fill-rule=\"evenodd\" fill-opacity=\"1\" /><path clip-path=\"url(#clip400)\" d=\"M 0 0 M133.689 1152.86 Q130.078 1152.86 128.249 1156.43 Q126.444 1159.97 126.444 1167.1 Q126.444 1174.21 128.249 1177.77 Q130.078 1181.31 133.689 1181.31 Q137.323 1181.31 139.129 1177.77 Q140.958 1174.21 140.958 1167.1 Q140.958 1159.97 139.129 1156.43 Q137.323 1152.86 133.689 1152.86 M133.689 1149.16 Q139.499 1149.16 142.555 1153.77 Q145.633 1158.35 145.633 1167.1 Q145.633 1175.83 142.555 1180.43 Q139.499 1185.02 133.689 1185.02 Q127.879 1185.02 124.8 1180.43 Q121.745 1175.83 121.745 1167.1 Q121.745 1158.35 124.8 1153.77 Q127.879 1149.16 133.689 1149.16 Z\" fill=\"#000000\" fill-rule=\"evenodd\" fill-opacity=\"1\" /><path clip-path=\"url(#clip400)\" d=\"M 0 0 M145.633 1144.84 L155.771 1144.84 L155.771 1147.93 L145.633 1147.93 L145.633 1144.84 Z\" fill=\"#000000\" fill-rule=\"evenodd\" fill-opacity=\"1\" /><path clip-path=\"url(#clip400)\" d=\"M 0 0 M174.315 1153.74 L187.575 1153.74 L187.575 1156.93 L169.745 1156.93 L169.745 1153.74 Q171.908 1151.5 175.632 1147.74 Q179.375 1143.96 180.334 1142.87 Q182.158 1140.82 182.873 1139.41 Q183.606 1137.98 183.606 1136.6 Q183.606 1134.37 182.026 1132.96 Q180.465 1131.54 177.945 1131.54 Q176.158 1131.54 174.165 1132.17 Q172.19 1132.79 169.933 1134.05 L169.933 1130.21 Q172.228 1129.29 174.221 1128.82 Q176.215 1128.35 177.87 1128.35 Q182.233 1128.35 184.829 1130.53 Q187.424 1132.71 187.424 1136.36 Q187.424 1138.09 186.766 1139.65 Q186.127 1141.19 184.415 1143.3 Q183.945 1143.84 181.425 1146.46 Q178.904 1149.05 174.315 1153.74 Z\" fill=\"#000000\" fill-rule=\"evenodd\" fill-opacity=\"1\" /><path clip-path=\"url(#clip400)\" d=\"M 0 0 M99.8221 1095.7 L107.461 1095.7 L107.461 1069.33 L99.1508 1071 L99.1508 1066.74 L107.415 1065.07 L112.091 1065.07 L112.091 1095.7 L119.729 1095.7 L119.729 1099.63 L99.8221 1099.63 L99.8221 1095.7 Z\" fill=\"#000000\" fill-rule=\"evenodd\" fill-opacity=\"1\" /><path clip-path=\"url(#clip400)\" d=\"M 0 0 M134.799 1068.15 Q131.188 1068.15 129.359 1071.72 Q127.553 1075.26 127.553 1082.39 Q127.553 1089.49 129.359 1093.06 Q131.188 1096.6 134.799 1096.6 Q138.433 1096.6 140.239 1093.06 Q142.067 1089.49 142.067 1082.39 Q142.067 1075.26 140.239 1071.72 Q138.433 1068.15 134.799 1068.15 M134.799 1064.45 Q140.609 1064.45 143.664 1069.05 Q146.743 1073.64 146.743 1082.39 Q146.743 1091.11 143.664 1095.72 Q140.609 1100.3 134.799 1100.3 Q128.989 1100.3 125.91 1095.72 Q122.854 1091.11 122.854 1082.39 Q122.854 1073.64 125.91 1069.05 Q128.989 1064.45 134.799 1064.45 Z\" fill=\"#000000\" fill-rule=\"evenodd\" fill-opacity=\"1\" /><path clip-path=\"url(#clip400)\" d=\"M 0 0 M146.743 1060.13 L156.881 1060.13 L156.881 1063.21 L146.743 1063.21 L146.743 1060.13 Z\" fill=\"#000000\" fill-rule=\"evenodd\" fill-opacity=\"1\" /><path clip-path=\"url(#clip400)\" d=\"M 0 0 M171.4 1069.03 L177.607 1069.03 L177.607 1047.6 L170.855 1048.96 L170.855 1045.5 L177.569 1044.14 L181.368 1044.14 L181.368 1069.03 L187.575 1069.03 L187.575 1072.22 L171.4 1072.22 L171.4 1069.03 Z\" fill=\"#000000\" fill-rule=\"evenodd\" fill-opacity=\"1\" /><path clip-path=\"url(#clip400)\" d=\"M 0 0 M121.244 1010.99 L128.883 1010.99 L128.883 984.62 L120.573 986.286 L120.573 982.027 L128.837 980.36 L133.513 980.36 L133.513 1010.99 L141.151 1010.99 L141.151 1014.92 L121.244 1014.92 L121.244 1010.99 Z\" fill=\"#000000\" fill-rule=\"evenodd\" fill-opacity=\"1\" /><path clip-path=\"url(#clip400)\" d=\"M 0 0 M156.221 983.439 Q152.61 983.439 150.781 987.004 Q148.975 990.545 148.975 997.675 Q148.975 1004.78 150.781 1008.35 Q152.61 1011.89 156.221 1011.89 Q159.855 1011.89 161.661 1008.35 Q163.489 1004.78 163.489 997.675 Q163.489 990.545 161.661 987.004 Q159.855 983.439 156.221 983.439 M156.221 979.735 Q162.031 979.735 165.086 984.342 Q168.165 988.925 168.165 997.675 Q168.165 1006.4 165.086 1011.01 Q162.031 1015.59 156.221 1015.59 Q150.411 1015.59 147.332 1011.01 Q144.276 1006.4 144.276 997.675 Q144.276 988.925 147.332 984.342 Q150.411 979.735 156.221 979.735 Z\" fill=\"#000000\" fill-rule=\"evenodd\" fill-opacity=\"1\" /><path clip-path=\"url(#clip400)\" d=\"M 0 0 M177.87 961.931 Q174.936 961.931 173.45 964.828 Q171.983 967.705 171.983 973.498 Q171.983 979.272 173.45 982.169 Q174.936 985.046 177.87 985.046 Q180.823 985.046 182.29 982.169 Q183.776 979.272 183.776 973.498 Q183.776 967.705 182.29 964.828 Q180.823 961.931 177.87 961.931 M177.87 958.922 Q182.591 958.922 185.073 962.665 Q187.575 966.389 187.575 973.498 Q187.575 980.589 185.073 984.331 Q182.591 988.055 177.87 988.055 Q173.149 988.055 170.648 984.331 Q168.165 980.589 168.165 973.498 Q168.165 966.389 170.648 962.665 Q173.149 958.922 177.87 958.922 Z\" fill=\"#000000\" fill-rule=\"evenodd\" fill-opacity=\"1\" /><path clip-path=\"url(#clip400)\" d=\"M 0 0 M511.217 812.096 L523.41 812.096 L538.844 853.253 L554.359 812.096 L566.553 812.096 L566.553 872.576 L558.572 872.576 L558.572 819.469 L542.976 860.95 L534.753 860.95 L519.157 819.469 L519.157 872.576 L511.217 872.576 L511.217 812.096 Z\" fill=\"#000000\" fill-rule=\"evenodd\" fill-opacity=\"1\" /><path clip-path=\"url(#clip400)\" d=\"M 0 0 M613.178 848.028 L613.178 851.673 L578.908 851.673 Q579.394 859.37 583.526 863.421 Q587.698 867.431 595.111 867.431 Q599.405 867.431 603.416 866.378 Q607.467 865.325 611.437 863.218 L611.437 870.267 Q607.426 871.968 603.213 872.86 Q599 873.751 594.666 873.751 Q583.809 873.751 577.449 867.431 Q571.13 861.112 571.13 850.337 Q571.13 839.197 577.125 832.675 Q583.161 826.112 593.37 826.112 Q602.525 826.112 607.831 832.026 Q613.178 837.9 613.178 848.028 M605.725 845.84 Q605.644 839.723 602.282 836.077 Q598.96 832.432 593.451 832.432 Q587.212 832.432 583.445 835.956 Q579.718 839.48 579.151 845.881 L605.725 845.84 Z\" fill=\"#000000\" fill-rule=\"evenodd\" fill-opacity=\"1\" /><path clip-path=\"url(#clip400)\" d=\"M 0 0 M628.369 814.324 L628.369 827.206 L643.722 827.206 L643.722 832.999 L628.369 832.999 L628.369 857.628 Q628.369 863.178 629.868 864.758 Q631.408 866.338 636.066 866.338 L643.722 866.338 L643.722 872.576 L636.066 872.576 Q627.438 872.576 624.156 869.376 Q620.875 866.135 620.875 857.628 L620.875 832.999 L615.406 832.999 L615.406 827.206 L620.875 827.206 L620.875 814.324 L628.369 814.324 Z\" fill=\"#000000\" fill-rule=\"evenodd\" fill-opacity=\"1\" /><path clip-path=\"url(#clip400)\" d=\"M 0 0 M689.254 845.192 L689.254 872.576 L681.801 872.576 L681.801 845.435 Q681.801 838.994 679.289 835.794 Q676.778 832.594 671.755 832.594 Q665.719 832.594 662.235 836.442 Q658.751 840.29 658.751 846.934 L658.751 872.576 L651.257 872.576 L651.257 809.544 L658.751 809.544 L658.751 834.254 Q661.425 830.163 665.03 828.138 Q668.676 826.112 673.415 826.112 Q681.234 826.112 685.244 830.973 Q689.254 835.794 689.254 845.192 Z\" fill=\"#000000\" fill-rule=\"evenodd\" fill-opacity=\"1\" /><path clip-path=\"url(#clip400)\" d=\"M 0 0 M714.654 832.432 Q708.658 832.432 705.174 837.131 Q701.691 841.789 701.691 849.931 Q701.691 858.074 705.134 862.773 Q708.618 867.431 714.654 867.431 Q720.608 867.431 724.092 862.732 Q727.576 858.033 727.576 849.931 Q727.576 841.87 724.092 837.171 Q720.608 832.432 714.654 832.432 M714.654 826.112 Q724.376 826.112 729.926 832.432 Q735.475 838.751 735.475 849.931 Q735.475 861.071 729.926 867.431 Q724.376 873.751 714.654 873.751 Q704.891 873.751 699.341 867.431 Q693.832 861.071 693.832 849.931 Q693.832 838.751 699.341 832.432 Q704.891 826.112 714.654 826.112 Z\" fill=\"#000000\" fill-rule=\"evenodd\" fill-opacity=\"1\" /><path clip-path=\"url(#clip400)\" d=\"M 0 0 M773.149 834.092 L773.149 809.544 L780.602 809.544 L780.602 872.576 L773.149 872.576 L773.149 865.77 Q770.799 869.821 767.194 871.806 Q763.629 873.751 758.606 873.751 Q750.383 873.751 745.197 867.188 Q740.053 860.626 740.053 849.931 Q740.053 839.237 745.197 832.675 Q750.383 826.112 758.606 826.112 Q763.629 826.112 767.194 828.097 Q770.799 830.042 773.149 834.092 M747.749 849.931 Q747.749 858.155 751.112 862.854 Q754.514 867.512 760.429 867.512 Q766.343 867.512 769.746 862.854 Q773.149 858.155 773.149 849.931 Q773.149 841.708 769.746 837.05 Q766.343 832.351 760.429 832.351 Q754.514 832.351 751.112 837.05 Q747.749 841.708 747.749 849.931 Z\" fill=\"#000000\" fill-rule=\"evenodd\" fill-opacity=\"1\" /><path clip-path=\"url(#clip400)\" d=\"M 0 0 M840.637 839.966 Q846.511 841.222 849.792 845.192 Q853.114 849.162 853.114 854.995 Q853.114 863.948 846.956 868.849 Q840.799 873.751 829.456 873.751 Q825.648 873.751 821.597 872.981 Q817.587 872.252 813.293 870.753 L813.293 862.854 Q816.696 864.839 820.747 865.851 Q824.798 866.864 829.213 866.864 Q836.91 866.864 840.92 863.826 Q844.971 860.788 844.971 854.995 Q844.971 849.648 841.204 846.65 Q837.477 843.612 830.793 843.612 L823.744 843.612 L823.744 836.888 L831.117 836.888 Q837.153 836.888 840.353 834.498 Q843.553 832.067 843.553 827.53 Q843.553 822.871 840.232 820.4 Q836.95 817.889 830.793 817.889 Q827.431 817.889 823.582 818.618 Q819.734 819.347 815.116 820.886 L815.116 813.595 Q819.775 812.299 823.825 811.65 Q827.917 811.002 831.522 811.002 Q840.839 811.002 846.267 815.256 Q851.696 819.469 851.696 826.679 Q851.696 831.702 848.82 835.186 Q845.943 838.629 840.637 839.966 Z\" fill=\"#000000\" fill-rule=\"evenodd\" fill-opacity=\"1\" /><polyline clip-path=\"url(#clip404)\" style=\"stroke:#009af9; stroke-width:4; stroke-opacity:1; fill:none\" points=\"\n",
       "  238.212,939.405 262.209,985.704 286.207,1040.32 310.204,1001 334.202,977.681 358.199,974.673 382.197,984.409 406.194,1004.7 430.192,1031.87 454.189,1042.37 \n",
       "  478.187,1042.37 502.184,1024.6 526.182,1041.64 550.179,1046.9 574.177,1107.63 598.174,1256.13 622.172,1257.34 646.169,1257.38 670.167,1257.41 694.164,1257.41 \n",
       "  718.162,1257.41 742.159,1257.42 766.157,1257.99 790.154,1258.1 814.151,1262.28 838.149,1335.15 862.146,1364.15 886.144,1365.7 910.141,1365.81 934.139,1367.85 \n",
       "  958.136,1450.92 982.134,1469.95 1006.13,1470.16 1030.13,1470.35 1054.13,1470.42 1078.12,1470.51 1102.12,1470.51 1126.12,1470.51 \n",
       "  \"/>\n",
       "<path clip-path=\"url(#clip400)\" d=\"\n",
       "M789.738 1127.95 L1080.76 1127.95 L1080.76 1006.99 L789.738 1006.99  Z\n",
       "  \" fill=\"#ffffff\" fill-rule=\"evenodd\" fill-opacity=\"1\"/>\n",
       "<polyline clip-path=\"url(#clip400)\" style=\"stroke:#000000; stroke-width:4; stroke-opacity:1; fill:none\" points=\"\n",
       "  789.738,1127.95 1080.76,1127.95 1080.76,1006.99 789.738,1006.99 789.738,1127.95 \n",
       "  \"/>\n",
       "<polyline clip-path=\"url(#clip400)\" style=\"stroke:#009af9; stroke-width:4; stroke-opacity:1; fill:none\" points=\"\n",
       "  813.738,1067.47 957.738,1067.47 \n",
       "  \"/>\n",
       "<path clip-path=\"url(#clip400)\" d=\"M 0 0 M995.58 1087.16 Q993.775 1091.79 992.062 1093.2 Q990.349 1094.61 987.478 1094.61 L984.076 1094.61 L984.076 1091.05 L986.576 1091.05 Q988.335 1091.05 989.307 1090.22 Q990.279 1089.38 991.46 1086.28 L992.224 1084.34 L981.738 1058.83 L986.252 1058.83 L994.353 1079.1 L1002.46 1058.83 L1006.97 1058.83 L995.58 1087.16 Z\" fill=\"#000000\" fill-rule=\"evenodd\" fill-opacity=\"1\" /><path clip-path=\"url(#clip400)\" d=\"M 0 0 M1012.85 1080.82 L1020.49 1080.82 L1020.49 1054.45 L1012.18 1056.12 L1012.18 1051.86 L1020.44 1050.19 L1025.12 1050.19 L1025.12 1080.82 L1032.76 1080.82 L1032.76 1084.75 L1012.85 1084.75 L1012.85 1080.82 Z\" fill=\"#000000\" fill-rule=\"evenodd\" fill-opacity=\"1\" /><path clip-path=\"url(#clip400)\" d=\"\n",
       "M1411.57 1486.45 L2352.76 1486.45 L2352.76 923.472 L1411.57 923.472  Z\n",
       "  \" fill=\"#ffffff\" fill-rule=\"evenodd\" fill-opacity=\"1\"/>\n",
       "<defs>\n",
       "  <clipPath id=\"clip405\">\n",
       "    <rect x=\"1411\" y=\"923\" width=\"942\" height=\"564\"/>\n",
       "  </clipPath>\n",
       "</defs>\n",
       "<polyline clip-path=\"url(#clip405)\" style=\"stroke:#000000; stroke-width:2; stroke-opacity:0.1; fill:none\" points=\"\n",
       "  1436.85,1486.45 1436.85,923.472 \n",
       "  \"/>\n",
       "<polyline clip-path=\"url(#clip405)\" style=\"stroke:#000000; stroke-width:2; stroke-opacity:0.1; fill:none\" points=\"\n",
       "  1573.24,1486.45 1573.24,923.472 \n",
       "  \"/>\n",
       "<polyline clip-path=\"url(#clip405)\" style=\"stroke:#000000; stroke-width:2; stroke-opacity:0.1; fill:none\" points=\"\n",
       "  1709.63,1486.45 1709.63,923.472 \n",
       "  \"/>\n",
       "<polyline clip-path=\"url(#clip405)\" style=\"stroke:#000000; stroke-width:2; stroke-opacity:0.1; fill:none\" points=\"\n",
       "  1846.02,1486.45 1846.02,923.472 \n",
       "  \"/>\n",
       "<polyline clip-path=\"url(#clip405)\" style=\"stroke:#000000; stroke-width:2; stroke-opacity:0.1; fill:none\" points=\"\n",
       "  1982.41,1486.45 1982.41,923.472 \n",
       "  \"/>\n",
       "<polyline clip-path=\"url(#clip405)\" style=\"stroke:#000000; stroke-width:2; stroke-opacity:0.1; fill:none\" points=\"\n",
       "  2118.8,1486.45 2118.8,923.472 \n",
       "  \"/>\n",
       "<polyline clip-path=\"url(#clip405)\" style=\"stroke:#000000; stroke-width:2; stroke-opacity:0.1; fill:none\" points=\"\n",
       "  2255.2,1486.45 2255.2,923.472 \n",
       "  \"/>\n",
       "<polyline clip-path=\"url(#clip405)\" style=\"stroke:#000000; stroke-width:2; stroke-opacity:0.1; fill:none\" points=\"\n",
       "  1411.57,1415.7 2352.76,1415.7 \n",
       "  \"/>\n",
       "<polyline clip-path=\"url(#clip405)\" style=\"stroke:#000000; stroke-width:2; stroke-opacity:0.1; fill:none\" points=\"\n",
       "  1411.57,1330.82 2352.76,1330.82 \n",
       "  \"/>\n",
       "<polyline clip-path=\"url(#clip405)\" style=\"stroke:#000000; stroke-width:2; stroke-opacity:0.1; fill:none\" points=\"\n",
       "  1411.57,1245.94 2352.76,1245.94 \n",
       "  \"/>\n",
       "<polyline clip-path=\"url(#clip405)\" style=\"stroke:#000000; stroke-width:2; stroke-opacity:0.1; fill:none\" points=\"\n",
       "  1411.57,1161.06 2352.76,1161.06 \n",
       "  \"/>\n",
       "<polyline clip-path=\"url(#clip405)\" style=\"stroke:#000000; stroke-width:2; stroke-opacity:0.1; fill:none\" points=\"\n",
       "  1411.57,1076.18 2352.76,1076.18 \n",
       "  \"/>\n",
       "<polyline clip-path=\"url(#clip405)\" style=\"stroke:#000000; stroke-width:2; stroke-opacity:0.1; fill:none\" points=\"\n",
       "  1411.57,991.296 2352.76,991.296 \n",
       "  \"/>\n",
       "<polyline clip-path=\"url(#clip400)\" style=\"stroke:#000000; stroke-width:4; stroke-opacity:1; fill:none\" points=\"\n",
       "  1411.57,1486.45 2352.76,1486.45 \n",
       "  \"/>\n",
       "<polyline clip-path=\"url(#clip400)\" style=\"stroke:#000000; stroke-width:4; stroke-opacity:1; fill:none\" points=\"\n",
       "  1411.57,1486.45 1411.57,923.472 \n",
       "  \"/>\n",
       "<polyline clip-path=\"url(#clip400)\" style=\"stroke:#000000; stroke-width:4; stroke-opacity:1; fill:none\" points=\"\n",
       "  1436.85,1486.45 1436.85,1479.69 \n",
       "  \"/>\n",
       "<polyline clip-path=\"url(#clip400)\" style=\"stroke:#000000; stroke-width:4; stroke-opacity:1; fill:none\" points=\"\n",
       "  1573.24,1486.45 1573.24,1479.69 \n",
       "  \"/>\n",
       "<polyline clip-path=\"url(#clip400)\" style=\"stroke:#000000; stroke-width:4; stroke-opacity:1; fill:none\" points=\"\n",
       "  1709.63,1486.45 1709.63,1479.69 \n",
       "  \"/>\n",
       "<polyline clip-path=\"url(#clip400)\" style=\"stroke:#000000; stroke-width:4; stroke-opacity:1; fill:none\" points=\"\n",
       "  1846.02,1486.45 1846.02,1479.69 \n",
       "  \"/>\n",
       "<polyline clip-path=\"url(#clip400)\" style=\"stroke:#000000; stroke-width:4; stroke-opacity:1; fill:none\" points=\"\n",
       "  1982.41,1486.45 1982.41,1479.69 \n",
       "  \"/>\n",
       "<polyline clip-path=\"url(#clip400)\" style=\"stroke:#000000; stroke-width:4; stroke-opacity:1; fill:none\" points=\"\n",
       "  2118.8,1486.45 2118.8,1479.69 \n",
       "  \"/>\n",
       "<polyline clip-path=\"url(#clip400)\" style=\"stroke:#000000; stroke-width:4; stroke-opacity:1; fill:none\" points=\"\n",
       "  2255.2,1486.45 2255.2,1479.69 \n",
       "  \"/>\n",
       "<polyline clip-path=\"url(#clip400)\" style=\"stroke:#000000; stroke-width:4; stroke-opacity:1; fill:none\" points=\"\n",
       "  1411.57,1415.7 1422.87,1415.7 \n",
       "  \"/>\n",
       "<polyline clip-path=\"url(#clip400)\" style=\"stroke:#000000; stroke-width:4; stroke-opacity:1; fill:none\" points=\"\n",
       "  1411.57,1330.82 1422.87,1330.82 \n",
       "  \"/>\n",
       "<polyline clip-path=\"url(#clip400)\" style=\"stroke:#000000; stroke-width:4; stroke-opacity:1; fill:none\" points=\"\n",
       "  1411.57,1245.94 1422.87,1245.94 \n",
       "  \"/>\n",
       "<polyline clip-path=\"url(#clip400)\" style=\"stroke:#000000; stroke-width:4; stroke-opacity:1; fill:none\" points=\"\n",
       "  1411.57,1161.06 1422.87,1161.06 \n",
       "  \"/>\n",
       "<polyline clip-path=\"url(#clip400)\" style=\"stroke:#000000; stroke-width:4; stroke-opacity:1; fill:none\" points=\"\n",
       "  1411.57,1076.18 1422.87,1076.18 \n",
       "  \"/>\n",
       "<polyline clip-path=\"url(#clip400)\" style=\"stroke:#000000; stroke-width:4; stroke-opacity:1; fill:none\" points=\"\n",
       "  1411.57,991.296 1422.87,991.296 \n",
       "  \"/>\n",
       "<path clip-path=\"url(#clip400)\" d=\"M 0 0 M1436.85 1508.44 Q1433.24 1508.44 1431.41 1512 Q1429.6 1515.55 1429.6 1522.67 Q1429.6 1529.78 1431.41 1533.35 Q1433.24 1536.89 1436.85 1536.89 Q1440.48 1536.89 1442.29 1533.35 Q1444.12 1529.78 1444.12 1522.67 Q1444.12 1515.55 1442.29 1512 Q1440.48 1508.44 1436.85 1508.44 M1436.85 1504.73 Q1442.66 1504.73 1445.71 1509.34 Q1448.79 1513.92 1448.79 1522.67 Q1448.79 1531.4 1445.71 1536.01 Q1442.66 1540.59 1436.85 1540.59 Q1431.04 1540.59 1427.96 1536.01 Q1424.9 1531.4 1424.9 1522.67 Q1424.9 1513.92 1427.96 1509.34 Q1431.04 1504.73 1436.85 1504.73 Z\" fill=\"#000000\" fill-rule=\"evenodd\" fill-opacity=\"1\" /><path clip-path=\"url(#clip400)\" d=\"M 0 0 M1536.61 1535.98 L1544.25 1535.98 L1544.25 1509.62 L1535.94 1511.29 L1535.94 1507.03 L1544.2 1505.36 L1548.88 1505.36 L1548.88 1535.98 L1556.51 1535.98 L1556.51 1539.92 L1536.61 1539.92 L1536.61 1535.98 Z\" fill=\"#000000\" fill-rule=\"evenodd\" fill-opacity=\"1\" /><path clip-path=\"url(#clip400)\" d=\"M 0 0 M1571.58 1508.44 Q1567.97 1508.44 1566.14 1512 Q1564.34 1515.55 1564.34 1522.67 Q1564.34 1529.78 1566.14 1533.35 Q1567.97 1536.89 1571.58 1536.89 Q1575.22 1536.89 1577.02 1533.35 Q1578.85 1529.78 1578.85 1522.67 Q1578.85 1515.55 1577.02 1512 Q1575.22 1508.44 1571.58 1508.44 M1571.58 1504.73 Q1577.39 1504.73 1580.45 1509.34 Q1583.53 1513.92 1583.53 1522.67 Q1583.53 1531.4 1580.45 1536.01 Q1577.39 1540.59 1571.58 1540.59 Q1565.77 1540.59 1562.7 1536.01 Q1559.64 1531.4 1559.64 1522.67 Q1559.64 1513.92 1562.7 1509.34 Q1565.77 1504.73 1571.58 1504.73 Z\" fill=\"#000000\" fill-rule=\"evenodd\" fill-opacity=\"1\" /><path clip-path=\"url(#clip400)\" d=\"M 0 0 M1598.6 1508.44 Q1594.99 1508.44 1593.16 1512 Q1591.35 1515.55 1591.35 1522.67 Q1591.35 1529.78 1593.16 1533.35 Q1594.99 1536.89 1598.6 1536.89 Q1602.23 1536.89 1604.04 1533.35 Q1605.87 1529.78 1605.87 1522.67 Q1605.87 1515.55 1604.04 1512 Q1602.23 1508.44 1598.6 1508.44 M1598.6 1504.73 Q1604.41 1504.73 1607.46 1509.34 Q1610.54 1513.92 1610.54 1522.67 Q1610.54 1531.4 1607.46 1536.01 Q1604.41 1540.59 1598.6 1540.59 Q1592.79 1540.59 1589.71 1536.01 Q1586.65 1531.4 1586.65 1522.67 Q1586.65 1513.92 1589.71 1509.34 Q1592.79 1504.73 1598.6 1504.73 Z\" fill=\"#000000\" fill-rule=\"evenodd\" fill-opacity=\"1\" /><path clip-path=\"url(#clip400)\" d=\"M 0 0 M1677.27 1535.98 L1693.59 1535.98 L1693.59 1539.92 L1671.64 1539.92 L1671.64 1535.98 Q1674.31 1533.23 1678.89 1528.6 Q1683.5 1523.95 1684.68 1522.61 Q1686.92 1520.08 1687.8 1518.35 Q1688.7 1516.59 1688.7 1514.9 Q1688.7 1512.14 1686.76 1510.41 Q1684.84 1508.67 1681.74 1508.67 Q1679.54 1508.67 1677.08 1509.43 Q1674.65 1510.2 1671.88 1511.75 L1671.88 1507.03 Q1674.7 1505.89 1677.15 1505.31 Q1679.61 1504.73 1681.64 1504.73 Q1687.01 1504.73 1690.21 1507.42 Q1693.4 1510.11 1693.4 1514.6 Q1693.4 1516.73 1692.59 1518.65 Q1691.81 1520.54 1689.7 1523.14 Q1689.12 1523.81 1686.02 1527.03 Q1682.92 1530.22 1677.27 1535.98 Z\" fill=\"#000000\" fill-rule=\"evenodd\" fill-opacity=\"1\" /><path clip-path=\"url(#clip400)\" d=\"M 0 0 M1708.66 1508.44 Q1705.05 1508.44 1703.22 1512 Q1701.41 1515.55 1701.41 1522.67 Q1701.41 1529.78 1703.22 1533.35 Q1705.05 1536.89 1708.66 1536.89 Q1712.29 1536.89 1714.1 1533.35 Q1715.93 1529.78 1715.93 1522.67 Q1715.93 1515.55 1714.1 1512 Q1712.29 1508.44 1708.66 1508.44 M1708.66 1504.73 Q1714.47 1504.73 1717.52 1509.34 Q1720.6 1513.92 1720.6 1522.67 Q1720.6 1531.4 1717.52 1536.01 Q1714.47 1540.59 1708.66 1540.59 Q1702.85 1540.59 1699.77 1536.01 Q1696.71 1531.4 1696.71 1522.67 Q1696.71 1513.92 1699.77 1509.34 Q1702.85 1504.73 1708.66 1504.73 Z\" fill=\"#000000\" fill-rule=\"evenodd\" fill-opacity=\"1\" /><path clip-path=\"url(#clip400)\" d=\"M 0 0 M1735.67 1508.44 Q1732.06 1508.44 1730.23 1512 Q1728.43 1515.55 1728.43 1522.67 Q1728.43 1529.78 1730.23 1533.35 Q1732.06 1536.89 1735.67 1536.89 Q1739.31 1536.89 1741.11 1533.35 Q1742.94 1529.78 1742.94 1522.67 Q1742.94 1515.55 1741.11 1512 Q1739.31 1508.44 1735.67 1508.44 M1735.67 1504.73 Q1741.48 1504.73 1744.54 1509.34 Q1747.62 1513.92 1747.62 1522.67 Q1747.62 1531.4 1744.54 1536.01 Q1741.48 1540.59 1735.67 1540.59 Q1729.86 1540.59 1726.78 1536.01 Q1723.73 1531.4 1723.73 1522.67 Q1723.73 1513.92 1726.78 1509.34 Q1729.86 1504.73 1735.67 1504.73 Z\" fill=\"#000000\" fill-rule=\"evenodd\" fill-opacity=\"1\" /><path clip-path=\"url(#clip400)\" d=\"M 0 0 M1823.26 1521.29 Q1826.61 1522 1828.49 1524.27 Q1830.39 1526.54 1830.39 1529.87 Q1830.39 1534.99 1826.87 1537.79 Q1823.35 1540.59 1816.87 1540.59 Q1814.69 1540.59 1812.38 1540.15 Q1810.08 1539.73 1807.63 1538.88 L1807.63 1534.36 Q1809.58 1535.5 1811.89 1536.08 Q1814.2 1536.66 1816.73 1536.66 Q1821.13 1536.66 1823.42 1534.92 Q1825.73 1533.18 1825.73 1529.87 Q1825.73 1526.82 1823.58 1525.11 Q1821.45 1523.37 1817.63 1523.37 L1813.6 1523.37 L1813.6 1519.53 L1817.82 1519.53 Q1821.26 1519.53 1823.09 1518.16 Q1824.92 1516.77 1824.92 1514.18 Q1824.92 1511.52 1823.02 1510.11 Q1821.15 1508.67 1817.63 1508.67 Q1815.71 1508.67 1813.51 1509.09 Q1811.31 1509.5 1808.67 1510.38 L1808.67 1506.22 Q1811.33 1505.48 1813.65 1505.11 Q1815.99 1504.73 1818.05 1504.73 Q1823.37 1504.73 1826.47 1507.17 Q1829.58 1509.57 1829.58 1513.69 Q1829.58 1516.56 1827.93 1518.55 Q1826.29 1520.52 1823.26 1521.29 Z\" fill=\"#000000\" fill-rule=\"evenodd\" fill-opacity=\"1\" /><path clip-path=\"url(#clip400)\" d=\"M 0 0 M1845.45 1508.44 Q1841.84 1508.44 1840.01 1512 Q1838.21 1515.55 1838.21 1522.67 Q1838.21 1529.78 1840.01 1533.35 Q1841.84 1536.89 1845.45 1536.89 Q1849.09 1536.89 1850.89 1533.35 Q1852.72 1529.78 1852.72 1522.67 Q1852.72 1515.55 1850.89 1512 Q1849.09 1508.44 1845.45 1508.44 M1845.45 1504.73 Q1851.26 1504.73 1854.32 1509.34 Q1857.4 1513.92 1857.4 1522.67 Q1857.4 1531.4 1854.32 1536.01 Q1851.26 1540.59 1845.45 1540.59 Q1839.64 1540.59 1836.57 1536.01 Q1833.51 1531.4 1833.51 1522.67 Q1833.51 1513.92 1836.57 1509.34 Q1839.64 1504.73 1845.45 1504.73 Z\" fill=\"#000000\" fill-rule=\"evenodd\" fill-opacity=\"1\" /><path clip-path=\"url(#clip400)\" d=\"M 0 0 M1872.47 1508.44 Q1868.86 1508.44 1867.03 1512 Q1865.22 1515.55 1865.22 1522.67 Q1865.22 1529.78 1867.03 1533.35 Q1868.86 1536.89 1872.47 1536.89 Q1876.1 1536.89 1877.91 1533.35 Q1879.74 1529.78 1879.74 1522.67 Q1879.74 1515.55 1877.91 1512 Q1876.1 1508.44 1872.47 1508.44 M1872.47 1504.73 Q1878.28 1504.73 1881.33 1509.34 Q1884.41 1513.92 1884.41 1522.67 Q1884.41 1531.4 1881.33 1536.01 Q1878.28 1540.59 1872.47 1540.59 Q1866.66 1540.59 1863.58 1536.01 Q1860.52 1531.4 1860.52 1522.67 Q1860.52 1513.92 1863.58 1509.34 Q1866.66 1504.73 1872.47 1504.73 Z\" fill=\"#000000\" fill-rule=\"evenodd\" fill-opacity=\"1\" /><path clip-path=\"url(#clip400)\" d=\"M 0 0 M1958.41 1509.43 L1946.6 1527.88 L1958.41 1527.88 L1958.41 1509.43 M1957.18 1505.36 L1963.06 1505.36 L1963.06 1527.88 L1967.99 1527.88 L1967.99 1531.77 L1963.06 1531.77 L1963.06 1539.92 L1958.41 1539.92 L1958.41 1531.77 L1942.81 1531.77 L1942.81 1527.26 L1957.18 1505.36 Z\" fill=\"#000000\" fill-rule=\"evenodd\" fill-opacity=\"1\" /><path clip-path=\"url(#clip400)\" d=\"M 0 0 M1983.06 1508.44 Q1979.45 1508.44 1977.62 1512 Q1975.82 1515.55 1975.82 1522.67 Q1975.82 1529.78 1977.62 1533.35 Q1979.45 1536.89 1983.06 1536.89 Q1986.7 1536.89 1988.5 1533.35 Q1990.33 1529.78 1990.33 1522.67 Q1990.33 1515.55 1988.5 1512 Q1986.7 1508.44 1983.06 1508.44 M1983.06 1504.73 Q1988.87 1504.73 1991.93 1509.34 Q1995.01 1513.92 1995.01 1522.67 Q1995.01 1531.4 1991.93 1536.01 Q1988.87 1540.59 1983.06 1540.59 Q1977.25 1540.59 1974.17 1536.01 Q1971.12 1531.4 1971.12 1522.67 Q1971.12 1513.92 1974.17 1509.34 Q1977.25 1504.73 1983.06 1504.73 Z\" fill=\"#000000\" fill-rule=\"evenodd\" fill-opacity=\"1\" /><path clip-path=\"url(#clip400)\" d=\"M 0 0 M2010.07 1508.44 Q2006.46 1508.44 2004.63 1512 Q2002.83 1515.55 2002.83 1522.67 Q2002.83 1529.78 2004.63 1533.35 Q2006.46 1536.89 2010.07 1536.89 Q2013.71 1536.89 2015.51 1533.35 Q2017.34 1529.78 2017.34 1522.67 Q2017.34 1515.55 2015.51 1512 Q2013.71 1508.44 2010.07 1508.44 M2010.07 1504.73 Q2015.88 1504.73 2018.94 1509.34 Q2022.02 1513.92 2022.02 1522.67 Q2022.02 1531.4 2018.94 1536.01 Q2015.88 1540.59 2010.07 1540.59 Q2004.26 1540.59 2001.19 1536.01 Q1998.13 1531.4 1998.13 1522.67 Q1998.13 1513.92 2001.19 1509.34 Q2004.26 1504.73 2010.07 1504.73 Z\" fill=\"#000000\" fill-rule=\"evenodd\" fill-opacity=\"1\" /><path clip-path=\"url(#clip400)\" d=\"M 0 0 M2082.07 1505.36 L2100.42 1505.36 L2100.42 1509.3 L2086.35 1509.3 L2086.35 1517.77 Q2087.37 1517.42 2088.39 1517.26 Q2089.41 1517.07 2090.42 1517.07 Q2096.21 1517.07 2099.59 1520.24 Q2102.97 1523.42 2102.97 1528.83 Q2102.97 1534.41 2099.5 1537.51 Q2096.03 1540.59 2089.71 1540.59 Q2087.53 1540.59 2085.26 1540.22 Q2083.02 1539.85 2080.61 1539.11 L2080.61 1534.41 Q2082.69 1535.54 2084.92 1536.1 Q2087.14 1536.66 2089.61 1536.66 Q2093.62 1536.66 2095.96 1534.55 Q2098.29 1532.44 2098.29 1528.83 Q2098.29 1525.22 2095.96 1523.11 Q2093.62 1521.01 2089.61 1521.01 Q2087.74 1521.01 2085.86 1521.42 Q2084.01 1521.84 2082.07 1522.72 L2082.07 1505.36 Z\" fill=\"#000000\" fill-rule=\"evenodd\" fill-opacity=\"1\" /><path clip-path=\"url(#clip400)\" d=\"M 0 0 M2118.04 1508.44 Q2114.43 1508.44 2112.6 1512 Q2110.79 1515.55 2110.79 1522.67 Q2110.79 1529.78 2112.6 1533.35 Q2114.43 1536.89 2118.04 1536.89 Q2121.67 1536.89 2123.48 1533.35 Q2125.31 1529.78 2125.31 1522.67 Q2125.31 1515.55 2123.48 1512 Q2121.67 1508.44 2118.04 1508.44 M2118.04 1504.73 Q2123.85 1504.73 2126.91 1509.34 Q2129.98 1513.92 2129.98 1522.67 Q2129.98 1531.4 2126.91 1536.01 Q2123.85 1540.59 2118.04 1540.59 Q2112.23 1540.59 2109.15 1536.01 Q2106.1 1531.4 2106.1 1522.67 Q2106.1 1513.92 2109.15 1509.34 Q2112.23 1504.73 2118.04 1504.73 Z\" fill=\"#000000\" fill-rule=\"evenodd\" fill-opacity=\"1\" /><path clip-path=\"url(#clip400)\" d=\"M 0 0 M2145.05 1508.44 Q2141.44 1508.44 2139.61 1512 Q2137.81 1515.55 2137.81 1522.67 Q2137.81 1529.78 2139.61 1533.35 Q2141.44 1536.89 2145.05 1536.89 Q2148.69 1536.89 2150.49 1533.35 Q2152.32 1529.78 2152.32 1522.67 Q2152.32 1515.55 2150.49 1512 Q2148.69 1508.44 2145.05 1508.44 M2145.05 1504.73 Q2150.86 1504.73 2153.92 1509.34 Q2157 1513.92 2157 1522.67 Q2157 1531.4 2153.92 1536.01 Q2150.86 1540.59 2145.05 1540.59 Q2139.24 1540.59 2136.17 1536.01 Q2133.11 1531.4 2133.11 1522.67 Q2133.11 1513.92 2136.17 1509.34 Q2139.24 1504.73 2145.05 1504.73 Z\" fill=\"#000000\" fill-rule=\"evenodd\" fill-opacity=\"1\" /><path clip-path=\"url(#clip400)\" d=\"M 0 0 M2228.59 1520.78 Q2225.44 1520.78 2223.59 1522.93 Q2221.76 1525.08 2221.76 1528.83 Q2221.76 1532.56 2223.59 1534.73 Q2225.44 1536.89 2228.59 1536.89 Q2231.73 1536.89 2233.56 1534.73 Q2235.42 1532.56 2235.42 1528.83 Q2235.42 1525.08 2233.56 1522.93 Q2231.73 1520.78 2228.59 1520.78 M2237.87 1506.12 L2237.87 1510.38 Q2236.11 1509.55 2234.3 1509.11 Q2232.52 1508.67 2230.76 1508.67 Q2226.13 1508.67 2223.68 1511.8 Q2221.25 1514.92 2220.9 1521.24 Q2222.27 1519.23 2224.33 1518.16 Q2226.39 1517.07 2228.86 1517.07 Q2234.07 1517.07 2237.08 1520.24 Q2240.11 1523.39 2240.11 1528.83 Q2240.11 1534.16 2236.97 1537.37 Q2233.82 1540.59 2228.59 1540.59 Q2222.59 1540.59 2219.42 1536.01 Q2216.25 1531.4 2216.25 1522.67 Q2216.25 1514.48 2220.14 1509.62 Q2224.03 1504.73 2230.58 1504.73 Q2232.34 1504.73 2234.12 1505.08 Q2235.92 1505.43 2237.87 1506.12 Z\" fill=\"#000000\" fill-rule=\"evenodd\" fill-opacity=\"1\" /><path clip-path=\"url(#clip400)\" d=\"M 0 0 M2255.18 1508.44 Q2251.57 1508.44 2249.74 1512 Q2247.94 1515.55 2247.94 1522.67 Q2247.94 1529.78 2249.74 1533.35 Q2251.57 1536.89 2255.18 1536.89 Q2258.82 1536.89 2260.62 1533.35 Q2262.45 1529.78 2262.45 1522.67 Q2262.45 1515.55 2260.62 1512 Q2258.82 1508.44 2255.18 1508.44 M2255.18 1504.73 Q2260.99 1504.73 2264.05 1509.34 Q2267.13 1513.92 2267.13 1522.67 Q2267.13 1531.4 2264.05 1536.01 Q2260.99 1540.59 2255.18 1540.59 Q2249.37 1540.59 2246.29 1536.01 Q2243.24 1531.4 2243.24 1522.67 Q2243.24 1513.92 2246.29 1509.34 Q2249.37 1504.73 2255.18 1504.73 Z\" fill=\"#000000\" fill-rule=\"evenodd\" fill-opacity=\"1\" /><path clip-path=\"url(#clip400)\" d=\"M 0 0 M2282.2 1508.44 Q2278.59 1508.44 2276.76 1512 Q2274.95 1515.55 2274.95 1522.67 Q2274.95 1529.78 2276.76 1533.35 Q2278.59 1536.89 2282.2 1536.89 Q2285.83 1536.89 2287.64 1533.35 Q2289.47 1529.78 2289.47 1522.67 Q2289.47 1515.55 2287.64 1512 Q2285.83 1508.44 2282.2 1508.44 M2282.2 1504.73 Q2288.01 1504.73 2291.06 1509.34 Q2294.14 1513.92 2294.14 1522.67 Q2294.14 1531.4 2291.06 1536.01 Q2288.01 1540.59 2282.2 1540.59 Q2276.39 1540.59 2273.31 1536.01 Q2270.25 1531.4 2270.25 1522.67 Q2270.25 1513.92 2273.31 1509.34 Q2276.39 1504.73 2282.2 1504.73 Z\" fill=\"#000000\" fill-rule=\"evenodd\" fill-opacity=\"1\" /><path clip-path=\"url(#clip400)\" d=\"M 0 0 M1298.37 1435.49 L1306.01 1435.49 L1306.01 1409.13 L1297.7 1410.79 L1297.7 1406.54 L1305.97 1404.87 L1310.64 1404.87 L1310.64 1435.49 L1318.28 1435.49 L1318.28 1439.43 L1298.37 1439.43 L1298.37 1435.49 Z\" fill=\"#000000\" fill-rule=\"evenodd\" fill-opacity=\"1\" /><path clip-path=\"url(#clip400)\" d=\"M 0 0 M1333.35 1407.95 Q1329.74 1407.95 1327.91 1411.51 Q1326.11 1415.05 1326.11 1422.18 Q1326.11 1429.29 1327.91 1432.85 Q1329.74 1436.4 1333.35 1436.4 Q1336.98 1436.4 1338.79 1432.85 Q1340.62 1429.29 1340.62 1422.18 Q1340.62 1415.05 1338.79 1411.51 Q1336.98 1407.95 1333.35 1407.95 M1333.35 1404.24 Q1339.16 1404.24 1342.22 1408.85 Q1345.29 1413.43 1345.29 1422.18 Q1345.29 1430.91 1342.22 1435.52 Q1339.16 1440.1 1333.35 1440.1 Q1327.54 1440.1 1324.46 1435.52 Q1321.41 1430.91 1321.41 1422.18 Q1321.41 1413.43 1324.46 1408.85 Q1327.54 1404.24 1333.35 1404.24 Z\" fill=\"#000000\" fill-rule=\"evenodd\" fill-opacity=\"1\" /><path clip-path=\"url(#clip400)\" d=\"M 0 0 M1345.29 1399.92 L1355.43 1399.92 L1355.43 1403.01 L1345.29 1403.01 L1345.29 1399.92 Z\" fill=\"#000000\" fill-rule=\"evenodd\" fill-opacity=\"1\" /><path clip-path=\"url(#clip400)\" d=\"M 0 0 M1370.59 1383.94 L1385.51 1383.94 L1385.51 1387.14 L1374.07 1387.14 L1374.07 1394.02 Q1374.9 1393.74 1375.73 1393.61 Q1376.55 1393.46 1377.38 1393.46 Q1382.08 1393.46 1384.83 1396.03 Q1387.57 1398.61 1387.57 1403.01 Q1387.57 1407.54 1384.75 1410.06 Q1381.93 1412.56 1376.8 1412.56 Q1375.03 1412.56 1373.19 1412.26 Q1371.36 1411.96 1369.41 1411.36 L1369.41 1407.54 Q1371.1 1408.46 1372.9 1408.92 Q1374.71 1409.37 1376.72 1409.37 Q1379.98 1409.37 1381.88 1407.65 Q1383.78 1405.94 1383.78 1403.01 Q1383.78 1400.08 1381.88 1398.36 Q1379.98 1396.65 1376.72 1396.65 Q1375.2 1396.65 1373.68 1396.99 Q1372.17 1397.33 1370.59 1398.04 L1370.59 1383.94 Z\" fill=\"#000000\" fill-rule=\"evenodd\" fill-opacity=\"1\" /><path clip-path=\"url(#clip400)\" d=\"M 0 0 M1296.08 1350.61 L1303.72 1350.61 L1303.72 1324.25 L1295.41 1325.91 L1295.41 1321.65 L1303.67 1319.99 L1308.35 1319.99 L1308.35 1350.61 L1315.99 1350.61 L1315.99 1354.55 L1296.08 1354.55 L1296.08 1350.61 Z\" fill=\"#000000\" fill-rule=\"evenodd\" fill-opacity=\"1\" /><path clip-path=\"url(#clip400)\" d=\"M 0 0 M1331.06 1323.07 Q1327.44 1323.07 1325.62 1326.63 Q1323.81 1330.17 1323.81 1337.3 Q1323.81 1344.41 1325.62 1347.97 Q1327.44 1351.52 1331.06 1351.52 Q1334.69 1351.52 1336.5 1347.97 Q1338.32 1344.41 1338.32 1337.3 Q1338.32 1330.17 1336.5 1326.63 Q1334.69 1323.07 1331.06 1323.07 M1331.06 1319.36 Q1336.87 1319.36 1339.92 1323.97 Q1343 1328.55 1343 1337.3 Q1343 1346.03 1339.92 1350.64 Q1336.87 1355.22 1331.06 1355.22 Q1325.25 1355.22 1322.17 1350.64 Q1319.11 1346.03 1319.11 1337.3 Q1319.11 1328.55 1322.17 1323.97 Q1325.25 1319.36 1331.06 1319.36 Z\" fill=\"#000000\" fill-rule=\"evenodd\" fill-opacity=\"1\" /><path clip-path=\"url(#clip400)\" d=\"M 0 0 M1343 1315.04 L1353.14 1315.04 L1353.14 1318.13 L1343 1318.13 L1343 1315.04 Z\" fill=\"#000000\" fill-rule=\"evenodd\" fill-opacity=\"1\" /><path clip-path=\"url(#clip400)\" d=\"M 0 0 M1379.79 1302.37 L1370.2 1317.36 L1379.79 1317.36 L1379.79 1302.37 M1378.79 1299.06 L1383.57 1299.06 L1383.57 1317.36 L1387.57 1317.36 L1387.57 1320.52 L1383.57 1320.52 L1383.57 1327.14 L1379.79 1327.14 L1379.79 1320.52 L1367.11 1320.52 L1367.11 1316.85 L1378.79 1299.06 Z\" fill=\"#000000\" fill-rule=\"evenodd\" fill-opacity=\"1\" /><path clip-path=\"url(#clip400)\" d=\"M 0 0 M1298.05 1265.73 L1305.69 1265.73 L1305.69 1239.37 L1297.38 1241.03 L1297.38 1236.77 L1305.65 1235.11 L1310.32 1235.11 L1310.32 1265.73 L1317.96 1265.73 L1317.96 1269.67 L1298.05 1269.67 L1298.05 1265.73 Z\" fill=\"#000000\" fill-rule=\"evenodd\" fill-opacity=\"1\" /><path clip-path=\"url(#clip400)\" d=\"M 0 0 M1333.03 1238.19 Q1329.42 1238.19 1327.59 1241.75 Q1325.79 1245.29 1325.79 1252.42 Q1325.79 1259.53 1327.59 1263.09 Q1329.42 1266.63 1333.03 1266.63 Q1336.67 1266.63 1338.47 1263.09 Q1340.3 1259.53 1340.3 1252.42 Q1340.3 1245.29 1338.47 1241.75 Q1336.67 1238.19 1333.03 1238.19 M1333.03 1234.48 Q1338.84 1234.48 1341.9 1239.09 Q1344.98 1243.67 1344.98 1252.42 Q1344.98 1261.15 1341.9 1265.75 Q1338.84 1270.34 1333.03 1270.34 Q1327.22 1270.34 1324.14 1265.75 Q1321.09 1261.15 1321.09 1252.42 Q1321.09 1243.67 1324.14 1239.09 Q1327.22 1234.48 1333.03 1234.48 Z\" fill=\"#000000\" fill-rule=\"evenodd\" fill-opacity=\"1\" /><path clip-path=\"url(#clip400)\" d=\"M 0 0 M1344.98 1230.16 L1355.11 1230.16 L1355.11 1233.25 L1344.98 1233.25 L1344.98 1230.16 Z\" fill=\"#000000\" fill-rule=\"evenodd\" fill-opacity=\"1\" /><path clip-path=\"url(#clip400)\" d=\"M 0 0 M1381.78 1227.12 Q1384.51 1227.7 1386.03 1229.54 Q1387.57 1231.39 1387.57 1234.09 Q1387.57 1238.25 1384.72 1240.53 Q1381.86 1242.8 1376.59 1242.8 Q1374.82 1242.8 1372.94 1242.44 Q1371.08 1242.11 1369.09 1241.41 L1369.09 1237.74 Q1370.67 1238.66 1372.55 1239.13 Q1374.43 1239.6 1376.48 1239.6 Q1380.05 1239.6 1381.91 1238.19 Q1383.79 1236.78 1383.79 1234.09 Q1383.79 1231.61 1382.05 1230.22 Q1380.31 1228.81 1377.21 1228.81 L1373.94 1228.81 L1373.94 1225.69 L1377.36 1225.69 Q1380.16 1225.69 1381.65 1224.58 Q1383.14 1223.45 1383.14 1221.34 Q1383.14 1219.18 1381.59 1218.03 Q1380.07 1216.87 1377.21 1216.87 Q1375.65 1216.87 1373.86 1217.2 Q1372.08 1217.54 1369.93 1218.26 L1369.93 1214.87 Q1372.1 1214.27 1373.98 1213.97 Q1375.88 1213.67 1377.55 1213.67 Q1381.88 1213.67 1384.4 1215.64 Q1386.92 1217.6 1386.92 1220.95 Q1386.92 1223.28 1385.58 1224.9 Q1384.25 1226.5 1381.78 1227.12 Z\" fill=\"#000000\" fill-rule=\"evenodd\" fill-opacity=\"1\" /><path clip-path=\"url(#clip400)\" d=\"M 0 0 M1298.71 1180.85 L1306.35 1180.85 L1306.35 1154.48 L1298.04 1156.15 L1298.04 1151.89 L1306.3 1150.23 L1310.98 1150.23 L1310.98 1180.85 L1318.62 1180.85 L1318.62 1184.79 L1298.71 1184.79 L1298.71 1180.85 Z\" fill=\"#000000\" fill-rule=\"evenodd\" fill-opacity=\"1\" /><path clip-path=\"url(#clip400)\" d=\"M 0 0 M1333.69 1153.3 Q1330.08 1153.3 1328.25 1156.87 Q1326.44 1160.41 1326.44 1167.54 Q1326.44 1174.65 1328.25 1178.21 Q1330.08 1181.75 1333.69 1181.75 Q1337.32 1181.75 1339.13 1178.21 Q1340.96 1174.65 1340.96 1167.54 Q1340.96 1160.41 1339.13 1156.87 Q1337.32 1153.3 1333.69 1153.3 M1333.69 1149.6 Q1339.5 1149.6 1342.55 1154.21 Q1345.63 1158.79 1345.63 1167.54 Q1345.63 1176.27 1342.55 1180.87 Q1339.5 1185.46 1333.69 1185.46 Q1327.88 1185.46 1324.8 1180.87 Q1321.74 1176.27 1321.74 1167.54 Q1321.74 1158.79 1324.8 1154.21 Q1327.88 1149.6 1333.69 1149.6 Z\" fill=\"#000000\" fill-rule=\"evenodd\" fill-opacity=\"1\" /><path clip-path=\"url(#clip400)\" d=\"M 0 0 M1345.63 1145.28 L1355.77 1145.28 L1355.77 1148.37 L1345.63 1148.37 L1345.63 1145.28 Z\" fill=\"#000000\" fill-rule=\"evenodd\" fill-opacity=\"1\" /><path clip-path=\"url(#clip400)\" d=\"M 0 0 M1374.32 1154.18 L1387.57 1154.18 L1387.57 1157.38 L1369.75 1157.38 L1369.75 1154.18 Q1371.91 1151.94 1375.63 1148.18 Q1379.37 1144.4 1380.33 1143.31 Q1382.16 1141.26 1382.87 1139.85 Q1383.61 1138.42 1383.61 1137.04 Q1383.61 1134.81 1382.03 1133.4 Q1380.47 1131.98 1377.95 1131.98 Q1376.16 1131.98 1374.16 1132.61 Q1372.19 1133.23 1369.93 1134.49 L1369.93 1130.65 Q1372.23 1129.73 1374.22 1129.26 Q1376.21 1128.79 1377.87 1128.79 Q1382.23 1128.79 1384.83 1130.97 Q1387.42 1133.15 1387.42 1136.8 Q1387.42 1138.53 1386.77 1140.09 Q1386.13 1141.63 1384.42 1143.74 Q1383.94 1144.28 1381.42 1146.9 Q1378.9 1149.49 1374.32 1154.18 Z\" fill=\"#000000\" fill-rule=\"evenodd\" fill-opacity=\"1\" /><path clip-path=\"url(#clip400)\" d=\"M 0 0 M1299.82 1095.97 L1307.46 1095.97 L1307.46 1069.6 L1299.15 1071.27 L1299.15 1067.01 L1307.41 1065.34 L1312.09 1065.34 L1312.09 1095.97 L1319.73 1095.97 L1319.73 1099.9 L1299.82 1099.9 L1299.82 1095.97 Z\" fill=\"#000000\" fill-rule=\"evenodd\" fill-opacity=\"1\" /><path clip-path=\"url(#clip400)\" d=\"M 0 0 M1334.8 1068.42 Q1331.19 1068.42 1329.36 1071.99 Q1327.55 1075.53 1327.55 1082.66 Q1327.55 1089.77 1329.36 1093.33 Q1331.19 1096.87 1334.8 1096.87 Q1338.43 1096.87 1340.24 1093.33 Q1342.07 1089.77 1342.07 1082.66 Q1342.07 1075.53 1340.24 1071.99 Q1338.43 1068.42 1334.8 1068.42 M1334.8 1064.72 Q1340.61 1064.72 1343.66 1069.33 Q1346.74 1073.91 1346.74 1082.66 Q1346.74 1091.39 1343.66 1095.99 Q1340.61 1100.58 1334.8 1100.58 Q1328.99 1100.58 1325.91 1095.99 Q1322.85 1091.39 1322.85 1082.66 Q1322.85 1073.91 1325.91 1069.33 Q1328.99 1064.72 1334.8 1064.72 Z\" fill=\"#000000\" fill-rule=\"evenodd\" fill-opacity=\"1\" /><path clip-path=\"url(#clip400)\" d=\"M 0 0 M1346.74 1060.4 L1356.88 1060.4 L1356.88 1063.49 L1346.74 1063.49 L1346.74 1060.4 Z\" fill=\"#000000\" fill-rule=\"evenodd\" fill-opacity=\"1\" /><path clip-path=\"url(#clip400)\" d=\"M 0 0 M1371.4 1069.3 L1377.61 1069.3 L1377.61 1047.87 L1370.85 1049.23 L1370.85 1045.77 L1377.57 1044.41 L1381.37 1044.41 L1381.37 1069.3 L1387.57 1069.3 L1387.57 1072.49 L1371.4 1072.49 L1371.4 1069.3 Z\" fill=\"#000000\" fill-rule=\"evenodd\" fill-opacity=\"1\" /><path clip-path=\"url(#clip400)\" d=\"M 0 0 M1321.24 1011.09 L1328.88 1011.09 L1328.88 984.723 L1320.57 986.389 L1320.57 982.13 L1328.84 980.463 L1333.51 980.463 L1333.51 1011.09 L1341.15 1011.09 L1341.15 1015.02 L1321.24 1015.02 L1321.24 1011.09 Z\" fill=\"#000000\" fill-rule=\"evenodd\" fill-opacity=\"1\" /><path clip-path=\"url(#clip400)\" d=\"M 0 0 M1356.22 983.542 Q1352.61 983.542 1350.78 987.107 Q1348.98 990.649 1348.98 997.778 Q1348.98 1004.88 1350.78 1008.45 Q1352.61 1011.99 1356.22 1011.99 Q1359.86 1011.99 1361.66 1008.45 Q1363.49 1004.88 1363.49 997.778 Q1363.49 990.649 1361.66 987.107 Q1359.86 983.542 1356.22 983.542 M1356.22 979.838 Q1362.03 979.838 1365.09 984.445 Q1368.17 989.028 1368.17 997.778 Q1368.17 1006.5 1365.09 1011.11 Q1362.03 1015.69 1356.22 1015.69 Q1350.41 1015.69 1347.33 1011.11 Q1344.28 1006.5 1344.28 997.778 Q1344.28 989.028 1347.33 984.445 Q1350.41 979.838 1356.22 979.838 Z\" fill=\"#000000\" fill-rule=\"evenodd\" fill-opacity=\"1\" /><path clip-path=\"url(#clip400)\" d=\"M 0 0 M1377.87 962.034 Q1374.94 962.034 1373.45 964.931 Q1371.98 967.808 1371.98 973.601 Q1371.98 979.375 1373.45 982.272 Q1374.94 985.149 1377.87 985.149 Q1380.82 985.149 1382.29 982.272 Q1383.78 979.375 1383.78 973.601 Q1383.78 967.808 1382.29 964.931 Q1380.82 962.034 1377.87 962.034 M1377.87 959.025 Q1382.59 959.025 1385.07 962.768 Q1387.57 966.492 1387.57 973.601 Q1387.57 980.692 1385.07 984.434 Q1382.59 988.158 1377.87 988.158 Q1373.15 988.158 1370.65 984.434 Q1368.17 980.692 1368.17 973.601 Q1368.17 966.492 1370.65 962.768 Q1373.15 959.025 1377.87 959.025 Z\" fill=\"#000000\" fill-rule=\"evenodd\" fill-opacity=\"1\" /><path clip-path=\"url(#clip400)\" d=\"M 0 0 M1710.22 812.096 L1722.42 812.096 L1737.85 853.253 L1753.37 812.096 L1765.56 812.096 L1765.56 872.576 L1757.58 872.576 L1757.58 819.469 L1741.98 860.95 L1733.76 860.95 L1718.16 819.469 L1718.16 872.576 L1710.22 872.576 L1710.22 812.096 Z\" fill=\"#000000\" fill-rule=\"evenodd\" fill-opacity=\"1\" /><path clip-path=\"url(#clip400)\" d=\"M 0 0 M1812.19 848.028 L1812.19 851.673 L1777.92 851.673 Q1778.4 859.37 1782.53 863.421 Q1786.71 867.431 1794.12 867.431 Q1798.41 867.431 1802.42 866.378 Q1806.47 865.325 1810.44 863.218 L1810.44 870.267 Q1806.43 871.968 1802.22 872.86 Q1798.01 873.751 1793.67 873.751 Q1782.82 873.751 1776.46 867.431 Q1770.14 861.112 1770.14 850.337 Q1770.14 839.197 1776.13 832.675 Q1782.17 826.112 1792.38 826.112 Q1801.53 826.112 1806.84 832.026 Q1812.19 837.9 1812.19 848.028 M1804.73 845.84 Q1804.65 839.723 1801.29 836.077 Q1797.97 832.432 1792.46 832.432 Q1786.22 832.432 1782.45 835.956 Q1778.73 839.48 1778.16 845.881 L1804.73 845.84 Z\" fill=\"#000000\" fill-rule=\"evenodd\" fill-opacity=\"1\" /><path clip-path=\"url(#clip400)\" d=\"M 0 0 M1827.38 814.324 L1827.38 827.206 L1842.73 827.206 L1842.73 832.999 L1827.38 832.999 L1827.38 857.628 Q1827.38 863.178 1828.88 864.758 Q1830.42 866.338 1835.07 866.338 L1842.73 866.338 L1842.73 872.576 L1835.07 872.576 Q1826.45 872.576 1823.16 869.376 Q1819.88 866.135 1819.88 857.628 L1819.88 832.999 L1814.41 832.999 L1814.41 827.206 L1819.88 827.206 L1819.88 814.324 L1827.38 814.324 Z\" fill=\"#000000\" fill-rule=\"evenodd\" fill-opacity=\"1\" /><path clip-path=\"url(#clip400)\" d=\"M 0 0 M1888.26 845.192 L1888.26 872.576 L1880.81 872.576 L1880.81 845.435 Q1880.81 838.994 1878.3 835.794 Q1875.79 832.594 1870.76 832.594 Q1864.73 832.594 1861.24 836.442 Q1857.76 840.29 1857.76 846.934 L1857.76 872.576 L1850.26 872.576 L1850.26 809.544 L1857.76 809.544 L1857.76 834.254 Q1860.43 830.163 1864.04 828.138 Q1867.68 826.112 1872.42 826.112 Q1880.24 826.112 1884.25 830.973 Q1888.26 835.794 1888.26 845.192 Z\" fill=\"#000000\" fill-rule=\"evenodd\" fill-opacity=\"1\" /><path clip-path=\"url(#clip400)\" d=\"M 0 0 M1913.66 832.432 Q1907.67 832.432 1904.18 837.131 Q1900.7 841.789 1900.7 849.931 Q1900.7 858.074 1904.14 862.773 Q1907.63 867.431 1913.66 867.431 Q1919.62 867.431 1923.1 862.732 Q1926.58 858.033 1926.58 849.931 Q1926.58 841.87 1923.1 837.171 Q1919.62 832.432 1913.66 832.432 M1913.66 826.112 Q1923.38 826.112 1928.93 832.432 Q1934.48 838.751 1934.48 849.931 Q1934.48 861.071 1928.93 867.431 Q1923.38 873.751 1913.66 873.751 Q1903.9 873.751 1898.35 867.431 Q1892.84 861.071 1892.84 849.931 Q1892.84 838.751 1898.35 832.432 Q1903.9 826.112 1913.66 826.112 Z\" fill=\"#000000\" fill-rule=\"evenodd\" fill-opacity=\"1\" /><path clip-path=\"url(#clip400)\" d=\"M 0 0 M1972.16 834.092 L1972.16 809.544 L1979.61 809.544 L1979.61 872.576 L1972.16 872.576 L1972.16 865.77 Q1969.81 869.821 1966.2 871.806 Q1962.64 873.751 1957.61 873.751 Q1949.39 873.751 1944.2 867.188 Q1939.06 860.626 1939.06 849.931 Q1939.06 839.237 1944.2 832.675 Q1949.39 826.112 1957.61 826.112 Q1962.64 826.112 1966.2 828.097 Q1969.81 830.042 1972.16 834.092 M1946.76 849.931 Q1946.76 858.155 1950.12 862.854 Q1953.52 867.512 1959.44 867.512 Q1965.35 867.512 1968.75 862.854 Q1972.16 858.155 1972.16 849.931 Q1972.16 841.708 1968.75 837.05 Q1965.35 832.351 1959.44 832.351 Q1953.52 832.351 1950.12 837.05 Q1946.76 841.708 1946.76 849.931 Z\" fill=\"#000000\" fill-rule=\"evenodd\" fill-opacity=\"1\" /><path clip-path=\"url(#clip400)\" d=\"M 0 0 M2037.34 819.226 L2016.68 851.511 L2037.34 851.511 L2037.34 819.226 M2035.19 812.096 L2045.48 812.096 L2045.48 851.511 L2054.11 851.511 L2054.11 858.317 L2045.48 858.317 L2045.48 872.576 L2037.34 872.576 L2037.34 858.317 L2010.03 858.317 L2010.03 850.418 L2035.19 812.096 Z\" fill=\"#000000\" fill-rule=\"evenodd\" fill-opacity=\"1\" /><polyline clip-path=\"url(#clip405)\" style=\"stroke:#009af9; stroke-width:4; stroke-opacity:1; fill:none\" points=\"\n",
       "  1438.21,939.405 1439.58,985.796 1440.94,1040.52 1442.3,1001.12 1443.67,977.757 1445.03,974.743 1446.4,984.499 1447.76,1004.83 1449.12,1032.05 1450.49,1042.57 \n",
       "  1451.85,1042.57 1453.22,1024.77 1454.58,1031.96 1455.94,1038.03 1457.31,1042.26 1458.67,1044.14 1460.03,1043.97 1461.4,1042.65 1462.76,1041.27 1464.13,1040.38 \n",
       "  1465.49,1040.33 1466.85,1040.94 1468.22,1042.03 1469.58,1043.36 1470.95,1044.64 1472.31,1045.68 1473.67,1046.4 1475.04,1046.71 1476.4,1046.71 1477.77,1046.52 \n",
       "  1479.13,1046.39 1480.49,1046.37 1481.86,1046.57 1483.22,1047.01 1484.59,1047.58 1485.95,1048.2 1487.31,1048.84 1488.68,1049.38 1490.04,1049.78 1491.4,1050.06 \n",
       "  1492.77,1050.26 1494.13,1050.42 1495.5,1050.6 1496.86,1050.84 1498.22,1051.18 1499.59,1051.56 1500.95,1052.01 1502.32,1052.49 1503.68,1052.96 1505.04,1053.34 \n",
       "  1506.41,1053.68 1507.77,1053.96 1509.14,1054.31 1510.5,1054.62 1511.86,1054.91 1513.23,1055.28 1514.59,1055.67 1515.95,1056.11 1517.32,1056.51 1518.68,1056.91 \n",
       "  1520.05,1057.31 1521.41,1057.66 1522.77,1058.09 1524.14,1058.4 1525.5,1058.76 1526.87,1059.12 1528.23,1059.55 1529.59,1059.98 1530.96,1060.39 1532.32,1060.84 \n",
       "  1533.69,1061.16 1535.05,1061.62 1536.41,1062.01 1537.78,1062.42 1539.14,1062.84 1540.51,1063.25 1541.87,1063.68 1543.23,1064.1 1544.6,1064.54 1545.96,1064.98 \n",
       "  1547.32,1065.38 1548.69,1065.83 1550.05,1066.26 1551.42,1066.65 1552.78,1067.16 1554.14,1067.6 1555.51,1068.03 1556.87,1068.49 1558.24,1068.93 1559.6,1069.39 \n",
       "  1560.96,1069.84 1562.33,1070.26 1563.69,1070.75 1565.06,1071.2 1566.42,1071.68 1567.78,1072.14 1569.15,1072.65 1570.51,1073.07 1571.88,1073.6 1573.24,1074.04 \n",
       "  1574.6,1074.52 1575.97,1074.98 1577.33,1075.49 1578.69,1075.96 1580.06,1076.5 1581.42,1076.95 1582.79,1077.45 1584.15,1077.95 1585.51,1078.44 1586.88,1078.98 \n",
       "  1588.24,1079.43 1589.61,1079.94 1590.97,1080.49 1592.33,1080.97 1593.7,1081.48 1595.06,1081.97 1596.43,1082.5 1597.79,1083.02 1599.15,1083.56 1600.52,1084.09 \n",
       "  1601.88,1084.58 1603.25,1085.1 1604.61,1085.65 1605.97,1086.2 1607.34,1086.69 1608.7,1087.27 1610.06,1087.81 1611.43,1088.34 1612.79,1088.85 1614.16,1089.43 \n",
       "  1615.52,1089.97 1616.88,1090.52 1618.25,1091.04 1619.61,1091.62 1620.98,1092.11 1622.34,1092.7 1623.7,1093.29 1625.07,1093.82 1626.43,1094.4 1627.8,1094.96 \n",
       "  1629.16,1095.56 1630.52,1096.09 1631.89,1096.65 1633.25,1097.22 1634.62,1097.79 1635.98,1098.41 1637.34,1098.95 1638.71,1099.56 1640.07,1100.11 1641.43,1100.69 \n",
       "  1642.8,1101.32 1644.16,1101.87 1645.53,1102.47 1646.89,1103.1 1648.25,1103.69 1649.62,1104.24 1650.98,1104.83 1652.35,1105.48 1653.71,1106.09 1655.07,1106.64 \n",
       "  1656.44,1107.26 1657.8,1107.84 1659.17,1108.49 1660.53,1109.1 1661.89,1109.7 1663.26,1110.31 1664.62,1110.94 1665.99,1111.55 1667.35,1112.15 1668.71,1112.76 \n",
       "  1670.08,1113.4 1671.44,1114.01 1672.8,1114.61 1674.17,1115.26 1675.53,1115.89 1676.9,1116.51 1678.26,1117.14 1679.62,1117.78 1680.99,1118.38 1682.35,1119.04 \n",
       "  1683.72,1119.68 1685.08,1120.27 1686.44,1120.92 1687.81,1121.57 1689.17,1122.18 1690.54,1122.85 1691.9,1123.49 1693.26,1124.1 1694.63,1124.78 1695.99,1125.43 \n",
       "  1697.36,1126.08 1698.72,1126.67 1700.08,1127.36 1701.45,1127.98 1702.81,1128.65 1704.17,1129.32 1705.54,1129.95 1706.9,1130.59 1708.27,1131.24 1709.63,1131.92 \n",
       "  1710.99,1132.52 1712.36,1133.2 1713.72,1133.85 1715.09,1134.51 1716.45,1135.15 1717.81,1135.8 1719.18,1136.45 1720.54,1137.11 1721.91,1137.73 1723.27,1138.44 \n",
       "  1724.63,1139.07 1726,1139.07 1727.36,1139.74 1728.73,1141.08 1730.09,1231.87 1731.45,1235.69 1732.82,1235.71 1734.18,1284.59 1735.54,1331.98 1736.91,1335.9 \n",
       "  1738.27,1336.01 1739.64,1336.03 1741,1336.03 1742.36,1336.03 1743.73,1324.25 1745.09,1335.01 1746.46,1325.51 1747.82,1330.52 1749.18,1336.14 1750.55,1332.67 \n",
       "  1751.91,1329.94 1753.28,1332.7 1754.64,1335.96 1756,1335.06 1757.37,1332.68 1758.73,1332.98 1760.1,1335.2 1761.46,1336.21 1762.82,1334.88 1764.19,1333.93 \n",
       "  1765.55,1334.72 1766.91,1336.06 1768.28,1336.12 1769.64,1335.21 1771.01,1334.92 1772.37,1335.74 1773.73,1336.32 1775.1,1336.08 1776.46,1335.52 1777.83,1335.61 \n",
       "  1779.19,1336.2 1780.55,1336.4 1781.92,1336.06 1783.28,1335.87 1784.65,1336.13 1786.01,1336.45 1787.37,1336.34 1788.74,1336.12 1790.1,1336.19 1791.47,1336.45 \n",
       "  1792.83,1336.57 1794.19,1336.27 1795.56,1336.21 1796.92,1336.48 1798.28,1336.55 1799.65,1336.46 1801.01,1336.4 1802.38,1336.57 1803.74,1336.62 1805.1,1336.47 \n",
       "  1806.47,1336.55 1807.83,1336.61 1809.2,1336.68 1810.56,1336.63 1811.92,1336.64 1813.29,1336.7 1814.65,1336.73 1816.02,1336.72 1817.38,1336.62 1818.74,1336.74 \n",
       "  1820.11,1336.78 1821.47,1336.77 1822.84,1336.79 1824.2,1336.83 1825.56,1336.85 1826.93,1336.83 1828.29,1336.87 1829.65,1336.91 1831.02,1336.91 1832.38,1336.91 \n",
       "  1833.75,1336.93 1835.11,1336.95 1836.47,1336.98 1837.84,1336.98 1839.2,1336.98 1840.57,1337.02 1841.93,1337.02 1843.29,1337.01 1844.66,1337.06 1846.02,1337.08 \n",
       "  1847.39,1337.03 1848.75,1337.11 1850.11,1337.13 1851.48,1337.1 1852.84,1337.14 1854.21,1337.19 1855.57,1337.14 1856.93,1337.16 1858.3,1337.24 1859.66,1337.18 \n",
       "  1861.02,1337.21 1862.39,1337.29 1863.75,1337.3 1865.12,1337.33 1866.48,1337.34 1867.84,1337.36 1869.21,1337.38 1870.57,1337.36 1871.94,1337.37 1873.3,1337.41 \n",
       "  1874.66,1337.45 1876.03,1337.48 1877.39,1337.41 1878.76,1337.5 1880.12,1337.52 1881.48,1337.49 1882.85,1337.49 1884.21,1337.58 1885.58,1337.6 1886.94,1337.58 \n",
       "  1888.3,1337.57 1889.67,1337.65 1891.03,1337.65 1892.39,1337.66 1893.76,1337.64 1895.12,1337.68 1896.49,1337.75 1897.85,1337.78 1899.21,1337.78 1900.58,1337.76 \n",
       "  1901.94,1337.82 1903.31,1337.82 1904.67,1337.86 1906.03,1337.88 1907.4,1337.9 1908.76,1337.92 1910.13,1337.94 1911.49,1337.97 1912.85,1337.96 1914.22,1338 \n",
       "  1915.58,1338.02 1916.95,1338.04 1918.31,1338.06 1919.67,1338.08 1921.04,1338.04 1922.4,1338.12 1923.76,1338.09 1925.13,1338.17 1926.49,1338.18 1927.86,1338.2 \n",
       "  1929.22,1338.22 1930.58,1338.23 1931.95,1338.24 1933.31,1338.28 1934.68,1338.3 1936.04,1338.32 1937.4,1338.26 1938.77,1338.36 1940.13,1338.38 1941.5,1338.4 \n",
       "  1942.86,1338.44 1944.22,1338.39 1945.59,1338.48 1946.95,1338.48 1948.32,1338.5 1949.68,1338.45 1951.04,1338.54 1952.41,1338.59 1953.77,1338.59 1955.13,1338.56 \n",
       "  1956.5,1338.63 1957.86,1338.62 1959.23,1338.64 1960.59,1338.71 1961.95,1338.72 1963.32,1338.7 1964.68,1338.72 1966.05,1338.78 1967.41,1338.84 1968.77,1338.83 \n",
       "  1970.14,1338.86 1971.5,1338.85 1972.87,1338.89 1974.23,1338.89 1975.59,1338.95 1976.96,1338.95 1978.32,1338.9 1979.69,1339 1981.05,1338.95 1982.41,1339.06 \n",
       "  1983.78,1339.02 1985.14,1339.18 1986.5,1339.14 1987.87,1339.14 1989.23,1339.16 1990.6,1339.18 1991.96,1339.18 1993.32,1339.22 1994.69,1339.18 1996.05,1339.28 \n",
       "  1997.42,1339.27 1998.78,1339.32 2000.14,1339.34 2001.51,1339.35 2002.87,1339.34 2004.24,1339.42 2005.6,1339.43 2006.96,1339.45 2008.33,1339.38 2009.69,1339.5 \n",
       "  2011.06,1339.53 2012.42,1339.54 2013.78,1339.57 2015.15,1339.57 2016.51,1339.59 2017.87,1339.59 2019.24,1339.79 2020.6,1340.51 2021.97,1346.71 2023.33,1351 \n",
       "  2024.69,1351.97 2026.06,1383.24 2027.42,1410.68 2028.79,1437.97 2030.15,1466.6 2031.51,1469.94 2032.88,1470.06 2034.24,1470.23 2035.61,1470.24 2036.97,1470.24 \n",
       "  2038.33,1470.28 2039.7,1470.3 2041.06,1470.31 2042.43,1470.31 2043.79,1470.31 2045.15,1460.78 2046.52,1470.2 2047.88,1465.17 2049.24,1464.24 2050.61,1467.51 \n",
       "  2051.97,1470.11 2053.34,1469 2054.7,1466.65 2056.06,1466.56 2057.43,1468.72 2058.79,1470.15 2060.16,1469.62 2061.52,1468.67 2062.88,1467.87 2064.25,1469.06 \n",
       "  2065.61,1470.11 2066.98,1470.19 2068.34,1469.58 2069.7,1469.03 2071.07,1469.23 2072.43,1469.87 2073.79,1470.34 2075.16,1470 2076.52,1469.1 2077.89,1469.56 \n",
       "  2079.25,1470.02 2080.61,1470.28 2081.98,1470.09 2083.34,1469.86 2084.71,1469.7 2086.07,1469.86 2087.43,1470.25 2088.8,1470.09 2090.16,1469.82 2091.53,1469.87 \n",
       "  2092.89,1469.95 2094.25,1470.31 2095.62,1470.12 2096.98,1470.06 2098.35,1470.06 2099.71,1470.14 2101.07,1470.3 2102.44,1470.3 2103.8,1469.98 2105.16,1469.89 \n",
       "  2106.53,1470.01 2107.89,1470.32 2109.26,1470.24 2110.62,1470.21 2111.98,1470.24 2113.35,1470.29 2114.71,1470.42 2116.08,1470.22 2117.44,1470.22 2118.8,1470.14 \n",
       "  2120.17,1470.32 2121.53,1470.25 2122.9,1470.07 2124.26,1470.27 2125.62,1470.29 2126.99,1470.31 2128.35,1470.12 2129.72,1470.1 2131.08,1470.44 2132.44,1470.16 \n",
       "  2133.81,1470.19 2135.17,1470.14 2136.53,1470.13 2137.9,1470.29 2139.26,1470.25 2140.63,1470.32 2141.99,1470.35 2143.35,1470.34 2144.72,1470.2 2146.08,1470.32 \n",
       "  2147.45,1470.3 2148.81,1470.32 2150.17,1470.36 2151.54,1470.33 2152.9,1470.06 2154.27,1470.37 2155.63,1470.2 2156.99,1470.33 2158.36,1470.31 2159.72,1470.14 \n",
       "  2161.09,1470.35 2162.45,1470.38 2163.81,1470.21 2165.18,1470.22 2166.54,1470.33 2167.9,1470.15 2169.27,1470.37 2170.63,1470.33 2172,1470.34 2173.36,1470.36 \n",
       "  2174.72,1470.14 2176.09,1470.2 2177.45,1470.2 2178.82,1470.11 2180.18,1470.04 2181.54,1470.11 2182.91,1470.33 2184.27,1470.39 2185.64,1470.08 2187,1470.31 \n",
       "  2188.36,1470.34 2189.73,1470.2 2191.09,1470.27 2192.46,1470.31 2193.82,1470.27 2195.18,1470.2 2196.55,1470.36 2197.91,1470.34 2199.27,1470.41 2200.64,1470.39 \n",
       "  2202,1470.34 2203.37,1470.17 2204.73,1470.37 2206.09,1470.27 2207.46,1470.38 2208.82,1470.42 2210.19,1470.15 2211.55,1470.42 2212.91,1470.3 2214.28,1470.32 \n",
       "  2215.64,1470.28 2217.01,1470.39 2218.37,1470.13 2219.73,1470.21 2221.1,1470.5 2222.46,1470.39 2223.83,1470.38 2225.19,1470.25 2226.55,1470.43 2227.92,1470.37 \n",
       "  2229.28,1470.17 2230.64,1470.18 2232.01,1470.26 2233.37,1470.34 2234.74,1470.27 2236.1,1470.28 2237.46,1470.41 2238.83,1470.2 2240.19,1470.39 2241.56,1470.4 \n",
       "  2242.92,1470.38 2244.28,1470.33 2245.65,1470.24 2247.01,1470.25 2248.38,1470.25 2249.74,1470.27 2251.1,1470.4 2252.47,1470.22 2253.83,1470.43 2255.2,1470.22 \n",
       "  2256.56,1470.42 2257.92,1470.41 2259.29,1470.43 2260.65,1470.16 2262.01,1470.42 2263.38,1470.22 2264.74,1470.37 2266.11,1470.28 2267.47,1470.43 2268.83,1470.43 \n",
       "  2270.2,1470.21 2271.56,1470.32 2272.93,1470.27 2274.29,1470.39 2275.65,1470.38 2277.02,1470.42 2278.38,1470.29 2279.75,1470.28 2281.11,1470.45 2282.47,1470.37 \n",
       "  2283.84,1470.32 2285.2,1470.3 2286.57,1470.44 2287.93,1470.48 2289.29,1470.19 2290.66,1470.45 2292.02,1470.43 2293.38,1470.3 2294.75,1470.32 2296.11,1470.51 \n",
       "  2297.48,1470.33 2298.84,1470.31 2300.2,1470.34 2301.57,1470.22 2302.93,1470.33 2304.3,1470.43 2305.66,1470.28 2307.02,1470.48 2308.39,1470.46 2309.75,1470.51 \n",
       "  2311.12,1470.39 2312.48,1470.44 2313.84,1470.33 2315.21,1470.51 2316.57,1470.51 2317.94,1470.21 2319.3,1470.28 2320.66,1470.48 2322.03,1470.51 2323.39,1470.51 \n",
       "  2324.75,1470.51 2326.12,1470.51 \n",
       "  \"/>\n",
       "<path clip-path=\"url(#clip400)\" d=\"\n",
       "M1989.74 1127.95 L2280.76 1127.95 L2280.76 1006.99 L1989.74 1006.99  Z\n",
       "  \" fill=\"#ffffff\" fill-rule=\"evenodd\" fill-opacity=\"1\"/>\n",
       "<polyline clip-path=\"url(#clip400)\" style=\"stroke:#000000; stroke-width:4; stroke-opacity:1; fill:none\" points=\"\n",
       "  1989.74,1127.95 2280.76,1127.95 2280.76,1006.99 1989.74,1006.99 1989.74,1127.95 \n",
       "  \"/>\n",
       "<polyline clip-path=\"url(#clip400)\" style=\"stroke:#009af9; stroke-width:4; stroke-opacity:1; fill:none\" points=\"\n",
       "  2013.74,1067.47 2157.74,1067.47 \n",
       "  \"/>\n",
       "<path clip-path=\"url(#clip400)\" d=\"M 0 0 M2195.58 1087.16 Q2193.77 1091.79 2192.06 1093.2 Q2190.35 1094.61 2187.48 1094.61 L2184.08 1094.61 L2184.08 1091.05 L2186.58 1091.05 Q2188.33 1091.05 2189.31 1090.22 Q2190.28 1089.38 2191.46 1086.28 L2192.22 1084.34 L2181.74 1058.83 L2186.25 1058.83 L2194.35 1079.1 L2202.46 1058.83 L2206.97 1058.83 L2195.58 1087.16 Z\" fill=\"#000000\" fill-rule=\"evenodd\" fill-opacity=\"1\" /><path clip-path=\"url(#clip400)\" d=\"M 0 0 M2212.85 1080.82 L2220.49 1080.82 L2220.49 1054.45 L2212.18 1056.12 L2212.18 1051.86 L2220.44 1050.19 L2225.12 1050.19 L2225.12 1080.82 L2232.76 1080.82 L2232.76 1084.75 L2212.85 1084.75 L2212.85 1080.82 Z\" fill=\"#000000\" fill-rule=\"evenodd\" fill-opacity=\"1\" /></svg>\n"
      ]
     },
     "execution_count": 32,
     "metadata": {},
     "output_type": "execute_result"
    }
   ],
   "source": [
    "A=plot(losses_1, title=\"Method 1\",yaxis=:log)\n",
    "B=plot(losses_2, title=\"Method 2\",yaxis=:log)\n",
    "C=plot(losses_3, title=\"Method 3\",yaxis=:log)\n",
    "D=plot(losses_4, title=\"Method 4\",yaxis=:log)\n",
    "plot(A,B,C,D,layout=4)"
   ]
  },
  {
   "cell_type": "code",
   "execution_count": null,
   "metadata": {},
   "outputs": [],
   "source": []
  },
  {
   "cell_type": "markdown",
   "metadata": {},
   "source": [
    "## Albania"
   ]
  },
  {
   "cell_type": "code",
   "execution_count": 30,
   "metadata": {},
   "outputs": [
    {
     "name": "stderr",
     "output_type": "stream",
     "text": [
      "┌ Warning: `getindex(df::DataFrame, col_ind::ColumnIndex)` is deprecated, use `df[!, col_ind]` instead.\n",
      "│   caller = top-level scope at In[30]:2\n",
      "└ @ Core In[30]:2\n"
     ]
    },
    {
     "name": "stdout",
     "output_type": "stream",
     "text": [
      "\"Albania\""
     ]
    },
    {
     "name": "stderr",
     "output_type": "stream",
     "text": [
      "\u001b[32mloss: 3.39: 100%|█████████████████████████████████████████| Time: 0:00:09\u001b[39m\n",
      "\u001b[32mloss: 0.52:  22%|██████████                               |  ETA: 0:00:50\u001b[39m"
     ]
    },
    {
     "name": "stdout",
     "output_type": "stream",
     "text": [
      "0.5202004652537355\n"
     ]
    },
    {
     "name": "stderr",
     "output_type": "stream",
     "text": [
      "\u001b[32mloss: 0.428:  47%|████████████████████                     |  ETA: 0:00:34\u001b[39m"
     ]
    },
    {
     "name": "stdout",
     "output_type": "stream",
     "text": [
      "0.4282221028406128\n"
     ]
    },
    {
     "name": "stderr",
     "output_type": "stream",
     "text": [
      "\u001b[32mloss: 0.33:  72%|██████████████████████████████           |  ETA: 0:00:18\u001b[39m"
     ]
    },
    {
     "name": "stdout",
     "output_type": "stream",
     "text": [
      "0.33041577225340407\n"
     ]
    },
    {
     "name": "stderr",
     "output_type": "stream",
     "text": [
      "\u001b[32mloss: 0.241:  96%|████████████████████████████████████████ |  ETA: 0:00:02\u001b[39m"
     ]
    },
    {
     "name": "stdout",
     "output_type": "stream",
     "text": [
      "0.2409882689709145\n"
     ]
    },
    {
     "name": "stderr",
     "output_type": "stream",
     "text": [
      "\u001b[32mloss: 0.228: 100%|█████████████████████████████████████████| Time: 0:01:03\u001b[39m\n",
      "\u001b[32mloss: 0.182:  21%|█████████                                |  ETA: 0:00:52\u001b[39m"
     ]
    },
    {
     "name": "stdout",
     "output_type": "stream",
     "text": [
      "0.18245989153955125\n"
     ]
    },
    {
     "name": "stderr",
     "output_type": "stream",
     "text": [
      "\u001b[32mloss: 0.135:  46%|███████████████████                      |  ETA: 0:00:35\u001b[39m"
     ]
    },
    {
     "name": "stdout",
     "output_type": "stream",
     "text": [
      "0.1349705283422089\n"
     ]
    },
    {
     "name": "stderr",
     "output_type": "stream",
     "text": [
      "\u001b[32mloss: 0.0978:  70%|█████████████████████████████            |  ETA: 0:00:19\u001b[39m"
     ]
    },
    {
     "name": "stdout",
     "output_type": "stream",
     "text": [
      "0.0978421697288056\n"
     ]
    },
    {
     "name": "stderr",
     "output_type": "stream",
     "text": [
      "\u001b[32mloss: 0.0694:  95%|███████████████████████████████████████  |  ETA: 0:00:03\u001b[39m"
     ]
    },
    {
     "name": "stdout",
     "output_type": "stream",
     "text": [
      "0.0694044604577963\n"
     ]
    },
    {
     "name": "stderr",
     "output_type": "stream",
     "text": [
      "\u001b[32mloss: 0.0646: 100%|█████████████████████████████████████████| Time: 0:01:01\u001b[39m\n",
      "\u001b[32mloss: 0.0619:  20%|████████                                 |  ETA: 0:00:48\u001b[39m"
     ]
    },
    {
     "name": "stdout",
     "output_type": "stream",
     "text": [
      "0.061907315028414775\n"
     ]
    },
    {
     "name": "stderr",
     "output_type": "stream",
     "text": [
      "\u001b[32mloss: 0.0587:  44%|███████████████████                      |  ETA: 0:00:33\u001b[39m"
     ]
    },
    {
     "name": "stdout",
     "output_type": "stream",
     "text": [
      "0.05874211719777591\n"
     ]
    },
    {
     "name": "stderr",
     "output_type": "stream",
     "text": [
      "\u001b[32mloss: 0.0557:  69%|█████████████████████████████            |  ETA: 0:00:18\u001b[39m"
     ]
    },
    {
     "name": "stdout",
     "output_type": "stream",
     "text": [
      "0.05566973305730285\n"
     ]
    },
    {
     "name": "stderr",
     "output_type": "stream",
     "text": [
      "\u001b[32mloss: 0.0527:  94%|███████████████████████████████████████  |  ETA: 0:00:04\u001b[39m"
     ]
    },
    {
     "name": "stdout",
     "output_type": "stream",
     "text": [
      "0.05271741852823599\n"
     ]
    },
    {
     "name": "stderr",
     "output_type": "stream",
     "text": [
      "\u001b[32mloss: 0.052: 100%|█████████████████████████████████████████| Time: 0:00:59\u001b[39m\n"
     ]
    },
    {
     "name": "stdout",
     "output_type": "stream",
     "text": [
      "\"Albania\""
     ]
    },
    {
     "name": "stderr",
     "output_type": "stream",
     "text": [
      "┌ Warning: `getindex(df::DataFrame, col_ind::ColumnIndex)` is deprecated, use `df[!, col_ind]` instead.\n",
      "│   caller = top-level scope at In[30]:3\n",
      "└ @ Core In[30]:3\n",
      "\u001b[32mloss: 3.39: 100%|█████████████████████████████████████████| Time: 0:00:01\u001b[39m\n",
      "\u001b[32mloss: 0.52:   7%|███                                      |  ETA: 0:02:59\u001b[39m"
     ]
    },
    {
     "name": "stdout",
     "output_type": "stream",
     "text": [
      "0.5202004652537355\n"
     ]
    },
    {
     "name": "stderr",
     "output_type": "stream",
     "text": [
      "\u001b[32mloss: 0.428:  16%|███████                                  |  ETA: 0:02:44\u001b[39m"
     ]
    },
    {
     "name": "stdout",
     "output_type": "stream",
     "text": [
      "0.4282221028406128\n"
     ]
    },
    {
     "name": "stderr",
     "output_type": "stream",
     "text": [
      "\u001b[32mloss: 0.33:  24%|██████████                               |  ETA: 0:02:26\u001b[39m"
     ]
    },
    {
     "name": "stdout",
     "output_type": "stream",
     "text": [
      "0.33041577225340407\n"
     ]
    },
    {
     "name": "stderr",
     "output_type": "stream",
     "text": [
      "\u001b[32mloss: 0.241:  32%|██████████████                           |  ETA: 0:02:10\u001b[39m"
     ]
    },
    {
     "name": "stdout",
     "output_type": "stream",
     "text": [
      "0.2409882689709145\n"
     ]
    },
    {
     "name": "stderr",
     "output_type": "stream",
     "text": [
      "\u001b[32mloss: 0.166:  40%|█████████████████                        |  ETA: 0:01:54\u001b[39m"
     ]
    },
    {
     "name": "stdout",
     "output_type": "stream",
     "text": [
      "0.16580207402984562\n"
     ]
    },
    {
     "name": "stderr",
     "output_type": "stream",
     "text": [
      "\u001b[32mloss: 0.108:  48%|████████████████████                     |  ETA: 0:01:37\u001b[39m"
     ]
    },
    {
     "name": "stdout",
     "output_type": "stream",
     "text": [
      "0.10784048369770836\n"
     ]
    },
    {
     "name": "stderr",
     "output_type": "stream",
     "text": [
      "\u001b[32mloss: 0.0667:  57%|████████████████████████                 |  ETA: 0:01:21\u001b[39m"
     ]
    },
    {
     "name": "stdout",
     "output_type": "stream",
     "text": [
      "0.06669300842846904\n"
     ]
    },
    {
     "name": "stderr",
     "output_type": "stream",
     "text": [
      "\u001b[32mloss: 0.0396:  65%|███████████████████████████              |  ETA: 0:01:06\u001b[39m"
     ]
    },
    {
     "name": "stdout",
     "output_type": "stream",
     "text": [
      "0.03955604127921007\n"
     ]
    },
    {
     "name": "stderr",
     "output_type": "stream",
     "text": [
      "\u001b[32mloss: 0.0229:  73%|███████████████████████████████          |  ETA: 0:00:50\u001b[39m"
     ]
    },
    {
     "name": "stdout",
     "output_type": "stream",
     "text": [
      "0.022936486983572917\n"
     ]
    },
    {
     "name": "stderr",
     "output_type": "stream",
     "text": [
      "\u001b[32mloss: 0.0136:  82%|██████████████████████████████████       |  ETA: 0:00:34\u001b[39m"
     ]
    },
    {
     "name": "stdout",
     "output_type": "stream",
     "text": [
      "0.01362561958694419\n"
     ]
    },
    {
     "name": "stderr",
     "output_type": "stream",
     "text": [
      "\u001b[32mloss: 0.00877:  90%|█████████████████████████████████████    |  ETA: 0:00:19\u001b[39m"
     ]
    },
    {
     "name": "stdout",
     "output_type": "stream",
     "text": [
      "0.00877359658031314\n"
     ]
    },
    {
     "name": "stderr",
     "output_type": "stream",
     "text": [
      "\u001b[32mloss: 0.00641:  98%|█████████████████████████████████████████|  ETA: 0:00:04\u001b[39m"
     ]
    },
    {
     "name": "stdout",
     "output_type": "stream",
     "text": [
      "0.006407769096686765\n"
     ]
    },
    {
     "name": "stderr",
     "output_type": "stream",
     "text": [
      "\u001b[32mloss: 0.00607: 100%|█████████████████████████████████████████| Time: 0:03:03\u001b[39m\n"
     ]
    },
    {
     "name": "stdout",
     "output_type": "stream",
     "text": [
      "\"Albania\""
     ]
    },
    {
     "name": "stderr",
     "output_type": "stream",
     "text": [
      "┌ Warning: `getindex(df::DataFrame, col_ind::ColumnIndex)` is deprecated, use `df[!, col_ind]` instead.\n",
      "│   caller = top-level scope at In[30]:4\n",
      "└ @ Core In[30]:4\n",
      "\u001b[32mloss: 3.39: 100%|█████████████████████████████████████████| Time: 0:00:01\u001b[39m\n"
     ]
    },
    {
     "name": "stdout",
     "output_type": "stream",
     "text": [
      "\"Albania\""
     ]
    },
    {
     "name": "stderr",
     "output_type": "stream",
     "text": [
      "┌ Warning: `getindex(df::DataFrame, col_ind::ColumnIndex)` is deprecated, use `df[!, col_ind]` instead.\n",
      "│   caller = top-level scope at In[30]:5\n",
      "└ @ Core In[30]:5\n",
      "\u001b[32mloss: 3.39: 100%|█████████████████████████████████████████| Time: 0:00:01\u001b[39m\n",
      "\u001b[32mloss: 0.52:  44%|███████████████████                      |  ETA: 0:00:18\u001b[39m"
     ]
    },
    {
     "name": "stdout",
     "output_type": "stream",
     "text": [
      "0.5202004652537355\n"
     ]
    },
    {
     "name": "stderr",
     "output_type": "stream",
     "text": [
      "\u001b[32mloss: 0.428:  94%|███████████████████████████████████████  |  ETA: 0:00:02\u001b[39m"
     ]
    },
    {
     "name": "stdout",
     "output_type": "stream",
     "text": [
      "0.4282221028406128\n"
     ]
    },
    {
     "name": "stderr",
     "output_type": "stream",
     "text": [
      "\u001b[32mloss: 0.415: 100%|█████████████████████████████████████████| Time: 0:00:31\u001b[39m\n",
      "\u001b[32mloss: 0.00137:  38%|████████████████                         |  ETA: 0:00:17\u001b[39m"
     ]
    },
    {
     "name": "stdout",
     "output_type": "stream",
     "text": [
      "0.0013717454833754427"
     ]
    },
    {
     "name": "stderr",
     "output_type": "stream",
     "text": []
    },
    {
     "name": "stdout",
     "output_type": "stream",
     "text": [
      "\n"
     ]
    },
    {
     "name": "stderr",
     "output_type": "stream",
     "text": [
      "\u001b[32mloss: 0.00131:  88%|█████████████████████████████████████    |  ETA: 0:00:04\u001b[39m"
     ]
    },
    {
     "name": "stdout",
     "output_type": "stream",
     "text": [
      "0.0013096298301427673\n"
     ]
    },
    {
     "name": "stderr",
     "output_type": "stream",
     "text": [
      "\u001b[32mloss: 0.0013: 100%|█████████████████████████████████████████| Time: 0:00:29\u001b[39m\n",
      "\u001b[32mloss: 4.53e-06:  20%|█████████                                |  ETA: 0:00:16\u001b[39m"
     ]
    },
    {
     "name": "stdout",
     "output_type": "stream",
     "text": [
      "4.530063770346676e-6\n"
     ]
    },
    {
     "name": "stderr",
     "output_type": "stream",
     "text": [
      "\u001b[32mloss: 4.44e-06:  69%|█████████████████████████████            |  ETA: 0:00:06\u001b[39m"
     ]
    },
    {
     "name": "stdout",
     "output_type": "stream",
     "text": [
      "4.441434285516169e-6\n"
     ]
    },
    {
     "name": "stderr",
     "output_type": "stream",
     "text": [
      "\u001b[32mloss: 4.44e-06: 100%|█████████████████████████████████████████| Time: 0:00:19\u001b[39m\n"
     ]
    },
    {
     "data": {
      "text/plain": [
       "(Float32[0.22321294, -0.31623438, 0.23800781, 0.36329645, 0.25456667, 0.37133747, 0.38237998, -0.4809996, -0.07650858, -0.0014740916  …  0.28558522, -0.35215542, 0.36180803, 0.0868105, 0.18503463, -0.24004148, -0.14164543, 0.34356543, 0.2470736, 0.0108148195], Float32[0.0024, 0.00962341, 0.0022575771, -0.0013110349, -0.0016219529, -0.000350965, 0.0016031144, 0.003205135, 0.0037935516, 0.0036603387  …  0.0013399996, 0.0015899808, 0.0020493385, 0.0026346568, 0.0032632484, 0.003857775, 0.0043088966, 0.004423624, 0.0040836986, 0.0032745276], Any[37.609786435907175, 5.890885353118405, 1.6504116855782642, 10.888369541005138, 15.432012267638054, 12.112278175370534, 5.784641336858722, 1.3502821922018797, 0.8601471836409311, 3.3907749570866064  …  4.440161890101108e-6, 4.440791127031347e-6, 4.440753624490821e-6, 4.439705019190779e-6, 4.437075920800146e-6, 4.440662474992061e-6, 4.440564454760878e-6, 4.439160858665849e-6, 4.437258194989046e-6, 4.437258194989046e-6])"
      ]
     },
     "execution_count": 30,
     "metadata": {},
     "output_type": "execute_result"
    }
   ],
   "source": [
    "actual1= getCleandataFrame(country1)\n",
    "para_1a,pred_value_1a,losses_1a=train_eqn2_addition_modified(country1, training_1[country1],nnp,trainer1)\n",
    "para_2a,pred_value_2a,losses_2a=train_eqn2_addition_modified(country1, training_1[country1],nnp,trainer2)\n",
    "para_3a,pred_value_3a,losses_3a=train_eqn2_addition_modified(country1, training_1[country1],nnp,trainer3)\n",
    "para_4a,pred_value_4a,losses_4a=train_eqn2_addition_modified(country1, training_1[country1],nnp,trainer4)"
   ]
  },
  {
   "cell_type": "code",
   "execution_count": 31,
   "metadata": {},
   "outputs": [
    {
     "data": {
      "image/svg+xml": [
       "<?xml version=\"1.0\" encoding=\"utf-8\"?>\n",
       "<svg xmlns=\"http://www.w3.org/2000/svg\" xmlns:xlink=\"http://www.w3.org/1999/xlink\" width=\"600\" height=\"400\" viewBox=\"0 0 2400 1600\">\n",
       "<defs>\n",
       "  <clipPath id=\"clip360\">\n",
       "    <rect x=\"0\" y=\"0\" width=\"2400\" height=\"1600\"/>\n",
       "  </clipPath>\n",
       "</defs>\n",
       "<path clip-path=\"url(#clip360)\" d=\"\n",
       "M0 1600 L2400 1600 L2400 0 L0 0  Z\n",
       "  \" fill=\"#ffffff\" fill-rule=\"evenodd\" fill-opacity=\"1\"/>\n",
       "<defs>\n",
       "  <clipPath id=\"clip361\">\n",
       "    <rect x=\"480\" y=\"0\" width=\"1681\" height=\"1600\"/>\n",
       "  </clipPath>\n",
       "</defs>\n",
       "<path clip-path=\"url(#clip360)\" d=\"\n",
       "M247.061 686.448 L1170.5 686.448 L1170.5 123.472 L247.061 123.472  Z\n",
       "  \" fill=\"#ffffff\" fill-rule=\"evenodd\" fill-opacity=\"1\"/>\n",
       "<defs>\n",
       "  <clipPath id=\"clip362\">\n",
       "    <rect x=\"247\" y=\"123\" width=\"924\" height=\"564\"/>\n",
       "  </clipPath>\n",
       "</defs>\n",
       "<polyline clip-path=\"url(#clip362)\" style=\"stroke:#000000; stroke-width:2; stroke-opacity:0.1; fill:none\" points=\"\n",
       "  272.478,686.448 272.478,123.472 \n",
       "  \"/>\n",
       "<polyline clip-path=\"url(#clip362)\" style=\"stroke:#000000; stroke-width:2; stroke-opacity:0.1; fill:none\" points=\"\n",
       "  416.116,686.448 416.116,123.472 \n",
       "  \"/>\n",
       "<polyline clip-path=\"url(#clip362)\" style=\"stroke:#000000; stroke-width:2; stroke-opacity:0.1; fill:none\" points=\"\n",
       "  559.755,686.448 559.755,123.472 \n",
       "  \"/>\n",
       "<polyline clip-path=\"url(#clip362)\" style=\"stroke:#000000; stroke-width:2; stroke-opacity:0.1; fill:none\" points=\"\n",
       "  703.393,686.448 703.393,123.472 \n",
       "  \"/>\n",
       "<polyline clip-path=\"url(#clip362)\" style=\"stroke:#000000; stroke-width:2; stroke-opacity:0.1; fill:none\" points=\"\n",
       "  847.032,686.448 847.032,123.472 \n",
       "  \"/>\n",
       "<polyline clip-path=\"url(#clip362)\" style=\"stroke:#000000; stroke-width:2; stroke-opacity:0.1; fill:none\" points=\"\n",
       "  990.671,686.448 990.671,123.472 \n",
       "  \"/>\n",
       "<polyline clip-path=\"url(#clip362)\" style=\"stroke:#000000; stroke-width:2; stroke-opacity:0.1; fill:none\" points=\"\n",
       "  1134.31,686.448 1134.31,123.472 \n",
       "  \"/>\n",
       "<polyline clip-path=\"url(#clip362)\" style=\"stroke:#000000; stroke-width:2; stroke-opacity:0.1; fill:none\" points=\"\n",
       "  247.061,617.751 1170.5,617.751 \n",
       "  \"/>\n",
       "<polyline clip-path=\"url(#clip362)\" style=\"stroke:#000000; stroke-width:2; stroke-opacity:0.1; fill:none\" points=\"\n",
       "  247.061,524.879 1170.5,524.879 \n",
       "  \"/>\n",
       "<polyline clip-path=\"url(#clip362)\" style=\"stroke:#000000; stroke-width:2; stroke-opacity:0.1; fill:none\" points=\"\n",
       "  247.061,432.007 1170.5,432.007 \n",
       "  \"/>\n",
       "<polyline clip-path=\"url(#clip362)\" style=\"stroke:#000000; stroke-width:2; stroke-opacity:0.1; fill:none\" points=\"\n",
       "  247.061,339.136 1170.5,339.136 \n",
       "  \"/>\n",
       "<polyline clip-path=\"url(#clip362)\" style=\"stroke:#000000; stroke-width:2; stroke-opacity:0.1; fill:none\" points=\"\n",
       "  247.061,246.264 1170.5,246.264 \n",
       "  \"/>\n",
       "<polyline clip-path=\"url(#clip362)\" style=\"stroke:#000000; stroke-width:2; stroke-opacity:0.1; fill:none\" points=\"\n",
       "  247.061,153.392 1170.5,153.392 \n",
       "  \"/>\n",
       "<polyline clip-path=\"url(#clip360)\" style=\"stroke:#000000; stroke-width:4; stroke-opacity:1; fill:none\" points=\"\n",
       "  247.061,686.448 1170.5,686.448 \n",
       "  \"/>\n",
       "<polyline clip-path=\"url(#clip360)\" style=\"stroke:#000000; stroke-width:4; stroke-opacity:1; fill:none\" points=\"\n",
       "  247.061,686.448 247.061,123.472 \n",
       "  \"/>\n",
       "<polyline clip-path=\"url(#clip360)\" style=\"stroke:#000000; stroke-width:4; stroke-opacity:1; fill:none\" points=\"\n",
       "  272.478,686.448 272.478,679.692 \n",
       "  \"/>\n",
       "<polyline clip-path=\"url(#clip360)\" style=\"stroke:#000000; stroke-width:4; stroke-opacity:1; fill:none\" points=\"\n",
       "  416.116,686.448 416.116,679.692 \n",
       "  \"/>\n",
       "<polyline clip-path=\"url(#clip360)\" style=\"stroke:#000000; stroke-width:4; stroke-opacity:1; fill:none\" points=\"\n",
       "  559.755,686.448 559.755,679.692 \n",
       "  \"/>\n",
       "<polyline clip-path=\"url(#clip360)\" style=\"stroke:#000000; stroke-width:4; stroke-opacity:1; fill:none\" points=\"\n",
       "  703.393,686.448 703.393,679.692 \n",
       "  \"/>\n",
       "<polyline clip-path=\"url(#clip360)\" style=\"stroke:#000000; stroke-width:4; stroke-opacity:1; fill:none\" points=\"\n",
       "  847.032,686.448 847.032,679.692 \n",
       "  \"/>\n",
       "<polyline clip-path=\"url(#clip360)\" style=\"stroke:#000000; stroke-width:4; stroke-opacity:1; fill:none\" points=\"\n",
       "  990.671,686.448 990.671,679.692 \n",
       "  \"/>\n",
       "<polyline clip-path=\"url(#clip360)\" style=\"stroke:#000000; stroke-width:4; stroke-opacity:1; fill:none\" points=\"\n",
       "  1134.31,686.448 1134.31,679.692 \n",
       "  \"/>\n",
       "<polyline clip-path=\"url(#clip360)\" style=\"stroke:#000000; stroke-width:4; stroke-opacity:1; fill:none\" points=\"\n",
       "  247.061,617.751 258.142,617.751 \n",
       "  \"/>\n",
       "<polyline clip-path=\"url(#clip360)\" style=\"stroke:#000000; stroke-width:4; stroke-opacity:1; fill:none\" points=\"\n",
       "  247.061,524.879 258.142,524.879 \n",
       "  \"/>\n",
       "<polyline clip-path=\"url(#clip360)\" style=\"stroke:#000000; stroke-width:4; stroke-opacity:1; fill:none\" points=\"\n",
       "  247.061,432.007 258.142,432.007 \n",
       "  \"/>\n",
       "<polyline clip-path=\"url(#clip360)\" style=\"stroke:#000000; stroke-width:4; stroke-opacity:1; fill:none\" points=\"\n",
       "  247.061,339.136 258.142,339.136 \n",
       "  \"/>\n",
       "<polyline clip-path=\"url(#clip360)\" style=\"stroke:#000000; stroke-width:4; stroke-opacity:1; fill:none\" points=\"\n",
       "  247.061,246.264 258.142,246.264 \n",
       "  \"/>\n",
       "<polyline clip-path=\"url(#clip360)\" style=\"stroke:#000000; stroke-width:4; stroke-opacity:1; fill:none\" points=\"\n",
       "  247.061,153.392 258.142,153.392 \n",
       "  \"/>\n",
       "<path clip-path=\"url(#clip360)\" d=\"M 0 0 M272.478 708.439 Q268.866 708.439 267.038 712.003 Q265.232 715.545 265.232 722.675 Q265.232 729.781 267.038 733.346 Q268.866 736.887 272.478 736.887 Q276.112 736.887 277.917 733.346 Q279.746 729.781 279.746 722.675 Q279.746 715.545 277.917 712.003 Q276.112 708.439 272.478 708.439 M272.478 704.735 Q278.288 704.735 281.343 709.341 Q284.422 713.925 284.422 722.675 Q284.422 731.401 281.343 736.008 Q278.288 740.591 272.478 740.591 Q266.667 740.591 263.589 736.008 Q260.533 731.401 260.533 722.675 Q260.533 713.925 263.589 709.341 Q266.667 704.735 272.478 704.735 Z\" fill=\"#000000\" fill-rule=\"evenodd\" fill-opacity=\"1\" /><path clip-path=\"url(#clip360)\" d=\"M 0 0 M383.755 735.985 L400.075 735.985 L400.075 739.92 L378.13 739.92 L378.13 735.985 Q380.792 733.23 385.376 728.6 Q389.982 723.948 391.163 722.605 Q393.408 720.082 394.288 718.346 Q395.19 716.587 395.19 714.897 Q395.19 712.142 393.246 710.406 Q391.325 708.67 388.223 708.67 Q386.024 708.67 383.57 709.434 Q381.139 710.198 378.362 711.749 L378.362 707.027 Q381.186 705.892 383.639 705.314 Q386.093 704.735 388.13 704.735 Q393.501 704.735 396.695 707.42 Q399.889 710.105 399.889 714.596 Q399.889 716.726 399.079 718.647 Q398.292 720.545 396.186 723.138 Q395.607 723.809 392.505 727.026 Q389.403 730.221 383.755 735.985 Z\" fill=\"#000000\" fill-rule=\"evenodd\" fill-opacity=\"1\" /><path clip-path=\"url(#clip360)\" d=\"M 0 0 M415.144 708.439 Q411.533 708.439 409.704 712.003 Q407.899 715.545 407.899 722.675 Q407.899 729.781 409.704 733.346 Q411.533 736.887 415.144 736.887 Q418.778 736.887 420.584 733.346 Q422.412 729.781 422.412 722.675 Q422.412 715.545 420.584 712.003 Q418.778 708.439 415.144 708.439 M415.144 704.735 Q420.954 704.735 424.01 709.341 Q427.088 713.925 427.088 722.675 Q427.088 731.401 424.01 736.008 Q420.954 740.591 415.144 740.591 Q409.334 740.591 406.255 736.008 Q403.2 731.401 403.2 722.675 Q403.2 713.925 406.255 709.341 Q409.334 704.735 415.144 704.735 Z\" fill=\"#000000\" fill-rule=\"evenodd\" fill-opacity=\"1\" /><path clip-path=\"url(#clip360)\" d=\"M 0 0 M442.158 708.439 Q438.547 708.439 436.718 712.003 Q434.912 715.545 434.912 722.675 Q434.912 729.781 436.718 733.346 Q438.547 736.887 442.158 736.887 Q445.792 736.887 447.597 733.346 Q449.426 729.781 449.426 722.675 Q449.426 715.545 447.597 712.003 Q445.792 708.439 442.158 708.439 M442.158 704.735 Q447.968 704.735 451.023 709.341 Q454.102 713.925 454.102 722.675 Q454.102 731.401 451.023 736.008 Q447.968 740.591 442.158 740.591 Q436.348 740.591 433.269 736.008 Q430.213 731.401 430.213 722.675 Q430.213 713.925 433.269 709.341 Q436.348 704.735 442.158 704.735 Z\" fill=\"#000000\" fill-rule=\"evenodd\" fill-opacity=\"1\" /><path clip-path=\"url(#clip360)\" d=\"M 0 0 M535.75 709.434 L523.945 727.883 L535.75 727.883 L535.75 709.434 M534.523 705.36 L540.403 705.36 L540.403 727.883 L545.334 727.883 L545.334 731.772 L540.403 731.772 L540.403 739.92 L535.75 739.92 L535.75 731.772 L520.148 731.772 L520.148 727.258 L534.523 705.36 Z\" fill=\"#000000\" fill-rule=\"evenodd\" fill-opacity=\"1\" /><path clip-path=\"url(#clip360)\" d=\"M 0 0 M560.403 708.439 Q556.792 708.439 554.963 712.003 Q553.158 715.545 553.158 722.675 Q553.158 729.781 554.963 733.346 Q556.792 736.887 560.403 736.887 Q564.037 736.887 565.843 733.346 Q567.671 729.781 567.671 722.675 Q567.671 715.545 565.843 712.003 Q564.037 708.439 560.403 708.439 M560.403 704.735 Q566.213 704.735 569.269 709.341 Q572.347 713.925 572.347 722.675 Q572.347 731.401 569.269 736.008 Q566.213 740.591 560.403 740.591 Q554.593 740.591 551.514 736.008 Q548.459 731.401 548.459 722.675 Q548.459 713.925 551.514 709.341 Q554.593 704.735 560.403 704.735 Z\" fill=\"#000000\" fill-rule=\"evenodd\" fill-opacity=\"1\" /><path clip-path=\"url(#clip360)\" d=\"M 0 0 M587.417 708.439 Q583.806 708.439 581.977 712.003 Q580.171 715.545 580.171 722.675 Q580.171 729.781 581.977 733.346 Q583.806 736.887 587.417 736.887 Q591.051 736.887 592.856 733.346 Q594.685 729.781 594.685 722.675 Q594.685 715.545 592.856 712.003 Q591.051 708.439 587.417 708.439 M587.417 704.735 Q593.227 704.735 596.282 709.341 Q599.361 713.925 599.361 722.675 Q599.361 731.401 596.282 736.008 Q593.227 740.591 587.417 740.591 Q581.606 740.591 578.528 736.008 Q575.472 731.401 575.472 722.675 Q575.472 713.925 578.528 709.341 Q581.606 704.735 587.417 704.735 Z\" fill=\"#000000\" fill-rule=\"evenodd\" fill-opacity=\"1\" /><path clip-path=\"url(#clip360)\" d=\"M 0 0 M676.785 720.776 Q673.637 720.776 671.785 722.929 Q669.956 725.082 669.956 728.832 Q669.956 732.559 671.785 734.735 Q673.637 736.887 676.785 736.887 Q679.933 736.887 681.762 734.735 Q683.613 732.559 683.613 728.832 Q683.613 725.082 681.762 722.929 Q679.933 720.776 676.785 720.776 M686.067 706.124 L686.067 710.383 Q684.308 709.55 682.502 709.11 Q680.72 708.67 678.961 708.67 Q674.331 708.67 671.877 711.795 Q669.447 714.92 669.1 721.239 Q670.465 719.226 672.525 718.161 Q674.586 717.073 677.062 717.073 Q682.271 717.073 685.28 720.244 Q688.312 723.392 688.312 728.832 Q688.312 734.156 685.164 737.374 Q682.016 740.591 676.785 740.591 Q670.789 740.591 667.618 736.008 Q664.447 731.401 664.447 722.675 Q664.447 714.48 668.336 709.619 Q672.225 704.735 678.775 704.735 Q680.535 704.735 682.317 705.082 Q684.123 705.429 686.067 706.124 Z\" fill=\"#000000\" fill-rule=\"evenodd\" fill-opacity=\"1\" /><path clip-path=\"url(#clip360)\" d=\"M 0 0 M703.382 708.439 Q699.771 708.439 697.942 712.003 Q696.136 715.545 696.136 722.675 Q696.136 729.781 697.942 733.346 Q699.771 736.887 703.382 736.887 Q707.016 736.887 708.822 733.346 Q710.65 729.781 710.65 722.675 Q710.65 715.545 708.822 712.003 Q707.016 708.439 703.382 708.439 M703.382 704.735 Q709.192 704.735 712.247 709.341 Q715.326 713.925 715.326 722.675 Q715.326 731.401 712.247 736.008 Q709.192 740.591 703.382 740.591 Q697.572 740.591 694.493 736.008 Q691.437 731.401 691.437 722.675 Q691.437 713.925 694.493 709.341 Q697.572 704.735 703.382 704.735 Z\" fill=\"#000000\" fill-rule=\"evenodd\" fill-opacity=\"1\" /><path clip-path=\"url(#clip360)\" d=\"M 0 0 M730.396 708.439 Q726.784 708.439 724.956 712.003 Q723.15 715.545 723.15 722.675 Q723.15 729.781 724.956 733.346 Q726.784 736.887 730.396 736.887 Q734.03 736.887 735.835 733.346 Q737.664 729.781 737.664 722.675 Q737.664 715.545 735.835 712.003 Q734.03 708.439 730.396 708.439 M730.396 704.735 Q736.206 704.735 739.261 709.341 Q742.34 713.925 742.34 722.675 Q742.34 731.401 739.261 736.008 Q736.206 740.591 730.396 740.591 Q724.585 740.591 721.507 736.008 Q718.451 731.401 718.451 722.675 Q718.451 713.925 721.507 709.341 Q724.585 704.735 730.396 704.735 Z\" fill=\"#000000\" fill-rule=\"evenodd\" fill-opacity=\"1\" /><path clip-path=\"url(#clip360)\" d=\"M 0 0 M820.018 723.508 Q816.685 723.508 814.764 725.29 Q812.865 727.073 812.865 730.198 Q812.865 733.323 814.764 735.105 Q816.685 736.887 820.018 736.887 Q823.352 736.887 825.273 735.105 Q827.194 733.3 827.194 730.198 Q827.194 727.073 825.273 725.29 Q823.375 723.508 820.018 723.508 M815.342 721.517 Q812.333 720.776 810.643 718.716 Q808.977 716.656 808.977 713.693 Q808.977 709.55 811.916 707.142 Q814.879 704.735 820.018 704.735 Q825.18 704.735 828.12 707.142 Q831.06 709.55 831.06 713.693 Q831.06 716.656 829.37 718.716 Q827.703 720.776 824.717 721.517 Q828.097 722.304 829.972 724.596 Q831.87 726.888 831.87 730.198 Q831.87 735.221 828.791 737.906 Q825.736 740.591 820.018 740.591 Q814.301 740.591 811.222 737.906 Q808.166 735.221 808.166 730.198 Q808.166 726.888 810.065 724.596 Q811.963 722.304 815.342 721.517 M813.629 714.133 Q813.629 716.818 815.296 718.323 Q816.986 719.827 820.018 719.827 Q823.027 719.827 824.717 718.323 Q826.43 716.818 826.43 714.133 Q826.43 711.448 824.717 709.943 Q823.027 708.439 820.018 708.439 Q816.986 708.439 815.296 709.943 Q813.629 711.448 813.629 714.133 Z\" fill=\"#000000\" fill-rule=\"evenodd\" fill-opacity=\"1\" /><path clip-path=\"url(#clip360)\" d=\"M 0 0 M846.939 708.439 Q843.328 708.439 841.5 712.003 Q839.694 715.545 839.694 722.675 Q839.694 729.781 841.5 733.346 Q843.328 736.887 846.939 736.887 Q850.574 736.887 852.379 733.346 Q854.208 729.781 854.208 722.675 Q854.208 715.545 852.379 712.003 Q850.574 708.439 846.939 708.439 M846.939 704.735 Q852.749 704.735 855.805 709.341 Q858.884 713.925 858.884 722.675 Q858.884 731.401 855.805 736.008 Q852.749 740.591 846.939 740.591 Q841.129 740.591 838.051 736.008 Q834.995 731.401 834.995 722.675 Q834.995 713.925 838.051 709.341 Q841.129 704.735 846.939 704.735 Z\" fill=\"#000000\" fill-rule=\"evenodd\" fill-opacity=\"1\" /><path clip-path=\"url(#clip360)\" d=\"M 0 0 M873.953 708.439 Q870.342 708.439 868.513 712.003 Q866.708 715.545 866.708 722.675 Q866.708 729.781 868.513 733.346 Q870.342 736.887 873.953 736.887 Q877.587 736.887 879.393 733.346 Q881.222 729.781 881.222 722.675 Q881.222 715.545 879.393 712.003 Q877.587 708.439 873.953 708.439 M873.953 704.735 Q879.763 704.735 882.819 709.341 Q885.897 713.925 885.897 722.675 Q885.897 731.401 882.819 736.008 Q879.763 740.591 873.953 740.591 Q868.143 740.591 865.064 736.008 Q862.009 731.401 862.009 722.675 Q862.009 713.925 865.064 709.341 Q868.143 704.735 873.953 704.735 Z\" fill=\"#000000\" fill-rule=\"evenodd\" fill-opacity=\"1\" /><path clip-path=\"url(#clip360)\" d=\"M 0 0 M940.532 735.985 L948.171 735.985 L948.171 709.619 L939.861 711.286 L939.861 707.027 L948.124 705.36 L952.8 705.36 L952.8 735.985 L960.439 735.985 L960.439 739.92 L940.532 739.92 L940.532 735.985 Z\" fill=\"#000000\" fill-rule=\"evenodd\" fill-opacity=\"1\" /><path clip-path=\"url(#clip360)\" d=\"M 0 0 M975.509 708.439 Q971.897 708.439 970.069 712.003 Q968.263 715.545 968.263 722.675 Q968.263 729.781 970.069 733.346 Q971.897 736.887 975.509 736.887 Q979.143 736.887 980.948 733.346 Q982.777 729.781 982.777 722.675 Q982.777 715.545 980.948 712.003 Q979.143 708.439 975.509 708.439 M975.509 704.735 Q981.319 704.735 984.374 709.341 Q987.453 713.925 987.453 722.675 Q987.453 731.401 984.374 736.008 Q981.319 740.591 975.509 740.591 Q969.698 740.591 966.62 736.008 Q963.564 731.401 963.564 722.675 Q963.564 713.925 966.62 709.341 Q969.698 704.735 975.509 704.735 Z\" fill=\"#000000\" fill-rule=\"evenodd\" fill-opacity=\"1\" /><path clip-path=\"url(#clip360)\" d=\"M 0 0 M1002.52 708.439 Q998.911 708.439 997.083 712.003 Q995.277 715.545 995.277 722.675 Q995.277 729.781 997.083 733.346 Q998.911 736.887 1002.52 736.887 Q1006.16 736.887 1007.96 733.346 Q1009.79 729.781 1009.79 722.675 Q1009.79 715.545 1007.96 712.003 Q1006.16 708.439 1002.52 708.439 M1002.52 704.735 Q1008.33 704.735 1011.39 709.341 Q1014.47 713.925 1014.47 722.675 Q1014.47 731.401 1011.39 736.008 Q1008.33 740.591 1002.52 740.591 Q996.712 740.591 993.633 736.008 Q990.578 731.401 990.578 722.675 Q990.578 713.925 993.633 709.341 Q996.712 704.735 1002.52 704.735 Z\" fill=\"#000000\" fill-rule=\"evenodd\" fill-opacity=\"1\" /><path clip-path=\"url(#clip360)\" d=\"M 0 0 M1029.54 708.439 Q1025.92 708.439 1024.1 712.003 Q1022.29 715.545 1022.29 722.675 Q1022.29 729.781 1024.1 733.346 Q1025.92 736.887 1029.54 736.887 Q1033.17 736.887 1034.98 733.346 Q1036.8 729.781 1036.8 722.675 Q1036.8 715.545 1034.98 712.003 Q1033.17 708.439 1029.54 708.439 M1029.54 704.735 Q1035.35 704.735 1038.4 709.341 Q1041.48 713.925 1041.48 722.675 Q1041.48 731.401 1038.4 736.008 Q1035.35 740.591 1029.54 740.591 Q1023.73 740.591 1020.65 736.008 Q1017.59 731.401 1017.59 722.675 Q1017.59 713.925 1020.65 709.341 Q1023.73 704.735 1029.54 704.735 Z\" fill=\"#000000\" fill-rule=\"evenodd\" fill-opacity=\"1\" /><path clip-path=\"url(#clip360)\" d=\"M 0 0 M1084.97 735.985 L1092.61 735.985 L1092.61 709.619 L1084.3 711.286 L1084.3 707.027 L1092.56 705.36 L1097.24 705.36 L1097.24 735.985 L1104.88 735.985 L1104.88 739.92 L1084.97 739.92 L1084.97 735.985 Z\" fill=\"#000000\" fill-rule=\"evenodd\" fill-opacity=\"1\" /><path clip-path=\"url(#clip360)\" d=\"M 0 0 M1113.97 735.985 L1130.29 735.985 L1130.29 739.92 L1108.35 739.92 L1108.35 735.985 Q1111.01 733.23 1115.59 728.6 Q1120.2 723.948 1121.38 722.605 Q1123.63 720.082 1124.51 718.346 Q1125.41 716.587 1125.41 714.897 Q1125.41 712.142 1123.46 710.406 Q1121.54 708.67 1118.44 708.67 Q1116.24 708.67 1113.79 709.434 Q1111.36 710.198 1108.58 711.749 L1108.58 707.027 Q1111.4 705.892 1113.86 705.314 Q1116.31 704.735 1118.35 704.735 Q1123.72 704.735 1126.91 707.42 Q1130.11 710.105 1130.11 714.596 Q1130.11 716.726 1129.3 718.647 Q1128.51 720.545 1126.4 723.138 Q1125.83 723.809 1122.72 727.026 Q1119.62 730.221 1113.97 735.985 Z\" fill=\"#000000\" fill-rule=\"evenodd\" fill-opacity=\"1\" /><path clip-path=\"url(#clip360)\" d=\"M 0 0 M1145.36 708.439 Q1141.75 708.439 1139.92 712.003 Q1138.12 715.545 1138.12 722.675 Q1138.12 729.781 1139.92 733.346 Q1141.75 736.887 1145.36 736.887 Q1149 736.887 1150.8 733.346 Q1152.63 729.781 1152.63 722.675 Q1152.63 715.545 1150.8 712.003 Q1149 708.439 1145.36 708.439 M1145.36 704.735 Q1151.17 704.735 1154.23 709.341 Q1157.31 713.925 1157.31 722.675 Q1157.31 731.401 1154.23 736.008 Q1151.17 740.591 1145.36 740.591 Q1139.55 740.591 1136.47 736.008 Q1133.42 731.401 1133.42 722.675 Q1133.42 713.925 1136.47 709.341 Q1139.55 704.735 1145.36 704.735 Z\" fill=\"#000000\" fill-rule=\"evenodd\" fill-opacity=\"1\" /><path clip-path=\"url(#clip360)\" d=\"M 0 0 M1172.38 708.439 Q1168.76 708.439 1166.94 712.003 Q1165.13 715.545 1165.13 722.675 Q1165.13 729.781 1166.94 733.346 Q1168.76 736.887 1172.38 736.887 Q1176.01 736.887 1177.82 733.346 Q1179.64 729.781 1179.64 722.675 Q1179.64 715.545 1177.82 712.003 Q1176.01 708.439 1172.38 708.439 M1172.38 704.735 Q1178.19 704.735 1181.24 709.341 Q1184.32 713.925 1184.32 722.675 Q1184.32 731.401 1181.24 736.008 Q1178.19 740.591 1172.38 740.591 Q1166.57 740.591 1163.49 736.008 Q1160.43 731.401 1160.43 722.675 Q1160.43 713.925 1163.49 709.341 Q1166.57 704.735 1172.38 704.735 Z\" fill=\"#000000\" fill-rule=\"evenodd\" fill-opacity=\"1\" /><path clip-path=\"url(#clip360)\" d=\"M 0 0 M105.272 637.543 L112.911 637.543 L112.911 611.178 L104.601 612.844 L104.601 608.585 L112.865 606.919 L117.54 606.919 L117.54 637.543 L125.179 637.543 L125.179 641.479 L105.272 641.479 L105.272 637.543 Z\" fill=\"#000000\" fill-rule=\"evenodd\" fill-opacity=\"1\" /><path clip-path=\"url(#clip360)\" d=\"M 0 0 M140.249 609.997 Q136.638 609.997 134.809 613.562 Q133.003 617.104 133.003 624.233 Q133.003 631.34 134.809 634.905 Q136.638 638.446 140.249 638.446 Q143.883 638.446 145.688 634.905 Q147.517 631.34 147.517 624.233 Q147.517 617.104 145.688 613.562 Q143.883 609.997 140.249 609.997 M140.249 606.294 Q146.059 606.294 149.114 610.9 Q152.193 615.483 152.193 624.233 Q152.193 632.96 149.114 637.567 Q146.059 642.15 140.249 642.15 Q134.439 642.15 131.36 637.567 Q128.304 632.96 128.304 624.233 Q128.304 615.483 131.36 610.9 Q134.439 606.294 140.249 606.294 Z\" fill=\"#000000\" fill-rule=\"evenodd\" fill-opacity=\"1\" /><path clip-path=\"url(#clip360)\" d=\"M 0 0 M152.193 601.975 L162.33 601.975 L162.33 605.059 L152.193 605.059 L152.193 601.975 Z\" fill=\"#000000\" fill-rule=\"evenodd\" fill-opacity=\"1\" /><path clip-path=\"url(#clip360)\" d=\"M 0 0 M176.85 610.871 L183.057 610.871 L183.057 589.449 L176.305 590.803 L176.305 587.342 L183.019 585.988 L186.818 585.988 L186.818 610.871 L193.025 610.871 L193.025 614.068 L176.85 614.068 L176.85 610.871 Z\" fill=\"#000000\" fill-rule=\"evenodd\" fill-opacity=\"1\" /><path clip-path=\"url(#clip360)\" d=\"M 0 0 M197.144 609.291 L201.112 609.291 L201.112 614.068 L197.144 614.068 L197.144 609.291 Z\" fill=\"#000000\" fill-rule=\"evenodd\" fill-opacity=\"1\" /><path clip-path=\"url(#clip360)\" d=\"M 0 0 M213.356 588.49 Q210.422 588.49 208.936 591.386 Q207.469 594.264 207.469 600.056 Q207.469 605.83 208.936 608.727 Q210.422 611.604 213.356 611.604 Q216.309 611.604 217.776 608.727 Q219.262 605.83 219.262 600.056 Q219.262 594.264 217.776 591.386 Q216.309 588.49 213.356 588.49 M213.356 585.48 Q218.077 585.48 220.559 589.223 Q223.061 592.947 223.061 600.056 Q223.061 607.147 220.559 610.89 Q218.077 614.614 213.356 614.614 Q208.635 614.614 206.134 610.89 Q203.651 607.147 203.651 600.056 Q203.651 592.947 206.134 589.223 Q208.635 585.48 213.356 585.48 Z\" fill=\"#000000\" fill-rule=\"evenodd\" fill-opacity=\"1\" /><path clip-path=\"url(#clip360)\" d=\"M 0 0 M103.391 544.672 L111.03 544.672 L111.03 518.306 L102.72 519.973 L102.72 515.713 L110.984 514.047 L115.66 514.047 L115.66 544.672 L123.299 544.672 L123.299 548.607 L103.391 548.607 L103.391 544.672 Z\" fill=\"#000000\" fill-rule=\"evenodd\" fill-opacity=\"1\" /><path clip-path=\"url(#clip360)\" d=\"M 0 0 M138.368 517.125 Q134.757 517.125 132.928 520.69 Q131.123 524.232 131.123 531.361 Q131.123 538.468 132.928 542.033 Q134.757 545.574 138.368 545.574 Q142.002 545.574 143.808 542.033 Q145.636 538.468 145.636 531.361 Q145.636 524.232 143.808 520.69 Q142.002 517.125 138.368 517.125 M138.368 513.422 Q144.178 513.422 147.234 518.028 Q150.312 522.612 150.312 531.361 Q150.312 540.088 147.234 544.695 Q144.178 549.278 138.368 549.278 Q132.558 549.278 129.479 544.695 Q126.423 540.088 126.423 531.361 Q126.423 522.612 129.479 518.028 Q132.558 513.422 138.368 513.422 Z\" fill=\"#000000\" fill-rule=\"evenodd\" fill-opacity=\"1\" /><path clip-path=\"url(#clip360)\" d=\"M 0 0 M150.312 509.103 L160.45 509.103 L160.45 512.187 L150.312 512.187 L150.312 509.103 Z\" fill=\"#000000\" fill-rule=\"evenodd\" fill-opacity=\"1\" /><path clip-path=\"url(#clip360)\" d=\"M 0 0 M184.129 495.618 Q181.195 495.618 179.709 498.514 Q178.242 501.392 178.242 507.185 Q178.242 512.959 179.709 515.855 Q181.195 518.733 184.129 518.733 Q187.081 518.733 188.548 515.855 Q190.034 512.959 190.034 507.185 Q190.034 501.392 188.548 498.514 Q187.081 495.618 184.129 495.618 M184.129 492.609 Q188.849 492.609 191.332 496.351 Q193.833 500.075 193.833 507.185 Q193.833 514.275 191.332 518.018 Q188.849 521.742 184.129 521.742 Q179.408 521.742 176.906 518.018 Q174.424 514.275 174.424 507.185 Q174.424 500.075 176.906 496.351 Q179.408 492.609 184.129 492.609 Z\" fill=\"#000000\" fill-rule=\"evenodd\" fill-opacity=\"1\" /><path clip-path=\"url(#clip360)\" d=\"M 0 0 M197.952 516.419 L201.921 516.419 L201.921 521.196 L197.952 521.196 L197.952 516.419 Z\" fill=\"#000000\" fill-rule=\"evenodd\" fill-opacity=\"1\" /><path clip-path=\"url(#clip360)\" d=\"M 0 0 M206.077 493.116 L220.992 493.116 L220.992 496.314 L209.557 496.314 L209.557 503.197 Q210.384 502.915 211.212 502.784 Q212.039 502.633 212.867 502.633 Q217.569 502.633 220.315 505.21 Q223.061 507.786 223.061 512.187 Q223.061 516.72 220.24 519.24 Q217.418 521.742 212.284 521.742 Q210.516 521.742 208.673 521.441 Q206.848 521.14 204.892 520.538 L204.892 516.72 Q206.585 517.642 208.391 518.093 Q210.196 518.544 212.209 518.544 Q215.462 518.544 217.362 516.833 Q219.262 515.121 219.262 512.187 Q219.262 509.253 217.362 507.542 Q215.462 505.83 212.209 505.83 Q210.685 505.83 209.162 506.169 Q207.657 506.507 206.077 507.222 L206.077 493.116 Z\" fill=\"#000000\" fill-rule=\"evenodd\" fill-opacity=\"1\" /><path clip-path=\"url(#clip360)\" d=\"M 0 0 M126.694 451.8 L134.333 451.8 L134.333 425.434 L126.023 427.101 L126.023 422.842 L134.287 421.175 L138.962 421.175 L138.962 451.8 L146.601 451.8 L146.601 455.735 L126.694 455.735 L126.694 451.8 Z\" fill=\"#000000\" fill-rule=\"evenodd\" fill-opacity=\"1\" /><path clip-path=\"url(#clip360)\" d=\"M 0 0 M161.671 424.254 Q158.06 424.254 156.231 427.818 Q154.425 431.36 154.425 438.49 Q154.425 445.596 156.231 449.161 Q158.06 452.703 161.671 452.703 Q165.305 452.703 167.11 449.161 Q168.939 445.596 168.939 438.49 Q168.939 431.36 167.11 427.818 Q165.305 424.254 161.671 424.254 M161.671 420.55 Q167.481 420.55 170.536 425.156 Q173.615 429.74 173.615 438.49 Q173.615 447.217 170.536 451.823 Q167.481 456.406 161.671 456.406 Q155.861 456.406 152.782 451.823 Q149.726 447.217 149.726 438.49 Q149.726 429.74 152.782 425.156 Q155.861 420.55 161.671 420.55 Z\" fill=\"#000000\" fill-rule=\"evenodd\" fill-opacity=\"1\" /><path clip-path=\"url(#clip360)\" d=\"M 0 0 M183.32 402.746 Q180.386 402.746 178.9 405.642 Q177.433 408.52 177.433 414.313 Q177.433 420.087 178.9 422.983 Q180.386 425.861 183.32 425.861 Q186.273 425.861 187.74 422.983 Q189.226 420.087 189.226 414.313 Q189.226 408.52 187.74 405.642 Q186.273 402.746 183.32 402.746 M183.32 399.737 Q188.041 399.737 190.523 403.48 Q193.025 407.203 193.025 414.313 Q193.025 421.403 190.523 425.146 Q188.041 428.87 183.32 428.87 Q178.599 428.87 176.098 425.146 Q173.615 421.403 173.615 414.313 Q173.615 407.203 176.098 403.48 Q178.599 399.737 183.32 399.737 Z\" fill=\"#000000\" fill-rule=\"evenodd\" fill-opacity=\"1\" /><path clip-path=\"url(#clip360)\" d=\"M 0 0 M197.144 423.547 L201.112 423.547 L201.112 428.325 L197.144 428.325 L197.144 423.547 Z\" fill=\"#000000\" fill-rule=\"evenodd\" fill-opacity=\"1\" /><path clip-path=\"url(#clip360)\" d=\"M 0 0 M213.356 402.746 Q210.422 402.746 208.936 405.642 Q207.469 408.52 207.469 414.313 Q207.469 420.087 208.936 422.983 Q210.422 425.861 213.356 425.861 Q216.309 425.861 217.776 422.983 Q219.262 420.087 219.262 414.313 Q219.262 408.52 217.776 405.642 Q216.309 402.746 213.356 402.746 M213.356 399.737 Q218.077 399.737 220.559 403.48 Q223.061 407.203 223.061 414.313 Q223.061 421.403 220.559 425.146 Q218.077 428.87 213.356 428.87 Q208.635 428.87 206.134 425.146 Q203.651 421.403 203.651 414.313 Q203.651 407.203 206.134 403.48 Q208.635 399.737 213.356 399.737 Z\" fill=\"#000000\" fill-rule=\"evenodd\" fill-opacity=\"1\" /><path clip-path=\"url(#clip360)\" d=\"M 0 0 M127.503 358.928 L135.142 358.928 L135.142 332.562 L126.831 334.229 L126.831 329.97 L135.095 328.303 L139.771 328.303 L139.771 358.928 L147.41 358.928 L147.41 362.863 L127.503 362.863 L127.503 358.928 Z\" fill=\"#000000\" fill-rule=\"evenodd\" fill-opacity=\"1\" /><path clip-path=\"url(#clip360)\" d=\"M 0 0 M162.479 331.382 Q158.868 331.382 157.04 334.947 Q155.234 338.488 155.234 345.618 Q155.234 352.724 157.04 356.289 Q158.868 359.831 162.479 359.831 Q166.114 359.831 167.919 356.289 Q169.748 352.724 169.748 345.618 Q169.748 338.488 167.919 334.947 Q166.114 331.382 162.479 331.382 M162.479 327.678 Q168.29 327.678 171.345 332.285 Q174.424 336.868 174.424 345.618 Q174.424 354.345 171.345 358.951 Q168.29 363.535 162.479 363.535 Q156.669 363.535 153.591 358.951 Q150.535 354.345 150.535 345.618 Q150.535 336.868 153.591 332.285 Q156.669 327.678 162.479 327.678 Z\" fill=\"#000000\" fill-rule=\"evenodd\" fill-opacity=\"1\" /><path clip-path=\"url(#clip360)\" d=\"M 0 0 M184.129 309.874 Q181.195 309.874 179.709 312.771 Q178.242 315.648 178.242 321.441 Q178.242 327.215 179.709 330.111 Q181.195 332.989 184.129 332.989 Q187.081 332.989 188.548 330.111 Q190.034 327.215 190.034 321.441 Q190.034 315.648 188.548 312.771 Q187.081 309.874 184.129 309.874 M184.129 306.865 Q188.849 306.865 191.332 310.608 Q193.833 314.332 193.833 321.441 Q193.833 328.532 191.332 332.274 Q188.849 335.998 184.129 335.998 Q179.408 335.998 176.906 332.274 Q174.424 328.532 174.424 321.441 Q174.424 314.332 176.906 310.608 Q179.408 306.865 184.129 306.865 Z\" fill=\"#000000\" fill-rule=\"evenodd\" fill-opacity=\"1\" /><path clip-path=\"url(#clip360)\" d=\"M 0 0 M197.952 330.676 L201.921 330.676 L201.921 335.453 L197.952 335.453 L197.952 330.676 Z\" fill=\"#000000\" fill-rule=\"evenodd\" fill-opacity=\"1\" /><path clip-path=\"url(#clip360)\" d=\"M 0 0 M206.077 307.373 L220.992 307.373 L220.992 310.57 L209.557 310.57 L209.557 317.454 Q210.384 317.172 211.212 317.04 Q212.039 316.89 212.867 316.89 Q217.569 316.89 220.315 319.466 Q223.061 322.043 223.061 326.444 Q223.061 330.977 220.24 333.497 Q217.418 335.998 212.284 335.998 Q210.516 335.998 208.673 335.697 Q206.848 335.396 204.892 334.795 L204.892 330.977 Q206.585 331.898 208.391 332.35 Q210.196 332.801 212.209 332.801 Q215.462 332.801 217.362 331.089 Q219.262 329.378 219.262 326.444 Q219.262 323.51 217.362 321.798 Q215.462 320.087 212.209 320.087 Q210.685 320.087 209.162 320.425 Q207.657 320.764 206.077 321.479 L206.077 307.373 Z\" fill=\"#000000\" fill-rule=\"evenodd\" fill-opacity=\"1\" /><path clip-path=\"url(#clip360)\" d=\"M 0 0 M129.384 266.056 L137.022 266.056 L137.022 239.691 L128.712 241.357 L128.712 237.098 L136.976 235.431 L141.652 235.431 L141.652 266.056 L149.291 266.056 L149.291 269.991 L129.384 269.991 L129.384 266.056 Z\" fill=\"#000000\" fill-rule=\"evenodd\" fill-opacity=\"1\" /><path clip-path=\"url(#clip360)\" d=\"M 0 0 M164.36 238.51 Q160.749 238.51 158.92 242.075 Q157.115 245.617 157.115 252.746 Q157.115 259.853 158.92 263.417 Q160.749 266.959 164.36 266.959 Q167.994 266.959 169.8 263.417 Q171.629 259.853 171.629 252.746 Q171.629 245.617 169.8 242.075 Q167.994 238.51 164.36 238.51 M164.36 234.806 Q170.17 234.806 173.226 239.413 Q176.305 243.996 176.305 252.746 Q176.305 261.473 173.226 266.079 Q170.17 270.663 164.36 270.663 Q158.55 270.663 155.471 266.079 Q152.416 261.473 152.416 252.746 Q152.416 243.996 155.471 239.413 Q158.55 234.806 164.36 234.806 Z\" fill=\"#000000\" fill-rule=\"evenodd\" fill-opacity=\"1\" /><path clip-path=\"url(#clip360)\" d=\"M 0 0 M176.85 239.384 L183.057 239.384 L183.057 217.962 L176.305 219.316 L176.305 215.855 L183.019 214.501 L186.818 214.501 L186.818 239.384 L193.025 239.384 L193.025 242.581 L176.85 242.581 L176.85 239.384 Z\" fill=\"#000000\" fill-rule=\"evenodd\" fill-opacity=\"1\" /><path clip-path=\"url(#clip360)\" d=\"M 0 0 M197.144 237.804 L201.112 237.804 L201.112 242.581 L197.144 242.581 L197.144 237.804 Z\" fill=\"#000000\" fill-rule=\"evenodd\" fill-opacity=\"1\" /><path clip-path=\"url(#clip360)\" d=\"M 0 0 M213.356 217.002 Q210.422 217.002 208.936 219.899 Q207.469 222.776 207.469 228.569 Q207.469 234.343 208.936 237.24 Q210.422 240.117 213.356 240.117 Q216.309 240.117 217.776 237.24 Q219.262 234.343 219.262 228.569 Q219.262 222.776 217.776 219.899 Q216.309 217.002 213.356 217.002 M213.356 213.993 Q218.077 213.993 220.559 217.736 Q223.061 221.46 223.061 228.569 Q223.061 235.66 220.559 239.403 Q218.077 243.126 213.356 243.126 Q208.635 243.126 206.134 239.403 Q203.651 235.66 203.651 228.569 Q203.651 221.46 206.134 217.736 Q208.635 213.993 213.356 213.993 Z\" fill=\"#000000\" fill-rule=\"evenodd\" fill-opacity=\"1\" /><path clip-path=\"url(#clip360)\" d=\"M 0 0 M130.192 173.184 L137.831 173.184 L137.831 146.819 L129.521 148.486 L129.521 144.226 L137.785 142.56 L142.461 142.56 L142.461 173.184 L150.1 173.184 L150.1 177.12 L130.192 177.12 L130.192 173.184 Z\" fill=\"#000000\" fill-rule=\"evenodd\" fill-opacity=\"1\" /><path clip-path=\"url(#clip360)\" d=\"M 0 0 M165.169 145.638 Q161.558 145.638 159.729 149.203 Q157.924 152.745 157.924 159.874 Q157.924 166.981 159.729 170.546 Q161.558 174.087 165.169 174.087 Q168.803 174.087 170.609 170.546 Q172.437 166.981 172.437 159.874 Q172.437 152.745 170.609 149.203 Q168.803 145.638 165.169 145.638 M165.169 141.935 Q170.979 141.935 174.035 146.541 Q177.113 151.124 177.113 159.874 Q177.113 168.601 174.035 173.208 Q170.979 177.791 165.169 177.791 Q159.359 177.791 156.28 173.208 Q153.225 168.601 153.225 159.874 Q153.225 151.124 156.28 146.541 Q159.359 141.935 165.169 141.935 Z\" fill=\"#000000\" fill-rule=\"evenodd\" fill-opacity=\"1\" /><path clip-path=\"url(#clip360)\" d=\"M 0 0 M177.659 146.512 L183.865 146.512 L183.865 125.09 L177.113 126.444 L177.113 122.983 L183.828 121.629 L187.627 121.629 L187.627 146.512 L193.833 146.512 L193.833 149.709 L177.659 149.709 L177.659 146.512 Z\" fill=\"#000000\" fill-rule=\"evenodd\" fill-opacity=\"1\" /><path clip-path=\"url(#clip360)\" d=\"M 0 0 M197.952 144.932 L201.921 144.932 L201.921 149.709 L197.952 149.709 L197.952 144.932 Z\" fill=\"#000000\" fill-rule=\"evenodd\" fill-opacity=\"1\" /><path clip-path=\"url(#clip360)\" d=\"M 0 0 M206.077 121.629 L220.992 121.629 L220.992 124.827 L209.557 124.827 L209.557 131.71 Q210.384 131.428 211.212 131.296 Q212.039 131.146 212.867 131.146 Q217.569 131.146 220.315 133.723 Q223.061 136.299 223.061 140.7 Q223.061 145.233 220.24 147.753 Q217.418 150.255 212.284 150.255 Q210.516 150.255 208.673 149.954 Q206.848 149.653 204.892 149.051 L204.892 145.233 Q206.585 146.155 208.391 146.606 Q210.196 147.057 212.209 147.057 Q215.462 147.057 217.362 145.346 Q219.262 143.634 219.262 140.7 Q219.262 137.766 217.362 136.055 Q215.462 134.343 212.209 134.343 Q210.685 134.343 209.162 134.682 Q207.657 135.02 206.077 135.735 L206.077 121.629 Z\" fill=\"#000000\" fill-rule=\"evenodd\" fill-opacity=\"1\" /><path clip-path=\"url(#clip360)\" d=\"M 0 0 M538.338 12.096 L550.531 12.096 L565.965 53.2532 L581.48 12.096 L593.673 12.096 L593.673 72.576 L585.693 72.576 L585.693 19.4686 L570.097 60.9499 L561.874 60.9499 L546.278 19.4686 L546.278 72.576 L538.338 72.576 L538.338 12.096 Z\" fill=\"#000000\" fill-rule=\"evenodd\" fill-opacity=\"1\" /><path clip-path=\"url(#clip360)\" d=\"M 0 0 M640.299 48.0275 L640.299 51.6733 L606.029 51.6733 Q606.515 59.3701 610.647 63.421 Q614.819 67.4314 622.232 67.4314 Q626.526 67.4314 630.537 66.3781 Q634.587 65.3249 638.557 63.2184 L638.557 70.267 Q634.547 71.9684 630.334 72.8596 Q626.121 73.7508 621.787 73.7508 Q610.93 73.7508 604.57 67.4314 Q598.251 61.1119 598.251 50.3365 Q598.251 39.1965 604.246 32.6746 Q610.282 26.1121 620.49 26.1121 Q629.645 26.1121 634.952 32.0264 Q640.299 37.9003 640.299 48.0275 M632.846 45.84 Q632.765 39.7232 629.402 36.0774 Q626.081 32.4315 620.571 32.4315 Q614.333 32.4315 610.566 35.9558 Q606.839 39.4801 606.272 45.8805 L632.846 45.84 Z\" fill=\"#000000\" fill-rule=\"evenodd\" fill-opacity=\"1\" /><path clip-path=\"url(#clip360)\" d=\"M 0 0 M655.49 14.324 L655.49 27.2059 L670.843 27.2059 L670.843 32.9987 L655.49 32.9987 L655.49 57.6282 Q655.49 63.1779 656.989 64.7578 Q658.528 66.3376 663.187 66.3376 L670.843 66.3376 L670.843 72.576 L663.187 72.576 Q654.558 72.576 651.277 69.3758 Q647.996 66.1351 647.996 57.6282 L647.996 32.9987 L642.527 32.9987 L642.527 27.2059 L647.996 27.2059 L647.996 14.324 L655.49 14.324 Z\" fill=\"#000000\" fill-rule=\"evenodd\" fill-opacity=\"1\" /><path clip-path=\"url(#clip360)\" d=\"M 0 0 M716.375 45.1919 L716.375 72.576 L708.922 72.576 L708.922 45.4349 Q708.922 38.994 706.41 35.7938 Q703.898 32.5936 698.875 32.5936 Q692.839 32.5936 689.356 36.4419 Q685.872 40.2903 685.872 46.9338 L685.872 72.576 L678.378 72.576 L678.378 9.54393 L685.872 9.54393 L685.872 34.2544 Q688.546 30.163 692.151 28.1376 Q695.797 26.1121 700.536 26.1121 Q708.354 26.1121 712.365 30.9732 Q716.375 35.7938 716.375 45.1919 Z\" fill=\"#000000\" fill-rule=\"evenodd\" fill-opacity=\"1\" /><path clip-path=\"url(#clip360)\" d=\"M 0 0 M741.774 32.4315 Q735.779 32.4315 732.295 37.1306 Q728.812 41.7891 728.812 49.9314 Q728.812 58.0738 732.255 62.7728 Q735.739 67.4314 741.774 67.4314 Q747.729 67.4314 751.213 62.7323 Q754.697 58.0333 754.697 49.9314 Q754.697 41.8701 751.213 37.1711 Q747.729 32.4315 741.774 32.4315 M741.774 26.1121 Q751.497 26.1121 757.046 32.4315 Q762.596 38.7509 762.596 49.9314 Q762.596 61.0714 757.046 67.4314 Q751.497 73.7508 741.774 73.7508 Q732.012 73.7508 726.462 67.4314 Q720.953 61.0714 720.953 49.9314 Q720.953 38.7509 726.462 32.4315 Q732.012 26.1121 741.774 26.1121 Z\" fill=\"#000000\" fill-rule=\"evenodd\" fill-opacity=\"1\" /><path clip-path=\"url(#clip360)\" d=\"M 0 0 M800.269 34.0924 L800.269 9.54393 L807.723 9.54393 L807.723 72.576 L800.269 72.576 L800.269 65.7705 Q797.92 69.8214 794.315 71.8063 Q790.75 73.7508 785.727 73.7508 Q777.503 73.7508 772.318 67.1883 Q767.174 60.6258 767.174 49.9314 Q767.174 39.2371 772.318 32.6746 Q777.503 26.1121 785.727 26.1121 Q790.75 26.1121 794.315 28.0971 Q797.92 30.0415 800.269 34.0924 M774.87 49.9314 Q774.87 58.1548 778.233 62.8538 Q781.635 67.5124 787.55 67.5124 Q793.464 67.5124 796.867 62.8538 Q800.269 58.1548 800.269 49.9314 Q800.269 41.7081 796.867 37.0496 Q793.464 32.3505 787.55 32.3505 Q781.635 32.3505 778.233 37.0496 Q774.87 41.7081 774.87 49.9314 Z\" fill=\"#000000\" fill-rule=\"evenodd\" fill-opacity=\"1\" /><path clip-path=\"url(#clip360)\" d=\"M 0 0 M844.384 65.6895 L857.752 65.6895 L857.752 19.5497 L843.209 22.4663 L843.209 15.0127 L857.671 12.096 L865.854 12.096 L865.854 65.6895 L879.222 65.6895 L879.222 72.576 L844.384 72.576 L844.384 65.6895 Z\" fill=\"#000000\" fill-rule=\"evenodd\" fill-opacity=\"1\" /><polyline clip-path=\"url(#clip362)\" style=\"stroke:#009af9; stroke-width:4; stroke-opacity:1; fill:none\" points=\"\n",
       "  273.196,139.405 273.914,288.951 274.632,391.591 275.35,239.398 276.069,211.266 276.787,230.805 277.505,290.419 278.223,407.782 278.941,444.16 279.659,333.508 \n",
       "  280.378,444.16 281.096,285.83 281.814,311.074 282.532,337.832 283.25,370.781 283.969,406.666 284.687,443.103 285.405,469.792 286.123,476.947 286.841,465.087 \n",
       "  287.56,446.615 288.278,430.006 288.996,418.559 289.714,412.159 290.432,410.083 291.151,412.19 291.869,418.074 292.587,427.137 293.305,438.416 294.023,449.757 \n",
       "  294.742,461.886 295.46,471.194 296.178,476.554 296.896,478.267 297.614,476.059 298.333,471.697 299.051,467.006 299.769,463.028 300.487,459.699 301.205,458.617 \n",
       "  301.923,459.186 302.642,460.88 303.36,464.682 304.078,468.446 304.796,472.389 305.514,475.899 306.233,478.367 306.951,479.287 307.669,479.077 308.387,478.093 \n",
       "  309.105,476.92 309.824,475.465 310.542,474.638 311.26,474.663 311.978,474.449 312.696,475.436 313.415,476.495 314.133,477.582 314.851,479.091 315.569,479.794 \n",
       "  316.287,480.566 317.006,480.483 317.724,480.389 318.442,480.069 319.16,479.739 319.878,479.696 320.596,479.447 321.315,479.817 322.033,479.877 322.751,480.523 \n",
       "  323.469,480.907 324.187,481.323 324.906,481.574 325.624,481.756 326.342,481.923 327.06,481.904 327.778,481.891 328.497,481.851 329.215,482.061 329.933,481.966 \n",
       "  330.651,482.208 331.369,482.518 332.088,482.566 332.806,482.821 333.524,483.158 334.242,483.058 334.96,483.352 335.679,483.315 336.397,483.461 337.115,483.571 \n",
       "  337.833,483.651 338.551,483.802 339.27,483.895 339.988,484.062 340.706,484.192 341.424,484.284 342.142,484.596 342.86,484.615 343.579,484.727 344.297,484.928 \n",
       "  345.015,484.949 345.733,485.16 346.451,485.161 347.17,485.334 347.888,485.475 348.606,485.596 349.324,485.837 350.042,485.98 350.761,486.048 351.479,486.189 \n",
       "  352.197,486.248 352.915,486.439 353.633,486.427 354.352,486.773 355.07,486.851 355.788,486.973 356.506,487.073 357.224,487.314 357.943,487.46 358.661,487.538 \n",
       "  359.379,487.727 360.097,487.882 360.815,488.02 361.533,488.18 362.252,488.246 362.97,488.446 363.688,488.633 364.406,488.766 365.124,488.952 365.843,488.894 \n",
       "  366.561,488.991 367.279,489.29 367.997,489.461 368.715,489.515 369.434,489.716 370.152,489.935 370.87,489.961 371.588,490.161 372.306,490.44 373.025,490.424 \n",
       "  373.743,490.72 374.461,490.84 375.179,490.953 375.897,491.2 376.616,491.154 377.334,491.499 378.052,491.627 378.77,491.746 379.488,491.941 380.207,491.923 \n",
       "  380.925,492.124 381.643,492.449 382.361,492.585 383.079,492.819 383.797,492.902 384.516,493.073 385.234,493.214 385.952,493.226 386.67,493.602 387.388,493.718 \n",
       "  388.107,493.761 388.825,493.974 389.543,494.176 390.261,494.396 390.979,494.461 391.698,494.741 392.416,494.881 393.134,495.088 393.852,495.215 394.57,495.409 \n",
       "  395.289,495.453 396.007,495.634 396.725,495.835 397.443,496.035 398.161,496.215 398.88,496.38 399.598,496.601 400.316,496.716 401.034,496.975 401.752,497.076 \n",
       "  402.47,497.293 403.189,497.51 403.907,497.66 404.625,497.832 405.343,498.022 406.061,498.194 406.78,498.268 407.498,498.651 408.216,498.748 408.934,498.851 \n",
       "  409.652,499.048 410.371,499.16 411.089,499.478 411.807,499.572 412.525,499.794 413.243,500.057 413.962,500.168 414.68,500.422 415.398,500.53 416.116,500.793 \n",
       "  416.834,500.932 417.553,501.107 418.271,501.342 418.989,501.534 419.707,501.723 420.425,501.899 421.144,502.143 421.862,502.313 422.58,502.45 423.298,502.639 \n",
       "  424.016,502.886 424.734,503.038 425.453,503.246 426.171,503.354 426.889,503.617 427.607,503.894 428.325,504.047 429.044,504.238 429.762,504.379 430.48,504.597 \n",
       "  431.198,504.857 431.916,505.066 432.635,505.112 433.353,505.411 434.071,505.621 434.789,505.717 435.507,506.003 436.226,506.109 436.944,506.411 437.662,506.664 \n",
       "  438.38,506.709 439.098,506.889 439.817,507.224 440.535,507.352 441.253,507.641 441.971,507.923 442.689,507.993 443.407,508.225 444.126,508.54 444.844,508.679 \n",
       "  445.562,508.856 446.28,509.013 446.998,509.275 447.717,509.517 448.435,509.795 449.153,509.908 449.871,510.129 450.589,510.414 451.308,510.41 452.026,510.889 \n",
       "  452.744,511.048 453.462,511.263 454.18,511.483 454.899,511.513 455.617,511.848 456.335,512.06 457.053,512.24 457.771,512.565 458.49,512.706 459.208,512.826 \n",
       "  459.926,512.975 460.644,513.345 461.362,513.511 462.081,513.792 462.799,513.978 463.517,514.34 464.235,514.485 464.953,514.563 465.671,514.922 466.39,515.097 \n",
       "  467.108,515.309 467.826,515.63 468.544,515.798 469.262,515.911 469.981,516.243 470.699,516.471 471.417,516.621 472.135,516.974 472.853,517.059 473.572,517.255 \n",
       "  474.29,517.621 475.008,517.881 475.726,518.055 476.444,518.305 477.163,518.521 477.881,518.706 478.599,519.036 479.317,519.247 480.035,519.342 480.754,519.688 \n",
       "  481.472,519.872 482.19,520.103 482.908,520.406 483.626,520.65 484.344,520.837 485.063,521.064 485.781,521.339 486.499,521.449 487.217,521.613 487.935,521.978 \n",
       "  488.654,522.25 489.372,522.508 490.09,522.744 490.808,522.939 491.526,523.115 492.245,523.346 492.963,523.641 493.681,523.966 494.399,524.149 495.117,524.471 \n",
       "  495.836,524.664 496.554,524.926 497.272,525.172 497.99,525.239 498.708,525.616 499.427,525.9 500.145,526.08 500.863,526.359 501.581,526.558 502.299,526.875 \n",
       "  503.018,527.136 503.736,527.232 504.454,527.627 505.172,527.855 505.89,528.027 506.608,528.297 507.327,528.6 508.045,528.869 508.763,529.091 509.481,529.335 \n",
       "  510.199,529.529 510.918,529.717 511.636,529.916 512.354,530.307 513.072,530.488 513.79,530.656 514.509,530.987 515.227,531.341 515.945,531.438 516.663,531.783 \n",
       "  517.381,532.066 518.1,532.345 518.818,532.647 519.536,532.857 520.254,533.187 520.972,533.418 521.691,533.471 522.409,533.924 523.127,534.15 523.845,534.413 \n",
       "  524.563,534.524 525.281,534.889 526,535.209 526.718,535.461 527.436,535.702 528.154,536.009 528.872,536.217 529.591,536.444 530.309,536.793 531.027,537.071 \n",
       "  531.745,537.246 532.463,537.578 533.182,537.76 533.9,538.083 534.618,538.279 535.336,538.706 536.054,538.759 536.773,539.057 537.491,539.438 538.209,539.559 \n",
       "  538.927,540.001 539.645,540.178 540.364,540.508 541.082,540.781 541.8,541.071 542.518,541.33 543.236,541.629 543.955,541.922 544.673,542.17 545.391,542.455 \n",
       "  546.109,542.592 546.827,542.972 547.545,543.264 548.264,543.532 548.982,543.743 549.7,544.072 550.418,544.365 551.136,544.704 551.855,544.758 552.573,545.117 \n",
       "  553.291,545.399 554.009,545.656 554.727,545.865 555.446,546.323 556.164,546.573 556.882,546.798 557.6,547.153 558.318,547.511 559.037,547.683 559.755,548.011 \n",
       "  560.473,548.281 561.191,548.628 561.909,548.878 562.628,549.053 563.346,549.439 564.064,549.707 564.782,549.993 565.5,550.153 566.218,550.574 566.937,550.857 \n",
       "  567.655,551.227 568.373,551.227 569.091,551.45 569.809,551.592 570.528,551.822 571.246,551.993 571.964,552.11 572.682,552.495 573.4,552.613 574.119,552.782 \n",
       "  574.837,552.953 575.555,553.175 576.273,553.401 576.991,553.599 577.71,553.796 578.428,554 579.146,554.18 579.864,554.392 580.582,554.613 581.301,554.9 \n",
       "  582.019,555.037 582.737,555.244 583.455,555.565 584.173,555.689 584.892,555.973 585.61,555.984 586.328,556.296 587.046,556.55 587.764,556.73 588.482,556.913 \n",
       "  589.201,557.184 589.919,557.473 590.637,557.606 591.355,557.839 592.073,558.047 592.792,558.282 593.51,558.47 594.228,558.654 594.946,558.797 595.664,559.092 \n",
       "  596.383,559.216 597.101,559.577 597.819,559.774 598.537,560.157 599.255,560.234 599.974,560.523 600.692,560.634 601.41,560.915 602.128,561.06 602.846,561.415 \n",
       "  603.565,561.613 604.283,561.83 605.001,562.076 605.719,562.167 606.437,562.391 607.155,562.799 607.874,562.994 608.592,563.179 609.31,563.45 610.028,563.645 \n",
       "  610.746,563.909 611.465,563.923 612.183,564.289 612.901,564.508 613.619,564.617 614.337,565.018 615.056,565.263 615.774,565.285 616.492,565.638 617.21,565.842 \n",
       "  617.928,566.186 618.647,566.27 619.365,566.554 620.083,566.69 620.801,566.96 621.519,567.238 622.238,567.5 622.956,567.725 623.674,567.968 624.392,568.292 \n",
       "  625.11,568.412 625.829,568.617 626.547,568.864 627.265,569.13 627.983,569.241 628.701,569.48 629.419,569.94 630.138,570.154 630.856,570.298 631.574,570.578 \n",
       "  632.292,570.731 633.01,571.039 633.729,571.303 634.447,571.533 635.165,571.699 635.883,571.947 636.601,572.152 637.32,572.428 638.038,572.738 638.756,572.975 \n",
       "  639.474,573.038 640.192,573.346 640.911,573.673 641.629,573.853 642.347,574.115 643.065,574.33 643.783,574.576 644.502,574.782 645.22,575.022 645.938,575.297 \n",
       "  646.656,575.59 647.374,575.617 648.092,575.952 648.811,576.3 649.529,576.487 650.247,576.603 650.965,577.038 651.683,577.175 652.402,577.41 653.12,577.648 \n",
       "  653.838,577.964 654.556,578.126 655.274,578.41 655.993,578.599 656.711,578.852 657.429,579.102 658.147,579.346 658.865,579.571 659.584,579.888 660.302,580.047 \n",
       "  661.02,580.311 661.738,580.584 662.456,580.827 663.175,581.026 663.893,581.32 664.611,581.541 665.329,581.764 666.047,582.019 666.766,582.233 667.484,582.52 \n",
       "  668.202,582.754 668.92,583.003 669.638,583.278 670.356,583.512 671.075,583.725 671.793,584.012 672.511,584.226 673.229,584.513 673.947,584.705 674.666,584.964 \n",
       "  675.384,585.214 676.102,585.524 676.82,585.728 677.538,585.943 678.257,586.208 678.975,586.445 679.693,586.69 680.411,586.939 681.129,587.176 681.848,587.441 \n",
       "  682.566,587.697 683.284,587.95 684.002,588.198 684.72,588.449 685.439,588.7 686.157,588.953 686.875,589.205 687.593,589.458 688.311,589.702 689.029,589.935 \n",
       "  689.748,590.213 690.466,590.457 691.184,590.701 691.902,590.953 692.62,591.223 693.339,591.454 694.057,591.725 694.775,591.961 695.493,592.211 696.211,592.498 \n",
       "  696.93,592.755 697.648,593.047 698.366,593.28 699.084,593.56 699.802,593.807 700.521,594.013 701.239,594.304 701.957,594.531 702.675,594.783 703.393,595.091 \n",
       "  704.112,595.369 704.83,595.417 705.548,595.902 706.266,596.039 706.984,596.318 707.702,596.591 708.421,596.772 709.139,597.125 709.857,597.344 710.575,597.634 \n",
       "  711.293,597.825 712.012,598.127 712.73,598.381 713.448,598.645 714.166,598.908 714.884,599.181 715.603,599.457 716.321,599.638 717.039,599.945 717.757,600.177 \n",
       "  718.475,600.429 719.194,600.744 719.912,600.994 720.63,601.215 721.348,601.461 722.066,601.869 722.785,601.988 723.503,602.257 724.221,602.609 724.939,602.856 \n",
       "  725.657,603.161 726.376,603.4 727.094,603.546 727.812,603.807 728.53,604.094 729.248,604.413 729.966,604.589 730.685,604.887 731.403,605.152 732.121,605.402 \n",
       "  732.839,605.614 733.557,605.97 734.276,606.262 734.994,606.517 735.712,606.728 736.43,606.981 737.148,607.269 737.867,607.484 738.585,607.864 739.303,608.104 \n",
       "  740.021,608.389 740.739,608.504 741.458,608.872 742.176,609.072 742.894,609.45 743.612,609.554 744.33,609.865 745.049,610.074 745.767,610.418 746.485,610.741 \n",
       "  747.203,610.945 747.921,611.311 748.639,611.441 749.358,611.741 750.076,611.993 750.794,612.227 751.512,612.551 752.23,612.773 752.949,613.133 753.667,613.368 \n",
       "  754.385,613.586 755.103,613.824 755.821,614.19 756.54,614.44 757.258,614.606 757.976,614.855 758.694,615.309 759.412,615.478 760.131,615.748 760.849,615.999 \n",
       "  761.567,616.279 762.285,616.449 763.003,616.769 763.722,617.028 764.44,617.349 765.158,617.603 765.876,617.855 766.594,618.27 767.313,618.418 768.031,618.802 \n",
       "  768.749,618.912 769.467,619.221 770.185,619.511 770.903,619.693 771.622,620.13 772.34,620.299 773.058,620.671 773.776,620.829 774.494,621.075 775.213,621.355 \n",
       "  775.931,621.738 776.649,621.96 777.367,622.211 778.085,622.504 778.804,622.789 779.522,623.125 780.24,623.434 780.958,623.557 781.676,623.886 782.395,624.152 \n",
       "  783.113,624.508 783.831,624.684 784.549,625.073 785.267,625.162 785.986,625.501 786.704,625.769 787.422,626.073 788.14,626.372 788.858,626.619 789.576,626.96 \n",
       "  790.295,627.269 791.013,627.439 791.731,627.684 792.449,628.061 793.167,628.37 793.886,628.547 794.604,628.85 795.322,629.187 796.04,629.378 796.758,629.683 \n",
       "  797.477,629.916 798.195,630.225 798.913,630.541 799.631,630.824 800.349,631.155 801.068,631.309 801.786,631.678 802.504,631.776 803.222,632.153 803.94,632.442 \n",
       "  804.659,632.734 805.377,633.056 806.095,633.347 806.813,633.551 807.531,633.853 808.25,634.146 808.968,634.512 809.686,634.735 810.404,635.077 811.122,635.202 \n",
       "  811.84,635.496 812.559,635.825 813.277,636.113 813.995,636.44 814.713,636.671 815.431,637.008 816.15,637.289 816.868,637.476 817.586,637.779 818.304,638.092 \n",
       "  819.022,638.332 819.741,638.605 820.459,638.878 821.177,639.202 821.895,639.508 822.613,639.835 823.332,640.054 824.05,640.318 824.768,640.614 825.486,640.913 \n",
       "  826.204,641.223 826.923,641.436 827.641,641.774 828.359,642.041 829.077,642.366 829.795,642.617 830.513,642.93 831.232,643.215 831.95,643.506 832.668,643.868 \n",
       "  833.386,644.053 834.104,644.327 834.823,644.642 835.541,644.9 836.259,645.173 836.977,645.491 837.695,645.761 838.414,646.078 839.132,646.35 839.85,646.612 \n",
       "  840.568,647.019 841.286,647.212 842.005,647.547 842.723,647.92 843.441,648.052 844.159,648.355 844.877,648.638 845.596,648.897 846.314,649.308 847.032,649.636 \n",
       "  847.75,649.947 848.468,650.16 849.187,650.427 849.905,650.691 850.623,650.99 851.341,651.208 852.059,651.636 852.777,651.951 853.496,652.091 854.214,652.497 \n",
       "  854.932,652.713 855.65,653.031 856.368,653.031 857.087,653.312 857.805,653.329 858.523,653.39 859.241,653.357 859.959,653.505 860.678,653.468 861.396,653.508 \n",
       "  862.114,653.544 862.832,653.603 863.55,653.733 864.269,653.698 864.987,653.704 865.705,653.77 866.423,653.781 867.141,653.923 867.86,653.873 868.578,653.91 \n",
       "  869.296,653.965 870.014,654.042 870.732,654.126 871.45,654.058 872.169,654.106 872.887,654.109 873.605,654.278 874.323,654.317 875.041,654.26 875.76,654.271 \n",
       "  876.478,654.332 877.196,654.398 877.914,654.553 878.632,654.5 879.351,654.532 880.069,654.585 880.787,654.612 881.505,654.68 882.223,654.787 882.942,654.7 \n",
       "  883.66,654.789 884.378,654.745 885.096,654.861 885.814,654.974 886.533,654.962 887.251,655.057 887.969,655.01 888.687,655.044 889.405,655.128 890.124,655.227 \n",
       "  890.842,655.207 891.56,655.175 892.278,655.354 892.996,655.334 893.714,655.436 894.433,655.434 895.151,655.541 895.869,655.567 896.587,655.601 897.305,655.589 \n",
       "  898.024,655.576 898.742,655.584 899.46,655.694 900.178,655.714 900.896,655.748 901.615,655.893 902.333,655.937 903.051,655.995 903.769,655.897 904.487,656.072 \n",
       "  905.206,656.111 905.924,656.157 906.642,656.121 907.36,656.139 908.078,656.194 908.797,656.318 909.515,656.234 910.233,656.303 910.951,656.455 911.669,656.404 \n",
       "  912.387,656.434 913.106,656.469 913.824,656.618 914.542,656.57 915.26,656.599 915.978,656.699 916.697,656.71 917.415,656.806 918.133,656.768 918.851,656.738 \n",
       "  919.569,656.865 920.288,657.013 921.006,657.024 921.724,656.941 922.442,657.134 923.16,657.178 923.879,657.041 924.597,657.292 925.315,657.186 926.033,657.269 \n",
       "  926.751,657.286 927.47,657.211 928.188,657.357 928.906,657.419 929.624,657.527 930.342,657.613 931.061,657.648 931.779,657.422 932.497,657.754 933.215,657.631 \n",
       "  933.933,657.756 934.651,657.838 935.37,657.929 936.088,657.806 936.806,657.83 937.524,657.879 938.242,657.992 938.961,658.013 939.679,658.192 940.397,658.192 \n",
       "  941.115,658.255 941.833,658.16 942.552,658.22 943.27,658.307 943.988,658.411 944.706,658.428 945.424,658.511 946.143,658.464 946.861,658.56 947.579,658.502 \n",
       "  948.297,658.691 949.015,658.6 949.734,658.674 950.452,658.796 951.17,658.848 951.888,658.889 952.606,658.832 953.324,658.88 954.043,658.807 954.761,659.073 \n",
       "  955.479,659.111 956.197,659.069 956.915,659.145 957.634,659.237 958.352,659.191 959.07,659.25 959.788,659.373 960.506,659.335 961.225,659.375 961.943,659.42 \n",
       "  962.661,659.435 963.379,659.482 964.097,659.557 964.816,659.497 965.534,659.641 966.252,659.767 966.97,659.708 967.688,659.811 968.407,659.872 969.125,659.794 \n",
       "  969.843,659.972 970.561,659.911 971.279,660.055 971.998,660.11 972.716,660.009 973.434,660.07 974.152,660.229 974.87,660.257 975.588,660.234 976.307,660.287 \n",
       "  977.025,660.389 977.743,660.333 978.461,660.387 979.179,660.418 979.898,660.548 980.616,660.607 981.334,660.564 982.052,660.672 982.77,660.661 983.489,660.667 \n",
       "  984.207,660.776 984.925,660.656 985.643,660.885 986.361,660.837 987.08,660.956 987.798,660.855 988.516,660.976 989.234,661.021 989.952,661.163 990.671,661.178 \n",
       "  991.389,661.269 992.107,661.173 992.825,661.263 993.543,661.357 994.261,661.362 994.98,661.414 995.698,661.474 996.416,661.451 997.134,661.51 997.852,661.65 \n",
       "  998.571,661.585 999.289,661.651 1000.01,661.674 1000.73,661.823 1001.44,661.865 1002.16,661.78 1002.88,661.924 1003.6,661.915 1004.32,661.996 1005.03,662.084 \n",
       "  1005.75,662.046 1006.47,662.136 1007.19,662.141 1007.91,662.19 1008.63,662.283 1009.34,662.222 1010.06,662.283 1010.78,662.444 1011.5,662.484 1012.22,662.455 \n",
       "  1012.93,662.481 1013.65,662.434 1014.37,662.584 1015.09,662.583 1015.81,662.626 1016.53,662.691 1017.24,662.766 1017.96,662.871 1018.68,662.783 1019.4,662.967 \n",
       "  1020.12,663.008 1020.83,663.041 1021.55,662.983 1022.27,662.986 1022.99,663.087 1023.71,663.209 1024.43,663.246 1025.14,663.222 1025.86,663.269 1026.58,663.402 \n",
       "  1027.3,663.442 1028.02,663.489 1028.73,663.527 1029.45,663.479 1030.17,663.597 1030.89,663.651 1031.61,663.711 1032.33,663.753 1033.04,663.794 1033.76,663.688 \n",
       "  1034.48,663.883 1035.2,663.825 1035.92,663.979 1036.63,663.96 1037.35,664.066 1038.07,664.101 1038.79,664.144 1039.51,664.181 1040.23,664.191 1040.94,664.294 \n",
       "  1041.66,664.333 1042.38,664.293 1043.1,664.296 1043.82,664.357 1044.54,664.42 1045.25,664.487 1045.97,664.477 1046.69,664.596 1047.41,664.65 1048.13,664.615 \n",
       "  1048.84,664.666 1049.56,664.735 1050.28,664.815 1051,664.758 1051.72,664.904 1052.44,664.892 1053.15,665 1053.87,665.048 1054.59,665.001 1055.31,665.036 \n",
       "  1056.03,665.121 1056.74,665.16 1057.46,665.223 1058.18,665.301 1058.9,665.323 1059.62,665.324 1060.34,665.397 1061.05,665.504 1061.77,665.459 1062.49,665.493 \n",
       "  1063.21,665.645 1063.93,665.487 1064.64,665.759 1065.36,665.745 1066.08,665.785 1066.8,665.865 1067.52,665.813 1068.24,665.933 1068.95,666.023 1069.67,665.989 \n",
       "  1070.39,666.028 1071.11,666.046 1071.83,666.154 1072.54,666.125 1073.26,666.234 1073.98,666.209 1074.7,666.309 1075.42,666.3 1076.14,666.436 1076.85,666.379 \n",
       "  1077.57,666.42 1078.29,666.458 1079.01,666.577 1079.73,666.643 1080.44,666.67 1081.16,666.604 1081.88,666.784 1082.6,666.787 1083.32,666.853 1084.04,666.94 \n",
       "  1084.75,666.951 1085.47,666.911 1086.19,667 1086.91,666.937 1087.63,667.035 1088.34,667.192 1089.06,667.205 1089.78,667.204 1090.5,667.252 1091.22,667.325 \n",
       "  1091.94,667.343 1092.65,667.263 1093.37,667.42 1094.09,667.507 1094.81,667.406 1095.53,667.491 1096.24,667.544 1096.96,667.73 1097.68,667.759 1098.4,667.66 \n",
       "  1099.12,667.828 1099.84,667.863 1100.55,667.93 1101.27,667.944 1101.99,668.01 1102.71,667.942 1103.43,668.11 1104.15,668.073 1104.86,668.173 1105.58,668.183 \n",
       "  1106.3,668.291 1107.02,668.342 1107.74,668.386 1108.45,668.347 1109.17,668.427 1109.89,668.45 1110.61,668.566 1111.33,668.583 1112.05,668.631 1112.76,668.586 \n",
       "  1113.48,668.685 1114.2,668.587 1114.92,668.735 1115.64,668.774 1116.35,668.812 1117.07,668.894 1117.79,668.939 1118.51,669.057 1119.23,668.98 1119.95,668.983 \n",
       "  1120.66,669.09 1121.38,669.081 1122.1,669.255 1122.82,669.222 1123.54,669.332 1124.25,669.273 1124.97,669.424 1125.69,669.396 1126.41,669.396 1127.13,669.486 \n",
       "  1127.85,669.535 1128.56,669.654 1129.28,669.573 1130,669.68 1130.72,669.712 1131.44,669.758 1132.15,669.886 1132.87,669.87 1133.59,669.912 1134.31,670.014 \n",
       "  1135.03,669.972 1135.75,670.012 1136.46,670.063 1137.18,670.086 1137.9,670.173 1138.62,670.272 1139.34,670.316 1140.05,670.303 1140.77,670.432 1141.49,670.397 \n",
       "  1142.21,670.41 1142.93,670.471 1143.65,670.515 1144.36,670.515 \n",
       "  \"/>\n",
       "<path clip-path=\"url(#clip360)\" d=\"\n",
       "M807.481 327.952 L1098.5 327.952 L1098.5 206.992 L807.481 206.992  Z\n",
       "  \" fill=\"#ffffff\" fill-rule=\"evenodd\" fill-opacity=\"1\"/>\n",
       "<polyline clip-path=\"url(#clip360)\" style=\"stroke:#000000; stroke-width:4; stroke-opacity:1; fill:none\" points=\"\n",
       "  807.481,327.952 1098.5,327.952 1098.5,206.992 807.481,206.992 807.481,327.952 \n",
       "  \"/>\n",
       "<polyline clip-path=\"url(#clip360)\" style=\"stroke:#009af9; stroke-width:4; stroke-opacity:1; fill:none\" points=\"\n",
       "  831.481,267.472 975.481,267.472 \n",
       "  \"/>\n",
       "<path clip-path=\"url(#clip360)\" d=\"M 0 0 M1013.32 287.16 Q1011.52 291.789 1009.8 293.201 Q1008.09 294.613 1005.22 294.613 L1001.82 294.613 L1001.82 291.048 L1004.32 291.048 Q1006.08 291.048 1007.05 290.215 Q1008.02 289.382 1009.2 286.28 L1009.97 284.335 L999.481 258.826 L1003.99 258.826 L1012.1 279.104 L1020.2 258.826 L1024.71 258.826 L1013.32 287.16 Z\" fill=\"#000000\" fill-rule=\"evenodd\" fill-opacity=\"1\" /><path clip-path=\"url(#clip360)\" d=\"M 0 0 M1030.59 280.817 L1038.23 280.817 L1038.23 254.451 L1029.92 256.118 L1029.92 251.859 L1038.18 250.192 L1042.86 250.192 L1042.86 280.817 L1050.5 280.817 L1050.5 284.752 L1030.59 284.752 L1030.59 280.817 Z\" fill=\"#000000\" fill-rule=\"evenodd\" fill-opacity=\"1\" /><path clip-path=\"url(#clip360)\" d=\"\n",
       "M1427.6 686.448 L2352.76 686.448 L2352.76 123.472 L1427.6 123.472  Z\n",
       "  \" fill=\"#ffffff\" fill-rule=\"evenodd\" fill-opacity=\"1\"/>\n",
       "<defs>\n",
       "  <clipPath id=\"clip363\">\n",
       "    <rect x=\"1427\" y=\"123\" width=\"926\" height=\"564\"/>\n",
       "  </clipPath>\n",
       "</defs>\n",
       "<polyline clip-path=\"url(#clip363)\" style=\"stroke:#000000; stroke-width:2; stroke-opacity:0.1; fill:none\" points=\"\n",
       "  1453.07,686.448 1453.07,123.472 \n",
       "  \"/>\n",
       "<polyline clip-path=\"url(#clip363)\" style=\"stroke:#000000; stroke-width:2; stroke-opacity:0.1; fill:none\" points=\"\n",
       "  1633.25,686.448 1633.25,123.472 \n",
       "  \"/>\n",
       "<polyline clip-path=\"url(#clip363)\" style=\"stroke:#000000; stroke-width:2; stroke-opacity:0.1; fill:none\" points=\"\n",
       "  1813.42,686.448 1813.42,123.472 \n",
       "  \"/>\n",
       "<polyline clip-path=\"url(#clip363)\" style=\"stroke:#000000; stroke-width:2; stroke-opacity:0.1; fill:none\" points=\"\n",
       "  1993.6,686.448 1993.6,123.472 \n",
       "  \"/>\n",
       "<polyline clip-path=\"url(#clip363)\" style=\"stroke:#000000; stroke-width:2; stroke-opacity:0.1; fill:none\" points=\"\n",
       "  2173.78,686.448 2173.78,123.472 \n",
       "  \"/>\n",
       "<polyline clip-path=\"url(#clip363)\" style=\"stroke:#000000; stroke-width:2; stroke-opacity:0.1; fill:none\" points=\"\n",
       "  1427.6,640.148 2352.76,640.148 \n",
       "  \"/>\n",
       "<polyline clip-path=\"url(#clip363)\" style=\"stroke:#000000; stroke-width:2; stroke-opacity:0.1; fill:none\" points=\"\n",
       "  1427.6,500.092 2352.76,500.092 \n",
       "  \"/>\n",
       "<polyline clip-path=\"url(#clip363)\" style=\"stroke:#000000; stroke-width:2; stroke-opacity:0.1; fill:none\" points=\"\n",
       "  1427.6,360.036 2352.76,360.036 \n",
       "  \"/>\n",
       "<polyline clip-path=\"url(#clip363)\" style=\"stroke:#000000; stroke-width:2; stroke-opacity:0.1; fill:none\" points=\"\n",
       "  1427.6,219.98 2352.76,219.98 \n",
       "  \"/>\n",
       "<polyline clip-path=\"url(#clip360)\" style=\"stroke:#000000; stroke-width:4; stroke-opacity:1; fill:none\" points=\"\n",
       "  1427.6,686.448 2352.76,686.448 \n",
       "  \"/>\n",
       "<polyline clip-path=\"url(#clip360)\" style=\"stroke:#000000; stroke-width:4; stroke-opacity:1; fill:none\" points=\"\n",
       "  1427.6,686.448 1427.6,123.472 \n",
       "  \"/>\n",
       "<polyline clip-path=\"url(#clip360)\" style=\"stroke:#000000; stroke-width:4; stroke-opacity:1; fill:none\" points=\"\n",
       "  1453.07,686.448 1453.07,679.692 \n",
       "  \"/>\n",
       "<polyline clip-path=\"url(#clip360)\" style=\"stroke:#000000; stroke-width:4; stroke-opacity:1; fill:none\" points=\"\n",
       "  1633.25,686.448 1633.25,679.692 \n",
       "  \"/>\n",
       "<polyline clip-path=\"url(#clip360)\" style=\"stroke:#000000; stroke-width:4; stroke-opacity:1; fill:none\" points=\"\n",
       "  1813.42,686.448 1813.42,679.692 \n",
       "  \"/>\n",
       "<polyline clip-path=\"url(#clip360)\" style=\"stroke:#000000; stroke-width:4; stroke-opacity:1; fill:none\" points=\"\n",
       "  1993.6,686.448 1993.6,679.692 \n",
       "  \"/>\n",
       "<polyline clip-path=\"url(#clip360)\" style=\"stroke:#000000; stroke-width:4; stroke-opacity:1; fill:none\" points=\"\n",
       "  2173.78,686.448 2173.78,679.692 \n",
       "  \"/>\n",
       "<polyline clip-path=\"url(#clip360)\" style=\"stroke:#000000; stroke-width:4; stroke-opacity:1; fill:none\" points=\"\n",
       "  1427.6,640.148 1438.71,640.148 \n",
       "  \"/>\n",
       "<polyline clip-path=\"url(#clip360)\" style=\"stroke:#000000; stroke-width:4; stroke-opacity:1; fill:none\" points=\"\n",
       "  1427.6,500.092 1438.71,500.092 \n",
       "  \"/>\n",
       "<polyline clip-path=\"url(#clip360)\" style=\"stroke:#000000; stroke-width:4; stroke-opacity:1; fill:none\" points=\"\n",
       "  1427.6,360.036 1438.71,360.036 \n",
       "  \"/>\n",
       "<polyline clip-path=\"url(#clip360)\" style=\"stroke:#000000; stroke-width:4; stroke-opacity:1; fill:none\" points=\"\n",
       "  1427.6,219.98 1438.71,219.98 \n",
       "  \"/>\n",
       "<path clip-path=\"url(#clip360)\" d=\"M 0 0 M1453.07 708.439 Q1449.46 708.439 1447.63 712.003 Q1445.82 715.545 1445.82 722.675 Q1445.82 729.781 1447.63 733.346 Q1449.46 736.887 1453.07 736.887 Q1456.7 736.887 1458.51 733.346 Q1460.34 729.781 1460.34 722.675 Q1460.34 715.545 1458.51 712.003 Q1456.7 708.439 1453.07 708.439 M1453.07 704.735 Q1458.88 704.735 1461.93 709.341 Q1465.01 713.925 1465.01 722.675 Q1465.01 731.401 1461.93 736.008 Q1458.88 740.591 1453.07 740.591 Q1447.26 740.591 1444.18 736.008 Q1441.12 731.401 1441.12 722.675 Q1441.12 713.925 1444.18 709.341 Q1447.26 704.735 1453.07 704.735 Z\" fill=\"#000000\" fill-rule=\"evenodd\" fill-opacity=\"1\" /><path clip-path=\"url(#clip360)\" d=\"M 0 0 M1601.38 735.985 L1617.7 735.985 L1617.7 739.92 L1595.76 739.92 L1595.76 735.985 Q1598.42 733.23 1603 728.6 Q1607.61 723.948 1608.79 722.605 Q1611.04 720.082 1611.92 718.346 Q1612.82 716.587 1612.82 714.897 Q1612.82 712.142 1610.87 710.406 Q1608.95 708.67 1605.85 708.67 Q1603.65 708.67 1601.2 709.434 Q1598.77 710.198 1595.99 711.749 L1595.99 707.027 Q1598.81 705.892 1601.27 705.314 Q1603.72 704.735 1605.76 704.735 Q1611.13 704.735 1614.32 707.42 Q1617.52 710.105 1617.52 714.596 Q1617.52 716.726 1616.71 718.647 Q1615.92 720.545 1613.81 723.138 Q1613.23 723.809 1610.13 727.026 Q1607.03 730.221 1601.38 735.985 Z\" fill=\"#000000\" fill-rule=\"evenodd\" fill-opacity=\"1\" /><path clip-path=\"url(#clip360)\" d=\"M 0 0 M1622.82 705.36 L1641.17 705.36 L1641.17 709.295 L1627.1 709.295 L1627.1 717.767 Q1628.12 717.42 1629.14 717.258 Q1630.16 717.073 1631.17 717.073 Q1636.96 717.073 1640.34 720.244 Q1643.72 723.415 1643.72 728.832 Q1643.72 734.411 1640.25 737.512 Q1636.78 740.591 1630.46 740.591 Q1628.28 740.591 1626.01 740.221 Q1623.77 739.85 1621.36 739.11 L1621.36 734.411 Q1623.44 735.545 1625.67 736.1 Q1627.89 736.656 1630.36 736.656 Q1634.37 736.656 1636.71 734.55 Q1639.04 732.443 1639.04 728.832 Q1639.04 725.221 1636.71 723.114 Q1634.37 721.008 1630.36 721.008 Q1628.49 721.008 1626.61 721.425 Q1624.76 721.841 1622.82 722.721 L1622.82 705.36 Z\" fill=\"#000000\" fill-rule=\"evenodd\" fill-opacity=\"1\" /><path clip-path=\"url(#clip360)\" d=\"M 0 0 M1658.79 708.439 Q1655.18 708.439 1653.35 712.003 Q1651.54 715.545 1651.54 722.675 Q1651.54 729.781 1653.35 733.346 Q1655.18 736.887 1658.79 736.887 Q1662.42 736.887 1664.23 733.346 Q1666.06 729.781 1666.06 722.675 Q1666.06 715.545 1664.23 712.003 Q1662.42 708.439 1658.79 708.439 M1658.79 704.735 Q1664.6 704.735 1667.66 709.341 Q1670.73 713.925 1670.73 722.675 Q1670.73 731.401 1667.66 736.008 Q1664.6 740.591 1658.79 740.591 Q1652.98 740.591 1649.9 736.008 Q1646.85 731.401 1646.85 722.675 Q1646.85 713.925 1649.9 709.341 Q1652.98 704.735 1658.79 704.735 Z\" fill=\"#000000\" fill-rule=\"evenodd\" fill-opacity=\"1\" /><path clip-path=\"url(#clip360)\" d=\"M 0 0 M1776.69 705.36 L1795.04 705.36 L1795.04 709.295 L1780.97 709.295 L1780.97 717.767 Q1781.99 717.42 1783.01 717.258 Q1784.03 717.073 1785.04 717.073 Q1790.83 717.073 1794.21 720.244 Q1797.59 723.415 1797.59 728.832 Q1797.59 734.411 1794.12 737.512 Q1790.65 740.591 1784.33 740.591 Q1782.15 740.591 1779.88 740.221 Q1777.64 739.85 1775.23 739.11 L1775.23 734.411 Q1777.31 735.545 1779.54 736.1 Q1781.76 736.656 1784.23 736.656 Q1788.24 736.656 1790.58 734.55 Q1792.92 732.443 1792.92 728.832 Q1792.92 725.221 1790.58 723.114 Q1788.24 721.008 1784.23 721.008 Q1782.36 721.008 1780.48 721.425 Q1778.63 721.841 1776.69 722.721 L1776.69 705.36 Z\" fill=\"#000000\" fill-rule=\"evenodd\" fill-opacity=\"1\" /><path clip-path=\"url(#clip360)\" d=\"M 0 0 M1812.66 708.439 Q1809.05 708.439 1807.22 712.003 Q1805.42 715.545 1805.42 722.675 Q1805.42 729.781 1807.22 733.346 Q1809.05 736.887 1812.66 736.887 Q1816.29 736.887 1818.1 733.346 Q1819.93 729.781 1819.93 722.675 Q1819.93 715.545 1818.1 712.003 Q1816.29 708.439 1812.66 708.439 M1812.66 704.735 Q1818.47 704.735 1821.53 709.341 Q1824.6 713.925 1824.6 722.675 Q1824.6 731.401 1821.53 736.008 Q1818.47 740.591 1812.66 740.591 Q1806.85 740.591 1803.77 736.008 Q1800.72 731.401 1800.72 722.675 Q1800.72 713.925 1803.77 709.341 Q1806.85 704.735 1812.66 704.735 Z\" fill=\"#000000\" fill-rule=\"evenodd\" fill-opacity=\"1\" /><path clip-path=\"url(#clip360)\" d=\"M 0 0 M1839.67 708.439 Q1836.06 708.439 1834.23 712.003 Q1832.43 715.545 1832.43 722.675 Q1832.43 729.781 1834.23 733.346 Q1836.06 736.887 1839.67 736.887 Q1843.31 736.887 1845.11 733.346 Q1846.94 729.781 1846.94 722.675 Q1846.94 715.545 1845.11 712.003 Q1843.31 708.439 1839.67 708.439 M1839.67 704.735 Q1845.48 704.735 1848.54 709.341 Q1851.62 713.925 1851.62 722.675 Q1851.62 731.401 1848.54 736.008 Q1845.48 740.591 1839.67 740.591 Q1833.86 740.591 1830.79 736.008 Q1827.73 731.401 1827.73 722.675 Q1827.73 713.925 1830.79 709.341 Q1833.86 704.735 1839.67 704.735 Z\" fill=\"#000000\" fill-rule=\"evenodd\" fill-opacity=\"1\" /><path clip-path=\"url(#clip360)\" d=\"M 0 0 M1955.98 705.36 L1978.2 705.36 L1978.2 707.351 L1965.65 739.92 L1960.77 739.92 L1972.57 709.295 L1955.98 709.295 L1955.98 705.36 Z\" fill=\"#000000\" fill-rule=\"evenodd\" fill-opacity=\"1\" /><path clip-path=\"url(#clip360)\" d=\"M 0 0 M1983.31 705.36 L2001.67 705.36 L2001.67 709.295 L1987.6 709.295 L1987.6 717.767 Q1988.61 717.42 1989.63 717.258 Q1990.65 717.073 1991.67 717.073 Q1997.46 717.073 2000.84 720.244 Q2004.22 723.415 2004.22 728.832 Q2004.22 734.411 2000.74 737.512 Q1997.27 740.591 1990.95 740.591 Q1988.78 740.591 1986.51 740.221 Q1984.26 739.85 1981.86 739.11 L1981.86 734.411 Q1983.94 735.545 1986.16 736.1 Q1988.38 736.656 1990.86 736.656 Q1994.86 736.656 1997.2 734.55 Q1999.54 732.443 1999.54 728.832 Q1999.54 725.221 1997.2 723.114 Q1994.86 721.008 1990.86 721.008 Q1988.98 721.008 1987.11 721.425 Q1985.26 721.841 1983.31 722.721 L1983.31 705.36 Z\" fill=\"#000000\" fill-rule=\"evenodd\" fill-opacity=\"1\" /><path clip-path=\"url(#clip360)\" d=\"M 0 0 M2019.29 708.439 Q2015.67 708.439 2013.85 712.003 Q2012.04 715.545 2012.04 722.675 Q2012.04 729.781 2013.85 733.346 Q2015.67 736.887 2019.29 736.887 Q2022.92 736.887 2024.73 733.346 Q2026.55 729.781 2026.55 722.675 Q2026.55 715.545 2024.73 712.003 Q2022.92 708.439 2019.29 708.439 M2019.29 704.735 Q2025.1 704.735 2028.15 709.341 Q2031.23 713.925 2031.23 722.675 Q2031.23 731.401 2028.15 736.008 Q2025.1 740.591 2019.29 740.591 Q2013.48 740.591 2010.4 736.008 Q2007.34 731.401 2007.34 722.675 Q2007.34 713.925 2010.4 709.341 Q2013.48 704.735 2019.29 704.735 Z\" fill=\"#000000\" fill-rule=\"evenodd\" fill-opacity=\"1\" /><path clip-path=\"url(#clip360)\" d=\"M 0 0 M2123.64 735.985 L2131.28 735.985 L2131.28 709.619 L2122.97 711.286 L2122.97 707.027 L2131.24 705.36 L2135.91 705.36 L2135.91 735.985 L2143.55 735.985 L2143.55 739.92 L2123.64 739.92 L2123.64 735.985 Z\" fill=\"#000000\" fill-rule=\"evenodd\" fill-opacity=\"1\" /><path clip-path=\"url(#clip360)\" d=\"M 0 0 M2158.62 708.439 Q2155.01 708.439 2153.18 712.003 Q2151.37 715.545 2151.37 722.675 Q2151.37 729.781 2153.18 733.346 Q2155.01 736.887 2158.62 736.887 Q2162.25 736.887 2164.06 733.346 Q2165.89 729.781 2165.89 722.675 Q2165.89 715.545 2164.06 712.003 Q2162.25 708.439 2158.62 708.439 M2158.62 704.735 Q2164.43 704.735 2167.48 709.341 Q2170.56 713.925 2170.56 722.675 Q2170.56 731.401 2167.48 736.008 Q2164.43 740.591 2158.62 740.591 Q2152.81 740.591 2149.73 736.008 Q2146.67 731.401 2146.67 722.675 Q2146.67 713.925 2149.73 709.341 Q2152.81 704.735 2158.62 704.735 Z\" fill=\"#000000\" fill-rule=\"evenodd\" fill-opacity=\"1\" /><path clip-path=\"url(#clip360)\" d=\"M 0 0 M2185.63 708.439 Q2182.02 708.439 2180.19 712.003 Q2178.39 715.545 2178.39 722.675 Q2178.39 729.781 2180.19 733.346 Q2182.02 736.887 2185.63 736.887 Q2189.27 736.887 2191.07 733.346 Q2192.9 729.781 2192.9 722.675 Q2192.9 715.545 2191.07 712.003 Q2189.27 708.439 2185.63 708.439 M2185.63 704.735 Q2191.44 704.735 2194.5 709.341 Q2197.58 713.925 2197.58 722.675 Q2197.58 731.401 2194.5 736.008 Q2191.44 740.591 2185.63 740.591 Q2179.82 740.591 2176.74 736.008 Q2173.69 731.401 2173.69 722.675 Q2173.69 713.925 2176.74 709.341 Q2179.82 704.735 2185.63 704.735 Z\" fill=\"#000000\" fill-rule=\"evenodd\" fill-opacity=\"1\" /><path clip-path=\"url(#clip360)\" d=\"M 0 0 M2212.65 708.439 Q2209.04 708.439 2207.21 712.003 Q2205.4 715.545 2205.4 722.675 Q2205.4 729.781 2207.21 733.346 Q2209.04 736.887 2212.65 736.887 Q2216.28 736.887 2218.09 733.346 Q2219.92 729.781 2219.92 722.675 Q2219.92 715.545 2218.09 712.003 Q2216.28 708.439 2212.65 708.439 M2212.65 704.735 Q2218.46 704.735 2221.51 709.341 Q2224.59 713.925 2224.59 722.675 Q2224.59 731.401 2221.51 736.008 Q2218.46 740.591 2212.65 740.591 Q2206.84 740.591 2203.76 736.008 Q2200.7 731.401 2200.7 722.675 Q2200.7 713.925 2203.76 709.341 Q2206.84 704.735 2212.65 704.735 Z\" fill=\"#000000\" fill-rule=\"evenodd\" fill-opacity=\"1\" /><path clip-path=\"url(#clip360)\" d=\"M 0 0 M1314.74 659.94 L1322.38 659.94 L1322.38 633.575 L1314.07 635.241 L1314.07 630.982 L1322.33 629.316 L1327.01 629.316 L1327.01 659.94 L1334.65 659.94 L1334.65 663.876 L1314.74 663.876 L1314.74 659.94 Z\" fill=\"#000000\" fill-rule=\"evenodd\" fill-opacity=\"1\" /><path clip-path=\"url(#clip360)\" d=\"M 0 0 M1349.72 632.394 Q1346.11 632.394 1344.28 635.959 Q1342.47 639.501 1342.47 646.63 Q1342.47 653.737 1344.28 657.302 Q1346.11 660.843 1349.72 660.843 Q1353.35 660.843 1355.16 657.302 Q1356.99 653.737 1356.99 646.63 Q1356.99 639.501 1355.16 635.959 Q1353.35 632.394 1349.72 632.394 M1349.72 628.691 Q1355.53 628.691 1358.58 633.297 Q1361.66 637.88 1361.66 646.63 Q1361.66 655.357 1358.58 659.964 Q1355.53 664.547 1349.72 664.547 Q1343.91 664.547 1340.83 659.964 Q1337.77 655.357 1337.77 646.63 Q1337.77 637.88 1340.83 633.297 Q1343.91 628.691 1349.72 628.691 Z\" fill=\"#000000\" fill-rule=\"evenodd\" fill-opacity=\"1\" /><path clip-path=\"url(#clip360)\" d=\"M 0 0 M1361.66 624.372 L1371.8 624.372 L1371.8 627.456 L1361.66 627.456 L1361.66 624.372 Z\" fill=\"#000000\" fill-rule=\"evenodd\" fill-opacity=\"1\" /><path clip-path=\"url(#clip360)\" d=\"M 0 0 M1390.35 633.268 L1403.6 633.268 L1403.6 636.465 L1385.78 636.465 L1385.78 633.268 Q1387.94 631.03 1391.66 627.268 Q1395.4 623.488 1396.36 622.397 Q1398.19 620.347 1398.9 618.936 Q1399.64 617.507 1399.64 616.134 Q1399.64 613.896 1398.06 612.485 Q1396.5 611.075 1393.98 611.075 Q1392.19 611.075 1390.19 611.695 Q1388.22 612.316 1385.96 613.576 L1385.96 609.739 Q1388.26 608.818 1390.25 608.348 Q1392.24 607.877 1393.9 607.877 Q1398.26 607.877 1400.86 610.059 Q1403.45 612.241 1403.45 615.89 Q1403.45 617.62 1402.8 619.181 Q1402.16 620.723 1400.45 622.83 Q1399.97 623.375 1397.45 625.989 Q1394.93 628.585 1390.35 633.268 Z\" fill=\"#000000\" fill-rule=\"evenodd\" fill-opacity=\"1\" /><path clip-path=\"url(#clip360)\" d=\"M 0 0 M1315.85 519.884 L1323.49 519.884 L1323.49 493.519 L1315.18 495.185 L1315.18 490.926 L1323.44 489.26 L1328.12 489.26 L1328.12 519.884 L1335.76 519.884 L1335.76 523.82 L1315.85 523.82 L1315.85 519.884 Z\" fill=\"#000000\" fill-rule=\"evenodd\" fill-opacity=\"1\" /><path clip-path=\"url(#clip360)\" d=\"M 0 0 M1350.83 492.338 Q1347.22 492.338 1345.39 495.903 Q1343.58 499.445 1343.58 506.574 Q1343.58 513.681 1345.39 517.245 Q1347.22 520.787 1350.83 520.787 Q1354.46 520.787 1356.27 517.245 Q1358.1 513.681 1358.1 506.574 Q1358.1 499.445 1356.27 495.903 Q1354.46 492.338 1350.83 492.338 M1350.83 488.635 Q1356.64 488.635 1359.69 493.241 Q1362.77 497.824 1362.77 506.574 Q1362.77 515.301 1359.69 519.908 Q1356.64 524.491 1350.83 524.491 Q1345.02 524.491 1341.94 519.908 Q1338.88 515.301 1338.88 506.574 Q1338.88 497.824 1341.94 493.241 Q1345.02 488.635 1350.83 488.635 Z\" fill=\"#000000\" fill-rule=\"evenodd\" fill-opacity=\"1\" /><path clip-path=\"url(#clip360)\" d=\"M 0 0 M1362.77 484.316 L1372.91 484.316 L1372.91 487.4 L1362.77 487.4 L1362.77 484.316 Z\" fill=\"#000000\" fill-rule=\"evenodd\" fill-opacity=\"1\" /><path clip-path=\"url(#clip360)\" d=\"M 0 0 M1387.43 493.212 L1393.64 493.212 L1393.64 471.79 L1386.88 473.144 L1386.88 469.683 L1393.6 468.329 L1397.4 468.329 L1397.4 493.212 L1403.6 493.212 L1403.6 496.409 L1387.43 496.409 L1387.43 493.212 Z\" fill=\"#000000\" fill-rule=\"evenodd\" fill-opacity=\"1\" /><path clip-path=\"url(#clip360)\" d=\"M 0 0 M1337.27 379.828 L1344.91 379.828 L1344.91 353.463 L1336.6 355.129 L1336.6 350.87 L1344.87 349.203 L1349.54 349.203 L1349.54 379.828 L1357.18 379.828 L1357.18 383.763 L1337.27 383.763 L1337.27 379.828 Z\" fill=\"#000000\" fill-rule=\"evenodd\" fill-opacity=\"1\" /><path clip-path=\"url(#clip360)\" d=\"M 0 0 M1372.25 352.282 Q1368.64 352.282 1366.81 355.847 Q1365.01 359.389 1365.01 366.518 Q1365.01 373.625 1366.81 377.189 Q1368.64 380.731 1372.25 380.731 Q1375.89 380.731 1377.69 377.189 Q1379.52 373.625 1379.52 366.518 Q1379.52 359.389 1377.69 355.847 Q1375.89 352.282 1372.25 352.282 M1372.25 348.578 Q1378.06 348.578 1381.12 353.185 Q1384.2 357.768 1384.2 366.518 Q1384.2 375.245 1381.12 379.851 Q1378.06 384.435 1372.25 384.435 Q1366.44 384.435 1363.36 379.851 Q1360.31 375.245 1360.31 366.518 Q1360.31 357.768 1363.36 353.185 Q1366.44 348.578 1372.25 348.578 Z\" fill=\"#000000\" fill-rule=\"evenodd\" fill-opacity=\"1\" /><path clip-path=\"url(#clip360)\" d=\"M 0 0 M1393.9 330.774 Q1390.97 330.774 1389.48 333.671 Q1388.01 336.548 1388.01 342.341 Q1388.01 348.115 1389.48 351.012 Q1390.97 353.889 1393.9 353.889 Q1396.85 353.889 1398.32 351.012 Q1399.81 348.115 1399.81 342.341 Q1399.81 336.548 1398.32 333.671 Q1396.85 330.774 1393.9 330.774 M1393.9 327.765 Q1398.62 327.765 1401.1 331.508 Q1403.6 335.232 1403.6 342.341 Q1403.6 349.432 1401.1 353.175 Q1398.62 356.898 1393.9 356.898 Q1389.18 356.898 1386.68 353.175 Q1384.2 349.432 1384.2 342.341 Q1384.2 335.232 1386.68 331.508 Q1389.18 327.765 1393.9 327.765 Z\" fill=\"#000000\" fill-rule=\"evenodd\" fill-opacity=\"1\" /><path clip-path=\"url(#clip360)\" d=\"M 0 0 M1339.96 239.772 L1347.6 239.772 L1347.6 213.407 L1339.29 215.073 L1339.29 210.814 L1347.56 209.147 L1352.23 209.147 L1352.23 239.772 L1359.87 239.772 L1359.87 243.707 L1339.96 243.707 L1339.96 239.772 Z\" fill=\"#000000\" fill-rule=\"evenodd\" fill-opacity=\"1\" /><path clip-path=\"url(#clip360)\" d=\"M 0 0 M1374.94 212.226 Q1371.33 212.226 1369.5 215.791 Q1367.69 219.333 1367.69 226.462 Q1367.69 233.569 1369.5 237.133 Q1371.33 240.675 1374.94 240.675 Q1378.57 240.675 1380.38 237.133 Q1382.21 233.569 1382.21 226.462 Q1382.21 219.333 1380.38 215.791 Q1378.57 212.226 1374.94 212.226 M1374.94 208.522 Q1380.75 208.522 1383.81 213.129 Q1386.88 217.712 1386.88 226.462 Q1386.88 235.189 1383.81 239.795 Q1380.75 244.379 1374.94 244.379 Q1369.13 244.379 1366.05 239.795 Q1363 235.189 1363 226.462 Q1363 217.712 1366.05 213.129 Q1369.13 208.522 1374.94 208.522 Z\" fill=\"#000000\" fill-rule=\"evenodd\" fill-opacity=\"1\" /><path clip-path=\"url(#clip360)\" d=\"M 0 0 M1387.43 213.1 L1393.64 213.1 L1393.64 191.678 L1386.88 193.032 L1386.88 189.571 L1393.6 188.217 L1397.4 188.217 L1397.4 213.1 L1403.6 213.1 L1403.6 216.297 L1387.43 216.297 L1387.43 213.1 Z\" fill=\"#000000\" fill-rule=\"evenodd\" fill-opacity=\"1\" /><path clip-path=\"url(#clip360)\" d=\"M 0 0 M1720.06 12.096 L1732.26 12.096 L1747.69 53.2532 L1763.2 12.096 L1775.4 12.096 L1775.4 72.576 L1767.42 72.576 L1767.42 19.4686 L1751.82 60.9499 L1743.6 60.9499 L1728 19.4686 L1728 72.576 L1720.06 72.576 L1720.06 12.096 Z\" fill=\"#000000\" fill-rule=\"evenodd\" fill-opacity=\"1\" /><path clip-path=\"url(#clip360)\" d=\"M 0 0 M1822.02 48.0275 L1822.02 51.6733 L1787.75 51.6733 Q1788.24 59.3701 1792.37 63.421 Q1796.54 67.4314 1803.96 67.4314 Q1808.25 67.4314 1812.26 66.3781 Q1816.31 65.3249 1820.28 63.2184 L1820.28 70.267 Q1816.27 71.9684 1812.06 72.8596 Q1807.85 73.7508 1803.51 73.7508 Q1792.65 73.7508 1786.29 67.4314 Q1779.98 61.1119 1779.98 50.3365 Q1779.98 39.1965 1785.97 32.6746 Q1792.01 26.1121 1802.21 26.1121 Q1811.37 26.1121 1816.68 32.0264 Q1822.02 37.9003 1822.02 48.0275 M1814.57 45.84 Q1814.49 39.7232 1811.13 36.0774 Q1807.81 32.4315 1802.3 32.4315 Q1796.06 32.4315 1792.29 35.9558 Q1788.56 39.4801 1788 45.8805 L1814.57 45.84 Z\" fill=\"#000000\" fill-rule=\"evenodd\" fill-opacity=\"1\" /><path clip-path=\"url(#clip360)\" d=\"M 0 0 M1837.21 14.324 L1837.21 27.2059 L1852.57 27.2059 L1852.57 32.9987 L1837.21 32.9987 L1837.21 57.6282 Q1837.21 63.1779 1838.71 64.7578 Q1840.25 66.3376 1844.91 66.3376 L1852.57 66.3376 L1852.57 72.576 L1844.91 72.576 Q1836.28 72.576 1833 69.3758 Q1829.72 66.1351 1829.72 57.6282 L1829.72 32.9987 L1824.25 32.9987 L1824.25 27.2059 L1829.72 27.2059 L1829.72 14.324 L1837.21 14.324 Z\" fill=\"#000000\" fill-rule=\"evenodd\" fill-opacity=\"1\" /><path clip-path=\"url(#clip360)\" d=\"M 0 0 M1898.1 45.1919 L1898.1 72.576 L1890.65 72.576 L1890.65 45.4349 Q1890.65 38.994 1888.13 35.7938 Q1885.62 32.5936 1880.6 32.5936 Q1874.56 32.5936 1871.08 36.4419 Q1867.6 40.2903 1867.6 46.9338 L1867.6 72.576 L1860.1 72.576 L1860.1 9.54393 L1867.6 9.54393 L1867.6 34.2544 Q1870.27 30.163 1873.88 28.1376 Q1877.52 26.1121 1882.26 26.1121 Q1890.08 26.1121 1894.09 30.9732 Q1898.1 35.7938 1898.1 45.1919 Z\" fill=\"#000000\" fill-rule=\"evenodd\" fill-opacity=\"1\" /><path clip-path=\"url(#clip360)\" d=\"M 0 0 M1923.5 32.4315 Q1917.5 32.4315 1914.02 37.1306 Q1910.54 41.7891 1910.54 49.9314 Q1910.54 58.0738 1913.98 62.7728 Q1917.46 67.4314 1923.5 67.4314 Q1929.45 67.4314 1932.94 62.7323 Q1936.42 58.0333 1936.42 49.9314 Q1936.42 41.8701 1932.94 37.1711 Q1929.45 32.4315 1923.5 32.4315 M1923.5 26.1121 Q1933.22 26.1121 1938.77 32.4315 Q1944.32 38.7509 1944.32 49.9314 Q1944.32 61.0714 1938.77 67.4314 Q1933.22 73.7508 1923.5 73.7508 Q1913.74 73.7508 1908.19 67.4314 Q1902.68 61.0714 1902.68 49.9314 Q1902.68 38.7509 1908.19 32.4315 Q1913.74 26.1121 1923.5 26.1121 Z\" fill=\"#000000\" fill-rule=\"evenodd\" fill-opacity=\"1\" /><path clip-path=\"url(#clip360)\" d=\"M 0 0 M1981.99 34.0924 L1981.99 9.54393 L1989.45 9.54393 L1989.45 72.576 L1981.99 72.576 L1981.99 65.7705 Q1979.64 69.8214 1976.04 71.8063 Q1972.47 73.7508 1967.45 73.7508 Q1959.23 73.7508 1954.04 67.1883 Q1948.9 60.6258 1948.9 49.9314 Q1948.9 39.2371 1954.04 32.6746 Q1959.23 26.1121 1967.45 26.1121 Q1972.47 26.1121 1976.04 28.0971 Q1979.64 30.0415 1981.99 34.0924 M1956.59 49.9314 Q1956.59 58.1548 1959.96 62.8538 Q1963.36 67.5124 1969.27 67.5124 Q1975.19 67.5124 1978.59 62.8538 Q1981.99 58.1548 1981.99 49.9314 Q1981.99 41.7081 1978.59 37.0496 Q1975.19 32.3505 1969.27 32.3505 Q1963.36 32.3505 1959.96 37.0496 Q1956.59 41.7081 1956.59 49.9314 Z\" fill=\"#000000\" fill-rule=\"evenodd\" fill-opacity=\"1\" /><path clip-path=\"url(#clip360)\" d=\"M 0 0 M2031.74 65.6895 L2060.3 65.6895 L2060.3 72.576 L2021.9 72.576 L2021.9 65.6895 Q2026.55 60.8689 2034.57 52.7671 Q2042.64 44.6248 2044.7 42.2752 Q2048.63 37.8598 2050.17 34.8216 Q2051.75 31.7429 2051.75 28.7857 Q2051.75 23.9651 2048.35 20.927 Q2044.99 17.8888 2039.56 17.8888 Q2035.71 17.8888 2031.42 19.2256 Q2027.16 20.5624 2022.3 23.2765 L2022.3 15.0127 Q2027.24 13.0277 2031.54 12.015 Q2035.83 11.0023 2039.4 11.0023 Q2048.79 11.0023 2054.38 15.7013 Q2059.97 20.4004 2059.97 28.2591 Q2059.97 31.9859 2058.56 35.3482 Q2057.18 38.6699 2053.49 43.2069 Q2052.48 44.3817 2047.05 50.0125 Q2041.62 55.6027 2031.74 65.6895 Z\" fill=\"#000000\" fill-rule=\"evenodd\" fill-opacity=\"1\" /><polyline clip-path=\"url(#clip363)\" style=\"stroke:#009af9; stroke-width:4; stroke-opacity:1; fill:none\" points=\"\n",
       "  1453.79,139.405 1454.51,252.167 1455.23,329.561 1455.95,214.803 1456.67,193.59 1457.39,208.323 1458.11,253.274 1458.83,341.769 1459.55,369.199 1460.27,285.764 \n",
       "  1461,369.199 1461.72,249.814 1462.44,268.849 1463.16,289.025 1463.88,313.869 1464.6,340.928 1465.32,368.402 1466.04,388.527 1466.76,393.921 1467.48,384.979 \n",
       "  1468.2,371.051 1468.92,358.527 1469.64,349.895 1470.36,345.069 1471.09,343.504 1471.81,345.093 1472.53,349.53 1473.25,356.363 1473.97,364.868 1474.69,373.42 \n",
       "  1475.41,382.565 1476.13,389.584 1476.85,393.625 1477.57,394.917 1478.29,393.252 1479.01,389.963 1479.73,386.426 1480.45,383.426 1481.18,380.916 1481.9,380.1 \n",
       "  1482.62,380.529 1483.34,381.807 1484.06,384.674 1484.78,387.511 1485.5,390.484 1486.22,393.132 1486.94,394.992 1487.66,395.686 1488.38,395.528 1489.1,394.785 \n",
       "  1489.82,393.902 1490.54,392.804 1491.27,392.181 1491.99,392.199 1492.71,392.038 1493.43,392.782 1494.15,393.581 1494.87,394.401 1495.59,395.538 1496.31,396.068 \n",
       "  1497.03,396.651 1497.75,396.588 1498.47,396.517 1499.19,396.276 1499.91,396.027 1500.63,395.994 1501.36,395.807 1502.08,396.086 1502.8,396.131 1503.52,396.618 \n",
       "  1504.24,396.908 1504.96,397.221 1505.68,397.411 1506.4,397.548 1507.12,397.674 1507.84,397.659 1508.56,397.65 1509.28,397.62 1510,397.778 1510.72,397.706 \n",
       "  1511.45,397.889 1512.17,398.122 1512.89,398.159 1513.61,398.351 1514.33,398.605 1515.05,398.53 1515.77,398.751 1516.49,398.723 1517.21,398.834 1517.93,398.916 \n",
       "  1518.65,398.977 1519.37,399.091 1520.09,399.16 1520.81,399.286 1521.54,399.385 1522.26,399.454 1522.98,399.689 1523.7,399.704 1524.42,399.788 1525.14,399.939 \n",
       "  1525.86,399.955 1526.58,400.115 1527.3,400.115 1528.02,400.246 1528.74,400.352 1529.46,400.443 1530.18,400.625 1530.9,400.733 1531.63,400.784 1532.35,400.891 \n",
       "  1533.07,400.935 1533.79,401.079 1534.51,401.07 1535.23,401.33 1535.95,401.39 1536.67,401.482 1537.39,401.557 1538.11,401.739 1538.83,401.849 1539.55,401.908 \n",
       "  1540.27,402.05 1540.99,402.167 1541.72,402.271 1542.44,402.392 1543.16,402.442 1543.88,402.592 1544.6,402.733 1545.32,402.834 1546.04,402.974 1546.76,402.93 \n",
       "  1547.48,403.003 1548.2,403.229 1548.92,403.358 1549.64,403.398 1550.36,403.55 1551.08,403.715 1551.81,403.735 1552.53,403.885 1553.25,404.096 1553.97,404.084 \n",
       "  1554.69,404.307 1555.41,404.397 1556.13,404.482 1556.85,404.669 1557.57,404.634 1558.29,404.894 1559.01,404.991 1559.73,405.081 1560.45,405.228 1561.17,405.214 \n",
       "  1561.9,405.366 1562.62,405.61 1563.34,405.713 1564.06,405.89 1564.78,405.952 1565.5,406.081 1566.22,406.188 1566.94,406.196 1567.66,406.48 1568.38,406.568 \n",
       "  1569.1,406.6 1569.82,406.76 1570.54,406.913 1571.26,407.078 1571.99,407.128 1572.71,407.339 1573.43,407.444 1574.15,407.601 1574.87,407.696 1575.59,407.843 \n",
       "  1576.31,407.876 1577.03,408.012 1577.75,408.164 1578.47,408.315 1579.19,408.45 1579.91,408.575 1580.63,408.741 1581.35,408.828 1582.08,409.023 1582.8,409.1 \n",
       "  1583.52,409.263 1584.24,409.427 1584.96,409.54 1585.68,409.67 1586.4,409.813 1587.12,409.942 1587.84,409.998 1588.56,410.287 1589.28,410.36 1590,410.438 \n",
       "  1590.72,410.586 1591.44,410.671 1592.17,410.911 1592.89,410.981 1593.61,411.149 1594.33,411.347 1595.05,411.431 1595.77,411.623 1596.49,411.704 1597.21,411.902 \n",
       "  1597.93,412.007 1598.65,412.139 1599.37,412.316 1600.09,412.461 1600.81,412.603 1601.53,412.736 1602.26,412.92 1602.98,413.048 1603.7,413.152 1604.42,413.294 \n",
       "  1605.14,413.48 1605.86,413.595 1606.58,413.752 1607.3,413.833 1608.02,414.032 1608.74,414.241 1609.46,414.356 1610.18,414.5 1610.9,414.606 1611.62,414.77 \n",
       "  1612.35,414.966 1613.07,415.124 1613.79,415.159 1614.51,415.384 1615.23,415.542 1615.95,415.615 1616.67,415.831 1617.39,415.911 1618.11,416.139 1618.83,416.329 \n",
       "  1619.55,416.363 1620.27,416.499 1620.99,416.751 1621.71,416.848 1622.44,417.066 1623.16,417.278 1623.88,417.332 1624.6,417.506 1625.32,417.743 1626.04,417.848 \n",
       "  1626.76,417.982 1627.48,418.101 1628.2,418.298 1628.92,418.481 1629.64,418.69 1630.36,418.775 1631.08,418.942 1631.8,419.157 1632.53,419.153 1633.25,419.515 \n",
       "  1633.97,419.635 1634.69,419.797 1635.41,419.963 1636.13,419.985 1636.85,420.238 1637.57,420.398 1638.29,420.533 1639.01,420.778 1639.73,420.885 1640.45,420.975 \n",
       "  1641.17,421.088 1641.89,421.367 1642.62,421.492 1643.34,421.704 1644.06,421.844 1644.78,422.117 1645.5,422.227 1646.22,422.285 1646.94,422.556 1647.66,422.688 \n",
       "  1648.38,422.848 1649.1,423.09 1649.82,423.217 1650.54,423.301 1651.26,423.552 1651.98,423.724 1652.71,423.837 1653.43,424.103 1654.15,424.167 1654.87,424.315 \n",
       "  1655.59,424.591 1656.31,424.787 1657.03,424.918 1657.75,425.107 1658.47,425.269 1659.19,425.409 1659.91,425.658 1660.63,425.817 1661.35,425.889 1662.07,426.15 \n",
       "  1662.8,426.288 1663.52,426.463 1664.24,426.691 1664.96,426.875 1665.68,427.016 1666.4,427.187 1667.12,427.394 1667.84,427.477 1668.56,427.601 1669.28,427.876 \n",
       "  1670,428.081 1670.72,428.276 1671.44,428.454 1672.16,428.601 1672.89,428.734 1673.61,428.908 1674.33,429.13 1675.05,429.375 1675.77,429.514 1676.49,429.756 \n",
       "  1677.21,429.902 1677.93,430.099 1678.65,430.285 1679.37,430.335 1680.09,430.62 1680.81,430.834 1681.53,430.969 1682.25,431.18 1682.98,431.33 1683.7,431.569 \n",
       "  1684.42,431.765 1685.14,431.838 1685.86,432.136 1686.58,432.308 1687.3,432.437 1688.02,432.641 1688.74,432.869 1689.46,433.072 1690.18,433.239 1690.9,433.424 \n",
       "  1691.62,433.57 1692.34,433.712 1693.07,433.862 1693.79,434.157 1694.51,434.293 1695.23,434.42 1695.95,434.669 1696.67,434.937 1697.39,435.01 1698.11,435.27 \n",
       "  1698.83,435.483 1699.55,435.694 1700.27,435.921 1700.99,436.079 1701.71,436.328 1702.43,436.502 1703.16,436.542 1703.88,436.884 1704.6,437.054 1705.32,437.253 \n",
       "  1706.04,437.337 1706.76,437.611 1707.48,437.853 1708.2,438.043 1708.92,438.225 1709.64,438.456 1710.36,438.613 1711.08,438.784 1711.8,439.048 1712.52,439.257 \n",
       "  1713.25,439.389 1713.97,439.639 1714.69,439.777 1715.41,440.02 1716.13,440.168 1716.85,440.49 1717.57,440.529 1718.29,440.755 1719.01,441.041 1719.73,441.133 \n",
       "  1720.45,441.467 1721.17,441.6 1721.89,441.848 1722.61,442.054 1723.34,442.273 1724.06,442.468 1724.78,442.694 1725.5,442.915 1726.22,443.102 1726.94,443.317 \n",
       "  1727.66,443.42 1728.38,443.707 1729.1,443.927 1729.82,444.128 1730.54,444.288 1731.26,444.536 1731.98,444.757 1732.7,445.012 1733.43,445.053 1734.15,445.324 \n",
       "  1734.87,445.536 1735.59,445.73 1736.31,445.888 1737.03,446.233 1737.75,446.422 1738.47,446.591 1739.19,446.859 1739.91,447.129 1740.63,447.258 1741.35,447.506 \n",
       "  1742.07,447.71 1742.79,447.971 1743.52,448.159 1744.24,448.292 1744.96,448.583 1745.68,448.784 1746.4,449 1747.12,449.121 1747.84,449.439 1748.56,449.652 \n",
       "  1749.28,449.931 1750,450.099 1750.72,450.345 1751.44,450.46 1752.16,450.713 1752.88,450.932 1753.61,451.175 1754.33,451.416 1755.05,451.622 1755.77,451.865 \n",
       "  1756.49,452.015 1757.21,452.352 1757.93,452.498 1758.65,452.738 1759.37,452.931 1760.09,453.155 1760.81,453.385 1761.53,453.591 1762.25,453.851 1762.97,454.056 \n",
       "  1763.7,454.298 1764.42,454.501 1765.14,454.733 1765.86,454.921 1766.58,455.198 1767.3,455.311 1768.02,455.657 1768.74,455.942 1769.46,456.133 1770.18,456.328 \n",
       "  1770.9,456.422 1771.62,456.748 1772.34,456.976 1773.06,457.199 1773.79,457.438 1774.51,457.702 1775.23,457.919 1775.95,458.028 1776.67,458.268 1777.39,458.596 \n",
       "  1778.11,458.713 1778.83,458.966 1779.55,459.278 1780.27,459.447 1780.99,459.77 1781.71,459.963 1782.43,460.237 1783.15,460.447 1783.88,460.691 1784.6,460.91 \n",
       "  1785.32,461.111 1786.04,461.41 1786.76,461.613 1787.48,461.759 1788.2,462.07 1788.92,462.373 1789.64,462.604 1790.36,462.87 1791.08,463.021 1791.8,463.346 \n",
       "  1792.52,463.436 1793.24,463.745 1793.97,464.021 1794.69,464.19 1795.41,464.476 1796.13,464.755 1796.85,464.952 1797.57,465.198 1798.29,465.432 1799.01,465.687 \n",
       "  1799.73,465.982 1800.45,466.154 1801.17,466.393 1801.89,466.688 1802.61,466.88 1803.33,467.12 1804.06,467.405 1804.78,467.601 1805.5,467.864 1806.22,468.092 \n",
       "  1806.94,468.366 1807.66,468.605 1808.38,468.857 1809.1,469.085 1809.82,469.337 1810.54,469.582 1811.26,469.831 1811.98,470.101 1812.7,470.322 1813.42,470.594 \n",
       "  1814.15,470.811 1814.87,471.079 1815.59,471.32 1816.31,471.562 1817.03,471.83 1817.75,472.062 1818.47,472.313 1819.19,472.563 1819.91,472.813 1820.63,473.069 \n",
       "  1821.35,473.326 1822.07,473.555 1822.79,473.811 1823.51,474.082 1824.24,474.326 1824.96,474.589 1825.68,474.824 1826.4,475.079 1827.12,475.336 1827.84,475.637 \n",
       "  1828.56,475.895 1829.28,476.156 1830,476.362 1830.72,476.648 1831.44,476.903 1832.16,477.184 1832.88,477.399 1833.6,477.666 1834.33,477.915 1835.05,478.145 \n",
       "  1835.77,478.5 1836.49,478.691 1837.21,478.963 1837.93,479.258 1838.65,479.47 1839.37,479.762 1840.09,479.977 1840.81,480.24 1841.53,480.533 1842.25,480.768 \n",
       "  1842.97,481.026 1843.69,481.339 1844.42,481.545 1845.14,481.841 1845.86,482.162 1846.58,482.444 1847.3,482.695 1848.02,482.948 1848.74,483.178 1849.46,483.453 \n",
       "  1850.18,483.679 1850.9,483.939 1851.62,484.215 1852.34,484.468 1853.06,484.833 1853.78,485.007 1854.51,485.277 1855.23,485.623 1855.95,485.834 1856.67,486.09 \n",
       "  1857.39,486.363 1858.11,486.686 1858.83,486.976 1859.55,487.245 1860.27,487.455 1860.99,487.675 1861.71,488.07 1862.43,488.246 1863.15,488.599 1863.87,488.813 \n",
       "  1864.6,489.163 1865.32,489.299 1866.04,489.607 1866.76,489.921 1867.48,490.223 1868.2,490.389 1868.92,490.769 1869.64,491.083 1870.36,491.305 1871.08,491.53 \n",
       "  1871.8,491.887 1872.52,492.094 1873.24,492.363 1873.96,492.667 1874.69,492.982 1875.41,493.156 1876.13,493.422 1876.85,493.77 1877.57,494.037 1878.29,494.327 \n",
       "  1879.01,494.576 1879.73,494.917 1880.45,495.116 1881.17,495.501 1881.89,495.658 1882.61,496.031 1883.33,496.267 1884.05,496.588 1884.78,496.821 1885.5,497.2 \n",
       "  1886.22,497.382 1886.94,497.674 1887.66,497.971 1888.38,498.269 1889.1,498.525 1889.82,498.856 1890.54,499.079 1891.26,499.367 1891.98,499.703 1892.7,500.025 \n",
       "  1893.42,500.228 1894.14,500.506 1894.86,500.796 1895.59,501.092 1896.31,501.398 1897.03,501.658 1897.75,501.974 1898.47,502.232 1899.19,502.54 1899.91,502.829 \n",
       "  1900.63,503.08 1901.35,503.439 1902.07,503.668 1902.79,504.007 1903.51,504.265 1904.23,504.549 1904.95,504.837 1905.68,505.172 1906.4,505.465 1907.12,505.691 \n",
       "  1907.84,506.075 1908.56,506.313 1909.28,506.613 1910,506.939 1910.72,507.164 1911.44,507.482 1912.16,507.77 1912.88,508.066 1913.6,508.418 1914.32,508.665 \n",
       "  1915.04,508.959 1915.77,509.17 1916.49,509.51 1917.21,509.826 1917.93,510.183 1918.65,510.441 1919.37,510.792 1920.09,511.009 1920.81,511.302 1921.53,511.604 \n",
       "  1922.25,511.898 1922.97,512.228 1923.69,512.516 1924.41,512.796 1925.13,513.083 1925.86,513.398 1926.58,513.696 1927.3,514.053 1928.02,514.373 1928.74,514.595 \n",
       "  1929.46,514.995 1930.18,515.213 1930.9,515.59 1931.62,515.827 1932.34,516.07 1933.06,516.376 1933.78,516.72 1934.5,517.085 1935.22,517.328 1935.95,517.555 \n",
       "  1936.67,517.968 1937.39,518.254 1938.11,518.559 1938.83,518.819 1939.55,519.151 1940.27,519.417 1940.99,519.802 1941.71,520.051 1942.43,520.451 1943.15,520.631 \n",
       "  1943.87,521.055 1944.59,521.297 1945.31,521.628 1946.04,521.975 1946.76,522.173 1947.48,522.574 1948.2,522.903 1948.92,523.184 1949.64,523.513 1950.36,523.828 \n",
       "  1951.08,524.14 1951.8,524.353 1952.52,524.731 1953.24,525.021 1953.96,525.282 1954.68,525.703 1955.4,526.002 1956.13,526.23 1956.85,526.548 1957.57,526.868 \n",
       "  1958.29,527.164 1959.01,527.552 1959.73,527.877 1960.45,528.115 1961.17,528.474 1961.89,528.711 1962.61,529.062 1963.33,529.387 1964.05,529.683 1964.77,530.007 \n",
       "  1965.49,530.237 1966.22,530.645 1966.94,530.968 1967.66,531.276 1968.38,531.574 1969.1,531.942 1969.82,532.282 1970.54,532.526 1971.26,532.864 1971.98,533.151 \n",
       "  1972.7,533.467 1973.42,533.865 1974.14,534.179 1974.86,534.376 1975.58,534.702 1976.31,535.079 1977.03,535.445 1977.75,535.722 1978.47,536.026 1979.19,536.402 \n",
       "  1979.91,536.542 1980.63,536.924 1981.35,537.283 1982.07,537.628 1982.79,537.983 1983.51,538.2 1984.23,538.592 1984.95,538.891 1985.67,539.169 1986.4,539.557 \n",
       "  1987.12,539.934 1987.84,540.218 1988.56,540.479 1989.28,540.875 1990,541.183 1990.72,541.499 1991.44,541.767 1992.16,542.118 1992.88,542.51 1993.6,542.752 \n",
       "  1994.32,543.162 1995.04,543.49 1995.76,543.796 1996.49,544.03 1997.21,544.338 1997.93,544.681 1998.65,545.069 1999.37,545.422 2000.09,545.708 2000.81,546.066 \n",
       "  2001.53,546.288 2002.25,546.677 2002.97,546.994 2003.69,547.401 2004.41,547.73 2005.13,547.994 2005.85,548.356 2006.58,548.68 2007.3,548.961 2008.02,549.335 \n",
       "  2008.74,549.594 2009.46,550.009 2010.18,550.247 2010.9,550.69 2011.62,550.938 2012.34,551.341 2013.06,551.582 2013.78,551.963 2014.5,552.222 2015.22,552.581 \n",
       "  2015.94,552.909 2016.67,553.302 2017.39,553.534 2018.11,553.966 2018.83,554.178 2019.55,554.451 2020.27,554.859 2020.99,555.266 2021.71,555.624 2022.43,555.966 \n",
       "  2023.15,556.205 2023.87,556.505 2024.59,556.867 2025.31,557.203 2026.03,557.551 2026.76,557.983 2027.48,558.189 2028.2,558.574 2028.92,558.801 2029.64,559.161 \n",
       "  2030.36,559.515 2031.08,559.905 2031.8,560.096 2032.52,560.557 2033.24,560.869 2033.96,561.274 2034.68,561.446 2035.4,561.756 2036.12,562.184 2036.85,562.558 \n",
       "  2037.57,562.838 2038.29,563.191 2039.01,563.505 2039.73,563.739 2040.45,564.146 2041.17,564.448 2041.89,564.846 2042.61,565.16 2043.33,565.523 2044.05,565.849 \n",
       "  2044.77,566.269 2045.49,566.519 2046.21,566.885 2046.94,567.109 2047.66,567.51 2048.38,567.895 2049.1,568.193 2049.82,568.463 2050.54,568.866 2051.26,569.233 \n",
       "  2051.98,569.451 2052.7,569.869 2053.42,570.236 2054.14,570.588 2054.86,570.773 2055.58,571.224 2056.3,571.615 2057.03,571.909 2057.75,572.164 2058.47,572.58 \n",
       "  2059.19,572.887 2059.91,573.142 2060.63,573.564 2061.35,573.883 2062.07,574.233 2062.79,574.62 2063.51,574.811 2064.23,575.209 2064.95,575.567 2065.67,575.922 \n",
       "  2066.39,576.251 2067.12,576.583 2067.84,576.904 2068.56,577.25 2069.28,577.578 2070,577.924 2070.72,578.257 2071.44,578.677 2072.16,578.93 2072.88,579.221 \n",
       "  2073.6,579.529 2074.32,579.926 2075.04,580.262 2075.76,580.571 2076.48,581 2077.21,581.247 2077.93,581.613 2078.65,581.962 2079.37,582.271 2080.09,582.609 \n",
       "  2080.81,582.936 2081.53,583.267 2082.25,583.606 2082.97,583.96 2083.69,584.264 2084.41,584.664 2085.13,584.955 2085.85,585.284 2086.57,585.603 2087.3,585.868 \n",
       "  2088.02,586.301 2088.74,586.611 2089.46,587.023 2090.18,587.286 2090.9,587.618 2091.62,587.932 2092.34,588.294 2093.06,588.622 2093.78,589.007 2094.5,589.337 \n",
       "  2095.22,589.654 2095.94,589.948 2096.66,590.281 2097.39,590.617 2098.11,590.957 2098.83,591.27 2099.55,591.605 2100.27,591.957 2100.99,592.256 2101.71,592.622 \n",
       "  2102.43,593.022 2103.15,593.269 2103.87,593.668 2104.59,593.912 2105.31,594.329 2106.03,594.658 2106.75,594.982 2107.48,595.251 2108.2,595.59 2108.92,595.904 \n",
       "  2109.64,596.251 2110.36,596.582 2111.08,596.887 2111.8,597.213 2112.52,597.542 2113.24,597.966 2113.96,598.223 2114.68,598.527 2115.4,598.875 2116.12,599.207 \n",
       "  2116.84,599.595 2117.57,599.857 2118.29,600.199 2119.01,600.486 2119.73,600.809 2120.45,601.132 2121.17,601.456 2121.89,601.93 2122.61,602.142 2123.33,602.385 \n",
       "  2124.05,602.772 2124.77,603.197 2125.49,603.539 2126.21,603.839 2126.93,604.037 2127.66,604.407 2128.38,604.793 2129.1,605.06 2129.82,605.424 2130.54,605.672 \n",
       "  2131.26,605.918 2131.98,606.314 2132.7,606.661 2133.42,606.918 2134.14,607.307 2134.86,607.592 2135.58,607.944 2136.3,608.262 2137.02,608.568 2137.75,608.89 \n",
       "  2138.47,609.199 2139.19,609.514 2139.91,609.909 2140.63,610.159 2141.35,610.473 2142.07,610.759 2142.79,610.993 2143.51,611.351 2144.23,611.725 2144.95,612.025 \n",
       "  2145.67,612.399 2146.39,612.603 2147.11,612.975 2147.84,613.282 2148.56,613.627 2149.28,613.892 2150,614.228 2150.72,614.626 2151.44,614.833 2152.16,615.167 \n",
       "  2152.88,615.433 2153.6,615.726 2154.32,616.026 2155.04,616.41 2155.76,616.631 2156.48,617.04 2157.2,617.291 2157.93,617.64 2158.65,617.893 2159.37,618.303 \n",
       "  2160.09,618.592 2160.81,618.853 2161.53,619.195 2162.25,619.539 2162.97,619.722 2163.69,620.032 2164.41,620.334 2165.13,620.621 2165.85,620.944 2166.57,621.331 \n",
       "  2167.29,621.529 2168.02,621.898 2168.74,622.275 2169.46,622.452 2170.18,622.795 2170.9,623.113 2171.62,623.399 2172.34,623.642 2173.06,624.048 2173.78,624.34 \n",
       "  2174.5,624.641 2175.22,624.878 2175.94,625.176 2176.66,625.528 2177.38,625.746 2178.11,626.009 2178.83,626.432 2179.55,626.643 2180.27,626.957 2180.99,627.239 \n",
       "  2181.71,627.528 2182.43,627.842 2183.15,628.093 2183.87,628.459 2184.59,628.741 2185.31,628.906 2186.03,629.311 2186.75,629.538 2187.47,629.851 2188.2,630.161 \n",
       "  2188.92,630.379 2189.64,630.681 2190.36,630.874 2191.08,631.274 2191.8,631.538 2192.52,631.837 2193.24,632.095 2193.96,632.383 2194.68,632.678 2195.4,632.99 \n",
       "  2196.12,633.226 2196.84,633.522 2197.56,633.788 2198.29,634.01 2199.01,634.284 2199.73,634.613 2200.45,634.876 2201.17,635.159 2201.89,635.427 2202.61,635.645 \n",
       "  2203.33,635.927 2204.05,636.204 2204.77,636.509 2205.49,636.719 2206.21,637.067 2206.93,637.263 2207.65,637.574 2208.38,637.822 2209.1,638.088 2209.82,638.359 \n",
       "  2210.54,638.588 2211.26,638.92 2211.98,639.115 2212.7,639.475 2213.42,639.703 2214.14,639.949 2214.86,640.219 2215.58,640.505 2216.3,640.748 2217.02,641.003 \n",
       "  2217.74,641.243 2218.47,641.519 2219.19,641.798 2219.91,641.91 2220.63,642.268 2221.35,642.515 2222.07,642.769 2222.79,642.962 2223.51,643.255 2224.23,643.513 \n",
       "  2224.95,643.802 2225.67,644.023 2226.39,644.28 2227.11,644.458 2227.83,644.75 2228.56,644.932 2229.28,645.196 2230,645.434 2230.72,645.729 2231.44,645.987 \n",
       "  2232.16,646.154 2232.88,646.422 2233.6,646.687 2234.32,646.909 2235.04,647.178 2235.76,647.376 2236.48,647.65 2237.2,647.845 2237.92,648.106 2238.65,648.341 \n",
       "  2239.37,648.583 2240.09,648.798 2240.81,649.053 2241.53,649.314 2242.25,649.45 2242.97,649.675 2243.69,649.949 2244.41,650.198 2245.13,650.439 2245.85,650.636 \n",
       "  2246.57,650.872 2247.29,651.048 2248.01,651.266 2248.74,651.515 2249.46,651.726 2250.18,651.966 2250.9,652.224 2251.62,652.342 2252.34,652.616 2253.06,652.802 \n",
       "  2253.78,653.05 2254.5,653.195 2255.22,653.481 2255.94,653.649 2256.66,653.878 2257.38,654.146 2258.1,654.276 2258.83,654.571 2259.55,654.776 2260.27,654.994 \n",
       "  2260.99,655.1 2261.71,655.332 2262.43,655.534 2263.15,655.835 2263.87,656.031 2264.59,656.217 2265.31,656.345 2266.03,656.595 2266.75,656.838 2267.47,657.053 \n",
       "  2268.19,657.125 2268.92,657.449 2269.64,657.621 2270.36,657.729 2271.08,657.995 2271.8,658.148 2272.52,658.305 2273.24,658.595 2273.96,658.747 2274.68,659.012 \n",
       "  2275.4,659.08 2276.12,659.332 2276.84,659.443 2277.56,659.684 2278.28,659.927 2279.01,660.078 2279.73,660.205 2280.45,660.451 2281.17,660.59 2281.89,660.846 \n",
       "  2282.61,661.011 2283.33,661.207 2284.05,661.362 2284.77,661.588 2285.49,661.721 2286.21,661.918 2286.93,662.115 2287.65,662.282 2288.37,662.472 2289.1,662.656 \n",
       "  2289.82,662.822 2290.54,662.925 2291.26,663.096 2291.98,663.322 2292.7,663.488 2293.42,663.665 2294.14,663.768 2294.86,663.923 2295.58,664.201 2296.3,664.374 \n",
       "  2297.02,664.505 2297.74,664.707 2298.46,664.87 2299.19,664.944 2299.91,665.175 2300.63,665.356 2301.35,665.556 2302.07,665.681 2302.79,665.82 2303.51,665.987 \n",
       "  2304.23,666.116 2304.95,666.253 2305.67,666.425 2306.39,666.558 2307.11,666.751 2307.83,666.948 2308.55,667.046 2309.28,667.22 2310,667.394 2310.72,667.472 \n",
       "  2311.44,667.727 2312.16,667.843 2312.88,667.964 2313.6,668.073 2314.32,668.234 2315.04,668.409 2315.76,668.515 2316.48,668.673 2317.2,668.838 2317.92,668.973 \n",
       "  2318.64,669.098 2319.37,669.291 2320.09,669.414 2320.81,669.595 2321.53,669.696 2322.25,669.804 2322.97,669.937 2323.69,670.13 2324.41,670.242 2325.13,670.393 \n",
       "  2325.85,670.515 2326.57,670.515 \n",
       "  \"/>\n",
       "<path clip-path=\"url(#clip360)\" d=\"\n",
       "M1989.74 327.952 L2280.76 327.952 L2280.76 206.992 L1989.74 206.992  Z\n",
       "  \" fill=\"#ffffff\" fill-rule=\"evenodd\" fill-opacity=\"1\"/>\n",
       "<polyline clip-path=\"url(#clip360)\" style=\"stroke:#000000; stroke-width:4; stroke-opacity:1; fill:none\" points=\"\n",
       "  1989.74,327.952 2280.76,327.952 2280.76,206.992 1989.74,206.992 1989.74,327.952 \n",
       "  \"/>\n",
       "<polyline clip-path=\"url(#clip360)\" style=\"stroke:#009af9; stroke-width:4; stroke-opacity:1; fill:none\" points=\"\n",
       "  2013.74,267.472 2157.74,267.472 \n",
       "  \"/>\n",
       "<path clip-path=\"url(#clip360)\" d=\"M 0 0 M2195.58 287.16 Q2193.77 291.789 2192.06 293.201 Q2190.35 294.613 2187.48 294.613 L2184.08 294.613 L2184.08 291.048 L2186.58 291.048 Q2188.33 291.048 2189.31 290.215 Q2190.28 289.382 2191.46 286.28 L2192.22 284.335 L2181.74 258.826 L2186.25 258.826 L2194.35 279.104 L2202.46 258.826 L2206.97 258.826 L2195.58 287.16 Z\" fill=\"#000000\" fill-rule=\"evenodd\" fill-opacity=\"1\" /><path clip-path=\"url(#clip360)\" d=\"M 0 0 M2212.85 280.817 L2220.49 280.817 L2220.49 254.451 L2212.18 256.118 L2212.18 251.859 L2220.44 250.192 L2225.12 250.192 L2225.12 280.817 L2232.76 280.817 L2232.76 284.752 L2212.85 284.752 L2212.85 280.817 Z\" fill=\"#000000\" fill-rule=\"evenodd\" fill-opacity=\"1\" /><path clip-path=\"url(#clip360)\" d=\"\n",
       "M247.061 1486.45 L1170.5 1486.45 L1170.5 923.472 L247.061 923.472  Z\n",
       "  \" fill=\"#ffffff\" fill-rule=\"evenodd\" fill-opacity=\"1\"/>\n",
       "<defs>\n",
       "  <clipPath id=\"clip364\">\n",
       "    <rect x=\"247\" y=\"923\" width=\"924\" height=\"564\"/>\n",
       "  </clipPath>\n",
       "</defs>\n",
       "<polyline clip-path=\"url(#clip364)\" style=\"stroke:#000000; stroke-width:2; stroke-opacity:0.1; fill:none\" points=\"\n",
       "  247.573,1486.45 247.573,923.472 \n",
       "  \"/>\n",
       "<polyline clip-path=\"url(#clip364)\" style=\"stroke:#000000; stroke-width:2; stroke-opacity:0.1; fill:none\" points=\"\n",
       "  503.799,1486.45 503.799,923.472 \n",
       "  \"/>\n",
       "<polyline clip-path=\"url(#clip364)\" style=\"stroke:#000000; stroke-width:2; stroke-opacity:0.1; fill:none\" points=\"\n",
       "  760.025,1486.45 760.025,923.472 \n",
       "  \"/>\n",
       "<polyline clip-path=\"url(#clip364)\" style=\"stroke:#000000; stroke-width:2; stroke-opacity:0.1; fill:none\" points=\"\n",
       "  1016.25,1486.45 1016.25,923.472 \n",
       "  \"/>\n",
       "<polyline clip-path=\"url(#clip364)\" style=\"stroke:#000000; stroke-width:2; stroke-opacity:0.1; fill:none\" points=\"\n",
       "  247.061,1396.46 1170.5,1396.46 \n",
       "  \"/>\n",
       "<polyline clip-path=\"url(#clip364)\" style=\"stroke:#000000; stroke-width:2; stroke-opacity:0.1; fill:none\" points=\"\n",
       "  247.061,1268.62 1170.5,1268.62 \n",
       "  \"/>\n",
       "<polyline clip-path=\"url(#clip364)\" style=\"stroke:#000000; stroke-width:2; stroke-opacity:0.1; fill:none\" points=\"\n",
       "  247.061,1140.79 1170.5,1140.79 \n",
       "  \"/>\n",
       "<polyline clip-path=\"url(#clip364)\" style=\"stroke:#000000; stroke-width:2; stroke-opacity:0.1; fill:none\" points=\"\n",
       "  247.061,1012.95 1170.5,1012.95 \n",
       "  \"/>\n",
       "<polyline clip-path=\"url(#clip360)\" style=\"stroke:#000000; stroke-width:4; stroke-opacity:1; fill:none\" points=\"\n",
       "  247.061,1486.45 1170.5,1486.45 \n",
       "  \"/>\n",
       "<polyline clip-path=\"url(#clip360)\" style=\"stroke:#000000; stroke-width:4; stroke-opacity:1; fill:none\" points=\"\n",
       "  247.061,1486.45 247.061,923.472 \n",
       "  \"/>\n",
       "<polyline clip-path=\"url(#clip360)\" style=\"stroke:#000000; stroke-width:4; stroke-opacity:1; fill:none\" points=\"\n",
       "  247.573,1486.45 247.573,1479.69 \n",
       "  \"/>\n",
       "<polyline clip-path=\"url(#clip360)\" style=\"stroke:#000000; stroke-width:4; stroke-opacity:1; fill:none\" points=\"\n",
       "  503.799,1486.45 503.799,1479.69 \n",
       "  \"/>\n",
       "<polyline clip-path=\"url(#clip360)\" style=\"stroke:#000000; stroke-width:4; stroke-opacity:1; fill:none\" points=\"\n",
       "  760.025,1486.45 760.025,1479.69 \n",
       "  \"/>\n",
       "<polyline clip-path=\"url(#clip360)\" style=\"stroke:#000000; stroke-width:4; stroke-opacity:1; fill:none\" points=\"\n",
       "  1016.25,1486.45 1016.25,1479.69 \n",
       "  \"/>\n",
       "<polyline clip-path=\"url(#clip360)\" style=\"stroke:#000000; stroke-width:4; stroke-opacity:1; fill:none\" points=\"\n",
       "  247.061,1396.46 258.142,1396.46 \n",
       "  \"/>\n",
       "<polyline clip-path=\"url(#clip360)\" style=\"stroke:#000000; stroke-width:4; stroke-opacity:1; fill:none\" points=\"\n",
       "  247.061,1268.62 258.142,1268.62 \n",
       "  \"/>\n",
       "<polyline clip-path=\"url(#clip360)\" style=\"stroke:#000000; stroke-width:4; stroke-opacity:1; fill:none\" points=\"\n",
       "  247.061,1140.79 258.142,1140.79 \n",
       "  \"/>\n",
       "<polyline clip-path=\"url(#clip360)\" style=\"stroke:#000000; stroke-width:4; stroke-opacity:1; fill:none\" points=\"\n",
       "  247.061,1012.95 258.142,1012.95 \n",
       "  \"/>\n",
       "<path clip-path=\"url(#clip360)\" d=\"M 0 0 M247.573 1508.44 Q243.962 1508.44 242.133 1512 Q240.328 1515.55 240.328 1522.67 Q240.328 1529.78 242.133 1533.35 Q243.962 1536.89 247.573 1536.89 Q251.207 1536.89 253.013 1533.35 Q254.842 1529.78 254.842 1522.67 Q254.842 1515.55 253.013 1512 Q251.207 1508.44 247.573 1508.44 M247.573 1504.73 Q253.383 1504.73 256.439 1509.34 Q259.518 1513.92 259.518 1522.67 Q259.518 1531.4 256.439 1536.01 Q253.383 1540.59 247.573 1540.59 Q241.763 1540.59 238.684 1536.01 Q235.629 1531.4 235.629 1522.67 Q235.629 1513.92 238.684 1509.34 Q241.763 1504.73 247.573 1504.73 Z\" fill=\"#000000\" fill-rule=\"evenodd\" fill-opacity=\"1\" /><path clip-path=\"url(#clip360)\" d=\"M 0 0 M480.674 1535.98 L488.313 1535.98 L488.313 1509.62 L480.003 1511.29 L480.003 1507.03 L488.267 1505.36 L492.943 1505.36 L492.943 1535.98 L500.581 1535.98 L500.581 1539.92 L480.674 1539.92 L480.674 1535.98 Z\" fill=\"#000000\" fill-rule=\"evenodd\" fill-opacity=\"1\" /><path clip-path=\"url(#clip360)\" d=\"M 0 0 M515.651 1508.44 Q512.04 1508.44 510.211 1512 Q508.406 1515.55 508.406 1522.67 Q508.406 1529.78 510.211 1533.35 Q512.04 1536.89 515.651 1536.89 Q519.285 1536.89 521.091 1533.35 Q522.919 1529.78 522.919 1522.67 Q522.919 1515.55 521.091 1512 Q519.285 1508.44 515.651 1508.44 M515.651 1504.73 Q521.461 1504.73 524.517 1509.34 Q527.595 1513.92 527.595 1522.67 Q527.595 1531.4 524.517 1536.01 Q521.461 1540.59 515.651 1540.59 Q509.841 1540.59 506.762 1536.01 Q503.706 1531.4 503.706 1522.67 Q503.706 1513.92 506.762 1509.34 Q509.841 1504.73 515.651 1504.73 Z\" fill=\"#000000\" fill-rule=\"evenodd\" fill-opacity=\"1\" /><path clip-path=\"url(#clip360)\" d=\"M 0 0 M741.171 1535.98 L757.49 1535.98 L757.49 1539.92 L735.546 1539.92 L735.546 1535.98 Q738.208 1533.23 742.791 1528.6 Q747.398 1523.95 748.578 1522.61 Q750.824 1520.08 751.703 1518.35 Q752.606 1516.59 752.606 1514.9 Q752.606 1512.14 750.662 1510.41 Q748.74 1508.67 745.638 1508.67 Q743.439 1508.67 740.986 1509.43 Q738.555 1510.2 735.777 1511.75 L735.777 1507.03 Q738.601 1505.89 741.055 1505.31 Q743.509 1504.73 745.546 1504.73 Q750.916 1504.73 754.111 1507.42 Q757.305 1510.11 757.305 1514.6 Q757.305 1516.73 756.495 1518.65 Q755.708 1520.54 753.601 1523.14 Q753.023 1523.81 749.921 1527.03 Q746.819 1530.22 741.171 1535.98 Z\" fill=\"#000000\" fill-rule=\"evenodd\" fill-opacity=\"1\" /><path clip-path=\"url(#clip360)\" d=\"M 0 0 M772.56 1508.44 Q768.949 1508.44 767.12 1512 Q765.314 1515.55 765.314 1522.67 Q765.314 1529.78 767.12 1533.35 Q768.949 1536.89 772.56 1536.89 Q776.194 1536.89 777.999 1533.35 Q779.828 1529.78 779.828 1522.67 Q779.828 1515.55 777.999 1512 Q776.194 1508.44 772.56 1508.44 M772.56 1504.73 Q778.37 1504.73 781.425 1509.34 Q784.504 1513.92 784.504 1522.67 Q784.504 1531.4 781.425 1536.01 Q778.37 1540.59 772.56 1540.59 Q766.749 1540.59 763.671 1536.01 Q760.615 1531.4 760.615 1522.67 Q760.615 1513.92 763.671 1509.34 Q766.749 1504.73 772.56 1504.73 Z\" fill=\"#000000\" fill-rule=\"evenodd\" fill-opacity=\"1\" /><path clip-path=\"url(#clip360)\" d=\"M 0 0 M1006.99 1521.29 Q1010.35 1522 1012.22 1524.27 Q1014.12 1526.54 1014.12 1529.87 Q1014.12 1534.99 1010.6 1537.79 Q1007.08 1540.59 1000.6 1540.59 Q998.427 1540.59 996.112 1540.15 Q993.82 1539.73 991.367 1538.88 L991.367 1534.36 Q993.311 1535.5 995.626 1536.08 Q997.941 1536.66 1000.46 1536.66 Q1004.86 1536.66 1007.15 1534.92 Q1009.47 1533.18 1009.47 1529.87 Q1009.47 1526.82 1007.32 1525.11 Q1005.19 1523.37 1001.37 1523.37 L997.339 1523.37 L997.339 1519.53 L1001.55 1519.53 Q1005 1519.53 1006.83 1518.16 Q1008.66 1516.77 1008.66 1514.18 Q1008.66 1511.52 1006.76 1510.11 Q1004.89 1508.67 1001.37 1508.67 Q999.445 1508.67 997.246 1509.09 Q995.047 1509.5 992.408 1510.38 L992.408 1506.22 Q995.07 1505.48 997.385 1505.11 Q999.723 1504.73 1001.78 1504.73 Q1007.11 1504.73 1010.21 1507.17 Q1013.31 1509.57 1013.31 1513.69 Q1013.31 1516.56 1011.67 1518.55 Q1010.02 1520.52 1006.99 1521.29 Z\" fill=\"#000000\" fill-rule=\"evenodd\" fill-opacity=\"1\" /><path clip-path=\"url(#clip360)\" d=\"M 0 0 M1029.19 1508.44 Q1025.58 1508.44 1023.75 1512 Q1021.95 1515.55 1021.95 1522.67 Q1021.95 1529.78 1023.75 1533.35 Q1025.58 1536.89 1029.19 1536.89 Q1032.82 1536.89 1034.63 1533.35 Q1036.46 1529.78 1036.46 1522.67 Q1036.46 1515.55 1034.63 1512 Q1032.82 1508.44 1029.19 1508.44 M1029.19 1504.73 Q1035 1504.73 1038.06 1509.34 Q1041.13 1513.92 1041.13 1522.67 Q1041.13 1531.4 1038.06 1536.01 Q1035 1540.59 1029.19 1540.59 Q1023.38 1540.59 1020.3 1536.01 Q1017.25 1531.4 1017.25 1522.67 Q1017.25 1513.92 1020.3 1509.34 Q1023.38 1504.73 1029.19 1504.73 Z\" fill=\"#000000\" fill-rule=\"evenodd\" fill-opacity=\"1\" /><path clip-path=\"url(#clip360)\" d=\"M 0 0 M134.198 1416.25 L141.837 1416.25 L141.837 1389.88 L133.527 1391.55 L133.527 1387.29 L141.791 1385.62 L146.467 1385.62 L146.467 1416.25 L154.106 1416.25 L154.106 1420.18 L134.198 1420.18 L134.198 1416.25 Z\" fill=\"#000000\" fill-rule=\"evenodd\" fill-opacity=\"1\" /><path clip-path=\"url(#clip360)\" d=\"M 0 0 M169.175 1388.7 Q165.564 1388.7 163.735 1392.27 Q161.93 1395.81 161.93 1402.94 Q161.93 1410.05 163.735 1413.61 Q165.564 1417.15 169.175 1417.15 Q172.809 1417.15 174.615 1413.61 Q176.443 1410.05 176.443 1402.94 Q176.443 1395.81 174.615 1392.27 Q172.809 1388.7 169.175 1388.7 M169.175 1385 Q174.985 1385 178.041 1389.61 Q181.119 1394.19 181.119 1402.94 Q181.119 1411.67 178.041 1416.27 Q174.985 1420.86 169.175 1420.86 Q163.365 1420.86 160.286 1416.27 Q157.231 1411.67 157.231 1402.94 Q157.231 1394.19 160.286 1389.61 Q163.365 1385 169.175 1385 Z\" fill=\"#000000\" fill-rule=\"evenodd\" fill-opacity=\"1\" /><path clip-path=\"url(#clip360)\" d=\"M 0 0 M181.119 1380.68 L191.257 1380.68 L191.257 1383.77 L181.119 1383.77 L181.119 1380.68 Z\" fill=\"#000000\" fill-rule=\"evenodd\" fill-opacity=\"1\" /><path clip-path=\"url(#clip360)\" d=\"M 0 0 M209.801 1389.58 L223.061 1389.58 L223.061 1392.77 L205.231 1392.77 L205.231 1389.58 Q207.394 1387.34 211.118 1383.58 Q214.861 1379.8 215.82 1378.71 Q217.644 1376.66 218.359 1375.25 Q219.092 1373.82 219.092 1372.44 Q219.092 1370.2 217.512 1368.79 Q215.951 1367.38 213.431 1367.38 Q211.644 1367.38 209.651 1368 Q207.676 1368.62 205.419 1369.89 L205.419 1366.05 Q207.714 1365.13 209.707 1364.66 Q211.701 1364.19 213.356 1364.19 Q217.719 1364.19 220.315 1366.37 Q222.91 1368.55 222.91 1372.2 Q222.91 1373.93 222.252 1375.49 Q221.613 1377.03 219.901 1379.14 Q219.431 1379.68 216.911 1382.3 Q214.39 1384.89 209.801 1389.58 Z\" fill=\"#000000\" fill-rule=\"evenodd\" fill-opacity=\"1\" /><path clip-path=\"url(#clip360)\" d=\"M 0 0 M135.308 1288.41 L142.947 1288.41 L142.947 1262.05 L134.637 1263.71 L134.637 1259.46 L142.901 1257.79 L147.576 1257.79 L147.576 1288.41 L155.215 1288.41 L155.215 1292.35 L135.308 1292.35 L135.308 1288.41 Z\" fill=\"#000000\" fill-rule=\"evenodd\" fill-opacity=\"1\" /><path clip-path=\"url(#clip360)\" d=\"M 0 0 M170.285 1260.87 Q166.674 1260.87 164.845 1264.43 Q163.039 1267.97 163.039 1275.1 Q163.039 1282.21 164.845 1285.77 Q166.674 1289.32 170.285 1289.32 Q173.919 1289.32 175.724 1285.77 Q177.553 1282.21 177.553 1275.1 Q177.553 1267.97 175.724 1264.43 Q173.919 1260.87 170.285 1260.87 M170.285 1257.16 Q176.095 1257.16 179.15 1261.77 Q182.229 1266.35 182.229 1275.1 Q182.229 1283.83 179.15 1288.44 Q176.095 1293.02 170.285 1293.02 Q164.475 1293.02 161.396 1288.44 Q158.34 1283.83 158.34 1275.1 Q158.34 1266.35 161.396 1261.77 Q164.475 1257.16 170.285 1257.16 Z\" fill=\"#000000\" fill-rule=\"evenodd\" fill-opacity=\"1\" /><path clip-path=\"url(#clip360)\" d=\"M 0 0 M182.229 1252.84 L192.366 1252.84 L192.366 1255.93 L182.229 1255.93 L182.229 1252.84 Z\" fill=\"#000000\" fill-rule=\"evenodd\" fill-opacity=\"1\" /><path clip-path=\"url(#clip360)\" d=\"M 0 0 M206.886 1261.74 L213.093 1261.74 L213.093 1240.32 L206.341 1241.67 L206.341 1238.21 L213.055 1236.86 L216.854 1236.86 L216.854 1261.74 L223.061 1261.74 L223.061 1264.94 L206.886 1264.94 L206.886 1261.74 Z\" fill=\"#000000\" fill-rule=\"evenodd\" fill-opacity=\"1\" /><path clip-path=\"url(#clip360)\" d=\"M 0 0 M156.73 1160.58 L164.369 1160.58 L164.369 1134.21 L156.059 1135.88 L156.059 1131.62 L164.323 1129.95 L168.999 1129.95 L168.999 1160.58 L176.637 1160.58 L176.637 1164.51 L156.73 1164.51 L156.73 1160.58 Z\" fill=\"#000000\" fill-rule=\"evenodd\" fill-opacity=\"1\" /><path clip-path=\"url(#clip360)\" d=\"M 0 0 M191.707 1133.03 Q188.096 1133.03 186.267 1136.6 Q184.461 1140.14 184.461 1147.27 Q184.461 1154.37 186.267 1157.94 Q188.096 1161.48 191.707 1161.48 Q195.341 1161.48 197.146 1157.94 Q198.975 1154.37 198.975 1147.27 Q198.975 1140.14 197.146 1136.6 Q195.341 1133.03 191.707 1133.03 M191.707 1129.33 Q197.517 1129.33 200.572 1133.93 Q203.651 1138.52 203.651 1147.27 Q203.651 1155.99 200.572 1160.6 Q197.517 1165.18 191.707 1165.18 Q185.897 1165.18 182.818 1160.6 Q179.762 1155.99 179.762 1147.27 Q179.762 1138.52 182.818 1133.93 Q185.897 1129.33 191.707 1129.33 Z\" fill=\"#000000\" fill-rule=\"evenodd\" fill-opacity=\"1\" /><path clip-path=\"url(#clip360)\" d=\"M 0 0 M213.356 1111.52 Q210.422 1111.52 208.936 1114.42 Q207.469 1117.3 207.469 1123.09 Q207.469 1128.86 208.936 1131.76 Q210.422 1134.64 213.356 1134.64 Q216.309 1134.64 217.776 1131.76 Q219.262 1128.86 219.262 1123.09 Q219.262 1117.3 217.776 1114.42 Q216.309 1111.52 213.356 1111.52 M213.356 1108.51 Q218.077 1108.51 220.559 1112.26 Q223.061 1115.98 223.061 1123.09 Q223.061 1130.18 220.559 1133.92 Q218.077 1137.65 213.356 1137.65 Q208.635 1137.65 206.134 1133.92 Q203.651 1130.18 203.651 1123.09 Q203.651 1115.98 206.134 1112.26 Q208.635 1108.51 213.356 1108.51 Z\" fill=\"#000000\" fill-rule=\"evenodd\" fill-opacity=\"1\" /><path clip-path=\"url(#clip360)\" d=\"M 0 0 M159.42 1032.74 L167.058 1032.74 L167.058 1006.38 L158.748 1008.04 L158.748 1003.78 L167.012 1002.12 L171.688 1002.12 L171.688 1032.74 L179.327 1032.74 L179.327 1036.68 L159.42 1036.68 L159.42 1032.74 Z\" fill=\"#000000\" fill-rule=\"evenodd\" fill-opacity=\"1\" /><path clip-path=\"url(#clip360)\" d=\"M 0 0 M194.396 1005.2 Q190.785 1005.2 188.956 1008.76 Q187.151 1012.3 187.151 1019.43 Q187.151 1026.54 188.956 1030.1 Q190.785 1033.64 194.396 1033.64 Q198.03 1033.64 199.836 1030.1 Q201.665 1026.54 201.665 1019.43 Q201.665 1012.3 199.836 1008.76 Q198.03 1005.2 194.396 1005.2 M194.396 1001.49 Q200.206 1001.49 203.262 1006.1 Q206.341 1010.68 206.341 1019.43 Q206.341 1028.16 203.262 1032.77 Q200.206 1037.35 194.396 1037.35 Q188.586 1037.35 185.507 1032.77 Q182.452 1028.16 182.452 1019.43 Q182.452 1010.68 185.507 1006.1 Q188.586 1001.49 194.396 1001.49 Z\" fill=\"#000000\" fill-rule=\"evenodd\" fill-opacity=\"1\" /><path clip-path=\"url(#clip360)\" d=\"M 0 0 M206.886 1006.07 L213.093 1006.07 L213.093 984.647 L206.341 986.001 L206.341 982.541 L213.055 981.187 L216.854 981.187 L216.854 1006.07 L223.061 1006.07 L223.061 1009.27 L206.886 1009.27 L206.886 1006.07 Z\" fill=\"#000000\" fill-rule=\"evenodd\" fill-opacity=\"1\" /><path clip-path=\"url(#clip360)\" d=\"M 0 0 M537.832 812.096 L550.025 812.096 L565.459 853.253 L580.974 812.096 L593.167 812.096 L593.167 872.576 L585.187 872.576 L585.187 819.469 L569.591 860.95 L561.367 860.95 L545.771 819.469 L545.771 872.576 L537.832 872.576 L537.832 812.096 Z\" fill=\"#000000\" fill-rule=\"evenodd\" fill-opacity=\"1\" /><path clip-path=\"url(#clip360)\" d=\"M 0 0 M639.793 848.028 L639.793 851.673 L605.522 851.673 Q606.008 859.37 610.14 863.421 Q614.313 867.431 621.726 867.431 Q626.02 867.431 630.03 866.378 Q634.081 865.325 638.051 863.218 L638.051 870.267 Q634.041 871.968 629.828 872.86 Q625.615 873.751 621.28 873.751 Q610.424 873.751 604.064 867.431 Q597.745 861.112 597.745 850.337 Q597.745 839.197 603.74 832.675 Q609.776 826.112 619.984 826.112 Q629.139 826.112 634.446 832.026 Q639.793 837.9 639.793 848.028 M632.339 845.84 Q632.258 839.723 628.896 836.077 Q625.574 832.432 620.065 832.432 Q613.827 832.432 610.059 835.956 Q606.332 839.48 605.765 845.881 L632.339 845.84 Z\" fill=\"#000000\" fill-rule=\"evenodd\" fill-opacity=\"1\" /><path clip-path=\"url(#clip360)\" d=\"M 0 0 M654.984 814.324 L654.984 827.206 L670.337 827.206 L670.337 832.999 L654.984 832.999 L654.984 857.628 Q654.984 863.178 656.483 864.758 Q658.022 866.338 662.68 866.338 L670.337 866.338 L670.337 872.576 L662.68 872.576 Q654.052 872.576 650.771 869.376 Q647.49 866.135 647.49 857.628 L647.49 832.999 L642.021 832.999 L642.021 827.206 L647.49 827.206 L647.49 814.324 L654.984 814.324 Z\" fill=\"#000000\" fill-rule=\"evenodd\" fill-opacity=\"1\" /><path clip-path=\"url(#clip360)\" d=\"M 0 0 M715.869 845.192 L715.869 872.576 L708.415 872.576 L708.415 845.435 Q708.415 838.994 705.904 835.794 Q703.392 832.594 698.369 832.594 Q692.333 832.594 688.849 836.442 Q685.366 840.29 685.366 846.934 L685.366 872.576 L677.871 872.576 L677.871 809.544 L685.366 809.544 L685.366 834.254 Q688.039 830.163 691.644 828.138 Q695.29 826.112 700.03 826.112 Q707.848 826.112 711.858 830.973 Q715.869 835.794 715.869 845.192 Z\" fill=\"#000000\" fill-rule=\"evenodd\" fill-opacity=\"1\" /><path clip-path=\"url(#clip360)\" d=\"M 0 0 M741.268 832.432 Q735.273 832.432 731.789 837.131 Q728.305 841.789 728.305 849.931 Q728.305 858.074 731.748 862.773 Q735.232 867.431 741.268 867.431 Q747.223 867.431 750.707 862.732 Q754.19 858.033 754.19 849.931 Q754.19 841.87 750.707 837.171 Q747.223 832.432 741.268 832.432 M741.268 826.112 Q750.99 826.112 756.54 832.432 Q762.09 838.751 762.09 849.931 Q762.09 861.071 756.54 867.431 Q750.99 873.751 741.268 873.751 Q731.505 873.751 725.956 867.431 Q720.446 861.071 720.446 849.931 Q720.446 838.751 725.956 832.432 Q731.505 826.112 741.268 826.112 Z\" fill=\"#000000\" fill-rule=\"evenodd\" fill-opacity=\"1\" /><path clip-path=\"url(#clip360)\" d=\"M 0 0 M799.763 834.092 L799.763 809.544 L807.217 809.544 L807.217 872.576 L799.763 872.576 L799.763 865.77 Q797.414 869.821 793.808 871.806 Q790.243 873.751 785.22 873.751 Q776.997 873.751 771.812 867.188 Q766.667 860.626 766.667 849.931 Q766.667 839.237 771.812 832.675 Q776.997 826.112 785.22 826.112 Q790.243 826.112 793.808 828.097 Q797.414 830.042 799.763 834.092 M774.364 849.931 Q774.364 858.155 777.726 862.854 Q781.129 867.512 787.043 867.512 Q792.958 867.512 796.36 862.854 Q799.763 858.155 799.763 849.931 Q799.763 841.708 796.36 837.05 Q792.958 832.351 787.043 832.351 Q781.129 832.351 777.726 837.05 Q774.364 841.708 774.364 849.931 Z\" fill=\"#000000\" fill-rule=\"evenodd\" fill-opacity=\"1\" /><path clip-path=\"url(#clip360)\" d=\"M 0 0 M867.251 839.966 Q873.125 841.222 876.406 845.192 Q879.728 849.162 879.728 854.995 Q879.728 863.948 873.571 868.849 Q867.413 873.751 856.071 873.751 Q852.263 873.751 848.212 872.981 Q844.202 872.252 839.908 870.753 L839.908 862.854 Q843.31 864.839 847.361 865.851 Q851.412 866.864 855.828 866.864 Q863.524 866.864 867.535 863.826 Q871.586 860.788 871.586 854.995 Q871.586 849.648 867.818 846.65 Q864.091 843.612 857.407 843.612 L850.359 843.612 L850.359 836.888 L857.732 836.888 Q863.767 836.888 866.968 834.498 Q870.168 832.067 870.168 827.53 Q870.168 822.871 866.846 820.4 Q863.565 817.889 857.407 817.889 Q854.045 817.889 850.197 818.618 Q846.348 819.347 841.73 820.886 L841.73 813.595 Q846.389 812.299 850.44 811.65 Q854.531 811.002 858.137 811.002 Q867.454 811.002 872.882 815.256 Q878.31 819.469 878.31 826.679 Q878.31 831.702 875.434 835.186 Q872.558 838.629 867.251 839.966 Z\" fill=\"#000000\" fill-rule=\"evenodd\" fill-opacity=\"1\" /><polyline clip-path=\"url(#clip364)\" style=\"stroke:#009af9; stroke-width:4; stroke-opacity:1; fill:none\" points=\"\n",
       "  273.196,939.405 298.818,1042.33 324.441,1112.97 350.064,1008.22 375.686,988.862 401.309,1002.31 426.931,1043.34 452.554,1124.11 478.176,1149.15 503.799,1072.99 \n",
       "  529.422,1149.15 555.044,1040.18 580.667,1165.26 606.289,1165.44 631.912,1165.48 657.535,1165.54 683.157,1165.54 708.78,1165.54 734.402,1165.87 760.025,1195.74 \n",
       "  785.648,1196.89 811.27,1200.18 836.893,1210.97 862.515,1216.09 888.138,1220.78 913.761,1244.38 939.383,1292.13 965.006,1363.8 990.628,1423.33 1016.25,1450.49 \n",
       "  1041.87,1470.42 1067.5,1470.48 1093.12,1470.49 1118.74,1470.51 1144.36,1470.51 \n",
       "  \"/>\n",
       "<path clip-path=\"url(#clip360)\" d=\"\n",
       "M807.481 1127.95 L1098.5 1127.95 L1098.5 1006.99 L807.481 1006.99  Z\n",
       "  \" fill=\"#ffffff\" fill-rule=\"evenodd\" fill-opacity=\"1\"/>\n",
       "<polyline clip-path=\"url(#clip360)\" style=\"stroke:#000000; stroke-width:4; stroke-opacity:1; fill:none\" points=\"\n",
       "  807.481,1127.95 1098.5,1127.95 1098.5,1006.99 807.481,1006.99 807.481,1127.95 \n",
       "  \"/>\n",
       "<polyline clip-path=\"url(#clip360)\" style=\"stroke:#009af9; stroke-width:4; stroke-opacity:1; fill:none\" points=\"\n",
       "  831.481,1067.47 975.481,1067.47 \n",
       "  \"/>\n",
       "<path clip-path=\"url(#clip360)\" d=\"M 0 0 M1013.32 1087.16 Q1011.52 1091.79 1009.8 1093.2 Q1008.09 1094.61 1005.22 1094.61 L1001.82 1094.61 L1001.82 1091.05 L1004.32 1091.05 Q1006.08 1091.05 1007.05 1090.22 Q1008.02 1089.38 1009.2 1086.28 L1009.97 1084.34 L999.481 1058.83 L1003.99 1058.83 L1012.1 1079.1 L1020.2 1058.83 L1024.71 1058.83 L1013.32 1087.16 Z\" fill=\"#000000\" fill-rule=\"evenodd\" fill-opacity=\"1\" /><path clip-path=\"url(#clip360)\" d=\"M 0 0 M1030.59 1080.82 L1038.23 1080.82 L1038.23 1054.45 L1029.92 1056.12 L1029.92 1051.86 L1038.18 1050.19 L1042.86 1050.19 L1042.86 1080.82 L1050.5 1080.82 L1050.5 1084.75 L1030.59 1084.75 L1030.59 1080.82 Z\" fill=\"#000000\" fill-rule=\"evenodd\" fill-opacity=\"1\" /><path clip-path=\"url(#clip360)\" d=\"\n",
       "M1429.32 1486.45 L2352.76 1486.45 L2352.76 923.472 L1429.32 923.472  Z\n",
       "  \" fill=\"#ffffff\" fill-rule=\"evenodd\" fill-opacity=\"1\"/>\n",
       "<defs>\n",
       "  <clipPath id=\"clip365\">\n",
       "    <rect x=\"1429\" y=\"923\" width=\"924\" height=\"564\"/>\n",
       "  </clipPath>\n",
       "</defs>\n",
       "<polyline clip-path=\"url(#clip365)\" style=\"stroke:#000000; stroke-width:2; stroke-opacity:0.1; fill:none\" points=\"\n",
       "  1454.13,1486.45 1454.13,923.472 \n",
       "  \"/>\n",
       "<polyline clip-path=\"url(#clip365)\" style=\"stroke:#000000; stroke-width:2; stroke-opacity:0.1; fill:none\" points=\"\n",
       "  1586.13,1486.45 1586.13,923.472 \n",
       "  \"/>\n",
       "<polyline clip-path=\"url(#clip365)\" style=\"stroke:#000000; stroke-width:2; stroke-opacity:0.1; fill:none\" points=\"\n",
       "  1718.12,1486.45 1718.12,923.472 \n",
       "  \"/>\n",
       "<polyline clip-path=\"url(#clip365)\" style=\"stroke:#000000; stroke-width:2; stroke-opacity:0.1; fill:none\" points=\"\n",
       "  1850.12,1486.45 1850.12,923.472 \n",
       "  \"/>\n",
       "<polyline clip-path=\"url(#clip365)\" style=\"stroke:#000000; stroke-width:2; stroke-opacity:0.1; fill:none\" points=\"\n",
       "  1982.11,1486.45 1982.11,923.472 \n",
       "  \"/>\n",
       "<polyline clip-path=\"url(#clip365)\" style=\"stroke:#000000; stroke-width:2; stroke-opacity:0.1; fill:none\" points=\"\n",
       "  2114.11,1486.45 2114.11,923.472 \n",
       "  \"/>\n",
       "<polyline clip-path=\"url(#clip365)\" style=\"stroke:#000000; stroke-width:2; stroke-opacity:0.1; fill:none\" points=\"\n",
       "  2246.1,1486.45 2246.1,923.472 \n",
       "  \"/>\n",
       "<polyline clip-path=\"url(#clip365)\" style=\"stroke:#000000; stroke-width:2; stroke-opacity:0.1; fill:none\" points=\"\n",
       "  1429.32,1443.46 2352.76,1443.46 \n",
       "  \"/>\n",
       "<polyline clip-path=\"url(#clip365)\" style=\"stroke:#000000; stroke-width:2; stroke-opacity:0.1; fill:none\" points=\"\n",
       "  1429.32,1366.8 2352.76,1366.8 \n",
       "  \"/>\n",
       "<polyline clip-path=\"url(#clip365)\" style=\"stroke:#000000; stroke-width:2; stroke-opacity:0.1; fill:none\" points=\"\n",
       "  1429.32,1290.14 2352.76,1290.14 \n",
       "  \"/>\n",
       "<polyline clip-path=\"url(#clip365)\" style=\"stroke:#000000; stroke-width:2; stroke-opacity:0.1; fill:none\" points=\"\n",
       "  1429.32,1213.48 2352.76,1213.48 \n",
       "  \"/>\n",
       "<polyline clip-path=\"url(#clip365)\" style=\"stroke:#000000; stroke-width:2; stroke-opacity:0.1; fill:none\" points=\"\n",
       "  1429.32,1136.83 2352.76,1136.83 \n",
       "  \"/>\n",
       "<polyline clip-path=\"url(#clip365)\" style=\"stroke:#000000; stroke-width:2; stroke-opacity:0.1; fill:none\" points=\"\n",
       "  1429.32,1060.17 2352.76,1060.17 \n",
       "  \"/>\n",
       "<polyline clip-path=\"url(#clip365)\" style=\"stroke:#000000; stroke-width:2; stroke-opacity:0.1; fill:none\" points=\"\n",
       "  1429.32,983.507 2352.76,983.507 \n",
       "  \"/>\n",
       "<polyline clip-path=\"url(#clip360)\" style=\"stroke:#000000; stroke-width:4; stroke-opacity:1; fill:none\" points=\"\n",
       "  1429.32,1486.45 2352.76,1486.45 \n",
       "  \"/>\n",
       "<polyline clip-path=\"url(#clip360)\" style=\"stroke:#000000; stroke-width:4; stroke-opacity:1; fill:none\" points=\"\n",
       "  1429.32,1486.45 1429.32,923.472 \n",
       "  \"/>\n",
       "<polyline clip-path=\"url(#clip360)\" style=\"stroke:#000000; stroke-width:4; stroke-opacity:1; fill:none\" points=\"\n",
       "  1454.13,1486.45 1454.13,1479.69 \n",
       "  \"/>\n",
       "<polyline clip-path=\"url(#clip360)\" style=\"stroke:#000000; stroke-width:4; stroke-opacity:1; fill:none\" points=\"\n",
       "  1586.13,1486.45 1586.13,1479.69 \n",
       "  \"/>\n",
       "<polyline clip-path=\"url(#clip360)\" style=\"stroke:#000000; stroke-width:4; stroke-opacity:1; fill:none\" points=\"\n",
       "  1718.12,1486.45 1718.12,1479.69 \n",
       "  \"/>\n",
       "<polyline clip-path=\"url(#clip360)\" style=\"stroke:#000000; stroke-width:4; stroke-opacity:1; fill:none\" points=\"\n",
       "  1850.12,1486.45 1850.12,1479.69 \n",
       "  \"/>\n",
       "<polyline clip-path=\"url(#clip360)\" style=\"stroke:#000000; stroke-width:4; stroke-opacity:1; fill:none\" points=\"\n",
       "  1982.11,1486.45 1982.11,1479.69 \n",
       "  \"/>\n",
       "<polyline clip-path=\"url(#clip360)\" style=\"stroke:#000000; stroke-width:4; stroke-opacity:1; fill:none\" points=\"\n",
       "  2114.11,1486.45 2114.11,1479.69 \n",
       "  \"/>\n",
       "<polyline clip-path=\"url(#clip360)\" style=\"stroke:#000000; stroke-width:4; stroke-opacity:1; fill:none\" points=\"\n",
       "  2246.1,1486.45 2246.1,1479.69 \n",
       "  \"/>\n",
       "<polyline clip-path=\"url(#clip360)\" style=\"stroke:#000000; stroke-width:4; stroke-opacity:1; fill:none\" points=\"\n",
       "  1429.32,1443.46 1440.4,1443.46 \n",
       "  \"/>\n",
       "<polyline clip-path=\"url(#clip360)\" style=\"stroke:#000000; stroke-width:4; stroke-opacity:1; fill:none\" points=\"\n",
       "  1429.32,1366.8 1440.4,1366.8 \n",
       "  \"/>\n",
       "<polyline clip-path=\"url(#clip360)\" style=\"stroke:#000000; stroke-width:4; stroke-opacity:1; fill:none\" points=\"\n",
       "  1429.32,1290.14 1440.4,1290.14 \n",
       "  \"/>\n",
       "<polyline clip-path=\"url(#clip360)\" style=\"stroke:#000000; stroke-width:4; stroke-opacity:1; fill:none\" points=\"\n",
       "  1429.32,1213.48 1440.4,1213.48 \n",
       "  \"/>\n",
       "<polyline clip-path=\"url(#clip360)\" style=\"stroke:#000000; stroke-width:4; stroke-opacity:1; fill:none\" points=\"\n",
       "  1429.32,1136.83 1440.4,1136.83 \n",
       "  \"/>\n",
       "<polyline clip-path=\"url(#clip360)\" style=\"stroke:#000000; stroke-width:4; stroke-opacity:1; fill:none\" points=\"\n",
       "  1429.32,1060.17 1440.4,1060.17 \n",
       "  \"/>\n",
       "<polyline clip-path=\"url(#clip360)\" style=\"stroke:#000000; stroke-width:4; stroke-opacity:1; fill:none\" points=\"\n",
       "  1429.32,983.507 1440.4,983.507 \n",
       "  \"/>\n",
       "<path clip-path=\"url(#clip360)\" d=\"M 0 0 M1454.13 1508.44 Q1450.52 1508.44 1448.69 1512 Q1446.89 1515.55 1446.89 1522.67 Q1446.89 1529.78 1448.69 1533.35 Q1450.52 1536.89 1454.13 1536.89 Q1457.77 1536.89 1459.57 1533.35 Q1461.4 1529.78 1461.4 1522.67 Q1461.4 1515.55 1459.57 1512 Q1457.77 1508.44 1454.13 1508.44 M1454.13 1504.73 Q1459.94 1504.73 1463 1509.34 Q1466.08 1513.92 1466.08 1522.67 Q1466.08 1531.4 1463 1536.01 Q1459.94 1540.59 1454.13 1540.59 Q1448.32 1540.59 1445.24 1536.01 Q1442.19 1531.4 1442.19 1522.67 Q1442.19 1513.92 1445.24 1509.34 Q1448.32 1504.73 1454.13 1504.73 Z\" fill=\"#000000\" fill-rule=\"evenodd\" fill-opacity=\"1\" /><path clip-path=\"url(#clip360)\" d=\"M 0 0 M1549.5 1535.98 L1557.14 1535.98 L1557.14 1509.62 L1548.82 1511.29 L1548.82 1507.03 L1557.09 1505.36 L1561.76 1505.36 L1561.76 1535.98 L1569.4 1535.98 L1569.4 1539.92 L1549.5 1539.92 L1549.5 1535.98 Z\" fill=\"#000000\" fill-rule=\"evenodd\" fill-opacity=\"1\" /><path clip-path=\"url(#clip360)\" d=\"M 0 0 M1584.47 1508.44 Q1580.86 1508.44 1579.03 1512 Q1577.23 1515.55 1577.23 1522.67 Q1577.23 1529.78 1579.03 1533.35 Q1580.86 1536.89 1584.47 1536.89 Q1588.11 1536.89 1589.91 1533.35 Q1591.74 1529.78 1591.74 1522.67 Q1591.74 1515.55 1589.91 1512 Q1588.11 1508.44 1584.47 1508.44 M1584.47 1504.73 Q1590.28 1504.73 1593.34 1509.34 Q1596.42 1513.92 1596.42 1522.67 Q1596.42 1531.4 1593.34 1536.01 Q1590.28 1540.59 1584.47 1540.59 Q1578.66 1540.59 1575.58 1536.01 Q1572.53 1531.4 1572.53 1522.67 Q1572.53 1513.92 1575.58 1509.34 Q1578.66 1504.73 1584.47 1504.73 Z\" fill=\"#000000\" fill-rule=\"evenodd\" fill-opacity=\"1\" /><path clip-path=\"url(#clip360)\" d=\"M 0 0 M1611.49 1508.44 Q1607.88 1508.44 1606.05 1512 Q1604.24 1515.55 1604.24 1522.67 Q1604.24 1529.78 1606.05 1533.35 Q1607.88 1536.89 1611.49 1536.89 Q1615.12 1536.89 1616.93 1533.35 Q1618.76 1529.78 1618.76 1522.67 Q1618.76 1515.55 1616.93 1512 Q1615.12 1508.44 1611.49 1508.44 M1611.49 1504.73 Q1617.3 1504.73 1620.35 1509.34 Q1623.43 1513.92 1623.43 1522.67 Q1623.43 1531.4 1620.35 1536.01 Q1617.3 1540.59 1611.49 1540.59 Q1605.68 1540.59 1602.6 1536.01 Q1599.54 1531.4 1599.54 1522.67 Q1599.54 1513.92 1602.6 1509.34 Q1605.68 1504.73 1611.49 1504.73 Z\" fill=\"#000000\" fill-rule=\"evenodd\" fill-opacity=\"1\" /><path clip-path=\"url(#clip360)\" d=\"M 0 0 M1685.76 1535.98 L1702.08 1535.98 L1702.08 1539.92 L1680.14 1539.92 L1680.14 1535.98 Q1682.8 1533.23 1687.38 1528.6 Q1691.99 1523.95 1693.17 1522.61 Q1695.41 1520.08 1696.29 1518.35 Q1697.2 1516.59 1697.2 1514.9 Q1697.2 1512.14 1695.25 1510.41 Q1693.33 1508.67 1690.23 1508.67 Q1688.03 1508.67 1685.58 1509.43 Q1683.15 1510.2 1680.37 1511.75 L1680.37 1507.03 Q1683.19 1505.89 1685.65 1505.31 Q1688.1 1504.73 1690.14 1504.73 Q1695.51 1504.73 1698.7 1507.42 Q1701.9 1510.11 1701.9 1514.6 Q1701.9 1516.73 1701.09 1518.65 Q1700.3 1520.54 1698.19 1523.14 Q1697.61 1523.81 1694.51 1527.03 Q1691.41 1530.22 1685.76 1535.98 Z\" fill=\"#000000\" fill-rule=\"evenodd\" fill-opacity=\"1\" /><path clip-path=\"url(#clip360)\" d=\"M 0 0 M1717.15 1508.44 Q1713.54 1508.44 1711.71 1512 Q1709.91 1515.55 1709.91 1522.67 Q1709.91 1529.78 1711.71 1533.35 Q1713.54 1536.89 1717.15 1536.89 Q1720.79 1536.89 1722.59 1533.35 Q1724.42 1529.78 1724.42 1522.67 Q1724.42 1515.55 1722.59 1512 Q1720.79 1508.44 1717.15 1508.44 M1717.15 1504.73 Q1722.96 1504.73 1726.02 1509.34 Q1729.1 1513.92 1729.1 1522.67 Q1729.1 1531.4 1726.02 1536.01 Q1722.96 1540.59 1717.15 1540.59 Q1711.34 1540.59 1708.26 1536.01 Q1705.21 1531.4 1705.21 1522.67 Q1705.21 1513.92 1708.26 1509.34 Q1711.34 1504.73 1717.15 1504.73 Z\" fill=\"#000000\" fill-rule=\"evenodd\" fill-opacity=\"1\" /><path clip-path=\"url(#clip360)\" d=\"M 0 0 M1744.16 1508.44 Q1740.55 1508.44 1738.72 1512 Q1736.92 1515.55 1736.92 1522.67 Q1736.92 1529.78 1738.72 1533.35 Q1740.55 1536.89 1744.16 1536.89 Q1747.8 1536.89 1749.6 1533.35 Q1751.43 1529.78 1751.43 1522.67 Q1751.43 1515.55 1749.6 1512 Q1747.8 1508.44 1744.16 1508.44 M1744.16 1504.73 Q1749.97 1504.73 1753.03 1509.34 Q1756.11 1513.92 1756.11 1522.67 Q1756.11 1531.4 1753.03 1536.01 Q1749.97 1540.59 1744.16 1540.59 Q1738.35 1540.59 1735.28 1536.01 Q1732.22 1531.4 1732.22 1522.67 Q1732.22 1513.92 1735.28 1509.34 Q1738.35 1504.73 1744.16 1504.73 Z\" fill=\"#000000\" fill-rule=\"evenodd\" fill-opacity=\"1\" /><path clip-path=\"url(#clip360)\" d=\"M 0 0 M1827.35 1521.29 Q1830.71 1522 1832.58 1524.27 Q1834.48 1526.54 1834.48 1529.87 Q1834.48 1534.99 1830.96 1537.79 Q1827.44 1540.59 1820.96 1540.59 Q1818.79 1540.59 1816.47 1540.15 Q1814.18 1539.73 1811.73 1538.88 L1811.73 1534.36 Q1813.67 1535.5 1815.99 1536.08 Q1818.3 1536.66 1820.82 1536.66 Q1825.22 1536.66 1827.51 1534.92 Q1829.83 1533.18 1829.83 1529.87 Q1829.83 1526.82 1827.68 1525.11 Q1825.55 1523.37 1821.73 1523.37 L1817.7 1523.37 L1817.7 1519.53 L1821.91 1519.53 Q1825.36 1519.53 1827.19 1518.16 Q1829.02 1516.77 1829.02 1514.18 Q1829.02 1511.52 1827.12 1510.11 Q1825.25 1508.67 1821.73 1508.67 Q1819.81 1508.67 1817.61 1509.09 Q1815.41 1509.5 1812.77 1510.38 L1812.77 1506.22 Q1815.43 1505.48 1817.75 1505.11 Q1820.08 1504.73 1822.14 1504.73 Q1827.47 1504.73 1830.57 1507.17 Q1833.67 1509.57 1833.67 1513.69 Q1833.67 1516.56 1832.03 1518.55 Q1830.38 1520.52 1827.35 1521.29 Z\" fill=\"#000000\" fill-rule=\"evenodd\" fill-opacity=\"1\" /><path clip-path=\"url(#clip360)\" d=\"M 0 0 M1849.55 1508.44 Q1845.94 1508.44 1844.11 1512 Q1842.31 1515.55 1842.31 1522.67 Q1842.31 1529.78 1844.11 1533.35 Q1845.94 1536.89 1849.55 1536.89 Q1853.19 1536.89 1854.99 1533.35 Q1856.82 1529.78 1856.82 1522.67 Q1856.82 1515.55 1854.99 1512 Q1853.19 1508.44 1849.55 1508.44 M1849.55 1504.73 Q1855.36 1504.73 1858.42 1509.34 Q1861.5 1513.92 1861.5 1522.67 Q1861.5 1531.4 1858.42 1536.01 Q1855.36 1540.59 1849.55 1540.59 Q1843.74 1540.59 1840.66 1536.01 Q1837.61 1531.4 1837.61 1522.67 Q1837.61 1513.92 1840.66 1509.34 Q1843.74 1504.73 1849.55 1504.73 Z\" fill=\"#000000\" fill-rule=\"evenodd\" fill-opacity=\"1\" /><path clip-path=\"url(#clip360)\" d=\"M 0 0 M1876.56 1508.44 Q1872.95 1508.44 1871.13 1512 Q1869.32 1515.55 1869.32 1522.67 Q1869.32 1529.78 1871.13 1533.35 Q1872.95 1536.89 1876.56 1536.89 Q1880.2 1536.89 1882 1533.35 Q1883.83 1529.78 1883.83 1522.67 Q1883.83 1515.55 1882 1512 Q1880.2 1508.44 1876.56 1508.44 M1876.56 1504.73 Q1882.38 1504.73 1885.43 1509.34 Q1888.51 1513.92 1888.51 1522.67 Q1888.51 1531.4 1885.43 1536.01 Q1882.38 1540.59 1876.56 1540.59 Q1870.75 1540.59 1867.68 1536.01 Q1864.62 1531.4 1864.62 1522.67 Q1864.62 1513.92 1867.68 1509.34 Q1870.75 1504.73 1876.56 1504.73 Z\" fill=\"#000000\" fill-rule=\"evenodd\" fill-opacity=\"1\" /><path clip-path=\"url(#clip360)\" d=\"M 0 0 M1958.11 1509.43 L1946.3 1527.88 L1958.11 1527.88 L1958.11 1509.43 M1956.88 1505.36 L1962.76 1505.36 L1962.76 1527.88 L1967.69 1527.88 L1967.69 1531.77 L1962.76 1531.77 L1962.76 1539.92 L1958.11 1539.92 L1958.11 1531.77 L1942.51 1531.77 L1942.51 1527.26 L1956.88 1505.36 Z\" fill=\"#000000\" fill-rule=\"evenodd\" fill-opacity=\"1\" /><path clip-path=\"url(#clip360)\" d=\"M 0 0 M1982.76 1508.44 Q1979.15 1508.44 1977.32 1512 Q1975.52 1515.55 1975.52 1522.67 Q1975.52 1529.78 1977.32 1533.35 Q1979.15 1536.89 1982.76 1536.89 Q1986.4 1536.89 1988.2 1533.35 Q1990.03 1529.78 1990.03 1522.67 Q1990.03 1515.55 1988.2 1512 Q1986.4 1508.44 1982.76 1508.44 M1982.76 1504.73 Q1988.57 1504.73 1991.63 1509.34 Q1994.71 1513.92 1994.71 1522.67 Q1994.71 1531.4 1991.63 1536.01 Q1988.57 1540.59 1982.76 1540.59 Q1976.95 1540.59 1973.87 1536.01 Q1970.82 1531.4 1970.82 1522.67 Q1970.82 1513.92 1973.87 1509.34 Q1976.95 1504.73 1982.76 1504.73 Z\" fill=\"#000000\" fill-rule=\"evenodd\" fill-opacity=\"1\" /><path clip-path=\"url(#clip360)\" d=\"M 0 0 M2009.78 1508.44 Q2006.16 1508.44 2004.34 1512 Q2002.53 1515.55 2002.53 1522.67 Q2002.53 1529.78 2004.34 1533.35 Q2006.16 1536.89 2009.78 1536.89 Q2013.41 1536.89 2015.22 1533.35 Q2017.04 1529.78 2017.04 1522.67 Q2017.04 1515.55 2015.22 1512 Q2013.41 1508.44 2009.78 1508.44 M2009.78 1504.73 Q2015.59 1504.73 2018.64 1509.34 Q2021.72 1513.92 2021.72 1522.67 Q2021.72 1531.4 2018.64 1536.01 Q2015.59 1540.59 2009.78 1540.59 Q2003.97 1540.59 2000.89 1536.01 Q1997.83 1531.4 1997.83 1522.67 Q1997.83 1513.92 2000.89 1509.34 Q2003.97 1504.73 2009.78 1504.73 Z\" fill=\"#000000\" fill-rule=\"evenodd\" fill-opacity=\"1\" /><path clip-path=\"url(#clip360)\" d=\"M 0 0 M2077.37 1505.36 L2095.73 1505.36 L2095.73 1509.3 L2081.66 1509.3 L2081.66 1517.77 Q2082.67 1517.42 2083.69 1517.26 Q2084.71 1517.07 2085.73 1517.07 Q2091.52 1517.07 2094.9 1520.24 Q2098.28 1523.42 2098.28 1528.83 Q2098.28 1534.41 2094.8 1537.51 Q2091.33 1540.59 2085.01 1540.59 Q2082.84 1540.59 2080.57 1540.22 Q2078.32 1539.85 2075.91 1539.11 L2075.91 1534.41 Q2078 1535.54 2080.22 1536.1 Q2082.44 1536.66 2084.92 1536.66 Q2088.92 1536.66 2091.26 1534.55 Q2093.6 1532.44 2093.6 1528.83 Q2093.6 1525.22 2091.26 1523.11 Q2088.92 1521.01 2084.92 1521.01 Q2083.04 1521.01 2081.17 1521.42 Q2079.32 1521.84 2077.37 1522.72 L2077.37 1505.36 Z\" fill=\"#000000\" fill-rule=\"evenodd\" fill-opacity=\"1\" /><path clip-path=\"url(#clip360)\" d=\"M 0 0 M2113.34 1508.44 Q2109.73 1508.44 2107.9 1512 Q2106.1 1515.55 2106.1 1522.67 Q2106.1 1529.78 2107.9 1533.35 Q2109.73 1536.89 2113.34 1536.89 Q2116.98 1536.89 2118.78 1533.35 Q2120.61 1529.78 2120.61 1522.67 Q2120.61 1515.55 2118.78 1512 Q2116.98 1508.44 2113.34 1508.44 M2113.34 1504.73 Q2119.15 1504.73 2122.21 1509.34 Q2125.29 1513.92 2125.29 1522.67 Q2125.29 1531.4 2122.21 1536.01 Q2119.15 1540.59 2113.34 1540.59 Q2107.53 1540.59 2104.46 1536.01 Q2101.4 1531.4 2101.4 1522.67 Q2101.4 1513.92 2104.46 1509.34 Q2107.53 1504.73 2113.34 1504.73 Z\" fill=\"#000000\" fill-rule=\"evenodd\" fill-opacity=\"1\" /><path clip-path=\"url(#clip360)\" d=\"M 0 0 M2140.36 1508.44 Q2136.75 1508.44 2134.92 1512 Q2133.11 1515.55 2133.11 1522.67 Q2133.11 1529.78 2134.92 1533.35 Q2136.75 1536.89 2140.36 1536.89 Q2143.99 1536.89 2145.8 1533.35 Q2147.63 1529.78 2147.63 1522.67 Q2147.63 1515.55 2145.8 1512 Q2143.99 1508.44 2140.36 1508.44 M2140.36 1504.73 Q2146.17 1504.73 2149.22 1509.34 Q2152.3 1513.92 2152.3 1522.67 Q2152.3 1531.4 2149.22 1536.01 Q2146.17 1540.59 2140.36 1540.59 Q2134.55 1540.59 2131.47 1536.01 Q2128.41 1531.4 2128.41 1522.67 Q2128.41 1513.92 2131.47 1509.34 Q2134.55 1504.73 2140.36 1504.73 Z\" fill=\"#000000\" fill-rule=\"evenodd\" fill-opacity=\"1\" /><path clip-path=\"url(#clip360)\" d=\"M 0 0 M2219.5 1520.78 Q2216.35 1520.78 2214.5 1522.93 Q2212.67 1525.08 2212.67 1528.83 Q2212.67 1532.56 2214.5 1534.73 Q2216.35 1536.89 2219.5 1536.89 Q2222.64 1536.89 2224.47 1534.73 Q2226.32 1532.56 2226.32 1528.83 Q2226.32 1525.08 2224.47 1522.93 Q2222.64 1520.78 2219.5 1520.78 M2228.78 1506.12 L2228.78 1510.38 Q2227.02 1509.55 2225.21 1509.11 Q2223.43 1508.67 2221.67 1508.67 Q2217.04 1508.67 2214.59 1511.8 Q2212.16 1514.92 2211.81 1521.24 Q2213.18 1519.23 2215.24 1518.16 Q2217.3 1517.07 2219.77 1517.07 Q2224.98 1517.07 2227.99 1520.24 Q2231.02 1523.39 2231.02 1528.83 Q2231.02 1534.16 2227.87 1537.37 Q2224.73 1540.59 2219.5 1540.59 Q2213.5 1540.59 2210.33 1536.01 Q2207.16 1531.4 2207.16 1522.67 Q2207.16 1514.48 2211.05 1509.62 Q2214.94 1504.73 2221.49 1504.73 Q2223.25 1504.73 2225.03 1505.08 Q2226.83 1505.43 2228.78 1506.12 Z\" fill=\"#000000\" fill-rule=\"evenodd\" fill-opacity=\"1\" /><path clip-path=\"url(#clip360)\" d=\"M 0 0 M2246.09 1508.44 Q2242.48 1508.44 2240.65 1512 Q2238.85 1515.55 2238.85 1522.67 Q2238.85 1529.78 2240.65 1533.35 Q2242.48 1536.89 2246.09 1536.89 Q2249.73 1536.89 2251.53 1533.35 Q2253.36 1529.78 2253.36 1522.67 Q2253.36 1515.55 2251.53 1512 Q2249.73 1508.44 2246.09 1508.44 M2246.09 1504.73 Q2251.9 1504.73 2254.96 1509.34 Q2258.04 1513.92 2258.04 1522.67 Q2258.04 1531.4 2254.96 1536.01 Q2251.9 1540.59 2246.09 1540.59 Q2240.28 1540.59 2237.2 1536.01 Q2234.15 1531.4 2234.15 1522.67 Q2234.15 1513.92 2237.2 1509.34 Q2240.28 1504.73 2246.09 1504.73 Z\" fill=\"#000000\" fill-rule=\"evenodd\" fill-opacity=\"1\" /><path clip-path=\"url(#clip360)\" d=\"M 0 0 M2273.11 1508.44 Q2269.49 1508.44 2267.67 1512 Q2265.86 1515.55 2265.86 1522.67 Q2265.86 1529.78 2267.67 1533.35 Q2269.49 1536.89 2273.11 1536.89 Q2276.74 1536.89 2278.55 1533.35 Q2280.37 1529.78 2280.37 1522.67 Q2280.37 1515.55 2278.55 1512 Q2276.74 1508.44 2273.11 1508.44 M2273.11 1504.73 Q2278.92 1504.73 2281.97 1509.34 Q2285.05 1513.92 2285.05 1522.67 Q2285.05 1531.4 2281.97 1536.01 Q2278.92 1540.59 2273.11 1540.59 Q2267.3 1540.59 2264.22 1536.01 Q2261.16 1531.4 2261.16 1522.67 Q2261.16 1513.92 2264.22 1509.34 Q2267.3 1504.73 2273.11 1504.73 Z\" fill=\"#000000\" fill-rule=\"evenodd\" fill-opacity=\"1\" /><path clip-path=\"url(#clip360)\" d=\"M 0 0 M1316.12 1463.25 L1323.76 1463.25 L1323.76 1436.89 L1315.45 1438.55 L1315.45 1434.3 L1323.71 1432.63 L1328.39 1432.63 L1328.39 1463.25 L1336.02 1463.25 L1336.02 1467.19 L1316.12 1467.19 L1316.12 1463.25 Z\" fill=\"#000000\" fill-rule=\"evenodd\" fill-opacity=\"1\" /><path clip-path=\"url(#clip360)\" d=\"M 0 0 M1351.09 1435.71 Q1347.48 1435.71 1345.65 1439.27 Q1343.85 1442.81 1343.85 1449.94 Q1343.85 1457.05 1345.65 1460.61 Q1347.48 1464.16 1351.09 1464.16 Q1354.73 1464.16 1356.53 1460.61 Q1358.36 1457.05 1358.36 1449.94 Q1358.36 1442.81 1356.53 1439.27 Q1354.73 1435.71 1351.09 1435.71 M1351.09 1432 Q1356.9 1432 1359.96 1436.61 Q1363.04 1441.19 1363.04 1449.94 Q1363.04 1458.67 1359.96 1463.28 Q1356.9 1467.86 1351.09 1467.86 Q1345.28 1467.86 1342.2 1463.28 Q1339.15 1458.67 1339.15 1449.94 Q1339.15 1441.19 1342.2 1436.61 Q1345.28 1432 1351.09 1432 Z\" fill=\"#000000\" fill-rule=\"evenodd\" fill-opacity=\"1\" /><path clip-path=\"url(#clip360)\" d=\"M 0 0 M1363.04 1427.69 L1373.18 1427.69 L1373.18 1430.77 L1363.04 1430.77 L1363.04 1427.69 Z\" fill=\"#000000\" fill-rule=\"evenodd\" fill-opacity=\"1\" /><path clip-path=\"url(#clip360)\" d=\"M 0 0 M1388.33 1411.7 L1403.25 1411.7 L1403.25 1414.9 L1391.81 1414.9 L1391.81 1421.78 Q1392.64 1421.5 1393.47 1421.37 Q1394.3 1421.22 1395.12 1421.22 Q1399.83 1421.22 1402.57 1423.79 Q1405.32 1426.37 1405.32 1430.77 Q1405.32 1435.3 1402.5 1437.82 Q1399.68 1440.32 1394.54 1440.32 Q1392.77 1440.32 1390.93 1440.02 Q1389.11 1439.72 1387.15 1439.12 L1387.15 1435.3 Q1388.84 1436.22 1390.65 1436.68 Q1392.45 1437.13 1394.47 1437.13 Q1397.72 1437.13 1399.62 1435.42 Q1401.52 1433.7 1401.52 1430.77 Q1401.52 1427.84 1399.62 1426.12 Q1397.72 1424.41 1394.47 1424.41 Q1392.94 1424.41 1391.42 1424.75 Q1389.91 1425.09 1388.33 1425.8 L1388.33 1411.7 Z\" fill=\"#000000\" fill-rule=\"evenodd\" fill-opacity=\"1\" /><path clip-path=\"url(#clip360)\" d=\"M 0 0 M1313.82 1386.59 L1321.46 1386.59 L1321.46 1360.23 L1313.15 1361.9 L1313.15 1357.64 L1321.41 1355.97 L1326.09 1355.97 L1326.09 1386.59 L1333.73 1386.59 L1333.73 1390.53 L1313.82 1390.53 L1313.82 1386.59 Z\" fill=\"#000000\" fill-rule=\"evenodd\" fill-opacity=\"1\" /><path clip-path=\"url(#clip360)\" d=\"M 0 0 M1348.8 1359.05 Q1345.19 1359.05 1343.36 1362.61 Q1341.55 1366.16 1341.55 1373.28 Q1341.55 1380.39 1343.36 1383.96 Q1345.19 1387.5 1348.8 1387.5 Q1352.43 1387.5 1354.24 1383.96 Q1356.07 1380.39 1356.07 1373.28 Q1356.07 1366.16 1354.24 1362.61 Q1352.43 1359.05 1348.8 1359.05 M1348.8 1355.34 Q1354.61 1355.34 1357.66 1359.95 Q1360.74 1364.53 1360.74 1373.28 Q1360.74 1382.01 1357.66 1386.62 Q1354.61 1391.2 1348.8 1391.2 Q1342.99 1391.2 1339.91 1386.62 Q1336.85 1382.01 1336.85 1373.28 Q1336.85 1364.53 1339.91 1359.95 Q1342.99 1355.34 1348.8 1355.34 Z\" fill=\"#000000\" fill-rule=\"evenodd\" fill-opacity=\"1\" /><path clip-path=\"url(#clip360)\" d=\"M 0 0 M1360.74 1351.03 L1370.88 1351.03 L1370.88 1354.11 L1360.74 1354.11 L1360.74 1351.03 Z\" fill=\"#000000\" fill-rule=\"evenodd\" fill-opacity=\"1\" /><path clip-path=\"url(#clip360)\" d=\"M 0 0 M1397.53 1338.35 L1387.94 1353.34 L1397.53 1353.34 L1397.53 1338.35 M1396.53 1335.04 L1401.31 1335.04 L1401.31 1353.34 L1405.32 1353.34 L1405.32 1356.5 L1401.31 1356.5 L1401.31 1363.12 L1397.53 1363.12 L1397.53 1356.5 L1384.85 1356.5 L1384.85 1352.83 L1396.53 1335.04 Z\" fill=\"#000000\" fill-rule=\"evenodd\" fill-opacity=\"1\" /><path clip-path=\"url(#clip360)\" d=\"M 0 0 M1315.8 1309.94 L1323.44 1309.94 L1323.44 1283.57 L1315.13 1285.24 L1315.13 1280.98 L1323.39 1279.31 L1328.07 1279.31 L1328.07 1309.94 L1335.7 1309.94 L1335.7 1313.87 L1315.8 1313.87 L1315.8 1309.94 Z\" fill=\"#000000\" fill-rule=\"evenodd\" fill-opacity=\"1\" /><path clip-path=\"url(#clip360)\" d=\"M 0 0 M1350.77 1282.39 Q1347.16 1282.39 1345.33 1285.95 Q1343.53 1289.5 1343.53 1296.63 Q1343.53 1303.73 1345.33 1307.3 Q1347.16 1310.84 1350.77 1310.84 Q1354.41 1310.84 1356.21 1307.3 Q1358.04 1303.73 1358.04 1296.63 Q1358.04 1289.5 1356.21 1285.95 Q1354.41 1282.39 1350.77 1282.39 M1350.77 1278.69 Q1356.58 1278.69 1359.64 1283.29 Q1362.72 1287.88 1362.72 1296.63 Q1362.72 1305.35 1359.64 1309.96 Q1356.58 1314.54 1350.77 1314.54 Q1344.96 1314.54 1341.88 1309.96 Q1338.83 1305.35 1338.83 1296.63 Q1338.83 1287.88 1341.88 1283.29 Q1344.96 1278.69 1350.77 1278.69 Z\" fill=\"#000000\" fill-rule=\"evenodd\" fill-opacity=\"1\" /><path clip-path=\"url(#clip360)\" d=\"M 0 0 M1362.72 1274.37 L1372.86 1274.37 L1372.86 1277.45 L1362.72 1277.45 L1362.72 1274.37 Z\" fill=\"#000000\" fill-rule=\"evenodd\" fill-opacity=\"1\" /><path clip-path=\"url(#clip360)\" d=\"M 0 0 M1399.52 1271.32 Q1402.25 1271.9 1403.78 1273.75 Q1405.32 1275.59 1405.32 1278.3 Q1405.32 1282.45 1402.46 1284.73 Q1399.6 1287.01 1394.33 1287.01 Q1392.57 1287.01 1390.69 1286.65 Q1388.82 1286.31 1386.83 1285.61 L1386.83 1281.95 Q1388.41 1282.87 1390.29 1283.34 Q1392.17 1283.81 1394.22 1283.81 Q1397.79 1283.81 1399.66 1282.4 Q1401.54 1280.99 1401.54 1278.3 Q1401.54 1275.82 1399.79 1274.42 Q1398.06 1273.01 1394.95 1273.01 L1391.68 1273.01 L1391.68 1269.89 L1395.11 1269.89 Q1397.91 1269.89 1399.39 1268.78 Q1400.88 1267.65 1400.88 1265.55 Q1400.88 1263.38 1399.34 1262.24 Q1397.81 1261.07 1394.95 1261.07 Q1393.39 1261.07 1391.61 1261.41 Q1389.82 1261.75 1387.68 1262.46 L1387.68 1259.08 Q1389.84 1258.47 1391.72 1258.17 Q1393.62 1257.87 1395.29 1257.87 Q1399.62 1257.87 1402.14 1259.85 Q1404.66 1261.8 1404.66 1265.15 Q1404.66 1267.48 1403.32 1269.1 Q1401.99 1270.7 1399.52 1271.32 Z\" fill=\"#000000\" fill-rule=\"evenodd\" fill-opacity=\"1\" /><path clip-path=\"url(#clip360)\" d=\"M 0 0 M1316.46 1233.28 L1324.09 1233.28 L1324.09 1206.91 L1315.78 1208.58 L1315.78 1204.32 L1324.05 1202.65 L1328.72 1202.65 L1328.72 1233.28 L1336.36 1233.28 L1336.36 1237.21 L1316.46 1237.21 L1316.46 1233.28 Z\" fill=\"#000000\" fill-rule=\"evenodd\" fill-opacity=\"1\" /><path clip-path=\"url(#clip360)\" d=\"M 0 0 M1351.43 1205.73 Q1347.82 1205.73 1345.99 1209.3 Q1344.19 1212.84 1344.19 1219.97 Q1344.19 1227.07 1345.99 1230.64 Q1347.82 1234.18 1351.43 1234.18 Q1355.07 1234.18 1356.87 1230.64 Q1358.7 1227.07 1358.7 1219.97 Q1358.7 1212.84 1356.87 1209.3 Q1355.07 1205.73 1351.43 1205.73 M1351.43 1202.03 Q1357.24 1202.03 1360.3 1206.63 Q1363.38 1211.22 1363.38 1219.97 Q1363.38 1228.69 1360.3 1233.3 Q1357.24 1237.88 1351.43 1237.88 Q1345.62 1237.88 1342.54 1233.3 Q1339.49 1228.69 1339.49 1219.97 Q1339.49 1211.22 1342.54 1206.63 Q1345.62 1202.03 1351.43 1202.03 Z\" fill=\"#000000\" fill-rule=\"evenodd\" fill-opacity=\"1\" /><path clip-path=\"url(#clip360)\" d=\"M 0 0 M1363.38 1197.71 L1373.51 1197.71 L1373.51 1200.79 L1363.38 1200.79 L1363.38 1197.71 Z\" fill=\"#000000\" fill-rule=\"evenodd\" fill-opacity=\"1\" /><path clip-path=\"url(#clip360)\" d=\"M 0 0 M1392.06 1206.6 L1405.32 1206.6 L1405.32 1209.8 L1387.49 1209.8 L1387.49 1206.6 Q1389.65 1204.37 1393.37 1200.6 Q1397.12 1196.82 1398.08 1195.73 Q1399.9 1193.68 1400.62 1192.27 Q1401.35 1190.84 1401.35 1189.47 Q1401.35 1187.23 1399.77 1185.82 Q1398.21 1184.41 1395.69 1184.41 Q1393.9 1184.41 1391.91 1185.03 Q1389.93 1185.65 1387.68 1186.91 L1387.68 1183.08 Q1389.97 1182.15 1391.96 1181.68 Q1393.96 1181.21 1395.61 1181.21 Q1399.98 1181.21 1402.57 1183.4 Q1405.17 1185.58 1405.17 1189.23 Q1405.17 1190.96 1404.51 1192.52 Q1403.87 1194.06 1402.16 1196.17 Q1401.69 1196.71 1399.17 1199.33 Q1396.65 1201.92 1392.06 1206.6 Z\" fill=\"#000000\" fill-rule=\"evenodd\" fill-opacity=\"1\" /><path clip-path=\"url(#clip360)\" d=\"M 0 0 M1317.57 1156.62 L1325.2 1156.62 L1325.2 1130.25 L1316.89 1131.92 L1316.89 1127.66 L1325.16 1125.99 L1329.83 1125.99 L1329.83 1156.62 L1337.47 1156.62 L1337.47 1160.55 L1317.57 1160.55 L1317.57 1156.62 Z\" fill=\"#000000\" fill-rule=\"evenodd\" fill-opacity=\"1\" /><path clip-path=\"url(#clip360)\" d=\"M 0 0 M1352.54 1129.07 Q1348.93 1129.07 1347.1 1132.64 Q1345.3 1136.18 1345.3 1143.31 Q1345.3 1150.41 1347.1 1153.98 Q1348.93 1157.52 1352.54 1157.52 Q1356.18 1157.52 1357.98 1153.98 Q1359.81 1150.41 1359.81 1143.31 Q1359.81 1136.18 1357.98 1132.64 Q1356.18 1129.07 1352.54 1129.07 M1352.54 1125.37 Q1358.35 1125.37 1361.41 1129.97 Q1364.49 1134.56 1364.49 1143.31 Q1364.49 1152.03 1361.41 1156.64 Q1358.35 1161.22 1352.54 1161.22 Q1346.73 1161.22 1343.65 1156.64 Q1340.6 1152.03 1340.6 1143.31 Q1340.6 1134.56 1343.65 1129.97 Q1346.73 1125.37 1352.54 1125.37 Z\" fill=\"#000000\" fill-rule=\"evenodd\" fill-opacity=\"1\" /><path clip-path=\"url(#clip360)\" d=\"M 0 0 M1364.49 1121.05 L1374.62 1121.05 L1374.62 1124.13 L1364.49 1124.13 L1364.49 1121.05 Z\" fill=\"#000000\" fill-rule=\"evenodd\" fill-opacity=\"1\" /><path clip-path=\"url(#clip360)\" d=\"M 0 0 M1389.14 1129.95 L1395.35 1129.95 L1395.35 1108.52 L1388.6 1109.88 L1388.6 1106.42 L1395.31 1105.06 L1399.11 1105.06 L1399.11 1129.95 L1405.32 1129.95 L1405.32 1133.14 L1389.14 1133.14 L1389.14 1129.95 Z\" fill=\"#000000\" fill-rule=\"evenodd\" fill-opacity=\"1\" /><path clip-path=\"url(#clip360)\" d=\"M 0 0 M1338.99 1079.96 L1346.63 1079.96 L1346.63 1053.59 L1338.32 1055.26 L1338.32 1051 L1346.58 1049.33 L1351.26 1049.33 L1351.26 1079.96 L1358.89 1079.96 L1358.89 1083.89 L1338.99 1083.89 L1338.99 1079.96 Z\" fill=\"#000000\" fill-rule=\"evenodd\" fill-opacity=\"1\" /><path clip-path=\"url(#clip360)\" d=\"M 0 0 M1373.96 1052.41 Q1370.35 1052.41 1368.52 1055.98 Q1366.72 1059.52 1366.72 1066.65 Q1366.72 1073.76 1368.52 1077.32 Q1370.35 1080.86 1373.96 1080.86 Q1377.6 1080.86 1379.4 1077.32 Q1381.23 1073.76 1381.23 1066.65 Q1381.23 1059.52 1379.4 1055.98 Q1377.6 1052.41 1373.96 1052.41 M1373.96 1048.71 Q1379.77 1048.71 1382.83 1053.32 Q1385.91 1057.9 1385.91 1066.65 Q1385.91 1075.38 1382.83 1079.98 Q1379.77 1084.57 1373.96 1084.57 Q1368.15 1084.57 1365.07 1079.98 Q1362.02 1075.38 1362.02 1066.65 Q1362.02 1057.9 1365.07 1053.32 Q1368.15 1048.71 1373.96 1048.71 Z\" fill=\"#000000\" fill-rule=\"evenodd\" fill-opacity=\"1\" /><path clip-path=\"url(#clip360)\" d=\"M 0 0 M1395.61 1030.91 Q1392.68 1030.91 1391.19 1033.8 Q1389.73 1036.68 1389.73 1042.47 Q1389.73 1048.25 1391.19 1051.14 Q1392.68 1054.02 1395.61 1054.02 Q1398.57 1054.02 1400.03 1051.14 Q1401.52 1048.25 1401.52 1042.47 Q1401.52 1036.68 1400.03 1033.8 Q1398.57 1030.91 1395.61 1030.91 M1395.61 1027.9 Q1400.33 1027.9 1402.82 1031.64 Q1405.32 1035.36 1405.32 1042.47 Q1405.32 1049.56 1402.82 1053.31 Q1400.33 1057.03 1395.61 1057.03 Q1390.89 1057.03 1388.39 1053.31 Q1385.91 1049.56 1385.91 1042.47 Q1385.91 1035.36 1388.39 1031.64 Q1390.89 1027.9 1395.61 1027.9 Z\" fill=\"#000000\" fill-rule=\"evenodd\" fill-opacity=\"1\" /><path clip-path=\"url(#clip360)\" d=\"M 0 0 M1341.68 1003.3 L1349.32 1003.3 L1349.32 976.934 L1341.01 978.601 L1341.01 974.342 L1349.27 972.675 L1353.95 972.675 L1353.95 1003.3 L1361.58 1003.3 L1361.58 1007.23 L1341.68 1007.23 L1341.68 1003.3 Z\" fill=\"#000000\" fill-rule=\"evenodd\" fill-opacity=\"1\" /><path clip-path=\"url(#clip360)\" d=\"M 0 0 M1376.65 975.754 Q1373.04 975.754 1371.21 979.318 Q1369.41 982.86 1369.41 989.99 Q1369.41 997.096 1371.21 1000.66 Q1373.04 1004.2 1376.65 1004.2 Q1380.29 1004.2 1382.09 1000.66 Q1383.92 997.096 1383.92 989.99 Q1383.92 982.86 1382.09 979.318 Q1380.29 975.754 1376.65 975.754 M1376.65 972.05 Q1382.46 972.05 1385.52 976.656 Q1388.6 981.24 1388.6 989.99 Q1388.6 998.717 1385.52 1003.32 Q1382.46 1007.91 1376.65 1007.91 Q1370.84 1007.91 1367.76 1003.32 Q1364.71 998.717 1364.71 989.99 Q1364.71 981.24 1367.76 976.656 Q1370.84 972.05 1376.65 972.05 Z\" fill=\"#000000\" fill-rule=\"evenodd\" fill-opacity=\"1\" /><path clip-path=\"url(#clip360)\" d=\"M 0 0 M1389.14 976.627 L1395.35 976.627 L1395.35 955.205 L1388.6 956.559 L1388.6 953.099 L1395.31 951.745 L1399.11 951.745 L1399.11 976.627 L1405.32 976.627 L1405.32 979.825 L1389.14 979.825 L1389.14 976.627 Z\" fill=\"#000000\" fill-rule=\"evenodd\" fill-opacity=\"1\" /><path clip-path=\"url(#clip360)\" d=\"M 0 0 M1719.1 812.096 L1731.29 812.096 L1746.72 853.253 L1762.24 812.096 L1774.43 812.096 L1774.43 872.576 L1766.45 872.576 L1766.45 819.469 L1750.86 860.95 L1742.63 860.95 L1727.04 819.469 L1727.04 872.576 L1719.1 872.576 L1719.1 812.096 Z\" fill=\"#000000\" fill-rule=\"evenodd\" fill-opacity=\"1\" /><path clip-path=\"url(#clip360)\" d=\"M 0 0 M1821.06 848.028 L1821.06 851.673 L1786.79 851.673 Q1787.27 859.37 1791.4 863.421 Q1795.58 867.431 1802.99 867.431 Q1807.28 867.431 1811.29 866.378 Q1815.35 865.325 1819.32 863.218 L1819.32 870.267 Q1815.31 871.968 1811.09 872.86 Q1806.88 873.751 1802.54 873.751 Q1791.69 873.751 1785.33 867.431 Q1779.01 861.112 1779.01 850.337 Q1779.01 839.197 1785 832.675 Q1791.04 826.112 1801.25 826.112 Q1810.4 826.112 1815.71 832.026 Q1821.06 837.9 1821.06 848.028 M1813.6 845.84 Q1813.52 839.723 1810.16 836.077 Q1806.84 832.432 1801.33 832.432 Q1795.09 832.432 1791.32 835.956 Q1787.6 839.48 1787.03 845.881 L1813.6 845.84 Z\" fill=\"#000000\" fill-rule=\"evenodd\" fill-opacity=\"1\" /><path clip-path=\"url(#clip360)\" d=\"M 0 0 M1836.25 814.324 L1836.25 827.206 L1851.6 827.206 L1851.6 832.999 L1836.25 832.999 L1836.25 857.628 Q1836.25 863.178 1837.75 864.758 Q1839.29 866.338 1843.95 866.338 L1851.6 866.338 L1851.6 872.576 L1843.95 872.576 Q1835.32 872.576 1832.04 869.376 Q1828.75 866.135 1828.75 857.628 L1828.75 832.999 L1823.29 832.999 L1823.29 827.206 L1828.75 827.206 L1828.75 814.324 L1836.25 814.324 Z\" fill=\"#000000\" fill-rule=\"evenodd\" fill-opacity=\"1\" /><path clip-path=\"url(#clip360)\" d=\"M 0 0 M1897.13 845.192 L1897.13 872.576 L1889.68 872.576 L1889.68 845.435 Q1889.68 838.994 1887.17 835.794 Q1884.66 832.594 1879.63 832.594 Q1873.6 832.594 1870.11 836.442 Q1866.63 840.29 1866.63 846.934 L1866.63 872.576 L1859.14 872.576 L1859.14 809.544 L1866.63 809.544 L1866.63 834.254 Q1869.3 830.163 1872.91 828.138 Q1876.55 826.112 1881.29 826.112 Q1889.11 826.112 1893.12 830.973 Q1897.13 835.794 1897.13 845.192 Z\" fill=\"#000000\" fill-rule=\"evenodd\" fill-opacity=\"1\" /><path clip-path=\"url(#clip360)\" d=\"M 0 0 M1922.53 832.432 Q1916.54 832.432 1913.05 837.131 Q1909.57 841.789 1909.57 849.931 Q1909.57 858.074 1913.01 862.773 Q1916.5 867.431 1922.53 867.431 Q1928.49 867.431 1931.97 862.732 Q1935.45 858.033 1935.45 849.931 Q1935.45 841.87 1931.97 837.171 Q1928.49 832.432 1922.53 832.432 M1922.53 826.112 Q1932.25 826.112 1937.8 832.432 Q1943.35 838.751 1943.35 849.931 Q1943.35 861.071 1937.8 867.431 Q1932.25 873.751 1922.53 873.751 Q1912.77 873.751 1907.22 867.431 Q1901.71 861.071 1901.71 849.931 Q1901.71 838.751 1907.22 832.432 Q1912.77 826.112 1922.53 826.112 Z\" fill=\"#000000\" fill-rule=\"evenodd\" fill-opacity=\"1\" /><path clip-path=\"url(#clip360)\" d=\"M 0 0 M1981.03 834.092 L1981.03 809.544 L1988.48 809.544 L1988.48 872.576 L1981.03 872.576 L1981.03 865.77 Q1978.68 869.821 1975.07 871.806 Q1971.51 873.751 1966.48 873.751 Q1958.26 873.751 1953.08 867.188 Q1947.93 860.626 1947.93 849.931 Q1947.93 839.237 1953.08 832.675 Q1958.26 826.112 1966.48 826.112 Q1971.51 826.112 1975.07 828.097 Q1978.68 830.042 1981.03 834.092 M1955.63 849.931 Q1955.63 858.155 1958.99 862.854 Q1962.39 867.512 1968.31 867.512 Q1974.22 867.512 1977.62 862.854 Q1981.03 858.155 1981.03 849.931 Q1981.03 841.708 1977.62 837.05 Q1974.22 832.351 1968.31 832.351 Q1962.39 832.351 1958.99 837.05 Q1955.63 841.708 1955.63 849.931 Z\" fill=\"#000000\" fill-rule=\"evenodd\" fill-opacity=\"1\" /><path clip-path=\"url(#clip360)\" d=\"M 0 0 M2046.21 819.226 L2025.55 851.511 L2046.21 851.511 L2046.21 819.226 M2044.06 812.096 L2054.35 812.096 L2054.35 851.511 L2062.98 851.511 L2062.98 858.317 L2054.35 858.317 L2054.35 872.576 L2046.21 872.576 L2046.21 858.317 L2018.9 858.317 L2018.9 850.418 L2044.06 812.096 Z\" fill=\"#000000\" fill-rule=\"evenodd\" fill-opacity=\"1\" /><polyline clip-path=\"url(#clip365)\" style=\"stroke:#009af9; stroke-width:4; stroke-opacity:1; fill:none\" points=\"\n",
       "  1455.45,939.405 1456.77,1001.13 1458.09,1043.49 1459.41,980.674 1460.73,969.063 1462.05,977.127 1463.37,1001.73 1464.69,1050.17 1466.01,1065.18 1467.33,1019.51 \n",
       "  1468.65,1065.18 1469.97,999.837 1471.29,1010.26 1472.61,1021.3 1473.93,1034.9 1475.25,1049.71 1476.57,1064.75 1477.89,1075.76 1479.21,1078.71 1480.53,1073.82 \n",
       "  1481.85,1066.2 1483.17,1059.34 1484.49,1054.62 1485.81,1051.97 1487.13,1051.12 1488.45,1051.99 1489.77,1054.42 1491.09,1058.16 1492.41,1062.81 1493.73,1067.49 \n",
       "  1495.05,1072.5 1496.37,1076.34 1497.69,1078.55 1499.01,1079.26 1500.33,1078.35 1501.65,1076.55 1502.97,1074.61 1504.29,1072.97 1505.61,1071.59 1506.93,1071.15 \n",
       "  1508.25,1071.38 1509.57,1072.08 1510.89,1073.65 1512.21,1075.2 1513.53,1076.83 1514.85,1078.28 1516.17,1079.3 1517.49,1079.68 1518.81,1079.59 1520.13,1079.19 \n",
       "  1521.45,1078.7 1522.77,1078.1 1524.09,1077.76 1525.41,1077.77 1526.73,1077.68 1528.05,1078.09 1529.37,1078.53 1530.69,1078.98 1532.01,1079.6 1533.33,1079.89 \n",
       "  1534.65,1080.21 1535.97,1080.17 1537.29,1080.13 1538.61,1080 1539.93,1079.87 1541.25,1079.85 1542.57,1079.75 1543.89,1079.9 1545.21,1079.92 1546.53,1080.19 \n",
       "  1547.85,1080.35 1549.17,1080.52 1550.49,1080.62 1551.81,1080.7 1553.13,1080.77 1554.45,1080.76 1555.77,1080.75 1557.09,1080.74 1558.41,1080.82 1559.73,1080.79 \n",
       "  1561.05,1080.88 1562.37,1081.01 1563.69,1081.03 1565.01,1081.14 1566.33,1081.28 1567.65,1081.24 1568.97,1081.36 1570.29,1081.34 1571.61,1081.4 1572.93,1081.45 \n",
       "  1574.25,1081.48 1575.57,1081.54 1576.89,1081.58 1578.21,1081.65 1579.53,1081.7 1580.85,1081.74 1582.17,1081.87 1583.49,1081.88 1584.81,1081.92 1586.13,1082.01 \n",
       "  1587.45,1082.02 1588.77,1082.1 1590.09,1082.1 1591.41,1082.18 1592.73,1082.23 1594.05,1082.28 1595.37,1082.38 1596.69,1082.44 1598.01,1082.47 1599.33,1082.53 \n",
       "  1600.65,1082.55 1601.97,1082.63 1603.29,1082.63 1604.61,1082.77 1605.93,1082.8 1607.25,1082.85 1608.57,1082.89 1609.89,1082.99 1611.21,1083.05 1612.53,1083.08 \n",
       "  1613.85,1083.16 1615.17,1083.23 1616.49,1083.28 1617.81,1083.35 1619.13,1083.38 1620.45,1083.46 1621.77,1083.54 1623.09,1083.59 1624.41,1083.67 1625.73,1083.64 \n",
       "  1627.05,1083.68 1628.37,1083.81 1629.69,1083.88 1631.01,1083.9 1632.33,1083.98 1633.65,1084.07 1634.97,1084.08 1636.29,1084.17 1637.61,1084.28 1638.93,1084.28 \n",
       "  1640.25,1084.4 1641.57,1084.45 1642.89,1084.49 1644.21,1084.6 1645.53,1084.58 1646.85,1084.72 1648.17,1084.77 1649.49,1084.82 1650.81,1084.9 1652.13,1084.89 \n",
       "  1653.45,1084.98 1654.77,1085.11 1656.09,1085.17 1657.41,1085.26 1658.73,1085.3 1660.05,1085.37 1661.37,1085.43 1662.69,1085.43 1664.01,1085.59 1665.33,1085.64 \n",
       "  1666.65,1085.65 1667.97,1085.74 1669.28,1085.82 1670.6,1085.91 1671.92,1085.94 1673.24,1086.06 1674.56,1086.12 1675.88,1086.2 1677.2,1086.25 1678.52,1086.33 \n",
       "  1679.84,1086.35 1681.16,1086.43 1682.48,1086.51 1683.8,1086.59 1685.12,1086.67 1686.44,1086.73 1687.76,1086.83 1689.08,1086.87 1690.4,1086.98 1691.72,1087.02 \n",
       "  1693.04,1087.11 1694.36,1087.2 1695.68,1087.26 1697,1087.33 1698.32,1087.41 1699.64,1087.48 1700.96,1087.51 1702.28,1087.67 1703.6,1087.71 1704.92,1087.75 \n",
       "  1706.24,1087.83 1707.56,1087.88 1708.88,1088.01 1710.2,1088.05 1711.52,1088.14 1712.84,1088.25 1714.16,1088.3 1715.48,1088.4 1716.8,1088.45 1718.12,1088.55 \n",
       "  1719.44,1088.61 1720.76,1088.68 1722.08,1088.78 1723.4,1088.86 1724.72,1088.94 1726.04,1089.01 1727.36,1089.11 1728.68,1089.18 1730,1089.24 1731.32,1089.32 \n",
       "  1732.64,1089.42 1733.96,1089.42 1735.28,1089.48 1736.6,1089.6 1737.92,1109.8 1739.24,1196.57 1740.56,1270.37 1741.88,1278.77 1743.2,1278.77 1744.52,1278.77 \n",
       "  1745.84,1278.77 1747.16,1257.13 1748.48,1276.87 1749.8,1272.55 1751.12,1264.68 1752.44,1267.93 1753.76,1275.68 1755.08,1278.7 1756.4,1274.73 1757.72,1271.12 \n",
       "  1759.04,1271.7 1760.36,1275.66 1761.68,1278.57 1763,1278.12 1764.32,1275.7 1765.64,1274.28 1766.96,1275.46 1768.28,1277.54 1769.6,1278.88 1770.92,1278.24 \n",
       "  1772.24,1276.76 1773.56,1276.29 1774.88,1277.31 1776.2,1278.52 1777.52,1278.97 1778.84,1278.41 1780.16,1277.69 1781.48,1277.71 1782.8,1278.25 1784.12,1278.93 \n",
       "  1785.44,1278.97 1786.76,1278.54 1788.08,1278.16 1789.4,1278.47 1790.72,1278.82 1792.04,1279.09 1793.36,1278.96 1794.68,1278.62 1796,1278.71 1797.32,1278.91 \n",
       "  1798.64,1279.15 1799.96,1279.05 1801.28,1278.95 1802.6,1278.9 1803.92,1279.01 1805.24,1279.2 1806.56,1279.21 1807.88,1279.08 1809.2,1279.04 1810.52,1279.13 \n",
       "  1811.84,1279.27 1813.16,1279.28 1814.48,1279.19 1815.8,1279.18 1817.12,1279.25 1818.44,1279.31 1819.76,1279.34 1821.08,1279.31 1822.4,1279.29 1823.72,1279.37 \n",
       "  1825.04,1279.43 1826.36,1279.37 1827.68,1279.41 1829,1279.4 1830.32,1279.43 1831.64,1279.49 1832.96,1279.44 1834.28,1279.45 1835.6,1279.5 1836.92,1279.5 \n",
       "  1838.24,1279.55 1839.56,1279.5 1840.88,1279.52 1842.2,1279.56 1843.52,1279.6 1844.84,1279.6 1846.16,1279.62 1847.48,1279.61 1848.8,1279.67 1850.12,1279.67 \n",
       "  1851.44,1279.68 1852.76,1279.68 1854.08,1279.68 1855.4,1279.72 1856.72,1279.72 1858.04,1279.75 1859.36,1279.78 1860.68,1279.82 1862,1279.78 1863.32,1279.83 \n",
       "  1864.64,1279.8 1865.96,1279.86 1867.28,1279.84 1868.6,1279.88 1869.92,1279.87 1871.24,1279.88 1872.56,1279.92 1873.88,1279.94 1875.2,1279.92 1876.52,1279.94 \n",
       "  1877.84,1279.97 1879.16,1279.99 1880.48,1280.04 1881.8,1280.01 1883.12,1280.06 1884.44,1280.06 1885.76,1280.07 1887.08,1280.07 1888.4,1280.13 1889.72,1280.14 \n",
       "  1891.04,1280.14 1892.36,1280.18 1893.68,1280.17 1895,1280.22 1896.32,1280.18 1897.64,1280.19 1898.96,1280.23 1900.28,1280.26 1901.6,1280.24 1902.92,1280.26 \n",
       "  1904.24,1280.29 1905.56,1280.34 1906.88,1280.3 1908.2,1280.36 1909.52,1280.33 1910.84,1280.36 1912.16,1280.41 1913.48,1280.41 1914.8,1280.4 1916.12,1280.43 \n",
       "  1917.44,1280.42 1918.76,1280.46 1920.08,1280.5 1921.4,1280.5 1922.72,1280.53 1924.04,1280.52 1925.36,1280.46 1926.68,1280.55 1928,1280.57 1929.32,1280.59 \n",
       "  1930.64,1280.58 1931.96,1280.6 1933.28,1280.61 1934.6,1280.64 1935.92,1280.65 1937.24,1280.68 1938.56,1280.67 1939.88,1280.67 1941.19,1280.71 1942.51,1280.72 \n",
       "  1943.83,1280.73 1945.15,1280.75 1946.47,1280.78 1947.79,1280.79 1949.11,1280.8 1950.43,1280.84 1951.75,1280.84 1953.07,1280.86 1954.39,1280.84 1955.71,1280.9 \n",
       "  1957.03,1280.88 1958.35,1280.92 1959.67,1280.97 1960.99,1280.98 1962.31,1280.99 1963.63,1280.94 1964.95,1281.03 1966.27,1281.01 1967.59,1281.03 1968.91,1281.04 \n",
       "  1970.23,1281.08 1971.55,1281.08 1972.87,1281.09 1974.19,1281.12 1975.51,1281.13 1976.83,1281.16 1978.15,1281.16 1979.47,1281.18 1980.79,1281.2 1982.11,1281.2 \n",
       "  1983.43,1281.23 1984.75,1281.25 1986.07,1281.24 1987.39,1281.27 1988.71,1281.3 1990.03,1281.31 1991.35,1281.32 1992.67,1281.34 1993.99,1281.26 1995.31,1281.36 \n",
       "  1996.63,1281.36 1997.95,1281.36 1999.27,1281.42 2000.59,1281.45 2001.91,1281.45 2003.23,1281.46 2004.55,1281.48 2005.87,1281.49 2007.19,1281.54 2008.51,1281.5 \n",
       "  2009.83,1281.54 2011.15,1281.53 2012.47,1281.53 2013.79,1282.52 2015.11,1283.58 2016.43,1283.72 2017.75,1314.51 2019.07,1365.46 2020.39,1373.54 2021.71,1374.14 \n",
       "  2023.03,1374.15 2024.35,1374.16 2025.67,1374.16 2026.99,1374.16 2028.31,1374.18 2029.63,1375.58 2030.95,1378.03 2032.27,1378.35 2033.59,1378.53 2034.91,1390.61 \n",
       "  2036.23,1396.71 2037.55,1413.31 2038.87,1416.67 2040.19,1438.55 2041.51,1446.54 2042.83,1456.16 2044.15,1460.23 2045.47,1464.53 2046.79,1469.46 2048.11,1470.4 \n",
       "  2049.43,1470.44 2050.75,1470.45 2052.07,1470.45 2053.39,1470.46 2054.71,1470.46 2056.03,1470.46 2057.35,1467.54 2058.67,1446.9 2059.99,1468.77 2061.31,1459.56 \n",
       "  2062.63,1454.98 2063.95,1465.6 2065.27,1469.54 2066.59,1461.57 2067.91,1460.31 2069.23,1466.98 2070.55,1470.23 2071.87,1465.72 2073.19,1463.27 2074.51,1466.69 \n",
       "  2075.83,1470.32 2077.15,1468.94 2078.47,1466.22 2079.79,1466.53 2081.11,1469.39 2082.43,1470.3 2083.75,1468.08 2085.07,1467.23 2086.39,1468.89 2087.71,1470.45 \n",
       "  2089.03,1469.58 2090.35,1468.32 2091.67,1469.05 2092.99,1470.31 2094.31,1470.18 2095.63,1469.26 2096.95,1469.2 2098.27,1470.16 2099.59,1470.37 2100.91,1469.65 \n",
       "  2102.23,1469.56 2103.55,1470.16 2104.87,1470.44 2106.19,1469.98 2107.51,1469.82 2108.83,1470.25 2110.15,1470.43 2111.47,1470.24 2112.79,1470.17 2114.11,1470.33 \n",
       "  2115.43,1470.49 2116.75,1470.36 2118.07,1470.27 2119.39,1470.34 2120.71,1470.47 2122.03,1470.36 2123.35,1470.3 2124.67,1470.4 2125.99,1470.46 2127.31,1470.41 \n",
       "  2128.63,1470.4 2129.95,1470.44 2131.27,1470.47 2132.59,1470.39 2133.91,1470.38 2135.23,1470.46 2136.55,1470.45 2137.87,1470.43 2139.19,1470.44 2140.51,1470.47 \n",
       "  2141.83,1470.46 2143.15,1470.45 2144.47,1470.44 2145.79,1470.46 2147.11,1470.46 2148.43,1470.45 2149.75,1470.46 2151.07,1470.46 2152.39,1470.45 2153.71,1470.44 \n",
       "  2155.03,1470.46 2156.35,1470.44 2157.67,1470.46 2158.99,1470.46 2160.31,1470.48 2161.63,1470.46 2162.95,1470.48 2164.27,1470.47 2165.59,1470.48 2166.91,1470.45 \n",
       "  2168.23,1470.46 2169.55,1470.47 2170.87,1470.49 2172.19,1470.48 2173.51,1470.47 2174.83,1470.46 2176.15,1470.47 2177.47,1470.48 2178.79,1470.48 2180.11,1470.49 \n",
       "  2181.43,1470.47 2182.75,1470.49 2184.07,1470.49 2185.39,1470.49 2186.71,1470.47 2188.03,1470.47 2189.35,1470.47 2190.67,1470.46 2191.99,1470.47 2193.31,1470.47 \n",
       "  2194.63,1470.47 2195.95,1470.47 2197.27,1470.46 2198.59,1470.48 2199.91,1470.46 2201.23,1470.47 2202.55,1470.48 2203.87,1470.47 2205.19,1470.47 2206.51,1470.48 \n",
       "  2207.83,1470.49 2209.15,1470.48 2210.47,1470.46 2211.79,1470.48 2213.11,1470.48 2214.42,1470.47 2215.74,1470.49 2217.06,1470.47 2218.38,1470.48 2219.7,1470.48 \n",
       "  2221.02,1470.47 2222.34,1470.48 2223.66,1470.48 2224.98,1470.48 2226.3,1470.48 2227.62,1470.48 2228.94,1470.48 2230.26,1470.48 2231.58,1470.48 2232.9,1470.48 \n",
       "  2234.22,1470.48 2235.54,1470.48 2236.86,1470.48 2238.18,1470.48 2239.5,1470.48 2240.82,1470.5 2242.14,1470.48 2243.46,1470.48 2244.78,1470.48 2246.1,1470.47 \n",
       "  2247.42,1470.49 2248.74,1470.49 2250.06,1470.5 2251.38,1470.48 2252.7,1470.49 2254.02,1470.49 2255.34,1470.5 2256.66,1470.48 2257.98,1470.5 2259.3,1470.49 \n",
       "  2260.62,1470.5 2261.94,1470.49 2263.26,1470.48 2264.58,1470.49 2265.9,1470.48 2267.22,1470.49 2268.54,1470.48 2269.86,1470.47 2271.18,1470.5 2272.5,1470.47 \n",
       "  2273.82,1470.47 2275.14,1470.49 2276.46,1470.49 2277.78,1470.48 2279.1,1470.49 2280.42,1470.49 2281.74,1470.5 2283.06,1470.5 2284.38,1470.49 2285.7,1470.5 \n",
       "  2287.02,1470.49 2288.34,1470.48 2289.66,1470.48 2290.98,1470.49 2292.3,1470.49 2293.62,1470.49 2294.94,1470.51 2296.26,1470.49 2297.58,1470.5 2298.9,1470.49 \n",
       "  2300.22,1470.49 2301.54,1470.49 2302.86,1470.5 2304.18,1470.49 2305.5,1470.5 2306.82,1470.51 2308.14,1470.49 2309.46,1470.49 2310.78,1470.51 2312.1,1470.49 \n",
       "  2313.42,1470.51 2314.74,1470.49 2316.06,1470.49 2317.38,1470.49 2318.7,1470.49 2320.02,1470.51 2321.34,1470.49 2322.66,1470.49 2323.98,1470.5 2325.3,1470.51 \n",
       "  2326.62,1470.51 \n",
       "  \"/>\n",
       "<path clip-path=\"url(#clip360)\" d=\"\n",
       "M1989.74 1127.95 L2280.76 1127.95 L2280.76 1006.99 L1989.74 1006.99  Z\n",
       "  \" fill=\"#ffffff\" fill-rule=\"evenodd\" fill-opacity=\"1\"/>\n",
       "<polyline clip-path=\"url(#clip360)\" style=\"stroke:#000000; stroke-width:4; stroke-opacity:1; fill:none\" points=\"\n",
       "  1989.74,1127.95 2280.76,1127.95 2280.76,1006.99 1989.74,1006.99 1989.74,1127.95 \n",
       "  \"/>\n",
       "<polyline clip-path=\"url(#clip360)\" style=\"stroke:#009af9; stroke-width:4; stroke-opacity:1; fill:none\" points=\"\n",
       "  2013.74,1067.47 2157.74,1067.47 \n",
       "  \"/>\n",
       "<path clip-path=\"url(#clip360)\" d=\"M 0 0 M2195.58 1087.16 Q2193.77 1091.79 2192.06 1093.2 Q2190.35 1094.61 2187.48 1094.61 L2184.08 1094.61 L2184.08 1091.05 L2186.58 1091.05 Q2188.33 1091.05 2189.31 1090.22 Q2190.28 1089.38 2191.46 1086.28 L2192.22 1084.34 L2181.74 1058.83 L2186.25 1058.83 L2194.35 1079.1 L2202.46 1058.83 L2206.97 1058.83 L2195.58 1087.16 Z\" fill=\"#000000\" fill-rule=\"evenodd\" fill-opacity=\"1\" /><path clip-path=\"url(#clip360)\" d=\"M 0 0 M2212.85 1080.82 L2220.49 1080.82 L2220.49 1054.45 L2212.18 1056.12 L2212.18 1051.86 L2220.44 1050.19 L2225.12 1050.19 L2225.12 1080.82 L2232.76 1080.82 L2232.76 1084.75 L2212.85 1084.75 L2212.85 1080.82 Z\" fill=\"#000000\" fill-rule=\"evenodd\" fill-opacity=\"1\" /></svg>\n"
      ]
     },
     "execution_count": 31,
     "metadata": {},
     "output_type": "execute_result"
    }
   ],
   "source": [
    "A=plot(losses_1a, title=\"Method 1\",yaxis=:log)\n",
    "B=plot(losses_2a, title=\"Method 2\",yaxis=:log)\n",
    "C=plot(losses_3a, title=\"Method 3\",yaxis=:log)\n",
    "D=plot(losses_4a, title=\"Method 4\",yaxis=:log)\n",
    "plot(A,B,C,D,layout=4)"
   ]
  },
  {
   "cell_type": "markdown",
   "metadata": {},
   "source": [
    "## Philipines"
   ]
  },
  {
   "cell_type": "code",
   "execution_count": 33,
   "metadata": {},
   "outputs": [
    {
     "ename": "ArgumentError",
     "evalue": "ArgumentError: column name :Philiphines_yt not found in the data frame; existing most similar names are: :Philippines_yt, :Philippines_et, :Philippines_kt and :Philippines_nt",
     "output_type": "error",
     "traceback": [
      "ArgumentError: column name :Philiphines_yt not found in the data frame; existing most similar names are: :Philippines_yt, :Philippines_et, :Philippines_kt and :Philippines_nt",
      "",
      "Stacktrace:",
      " [1] lookupname at C:\\Users\\Zhibo\\.julia\\packages\\DataFrames\\kwVTY\\src\\other\\index.jl:289 [inlined]",
      " [2] getindex at C:\\Users\\Zhibo\\.julia\\packages\\DataFrames\\kwVTY\\src\\other\\index.jl:295 [inlined]",
      " [3] getindex at C:\\Users\\Zhibo\\.julia\\packages\\DataFrames\\kwVTY\\src\\other\\index.jl:296 [inlined]",
      " [4] getindex(::DataFrame, ::typeof(!), ::String) at C:\\Users\\Zhibo\\.julia\\packages\\DataFrames\\kwVTY\\src\\dataframe\\dataframe.jl:435",
      " [5] getindex(::DataFrame, ::String) at .\\deprecated.jl:67",
      " [6] getCleandataFrame(::String) at D:\\NUS_differential_equation\\SOLOW_eqn_final_training\\addition\\Addition_Methods.jl:162",
      " [7] top-level scope at In[33]:1"
     ]
    }
   ],
   "source": [
    "actual1= getCleandataFrame(country3)\n",
    "para_1b,pred_value_1b,losses_1b=train_eqn2_addition_modified(country1, training_1[country3],nnp,trainer1)\n",
    "para_2b,pred_value_2b,losses_2b=train_eqn2_addition_modified(country1, training_1[country3],nnp,trainer2)\n",
    "para_3b,pred_value_3b,losses_3b=train_eqn2_addition_modified(country1, training_1[country3],nnp,trainer3)\n",
    "para_4b,pred_value_4b,losses_4b=train_eqn2_addition_modified(country1, training_1[country3],nnp,trainer4)"
   ]
  },
  {
   "cell_type": "code",
   "execution_count": null,
   "metadata": {},
   "outputs": [],
   "source": []
  }
 ],
 "metadata": {
  "kernelspec": {
   "display_name": "Julia 1.4.1",
   "language": "julia",
   "name": "julia-1.4"
  },
  "language_info": {
   "file_extension": ".jl",
   "mimetype": "application/julia",
   "name": "julia",
   "version": "1.4.1"
  }
 },
 "nbformat": 4,
 "nbformat_minor": 2
}
