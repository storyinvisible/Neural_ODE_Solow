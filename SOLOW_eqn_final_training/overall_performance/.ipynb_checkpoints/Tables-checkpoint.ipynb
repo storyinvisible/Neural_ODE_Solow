{
 "cells": [
  {
   "cell_type": "code",
   "execution_count": 1,
   "metadata": {},
   "outputs": [
    {
     "data": {
      "text/plain": [
       "Plots.GRBackend()"
      ]
     },
     "execution_count": 1,
     "metadata": {},
     "output_type": "execute_result"
    }
   ],
   "source": [
    "cd(@__DIR__)\n",
    "using OrdinaryDiffEq\n",
    "using ModelingToolkit\n",
    "using DataDrivenDiffEq\n",
    "using LinearAlgebra, DiffEqSensitivity, Optim\n",
    "using DiffEqFlux, Flux\n",
    "using Plots, StatsPlots\n",
    "using DataFrames, GLM, StatsModels\n",
    "using CSV\n",
    "using Interpolations\n",
    "gr()"
   ]
  },
  {
   "cell_type": "code",
   "execution_count": 10,
   "metadata": {},
   "outputs": [
    {
     "data": {
      "text/html": [
       "<table class=\"data-frame\"><thead><tr><th></th><th>Albania</th><th>Argentina</th><th>Armenia</th><th>Australia</th><th>Azerbaijan</th><th>Bahrain</th><th>Bangladesh</th></tr><tr><th></th><th>Float64</th><th>Float64</th><th>Float64</th><th>Float64</th><th>Float64</th><th>Float64</th><th>Float64</th></tr></thead><tbody><p>5 rows × 95 columns (omitted printing of 88 columns)</p><tr><th>1</th><td>1.25522</td><td>0.108467</td><td>1.05553</td><td>0.769929</td><td>1.13591</td><td>0.271731</td><td>1.15555</td></tr><tr><th>2</th><td>0.298486</td><td>0.987375</td><td>0.19658</td><td>0.89173</td><td>0.221021</td><td>0.989631</td><td>0.24223</td></tr><tr><th>3</th><td>0.05625</td><td>0.028125</td><td>0.075</td><td>0.0234375</td><td>0.075</td><td>0.0546875</td><td>0.075</td></tr><tr><th>4</th><td>0.04375</td><td>0.003125</td><td>0.05</td><td>-0.0015625</td><td>0.0625</td><td>0.0421875</td><td>0.05</td></tr><tr><th>5</th><td>-0.0298762</td><td>-0.00382839</td><td>-0.0438445</td><td>-0.012872</td><td>-0.112014</td><td>-0.00664315</td><td>0.0163367</td></tr></tbody></table>"
      ],
      "text/latex": [
       "\\begin{tabular}{r|cccccccc}\n",
       "\t& Albania & Argentina & Armenia & Australia & Azerbaijan & Bahrain & Bangladesh & \\\\\n",
       "\t\\hline\n",
       "\t& Float64 & Float64 & Float64 & Float64 & Float64 & Float64 & Float64 & \\\\\n",
       "\t\\hline\n",
       "\t1 & 1.25522 & 0.108467 & 1.05553 & 0.769929 & 1.13591 & 0.271731 & 1.15555 & $\\dots$ \\\\\n",
       "\t2 & 0.298486 & 0.987375 & 0.19658 & 0.89173 & 0.221021 & 0.989631 & 0.24223 & $\\dots$ \\\\\n",
       "\t3 & 0.05625 & 0.028125 & 0.075 & 0.0234375 & 0.075 & 0.0546875 & 0.075 & $\\dots$ \\\\\n",
       "\t4 & 0.04375 & 0.003125 & 0.05 & -0.0015625 & 0.0625 & 0.0421875 & 0.05 & $\\dots$ \\\\\n",
       "\t5 & -0.0298762 & -0.00382839 & -0.0438445 & -0.012872 & -0.112014 & -0.00664315 & 0.0163367 & $\\dots$ \\\\\n",
       "\\end{tabular}\n"
      ],
      "text/plain": [
       "5×95 DataFrame. Omitted printing of 90 columns\n",
       "│ Row │ Albania    │ Argentina   │ Armenia    │ Australia  │ Azerbaijan │\n",
       "│     │ \u001b[90mFloat64\u001b[39m    │ \u001b[90mFloat64\u001b[39m     │ \u001b[90mFloat64\u001b[39m    │ \u001b[90mFloat64\u001b[39m    │ \u001b[90mFloat64\u001b[39m    │\n",
       "├─────┼────────────┼─────────────┼────────────┼────────────┼────────────┤\n",
       "│ 1   │ 1.25522    │ 0.108467    │ 1.05553    │ 0.769929   │ 1.13591    │\n",
       "│ 2   │ 0.298486   │ 0.987375    │ 0.19658    │ 0.89173    │ 0.221021   │\n",
       "│ 3   │ 0.05625    │ 0.028125    │ 0.075      │ 0.0234375  │ 0.075      │\n",
       "│ 4   │ 0.04375    │ 0.003125    │ 0.05       │ -0.0015625 │ 0.0625     │\n",
       "│ 5   │ -0.0298762 │ -0.00382839 │ -0.0438445 │ -0.012872  │ -0.112014  │"
      ]
     },
     "execution_count": 10,
     "metadata": {},
     "output_type": "execute_result"
    }
   ],
   "source": [
    "cd(\"D:\\\\NUS_differential_equation\\\\SOLOW_eqn_final_training\\\\\")\n",
    "\n",
    "eqn1_multi= CSV.read(\".\\\\multiplication\\\\Eqn1.csv\",normalizenames = true)\n",
    "eqn1_multi_loss= CSV.read(\".\\\\multiplication\\\\Eqn1_final_loss.csv\",normalizenames = true)\n",
    "\n",
    "eqn2_multi= CSV.read(\".\\\\multiplication\\\\Eqn2.csv\",normalizenames = true)\n",
    "eqn2_multi_loss= CSV.read(\".\\\\multiplication\\\\Eqn2_final_loss.csv\",normalizenames = true)\n",
    "\n",
    "eqn3_multi= CSV.read(\".\\\\multiplication\\\\Eqn3.csv\",normalizenames = true)\n",
    "eqn3_multi_loss= CSV.read(\".\\\\multiplication\\\\Eqn3_final_loss.csv\",normalizenames = true)\n",
    "\n",
    "eqn1_add= CSV.read(\".\\\\addition\\\\Eqn1.csv\",normalizenames = true)\n",
    "eqn1_add_loss= CSV.read(\".\\\\addition\\\\Eqn1_final_loss.csv\",normalizenames = true)\n",
    "\n",
    "eqn2_add= CSV.read(\".\\\\addition\\\\Eqn2.csv\",normalizenames = true)\n",
    "eqn2_add_loss= CSV.read(\".\\\\addition\\\\Eqn2_final_loss.csv\",normalizenames = true)\n",
    "\n",
    "eqn3_add= CSV.read(\".\\\\addition\\\\Eqn3.csv\",normalizenames = true)\n",
    "eqn3_add_loss= CSV.read(\".\\\\addition\\\\Eqn3_final_loss.csv\",normalizenames = true)\n",
    "df= CSV.read(\".\\\\multiplication\\\\compileddf.csv\",normalizenames = true)\n",
    "paras= CSV.read(\"para.csv\")"
   ]
  },
  {
   "cell_type": "code",
   "execution_count": 3,
   "metadata": {},
   "outputs": [
    {
     "name": "stderr",
     "output_type": "stream",
     "text": [
      "┌ Warning: `getindex(df::DataFrame, col_ind::ColumnIndex)` is deprecated, use `df[!, col_ind]` instead.\n",
      "│   caller = top-level scope at In[3]:1\n",
      "└ @ Core In[3]:1\n"
     ]
    },
    {
     "data": {
      "text/plain": [
       "1-element CSV.Column{Float64,Float64}:\n",
       " 3.3600014758763605e-5"
      ]
     },
     "execution_count": 3,
     "metadata": {},
     "output_type": "execute_result"
    }
   ],
   "source": [
    "eqn1_multi_loss[\"Argentina\"]"
   ]
  },
  {
   "cell_type": "code",
   "execution_count": 11,
   "metadata": {},
   "outputs": [
    {
     "data": {
      "text/plain": [
       "solownneqn1_control (generic function with 1 method)"
      ]
     },
     "execution_count": 11,
     "metadata": {},
     "output_type": "execute_result"
    }
   ],
   "source": [
    "ann = FastChain(FastDense(1, 20, tanh),FastDense(20, 20, tanh),\n",
    "                FastDense(20, 1))\n",
    "\n",
    "function solownneqn(du,u,p,t)\n",
    "    country= p\n",
    "    newdf= getCleandataFrame(country)\n",
    "    st = interpolate(newdf[\"srate\"], BSpline(Quadratic(Reflect(OnCell()))));\n",
    "    nt = interpolate(newdf[\"nt\"], BSpline(Quadratic(Reflect(OnCell()))));\n",
    "    et = interpolate(newdf[\"et\"], BSpline(Quadratic(Reflect(OnCell()))));\n",
    "    kt = interpolate(newdf[\"k\"], BSpline(Quadratic(Reflect(OnCell()))));\n",
    "    yt = interpolate(newdf[\"yt\"], BSpline(Quadratic(Reflect(OnCell()))));\n",
    "    sₜ = st(t) #savings rate\n",
    "    nₜ = nt(t)\n",
    "    yₜ = yt(t)\n",
    "    kₜ = kt(t)\n",
    "    nnp1= eqn1_multi[country]\n",
    "    nnp2= eqn2_multi[country]\n",
    "    nnp3= eqn3_multi[country]\n",
    "    α,θ,δ,gᵦ,gₐ = paras[country]\n",
    "    k = u[1]\n",
    "    y=u[2]\n",
    "    e=u[3]\n",
    "    nn = ann(t,nnp1)[1]\n",
    "    nn2= ann(t,nnp2)[1]\n",
    "    nn3= ann(t,nnp3)[1]\n",
    "    du[1] = sₜ*yₜ-(δ+nₜ+gᵦ)*k*nn # rate of change of kt\n",
    "    du[2] = y*(gᵦ+α*du[1]/kₜ)*nn2 # rate of change of yt\n",
    "    du[3] = e*(-gₐ+du[2]/y) *nn3\n",
    "\n",
    "    return du\n",
    "end\n",
    "\n",
    "\n",
    "function solownneqn_add(du,u,p,t)\n",
    "    country= p\n",
    "    newdf= getCleandataFrame(country)\n",
    "    st = interpolate(newdf[\"srate\"], BSpline(Quadratic(Reflect(OnCell()))));\n",
    "    nt = interpolate(newdf[\"nt\"], BSpline(Quadratic(Reflect(OnCell()))));\n",
    "    et = interpolate(newdf[\"et\"], BSpline(Quadratic(Reflect(OnCell()))));\n",
    "    kt = interpolate(newdf[\"k\"], BSpline(Quadratic(Reflect(OnCell()))));\n",
    "    yt = interpolate(newdf[\"yt\"], BSpline(Quadratic(Reflect(OnCell()))));\n",
    "    sₜ = st(t) #savings rate\n",
    "    nₜ = nt(t)\n",
    "    yₜ = yt(t)\n",
    "    kₜ = kt(t)\n",
    "    nnp1= eqn1_multi[country]\n",
    "    nnp2= eqn2_multi[country]\n",
    "    nnp3= eqn3_multi[country]\n",
    "    α,θ,δ,gᵦ,gₐ = paras[country]\n",
    "    k = u[1]\n",
    "    y=u[2]\n",
    "    e=u[3]\n",
    "    nn = ann(t,nnp1)[1]\n",
    "    nn2= ann(t,nnp2)[1]\n",
    "    nn3= ann(t,nnp3)[1]\n",
    "    du[1] = sₜ*yₜ-(δ+nₜ+gᵦ)*k+nn # rate of change of kt\n",
    "    du[2] = y*(gᵦ+α*du[1]/kₜ)+nn2 # rate of change of yt\n",
    "    du[3] = e*(-gₐ+du[2]/y) +nn3\n",
    "\n",
    "    return du\n",
    "end\n",
    "\n",
    "function solownneqn1_control(du,u,p,t)\n",
    "    country= p\n",
    "    newdf= getCleandataFrame(country)\n",
    "    st = interpolate(newdf[\"srate\"], BSpline(Quadratic(Reflect(OnCell()))));\n",
    "    nt = interpolate(newdf[\"nt\"], BSpline(Quadratic(Reflect(OnCell()))));\n",
    "    et = interpolate(newdf[\"et\"], BSpline(Quadratic(Reflect(OnCell()))));\n",
    "    kt = interpolate(newdf[\"k\"], BSpline(Quadratic(Reflect(OnCell()))));\n",
    "    yt = interpolate(newdf[\"yt\"], BSpline(Quadratic(Reflect(OnCell()))));\n",
    "    sₜ = st(t) #savings rate\n",
    "    nₜ = nt(t)\n",
    "    yₜ = yt(t)\n",
    "    kₜ = kt(t)\n",
    "    α,θ,δ,gᵦ,gₐ = paras[country]\n",
    "    k = u[1]\n",
    "    y=u[2]\n",
    "    e=u[3]\n",
    "    du[1] = sₜ*yₜ-(δ+nₜ+gᵦ)*k # rate of change of kt\n",
    "    du[2] = y*(gᵦ+α*du[1]/k) # rate of change of yt\n",
    "    du[3] = e*(-gₐ+du[2]/y)\n",
    "\n",
    "    return du\n",
    "end"
   ]
  },
  {
   "cell_type": "code",
   "execution_count": 12,
   "metadata": {},
   "outputs": [
    {
     "data": {
      "text/plain": [
       "getCleandataFrame (generic function with 1 method)"
      ]
     },
     "execution_count": 12,
     "metadata": {},
     "output_type": "execute_result"
    }
   ],
   "source": [
    "function getCleandataFrame(country)\n",
    "    df_year=df[\"Year\"][2:end]\n",
    "    df1=df[string(country,\"_yt\")]  #GDP\n",
    "    df2=df[string(country,\"_kt\")] #capital per capita\n",
    "    df3=df[string(country,\"_srate\")][2:end] # savig rate\n",
    "    df6= df[string(country,\"_et\")] #population\n",
    "    df4= df[string(country,\"_nt\")][2:end] #population\n",
    "    df8=df6[1:end-1] .-df6[2:end]#de\n",
    "    df6=df6[2:end]\n",
    "    df5=df2[1:end-1] .-df2[2:end] #dk\n",
    "    df2=df2[2:end]\n",
    "    df7= df1[1:end-1] .-df1[2:end] # dydt\n",
    "    df1=df1[2:end]\n",
    "    newdf= DataFrame(Year=df_year,yt=df1, k=df2, srate=df3,nt=df4,dkdt=df5,dydt=df7,dedt=df8,et=df6)\n",
    "    newdf=newdf[completecases(newdf), :]\n",
    "    return newdf\n",
    "end"
   ]
  },
  {
   "cell_type": "code",
   "execution_count": 22,
   "metadata": {},
   "outputs": [
    {
     "name": "stderr",
     "output_type": "stream",
     "text": [
      "┌ Warning: `getindex(df::DataFrame, col_ind::ColumnIndex)` is deprecated, use `df[!, col_ind]` instead.\n",
      "│   caller = top-level scope at In[22]:4\n",
      "└ @ Core .\\In[22]:4\n",
      "┌ Warning: `getindex(df::DataFrame, col_ind::ColumnIndex)` is deprecated, use `df[!, col_ind]` instead.\n",
      "│   caller = top-level scope at In[22]:5\n",
      "└ @ Core .\\In[22]:5\n",
      "┌ Warning: `getindex(df::DataFrame, col_ind::ColumnIndex)` is deprecated, use `df[!, col_ind]` instead.\n",
      "│   caller = top-level scope at In[22]:6\n",
      "└ @ Core .\\In[22]:6\n",
      "┌ Warning: `getindex(df::DataFrame, col_ind::ColumnIndex)` is deprecated, use `df[!, col_ind]` instead.\n",
      "│   caller = top-level scope at In[22]:17\n",
      "└ @ Core .\\In[22]:17\n",
      "┌ Warning: `getindex(df::DataFrame, col_ind::ColumnIndex)` is deprecated, use `df[!, col_ind]` instead.\n",
      "│   caller = top-level scope at In[22]:18\n",
      "└ @ Core .\\In[22]:18\n",
      "┌ Warning: `getindex(df::DataFrame, col_ind::ColumnIndex)` is deprecated, use `df[!, col_ind]` instead.\n",
      "│   caller = top-level scope at In[22]:20\n",
      "└ @ Core .\\In[22]:20\n",
      "┌ Warning: `getindex(df::DataFrame, col_ind::ColumnIndex)` is deprecated, use `df[!, col_ind]` instead.\n",
      "│   caller = top-level scope at In[22]:21\n",
      "└ @ Core .\\In[22]:21\n",
      "┌ Warning: `getindex(df::DataFrame, col_ind::ColumnIndex)` is deprecated, use `df[!, col_ind]` instead.\n",
      "│   caller = top-level scope at In[22]:23\n",
      "└ @ Core .\\In[22]:23\n",
      "┌ Warning: `getindex(df::DataFrame, col_ind::ColumnIndex)` is deprecated, use `df[!, col_ind]` instead.\n",
      "│   caller = top-level scope at In[22]:24\n",
      "└ @ Core .\\In[22]:24\n",
      "┌ Warning: `setindex!(df::DataFrame, v::AbstractVector, col_ind::ColumnIndex)` is deprecated, use `begin\n",
      "│     df[!, col_ind] = v\n",
      "│     df\n",
      "│ end` instead.\n",
      "│   caller = top-level scope at In[22]:26\n",
      "└ @ Core .\\In[22]:26\n"
     ]
    }
   ],
   "source": [
    "loss_summary_multi=DataFrame()\n",
    "for country in names(eqn3_multi)\n",
    "    newdf= getCleandataFrame(country)\n",
    "    kic = newdf[\"k\"][1]\n",
    "    yic = newdf[\"yt\"][1]\n",
    "    eic = newdf[\"et\"][1]\n",
    "    years_available=size(newdf)[1]\n",
    "    nntspan = (1.0e0,years_available)\n",
    "    nndatasize = years_available\n",
    "    nntsteps = range(nntspan[1], nntspan[2], length=nndatasize)\n",
    "    u0 = Float32[kic,yic,eic]\n",
    "    prob_solownneqn = ODEProblem(solownneqn, u0, nntspan, country)\n",
    "    prob_solownneqn_control = ODEProblem(solownneqn1_control, u0, nntspan, country)\n",
    "#     nnexperiment = solve(prob_solownneqn, Tsit5(),p=country, abstol=1e-8, reltol=1e-8, saveat = nntsteps)\n",
    "    nncontrol = solve(prob_solownneqn_control, Tsit5(),p=country, abstol=1e-8, reltol=1e-8, saveat = nntsteps)\n",
    "    \n",
    "    k_loss=eqn1_multi_loss[country]\n",
    "    k_control= Flux.mse(nncontrol[1,:],newdf[\"dkdt\"])\n",
    "    \n",
    "    y_loss=eqn2_multi_loss[country]\n",
    "    y_control= Flux.mse(nncontrol[2,:],newdf[\"dydt\"])\n",
    "    \n",
    "    e_loss= eqn3_multi_loss[country]\n",
    "    e_control= Flux.mse(nncontrol[3,:],newdf[\"dedt\"])\n",
    "    \n",
    "    loss_summary_multi[country]= [k_loss,k_control,y_loss,y_control,e_loss,e_control]\n",
    "    \n",
    "end"
   ]
  },
  {
   "cell_type": "code",
   "execution_count": 32,
   "metadata": {},
   "outputs": [
    {
     "name": "stdout",
     "output_type": "stream",
     "text": [
      "Mali"
     ]
    },
    {
     "name": "stderr",
     "output_type": "stream",
     "text": [
      "┌ Warning: `getindex(df::DataFrame, col_ind::ColumnIndex)` is deprecated, use `df[!, col_ind]` instead.\n",
      "│   caller = top-level scope at In[32]:5\n",
      "└ @ Core .\\In[32]:5\n",
      "┌ Warning: `getindex(df::DataFrame, col_ind::ColumnIndex)` is deprecated, use `df[!, col_ind]` instead.\n",
      "│   caller = top-level scope at In[32]:6\n",
      "└ @ Core .\\In[32]:6\n",
      "┌ Warning: `getindex(df::DataFrame, col_ind::ColumnIndex)` is deprecated, use `df[!, col_ind]` instead.\n",
      "│   caller = top-level scope at In[32]:7\n",
      "└ @ Core .\\In[32]:7\n",
      "┌ Warning: `getindex(df::DataFrame, col_ind::ColumnIndex)` is deprecated, use `df[!, col_ind]` instead.\n",
      "│   caller = top-level scope at In[32]:18\n",
      "└ @ Core .\\In[32]:18\n",
      "┌ Warning: `getindex(df::DataFrame, col_ind::ColumnIndex)` is deprecated, use `df[!, col_ind]` instead.\n",
      "│   caller = top-level scope at In[32]:19\n",
      "└ @ Core .\\In[32]:19\n",
      "┌ Warning: `getindex(df::DataFrame, col_ind::ColumnIndex)` is deprecated, use `df[!, col_ind]` instead.\n",
      "│   caller = top-level scope at In[32]:21\n",
      "└ @ Core .\\In[32]:21\n",
      "┌ Warning: `getindex(df::DataFrame, col_ind::ColumnIndex)` is deprecated, use `df[!, col_ind]` instead.\n",
      "│   caller = top-level scope at In[32]:22\n",
      "└ @ Core .\\In[32]:22\n",
      "┌ Warning: `getindex(df::DataFrame, col_ind::ColumnIndex)` is deprecated, use `df[!, col_ind]` instead.\n",
      "│   caller = top-level scope at In[32]:28\n",
      "└ @ Core .\\In[32]:28\n",
      "┌ Warning: `getindex(df::DataFrame, col_ind::ColumnIndex)` is deprecated, use `df[!, col_ind]` instead.\n",
      "│   caller = top-level scope at In[32]:29\n",
      "└ @ Core .\\In[32]:29\n",
      "┌ Warning: `getindex(df::DataFrame, col_ind::ColumnIndex)` is deprecated, use `df[!, col_ind]` instead.\n",
      "│   caller = top-level scope at In[32]:30\n",
      "└ @ Core .\\In[32]:30\n",
      "┌ Warning: `setindex!(df::DataFrame, v::AbstractVector, col_ind::ColumnIndex)` is deprecated, use `begin\n",
      "│     df[!, col_ind] = v\n",
      "│     df\n",
      "│ end` instead.\n",
      "│   caller = top-level scope at In[32]:31\n",
      "└ @ Core .\\In[32]:31\n"
     ]
    },
    {
     "name": "stdout",
     "output_type": "stream",
     "text": [
      "MauritaniaMauritiusMexicoMongoliaMoroccoNamibia"
     ]
    },
    {
     "ename": "ArgumentError",
     "evalue": "ArgumentError: column name :Namibia not found in the data frame",
     "output_type": "error",
     "traceback": [
      "ArgumentError: column name :Namibia not found in the data frame",
      "",
      "Stacktrace:",
      " [1] lookupname at C:\\Users\\Zhibo\\.julia\\packages\\DataFrames\\kwVTY\\src\\other\\index.jl:286 [inlined]",
      " [2] getindex at C:\\Users\\Zhibo\\.julia\\packages\\DataFrames\\kwVTY\\src\\other\\index.jl:295 [inlined]",
      " [3] getindex at C:\\Users\\Zhibo\\.julia\\packages\\DataFrames\\kwVTY\\src\\other\\index.jl:296 [inlined]",
      " [4] getindex(::DataFrame, ::typeof(!), ::String) at C:\\Users\\Zhibo\\.julia\\packages\\DataFrames\\kwVTY\\src\\dataframe\\dataframe.jl:435",
      " [5] getindex(::DataFrame, ::String) at .\\deprecated.jl:67",
      " [6] top-level scope at .\\In[32]:18"
     ]
    }
   ],
   "source": [
    "loss_summary_add=DataFrame()\n",
    "for country in names(eqn1_add)\n",
    "    print(country)\n",
    "    newdf= getCleandataFrame(country)\n",
    "    kic = newdf[\"k\"][1]\n",
    "    yic = newdf[\"yt\"][1]\n",
    "    eic = newdf[\"et\"][1]\n",
    "    years_available=size(newdf)[1]\n",
    "    nntspan = (1.0e0,years_available)\n",
    "    nndatasize = years_available\n",
    "    nntsteps = range(nntspan[1], nntspan[2], length=nndatasize)\n",
    "    u0 = Float32[kic,yic,eic]\n",
    "    prob_solownneqn = ODEProblem(solownneqn, u0, nntspan, country)\n",
    "    prob_solownneqn_control = ODEProblem(solownneqn1_control, u0, nntspan, country)\n",
    "#     nnexperiment = solve(prob_solownneqn, Tsit5(),p=country, abstol=1e-8, reltol=1e-8, saveat = nntsteps)\n",
    "    nncontrol = solve(prob_solownneqn_control, Tsit5(),p=country, abstol=1e-8, reltol=1e-8, saveat = nntsteps)\n",
    "    \n",
    "    k_loss_add=eqn1_add_loss[country]\n",
    "    k_control= Flux.mse(nncontrol[1,:],newdf[\"dkdt\"])\n",
    "    \n",
    "    y_loss_add=eqn2_add_loss[country]\n",
    "    y_control= Flux.mse(nncontrol[2,:],newdf[\"dydt\"])\n",
    "    \n",
    "#     e_loss= eqn3_multi_loss[country]\n",
    "#     e_control= Flux.mse(nncontrol[3,:],newdf[\"dedt\"])\n",
    "\n",
    "#     try\n",
    "    k_loss_add=eqn1_add_loss[country]\n",
    "    y_loss_add=eqn2_add_loss[country]\n",
    "\n",
    "    loss_summary_add[country]= [k_loss_add,k_control,\n",
    "                y_loss_add,y_control]  \n",
    "#                     e_loss_add,e_control\n",
    "            \n",
    "#     catch e\n",
    "#         k_loss_add=missing\n",
    "#         y_loss_add=missing\n",
    "#         e_loss_add=missing\n",
    "#         end\n",
    "    \n",
    "\n",
    "    \n",
    "end\n",
    "loss_summary_add= loss_summary_add[completecases(loss_summary_add),:]"
   ]
  },
  {
   "cell_type": "code",
   "execution_count": 20,
   "metadata": {},
   "outputs": [
    {
     "data": {
      "text/plain": [
       "\".//overall_performance//multi_loss.csv\""
      ]
     },
     "execution_count": 20,
     "metadata": {},
     "output_type": "execute_result"
    }
   ],
   "source": [
    "CSV.write(\".//overall_performance//multi_loss.csv\", loss_summary_multi)"
   ]
  },
  {
   "cell_type": "code",
   "execution_count": 33,
   "metadata": {},
   "outputs": [
    {
     "name": "stdout",
     "output_type": "stream",
     "text": [
      "0.000158000135845205\n",
      "[0.0007787921789099064]\n"
     ]
    }
   ],
   "source": [
    "using Statistics\n",
    "k_average=mean(loss_summary_multi[1,:])\n",
    "println(mean(loss_summary_add[2,:]))\n",
    "println(mean(loss_summary_add[1,:]))"
   ]
  },
  {
   "cell_type": "code",
   "execution_count": 29,
   "metadata": {},
   "outputs": [
    {
     "data": {
      "text/plain": [
       "1-element Array{Float64,1}:\n",
       " 2.3094834277697442e-5"
      ]
     },
     "execution_count": 29,
     "metadata": {},
     "output_type": "execute_result"
    }
   ],
   "source": [
    "k_control=mean(loss_summary_multi[1,:])"
   ]
  },
  {
   "cell_type": "code",
   "execution_count": 85,
   "metadata": {},
   "outputs": [
    {
     "data": {
      "text/html": [
       "<p>DataFrameRow (33 columns)</p><table class=\"data-frame\"><thead><tr><th></th><th>Argentina</th><th>Azerbaijan</th><th>Bahrain</th><th>Bangladesh</th><th>Benin</th><th>Brazil</th></tr><tr><th></th><th>Any</th><th>Any</th><th>Any</th><th>Any</th><th>Any</th><th>Any</th></tr></thead><tbody><tr><th>1</th><td>[3.36e-5]</td><td>[4.49094e-7]</td><td>[0.000130287]</td><td>[1.86701e-8]</td><td>[5.71077e-8]</td><td>[1.11888e-6]</td></tr></tbody></table>"
      ],
      "text/latex": [
       "\\begin{tabular}{r|ccccccc}\n",
       "\t& Argentina & Azerbaijan & Bahrain & Bangladesh & Benin & Brazil & \\\\\n",
       "\t\\hline\n",
       "\t& Any & Any & Any & Any & Any & Any & \\\\\n",
       "\t\\hline\n",
       "\t1 & [3.36e-5] & [4.49094e-7] & [0.000130287] & [1.86701e-8] & [5.71077e-8] & [1.11888e-6] & $\\dots$ \\\\\n",
       "\\end{tabular}\n"
      ],
      "text/plain": [
       "DataFrameRow. Omitted printing of 28 columns\n",
       "│ Row │ Argentina │ Azerbaijan   │ Bahrain       │ Bangladesh   │ Benin        │\n",
       "│     │ \u001b[90mAny\u001b[39m       │ \u001b[90mAny\u001b[39m          │ \u001b[90mAny\u001b[39m           │ \u001b[90mAny\u001b[39m          │ \u001b[90mAny\u001b[39m          │\n",
       "├─────┼───────────┼──────────────┼───────────────┼──────────────┼──────────────┤\n",
       "│ 1   │ [3.36e-5] │ [4.49094e-7] │ [0.000130287] │ [1.86701e-8] │ [5.71077e-8] │"
      ]
     },
     "execution_count": 85,
     "metadata": {},
     "output_type": "execute_result"
    }
   ],
   "source": [
    "loss_summary_multi[1,:]"
   ]
  },
  {
   "cell_type": "code",
   "execution_count": 86,
   "metadata": {},
   "outputs": [
    {
     "data": {
      "text/html": [
       "<p>DataFrameRow (33 columns)</p><table class=\"data-frame\"><thead><tr><th></th><th>Argentina</th><th>Azerbaijan</th><th>Bahrain</th><th>Bangladesh</th><th>Benin</th><th>Brazil</th><th>Bulgaria</th></tr><tr><th></th><th>Any</th><th>Any</th><th>Any</th><th>Any</th><th>Any</th><th>Any</th><th>Any</th></tr></thead><tbody><tr><th>2</th><td>0.000420941</td><td>5.34797e-5</td><td>0.000768403</td><td>1.44277e-6</td><td>4.58423e-6</td><td>0.00018037</td><td>0.000102022</td></tr></tbody></table>"
      ],
      "text/latex": [
       "\\begin{tabular}{r|cccccccc}\n",
       "\t& Argentina & Azerbaijan & Bahrain & Bangladesh & Benin & Brazil & Bulgaria & \\\\\n",
       "\t\\hline\n",
       "\t& Any & Any & Any & Any & Any & Any & Any & \\\\\n",
       "\t\\hline\n",
       "\t2 & 0.000420941 & 5.34797e-5 & 0.000768403 & 1.44277e-6 & 4.58423e-6 & 0.00018037 & 0.000102022 & $\\dots$ \\\\\n",
       "\\end{tabular}\n"
      ],
      "text/plain": [
       "DataFrameRow. Omitted printing of 28 columns\n",
       "│ Row │ Argentina   │ Azerbaijan │ Bahrain     │ Bangladesh │ Benin      │\n",
       "│     │ \u001b[90mAny\u001b[39m         │ \u001b[90mAny\u001b[39m        │ \u001b[90mAny\u001b[39m         │ \u001b[90mAny\u001b[39m        │ \u001b[90mAny\u001b[39m        │\n",
       "├─────┼─────────────┼────────────┼─────────────┼────────────┼────────────┤\n",
       "│ 2   │ 0.000420941 │ 5.34797e-5 │ 0.000768403 │ 1.44277e-6 │ 4.58423e-6 │"
      ]
     },
     "execution_count": 86,
     "metadata": {},
     "output_type": "execute_result"
    }
   ],
   "source": [
    "loss_summary_multi[2,:]"
   ]
  },
  {
   "cell_type": "code",
   "execution_count": 87,
   "metadata": {},
   "outputs": [
    {
     "data": {
      "text/plain": [
       "1-element Array{Float64,1}:\n",
       " 7.175755680338108e-8"
      ]
     },
     "execution_count": 87,
     "metadata": {},
     "output_type": "execute_result"
    }
   ],
   "source": [
    "y_average=mean(loss_summary_multi[3,:])"
   ]
  },
  {
   "cell_type": "code",
   "execution_count": 88,
   "metadata": {},
   "outputs": [
    {
     "data": {
      "text/plain": [
       "0.00015811226462574457"
      ]
     },
     "execution_count": 88,
     "metadata": {},
     "output_type": "execute_result"
    }
   ],
   "source": [
    "y_control=mean(loss_summary_multi[4,:])"
   ]
  },
  {
   "cell_type": "code",
   "execution_count": 89,
   "metadata": {},
   "outputs": [
    {
     "data": {
      "text/plain": [
       "1-element Array{Float64,1}:\n",
       " 0.7109064024673519"
      ]
     },
     "execution_count": 89,
     "metadata": {},
     "output_type": "execute_result"
    }
   ],
   "source": [
    "e_average=mean(loss_summary_multi[5,:])"
   ]
  },
  {
   "cell_type": "code",
   "execution_count": 90,
   "metadata": {},
   "outputs": [
    {
     "data": {
      "text/plain": [
       "155.31918758647768"
      ]
     },
     "execution_count": 90,
     "metadata": {},
     "output_type": "execute_result"
    }
   ],
   "source": [
    "e_control=mean(loss_summary_multi[6,:])"
   ]
  },
  {
   "cell_type": "code",
   "execution_count": null,
   "metadata": {},
   "outputs": [],
   "source": []
  }
 ],
 "metadata": {
  "kernelspec": {
   "display_name": "Julia 1.4.1",
   "language": "julia",
   "name": "julia-1.4"
  },
  "language_info": {
   "file_extension": ".jl",
   "mimetype": "application/julia",
   "name": "julia",
   "version": "1.4.1"
  }
 },
 "nbformat": 4,
 "nbformat_minor": 2
}
